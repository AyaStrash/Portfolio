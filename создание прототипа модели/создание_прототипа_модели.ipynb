{
 "cells": [
  {
   "cell_type": "markdown",
   "metadata": {},
   "source": [
    "# Восстановление золота из руды"
   ]
  },
  {
   "cell_type": "markdown",
   "metadata": {},
   "source": [
    "Цель: подготовить прототип модели машинного обучения для компании, которая разрабатывает решения для эффективной работы промышленных предприятий.\n",
    "Спецификации модели:\n",
    "Модель должна предсказать коэффициент восстановления золота из золотосодержащей руды с использованием данных с параметрами добычи и очистки. \n",
    "Модель поможет оптимизировать производство, чтобы не запускать предприятие с убыточными характеристиками.\n",
    "\n",
    "Задачи:\n",
    "1. Подготовить данные\n",
    "1.1 Проверить, что эффективность обогащения рассчитана правильно. Вычислить её на обучающей выборке для признака rougher.output.recovery. Найти MAE между расчётами и значением признака.\n",
    "1.2. Проанализировать признаки, недоступные в тестовой выборке.\n",
    "1.3. Провести предобработку данных.\n",
    "\n",
    "2. Проанализировать данные\n",
    "2.1. Посмотреть, как меняется концентрация металлов (Au, Ag, Pb) на различных этапах очистки.\n",
    "2.2. Сравнить распределения размеров гранул сырья на обучающей и тестовой выборках.\n",
    "2.3. Исследовать суммарную концентрацию всех веществ на разных стадиях: в сырье, в черновом и финальном концентратах.\n",
    "\n",
    "3. Построить модель\n",
    "3.1. Написать функцию для вычисления итоговой sMAPE.\n",
    "3.2. Обучить разные модели и оценить их качество кросс-валидацией. Выбрать лучшую модель и проверить её на тестовой выборке.\n"
   ]
  },
  {
   "cell_type": "markdown",
   "metadata": {
    "toc": true
   },
   "source": [
    "<h1>Содержание<span class=\"tocSkip\"></span></h1>\n",
    "<div class=\"toc\"><ul class=\"toc-item\"><li><span><a href=\"#Подготовка-данных\" data-toc-modified-id=\"Подготовка-данных-1\"><span class=\"toc-item-num\">1&nbsp;&nbsp;</span>Подготовка данных</a></span></li><li><span><a href=\"#Анализ-данных\" data-toc-modified-id=\"Анализ-данных-2\"><span class=\"toc-item-num\">2&nbsp;&nbsp;</span>Анализ данных</a></span></li><li><span><a href=\"#Модель\" data-toc-modified-id=\"Модель-3\"><span class=\"toc-item-num\">3&nbsp;&nbsp;</span>Модель</a>"
   ]
  },
  {
   "cell_type": "markdown",
   "metadata": {},
   "source": [
    "## Подготовка данных"
   ]
  },
  {
   "cell_type": "code",
   "execution_count": 1,
   "metadata": {},
   "outputs": [],
   "source": [
    "import numpy as np\n",
    "import pandas as pd\n",
    "\n",
    "from sklearn.metrics import mean_absolute_error as MAE\n",
    "from sklearn.pipeline import  make_pipeline\n",
    "from sklearn.preprocessing import StandardScaler\n",
    "from sklearn.impute import KNNImputer\n",
    "from sklearn.model_selection import train_test_split\n",
    "\n",
    "from sklearn.model_selection import cross_val_score\n",
    "from sklearn.model_selection import GridSearchCV\n",
    "from sklearn.pipeline import Pipeline\n",
    "\n",
    "from sklearn.ensemble import RandomForestRegressor\n",
    "from sklearn.linear_model import LinearRegression\n",
    "from sklearn.tree import DecisionTreeRegressor\n",
    "\n",
    "import matplotlib.pyplot as plt\n",
    "from plotly.offline import init_notebook_mode, iplot\n",
    "import plotly\n",
    "import plotly.graph_objs as go\n",
    "\n",
    "from sklearn.metrics import make_scorer\n",
    "\n",
    "import seaborn as sns"
   ]
  },
  {
   "cell_type": "markdown",
   "metadata": {},
   "source": [
    "Пояснения к столбцам таблиц\n",
    "\n",
    "\n",
    "Rougher feed — исходное сырье\n",
    "\n",
    "Rougher additions (или reagent additions) — флотационные реагенты: Xanthate, Sulphate, Depressant\n",
    "\n",
    "Xanthate **— ксантогенат (промотер, или активатор флотации);\n",
    "\n",
    "Sulphate — сульфат (на данном производстве сульфид натрия);\n",
    "\n",
    "Depressant — депрессант (силикат натрия).\n",
    "\n",
    "Rougher process (англ. «грубый процесс») — флотация\n",
    "\n",
    "Rougher tails — отвальные хвосты\n",
    "\n",
    "Float banks — флотационная установка\n",
    "\n",
    "Cleaner process — очистка\n",
    "\n",
    "Rougher Au — черновой концентрат золота\n",
    "\n",
    "Final Au — финальный концентрат золота\n",
    "\n",
    "Параметры этапов\n",
    "\n",
    "\n",
    "air amount — объём воздуха\n",
    "\n",
    "fluid levels — уровень жидкости\n",
    "\n",
    "feed size — размер гранул сырья\n",
    "\n",
    "feed rate — скорость подачи\n",
    "\n",
    "Наименование признаков\n",
    "\n",
    "Наименование признаков должно быть такое:\n",
    "\n",
    "[этап].[тип_параметра].[название_параметра]\n",
    "\n",
    "Пример: rougher.input.feed_ag\n",
    "\n",
    "Возможные значения для блока [этап]:\n",
    "\n",
    "    rougher — флотация\n",
    "    \n",
    "    primary_cleaner — первичная очистка\n",
    "    \n",
    "    secondary_cleaner — вторичная очистка\n",
    "    \n",
    "    final — финальные характеристики\n",
    "\n",
    "Возможные значения для блока [тип_параметра]:\n",
    "\n",
    "    input — параметры сырья\n",
    "    \n",
    "    output — параметры продукта\n",
    "    \n",
    "    state — параметры, характеризующие текущее состояние этапа\n",
    "    \n",
    "    calculation — расчётные характеристики"
   ]
  },
  {
   "cell_type": "code",
   "execution_count": 2,
   "metadata": {},
   "outputs": [
    {
     "name": "stdout",
     "output_type": "stream",
     "text": [
      "Количество пропусков в каждом столбце date                                          0.000000\n",
      "primary_cleaner.input.sulfate                 0.000756\n",
      "primary_cleaner.input.depressant              0.000945\n",
      "primary_cleaner.input.feed_size               0.000000\n",
      "primary_cleaner.input.xanthate                0.000756\n",
      "primary_cleaner.state.floatbank8_a_air        0.000000\n",
      "primary_cleaner.state.floatbank8_a_level      0.000000\n",
      "primary_cleaner.state.floatbank8_b_air        0.000000\n",
      "primary_cleaner.state.floatbank8_b_level      0.000000\n",
      "primary_cleaner.state.floatbank8_c_air        0.000000\n",
      "primary_cleaner.state.floatbank8_c_level      0.000000\n",
      "primary_cleaner.state.floatbank8_d_air        0.000000\n",
      "primary_cleaner.state.floatbank8_d_level      0.000000\n",
      "rougher.input.feed_ag                         0.000000\n",
      "rougher.input.feed_pb                         0.000000\n",
      "rougher.input.feed_rate                       0.000567\n",
      "rougher.input.feed_size                       0.000189\n",
      "rougher.input.feed_sol                        0.003970\n",
      "rougher.input.feed_au                         0.000000\n",
      "rougher.input.floatbank10_sulfate             0.000945\n",
      "rougher.input.floatbank10_xanthate            0.000000\n",
      "rougher.input.floatbank11_sulfate             0.001512\n",
      "rougher.input.floatbank11_xanthate            0.004726\n",
      "rougher.state.floatbank10_a_air               0.000000\n",
      "rougher.state.floatbank10_a_level             0.000000\n",
      "rougher.state.floatbank10_b_air               0.000000\n",
      "rougher.state.floatbank10_b_level             0.000000\n",
      "rougher.state.floatbank10_c_air               0.000000\n",
      "rougher.state.floatbank10_c_level             0.000000\n",
      "rougher.state.floatbank10_d_air               0.000000\n",
      "rougher.state.floatbank10_d_level             0.000000\n",
      "rougher.state.floatbank10_e_air               0.000000\n",
      "rougher.state.floatbank10_e_level             0.000000\n",
      "rougher.state.floatbank10_f_air               0.000000\n",
      "rougher.state.floatbank10_f_level             0.000000\n",
      "secondary_cleaner.state.floatbank2_a_air      0.000567\n",
      "secondary_cleaner.state.floatbank2_a_level    0.000000\n",
      "secondary_cleaner.state.floatbank2_b_air      0.000378\n",
      "secondary_cleaner.state.floatbank2_b_level    0.000000\n",
      "secondary_cleaner.state.floatbank3_a_air      0.001701\n",
      "secondary_cleaner.state.floatbank3_a_level    0.000000\n",
      "secondary_cleaner.state.floatbank3_b_air      0.000000\n",
      "secondary_cleaner.state.floatbank3_b_level    0.000000\n",
      "secondary_cleaner.state.floatbank4_a_air      0.000000\n",
      "secondary_cleaner.state.floatbank4_a_level    0.000000\n",
      "secondary_cleaner.state.floatbank4_b_air      0.000000\n",
      "secondary_cleaner.state.floatbank4_b_level    0.000000\n",
      "secondary_cleaner.state.floatbank5_a_air      0.000000\n",
      "secondary_cleaner.state.floatbank5_a_level    0.000000\n",
      "secondary_cleaner.state.floatbank5_b_air      0.000000\n",
      "secondary_cleaner.state.floatbank5_b_level    0.000000\n",
      "secondary_cleaner.state.floatbank6_a_air      0.000000\n",
      "secondary_cleaner.state.floatbank6_a_level    0.000000\n",
      "dtype: float64\n"
     ]
    },
    {
     "data": {
      "text/html": [
       "<div>\n",
       "<style scoped>\n",
       "    .dataframe tbody tr th:only-of-type {\n",
       "        vertical-align: middle;\n",
       "    }\n",
       "\n",
       "    .dataframe tbody tr th {\n",
       "        vertical-align: top;\n",
       "    }\n",
       "\n",
       "    .dataframe thead th {\n",
       "        text-align: right;\n",
       "    }\n",
       "</style>\n",
       "<table border=\"1\" class=\"dataframe\">\n",
       "  <thead>\n",
       "    <tr style=\"text-align: right;\">\n",
       "      <th></th>\n",
       "      <th>primary_cleaner.input.sulfate</th>\n",
       "      <th>primary_cleaner.input.depressant</th>\n",
       "      <th>primary_cleaner.input.feed_size</th>\n",
       "      <th>primary_cleaner.input.xanthate</th>\n",
       "      <th>primary_cleaner.state.floatbank8_a_air</th>\n",
       "      <th>primary_cleaner.state.floatbank8_a_level</th>\n",
       "      <th>primary_cleaner.state.floatbank8_b_air</th>\n",
       "      <th>primary_cleaner.state.floatbank8_b_level</th>\n",
       "      <th>primary_cleaner.state.floatbank8_c_air</th>\n",
       "      <th>primary_cleaner.state.floatbank8_c_level</th>\n",
       "      <th>...</th>\n",
       "      <th>secondary_cleaner.state.floatbank4_a_air</th>\n",
       "      <th>secondary_cleaner.state.floatbank4_a_level</th>\n",
       "      <th>secondary_cleaner.state.floatbank4_b_air</th>\n",
       "      <th>secondary_cleaner.state.floatbank4_b_level</th>\n",
       "      <th>secondary_cleaner.state.floatbank5_a_air</th>\n",
       "      <th>secondary_cleaner.state.floatbank5_a_level</th>\n",
       "      <th>secondary_cleaner.state.floatbank5_b_air</th>\n",
       "      <th>secondary_cleaner.state.floatbank5_b_level</th>\n",
       "      <th>secondary_cleaner.state.floatbank6_a_air</th>\n",
       "      <th>secondary_cleaner.state.floatbank6_a_level</th>\n",
       "    </tr>\n",
       "  </thead>\n",
       "  <tbody>\n",
       "    <tr>\n",
       "      <th>count</th>\n",
       "      <td>5286.000000</td>\n",
       "      <td>5285.000000</td>\n",
       "      <td>5290.000000</td>\n",
       "      <td>5286.000000</td>\n",
       "      <td>5.290000e+03</td>\n",
       "      <td>5290.000000</td>\n",
       "      <td>5.290000e+03</td>\n",
       "      <td>5290.000000</td>\n",
       "      <td>5.290000e+03</td>\n",
       "      <td>5290.000000</td>\n",
       "      <td>...</td>\n",
       "      <td>5.290000e+03</td>\n",
       "      <td>5290.000000</td>\n",
       "      <td>5.290000e+03</td>\n",
       "      <td>5290.000000</td>\n",
       "      <td>5290.000000</td>\n",
       "      <td>5290.000000</td>\n",
       "      <td>5290.000000</td>\n",
       "      <td>5290.000000</td>\n",
       "      <td>5290.000000</td>\n",
       "      <td>5290.000000</td>\n",
       "    </tr>\n",
       "    <tr>\n",
       "      <th>mean</th>\n",
       "      <td>174.839652</td>\n",
       "      <td>8.683596</td>\n",
       "      <td>7.266339</td>\n",
       "      <td>1.383803</td>\n",
       "      <td>1.539494e+03</td>\n",
       "      <td>-497.665883</td>\n",
       "      <td>1.545174e+03</td>\n",
       "      <td>-500.273098</td>\n",
       "      <td>1.527272e+03</td>\n",
       "      <td>-498.330680</td>\n",
       "      <td>...</td>\n",
       "      <td>1.632007e+01</td>\n",
       "      <td>-505.144570</td>\n",
       "      <td>1.373544e+01</td>\n",
       "      <td>-463.349858</td>\n",
       "      <td>12.804186</td>\n",
       "      <td>-501.329122</td>\n",
       "      <td>9.881145</td>\n",
       "      <td>-495.663398</td>\n",
       "      <td>17.304935</td>\n",
       "      <td>-501.793193</td>\n",
       "    </tr>\n",
       "    <tr>\n",
       "      <th>std</th>\n",
       "      <td>43.027080</td>\n",
       "      <td>3.072050</td>\n",
       "      <td>0.610219</td>\n",
       "      <td>0.643474</td>\n",
       "      <td>1.167979e+02</td>\n",
       "      <td>19.952431</td>\n",
       "      <td>1.222246e+02</td>\n",
       "      <td>32.968307</td>\n",
       "      <td>1.225380e+02</td>\n",
       "      <td>21.964876</td>\n",
       "      <td>...</td>\n",
       "      <td>3.493583e+00</td>\n",
       "      <td>31.427337</td>\n",
       "      <td>3.430484e+00</td>\n",
       "      <td>86.189107</td>\n",
       "      <td>3.026591</td>\n",
       "      <td>17.951495</td>\n",
       "      <td>2.868205</td>\n",
       "      <td>34.535007</td>\n",
       "      <td>4.536544</td>\n",
       "      <td>39.044215</td>\n",
       "    </tr>\n",
       "    <tr>\n",
       "      <th>min</th>\n",
       "      <td>2.566156</td>\n",
       "      <td>0.003839</td>\n",
       "      <td>5.650000</td>\n",
       "      <td>0.004984</td>\n",
       "      <td>5.445860e-32</td>\n",
       "      <td>-795.316337</td>\n",
       "      <td>6.647490e-32</td>\n",
       "      <td>-799.997015</td>\n",
       "      <td>4.033736e-32</td>\n",
       "      <td>-799.960571</td>\n",
       "      <td>...</td>\n",
       "      <td>1.079872e-16</td>\n",
       "      <td>-799.798523</td>\n",
       "      <td>2.489718e-17</td>\n",
       "      <td>-800.836914</td>\n",
       "      <td>0.069227</td>\n",
       "      <td>-797.323986</td>\n",
       "      <td>0.528083</td>\n",
       "      <td>-800.220337</td>\n",
       "      <td>-0.079426</td>\n",
       "      <td>-809.741464</td>\n",
       "    </tr>\n",
       "    <tr>\n",
       "      <th>25%</th>\n",
       "      <td>147.121401</td>\n",
       "      <td>6.489555</td>\n",
       "      <td>6.890000</td>\n",
       "      <td>0.907623</td>\n",
       "      <td>1.498936e+03</td>\n",
       "      <td>-500.357298</td>\n",
       "      <td>1.498971e+03</td>\n",
       "      <td>-500.703002</td>\n",
       "      <td>1.473230e+03</td>\n",
       "      <td>-501.018117</td>\n",
       "      <td>...</td>\n",
       "      <td>1.403618e+01</td>\n",
       "      <td>-500.868258</td>\n",
       "      <td>1.202862e+01</td>\n",
       "      <td>-500.323028</td>\n",
       "      <td>10.914838</td>\n",
       "      <td>-500.726841</td>\n",
       "      <td>8.036719</td>\n",
       "      <td>-500.194668</td>\n",
       "      <td>13.997317</td>\n",
       "      <td>-500.690984</td>\n",
       "    </tr>\n",
       "    <tr>\n",
       "      <th>50%</th>\n",
       "      <td>177.828489</td>\n",
       "      <td>8.052207</td>\n",
       "      <td>7.250000</td>\n",
       "      <td>1.197610</td>\n",
       "      <td>1.585129e+03</td>\n",
       "      <td>-499.969164</td>\n",
       "      <td>1.595622e+03</td>\n",
       "      <td>-500.028514</td>\n",
       "      <td>1.549595e+03</td>\n",
       "      <td>-500.017711</td>\n",
       "      <td>...</td>\n",
       "      <td>1.700847e+01</td>\n",
       "      <td>-500.115727</td>\n",
       "      <td>1.496486e+01</td>\n",
       "      <td>-499.576513</td>\n",
       "      <td>12.954182</td>\n",
       "      <td>-499.990332</td>\n",
       "      <td>10.004301</td>\n",
       "      <td>-499.990535</td>\n",
       "      <td>16.014935</td>\n",
       "      <td>-500.007126</td>\n",
       "    </tr>\n",
       "    <tr>\n",
       "      <th>75%</th>\n",
       "      <td>208.125438</td>\n",
       "      <td>10.027764</td>\n",
       "      <td>7.600000</td>\n",
       "      <td>1.797819</td>\n",
       "      <td>1.602077e+03</td>\n",
       "      <td>-499.568951</td>\n",
       "      <td>1.602324e+03</td>\n",
       "      <td>-499.293257</td>\n",
       "      <td>1.601144e+03</td>\n",
       "      <td>-498.994130</td>\n",
       "      <td>...</td>\n",
       "      <td>1.803862e+01</td>\n",
       "      <td>-499.404224</td>\n",
       "      <td>1.596213e+01</td>\n",
       "      <td>-400.933805</td>\n",
       "      <td>15.097528</td>\n",
       "      <td>-499.283191</td>\n",
       "      <td>11.997467</td>\n",
       "      <td>-499.719913</td>\n",
       "      <td>21.020013</td>\n",
       "      <td>-499.373018</td>\n",
       "    </tr>\n",
       "    <tr>\n",
       "      <th>max</th>\n",
       "      <td>265.983123</td>\n",
       "      <td>40.000000</td>\n",
       "      <td>15.500000</td>\n",
       "      <td>4.102454</td>\n",
       "      <td>2.103104e+03</td>\n",
       "      <td>-57.195404</td>\n",
       "      <td>1.813084e+03</td>\n",
       "      <td>-142.527229</td>\n",
       "      <td>1.715054e+03</td>\n",
       "      <td>-150.937035</td>\n",
       "      <td>...</td>\n",
       "      <td>3.005180e+01</td>\n",
       "      <td>-401.565212</td>\n",
       "      <td>3.126971e+01</td>\n",
       "      <td>-6.506986</td>\n",
       "      <td>25.258848</td>\n",
       "      <td>-244.483566</td>\n",
       "      <td>14.086866</td>\n",
       "      <td>-137.740004</td>\n",
       "      <td>26.705889</td>\n",
       "      <td>-123.307487</td>\n",
       "    </tr>\n",
       "  </tbody>\n",
       "</table>\n",
       "<p>8 rows × 52 columns</p>\n",
       "</div>"
      ],
      "text/plain": [
       "       primary_cleaner.input.sulfate  primary_cleaner.input.depressant  \\\n",
       "count                    5286.000000                       5285.000000   \n",
       "mean                      174.839652                          8.683596   \n",
       "std                        43.027080                          3.072050   \n",
       "min                         2.566156                          0.003839   \n",
       "25%                       147.121401                          6.489555   \n",
       "50%                       177.828489                          8.052207   \n",
       "75%                       208.125438                         10.027764   \n",
       "max                       265.983123                         40.000000   \n",
       "\n",
       "       primary_cleaner.input.feed_size  primary_cleaner.input.xanthate  \\\n",
       "count                      5290.000000                     5286.000000   \n",
       "mean                          7.266339                        1.383803   \n",
       "std                           0.610219                        0.643474   \n",
       "min                           5.650000                        0.004984   \n",
       "25%                           6.890000                        0.907623   \n",
       "50%                           7.250000                        1.197610   \n",
       "75%                           7.600000                        1.797819   \n",
       "max                          15.500000                        4.102454   \n",
       "\n",
       "       primary_cleaner.state.floatbank8_a_air  \\\n",
       "count                            5.290000e+03   \n",
       "mean                             1.539494e+03   \n",
       "std                              1.167979e+02   \n",
       "min                              5.445860e-32   \n",
       "25%                              1.498936e+03   \n",
       "50%                              1.585129e+03   \n",
       "75%                              1.602077e+03   \n",
       "max                              2.103104e+03   \n",
       "\n",
       "       primary_cleaner.state.floatbank8_a_level  \\\n",
       "count                               5290.000000   \n",
       "mean                                -497.665883   \n",
       "std                                   19.952431   \n",
       "min                                 -795.316337   \n",
       "25%                                 -500.357298   \n",
       "50%                                 -499.969164   \n",
       "75%                                 -499.568951   \n",
       "max                                  -57.195404   \n",
       "\n",
       "       primary_cleaner.state.floatbank8_b_air  \\\n",
       "count                            5.290000e+03   \n",
       "mean                             1.545174e+03   \n",
       "std                              1.222246e+02   \n",
       "min                              6.647490e-32   \n",
       "25%                              1.498971e+03   \n",
       "50%                              1.595622e+03   \n",
       "75%                              1.602324e+03   \n",
       "max                              1.813084e+03   \n",
       "\n",
       "       primary_cleaner.state.floatbank8_b_level  \\\n",
       "count                               5290.000000   \n",
       "mean                                -500.273098   \n",
       "std                                   32.968307   \n",
       "min                                 -799.997015   \n",
       "25%                                 -500.703002   \n",
       "50%                                 -500.028514   \n",
       "75%                                 -499.293257   \n",
       "max                                 -142.527229   \n",
       "\n",
       "       primary_cleaner.state.floatbank8_c_air  \\\n",
       "count                            5.290000e+03   \n",
       "mean                             1.527272e+03   \n",
       "std                              1.225380e+02   \n",
       "min                              4.033736e-32   \n",
       "25%                              1.473230e+03   \n",
       "50%                              1.549595e+03   \n",
       "75%                              1.601144e+03   \n",
       "max                              1.715054e+03   \n",
       "\n",
       "       primary_cleaner.state.floatbank8_c_level  ...  \\\n",
       "count                               5290.000000  ...   \n",
       "mean                                -498.330680  ...   \n",
       "std                                   21.964876  ...   \n",
       "min                                 -799.960571  ...   \n",
       "25%                                 -501.018117  ...   \n",
       "50%                                 -500.017711  ...   \n",
       "75%                                 -498.994130  ...   \n",
       "max                                 -150.937035  ...   \n",
       "\n",
       "       secondary_cleaner.state.floatbank4_a_air  \\\n",
       "count                              5.290000e+03   \n",
       "mean                               1.632007e+01   \n",
       "std                                3.493583e+00   \n",
       "min                                1.079872e-16   \n",
       "25%                                1.403618e+01   \n",
       "50%                                1.700847e+01   \n",
       "75%                                1.803862e+01   \n",
       "max                                3.005180e+01   \n",
       "\n",
       "       secondary_cleaner.state.floatbank4_a_level  \\\n",
       "count                                 5290.000000   \n",
       "mean                                  -505.144570   \n",
       "std                                     31.427337   \n",
       "min                                   -799.798523   \n",
       "25%                                   -500.868258   \n",
       "50%                                   -500.115727   \n",
       "75%                                   -499.404224   \n",
       "max                                   -401.565212   \n",
       "\n",
       "       secondary_cleaner.state.floatbank4_b_air  \\\n",
       "count                              5.290000e+03   \n",
       "mean                               1.373544e+01   \n",
       "std                                3.430484e+00   \n",
       "min                                2.489718e-17   \n",
       "25%                                1.202862e+01   \n",
       "50%                                1.496486e+01   \n",
       "75%                                1.596213e+01   \n",
       "max                                3.126971e+01   \n",
       "\n",
       "       secondary_cleaner.state.floatbank4_b_level  \\\n",
       "count                                 5290.000000   \n",
       "mean                                  -463.349858   \n",
       "std                                     86.189107   \n",
       "min                                   -800.836914   \n",
       "25%                                   -500.323028   \n",
       "50%                                   -499.576513   \n",
       "75%                                   -400.933805   \n",
       "max                                     -6.506986   \n",
       "\n",
       "       secondary_cleaner.state.floatbank5_a_air  \\\n",
       "count                               5290.000000   \n",
       "mean                                  12.804186   \n",
       "std                                    3.026591   \n",
       "min                                    0.069227   \n",
       "25%                                   10.914838   \n",
       "50%                                   12.954182   \n",
       "75%                                   15.097528   \n",
       "max                                   25.258848   \n",
       "\n",
       "       secondary_cleaner.state.floatbank5_a_level  \\\n",
       "count                                 5290.000000   \n",
       "mean                                  -501.329122   \n",
       "std                                     17.951495   \n",
       "min                                   -797.323986   \n",
       "25%                                   -500.726841   \n",
       "50%                                   -499.990332   \n",
       "75%                                   -499.283191   \n",
       "max                                   -244.483566   \n",
       "\n",
       "       secondary_cleaner.state.floatbank5_b_air  \\\n",
       "count                               5290.000000   \n",
       "mean                                   9.881145   \n",
       "std                                    2.868205   \n",
       "min                                    0.528083   \n",
       "25%                                    8.036719   \n",
       "50%                                   10.004301   \n",
       "75%                                   11.997467   \n",
       "max                                   14.086866   \n",
       "\n",
       "       secondary_cleaner.state.floatbank5_b_level  \\\n",
       "count                                 5290.000000   \n",
       "mean                                  -495.663398   \n",
       "std                                     34.535007   \n",
       "min                                   -800.220337   \n",
       "25%                                   -500.194668   \n",
       "50%                                   -499.990535   \n",
       "75%                                   -499.719913   \n",
       "max                                   -137.740004   \n",
       "\n",
       "       secondary_cleaner.state.floatbank6_a_air  \\\n",
       "count                               5290.000000   \n",
       "mean                                  17.304935   \n",
       "std                                    4.536544   \n",
       "min                                   -0.079426   \n",
       "25%                                   13.997317   \n",
       "50%                                   16.014935   \n",
       "75%                                   21.020013   \n",
       "max                                   26.705889   \n",
       "\n",
       "       secondary_cleaner.state.floatbank6_a_level  \n",
       "count                                 5290.000000  \n",
       "mean                                  -501.793193  \n",
       "std                                     39.044215  \n",
       "min                                   -809.741464  \n",
       "25%                                   -500.690984  \n",
       "50%                                   -500.007126  \n",
       "75%                                   -499.373018  \n",
       "max                                   -123.307487  \n",
       "\n",
       "[8 rows x 52 columns]"
      ]
     },
     "execution_count": 2,
     "metadata": {},
     "output_type": "execute_result"
    }
   ],
   "source": [
    "test_data = pd.read_csv(\"/datasets/gold_recovery_test_new.csv\")\n",
    "#test_data.info() пока убрала, чтобы меньше времени тратилось на код\n",
    "print('Количество пропусков в каждом столбце', test_data.isna().mean())\n",
    "test_data.describe()"
   ]
  },
  {
   "cell_type": "code",
   "execution_count": 3,
   "metadata": {},
   "outputs": [
    {
     "name": "stdout",
     "output_type": "stream",
     "text": [
      "Количество пропусков в каждом столбце date                                          0.000000\n",
      "final.output.concentrate_ag                   0.000071\n",
      "final.output.concentrate_pb                   0.000071\n",
      "final.output.concentrate_sol                  0.014913\n",
      "final.output.concentrate_au                   0.000000\n",
      "                                                ...   \n",
      "secondary_cleaner.state.floatbank5_a_level    0.000071\n",
      "secondary_cleaner.state.floatbank5_b_air      0.000071\n",
      "secondary_cleaner.state.floatbank5_b_level    0.000071\n",
      "secondary_cleaner.state.floatbank6_a_air      0.000141\n",
      "secondary_cleaner.state.floatbank6_a_level    0.000071\n",
      "Length: 87, dtype: float64\n"
     ]
    },
    {
     "data": {
      "text/html": [
       "<div>\n",
       "<style scoped>\n",
       "    .dataframe tbody tr th:only-of-type {\n",
       "        vertical-align: middle;\n",
       "    }\n",
       "\n",
       "    .dataframe tbody tr th {\n",
       "        vertical-align: top;\n",
       "    }\n",
       "\n",
       "    .dataframe thead th {\n",
       "        text-align: right;\n",
       "    }\n",
       "</style>\n",
       "<table border=\"1\" class=\"dataframe\">\n",
       "  <thead>\n",
       "    <tr style=\"text-align: right;\">\n",
       "      <th></th>\n",
       "      <th>final.output.concentrate_ag</th>\n",
       "      <th>final.output.concentrate_pb</th>\n",
       "      <th>final.output.concentrate_sol</th>\n",
       "      <th>final.output.concentrate_au</th>\n",
       "      <th>final.output.recovery</th>\n",
       "      <th>final.output.tail_ag</th>\n",
       "      <th>final.output.tail_pb</th>\n",
       "      <th>final.output.tail_sol</th>\n",
       "      <th>final.output.tail_au</th>\n",
       "      <th>primary_cleaner.input.sulfate</th>\n",
       "      <th>...</th>\n",
       "      <th>secondary_cleaner.state.floatbank4_a_air</th>\n",
       "      <th>secondary_cleaner.state.floatbank4_a_level</th>\n",
       "      <th>secondary_cleaner.state.floatbank4_b_air</th>\n",
       "      <th>secondary_cleaner.state.floatbank4_b_level</th>\n",
       "      <th>secondary_cleaner.state.floatbank5_a_air</th>\n",
       "      <th>secondary_cleaner.state.floatbank5_a_level</th>\n",
       "      <th>secondary_cleaner.state.floatbank5_b_air</th>\n",
       "      <th>secondary_cleaner.state.floatbank5_b_level</th>\n",
       "      <th>secondary_cleaner.state.floatbank6_a_air</th>\n",
       "      <th>secondary_cleaner.state.floatbank6_a_level</th>\n",
       "    </tr>\n",
       "  </thead>\n",
       "  <tbody>\n",
       "    <tr>\n",
       "      <th>count</th>\n",
       "      <td>14148.000000</td>\n",
       "      <td>14148.000000</td>\n",
       "      <td>13938.000000</td>\n",
       "      <td>14149.000000</td>\n",
       "      <td>14149.000000</td>\n",
       "      <td>14149.000000</td>\n",
       "      <td>14049.000000</td>\n",
       "      <td>14144.000000</td>\n",
       "      <td>14149.000000</td>\n",
       "      <td>14129.000000</td>\n",
       "      <td>...</td>\n",
       "      <td>14143.000000</td>\n",
       "      <td>14148.000000</td>\n",
       "      <td>14148.000000</td>\n",
       "      <td>14148.000000</td>\n",
       "      <td>14148.000000</td>\n",
       "      <td>14148.000000</td>\n",
       "      <td>14148.000000</td>\n",
       "      <td>14148.000000</td>\n",
       "      <td>14147.000000</td>\n",
       "      <td>14148.000000</td>\n",
       "    </tr>\n",
       "    <tr>\n",
       "      <th>mean</th>\n",
       "      <td>5.142034</td>\n",
       "      <td>10.132960</td>\n",
       "      <td>9.202849</td>\n",
       "      <td>44.003792</td>\n",
       "      <td>66.518832</td>\n",
       "      <td>9.607035</td>\n",
       "      <td>2.597298</td>\n",
       "      <td>10.512122</td>\n",
       "      <td>2.918421</td>\n",
       "      <td>133.320659</td>\n",
       "      <td>...</td>\n",
       "      <td>19.985454</td>\n",
       "      <td>-478.696836</td>\n",
       "      <td>15.487065</td>\n",
       "      <td>-460.229416</td>\n",
       "      <td>16.775136</td>\n",
       "      <td>-483.956022</td>\n",
       "      <td>13.064590</td>\n",
       "      <td>-483.966564</td>\n",
       "      <td>19.577539</td>\n",
       "      <td>-506.798480</td>\n",
       "    </tr>\n",
       "    <tr>\n",
       "      <th>std</th>\n",
       "      <td>1.369586</td>\n",
       "      <td>1.654930</td>\n",
       "      <td>2.790516</td>\n",
       "      <td>4.905261</td>\n",
       "      <td>10.295402</td>\n",
       "      <td>2.319069</td>\n",
       "      <td>0.971843</td>\n",
       "      <td>3.003617</td>\n",
       "      <td>0.903712</td>\n",
       "      <td>39.431659</td>\n",
       "      <td>...</td>\n",
       "      <td>5.657723</td>\n",
       "      <td>50.736021</td>\n",
       "      <td>5.255655</td>\n",
       "      <td>58.843586</td>\n",
       "      <td>5.831906</td>\n",
       "      <td>37.892788</td>\n",
       "      <td>5.765617</td>\n",
       "      <td>39.207913</td>\n",
       "      <td>5.764417</td>\n",
       "      <td>37.079249</td>\n",
       "    </tr>\n",
       "    <tr>\n",
       "      <th>min</th>\n",
       "      <td>0.000000</td>\n",
       "      <td>0.000000</td>\n",
       "      <td>0.000000</td>\n",
       "      <td>0.000000</td>\n",
       "      <td>0.000000</td>\n",
       "      <td>0.000000</td>\n",
       "      <td>0.000000</td>\n",
       "      <td>0.000000</td>\n",
       "      <td>0.000000</td>\n",
       "      <td>0.003112</td>\n",
       "      <td>...</td>\n",
       "      <td>0.000000</td>\n",
       "      <td>-799.709069</td>\n",
       "      <td>0.000000</td>\n",
       "      <td>-799.889113</td>\n",
       "      <td>-0.372054</td>\n",
       "      <td>-797.142475</td>\n",
       "      <td>0.646208</td>\n",
       "      <td>-800.006180</td>\n",
       "      <td>0.195324</td>\n",
       "      <td>-809.398668</td>\n",
       "    </tr>\n",
       "    <tr>\n",
       "      <th>25%</th>\n",
       "      <td>4.211620</td>\n",
       "      <td>9.297355</td>\n",
       "      <td>7.484645</td>\n",
       "      <td>43.276111</td>\n",
       "      <td>62.545817</td>\n",
       "      <td>7.997429</td>\n",
       "      <td>1.905973</td>\n",
       "      <td>8.811324</td>\n",
       "      <td>2.368607</td>\n",
       "      <td>107.006651</td>\n",
       "      <td>...</td>\n",
       "      <td>14.990775</td>\n",
       "      <td>-500.628656</td>\n",
       "      <td>11.894558</td>\n",
       "      <td>-500.149000</td>\n",
       "      <td>11.083980</td>\n",
       "      <td>-500.363177</td>\n",
       "      <td>8.994405</td>\n",
       "      <td>-500.105994</td>\n",
       "      <td>14.989304</td>\n",
       "      <td>-500.745104</td>\n",
       "    </tr>\n",
       "    <tr>\n",
       "      <th>50%</th>\n",
       "      <td>4.994652</td>\n",
       "      <td>10.297144</td>\n",
       "      <td>8.845462</td>\n",
       "      <td>44.872436</td>\n",
       "      <td>67.432775</td>\n",
       "      <td>9.480270</td>\n",
       "      <td>2.592022</td>\n",
       "      <td>10.514621</td>\n",
       "      <td>2.851025</td>\n",
       "      <td>133.018328</td>\n",
       "      <td>...</td>\n",
       "      <td>20.001789</td>\n",
       "      <td>-499.681450</td>\n",
       "      <td>14.975536</td>\n",
       "      <td>-499.388738</td>\n",
       "      <td>17.932223</td>\n",
       "      <td>-499.702452</td>\n",
       "      <td>11.997547</td>\n",
       "      <td>-499.914556</td>\n",
       "      <td>19.984175</td>\n",
       "      <td>-500.061431</td>\n",
       "    </tr>\n",
       "    <tr>\n",
       "      <th>75%</th>\n",
       "      <td>5.859540</td>\n",
       "      <td>11.170603</td>\n",
       "      <td>10.487508</td>\n",
       "      <td>46.166425</td>\n",
       "      <td>72.346428</td>\n",
       "      <td>11.003707</td>\n",
       "      <td>3.241723</td>\n",
       "      <td>11.933009</td>\n",
       "      <td>3.434764</td>\n",
       "      <td>159.825396</td>\n",
       "      <td>...</td>\n",
       "      <td>24.990826</td>\n",
       "      <td>-477.472413</td>\n",
       "      <td>20.059375</td>\n",
       "      <td>-400.039008</td>\n",
       "      <td>21.346550</td>\n",
       "      <td>-487.712108</td>\n",
       "      <td>17.982903</td>\n",
       "      <td>-453.186936</td>\n",
       "      <td>24.991623</td>\n",
       "      <td>-499.536466</td>\n",
       "    </tr>\n",
       "    <tr>\n",
       "      <th>max</th>\n",
       "      <td>16.001945</td>\n",
       "      <td>17.031899</td>\n",
       "      <td>18.124851</td>\n",
       "      <td>52.756638</td>\n",
       "      <td>100.000000</td>\n",
       "      <td>19.552149</td>\n",
       "      <td>5.639565</td>\n",
       "      <td>22.317730</td>\n",
       "      <td>8.197408</td>\n",
       "      <td>250.127834</td>\n",
       "      <td>...</td>\n",
       "      <td>30.115735</td>\n",
       "      <td>-245.239184</td>\n",
       "      <td>24.007913</td>\n",
       "      <td>-145.071088</td>\n",
       "      <td>43.709931</td>\n",
       "      <td>-275.073125</td>\n",
       "      <td>27.926001</td>\n",
       "      <td>-157.396071</td>\n",
       "      <td>32.188906</td>\n",
       "      <td>-104.427459</td>\n",
       "    </tr>\n",
       "  </tbody>\n",
       "</table>\n",
       "<p>8 rows × 86 columns</p>\n",
       "</div>"
      ],
      "text/plain": [
       "       final.output.concentrate_ag  final.output.concentrate_pb  \\\n",
       "count                 14148.000000                 14148.000000   \n",
       "mean                      5.142034                    10.132960   \n",
       "std                       1.369586                     1.654930   \n",
       "min                       0.000000                     0.000000   \n",
       "25%                       4.211620                     9.297355   \n",
       "50%                       4.994652                    10.297144   \n",
       "75%                       5.859540                    11.170603   \n",
       "max                      16.001945                    17.031899   \n",
       "\n",
       "       final.output.concentrate_sol  final.output.concentrate_au  \\\n",
       "count                  13938.000000                 14149.000000   \n",
       "mean                       9.202849                    44.003792   \n",
       "std                        2.790516                     4.905261   \n",
       "min                        0.000000                     0.000000   \n",
       "25%                        7.484645                    43.276111   \n",
       "50%                        8.845462                    44.872436   \n",
       "75%                       10.487508                    46.166425   \n",
       "max                       18.124851                    52.756638   \n",
       "\n",
       "       final.output.recovery  final.output.tail_ag  final.output.tail_pb  \\\n",
       "count           14149.000000          14149.000000          14049.000000   \n",
       "mean               66.518832              9.607035              2.597298   \n",
       "std                10.295402              2.319069              0.971843   \n",
       "min                 0.000000              0.000000              0.000000   \n",
       "25%                62.545817              7.997429              1.905973   \n",
       "50%                67.432775              9.480270              2.592022   \n",
       "75%                72.346428             11.003707              3.241723   \n",
       "max               100.000000             19.552149              5.639565   \n",
       "\n",
       "       final.output.tail_sol  final.output.tail_au  \\\n",
       "count           14144.000000          14149.000000   \n",
       "mean               10.512122              2.918421   \n",
       "std                 3.003617              0.903712   \n",
       "min                 0.000000              0.000000   \n",
       "25%                 8.811324              2.368607   \n",
       "50%                10.514621              2.851025   \n",
       "75%                11.933009              3.434764   \n",
       "max                22.317730              8.197408   \n",
       "\n",
       "       primary_cleaner.input.sulfate  ...  \\\n",
       "count                   14129.000000  ...   \n",
       "mean                      133.320659  ...   \n",
       "std                        39.431659  ...   \n",
       "min                         0.003112  ...   \n",
       "25%                       107.006651  ...   \n",
       "50%                       133.018328  ...   \n",
       "75%                       159.825396  ...   \n",
       "max                       250.127834  ...   \n",
       "\n",
       "       secondary_cleaner.state.floatbank4_a_air  \\\n",
       "count                              14143.000000   \n",
       "mean                                  19.985454   \n",
       "std                                    5.657723   \n",
       "min                                    0.000000   \n",
       "25%                                   14.990775   \n",
       "50%                                   20.001789   \n",
       "75%                                   24.990826   \n",
       "max                                   30.115735   \n",
       "\n",
       "       secondary_cleaner.state.floatbank4_a_level  \\\n",
       "count                                14148.000000   \n",
       "mean                                  -478.696836   \n",
       "std                                     50.736021   \n",
       "min                                   -799.709069   \n",
       "25%                                   -500.628656   \n",
       "50%                                   -499.681450   \n",
       "75%                                   -477.472413   \n",
       "max                                   -245.239184   \n",
       "\n",
       "       secondary_cleaner.state.floatbank4_b_air  \\\n",
       "count                              14148.000000   \n",
       "mean                                  15.487065   \n",
       "std                                    5.255655   \n",
       "min                                    0.000000   \n",
       "25%                                   11.894558   \n",
       "50%                                   14.975536   \n",
       "75%                                   20.059375   \n",
       "max                                   24.007913   \n",
       "\n",
       "       secondary_cleaner.state.floatbank4_b_level  \\\n",
       "count                                14148.000000   \n",
       "mean                                  -460.229416   \n",
       "std                                     58.843586   \n",
       "min                                   -799.889113   \n",
       "25%                                   -500.149000   \n",
       "50%                                   -499.388738   \n",
       "75%                                   -400.039008   \n",
       "max                                   -145.071088   \n",
       "\n",
       "       secondary_cleaner.state.floatbank5_a_air  \\\n",
       "count                              14148.000000   \n",
       "mean                                  16.775136   \n",
       "std                                    5.831906   \n",
       "min                                   -0.372054   \n",
       "25%                                   11.083980   \n",
       "50%                                   17.932223   \n",
       "75%                                   21.346550   \n",
       "max                                   43.709931   \n",
       "\n",
       "       secondary_cleaner.state.floatbank5_a_level  \\\n",
       "count                                14148.000000   \n",
       "mean                                  -483.956022   \n",
       "std                                     37.892788   \n",
       "min                                   -797.142475   \n",
       "25%                                   -500.363177   \n",
       "50%                                   -499.702452   \n",
       "75%                                   -487.712108   \n",
       "max                                   -275.073125   \n",
       "\n",
       "       secondary_cleaner.state.floatbank5_b_air  \\\n",
       "count                              14148.000000   \n",
       "mean                                  13.064590   \n",
       "std                                    5.765617   \n",
       "min                                    0.646208   \n",
       "25%                                    8.994405   \n",
       "50%                                   11.997547   \n",
       "75%                                   17.982903   \n",
       "max                                   27.926001   \n",
       "\n",
       "       secondary_cleaner.state.floatbank5_b_level  \\\n",
       "count                                14148.000000   \n",
       "mean                                  -483.966564   \n",
       "std                                     39.207913   \n",
       "min                                   -800.006180   \n",
       "25%                                   -500.105994   \n",
       "50%                                   -499.914556   \n",
       "75%                                   -453.186936   \n",
       "max                                   -157.396071   \n",
       "\n",
       "       secondary_cleaner.state.floatbank6_a_air  \\\n",
       "count                              14147.000000   \n",
       "mean                                  19.577539   \n",
       "std                                    5.764417   \n",
       "min                                    0.195324   \n",
       "25%                                   14.989304   \n",
       "50%                                   19.984175   \n",
       "75%                                   24.991623   \n",
       "max                                   32.188906   \n",
       "\n",
       "       secondary_cleaner.state.floatbank6_a_level  \n",
       "count                                14148.000000  \n",
       "mean                                  -506.798480  \n",
       "std                                     37.079249  \n",
       "min                                   -809.398668  \n",
       "25%                                   -500.745104  \n",
       "50%                                   -500.061431  \n",
       "75%                                   -499.536466  \n",
       "max                                   -104.427459  \n",
       "\n",
       "[8 rows x 86 columns]"
      ]
     },
     "execution_count": 3,
     "metadata": {},
     "output_type": "execute_result"
    }
   ],
   "source": [
    "train_data = pd.read_csv(\"/datasets/gold_recovery_train_new.csv\")\n",
    "#train_data.info() пока убрала, чтобы меньше времени тратилось на код\n",
    "print('Количество пропусков в каждом столбце', train_data.isna().mean())\n",
    "train_data.describe()"
   ]
  },
  {
   "cell_type": "code",
   "execution_count": 4,
   "metadata": {},
   "outputs": [
    {
     "name": "stdout",
     "output_type": "stream",
     "text": [
      "Количество пропусков в каждом столбце date                                          0.000000\n",
      "final.output.concentrate_ag                   0.000051\n",
      "final.output.concentrate_pb                   0.000051\n",
      "final.output.concentrate_sol                  0.010854\n",
      "final.output.concentrate_au                   0.000000\n",
      "                                                ...   \n",
      "secondary_cleaner.state.floatbank5_a_level    0.000051\n",
      "secondary_cleaner.state.floatbank5_b_air      0.000051\n",
      "secondary_cleaner.state.floatbank5_b_level    0.000051\n",
      "secondary_cleaner.state.floatbank6_a_air      0.000103\n",
      "secondary_cleaner.state.floatbank6_a_level    0.000051\n",
      "Length: 87, dtype: float64\n"
     ]
    },
    {
     "data": {
      "text/html": [
       "<div>\n",
       "<style scoped>\n",
       "    .dataframe tbody tr th:only-of-type {\n",
       "        vertical-align: middle;\n",
       "    }\n",
       "\n",
       "    .dataframe tbody tr th {\n",
       "        vertical-align: top;\n",
       "    }\n",
       "\n",
       "    .dataframe thead th {\n",
       "        text-align: right;\n",
       "    }\n",
       "</style>\n",
       "<table border=\"1\" class=\"dataframe\">\n",
       "  <thead>\n",
       "    <tr style=\"text-align: right;\">\n",
       "      <th></th>\n",
       "      <th>final.output.concentrate_ag</th>\n",
       "      <th>final.output.concentrate_pb</th>\n",
       "      <th>final.output.concentrate_sol</th>\n",
       "      <th>final.output.concentrate_au</th>\n",
       "      <th>final.output.recovery</th>\n",
       "      <th>final.output.tail_ag</th>\n",
       "      <th>final.output.tail_pb</th>\n",
       "      <th>final.output.tail_sol</th>\n",
       "      <th>final.output.tail_au</th>\n",
       "      <th>primary_cleaner.input.sulfate</th>\n",
       "      <th>...</th>\n",
       "      <th>secondary_cleaner.state.floatbank4_a_air</th>\n",
       "      <th>secondary_cleaner.state.floatbank4_a_level</th>\n",
       "      <th>secondary_cleaner.state.floatbank4_b_air</th>\n",
       "      <th>secondary_cleaner.state.floatbank4_b_level</th>\n",
       "      <th>secondary_cleaner.state.floatbank5_a_air</th>\n",
       "      <th>secondary_cleaner.state.floatbank5_a_level</th>\n",
       "      <th>secondary_cleaner.state.floatbank5_b_air</th>\n",
       "      <th>secondary_cleaner.state.floatbank5_b_level</th>\n",
       "      <th>secondary_cleaner.state.floatbank6_a_air</th>\n",
       "      <th>secondary_cleaner.state.floatbank6_a_level</th>\n",
       "    </tr>\n",
       "  </thead>\n",
       "  <tbody>\n",
       "    <tr>\n",
       "      <th>count</th>\n",
       "      <td>19438.000000</td>\n",
       "      <td>19438.000000</td>\n",
       "      <td>19228.000000</td>\n",
       "      <td>19439.000000</td>\n",
       "      <td>19439.000000</td>\n",
       "      <td>19438.000000</td>\n",
       "      <td>19338.000000</td>\n",
       "      <td>19433.000000</td>\n",
       "      <td>19439.000000</td>\n",
       "      <td>19415.000000</td>\n",
       "      <td>...</td>\n",
       "      <td>19433.000000</td>\n",
       "      <td>19438.000000</td>\n",
       "      <td>19438.000000</td>\n",
       "      <td>19438.000000</td>\n",
       "      <td>19438.000000</td>\n",
       "      <td>19438.000000</td>\n",
       "      <td>19438.000000</td>\n",
       "      <td>19438.000000</td>\n",
       "      <td>19437.000000</td>\n",
       "      <td>19438.000000</td>\n",
       "    </tr>\n",
       "    <tr>\n",
       "      <th>mean</th>\n",
       "      <td>5.168470</td>\n",
       "      <td>9.978895</td>\n",
       "      <td>9.501224</td>\n",
       "      <td>44.076513</td>\n",
       "      <td>67.050208</td>\n",
       "      <td>9.688589</td>\n",
       "      <td>2.705795</td>\n",
       "      <td>10.583728</td>\n",
       "      <td>3.042467</td>\n",
       "      <td>144.624774</td>\n",
       "      <td>...</td>\n",
       "      <td>18.987674</td>\n",
       "      <td>-485.894516</td>\n",
       "      <td>15.010366</td>\n",
       "      <td>-461.078636</td>\n",
       "      <td>15.694452</td>\n",
       "      <td>-488.684065</td>\n",
       "      <td>12.198224</td>\n",
       "      <td>-487.149827</td>\n",
       "      <td>18.959024</td>\n",
       "      <td>-505.436305</td>\n",
       "    </tr>\n",
       "    <tr>\n",
       "      <th>std</th>\n",
       "      <td>1.372348</td>\n",
       "      <td>1.669240</td>\n",
       "      <td>2.787537</td>\n",
       "      <td>5.129784</td>\n",
       "      <td>10.125840</td>\n",
       "      <td>2.328642</td>\n",
       "      <td>0.949077</td>\n",
       "      <td>2.868782</td>\n",
       "      <td>0.922808</td>\n",
       "      <td>44.464071</td>\n",
       "      <td>...</td>\n",
       "      <td>5.411058</td>\n",
       "      <td>47.758570</td>\n",
       "      <td>4.890228</td>\n",
       "      <td>67.405524</td>\n",
       "      <td>5.510974</td>\n",
       "      <td>34.533396</td>\n",
       "      <td>5.333024</td>\n",
       "      <td>38.347312</td>\n",
       "      <td>5.550498</td>\n",
       "      <td>37.689057</td>\n",
       "    </tr>\n",
       "    <tr>\n",
       "      <th>min</th>\n",
       "      <td>0.000000</td>\n",
       "      <td>0.000000</td>\n",
       "      <td>0.000000</td>\n",
       "      <td>0.000000</td>\n",
       "      <td>0.000000</td>\n",
       "      <td>0.000000</td>\n",
       "      <td>0.000000</td>\n",
       "      <td>0.000000</td>\n",
       "      <td>0.000000</td>\n",
       "      <td>0.003112</td>\n",
       "      <td>...</td>\n",
       "      <td>0.000000</td>\n",
       "      <td>-799.798523</td>\n",
       "      <td>0.000000</td>\n",
       "      <td>-800.836914</td>\n",
       "      <td>-0.372054</td>\n",
       "      <td>-797.323986</td>\n",
       "      <td>0.528083</td>\n",
       "      <td>-800.220337</td>\n",
       "      <td>-0.079426</td>\n",
       "      <td>-809.741464</td>\n",
       "    </tr>\n",
       "    <tr>\n",
       "      <th>25%</th>\n",
       "      <td>4.251240</td>\n",
       "      <td>9.137262</td>\n",
       "      <td>7.722820</td>\n",
       "      <td>43.402215</td>\n",
       "      <td>63.299712</td>\n",
       "      <td>8.062878</td>\n",
       "      <td>2.040119</td>\n",
       "      <td>8.938947</td>\n",
       "      <td>2.461138</td>\n",
       "      <td>114.107029</td>\n",
       "      <td>...</td>\n",
       "      <td>14.975734</td>\n",
       "      <td>-500.704892</td>\n",
       "      <td>11.940294</td>\n",
       "      <td>-500.187742</td>\n",
       "      <td>10.988606</td>\n",
       "      <td>-500.458467</td>\n",
       "      <td>8.971105</td>\n",
       "      <td>-500.129462</td>\n",
       "      <td>14.983037</td>\n",
       "      <td>-500.728067</td>\n",
       "    </tr>\n",
       "    <tr>\n",
       "      <th>50%</th>\n",
       "      <td>5.066094</td>\n",
       "      <td>10.102433</td>\n",
       "      <td>9.218961</td>\n",
       "      <td>45.011244</td>\n",
       "      <td>68.172738</td>\n",
       "      <td>9.743623</td>\n",
       "      <td>2.748730</td>\n",
       "      <td>10.622456</td>\n",
       "      <td>2.984909</td>\n",
       "      <td>143.232103</td>\n",
       "      <td>...</td>\n",
       "      <td>18.017481</td>\n",
       "      <td>-499.837793</td>\n",
       "      <td>14.971014</td>\n",
       "      <td>-499.459786</td>\n",
       "      <td>15.000036</td>\n",
       "      <td>-499.802605</td>\n",
       "      <td>11.019433</td>\n",
       "      <td>-499.935317</td>\n",
       "      <td>19.960541</td>\n",
       "      <td>-500.048400</td>\n",
       "    </tr>\n",
       "    <tr>\n",
       "      <th>75%</th>\n",
       "      <td>5.895527</td>\n",
       "      <td>11.035769</td>\n",
       "      <td>10.947813</td>\n",
       "      <td>46.275313</td>\n",
       "      <td>72.686642</td>\n",
       "      <td>11.134294</td>\n",
       "      <td>3.333216</td>\n",
       "      <td>12.104271</td>\n",
       "      <td>3.571351</td>\n",
       "      <td>175.075656</td>\n",
       "      <td>...</td>\n",
       "      <td>23.012470</td>\n",
       "      <td>-498.249730</td>\n",
       "      <td>19.034162</td>\n",
       "      <td>-400.118106</td>\n",
       "      <td>18.026190</td>\n",
       "      <td>-498.384187</td>\n",
       "      <td>14.019088</td>\n",
       "      <td>-499.436708</td>\n",
       "      <td>24.003170</td>\n",
       "      <td>-499.495378</td>\n",
       "    </tr>\n",
       "    <tr>\n",
       "      <th>max</th>\n",
       "      <td>16.001945</td>\n",
       "      <td>17.031899</td>\n",
       "      <td>19.615720</td>\n",
       "      <td>52.756638</td>\n",
       "      <td>100.000000</td>\n",
       "      <td>19.552149</td>\n",
       "      <td>5.804178</td>\n",
       "      <td>22.317730</td>\n",
       "      <td>8.245022</td>\n",
       "      <td>265.983123</td>\n",
       "      <td>...</td>\n",
       "      <td>30.115735</td>\n",
       "      <td>-245.239184</td>\n",
       "      <td>31.269706</td>\n",
       "      <td>-6.506986</td>\n",
       "      <td>43.709931</td>\n",
       "      <td>-244.483566</td>\n",
       "      <td>27.926001</td>\n",
       "      <td>-137.740004</td>\n",
       "      <td>32.188906</td>\n",
       "      <td>-104.427459</td>\n",
       "    </tr>\n",
       "  </tbody>\n",
       "</table>\n",
       "<p>8 rows × 86 columns</p>\n",
       "</div>"
      ],
      "text/plain": [
       "       final.output.concentrate_ag  final.output.concentrate_pb  \\\n",
       "count                 19438.000000                 19438.000000   \n",
       "mean                      5.168470                     9.978895   \n",
       "std                       1.372348                     1.669240   \n",
       "min                       0.000000                     0.000000   \n",
       "25%                       4.251240                     9.137262   \n",
       "50%                       5.066094                    10.102433   \n",
       "75%                       5.895527                    11.035769   \n",
       "max                      16.001945                    17.031899   \n",
       "\n",
       "       final.output.concentrate_sol  final.output.concentrate_au  \\\n",
       "count                  19228.000000                 19439.000000   \n",
       "mean                       9.501224                    44.076513   \n",
       "std                        2.787537                     5.129784   \n",
       "min                        0.000000                     0.000000   \n",
       "25%                        7.722820                    43.402215   \n",
       "50%                        9.218961                    45.011244   \n",
       "75%                       10.947813                    46.275313   \n",
       "max                       19.615720                    52.756638   \n",
       "\n",
       "       final.output.recovery  final.output.tail_ag  final.output.tail_pb  \\\n",
       "count           19439.000000          19438.000000          19338.000000   \n",
       "mean               67.050208              9.688589              2.705795   \n",
       "std                10.125840              2.328642              0.949077   \n",
       "min                 0.000000              0.000000              0.000000   \n",
       "25%                63.299712              8.062878              2.040119   \n",
       "50%                68.172738              9.743623              2.748730   \n",
       "75%                72.686642             11.134294              3.333216   \n",
       "max               100.000000             19.552149              5.804178   \n",
       "\n",
       "       final.output.tail_sol  final.output.tail_au  \\\n",
       "count           19433.000000          19439.000000   \n",
       "mean               10.583728              3.042467   \n",
       "std                 2.868782              0.922808   \n",
       "min                 0.000000              0.000000   \n",
       "25%                 8.938947              2.461138   \n",
       "50%                10.622456              2.984909   \n",
       "75%                12.104271              3.571351   \n",
       "max                22.317730              8.245022   \n",
       "\n",
       "       primary_cleaner.input.sulfate  ...  \\\n",
       "count                   19415.000000  ...   \n",
       "mean                      144.624774  ...   \n",
       "std                        44.464071  ...   \n",
       "min                         0.003112  ...   \n",
       "25%                       114.107029  ...   \n",
       "50%                       143.232103  ...   \n",
       "75%                       175.075656  ...   \n",
       "max                       265.983123  ...   \n",
       "\n",
       "       secondary_cleaner.state.floatbank4_a_air  \\\n",
       "count                              19433.000000   \n",
       "mean                                  18.987674   \n",
       "std                                    5.411058   \n",
       "min                                    0.000000   \n",
       "25%                                   14.975734   \n",
       "50%                                   18.017481   \n",
       "75%                                   23.012470   \n",
       "max                                   30.115735   \n",
       "\n",
       "       secondary_cleaner.state.floatbank4_a_level  \\\n",
       "count                                19438.000000   \n",
       "mean                                  -485.894516   \n",
       "std                                     47.758570   \n",
       "min                                   -799.798523   \n",
       "25%                                   -500.704892   \n",
       "50%                                   -499.837793   \n",
       "75%                                   -498.249730   \n",
       "max                                   -245.239184   \n",
       "\n",
       "       secondary_cleaner.state.floatbank4_b_air  \\\n",
       "count                              19438.000000   \n",
       "mean                                  15.010366   \n",
       "std                                    4.890228   \n",
       "min                                    0.000000   \n",
       "25%                                   11.940294   \n",
       "50%                                   14.971014   \n",
       "75%                                   19.034162   \n",
       "max                                   31.269706   \n",
       "\n",
       "       secondary_cleaner.state.floatbank4_b_level  \\\n",
       "count                                19438.000000   \n",
       "mean                                  -461.078636   \n",
       "std                                     67.405524   \n",
       "min                                   -800.836914   \n",
       "25%                                   -500.187742   \n",
       "50%                                   -499.459786   \n",
       "75%                                   -400.118106   \n",
       "max                                     -6.506986   \n",
       "\n",
       "       secondary_cleaner.state.floatbank5_a_air  \\\n",
       "count                              19438.000000   \n",
       "mean                                  15.694452   \n",
       "std                                    5.510974   \n",
       "min                                   -0.372054   \n",
       "25%                                   10.988606   \n",
       "50%                                   15.000036   \n",
       "75%                                   18.026190   \n",
       "max                                   43.709931   \n",
       "\n",
       "       secondary_cleaner.state.floatbank5_a_level  \\\n",
       "count                                19438.000000   \n",
       "mean                                  -488.684065   \n",
       "std                                     34.533396   \n",
       "min                                   -797.323986   \n",
       "25%                                   -500.458467   \n",
       "50%                                   -499.802605   \n",
       "75%                                   -498.384187   \n",
       "max                                   -244.483566   \n",
       "\n",
       "       secondary_cleaner.state.floatbank5_b_air  \\\n",
       "count                              19438.000000   \n",
       "mean                                  12.198224   \n",
       "std                                    5.333024   \n",
       "min                                    0.528083   \n",
       "25%                                    8.971105   \n",
       "50%                                   11.019433   \n",
       "75%                                   14.019088   \n",
       "max                                   27.926001   \n",
       "\n",
       "       secondary_cleaner.state.floatbank5_b_level  \\\n",
       "count                                19438.000000   \n",
       "mean                                  -487.149827   \n",
       "std                                     38.347312   \n",
       "min                                   -800.220337   \n",
       "25%                                   -500.129462   \n",
       "50%                                   -499.935317   \n",
       "75%                                   -499.436708   \n",
       "max                                   -137.740004   \n",
       "\n",
       "       secondary_cleaner.state.floatbank6_a_air  \\\n",
       "count                              19437.000000   \n",
       "mean                                  18.959024   \n",
       "std                                    5.550498   \n",
       "min                                   -0.079426   \n",
       "25%                                   14.983037   \n",
       "50%                                   19.960541   \n",
       "75%                                   24.003170   \n",
       "max                                   32.188906   \n",
       "\n",
       "       secondary_cleaner.state.floatbank6_a_level  \n",
       "count                                19438.000000  \n",
       "mean                                  -505.436305  \n",
       "std                                     37.689057  \n",
       "min                                   -809.741464  \n",
       "25%                                   -500.728067  \n",
       "50%                                   -500.048400  \n",
       "75%                                   -499.495378  \n",
       "max                                   -104.427459  \n",
       "\n",
       "[8 rows x 86 columns]"
      ]
     },
     "execution_count": 4,
     "metadata": {},
     "output_type": "execute_result"
    }
   ],
   "source": [
    "full_data = pd.read_csv(\"/datasets/gold_recovery_full_new.csv\")\n",
    "#full_data.info() пока убрала, чтобы меньше времени тратилось на код\n",
    "print('Количество пропусков в каждом столбце', full_data.isna().mean())\n",
    "full_data.describe() "
   ]
  },
  {
   "cell_type": "markdown",
   "metadata": {},
   "source": [
    "Предобработка"
   ]
  },
  {
   "cell_type": "code",
   "execution_count": 5,
   "metadata": {},
   "outputs": [
    {
     "name": "stdout",
     "output_type": "stream",
     "text": [
      "число строк и колонок: (14149, 87)\n",
      "пропуски 4100\n",
      "дупликаты: 0\n",
      "число строк и колонок: (5290, 53)\n",
      "пропуски 90\n",
      "дупликаты: 0\n",
      "число строк и колонок: (19439, 87)\n",
      "пропуски 4481\n",
      "дупликаты: 0\n"
     ]
    }
   ],
   "source": [
    "datasets = [train_data, test_data, full_data]\n",
    "for dataset in datasets:\n",
    "    dataset[\"date\"] = pd.to_datetime(dataset[\"date\"]) # приведем ΄столбцы с датами к нужному формату\n",
    "    print(\"число строк и колонок:\", dataset.shape)\n",
    "    print(\"пропуски\", dataset.isna().sum().sum())\n",
    "    print(\"дупликаты:\", dataset.duplicated().sum())    "
   ]
  },
  {
   "cell_type": "code",
   "execution_count": 6,
   "metadata": {
    "scrolled": false
   },
   "outputs": [],
   "source": [
    "#Обработаем пропуски в столбцах, связанных с добычей золота:\n",
    "train_data.dropna(subset=['rougher.output.concentrate_au', 'rougher.input.feed_au',\n",
    "                                   'rougher.output.tail_au','rougher.output.recovery'], inplace=True)\n",
    "#Посмотрим, что получилось в результате:\n",
    "#train_data.info() пока убрала, чтобы меньше времени тратилось на код"
   ]
  },
  {
   "cell_type": "code",
   "execution_count": 7,
   "metadata": {},
   "outputs": [
    {
     "data": {
      "text/plain": [
       "['final.output.concentrate_sol',\n",
       " 'rougher.output.tail_ag',\n",
       " 'primary_cleaner.output.concentrate_au',\n",
       " 'rougher.output.concentrate_au',\n",
       " 'primary_cleaner.output.tail_ag',\n",
       " 'final.output.tail_pb',\n",
       " 'primary_cleaner.output.concentrate_pb',\n",
       " 'rougher.output.tail_au',\n",
       " 'primary_cleaner.output.concentrate_sol',\n",
       " 'primary_cleaner.output.tail_au',\n",
       " 'final.output.recovery',\n",
       " 'final.output.tail_ag',\n",
       " 'rougher.output.tail_sol',\n",
       " 'primary_cleaner.output.tail_sol',\n",
       " 'secondary_cleaner.output.tail_pb',\n",
       " 'rougher.output.concentrate_ag',\n",
       " 'secondary_cleaner.output.tail_ag',\n",
       " 'rougher.output.tail_pb',\n",
       " 'final.output.tail_au',\n",
       " 'rougher.output.recovery',\n",
       " 'rougher.output.concentrate_pb',\n",
       " 'rougher.calculation.floatbank10_sulfate_to_au_feed',\n",
       " 'final.output.concentrate_ag',\n",
       " 'final.output.concentrate_pb',\n",
       " 'primary_cleaner.output.concentrate_ag',\n",
       " 'final.output.concentrate_au',\n",
       " 'primary_cleaner.output.tail_pb',\n",
       " 'final.output.tail_sol',\n",
       " 'rougher.calculation.au_pb_ratio',\n",
       " 'secondary_cleaner.output.tail_sol',\n",
       " 'rougher.output.concentrate_sol',\n",
       " 'secondary_cleaner.output.tail_au',\n",
       " 'rougher.calculation.sulfate_to_au_concentrate',\n",
       " 'rougher.calculation.floatbank11_sulfate_to_au_feed']"
      ]
     },
     "metadata": {},
     "output_type": "display_data"
    },
    {
     "data": {
      "text/plain": [
       "[]"
      ]
     },
     "metadata": {},
     "output_type": "display_data"
    }
   ],
   "source": [
    "# Отсутствующие столбцы в test_data\n",
    "missing_columns = list(set(train_data.columns) - set(test_data.columns))\n",
    "display(missing_columns)\n",
    "# Отсутствующие столбцы в train_data\n",
    "missing_columns_a = list(set(full_data.columns) - set(train_data.columns))\n",
    "display(missing_columns_a)"
   ]
  },
  {
   "cell_type": "code",
   "execution_count": 8,
   "metadata": {},
   "outputs": [],
   "source": [
    "#подготовим тестовую выборку к использованию в моделях:\n",
    "test_data = test_data.dropna(subset= ['date'],axis = 0)\n",
    "test_for_target = test_data.merge(full_data.loc[:,['date',\"rougher.output.recovery\",\"final.output.recovery\"]],on = 'date')\n",
    "test_for_target = test_for_target.dropna(subset=[\"rougher.output.recovery\",\"final.output.recovery\"],axis = 0)\n",
    "test_data = test_for_target.loc[:,test_data.columns]\n",
    "#используем метод KNNImputer() для пополнения тестовой выборки\n",
    "test_data = test_data.drop(\"date\",axis =1)\n",
    "imputer = KNNImputer()\n",
    "test_without_nan = pd.DataFrame(data = imputer.fit_transform(test_data),\n",
    "             columns= test_data.columns,\n",
    "             index = test_data.index)"
   ]
  },
  {
   "cell_type": "markdown",
   "metadata": {},
   "source": [
    "Набор столбцов в тестовой выборке меньше всех, в полной и тренировочной наборы совпадают. При этом отсутствуют параметры, которые обозначают характеристики этапов обработки"
   ]
  },
  {
   "cell_type": "code",
   "execution_count": 9,
   "metadata": {},
   "outputs": [
    {
     "name": "stdout",
     "output_type": "stream",
     "text": [
      "Абсолютная средняя ошибка по полной выборке = 1.0894863727510426e-14\n",
      "Абсолютная средняя ошибка по тренировочной выборке = 1.0748911125799084e-14\n"
     ]
    }
   ],
   "source": [
    "def MAE_au(data):\n",
    "    concentrate_au = data['rougher.output.concentrate_au']\n",
    "    feed_au = data['rougher.input.feed_au']\n",
    "    tail_au = data['rougher.output.tail_au']\n",
    "    in_data_recovery = data['rougher.output.recovery']\n",
    "    calculated_recovery = concentrate_au * (feed_au - tail_au) / feed_au/ (concentrate_au - tail_au) * 100\n",
    "    return MAE(in_data_recovery, calculated_recovery)\n",
    "print('Абсолютная средняя ошибка по полной выборке =', MAE_au(full_data))\n",
    "print('Абсолютная средняя ошибка по тренировочной выборке =', MAE_au(train_data))\n",
    "#print('Абсолютная средняя ошибка по тестовой выборке =', MAE_au(test_data)) так как отсутствует столбец 'rougher.output.concentrate_au'\n",
    "#то нет возможности посчитать для этой выборки этот показатель."
   ]
  },
  {
   "cell_type": "code",
   "execution_count": 10,
   "metadata": {},
   "outputs": [
    {
     "data": {
      "text/html": [
       "<div>\n",
       "<style scoped>\n",
       "    .dataframe tbody tr th:only-of-type {\n",
       "        vertical-align: middle;\n",
       "    }\n",
       "\n",
       "    .dataframe tbody tr th {\n",
       "        vertical-align: top;\n",
       "    }\n",
       "\n",
       "    .dataframe thead th {\n",
       "        text-align: right;\n",
       "    }\n",
       "</style>\n",
       "<table border=\"1\" class=\"dataframe\">\n",
       "  <thead>\n",
       "    <tr style=\"text-align: right;\">\n",
       "      <th></th>\n",
       "      <th>final.output.concentrate_ag</th>\n",
       "      <th>final.output.concentrate_pb</th>\n",
       "      <th>final.output.concentrate_sol</th>\n",
       "      <th>final.output.concentrate_au</th>\n",
       "      <th>final.output.recovery</th>\n",
       "      <th>final.output.tail_ag</th>\n",
       "      <th>final.output.tail_pb</th>\n",
       "      <th>final.output.tail_sol</th>\n",
       "      <th>final.output.tail_au</th>\n",
       "      <th>primary_cleaner.input.sulfate</th>\n",
       "      <th>...</th>\n",
       "      <th>secondary_cleaner.state.floatbank4_a_air</th>\n",
       "      <th>secondary_cleaner.state.floatbank4_a_level</th>\n",
       "      <th>secondary_cleaner.state.floatbank4_b_air</th>\n",
       "      <th>secondary_cleaner.state.floatbank4_b_level</th>\n",
       "      <th>secondary_cleaner.state.floatbank5_a_air</th>\n",
       "      <th>secondary_cleaner.state.floatbank5_a_level</th>\n",
       "      <th>secondary_cleaner.state.floatbank5_b_air</th>\n",
       "      <th>secondary_cleaner.state.floatbank5_b_level</th>\n",
       "      <th>secondary_cleaner.state.floatbank6_a_air</th>\n",
       "      <th>secondary_cleaner.state.floatbank6_a_level</th>\n",
       "    </tr>\n",
       "  </thead>\n",
       "  <tbody>\n",
       "    <tr>\n",
       "      <th>count</th>\n",
       "      <td>14148.000000</td>\n",
       "      <td>14148.000000</td>\n",
       "      <td>13938.000000</td>\n",
       "      <td>14149.000000</td>\n",
       "      <td>14149.000000</td>\n",
       "      <td>14149.000000</td>\n",
       "      <td>14049.000000</td>\n",
       "      <td>14144.000000</td>\n",
       "      <td>14149.000000</td>\n",
       "      <td>14129.000000</td>\n",
       "      <td>...</td>\n",
       "      <td>14143.000000</td>\n",
       "      <td>14148.000000</td>\n",
       "      <td>14148.000000</td>\n",
       "      <td>14148.000000</td>\n",
       "      <td>14148.000000</td>\n",
       "      <td>14148.000000</td>\n",
       "      <td>14148.000000</td>\n",
       "      <td>14148.000000</td>\n",
       "      <td>14147.000000</td>\n",
       "      <td>14148.000000</td>\n",
       "    </tr>\n",
       "    <tr>\n",
       "      <th>mean</th>\n",
       "      <td>5.142034</td>\n",
       "      <td>10.132960</td>\n",
       "      <td>9.202849</td>\n",
       "      <td>44.003792</td>\n",
       "      <td>66.518832</td>\n",
       "      <td>9.607035</td>\n",
       "      <td>2.597298</td>\n",
       "      <td>10.512122</td>\n",
       "      <td>2.918421</td>\n",
       "      <td>133.320659</td>\n",
       "      <td>...</td>\n",
       "      <td>19.985454</td>\n",
       "      <td>-478.696836</td>\n",
       "      <td>15.487065</td>\n",
       "      <td>-460.229416</td>\n",
       "      <td>16.775136</td>\n",
       "      <td>-483.956022</td>\n",
       "      <td>13.064590</td>\n",
       "      <td>-483.966564</td>\n",
       "      <td>19.577539</td>\n",
       "      <td>-506.798480</td>\n",
       "    </tr>\n",
       "    <tr>\n",
       "      <th>std</th>\n",
       "      <td>1.369586</td>\n",
       "      <td>1.654930</td>\n",
       "      <td>2.790516</td>\n",
       "      <td>4.905261</td>\n",
       "      <td>10.295402</td>\n",
       "      <td>2.319069</td>\n",
       "      <td>0.971843</td>\n",
       "      <td>3.003617</td>\n",
       "      <td>0.903712</td>\n",
       "      <td>39.431659</td>\n",
       "      <td>...</td>\n",
       "      <td>5.657723</td>\n",
       "      <td>50.736021</td>\n",
       "      <td>5.255655</td>\n",
       "      <td>58.843586</td>\n",
       "      <td>5.831906</td>\n",
       "      <td>37.892788</td>\n",
       "      <td>5.765617</td>\n",
       "      <td>39.207913</td>\n",
       "      <td>5.764417</td>\n",
       "      <td>37.079249</td>\n",
       "    </tr>\n",
       "    <tr>\n",
       "      <th>min</th>\n",
       "      <td>0.000000</td>\n",
       "      <td>0.000000</td>\n",
       "      <td>0.000000</td>\n",
       "      <td>0.000000</td>\n",
       "      <td>0.000000</td>\n",
       "      <td>0.000000</td>\n",
       "      <td>0.000000</td>\n",
       "      <td>0.000000</td>\n",
       "      <td>0.000000</td>\n",
       "      <td>0.003112</td>\n",
       "      <td>...</td>\n",
       "      <td>0.000000</td>\n",
       "      <td>-799.709069</td>\n",
       "      <td>0.000000</td>\n",
       "      <td>-799.889113</td>\n",
       "      <td>-0.372054</td>\n",
       "      <td>-797.142475</td>\n",
       "      <td>0.646208</td>\n",
       "      <td>-800.006180</td>\n",
       "      <td>0.195324</td>\n",
       "      <td>-809.398668</td>\n",
       "    </tr>\n",
       "    <tr>\n",
       "      <th>25%</th>\n",
       "      <td>4.211620</td>\n",
       "      <td>9.297355</td>\n",
       "      <td>7.484645</td>\n",
       "      <td>43.276111</td>\n",
       "      <td>62.545817</td>\n",
       "      <td>7.997429</td>\n",
       "      <td>1.905973</td>\n",
       "      <td>8.811324</td>\n",
       "      <td>2.368607</td>\n",
       "      <td>107.006651</td>\n",
       "      <td>...</td>\n",
       "      <td>14.990775</td>\n",
       "      <td>-500.628656</td>\n",
       "      <td>11.894558</td>\n",
       "      <td>-500.149000</td>\n",
       "      <td>11.083980</td>\n",
       "      <td>-500.363177</td>\n",
       "      <td>8.994405</td>\n",
       "      <td>-500.105994</td>\n",
       "      <td>14.989304</td>\n",
       "      <td>-500.745104</td>\n",
       "    </tr>\n",
       "    <tr>\n",
       "      <th>50%</th>\n",
       "      <td>4.994652</td>\n",
       "      <td>10.297144</td>\n",
       "      <td>8.845462</td>\n",
       "      <td>44.872436</td>\n",
       "      <td>67.432775</td>\n",
       "      <td>9.480270</td>\n",
       "      <td>2.592022</td>\n",
       "      <td>10.514621</td>\n",
       "      <td>2.851025</td>\n",
       "      <td>133.018328</td>\n",
       "      <td>...</td>\n",
       "      <td>20.001789</td>\n",
       "      <td>-499.681450</td>\n",
       "      <td>14.975536</td>\n",
       "      <td>-499.388738</td>\n",
       "      <td>17.932223</td>\n",
       "      <td>-499.702452</td>\n",
       "      <td>11.997547</td>\n",
       "      <td>-499.914556</td>\n",
       "      <td>19.984175</td>\n",
       "      <td>-500.061431</td>\n",
       "    </tr>\n",
       "    <tr>\n",
       "      <th>75%</th>\n",
       "      <td>5.859540</td>\n",
       "      <td>11.170603</td>\n",
       "      <td>10.487508</td>\n",
       "      <td>46.166425</td>\n",
       "      <td>72.346428</td>\n",
       "      <td>11.003707</td>\n",
       "      <td>3.241723</td>\n",
       "      <td>11.933009</td>\n",
       "      <td>3.434764</td>\n",
       "      <td>159.825396</td>\n",
       "      <td>...</td>\n",
       "      <td>24.990826</td>\n",
       "      <td>-477.472413</td>\n",
       "      <td>20.059375</td>\n",
       "      <td>-400.039008</td>\n",
       "      <td>21.346550</td>\n",
       "      <td>-487.712108</td>\n",
       "      <td>17.982903</td>\n",
       "      <td>-453.186936</td>\n",
       "      <td>24.991623</td>\n",
       "      <td>-499.536466</td>\n",
       "    </tr>\n",
       "    <tr>\n",
       "      <th>max</th>\n",
       "      <td>16.001945</td>\n",
       "      <td>17.031899</td>\n",
       "      <td>18.124851</td>\n",
       "      <td>52.756638</td>\n",
       "      <td>100.000000</td>\n",
       "      <td>19.552149</td>\n",
       "      <td>5.639565</td>\n",
       "      <td>22.317730</td>\n",
       "      <td>8.197408</td>\n",
       "      <td>250.127834</td>\n",
       "      <td>...</td>\n",
       "      <td>30.115735</td>\n",
       "      <td>-245.239184</td>\n",
       "      <td>24.007913</td>\n",
       "      <td>-145.071088</td>\n",
       "      <td>43.709931</td>\n",
       "      <td>-275.073125</td>\n",
       "      <td>27.926001</td>\n",
       "      <td>-157.396071</td>\n",
       "      <td>32.188906</td>\n",
       "      <td>-104.427459</td>\n",
       "    </tr>\n",
       "  </tbody>\n",
       "</table>\n",
       "<p>8 rows × 86 columns</p>\n",
       "</div>"
      ],
      "text/plain": [
       "       final.output.concentrate_ag  final.output.concentrate_pb  \\\n",
       "count                 14148.000000                 14148.000000   \n",
       "mean                      5.142034                    10.132960   \n",
       "std                       1.369586                     1.654930   \n",
       "min                       0.000000                     0.000000   \n",
       "25%                       4.211620                     9.297355   \n",
       "50%                       4.994652                    10.297144   \n",
       "75%                       5.859540                    11.170603   \n",
       "max                      16.001945                    17.031899   \n",
       "\n",
       "       final.output.concentrate_sol  final.output.concentrate_au  \\\n",
       "count                  13938.000000                 14149.000000   \n",
       "mean                       9.202849                    44.003792   \n",
       "std                        2.790516                     4.905261   \n",
       "min                        0.000000                     0.000000   \n",
       "25%                        7.484645                    43.276111   \n",
       "50%                        8.845462                    44.872436   \n",
       "75%                       10.487508                    46.166425   \n",
       "max                       18.124851                    52.756638   \n",
       "\n",
       "       final.output.recovery  final.output.tail_ag  final.output.tail_pb  \\\n",
       "count           14149.000000          14149.000000          14049.000000   \n",
       "mean               66.518832              9.607035              2.597298   \n",
       "std                10.295402              2.319069              0.971843   \n",
       "min                 0.000000              0.000000              0.000000   \n",
       "25%                62.545817              7.997429              1.905973   \n",
       "50%                67.432775              9.480270              2.592022   \n",
       "75%                72.346428             11.003707              3.241723   \n",
       "max               100.000000             19.552149              5.639565   \n",
       "\n",
       "       final.output.tail_sol  final.output.tail_au  \\\n",
       "count           14144.000000          14149.000000   \n",
       "mean               10.512122              2.918421   \n",
       "std                 3.003617              0.903712   \n",
       "min                 0.000000              0.000000   \n",
       "25%                 8.811324              2.368607   \n",
       "50%                10.514621              2.851025   \n",
       "75%                11.933009              3.434764   \n",
       "max                22.317730              8.197408   \n",
       "\n",
       "       primary_cleaner.input.sulfate  ...  \\\n",
       "count                   14129.000000  ...   \n",
       "mean                      133.320659  ...   \n",
       "std                        39.431659  ...   \n",
       "min                         0.003112  ...   \n",
       "25%                       107.006651  ...   \n",
       "50%                       133.018328  ...   \n",
       "75%                       159.825396  ...   \n",
       "max                       250.127834  ...   \n",
       "\n",
       "       secondary_cleaner.state.floatbank4_a_air  \\\n",
       "count                              14143.000000   \n",
       "mean                                  19.985454   \n",
       "std                                    5.657723   \n",
       "min                                    0.000000   \n",
       "25%                                   14.990775   \n",
       "50%                                   20.001789   \n",
       "75%                                   24.990826   \n",
       "max                                   30.115735   \n",
       "\n",
       "       secondary_cleaner.state.floatbank4_a_level  \\\n",
       "count                                14148.000000   \n",
       "mean                                  -478.696836   \n",
       "std                                     50.736021   \n",
       "min                                   -799.709069   \n",
       "25%                                   -500.628656   \n",
       "50%                                   -499.681450   \n",
       "75%                                   -477.472413   \n",
       "max                                   -245.239184   \n",
       "\n",
       "       secondary_cleaner.state.floatbank4_b_air  \\\n",
       "count                              14148.000000   \n",
       "mean                                  15.487065   \n",
       "std                                    5.255655   \n",
       "min                                    0.000000   \n",
       "25%                                   11.894558   \n",
       "50%                                   14.975536   \n",
       "75%                                   20.059375   \n",
       "max                                   24.007913   \n",
       "\n",
       "       secondary_cleaner.state.floatbank4_b_level  \\\n",
       "count                                14148.000000   \n",
       "mean                                  -460.229416   \n",
       "std                                     58.843586   \n",
       "min                                   -799.889113   \n",
       "25%                                   -500.149000   \n",
       "50%                                   -499.388738   \n",
       "75%                                   -400.039008   \n",
       "max                                   -145.071088   \n",
       "\n",
       "       secondary_cleaner.state.floatbank5_a_air  \\\n",
       "count                              14148.000000   \n",
       "mean                                  16.775136   \n",
       "std                                    5.831906   \n",
       "min                                   -0.372054   \n",
       "25%                                   11.083980   \n",
       "50%                                   17.932223   \n",
       "75%                                   21.346550   \n",
       "max                                   43.709931   \n",
       "\n",
       "       secondary_cleaner.state.floatbank5_a_level  \\\n",
       "count                                14148.000000   \n",
       "mean                                  -483.956022   \n",
       "std                                     37.892788   \n",
       "min                                   -797.142475   \n",
       "25%                                   -500.363177   \n",
       "50%                                   -499.702452   \n",
       "75%                                   -487.712108   \n",
       "max                                   -275.073125   \n",
       "\n",
       "       secondary_cleaner.state.floatbank5_b_air  \\\n",
       "count                              14148.000000   \n",
       "mean                                  13.064590   \n",
       "std                                    5.765617   \n",
       "min                                    0.646208   \n",
       "25%                                    8.994405   \n",
       "50%                                   11.997547   \n",
       "75%                                   17.982903   \n",
       "max                                   27.926001   \n",
       "\n",
       "       secondary_cleaner.state.floatbank5_b_level  \\\n",
       "count                                14148.000000   \n",
       "mean                                  -483.966564   \n",
       "std                                     39.207913   \n",
       "min                                   -800.006180   \n",
       "25%                                   -500.105994   \n",
       "50%                                   -499.914556   \n",
       "75%                                   -453.186936   \n",
       "max                                   -157.396071   \n",
       "\n",
       "       secondary_cleaner.state.floatbank6_a_air  \\\n",
       "count                              14147.000000   \n",
       "mean                                  19.577539   \n",
       "std                                    5.764417   \n",
       "min                                    0.195324   \n",
       "25%                                   14.989304   \n",
       "50%                                   19.984175   \n",
       "75%                                   24.991623   \n",
       "max                                   32.188906   \n",
       "\n",
       "       secondary_cleaner.state.floatbank6_a_level  \n",
       "count                                14148.000000  \n",
       "mean                                  -506.798480  \n",
       "std                                     37.079249  \n",
       "min                                   -809.398668  \n",
       "25%                                   -500.745104  \n",
       "50%                                   -500.061431  \n",
       "75%                                   -499.536466  \n",
       "max                                   -104.427459  \n",
       "\n",
       "[8 rows x 86 columns]"
      ]
     },
     "metadata": {},
     "output_type": "display_data"
    }
   ],
   "source": [
    "display(train_data.describe())"
   ]
  },
  {
   "cell_type": "markdown",
   "metadata": {},
   "source": [
    "## Анализ данных"
   ]
  },
  {
   "cell_type": "code",
   "execution_count": 11,
   "metadata": {},
   "outputs": [
    {
     "data": {
      "image/png": "[encoded data removed]",
      "text/plain": [
       "<Figure size 864x648 with 1 Axes>"
      ]
     },
     "metadata": {
      "needs_background": "light"
     },
     "output_type": "display_data"
    }
   ],
   "source": [
    "plt.figure(figsize=[12,9])\n",
    "\n",
    "plt.hist(train_data['rougher.input.feed_size'], bins=200, label = 'Train', alpha=.5)\n",
    "plt.hist(test_data['rougher.input.feed_size'], bins=200, label = 'Test', alpha=.5)\n",
    "plt.hist(test_without_nan['rougher.input.feed_size'], bins=200, label = 'Test_without_nan', alpha=.5)\n",
    "\n",
    "plt.xlim([0, 500])\n",
    "plt.ylim([0, 1300])\n",
    "\n",
    "plt.xlabel(\"Размер гранул сырья\")\n",
    "plt.ylabel(\"Количество\")\n",
    "plt.legend(loc='upper right', fontsize='x-large')\n",
    "plt.title(\"Гистограмма распределения гранул сырья перед флотацией\")\n",
    "plt.show()"
   ]
  },
  {
   "cell_type": "markdown",
   "metadata": {},
   "source": [
    "Гистограммы распределения размера гранул сырья в двух выборках, тестовой и тренировочной, фактически совпадают по своему виду, за исключением числа данных"
   ]
  },
  {
   "cell_type": "markdown",
   "metadata": {},
   "source": [
    "Посмотрим на концентрацию металов на каждом из этапов"
   ]
  },
  {
   "cell_type": "code",
   "execution_count": 12,
   "metadata": {},
   "outputs": [
    {
     "name": "stdout",
     "output_type": "stream",
     "text": [
      "Концентрация до флотации\n",
      "Концентрация Серебра: 8.58, Свинца: 3.52, Золота: 7.87\n"
     ]
    },
    {
     "data": {
      "image/png": "[encoded data removed]",
      "text/plain": [
       "<Figure size 864x648 with 1 Axes>"
      ]
     },
     "metadata": {
      "needs_background": "light"
     },
     "output_type": "display_data"
    }
   ],
   "source": [
    "print(\"Концентрация до флотации\")\n",
    "print(\"Концентрация Серебра:{: 0.2f}, Свинца:{: 0.2f}, Золота:{: 0.2f}\".\n",
    "format(train_data['rougher.input.feed_ag'].mean(),\n",
    "train_data['rougher.input.feed_pb'].mean(),\n",
    "train_data['rougher.input.feed_au'].mean()))\n",
    "\n",
    "plt.figure(figsize=[12,9])\n",
    "plt.hist(train_data['rougher.input.feed_ag'], bins=100, label = 'Серебро', alpha=.5)\n",
    "plt.hist(train_data['rougher.input.feed_pb'], bins=100, label = 'Свинец', alpha=.5)\n",
    "plt.hist(train_data['rougher.input.feed_au'], bins=100, label = 'Золото', alpha=.5)\n",
    "\n",
    "plt.xlabel(\"Концентрация металла до флотации\")\n",
    "plt.ylabel(\"Количество результатов\")\n",
    "plt.legend(loc='upper right', fontsize='x-large')\n",
    "plt.title(\"Гистограмма распределения концентрации до флотации\")\n",
    "plt.show()"
   ]
  },
  {
   "cell_type": "code",
   "execution_count": 13,
   "metadata": {},
   "outputs": [
    {
     "name": "stdout",
     "output_type": "stream",
     "text": [
      "Концентрация после флотации\n",
      "Коцентрация Серебра: 11.78, Свинца: 7.66, Золота: 19.44\n"
     ]
    },
    {
     "data": {
      "image/png": "[encoded data removed]",
      "text/plain": [
       "<Figure size 864x648 with 1 Axes>"
      ]
     },
     "metadata": {
      "needs_background": "light"
     },
     "output_type": "display_data"
    }
   ],
   "source": [
    "print(\"Концентрация после флотации\")\n",
    "print(\"Коцентрация Серебра:{: 0.2f}, Свинца:{: 0.2f}, Золота:{: 0.2f}\".\n",
    "format(train_data[\"rougher.output.concentrate_ag\"].mean(),\n",
    "train_data[\"rougher.output.concentrate_pb\"].mean(),\n",
    "train_data[\"rougher.output.concentrate_au\"].mean()))\n",
    "\n",
    "plt.figure(figsize=[12,9])\n",
    "plt.hist(train_data['rougher.output.concentrate_ag'], bins=100, label = 'Серебро', alpha=.5)\n",
    "plt.hist(train_data['rougher.output.concentrate_pb'], bins=100, label = 'Свинец', alpha=.5)\n",
    "plt.hist(train_data['rougher.output.concentrate_au'], bins=100, label = 'Золото', alpha=.5)\n",
    "\n",
    "plt.xlabel(\"Концентрация металла после флотации\")\n",
    "plt.ylabel(\"Количество результатов\")\n",
    "plt.legend(loc='upper right', fontsize='x-large')\n",
    "plt.title(\"Гистограмма распределения концентрации после флотации\")\n",
    "plt.show()"
   ]
  },
  {
   "cell_type": "code",
   "execution_count": 14,
   "metadata": {},
   "outputs": [
    {
     "name": "stdout",
     "output_type": "stream",
     "text": [
      "Концентрация после первичной очистки\n",
      "Концентрация Серебра: 8.20, Свинца: 9.59, Золота: 32.39\n"
     ]
    },
    {
     "data": {
      "image/png": "[encoded data removed]",
      "text/plain": [
       "<Figure size 864x648 with 1 Axes>"
      ]
     },
     "metadata": {
      "needs_background": "light"
     },
     "output_type": "display_data"
    }
   ],
   "source": [
    "print(\"Концентрация после первичной очистки\")\n",
    "print(\"Концентрация Серебра:{: 0.2f}, Свинца:{: 0.2f}, Золота:{: 0.2f}\".\n",
    "format(train_data[\"primary_cleaner.output.concentrate_ag\"].mean(),\n",
    "train_data[\"primary_cleaner.output.concentrate_pb\"].mean(),\n",
    "train_data[\"primary_cleaner.output.concentrate_au\"].mean()))\n",
    "\n",
    "\n",
    "plt.figure(figsize=[12,9])\n",
    "plt.hist(train_data['primary_cleaner.output.concentrate_ag'], bins=100, label = 'Серебро', alpha=.5)\n",
    "plt.hist(train_data['primary_cleaner.output.concentrate_pb'], bins=100, label = 'Свинец', alpha=.5)\n",
    "plt.hist(train_data['primary_cleaner.output.concentrate_au'], bins=100, label = 'Золото', alpha=.5)\n",
    "\n",
    "plt.xlabel(\"Концентрация металла после первичной очистки\")\n",
    "plt.ylabel(\"Количество результатов\")\n",
    "plt.legend(loc='upper right', fontsize='x-large')\n",
    "plt.title(\"Гистограмма распределения концентрации после первичной очистки\")\n",
    "plt.show()"
   ]
  },
  {
   "cell_type": "code",
   "execution_count": 15,
   "metadata": {},
   "outputs": [
    {
     "name": "stdout",
     "output_type": "stream",
     "text": [
      "Концентрация после вторичной очистки\n",
      "Концентрация Серебра: 5.14, Свинца: 10.13, Золота: 44.00\n"
     ]
    },
    {
     "data": {
      "image/png": "[encoded data removed]",
      "text/plain": [
       "<Figure size 864x648 with 1 Axes>"
      ]
     },
     "metadata": {
      "needs_background": "light"
     },
     "output_type": "display_data"
    }
   ],
   "source": [
    "print(\"Концентрация после вторичной очистки\")\n",
    "print(\"Концентрация Серебра:{: 0.2f}, Свинца:{: 0.2f}, Золота:{: 0.2f}\".\n",
    "format(train_data[\"final.output.concentrate_ag\"].mean(),\n",
    "train_data[\"final.output.concentrate_pb\"].mean(),\n",
    "train_data[\"final.output.concentrate_au\"].mean()))\n",
    "\n",
    "plt.figure(figsize=[12,9])\n",
    "plt.hist(train_data['final.output.concentrate_ag'], bins=100, label = 'Серебро', alpha=.5)\n",
    "plt.hist(train_data['final.output.concentrate_pb'], bins=100, label = 'Свинец', alpha=.5)\n",
    "plt.hist(train_data['final.output.concentrate_au'], bins=100, label = 'Золото', alpha=.5)\n",
    "\n",
    "plt.xlabel(\"Концентрация металла после вторичной очистки\")\n",
    "plt.ylabel(\"Количество результатов\")\n",
    "plt.legend(loc='upper right', fontsize='x-large')\n",
    "plt.title(\"Гистограмма распределения концентрации после вторичной очистки\")\n",
    "plt.show()"
   ]
  },
  {
   "cell_type": "markdown",
   "metadata": {},
   "source": [
    "У золота и свинца концентрация после каждого этапа увеличивается, у серебра после второго этапа увеличивается, а в результате очисток падает ниже первоначального показателя. Видимо, часть металла теряется в процессе реакций с веществами, которые используют для очистки"
   ]
  },
  {
   "cell_type": "code",
   "execution_count": 16,
   "metadata": {},
   "outputs": [],
   "source": [
    "train_without_nan = pd.DataFrame(data = imputer.fit_transform(train_data.drop(['date'],axis = 1)),\n",
    "             columns= train_data.drop(['date'],axis = 1).columns,\n",
    "             index = train_data.index)\n",
    "train_without_nan = train_without_nan.drop(index = train_without_nan[train_without_nan[\"rougher.input.feed_au\"] < 1].index,\n",
    "                               axis = 0)\n",
    "train_without_nan = train_without_nan.drop(index = train_without_nan[train_without_nan[\"rougher.input.feed_ag\"] < 1].index,\n",
    "                               axis = 0)\n",
    "train_without_nan = train_without_nan.drop(index = train_without_nan[train_without_nan[\"rougher.input.feed_pb\"] < 1].index,\n",
    "                               axis = 0)\n",
    "\n",
    "\n",
    "train_without_nan = train_without_nan.drop(index = train_without_nan[train_without_nan[\"rougher.output.concentrate_au\"] < 1].index,\n",
    "                               axis = 0)\n",
    "train_without_nan = train_without_nan.drop(index = train_without_nan[train_without_nan[\"rougher.output.concentrate_ag\"] < 1].index,\n",
    "                               axis = 0)\n",
    "train_without_nan = train_without_nan.drop(index = train_without_nan[train_without_nan[\"rougher.output.concentrate_pb\"] < 1].index,\n",
    "                               axis = 0)\n",
    "\n",
    "\n",
    "train_without_nan = train_without_nan.drop(index = train_without_nan[train_without_nan[\"primary_cleaner.output.concentrate_au\"] < 1].index,\n",
    "                               axis = 0)\n",
    "train_without_nan = train_without_nan.drop(index = train_without_nan[train_without_nan[\"primary_cleaner.output.concentrate_ag\"] < 1].index,\n",
    "                               axis = 0)\n",
    "train_without_nan = train_without_nan.drop(index = train_without_nan[train_without_nan[\"primary_cleaner.output.concentrate_pb\"] < 1].index,\n",
    "                               axis = 0)\n",
    "\n",
    "train_without_nan = train_without_nan.drop(index = train_without_nan[train_without_nan[\"final.output.concentrate_au\"] < 1].index,\n",
    "                               axis = 0)\n",
    "train_without_nan = train_without_nan.drop(index = train_without_nan[train_without_nan[\"final.output.concentrate_ag\"] < 1].index,\n",
    "                               axis = 0)\n",
    "train_without_nan = train_without_nan.drop(index = train_without_nan[train_without_nan[\"final.output.concentrate_pb\"] < 1].index,\n",
    "                               axis = 0)"
   ]
  },
  {
   "cell_type": "code",
   "execution_count": 17,
   "metadata": {
    "scrolled": true
   },
   "outputs": [
    {
     "data": {
      "text/html": [
       "<div>\n",
       "<style scoped>\n",
       "    .dataframe tbody tr th:only-of-type {\n",
       "        vertical-align: middle;\n",
       "    }\n",
       "\n",
       "    .dataframe tbody tr th {\n",
       "        vertical-align: top;\n",
       "    }\n",
       "\n",
       "    .dataframe thead th {\n",
       "        text-align: right;\n",
       "    }\n",
       "</style>\n",
       "<table border=\"1\" class=\"dataframe\">\n",
       "  <thead>\n",
       "    <tr style=\"text-align: right;\">\n",
       "      <th></th>\n",
       "      <th>before_rougher</th>\n",
       "      <th>rougher</th>\n",
       "      <th>primary_cleaner</th>\n",
       "      <th>final</th>\n",
       "    </tr>\n",
       "  </thead>\n",
       "  <tbody>\n",
       "    <tr>\n",
       "      <th>13493</th>\n",
       "      <td>53.496205</td>\n",
       "      <td>70.081175</td>\n",
       "      <td>53.232884</td>\n",
       "      <td>67.321190</td>\n",
       "    </tr>\n",
       "    <tr>\n",
       "      <th>10657</th>\n",
       "      <td>64.463987</td>\n",
       "      <td>72.706944</td>\n",
       "      <td>63.949023</td>\n",
       "      <td>69.998698</td>\n",
       "    </tr>\n",
       "    <tr>\n",
       "      <th>1116</th>\n",
       "      <td>40.614049</td>\n",
       "      <td>55.509740</td>\n",
       "      <td>63.840641</td>\n",
       "      <td>65.753213</td>\n",
       "    </tr>\n",
       "    <tr>\n",
       "      <th>6937</th>\n",
       "      <td>62.757573</td>\n",
       "      <td>68.172858</td>\n",
       "      <td>54.656037</td>\n",
       "      <td>72.056141</td>\n",
       "    </tr>\n",
       "    <tr>\n",
       "      <th>2466</th>\n",
       "      <td>61.676525</td>\n",
       "      <td>79.789116</td>\n",
       "      <td>72.163149</td>\n",
       "      <td>70.347943</td>\n",
       "    </tr>\n",
       "    <tr>\n",
       "      <th>529</th>\n",
       "      <td>47.141239</td>\n",
       "      <td>69.836306</td>\n",
       "      <td>69.439121</td>\n",
       "      <td>70.971021</td>\n",
       "    </tr>\n",
       "    <tr>\n",
       "      <th>2818</th>\n",
       "      <td>45.456822</td>\n",
       "      <td>77.132353</td>\n",
       "      <td>55.986417</td>\n",
       "      <td>67.934697</td>\n",
       "    </tr>\n",
       "    <tr>\n",
       "      <th>11196</th>\n",
       "      <td>57.636691</td>\n",
       "      <td>65.892857</td>\n",
       "      <td>60.805993</td>\n",
       "      <td>68.977822</td>\n",
       "    </tr>\n",
       "    <tr>\n",
       "      <th>5627</th>\n",
       "      <td>58.965363</td>\n",
       "      <td>75.012293</td>\n",
       "      <td>61.827760</td>\n",
       "      <td>75.378683</td>\n",
       "    </tr>\n",
       "    <tr>\n",
       "      <th>2406</th>\n",
       "      <td>56.629751</td>\n",
       "      <td>81.559911</td>\n",
       "      <td>68.831487</td>\n",
       "      <td>69.326423</td>\n",
       "    </tr>\n",
       "  </tbody>\n",
       "</table>\n",
       "</div>"
      ],
      "text/plain": [
       "       before_rougher    rougher  primary_cleaner      final\n",
       "13493       53.496205  70.081175        53.232884  67.321190\n",
       "10657       64.463987  72.706944        63.949023  69.998698\n",
       "1116        40.614049  55.509740        63.840641  65.753213\n",
       "6937        62.757573  68.172858        54.656037  72.056141\n",
       "2466        61.676525  79.789116        72.163149  70.347943\n",
       "529         47.141239  69.836306        69.439121  70.971021\n",
       "2818        45.456822  77.132353        55.986417  67.934697\n",
       "11196       57.636691  65.892857        60.805993  68.977822\n",
       "5627        58.965363  75.012293        61.827760  75.378683\n",
       "2406        56.629751  81.559911        68.831487  69.326423"
      ]
     },
     "metadata": {},
     "output_type": "display_data"
    }
   ],
   "source": [
    "def sum_concentrate(data):\n",
    "    sum_conc = pd.DataFrame()\n",
    "    before_rougher = 'rougher.input.feed_'\n",
    "    rougher = 'rougher.output.concentrate_'\n",
    "    primary_cleaner = 'primary_cleaner.output.concentrate_'\n",
    "    final = 'final.output.concentrate_'\n",
    "\n",
    "    sum_conc['before_rougher'] = data[[before_rougher+'au', before_rougher+'ag', before_rougher+'pb', before_rougher+'sol']].sum(axis=1)\n",
    "    sum_conc['rougher'] = data[[rougher+'au', rougher+'ag', rougher+'pb', rougher+'sol']].sum(axis=1)\n",
    "    sum_conc['primary_cleaner'] = data[[primary_cleaner+'au', primary_cleaner+'ag', primary_cleaner+'pb', primary_cleaner+'sol']].sum(axis=1)\n",
    "    sum_conc['final'] = data[[final+'au', final+'ag', final+'pb', final+'sol']].sum(axis=1)\n",
    "    return sum_conc\n",
    "\n",
    "sums_train = sum_concentrate(train_without_nan)\n",
    "display(sums_train.sample(10))"
   ]
  },
  {
   "cell_type": "code",
   "execution_count": 18,
   "metadata": {},
   "outputs": [
    {
     "data": {
      "image/png": "[encoded data removed]",
      "text/plain": [
       "<Figure size 864x648 with 1 Axes>"
      ]
     },
     "metadata": {
      "needs_background": "light"
     },
     "output_type": "display_data"
    }
   ],
   "source": [
    "plt.figure(figsize=[12,9])\n",
    "plt.hist(sums_train['before_rougher'], bins=100, label = 'до флотации', alpha=.5)\n",
    "plt.hist(sums_train['rougher'], bins=100, label = 'после флотации', alpha=.5)\n",
    "plt.hist(sums_train['primary_cleaner'], bins=100, label = 'после первичной очистки', alpha=.5)\n",
    "plt.hist(sums_train['final'], bins=100, label = 'после вторичной очистки', alpha=.5)\n",
    "\n",
    "plt.xlabel(\"суммарная концентрация на этапах\")\n",
    "plt.ylabel(\"Количество результатов\")\n",
    "plt.legend(loc='upper right', fontsize='x-large')\n",
    "plt.title(\"Гистограмма суммарной концентрации\")\n",
    "plt.show()"
   ]
  },
  {
   "cell_type": "markdown",
   "metadata": {},
   "source": [
    "Изучены концетрации основных веществ на разных этапах очистки и представлены в виде графиков\n",
    "\n",
    "Размер гранул тестовой и обучающей выборки на начальном этапе представлен в виде графика.\n",
    "\n",
    "Создана таблица суммарной концентрации веществ на разных этапах."
   ]
  },
  {
   "cell_type": "markdown",
   "metadata": {},
   "source": [
    "## Модель"
   ]
  },
  {
   "cell_type": "markdown",
   "metadata": {},
   "source": [
    "Целевые признаки:\n",
    "\n",
    "rougher.output.recovery эффективность обогащения чернового концентрата;\n",
    "    \n",
    "final.output.recovery эффективность обогащения финального концентрата "
   ]
  },
  {
   "cell_type": "markdown",
   "metadata": {},
   "source": [
    "Функция для расчета sMAPE\n",
    "\n",
    "sMAPE=1N∑i=1N|yi−yi^|(|yi|+|yi^|)/2×100\n",
    "\n",
    "где:\n",
    "\n",
    "yi\n",
    "— значение целевого признака для объекта с порядковым номером i в выборке, на которой измеряется качество\n",
    "yi^ — значение предсказания для объекта с порядковым номером i, например, в тестовой выборке\n",
    "N — количество объектов в выборке\n",
    "∑Ni=1 — суммирование по всем объектам выборки (i меняется от 1 до N)."
   ]
  },
  {
   "cell_type": "code",
   "execution_count": 19,
   "metadata": {},
   "outputs": [
    {
     "data": {
      "text/plain": [
       "final.output.concentrate_ag                   0.0\n",
       "final.output.concentrate_pb                   0.0\n",
       "final.output.concentrate_sol                  0.0\n",
       "final.output.concentrate_au                   0.0\n",
       "final.output.recovery                         0.0\n",
       "                                             ... \n",
       "secondary_cleaner.state.floatbank5_a_level    0.0\n",
       "secondary_cleaner.state.floatbank5_b_air      0.0\n",
       "secondary_cleaner.state.floatbank5_b_level    0.0\n",
       "secondary_cleaner.state.floatbank6_a_air      0.0\n",
       "secondary_cleaner.state.floatbank6_a_level    0.0\n",
       "Length: 86, dtype: float64"
      ]
     },
     "execution_count": 19,
     "metadata": {},
     "output_type": "execute_result"
    }
   ],
   "source": [
    "#подготовим данные к модели\n",
    "good_train_data = train_without_nan.dropna()\n",
    "good_train_data.isna().mean()"
   ]
  },
  {
   "cell_type": "code",
   "execution_count": 20,
   "metadata": {},
   "outputs": [],
   "source": [
    "good_test_data = test_without_nan.dropna()\n",
    "good_test_data.isna().mean()\n",
    "features_columns = good_test_data.columns[1:]\n",
    "rougher_features_columns = set(features_columns[12:34])\n",
    "final_features_columns = set(features_columns)\n",
    "#display(rougher_features_columns) скрыла, чтобы быстрее код работал\n",
    "#display(final_features_columns) скрыла, чтобы быстрее код работал"
   ]
  },
  {
   "cell_type": "code",
   "execution_count": 21,
   "metadata": {},
   "outputs": [],
   "source": [
    "# Подготовка признаков для final.output.recovery\n",
    "columns_to_delete = set(good_train_data.columns) - final_features_columns\n",
    "#print(columns_to_delete)\n",
    "train_features_final = good_train_data.drop(columns_to_delete, axis=1)\n",
    "#print(train_features_final.columns) скрыла, чтобы быстрее код работал\n",
    "\n",
    "# Подготовка признаков для rougher.output.recovery\n",
    "columns_to_delete = set(train_features_final.columns) - rougher_features_columns\n",
    "#print(columns_to_delete) скрыла, чтобы быстрее код работал\n",
    "train_features_rougher = train_features_final.drop(columns_to_delete, axis=1)\n",
    "#print(train_features_rougher.columns) скрыла, чтобы быстрее код работал"
   ]
  },
  {
   "cell_type": "markdown",
   "metadata": {},
   "source": [
    "Целевые признаки"
   ]
  },
  {
   "cell_type": "code",
   "execution_count": 22,
   "metadata": {},
   "outputs": [],
   "source": [
    "train_target_final = good_train_data['final.output.recovery']\n",
    "train_target_rougher = good_train_data['rougher.output.recovery']"
   ]
  },
  {
   "cell_type": "code",
   "execution_count": 23,
   "metadata": {},
   "outputs": [],
   "source": [
    "#Признаки тестовой выборки\n",
    "test_target_rougher = test_for_target[\"rougher.output.recovery\"]\n",
    "test_target_final = test_for_target[\"final.output.recovery\"]\n",
    "columns_to_delete = set(test_without_nan.columns) - final_features_columns\n",
    "test_features_final = test_without_nan.drop(columns_to_delete, axis=1)\n",
    "columns_to_delete = set(test_features_final.columns) - rougher_features_columns\n",
    "test_features_rougher = test_features_final.drop(columns_to_delete, axis=1)"
   ]
  },
  {
   "cell_type": "code",
   "execution_count": 24,
   "metadata": {},
   "outputs": [
    {
     "data": {
      "text/plain": [
       "dict_keys(['bootstrap', 'ccp_alpha', 'criterion', 'max_depth', 'max_features', 'max_leaf_nodes', 'max_samples', 'min_impurity_decrease', 'min_impurity_split', 'min_samples_leaf', 'min_samples_split', 'min_weight_fraction_leaf', 'n_estimators', 'n_jobs', 'oob_score', 'random_state', 'verbose', 'warm_start'])"
      ]
     },
     "execution_count": 24,
     "metadata": {},
     "output_type": "execute_result"
    }
   ],
   "source": [
    "#Посмотрим, какие параметры подходят выбранным типам моделей:\n",
    "RandomForestRegressor().get_params().keys()"
   ]
  },
  {
   "cell_type": "code",
   "execution_count": 25,
   "metadata": {},
   "outputs": [
    {
     "data": {
      "text/plain": [
       "dict_keys(['ccp_alpha', 'criterion', 'max_depth', 'max_features', 'max_leaf_nodes', 'min_impurity_decrease', 'min_impurity_split', 'min_samples_leaf', 'min_samples_split', 'min_weight_fraction_leaf', 'random_state', 'splitter'])"
      ]
     },
     "execution_count": 25,
     "metadata": {},
     "output_type": "execute_result"
    }
   ],
   "source": [
    "DecisionTreeRegressor().get_params().keys()"
   ]
  },
  {
   "cell_type": "code",
   "execution_count": 26,
   "metadata": {},
   "outputs": [
    {
     "data": {
      "text/plain": [
       "dict_keys(['copy_X', 'fit_intercept', 'n_jobs', 'normalize', 'positive'])"
      ]
     },
     "execution_count": 26,
     "metadata": {},
     "output_type": "execute_result"
    }
   ],
   "source": [
    "LinearRegression().get_params().keys()"
   ]
  },
  {
   "cell_type": "code",
   "execution_count": 27,
   "metadata": {},
   "outputs": [],
   "source": [
    "def sMAPE(target, predictions):\n",
    "    summa = (abs(predictions - target) / ((abs(target) + abs(predictions)) / 2)).sum()\n",
    "    smape = (1 / len(target)) * summa * 100\n",
    "    return smape"
   ]
  },
  {
   "cell_type": "code",
   "execution_count": 28,
   "metadata": {},
   "outputs": [],
   "source": [
    "def sMAPEfinal(rougher, final):\n",
    "    smape_final_1 = 0.25 * rougher + 0.75 * final\n",
    "    return smape_final_1"
   ]
  },
  {
   "cell_type": "code",
   "execution_count": 29,
   "metadata": {},
   "outputs": [],
   "source": [
    "my_scorer = make_scorer(sMAPE, greater_is_better=True)"
   ]
  },
  {
   "cell_type": "code",
   "execution_count": 30,
   "metadata": {},
   "outputs": [],
   "source": [
    "# # Посмотрим на поведение моделей (RandomForestRegressor(), DecisionTreeRegressor()): к сожалению, не хочет автоматом считать, висит \n",
    "# # Зададим границы параметров для способа GridSearchCV поиска лучшей модели:\n",
    "# def model_teaching (model, parametrs, features, target):\n",
    "#     grid = GridSearchCV(model, parametrs, scoring=my_scorer)\n",
    "#     grid.fit(features, target)\n",
    "#     return grid.best_params_"
   ]
  },
  {
   "cell_type": "code",
   "execution_count": 31,
   "metadata": {},
   "outputs": [
    {
     "name": "stdout",
     "output_type": "stream",
     "text": [
      "CPU times: user 3 µs, sys: 1 µs, total: 4 µs\n",
      "Wall time: 5.96 µs\n",
      "Mean R2 from CV of LinearRegression = -0.17458109168892058\n",
      "Mean MAE from CV of LinearRegression = 6.82938596512015\n",
      "Mean MAE from CV of LinearRegression = 10.825620606932198\n"
     ]
    }
   ],
   "source": [
    "%time\n",
    "model = LinearRegression()\n",
    "print('Mean R2 from CV of LinearRegression =', cross_val_score(model, train_features_final,\n",
    "                                                            train_target_final, cv=5).mean())\n",
    "print('Mean MAE from CV of LinearRegression =', cross_val_score(model, train_features_rougher,\n",
    "                                        train_target_rougher, cv=5, scoring=my_scorer).mean())\n",
    "print('Mean MAE from CV of LinearRegression =', cross_val_score(model, train_features_final,\n",
    "                                              train_target_final, cv=5, scoring=my_scorer).mean())"
   ]
  },
  {
   "cell_type": "code",
   "execution_count": 32,
   "metadata": {},
   "outputs": [
    {
     "name": "stdout",
     "output_type": "stream",
     "text": [
      "Mean R2 from CV of DecisionTreeRegressor = -1.8865717035598977\n",
      "Mean MAE from CV of DecisionTreeRegressor = 9.2329084670634\n",
      "Mean MAE from CV of DecisionTreeRegressor = 16.755450471080866\n"
     ]
    }
   ],
   "source": [
    "model = DecisionTreeRegressor()\n",
    "print('Mean R2 from CV of DecisionTreeRegressor =', cross_val_score(model, train_features_final,\n",
    "                                                                train_target_final, cv=5).mean())\n",
    "print('Mean MAE from CV of DecisionTreeRegressor =', cross_val_score(model, train_features_rougher,\n",
    "                                    train_target_rougher, cv=5, scoring=my_scorer).mean())\n",
    "print('Mean MAE from CV of DecisionTreeRegressor =', cross_val_score(model, train_features_final,\n",
    "                                    train_target_final, cv=5, scoring=my_scorer).mean())"
   ]
  },
  {
   "cell_type": "code",
   "execution_count": 33,
   "metadata": {},
   "outputs": [
    {
     "name": "stdout",
     "output_type": "stream",
     "text": [
      "Mean R2 from CV of RandomForestRegressor = 0.042345474295718\n",
      "Mean MAE from CV of RandomForestRegressor = 6.989995662614708\n",
      "Mean MAE from CV of RandomForestRegressor = 9.550949377357046\n"
     ]
    }
   ],
   "source": [
    "model = RandomForestRegressor()\n",
    "print('Mean R2 from CV of RandomForestRegressor =', cross_val_score(model, train_features_final,\n",
    "                                                    train_target_final, cv=5).mean())\n",
    "print('Mean MAE from CV of RandomForestRegressor =', cross_val_score(model, train_features_rougher,\n",
    "                                        train_target_rougher, cv=5, scoring=my_scorer).mean())\n",
    "print('Mean MAE from CV of RandomForestRegressor =', cross_val_score(model, train_features_final,\n",
    "                                        train_target_final, cv=5, scoring=my_scorer).mean())"
   ]
  },
  {
   "cell_type": "code",
   "execution_count": 34,
   "metadata": {},
   "outputs": [
    {
     "name": "stdout",
     "output_type": "stream",
     "text": [
      "CPU times: user 3 µs, sys: 0 ns, total: 3 µs\n",
      "Wall time: 5.96 µs\n",
      "Mean R2 from CV of LinearRegression = -0.17458109168891947\n",
      "Mean MAE from CV of LinearRegression = 6.829385965120148\n",
      "Mean MAE from CV of LinearRegression = 10.825620606932194\n"
     ]
    }
   ],
   "source": [
    "#Проверим, влияет масштабирование данных на результат\n",
    "%time\n",
    "regressor = LinearRegression()\n",
    "scaller = StandardScaler()\n",
    "pipeline = Pipeline([(\"standard_scaller\", scaller),(\"linear_regression\", regressor)])\n",
    "print('Mean R2 from CV of LinearRegression =', cross_val_score(pipeline, train_features_final, train_target_final, cv=5).mean())\n",
    "print('Mean MAE from CV of LinearRegression =', cross_val_score(pipeline, train_features_rougher, train_target_rougher, cv=5, \n",
    "                                                               scoring=my_scorer).mean())\n",
    "print('Mean MAE from CV of LinearRegression =', cross_val_score(pipeline, train_features_final, train_target_final, cv=5, \n",
    "                                                                scoring=my_scorer).mean())"
   ]
  },
  {
   "cell_type": "markdown",
   "metadata": {},
   "source": [
    "Масштабирование данных на результат не повлияло, значит, и для других моделей можно им пренебречь."
   ]
  },
  {
   "cell_type": "markdown",
   "metadata": {},
   "source": [
    "Сделаем функцию кросс-валидации для определения лучшей модели."
   ]
  },
  {
   "cell_type": "markdown",
   "metadata": {},
   "source": [
    "Как мы видим, LinearRegression() показывает лучший результат."
   ]
  },
  {
   "cell_type": "markdown",
   "metadata": {},
   "source": [
    "Посмотрим, какая из моделей даст лучший результат по sMAPE с учетом перебора гиперпараметров, где это возможно"
   ]
  },
  {
   "cell_type": "code",
   "execution_count": 35,
   "metadata": {},
   "outputs": [
    {
     "name": "stdout",
     "output_type": "stream",
     "text": [
      "CPU times: user 15 µs, sys: 0 ns, total: 15 µs\n",
      "Wall time: 7.87 µs\n",
      "Лучшее количество деревьев 25 Лучшая smape 6.966035062911388\n"
     ]
    }
   ],
   "source": [
    "%time\n",
    "best_est = 0\n",
    "best_smape=10\n",
    "for est in range(25, 35):\n",
    "    model_rfr = RandomForestRegressor(random_state=12345, n_estimators=est) \n",
    "    smape = cross_val_score(model_rfr, train_features_rougher, train_target_rougher, cv=5,\n",
    "                                                                scoring=my_scorer).mean()\n",
    "    if smape < best_smape:\n",
    "        best_est = est\n",
    "        best_smape = smape\n",
    "\n",
    "print('Лучшее количество деревьев', best_est,'Лучшая smape', best_smape)"
   ]
  },
  {
   "cell_type": "code",
   "execution_count": 36,
   "metadata": {},
   "outputs": [
    {
     "name": "stdout",
     "output_type": "stream",
     "text": [
      "CPU times: user 3 µs, sys: 0 ns, total: 3 µs\n",
      "Wall time: 5.72 µs\n",
      "Лучшая глубина дерева 3 Лучшая smape: 6.658958057926282\n"
     ]
    }
   ],
   "source": [
    "%time\n",
    "best_smape = 10\n",
    "best_depth = 0\n",
    "for depth in range(1, 10):\n",
    "    model_rfr = RandomForestRegressor(random_state=12345, n_estimators=25, max_depth=depth) \n",
    "    smape = cross_val_score(model_rfr, train_features_rougher, train_target_rougher, cv=5,\n",
    "                                                                scoring=my_scorer).mean()\n",
    "    if smape < best_smape:\n",
    "        best_smape = smape\n",
    "        best_depth = depth\n",
    "print('Лучшая глубина дерева', best_depth, \"Лучшая smape:\", best_smape)"
   ]
  },
  {
   "cell_type": "code",
   "execution_count": 37,
   "metadata": {},
   "outputs": [
    {
     "name": "stdout",
     "output_type": "stream",
     "text": [
      "CPU times: user 3 µs, sys: 0 ns, total: 3 µs\n",
      "Wall time: 5.25 µs\n",
      "6.658958057926282\n"
     ]
    }
   ],
   "source": [
    "%time\n",
    "model_rfr = RandomForestRegressor(random_state=12345, n_estimators=25, max_depth=3) \n",
    "smape = cross_val_score(model_rfr, train_features_rougher, train_target_rougher, cv=5,\n",
    "                                                                scoring=my_scorer).mean()\n",
    "print(smape)"
   ]
  },
  {
   "cell_type": "code",
   "execution_count": 38,
   "metadata": {},
   "outputs": [
    {
     "name": "stdout",
     "output_type": "stream",
     "text": [
      "CPU times: user 4 µs, sys: 0 ns, total: 4 µs\n",
      "Wall time: 8.11 µs\n",
      "Лучшая глубина дерева 2 Лучшая smape: 6.848421486002094\n"
     ]
    }
   ],
   "source": [
    "%time\n",
    "best_smape = 10\n",
    "best_depth = 0\n",
    "for depth in range(1, 20):\n",
    "    model_dtr = DecisionTreeRegressor(random_state=12345, max_depth=depth) # обучим модель с заданной глубиной дерева\n",
    "    smape = cross_val_score(model_dtr, train_features_rougher, train_target_rougher, cv=5,\n",
    "                                                                scoring=my_scorer).mean()\n",
    "    if smape < best_smape:\n",
    "        best_smape = smape\n",
    "        best_depth = depth\n",
    "print('Лучшая глубина дерева', best_depth, \"Лучшая smape:\", best_smape)"
   ]
  },
  {
   "cell_type": "code",
   "execution_count": 39,
   "metadata": {},
   "outputs": [
    {
     "name": "stdout",
     "output_type": "stream",
     "text": [
      "CPU times: user 2 µs, sys: 0 ns, total: 2 µs\n",
      "Wall time: 5.25 µs\n",
      "6.848421486002094\n"
     ]
    }
   ],
   "source": [
    "%time\n",
    "model_dtr = DecisionTreeRegressor(random_state=12345, max_depth=2) # обучим модель с заданной глубиной дерева\n",
    "smape = cross_val_score(model_dtr, train_features_rougher, train_target_rougher, cv=5,\n",
    "                                                                scoring=my_scorer).mean()\n",
    "print(smape)"
   ]
  },
  {
   "cell_type": "code",
   "execution_count": 40,
   "metadata": {},
   "outputs": [
    {
     "name": "stdout",
     "output_type": "stream",
     "text": [
      "CPU times: user 3 µs, sys: 0 ns, total: 3 µs\n",
      "Wall time: 5.25 µs\n",
      "6.82938596512015\n"
     ]
    }
   ],
   "source": [
    "%time\n",
    "#Посмотрим результат на третьей модели:\n",
    "model_lr = LinearRegression(normalize=False, positive = False)\n",
    "smape = cross_val_score(model_lr, train_features_rougher, train_target_rougher, cv=5,\n",
    "                                                                scoring=my_scorer).mean()\n",
    "print(smape)"
   ]
  },
  {
   "cell_type": "code",
   "execution_count": 41,
   "metadata": {},
   "outputs": [
    {
     "name": "stdout",
     "output_type": "stream",
     "text": [
      "CPU times: user 24 µs, sys: 0 ns, total: 24 µs\n",
      "Wall time: 8.82 µs\n",
      "6.622023914131742\n"
     ]
    }
   ],
   "source": [
    "%time\n",
    "model_lr = LinearRegression(normalize=False, positive = True)\n",
    "smape = cross_val_score(model_lr, train_features_rougher, train_target_rougher, cv=5,\n",
    "                                                                scoring=my_scorer).mean()\n",
    "print(smape)"
   ]
  },
  {
   "cell_type": "markdown",
   "metadata": {},
   "source": [
    "Таким образом, лучшая модель из всех трех LinearRegression(). Посмотрим, как она себя поведет на итоговом целевом признаке."
   ]
  },
  {
   "cell_type": "code",
   "execution_count": 42,
   "metadata": {},
   "outputs": [],
   "source": [
    "#my_scorer_final = make_scorer(sMAPEfinal, greater_is_better=True)"
   ]
  },
  {
   "cell_type": "code",
   "execution_count": 57,
   "metadata": {},
   "outputs": [
    {
     "name": "stdout",
     "output_type": "stream",
     "text": [
      "CPU times: user 2 µs, sys: 0 ns, total: 2 µs\n",
      "Wall time: 5.25 µs\n",
      "Лучшее количество деревьев 57 Лучшая smape 10.48735537647115\n"
     ]
    }
   ],
   "source": [
    "%time\n",
    "best_est = 0\n",
    "best_smape=11\n",
    "for est in range(50, 60):\n",
    "    model_rfr = RandomForestRegressor(random_state=12345, n_estimators=est) \n",
    "    smapefinal = cross_val_score(model_rfr, train_features_final, train_target_final, cv=3,\n",
    "                                                                scoring=my_scorer).mean()\n",
    "    if smapefinal < best_smape:\n",
    "        best_est = est\n",
    "        best_smape = smapefinal\n",
    "print('Лучшее количество деревьев', best_est,'Лучшая smape', best_smape)"
   ]
  },
  {
   "cell_type": "code",
   "execution_count": 58,
   "metadata": {},
   "outputs": [
    {
     "name": "stdout",
     "output_type": "stream",
     "text": [
      "CPU times: user 3 µs, sys: 0 ns, total: 3 µs\n",
      "Wall time: 5.48 µs\n",
      "Лучшая глубина дерева 1 Лучшая smape: 9.360555450246625\n"
     ]
    }
   ],
   "source": [
    "%time\n",
    "best_smape = 10\n",
    "best_depth = 0\n",
    "for depth in range(1, 20):\n",
    "    model_rfr = RandomForestRegressor(random_state=12345, n_estimators= 57, max_depth=depth) \n",
    "    smapefinal = cross_val_score(model_rfr, train_features_final, train_target_final, cv=5,\n",
    "                                                                scoring=my_scorer).mean()\n",
    "    if smapefinal < best_smape:\n",
    "        best_smape = smapefinal\n",
    "        best_depth = depth\n",
    "print('Лучшая глубина дерева', best_depth, \"Лучшая smape:\", best_smape)"
   ]
  },
  {
   "cell_type": "code",
   "execution_count": 45,
   "metadata": {},
   "outputs": [
    {
     "name": "stdout",
     "output_type": "stream",
     "text": [
      "CPU times: user 4 µs, sys: 0 ns, total: 4 µs\n",
      "Wall time: 8.82 µs\n",
      "Лучшая глубина дерева 1 Лучшая smape: 9.360679128049886\n"
     ]
    }
   ],
   "source": [
    "%time\n",
    "best_smape = 10\n",
    "best_depth = 0\n",
    "for depth in range(1, 20):\n",
    "    model_dtr = DecisionTreeRegressor(random_state=12345, max_depth=depth) \n",
    "    smapefinal = cross_val_score(model_dtr, train_features_final, train_target_final, cv=5,\n",
    "                                                                scoring=my_scorer).mean()\n",
    "    if smapefinal < best_smape:\n",
    "        best_smape = smapefinal\n",
    "        best_depth = depth\n",
    "print('Лучшая глубина дерева', best_depth, \"Лучшая smape:\", best_smape)"
   ]
  },
  {
   "cell_type": "code",
   "execution_count": 46,
   "metadata": {},
   "outputs": [
    {
     "name": "stdout",
     "output_type": "stream",
     "text": [
      "CPU times: user 3 µs, sys: 0 ns, total: 3 µs\n",
      "Wall time: 6.44 µs\n",
      "9.745442057962514\n"
     ]
    }
   ],
   "source": [
    "%time\n",
    "model_lr = LinearRegression(normalize=False, positive = True)\n",
    "smapefinal = cross_val_score(model_lr, train_features_final, train_target_final, cv=5,\n",
    "                                                                scoring=my_scorer).mean()\n",
    "print(smapefinal)"
   ]
  },
  {
   "cell_type": "markdown",
   "metadata": {},
   "source": [
    "Проверим результат на тестовой выборке"
   ]
  },
  {
   "cell_type": "code",
   "execution_count": 47,
   "metadata": {},
   "outputs": [
    {
     "name": "stdout",
     "output_type": "stream",
     "text": [
      "CPU times: user 4 µs, sys: 0 ns, total: 4 µs\n",
      "Wall time: 5.48 µs\n",
      "sMAPE на тестовой выборке 8.063902395250446\n"
     ]
    }
   ],
   "source": [
    "%time\n",
    "model_lr = LinearRegression(normalize=False, positive = True)\n",
    "model_lr.fit(train_features_rougher, train_target_rougher)\n",
    "preds_rough_lr = model_lr.predict(test_features_rougher)\n",
    "rougher = sMAPE(preds_rough_lr, test_target_rougher)\n",
    "print('sMAPE на тестовой выборке', rougher)"
   ]
  },
  {
   "cell_type": "code",
   "execution_count": 48,
   "metadata": {},
   "outputs": [
    {
     "name": "stdout",
     "output_type": "stream",
     "text": [
      "CPU times: user 2 µs, sys: 0 ns, total: 2 µs\n",
      "Wall time: 5.48 µs\n",
      "sMAPEfinal на тестовой выборке 8.99855954969781\n"
     ]
    }
   ],
   "source": [
    "%time\n",
    "model_lr = LinearRegression(normalize=False, positive = True)\n",
    "model_lr.fit(train_features_final, train_target_final)\n",
    "preds_final_lr = model_lr.predict(test_features_final) # получим предсказания модели\n",
    "final = sMAPE(preds_final_lr, test_target_final)\n",
    "smapefinal = sMAPEfinal(rougher, final)\n",
    "print('sMAPEfinal на тестовой выборке', smapefinal)"
   ]
  },
  {
   "cell_type": "code",
   "execution_count": 59,
   "metadata": {},
   "outputs": [
    {
     "name": "stdout",
     "output_type": "stream",
     "text": [
      "CPU times: user 3 µs, sys: 0 ns, total: 3 µs\n",
      "Wall time: 5.48 µs\n",
      "sMAPE на тестовой выборке 8.94876150849763\n"
     ]
    }
   ],
   "source": [
    "%time\n",
    "model_rfr = RandomForestRegressor(random_state=12345, n_estimators=25, max_depth=3) \n",
    "model_rfr.fit(train_features_rougher, train_target_rougher)\n",
    "preds_rough_rfr = model_rfr.predict(test_features_rougher)\n",
    "rougher = sMAPE(preds_rough_rfr, test_target_rougher)\n",
    "print('sMAPE на тестовой выборке', rougher)"
   ]
  },
  {
   "cell_type": "code",
   "execution_count": 60,
   "metadata": {},
   "outputs": [
    {
     "name": "stdout",
     "output_type": "stream",
     "text": [
      "CPU times: user 2 µs, sys: 0 ns, total: 2 µs\n",
      "Wall time: 5.25 µs\n",
      "sMAPEfinal на тестовой выборке 9.418584108553386\n"
     ]
    }
   ],
   "source": [
    "%time\n",
    "model_rfr = RandomForestRegressor(random_state=12345, n_estimators=57, max_depth=1) # обучим модель с заданной глубиной дерева\n",
    "model_rfr.fit(train_features_final, train_target_final) # обучим модель\n",
    "preds_final_rfr = model_rfr.predict(test_features_final) # получим предсказания модели\n",
    "final = sMAPE(preds_final_rfr, test_target_final)\n",
    "smapefinal = sMAPEfinal(rougher, final) # посчитаем качество модели\n",
    "print('sMAPEfinal на тестовой выборке', smapefinal) "
   ]
  },
  {
   "cell_type": "markdown",
   "metadata": {},
   "source": [
    "Выводы:\n",
    "Проанализированы выборки, обнаружены столбцы, отсутствующие в тестовой выборке. Для дальнейшей работы, тестовая выборка была скорректирована.\n",
    "\n",
    "Эффективность обогащения рассчитана правильно, она была сравнена с вычислениями ее на обучающей выборке для признака \n",
    "rougher.output.recovery. Абсолютная средняя ошибка по тренировочной выборке = 1.0748911125799084e-14\n",
    "\n",
    "Изучены концетрации основных веществ на разных этапах очистки и представлены в виде графиков\n",
    "Размер гранул тестовой и обучающей выборки на начальном этапе представлен в виде графика.\n",
    "Создана таблица суммарной концентрации веществ на разных этапах.\n",
    "\n",
    "У золота и свинца концентрация после каждого этапа увеличивается, у серебра после второго этапа увеличивается, а в результате очисток падает ниже первоначального показателя. Видимо, часть металла теряется в процессе реакций с веществами, которые используют для очистки\n",
    "\n",
    "Создана функция для подсчета sMAPE для целевого признака train_target_rougher и итоговой sMAPE. Проанализированы показатели R2, MAE:\n",
    "\n",
    "Mean R2 from CV of LinearRegression = -0.17458109168892058\n",
    "Mean MAE from CV of LinearRegression = 6.82938596512015\n",
    "Mean MAE from CV of LinearRegression = 10.825620606932198\n",
    "\n",
    "Mean R2 from CV of DecisionTreeRegressor = -1.960313484276531\n",
    "Mean MAE from CV of DecisionTreeRegressor = 9.229946514719604\n",
    "Mean MAE from CV of DecisionTreeRegressor = 15.969075449486985\n",
    "\n",
    "Mean R2 from CV of RandomForestRegressor = 0.051079076171925863\n",
    "Mean MAE from CV of RandomForestRegressor = 7.009355682626632\n",
    "Mean MAE from CV of RandomForestRegressor = 9.663341590725057\n",
    "\n",
    "Масштабирование данных на результат LinearRegression не повлияло, значит, и для других моделей можно им пренебречь.\n",
    "\n",
    "Данные кросс-валидации также были проверены на анализе, какая из  моделей даст лучший результат по sMAPE с учетом перебора гиперпараметров, где это возможно\n",
    "\n",
    "Таким образом, лучшая модель из всех трех LinearRegression(), ее sMAPE составил 6.622023914131742, а sMAPE на final 9.745442057962514\n",
    "\n",
    "А на тестовой выборке у LinearRegression() показатели такие: \n",
    "sMAPE на тестовой выборке 8.063902395250446\n",
    "sMAPEfinal на тестовой выборке 8.99855954969781\n",
    "\n",
    "Вторая по показателю RandomForestRegressor ее sMAPE составил , а sMAPE на final 9.360555450246625, что лучше, чем у лидера\n",
    "\n",
    "Однако показатели на тестовой выборке у RandomForestRegressor хуже, чем у лидера: sMAPE на тестовой выборке 8.94876150849763 sMAPEfinal на тестовой выборке 9.418584108553386"
   ]
  }
 ],
 "metadata": {
  "ExecuteTimeLog": [
   {
    "duration": 1503,
    "start_time": "2022-06-08T23:00:12.865Z"
   },
   {
    "duration": 600,
    "start_time": "2022-06-08T23:00:14.370Z"
   },
   {
    "duration": 1142,
    "start_time": "2022-06-08T23:00:14.971Z"
   },
   {
    "duration": 2190,
    "start_time": "2022-06-08T23:00:16.115Z"
   },
   {
    "duration": 1216,
    "start_time": "2022-06-09T00:57:58.446Z"
   },
   {
    "duration": 212,
    "start_time": "2022-06-09T00:57:59.664Z"
   },
   {
    "duration": 467,
    "start_time": "2022-06-09T00:57:59.878Z"
   },
   {
    "duration": 567,
    "start_time": "2022-06-09T00:58:00.346Z"
   },
   {
    "duration": 231,
    "start_time": "2022-06-09T00:58:00.915Z"
   },
   {
    "duration": 1295,
    "start_time": "2022-06-09T01:17:25.920Z"
   },
   {
    "duration": 220,
    "start_time": "2022-06-09T01:17:27.217Z"
   },
   {
    "duration": 483,
    "start_time": "2022-06-09T01:17:27.438Z"
   },
   {
    "duration": 574,
    "start_time": "2022-06-09T01:17:27.926Z"
   },
   {
    "duration": 234,
    "start_time": "2022-06-09T01:17:28.501Z"
   },
   {
    "duration": 1265,
    "start_time": "2022-06-09T01:25:49.472Z"
   },
   {
    "duration": 218,
    "start_time": "2022-06-09T01:25:50.739Z"
   },
   {
    "duration": 485,
    "start_time": "2022-06-09T01:25:50.958Z"
   },
   {
    "duration": 591,
    "start_time": "2022-06-09T01:25:51.445Z"
   },
   {
    "duration": 243,
    "start_time": "2022-06-09T01:25:52.037Z"
   },
   {
    "duration": 110,
    "start_time": "2022-06-09T01:25:52.281Z"
   },
   {
    "duration": 1293,
    "start_time": "2022-06-09T01:27:21.934Z"
   },
   {
    "duration": 214,
    "start_time": "2022-06-09T01:27:23.229Z"
   },
   {
    "duration": 485,
    "start_time": "2022-06-09T01:27:23.445Z"
   },
   {
    "duration": 587,
    "start_time": "2022-06-09T01:27:23.932Z"
   },
   {
    "duration": 239,
    "start_time": "2022-06-09T01:27:24.521Z"
   },
   {
    "duration": 116,
    "start_time": "2022-06-09T01:27:24.762Z"
   },
   {
    "duration": 0,
    "start_time": "2022-06-09T01:27:24.880Z"
   },
   {
    "duration": 1231,
    "start_time": "2022-06-09T01:29:26.390Z"
   },
   {
    "duration": 208,
    "start_time": "2022-06-09T01:29:27.623Z"
   },
   {
    "duration": 456,
    "start_time": "2022-06-09T01:29:27.832Z"
   },
   {
    "duration": 552,
    "start_time": "2022-06-09T01:29:28.290Z"
   },
   {
    "duration": 233,
    "start_time": "2022-06-09T01:29:28.843Z"
   },
   {
    "duration": 232,
    "start_time": "2022-06-09T01:29:29.078Z"
   },
   {
    "duration": 107,
    "start_time": "2022-06-09T01:29:29.312Z"
   },
   {
    "duration": 1285,
    "start_time": "2022-06-09T01:30:22.456Z"
   },
   {
    "duration": 233,
    "start_time": "2022-06-09T01:30:23.743Z"
   },
   {
    "duration": 481,
    "start_time": "2022-06-09T01:30:23.977Z"
   },
   {
    "duration": 604,
    "start_time": "2022-06-09T01:30:24.460Z"
   },
   {
    "duration": 242,
    "start_time": "2022-06-09T01:30:25.066Z"
   },
   {
    "duration": 334,
    "start_time": "2022-06-09T01:30:25.310Z"
   },
   {
    "duration": 0,
    "start_time": "2022-06-09T01:30:25.646Z"
   },
   {
    "duration": 1413,
    "start_time": "2022-06-09T01:31:15.215Z"
   },
   {
    "duration": 221,
    "start_time": "2022-06-09T01:31:16.629Z"
   },
   {
    "duration": 506,
    "start_time": "2022-06-09T01:31:16.852Z"
   },
   {
    "duration": 602,
    "start_time": "2022-06-09T01:31:17.359Z"
   },
   {
    "duration": 248,
    "start_time": "2022-06-09T01:31:17.962Z"
   },
   {
    "duration": 357,
    "start_time": "2022-06-09T01:31:18.212Z"
   },
   {
    "duration": 0,
    "start_time": "2022-06-09T01:31:18.570Z"
   },
   {
    "duration": 1350,
    "start_time": "2022-06-09T01:59:25.637Z"
   },
   {
    "duration": 214,
    "start_time": "2022-06-09T01:59:26.989Z"
   },
   {
    "duration": 478,
    "start_time": "2022-06-09T01:59:27.204Z"
   },
   {
    "duration": 560,
    "start_time": "2022-06-09T01:59:27.684Z"
   },
   {
    "duration": 248,
    "start_time": "2022-06-09T01:59:28.246Z"
   },
   {
    "duration": 228,
    "start_time": "2022-06-09T01:59:28.495Z"
   },
   {
    "duration": 104,
    "start_time": "2022-06-09T01:59:28.727Z"
   },
   {
    "duration": 1199,
    "start_time": "2022-06-09T02:00:36.547Z"
   },
   {
    "duration": 216,
    "start_time": "2022-06-09T02:00:37.748Z"
   },
   {
    "duration": 478,
    "start_time": "2022-06-09T02:00:37.965Z"
   },
   {
    "duration": 559,
    "start_time": "2022-06-09T02:00:38.445Z"
   },
   {
    "duration": 229,
    "start_time": "2022-06-09T02:00:39.005Z"
   },
   {
    "duration": 228,
    "start_time": "2022-06-09T02:00:39.236Z"
   },
   {
    "duration": 111,
    "start_time": "2022-06-09T02:00:39.465Z"
   },
   {
    "duration": 1216,
    "start_time": "2022-06-09T02:01:23.393Z"
   },
   {
    "duration": 219,
    "start_time": "2022-06-09T02:01:24.611Z"
   },
   {
    "duration": 470,
    "start_time": "2022-06-09T02:01:24.835Z"
   },
   {
    "duration": 556,
    "start_time": "2022-06-09T02:01:25.307Z"
   },
   {
    "duration": 232,
    "start_time": "2022-06-09T02:01:25.865Z"
   },
   {
    "duration": 277,
    "start_time": "2022-06-09T02:01:26.099Z"
   },
   {
    "duration": 115,
    "start_time": "2022-06-09T02:01:26.377Z"
   },
   {
    "duration": 1340,
    "start_time": "2022-06-09T02:04:52.918Z"
   },
   {
    "duration": 225,
    "start_time": "2022-06-09T02:04:54.259Z"
   },
   {
    "duration": 502,
    "start_time": "2022-06-09T02:04:54.486Z"
   },
   {
    "duration": 584,
    "start_time": "2022-06-09T02:04:54.990Z"
   },
   {
    "duration": 242,
    "start_time": "2022-06-09T02:04:55.576Z"
   },
   {
    "duration": 259,
    "start_time": "2022-06-09T02:04:55.819Z"
   },
   {
    "duration": 7,
    "start_time": "2022-06-09T02:04:56.080Z"
   },
   {
    "duration": 1574,
    "start_time": "2022-06-09T14:29:16.129Z"
   },
   {
    "duration": 641,
    "start_time": "2022-06-09T14:29:17.710Z"
   },
   {
    "duration": 1263,
    "start_time": "2022-06-09T14:29:18.352Z"
   },
   {
    "duration": 2366,
    "start_time": "2022-06-09T14:29:19.619Z"
   },
   {
    "duration": 293,
    "start_time": "2022-06-09T14:29:21.986Z"
   },
   {
    "duration": 293,
    "start_time": "2022-06-09T14:29:22.282Z"
   },
   {
    "duration": 6,
    "start_time": "2022-06-09T14:29:22.577Z"
   },
   {
    "duration": 11,
    "start_time": "2022-06-09T14:29:22.605Z"
   },
   {
    "duration": 47,
    "start_time": "2022-06-11T15:45:12.369Z"
   },
   {
    "duration": 1379,
    "start_time": "2022-06-11T15:46:29.102Z"
   },
   {
    "duration": 280,
    "start_time": "2022-06-11T15:46:30.484Z"
   },
   {
    "duration": 2001,
    "start_time": "2022-06-11T15:46:30.766Z"
   },
   {
    "duration": 774,
    "start_time": "2022-06-11T15:46:32.768Z"
   },
   {
    "duration": 233,
    "start_time": "2022-06-11T15:46:33.544Z"
   },
   {
    "duration": 8,
    "start_time": "2022-06-11T15:46:33.779Z"
   },
   {
    "duration": 0,
    "start_time": "2022-06-11T15:46:33.788Z"
   },
   {
    "duration": 0,
    "start_time": "2022-06-11T15:46:33.789Z"
   },
   {
    "duration": 1164,
    "start_time": "2022-06-11T21:45:15.310Z"
   },
   {
    "duration": 220,
    "start_time": "2022-06-11T21:45:16.476Z"
   },
   {
    "duration": 451,
    "start_time": "2022-06-11T21:45:16.698Z"
   },
   {
    "duration": 554,
    "start_time": "2022-06-11T21:45:17.151Z"
   },
   {
    "duration": 226,
    "start_time": "2022-06-11T21:45:17.706Z"
   },
   {
    "duration": 229,
    "start_time": "2022-06-11T21:45:17.933Z"
   },
   {
    "duration": 6,
    "start_time": "2022-06-11T21:45:18.164Z"
   },
   {
    "duration": 6,
    "start_time": "2022-06-11T21:45:18.171Z"
   },
   {
    "duration": 1196,
    "start_time": "2022-06-11T22:02:59.887Z"
   },
   {
    "duration": 205,
    "start_time": "2022-06-11T22:03:01.085Z"
   },
   {
    "duration": 455,
    "start_time": "2022-06-11T22:03:01.292Z"
   },
   {
    "duration": 559,
    "start_time": "2022-06-11T22:03:01.748Z"
   },
   {
    "duration": 231,
    "start_time": "2022-06-11T22:03:02.309Z"
   },
   {
    "duration": 227,
    "start_time": "2022-06-11T22:03:02.542Z"
   },
   {
    "duration": 115,
    "start_time": "2022-06-11T22:03:02.771Z"
   },
   {
    "duration": 0,
    "start_time": "2022-06-11T22:03:02.887Z"
   },
   {
    "duration": 1212,
    "start_time": "2022-06-11T22:15:01.933Z"
   },
   {
    "duration": 216,
    "start_time": "2022-06-11T22:15:03.147Z"
   },
   {
    "duration": 482,
    "start_time": "2022-06-11T22:15:03.364Z"
   },
   {
    "duration": 594,
    "start_time": "2022-06-11T22:15:03.848Z"
   },
   {
    "duration": 237,
    "start_time": "2022-06-11T22:15:04.444Z"
   },
   {
    "duration": 236,
    "start_time": "2022-06-11T22:15:04.683Z"
   },
   {
    "duration": 9,
    "start_time": "2022-06-11T22:15:04.920Z"
   },
   {
    "duration": 5,
    "start_time": "2022-06-11T22:15:04.931Z"
   },
   {
    "duration": 1605,
    "start_time": "2022-06-12T12:19:24.472Z"
   },
   {
    "duration": 593,
    "start_time": "2022-06-12T12:19:26.080Z"
   },
   {
    "duration": 1418,
    "start_time": "2022-06-12T12:19:26.674Z"
   },
   {
    "duration": 2174,
    "start_time": "2022-06-12T12:19:28.095Z"
   },
   {
    "duration": 269,
    "start_time": "2022-06-12T12:19:30.271Z"
   },
   {
    "duration": 268,
    "start_time": "2022-06-12T12:19:30.542Z"
   },
   {
    "duration": 21,
    "start_time": "2022-06-12T12:19:30.812Z"
   },
   {
    "duration": 27,
    "start_time": "2022-06-12T12:19:30.840Z"
   },
   {
    "duration": 1399,
    "start_time": "2022-06-12T12:27:30.841Z"
   },
   {
    "duration": 238,
    "start_time": "2022-06-12T12:27:32.242Z"
   },
   {
    "duration": 600,
    "start_time": "2022-06-12T12:27:32.482Z"
   },
   {
    "duration": 689,
    "start_time": "2022-06-12T12:27:33.084Z"
   },
   {
    "duration": 278,
    "start_time": "2022-06-12T12:27:33.774Z"
   },
   {
    "duration": 257,
    "start_time": "2022-06-12T12:27:34.054Z"
   },
   {
    "duration": 14,
    "start_time": "2022-06-12T12:27:34.313Z"
   },
   {
    "duration": 136,
    "start_time": "2022-06-12T12:27:34.330Z"
   },
   {
    "duration": 0,
    "start_time": "2022-06-12T12:27:34.469Z"
   },
   {
    "duration": 1398,
    "start_time": "2022-06-12T12:28:20.904Z"
   },
   {
    "duration": 276,
    "start_time": "2022-06-12T12:28:22.304Z"
   },
   {
    "duration": 609,
    "start_time": "2022-06-12T12:28:22.582Z"
   },
   {
    "duration": 675,
    "start_time": "2022-06-12T12:28:23.194Z"
   },
   {
    "duration": 280,
    "start_time": "2022-06-12T12:28:23.871Z"
   },
   {
    "duration": 287,
    "start_time": "2022-06-12T12:28:24.153Z"
   },
   {
    "duration": 8,
    "start_time": "2022-06-12T12:28:24.442Z"
   },
   {
    "duration": 133,
    "start_time": "2022-06-12T12:28:24.453Z"
   },
   {
    "duration": 0,
    "start_time": "2022-06-12T12:28:24.588Z"
   },
   {
    "duration": 1329,
    "start_time": "2022-06-12T12:32:04.775Z"
   },
   {
    "duration": 242,
    "start_time": "2022-06-12T12:32:06.106Z"
   },
   {
    "duration": 554,
    "start_time": "2022-06-12T12:32:06.349Z"
   },
   {
    "duration": 655,
    "start_time": "2022-06-12T12:32:06.906Z"
   },
   {
    "duration": 312,
    "start_time": "2022-06-12T12:32:07.563Z"
   },
   {
    "duration": 315,
    "start_time": "2022-06-12T12:32:07.877Z"
   },
   {
    "duration": 8,
    "start_time": "2022-06-12T12:32:08.195Z"
   },
   {
    "duration": 454,
    "start_time": "2022-06-12T12:32:08.204Z"
   },
   {
    "duration": 5,
    "start_time": "2022-06-12T12:32:08.661Z"
   },
   {
    "duration": 1376,
    "start_time": "2022-06-12T12:33:26.785Z"
   },
   {
    "duration": 233,
    "start_time": "2022-06-12T12:33:28.163Z"
   },
   {
    "duration": 517,
    "start_time": "2022-06-12T12:33:28.398Z"
   },
   {
    "duration": 664,
    "start_time": "2022-06-12T12:33:28.923Z"
   },
   {
    "duration": 291,
    "start_time": "2022-06-12T12:33:29.589Z"
   },
   {
    "duration": 23,
    "start_time": "2022-06-12T12:33:29.882Z"
   },
   {
    "duration": 249,
    "start_time": "2022-06-12T12:33:29.907Z"
   },
   {
    "duration": 6,
    "start_time": "2022-06-12T12:33:30.158Z"
   },
   {
    "duration": 296,
    "start_time": "2022-06-12T12:33:30.166Z"
   },
   {
    "duration": 4,
    "start_time": "2022-06-12T12:33:30.464Z"
   },
   {
    "duration": 1538,
    "start_time": "2022-06-12T12:45:31.518Z"
   },
   {
    "duration": 247,
    "start_time": "2022-06-12T12:45:33.060Z"
   },
   {
    "duration": 556,
    "start_time": "2022-06-12T12:45:33.309Z"
   },
   {
    "duration": 691,
    "start_time": "2022-06-12T12:45:33.868Z"
   },
   {
    "duration": 298,
    "start_time": "2022-06-12T12:45:34.561Z"
   },
   {
    "duration": 24,
    "start_time": "2022-06-12T12:45:34.862Z"
   },
   {
    "duration": 5,
    "start_time": "2022-06-12T12:45:34.888Z"
   },
   {
    "duration": 321,
    "start_time": "2022-06-12T12:45:34.894Z"
   },
   {
    "duration": 18,
    "start_time": "2022-06-12T12:45:35.217Z"
   },
   {
    "duration": 344,
    "start_time": "2022-06-12T12:45:35.236Z"
   },
   {
    "duration": 18,
    "start_time": "2022-06-12T12:45:35.628Z"
   },
   {
    "duration": 1435,
    "start_time": "2022-06-12T13:27:46.206Z"
   },
   {
    "duration": 262,
    "start_time": "2022-06-12T13:27:47.643Z"
   },
   {
    "duration": 572,
    "start_time": "2022-06-12T13:27:47.906Z"
   },
   {
    "duration": 687,
    "start_time": "2022-06-12T13:27:48.480Z"
   },
   {
    "duration": 299,
    "start_time": "2022-06-12T13:27:49.169Z"
   },
   {
    "duration": 23,
    "start_time": "2022-06-12T13:27:49.469Z"
   },
   {
    "duration": 4,
    "start_time": "2022-06-12T13:27:49.494Z"
   },
   {
    "duration": 279,
    "start_time": "2022-06-12T13:27:49.499Z"
   },
   {
    "duration": 7,
    "start_time": "2022-06-12T13:27:49.780Z"
   },
   {
    "duration": 391,
    "start_time": "2022-06-12T13:27:49.789Z"
   },
   {
    "duration": 5,
    "start_time": "2022-06-12T13:27:50.183Z"
   },
   {
    "duration": 1349,
    "start_time": "2022-06-12T13:29:27.059Z"
   },
   {
    "duration": 253,
    "start_time": "2022-06-12T13:29:28.409Z"
   },
   {
    "duration": 594,
    "start_time": "2022-06-12T13:29:28.663Z"
   },
   {
    "duration": 646,
    "start_time": "2022-06-12T13:29:29.262Z"
   },
   {
    "duration": 297,
    "start_time": "2022-06-12T13:29:29.911Z"
   },
   {
    "duration": 39,
    "start_time": "2022-06-12T13:29:30.209Z"
   },
   {
    "duration": 150,
    "start_time": "2022-06-12T13:29:30.252Z"
   },
   {
    "duration": 0,
    "start_time": "2022-06-12T13:29:30.404Z"
   },
   {
    "duration": 0,
    "start_time": "2022-06-12T13:29:30.405Z"
   },
   {
    "duration": 0,
    "start_time": "2022-06-12T13:29:30.406Z"
   },
   {
    "duration": 0,
    "start_time": "2022-06-12T13:29:30.408Z"
   },
   {
    "duration": 1440,
    "start_time": "2022-06-12T13:36:25.310Z"
   },
   {
    "duration": 246,
    "start_time": "2022-06-12T13:36:26.752Z"
   },
   {
    "duration": 560,
    "start_time": "2022-06-12T13:36:27.000Z"
   },
   {
    "duration": 690,
    "start_time": "2022-06-12T13:36:27.562Z"
   },
   {
    "duration": 286,
    "start_time": "2022-06-12T13:36:28.259Z"
   },
   {
    "duration": 30,
    "start_time": "2022-06-12T13:36:28.546Z"
   },
   {
    "duration": 133,
    "start_time": "2022-06-12T13:36:28.578Z"
   },
   {
    "duration": 0,
    "start_time": "2022-06-12T13:36:28.713Z"
   },
   {
    "duration": 0,
    "start_time": "2022-06-12T13:36:28.715Z"
   },
   {
    "duration": 0,
    "start_time": "2022-06-12T13:36:28.717Z"
   },
   {
    "duration": 0,
    "start_time": "2022-06-12T13:36:28.718Z"
   },
   {
    "duration": 1403,
    "start_time": "2022-06-12T13:37:06.688Z"
   },
   {
    "duration": 266,
    "start_time": "2022-06-12T13:37:08.094Z"
   },
   {
    "duration": 588,
    "start_time": "2022-06-12T13:37:08.362Z"
   },
   {
    "duration": 712,
    "start_time": "2022-06-12T13:37:08.952Z"
   },
   {
    "duration": 297,
    "start_time": "2022-06-12T13:37:09.666Z"
   },
   {
    "duration": 24,
    "start_time": "2022-06-12T13:37:09.965Z"
   },
   {
    "duration": 5,
    "start_time": "2022-06-12T13:37:09.990Z"
   },
   {
    "duration": 274,
    "start_time": "2022-06-12T13:37:09.996Z"
   },
   {
    "duration": 8,
    "start_time": "2022-06-12T13:37:10.272Z"
   },
   {
    "duration": 450,
    "start_time": "2022-06-12T13:37:10.282Z"
   },
   {
    "duration": 18,
    "start_time": "2022-06-12T13:37:10.734Z"
   },
   {
    "duration": 1344,
    "start_time": "2022-06-12T13:58:57.635Z"
   },
   {
    "duration": 253,
    "start_time": "2022-06-12T13:58:58.982Z"
   },
   {
    "duration": 516,
    "start_time": "2022-06-12T13:58:59.237Z"
   },
   {
    "duration": 659,
    "start_time": "2022-06-12T13:58:59.755Z"
   },
   {
    "duration": 270,
    "start_time": "2022-06-12T13:59:00.416Z"
   },
   {
    "duration": 36,
    "start_time": "2022-06-12T13:59:00.688Z"
   },
   {
    "duration": 5,
    "start_time": "2022-06-12T13:59:00.727Z"
   },
   {
    "duration": 157,
    "start_time": "2022-06-12T13:59:00.734Z"
   },
   {
    "duration": 0,
    "start_time": "2022-06-12T13:59:00.893Z"
   },
   {
    "duration": 0,
    "start_time": "2022-06-12T13:59:00.894Z"
   },
   {
    "duration": 0,
    "start_time": "2022-06-12T13:59:00.895Z"
   },
   {
    "duration": 0,
    "start_time": "2022-06-12T13:59:00.896Z"
   },
   {
    "duration": 0,
    "start_time": "2022-06-12T13:59:00.898Z"
   },
   {
    "duration": 1517,
    "start_time": "2022-06-12T14:03:23.825Z"
   },
   {
    "duration": 266,
    "start_time": "2022-06-12T14:03:25.344Z"
   },
   {
    "duration": 567,
    "start_time": "2022-06-12T14:03:25.611Z"
   },
   {
    "duration": 671,
    "start_time": "2022-06-12T14:03:26.181Z"
   },
   {
    "duration": 323,
    "start_time": "2022-06-12T14:03:26.854Z"
   },
   {
    "duration": 27,
    "start_time": "2022-06-12T14:03:27.179Z"
   },
   {
    "duration": 5,
    "start_time": "2022-06-12T14:03:27.222Z"
   },
   {
    "duration": 15,
    "start_time": "2022-06-12T14:03:27.229Z"
   },
   {
    "duration": 287,
    "start_time": "2022-06-12T14:03:27.247Z"
   },
   {
    "duration": 9,
    "start_time": "2022-06-12T14:03:27.537Z"
   },
   {
    "duration": 155,
    "start_time": "2022-06-12T14:03:27.547Z"
   },
   {
    "duration": 0,
    "start_time": "2022-06-12T14:03:27.704Z"
   },
   {
    "duration": 0,
    "start_time": "2022-06-12T14:03:27.705Z"
   },
   {
    "duration": 1357,
    "start_time": "2022-06-12T14:05:58.280Z"
   },
   {
    "duration": 241,
    "start_time": "2022-06-12T14:05:59.639Z"
   },
   {
    "duration": 550,
    "start_time": "2022-06-12T14:05:59.881Z"
   },
   {
    "duration": 640,
    "start_time": "2022-06-12T14:06:00.433Z"
   },
   {
    "duration": 280,
    "start_time": "2022-06-12T14:06:01.074Z"
   },
   {
    "duration": 27,
    "start_time": "2022-06-12T14:06:01.356Z"
   },
   {
    "duration": 21,
    "start_time": "2022-06-12T14:06:01.385Z"
   },
   {
    "duration": 26,
    "start_time": "2022-06-12T14:06:01.408Z"
   },
   {
    "duration": 293,
    "start_time": "2022-06-12T14:06:01.437Z"
   },
   {
    "duration": 340,
    "start_time": "2022-06-12T14:06:01.732Z"
   },
   {
    "duration": 50,
    "start_time": "2022-06-12T14:06:02.074Z"
   },
   {
    "duration": 1345,
    "start_time": "2022-06-12T15:21:37.405Z"
   },
   {
    "duration": 236,
    "start_time": "2022-06-12T15:21:38.752Z"
   },
   {
    "duration": 533,
    "start_time": "2022-06-12T15:21:38.990Z"
   },
   {
    "duration": 622,
    "start_time": "2022-06-12T15:21:39.525Z"
   },
   {
    "duration": 250,
    "start_time": "2022-06-12T15:21:40.149Z"
   },
   {
    "duration": 31,
    "start_time": "2022-06-12T15:21:40.401Z"
   },
   {
    "duration": 7,
    "start_time": "2022-06-12T15:21:40.434Z"
   },
   {
    "duration": 10,
    "start_time": "2022-06-12T15:21:40.443Z"
   },
   {
    "duration": 238,
    "start_time": "2022-06-12T15:21:40.455Z"
   },
   {
    "duration": 271,
    "start_time": "2022-06-12T15:21:40.696Z"
   },
   {
    "duration": 3,
    "start_time": "2022-06-12T15:21:40.969Z"
   },
   {
    "duration": 1344,
    "start_time": "2022-06-12T15:44:33.508Z"
   },
   {
    "duration": 226,
    "start_time": "2022-06-12T15:44:34.854Z"
   },
   {
    "duration": 506,
    "start_time": "2022-06-12T15:44:35.082Z"
   },
   {
    "duration": 627,
    "start_time": "2022-06-12T15:44:35.590Z"
   },
   {
    "duration": 249,
    "start_time": "2022-06-12T15:44:36.219Z"
   },
   {
    "duration": 22,
    "start_time": "2022-06-12T15:44:36.469Z"
   },
   {
    "duration": 6,
    "start_time": "2022-06-12T15:44:36.493Z"
   },
   {
    "duration": 32,
    "start_time": "2022-06-12T15:44:36.501Z"
   },
   {
    "duration": 237,
    "start_time": "2022-06-12T15:44:36.535Z"
   },
   {
    "duration": 266,
    "start_time": "2022-06-12T15:44:36.776Z"
   },
   {
    "duration": 4,
    "start_time": "2022-06-12T15:44:37.043Z"
   },
   {
    "duration": 9,
    "start_time": "2022-06-12T15:44:37.048Z"
   },
   {
    "duration": 1369,
    "start_time": "2022-06-12T15:48:28.037Z"
   },
   {
    "duration": 216,
    "start_time": "2022-06-12T15:48:29.408Z"
   },
   {
    "duration": 505,
    "start_time": "2022-06-12T15:48:29.626Z"
   },
   {
    "duration": 633,
    "start_time": "2022-06-12T15:48:30.133Z"
   },
   {
    "duration": 259,
    "start_time": "2022-06-12T15:48:30.768Z"
   },
   {
    "duration": 23,
    "start_time": "2022-06-12T15:48:31.029Z"
   },
   {
    "duration": 7,
    "start_time": "2022-06-12T15:48:31.053Z"
   },
   {
    "duration": 33,
    "start_time": "2022-06-12T15:48:31.062Z"
   },
   {
    "duration": 222,
    "start_time": "2022-06-12T15:48:31.096Z"
   },
   {
    "duration": 230,
    "start_time": "2022-06-12T15:48:31.321Z"
   },
   {
    "duration": 4,
    "start_time": "2022-06-12T15:48:31.554Z"
   },
   {
    "duration": 65,
    "start_time": "2022-06-12T15:48:31.560Z"
   },
   {
    "duration": 1374,
    "start_time": "2022-06-12T15:55:03.196Z"
   },
   {
    "duration": 227,
    "start_time": "2022-06-12T15:55:04.572Z"
   },
   {
    "duration": 532,
    "start_time": "2022-06-12T15:55:04.800Z"
   },
   {
    "duration": 619,
    "start_time": "2022-06-12T15:55:05.334Z"
   },
   {
    "duration": 253,
    "start_time": "2022-06-12T15:55:05.956Z"
   },
   {
    "duration": 32,
    "start_time": "2022-06-12T15:55:06.211Z"
   },
   {
    "duration": 6,
    "start_time": "2022-06-12T15:55:06.245Z"
   },
   {
    "duration": 31,
    "start_time": "2022-06-12T15:55:06.252Z"
   },
   {
    "duration": 235,
    "start_time": "2022-06-12T15:55:06.285Z"
   },
   {
    "duration": 220,
    "start_time": "2022-06-12T15:55:06.521Z"
   },
   {
    "duration": 200,
    "start_time": "2022-06-12T15:55:06.743Z"
   },
   {
    "duration": 0,
    "start_time": "2022-06-12T15:55:06.945Z"
   },
   {
    "duration": 1359,
    "start_time": "2022-06-12T16:07:02.940Z"
   },
   {
    "duration": 238,
    "start_time": "2022-06-12T16:07:04.301Z"
   },
   {
    "duration": 539,
    "start_time": "2022-06-12T16:07:04.541Z"
   },
   {
    "duration": 619,
    "start_time": "2022-06-12T16:07:05.082Z"
   },
   {
    "duration": 276,
    "start_time": "2022-06-12T16:07:05.704Z"
   },
   {
    "duration": 23,
    "start_time": "2022-06-12T16:07:05.983Z"
   },
   {
    "duration": 19,
    "start_time": "2022-06-12T16:07:06.008Z"
   },
   {
    "duration": 26,
    "start_time": "2022-06-12T16:07:06.029Z"
   },
   {
    "duration": 228,
    "start_time": "2022-06-12T16:07:06.057Z"
   },
   {
    "duration": 278,
    "start_time": "2022-06-12T16:07:06.287Z"
   },
   {
    "duration": 62,
    "start_time": "2022-06-12T16:07:06.567Z"
   },
   {
    "duration": 15,
    "start_time": "2022-06-12T16:07:06.631Z"
   },
   {
    "duration": 1523,
    "start_time": "2022-06-12T22:29:37.961Z"
   },
   {
    "duration": 566,
    "start_time": "2022-06-12T22:29:39.486Z"
   },
   {
    "duration": 1107,
    "start_time": "2022-06-12T22:29:40.054Z"
   },
   {
    "duration": 2200,
    "start_time": "2022-06-12T22:29:41.163Z"
   },
   {
    "duration": 259,
    "start_time": "2022-06-12T22:29:43.365Z"
   },
   {
    "duration": 24,
    "start_time": "2022-06-12T22:29:43.625Z"
   },
   {
    "duration": 6,
    "start_time": "2022-06-12T22:29:43.651Z"
   },
   {
    "duration": 10,
    "start_time": "2022-06-12T22:29:43.658Z"
   },
   {
    "duration": 222,
    "start_time": "2022-06-12T22:30:44.621Z"
   },
   {
    "duration": 364,
    "start_time": "2022-06-12T22:30:44.845Z"
   },
   {
    "duration": 10,
    "start_time": "2022-06-12T22:30:45.210Z"
   },
   {
    "duration": 1437,
    "start_time": "2022-06-12T22:42:29.763Z"
   },
   {
    "duration": 233,
    "start_time": "2022-06-12T22:42:31.208Z"
   },
   {
    "duration": 508,
    "start_time": "2022-06-12T22:42:31.442Z"
   },
   {
    "duration": 632,
    "start_time": "2022-06-12T22:42:31.952Z"
   },
   {
    "duration": 258,
    "start_time": "2022-06-12T22:42:32.586Z"
   },
   {
    "duration": 21,
    "start_time": "2022-06-12T22:42:32.846Z"
   },
   {
    "duration": 5,
    "start_time": "2022-06-12T22:42:32.869Z"
   },
   {
    "duration": 14,
    "start_time": "2022-06-12T22:42:32.897Z"
   },
   {
    "duration": 226,
    "start_time": "2022-06-12T22:42:32.914Z"
   },
   {
    "duration": 293,
    "start_time": "2022-06-12T22:42:33.321Z"
   },
   {
    "duration": 9,
    "start_time": "2022-06-12T22:42:34.237Z"
   },
   {
    "duration": 18,
    "start_time": "2022-06-12T22:42:34.249Z"
   },
   {
    "duration": 3,
    "start_time": "2022-06-12T22:42:34.269Z"
   },
   {
    "duration": 1297,
    "start_time": "2022-06-12T22:55:36.119Z"
   },
   {
    "duration": 225,
    "start_time": "2022-06-12T22:55:37.418Z"
   },
   {
    "duration": 510,
    "start_time": "2022-06-12T22:55:37.645Z"
   },
   {
    "duration": 648,
    "start_time": "2022-06-12T22:55:43.385Z"
   },
   {
    "duration": 271,
    "start_time": "2022-06-12T22:55:44.035Z"
   },
   {
    "duration": 24,
    "start_time": "2022-06-12T22:55:44.308Z"
   },
   {
    "duration": 6,
    "start_time": "2022-06-12T22:55:44.334Z"
   },
   {
    "duration": 9,
    "start_time": "2022-06-12T22:55:44.342Z"
   },
   {
    "duration": 228,
    "start_time": "2022-06-12T22:55:44.652Z"
   },
   {
    "duration": 325,
    "start_time": "2022-06-12T22:55:44.883Z"
   },
   {
    "duration": 11,
    "start_time": "2022-06-12T22:55:45.212Z"
   },
   {
    "duration": 82,
    "start_time": "2022-06-12T22:55:45.224Z"
   },
   {
    "duration": 6,
    "start_time": "2022-06-12T22:55:45.308Z"
   },
   {
    "duration": 1308,
    "start_time": "2022-06-12T23:23:47.664Z"
   },
   {
    "duration": 260,
    "start_time": "2022-06-12T23:23:48.974Z"
   },
   {
    "duration": 512,
    "start_time": "2022-06-12T23:23:49.236Z"
   },
   {
    "duration": 639,
    "start_time": "2022-06-12T23:23:49.750Z"
   },
   {
    "duration": 261,
    "start_time": "2022-06-12T23:23:50.394Z"
   },
   {
    "duration": 37,
    "start_time": "2022-06-12T23:23:50.657Z"
   },
   {
    "duration": 11,
    "start_time": "2022-06-12T23:23:50.698Z"
   },
   {
    "duration": 16,
    "start_time": "2022-06-12T23:23:50.711Z"
   },
   {
    "duration": 240,
    "start_time": "2022-06-12T23:23:50.729Z"
   },
   {
    "duration": 359,
    "start_time": "2022-06-12T23:23:50.971Z"
   },
   {
    "duration": 12,
    "start_time": "2022-06-12T23:23:51.332Z"
   },
   {
    "duration": 3104,
    "start_time": "2022-06-12T23:23:51.345Z"
   },
   {
    "duration": 5,
    "start_time": "2022-06-12T23:23:54.450Z"
   },
   {
    "duration": 0,
    "start_time": "2022-06-12T23:23:54.456Z"
   },
   {
    "duration": 0,
    "start_time": "2022-06-12T23:23:54.458Z"
   },
   {
    "duration": 0,
    "start_time": "2022-06-12T23:23:54.459Z"
   },
   {
    "duration": 1298,
    "start_time": "2022-06-12T23:58:12.548Z"
   },
   {
    "duration": 236,
    "start_time": "2022-06-12T23:58:13.848Z"
   },
   {
    "duration": 535,
    "start_time": "2022-06-12T23:58:14.085Z"
   },
   {
    "duration": 655,
    "start_time": "2022-06-12T23:58:14.622Z"
   },
   {
    "duration": 279,
    "start_time": "2022-06-12T23:58:15.279Z"
   },
   {
    "duration": 40,
    "start_time": "2022-06-12T23:58:15.559Z"
   },
   {
    "duration": 7,
    "start_time": "2022-06-12T23:58:15.606Z"
   },
   {
    "duration": 13,
    "start_time": "2022-06-12T23:58:15.614Z"
   },
   {
    "duration": 232,
    "start_time": "2022-06-12T23:58:15.629Z"
   },
   {
    "duration": 339,
    "start_time": "2022-06-12T23:58:15.863Z"
   },
   {
    "duration": 12,
    "start_time": "2022-06-12T23:58:16.204Z"
   },
   {
    "duration": 2988,
    "start_time": "2022-06-12T23:58:16.218Z"
   },
   {
    "duration": 3,
    "start_time": "2022-06-12T23:58:19.207Z"
   },
   {
    "duration": 126,
    "start_time": "2022-06-12T23:58:19.211Z"
   },
   {
    "duration": 0,
    "start_time": "2022-06-12T23:58:19.339Z"
   },
   {
    "duration": 0,
    "start_time": "2022-06-12T23:58:19.341Z"
   },
   {
    "duration": 1308,
    "start_time": "2022-06-13T00:02:07.652Z"
   },
   {
    "duration": 229,
    "start_time": "2022-06-13T00:02:08.963Z"
   },
   {
    "duration": 522,
    "start_time": "2022-06-13T00:02:09.194Z"
   },
   {
    "duration": 630,
    "start_time": "2022-06-13T00:02:09.718Z"
   },
   {
    "duration": 259,
    "start_time": "2022-06-13T00:02:10.350Z"
   },
   {
    "duration": 24,
    "start_time": "2022-06-13T00:02:10.610Z"
   },
   {
    "duration": 14,
    "start_time": "2022-06-13T00:02:10.636Z"
   },
   {
    "duration": 135,
    "start_time": "2022-06-13T00:02:10.651Z"
   },
   {
    "duration": 0,
    "start_time": "2022-06-13T00:02:10.787Z"
   },
   {
    "duration": 217,
    "start_time": "2022-06-13T00:02:15.320Z"
   },
   {
    "duration": 298,
    "start_time": "2022-06-13T00:02:16.235Z"
   },
   {
    "duration": 9,
    "start_time": "2022-06-13T00:02:16.535Z"
   },
   {
    "duration": 3000,
    "start_time": "2022-06-13T00:02:16.595Z"
   },
   {
    "duration": 7,
    "start_time": "2022-06-13T00:02:19.598Z"
   },
   {
    "duration": 22,
    "start_time": "2022-06-13T00:02:19.610Z"
   },
   {
    "duration": 0,
    "start_time": "2022-06-13T00:02:19.633Z"
   },
   {
    "duration": 0,
    "start_time": "2022-06-13T00:02:19.634Z"
   },
   {
    "duration": 1331,
    "start_time": "2022-06-13T00:17:33.042Z"
   },
   {
    "duration": 246,
    "start_time": "2022-06-13T00:17:34.375Z"
   },
   {
    "duration": 525,
    "start_time": "2022-06-13T00:17:34.623Z"
   },
   {
    "duration": 635,
    "start_time": "2022-06-13T00:17:35.150Z"
   },
   {
    "duration": 274,
    "start_time": "2022-06-13T00:17:35.786Z"
   },
   {
    "duration": 42,
    "start_time": "2022-06-13T00:17:36.062Z"
   },
   {
    "duration": 7,
    "start_time": "2022-06-13T00:17:36.106Z"
   },
   {
    "duration": 5,
    "start_time": "2022-06-13T00:17:36.115Z"
   },
   {
    "duration": 11,
    "start_time": "2022-06-13T00:17:36.122Z"
   },
   {
    "duration": 228,
    "start_time": "2022-06-13T00:17:36.135Z"
   },
   {
    "duration": 269,
    "start_time": "2022-06-13T00:17:36.365Z"
   },
   {
    "duration": 10,
    "start_time": "2022-06-13T00:17:44.545Z"
   },
   {
    "duration": 2885,
    "start_time": "2022-06-13T00:17:44.557Z"
   },
   {
    "duration": 2,
    "start_time": "2022-06-13T00:17:47.443Z"
   },
   {
    "duration": 123,
    "start_time": "2022-06-13T00:17:47.447Z"
   },
   {
    "duration": 0,
    "start_time": "2022-06-13T00:17:47.572Z"
   },
   {
    "duration": 0,
    "start_time": "2022-06-13T00:17:47.573Z"
   },
   {
    "duration": 3032,
    "start_time": "2022-06-13T01:28:49.610Z"
   },
   {
    "duration": 3,
    "start_time": "2022-06-13T01:28:52.644Z"
   },
   {
    "duration": 6,
    "start_time": "2022-06-13T01:28:52.648Z"
   },
   {
    "duration": 1374,
    "start_time": "2022-06-14T00:51:40.604Z"
   },
   {
    "duration": 527,
    "start_time": "2022-06-14T00:51:41.980Z"
   },
   {
    "duration": 1040,
    "start_time": "2022-06-14T00:51:42.509Z"
   },
   {
    "duration": 1994,
    "start_time": "2022-06-14T00:51:43.551Z"
   },
   {
    "duration": 242,
    "start_time": "2022-06-14T00:51:45.547Z"
   },
   {
    "duration": 23,
    "start_time": "2022-06-14T00:51:45.791Z"
   },
   {
    "duration": 12,
    "start_time": "2022-06-14T00:51:45.827Z"
   },
   {
    "duration": 12,
    "start_time": "2022-06-14T00:51:45.840Z"
   },
   {
    "duration": 16,
    "start_time": "2022-06-14T00:51:45.854Z"
   },
   {
    "duration": 204,
    "start_time": "2022-06-14T00:51:45.871Z"
   },
   {
    "duration": 668,
    "start_time": "2022-06-14T00:51:46.077Z"
   },
   {
    "duration": 8,
    "start_time": "2022-06-14T00:51:46.747Z"
   },
   {
    "duration": 2715,
    "start_time": "2022-06-14T00:51:46.756Z"
   },
   {
    "duration": 3,
    "start_time": "2022-06-14T00:51:49.472Z"
   },
   {
    "duration": 6,
    "start_time": "2022-06-14T00:51:49.476Z"
   },
   {
    "duration": 110,
    "start_time": "2022-06-14T00:51:49.483Z"
   },
   {
    "duration": 0,
    "start_time": "2022-06-14T00:51:49.595Z"
   },
   {
    "duration": 1233,
    "start_time": "2022-06-14T01:12:52.179Z"
   },
   {
    "duration": 210,
    "start_time": "2022-06-14T01:12:53.414Z"
   },
   {
    "duration": 490,
    "start_time": "2022-06-14T01:12:53.625Z"
   },
   {
    "duration": 568,
    "start_time": "2022-06-14T01:12:54.117Z"
   },
   {
    "duration": 257,
    "start_time": "2022-06-14T01:12:54.687Z"
   },
   {
    "duration": 21,
    "start_time": "2022-06-14T01:12:54.945Z"
   },
   {
    "duration": 6,
    "start_time": "2022-06-14T01:12:54.967Z"
   },
   {
    "duration": 7,
    "start_time": "2022-06-14T01:12:54.974Z"
   },
   {
    "duration": 12,
    "start_time": "2022-06-14T01:12:54.982Z"
   },
   {
    "duration": 235,
    "start_time": "2022-06-14T01:12:54.996Z"
   },
   {
    "duration": 670,
    "start_time": "2022-06-14T01:12:55.238Z"
   },
   {
    "duration": 19,
    "start_time": "2022-06-14T01:12:55.910Z"
   },
   {
    "duration": 3060,
    "start_time": "2022-06-14T01:12:55.931Z"
   },
   {
    "duration": 3,
    "start_time": "2022-06-14T01:12:58.992Z"
   },
   {
    "duration": 8,
    "start_time": "2022-06-14T01:12:58.996Z"
   },
   {
    "duration": 0,
    "start_time": "2022-06-14T01:12:59.006Z"
   },
   {
    "duration": 0,
    "start_time": "2022-06-14T01:12:59.007Z"
   },
   {
    "duration": 1203,
    "start_time": "2022-06-14T01:25:27.926Z"
   },
   {
    "duration": 217,
    "start_time": "2022-06-14T01:25:29.130Z"
   },
   {
    "duration": 492,
    "start_time": "2022-06-14T01:25:29.349Z"
   },
   {
    "duration": 598,
    "start_time": "2022-06-14T01:25:29.843Z"
   },
   {
    "duration": 231,
    "start_time": "2022-06-14T01:25:30.443Z"
   },
   {
    "duration": 20,
    "start_time": "2022-06-14T01:25:30.676Z"
   },
   {
    "duration": 14,
    "start_time": "2022-06-14T01:25:30.698Z"
   },
   {
    "duration": 13,
    "start_time": "2022-06-14T01:25:30.727Z"
   },
   {
    "duration": 42,
    "start_time": "2022-06-14T01:25:30.742Z"
   },
   {
    "duration": 232,
    "start_time": "2022-06-14T01:25:30.787Z"
   },
   {
    "duration": 681,
    "start_time": "2022-06-14T01:25:31.020Z"
   },
   {
    "duration": 9,
    "start_time": "2022-06-14T01:25:31.702Z"
   },
   {
    "duration": 2945,
    "start_time": "2022-06-14T01:25:31.712Z"
   },
   {
    "duration": 2,
    "start_time": "2022-06-14T01:25:34.659Z"
   },
   {
    "duration": 117,
    "start_time": "2022-06-14T01:25:34.662Z"
   },
   {
    "duration": 0,
    "start_time": "2022-06-14T01:25:34.780Z"
   },
   {
    "duration": 0,
    "start_time": "2022-06-14T01:25:34.782Z"
   },
   {
    "duration": 1275,
    "start_time": "2022-06-14T01:35:01.259Z"
   },
   {
    "duration": 233,
    "start_time": "2022-06-14T01:35:02.537Z"
   },
   {
    "duration": 514,
    "start_time": "2022-06-14T01:35:02.772Z"
   },
   {
    "duration": 650,
    "start_time": "2022-06-14T01:35:03.288Z"
   },
   {
    "duration": 251,
    "start_time": "2022-06-14T01:35:03.941Z"
   },
   {
    "duration": 21,
    "start_time": "2022-06-14T01:35:04.193Z"
   },
   {
    "duration": 8,
    "start_time": "2022-06-14T01:35:04.228Z"
   },
   {
    "duration": 14,
    "start_time": "2022-06-14T01:35:04.238Z"
   },
   {
    "duration": 11,
    "start_time": "2022-06-14T01:35:04.253Z"
   },
   {
    "duration": 218,
    "start_time": "2022-06-14T01:35:04.266Z"
   },
   {
    "duration": 720,
    "start_time": "2022-06-14T01:35:04.486Z"
   },
   {
    "duration": 9,
    "start_time": "2022-06-14T01:35:05.207Z"
   },
   {
    "duration": 3048,
    "start_time": "2022-06-14T01:35:05.218Z"
   },
   {
    "duration": 3,
    "start_time": "2022-06-14T01:35:08.267Z"
   },
   {
    "duration": 24,
    "start_time": "2022-06-14T01:35:08.271Z"
   },
   {
    "duration": 140,
    "start_time": "2022-06-14T01:35:08.296Z"
   },
   {
    "duration": 0,
    "start_time": "2022-06-14T01:35:08.437Z"
   },
   {
    "duration": 1253,
    "start_time": "2022-06-14T01:35:31.892Z"
   },
   {
    "duration": 243,
    "start_time": "2022-06-14T01:35:33.147Z"
   },
   {
    "duration": 495,
    "start_time": "2022-06-14T01:35:33.392Z"
   },
   {
    "duration": 591,
    "start_time": "2022-06-14T01:35:33.889Z"
   },
   {
    "duration": 251,
    "start_time": "2022-06-14T01:35:34.482Z"
   },
   {
    "duration": 22,
    "start_time": "2022-06-14T01:35:34.735Z"
   },
   {
    "duration": 6,
    "start_time": "2022-06-14T01:35:34.759Z"
   },
   {
    "duration": 5,
    "start_time": "2022-06-14T01:35:34.766Z"
   },
   {
    "duration": 20,
    "start_time": "2022-06-14T01:35:34.773Z"
   },
   {
    "duration": 238,
    "start_time": "2022-06-14T01:35:34.796Z"
   },
   {
    "duration": 675,
    "start_time": "2022-06-14T01:35:35.037Z"
   },
   {
    "duration": 25,
    "start_time": "2022-06-14T01:35:35.714Z"
   },
   {
    "duration": 2937,
    "start_time": "2022-06-14T01:35:35.742Z"
   },
   {
    "duration": 2,
    "start_time": "2022-06-14T01:35:38.681Z"
   },
   {
    "duration": 28,
    "start_time": "2022-06-14T01:35:38.684Z"
   },
   {
    "duration": 26,
    "start_time": "2022-06-14T01:35:38.713Z"
   },
   {
    "duration": 11,
    "start_time": "2022-06-14T01:35:38.740Z"
   },
   {
    "duration": 1381,
    "start_time": "2022-06-14T01:38:11.790Z"
   },
   {
    "duration": 247,
    "start_time": "2022-06-14T01:38:13.174Z"
   },
   {
    "duration": 576,
    "start_time": "2022-06-14T01:38:13.423Z"
   },
   {
    "duration": 688,
    "start_time": "2022-06-14T01:38:14.001Z"
   },
   {
    "duration": 318,
    "start_time": "2022-06-14T01:38:14.690Z"
   },
   {
    "duration": 37,
    "start_time": "2022-06-14T01:38:15.009Z"
   },
   {
    "duration": 34,
    "start_time": "2022-06-14T01:38:15.049Z"
   },
   {
    "duration": 21,
    "start_time": "2022-06-14T01:38:15.085Z"
   },
   {
    "duration": 47,
    "start_time": "2022-06-14T01:38:15.108Z"
   },
   {
    "duration": 262,
    "start_time": "2022-06-14T01:38:15.157Z"
   },
   {
    "duration": 734,
    "start_time": "2022-06-14T01:38:15.420Z"
   },
   {
    "duration": 10,
    "start_time": "2022-06-14T01:38:16.156Z"
   },
   {
    "duration": 3126,
    "start_time": "2022-06-14T01:38:16.167Z"
   },
   {
    "duration": 2,
    "start_time": "2022-06-14T01:38:19.295Z"
   },
   {
    "duration": 39,
    "start_time": "2022-06-14T01:38:19.298Z"
   },
   {
    "duration": 21,
    "start_time": "2022-06-14T01:38:19.338Z"
   },
   {
    "duration": 2,
    "start_time": "2022-06-14T01:38:19.361Z"
   },
   {
    "duration": 1319,
    "start_time": "2022-06-14T01:40:03.136Z"
   },
   {
    "duration": 230,
    "start_time": "2022-06-14T01:40:04.457Z"
   },
   {
    "duration": 525,
    "start_time": "2022-06-14T01:40:04.689Z"
   },
   {
    "duration": 631,
    "start_time": "2022-06-14T01:40:05.216Z"
   },
   {
    "duration": 246,
    "start_time": "2022-06-14T01:40:05.848Z"
   },
   {
    "duration": 21,
    "start_time": "2022-06-14T01:40:06.095Z"
   },
   {
    "duration": 7,
    "start_time": "2022-06-14T01:40:06.133Z"
   },
   {
    "duration": 14,
    "start_time": "2022-06-14T01:40:06.142Z"
   },
   {
    "duration": 13,
    "start_time": "2022-06-14T01:40:06.157Z"
   },
   {
    "duration": 292,
    "start_time": "2022-06-14T01:40:06.172Z"
   },
   {
    "duration": 700,
    "start_time": "2022-06-14T01:40:06.466Z"
   },
   {
    "duration": 9,
    "start_time": "2022-06-14T01:40:07.167Z"
   },
   {
    "duration": 2971,
    "start_time": "2022-06-14T01:40:07.178Z"
   },
   {
    "duration": 3,
    "start_time": "2022-06-14T01:40:10.150Z"
   },
   {
    "duration": 28,
    "start_time": "2022-06-14T01:40:10.154Z"
   },
   {
    "duration": 148,
    "start_time": "2022-06-14T01:40:10.183Z"
   },
   {
    "duration": 0,
    "start_time": "2022-06-14T01:40:10.338Z"
   },
   {
    "duration": 1359,
    "start_time": "2022-06-14T01:42:28.446Z"
   },
   {
    "duration": 245,
    "start_time": "2022-06-14T01:42:29.808Z"
   },
   {
    "duration": 544,
    "start_time": "2022-06-14T01:42:30.055Z"
   },
   {
    "duration": 696,
    "start_time": "2022-06-14T01:42:30.601Z"
   },
   {
    "duration": 290,
    "start_time": "2022-06-14T01:42:31.299Z"
   },
   {
    "duration": 23,
    "start_time": "2022-06-14T01:42:31.591Z"
   },
   {
    "duration": 16,
    "start_time": "2022-06-14T01:42:31.626Z"
   },
   {
    "duration": 23,
    "start_time": "2022-06-14T01:42:31.644Z"
   },
   {
    "duration": 21,
    "start_time": "2022-06-14T01:42:31.668Z"
   },
   {
    "duration": 247,
    "start_time": "2022-06-14T01:42:31.692Z"
   },
   {
    "duration": 852,
    "start_time": "2022-06-14T01:42:31.941Z"
   },
   {
    "duration": 12,
    "start_time": "2022-06-14T01:42:32.796Z"
   },
   {
    "duration": 3642,
    "start_time": "2022-06-14T01:42:32.809Z"
   },
   {
    "duration": 4,
    "start_time": "2022-06-14T01:42:36.455Z"
   },
   {
    "duration": 39,
    "start_time": "2022-06-14T01:42:36.461Z"
   },
   {
    "duration": 34,
    "start_time": "2022-06-14T01:42:36.502Z"
   },
   {
    "duration": 3,
    "start_time": "2022-06-14T01:42:36.538Z"
   },
   {
    "duration": 1250,
    "start_time": "2022-06-14T01:49:41.142Z"
   },
   {
    "duration": 208,
    "start_time": "2022-06-14T01:49:42.395Z"
   },
   {
    "duration": 463,
    "start_time": "2022-06-14T01:49:42.605Z"
   },
   {
    "duration": 588,
    "start_time": "2022-06-14T01:49:43.071Z"
   },
   {
    "duration": 245,
    "start_time": "2022-06-14T01:49:43.661Z"
   },
   {
    "duration": 29,
    "start_time": "2022-06-14T01:49:43.907Z"
   },
   {
    "duration": 5,
    "start_time": "2022-06-14T01:49:43.938Z"
   },
   {
    "duration": 3,
    "start_time": "2022-06-14T01:49:43.945Z"
   },
   {
    "duration": 12,
    "start_time": "2022-06-14T01:49:43.949Z"
   },
   {
    "duration": 228,
    "start_time": "2022-06-14T01:49:43.963Z"
   },
   {
    "duration": 637,
    "start_time": "2022-06-14T01:49:44.192Z"
   },
   {
    "duration": 9,
    "start_time": "2022-06-14T01:49:44.830Z"
   },
   {
    "duration": 2820,
    "start_time": "2022-06-14T01:49:44.841Z"
   },
   {
    "duration": 3,
    "start_time": "2022-06-14T01:49:47.663Z"
   },
   {
    "duration": 28,
    "start_time": "2022-06-14T01:49:47.668Z"
   },
   {
    "duration": 39,
    "start_time": "2022-06-14T01:49:47.698Z"
   },
   {
    "duration": 3,
    "start_time": "2022-06-14T01:49:47.738Z"
   },
   {
    "duration": 1250,
    "start_time": "2022-06-14T01:50:43.243Z"
   },
   {
    "duration": 212,
    "start_time": "2022-06-14T01:50:44.495Z"
   },
   {
    "duration": 501,
    "start_time": "2022-06-14T01:50:44.709Z"
   },
   {
    "duration": 586,
    "start_time": "2022-06-14T01:50:45.212Z"
   },
   {
    "duration": 242,
    "start_time": "2022-06-14T01:50:45.800Z"
   },
   {
    "duration": 19,
    "start_time": "2022-06-14T01:50:46.044Z"
   },
   {
    "duration": 6,
    "start_time": "2022-06-14T01:50:46.064Z"
   },
   {
    "duration": 16,
    "start_time": "2022-06-14T01:50:46.071Z"
   },
   {
    "duration": 11,
    "start_time": "2022-06-14T01:50:46.088Z"
   },
   {
    "duration": 251,
    "start_time": "2022-06-14T01:50:46.102Z"
   },
   {
    "duration": 677,
    "start_time": "2022-06-14T01:50:46.355Z"
   },
   {
    "duration": 9,
    "start_time": "2022-06-14T01:50:47.034Z"
   },
   {
    "duration": 2794,
    "start_time": "2022-06-14T01:50:47.044Z"
   },
   {
    "duration": 2,
    "start_time": "2022-06-14T01:50:49.840Z"
   },
   {
    "duration": 27,
    "start_time": "2022-06-14T01:50:49.844Z"
   },
   {
    "duration": 24,
    "start_time": "2022-06-14T01:50:49.873Z"
   },
   {
    "duration": 3,
    "start_time": "2022-06-14T01:50:49.898Z"
   },
   {
    "duration": 1299,
    "start_time": "2022-06-14T01:59:37.855Z"
   },
   {
    "duration": 214,
    "start_time": "2022-06-14T01:59:39.156Z"
   },
   {
    "duration": 474,
    "start_time": "2022-06-14T01:59:39.372Z"
   },
   {
    "duration": 595,
    "start_time": "2022-06-14T01:59:39.848Z"
   },
   {
    "duration": 230,
    "start_time": "2022-06-14T01:59:40.445Z"
   },
   {
    "duration": 25,
    "start_time": "2022-06-14T01:59:40.676Z"
   },
   {
    "duration": 14,
    "start_time": "2022-06-14T01:59:40.703Z"
   },
   {
    "duration": 15,
    "start_time": "2022-06-14T01:59:40.718Z"
   },
   {
    "duration": 19,
    "start_time": "2022-06-14T01:59:40.734Z"
   },
   {
    "duration": 208,
    "start_time": "2022-06-14T01:59:40.755Z"
   },
   {
    "duration": 667,
    "start_time": "2022-06-14T01:59:40.964Z"
   },
   {
    "duration": 15,
    "start_time": "2022-06-14T01:59:41.633Z"
   },
   {
    "duration": 2871,
    "start_time": "2022-06-14T01:59:41.649Z"
   },
   {
    "duration": 2,
    "start_time": "2022-06-14T01:59:44.521Z"
   },
   {
    "duration": 43,
    "start_time": "2022-06-14T01:59:44.524Z"
   },
   {
    "duration": 3,
    "start_time": "2022-06-14T01:59:44.569Z"
   },
   {
    "duration": 9,
    "start_time": "2022-06-14T01:59:44.573Z"
   },
   {
    "duration": 7,
    "start_time": "2022-06-14T01:59:44.583Z"
   },
   {
    "duration": 11,
    "start_time": "2022-06-14T01:59:44.591Z"
   },
   {
    "duration": 1517,
    "start_time": "2022-06-14T09:27:40.239Z"
   },
   {
    "duration": 601,
    "start_time": "2022-06-14T09:27:42.346Z"
   },
   {
    "duration": 1078,
    "start_time": "2022-06-14T09:27:42.949Z"
   },
   {
    "duration": 2131,
    "start_time": "2022-06-14T09:28:02.156Z"
   },
   {
    "duration": 297,
    "start_time": "2022-06-14T09:28:04.289Z"
   },
   {
    "duration": 36,
    "start_time": "2022-06-14T09:28:04.588Z"
   },
   {
    "duration": 8,
    "start_time": "2022-06-14T09:28:04.625Z"
   },
   {
    "duration": 10,
    "start_time": "2022-06-14T09:28:04.636Z"
   },
   {
    "duration": 20,
    "start_time": "2022-06-14T09:28:04.647Z"
   },
   {
    "duration": 250,
    "start_time": "2022-06-14T09:28:04.669Z"
   },
   {
    "duration": 840,
    "start_time": "2022-06-14T09:28:04.922Z"
   },
   {
    "duration": 11,
    "start_time": "2022-06-14T09:28:05.764Z"
   },
   {
    "duration": 253,
    "start_time": "2022-06-14T09:28:05.776Z"
   },
   {
    "duration": 0,
    "start_time": "2022-06-14T09:28:06.032Z"
   },
   {
    "duration": 0,
    "start_time": "2022-06-14T09:28:06.033Z"
   },
   {
    "duration": 0,
    "start_time": "2022-06-14T09:28:06.034Z"
   },
   {
    "duration": 0,
    "start_time": "2022-06-14T09:28:06.037Z"
   },
   {
    "duration": 1,
    "start_time": "2022-06-14T09:28:06.038Z"
   },
   {
    "duration": 1474,
    "start_time": "2022-06-14T09:31:58.765Z"
   },
   {
    "duration": 264,
    "start_time": "2022-06-14T09:32:00.241Z"
   },
   {
    "duration": 502,
    "start_time": "2022-06-14T09:32:00.507Z"
   },
   {
    "duration": 654,
    "start_time": "2022-06-14T09:32:01.011Z"
   },
   {
    "duration": 333,
    "start_time": "2022-06-14T09:32:01.668Z"
   },
   {
    "duration": 47,
    "start_time": "2022-06-14T09:32:02.003Z"
   },
   {
    "duration": 7,
    "start_time": "2022-06-14T09:32:02.052Z"
   },
   {
    "duration": 12,
    "start_time": "2022-06-14T09:32:02.061Z"
   },
   {
    "duration": 21,
    "start_time": "2022-06-14T09:32:02.076Z"
   },
   {
    "duration": 321,
    "start_time": "2022-06-14T09:32:02.099Z"
   },
   {
    "duration": 900,
    "start_time": "2022-06-14T09:32:02.421Z"
   },
   {
    "duration": 14,
    "start_time": "2022-06-14T09:32:03.323Z"
   },
   {
    "duration": 159,
    "start_time": "2022-06-14T09:32:03.339Z"
   },
   {
    "duration": 0,
    "start_time": "2022-06-14T09:32:03.500Z"
   },
   {
    "duration": 0,
    "start_time": "2022-06-14T09:32:03.501Z"
   },
   {
    "duration": 0,
    "start_time": "2022-06-14T09:32:03.502Z"
   },
   {
    "duration": 0,
    "start_time": "2022-06-14T09:32:03.503Z"
   },
   {
    "duration": 0,
    "start_time": "2022-06-14T09:32:03.504Z"
   },
   {
    "duration": 1333,
    "start_time": "2022-06-14T10:09:56.835Z"
   },
   {
    "duration": 216,
    "start_time": "2022-06-14T10:09:58.170Z"
   },
   {
    "duration": 464,
    "start_time": "2022-06-14T10:09:58.387Z"
   },
   {
    "duration": 608,
    "start_time": "2022-06-14T10:09:58.853Z"
   },
   {
    "duration": 261,
    "start_time": "2022-06-14T10:09:59.463Z"
   },
   {
    "duration": 23,
    "start_time": "2022-06-14T10:09:59.726Z"
   },
   {
    "duration": 5,
    "start_time": "2022-06-14T10:09:59.751Z"
   },
   {
    "duration": 8,
    "start_time": "2022-06-14T10:09:59.757Z"
   },
   {
    "duration": 12,
    "start_time": "2022-06-14T10:09:59.766Z"
   },
   {
    "duration": 262,
    "start_time": "2022-06-14T10:09:59.779Z"
   },
   {
    "duration": 720,
    "start_time": "2022-06-14T10:10:00.044Z"
   },
   {
    "duration": 12,
    "start_time": "2022-06-14T10:10:01.375Z"
   },
   {
    "duration": 159,
    "start_time": "2022-06-14T10:10:01.390Z"
   },
   {
    "duration": 0,
    "start_time": "2022-06-14T10:10:01.551Z"
   },
   {
    "duration": 0,
    "start_time": "2022-06-14T10:10:01.553Z"
   },
   {
    "duration": 0,
    "start_time": "2022-06-14T10:10:01.555Z"
   },
   {
    "duration": 3,
    "start_time": "2022-06-14T10:10:01.692Z"
   },
   {
    "duration": 12,
    "start_time": "2022-06-14T10:10:01.698Z"
   },
   {
    "duration": 1334,
    "start_time": "2022-06-14T10:11:10.635Z"
   },
   {
    "duration": 226,
    "start_time": "2022-06-14T10:11:11.972Z"
   },
   {
    "duration": 559,
    "start_time": "2022-06-14T10:11:12.201Z"
   },
   {
    "duration": 610,
    "start_time": "2022-06-14T10:11:12.763Z"
   },
   {
    "duration": 257,
    "start_time": "2022-06-14T10:11:13.375Z"
   },
   {
    "duration": 21,
    "start_time": "2022-06-14T10:11:13.633Z"
   },
   {
    "duration": 6,
    "start_time": "2022-06-14T10:11:13.656Z"
   },
   {
    "duration": 5,
    "start_time": "2022-06-14T10:11:13.664Z"
   },
   {
    "duration": 13,
    "start_time": "2022-06-14T10:11:13.670Z"
   },
   {
    "duration": 235,
    "start_time": "2022-06-14T10:11:13.685Z"
   },
   {
    "duration": 704,
    "start_time": "2022-06-14T10:11:13.923Z"
   },
   {
    "duration": 8,
    "start_time": "2022-06-14T10:11:14.629Z"
   },
   {
    "duration": 1310,
    "start_time": "2022-06-14T10:26:19.262Z"
   },
   {
    "duration": 225,
    "start_time": "2022-06-14T10:26:23.778Z"
   },
   {
    "duration": 471,
    "start_time": "2022-06-14T10:26:24.004Z"
   },
   {
    "duration": 584,
    "start_time": "2022-06-14T10:26:33.103Z"
   },
   {
    "duration": 250,
    "start_time": "2022-06-14T10:26:33.689Z"
   },
   {
    "duration": 25,
    "start_time": "2022-06-14T10:26:33.941Z"
   },
   {
    "duration": 6,
    "start_time": "2022-06-14T10:26:33.967Z"
   },
   {
    "duration": 3,
    "start_time": "2022-06-14T10:26:33.976Z"
   },
   {
    "duration": 9,
    "start_time": "2022-06-14T10:26:37.637Z"
   },
   {
    "duration": 211,
    "start_time": "2022-06-14T10:26:37.648Z"
   },
   {
    "duration": 690,
    "start_time": "2022-06-14T10:26:37.861Z"
   },
   {
    "duration": 5,
    "start_time": "2022-06-14T10:26:38.553Z"
   },
   {
    "duration": 0,
    "start_time": "2022-06-14T10:26:38.559Z"
   },
   {
    "duration": 0,
    "start_time": "2022-06-14T10:26:38.560Z"
   },
   {
    "duration": 0,
    "start_time": "2022-06-14T10:26:38.561Z"
   },
   {
    "duration": 0,
    "start_time": "2022-06-14T10:26:38.562Z"
   },
   {
    "duration": 0,
    "start_time": "2022-06-14T10:26:38.563Z"
   },
   {
    "duration": 0,
    "start_time": "2022-06-14T10:26:38.564Z"
   },
   {
    "duration": 1345,
    "start_time": "2022-06-14T12:05:39.205Z"
   },
   {
    "duration": 235,
    "start_time": "2022-06-14T12:05:40.552Z"
   },
   {
    "duration": 491,
    "start_time": "2022-06-14T12:05:40.788Z"
   },
   {
    "duration": 601,
    "start_time": "2022-06-14T12:05:41.281Z"
   },
   {
    "duration": 259,
    "start_time": "2022-06-14T12:05:41.884Z"
   },
   {
    "duration": 23,
    "start_time": "2022-06-14T12:05:42.145Z"
   },
   {
    "duration": 7,
    "start_time": "2022-06-14T12:05:42.170Z"
   },
   {
    "duration": 4,
    "start_time": "2022-06-14T12:05:42.179Z"
   },
   {
    "duration": 9,
    "start_time": "2022-06-14T12:05:42.185Z"
   },
   {
    "duration": 220,
    "start_time": "2022-06-14T12:05:42.224Z"
   },
   {
    "duration": 758,
    "start_time": "2022-06-14T12:05:42.445Z"
   },
   {
    "duration": 18,
    "start_time": "2022-06-14T12:05:43.205Z"
   },
   {
    "duration": 137,
    "start_time": "2022-06-14T12:05:43.225Z"
   },
   {
    "duration": 0,
    "start_time": "2022-06-14T12:05:43.364Z"
   },
   {
    "duration": 0,
    "start_time": "2022-06-14T12:05:43.365Z"
   },
   {
    "duration": 0,
    "start_time": "2022-06-14T12:05:43.367Z"
   },
   {
    "duration": 0,
    "start_time": "2022-06-14T12:05:43.368Z"
   },
   {
    "duration": 0,
    "start_time": "2022-06-14T12:05:43.370Z"
   },
   {
    "duration": 1339,
    "start_time": "2022-06-14T12:06:39.142Z"
   },
   {
    "duration": 229,
    "start_time": "2022-06-14T12:06:40.484Z"
   },
   {
    "duration": 494,
    "start_time": "2022-06-14T12:06:40.714Z"
   },
   {
    "duration": 610,
    "start_time": "2022-06-14T12:06:41.210Z"
   },
   {
    "duration": 270,
    "start_time": "2022-06-14T12:06:41.823Z"
   },
   {
    "duration": 30,
    "start_time": "2022-06-14T12:06:42.095Z"
   },
   {
    "duration": 6,
    "start_time": "2022-06-14T12:06:42.126Z"
   },
   {
    "duration": 4,
    "start_time": "2022-06-14T12:06:42.133Z"
   },
   {
    "duration": 11,
    "start_time": "2022-06-14T12:06:42.139Z"
   },
   {
    "duration": 248,
    "start_time": "2022-06-14T12:06:42.153Z"
   },
   {
    "duration": 770,
    "start_time": "2022-06-14T12:06:42.402Z"
   },
   {
    "duration": 9,
    "start_time": "2022-06-14T12:06:43.173Z"
   },
   {
    "duration": 23,
    "start_time": "2022-06-14T12:06:43.183Z"
   },
   {
    "duration": 3,
    "start_time": "2022-06-14T12:06:43.223Z"
   },
   {
    "duration": 9,
    "start_time": "2022-06-14T12:06:43.227Z"
   },
   {
    "duration": 8,
    "start_time": "2022-06-14T12:06:43.237Z"
   },
   {
    "duration": 9,
    "start_time": "2022-06-14T12:06:43.246Z"
   },
   {
    "duration": 14,
    "start_time": "2022-06-14T12:06:43.257Z"
   },
   {
    "duration": 1467,
    "start_time": "2022-06-14T14:00:05.710Z"
   },
   {
    "duration": 281,
    "start_time": "2022-06-14T14:00:07.180Z"
   },
   {
    "duration": 569,
    "start_time": "2022-06-14T14:00:07.463Z"
   },
   {
    "duration": 433,
    "start_time": "2022-06-14T14:00:08.040Z"
   },
   {
    "duration": 280,
    "start_time": "2022-06-14T14:00:08.475Z"
   },
   {
    "duration": 9,
    "start_time": "2022-06-14T14:00:08.757Z"
   },
   {
    "duration": 23,
    "start_time": "2022-06-14T14:00:08.768Z"
   },
   {
    "duration": 8,
    "start_time": "2022-06-14T14:00:08.793Z"
   },
   {
    "duration": 44,
    "start_time": "2022-06-14T14:00:08.803Z"
   },
   {
    "duration": 250,
    "start_time": "2022-06-14T14:00:08.850Z"
   },
   {
    "duration": 801,
    "start_time": "2022-06-14T14:00:09.101Z"
   },
   {
    "duration": 11,
    "start_time": "2022-06-14T14:00:09.904Z"
   },
   {
    "duration": 82,
    "start_time": "2022-06-14T14:00:09.924Z"
   },
   {
    "duration": 33,
    "start_time": "2022-06-14T14:00:10.008Z"
   },
   {
    "duration": 52,
    "start_time": "2022-06-14T14:00:10.043Z"
   },
   {
    "duration": 31,
    "start_time": "2022-06-14T14:00:10.097Z"
   },
   {
    "duration": 41,
    "start_time": "2022-06-14T14:00:10.133Z"
   },
   {
    "duration": 32,
    "start_time": "2022-06-14T14:00:10.175Z"
   },
   {
    "duration": 1375,
    "start_time": "2022-06-14T14:00:42.620Z"
   },
   {
    "duration": 255,
    "start_time": "2022-06-14T14:00:43.997Z"
   },
   {
    "duration": 541,
    "start_time": "2022-06-14T14:00:44.254Z"
   },
   {
    "duration": 423,
    "start_time": "2022-06-14T14:00:44.797Z"
   },
   {
    "duration": 274,
    "start_time": "2022-06-14T14:00:45.221Z"
   },
   {
    "duration": 11,
    "start_time": "2022-06-14T14:00:45.497Z"
   },
   {
    "duration": 22,
    "start_time": "2022-06-14T14:00:45.510Z"
   },
   {
    "duration": 8,
    "start_time": "2022-06-14T14:00:45.542Z"
   },
   {
    "duration": 13,
    "start_time": "2022-06-14T14:00:45.552Z"
   },
   {
    "duration": 248,
    "start_time": "2022-06-14T14:00:45.567Z"
   },
   {
    "duration": 820,
    "start_time": "2022-06-14T14:00:45.818Z"
   },
   {
    "duration": 12,
    "start_time": "2022-06-14T14:00:46.640Z"
   },
   {
    "duration": 22,
    "start_time": "2022-06-14T14:00:46.654Z"
   },
   {
    "duration": 3,
    "start_time": "2022-06-14T14:00:46.678Z"
   },
   {
    "duration": 9,
    "start_time": "2022-06-14T14:00:46.683Z"
   },
   {
    "duration": 5,
    "start_time": "2022-06-14T14:00:46.693Z"
   },
   {
    "duration": 13,
    "start_time": "2022-06-14T14:00:46.727Z"
   },
   {
    "duration": 8,
    "start_time": "2022-06-14T14:00:46.742Z"
   },
   {
    "duration": 1421,
    "start_time": "2022-06-14T14:01:27.978Z"
   },
   {
    "duration": 263,
    "start_time": "2022-06-14T14:01:29.401Z"
   },
   {
    "duration": 535,
    "start_time": "2022-06-14T14:01:29.665Z"
   },
   {
    "duration": 403,
    "start_time": "2022-06-14T14:01:30.203Z"
   },
   {
    "duration": 265,
    "start_time": "2022-06-14T14:01:30.608Z"
   },
   {
    "duration": 9,
    "start_time": "2022-06-14T14:01:30.875Z"
   },
   {
    "duration": 11,
    "start_time": "2022-06-14T14:01:30.886Z"
   },
   {
    "duration": 16,
    "start_time": "2022-06-14T14:01:30.898Z"
   },
   {
    "duration": 36,
    "start_time": "2022-06-14T14:01:30.916Z"
   },
   {
    "duration": 243,
    "start_time": "2022-06-14T14:01:30.954Z"
   },
   {
    "duration": 771,
    "start_time": "2022-06-14T14:01:31.198Z"
   },
   {
    "duration": 11,
    "start_time": "2022-06-14T14:01:31.971Z"
   },
   {
    "duration": 35,
    "start_time": "2022-06-14T14:01:31.983Z"
   },
   {
    "duration": 13,
    "start_time": "2022-06-14T14:01:32.027Z"
   },
   {
    "duration": 32,
    "start_time": "2022-06-14T14:01:32.042Z"
   },
   {
    "duration": 8,
    "start_time": "2022-06-14T14:01:32.075Z"
   },
   {
    "duration": 29,
    "start_time": "2022-06-14T14:01:32.085Z"
   },
   {
    "duration": 35,
    "start_time": "2022-06-14T14:01:32.116Z"
   },
   {
    "duration": 1391,
    "start_time": "2022-06-14T17:39:14.708Z"
   },
   {
    "duration": 237,
    "start_time": "2022-06-14T17:39:16.100Z"
   },
   {
    "duration": 507,
    "start_time": "2022-06-14T17:39:16.340Z"
   },
   {
    "duration": 376,
    "start_time": "2022-06-14T17:39:16.849Z"
   },
   {
    "duration": 274,
    "start_time": "2022-06-14T17:39:17.226Z"
   },
   {
    "duration": 22,
    "start_time": "2022-06-14T17:39:17.502Z"
   },
   {
    "duration": 8,
    "start_time": "2022-06-14T17:39:17.527Z"
   },
   {
    "duration": 9,
    "start_time": "2022-06-14T17:39:17.537Z"
   },
   {
    "duration": 18,
    "start_time": "2022-06-14T17:39:17.547Z"
   },
   {
    "duration": 272,
    "start_time": "2022-06-14T17:39:17.568Z"
   },
   {
    "duration": 838,
    "start_time": "2022-06-14T17:39:17.843Z"
   },
   {
    "duration": 12,
    "start_time": "2022-06-14T17:39:18.683Z"
   },
   {
    "duration": 38,
    "start_time": "2022-06-14T17:39:18.697Z"
   },
   {
    "duration": 3,
    "start_time": "2022-06-14T17:39:18.737Z"
   },
   {
    "duration": 22,
    "start_time": "2022-06-14T17:39:18.742Z"
   },
   {
    "duration": 143,
    "start_time": "2022-06-14T17:39:18.766Z"
   },
   {
    "duration": 0,
    "start_time": "2022-06-14T17:39:18.911Z"
   },
   {
    "duration": 0,
    "start_time": "2022-06-14T17:39:18.912Z"
   },
   {
    "duration": 0,
    "start_time": "2022-06-14T17:39:18.914Z"
   },
   {
    "duration": 0,
    "start_time": "2022-06-14T17:39:18.924Z"
   },
   {
    "duration": 0,
    "start_time": "2022-06-14T17:39:18.925Z"
   },
   {
    "duration": 0,
    "start_time": "2022-06-14T17:39:18.927Z"
   },
   {
    "duration": 0,
    "start_time": "2022-06-14T17:39:18.928Z"
   },
   {
    "duration": 1396,
    "start_time": "2022-06-14T17:40:10.443Z"
   },
   {
    "duration": 252,
    "start_time": "2022-06-14T17:40:11.841Z"
   },
   {
    "duration": 567,
    "start_time": "2022-06-14T17:40:12.095Z"
   },
   {
    "duration": 426,
    "start_time": "2022-06-14T17:40:12.664Z"
   },
   {
    "duration": 272,
    "start_time": "2022-06-14T17:40:13.092Z"
   },
   {
    "duration": 12,
    "start_time": "2022-06-14T17:40:13.366Z"
   },
   {
    "duration": 40,
    "start_time": "2022-06-14T17:40:13.380Z"
   },
   {
    "duration": 25,
    "start_time": "2022-06-14T17:40:13.422Z"
   },
   {
    "duration": 32,
    "start_time": "2022-06-14T17:40:13.449Z"
   },
   {
    "duration": 233,
    "start_time": "2022-06-14T17:40:13.484Z"
   },
   {
    "duration": 758,
    "start_time": "2022-06-14T17:40:13.719Z"
   },
   {
    "duration": 10,
    "start_time": "2022-06-14T17:40:14.479Z"
   },
   {
    "duration": 36,
    "start_time": "2022-06-14T17:40:14.491Z"
   },
   {
    "duration": 2,
    "start_time": "2022-06-14T17:40:14.529Z"
   },
   {
    "duration": 23,
    "start_time": "2022-06-14T17:40:14.533Z"
   },
   {
    "duration": 11,
    "start_time": "2022-06-14T17:40:14.558Z"
   },
   {
    "duration": 13,
    "start_time": "2022-06-14T17:40:14.571Z"
   },
   {
    "duration": 147,
    "start_time": "2022-06-14T17:40:14.586Z"
   },
   {
    "duration": 0,
    "start_time": "2022-06-14T17:40:14.735Z"
   },
   {
    "duration": 0,
    "start_time": "2022-06-14T17:40:14.736Z"
   },
   {
    "duration": 0,
    "start_time": "2022-06-14T17:40:14.738Z"
   },
   {
    "duration": 0,
    "start_time": "2022-06-14T17:40:14.738Z"
   },
   {
    "duration": 0,
    "start_time": "2022-06-14T17:40:14.739Z"
   },
   {
    "duration": 1436,
    "start_time": "2022-06-14T17:41:28.918Z"
   },
   {
    "duration": 237,
    "start_time": "2022-06-14T17:41:30.356Z"
   },
   {
    "duration": 521,
    "start_time": "2022-06-14T17:41:30.596Z"
   },
   {
    "duration": 388,
    "start_time": "2022-06-14T17:41:31.123Z"
   },
   {
    "duration": 278,
    "start_time": "2022-06-14T17:41:31.513Z"
   },
   {
    "duration": 11,
    "start_time": "2022-06-14T17:41:31.792Z"
   },
   {
    "duration": 24,
    "start_time": "2022-06-14T17:41:31.804Z"
   },
   {
    "duration": 17,
    "start_time": "2022-06-14T17:41:31.830Z"
   },
   {
    "duration": 19,
    "start_time": "2022-06-14T17:41:31.849Z"
   },
   {
    "duration": 298,
    "start_time": "2022-06-14T17:41:31.871Z"
   },
   {
    "duration": 902,
    "start_time": "2022-06-14T17:41:32.171Z"
   },
   {
    "duration": 11,
    "start_time": "2022-06-14T17:41:33.075Z"
   },
   {
    "duration": 44,
    "start_time": "2022-06-14T17:41:33.088Z"
   },
   {
    "duration": 2,
    "start_time": "2022-06-14T17:41:33.134Z"
   },
   {
    "duration": 19,
    "start_time": "2022-06-14T17:41:33.138Z"
   },
   {
    "duration": 13,
    "start_time": "2022-06-14T17:41:33.158Z"
   },
   {
    "duration": 12,
    "start_time": "2022-06-14T17:41:33.173Z"
   },
   {
    "duration": 36,
    "start_time": "2022-06-14T17:41:33.187Z"
   },
   {
    "duration": 6,
    "start_time": "2022-06-14T17:41:33.225Z"
   },
   {
    "duration": 9,
    "start_time": "2022-06-14T17:41:33.232Z"
   },
   {
    "duration": 6,
    "start_time": "2022-06-14T17:41:33.243Z"
   },
   {
    "duration": 11,
    "start_time": "2022-06-14T17:41:33.251Z"
   },
   {
    "duration": 15,
    "start_time": "2022-06-14T17:41:33.264Z"
   },
   {
    "duration": 1313,
    "start_time": "2022-06-14T19:15:34.846Z"
   },
   {
    "duration": 230,
    "start_time": "2022-06-14T19:15:36.161Z"
   },
   {
    "duration": 560,
    "start_time": "2022-06-14T19:15:36.392Z"
   },
   {
    "duration": 354,
    "start_time": "2022-06-14T19:15:36.954Z"
   },
   {
    "duration": 264,
    "start_time": "2022-06-14T19:15:37.310Z"
   },
   {
    "duration": 10,
    "start_time": "2022-06-14T19:15:37.576Z"
   },
   {
    "duration": 18,
    "start_time": "2022-06-14T19:15:37.588Z"
   },
   {
    "duration": 8,
    "start_time": "2022-06-14T19:15:37.608Z"
   },
   {
    "duration": 9,
    "start_time": "2022-06-14T19:15:37.622Z"
   },
   {
    "duration": 218,
    "start_time": "2022-06-14T19:15:37.635Z"
   },
   {
    "duration": 696,
    "start_time": "2022-06-14T19:15:37.855Z"
   },
   {
    "duration": 542,
    "start_time": "2022-06-14T19:15:38.553Z"
   },
   {
    "duration": 540,
    "start_time": "2022-06-14T19:15:39.097Z"
   },
   {
    "duration": 638,
    "start_time": "2022-06-14T19:15:39.639Z"
   },
   {
    "duration": 541,
    "start_time": "2022-06-14T19:15:40.279Z"
   },
   {
    "duration": 20,
    "start_time": "2022-06-14T19:15:40.821Z"
   },
   {
    "duration": 2,
    "start_time": "2022-06-14T19:15:40.843Z"
   },
   {
    "duration": 19,
    "start_time": "2022-06-14T19:15:40.846Z"
   },
   {
    "duration": 10,
    "start_time": "2022-06-14T19:15:40.867Z"
   },
   {
    "duration": 8,
    "start_time": "2022-06-14T19:15:40.878Z"
   },
   {
    "duration": 4,
    "start_time": "2022-06-14T19:15:40.887Z"
   },
   {
    "duration": 31,
    "start_time": "2022-06-14T19:15:40.893Z"
   },
   {
    "duration": 5,
    "start_time": "2022-06-14T19:15:40.926Z"
   },
   {
    "duration": 8,
    "start_time": "2022-06-14T19:15:40.933Z"
   },
   {
    "duration": 7,
    "start_time": "2022-06-14T19:15:40.942Z"
   },
   {
    "duration": 11,
    "start_time": "2022-06-14T19:15:40.950Z"
   },
   {
    "duration": 1296,
    "start_time": "2022-06-14T19:16:15.652Z"
   },
   {
    "duration": 249,
    "start_time": "2022-06-14T19:16:16.951Z"
   },
   {
    "duration": 511,
    "start_time": "2022-06-14T19:16:17.202Z"
   },
   {
    "duration": 385,
    "start_time": "2022-06-14T19:16:17.724Z"
   },
   {
    "duration": 250,
    "start_time": "2022-06-14T19:16:18.111Z"
   },
   {
    "duration": 11,
    "start_time": "2022-06-14T19:16:18.363Z"
   },
   {
    "duration": 7,
    "start_time": "2022-06-14T19:16:18.375Z"
   },
   {
    "duration": 2,
    "start_time": "2022-06-14T19:16:18.384Z"
   },
   {
    "duration": 12,
    "start_time": "2022-06-14T19:16:18.387Z"
   },
   {
    "duration": 225,
    "start_time": "2022-06-14T19:16:18.424Z"
   },
   {
    "duration": 753,
    "start_time": "2022-06-14T19:16:18.650Z"
   },
   {
    "duration": 539,
    "start_time": "2022-06-14T19:16:19.405Z"
   },
   {
    "duration": 511,
    "start_time": "2022-06-14T19:16:19.946Z"
   },
   {
    "duration": 622,
    "start_time": "2022-06-14T19:16:20.459Z"
   },
   {
    "duration": 496,
    "start_time": "2022-06-14T19:16:21.083Z"
   },
   {
    "duration": 24,
    "start_time": "2022-06-14T19:16:21.581Z"
   },
   {
    "duration": 3,
    "start_time": "2022-06-14T19:16:21.606Z"
   },
   {
    "duration": 16,
    "start_time": "2022-06-14T19:16:21.623Z"
   },
   {
    "duration": 24,
    "start_time": "2022-06-14T19:16:21.641Z"
   },
   {
    "duration": 14,
    "start_time": "2022-06-14T19:16:21.667Z"
   },
   {
    "duration": 16,
    "start_time": "2022-06-14T19:16:21.683Z"
   },
   {
    "duration": 9,
    "start_time": "2022-06-14T19:16:21.700Z"
   },
   {
    "duration": 14,
    "start_time": "2022-06-14T19:16:21.710Z"
   },
   {
    "duration": 6,
    "start_time": "2022-06-14T19:16:21.725Z"
   },
   {
    "duration": 12,
    "start_time": "2022-06-14T19:16:21.733Z"
   },
   {
    "duration": 28,
    "start_time": "2022-06-14T19:16:21.747Z"
   },
   {
    "duration": 1327,
    "start_time": "2022-06-14T19:18:36.727Z"
   },
   {
    "duration": 248,
    "start_time": "2022-06-14T19:18:38.055Z"
   },
   {
    "duration": 511,
    "start_time": "2022-06-14T19:18:38.305Z"
   },
   {
    "duration": 408,
    "start_time": "2022-06-14T19:18:38.822Z"
   },
   {
    "duration": 265,
    "start_time": "2022-06-14T19:18:39.232Z"
   },
   {
    "duration": 9,
    "start_time": "2022-06-14T19:18:39.499Z"
   },
   {
    "duration": 15,
    "start_time": "2022-06-14T19:18:39.510Z"
   },
   {
    "duration": 6,
    "start_time": "2022-06-14T19:18:39.527Z"
   },
   {
    "duration": 10,
    "start_time": "2022-06-14T19:18:39.534Z"
   },
   {
    "duration": 250,
    "start_time": "2022-06-14T19:18:39.547Z"
   },
   {
    "duration": 716,
    "start_time": "2022-06-14T19:18:39.798Z"
   },
   {
    "duration": 573,
    "start_time": "2022-06-14T19:18:40.517Z"
   },
   {
    "duration": 528,
    "start_time": "2022-06-14T19:18:41.092Z"
   },
   {
    "duration": 670,
    "start_time": "2022-06-14T19:18:41.623Z"
   },
   {
    "duration": 580,
    "start_time": "2022-06-14T19:18:42.295Z"
   },
   {
    "duration": 21,
    "start_time": "2022-06-14T19:18:42.876Z"
   },
   {
    "duration": 2,
    "start_time": "2022-06-14T19:18:42.899Z"
   },
   {
    "duration": 34,
    "start_time": "2022-06-14T19:18:42.903Z"
   },
   {
    "duration": 14,
    "start_time": "2022-06-14T19:18:42.938Z"
   },
   {
    "duration": 9,
    "start_time": "2022-06-14T19:18:42.954Z"
   },
   {
    "duration": 5,
    "start_time": "2022-06-14T19:18:42.965Z"
   },
   {
    "duration": 13,
    "start_time": "2022-06-14T19:18:42.972Z"
   },
   {
    "duration": 6,
    "start_time": "2022-06-14T19:18:42.987Z"
   },
   {
    "duration": 10,
    "start_time": "2022-06-14T19:18:42.994Z"
   },
   {
    "duration": 6,
    "start_time": "2022-06-14T19:18:43.005Z"
   },
   {
    "duration": 12,
    "start_time": "2022-06-14T19:18:43.023Z"
   },
   {
    "duration": 1330,
    "start_time": "2022-06-14T19:38:16.761Z"
   },
   {
    "duration": 249,
    "start_time": "2022-06-14T19:38:18.093Z"
   },
   {
    "duration": 558,
    "start_time": "2022-06-14T19:38:18.346Z"
   },
   {
    "duration": 681,
    "start_time": "2022-06-14T19:38:18.906Z"
   },
   {
    "duration": 256,
    "start_time": "2022-06-14T19:38:19.589Z"
   },
   {
    "duration": 9,
    "start_time": "2022-06-14T19:38:19.847Z"
   },
   {
    "duration": 23,
    "start_time": "2022-06-14T19:38:19.858Z"
   },
   {
    "duration": 21,
    "start_time": "2022-06-14T19:38:19.882Z"
   },
   {
    "duration": 34,
    "start_time": "2022-06-14T19:38:19.905Z"
   },
   {
    "duration": 242,
    "start_time": "2022-06-14T19:38:19.941Z"
   },
   {
    "duration": 751,
    "start_time": "2022-06-14T19:38:20.184Z"
   },
   {
    "duration": 561,
    "start_time": "2022-06-14T19:38:20.936Z"
   },
   {
    "duration": 570,
    "start_time": "2022-06-14T19:38:21.498Z"
   },
   {
    "duration": 885,
    "start_time": "2022-06-14T19:38:22.069Z"
   },
   {
    "duration": 573,
    "start_time": "2022-06-14T19:38:22.957Z"
   },
   {
    "duration": 23,
    "start_time": "2022-06-14T19:38:23.532Z"
   },
   {
    "duration": 4,
    "start_time": "2022-06-14T19:38:23.556Z"
   },
   {
    "duration": 25,
    "start_time": "2022-06-14T19:38:23.561Z"
   },
   {
    "duration": 35,
    "start_time": "2022-06-14T19:38:23.588Z"
   },
   {
    "duration": 12,
    "start_time": "2022-06-14T19:38:23.626Z"
   },
   {
    "duration": 8,
    "start_time": "2022-06-14T19:38:23.640Z"
   },
   {
    "duration": 11,
    "start_time": "2022-06-14T19:38:23.650Z"
   },
   {
    "duration": 6,
    "start_time": "2022-06-14T19:38:23.663Z"
   },
   {
    "duration": 17,
    "start_time": "2022-06-14T19:38:23.670Z"
   },
   {
    "duration": 9,
    "start_time": "2022-06-14T19:38:23.689Z"
   },
   {
    "duration": 10,
    "start_time": "2022-06-14T19:38:23.699Z"
   },
   {
    "duration": 1287,
    "start_time": "2022-06-14T19:46:47.556Z"
   },
   {
    "duration": 221,
    "start_time": "2022-06-14T19:46:48.844Z"
   },
   {
    "duration": 494,
    "start_time": "2022-06-14T19:46:49.067Z"
   },
   {
    "duration": 600,
    "start_time": "2022-06-14T19:46:49.562Z"
   },
   {
    "duration": 242,
    "start_time": "2022-06-14T19:46:50.163Z"
   },
   {
    "duration": 17,
    "start_time": "2022-06-14T19:46:50.407Z"
   },
   {
    "duration": 5,
    "start_time": "2022-06-14T19:46:50.426Z"
   },
   {
    "duration": 4,
    "start_time": "2022-06-14T19:46:50.432Z"
   },
   {
    "duration": 12,
    "start_time": "2022-06-14T19:46:50.438Z"
   },
   {
    "duration": 221,
    "start_time": "2022-06-14T19:46:50.452Z"
   },
   {
    "duration": 689,
    "start_time": "2022-06-14T19:46:50.675Z"
   },
   {
    "duration": 524,
    "start_time": "2022-06-14T19:46:51.366Z"
   },
   {
    "duration": 552,
    "start_time": "2022-06-14T19:46:51.892Z"
   },
   {
    "duration": 708,
    "start_time": "2022-06-14T19:46:52.445Z"
   },
   {
    "duration": 535,
    "start_time": "2022-06-14T19:46:53.155Z"
   },
   {
    "duration": 21,
    "start_time": "2022-06-14T19:46:53.692Z"
   },
   {
    "duration": 9,
    "start_time": "2022-06-14T19:46:53.715Z"
   },
   {
    "duration": 20,
    "start_time": "2022-06-14T19:46:53.725Z"
   },
   {
    "duration": 9,
    "start_time": "2022-06-14T19:46:53.747Z"
   },
   {
    "duration": 8,
    "start_time": "2022-06-14T19:46:53.758Z"
   },
   {
    "duration": 7,
    "start_time": "2022-06-14T19:46:53.767Z"
   },
   {
    "duration": 9,
    "start_time": "2022-06-14T19:46:53.775Z"
   },
   {
    "duration": 6,
    "start_time": "2022-06-14T19:46:53.785Z"
   },
   {
    "duration": 9,
    "start_time": "2022-06-14T19:46:53.792Z"
   },
   {
    "duration": 8,
    "start_time": "2022-06-14T19:46:53.803Z"
   },
   {
    "duration": 12,
    "start_time": "2022-06-14T19:46:53.823Z"
   },
   {
    "duration": 1310,
    "start_time": "2022-06-14T21:35:08.161Z"
   },
   {
    "duration": 219,
    "start_time": "2022-06-14T21:35:09.473Z"
   },
   {
    "duration": 491,
    "start_time": "2022-06-14T21:35:09.694Z"
   },
   {
    "duration": 601,
    "start_time": "2022-06-14T21:35:10.188Z"
   },
   {
    "duration": 261,
    "start_time": "2022-06-14T21:35:10.791Z"
   },
   {
    "duration": 9,
    "start_time": "2022-06-14T21:35:11.054Z"
   },
   {
    "duration": 6,
    "start_time": "2022-06-14T21:35:11.064Z"
   },
   {
    "duration": 6,
    "start_time": "2022-06-14T21:35:11.071Z"
   },
   {
    "duration": 10,
    "start_time": "2022-06-14T21:35:11.078Z"
   },
   {
    "duration": 233,
    "start_time": "2022-06-14T21:35:11.090Z"
   },
   {
    "duration": 740,
    "start_time": "2022-06-14T21:35:11.326Z"
   },
   {
    "duration": 567,
    "start_time": "2022-06-14T21:35:12.067Z"
   },
   {
    "duration": 527,
    "start_time": "2022-06-14T21:35:12.636Z"
   },
   {
    "duration": 652,
    "start_time": "2022-06-14T21:35:13.164Z"
   },
   {
    "duration": 517,
    "start_time": "2022-06-14T21:35:13.818Z"
   },
   {
    "duration": 21,
    "start_time": "2022-06-14T21:35:14.337Z"
   },
   {
    "duration": 2,
    "start_time": "2022-06-14T21:35:14.359Z"
   },
   {
    "duration": 24,
    "start_time": "2022-06-14T21:35:14.363Z"
   },
   {
    "duration": 15,
    "start_time": "2022-06-14T21:35:14.388Z"
   },
   {
    "duration": 20,
    "start_time": "2022-06-14T21:35:14.405Z"
   },
   {
    "duration": 6,
    "start_time": "2022-06-14T21:35:14.426Z"
   },
   {
    "duration": 7,
    "start_time": "2022-06-14T21:35:14.434Z"
   },
   {
    "duration": 6,
    "start_time": "2022-06-14T21:35:14.443Z"
   },
   {
    "duration": 12,
    "start_time": "2022-06-14T21:35:14.450Z"
   },
   {
    "duration": 0,
    "start_time": "2022-06-14T21:35:14.464Z"
   },
   {
    "duration": 0,
    "start_time": "2022-06-14T21:35:14.465Z"
   },
   {
    "duration": 0,
    "start_time": "2022-06-14T21:35:14.466Z"
   },
   {
    "duration": 1322,
    "start_time": "2022-06-14T21:36:03.268Z"
   },
   {
    "duration": 221,
    "start_time": "2022-06-14T21:36:04.592Z"
   },
   {
    "duration": 485,
    "start_time": "2022-06-14T21:36:04.815Z"
   },
   {
    "duration": 576,
    "start_time": "2022-06-14T21:36:05.301Z"
   },
   {
    "duration": 246,
    "start_time": "2022-06-14T21:36:05.880Z"
   },
   {
    "duration": 11,
    "start_time": "2022-06-14T21:36:06.127Z"
   },
   {
    "duration": 7,
    "start_time": "2022-06-14T21:36:06.139Z"
   },
   {
    "duration": 17,
    "start_time": "2022-06-14T21:36:06.147Z"
   },
   {
    "duration": 15,
    "start_time": "2022-06-14T21:36:06.166Z"
   },
   {
    "duration": 215,
    "start_time": "2022-06-14T21:36:06.183Z"
   },
   {
    "duration": 703,
    "start_time": "2022-06-14T21:36:06.399Z"
   },
   {
    "duration": 523,
    "start_time": "2022-06-14T21:36:07.103Z"
   },
   {
    "duration": 537,
    "start_time": "2022-06-14T21:36:07.628Z"
   },
   {
    "duration": 640,
    "start_time": "2022-06-14T21:36:08.167Z"
   },
   {
    "duration": 553,
    "start_time": "2022-06-14T21:36:08.809Z"
   },
   {
    "duration": 20,
    "start_time": "2022-06-14T21:36:09.364Z"
   },
   {
    "duration": 2,
    "start_time": "2022-06-14T21:36:09.386Z"
   },
   {
    "duration": 35,
    "start_time": "2022-06-14T21:36:09.389Z"
   },
   {
    "duration": 9,
    "start_time": "2022-06-14T21:36:09.425Z"
   },
   {
    "duration": 15,
    "start_time": "2022-06-14T21:36:09.436Z"
   },
   {
    "duration": 6,
    "start_time": "2022-06-14T21:36:09.453Z"
   },
   {
    "duration": 9,
    "start_time": "2022-06-14T21:36:09.460Z"
   },
   {
    "duration": 10,
    "start_time": "2022-06-14T21:36:09.471Z"
   },
   {
    "duration": 430,
    "start_time": "2022-06-14T21:36:09.483Z"
   },
   {
    "duration": 0,
    "start_time": "2022-06-14T21:36:09.915Z"
   },
   {
    "duration": 0,
    "start_time": "2022-06-14T21:36:09.916Z"
   },
   {
    "duration": 0,
    "start_time": "2022-06-14T21:36:09.917Z"
   },
   {
    "duration": 1337,
    "start_time": "2022-06-14T21:38:08.610Z"
   },
   {
    "duration": 216,
    "start_time": "2022-06-14T21:38:09.950Z"
   },
   {
    "duration": 477,
    "start_time": "2022-06-14T21:38:10.168Z"
   },
   {
    "duration": 597,
    "start_time": "2022-06-14T21:38:10.646Z"
   },
   {
    "duration": 243,
    "start_time": "2022-06-14T21:38:11.246Z"
   },
   {
    "duration": 10,
    "start_time": "2022-06-14T21:38:11.490Z"
   },
   {
    "duration": 6,
    "start_time": "2022-06-14T21:38:11.502Z"
   },
   {
    "duration": 2,
    "start_time": "2022-06-14T21:38:11.523Z"
   },
   {
    "duration": 10,
    "start_time": "2022-06-14T21:38:11.527Z"
   },
   {
    "duration": 225,
    "start_time": "2022-06-14T21:38:11.538Z"
   },
   {
    "duration": 716,
    "start_time": "2022-06-14T21:38:11.765Z"
   },
   {
    "duration": 592,
    "start_time": "2022-06-14T21:38:12.483Z"
   },
   {
    "duration": 548,
    "start_time": "2022-06-14T21:38:13.076Z"
   },
   {
    "duration": 658,
    "start_time": "2022-06-14T21:38:13.627Z"
   },
   {
    "duration": 528,
    "start_time": "2022-06-14T21:38:14.287Z"
   },
   {
    "duration": 22,
    "start_time": "2022-06-14T21:38:14.817Z"
   },
   {
    "duration": 2,
    "start_time": "2022-06-14T21:38:14.841Z"
   },
   {
    "duration": 25,
    "start_time": "2022-06-14T21:38:14.845Z"
   },
   {
    "duration": 8,
    "start_time": "2022-06-14T21:38:14.872Z"
   },
   {
    "duration": 8,
    "start_time": "2022-06-14T21:38:14.881Z"
   },
   {
    "duration": 5,
    "start_time": "2022-06-14T21:38:14.891Z"
   },
   {
    "duration": 6,
    "start_time": "2022-06-14T21:38:14.922Z"
   },
   {
    "duration": 112,
    "start_time": "2022-06-14T21:38:14.930Z"
   },
   {
    "duration": 0,
    "start_time": "2022-06-14T21:38:15.043Z"
   },
   {
    "duration": 0,
    "start_time": "2022-06-14T21:38:15.045Z"
   },
   {
    "duration": 0,
    "start_time": "2022-06-14T21:38:15.046Z"
   },
   {
    "duration": 0,
    "start_time": "2022-06-14T21:38:15.047Z"
   },
   {
    "duration": 0,
    "start_time": "2022-06-14T21:38:15.048Z"
   },
   {
    "duration": 1230,
    "start_time": "2022-06-14T21:38:54.274Z"
   },
   {
    "duration": 209,
    "start_time": "2022-06-14T21:38:55.506Z"
   },
   {
    "duration": 474,
    "start_time": "2022-06-14T21:38:55.722Z"
   },
   {
    "duration": 582,
    "start_time": "2022-06-14T21:38:56.198Z"
   },
   {
    "duration": 246,
    "start_time": "2022-06-14T21:38:56.782Z"
   },
   {
    "duration": 9,
    "start_time": "2022-06-14T21:38:57.030Z"
   },
   {
    "duration": 7,
    "start_time": "2022-06-14T21:38:57.041Z"
   },
   {
    "duration": 5,
    "start_time": "2022-06-14T21:38:57.049Z"
   },
   {
    "duration": 9,
    "start_time": "2022-06-14T21:38:57.057Z"
   },
   {
    "duration": 225,
    "start_time": "2022-06-14T21:38:57.067Z"
   },
   {
    "duration": 685,
    "start_time": "2022-06-14T21:38:57.293Z"
   },
   {
    "duration": 526,
    "start_time": "2022-06-14T21:38:57.979Z"
   },
   {
    "duration": 534,
    "start_time": "2022-06-14T21:38:58.507Z"
   },
   {
    "duration": 665,
    "start_time": "2022-06-14T21:38:59.042Z"
   },
   {
    "duration": 536,
    "start_time": "2022-06-14T21:38:59.709Z"
   },
   {
    "duration": 20,
    "start_time": "2022-06-14T21:39:00.247Z"
   },
   {
    "duration": 2,
    "start_time": "2022-06-14T21:39:00.269Z"
   },
   {
    "duration": 23,
    "start_time": "2022-06-14T21:39:00.272Z"
   },
   {
    "duration": 27,
    "start_time": "2022-06-14T21:39:00.296Z"
   },
   {
    "duration": 9,
    "start_time": "2022-06-14T21:39:00.325Z"
   },
   {
    "duration": 13,
    "start_time": "2022-06-14T21:39:00.336Z"
   },
   {
    "duration": 10,
    "start_time": "2022-06-14T21:39:00.351Z"
   },
   {
    "duration": 9,
    "start_time": "2022-06-14T21:39:00.363Z"
   },
   {
    "duration": 12,
    "start_time": "2022-06-14T21:39:00.374Z"
   },
   {
    "duration": 412,
    "start_time": "2022-06-14T21:39:00.388Z"
   },
   {
    "duration": 0,
    "start_time": "2022-06-14T21:39:00.802Z"
   },
   {
    "duration": 0,
    "start_time": "2022-06-14T21:39:00.803Z"
   },
   {
    "duration": 0,
    "start_time": "2022-06-14T21:39:00.804Z"
   },
   {
    "duration": 1272,
    "start_time": "2022-06-14T22:02:49.270Z"
   },
   {
    "duration": 205,
    "start_time": "2022-06-14T22:02:50.544Z"
   },
   {
    "duration": 468,
    "start_time": "2022-06-14T22:02:50.750Z"
   },
   {
    "duration": 570,
    "start_time": "2022-06-14T22:02:51.224Z"
   },
   {
    "duration": 244,
    "start_time": "2022-06-14T22:02:51.795Z"
   },
   {
    "duration": 9,
    "start_time": "2022-06-14T22:02:52.040Z"
   },
   {
    "duration": 6,
    "start_time": "2022-06-14T22:02:52.051Z"
   },
   {
    "duration": 5,
    "start_time": "2022-06-14T22:02:52.058Z"
   },
   {
    "duration": 11,
    "start_time": "2022-06-14T22:02:52.064Z"
   },
   {
    "duration": 220,
    "start_time": "2022-06-14T22:02:52.077Z"
   },
   {
    "duration": 717,
    "start_time": "2022-06-14T22:02:52.298Z"
   },
   {
    "duration": 530,
    "start_time": "2022-06-14T22:02:53.017Z"
   },
   {
    "duration": 503,
    "start_time": "2022-06-14T22:02:53.548Z"
   },
   {
    "duration": 619,
    "start_time": "2022-06-14T22:02:54.052Z"
   },
   {
    "duration": 502,
    "start_time": "2022-06-14T22:02:54.672Z"
   },
   {
    "duration": 20,
    "start_time": "2022-06-14T22:02:55.176Z"
   },
   {
    "duration": 2,
    "start_time": "2022-06-14T22:02:55.198Z"
   },
   {
    "duration": 32,
    "start_time": "2022-06-14T22:02:55.201Z"
   },
   {
    "duration": 8,
    "start_time": "2022-06-14T22:02:55.235Z"
   },
   {
    "duration": 7,
    "start_time": "2022-06-14T22:02:55.244Z"
   },
   {
    "duration": 5,
    "start_time": "2022-06-14T22:02:55.253Z"
   },
   {
    "duration": 7,
    "start_time": "2022-06-14T22:02:55.260Z"
   },
   {
    "duration": 7,
    "start_time": "2022-06-14T22:02:55.268Z"
   },
   {
    "duration": 6,
    "start_time": "2022-06-14T22:02:55.276Z"
   },
   {
    "duration": 6,
    "start_time": "2022-06-14T22:02:55.283Z"
   },
   {
    "duration": 32,
    "start_time": "2022-06-14T22:02:55.291Z"
   },
   {
    "duration": 390,
    "start_time": "2022-06-14T22:02:55.325Z"
   },
   {
    "duration": 0,
    "start_time": "2022-06-14T22:02:55.717Z"
   },
   {
    "duration": 0,
    "start_time": "2022-06-14T22:02:55.718Z"
   },
   {
    "duration": 0,
    "start_time": "2022-06-14T22:02:55.719Z"
   },
   {
    "duration": 0,
    "start_time": "2022-06-14T22:02:55.723Z"
   },
   {
    "duration": 0,
    "start_time": "2022-06-14T22:02:55.724Z"
   },
   {
    "duration": 0,
    "start_time": "2022-06-14T22:02:55.724Z"
   },
   {
    "duration": 1269,
    "start_time": "2022-06-14T22:07:36.387Z"
   },
   {
    "duration": 212,
    "start_time": "2022-06-14T22:07:37.658Z"
   },
   {
    "duration": 485,
    "start_time": "2022-06-14T22:07:37.871Z"
   },
   {
    "duration": 596,
    "start_time": "2022-06-14T22:07:38.358Z"
   },
   {
    "duration": 251,
    "start_time": "2022-06-14T22:07:38.956Z"
   },
   {
    "duration": 15,
    "start_time": "2022-06-14T22:07:39.208Z"
   },
   {
    "duration": 7,
    "start_time": "2022-06-14T22:07:39.225Z"
   },
   {
    "duration": 7,
    "start_time": "2022-06-14T22:07:39.234Z"
   },
   {
    "duration": 11,
    "start_time": "2022-06-14T22:07:39.243Z"
   },
   {
    "duration": 230,
    "start_time": "2022-06-14T22:07:39.256Z"
   },
   {
    "duration": 710,
    "start_time": "2022-06-14T22:07:39.487Z"
   },
   {
    "duration": 530,
    "start_time": "2022-06-14T22:07:40.198Z"
   },
   {
    "duration": 554,
    "start_time": "2022-06-14T22:07:40.729Z"
   },
   {
    "duration": 670,
    "start_time": "2022-06-14T22:07:41.285Z"
   },
   {
    "duration": 543,
    "start_time": "2022-06-14T22:07:41.956Z"
   },
   {
    "duration": 31,
    "start_time": "2022-06-14T22:07:42.500Z"
   },
   {
    "duration": 5,
    "start_time": "2022-06-14T22:07:42.533Z"
   },
   {
    "duration": 40,
    "start_time": "2022-06-14T22:07:42.540Z"
   },
   {
    "duration": 11,
    "start_time": "2022-06-14T22:07:42.583Z"
   },
   {
    "duration": 15,
    "start_time": "2022-06-14T22:07:42.595Z"
   },
   {
    "duration": 11,
    "start_time": "2022-06-14T22:07:42.612Z"
   },
   {
    "duration": 12,
    "start_time": "2022-06-14T22:07:42.625Z"
   },
   {
    "duration": 6,
    "start_time": "2022-06-14T22:07:42.641Z"
   },
   {
    "duration": 9,
    "start_time": "2022-06-14T22:07:42.649Z"
   },
   {
    "duration": 11,
    "start_time": "2022-06-14T22:07:42.660Z"
   },
   {
    "duration": 9,
    "start_time": "2022-06-14T22:07:42.672Z"
   },
   {
    "duration": 7,
    "start_time": "2022-06-14T22:07:42.683Z"
   },
   {
    "duration": 0,
    "start_time": "2022-06-14T22:07:42.692Z"
   },
   {
    "duration": 0,
    "start_time": "2022-06-14T22:07:42.693Z"
   },
   {
    "duration": 0,
    "start_time": "2022-06-14T22:07:42.695Z"
   },
   {
    "duration": 0,
    "start_time": "2022-06-14T22:07:42.696Z"
   },
   {
    "duration": 0,
    "start_time": "2022-06-14T22:07:42.697Z"
   },
   {
    "duration": 0,
    "start_time": "2022-06-14T22:07:42.698Z"
   },
   {
    "duration": 1263,
    "start_time": "2022-06-14T22:08:43.142Z"
   },
   {
    "duration": 201,
    "start_time": "2022-06-14T22:08:44.407Z"
   },
   {
    "duration": 472,
    "start_time": "2022-06-14T22:08:44.609Z"
   },
   {
    "duration": 602,
    "start_time": "2022-06-14T22:08:45.082Z"
   },
   {
    "duration": 244,
    "start_time": "2022-06-14T22:08:45.686Z"
   },
   {
    "duration": 10,
    "start_time": "2022-06-14T22:08:45.932Z"
   },
   {
    "duration": 14,
    "start_time": "2022-06-14T22:08:45.943Z"
   },
   {
    "duration": 21,
    "start_time": "2022-06-14T22:08:45.962Z"
   },
   {
    "duration": 14,
    "start_time": "2022-06-14T22:08:45.985Z"
   },
   {
    "duration": 204,
    "start_time": "2022-06-14T22:08:46.001Z"
   },
   {
    "duration": 688,
    "start_time": "2022-06-14T22:08:46.207Z"
   },
   {
    "duration": 527,
    "start_time": "2022-06-14T22:08:46.896Z"
   },
   {
    "duration": 522,
    "start_time": "2022-06-14T22:08:47.424Z"
   },
   {
    "duration": 639,
    "start_time": "2022-06-14T22:08:47.949Z"
   },
   {
    "duration": 545,
    "start_time": "2022-06-14T22:08:48.589Z"
   },
   {
    "duration": 22,
    "start_time": "2022-06-14T22:08:49.135Z"
   },
   {
    "duration": 2,
    "start_time": "2022-06-14T22:08:49.159Z"
   },
   {
    "duration": 27,
    "start_time": "2022-06-14T22:08:49.163Z"
   },
   {
    "duration": 10,
    "start_time": "2022-06-14T22:08:49.191Z"
   },
   {
    "duration": 10,
    "start_time": "2022-06-14T22:08:49.222Z"
   },
   {
    "duration": 6,
    "start_time": "2022-06-14T22:08:49.234Z"
   },
   {
    "duration": 11,
    "start_time": "2022-06-14T22:08:49.242Z"
   },
   {
    "duration": 9,
    "start_time": "2022-06-14T22:08:49.255Z"
   },
   {
    "duration": 12,
    "start_time": "2022-06-14T22:08:49.266Z"
   },
   {
    "duration": 9,
    "start_time": "2022-06-14T22:08:49.280Z"
   },
   {
    "duration": 10,
    "start_time": "2022-06-14T22:08:49.291Z"
   },
   {
    "duration": 8,
    "start_time": "2022-06-14T22:08:49.302Z"
   },
   {
    "duration": 1,
    "start_time": "2022-06-14T22:08:49.322Z"
   },
   {
    "duration": 0,
    "start_time": "2022-06-14T22:08:49.324Z"
   },
   {
    "duration": 0,
    "start_time": "2022-06-14T22:08:49.325Z"
   },
   {
    "duration": 0,
    "start_time": "2022-06-14T22:08:49.327Z"
   },
   {
    "duration": 0,
    "start_time": "2022-06-14T22:08:49.328Z"
   },
   {
    "duration": 0,
    "start_time": "2022-06-14T22:08:49.329Z"
   },
   {
    "duration": 1235,
    "start_time": "2022-06-14T22:15:27.226Z"
   },
   {
    "duration": 207,
    "start_time": "2022-06-14T22:15:28.463Z"
   },
   {
    "duration": 479,
    "start_time": "2022-06-14T22:15:28.674Z"
   },
   {
    "duration": 589,
    "start_time": "2022-06-14T22:15:29.156Z"
   },
   {
    "duration": 261,
    "start_time": "2022-06-14T22:15:29.747Z"
   },
   {
    "duration": 20,
    "start_time": "2022-06-14T22:15:30.010Z"
   },
   {
    "duration": 25,
    "start_time": "2022-06-14T22:15:30.031Z"
   },
   {
    "duration": 9,
    "start_time": "2022-06-14T22:15:30.057Z"
   },
   {
    "duration": 15,
    "start_time": "2022-06-14T22:15:30.068Z"
   },
   {
    "duration": 211,
    "start_time": "2022-06-14T22:15:30.085Z"
   },
   {
    "duration": 702,
    "start_time": "2022-06-14T22:15:30.298Z"
   },
   {
    "duration": 527,
    "start_time": "2022-06-14T22:15:31.002Z"
   },
   {
    "duration": 520,
    "start_time": "2022-06-14T22:15:31.532Z"
   },
   {
    "duration": 673,
    "start_time": "2022-06-14T22:15:32.054Z"
   },
   {
    "duration": 499,
    "start_time": "2022-06-14T22:15:32.729Z"
   },
   {
    "duration": 22,
    "start_time": "2022-06-14T22:15:33.229Z"
   },
   {
    "duration": 3,
    "start_time": "2022-06-14T22:15:33.253Z"
   },
   {
    "duration": 23,
    "start_time": "2022-06-14T22:15:33.258Z"
   },
   {
    "duration": 9,
    "start_time": "2022-06-14T22:15:33.282Z"
   },
   {
    "duration": 31,
    "start_time": "2022-06-14T22:15:33.292Z"
   },
   {
    "duration": 14,
    "start_time": "2022-06-14T22:15:33.325Z"
   },
   {
    "duration": 10,
    "start_time": "2022-06-14T22:15:33.340Z"
   },
   {
    "duration": 9,
    "start_time": "2022-06-14T22:15:33.351Z"
   },
   {
    "duration": 7,
    "start_time": "2022-06-14T22:15:33.362Z"
   },
   {
    "duration": 7,
    "start_time": "2022-06-14T22:15:33.371Z"
   },
   {
    "duration": 13,
    "start_time": "2022-06-14T22:15:33.379Z"
   },
   {
    "duration": 8,
    "start_time": "2022-06-14T22:15:33.393Z"
   },
   {
    "duration": 0,
    "start_time": "2022-06-14T22:15:33.403Z"
   },
   {
    "duration": 0,
    "start_time": "2022-06-14T22:15:33.404Z"
   },
   {
    "duration": 0,
    "start_time": "2022-06-14T22:15:33.405Z"
   },
   {
    "duration": 0,
    "start_time": "2022-06-14T22:15:33.406Z"
   },
   {
    "duration": 0,
    "start_time": "2022-06-14T22:15:33.407Z"
   },
   {
    "duration": 0,
    "start_time": "2022-06-14T22:15:33.408Z"
   },
   {
    "duration": 1290,
    "start_time": "2022-06-14T22:16:45.755Z"
   },
   {
    "duration": 211,
    "start_time": "2022-06-14T22:16:47.047Z"
   },
   {
    "duration": 480,
    "start_time": "2022-06-14T22:16:47.260Z"
   },
   {
    "duration": 599,
    "start_time": "2022-06-14T22:16:47.741Z"
   },
   {
    "duration": 234,
    "start_time": "2022-06-14T22:16:48.343Z"
   },
   {
    "duration": 8,
    "start_time": "2022-06-14T22:16:48.579Z"
   },
   {
    "duration": 5,
    "start_time": "2022-06-14T22:16:48.589Z"
   },
   {
    "duration": 5,
    "start_time": "2022-06-14T22:16:48.595Z"
   },
   {
    "duration": 28,
    "start_time": "2022-06-14T22:16:48.601Z"
   },
   {
    "duration": 213,
    "start_time": "2022-06-14T22:16:48.631Z"
   },
   {
    "duration": 710,
    "start_time": "2022-06-14T22:16:48.845Z"
   },
   {
    "duration": 517,
    "start_time": "2022-06-14T22:16:49.557Z"
   },
   {
    "duration": 510,
    "start_time": "2022-06-14T22:16:50.076Z"
   },
   {
    "duration": 634,
    "start_time": "2022-06-14T22:16:50.589Z"
   },
   {
    "duration": 505,
    "start_time": "2022-06-14T22:16:51.225Z"
   },
   {
    "duration": 22,
    "start_time": "2022-06-14T22:16:51.732Z"
   },
   {
    "duration": 2,
    "start_time": "2022-06-14T22:16:51.756Z"
   },
   {
    "duration": 25,
    "start_time": "2022-06-14T22:16:51.759Z"
   },
   {
    "duration": 9,
    "start_time": "2022-06-14T22:16:51.786Z"
   },
   {
    "duration": 35,
    "start_time": "2022-06-14T22:16:51.796Z"
   },
   {
    "duration": 5,
    "start_time": "2022-06-14T22:16:51.833Z"
   },
   {
    "duration": 8,
    "start_time": "2022-06-14T22:16:51.839Z"
   },
   {
    "duration": 7,
    "start_time": "2022-06-14T22:16:51.848Z"
   },
   {
    "duration": 5,
    "start_time": "2022-06-14T22:16:51.856Z"
   },
   {
    "duration": 5,
    "start_time": "2022-06-14T22:16:51.863Z"
   },
   {
    "duration": 8,
    "start_time": "2022-06-14T22:16:51.870Z"
   },
   {
    "duration": 427,
    "start_time": "2022-06-14T22:16:51.880Z"
   },
   {
    "duration": 0,
    "start_time": "2022-06-14T22:16:52.309Z"
   },
   {
    "duration": 0,
    "start_time": "2022-06-14T22:16:52.310Z"
   },
   {
    "duration": 0,
    "start_time": "2022-06-14T22:16:52.311Z"
   },
   {
    "duration": 0,
    "start_time": "2022-06-14T22:16:52.312Z"
   },
   {
    "duration": 0,
    "start_time": "2022-06-14T22:16:52.313Z"
   },
   {
    "duration": 0,
    "start_time": "2022-06-14T22:16:52.314Z"
   },
   {
    "duration": 1271,
    "start_time": "2022-06-14T22:18:20.059Z"
   },
   {
    "duration": 213,
    "start_time": "2022-06-14T22:18:21.332Z"
   },
   {
    "duration": 480,
    "start_time": "2022-06-14T22:18:21.547Z"
   },
   {
    "duration": 618,
    "start_time": "2022-06-14T22:18:22.028Z"
   },
   {
    "duration": 244,
    "start_time": "2022-06-14T22:18:22.648Z"
   },
   {
    "duration": 8,
    "start_time": "2022-06-14T22:18:22.894Z"
   },
   {
    "duration": 22,
    "start_time": "2022-06-14T22:18:22.903Z"
   },
   {
    "duration": 4,
    "start_time": "2022-06-14T22:18:22.927Z"
   },
   {
    "duration": 10,
    "start_time": "2022-06-14T22:18:22.932Z"
   },
   {
    "duration": 213,
    "start_time": "2022-06-14T22:18:22.943Z"
   },
   {
    "duration": 675,
    "start_time": "2022-06-14T22:18:23.158Z"
   },
   {
    "duration": 563,
    "start_time": "2022-06-14T22:18:23.835Z"
   },
   {
    "duration": 567,
    "start_time": "2022-06-14T22:18:24.399Z"
   },
   {
    "duration": 655,
    "start_time": "2022-06-14T22:18:24.969Z"
   },
   {
    "duration": 508,
    "start_time": "2022-06-14T22:18:25.626Z"
   },
   {
    "duration": 21,
    "start_time": "2022-06-14T22:18:26.136Z"
   },
   {
    "duration": 2,
    "start_time": "2022-06-14T22:18:26.159Z"
   },
   {
    "duration": 23,
    "start_time": "2022-06-14T22:18:26.162Z"
   },
   {
    "duration": 9,
    "start_time": "2022-06-14T22:18:26.186Z"
   },
   {
    "duration": 30,
    "start_time": "2022-06-14T22:18:26.197Z"
   },
   {
    "duration": 12,
    "start_time": "2022-06-14T22:18:26.228Z"
   },
   {
    "duration": 17,
    "start_time": "2022-06-14T22:18:26.241Z"
   },
   {
    "duration": 9,
    "start_time": "2022-06-14T22:18:26.260Z"
   },
   {
    "duration": 13,
    "start_time": "2022-06-14T22:18:26.271Z"
   },
   {
    "duration": 13,
    "start_time": "2022-06-14T22:18:26.285Z"
   },
   {
    "duration": 20,
    "start_time": "2022-06-14T22:18:26.299Z"
   },
   {
    "duration": 127,
    "start_time": "2022-06-14T22:18:26.320Z"
   },
   {
    "duration": 0,
    "start_time": "2022-06-14T22:18:26.449Z"
   },
   {
    "duration": 0,
    "start_time": "2022-06-14T22:18:26.450Z"
   },
   {
    "duration": 0,
    "start_time": "2022-06-14T22:18:26.451Z"
   },
   {
    "duration": 0,
    "start_time": "2022-06-14T22:18:26.452Z"
   },
   {
    "duration": 0,
    "start_time": "2022-06-14T22:18:26.453Z"
   },
   {
    "duration": 0,
    "start_time": "2022-06-14T22:18:26.454Z"
   },
   {
    "duration": 1360,
    "start_time": "2022-06-14T22:21:01.851Z"
   },
   {
    "duration": 223,
    "start_time": "2022-06-14T22:21:03.214Z"
   },
   {
    "duration": 495,
    "start_time": "2022-06-14T22:21:03.438Z"
   },
   {
    "duration": 595,
    "start_time": "2022-06-14T22:21:03.934Z"
   },
   {
    "duration": 250,
    "start_time": "2022-06-14T22:21:04.531Z"
   },
   {
    "duration": 9,
    "start_time": "2022-06-14T22:21:04.783Z"
   },
   {
    "duration": 7,
    "start_time": "2022-06-14T22:21:04.793Z"
   },
   {
    "duration": 3,
    "start_time": "2022-06-14T22:21:04.801Z"
   },
   {
    "duration": 25,
    "start_time": "2022-06-14T22:21:04.805Z"
   },
   {
    "duration": 218,
    "start_time": "2022-06-14T22:21:04.832Z"
   },
   {
    "duration": 691,
    "start_time": "2022-06-14T22:21:05.051Z"
   },
   {
    "duration": 550,
    "start_time": "2022-06-14T22:21:05.744Z"
   },
   {
    "duration": 527,
    "start_time": "2022-06-14T22:21:06.296Z"
   },
   {
    "duration": 651,
    "start_time": "2022-06-14T22:21:06.826Z"
   },
   {
    "duration": 530,
    "start_time": "2022-06-14T22:21:07.478Z"
   },
   {
    "duration": 26,
    "start_time": "2022-06-14T22:21:08.010Z"
   },
   {
    "duration": 2,
    "start_time": "2022-06-14T22:21:08.038Z"
   },
   {
    "duration": 24,
    "start_time": "2022-06-14T22:21:08.042Z"
   },
   {
    "duration": 8,
    "start_time": "2022-06-14T22:21:08.067Z"
   },
   {
    "duration": 10,
    "start_time": "2022-06-14T22:21:08.076Z"
   },
   {
    "duration": 8,
    "start_time": "2022-06-14T22:21:08.087Z"
   },
   {
    "duration": 7,
    "start_time": "2022-06-14T22:21:08.097Z"
   },
   {
    "duration": 20,
    "start_time": "2022-06-14T22:21:08.105Z"
   },
   {
    "duration": 7,
    "start_time": "2022-06-14T22:21:08.127Z"
   },
   {
    "duration": 8,
    "start_time": "2022-06-14T22:21:08.135Z"
   },
   {
    "duration": 11,
    "start_time": "2022-06-14T22:21:08.144Z"
   },
   {
    "duration": 1303,
    "start_time": "2022-06-14T22:24:19.762Z"
   },
   {
    "duration": 216,
    "start_time": "2022-06-14T22:24:21.067Z"
   },
   {
    "duration": 494,
    "start_time": "2022-06-14T22:24:21.285Z"
   },
   {
    "duration": 616,
    "start_time": "2022-06-14T22:24:21.781Z"
   },
   {
    "duration": 293,
    "start_time": "2022-06-14T22:24:22.400Z"
   },
   {
    "duration": 9,
    "start_time": "2022-06-14T22:24:22.695Z"
   },
   {
    "duration": 19,
    "start_time": "2022-06-14T22:24:22.706Z"
   },
   {
    "duration": 2,
    "start_time": "2022-06-14T22:24:22.726Z"
   },
   {
    "duration": 10,
    "start_time": "2022-06-14T22:24:22.730Z"
   },
   {
    "duration": 243,
    "start_time": "2022-06-14T22:24:22.741Z"
   },
   {
    "duration": 721,
    "start_time": "2022-06-14T22:24:22.986Z"
   },
   {
    "duration": 550,
    "start_time": "2022-06-14T22:24:23.708Z"
   },
   {
    "duration": 581,
    "start_time": "2022-06-14T22:24:24.260Z"
   },
   {
    "duration": 662,
    "start_time": "2022-06-14T22:24:24.844Z"
   },
   {
    "duration": 523,
    "start_time": "2022-06-14T22:24:25.508Z"
   },
   {
    "duration": 22,
    "start_time": "2022-06-14T22:24:26.033Z"
   },
   {
    "duration": 3,
    "start_time": "2022-06-14T22:24:26.057Z"
   },
   {
    "duration": 25,
    "start_time": "2022-06-14T22:24:26.061Z"
   },
   {
    "duration": 35,
    "start_time": "2022-06-14T22:24:26.088Z"
   },
   {
    "duration": 9,
    "start_time": "2022-06-14T22:24:26.125Z"
   },
   {
    "duration": 4,
    "start_time": "2022-06-14T22:24:26.136Z"
   },
   {
    "duration": 7,
    "start_time": "2022-06-14T22:24:26.142Z"
   },
   {
    "duration": 7,
    "start_time": "2022-06-14T22:24:26.150Z"
   },
   {
    "duration": 6,
    "start_time": "2022-06-14T22:24:26.158Z"
   },
   {
    "duration": 7,
    "start_time": "2022-06-14T22:24:26.165Z"
   },
   {
    "duration": 9,
    "start_time": "2022-06-14T22:24:26.173Z"
   },
   {
    "duration": 1324,
    "start_time": "2022-06-14T22:34:30.640Z"
   },
   {
    "duration": 222,
    "start_time": "2022-06-14T22:34:31.966Z"
   },
   {
    "duration": 515,
    "start_time": "2022-06-14T22:34:32.189Z"
   },
   {
    "duration": 600,
    "start_time": "2022-06-14T22:34:32.706Z"
   },
   {
    "duration": 250,
    "start_time": "2022-06-14T22:34:33.309Z"
   },
   {
    "duration": 10,
    "start_time": "2022-06-14T22:34:33.560Z"
   },
   {
    "duration": 6,
    "start_time": "2022-06-14T22:34:33.571Z"
   },
   {
    "duration": 8,
    "start_time": "2022-06-14T22:34:33.578Z"
   },
   {
    "duration": 11,
    "start_time": "2022-06-14T22:34:33.587Z"
   },
   {
    "duration": 228,
    "start_time": "2022-06-14T22:34:33.599Z"
   },
   {
    "duration": 696,
    "start_time": "2022-06-14T22:34:33.829Z"
   },
   {
    "duration": 524,
    "start_time": "2022-06-14T22:34:34.527Z"
   },
   {
    "duration": 531,
    "start_time": "2022-06-14T22:34:35.053Z"
   },
   {
    "duration": 691,
    "start_time": "2022-06-14T22:34:35.586Z"
   },
   {
    "duration": 522,
    "start_time": "2022-06-14T22:34:36.279Z"
   },
   {
    "duration": 29,
    "start_time": "2022-06-14T22:34:36.802Z"
   },
   {
    "duration": 3,
    "start_time": "2022-06-14T22:34:36.833Z"
   },
   {
    "duration": 22,
    "start_time": "2022-06-14T22:34:36.837Z"
   },
   {
    "duration": 9,
    "start_time": "2022-06-14T22:34:36.860Z"
   },
   {
    "duration": 9,
    "start_time": "2022-06-14T22:34:36.871Z"
   },
   {
    "duration": 6,
    "start_time": "2022-06-14T22:34:36.882Z"
   },
   {
    "duration": 7,
    "start_time": "2022-06-14T22:34:36.890Z"
   },
   {
    "duration": 3,
    "start_time": "2022-06-14T22:34:36.923Z"
   },
   {
    "duration": 5,
    "start_time": "2022-06-14T22:34:36.928Z"
   },
   {
    "duration": 6,
    "start_time": "2022-06-14T22:34:36.934Z"
   },
   {
    "duration": 7,
    "start_time": "2022-06-14T22:34:36.941Z"
   },
   {
    "duration": 139,
    "start_time": "2022-06-14T22:34:36.949Z"
   },
   {
    "duration": 0,
    "start_time": "2022-06-14T22:34:37.090Z"
   },
   {
    "duration": 0,
    "start_time": "2022-06-14T22:34:37.091Z"
   },
   {
    "duration": 0,
    "start_time": "2022-06-14T22:34:37.092Z"
   },
   {
    "duration": 0,
    "start_time": "2022-06-14T22:34:37.093Z"
   },
   {
    "duration": 0,
    "start_time": "2022-06-14T22:34:37.094Z"
   },
   {
    "duration": 0,
    "start_time": "2022-06-14T22:34:37.095Z"
   },
   {
    "duration": 0,
    "start_time": "2022-06-14T22:34:37.096Z"
   },
   {
    "duration": 0,
    "start_time": "2022-06-14T22:34:37.097Z"
   },
   {
    "duration": 1251,
    "start_time": "2022-06-14T22:37:55.692Z"
   },
   {
    "duration": 207,
    "start_time": "2022-06-14T22:37:56.946Z"
   },
   {
    "duration": 479,
    "start_time": "2022-06-14T22:37:57.155Z"
   },
   {
    "duration": 601,
    "start_time": "2022-06-14T22:37:57.635Z"
   },
   {
    "duration": 247,
    "start_time": "2022-06-14T22:37:58.238Z"
   },
   {
    "duration": 10,
    "start_time": "2022-06-14T22:37:58.487Z"
   },
   {
    "duration": 6,
    "start_time": "2022-06-14T22:37:58.498Z"
   },
   {
    "duration": 18,
    "start_time": "2022-06-14T22:37:58.506Z"
   },
   {
    "duration": 10,
    "start_time": "2022-06-14T22:37:58.525Z"
   },
   {
    "duration": 213,
    "start_time": "2022-06-14T22:37:58.537Z"
   },
   {
    "duration": 699,
    "start_time": "2022-06-14T22:37:58.752Z"
   },
   {
    "duration": 535,
    "start_time": "2022-06-14T22:37:59.453Z"
   },
   {
    "duration": 548,
    "start_time": "2022-06-14T22:37:59.990Z"
   },
   {
    "duration": 640,
    "start_time": "2022-06-14T22:38:00.543Z"
   },
   {
    "duration": 552,
    "start_time": "2022-06-14T22:38:01.185Z"
   },
   {
    "duration": 25,
    "start_time": "2022-06-14T22:38:01.739Z"
   },
   {
    "duration": 3,
    "start_time": "2022-06-14T22:38:01.766Z"
   },
   {
    "duration": 23,
    "start_time": "2022-06-14T22:38:01.771Z"
   },
   {
    "duration": 37,
    "start_time": "2022-06-14T22:38:01.796Z"
   },
   {
    "duration": 9,
    "start_time": "2022-06-14T22:38:01.835Z"
   },
   {
    "duration": 15,
    "start_time": "2022-06-14T22:38:01.847Z"
   },
   {
    "duration": 18,
    "start_time": "2022-06-14T22:38:01.864Z"
   },
   {
    "duration": 20,
    "start_time": "2022-06-14T22:38:01.884Z"
   },
   {
    "duration": 13,
    "start_time": "2022-06-14T22:38:01.905Z"
   },
   {
    "duration": 15,
    "start_time": "2022-06-14T22:38:01.920Z"
   },
   {
    "duration": 130,
    "start_time": "2022-06-14T22:38:01.937Z"
   },
   {
    "duration": 0,
    "start_time": "2022-06-14T22:38:02.069Z"
   },
   {
    "duration": 0,
    "start_time": "2022-06-14T22:38:02.070Z"
   },
   {
    "duration": 0,
    "start_time": "2022-06-14T22:38:02.071Z"
   },
   {
    "duration": 0,
    "start_time": "2022-06-14T22:38:02.072Z"
   },
   {
    "duration": 0,
    "start_time": "2022-06-14T22:38:02.073Z"
   },
   {
    "duration": 0,
    "start_time": "2022-06-14T22:38:02.074Z"
   },
   {
    "duration": 0,
    "start_time": "2022-06-14T22:38:02.075Z"
   },
   {
    "duration": 0,
    "start_time": "2022-06-14T22:38:02.075Z"
   },
   {
    "duration": 0,
    "start_time": "2022-06-14T22:38:02.076Z"
   },
   {
    "duration": 0,
    "start_time": "2022-06-14T22:38:02.077Z"
   },
   {
    "duration": 1286,
    "start_time": "2022-06-14T22:38:40.901Z"
   },
   {
    "duration": 204,
    "start_time": "2022-06-14T22:38:42.188Z"
   },
   {
    "duration": 488,
    "start_time": "2022-06-14T22:38:42.394Z"
   },
   {
    "duration": 570,
    "start_time": "2022-06-14T22:38:42.884Z"
   },
   {
    "duration": 235,
    "start_time": "2022-06-14T22:38:43.456Z"
   },
   {
    "duration": 10,
    "start_time": "2022-06-14T22:38:43.692Z"
   },
   {
    "duration": 6,
    "start_time": "2022-06-14T22:38:43.703Z"
   },
   {
    "duration": 2,
    "start_time": "2022-06-14T22:38:43.722Z"
   },
   {
    "duration": 9,
    "start_time": "2022-06-14T22:38:43.726Z"
   },
   {
    "duration": 222,
    "start_time": "2022-06-14T22:38:43.737Z"
   },
   {
    "duration": 671,
    "start_time": "2022-06-14T22:38:43.960Z"
   },
   {
    "duration": 513,
    "start_time": "2022-06-14T22:38:44.633Z"
   },
   {
    "duration": 509,
    "start_time": "2022-06-14T22:38:45.147Z"
   },
   {
    "duration": 635,
    "start_time": "2022-06-14T22:38:45.659Z"
   },
   {
    "duration": 491,
    "start_time": "2022-06-14T22:38:46.296Z"
   },
   {
    "duration": 20,
    "start_time": "2022-06-14T22:38:46.788Z"
   },
   {
    "duration": 13,
    "start_time": "2022-06-14T22:38:46.810Z"
   },
   {
    "duration": 20,
    "start_time": "2022-06-14T22:38:46.825Z"
   },
   {
    "duration": 9,
    "start_time": "2022-06-14T22:38:46.847Z"
   },
   {
    "duration": 9,
    "start_time": "2022-06-14T22:38:46.857Z"
   },
   {
    "duration": 9,
    "start_time": "2022-06-14T22:38:46.868Z"
   },
   {
    "duration": 6,
    "start_time": "2022-06-14T22:38:46.879Z"
   },
   {
    "duration": 7,
    "start_time": "2022-06-14T22:38:46.887Z"
   },
   {
    "duration": 5,
    "start_time": "2022-06-14T22:38:46.895Z"
   },
   {
    "duration": 24,
    "start_time": "2022-06-14T22:38:46.901Z"
   },
   {
    "duration": 7,
    "start_time": "2022-06-14T22:38:46.927Z"
   },
   {
    "duration": 39413,
    "start_time": "2022-06-14T22:38:46.935Z"
   },
   {
    "duration": 275,
    "start_time": "2022-06-14T22:39:26.350Z"
   },
   {
    "duration": 0,
    "start_time": "2022-06-14T22:39:26.627Z"
   },
   {
    "duration": 0,
    "start_time": "2022-06-14T22:39:26.628Z"
   },
   {
    "duration": 0,
    "start_time": "2022-06-14T22:39:26.628Z"
   },
   {
    "duration": 0,
    "start_time": "2022-06-14T22:39:26.629Z"
   },
   {
    "duration": 0,
    "start_time": "2022-06-14T22:39:26.630Z"
   },
   {
    "duration": 0,
    "start_time": "2022-06-14T22:39:26.631Z"
   },
   {
    "duration": 0,
    "start_time": "2022-06-14T22:39:26.632Z"
   },
   {
    "duration": 1284,
    "start_time": "2022-06-14T22:42:10.193Z"
   },
   {
    "duration": 210,
    "start_time": "2022-06-14T22:42:11.479Z"
   },
   {
    "duration": 474,
    "start_time": "2022-06-14T22:42:11.691Z"
   },
   {
    "duration": 598,
    "start_time": "2022-06-14T22:42:12.166Z"
   },
   {
    "duration": 243,
    "start_time": "2022-06-14T22:42:12.767Z"
   },
   {
    "duration": 17,
    "start_time": "2022-06-14T22:42:13.012Z"
   },
   {
    "duration": 7,
    "start_time": "2022-06-14T22:42:13.030Z"
   },
   {
    "duration": 4,
    "start_time": "2022-06-14T22:42:13.038Z"
   },
   {
    "duration": 9,
    "start_time": "2022-06-14T22:42:13.043Z"
   },
   {
    "duration": 220,
    "start_time": "2022-06-14T22:42:13.054Z"
   },
   {
    "duration": 674,
    "start_time": "2022-06-14T22:42:13.276Z"
   },
   {
    "duration": 521,
    "start_time": "2022-06-14T22:42:13.951Z"
   },
   {
    "duration": 539,
    "start_time": "2022-06-14T22:42:14.474Z"
   },
   {
    "duration": 642,
    "start_time": "2022-06-14T22:42:15.015Z"
   },
   {
    "duration": 524,
    "start_time": "2022-06-14T22:42:15.659Z"
   },
   {
    "duration": 21,
    "start_time": "2022-06-14T22:42:16.185Z"
   },
   {
    "duration": 16,
    "start_time": "2022-06-14T22:42:16.207Z"
   },
   {
    "duration": 21,
    "start_time": "2022-06-14T22:42:16.224Z"
   },
   {
    "duration": 9,
    "start_time": "2022-06-14T22:42:16.247Z"
   },
   {
    "duration": 8,
    "start_time": "2022-06-14T22:42:16.257Z"
   },
   {
    "duration": 6,
    "start_time": "2022-06-14T22:42:16.266Z"
   },
   {
    "duration": 11,
    "start_time": "2022-06-14T22:42:16.274Z"
   },
   {
    "duration": 6,
    "start_time": "2022-06-14T22:42:16.286Z"
   },
   {
    "duration": 5,
    "start_time": "2022-06-14T22:42:16.294Z"
   },
   {
    "duration": 23,
    "start_time": "2022-06-14T22:42:16.301Z"
   },
   {
    "duration": 8,
    "start_time": "2022-06-14T22:42:16.325Z"
   },
   {
    "duration": 39505,
    "start_time": "2022-06-14T22:42:16.334Z"
   },
   {
    "duration": 1372,
    "start_time": "2022-06-14T22:42:55.840Z"
   },
   {
    "duration": 93745,
    "start_time": "2022-06-14T22:42:57.214Z"
   },
   {
    "duration": 3269,
    "start_time": "2022-06-14T22:44:30.961Z"
   },
   {
    "duration": 3,
    "start_time": "2022-06-14T22:44:34.232Z"
   },
   {
    "duration": 6,
    "start_time": "2022-06-14T22:44:34.237Z"
   },
   {
    "duration": 117,
    "start_time": "2022-06-14T22:44:34.244Z"
   },
   {
    "duration": 0,
    "start_time": "2022-06-14T22:44:34.362Z"
   },
   {
    "duration": 0,
    "start_time": "2022-06-14T22:44:34.364Z"
   },
   {
    "duration": 1267,
    "start_time": "2022-06-14T22:57:23.073Z"
   },
   {
    "duration": 209,
    "start_time": "2022-06-14T22:57:24.342Z"
   },
   {
    "duration": 479,
    "start_time": "2022-06-14T22:57:24.553Z"
   },
   {
    "duration": 589,
    "start_time": "2022-06-14T22:57:25.034Z"
   },
   {
    "duration": 243,
    "start_time": "2022-06-14T22:57:25.625Z"
   },
   {
    "duration": 9,
    "start_time": "2022-06-14T22:57:25.870Z"
   },
   {
    "duration": 5,
    "start_time": "2022-06-14T22:57:25.881Z"
   },
   {
    "duration": 4,
    "start_time": "2022-06-14T22:57:25.888Z"
   },
   {
    "duration": 30,
    "start_time": "2022-06-14T22:57:25.893Z"
   },
   {
    "duration": 216,
    "start_time": "2022-06-14T22:57:25.924Z"
   },
   {
    "duration": 685,
    "start_time": "2022-06-14T22:57:26.141Z"
   },
   {
    "duration": 499,
    "start_time": "2022-06-14T22:57:26.827Z"
   },
   {
    "duration": 513,
    "start_time": "2022-06-14T22:57:27.328Z"
   },
   {
    "duration": 619,
    "start_time": "2022-06-14T22:57:27.844Z"
   },
   {
    "duration": 505,
    "start_time": "2022-06-14T22:57:28.465Z"
   },
   {
    "duration": 24,
    "start_time": "2022-06-14T22:57:28.971Z"
   },
   {
    "duration": 3,
    "start_time": "2022-06-14T22:57:28.997Z"
   },
   {
    "duration": 34,
    "start_time": "2022-06-14T22:57:29.002Z"
   },
   {
    "duration": 8,
    "start_time": "2022-06-14T22:57:29.037Z"
   },
   {
    "duration": 7,
    "start_time": "2022-06-14T22:57:29.047Z"
   },
   {
    "duration": 6,
    "start_time": "2022-06-14T22:57:29.055Z"
   },
   {
    "duration": 145,
    "start_time": "2022-06-14T22:57:29.063Z"
   },
   {
    "duration": 0,
    "start_time": "2022-06-14T22:57:29.210Z"
   },
   {
    "duration": 0,
    "start_time": "2022-06-14T22:57:29.211Z"
   },
   {
    "duration": 0,
    "start_time": "2022-06-14T22:57:29.213Z"
   },
   {
    "duration": 0,
    "start_time": "2022-06-14T22:57:29.222Z"
   },
   {
    "duration": 0,
    "start_time": "2022-06-14T22:57:29.223Z"
   },
   {
    "duration": 0,
    "start_time": "2022-06-14T22:57:29.225Z"
   },
   {
    "duration": 0,
    "start_time": "2022-06-14T22:57:29.226Z"
   },
   {
    "duration": 0,
    "start_time": "2022-06-14T22:57:29.227Z"
   },
   {
    "duration": 0,
    "start_time": "2022-06-14T22:57:29.229Z"
   },
   {
    "duration": 0,
    "start_time": "2022-06-14T22:57:29.230Z"
   },
   {
    "duration": 0,
    "start_time": "2022-06-14T22:57:29.231Z"
   },
   {
    "duration": 0,
    "start_time": "2022-06-14T22:57:29.232Z"
   },
   {
    "duration": 0,
    "start_time": "2022-06-14T22:57:29.234Z"
   },
   {
    "duration": 1299,
    "start_time": "2022-06-14T22:59:29.255Z"
   },
   {
    "duration": 214,
    "start_time": "2022-06-14T22:59:30.555Z"
   },
   {
    "duration": 478,
    "start_time": "2022-06-14T22:59:30.770Z"
   },
   {
    "duration": 592,
    "start_time": "2022-06-14T22:59:31.250Z"
   },
   {
    "duration": 255,
    "start_time": "2022-06-14T22:59:31.844Z"
   },
   {
    "duration": 9,
    "start_time": "2022-06-14T22:59:32.101Z"
   },
   {
    "duration": 14,
    "start_time": "2022-06-14T22:59:32.112Z"
   },
   {
    "duration": 5,
    "start_time": "2022-06-14T22:59:32.127Z"
   },
   {
    "duration": 12,
    "start_time": "2022-06-14T22:59:32.133Z"
   },
   {
    "duration": 219,
    "start_time": "2022-06-14T22:59:32.147Z"
   },
   {
    "duration": 700,
    "start_time": "2022-06-14T22:59:32.367Z"
   },
   {
    "duration": 536,
    "start_time": "2022-06-14T22:59:33.069Z"
   },
   {
    "duration": 512,
    "start_time": "2022-06-14T22:59:33.607Z"
   },
   {
    "duration": 630,
    "start_time": "2022-06-14T22:59:34.122Z"
   },
   {
    "duration": 499,
    "start_time": "2022-06-14T22:59:34.754Z"
   },
   {
    "duration": 21,
    "start_time": "2022-06-14T22:59:35.255Z"
   },
   {
    "duration": 3,
    "start_time": "2022-06-14T22:59:35.278Z"
   },
   {
    "duration": 22,
    "start_time": "2022-06-14T22:59:35.282Z"
   },
   {
    "duration": 23,
    "start_time": "2022-06-14T22:59:35.306Z"
   },
   {
    "duration": 10,
    "start_time": "2022-06-14T22:59:35.330Z"
   },
   {
    "duration": 11,
    "start_time": "2022-06-14T22:59:35.341Z"
   },
   {
    "duration": 135,
    "start_time": "2022-06-14T22:59:35.353Z"
   },
   {
    "duration": 0,
    "start_time": "2022-06-14T22:59:35.489Z"
   },
   {
    "duration": 1,
    "start_time": "2022-06-14T22:59:35.490Z"
   },
   {
    "duration": 0,
    "start_time": "2022-06-14T22:59:35.491Z"
   },
   {
    "duration": 0,
    "start_time": "2022-06-14T22:59:35.493Z"
   },
   {
    "duration": 0,
    "start_time": "2022-06-14T22:59:35.494Z"
   },
   {
    "duration": 0,
    "start_time": "2022-06-14T22:59:35.495Z"
   },
   {
    "duration": 0,
    "start_time": "2022-06-14T22:59:35.496Z"
   },
   {
    "duration": 0,
    "start_time": "2022-06-14T22:59:35.497Z"
   },
   {
    "duration": 0,
    "start_time": "2022-06-14T22:59:35.498Z"
   },
   {
    "duration": 0,
    "start_time": "2022-06-14T22:59:35.499Z"
   },
   {
    "duration": 0,
    "start_time": "2022-06-14T22:59:35.500Z"
   },
   {
    "duration": 0,
    "start_time": "2022-06-14T22:59:35.501Z"
   },
   {
    "duration": 0,
    "start_time": "2022-06-14T22:59:35.501Z"
   },
   {
    "duration": 1298,
    "start_time": "2022-06-14T23:09:47.413Z"
   },
   {
    "duration": 210,
    "start_time": "2022-06-14T23:09:48.713Z"
   },
   {
    "duration": 478,
    "start_time": "2022-06-14T23:09:48.924Z"
   },
   {
    "duration": 571,
    "start_time": "2022-06-14T23:09:49.403Z"
   },
   {
    "duration": 241,
    "start_time": "2022-06-14T23:09:49.976Z"
   },
   {
    "duration": 9,
    "start_time": "2022-06-14T23:09:50.223Z"
   },
   {
    "duration": 9,
    "start_time": "2022-06-14T23:09:50.233Z"
   },
   {
    "duration": 18,
    "start_time": "2022-06-14T23:09:50.244Z"
   },
   {
    "duration": 8,
    "start_time": "2022-06-14T23:09:50.263Z"
   },
   {
    "duration": 219,
    "start_time": "2022-06-14T23:09:50.272Z"
   },
   {
    "duration": 683,
    "start_time": "2022-06-14T23:09:50.493Z"
   },
   {
    "duration": 516,
    "start_time": "2022-06-14T23:09:51.177Z"
   },
   {
    "duration": 518,
    "start_time": "2022-06-14T23:09:51.695Z"
   },
   {
    "duration": 662,
    "start_time": "2022-06-14T23:09:52.216Z"
   },
   {
    "duration": 509,
    "start_time": "2022-06-14T23:09:52.879Z"
   },
   {
    "duration": 21,
    "start_time": "2022-06-14T23:09:53.389Z"
   },
   {
    "duration": 14,
    "start_time": "2022-06-14T23:09:53.411Z"
   },
   {
    "duration": 15,
    "start_time": "2022-06-14T23:09:53.427Z"
   },
   {
    "duration": 8,
    "start_time": "2022-06-14T23:09:53.443Z"
   },
   {
    "duration": 11,
    "start_time": "2022-06-14T23:09:53.452Z"
   },
   {
    "duration": 6,
    "start_time": "2022-06-14T23:09:53.464Z"
   },
   {
    "duration": 136,
    "start_time": "2022-06-14T23:09:53.472Z"
   },
   {
    "duration": 0,
    "start_time": "2022-06-14T23:09:53.610Z"
   },
   {
    "duration": 0,
    "start_time": "2022-06-14T23:09:53.611Z"
   },
   {
    "duration": 0,
    "start_time": "2022-06-14T23:09:53.612Z"
   },
   {
    "duration": 0,
    "start_time": "2022-06-14T23:09:53.613Z"
   },
   {
    "duration": 0,
    "start_time": "2022-06-14T23:09:53.614Z"
   },
   {
    "duration": 0,
    "start_time": "2022-06-14T23:09:53.623Z"
   },
   {
    "duration": 0,
    "start_time": "2022-06-14T23:09:53.624Z"
   },
   {
    "duration": 0,
    "start_time": "2022-06-14T23:09:53.625Z"
   },
   {
    "duration": 0,
    "start_time": "2022-06-14T23:09:53.626Z"
   },
   {
    "duration": 0,
    "start_time": "2022-06-14T23:09:53.628Z"
   },
   {
    "duration": 0,
    "start_time": "2022-06-14T23:09:53.629Z"
   },
   {
    "duration": 0,
    "start_time": "2022-06-14T23:09:53.630Z"
   },
   {
    "duration": 0,
    "start_time": "2022-06-14T23:09:53.632Z"
   },
   {
    "duration": 1311,
    "start_time": "2022-06-14T23:27:02.357Z"
   },
   {
    "duration": 209,
    "start_time": "2022-06-14T23:27:03.671Z"
   },
   {
    "duration": 470,
    "start_time": "2022-06-14T23:27:03.882Z"
   },
   {
    "duration": 566,
    "start_time": "2022-06-14T23:27:04.354Z"
   },
   {
    "duration": 234,
    "start_time": "2022-06-14T23:27:04.922Z"
   },
   {
    "duration": 10,
    "start_time": "2022-06-14T23:27:05.157Z"
   },
   {
    "duration": 6,
    "start_time": "2022-06-14T23:27:05.168Z"
   },
   {
    "duration": 24,
    "start_time": "2022-06-14T23:27:05.175Z"
   },
   {
    "duration": 25,
    "start_time": "2022-06-14T23:27:05.201Z"
   },
   {
    "duration": 210,
    "start_time": "2022-06-14T23:27:05.227Z"
   },
   {
    "duration": 678,
    "start_time": "2022-06-14T23:27:05.440Z"
   },
   {
    "duration": 510,
    "start_time": "2022-06-14T23:27:06.119Z"
   },
   {
    "duration": 510,
    "start_time": "2022-06-14T23:27:06.631Z"
   },
   {
    "duration": 626,
    "start_time": "2022-06-14T23:27:07.144Z"
   },
   {
    "duration": 516,
    "start_time": "2022-06-14T23:27:07.772Z"
   },
   {
    "duration": 22,
    "start_time": "2022-06-14T23:27:08.289Z"
   },
   {
    "duration": 3,
    "start_time": "2022-06-14T23:27:08.322Z"
   },
   {
    "duration": 22,
    "start_time": "2022-06-14T23:27:08.327Z"
   },
   {
    "duration": 7,
    "start_time": "2022-06-14T23:27:08.351Z"
   },
   {
    "duration": 8,
    "start_time": "2022-06-14T23:27:08.360Z"
   },
   {
    "duration": 6,
    "start_time": "2022-06-14T23:27:08.370Z"
   },
   {
    "duration": 131,
    "start_time": "2022-06-14T23:27:08.377Z"
   },
   {
    "duration": 0,
    "start_time": "2022-06-14T23:27:08.510Z"
   },
   {
    "duration": 0,
    "start_time": "2022-06-14T23:27:08.511Z"
   },
   {
    "duration": 0,
    "start_time": "2022-06-14T23:27:08.513Z"
   },
   {
    "duration": 0,
    "start_time": "2022-06-14T23:27:08.514Z"
   },
   {
    "duration": 0,
    "start_time": "2022-06-14T23:27:08.522Z"
   },
   {
    "duration": 0,
    "start_time": "2022-06-14T23:27:08.524Z"
   },
   {
    "duration": 0,
    "start_time": "2022-06-14T23:27:08.525Z"
   },
   {
    "duration": 0,
    "start_time": "2022-06-14T23:27:08.526Z"
   },
   {
    "duration": 0,
    "start_time": "2022-06-14T23:27:08.527Z"
   },
   {
    "duration": 0,
    "start_time": "2022-06-14T23:27:08.530Z"
   },
   {
    "duration": 0,
    "start_time": "2022-06-14T23:27:08.532Z"
   },
   {
    "duration": 0,
    "start_time": "2022-06-14T23:27:08.533Z"
   },
   {
    "duration": 0,
    "start_time": "2022-06-14T23:27:08.534Z"
   },
   {
    "duration": 1337,
    "start_time": "2022-06-14T23:47:51.432Z"
   },
   {
    "duration": 212,
    "start_time": "2022-06-14T23:47:52.771Z"
   },
   {
    "duration": 487,
    "start_time": "2022-06-14T23:47:52.984Z"
   },
   {
    "duration": 599,
    "start_time": "2022-06-14T23:47:53.473Z"
   },
   {
    "duration": 244,
    "start_time": "2022-06-14T23:47:54.074Z"
   },
   {
    "duration": 10,
    "start_time": "2022-06-14T23:47:54.319Z"
   },
   {
    "duration": 6,
    "start_time": "2022-06-14T23:47:54.331Z"
   },
   {
    "duration": 148,
    "start_time": "2022-06-14T23:47:54.338Z"
   },
   {
    "duration": 0,
    "start_time": "2022-06-14T23:47:54.489Z"
   },
   {
    "duration": 0,
    "start_time": "2022-06-14T23:47:54.490Z"
   },
   {
    "duration": 0,
    "start_time": "2022-06-14T23:47:54.491Z"
   },
   {
    "duration": 0,
    "start_time": "2022-06-14T23:47:54.492Z"
   },
   {
    "duration": 0,
    "start_time": "2022-06-14T23:47:54.493Z"
   },
   {
    "duration": 0,
    "start_time": "2022-06-14T23:47:54.494Z"
   },
   {
    "duration": 0,
    "start_time": "2022-06-14T23:47:54.495Z"
   },
   {
    "duration": 0,
    "start_time": "2022-06-14T23:47:54.496Z"
   },
   {
    "duration": 0,
    "start_time": "2022-06-14T23:47:54.497Z"
   },
   {
    "duration": 0,
    "start_time": "2022-06-14T23:47:54.498Z"
   },
   {
    "duration": 0,
    "start_time": "2022-06-14T23:47:54.499Z"
   },
   {
    "duration": 0,
    "start_time": "2022-06-14T23:47:54.500Z"
   },
   {
    "duration": 0,
    "start_time": "2022-06-14T23:47:54.501Z"
   },
   {
    "duration": 0,
    "start_time": "2022-06-14T23:47:54.502Z"
   },
   {
    "duration": 0,
    "start_time": "2022-06-14T23:47:54.502Z"
   },
   {
    "duration": 0,
    "start_time": "2022-06-14T23:47:54.523Z"
   },
   {
    "duration": 0,
    "start_time": "2022-06-14T23:47:54.524Z"
   },
   {
    "duration": 0,
    "start_time": "2022-06-14T23:47:54.525Z"
   },
   {
    "duration": 0,
    "start_time": "2022-06-14T23:47:54.526Z"
   },
   {
    "duration": 0,
    "start_time": "2022-06-14T23:47:54.527Z"
   },
   {
    "duration": 0,
    "start_time": "2022-06-14T23:47:54.528Z"
   },
   {
    "duration": 0,
    "start_time": "2022-06-14T23:47:54.529Z"
   },
   {
    "duration": 0,
    "start_time": "2022-06-14T23:47:54.530Z"
   },
   {
    "duration": 0,
    "start_time": "2022-06-14T23:47:54.531Z"
   },
   {
    "duration": 0,
    "start_time": "2022-06-14T23:47:54.532Z"
   },
   {
    "duration": 0,
    "start_time": "2022-06-14T23:47:54.533Z"
   },
   {
    "duration": 0,
    "start_time": "2022-06-14T23:47:54.534Z"
   },
   {
    "duration": 1330,
    "start_time": "2022-06-14T23:50:02.600Z"
   },
   {
    "duration": 215,
    "start_time": "2022-06-14T23:50:03.932Z"
   },
   {
    "duration": 485,
    "start_time": "2022-06-14T23:50:04.149Z"
   },
   {
    "duration": 596,
    "start_time": "2022-06-14T23:50:04.636Z"
   },
   {
    "duration": 243,
    "start_time": "2022-06-14T23:50:05.234Z"
   },
   {
    "duration": 10,
    "start_time": "2022-06-14T23:50:05.478Z"
   },
   {
    "duration": 6,
    "start_time": "2022-06-14T23:50:05.489Z"
   },
   {
    "duration": 348,
    "start_time": "2022-06-14T23:50:05.497Z"
   },
   {
    "duration": 8,
    "start_time": "2022-06-14T23:50:05.847Z"
   },
   {
    "duration": 226,
    "start_time": "2022-06-14T23:50:05.857Z"
   },
   {
    "duration": 946,
    "start_time": "2022-06-14T23:50:06.085Z"
   },
   {
    "duration": 574,
    "start_time": "2022-06-14T23:50:07.033Z"
   },
   {
    "duration": 665,
    "start_time": "2022-06-14T23:50:07.609Z"
   },
   {
    "duration": 529,
    "start_time": "2022-06-14T23:50:08.278Z"
   },
   {
    "duration": 569,
    "start_time": "2022-06-14T23:50:08.810Z"
   },
   {
    "duration": 155,
    "start_time": "2022-06-14T23:50:09.380Z"
   },
   {
    "duration": 3,
    "start_time": "2022-06-14T23:50:09.537Z"
   },
   {
    "duration": 27,
    "start_time": "2022-06-14T23:50:09.542Z"
   },
   {
    "duration": 7,
    "start_time": "2022-06-14T23:50:09.570Z"
   },
   {
    "duration": 9,
    "start_time": "2022-06-14T23:50:09.579Z"
   },
   {
    "duration": 10,
    "start_time": "2022-06-14T23:50:09.590Z"
   },
   {
    "duration": 135,
    "start_time": "2022-06-14T23:50:09.602Z"
   },
   {
    "duration": 0,
    "start_time": "2022-06-14T23:50:09.739Z"
   },
   {
    "duration": 0,
    "start_time": "2022-06-14T23:50:09.740Z"
   },
   {
    "duration": 0,
    "start_time": "2022-06-14T23:50:09.741Z"
   },
   {
    "duration": 0,
    "start_time": "2022-06-14T23:50:09.742Z"
   },
   {
    "duration": 0,
    "start_time": "2022-06-14T23:50:09.743Z"
   },
   {
    "duration": 0,
    "start_time": "2022-06-14T23:50:09.744Z"
   },
   {
    "duration": 0,
    "start_time": "2022-06-14T23:50:09.746Z"
   },
   {
    "duration": 0,
    "start_time": "2022-06-14T23:50:09.746Z"
   },
   {
    "duration": 0,
    "start_time": "2022-06-14T23:50:09.747Z"
   },
   {
    "duration": 0,
    "start_time": "2022-06-14T23:50:09.748Z"
   },
   {
    "duration": 0,
    "start_time": "2022-06-14T23:50:09.749Z"
   },
   {
    "duration": 0,
    "start_time": "2022-06-14T23:50:09.750Z"
   },
   {
    "duration": 0,
    "start_time": "2022-06-14T23:50:09.751Z"
   },
   {
    "duration": 1325,
    "start_time": "2022-06-14T23:51:19.927Z"
   },
   {
    "duration": 216,
    "start_time": "2022-06-14T23:51:21.254Z"
   },
   {
    "duration": 476,
    "start_time": "2022-06-14T23:51:21.472Z"
   },
   {
    "duration": 614,
    "start_time": "2022-06-14T23:51:21.951Z"
   },
   {
    "duration": 266,
    "start_time": "2022-06-14T23:51:22.568Z"
   },
   {
    "duration": 9,
    "start_time": "2022-06-14T23:51:22.836Z"
   },
   {
    "duration": 7,
    "start_time": "2022-06-14T23:51:22.847Z"
   },
   {
    "duration": 299,
    "start_time": "2022-06-14T23:51:22.855Z"
   },
   {
    "duration": 9,
    "start_time": "2022-06-14T23:51:23.156Z"
   },
   {
    "duration": 228,
    "start_time": "2022-06-14T23:51:23.167Z"
   },
   {
    "duration": 927,
    "start_time": "2022-06-14T23:51:23.397Z"
   },
   {
    "duration": 535,
    "start_time": "2022-06-14T23:51:24.326Z"
   },
   {
    "duration": 671,
    "start_time": "2022-06-14T23:51:24.863Z"
   },
   {
    "duration": 503,
    "start_time": "2022-06-14T23:51:25.535Z"
   },
   {
    "duration": 533,
    "start_time": "2022-06-14T23:51:26.040Z"
   },
   {
    "duration": 154,
    "start_time": "2022-06-14T23:51:26.575Z"
   },
   {
    "duration": 3,
    "start_time": "2022-06-14T23:51:26.730Z"
   },
   {
    "duration": 24,
    "start_time": "2022-06-14T23:51:26.734Z"
   },
   {
    "duration": 7,
    "start_time": "2022-06-14T23:51:26.759Z"
   },
   {
    "duration": 11,
    "start_time": "2022-06-14T23:51:26.767Z"
   },
   {
    "duration": 10,
    "start_time": "2022-06-14T23:51:26.779Z"
   },
   {
    "duration": 123,
    "start_time": "2022-06-14T23:51:26.790Z"
   },
   {
    "duration": 0,
    "start_time": "2022-06-14T23:51:26.916Z"
   },
   {
    "duration": 0,
    "start_time": "2022-06-14T23:51:26.922Z"
   },
   {
    "duration": 0,
    "start_time": "2022-06-14T23:51:26.923Z"
   },
   {
    "duration": 0,
    "start_time": "2022-06-14T23:51:26.926Z"
   },
   {
    "duration": 1,
    "start_time": "2022-06-14T23:51:26.926Z"
   },
   {
    "duration": 0,
    "start_time": "2022-06-14T23:51:26.927Z"
   },
   {
    "duration": 0,
    "start_time": "2022-06-14T23:51:26.928Z"
   },
   {
    "duration": 0,
    "start_time": "2022-06-14T23:51:26.930Z"
   },
   {
    "duration": 0,
    "start_time": "2022-06-14T23:51:26.931Z"
   },
   {
    "duration": 0,
    "start_time": "2022-06-14T23:51:26.932Z"
   },
   {
    "duration": 0,
    "start_time": "2022-06-14T23:51:26.933Z"
   },
   {
    "duration": 0,
    "start_time": "2022-06-14T23:51:26.933Z"
   },
   {
    "duration": 0,
    "start_time": "2022-06-14T23:51:26.935Z"
   },
   {
    "duration": 1265,
    "start_time": "2022-06-15T01:43:24.969Z"
   },
   {
    "duration": 214,
    "start_time": "2022-06-15T01:43:26.236Z"
   },
   {
    "duration": 468,
    "start_time": "2022-06-15T01:43:26.452Z"
   },
   {
    "duration": 576,
    "start_time": "2022-06-15T01:43:26.922Z"
   },
   {
    "duration": 233,
    "start_time": "2022-06-15T01:43:27.500Z"
   },
   {
    "duration": 9,
    "start_time": "2022-06-15T01:43:27.734Z"
   },
   {
    "duration": 5,
    "start_time": "2022-06-15T01:43:27.745Z"
   },
   {
    "duration": 394,
    "start_time": "2022-06-15T01:43:27.752Z"
   },
   {
    "duration": 11,
    "start_time": "2022-06-15T01:43:28.148Z"
   },
   {
    "duration": 230,
    "start_time": "2022-06-15T01:43:28.160Z"
   },
   {
    "duration": 957,
    "start_time": "2022-06-15T01:43:28.392Z"
   },
   {
    "duration": 527,
    "start_time": "2022-06-15T01:43:29.351Z"
   },
   {
    "duration": 649,
    "start_time": "2022-06-15T01:43:29.880Z"
   },
   {
    "duration": 517,
    "start_time": "2022-06-15T01:43:30.532Z"
   },
   {
    "duration": 513,
    "start_time": "2022-06-15T01:43:31.051Z"
   },
   {
    "duration": 158,
    "start_time": "2022-06-15T01:43:31.566Z"
   },
   {
    "duration": 2,
    "start_time": "2022-06-15T01:43:31.726Z"
   },
   {
    "duration": 25,
    "start_time": "2022-06-15T01:43:31.729Z"
   },
   {
    "duration": 7,
    "start_time": "2022-06-15T01:43:31.755Z"
   },
   {
    "duration": 10,
    "start_time": "2022-06-15T01:43:31.763Z"
   },
   {
    "duration": 8,
    "start_time": "2022-06-15T01:43:31.775Z"
   },
   {
    "duration": 10,
    "start_time": "2022-06-15T01:43:31.785Z"
   },
   {
    "duration": 21,
    "start_time": "2022-06-15T01:43:31.797Z"
   },
   {
    "duration": 7,
    "start_time": "2022-06-15T01:43:31.820Z"
   },
   {
    "duration": 10,
    "start_time": "2022-06-15T01:43:31.828Z"
   },
   {
    "duration": 5,
    "start_time": "2022-06-15T01:43:31.840Z"
   },
   {
    "duration": 1324,
    "start_time": "2022-06-15T02:16:56.917Z"
   },
   {
    "duration": 205,
    "start_time": "2022-06-15T02:16:58.243Z"
   },
   {
    "duration": 464,
    "start_time": "2022-06-15T02:16:58.450Z"
   },
   {
    "duration": 611,
    "start_time": "2022-06-15T02:16:58.915Z"
   },
   {
    "duration": 256,
    "start_time": "2022-06-15T02:16:59.529Z"
   },
   {
    "duration": 10,
    "start_time": "2022-06-15T02:16:59.787Z"
   },
   {
    "duration": 6,
    "start_time": "2022-06-15T02:16:59.799Z"
   },
   {
    "duration": 326,
    "start_time": "2022-06-15T02:16:59.824Z"
   },
   {
    "duration": 10,
    "start_time": "2022-06-15T02:17:00.152Z"
   },
   {
    "duration": 223,
    "start_time": "2022-06-15T02:17:00.164Z"
   },
   {
    "duration": 930,
    "start_time": "2022-06-15T02:17:00.388Z"
   },
   {
    "duration": 574,
    "start_time": "2022-06-15T02:17:01.322Z"
   },
   {
    "duration": 716,
    "start_time": "2022-06-15T02:17:01.897Z"
   },
   {
    "duration": 511,
    "start_time": "2022-06-15T02:17:02.624Z"
   },
   {
    "duration": 496,
    "start_time": "2022-06-15T02:17:03.137Z"
   },
   {
    "duration": 153,
    "start_time": "2022-06-15T02:17:03.634Z"
   },
   {
    "duration": 3,
    "start_time": "2022-06-15T02:17:03.788Z"
   },
   {
    "duration": 31,
    "start_time": "2022-06-15T02:17:03.793Z"
   },
   {
    "duration": 10,
    "start_time": "2022-06-15T02:17:03.825Z"
   },
   {
    "duration": 12,
    "start_time": "2022-06-15T02:17:03.836Z"
   },
   {
    "duration": 6,
    "start_time": "2022-06-15T02:17:03.850Z"
   },
   {
    "duration": 8,
    "start_time": "2022-06-15T02:17:03.857Z"
   },
   {
    "duration": 11,
    "start_time": "2022-06-15T02:17:03.866Z"
   },
   {
    "duration": 10,
    "start_time": "2022-06-15T02:17:03.878Z"
   },
   {
    "duration": 8,
    "start_time": "2022-06-15T02:17:03.889Z"
   },
   {
    "duration": 9,
    "start_time": "2022-06-15T02:17:03.898Z"
   },
   {
    "duration": 1300,
    "start_time": "2022-06-15T02:20:29.452Z"
   },
   {
    "duration": 207,
    "start_time": "2022-06-15T02:20:30.755Z"
   },
   {
    "duration": 484,
    "start_time": "2022-06-15T02:20:30.964Z"
   },
   {
    "duration": 582,
    "start_time": "2022-06-15T02:20:31.450Z"
   },
   {
    "duration": 246,
    "start_time": "2022-06-15T02:20:32.035Z"
   },
   {
    "duration": 10,
    "start_time": "2022-06-15T02:20:32.283Z"
   },
   {
    "duration": 5,
    "start_time": "2022-06-15T02:20:32.294Z"
   },
   {
    "duration": 349,
    "start_time": "2022-06-15T02:20:32.301Z"
   },
   {
    "duration": 9,
    "start_time": "2022-06-15T02:20:32.651Z"
   },
   {
    "duration": 225,
    "start_time": "2022-06-15T02:20:32.661Z"
   },
   {
    "duration": 902,
    "start_time": "2022-06-15T02:20:32.888Z"
   },
   {
    "duration": 543,
    "start_time": "2022-06-15T02:20:33.792Z"
   },
   {
    "duration": 699,
    "start_time": "2022-06-15T02:20:34.337Z"
   },
   {
    "duration": 532,
    "start_time": "2022-06-15T02:20:35.039Z"
   },
   {
    "duration": 509,
    "start_time": "2022-06-15T02:20:35.572Z"
   },
   {
    "duration": 172,
    "start_time": "2022-06-15T02:20:36.082Z"
   },
   {
    "duration": 2,
    "start_time": "2022-06-15T02:20:36.256Z"
   },
   {
    "duration": 31,
    "start_time": "2022-06-15T02:20:36.259Z"
   },
   {
    "duration": 8,
    "start_time": "2022-06-15T02:20:36.292Z"
   },
   {
    "duration": 10,
    "start_time": "2022-06-15T02:20:36.302Z"
   },
   {
    "duration": 4,
    "start_time": "2022-06-15T02:20:36.323Z"
   },
   {
    "duration": 11,
    "start_time": "2022-06-15T02:20:36.329Z"
   },
   {
    "duration": 28,
    "start_time": "2022-06-15T02:20:36.342Z"
   },
   {
    "duration": 32,
    "start_time": "2022-06-15T02:20:36.372Z"
   },
   {
    "duration": 21,
    "start_time": "2022-06-15T02:20:36.406Z"
   },
   {
    "duration": 21,
    "start_time": "2022-06-15T02:20:36.429Z"
   },
   {
    "duration": 28,
    "start_time": "2022-06-15T02:20:36.452Z"
   },
   {
    "duration": 19,
    "start_time": "2022-06-15T02:20:36.481Z"
   },
   {
    "duration": 29,
    "start_time": "2022-06-15T02:20:36.501Z"
   },
   {
    "duration": 18,
    "start_time": "2022-06-15T02:20:36.532Z"
   },
   {
    "duration": 30,
    "start_time": "2022-06-15T02:20:36.552Z"
   },
   {
    "duration": 24,
    "start_time": "2022-06-15T02:20:36.583Z"
   },
   {
    "duration": 16,
    "start_time": "2022-06-15T02:20:36.609Z"
   },
   {
    "duration": 7,
    "start_time": "2022-06-15T02:20:36.627Z"
   },
   {
    "duration": 5,
    "start_time": "2022-06-15T02:20:36.636Z"
   },
   {
    "duration": 1246,
    "start_time": "2022-06-15T02:32:17.488Z"
   },
   {
    "duration": 213,
    "start_time": "2022-06-15T02:32:18.736Z"
   },
   {
    "duration": 480,
    "start_time": "2022-06-15T02:32:18.951Z"
   },
   {
    "duration": 575,
    "start_time": "2022-06-15T02:32:19.433Z"
   },
   {
    "duration": 248,
    "start_time": "2022-06-15T02:32:20.011Z"
   },
   {
    "duration": 10,
    "start_time": "2022-06-15T02:32:20.262Z"
   },
   {
    "duration": 7,
    "start_time": "2022-06-15T02:32:20.274Z"
   },
   {
    "duration": 369,
    "start_time": "2022-06-15T02:32:20.282Z"
   },
   {
    "duration": 9,
    "start_time": "2022-06-15T02:32:20.653Z"
   },
   {
    "duration": 227,
    "start_time": "2022-06-15T02:32:20.663Z"
   },
   {
    "duration": 945,
    "start_time": "2022-06-15T02:32:20.891Z"
   },
   {
    "duration": 522,
    "start_time": "2022-06-15T02:32:21.838Z"
   },
   {
    "duration": 641,
    "start_time": "2022-06-15T02:32:22.362Z"
   },
   {
    "duration": 517,
    "start_time": "2022-06-15T02:32:23.006Z"
   },
   {
    "duration": 502,
    "start_time": "2022-06-15T02:32:23.524Z"
   },
   {
    "duration": 156,
    "start_time": "2022-06-15T02:32:24.028Z"
   },
   {
    "duration": 2,
    "start_time": "2022-06-15T02:32:24.186Z"
   },
   {
    "duration": 22,
    "start_time": "2022-06-15T02:32:24.189Z"
   },
   {
    "duration": 17,
    "start_time": "2022-06-15T02:32:24.212Z"
   },
   {
    "duration": 9,
    "start_time": "2022-06-15T02:32:24.231Z"
   },
   {
    "duration": 7,
    "start_time": "2022-06-15T02:32:24.241Z"
   },
   {
    "duration": 11,
    "start_time": "2022-06-15T02:32:24.250Z"
   },
   {
    "duration": 10,
    "start_time": "2022-06-15T02:32:24.262Z"
   },
   {
    "duration": 7,
    "start_time": "2022-06-15T02:32:24.273Z"
   },
   {
    "duration": 5,
    "start_time": "2022-06-15T02:32:24.281Z"
   },
   {
    "duration": 111,
    "start_time": "2022-06-15T02:32:24.287Z"
   },
   {
    "duration": 0,
    "start_time": "2022-06-15T02:32:24.400Z"
   },
   {
    "duration": 0,
    "start_time": "2022-06-15T02:32:24.401Z"
   },
   {
    "duration": 0,
    "start_time": "2022-06-15T02:32:24.402Z"
   },
   {
    "duration": 0,
    "start_time": "2022-06-15T02:32:24.403Z"
   },
   {
    "duration": 0,
    "start_time": "2022-06-15T02:32:24.404Z"
   },
   {
    "duration": 0,
    "start_time": "2022-06-15T02:32:24.405Z"
   },
   {
    "duration": 0,
    "start_time": "2022-06-15T02:32:24.406Z"
   },
   {
    "duration": 0,
    "start_time": "2022-06-15T02:32:24.407Z"
   },
   {
    "duration": 0,
    "start_time": "2022-06-15T02:32:24.408Z"
   },
   {
    "duration": 0,
    "start_time": "2022-06-15T02:32:24.423Z"
   },
   {
    "duration": 1,
    "start_time": "2022-06-15T02:32:24.423Z"
   },
   {
    "duration": 0,
    "start_time": "2022-06-15T02:32:24.425Z"
   },
   {
    "duration": 1311,
    "start_time": "2022-06-15T02:37:30.923Z"
   },
   {
    "duration": 204,
    "start_time": "2022-06-15T02:37:32.236Z"
   },
   {
    "duration": 463,
    "start_time": "2022-06-15T02:37:32.442Z"
   },
   {
    "duration": 566,
    "start_time": "2022-06-15T02:37:32.907Z"
   },
   {
    "duration": 236,
    "start_time": "2022-06-15T02:37:33.475Z"
   },
   {
    "duration": 16,
    "start_time": "2022-06-15T02:37:33.713Z"
   },
   {
    "duration": 5,
    "start_time": "2022-06-15T02:37:33.731Z"
   },
   {
    "duration": 313,
    "start_time": "2022-06-15T02:37:33.737Z"
   },
   {
    "duration": 8,
    "start_time": "2022-06-15T02:37:34.052Z"
   },
   {
    "duration": 235,
    "start_time": "2022-06-15T02:37:34.061Z"
   },
   {
    "duration": 894,
    "start_time": "2022-06-15T02:37:34.297Z"
   },
   {
    "duration": 511,
    "start_time": "2022-06-15T02:37:35.193Z"
   },
   {
    "duration": 636,
    "start_time": "2022-06-15T02:37:35.706Z"
   },
   {
    "duration": 487,
    "start_time": "2022-06-15T02:37:36.345Z"
   },
   {
    "duration": 495,
    "start_time": "2022-06-15T02:37:36.834Z"
   },
   {
    "duration": 149,
    "start_time": "2022-06-15T02:37:37.330Z"
   },
   {
    "duration": 2,
    "start_time": "2022-06-15T02:37:37.481Z"
   },
   {
    "duration": 21,
    "start_time": "2022-06-15T02:37:37.485Z"
   },
   {
    "duration": 17,
    "start_time": "2022-06-15T02:37:37.507Z"
   },
   {
    "duration": 9,
    "start_time": "2022-06-15T02:37:37.525Z"
   },
   {
    "duration": 10,
    "start_time": "2022-06-15T02:37:37.536Z"
   },
   {
    "duration": 10,
    "start_time": "2022-06-15T02:37:37.547Z"
   },
   {
    "duration": 10,
    "start_time": "2022-06-15T02:37:37.558Z"
   },
   {
    "duration": 6,
    "start_time": "2022-06-15T02:37:37.569Z"
   },
   {
    "duration": 8,
    "start_time": "2022-06-15T02:37:37.576Z"
   },
   {
    "duration": 5,
    "start_time": "2022-06-15T02:37:37.585Z"
   },
   {
    "duration": 5,
    "start_time": "2022-06-15T02:37:37.591Z"
   },
   {
    "duration": 6,
    "start_time": "2022-06-15T02:37:37.598Z"
   },
   {
    "duration": 5,
    "start_time": "2022-06-15T02:37:37.606Z"
   },
   {
    "duration": 5,
    "start_time": "2022-06-15T02:37:37.623Z"
   },
   {
    "duration": 111,
    "start_time": "2022-06-15T02:37:37.630Z"
   },
   {
    "duration": 0,
    "start_time": "2022-06-15T02:37:37.743Z"
   },
   {
    "duration": 0,
    "start_time": "2022-06-15T02:37:37.744Z"
   },
   {
    "duration": 0,
    "start_time": "2022-06-15T02:37:37.744Z"
   },
   {
    "duration": 0,
    "start_time": "2022-06-15T02:37:37.745Z"
   },
   {
    "duration": 0,
    "start_time": "2022-06-15T02:37:37.746Z"
   },
   {
    "duration": 0,
    "start_time": "2022-06-15T02:37:37.747Z"
   },
   {
    "duration": 0,
    "start_time": "2022-06-15T02:37:37.748Z"
   },
   {
    "duration": 0,
    "start_time": "2022-06-15T02:37:37.749Z"
   },
   {
    "duration": 1278,
    "start_time": "2022-06-15T02:38:40.852Z"
   },
   {
    "duration": 209,
    "start_time": "2022-06-15T02:38:42.132Z"
   },
   {
    "duration": 475,
    "start_time": "2022-06-15T02:38:42.343Z"
   },
   {
    "duration": 562,
    "start_time": "2022-06-15T02:38:42.820Z"
   },
   {
    "duration": 231,
    "start_time": "2022-06-15T02:38:43.384Z"
   },
   {
    "duration": 14,
    "start_time": "2022-06-15T02:38:43.617Z"
   },
   {
    "duration": 7,
    "start_time": "2022-06-15T02:38:43.632Z"
   },
   {
    "duration": 306,
    "start_time": "2022-06-15T02:38:43.640Z"
   },
   {
    "duration": 8,
    "start_time": "2022-06-15T02:38:43.948Z"
   },
   {
    "duration": 218,
    "start_time": "2022-06-15T02:38:43.957Z"
   },
   {
    "duration": 885,
    "start_time": "2022-06-15T02:38:44.176Z"
   },
   {
    "duration": 520,
    "start_time": "2022-06-15T02:38:45.064Z"
   },
   {
    "duration": 641,
    "start_time": "2022-06-15T02:38:45.586Z"
   },
   {
    "duration": 508,
    "start_time": "2022-06-15T02:38:46.231Z"
   },
   {
    "duration": 507,
    "start_time": "2022-06-15T02:38:46.741Z"
   },
   {
    "duration": 154,
    "start_time": "2022-06-15T02:38:47.250Z"
   },
   {
    "duration": 3,
    "start_time": "2022-06-15T02:38:47.405Z"
   },
   {
    "duration": 26,
    "start_time": "2022-06-15T02:38:47.410Z"
   },
   {
    "duration": 8,
    "start_time": "2022-06-15T02:38:47.438Z"
   },
   {
    "duration": 9,
    "start_time": "2022-06-15T02:38:47.448Z"
   },
   {
    "duration": 4,
    "start_time": "2022-06-15T02:38:47.459Z"
   },
   {
    "duration": 10,
    "start_time": "2022-06-15T02:38:47.465Z"
   },
   {
    "duration": 11,
    "start_time": "2022-06-15T02:38:47.476Z"
   },
   {
    "duration": 5,
    "start_time": "2022-06-15T02:38:47.488Z"
   },
   {
    "duration": 28,
    "start_time": "2022-06-15T02:38:47.495Z"
   },
   {
    "duration": 3,
    "start_time": "2022-06-15T02:38:47.525Z"
   },
   {
    "duration": 5,
    "start_time": "2022-06-15T02:38:47.529Z"
   },
   {
    "duration": 6,
    "start_time": "2022-06-15T02:38:47.535Z"
   },
   {
    "duration": 5,
    "start_time": "2022-06-15T02:38:47.542Z"
   },
   {
    "duration": 6,
    "start_time": "2022-06-15T02:38:47.548Z"
   },
   {
    "duration": 130,
    "start_time": "2022-06-15T02:38:47.555Z"
   },
   {
    "duration": 0,
    "start_time": "2022-06-15T02:38:47.687Z"
   },
   {
    "duration": 0,
    "start_time": "2022-06-15T02:38:47.688Z"
   },
   {
    "duration": 0,
    "start_time": "2022-06-15T02:38:47.689Z"
   },
   {
    "duration": 0,
    "start_time": "2022-06-15T02:38:47.691Z"
   },
   {
    "duration": 0,
    "start_time": "2022-06-15T02:38:47.692Z"
   },
   {
    "duration": 0,
    "start_time": "2022-06-15T02:38:47.693Z"
   },
   {
    "duration": 0,
    "start_time": "2022-06-15T02:38:47.694Z"
   },
   {
    "duration": 0,
    "start_time": "2022-06-15T02:38:47.694Z"
   },
   {
    "duration": 1321,
    "start_time": "2022-06-15T02:40:55.719Z"
   },
   {
    "duration": 205,
    "start_time": "2022-06-15T02:40:57.042Z"
   },
   {
    "duration": 474,
    "start_time": "2022-06-15T02:40:57.249Z"
   },
   {
    "duration": 576,
    "start_time": "2022-06-15T02:40:57.725Z"
   },
   {
    "duration": 250,
    "start_time": "2022-06-15T02:40:58.303Z"
   },
   {
    "duration": 10,
    "start_time": "2022-06-15T02:40:58.554Z"
   },
   {
    "duration": 6,
    "start_time": "2022-06-15T02:40:58.565Z"
   },
   {
    "duration": 375,
    "start_time": "2022-06-15T02:40:58.573Z"
   },
   {
    "duration": 9,
    "start_time": "2022-06-15T02:40:58.949Z"
   },
   {
    "duration": 233,
    "start_time": "2022-06-15T02:40:58.961Z"
   },
   {
    "duration": 969,
    "start_time": "2022-06-15T02:40:59.195Z"
   },
   {
    "duration": 530,
    "start_time": "2022-06-15T02:41:00.166Z"
   },
   {
    "duration": 664,
    "start_time": "2022-06-15T02:41:00.697Z"
   },
   {
    "duration": 560,
    "start_time": "2022-06-15T02:41:01.363Z"
   },
   {
    "duration": 531,
    "start_time": "2022-06-15T02:41:01.924Z"
   },
   {
    "duration": 167,
    "start_time": "2022-06-15T02:41:02.457Z"
   },
   {
    "duration": 2,
    "start_time": "2022-06-15T02:41:02.626Z"
   },
   {
    "duration": 38,
    "start_time": "2022-06-15T02:41:02.629Z"
   },
   {
    "duration": 8,
    "start_time": "2022-06-15T02:41:02.668Z"
   },
   {
    "duration": 11,
    "start_time": "2022-06-15T02:41:02.678Z"
   },
   {
    "duration": 7,
    "start_time": "2022-06-15T02:41:02.691Z"
   },
   {
    "duration": 11,
    "start_time": "2022-06-15T02:41:02.699Z"
   },
   {
    "duration": 14,
    "start_time": "2022-06-15T02:41:02.711Z"
   },
   {
    "duration": 8,
    "start_time": "2022-06-15T02:41:02.727Z"
   },
   {
    "duration": 9,
    "start_time": "2022-06-15T02:41:02.736Z"
   },
   {
    "duration": 14,
    "start_time": "2022-06-15T02:41:02.746Z"
   },
   {
    "duration": 8,
    "start_time": "2022-06-15T02:41:02.761Z"
   },
   {
    "duration": 8,
    "start_time": "2022-06-15T02:41:02.772Z"
   },
   {
    "duration": 6,
    "start_time": "2022-06-15T02:41:02.781Z"
   },
   {
    "duration": 13,
    "start_time": "2022-06-15T02:41:02.788Z"
   },
   {
    "duration": 50,
    "start_time": "2022-06-15T02:41:02.803Z"
   },
   {
    "duration": 110,
    "start_time": "2022-06-15T02:41:02.855Z"
   },
   {
    "duration": 0,
    "start_time": "2022-06-15T02:41:02.967Z"
   },
   {
    "duration": 0,
    "start_time": "2022-06-15T02:41:02.968Z"
   },
   {
    "duration": 0,
    "start_time": "2022-06-15T02:41:02.969Z"
   },
   {
    "duration": 0,
    "start_time": "2022-06-15T02:41:02.971Z"
   },
   {
    "duration": 0,
    "start_time": "2022-06-15T02:41:02.972Z"
   },
   {
    "duration": 0,
    "start_time": "2022-06-15T02:41:02.973Z"
   },
   {
    "duration": 0,
    "start_time": "2022-06-15T02:41:02.974Z"
   },
   {
    "duration": 1284,
    "start_time": "2022-06-15T02:42:06.849Z"
   },
   {
    "duration": 207,
    "start_time": "2022-06-15T02:42:08.135Z"
   },
   {
    "duration": 468,
    "start_time": "2022-06-15T02:42:08.344Z"
   },
   {
    "duration": 613,
    "start_time": "2022-06-15T02:42:08.813Z"
   },
   {
    "duration": 243,
    "start_time": "2022-06-15T02:42:09.428Z"
   },
   {
    "duration": 11,
    "start_time": "2022-06-15T02:42:09.673Z"
   },
   {
    "duration": 11,
    "start_time": "2022-06-15T02:42:09.686Z"
   },
   {
    "duration": 347,
    "start_time": "2022-06-15T02:42:09.699Z"
   },
   {
    "duration": 11,
    "start_time": "2022-06-15T02:42:10.048Z"
   },
   {
    "duration": 236,
    "start_time": "2022-06-15T02:42:10.060Z"
   },
   {
    "duration": 923,
    "start_time": "2022-06-15T02:42:10.298Z"
   },
   {
    "duration": 529,
    "start_time": "2022-06-15T02:42:11.223Z"
   },
   {
    "duration": 661,
    "start_time": "2022-06-15T02:42:11.754Z"
   },
   {
    "duration": 536,
    "start_time": "2022-06-15T02:42:12.422Z"
   },
   {
    "duration": 513,
    "start_time": "2022-06-15T02:42:12.960Z"
   },
   {
    "duration": 157,
    "start_time": "2022-06-15T02:42:13.475Z"
   },
   {
    "duration": 2,
    "start_time": "2022-06-15T02:42:13.634Z"
   },
   {
    "duration": 48,
    "start_time": "2022-06-15T02:42:13.638Z"
   },
   {
    "duration": 9,
    "start_time": "2022-06-15T02:42:13.688Z"
   },
   {
    "duration": 19,
    "start_time": "2022-06-15T02:42:13.699Z"
   },
   {
    "duration": 33,
    "start_time": "2022-06-15T02:42:13.720Z"
   },
   {
    "duration": 18,
    "start_time": "2022-06-15T02:42:13.755Z"
   },
   {
    "duration": 21,
    "start_time": "2022-06-15T02:42:13.775Z"
   },
   {
    "duration": 17,
    "start_time": "2022-06-15T02:42:13.798Z"
   },
   {
    "duration": 8,
    "start_time": "2022-06-15T02:42:13.817Z"
   },
   {
    "duration": 10,
    "start_time": "2022-06-15T02:42:13.827Z"
   },
   {
    "duration": 7,
    "start_time": "2022-06-15T02:42:13.839Z"
   },
   {
    "duration": 20,
    "start_time": "2022-06-15T02:42:13.847Z"
   },
   {
    "duration": 15,
    "start_time": "2022-06-15T02:42:13.868Z"
   },
   {
    "duration": 12,
    "start_time": "2022-06-15T02:42:13.884Z"
   },
   {
    "duration": 30,
    "start_time": "2022-06-15T02:42:13.898Z"
   },
   {
    "duration": 309,
    "start_time": "2022-06-15T02:42:13.929Z"
   },
   {
    "duration": 0,
    "start_time": "2022-06-15T02:42:14.240Z"
   },
   {
    "duration": 0,
    "start_time": "2022-06-15T02:42:14.242Z"
   },
   {
    "duration": 0,
    "start_time": "2022-06-15T02:42:14.243Z"
   },
   {
    "duration": 0,
    "start_time": "2022-06-15T02:42:14.244Z"
   },
   {
    "duration": 0,
    "start_time": "2022-06-15T02:42:14.246Z"
   },
   {
    "duration": 0,
    "start_time": "2022-06-15T02:42:14.247Z"
   },
   {
    "duration": 0,
    "start_time": "2022-06-15T02:42:14.248Z"
   },
   {
    "duration": 1795,
    "start_time": "2022-06-15T10:10:59.281Z"
   },
   {
    "duration": 646,
    "start_time": "2022-06-15T10:11:01.079Z"
   },
   {
    "duration": 1295,
    "start_time": "2022-06-15T10:11:01.727Z"
   },
   {
    "duration": 2312,
    "start_time": "2022-06-15T10:11:03.024Z"
   },
   {
    "duration": 303,
    "start_time": "2022-06-15T10:11:05.338Z"
   },
   {
    "duration": 11,
    "start_time": "2022-06-15T10:11:05.643Z"
   },
   {
    "duration": 11,
    "start_time": "2022-06-15T10:11:05.669Z"
   },
   {
    "duration": 411,
    "start_time": "2022-06-15T10:11:05.682Z"
   },
   {
    "duration": 13,
    "start_time": "2022-06-15T10:11:06.095Z"
   },
   {
    "duration": 276,
    "start_time": "2022-06-15T10:11:06.110Z"
   },
   {
    "duration": 1114,
    "start_time": "2022-06-15T10:11:06.393Z"
   },
   {
    "duration": 617,
    "start_time": "2022-06-15T10:11:07.509Z"
   },
   {
    "duration": 784,
    "start_time": "2022-06-15T10:11:08.128Z"
   },
   {
    "duration": 698,
    "start_time": "2022-06-15T10:11:08.916Z"
   },
   {
    "duration": 785,
    "start_time": "2022-06-15T10:11:09.616Z"
   },
   {
    "duration": 36,
    "start_time": "2022-06-15T10:11:10.403Z"
   },
   {
    "duration": 3,
    "start_time": "2022-06-15T10:11:10.441Z"
   },
   {
    "duration": 37,
    "start_time": "2022-06-15T10:11:10.447Z"
   },
   {
    "duration": 15,
    "start_time": "2022-06-15T10:11:10.487Z"
   },
   {
    "duration": 14,
    "start_time": "2022-06-15T10:11:10.504Z"
   },
   {
    "duration": 12,
    "start_time": "2022-06-15T10:11:10.520Z"
   },
   {
    "duration": 14,
    "start_time": "2022-06-15T10:11:10.535Z"
   },
   {
    "duration": 28,
    "start_time": "2022-06-15T10:11:10.551Z"
   },
   {
    "duration": 20,
    "start_time": "2022-06-15T10:11:10.581Z"
   },
   {
    "duration": 15,
    "start_time": "2022-06-15T10:11:10.603Z"
   },
   {
    "duration": 7,
    "start_time": "2022-06-15T10:11:10.620Z"
   },
   {
    "duration": 6,
    "start_time": "2022-06-15T10:11:10.629Z"
   },
   {
    "duration": 6,
    "start_time": "2022-06-15T10:11:10.637Z"
   },
   {
    "duration": 15,
    "start_time": "2022-06-15T10:11:10.645Z"
   },
   {
    "duration": 0,
    "start_time": "2022-06-15T10:11:10.661Z"
   },
   {
    "duration": 0,
    "start_time": "2022-06-15T10:11:10.663Z"
   },
   {
    "duration": 0,
    "start_time": "2022-06-15T10:11:10.664Z"
   },
   {
    "duration": 0,
    "start_time": "2022-06-15T10:11:10.666Z"
   },
   {
    "duration": 0,
    "start_time": "2022-06-15T10:11:10.667Z"
   },
   {
    "duration": 0,
    "start_time": "2022-06-15T10:11:10.669Z"
   },
   {
    "duration": 0,
    "start_time": "2022-06-15T10:11:10.670Z"
   },
   {
    "duration": 0,
    "start_time": "2022-06-15T10:11:10.672Z"
   },
   {
    "duration": 0,
    "start_time": "2022-06-15T10:11:10.673Z"
   },
   {
    "duration": 0,
    "start_time": "2022-06-15T10:11:10.687Z"
   },
   {
    "duration": 0,
    "start_time": "2022-06-15T10:11:10.688Z"
   },
   {
    "duration": 1417,
    "start_time": "2022-06-15T10:11:44.080Z"
   },
   {
    "duration": 239,
    "start_time": "2022-06-15T10:11:45.499Z"
   },
   {
    "duration": 561,
    "start_time": "2022-06-15T10:11:45.739Z"
   },
   {
    "duration": 685,
    "start_time": "2022-06-15T10:11:46.302Z"
   },
   {
    "duration": 280,
    "start_time": "2022-06-15T10:11:46.989Z"
   },
   {
    "duration": 12,
    "start_time": "2022-06-15T10:11:47.273Z"
   },
   {
    "duration": 7,
    "start_time": "2022-06-15T10:11:47.287Z"
   },
   {
    "duration": 376,
    "start_time": "2022-06-15T10:11:47.295Z"
   },
   {
    "duration": 13,
    "start_time": "2022-06-15T10:11:47.673Z"
   },
   {
    "duration": 270,
    "start_time": "2022-06-15T10:11:47.691Z"
   },
   {
    "duration": 1302,
    "start_time": "2022-06-15T10:11:47.966Z"
   },
   {
    "duration": 658,
    "start_time": "2022-06-15T10:11:49.277Z"
   },
   {
    "duration": 882,
    "start_time": "2022-06-15T10:11:49.937Z"
   },
   {
    "duration": 705,
    "start_time": "2022-06-15T10:11:50.822Z"
   },
   {
    "duration": 637,
    "start_time": "2022-06-15T10:11:51.530Z"
   },
   {
    "duration": 184,
    "start_time": "2022-06-15T10:11:52.173Z"
   },
   {
    "duration": 11,
    "start_time": "2022-06-15T10:11:52.358Z"
   },
   {
    "duration": 42,
    "start_time": "2022-06-15T10:11:52.371Z"
   },
   {
    "duration": 10,
    "start_time": "2022-06-15T10:11:52.414Z"
   },
   {
    "duration": 9,
    "start_time": "2022-06-15T10:11:52.426Z"
   },
   {
    "duration": 5,
    "start_time": "2022-06-15T10:11:52.437Z"
   },
   {
    "duration": 10,
    "start_time": "2022-06-15T10:11:52.443Z"
   },
   {
    "duration": 33,
    "start_time": "2022-06-15T10:11:52.454Z"
   },
   {
    "duration": 9,
    "start_time": "2022-06-15T10:11:52.489Z"
   },
   {
    "duration": 8,
    "start_time": "2022-06-15T10:11:52.500Z"
   },
   {
    "duration": 7,
    "start_time": "2022-06-15T10:11:52.509Z"
   },
   {
    "duration": 5,
    "start_time": "2022-06-15T10:11:52.518Z"
   },
   {
    "duration": 4,
    "start_time": "2022-06-15T10:11:52.527Z"
   },
   {
    "duration": 6,
    "start_time": "2022-06-15T10:11:52.533Z"
   },
   {
    "duration": 8,
    "start_time": "2022-06-15T10:11:52.540Z"
   },
   {
    "duration": 0,
    "start_time": "2022-06-15T10:11:52.551Z"
   },
   {
    "duration": 0,
    "start_time": "2022-06-15T10:11:52.552Z"
   },
   {
    "duration": 0,
    "start_time": "2022-06-15T10:11:52.555Z"
   },
   {
    "duration": 0,
    "start_time": "2022-06-15T10:11:52.565Z"
   },
   {
    "duration": 0,
    "start_time": "2022-06-15T10:11:52.566Z"
   },
   {
    "duration": 0,
    "start_time": "2022-06-15T10:11:52.567Z"
   },
   {
    "duration": 0,
    "start_time": "2022-06-15T10:11:52.568Z"
   },
   {
    "duration": 0,
    "start_time": "2022-06-15T10:11:52.571Z"
   },
   {
    "duration": 0,
    "start_time": "2022-06-15T10:11:52.572Z"
   },
   {
    "duration": 0,
    "start_time": "2022-06-15T10:11:52.573Z"
   },
   {
    "duration": 1454,
    "start_time": "2022-06-15T10:12:26.539Z"
   },
   {
    "duration": 245,
    "start_time": "2022-06-15T10:12:27.995Z"
   },
   {
    "duration": 548,
    "start_time": "2022-06-15T10:12:28.242Z"
   },
   {
    "duration": 718,
    "start_time": "2022-06-15T10:12:28.792Z"
   },
   {
    "duration": 347,
    "start_time": "2022-06-15T10:12:29.514Z"
   },
   {
    "duration": 14,
    "start_time": "2022-06-15T10:12:29.866Z"
   },
   {
    "duration": 26,
    "start_time": "2022-06-15T10:12:29.882Z"
   },
   {
    "duration": 304,
    "start_time": "2022-06-15T10:12:29.911Z"
   },
   {
    "duration": 10,
    "start_time": "2022-06-15T10:12:30.217Z"
   },
   {
    "duration": 272,
    "start_time": "2022-06-15T10:12:30.229Z"
   },
   {
    "duration": 1223,
    "start_time": "2022-06-15T10:12:30.503Z"
   },
   {
    "duration": 757,
    "start_time": "2022-06-15T10:12:31.728Z"
   },
   {
    "duration": 824,
    "start_time": "2022-06-15T10:12:32.487Z"
   },
   {
    "duration": 683,
    "start_time": "2022-06-15T10:12:33.314Z"
   },
   {
    "duration": 699,
    "start_time": "2022-06-15T10:12:33.999Z"
   },
   {
    "duration": 167,
    "start_time": "2022-06-15T10:12:34.701Z"
   },
   {
    "duration": 12,
    "start_time": "2022-06-15T10:12:34.871Z"
   },
   {
    "duration": 30,
    "start_time": "2022-06-15T10:12:34.885Z"
   },
   {
    "duration": 10,
    "start_time": "2022-06-15T10:12:34.917Z"
   },
   {
    "duration": 11,
    "start_time": "2022-06-15T10:12:34.929Z"
   },
   {
    "duration": 8,
    "start_time": "2022-06-15T10:12:34.941Z"
   },
   {
    "duration": 22,
    "start_time": "2022-06-15T10:12:34.951Z"
   },
   {
    "duration": 21,
    "start_time": "2022-06-15T10:12:34.975Z"
   },
   {
    "duration": 4,
    "start_time": "2022-06-15T10:12:34.998Z"
   },
   {
    "duration": 9,
    "start_time": "2022-06-15T10:12:35.004Z"
   },
   {
    "duration": 5,
    "start_time": "2022-06-15T10:12:35.014Z"
   },
   {
    "duration": 8,
    "start_time": "2022-06-15T10:12:35.021Z"
   },
   {
    "duration": 16,
    "start_time": "2022-06-15T10:12:35.031Z"
   },
   {
    "duration": 22,
    "start_time": "2022-06-15T10:12:35.048Z"
   },
   {
    "duration": 1425,
    "start_time": "2022-06-15T22:25:34.179Z"
   },
   {
    "duration": 526,
    "start_time": "2022-06-15T22:25:35.606Z"
   },
   {
    "duration": 1031,
    "start_time": "2022-06-15T22:25:36.134Z"
   },
   {
    "duration": 2092,
    "start_time": "2022-06-15T22:25:37.168Z"
   },
   {
    "duration": 263,
    "start_time": "2022-06-15T22:25:39.261Z"
   },
   {
    "duration": 10,
    "start_time": "2022-06-15T22:25:39.525Z"
   },
   {
    "duration": 20,
    "start_time": "2022-06-15T22:25:39.536Z"
   },
   {
    "duration": 420,
    "start_time": "2022-06-15T22:25:39.558Z"
   },
   {
    "duration": 10,
    "start_time": "2022-06-15T22:25:39.980Z"
   },
   {
    "duration": 246,
    "start_time": "2022-06-15T22:25:39.994Z"
   },
   {
    "duration": 1049,
    "start_time": "2022-06-15T22:25:40.243Z"
   },
   {
    "duration": 605,
    "start_time": "2022-06-15T22:25:41.294Z"
   },
   {
    "duration": 747,
    "start_time": "2022-06-15T22:25:41.901Z"
   },
   {
    "duration": 596,
    "start_time": "2022-06-15T22:25:42.652Z"
   },
   {
    "duration": 709,
    "start_time": "2022-06-15T22:25:43.251Z"
   },
   {
    "duration": 24,
    "start_time": "2022-06-15T22:25:43.962Z"
   },
   {
    "duration": 2,
    "start_time": "2022-06-15T22:25:43.988Z"
   },
   {
    "duration": 34,
    "start_time": "2022-06-15T22:25:43.992Z"
   },
   {
    "duration": 13,
    "start_time": "2022-06-15T22:25:44.027Z"
   },
   {
    "duration": 23,
    "start_time": "2022-06-15T22:25:44.041Z"
   },
   {
    "duration": 25,
    "start_time": "2022-06-15T22:25:44.066Z"
   },
   {
    "duration": 24,
    "start_time": "2022-06-15T22:25:44.093Z"
   },
   {
    "duration": 26,
    "start_time": "2022-06-15T22:25:44.119Z"
   },
   {
    "duration": 14,
    "start_time": "2022-06-15T22:25:44.147Z"
   },
   {
    "duration": 16,
    "start_time": "2022-06-15T22:25:44.163Z"
   },
   {
    "duration": 25,
    "start_time": "2022-06-15T22:25:44.181Z"
   },
   {
    "duration": 16,
    "start_time": "2022-06-15T22:25:44.207Z"
   },
   {
    "duration": 126,
    "start_time": "2022-06-15T22:25:44.226Z"
   },
   {
    "duration": 0,
    "start_time": "2022-06-15T22:25:44.355Z"
   },
   {
    "duration": 0,
    "start_time": "2022-06-15T22:25:44.356Z"
   },
   {
    "duration": 0,
    "start_time": "2022-06-15T22:25:44.357Z"
   },
   {
    "duration": 0,
    "start_time": "2022-06-15T22:25:44.358Z"
   },
   {
    "duration": 0,
    "start_time": "2022-06-15T22:25:44.360Z"
   },
   {
    "duration": 1,
    "start_time": "2022-06-15T22:25:44.361Z"
   },
   {
    "duration": 0,
    "start_time": "2022-06-15T22:25:44.363Z"
   },
   {
    "duration": 0,
    "start_time": "2022-06-15T22:25:44.364Z"
   },
   {
    "duration": 0,
    "start_time": "2022-06-15T22:25:44.366Z"
   },
   {
    "duration": 1,
    "start_time": "2022-06-15T22:25:44.367Z"
   },
   {
    "duration": 0,
    "start_time": "2022-06-15T22:25:44.369Z"
   },
   {
    "duration": 1300,
    "start_time": "2022-06-15T22:26:03.964Z"
   },
   {
    "duration": 222,
    "start_time": "2022-06-15T22:26:05.267Z"
   },
   {
    "duration": 491,
    "start_time": "2022-06-15T22:26:05.493Z"
   },
   {
    "duration": 600,
    "start_time": "2022-06-15T22:26:05.985Z"
   },
   {
    "duration": 236,
    "start_time": "2022-06-15T22:26:06.587Z"
   },
   {
    "duration": 9,
    "start_time": "2022-06-15T22:26:06.824Z"
   },
   {
    "duration": 20,
    "start_time": "2022-06-15T22:26:06.834Z"
   },
   {
    "duration": 314,
    "start_time": "2022-06-15T22:26:06.855Z"
   },
   {
    "duration": 10,
    "start_time": "2022-06-15T22:26:07.173Z"
   },
   {
    "duration": 231,
    "start_time": "2022-06-15T22:26:07.185Z"
   },
   {
    "duration": 984,
    "start_time": "2022-06-15T22:26:07.417Z"
   },
   {
    "duration": 549,
    "start_time": "2022-06-15T22:26:08.402Z"
   },
   {
    "duration": 662,
    "start_time": "2022-06-15T22:26:08.953Z"
   },
   {
    "duration": 544,
    "start_time": "2022-06-15T22:26:09.617Z"
   },
   {
    "duration": 536,
    "start_time": "2022-06-15T22:26:10.164Z"
   },
   {
    "duration": 140,
    "start_time": "2022-06-15T22:26:10.702Z"
   },
   {
    "duration": 2,
    "start_time": "2022-06-15T22:26:10.844Z"
   },
   {
    "duration": 30,
    "start_time": "2022-06-15T22:26:10.852Z"
   },
   {
    "duration": 6,
    "start_time": "2022-06-15T22:26:10.883Z"
   },
   {
    "duration": 15,
    "start_time": "2022-06-15T22:26:10.891Z"
   },
   {
    "duration": 6,
    "start_time": "2022-06-15T22:26:10.907Z"
   },
   {
    "duration": 12,
    "start_time": "2022-06-15T22:26:10.914Z"
   },
   {
    "duration": 8,
    "start_time": "2022-06-15T22:26:10.928Z"
   },
   {
    "duration": 8,
    "start_time": "2022-06-15T22:26:10.938Z"
   },
   {
    "duration": 16,
    "start_time": "2022-06-15T22:26:10.947Z"
   },
   {
    "duration": 7,
    "start_time": "2022-06-15T22:26:10.965Z"
   },
   {
    "duration": 5,
    "start_time": "2022-06-15T22:26:10.975Z"
   },
   {
    "duration": 110,
    "start_time": "2022-06-15T22:26:10.981Z"
   },
   {
    "duration": 0,
    "start_time": "2022-06-15T22:26:11.093Z"
   },
   {
    "duration": 0,
    "start_time": "2022-06-15T22:26:11.094Z"
   },
   {
    "duration": 0,
    "start_time": "2022-06-15T22:26:11.095Z"
   },
   {
    "duration": 0,
    "start_time": "2022-06-15T22:26:11.096Z"
   },
   {
    "duration": 0,
    "start_time": "2022-06-15T22:26:11.097Z"
   },
   {
    "duration": 0,
    "start_time": "2022-06-15T22:26:11.098Z"
   },
   {
    "duration": 0,
    "start_time": "2022-06-15T22:26:11.099Z"
   },
   {
    "duration": 0,
    "start_time": "2022-06-15T22:26:11.100Z"
   },
   {
    "duration": 0,
    "start_time": "2022-06-15T22:26:11.101Z"
   },
   {
    "duration": 0,
    "start_time": "2022-06-15T22:26:11.102Z"
   },
   {
    "duration": 0,
    "start_time": "2022-06-15T22:26:11.103Z"
   },
   {
    "duration": 1239,
    "start_time": "2022-06-15T22:28:02.188Z"
   },
   {
    "duration": 211,
    "start_time": "2022-06-15T22:28:03.429Z"
   },
   {
    "duration": 467,
    "start_time": "2022-06-15T22:28:03.642Z"
   },
   {
    "duration": 599,
    "start_time": "2022-06-15T22:28:04.110Z"
   },
   {
    "duration": 234,
    "start_time": "2022-06-15T22:28:04.711Z"
   },
   {
    "duration": 9,
    "start_time": "2022-06-15T22:28:04.952Z"
   },
   {
    "duration": 6,
    "start_time": "2022-06-15T22:28:04.962Z"
   },
   {
    "duration": 308,
    "start_time": "2022-06-15T22:28:04.969Z"
   },
   {
    "duration": 12,
    "start_time": "2022-06-15T22:28:05.280Z"
   },
   {
    "duration": 225,
    "start_time": "2022-06-15T22:28:05.293Z"
   },
   {
    "duration": 937,
    "start_time": "2022-06-15T22:28:05.519Z"
   },
   {
    "duration": 528,
    "start_time": "2022-06-15T22:28:06.458Z"
   },
   {
    "duration": 645,
    "start_time": "2022-06-15T22:28:06.988Z"
   },
   {
    "duration": 520,
    "start_time": "2022-06-15T22:28:07.637Z"
   },
   {
    "duration": 507,
    "start_time": "2022-06-15T22:28:08.159Z"
   },
   {
    "duration": 144,
    "start_time": "2022-06-15T22:28:08.668Z"
   },
   {
    "duration": 2,
    "start_time": "2022-06-15T22:28:08.814Z"
   },
   {
    "duration": 37,
    "start_time": "2022-06-15T22:28:08.817Z"
   },
   {
    "duration": 21,
    "start_time": "2022-06-15T22:28:08.856Z"
   },
   {
    "duration": 11,
    "start_time": "2022-06-15T22:28:08.878Z"
   },
   {
    "duration": 5,
    "start_time": "2022-06-15T22:28:08.891Z"
   },
   {
    "duration": 12,
    "start_time": "2022-06-15T22:28:08.898Z"
   },
   {
    "duration": 13,
    "start_time": "2022-06-15T22:28:08.912Z"
   },
   {
    "duration": 7,
    "start_time": "2022-06-15T22:28:08.927Z"
   },
   {
    "duration": 7,
    "start_time": "2022-06-15T22:28:08.935Z"
   },
   {
    "duration": 7,
    "start_time": "2022-06-15T22:28:08.944Z"
   },
   {
    "duration": 7,
    "start_time": "2022-06-15T22:28:08.952Z"
   },
   {
    "duration": 7,
    "start_time": "2022-06-15T22:28:08.961Z"
   },
   {
    "duration": 5,
    "start_time": "2022-06-15T22:28:08.970Z"
   },
   {
    "duration": 10,
    "start_time": "2022-06-15T22:28:08.976Z"
   },
   {
    "duration": 9,
    "start_time": "2022-06-15T22:28:08.987Z"
   },
   {
    "duration": 20,
    "start_time": "2022-06-15T22:28:08.997Z"
   },
   {
    "duration": 4,
    "start_time": "2022-06-15T22:28:09.019Z"
   },
   {
    "duration": 279,
    "start_time": "2022-06-15T22:28:09.025Z"
   },
   {
    "duration": 0,
    "start_time": "2022-06-15T22:28:09.306Z"
   },
   {
    "duration": 0,
    "start_time": "2022-06-15T22:28:09.307Z"
   },
   {
    "duration": 0,
    "start_time": "2022-06-15T22:28:09.309Z"
   },
   {
    "duration": 0,
    "start_time": "2022-06-15T22:28:09.311Z"
   },
   {
    "duration": 0,
    "start_time": "2022-06-15T22:28:09.312Z"
   },
   {
    "duration": 1265,
    "start_time": "2022-06-15T22:28:33.623Z"
   },
   {
    "duration": 206,
    "start_time": "2022-06-15T22:28:34.890Z"
   },
   {
    "duration": 494,
    "start_time": "2022-06-15T22:28:35.097Z"
   },
   {
    "duration": 588,
    "start_time": "2022-06-15T22:28:35.592Z"
   },
   {
    "duration": 240,
    "start_time": "2022-06-15T22:28:36.182Z"
   },
   {
    "duration": 9,
    "start_time": "2022-06-15T22:28:36.423Z"
   },
   {
    "duration": 19,
    "start_time": "2022-06-15T22:28:36.433Z"
   },
   {
    "duration": 312,
    "start_time": "2022-06-15T22:28:36.453Z"
   },
   {
    "duration": 9,
    "start_time": "2022-06-15T22:28:36.767Z"
   },
   {
    "duration": 225,
    "start_time": "2022-06-15T22:28:36.777Z"
   },
   {
    "duration": 900,
    "start_time": "2022-06-15T22:28:37.004Z"
   },
   {
    "duration": 530,
    "start_time": "2022-06-15T22:28:37.906Z"
   },
   {
    "duration": 621,
    "start_time": "2022-06-15T22:28:38.438Z"
   },
   {
    "duration": 563,
    "start_time": "2022-06-15T22:28:39.062Z"
   },
   {
    "duration": 502,
    "start_time": "2022-06-15T22:28:39.626Z"
   },
   {
    "duration": 138,
    "start_time": "2022-06-15T22:28:40.129Z"
   },
   {
    "duration": 2,
    "start_time": "2022-06-15T22:28:40.268Z"
   },
   {
    "duration": 21,
    "start_time": "2022-06-15T22:28:40.272Z"
   },
   {
    "duration": 6,
    "start_time": "2022-06-15T22:28:40.295Z"
   },
   {
    "duration": 9,
    "start_time": "2022-06-15T22:28:40.303Z"
   },
   {
    "duration": 6,
    "start_time": "2022-06-15T22:28:40.313Z"
   },
   {
    "duration": 33,
    "start_time": "2022-06-15T22:28:40.320Z"
   },
   {
    "duration": 10,
    "start_time": "2022-06-15T22:28:40.354Z"
   },
   {
    "duration": 7,
    "start_time": "2022-06-15T22:28:40.366Z"
   },
   {
    "duration": 7,
    "start_time": "2022-06-15T22:28:40.374Z"
   },
   {
    "duration": 7,
    "start_time": "2022-06-15T22:28:40.382Z"
   },
   {
    "duration": 5,
    "start_time": "2022-06-15T22:28:40.391Z"
   },
   {
    "duration": 7,
    "start_time": "2022-06-15T22:28:40.398Z"
   },
   {
    "duration": 7,
    "start_time": "2022-06-15T22:28:40.407Z"
   },
   {
    "duration": 8,
    "start_time": "2022-06-15T22:28:40.415Z"
   },
   {
    "duration": 8,
    "start_time": "2022-06-15T22:28:40.424Z"
   },
   {
    "duration": 6,
    "start_time": "2022-06-15T22:28:40.433Z"
   },
   {
    "duration": 12,
    "start_time": "2022-06-15T22:28:40.440Z"
   },
   {
    "duration": 295,
    "start_time": "2022-06-15T22:28:40.453Z"
   },
   {
    "duration": 0,
    "start_time": "2022-06-15T22:28:40.750Z"
   },
   {
    "duration": 0,
    "start_time": "2022-06-15T22:28:40.752Z"
   },
   {
    "duration": 0,
    "start_time": "2022-06-15T22:28:40.754Z"
   },
   {
    "duration": 0,
    "start_time": "2022-06-15T22:28:40.755Z"
   },
   {
    "duration": 0,
    "start_time": "2022-06-15T22:28:40.756Z"
   },
   {
    "duration": 1231,
    "start_time": "2022-06-15T22:29:09.807Z"
   },
   {
    "duration": 217,
    "start_time": "2022-06-15T22:29:11.040Z"
   },
   {
    "duration": 467,
    "start_time": "2022-06-15T22:29:11.260Z"
   },
   {
    "duration": 573,
    "start_time": "2022-06-15T22:29:11.729Z"
   },
   {
    "duration": 277,
    "start_time": "2022-06-15T22:29:12.305Z"
   },
   {
    "duration": 10,
    "start_time": "2022-06-15T22:29:12.584Z"
   },
   {
    "duration": 8,
    "start_time": "2022-06-15T22:29:12.596Z"
   },
   {
    "duration": 277,
    "start_time": "2022-06-15T22:29:12.605Z"
   },
   {
    "duration": 11,
    "start_time": "2022-06-15T22:29:12.884Z"
   },
   {
    "duration": 215,
    "start_time": "2022-06-15T22:29:12.896Z"
   },
   {
    "duration": 926,
    "start_time": "2022-06-15T22:29:13.112Z"
   },
   {
    "duration": 527,
    "start_time": "2022-06-15T22:29:14.039Z"
   },
   {
    "duration": 664,
    "start_time": "2022-06-15T22:29:14.568Z"
   },
   {
    "duration": 557,
    "start_time": "2022-06-15T22:29:15.236Z"
   },
   {
    "duration": 507,
    "start_time": "2022-06-15T22:29:15.795Z"
   },
   {
    "duration": 146,
    "start_time": "2022-06-15T22:29:16.303Z"
   },
   {
    "duration": 3,
    "start_time": "2022-06-15T22:29:16.451Z"
   },
   {
    "duration": 23,
    "start_time": "2022-06-15T22:29:16.455Z"
   },
   {
    "duration": 7,
    "start_time": "2022-06-15T22:29:16.480Z"
   },
   {
    "duration": 13,
    "start_time": "2022-06-15T22:29:16.488Z"
   },
   {
    "duration": 8,
    "start_time": "2022-06-15T22:29:16.502Z"
   },
   {
    "duration": 11,
    "start_time": "2022-06-15T22:29:16.511Z"
   },
   {
    "duration": 10,
    "start_time": "2022-06-15T22:29:16.524Z"
   },
   {
    "duration": 17,
    "start_time": "2022-06-15T22:29:16.536Z"
   },
   {
    "duration": 5,
    "start_time": "2022-06-15T22:29:16.554Z"
   },
   {
    "duration": 10,
    "start_time": "2022-06-15T22:29:16.560Z"
   },
   {
    "duration": 6,
    "start_time": "2022-06-15T22:29:16.571Z"
   },
   {
    "duration": 8,
    "start_time": "2022-06-15T22:29:16.578Z"
   },
   {
    "duration": 6,
    "start_time": "2022-06-15T22:29:16.587Z"
   },
   {
    "duration": 6,
    "start_time": "2022-06-15T22:29:16.594Z"
   },
   {
    "duration": 10,
    "start_time": "2022-06-15T22:29:16.601Z"
   },
   {
    "duration": 10,
    "start_time": "2022-06-15T22:29:16.613Z"
   },
   {
    "duration": 5,
    "start_time": "2022-06-15T22:29:16.624Z"
   },
   {
    "duration": 295,
    "start_time": "2022-06-15T22:29:16.631Z"
   },
   {
    "duration": 0,
    "start_time": "2022-06-15T22:29:16.927Z"
   },
   {
    "duration": 0,
    "start_time": "2022-06-15T22:29:16.928Z"
   },
   {
    "duration": 0,
    "start_time": "2022-06-15T22:29:16.929Z"
   },
   {
    "duration": 0,
    "start_time": "2022-06-15T22:29:16.930Z"
   },
   {
    "duration": 0,
    "start_time": "2022-06-15T22:29:16.931Z"
   },
   {
    "duration": 1244,
    "start_time": "2022-06-15T22:29:43.893Z"
   },
   {
    "duration": 236,
    "start_time": "2022-06-15T22:29:45.139Z"
   },
   {
    "duration": 463,
    "start_time": "2022-06-15T22:29:45.377Z"
   },
   {
    "duration": 567,
    "start_time": "2022-06-15T22:29:45.842Z"
   },
   {
    "duration": 249,
    "start_time": "2022-06-15T22:29:46.412Z"
   },
   {
    "duration": 12,
    "start_time": "2022-06-15T22:29:46.662Z"
   },
   {
    "duration": 6,
    "start_time": "2022-06-15T22:29:46.676Z"
   },
   {
    "duration": 298,
    "start_time": "2022-06-15T22:29:46.683Z"
   },
   {
    "duration": 9,
    "start_time": "2022-06-15T22:29:46.982Z"
   },
   {
    "duration": 220,
    "start_time": "2022-06-15T22:29:46.992Z"
   },
   {
    "duration": 1069,
    "start_time": "2022-06-15T22:29:47.214Z"
   },
   {
    "duration": 542,
    "start_time": "2022-06-15T22:29:48.285Z"
   },
   {
    "duration": 621,
    "start_time": "2022-06-15T22:29:48.829Z"
   },
   {
    "duration": 552,
    "start_time": "2022-06-15T22:29:49.453Z"
   },
   {
    "duration": 564,
    "start_time": "2022-06-15T22:29:50.007Z"
   },
   {
    "duration": 156,
    "start_time": "2022-06-15T22:29:50.573Z"
   },
   {
    "duration": 2,
    "start_time": "2022-06-15T22:29:50.731Z"
   },
   {
    "duration": 25,
    "start_time": "2022-06-15T22:29:50.735Z"
   },
   {
    "duration": 9,
    "start_time": "2022-06-15T22:29:50.761Z"
   },
   {
    "duration": 10,
    "start_time": "2022-06-15T22:29:50.772Z"
   },
   {
    "duration": 7,
    "start_time": "2022-06-15T22:29:50.784Z"
   },
   {
    "duration": 9,
    "start_time": "2022-06-15T22:29:50.793Z"
   },
   {
    "duration": 10,
    "start_time": "2022-06-15T22:29:50.804Z"
   },
   {
    "duration": 7,
    "start_time": "2022-06-15T22:29:50.816Z"
   },
   {
    "duration": 28,
    "start_time": "2022-06-15T22:29:50.825Z"
   },
   {
    "duration": 7,
    "start_time": "2022-06-15T22:29:50.856Z"
   },
   {
    "duration": 9,
    "start_time": "2022-06-15T22:29:50.865Z"
   },
   {
    "duration": 11,
    "start_time": "2022-06-15T22:29:50.875Z"
   },
   {
    "duration": 7,
    "start_time": "2022-06-15T22:29:50.887Z"
   },
   {
    "duration": 9,
    "start_time": "2022-06-15T22:29:50.896Z"
   },
   {
    "duration": 22,
    "start_time": "2022-06-15T22:29:50.907Z"
   },
   {
    "duration": 11,
    "start_time": "2022-06-15T22:29:50.930Z"
   },
   {
    "duration": 10,
    "start_time": "2022-06-15T22:29:50.943Z"
   },
   {
    "duration": 1297,
    "start_time": "2022-06-15T22:30:51.974Z"
   },
   {
    "duration": 205,
    "start_time": "2022-06-15T22:30:53.272Z"
   },
   {
    "duration": 472,
    "start_time": "2022-06-15T22:30:53.479Z"
   },
   {
    "duration": 595,
    "start_time": "2022-06-15T22:30:53.952Z"
   },
   {
    "duration": 261,
    "start_time": "2022-06-15T22:30:54.551Z"
   },
   {
    "duration": 9,
    "start_time": "2022-06-15T22:30:54.813Z"
   },
   {
    "duration": 11,
    "start_time": "2022-06-15T22:30:54.824Z"
   },
   {
    "duration": 333,
    "start_time": "2022-06-15T22:30:54.837Z"
   },
   {
    "duration": 11,
    "start_time": "2022-06-15T22:30:55.172Z"
   },
   {
    "duration": 263,
    "start_time": "2022-06-15T22:30:55.186Z"
   },
   {
    "duration": 974,
    "start_time": "2022-06-15T22:30:55.452Z"
   },
   {
    "duration": 560,
    "start_time": "2022-06-15T22:30:56.428Z"
   },
   {
    "duration": 672,
    "start_time": "2022-06-15T22:30:56.990Z"
   },
   {
    "duration": 560,
    "start_time": "2022-06-15T22:30:57.665Z"
   },
   {
    "duration": 520,
    "start_time": "2022-06-15T22:30:58.226Z"
   },
   {
    "duration": 144,
    "start_time": "2022-06-15T22:30:58.748Z"
   },
   {
    "duration": 2,
    "start_time": "2022-06-15T22:30:58.894Z"
   },
   {
    "duration": 31,
    "start_time": "2022-06-15T22:30:58.898Z"
   },
   {
    "duration": 8,
    "start_time": "2022-06-15T22:30:58.930Z"
   },
   {
    "duration": 18,
    "start_time": "2022-06-15T22:30:58.940Z"
   },
   {
    "duration": 7,
    "start_time": "2022-06-15T22:30:58.959Z"
   },
   {
    "duration": 9,
    "start_time": "2022-06-15T22:30:58.967Z"
   },
   {
    "duration": 29,
    "start_time": "2022-06-15T22:30:58.978Z"
   },
   {
    "duration": 8,
    "start_time": "2022-06-15T22:30:59.009Z"
   },
   {
    "duration": 11,
    "start_time": "2022-06-15T22:30:59.018Z"
   },
   {
    "duration": 5,
    "start_time": "2022-06-15T22:30:59.031Z"
   },
   {
    "duration": 5,
    "start_time": "2022-06-15T22:30:59.037Z"
   },
   {
    "duration": 9,
    "start_time": "2022-06-15T22:30:59.044Z"
   },
   {
    "duration": 8,
    "start_time": "2022-06-15T22:30:59.055Z"
   },
   {
    "duration": 6,
    "start_time": "2022-06-15T22:30:59.065Z"
   },
   {
    "duration": 8,
    "start_time": "2022-06-15T22:30:59.072Z"
   },
   {
    "duration": 12,
    "start_time": "2022-06-15T22:30:59.082Z"
   },
   {
    "duration": 6,
    "start_time": "2022-06-15T22:30:59.095Z"
   },
   {
    "duration": 35973,
    "start_time": "2022-06-15T22:30:59.103Z"
   },
   {
    "duration": 4,
    "start_time": "2022-06-15T22:31:35.078Z"
   },
   {
    "duration": 187,
    "start_time": "2022-06-15T22:31:35.084Z"
   },
   {
    "duration": 0,
    "start_time": "2022-06-15T22:31:35.273Z"
   },
   {
    "duration": 0,
    "start_time": "2022-06-15T22:31:35.275Z"
   },
   {
    "duration": 0,
    "start_time": "2022-06-15T22:31:35.276Z"
   },
   {
    "duration": 1266,
    "start_time": "2022-06-15T22:32:45.252Z"
   },
   {
    "duration": 205,
    "start_time": "2022-06-15T22:32:46.520Z"
   },
   {
    "duration": 482,
    "start_time": "2022-06-15T22:32:46.727Z"
   },
   {
    "duration": 569,
    "start_time": "2022-06-15T22:32:47.212Z"
   },
   {
    "duration": 237,
    "start_time": "2022-06-15T22:32:47.783Z"
   },
   {
    "duration": 10,
    "start_time": "2022-06-15T22:32:48.021Z"
   },
   {
    "duration": 22,
    "start_time": "2022-06-15T22:32:48.032Z"
   },
   {
    "duration": 316,
    "start_time": "2022-06-15T22:32:48.056Z"
   },
   {
    "duration": 9,
    "start_time": "2022-06-15T22:32:48.374Z"
   },
   {
    "duration": 223,
    "start_time": "2022-06-15T22:32:48.386Z"
   },
   {
    "duration": 936,
    "start_time": "2022-06-15T22:32:48.611Z"
   },
   {
    "duration": 554,
    "start_time": "2022-06-15T22:32:49.548Z"
   },
   {
    "duration": 689,
    "start_time": "2022-06-15T22:32:50.104Z"
   },
   {
    "duration": 578,
    "start_time": "2022-06-15T22:32:50.795Z"
   },
   {
    "duration": 560,
    "start_time": "2022-06-15T22:32:51.376Z"
   },
   {
    "duration": 156,
    "start_time": "2022-06-15T22:32:51.937Z"
   },
   {
    "duration": 3,
    "start_time": "2022-06-15T22:32:52.094Z"
   },
   {
    "duration": 37,
    "start_time": "2022-06-15T22:32:52.098Z"
   },
   {
    "duration": 8,
    "start_time": "2022-06-15T22:32:52.137Z"
   },
   {
    "duration": 12,
    "start_time": "2022-06-15T22:32:52.151Z"
   },
   {
    "duration": 9,
    "start_time": "2022-06-15T22:32:52.165Z"
   },
   {
    "duration": 18,
    "start_time": "2022-06-15T22:32:52.176Z"
   },
   {
    "duration": 24,
    "start_time": "2022-06-15T22:32:52.196Z"
   },
   {
    "duration": 10,
    "start_time": "2022-06-15T22:32:52.222Z"
   },
   {
    "duration": 14,
    "start_time": "2022-06-15T22:32:52.234Z"
   },
   {
    "duration": 13,
    "start_time": "2022-06-15T22:32:52.249Z"
   },
   {
    "duration": 18,
    "start_time": "2022-06-15T22:32:52.263Z"
   },
   {
    "duration": 11,
    "start_time": "2022-06-15T22:32:52.284Z"
   },
   {
    "duration": 13,
    "start_time": "2022-06-15T22:32:52.297Z"
   },
   {
    "duration": 10,
    "start_time": "2022-06-15T22:32:52.312Z"
   },
   {
    "duration": 12,
    "start_time": "2022-06-15T22:32:52.324Z"
   },
   {
    "duration": 15,
    "start_time": "2022-06-15T22:32:52.339Z"
   },
   {
    "duration": 17,
    "start_time": "2022-06-15T22:32:52.356Z"
   },
   {
    "duration": 36351,
    "start_time": "2022-06-15T22:32:52.375Z"
   },
   {
    "duration": 125,
    "start_time": "2022-06-15T22:33:28.728Z"
   },
   {
    "duration": 0,
    "start_time": "2022-06-15T22:33:28.854Z"
   },
   {
    "duration": 0,
    "start_time": "2022-06-15T22:33:28.855Z"
   },
   {
    "duration": 0,
    "start_time": "2022-06-15T22:33:28.856Z"
   },
   {
    "duration": 0,
    "start_time": "2022-06-15T22:33:28.857Z"
   },
   {
    "duration": 1256,
    "start_time": "2022-06-15T22:34:11.446Z"
   },
   {
    "duration": 211,
    "start_time": "2022-06-15T22:34:12.705Z"
   },
   {
    "duration": 459,
    "start_time": "2022-06-15T22:34:12.918Z"
   },
   {
    "duration": 560,
    "start_time": "2022-06-15T22:34:13.379Z"
   },
   {
    "duration": 241,
    "start_time": "2022-06-15T22:34:13.942Z"
   },
   {
    "duration": 8,
    "start_time": "2022-06-15T22:34:14.185Z"
   },
   {
    "duration": 7,
    "start_time": "2022-06-15T22:34:14.195Z"
   },
   {
    "duration": 471,
    "start_time": "2022-06-15T22:34:14.204Z"
   },
   {
    "duration": 11,
    "start_time": "2022-06-15T22:34:14.677Z"
   },
   {
    "duration": 226,
    "start_time": "2022-06-15T22:34:14.690Z"
   },
   {
    "duration": 984,
    "start_time": "2022-06-15T22:34:14.918Z"
   },
   {
    "duration": 549,
    "start_time": "2022-06-15T22:34:15.903Z"
   },
   {
    "duration": 660,
    "start_time": "2022-06-15T22:34:16.453Z"
   },
   {
    "duration": 541,
    "start_time": "2022-06-15T22:34:17.116Z"
   },
   {
    "duration": 535,
    "start_time": "2022-06-15T22:34:17.660Z"
   },
   {
    "duration": 137,
    "start_time": "2022-06-15T22:34:18.197Z"
   },
   {
    "duration": 2,
    "start_time": "2022-06-15T22:34:18.336Z"
   },
   {
    "duration": 29,
    "start_time": "2022-06-15T22:34:18.340Z"
   },
   {
    "duration": 7,
    "start_time": "2022-06-15T22:34:18.371Z"
   },
   {
    "duration": 9,
    "start_time": "2022-06-15T22:34:18.380Z"
   },
   {
    "duration": 5,
    "start_time": "2022-06-15T22:34:18.391Z"
   },
   {
    "duration": 9,
    "start_time": "2022-06-15T22:34:18.397Z"
   },
   {
    "duration": 9,
    "start_time": "2022-06-15T22:34:18.407Z"
   },
   {
    "duration": 9,
    "start_time": "2022-06-15T22:34:18.417Z"
   },
   {
    "duration": 6,
    "start_time": "2022-06-15T22:34:18.427Z"
   },
   {
    "duration": 4,
    "start_time": "2022-06-15T22:34:18.451Z"
   },
   {
    "duration": 6,
    "start_time": "2022-06-15T22:34:18.456Z"
   },
   {
    "duration": 9,
    "start_time": "2022-06-15T22:34:18.463Z"
   },
   {
    "duration": 7,
    "start_time": "2022-06-15T22:34:18.473Z"
   },
   {
    "duration": 5,
    "start_time": "2022-06-15T22:34:18.481Z"
   },
   {
    "duration": 8,
    "start_time": "2022-06-15T22:34:18.488Z"
   },
   {
    "duration": 6,
    "start_time": "2022-06-15T22:34:18.498Z"
   },
   {
    "duration": 5,
    "start_time": "2022-06-15T22:34:18.506Z"
   },
   {
    "duration": 35683,
    "start_time": "2022-06-15T22:34:18.513Z"
   },
   {
    "duration": 154,
    "start_time": "2022-06-15T22:34:54.198Z"
   },
   {
    "duration": 0,
    "start_time": "2022-06-15T22:34:54.354Z"
   },
   {
    "duration": 0,
    "start_time": "2022-06-15T22:34:54.355Z"
   },
   {
    "duration": 0,
    "start_time": "2022-06-15T22:34:54.357Z"
   },
   {
    "duration": 0,
    "start_time": "2022-06-15T22:34:54.358Z"
   },
   {
    "duration": 1196,
    "start_time": "2022-06-15T22:35:20.187Z"
   },
   {
    "duration": 200,
    "start_time": "2022-06-15T22:35:21.385Z"
   },
   {
    "duration": 467,
    "start_time": "2022-06-15T22:35:21.587Z"
   },
   {
    "duration": 585,
    "start_time": "2022-06-15T22:35:22.056Z"
   },
   {
    "duration": 248,
    "start_time": "2022-06-15T22:35:22.643Z"
   },
   {
    "duration": 10,
    "start_time": "2022-06-15T22:35:22.893Z"
   },
   {
    "duration": 10,
    "start_time": "2022-06-15T22:35:22.904Z"
   },
   {
    "duration": 262,
    "start_time": "2022-06-15T22:35:22.916Z"
   },
   {
    "duration": 9,
    "start_time": "2022-06-15T22:35:23.179Z"
   },
   {
    "duration": 235,
    "start_time": "2022-06-15T22:35:23.190Z"
   },
   {
    "duration": 961,
    "start_time": "2022-06-15T22:35:23.427Z"
   },
   {
    "duration": 535,
    "start_time": "2022-06-15T22:35:24.389Z"
   },
   {
    "duration": 685,
    "start_time": "2022-06-15T22:35:24.926Z"
   },
   {
    "duration": 520,
    "start_time": "2022-06-15T22:35:25.614Z"
   },
   {
    "duration": 523,
    "start_time": "2022-06-15T22:35:26.136Z"
   },
   {
    "duration": 134,
    "start_time": "2022-06-15T22:35:26.661Z"
   },
   {
    "duration": 3,
    "start_time": "2022-06-15T22:35:26.796Z"
   },
   {
    "duration": 22,
    "start_time": "2022-06-15T22:35:26.800Z"
   },
   {
    "duration": 8,
    "start_time": "2022-06-15T22:35:26.824Z"
   },
   {
    "duration": 22,
    "start_time": "2022-06-15T22:35:26.833Z"
   },
   {
    "duration": 8,
    "start_time": "2022-06-15T22:35:26.856Z"
   },
   {
    "duration": 14,
    "start_time": "2022-06-15T22:35:26.866Z"
   },
   {
    "duration": 11,
    "start_time": "2022-06-15T22:35:26.882Z"
   },
   {
    "duration": 8,
    "start_time": "2022-06-15T22:35:26.895Z"
   },
   {
    "duration": 6,
    "start_time": "2022-06-15T22:35:26.904Z"
   },
   {
    "duration": 7,
    "start_time": "2022-06-15T22:35:26.911Z"
   },
   {
    "duration": 7,
    "start_time": "2022-06-15T22:35:26.920Z"
   },
   {
    "duration": 5,
    "start_time": "2022-06-15T22:35:26.928Z"
   },
   {
    "duration": 5,
    "start_time": "2022-06-15T22:35:26.935Z"
   },
   {
    "duration": 10,
    "start_time": "2022-06-15T22:35:26.942Z"
   },
   {
    "duration": 8,
    "start_time": "2022-06-15T22:35:26.953Z"
   },
   {
    "duration": 6,
    "start_time": "2022-06-15T22:35:26.963Z"
   },
   {
    "duration": 6,
    "start_time": "2022-06-15T22:35:26.970Z"
   },
   {
    "duration": 35949,
    "start_time": "2022-06-15T22:35:26.978Z"
   },
   {
    "duration": 2117,
    "start_time": "2022-06-15T22:36:02.928Z"
   },
   {
    "duration": 117,
    "start_time": "2022-06-15T22:36:05.051Z"
   },
   {
    "duration": 0,
    "start_time": "2022-06-15T22:36:05.171Z"
   },
   {
    "duration": 0,
    "start_time": "2022-06-15T22:36:05.172Z"
   },
   {
    "duration": 0,
    "start_time": "2022-06-15T22:36:05.174Z"
   },
   {
    "duration": 1419,
    "start_time": "2022-06-15T23:00:50.885Z"
   },
   {
    "duration": 254,
    "start_time": "2022-06-15T23:00:52.307Z"
   },
   {
    "duration": 558,
    "start_time": "2022-06-15T23:00:52.563Z"
   },
   {
    "duration": 618,
    "start_time": "2022-06-15T23:00:53.123Z"
   },
   {
    "duration": 274,
    "start_time": "2022-06-15T23:00:53.745Z"
   },
   {
    "duration": 10,
    "start_time": "2022-06-15T23:00:54.020Z"
   },
   {
    "duration": 23,
    "start_time": "2022-06-15T23:00:54.032Z"
   },
   {
    "duration": 321,
    "start_time": "2022-06-15T23:00:54.058Z"
   },
   {
    "duration": 11,
    "start_time": "2022-06-15T23:00:54.381Z"
   },
   {
    "duration": 266,
    "start_time": "2022-06-15T23:00:54.393Z"
   },
   {
    "duration": 1206,
    "start_time": "2022-06-15T23:00:54.661Z"
   },
   {
    "duration": 668,
    "start_time": "2022-06-15T23:00:55.869Z"
   },
   {
    "duration": 786,
    "start_time": "2022-06-15T23:00:56.538Z"
   },
   {
    "duration": 719,
    "start_time": "2022-06-15T23:00:57.328Z"
   },
   {
    "duration": 664,
    "start_time": "2022-06-15T23:00:58.049Z"
   },
   {
    "duration": 170,
    "start_time": "2022-06-15T23:00:58.715Z"
   },
   {
    "duration": 2,
    "start_time": "2022-06-15T23:00:58.887Z"
   },
   {
    "duration": 27,
    "start_time": "2022-06-15T23:00:58.891Z"
   },
   {
    "duration": 9,
    "start_time": "2022-06-15T23:00:58.920Z"
   },
   {
    "duration": 25,
    "start_time": "2022-06-15T23:00:58.931Z"
   },
   {
    "duration": 26,
    "start_time": "2022-06-15T23:00:58.958Z"
   },
   {
    "duration": 11,
    "start_time": "2022-06-15T23:00:58.986Z"
   },
   {
    "duration": 15,
    "start_time": "2022-06-15T23:00:58.998Z"
   },
   {
    "duration": 15,
    "start_time": "2022-06-15T23:00:59.014Z"
   },
   {
    "duration": 16,
    "start_time": "2022-06-15T23:00:59.031Z"
   },
   {
    "duration": 26,
    "start_time": "2022-06-15T23:00:59.049Z"
   },
   {
    "duration": 7,
    "start_time": "2022-06-15T23:00:59.077Z"
   },
   {
    "duration": 7,
    "start_time": "2022-06-15T23:00:59.086Z"
   },
   {
    "duration": 12,
    "start_time": "2022-06-15T23:00:59.094Z"
   },
   {
    "duration": 6,
    "start_time": "2022-06-15T23:00:59.107Z"
   },
   {
    "duration": 9,
    "start_time": "2022-06-15T23:00:59.115Z"
   },
   {
    "duration": 10,
    "start_time": "2022-06-15T23:00:59.125Z"
   },
   {
    "duration": 10,
    "start_time": "2022-06-15T23:00:59.137Z"
   },
   {
    "duration": 40356,
    "start_time": "2022-06-15T23:00:59.148Z"
   },
   {
    "duration": 2372,
    "start_time": "2022-06-15T23:01:39.505Z"
   },
   {
    "duration": 26,
    "start_time": "2022-06-15T23:01:41.878Z"
   },
   {
    "duration": 3824,
    "start_time": "2022-06-15T23:01:41.906Z"
   },
   {
    "duration": 143,
    "start_time": "2022-06-15T23:01:45.731Z"
   },
   {
    "duration": 223,
    "start_time": "2022-06-15T23:01:45.885Z"
   },
   {
    "duration": 0,
    "start_time": "2022-06-15T23:01:46.110Z"
   },
   {
    "duration": 0,
    "start_time": "2022-06-15T23:01:46.111Z"
   },
   {
    "duration": 1391,
    "start_time": "2022-06-15T23:02:51.838Z"
   },
   {
    "duration": 233,
    "start_time": "2022-06-15T23:02:53.231Z"
   },
   {
    "duration": 546,
    "start_time": "2022-06-15T23:02:53.466Z"
   },
   {
    "duration": 700,
    "start_time": "2022-06-15T23:02:54.014Z"
   },
   {
    "duration": 311,
    "start_time": "2022-06-15T23:02:54.718Z"
   },
   {
    "duration": 12,
    "start_time": "2022-06-15T23:02:55.031Z"
   },
   {
    "duration": 23,
    "start_time": "2022-06-15T23:02:55.045Z"
   },
   {
    "duration": 386,
    "start_time": "2022-06-15T23:02:55.071Z"
   },
   {
    "duration": 14,
    "start_time": "2022-06-15T23:02:55.460Z"
   },
   {
    "duration": 262,
    "start_time": "2022-06-15T23:02:55.476Z"
   },
   {
    "duration": 1114,
    "start_time": "2022-06-15T23:02:55.740Z"
   },
   {
    "duration": 707,
    "start_time": "2022-06-15T23:02:56.856Z"
   },
   {
    "duration": 889,
    "start_time": "2022-06-15T23:02:57.566Z"
   },
   {
    "duration": 623,
    "start_time": "2022-06-15T23:02:58.459Z"
   },
   {
    "duration": 620,
    "start_time": "2022-06-15T23:02:59.084Z"
   },
   {
    "duration": 164,
    "start_time": "2022-06-15T23:02:59.706Z"
   },
   {
    "duration": 3,
    "start_time": "2022-06-15T23:02:59.872Z"
   },
   {
    "duration": 26,
    "start_time": "2022-06-15T23:02:59.877Z"
   },
   {
    "duration": 7,
    "start_time": "2022-06-15T23:02:59.904Z"
   },
   {
    "duration": 13,
    "start_time": "2022-06-15T23:02:59.913Z"
   },
   {
    "duration": 24,
    "start_time": "2022-06-15T23:02:59.928Z"
   },
   {
    "duration": 10,
    "start_time": "2022-06-15T23:02:59.954Z"
   },
   {
    "duration": 11,
    "start_time": "2022-06-15T23:02:59.966Z"
   },
   {
    "duration": 9,
    "start_time": "2022-06-15T23:02:59.979Z"
   },
   {
    "duration": 11,
    "start_time": "2022-06-15T23:02:59.990Z"
   },
   {
    "duration": 17,
    "start_time": "2022-06-15T23:03:00.003Z"
   },
   {
    "duration": 8,
    "start_time": "2022-06-15T23:03:00.022Z"
   },
   {
    "duration": 12,
    "start_time": "2022-06-15T23:03:00.032Z"
   },
   {
    "duration": 13,
    "start_time": "2022-06-15T23:03:00.045Z"
   },
   {
    "duration": 16,
    "start_time": "2022-06-15T23:03:00.059Z"
   },
   {
    "duration": 10,
    "start_time": "2022-06-15T23:03:00.077Z"
   },
   {
    "duration": 10,
    "start_time": "2022-06-15T23:03:00.089Z"
   },
   {
    "duration": 8,
    "start_time": "2022-06-15T23:03:00.100Z"
   },
   {
    "duration": 37308,
    "start_time": "2022-06-15T23:03:00.110Z"
   },
   {
    "duration": 2175,
    "start_time": "2022-06-15T23:03:37.420Z"
   },
   {
    "duration": 193,
    "start_time": "2022-06-15T23:03:39.597Z"
   },
   {
    "duration": 3507,
    "start_time": "2022-06-15T23:03:39.792Z"
   },
   {
    "duration": 254,
    "start_time": "2022-06-15T23:03:43.301Z"
   },
   {
    "duration": 254,
    "start_time": "2022-06-15T23:03:43.557Z"
   },
   {
    "duration": 0,
    "start_time": "2022-06-15T23:03:43.813Z"
   },
   {
    "duration": 0,
    "start_time": "2022-06-15T23:03:43.815Z"
   },
   {
    "duration": 1245,
    "start_time": "2022-06-15T23:14:42.702Z"
   },
   {
    "duration": 212,
    "start_time": "2022-06-15T23:14:43.949Z"
   },
   {
    "duration": 470,
    "start_time": "2022-06-15T23:14:44.162Z"
   },
   {
    "duration": 558,
    "start_time": "2022-06-15T23:14:44.634Z"
   },
   {
    "duration": 291,
    "start_time": "2022-06-15T23:14:45.194Z"
   },
   {
    "duration": 9,
    "start_time": "2022-06-15T23:14:45.486Z"
   },
   {
    "duration": 6,
    "start_time": "2022-06-15T23:14:45.497Z"
   },
   {
    "duration": 376,
    "start_time": "2022-06-15T23:14:45.504Z"
   },
   {
    "duration": 12,
    "start_time": "2022-06-15T23:14:45.882Z"
   },
   {
    "duration": 246,
    "start_time": "2022-06-15T23:14:45.897Z"
   },
   {
    "duration": 931,
    "start_time": "2022-06-15T23:14:46.144Z"
   },
   {
    "duration": 540,
    "start_time": "2022-06-15T23:14:47.077Z"
   },
   {
    "duration": 680,
    "start_time": "2022-06-15T23:14:47.619Z"
   },
   {
    "duration": 569,
    "start_time": "2022-06-15T23:14:48.301Z"
   },
   {
    "duration": 530,
    "start_time": "2022-06-15T23:14:48.873Z"
   },
   {
    "duration": 144,
    "start_time": "2022-06-15T23:14:49.405Z"
   },
   {
    "duration": 3,
    "start_time": "2022-06-15T23:14:49.551Z"
   },
   {
    "duration": 24,
    "start_time": "2022-06-15T23:14:49.555Z"
   },
   {
    "duration": 8,
    "start_time": "2022-06-15T23:14:49.581Z"
   },
   {
    "duration": 9,
    "start_time": "2022-06-15T23:14:49.590Z"
   },
   {
    "duration": 6,
    "start_time": "2022-06-15T23:14:49.600Z"
   },
   {
    "duration": 8,
    "start_time": "2022-06-15T23:14:49.607Z"
   },
   {
    "duration": 11,
    "start_time": "2022-06-15T23:14:49.616Z"
   },
   {
    "duration": 8,
    "start_time": "2022-06-15T23:14:49.651Z"
   },
   {
    "duration": 10,
    "start_time": "2022-06-15T23:14:49.661Z"
   },
   {
    "duration": 6,
    "start_time": "2022-06-15T23:14:49.673Z"
   },
   {
    "duration": 8,
    "start_time": "2022-06-15T23:14:49.681Z"
   },
   {
    "duration": 8,
    "start_time": "2022-06-15T23:14:49.692Z"
   },
   {
    "duration": 6,
    "start_time": "2022-06-15T23:14:49.702Z"
   },
   {
    "duration": 7,
    "start_time": "2022-06-15T23:14:49.710Z"
   },
   {
    "duration": 6,
    "start_time": "2022-06-15T23:14:49.718Z"
   },
   {
    "duration": 8,
    "start_time": "2022-06-15T23:14:49.726Z"
   },
   {
    "duration": 6,
    "start_time": "2022-06-15T23:14:49.736Z"
   },
   {
    "duration": 3,
    "start_time": "2022-06-15T23:14:49.751Z"
   },
   {
    "duration": 36884,
    "start_time": "2022-06-15T23:14:49.756Z"
   },
   {
    "duration": 2150,
    "start_time": "2022-06-15T23:15:26.642Z"
   },
   {
    "duration": 159,
    "start_time": "2022-06-15T23:15:28.794Z"
   },
   {
    "duration": 3694,
    "start_time": "2022-06-15T23:15:28.954Z"
   },
   {
    "duration": 304,
    "start_time": "2022-06-15T23:15:32.650Z"
   },
   {
    "duration": 98670,
    "start_time": "2022-06-15T23:15:32.956Z"
   },
   {
    "duration": 5198,
    "start_time": "2022-06-15T23:17:11.628Z"
   },
   {
    "duration": 1315,
    "start_time": "2022-06-15T23:22:16.643Z"
   },
   {
    "duration": 219,
    "start_time": "2022-06-15T23:22:17.960Z"
   },
   {
    "duration": 476,
    "start_time": "2022-06-15T23:22:18.181Z"
   },
   {
    "duration": 605,
    "start_time": "2022-06-15T23:22:18.660Z"
   },
   {
    "duration": 262,
    "start_time": "2022-06-15T23:22:19.267Z"
   },
   {
    "duration": 21,
    "start_time": "2022-06-15T23:22:19.531Z"
   },
   {
    "duration": 8,
    "start_time": "2022-06-15T23:22:19.555Z"
   },
   {
    "duration": 286,
    "start_time": "2022-06-15T23:22:19.566Z"
   },
   {
    "duration": 11,
    "start_time": "2022-06-15T23:22:19.854Z"
   },
   {
    "duration": 258,
    "start_time": "2022-06-15T23:22:19.869Z"
   },
   {
    "duration": 1029,
    "start_time": "2022-06-15T23:22:20.130Z"
   },
   {
    "duration": 577,
    "start_time": "2022-06-15T23:22:21.161Z"
   },
   {
    "duration": 709,
    "start_time": "2022-06-15T23:22:21.740Z"
   },
   {
    "duration": 585,
    "start_time": "2022-06-15T23:22:22.451Z"
   },
   {
    "duration": 558,
    "start_time": "2022-06-15T23:22:23.038Z"
   },
   {
    "duration": 171,
    "start_time": "2022-06-15T23:22:23.599Z"
   },
   {
    "duration": 16,
    "start_time": "2022-06-15T23:22:23.771Z"
   },
   {
    "duration": 8,
    "start_time": "2022-06-15T23:22:23.789Z"
   },
   {
    "duration": 34,
    "start_time": "2022-06-15T23:22:23.798Z"
   },
   {
    "duration": 24,
    "start_time": "2022-06-15T23:22:23.834Z"
   },
   {
    "duration": 15,
    "start_time": "2022-06-15T23:22:23.860Z"
   },
   {
    "duration": 14,
    "start_time": "2022-06-15T23:22:23.878Z"
   },
   {
    "duration": 16,
    "start_time": "2022-06-15T23:22:23.894Z"
   },
   {
    "duration": 29,
    "start_time": "2022-06-15T23:22:23.913Z"
   },
   {
    "duration": 15,
    "start_time": "2022-06-15T23:22:23.944Z"
   },
   {
    "duration": 13,
    "start_time": "2022-06-15T23:22:23.961Z"
   },
   {
    "duration": 6,
    "start_time": "2022-06-15T23:22:23.976Z"
   },
   {
    "duration": 33,
    "start_time": "2022-06-15T23:22:23.986Z"
   },
   {
    "duration": 9,
    "start_time": "2022-06-15T23:22:24.023Z"
   },
   {
    "duration": 8,
    "start_time": "2022-06-15T23:22:24.034Z"
   },
   {
    "duration": 9,
    "start_time": "2022-06-15T23:22:24.044Z"
   },
   {
    "duration": 10,
    "start_time": "2022-06-15T23:22:24.054Z"
   },
   {
    "duration": 37413,
    "start_time": "2022-06-15T23:22:24.066Z"
   },
   {
    "duration": 2263,
    "start_time": "2022-06-15T23:23:01.482Z"
   },
   {
    "duration": 157,
    "start_time": "2022-06-15T23:23:03.751Z"
   },
   {
    "duration": 3589,
    "start_time": "2022-06-15T23:23:03.910Z"
   },
   {
    "duration": 268,
    "start_time": "2022-06-15T23:23:07.501Z"
   },
   {
    "duration": 1441,
    "start_time": "2022-06-15T23:26:34.968Z"
   },
   {
    "duration": 216,
    "start_time": "2022-06-15T23:26:36.411Z"
   },
   {
    "duration": 471,
    "start_time": "2022-06-15T23:26:36.629Z"
   },
   {
    "duration": 551,
    "start_time": "2022-06-15T23:26:37.102Z"
   },
   {
    "duration": 264,
    "start_time": "2022-06-15T23:26:37.655Z"
   },
   {
    "duration": 12,
    "start_time": "2022-06-15T23:26:37.922Z"
   },
   {
    "duration": 21,
    "start_time": "2022-06-15T23:26:37.936Z"
   },
   {
    "duration": 430,
    "start_time": "2022-06-15T23:26:37.960Z"
   },
   {
    "duration": 11,
    "start_time": "2022-06-15T23:26:38.392Z"
   },
   {
    "duration": 262,
    "start_time": "2022-06-15T23:26:38.406Z"
   },
   {
    "duration": 1045,
    "start_time": "2022-06-15T23:26:38.670Z"
   },
   {
    "duration": 601,
    "start_time": "2022-06-15T23:26:39.717Z"
   },
   {
    "duration": 690,
    "start_time": "2022-06-15T23:26:40.320Z"
   },
   {
    "duration": 554,
    "start_time": "2022-06-15T23:26:41.012Z"
   },
   {
    "duration": 578,
    "start_time": "2022-06-15T23:26:41.568Z"
   },
   {
    "duration": 156,
    "start_time": "2022-06-15T23:26:42.151Z"
   },
   {
    "duration": 15,
    "start_time": "2022-06-15T23:26:42.309Z"
   },
   {
    "duration": 26,
    "start_time": "2022-06-15T23:26:42.326Z"
   },
   {
    "duration": 10,
    "start_time": "2022-06-15T23:26:42.354Z"
   },
   {
    "duration": 8,
    "start_time": "2022-06-15T23:26:42.365Z"
   },
   {
    "duration": 21,
    "start_time": "2022-06-15T23:26:42.375Z"
   },
   {
    "duration": 10,
    "start_time": "2022-06-15T23:26:42.398Z"
   },
   {
    "duration": 22,
    "start_time": "2022-06-15T23:26:42.410Z"
   },
   {
    "duration": 19,
    "start_time": "2022-06-15T23:26:42.434Z"
   },
   {
    "duration": 8,
    "start_time": "2022-06-15T23:26:42.454Z"
   },
   {
    "duration": 6,
    "start_time": "2022-06-15T23:26:42.464Z"
   },
   {
    "duration": 5,
    "start_time": "2022-06-15T23:26:42.472Z"
   },
   {
    "duration": 6,
    "start_time": "2022-06-15T23:26:42.481Z"
   },
   {
    "duration": 13,
    "start_time": "2022-06-15T23:26:42.489Z"
   },
   {
    "duration": 13,
    "start_time": "2022-06-15T23:26:42.504Z"
   },
   {
    "duration": 10,
    "start_time": "2022-06-15T23:26:42.519Z"
   },
   {
    "duration": 9,
    "start_time": "2022-06-15T23:26:42.531Z"
   },
   {
    "duration": 37833,
    "start_time": "2022-06-15T23:26:42.542Z"
   },
   {
    "duration": 2164,
    "start_time": "2022-06-15T23:27:20.377Z"
   },
   {
    "duration": 191,
    "start_time": "2022-06-15T23:27:22.543Z"
   },
   {
    "duration": 3473,
    "start_time": "2022-06-15T23:27:22.736Z"
   },
   {
    "duration": 149,
    "start_time": "2022-06-15T23:27:26.211Z"
   },
   {
    "duration": 576,
    "start_time": "2022-06-15T23:27:26.451Z"
   },
   {
    "duration": 0,
    "start_time": "2022-06-15T23:27:27.029Z"
   },
   {
    "duration": 1308,
    "start_time": "2022-06-15T23:50:02.616Z"
   },
   {
    "duration": 206,
    "start_time": "2022-06-15T23:50:03.926Z"
   },
   {
    "duration": 493,
    "start_time": "2022-06-15T23:50:04.133Z"
   },
   {
    "duration": 570,
    "start_time": "2022-06-15T23:50:04.628Z"
   },
   {
    "duration": 271,
    "start_time": "2022-06-15T23:50:05.200Z"
   },
   {
    "duration": 10,
    "start_time": "2022-06-15T23:50:05.473Z"
   },
   {
    "duration": 8,
    "start_time": "2022-06-15T23:50:05.485Z"
   },
   {
    "duration": 291,
    "start_time": "2022-06-15T23:50:05.495Z"
   },
   {
    "duration": 10,
    "start_time": "2022-06-15T23:50:05.788Z"
   },
   {
    "duration": 279,
    "start_time": "2022-06-15T23:50:05.800Z"
   },
   {
    "duration": 965,
    "start_time": "2022-06-15T23:50:06.082Z"
   },
   {
    "duration": 540,
    "start_time": "2022-06-15T23:50:07.051Z"
   },
   {
    "duration": 675,
    "start_time": "2022-06-15T23:50:07.594Z"
   },
   {
    "duration": 553,
    "start_time": "2022-06-15T23:50:08.274Z"
   },
   {
    "duration": 542,
    "start_time": "2022-06-15T23:50:08.829Z"
   },
   {
    "duration": 154,
    "start_time": "2022-06-15T23:50:09.374Z"
   },
   {
    "duration": 30,
    "start_time": "2022-06-15T23:50:09.529Z"
   },
   {
    "duration": 10,
    "start_time": "2022-06-15T23:50:09.561Z"
   },
   {
    "duration": 11,
    "start_time": "2022-06-15T23:50:09.573Z"
   },
   {
    "duration": 6,
    "start_time": "2022-06-15T23:50:09.586Z"
   },
   {
    "duration": 11,
    "start_time": "2022-06-15T23:50:09.594Z"
   },
   {
    "duration": 10,
    "start_time": "2022-06-15T23:50:09.608Z"
   },
   {
    "duration": 8,
    "start_time": "2022-06-15T23:50:09.620Z"
   },
   {
    "duration": 26,
    "start_time": "2022-06-15T23:50:09.630Z"
   },
   {
    "duration": 8,
    "start_time": "2022-06-15T23:50:09.658Z"
   },
   {
    "duration": 6,
    "start_time": "2022-06-15T23:50:09.668Z"
   },
   {
    "duration": 10,
    "start_time": "2022-06-15T23:50:09.676Z"
   },
   {
    "duration": 5,
    "start_time": "2022-06-15T23:50:09.688Z"
   },
   {
    "duration": 7,
    "start_time": "2022-06-15T23:50:09.695Z"
   },
   {
    "duration": 10,
    "start_time": "2022-06-15T23:50:09.704Z"
   },
   {
    "duration": 13,
    "start_time": "2022-06-15T23:50:09.716Z"
   },
   {
    "duration": 9,
    "start_time": "2022-06-15T23:50:09.731Z"
   },
   {
    "duration": 36550,
    "start_time": "2022-06-15T23:50:09.742Z"
   },
   {
    "duration": 2149,
    "start_time": "2022-06-15T23:50:46.294Z"
   },
   {
    "duration": 141,
    "start_time": "2022-06-15T23:50:48.446Z"
   },
   {
    "duration": 3598,
    "start_time": "2022-06-15T23:50:48.589Z"
   },
   {
    "duration": 165,
    "start_time": "2022-06-15T23:50:52.189Z"
   },
   {
    "duration": 689,
    "start_time": "2022-06-15T23:50:52.357Z"
   },
   {
    "duration": 0,
    "start_time": "2022-06-15T23:50:53.047Z"
   },
   {
    "duration": 0,
    "start_time": "2022-06-15T23:50:53.048Z"
   },
   {
    "duration": 1281,
    "start_time": "2022-06-15T23:52:39.666Z"
   },
   {
    "duration": 200,
    "start_time": "2022-06-15T23:52:40.949Z"
   },
   {
    "duration": 459,
    "start_time": "2022-06-15T23:52:41.152Z"
   },
   {
    "duration": 575,
    "start_time": "2022-06-15T23:52:41.613Z"
   },
   {
    "duration": 246,
    "start_time": "2022-06-15T23:52:42.191Z"
   },
   {
    "duration": 14,
    "start_time": "2022-06-15T23:52:42.439Z"
   },
   {
    "duration": 6,
    "start_time": "2022-06-15T23:52:42.454Z"
   },
   {
    "duration": 413,
    "start_time": "2022-06-15T23:52:42.462Z"
   },
   {
    "duration": 11,
    "start_time": "2022-06-15T23:52:42.877Z"
   },
   {
    "duration": 244,
    "start_time": "2022-06-15T23:52:42.890Z"
   },
   {
    "duration": 936,
    "start_time": "2022-06-15T23:52:43.135Z"
   },
   {
    "duration": 542,
    "start_time": "2022-06-15T23:52:44.072Z"
   },
   {
    "duration": 664,
    "start_time": "2022-06-15T23:52:44.615Z"
   },
   {
    "duration": 542,
    "start_time": "2022-06-15T23:52:45.282Z"
   },
   {
    "duration": 516,
    "start_time": "2022-06-15T23:52:45.826Z"
   },
   {
    "duration": 148,
    "start_time": "2022-06-15T23:52:46.343Z"
   },
   {
    "duration": 15,
    "start_time": "2022-06-15T23:52:46.493Z"
   },
   {
    "duration": 8,
    "start_time": "2022-06-15T23:52:46.510Z"
   },
   {
    "duration": 33,
    "start_time": "2022-06-15T23:52:46.520Z"
   },
   {
    "duration": 10,
    "start_time": "2022-06-15T23:52:46.555Z"
   },
   {
    "duration": 10,
    "start_time": "2022-06-15T23:52:46.567Z"
   },
   {
    "duration": 8,
    "start_time": "2022-06-15T23:52:46.579Z"
   },
   {
    "duration": 12,
    "start_time": "2022-06-15T23:52:46.589Z"
   },
   {
    "duration": 9,
    "start_time": "2022-06-15T23:52:46.603Z"
   },
   {
    "duration": 6,
    "start_time": "2022-06-15T23:52:46.614Z"
   },
   {
    "duration": 6,
    "start_time": "2022-06-15T23:52:46.621Z"
   },
   {
    "duration": 6,
    "start_time": "2022-06-15T23:52:46.629Z"
   },
   {
    "duration": 2,
    "start_time": "2022-06-15T23:52:46.652Z"
   },
   {
    "duration": 6,
    "start_time": "2022-06-15T23:52:46.656Z"
   },
   {
    "duration": 5,
    "start_time": "2022-06-15T23:52:46.664Z"
   },
   {
    "duration": 5,
    "start_time": "2022-06-15T23:52:46.671Z"
   },
   {
    "duration": 7,
    "start_time": "2022-06-15T23:52:46.678Z"
   },
   {
    "duration": 36656,
    "start_time": "2022-06-15T23:52:46.688Z"
   },
   {
    "duration": 2150,
    "start_time": "2022-06-15T23:53:23.346Z"
   },
   {
    "duration": 140,
    "start_time": "2022-06-15T23:53:25.498Z"
   },
   {
    "duration": 3369,
    "start_time": "2022-06-15T23:53:25.640Z"
   },
   {
    "duration": 155,
    "start_time": "2022-06-15T23:53:29.011Z"
   },
   {
    "duration": 712,
    "start_time": "2022-06-15T23:53:29.254Z"
   },
   {
    "duration": 0,
    "start_time": "2022-06-15T23:53:29.968Z"
   },
   {
    "duration": 0,
    "start_time": "2022-06-15T23:53:29.970Z"
   },
   {
    "duration": 1379,
    "start_time": "2022-06-15T23:57:29.964Z"
   },
   {
    "duration": 256,
    "start_time": "2022-06-15T23:57:31.346Z"
   },
   {
    "duration": 508,
    "start_time": "2022-06-15T23:57:31.604Z"
   },
   {
    "duration": 618,
    "start_time": "2022-06-15T23:57:32.114Z"
   },
   {
    "duration": 257,
    "start_time": "2022-06-15T23:57:32.734Z"
   },
   {
    "duration": 10,
    "start_time": "2022-06-15T23:57:32.993Z"
   },
   {
    "duration": 9,
    "start_time": "2022-06-15T23:57:33.004Z"
   },
   {
    "duration": 352,
    "start_time": "2022-06-15T23:57:33.015Z"
   },
   {
    "duration": 11,
    "start_time": "2022-06-15T23:57:33.368Z"
   },
   {
    "duration": 250,
    "start_time": "2022-06-15T23:57:33.381Z"
   },
   {
    "duration": 984,
    "start_time": "2022-06-15T23:57:33.633Z"
   },
   {
    "duration": 538,
    "start_time": "2022-06-15T23:57:34.619Z"
   },
   {
    "duration": 694,
    "start_time": "2022-06-15T23:57:35.159Z"
   },
   {
    "duration": 530,
    "start_time": "2022-06-15T23:57:35.856Z"
   },
   {
    "duration": 537,
    "start_time": "2022-06-15T23:57:36.388Z"
   },
   {
    "duration": 149,
    "start_time": "2022-06-15T23:57:36.927Z"
   },
   {
    "duration": 15,
    "start_time": "2022-06-15T23:57:37.077Z"
   },
   {
    "duration": 8,
    "start_time": "2022-06-15T23:57:37.093Z"
   },
   {
    "duration": 12,
    "start_time": "2022-06-15T23:57:37.103Z"
   },
   {
    "duration": 8,
    "start_time": "2022-06-15T23:57:37.117Z"
   },
   {
    "duration": 28,
    "start_time": "2022-06-15T23:57:37.127Z"
   },
   {
    "duration": 7,
    "start_time": "2022-06-15T23:57:37.157Z"
   },
   {
    "duration": 7,
    "start_time": "2022-06-15T23:57:37.166Z"
   },
   {
    "duration": 7,
    "start_time": "2022-06-15T23:57:37.175Z"
   },
   {
    "duration": 5,
    "start_time": "2022-06-15T23:57:37.183Z"
   },
   {
    "duration": 5,
    "start_time": "2022-06-15T23:57:37.190Z"
   },
   {
    "duration": 5,
    "start_time": "2022-06-15T23:57:37.197Z"
   },
   {
    "duration": 6,
    "start_time": "2022-06-15T23:57:37.204Z"
   },
   {
    "duration": 6,
    "start_time": "2022-06-15T23:57:37.211Z"
   },
   {
    "duration": 4,
    "start_time": "2022-06-15T23:57:37.219Z"
   },
   {
    "duration": 5,
    "start_time": "2022-06-15T23:57:37.225Z"
   },
   {
    "duration": 3,
    "start_time": "2022-06-15T23:57:37.253Z"
   },
   {
    "duration": 36449,
    "start_time": "2022-06-15T23:57:37.258Z"
   },
   {
    "duration": 3179,
    "start_time": "2022-06-15T23:58:13.708Z"
   },
   {
    "duration": 138,
    "start_time": "2022-06-15T23:58:16.889Z"
   },
   {
    "duration": 3986,
    "start_time": "2022-06-15T23:58:17.029Z"
   },
   {
    "duration": 139,
    "start_time": "2022-06-15T23:58:21.016Z"
   },
   {
    "duration": 688,
    "start_time": "2022-06-15T23:58:21.157Z"
   },
   {
    "duration": 0,
    "start_time": "2022-06-15T23:58:21.847Z"
   },
   {
    "duration": 0,
    "start_time": "2022-06-15T23:58:21.855Z"
   },
   {
    "duration": 1298,
    "start_time": "2022-06-16T00:14:56.748Z"
   },
   {
    "duration": 237,
    "start_time": "2022-06-16T00:14:58.048Z"
   },
   {
    "duration": 468,
    "start_time": "2022-06-16T00:14:58.287Z"
   },
   {
    "duration": 546,
    "start_time": "2022-06-16T00:14:58.757Z"
   },
   {
    "duration": 254,
    "start_time": "2022-06-16T00:14:59.304Z"
   },
   {
    "duration": 9,
    "start_time": "2022-06-16T00:14:59.560Z"
   },
   {
    "duration": 16,
    "start_time": "2022-06-16T00:14:59.571Z"
   },
   {
    "duration": 282,
    "start_time": "2022-06-16T00:14:59.589Z"
   },
   {
    "duration": 9,
    "start_time": "2022-06-16T00:14:59.873Z"
   },
   {
    "duration": 245,
    "start_time": "2022-06-16T00:14:59.885Z"
   },
   {
    "duration": 927,
    "start_time": "2022-06-16T00:15:00.132Z"
   },
   {
    "duration": 554,
    "start_time": "2022-06-16T00:15:01.060Z"
   },
   {
    "duration": 686,
    "start_time": "2022-06-16T00:15:01.616Z"
   },
   {
    "duration": 566,
    "start_time": "2022-06-16T00:15:02.303Z"
   },
   {
    "duration": 516,
    "start_time": "2022-06-16T00:15:02.871Z"
   },
   {
    "duration": 149,
    "start_time": "2022-06-16T00:15:03.389Z"
   },
   {
    "duration": 20,
    "start_time": "2022-06-16T00:15:03.540Z"
   },
   {
    "duration": 7,
    "start_time": "2022-06-16T00:15:03.561Z"
   },
   {
    "duration": 15,
    "start_time": "2022-06-16T00:15:03.570Z"
   },
   {
    "duration": 15,
    "start_time": "2022-06-16T00:15:03.587Z"
   },
   {
    "duration": 38,
    "start_time": "2022-06-16T00:15:03.603Z"
   },
   {
    "duration": 20,
    "start_time": "2022-06-16T00:15:03.643Z"
   },
   {
    "duration": 16,
    "start_time": "2022-06-16T00:15:03.665Z"
   },
   {
    "duration": 10,
    "start_time": "2022-06-16T00:15:03.683Z"
   },
   {
    "duration": 13,
    "start_time": "2022-06-16T00:15:03.696Z"
   },
   {
    "duration": 8,
    "start_time": "2022-06-16T00:15:03.710Z"
   },
   {
    "duration": 12,
    "start_time": "2022-06-16T00:15:03.719Z"
   },
   {
    "duration": 8,
    "start_time": "2022-06-16T00:15:03.735Z"
   },
   {
    "duration": 5,
    "start_time": "2022-06-16T00:15:03.745Z"
   },
   {
    "duration": 5,
    "start_time": "2022-06-16T00:15:03.752Z"
   },
   {
    "duration": 8,
    "start_time": "2022-06-16T00:15:03.758Z"
   },
   {
    "duration": 16,
    "start_time": "2022-06-16T00:15:03.767Z"
   },
   {
    "duration": 140921,
    "start_time": "2022-06-16T00:15:03.784Z"
   },
   {
    "duration": 8532,
    "start_time": "2022-06-16T00:17:24.707Z"
   },
   {
    "duration": 72012,
    "start_time": "2022-06-16T00:17:33.240Z"
   },
   {
    "duration": 72950,
    "start_time": "2022-06-16T00:18:45.254Z"
   },
   {
    "duration": 36075,
    "start_time": "2022-06-16T00:19:58.206Z"
   },
   {
    "duration": 2185,
    "start_time": "2022-06-16T00:20:34.283Z"
   },
   {
    "duration": 140,
    "start_time": "2022-06-16T00:20:36.469Z"
   },
   {
    "duration": 3401,
    "start_time": "2022-06-16T00:20:36.610Z"
   },
   {
    "duration": 147,
    "start_time": "2022-06-16T00:20:40.012Z"
   },
   {
    "duration": 707,
    "start_time": "2022-06-16T00:20:40.161Z"
   },
   {
    "duration": 0,
    "start_time": "2022-06-16T00:20:40.869Z"
   },
   {
    "duration": 0,
    "start_time": "2022-06-16T00:20:40.871Z"
   },
   {
    "duration": 1311,
    "start_time": "2022-06-16T00:37:41.240Z"
   },
   {
    "duration": 238,
    "start_time": "2022-06-16T00:37:42.554Z"
   },
   {
    "duration": 486,
    "start_time": "2022-06-16T00:37:42.794Z"
   },
   {
    "duration": 594,
    "start_time": "2022-06-16T00:37:43.282Z"
   },
   {
    "duration": 251,
    "start_time": "2022-06-16T00:37:43.878Z"
   },
   {
    "duration": 21,
    "start_time": "2022-06-16T00:37:44.131Z"
   },
   {
    "duration": 6,
    "start_time": "2022-06-16T00:37:44.155Z"
   },
   {
    "duration": 308,
    "start_time": "2022-06-16T00:37:44.162Z"
   },
   {
    "duration": 10,
    "start_time": "2022-06-16T00:37:44.474Z"
   },
   {
    "duration": 234,
    "start_time": "2022-06-16T00:37:44.485Z"
   },
   {
    "duration": 971,
    "start_time": "2022-06-16T00:37:44.721Z"
   },
   {
    "duration": 535,
    "start_time": "2022-06-16T00:37:45.694Z"
   },
   {
    "duration": 636,
    "start_time": "2022-06-16T00:37:46.231Z"
   },
   {
    "duration": 525,
    "start_time": "2022-06-16T00:37:46.870Z"
   },
   {
    "duration": 507,
    "start_time": "2022-06-16T00:37:47.397Z"
   },
   {
    "duration": 151,
    "start_time": "2022-06-16T00:37:47.906Z"
   },
   {
    "duration": 15,
    "start_time": "2022-06-16T00:37:48.058Z"
   },
   {
    "duration": 7,
    "start_time": "2022-06-16T00:37:48.074Z"
   },
   {
    "duration": 11,
    "start_time": "2022-06-16T00:37:48.082Z"
   },
   {
    "duration": 6,
    "start_time": "2022-06-16T00:37:48.094Z"
   },
   {
    "duration": 9,
    "start_time": "2022-06-16T00:37:48.101Z"
   },
   {
    "duration": 7,
    "start_time": "2022-06-16T00:37:48.111Z"
   },
   {
    "duration": 12,
    "start_time": "2022-06-16T00:37:48.119Z"
   },
   {
    "duration": 5,
    "start_time": "2022-06-16T00:37:48.152Z"
   },
   {
    "duration": 9,
    "start_time": "2022-06-16T00:37:48.159Z"
   },
   {
    "duration": 17,
    "start_time": "2022-06-16T00:37:48.170Z"
   },
   {
    "duration": 10,
    "start_time": "2022-06-16T00:37:48.188Z"
   },
   {
    "duration": 9,
    "start_time": "2022-06-16T00:37:48.199Z"
   },
   {
    "duration": 9,
    "start_time": "2022-06-16T00:37:48.209Z"
   },
   {
    "duration": 8,
    "start_time": "2022-06-16T00:37:48.220Z"
   },
   {
    "duration": 7,
    "start_time": "2022-06-16T00:37:48.230Z"
   },
   {
    "duration": 10,
    "start_time": "2022-06-16T00:37:48.238Z"
   },
   {
    "duration": 113,
    "start_time": "2022-06-16T00:37:48.250Z"
   },
   {
    "duration": 0,
    "start_time": "2022-06-16T00:37:48.364Z"
   },
   {
    "duration": 0,
    "start_time": "2022-06-16T00:37:48.366Z"
   },
   {
    "duration": 0,
    "start_time": "2022-06-16T00:37:48.367Z"
   },
   {
    "duration": 0,
    "start_time": "2022-06-16T00:37:48.368Z"
   },
   {
    "duration": 0,
    "start_time": "2022-06-16T00:37:48.369Z"
   },
   {
    "duration": 0,
    "start_time": "2022-06-16T00:37:48.370Z"
   },
   {
    "duration": 0,
    "start_time": "2022-06-16T00:37:48.371Z"
   },
   {
    "duration": 0,
    "start_time": "2022-06-16T00:37:48.372Z"
   },
   {
    "duration": 0,
    "start_time": "2022-06-16T00:37:48.373Z"
   },
   {
    "duration": 0,
    "start_time": "2022-06-16T00:37:48.374Z"
   },
   {
    "duration": 0,
    "start_time": "2022-06-16T00:37:48.376Z"
   },
   {
    "duration": 0,
    "start_time": "2022-06-16T00:37:48.377Z"
   },
   {
    "duration": 0,
    "start_time": "2022-06-16T00:37:48.377Z"
   },
   {
    "duration": 0,
    "start_time": "2022-06-16T00:37:48.378Z"
   },
   {
    "duration": 1371,
    "start_time": "2022-06-16T00:38:30.933Z"
   },
   {
    "duration": 226,
    "start_time": "2022-06-16T00:38:32.307Z"
   },
   {
    "duration": 500,
    "start_time": "2022-06-16T00:38:32.534Z"
   },
   {
    "duration": 602,
    "start_time": "2022-06-16T00:38:33.036Z"
   },
   {
    "duration": 271,
    "start_time": "2022-06-16T00:38:33.639Z"
   },
   {
    "duration": 9,
    "start_time": "2022-06-16T00:38:33.912Z"
   },
   {
    "duration": 7,
    "start_time": "2022-06-16T00:38:33.923Z"
   },
   {
    "duration": 349,
    "start_time": "2022-06-16T00:38:33.931Z"
   },
   {
    "duration": 9,
    "start_time": "2022-06-16T00:38:34.281Z"
   },
   {
    "duration": 238,
    "start_time": "2022-06-16T00:38:34.293Z"
   },
   {
    "duration": 983,
    "start_time": "2022-06-16T00:38:34.532Z"
   },
   {
    "duration": 553,
    "start_time": "2022-06-16T00:38:35.517Z"
   },
   {
    "duration": 666,
    "start_time": "2022-06-16T00:38:36.072Z"
   },
   {
    "duration": 530,
    "start_time": "2022-06-16T00:38:36.739Z"
   },
   {
    "duration": 538,
    "start_time": "2022-06-16T00:38:37.271Z"
   },
   {
    "duration": 148,
    "start_time": "2022-06-16T00:38:37.812Z"
   },
   {
    "duration": 15,
    "start_time": "2022-06-16T00:38:37.962Z"
   },
   {
    "duration": 8,
    "start_time": "2022-06-16T00:38:37.978Z"
   },
   {
    "duration": 10,
    "start_time": "2022-06-16T00:38:37.988Z"
   },
   {
    "duration": 6,
    "start_time": "2022-06-16T00:38:38.000Z"
   },
   {
    "duration": 9,
    "start_time": "2022-06-16T00:38:38.007Z"
   },
   {
    "duration": 6,
    "start_time": "2022-06-16T00:38:38.017Z"
   },
   {
    "duration": 28,
    "start_time": "2022-06-16T00:38:38.025Z"
   },
   {
    "duration": 7,
    "start_time": "2022-06-16T00:38:38.054Z"
   },
   {
    "duration": 5,
    "start_time": "2022-06-16T00:38:38.063Z"
   },
   {
    "duration": 7,
    "start_time": "2022-06-16T00:38:38.069Z"
   },
   {
    "duration": 8,
    "start_time": "2022-06-16T00:38:38.077Z"
   },
   {
    "duration": 3,
    "start_time": "2022-06-16T00:38:38.088Z"
   },
   {
    "duration": 6,
    "start_time": "2022-06-16T00:38:38.093Z"
   },
   {
    "duration": 6,
    "start_time": "2022-06-16T00:38:38.100Z"
   },
   {
    "duration": 5,
    "start_time": "2022-06-16T00:38:38.107Z"
   },
   {
    "duration": 11,
    "start_time": "2022-06-16T00:38:38.113Z"
   },
   {
    "duration": 1285,
    "start_time": "2022-06-16T00:40:34.049Z"
   },
   {
    "duration": 207,
    "start_time": "2022-06-16T00:40:35.336Z"
   },
   {
    "duration": 462,
    "start_time": "2022-06-16T00:40:35.545Z"
   },
   {
    "duration": 567,
    "start_time": "2022-06-16T00:40:36.009Z"
   },
   {
    "duration": 241,
    "start_time": "2022-06-16T00:40:36.578Z"
   },
   {
    "duration": 9,
    "start_time": "2022-06-16T00:40:36.821Z"
   },
   {
    "duration": 22,
    "start_time": "2022-06-16T00:40:36.832Z"
   },
   {
    "duration": 317,
    "start_time": "2022-06-16T00:40:36.855Z"
   },
   {
    "duration": 10,
    "start_time": "2022-06-16T00:40:37.174Z"
   },
   {
    "duration": 218,
    "start_time": "2022-06-16T00:40:37.185Z"
   },
   {
    "duration": 910,
    "start_time": "2022-06-16T00:40:37.405Z"
   },
   {
    "duration": 523,
    "start_time": "2022-06-16T00:40:38.316Z"
   },
   {
    "duration": 644,
    "start_time": "2022-06-16T00:40:38.841Z"
   },
   {
    "duration": 540,
    "start_time": "2022-06-16T00:40:39.489Z"
   },
   {
    "duration": 534,
    "start_time": "2022-06-16T00:40:40.030Z"
   },
   {
    "duration": 160,
    "start_time": "2022-06-16T00:40:40.566Z"
   },
   {
    "duration": 25,
    "start_time": "2022-06-16T00:40:40.728Z"
   },
   {
    "duration": 9,
    "start_time": "2022-06-16T00:40:40.754Z"
   },
   {
    "duration": 21,
    "start_time": "2022-06-16T00:40:40.766Z"
   },
   {
    "duration": 3,
    "start_time": "2022-06-16T00:40:40.789Z"
   },
   {
    "duration": 9,
    "start_time": "2022-06-16T00:40:40.794Z"
   },
   {
    "duration": 6,
    "start_time": "2022-06-16T00:40:40.804Z"
   },
   {
    "duration": 8,
    "start_time": "2022-06-16T00:40:40.812Z"
   },
   {
    "duration": 5,
    "start_time": "2022-06-16T00:40:40.822Z"
   },
   {
    "duration": 6,
    "start_time": "2022-06-16T00:40:40.829Z"
   },
   {
    "duration": 3,
    "start_time": "2022-06-16T00:40:40.852Z"
   },
   {
    "duration": 5,
    "start_time": "2022-06-16T00:40:40.856Z"
   },
   {
    "duration": 9,
    "start_time": "2022-06-16T00:40:40.863Z"
   },
   {
    "duration": 5,
    "start_time": "2022-06-16T00:40:40.873Z"
   },
   {
    "duration": 7,
    "start_time": "2022-06-16T00:40:40.880Z"
   },
   {
    "duration": 7,
    "start_time": "2022-06-16T00:40:40.889Z"
   },
   {
    "duration": 13,
    "start_time": "2022-06-16T00:40:40.897Z"
   },
   {
    "duration": 219701,
    "start_time": "2022-06-16T00:40:40.912Z"
   },
   {
    "duration": 72323,
    "start_time": "2022-06-16T00:44:20.615Z"
   },
   {
    "duration": 71423,
    "start_time": "2022-06-16T00:45:32.941Z"
   },
   {
    "duration": 105,
    "start_time": "2022-06-16T00:46:44.365Z"
   },
   {
    "duration": 0,
    "start_time": "2022-06-16T00:46:44.472Z"
   },
   {
    "duration": 0,
    "start_time": "2022-06-16T00:46:44.473Z"
   },
   {
    "duration": 0,
    "start_time": "2022-06-16T00:46:44.474Z"
   },
   {
    "duration": 0,
    "start_time": "2022-06-16T00:46:44.475Z"
   },
   {
    "duration": 0,
    "start_time": "2022-06-16T00:46:44.476Z"
   },
   {
    "duration": 0,
    "start_time": "2022-06-16T00:46:44.477Z"
   },
   {
    "duration": 0,
    "start_time": "2022-06-16T00:46:44.478Z"
   },
   {
    "duration": 0,
    "start_time": "2022-06-16T00:46:44.479Z"
   },
   {
    "duration": 0,
    "start_time": "2022-06-16T00:46:44.481Z"
   },
   {
    "duration": 0,
    "start_time": "2022-06-16T00:46:44.482Z"
   },
   {
    "duration": 0,
    "start_time": "2022-06-16T00:46:44.483Z"
   },
   {
    "duration": 1193,
    "start_time": "2022-06-16T00:54:01.888Z"
   },
   {
    "duration": 211,
    "start_time": "2022-06-16T00:54:03.083Z"
   },
   {
    "duration": 458,
    "start_time": "2022-06-16T00:54:03.295Z"
   },
   {
    "duration": 567,
    "start_time": "2022-06-16T00:54:03.755Z"
   },
   {
    "duration": 256,
    "start_time": "2022-06-16T00:54:04.324Z"
   },
   {
    "duration": 9,
    "start_time": "2022-06-16T00:54:04.582Z"
   },
   {
    "duration": 9,
    "start_time": "2022-06-16T00:54:04.593Z"
   },
   {
    "duration": 283,
    "start_time": "2022-06-16T00:54:04.604Z"
   },
   {
    "duration": 8,
    "start_time": "2022-06-16T00:54:04.889Z"
   },
   {
    "duration": 247,
    "start_time": "2022-06-16T00:54:04.900Z"
   },
   {
    "duration": 949,
    "start_time": "2022-06-16T00:54:05.152Z"
   },
   {
    "duration": 525,
    "start_time": "2022-06-16T00:54:06.103Z"
   },
   {
    "duration": 659,
    "start_time": "2022-06-16T00:54:06.630Z"
   },
   {
    "duration": 514,
    "start_time": "2022-06-16T00:54:07.291Z"
   },
   {
    "duration": 522,
    "start_time": "2022-06-16T00:54:07.808Z"
   },
   {
    "duration": 144,
    "start_time": "2022-06-16T00:54:08.331Z"
   },
   {
    "duration": 14,
    "start_time": "2022-06-16T00:54:08.476Z"
   },
   {
    "duration": 6,
    "start_time": "2022-06-16T00:54:08.492Z"
   },
   {
    "duration": 24,
    "start_time": "2022-06-16T00:54:08.499Z"
   },
   {
    "duration": 5,
    "start_time": "2022-06-16T00:54:08.524Z"
   },
   {
    "duration": 10,
    "start_time": "2022-06-16T00:54:08.530Z"
   },
   {
    "duration": 13,
    "start_time": "2022-06-16T00:54:08.541Z"
   },
   {
    "duration": 15,
    "start_time": "2022-06-16T00:54:08.556Z"
   },
   {
    "duration": 6,
    "start_time": "2022-06-16T00:54:08.573Z"
   },
   {
    "duration": 5,
    "start_time": "2022-06-16T00:54:08.581Z"
   },
   {
    "duration": 8,
    "start_time": "2022-06-16T00:54:08.588Z"
   },
   {
    "duration": 14,
    "start_time": "2022-06-16T00:54:08.598Z"
   },
   {
    "duration": 5,
    "start_time": "2022-06-16T00:54:08.615Z"
   },
   {
    "duration": 5,
    "start_time": "2022-06-16T00:54:08.621Z"
   },
   {
    "duration": 6,
    "start_time": "2022-06-16T00:54:08.628Z"
   },
   {
    "duration": 4,
    "start_time": "2022-06-16T00:54:08.636Z"
   },
   {
    "duration": 13,
    "start_time": "2022-06-16T00:54:08.642Z"
   },
   {
    "duration": 215667,
    "start_time": "2022-06-16T00:54:08.656Z"
   },
   {
    "duration": 71885,
    "start_time": "2022-06-16T00:57:44.325Z"
   },
   {
    "duration": 71912,
    "start_time": "2022-06-16T00:58:56.212Z"
   },
   {
    "duration": 334,
    "start_time": "2022-06-16T01:00:08.125Z"
   },
   {
    "duration": 140003,
    "start_time": "2022-06-16T01:00:08.461Z"
   },
   {
    "duration": 8922,
    "start_time": "2022-06-16T01:02:28.466Z"
   },
   {
    "duration": 72255,
    "start_time": "2022-06-16T01:02:37.389Z"
   },
   {
    "duration": 37616,
    "start_time": "2022-06-16T01:03:49.647Z"
   },
   {
    "duration": 2408,
    "start_time": "2022-06-16T01:04:27.265Z"
   },
   {
    "duration": 163,
    "start_time": "2022-06-16T01:04:29.675Z"
   },
   {
    "duration": 3636,
    "start_time": "2022-06-16T01:04:29.840Z"
   },
   {
    "duration": 174,
    "start_time": "2022-06-16T01:04:33.477Z"
   },
   {
    "duration": 645,
    "start_time": "2022-06-16T01:04:33.654Z"
   },
   {
    "duration": 0,
    "start_time": "2022-06-16T01:04:34.301Z"
   },
   {
    "duration": 0,
    "start_time": "2022-06-16T01:04:34.302Z"
   },
   {
    "duration": 1282,
    "start_time": "2022-06-16T01:11:21.590Z"
   },
   {
    "duration": 207,
    "start_time": "2022-06-16T01:11:22.874Z"
   },
   {
    "duration": 462,
    "start_time": "2022-06-16T01:11:23.083Z"
   },
   {
    "duration": 561,
    "start_time": "2022-06-16T01:11:23.547Z"
   },
   {
    "duration": 246,
    "start_time": "2022-06-16T01:11:24.111Z"
   },
   {
    "duration": 9,
    "start_time": "2022-06-16T01:11:24.358Z"
   },
   {
    "duration": 9,
    "start_time": "2022-06-16T01:11:24.369Z"
   },
   {
    "duration": 501,
    "start_time": "2022-06-16T01:11:24.380Z"
   },
   {
    "duration": 8,
    "start_time": "2022-06-16T01:11:24.883Z"
   },
   {
    "duration": 225,
    "start_time": "2022-06-16T01:11:24.892Z"
   },
   {
    "duration": 990,
    "start_time": "2022-06-16T01:11:25.119Z"
   },
   {
    "duration": 535,
    "start_time": "2022-06-16T01:11:26.111Z"
   },
   {
    "duration": 669,
    "start_time": "2022-06-16T01:11:26.652Z"
   },
   {
    "duration": 553,
    "start_time": "2022-06-16T01:11:27.325Z"
   },
   {
    "duration": 534,
    "start_time": "2022-06-16T01:11:27.882Z"
   },
   {
    "duration": 144,
    "start_time": "2022-06-16T01:11:28.418Z"
   },
   {
    "duration": 15,
    "start_time": "2022-06-16T01:11:28.564Z"
   },
   {
    "duration": 7,
    "start_time": "2022-06-16T01:11:28.580Z"
   },
   {
    "duration": 11,
    "start_time": "2022-06-16T01:11:28.588Z"
   },
   {
    "duration": 6,
    "start_time": "2022-06-16T01:11:28.600Z"
   },
   {
    "duration": 9,
    "start_time": "2022-06-16T01:11:28.608Z"
   },
   {
    "duration": 10,
    "start_time": "2022-06-16T01:11:28.618Z"
   },
   {
    "duration": 10,
    "start_time": "2022-06-16T01:11:28.651Z"
   },
   {
    "duration": 6,
    "start_time": "2022-06-16T01:11:28.662Z"
   },
   {
    "duration": 7,
    "start_time": "2022-06-16T01:11:28.670Z"
   },
   {
    "duration": 9,
    "start_time": "2022-06-16T01:11:28.679Z"
   },
   {
    "duration": 8,
    "start_time": "2022-06-16T01:11:28.690Z"
   },
   {
    "duration": 6,
    "start_time": "2022-06-16T01:11:28.699Z"
   },
   {
    "duration": 6,
    "start_time": "2022-06-16T01:11:28.707Z"
   },
   {
    "duration": 6,
    "start_time": "2022-06-16T01:11:28.714Z"
   },
   {
    "duration": 4,
    "start_time": "2022-06-16T01:11:28.722Z"
   },
   {
    "duration": 26,
    "start_time": "2022-06-16T01:11:28.728Z"
   },
   {
    "duration": 215608,
    "start_time": "2022-06-16T01:11:28.756Z"
   },
   {
    "duration": 71937,
    "start_time": "2022-06-16T01:15:04.365Z"
   },
   {
    "duration": 73220,
    "start_time": "2022-06-16T01:16:16.304Z"
   },
   {
    "duration": 427,
    "start_time": "2022-06-16T01:17:29.526Z"
   },
   {
    "duration": 138493,
    "start_time": "2022-06-16T01:17:29.956Z"
   },
   {
    "duration": 8897,
    "start_time": "2022-06-16T01:19:48.450Z"
   },
   {
    "duration": 71509,
    "start_time": "2022-06-16T01:19:57.351Z"
   },
   {
    "duration": 36457,
    "start_time": "2022-06-16T01:21:08.861Z"
   },
   {
    "duration": 2182,
    "start_time": "2022-06-16T01:21:45.323Z"
   },
   {
    "duration": 137,
    "start_time": "2022-06-16T01:21:47.507Z"
   },
   {
    "duration": 3424,
    "start_time": "2022-06-16T01:21:47.651Z"
   },
   {
    "duration": 84,
    "start_time": "2022-06-16T01:21:51.077Z"
   },
   {
    "duration": 784,
    "start_time": "2022-06-16T01:21:51.163Z"
   },
   {
    "duration": 0,
    "start_time": "2022-06-16T01:21:51.949Z"
   },
   {
    "duration": 0,
    "start_time": "2022-06-16T01:21:51.952Z"
   },
   {
    "duration": 1289,
    "start_time": "2022-06-16T01:28:44.272Z"
   },
   {
    "duration": 209,
    "start_time": "2022-06-16T01:28:45.563Z"
   },
   {
    "duration": 478,
    "start_time": "2022-06-16T01:28:45.773Z"
   },
   {
    "duration": 569,
    "start_time": "2022-06-16T01:28:46.253Z"
   },
   {
    "duration": 238,
    "start_time": "2022-06-16T01:28:46.823Z"
   },
   {
    "duration": 9,
    "start_time": "2022-06-16T01:28:47.062Z"
   },
   {
    "duration": 6,
    "start_time": "2022-06-16T01:28:47.073Z"
   },
   {
    "duration": 314,
    "start_time": "2022-06-16T01:28:47.080Z"
   },
   {
    "duration": 8,
    "start_time": "2022-06-16T01:28:47.396Z"
   },
   {
    "duration": 257,
    "start_time": "2022-06-16T01:28:47.407Z"
   },
   {
    "duration": 936,
    "start_time": "2022-06-16T01:28:47.666Z"
   },
   {
    "duration": 513,
    "start_time": "2022-06-16T01:28:48.604Z"
   },
   {
    "duration": 638,
    "start_time": "2022-06-16T01:28:49.119Z"
   },
   {
    "duration": 548,
    "start_time": "2022-06-16T01:28:49.759Z"
   },
   {
    "duration": 564,
    "start_time": "2022-06-16T01:28:50.309Z"
   },
   {
    "duration": 161,
    "start_time": "2022-06-16T01:28:50.874Z"
   },
   {
    "duration": 22,
    "start_time": "2022-06-16T01:28:51.037Z"
   },
   {
    "duration": 10,
    "start_time": "2022-06-16T01:28:51.061Z"
   },
   {
    "duration": 14,
    "start_time": "2022-06-16T01:28:51.072Z"
   },
   {
    "duration": 10,
    "start_time": "2022-06-16T01:28:51.088Z"
   },
   {
    "duration": 17,
    "start_time": "2022-06-16T01:28:51.100Z"
   },
   {
    "duration": 8,
    "start_time": "2022-06-16T01:28:51.119Z"
   },
   {
    "duration": 22,
    "start_time": "2022-06-16T01:28:51.129Z"
   },
   {
    "duration": 14,
    "start_time": "2022-06-16T01:28:51.152Z"
   },
   {
    "duration": 8,
    "start_time": "2022-06-16T01:28:51.168Z"
   },
   {
    "duration": 19,
    "start_time": "2022-06-16T01:28:51.177Z"
   },
   {
    "duration": 8,
    "start_time": "2022-06-16T01:28:51.198Z"
   },
   {
    "duration": 5,
    "start_time": "2022-06-16T01:28:51.211Z"
   },
   {
    "duration": 13,
    "start_time": "2022-06-16T01:28:51.218Z"
   },
   {
    "duration": 10,
    "start_time": "2022-06-16T01:28:51.233Z"
   },
   {
    "duration": 8,
    "start_time": "2022-06-16T01:28:51.245Z"
   },
   {
    "duration": 13,
    "start_time": "2022-06-16T01:28:51.255Z"
   },
   {
    "duration": 216576,
    "start_time": "2022-06-16T01:28:51.270Z"
   },
   {
    "duration": 72475,
    "start_time": "2022-06-16T01:32:27.848Z"
   },
   {
    "duration": 73238,
    "start_time": "2022-06-16T01:33:40.325Z"
   },
   {
    "duration": 795,
    "start_time": "2022-06-16T01:34:53.565Z"
   },
   {
    "duration": 139010,
    "start_time": "2022-06-16T01:34:54.363Z"
   },
   {
    "duration": 8259,
    "start_time": "2022-06-16T01:37:13.374Z"
   },
   {
    "duration": 114777,
    "start_time": "2022-06-16T01:37:21.635Z"
   },
   {
    "duration": 38579,
    "start_time": "2022-06-16T01:39:16.413Z"
   },
   {
    "duration": 149,
    "start_time": "2022-06-16T01:39:54.993Z"
   },
   {
    "duration": 3551,
    "start_time": "2022-06-16T01:39:55.144Z"
   },
   {
    "duration": 157,
    "start_time": "2022-06-16T01:39:58.696Z"
   },
   {
    "duration": 639,
    "start_time": "2022-06-16T01:39:58.855Z"
   },
   {
    "duration": 0,
    "start_time": "2022-06-16T01:39:59.496Z"
   },
   {
    "duration": 0,
    "start_time": "2022-06-16T01:39:59.497Z"
   },
   {
    "duration": 1255,
    "start_time": "2022-06-16T01:49:39.885Z"
   },
   {
    "duration": 208,
    "start_time": "2022-06-16T01:49:41.142Z"
   },
   {
    "duration": 461,
    "start_time": "2022-06-16T01:49:41.352Z"
   },
   {
    "duration": 576,
    "start_time": "2022-06-16T01:49:41.815Z"
   },
   {
    "duration": 293,
    "start_time": "2022-06-16T01:49:42.393Z"
   },
   {
    "duration": 9,
    "start_time": "2022-06-16T01:49:42.688Z"
   },
   {
    "duration": 6,
    "start_time": "2022-06-16T01:49:42.699Z"
   },
   {
    "duration": 367,
    "start_time": "2022-06-16T01:49:42.706Z"
   },
   {
    "duration": 9,
    "start_time": "2022-06-16T01:49:43.075Z"
   },
   {
    "duration": 227,
    "start_time": "2022-06-16T01:49:43.086Z"
   },
   {
    "duration": 947,
    "start_time": "2022-06-16T01:49:43.314Z"
   },
   {
    "duration": 529,
    "start_time": "2022-06-16T01:49:44.263Z"
   },
   {
    "duration": 693,
    "start_time": "2022-06-16T01:49:44.793Z"
   },
   {
    "duration": 548,
    "start_time": "2022-06-16T01:49:45.488Z"
   },
   {
    "duration": 537,
    "start_time": "2022-06-16T01:49:46.038Z"
   },
   {
    "duration": 145,
    "start_time": "2022-06-16T01:49:46.576Z"
   },
   {
    "duration": 15,
    "start_time": "2022-06-16T01:49:46.722Z"
   },
   {
    "duration": 19,
    "start_time": "2022-06-16T01:49:46.739Z"
   },
   {
    "duration": 13,
    "start_time": "2022-06-16T01:49:46.759Z"
   },
   {
    "duration": 7,
    "start_time": "2022-06-16T01:49:46.773Z"
   },
   {
    "duration": 15,
    "start_time": "2022-06-16T01:49:46.781Z"
   },
   {
    "duration": 9,
    "start_time": "2022-06-16T01:49:46.797Z"
   },
   {
    "duration": 8,
    "start_time": "2022-06-16T01:49:46.807Z"
   },
   {
    "duration": 13,
    "start_time": "2022-06-16T01:49:46.817Z"
   },
   {
    "duration": 9,
    "start_time": "2022-06-16T01:49:46.832Z"
   },
   {
    "duration": 5,
    "start_time": "2022-06-16T01:49:46.843Z"
   },
   {
    "duration": 5,
    "start_time": "2022-06-16T01:49:46.849Z"
   },
   {
    "duration": 6,
    "start_time": "2022-06-16T01:49:46.857Z"
   },
   {
    "duration": 4,
    "start_time": "2022-06-16T01:49:46.865Z"
   },
   {
    "duration": 4,
    "start_time": "2022-06-16T01:49:46.871Z"
   },
   {
    "duration": 6,
    "start_time": "2022-06-16T01:49:46.876Z"
   },
   {
    "duration": 8,
    "start_time": "2022-06-16T01:49:46.883Z"
   },
   {
    "duration": 223309,
    "start_time": "2022-06-16T01:49:46.892Z"
   },
   {
    "duration": 73397,
    "start_time": "2022-06-16T01:53:30.203Z"
   },
   {
    "duration": 72793,
    "start_time": "2022-06-16T01:54:43.602Z"
   },
   {
    "duration": 956,
    "start_time": "2022-06-16T01:55:56.397Z"
   },
   {
    "duration": 140283,
    "start_time": "2022-06-16T01:55:57.355Z"
   },
   {
    "duration": 8336,
    "start_time": "2022-06-16T01:58:17.640Z"
   },
   {
    "duration": 115781,
    "start_time": "2022-06-16T01:58:25.978Z"
   },
   {
    "duration": 62214,
    "start_time": "2022-06-16T02:00:21.761Z"
   },
   {
    "duration": 3684,
    "start_time": "2022-06-16T02:01:23.978Z"
   },
   {
    "duration": 3528,
    "start_time": "2022-06-16T02:01:27.664Z"
   },
   {
    "duration": 62,
    "start_time": "2022-06-16T02:01:31.194Z"
   },
   {
    "duration": 709,
    "start_time": "2022-06-16T02:01:31.258Z"
   },
   {
    "duration": 0,
    "start_time": "2022-06-16T02:01:31.969Z"
   },
   {
    "duration": 0,
    "start_time": "2022-06-16T02:01:31.970Z"
   },
   {
    "duration": 1291,
    "start_time": "2022-06-16T02:11:03.499Z"
   },
   {
    "duration": 214,
    "start_time": "2022-06-16T02:11:04.792Z"
   },
   {
    "duration": 499,
    "start_time": "2022-06-16T02:11:05.009Z"
   },
   {
    "duration": 591,
    "start_time": "2022-06-16T02:11:05.510Z"
   },
   {
    "duration": 251,
    "start_time": "2022-06-16T02:11:06.102Z"
   },
   {
    "duration": 9,
    "start_time": "2022-06-16T02:11:06.355Z"
   },
   {
    "duration": 7,
    "start_time": "2022-06-16T02:11:06.366Z"
   },
   {
    "duration": 306,
    "start_time": "2022-06-16T02:11:06.375Z"
   },
   {
    "duration": 9,
    "start_time": "2022-06-16T02:11:06.683Z"
   },
   {
    "duration": 235,
    "start_time": "2022-06-16T02:11:06.693Z"
   },
   {
    "duration": 939,
    "start_time": "2022-06-16T02:11:06.930Z"
   },
   {
    "duration": 533,
    "start_time": "2022-06-16T02:11:07.871Z"
   },
   {
    "duration": 653,
    "start_time": "2022-06-16T02:11:08.405Z"
   },
   {
    "duration": 518,
    "start_time": "2022-06-16T02:11:09.059Z"
   },
   {
    "duration": 516,
    "start_time": "2022-06-16T02:11:09.579Z"
   },
   {
    "duration": 150,
    "start_time": "2022-06-16T02:11:10.097Z"
   },
   {
    "duration": 16,
    "start_time": "2022-06-16T02:11:10.253Z"
   },
   {
    "duration": 8,
    "start_time": "2022-06-16T02:11:10.270Z"
   },
   {
    "duration": 12,
    "start_time": "2022-06-16T02:11:10.280Z"
   },
   {
    "duration": 7,
    "start_time": "2022-06-16T02:11:10.293Z"
   },
   {
    "duration": 15,
    "start_time": "2022-06-16T02:11:10.301Z"
   },
   {
    "duration": 9,
    "start_time": "2022-06-16T02:11:10.317Z"
   },
   {
    "duration": 23,
    "start_time": "2022-06-16T02:11:10.330Z"
   },
   {
    "duration": 4,
    "start_time": "2022-06-16T02:11:10.355Z"
   },
   {
    "duration": 5,
    "start_time": "2022-06-16T02:11:10.361Z"
   },
   {
    "duration": 8,
    "start_time": "2022-06-16T02:11:10.368Z"
   },
   {
    "duration": 6,
    "start_time": "2022-06-16T02:11:10.377Z"
   },
   {
    "duration": 5,
    "start_time": "2022-06-16T02:11:10.384Z"
   },
   {
    "duration": 7,
    "start_time": "2022-06-16T02:11:10.391Z"
   },
   {
    "duration": 5,
    "start_time": "2022-06-16T02:11:10.400Z"
   },
   {
    "duration": 5,
    "start_time": "2022-06-16T02:11:10.406Z"
   },
   {
    "duration": 9,
    "start_time": "2022-06-16T02:11:10.413Z"
   },
   {
    "duration": 2230,
    "start_time": "2022-06-16T02:11:10.424Z"
   },
   {
    "duration": 222,
    "start_time": "2022-06-16T02:11:12.656Z"
   },
   {
    "duration": 0,
    "start_time": "2022-06-16T02:11:12.880Z"
   },
   {
    "duration": 0,
    "start_time": "2022-06-16T02:11:12.881Z"
   },
   {
    "duration": 0,
    "start_time": "2022-06-16T02:11:12.882Z"
   },
   {
    "duration": 0,
    "start_time": "2022-06-16T02:11:12.883Z"
   },
   {
    "duration": 0,
    "start_time": "2022-06-16T02:11:12.885Z"
   },
   {
    "duration": 0,
    "start_time": "2022-06-16T02:11:12.886Z"
   },
   {
    "duration": 0,
    "start_time": "2022-06-16T02:11:12.887Z"
   },
   {
    "duration": 0,
    "start_time": "2022-06-16T02:11:12.888Z"
   },
   {
    "duration": 0,
    "start_time": "2022-06-16T02:11:12.889Z"
   },
   {
    "duration": 0,
    "start_time": "2022-06-16T02:11:12.891Z"
   },
   {
    "duration": 0,
    "start_time": "2022-06-16T02:11:12.892Z"
   },
   {
    "duration": 0,
    "start_time": "2022-06-16T02:11:12.894Z"
   },
   {
    "duration": 0,
    "start_time": "2022-06-16T02:11:12.895Z"
   },
   {
    "duration": 0,
    "start_time": "2022-06-16T02:11:12.896Z"
   },
   {
    "duration": 0,
    "start_time": "2022-06-16T02:11:12.898Z"
   },
   {
    "duration": 1263,
    "start_time": "2022-06-16T02:12:35.317Z"
   },
   {
    "duration": 217,
    "start_time": "2022-06-16T02:12:36.583Z"
   },
   {
    "duration": 500,
    "start_time": "2022-06-16T02:12:36.802Z"
   },
   {
    "duration": 606,
    "start_time": "2022-06-16T02:12:37.304Z"
   },
   {
    "duration": 265,
    "start_time": "2022-06-16T02:12:37.912Z"
   },
   {
    "duration": 9,
    "start_time": "2022-06-16T02:12:38.179Z"
   },
   {
    "duration": 9,
    "start_time": "2022-06-16T02:12:38.190Z"
   },
   {
    "duration": 285,
    "start_time": "2022-06-16T02:12:38.200Z"
   },
   {
    "duration": 9,
    "start_time": "2022-06-16T02:12:38.486Z"
   },
   {
    "duration": 235,
    "start_time": "2022-06-16T02:12:38.498Z"
   },
   {
    "duration": 1002,
    "start_time": "2022-06-16T02:12:38.735Z"
   },
   {
    "duration": 582,
    "start_time": "2022-06-16T02:12:39.738Z"
   },
   {
    "duration": 693,
    "start_time": "2022-06-16T02:12:40.321Z"
   },
   {
    "duration": 572,
    "start_time": "2022-06-16T02:12:41.017Z"
   },
   {
    "duration": 588,
    "start_time": "2022-06-16T02:12:41.593Z"
   },
   {
    "duration": 147,
    "start_time": "2022-06-16T02:12:42.183Z"
   },
   {
    "duration": 27,
    "start_time": "2022-06-16T02:12:42.331Z"
   },
   {
    "duration": 15,
    "start_time": "2022-06-16T02:12:42.359Z"
   },
   {
    "duration": 14,
    "start_time": "2022-06-16T02:12:42.377Z"
   },
   {
    "duration": 4,
    "start_time": "2022-06-16T02:12:42.393Z"
   },
   {
    "duration": 11,
    "start_time": "2022-06-16T02:12:42.398Z"
   },
   {
    "duration": 8,
    "start_time": "2022-06-16T02:12:42.411Z"
   },
   {
    "duration": 8,
    "start_time": "2022-06-16T02:12:42.421Z"
   },
   {
    "duration": 30,
    "start_time": "2022-06-16T02:12:42.431Z"
   },
   {
    "duration": 10,
    "start_time": "2022-06-16T02:12:42.462Z"
   },
   {
    "duration": 5,
    "start_time": "2022-06-16T02:12:42.474Z"
   },
   {
    "duration": 5,
    "start_time": "2022-06-16T02:12:42.481Z"
   },
   {
    "duration": 4,
    "start_time": "2022-06-16T02:12:42.491Z"
   },
   {
    "duration": 12,
    "start_time": "2022-06-16T02:12:42.496Z"
   },
   {
    "duration": 13,
    "start_time": "2022-06-16T02:12:42.509Z"
   },
   {
    "duration": 6,
    "start_time": "2022-06-16T02:12:42.524Z"
   },
   {
    "duration": 11,
    "start_time": "2022-06-16T02:12:42.532Z"
   },
   {
    "duration": 3321,
    "start_time": "2022-06-16T02:12:42.545Z"
   },
   {
    "duration": 3792,
    "start_time": "2022-06-16T02:12:45.868Z"
   },
   {
    "duration": 230594,
    "start_time": "2022-06-16T02:12:49.664Z"
   },
   {
    "duration": 75934,
    "start_time": "2022-06-16T02:16:40.260Z"
   },
   {
    "duration": 75471,
    "start_time": "2022-06-16T02:17:56.196Z"
   },
   {
    "duration": 797,
    "start_time": "2022-06-16T02:19:11.670Z"
   },
   {
    "duration": 140658,
    "start_time": "2022-06-16T02:19:12.472Z"
   },
   {
    "duration": 8518,
    "start_time": "2022-06-16T02:21:33.132Z"
   },
   {
    "duration": 116468,
    "start_time": "2022-06-16T02:21:41.652Z"
   },
   {
    "duration": 61156,
    "start_time": "2022-06-16T02:23:38.122Z"
   },
   {
    "duration": 1251,
    "start_time": "2022-06-16T02:24:39.280Z"
   },
   {
    "duration": 6355,
    "start_time": "2022-06-16T02:24:40.533Z"
   },
   {
    "duration": 107,
    "start_time": "2022-06-16T02:24:46.890Z"
   },
   {
    "duration": 154,
    "start_time": "2022-06-16T02:24:46.999Z"
   },
   {
    "duration": 376354,
    "start_time": "2022-06-16T02:24:47.155Z"
   },
   {
    "duration": 150,
    "start_time": "2022-06-16T02:31:03.511Z"
   },
   {
    "duration": 0,
    "start_time": "2022-06-16T02:31:03.663Z"
   },
   {
    "duration": 1572,
    "start_time": "2022-06-16T08:40:14.559Z"
   },
   {
    "duration": 307,
    "start_time": "2022-06-16T08:40:16.133Z"
   },
   {
    "duration": 1309,
    "start_time": "2022-06-16T08:40:16.442Z"
   },
   {
    "duration": 800,
    "start_time": "2022-06-16T08:40:17.753Z"
   },
   {
    "duration": 257,
    "start_time": "2022-06-16T08:40:18.555Z"
   },
   {
    "duration": 11,
    "start_time": "2022-06-16T08:40:18.814Z"
   },
   {
    "duration": 10,
    "start_time": "2022-06-16T08:40:18.826Z"
   },
   {
    "duration": 364,
    "start_time": "2022-06-16T08:40:18.838Z"
   },
   {
    "duration": 9,
    "start_time": "2022-06-16T08:40:19.204Z"
   },
   {
    "duration": 279,
    "start_time": "2022-06-16T08:40:19.216Z"
   },
   {
    "duration": 1086,
    "start_time": "2022-06-16T08:40:19.496Z"
   },
   {
    "duration": 617,
    "start_time": "2022-06-16T08:40:20.584Z"
   },
   {
    "duration": 737,
    "start_time": "2022-06-16T08:40:21.203Z"
   },
   {
    "duration": 653,
    "start_time": "2022-06-16T08:40:21.942Z"
   },
   {
    "duration": 731,
    "start_time": "2022-06-16T08:40:22.596Z"
   },
   {
    "duration": 25,
    "start_time": "2022-06-16T08:40:23.330Z"
   },
   {
    "duration": 16,
    "start_time": "2022-06-16T08:40:23.357Z"
   },
   {
    "duration": 28,
    "start_time": "2022-06-16T08:40:23.374Z"
   },
   {
    "duration": 18,
    "start_time": "2022-06-16T08:40:23.404Z"
   },
   {
    "duration": 11,
    "start_time": "2022-06-16T08:40:23.423Z"
   },
   {
    "duration": 13,
    "start_time": "2022-06-16T08:40:23.436Z"
   },
   {
    "duration": 9,
    "start_time": "2022-06-16T08:40:23.452Z"
   },
   {
    "duration": 13,
    "start_time": "2022-06-16T08:40:23.463Z"
   },
   {
    "duration": 17,
    "start_time": "2022-06-16T08:40:23.478Z"
   },
   {
    "duration": 3,
    "start_time": "2022-06-16T08:40:23.497Z"
   },
   {
    "duration": 5,
    "start_time": "2022-06-16T08:40:23.502Z"
   },
   {
    "duration": 6,
    "start_time": "2022-06-16T08:40:23.508Z"
   },
   {
    "duration": 4,
    "start_time": "2022-06-16T08:40:23.518Z"
   },
   {
    "duration": 5,
    "start_time": "2022-06-16T08:40:23.524Z"
   },
   {
    "duration": 6,
    "start_time": "2022-06-16T08:40:23.533Z"
   },
   {
    "duration": 6,
    "start_time": "2022-06-16T08:40:23.540Z"
   },
   {
    "duration": 13,
    "start_time": "2022-06-16T08:40:23.548Z"
   },
   {
    "duration": 3239,
    "start_time": "2022-06-16T08:40:23.562Z"
   },
   {
    "duration": 3388,
    "start_time": "2022-06-16T08:40:26.807Z"
   },
   {
    "duration": 78907,
    "start_time": "2022-06-16T08:40:30.198Z"
   },
   {
    "duration": 79564,
    "start_time": "2022-06-16T08:41:49.195Z"
   },
   {
    "duration": 1289,
    "start_time": "2022-06-16T08:43:08.761Z"
   },
   {
    "duration": 353,
    "start_time": "2022-06-16T08:43:10.054Z"
   },
   {
    "duration": 141444,
    "start_time": "2022-06-16T08:43:10.493Z"
   },
   {
    "duration": 8251,
    "start_time": "2022-06-16T08:45:31.939Z"
   },
   {
    "duration": 111902,
    "start_time": "2022-06-16T08:45:40.194Z"
   },
   {
    "duration": 59873,
    "start_time": "2022-06-16T08:47:32.098Z"
   },
   {
    "duration": 1220,
    "start_time": "2022-06-16T08:48:31.972Z"
   },
   {
    "duration": 2917,
    "start_time": "2022-06-16T08:48:33.194Z"
   },
   {
    "duration": 71,
    "start_time": "2022-06-16T08:48:36.112Z"
   },
   {
    "duration": 203,
    "start_time": "2022-06-16T08:48:36.196Z"
   },
   {
    "duration": 365242,
    "start_time": "2022-06-16T08:48:36.402Z"
   },
   {
    "duration": 521843,
    "start_time": "2022-06-16T08:54:41.645Z"
   },
   {
    "duration": 109,
    "start_time": "2022-06-16T09:03:23.490Z"
   },
   {
    "duration": 1752,
    "start_time": "2022-06-16T14:47:08.976Z"
   },
   {
    "duration": 417,
    "start_time": "2022-06-16T14:47:10.731Z"
   },
   {
    "duration": 1877,
    "start_time": "2022-06-16T14:47:11.150Z"
   },
   {
    "duration": 1184,
    "start_time": "2022-06-16T14:47:13.029Z"
   },
   {
    "duration": 334,
    "start_time": "2022-06-16T14:47:14.216Z"
   },
   {
    "duration": 15,
    "start_time": "2022-06-16T14:47:14.552Z"
   },
   {
    "duration": 38,
    "start_time": "2022-06-16T14:47:14.572Z"
   },
   {
    "duration": 417,
    "start_time": "2022-06-16T14:47:14.612Z"
   },
   {
    "duration": 13,
    "start_time": "2022-06-16T14:47:15.031Z"
   },
   {
    "duration": 276,
    "start_time": "2022-06-16T14:47:15.046Z"
   },
   {
    "duration": 1277,
    "start_time": "2022-06-16T14:47:15.324Z"
   },
   {
    "duration": 786,
    "start_time": "2022-06-16T14:47:16.603Z"
   },
   {
    "duration": 922,
    "start_time": "2022-06-16T14:47:17.391Z"
   },
   {
    "duration": 711,
    "start_time": "2022-06-16T14:47:18.316Z"
   },
   {
    "duration": 796,
    "start_time": "2022-06-16T14:47:19.029Z"
   },
   {
    "duration": 33,
    "start_time": "2022-06-16T14:47:19.827Z"
   },
   {
    "duration": 26,
    "start_time": "2022-06-16T14:47:19.864Z"
   },
   {
    "duration": 16,
    "start_time": "2022-06-16T14:47:19.895Z"
   },
   {
    "duration": 16,
    "start_time": "2022-06-16T14:47:19.912Z"
   },
   {
    "duration": 7,
    "start_time": "2022-06-16T14:47:19.930Z"
   },
   {
    "duration": 13,
    "start_time": "2022-06-16T14:47:19.939Z"
   },
   {
    "duration": 23,
    "start_time": "2022-06-16T14:47:19.958Z"
   },
   {
    "duration": 17,
    "start_time": "2022-06-16T14:47:19.988Z"
   },
   {
    "duration": 8,
    "start_time": "2022-06-16T14:47:20.007Z"
   },
   {
    "duration": 11,
    "start_time": "2022-06-16T14:47:20.017Z"
   },
   {
    "duration": 7,
    "start_time": "2022-06-16T14:47:20.030Z"
   },
   {
    "duration": 18,
    "start_time": "2022-06-16T14:47:20.039Z"
   },
   {
    "duration": 30,
    "start_time": "2022-06-16T14:47:20.065Z"
   },
   {
    "duration": 6,
    "start_time": "2022-06-16T14:47:20.098Z"
   },
   {
    "duration": 6,
    "start_time": "2022-06-16T14:47:20.106Z"
   },
   {
    "duration": 9,
    "start_time": "2022-06-16T14:47:20.114Z"
   },
   {
    "duration": 9,
    "start_time": "2022-06-16T14:47:20.124Z"
   },
   {
    "duration": 4675,
    "start_time": "2022-06-16T14:47:20.135Z"
   },
   {
    "duration": 6708,
    "start_time": "2022-06-16T14:47:24.892Z"
   },
   {
    "duration": 103546,
    "start_time": "2022-06-16T14:47:31.660Z"
   },
   {
    "duration": 98628,
    "start_time": "2022-06-16T14:49:15.264Z"
   },
   {
    "duration": 1747,
    "start_time": "2022-06-16T14:50:53.894Z"
   },
   {
    "duration": 1219,
    "start_time": "2022-06-16T14:50:55.643Z"
   },
   {
    "duration": 193520,
    "start_time": "2022-06-16T14:50:56.865Z"
   },
   {
    "duration": 11056,
    "start_time": "2022-06-16T14:54:10.388Z"
   },
   {
    "duration": 152107,
    "start_time": "2022-06-16T14:54:21.448Z"
   },
   {
    "duration": 79792,
    "start_time": "2022-06-16T14:56:53.558Z"
   },
   {
    "duration": 1663,
    "start_time": "2022-06-16T14:58:13.352Z"
   },
   {
    "duration": 4162,
    "start_time": "2022-06-16T14:58:15.017Z"
   },
   {
    "duration": 101,
    "start_time": "2022-06-16T14:58:19.181Z"
   },
   {
    "duration": 77,
    "start_time": "2022-06-16T14:58:19.287Z"
   },
   {
    "duration": 474432,
    "start_time": "2022-06-16T14:58:19.370Z"
   },
   {
    "duration": 678185,
    "start_time": "2022-06-16T15:06:13.804Z"
   },
   {
    "duration": 153,
    "start_time": "2022-06-16T15:17:31.993Z"
   },
   {
    "duration": 1354,
    "start_time": "2022-06-16T15:34:58.187Z"
   },
   {
    "duration": 229,
    "start_time": "2022-06-16T15:34:59.543Z"
   },
   {
    "duration": 538,
    "start_time": "2022-06-16T15:34:59.774Z"
   },
   {
    "duration": 646,
    "start_time": "2022-06-16T15:35:00.315Z"
   },
   {
    "duration": 281,
    "start_time": "2022-06-16T15:35:00.963Z"
   },
   {
    "duration": 18,
    "start_time": "2022-06-16T15:35:01.247Z"
   },
   {
    "duration": 69,
    "start_time": "2022-06-16T15:35:01.267Z"
   },
   {
    "duration": 353,
    "start_time": "2022-06-16T15:35:01.338Z"
   },
   {
    "duration": 13,
    "start_time": "2022-06-16T15:35:01.693Z"
   },
   {
    "duration": 369,
    "start_time": "2022-06-16T15:35:01.709Z"
   },
   {
    "duration": 1115,
    "start_time": "2022-06-16T15:35:02.081Z"
   },
   {
    "duration": 650,
    "start_time": "2022-06-16T15:35:03.198Z"
   },
   {
    "duration": 774,
    "start_time": "2022-06-16T15:35:03.850Z"
   },
   {
    "duration": 620,
    "start_time": "2022-06-16T15:35:04.626Z"
   },
   {
    "duration": 623,
    "start_time": "2022-06-16T15:35:05.249Z"
   },
   {
    "duration": 186,
    "start_time": "2022-06-16T15:35:05.874Z"
   },
   {
    "duration": 19,
    "start_time": "2022-06-16T15:35:06.062Z"
   },
   {
    "duration": 9,
    "start_time": "2022-06-16T15:35:06.084Z"
   },
   {
    "duration": 16,
    "start_time": "2022-06-16T15:35:06.094Z"
   },
   {
    "duration": 9,
    "start_time": "2022-06-16T15:35:06.112Z"
   },
   {
    "duration": 38,
    "start_time": "2022-06-16T15:35:06.124Z"
   },
   {
    "duration": 8,
    "start_time": "2022-06-16T15:35:06.165Z"
   },
   {
    "duration": 8,
    "start_time": "2022-06-16T15:35:06.175Z"
   },
   {
    "duration": 4,
    "start_time": "2022-06-16T15:35:06.186Z"
   },
   {
    "duration": 6,
    "start_time": "2022-06-16T15:35:06.192Z"
   },
   {
    "duration": 15,
    "start_time": "2022-06-16T15:35:06.200Z"
   },
   {
    "duration": 7,
    "start_time": "2022-06-16T15:35:06.217Z"
   },
   {
    "duration": 17,
    "start_time": "2022-06-16T15:35:06.229Z"
   },
   {
    "duration": 11,
    "start_time": "2022-06-16T15:35:06.248Z"
   },
   {
    "duration": 8,
    "start_time": "2022-06-16T15:35:06.261Z"
   },
   {
    "duration": 15,
    "start_time": "2022-06-16T15:35:06.271Z"
   },
   {
    "duration": 11,
    "start_time": "2022-06-16T15:35:06.288Z"
   },
   {
    "duration": 2663,
    "start_time": "2022-06-16T15:35:06.302Z"
   },
   {
    "duration": 3101,
    "start_time": "2022-06-16T15:35:08.967Z"
   },
   {
    "duration": 88989,
    "start_time": "2022-06-16T15:35:12.070Z"
   },
   {
    "duration": 85932,
    "start_time": "2022-06-16T15:36:41.060Z"
   },
   {
    "duration": 1451,
    "start_time": "2022-06-16T15:38:06.994Z"
   },
   {
    "duration": 912,
    "start_time": "2022-06-16T15:38:08.447Z"
   },
   {
    "duration": 168379,
    "start_time": "2022-06-16T15:38:09.361Z"
   },
   {
    "duration": 10233,
    "start_time": "2022-06-16T15:40:57.742Z"
   },
   {
    "duration": 139540,
    "start_time": "2022-06-16T15:41:07.977Z"
   },
   {
    "duration": 74269,
    "start_time": "2022-06-16T15:43:27.519Z"
   },
   {
    "duration": 1772,
    "start_time": "2022-06-16T15:44:41.794Z"
   },
   {
    "duration": 3735,
    "start_time": "2022-06-16T15:44:43.568Z"
   },
   {
    "duration": 96,
    "start_time": "2022-06-16T15:44:47.305Z"
   },
   {
    "duration": 178,
    "start_time": "2022-06-16T15:44:47.404Z"
   },
   {
    "duration": 477752,
    "start_time": "2022-06-16T15:44:47.666Z"
   },
   {
    "duration": 686236,
    "start_time": "2022-06-16T15:52:45.419Z"
   },
   {
    "duration": 221,
    "start_time": "2022-06-16T16:04:11.658Z"
   },
   {
    "duration": 0,
    "start_time": "2022-06-16T16:04:11.883Z"
   },
   {
    "duration": 1906,
    "start_time": "2022-06-16T16:49:46.928Z"
   },
   {
    "duration": 398,
    "start_time": "2022-06-16T16:49:48.841Z"
   },
   {
    "duration": 570,
    "start_time": "2022-06-16T16:49:49.242Z"
   },
   {
    "duration": 713,
    "start_time": "2022-06-16T16:49:49.815Z"
   },
   {
    "duration": 316,
    "start_time": "2022-06-16T16:49:50.530Z"
   },
   {
    "duration": 19,
    "start_time": "2022-06-16T16:49:50.848Z"
   },
   {
    "duration": 14,
    "start_time": "2022-06-16T16:49:50.878Z"
   },
   {
    "duration": 495,
    "start_time": "2022-06-16T16:49:50.894Z"
   },
   {
    "duration": 15,
    "start_time": "2022-06-16T16:49:51.391Z"
   },
   {
    "duration": 280,
    "start_time": "2022-06-16T16:49:51.410Z"
   },
   {
    "duration": 1346,
    "start_time": "2022-06-16T16:49:51.693Z"
   },
   {
    "duration": 849,
    "start_time": "2022-06-16T16:49:53.042Z"
   },
   {
    "duration": 762,
    "start_time": "2022-06-16T16:49:53.893Z"
   },
   {
    "duration": 634,
    "start_time": "2022-06-16T16:49:54.658Z"
   },
   {
    "duration": 663,
    "start_time": "2022-06-16T16:49:55.295Z"
   },
   {
    "duration": 210,
    "start_time": "2022-06-16T16:49:55.961Z"
   },
   {
    "duration": 23,
    "start_time": "2022-06-16T16:49:56.174Z"
   },
   {
    "duration": 46,
    "start_time": "2022-06-16T16:49:56.199Z"
   },
   {
    "duration": 25,
    "start_time": "2022-06-16T16:49:56.250Z"
   },
   {
    "duration": 15,
    "start_time": "2022-06-16T16:49:56.278Z"
   },
   {
    "duration": 15,
    "start_time": "2022-06-16T16:49:56.296Z"
   },
   {
    "duration": 24,
    "start_time": "2022-06-16T16:49:56.314Z"
   },
   {
    "duration": 29,
    "start_time": "2022-06-16T16:49:56.340Z"
   },
   {
    "duration": 17,
    "start_time": "2022-06-16T16:49:56.372Z"
   },
   {
    "duration": 11,
    "start_time": "2022-06-16T16:49:56.392Z"
   },
   {
    "duration": 24,
    "start_time": "2022-06-16T16:49:56.406Z"
   },
   {
    "duration": 8,
    "start_time": "2022-06-16T16:49:56.433Z"
   },
   {
    "duration": 7,
    "start_time": "2022-06-16T16:49:56.445Z"
   },
   {
    "duration": 9,
    "start_time": "2022-06-16T16:49:56.454Z"
   },
   {
    "duration": 19,
    "start_time": "2022-06-16T16:49:56.466Z"
   },
   {
    "duration": 6,
    "start_time": "2022-06-16T16:49:56.487Z"
   },
   {
    "duration": 10,
    "start_time": "2022-06-16T16:49:56.495Z"
   },
   {
    "duration": 2851,
    "start_time": "2022-06-16T16:49:56.507Z"
   },
   {
    "duration": 4011,
    "start_time": "2022-06-16T16:49:59.361Z"
   },
   {
    "duration": 97196,
    "start_time": "2022-06-16T16:50:03.375Z"
   },
   {
    "duration": 93049,
    "start_time": "2022-06-16T16:51:40.581Z"
   },
   {
    "duration": 1539,
    "start_time": "2022-06-16T16:53:13.632Z"
   },
   {
    "duration": 1005,
    "start_time": "2022-06-16T16:53:15.174Z"
   },
   {
    "duration": 194363,
    "start_time": "2022-06-16T16:53:16.258Z"
   },
   {
    "duration": 11556,
    "start_time": "2022-06-16T16:56:30.625Z"
   },
   {
    "duration": 148837,
    "start_time": "2022-06-16T16:56:42.183Z"
   },
   {
    "duration": 82885,
    "start_time": "2022-06-16T16:59:11.022Z"
   },
   {
    "duration": 1581,
    "start_time": "2022-06-16T17:00:33.909Z"
   },
   {
    "duration": 4285,
    "start_time": "2022-06-16T17:00:35.492Z"
   },
   {
    "duration": 106,
    "start_time": "2022-06-16T17:00:39.779Z"
   },
   {
    "duration": 74,
    "start_time": "2022-06-16T17:00:39.888Z"
   },
   {
    "duration": 566923,
    "start_time": "2022-06-16T17:00:39.964Z"
   },
   {
    "duration": 423863,
    "start_time": "2022-06-16T17:10:06.889Z"
   },
   {
    "duration": 161,
    "start_time": "2022-06-16T17:17:10.755Z"
   },
   {
    "duration": 0,
    "start_time": "2022-06-16T17:17:10.918Z"
   },
   {
    "duration": 1456,
    "start_time": "2022-06-16T21:21:19.630Z"
   },
   {
    "duration": 233,
    "start_time": "2022-06-16T21:21:21.088Z"
   },
   {
    "duration": 604,
    "start_time": "2022-06-16T21:21:21.322Z"
   },
   {
    "duration": 696,
    "start_time": "2022-06-16T21:21:21.929Z"
   },
   {
    "duration": 303,
    "start_time": "2022-06-16T21:21:22.628Z"
   },
   {
    "duration": 11,
    "start_time": "2022-06-16T21:21:22.933Z"
   },
   {
    "duration": 17,
    "start_time": "2022-06-16T21:21:22.946Z"
   },
   {
    "duration": 429,
    "start_time": "2022-06-16T21:21:22.965Z"
   },
   {
    "duration": 11,
    "start_time": "2022-06-16T21:21:23.396Z"
   },
   {
    "duration": 258,
    "start_time": "2022-06-16T21:21:23.409Z"
   },
   {
    "duration": 1109,
    "start_time": "2022-06-16T21:21:23.669Z"
   },
   {
    "duration": 669,
    "start_time": "2022-06-16T21:21:24.780Z"
   },
   {
    "duration": 783,
    "start_time": "2022-06-16T21:21:25.451Z"
   },
   {
    "duration": 683,
    "start_time": "2022-06-16T21:21:26.238Z"
   },
   {
    "duration": 588,
    "start_time": "2022-06-16T21:21:26.923Z"
   },
   {
    "duration": 176,
    "start_time": "2022-06-16T21:21:27.512Z"
   },
   {
    "duration": 18,
    "start_time": "2022-06-16T21:21:27.690Z"
   },
   {
    "duration": 7,
    "start_time": "2022-06-16T21:21:27.710Z"
   },
   {
    "duration": 14,
    "start_time": "2022-06-16T21:21:27.719Z"
   },
   {
    "duration": 3,
    "start_time": "2022-06-16T21:21:27.759Z"
   },
   {
    "duration": 11,
    "start_time": "2022-06-16T21:21:27.763Z"
   },
   {
    "duration": 15,
    "start_time": "2022-06-16T21:21:27.776Z"
   },
   {
    "duration": 16,
    "start_time": "2022-06-16T21:21:27.793Z"
   },
   {
    "duration": 10,
    "start_time": "2022-06-16T21:21:27.810Z"
   },
   {
    "duration": 13,
    "start_time": "2022-06-16T21:21:27.822Z"
   },
   {
    "duration": 6,
    "start_time": "2022-06-16T21:21:27.836Z"
   },
   {
    "duration": 8,
    "start_time": "2022-06-16T21:21:27.844Z"
   },
   {
    "duration": 8,
    "start_time": "2022-06-16T21:21:27.854Z"
   },
   {
    "duration": 6,
    "start_time": "2022-06-16T21:21:27.863Z"
   },
   {
    "duration": 7,
    "start_time": "2022-06-16T21:21:27.871Z"
   },
   {
    "duration": 5,
    "start_time": "2022-06-16T21:21:27.879Z"
   },
   {
    "duration": 8,
    "start_time": "2022-06-16T21:21:27.886Z"
   },
   {
    "duration": 3071,
    "start_time": "2022-06-16T21:21:27.896Z"
   },
   {
    "duration": 3186,
    "start_time": "2022-06-16T21:21:30.975Z"
   },
   {
    "duration": 91596,
    "start_time": "2022-06-16T21:21:34.164Z"
   },
   {
    "duration": 85909,
    "start_time": "2022-06-16T21:23:05.763Z"
   },
   {
    "duration": 1529,
    "start_time": "2022-06-16T21:24:31.674Z"
   },
   {
    "duration": 866,
    "start_time": "2022-06-16T21:24:33.205Z"
   },
   {
    "duration": 166501,
    "start_time": "2022-06-16T21:24:34.073Z"
   },
   {
    "duration": 10095,
    "start_time": "2022-06-16T21:27:20.576Z"
   },
   {
    "duration": 137335,
    "start_time": "2022-06-16T21:27:30.675Z"
   },
   {
    "duration": 73541,
    "start_time": "2022-06-16T21:29:48.012Z"
   },
   {
    "duration": 1614,
    "start_time": "2022-06-16T21:31:01.558Z"
   },
   {
    "duration": 4385,
    "start_time": "2022-06-16T21:31:03.175Z"
   },
   {
    "duration": 106,
    "start_time": "2022-06-16T21:31:07.563Z"
   },
   {
    "duration": 105,
    "start_time": "2022-06-16T21:31:07.672Z"
   },
   {
    "duration": 545902,
    "start_time": "2022-06-16T21:31:07.860Z"
   },
   {
    "duration": 425750,
    "start_time": "2022-06-16T21:40:13.764Z"
   },
   {
    "duration": 157,
    "start_time": "2022-06-16T21:47:19.515Z"
   },
   {
    "duration": 196,
    "start_time": "2022-06-16T21:47:19.759Z"
   },
   {
    "duration": 0,
    "start_time": "2022-06-16T21:47:19.958Z"
   },
   {
    "duration": 1395,
    "start_time": "2022-06-16T23:18:31.655Z"
   },
   {
    "duration": 234,
    "start_time": "2022-06-16T23:18:33.051Z"
   },
   {
    "duration": 584,
    "start_time": "2022-06-16T23:18:33.287Z"
   },
   {
    "duration": 641,
    "start_time": "2022-06-16T23:18:33.873Z"
   },
   {
    "duration": 285,
    "start_time": "2022-06-16T23:18:34.517Z"
   },
   {
    "duration": 11,
    "start_time": "2022-06-16T23:18:34.804Z"
   },
   {
    "duration": 15,
    "start_time": "2022-06-16T23:18:34.817Z"
   },
   {
    "duration": 340,
    "start_time": "2022-06-16T23:18:34.836Z"
   },
   {
    "duration": 10,
    "start_time": "2022-06-16T23:18:35.178Z"
   },
   {
    "duration": 254,
    "start_time": "2022-06-16T23:18:35.190Z"
   },
   {
    "duration": 1081,
    "start_time": "2022-06-16T23:18:35.446Z"
   },
   {
    "duration": 610,
    "start_time": "2022-06-16T23:18:36.529Z"
   },
   {
    "duration": 719,
    "start_time": "2022-06-16T23:18:37.141Z"
   },
   {
    "duration": 580,
    "start_time": "2022-06-16T23:18:37.863Z"
   },
   {
    "duration": 590,
    "start_time": "2022-06-16T23:18:38.445Z"
   },
   {
    "duration": 173,
    "start_time": "2022-06-16T23:18:39.037Z"
   },
   {
    "duration": 16,
    "start_time": "2022-06-16T23:18:39.212Z"
   },
   {
    "duration": 28,
    "start_time": "2022-06-16T23:18:39.230Z"
   },
   {
    "duration": 12,
    "start_time": "2022-06-16T23:18:39.260Z"
   },
   {
    "duration": 7,
    "start_time": "2022-06-16T23:18:39.273Z"
   },
   {
    "duration": 10,
    "start_time": "2022-06-16T23:18:39.281Z"
   },
   {
    "duration": 8,
    "start_time": "2022-06-16T23:18:39.293Z"
   },
   {
    "duration": 7,
    "start_time": "2022-06-16T23:18:39.303Z"
   },
   {
    "duration": 10,
    "start_time": "2022-06-16T23:18:39.312Z"
   },
   {
    "duration": 4,
    "start_time": "2022-06-16T23:18:39.323Z"
   },
   {
    "duration": 3,
    "start_time": "2022-06-16T23:18:39.359Z"
   },
   {
    "duration": 7,
    "start_time": "2022-06-16T23:18:39.365Z"
   },
   {
    "duration": 7,
    "start_time": "2022-06-16T23:18:39.374Z"
   },
   {
    "duration": 5,
    "start_time": "2022-06-16T23:18:39.383Z"
   },
   {
    "duration": 6,
    "start_time": "2022-06-16T23:18:39.390Z"
   },
   {
    "duration": 7,
    "start_time": "2022-06-16T23:18:39.398Z"
   },
   {
    "duration": 9,
    "start_time": "2022-06-16T23:18:39.407Z"
   },
   {
    "duration": 3149,
    "start_time": "2022-06-16T23:18:39.418Z"
   },
   {
    "duration": 4294,
    "start_time": "2022-06-16T23:18:42.569Z"
   },
   {
    "duration": 85700,
    "start_time": "2022-06-16T23:18:46.868Z"
   },
   {
    "duration": 161063,
    "start_time": "2022-06-16T23:20:12.574Z"
   },
   {
    "duration": 9726,
    "start_time": "2022-06-16T23:22:53.639Z"
   },
   {
    "duration": 133147,
    "start_time": "2022-06-16T23:23:03.367Z"
   },
   {
    "duration": 70545,
    "start_time": "2022-06-16T23:25:16.516Z"
   },
   {
    "duration": 1436,
    "start_time": "2022-06-16T23:26:27.063Z"
   },
   {
    "duration": 4013,
    "start_time": "2022-06-16T23:26:28.503Z"
   },
   {
    "duration": 95,
    "start_time": "2022-06-16T23:26:32.518Z"
   },
   {
    "duration": 145,
    "start_time": "2022-06-16T23:26:32.615Z"
   },
   {
    "duration": 527786,
    "start_time": "2022-06-16T23:26:32.762Z"
   },
   {
    "duration": 432895,
    "start_time": "2022-06-16T23:35:20.549Z"
   },
   {
    "duration": 216,
    "start_time": "2022-06-16T23:42:33.445Z"
   },
   {
    "duration": 399,
    "start_time": "2022-06-16T23:42:33.664Z"
   },
   {
    "duration": 0,
    "start_time": "2022-06-16T23:42:34.065Z"
   },
   {
    "duration": 1406,
    "start_time": "2022-06-16T23:49:39.251Z"
   },
   {
    "duration": 243,
    "start_time": "2022-06-16T23:49:40.659Z"
   },
   {
    "duration": 523,
    "start_time": "2022-06-16T23:49:40.904Z"
   },
   {
    "duration": 672,
    "start_time": "2022-06-16T23:49:41.429Z"
   },
   {
    "duration": 281,
    "start_time": "2022-06-16T23:49:42.104Z"
   },
   {
    "duration": 9,
    "start_time": "2022-06-16T23:49:42.387Z"
   },
   {
    "duration": 7,
    "start_time": "2022-06-16T23:49:42.398Z"
   },
   {
    "duration": 482,
    "start_time": "2022-06-16T23:49:42.407Z"
   },
   {
    "duration": 10,
    "start_time": "2022-06-16T23:49:42.890Z"
   },
   {
    "duration": 270,
    "start_time": "2022-06-16T23:49:42.903Z"
   },
   {
    "duration": 1074,
    "start_time": "2022-06-16T23:49:43.175Z"
   },
   {
    "duration": 595,
    "start_time": "2022-06-16T23:49:44.250Z"
   },
   {
    "duration": 724,
    "start_time": "2022-06-16T23:49:44.847Z"
   },
   {
    "duration": 570,
    "start_time": "2022-06-16T23:49:45.574Z"
   },
   {
    "duration": 582,
    "start_time": "2022-06-16T23:49:46.146Z"
   },
   {
    "duration": 168,
    "start_time": "2022-06-16T23:49:46.731Z"
   },
   {
    "duration": 16,
    "start_time": "2022-06-16T23:49:46.900Z"
   },
   {
    "duration": 9,
    "start_time": "2022-06-16T23:49:46.918Z"
   },
   {
    "duration": 32,
    "start_time": "2022-06-16T23:49:46.928Z"
   },
   {
    "duration": 7,
    "start_time": "2022-06-16T23:49:46.962Z"
   },
   {
    "duration": 9,
    "start_time": "2022-06-16T23:49:46.970Z"
   },
   {
    "duration": 6,
    "start_time": "2022-06-16T23:49:46.981Z"
   },
   {
    "duration": 9,
    "start_time": "2022-06-16T23:49:46.989Z"
   },
   {
    "duration": 7,
    "start_time": "2022-06-16T23:49:47.000Z"
   },
   {
    "duration": 5,
    "start_time": "2022-06-16T23:49:47.009Z"
   },
   {
    "duration": 5,
    "start_time": "2022-06-16T23:49:47.016Z"
   },
   {
    "duration": 36,
    "start_time": "2022-06-16T23:49:47.023Z"
   },
   {
    "duration": 6,
    "start_time": "2022-06-16T23:49:47.061Z"
   },
   {
    "duration": 6,
    "start_time": "2022-06-16T23:49:47.069Z"
   },
   {
    "duration": 5,
    "start_time": "2022-06-16T23:49:47.077Z"
   },
   {
    "duration": 5,
    "start_time": "2022-06-16T23:49:47.084Z"
   },
   {
    "duration": 8,
    "start_time": "2022-06-16T23:49:47.091Z"
   },
   {
    "duration": 2961,
    "start_time": "2022-06-16T23:49:47.100Z"
   },
   {
    "duration": 3297,
    "start_time": "2022-06-16T23:49:50.063Z"
   },
   {
    "duration": 85507,
    "start_time": "2022-06-16T23:49:53.362Z"
   },
   {
    "duration": 159751,
    "start_time": "2022-06-16T23:51:18.873Z"
   },
   {
    "duration": 9617,
    "start_time": "2022-06-16T23:53:58.626Z"
   },
   {
    "duration": 132327,
    "start_time": "2022-06-16T23:54:08.244Z"
   },
   {
    "duration": 19484,
    "start_time": "2022-06-16T23:56:20.573Z"
   },
   {
    "duration": 1423,
    "start_time": "2022-06-16T23:56:40.059Z"
   },
   {
    "duration": 4009,
    "start_time": "2022-06-16T23:56:41.487Z"
   },
   {
    "duration": 97,
    "start_time": "2022-06-16T23:56:45.498Z"
   },
   {
    "duration": 163,
    "start_time": "2022-06-16T23:56:45.596Z"
   },
   {
    "duration": 1397,
    "start_time": "2022-06-17T00:04:25.266Z"
   },
   {
    "duration": 240,
    "start_time": "2022-06-17T00:04:26.666Z"
   },
   {
    "duration": 515,
    "start_time": "2022-06-17T00:04:26.908Z"
   },
   {
    "duration": 639,
    "start_time": "2022-06-17T00:04:27.425Z"
   },
   {
    "duration": 271,
    "start_time": "2022-06-17T00:04:28.066Z"
   },
   {
    "duration": 10,
    "start_time": "2022-06-17T00:04:28.339Z"
   },
   {
    "duration": 7,
    "start_time": "2022-06-17T00:04:28.358Z"
   },
   {
    "duration": 313,
    "start_time": "2022-06-17T00:04:28.366Z"
   },
   {
    "duration": 10,
    "start_time": "2022-06-17T00:04:28.681Z"
   },
   {
    "duration": 268,
    "start_time": "2022-06-17T00:04:28.694Z"
   },
   {
    "duration": 1023,
    "start_time": "2022-06-17T00:04:28.964Z"
   },
   {
    "duration": 612,
    "start_time": "2022-06-17T00:04:29.989Z"
   },
   {
    "duration": 789,
    "start_time": "2022-06-17T00:04:30.604Z"
   },
   {
    "duration": 631,
    "start_time": "2022-06-17T00:04:31.395Z"
   },
   {
    "duration": 567,
    "start_time": "2022-06-17T00:04:32.028Z"
   },
   {
    "duration": 163,
    "start_time": "2022-06-17T00:04:32.598Z"
   },
   {
    "duration": 17,
    "start_time": "2022-06-17T00:04:32.763Z"
   },
   {
    "duration": 10,
    "start_time": "2022-06-17T00:04:32.781Z"
   },
   {
    "duration": 12,
    "start_time": "2022-06-17T00:04:32.793Z"
   },
   {
    "duration": 5,
    "start_time": "2022-06-17T00:04:32.807Z"
   },
   {
    "duration": 15,
    "start_time": "2022-06-17T00:04:32.814Z"
   },
   {
    "duration": 29,
    "start_time": "2022-06-17T00:04:32.835Z"
   },
   {
    "duration": 8,
    "start_time": "2022-06-17T00:04:32.866Z"
   },
   {
    "duration": 6,
    "start_time": "2022-06-17T00:04:32.876Z"
   },
   {
    "duration": 4,
    "start_time": "2022-06-17T00:04:32.883Z"
   },
   {
    "duration": 6,
    "start_time": "2022-06-17T00:04:32.889Z"
   },
   {
    "duration": 5,
    "start_time": "2022-06-17T00:04:32.897Z"
   },
   {
    "duration": 4,
    "start_time": "2022-06-17T00:04:32.905Z"
   },
   {
    "duration": 7,
    "start_time": "2022-06-17T00:04:32.910Z"
   },
   {
    "duration": 5,
    "start_time": "2022-06-17T00:04:32.919Z"
   },
   {
    "duration": 35,
    "start_time": "2022-06-17T00:04:32.925Z"
   },
   {
    "duration": 7,
    "start_time": "2022-06-17T00:04:32.962Z"
   },
   {
    "duration": 2594,
    "start_time": "2022-06-17T00:04:32.970Z"
   },
   {
    "duration": 3303,
    "start_time": "2022-06-17T00:04:35.566Z"
   },
   {
    "duration": 86286,
    "start_time": "2022-06-17T00:04:38.874Z"
   },
   {
    "duration": 39297,
    "start_time": "2022-06-17T00:06:05.162Z"
   },
   {
    "duration": 161130,
    "start_time": "2022-06-17T00:06:44.462Z"
   },
   {
    "duration": 9866,
    "start_time": "2022-06-17T00:09:25.594Z"
   },
   {
    "duration": 133819,
    "start_time": "2022-06-17T00:09:35.461Z"
   },
   {
    "duration": 19800,
    "start_time": "2022-06-17T00:11:49.282Z"
   },
   {
    "duration": 1448,
    "start_time": "2022-06-17T00:12:09.084Z"
   },
   {
    "duration": 4048,
    "start_time": "2022-06-17T00:12:10.534Z"
   },
   {
    "duration": 101,
    "start_time": "2022-06-17T00:12:14.584Z"
   },
   {
    "duration": 177,
    "start_time": "2022-06-17T00:12:14.687Z"
   },
   {
    "duration": 531708,
    "start_time": "2022-06-17T00:12:14.867Z"
   },
   {
    "duration": 439607,
    "start_time": "2022-06-17T00:21:06.577Z"
   },
   {
    "duration": 279,
    "start_time": "2022-06-17T00:28:26.186Z"
   },
   {
    "duration": 230,
    "start_time": "2022-06-17T00:28:26.468Z"
   },
   {
    "duration": 1434,
    "start_time": "2022-06-17T00:34:13.310Z"
   },
   {
    "duration": 237,
    "start_time": "2022-06-17T00:34:14.746Z"
   },
   {
    "duration": 546,
    "start_time": "2022-06-17T00:34:14.985Z"
   },
   {
    "duration": 636,
    "start_time": "2022-06-17T00:34:15.533Z"
   },
   {
    "duration": 290,
    "start_time": "2022-06-17T00:34:16.171Z"
   },
   {
    "duration": 12,
    "start_time": "2022-06-17T00:34:16.463Z"
   },
   {
    "duration": 9,
    "start_time": "2022-06-17T00:34:16.478Z"
   },
   {
    "duration": 398,
    "start_time": "2022-06-17T00:34:16.489Z"
   },
   {
    "duration": 10,
    "start_time": "2022-06-17T00:34:16.889Z"
   },
   {
    "duration": 244,
    "start_time": "2022-06-17T00:34:16.902Z"
   },
   {
    "duration": 1012,
    "start_time": "2022-06-17T00:34:17.148Z"
   },
   {
    "duration": 592,
    "start_time": "2022-06-17T00:34:18.161Z"
   },
   {
    "duration": 723,
    "start_time": "2022-06-17T00:34:18.755Z"
   },
   {
    "duration": 578,
    "start_time": "2022-06-17T00:34:19.480Z"
   },
   {
    "duration": 579,
    "start_time": "2022-06-17T00:34:20.061Z"
   },
   {
    "duration": 166,
    "start_time": "2022-06-17T00:34:20.641Z"
   },
   {
    "duration": 17,
    "start_time": "2022-06-17T00:34:20.809Z"
   },
   {
    "duration": 9,
    "start_time": "2022-06-17T00:34:20.828Z"
   },
   {
    "duration": 28,
    "start_time": "2022-06-17T00:34:20.839Z"
   },
   {
    "duration": 7,
    "start_time": "2022-06-17T00:34:20.868Z"
   },
   {
    "duration": 9,
    "start_time": "2022-06-17T00:34:20.877Z"
   },
   {
    "duration": 9,
    "start_time": "2022-06-17T00:34:20.888Z"
   },
   {
    "duration": 8,
    "start_time": "2022-06-17T00:34:20.898Z"
   },
   {
    "duration": 8,
    "start_time": "2022-06-17T00:34:20.907Z"
   },
   {
    "duration": 4,
    "start_time": "2022-06-17T00:34:20.917Z"
   },
   {
    "duration": 7,
    "start_time": "2022-06-17T00:34:20.923Z"
   },
   {
    "duration": 8,
    "start_time": "2022-06-17T00:34:20.932Z"
   },
   {
    "duration": 2,
    "start_time": "2022-06-17T00:34:20.961Z"
   },
   {
    "duration": 9,
    "start_time": "2022-06-17T00:34:20.965Z"
   },
   {
    "duration": 6,
    "start_time": "2022-06-17T00:34:20.975Z"
   },
   {
    "duration": 6,
    "start_time": "2022-06-17T00:34:20.983Z"
   },
   {
    "duration": 7,
    "start_time": "2022-06-17T00:34:20.990Z"
   },
   {
    "duration": 2665,
    "start_time": "2022-06-17T00:34:20.998Z"
   },
   {
    "duration": 3492,
    "start_time": "2022-06-17T00:34:23.669Z"
   },
   {
    "duration": 84902,
    "start_time": "2022-06-17T00:34:27.163Z"
   },
   {
    "duration": 1411,
    "start_time": "2022-06-17T00:36:12.747Z"
   },
   {
    "duration": 227,
    "start_time": "2022-06-17T00:36:14.160Z"
   },
   {
    "duration": 529,
    "start_time": "2022-06-17T00:36:14.389Z"
   },
   {
    "duration": 640,
    "start_time": "2022-06-17T00:36:14.920Z"
   },
   {
    "duration": 275,
    "start_time": "2022-06-17T00:36:15.562Z"
   },
   {
    "duration": 24,
    "start_time": "2022-06-17T00:36:15.839Z"
   },
   {
    "duration": 6,
    "start_time": "2022-06-17T00:36:15.865Z"
   },
   {
    "duration": 319,
    "start_time": "2022-06-17T00:36:15.873Z"
   },
   {
    "duration": 11,
    "start_time": "2022-06-17T00:36:16.193Z"
   },
   {
    "duration": 290,
    "start_time": "2022-06-17T00:36:16.206Z"
   },
   {
    "duration": 1051,
    "start_time": "2022-06-17T00:36:16.498Z"
   },
   {
    "duration": 609,
    "start_time": "2022-06-17T00:36:17.550Z"
   },
   {
    "duration": 735,
    "start_time": "2022-06-17T00:36:18.161Z"
   },
   {
    "duration": 612,
    "start_time": "2022-06-17T00:36:18.900Z"
   },
   {
    "duration": 602,
    "start_time": "2022-06-17T00:36:19.514Z"
   },
   {
    "duration": 170,
    "start_time": "2022-06-17T00:36:20.118Z"
   },
   {
    "duration": 17,
    "start_time": "2022-06-17T00:36:20.289Z"
   },
   {
    "duration": 7,
    "start_time": "2022-06-17T00:36:20.308Z"
   },
   {
    "duration": 12,
    "start_time": "2022-06-17T00:36:20.317Z"
   },
   {
    "duration": 4,
    "start_time": "2022-06-17T00:36:20.359Z"
   },
   {
    "duration": 9,
    "start_time": "2022-06-17T00:36:20.365Z"
   },
   {
    "duration": 10,
    "start_time": "2022-06-17T00:36:20.376Z"
   },
   {
    "duration": 8,
    "start_time": "2022-06-17T00:36:20.388Z"
   },
   {
    "duration": 6,
    "start_time": "2022-06-17T00:36:20.398Z"
   },
   {
    "duration": 4,
    "start_time": "2022-06-17T00:36:20.406Z"
   },
   {
    "duration": 6,
    "start_time": "2022-06-17T00:36:20.411Z"
   },
   {
    "duration": 4,
    "start_time": "2022-06-17T00:36:20.419Z"
   },
   {
    "duration": 2,
    "start_time": "2022-06-17T00:36:20.459Z"
   },
   {
    "duration": 5,
    "start_time": "2022-06-17T00:36:20.463Z"
   },
   {
    "duration": 6,
    "start_time": "2022-06-17T00:36:20.469Z"
   },
   {
    "duration": 5,
    "start_time": "2022-06-17T00:36:20.477Z"
   },
   {
    "duration": 7,
    "start_time": "2022-06-17T00:36:20.483Z"
   },
   {
    "duration": 2770,
    "start_time": "2022-06-17T00:36:20.492Z"
   },
   {
    "duration": 3497,
    "start_time": "2022-06-17T00:36:23.266Z"
   },
   {
    "duration": 84504,
    "start_time": "2022-06-17T00:36:26.765Z"
   },
   {
    "duration": 38304,
    "start_time": "2022-06-17T00:37:51.362Z"
   },
   {
    "duration": 134431,
    "start_time": "2022-06-17T00:38:29.668Z"
   },
   {
    "duration": 19541,
    "start_time": "2022-06-17T00:40:44.101Z"
   },
   {
    "duration": 1458,
    "start_time": "2022-06-17T00:41:03.644Z"
   },
   {
    "duration": 3934,
    "start_time": "2022-06-17T00:41:05.104Z"
   },
   {
    "duration": 92,
    "start_time": "2022-06-17T00:41:09.041Z"
   },
   {
    "duration": 132,
    "start_time": "2022-06-17T00:41:09.135Z"
   },
   {
    "duration": 110,
    "start_time": "2022-06-17T00:41:09.269Z"
   },
   {
    "duration": 521233,
    "start_time": "2022-06-17T00:41:09.381Z"
   },
   {
    "duration": 431348,
    "start_time": "2022-06-17T00:49:50.616Z"
   },
   {
    "duration": 18449,
    "start_time": "2022-06-17T00:57:01.967Z"
   },
   {
    "duration": 247,
    "start_time": "2022-06-17T00:57:20.418Z"
   },
   {
    "duration": 214,
    "start_time": "2022-06-17T00:57:20.667Z"
   },
   {
    "duration": 1382,
    "start_time": "2022-06-17T01:12:05.956Z"
   },
   {
    "duration": 226,
    "start_time": "2022-06-17T01:12:07.340Z"
   },
   {
    "duration": 518,
    "start_time": "2022-06-17T01:12:07.568Z"
   },
   {
    "duration": 651,
    "start_time": "2022-06-17T01:12:08.088Z"
   },
   {
    "duration": 288,
    "start_time": "2022-06-17T01:12:08.741Z"
   },
   {
    "duration": 11,
    "start_time": "2022-06-17T01:12:09.031Z"
   },
   {
    "duration": 21,
    "start_time": "2022-06-17T01:12:09.044Z"
   },
   {
    "duration": 316,
    "start_time": "2022-06-17T01:12:09.067Z"
   },
   {
    "duration": 10,
    "start_time": "2022-06-17T01:12:09.384Z"
   },
   {
    "duration": 263,
    "start_time": "2022-06-17T01:12:09.397Z"
   },
   {
    "duration": 1002,
    "start_time": "2022-06-17T01:12:09.662Z"
   },
   {
    "duration": 599,
    "start_time": "2022-06-17T01:12:10.666Z"
   },
   {
    "duration": 739,
    "start_time": "2022-06-17T01:12:11.266Z"
   },
   {
    "duration": 589,
    "start_time": "2022-06-17T01:12:12.007Z"
   },
   {
    "duration": 586,
    "start_time": "2022-06-17T01:12:12.598Z"
   },
   {
    "duration": 167,
    "start_time": "2022-06-17T01:12:13.186Z"
   },
   {
    "duration": 17,
    "start_time": "2022-06-17T01:12:13.358Z"
   },
   {
    "duration": 9,
    "start_time": "2022-06-17T01:12:13.376Z"
   },
   {
    "duration": 9,
    "start_time": "2022-06-17T01:12:13.386Z"
   },
   {
    "duration": 6,
    "start_time": "2022-06-17T01:12:13.397Z"
   },
   {
    "duration": 11,
    "start_time": "2022-06-17T01:12:13.405Z"
   },
   {
    "duration": 13,
    "start_time": "2022-06-17T01:12:13.418Z"
   },
   {
    "duration": 26,
    "start_time": "2022-06-17T01:12:13.433Z"
   },
   {
    "duration": 10,
    "start_time": "2022-06-17T01:12:13.460Z"
   },
   {
    "duration": 8,
    "start_time": "2022-06-17T01:12:13.471Z"
   },
   {
    "duration": 6,
    "start_time": "2022-06-17T01:12:13.480Z"
   },
   {
    "duration": 6,
    "start_time": "2022-06-17T01:12:13.487Z"
   },
   {
    "duration": 3,
    "start_time": "2022-06-17T01:12:13.496Z"
   },
   {
    "duration": 5,
    "start_time": "2022-06-17T01:12:13.501Z"
   },
   {
    "duration": 4,
    "start_time": "2022-06-17T01:12:13.508Z"
   },
   {
    "duration": 6,
    "start_time": "2022-06-17T01:12:13.514Z"
   },
   {
    "duration": 5,
    "start_time": "2022-06-17T01:12:13.522Z"
   },
   {
    "duration": 3132,
    "start_time": "2022-06-17T01:12:13.529Z"
   },
   {
    "duration": 3096,
    "start_time": "2022-06-17T01:12:16.664Z"
   },
   {
    "duration": 84606,
    "start_time": "2022-06-17T01:12:19.762Z"
   },
   {
    "duration": 38408,
    "start_time": "2022-06-17T01:13:44.459Z"
   },
   {
    "duration": 132977,
    "start_time": "2022-06-17T01:14:22.869Z"
   },
   {
    "duration": 19350,
    "start_time": "2022-06-17T01:16:35.848Z"
   },
   {
    "duration": 1415,
    "start_time": "2022-06-17T01:16:55.200Z"
   },
   {
    "duration": 3890,
    "start_time": "2022-06-17T01:16:56.617Z"
   },
   {
    "duration": 101,
    "start_time": "2022-06-17T01:17:00.509Z"
   },
   {
    "duration": 149,
    "start_time": "2022-06-17T01:17:00.612Z"
   },
   {
    "duration": 195,
    "start_time": "2022-06-17T01:17:00.763Z"
   },
   {
    "duration": 400,
    "start_time": "2022-06-17T01:17:00.961Z"
   },
   {
    "duration": 0,
    "start_time": "2022-06-17T01:17:01.363Z"
   },
   {
    "duration": 1369,
    "start_time": "2022-06-17T01:31:01.875Z"
   },
   {
    "duration": 227,
    "start_time": "2022-06-17T01:31:03.246Z"
   },
   {
    "duration": 523,
    "start_time": "2022-06-17T01:31:03.475Z"
   },
   {
    "duration": 635,
    "start_time": "2022-06-17T01:31:04.001Z"
   },
   {
    "duration": 275,
    "start_time": "2022-06-17T01:31:04.637Z"
   },
   {
    "duration": 9,
    "start_time": "2022-06-17T01:31:04.914Z"
   },
   {
    "duration": 6,
    "start_time": "2022-06-17T01:31:04.925Z"
   },
   {
    "duration": 353,
    "start_time": "2022-06-17T01:31:04.933Z"
   },
   {
    "duration": 12,
    "start_time": "2022-06-17T01:31:05.288Z"
   },
   {
    "duration": 291,
    "start_time": "2022-06-17T01:31:05.304Z"
   },
   {
    "duration": 1037,
    "start_time": "2022-06-17T01:31:05.597Z"
   },
   {
    "duration": 597,
    "start_time": "2022-06-17T01:31:06.635Z"
   },
   {
    "duration": 704,
    "start_time": "2022-06-17T01:31:07.234Z"
   },
   {
    "duration": 590,
    "start_time": "2022-06-17T01:31:07.940Z"
   },
   {
    "duration": 604,
    "start_time": "2022-06-17T01:31:08.532Z"
   },
   {
    "duration": 158,
    "start_time": "2022-06-17T01:31:09.137Z"
   },
   {
    "duration": 15,
    "start_time": "2022-06-17T01:31:09.297Z"
   },
   {
    "duration": 7,
    "start_time": "2022-06-17T01:31:09.314Z"
   },
   {
    "duration": 37,
    "start_time": "2022-06-17T01:31:09.323Z"
   },
   {
    "duration": 39,
    "start_time": "2022-06-17T01:31:09.362Z"
   },
   {
    "duration": 42,
    "start_time": "2022-06-17T01:31:09.403Z"
   },
   {
    "duration": 10,
    "start_time": "2022-06-17T01:31:09.447Z"
   },
   {
    "duration": 18,
    "start_time": "2022-06-17T01:31:09.458Z"
   },
   {
    "duration": 8,
    "start_time": "2022-06-17T01:31:09.478Z"
   },
   {
    "duration": 18,
    "start_time": "2022-06-17T01:31:09.488Z"
   },
   {
    "duration": 13,
    "start_time": "2022-06-17T01:31:09.508Z"
   },
   {
    "duration": 15,
    "start_time": "2022-06-17T01:31:09.523Z"
   },
   {
    "duration": 17,
    "start_time": "2022-06-17T01:31:09.542Z"
   },
   {
    "duration": 5,
    "start_time": "2022-06-17T01:31:09.561Z"
   },
   {
    "duration": 5,
    "start_time": "2022-06-17T01:31:09.568Z"
   },
   {
    "duration": 7,
    "start_time": "2022-06-17T01:31:09.575Z"
   },
   {
    "duration": 10,
    "start_time": "2022-06-17T01:31:09.583Z"
   },
   {
    "duration": 2667,
    "start_time": "2022-06-17T01:31:09.595Z"
   },
   {
    "duration": 2995,
    "start_time": "2022-06-17T01:31:12.265Z"
   },
   {
    "duration": 85108,
    "start_time": "2022-06-17T01:31:15.266Z"
   },
   {
    "duration": 39600,
    "start_time": "2022-06-17T01:32:40.460Z"
   },
   {
    "duration": 132128,
    "start_time": "2022-06-17T01:33:20.062Z"
   },
   {
    "duration": 19465,
    "start_time": "2022-06-17T01:35:32.191Z"
   },
   {
    "duration": 1436,
    "start_time": "2022-06-17T01:35:51.658Z"
   },
   {
    "duration": 3926,
    "start_time": "2022-06-17T01:35:53.096Z"
   },
   {
    "duration": 97,
    "start_time": "2022-06-17T01:35:57.024Z"
   },
   {
    "duration": 140,
    "start_time": "2022-06-17T01:35:57.123Z"
   },
   {
    "duration": 116,
    "start_time": "2022-06-17T01:35:57.266Z"
   },
   {
    "duration": 210,
    "start_time": "2022-06-17T01:35:57.384Z"
   },
   {
    "duration": 463,
    "start_time": "2022-06-17T01:35:57.597Z"
   },
   {
    "duration": 1399,
    "start_time": "2022-06-17T01:39:37.427Z"
   },
   {
    "duration": 227,
    "start_time": "2022-06-17T01:39:38.829Z"
   },
   {
    "duration": 507,
    "start_time": "2022-06-17T01:39:39.058Z"
   },
   {
    "duration": 644,
    "start_time": "2022-06-17T01:39:39.566Z"
   },
   {
    "duration": 283,
    "start_time": "2022-06-17T01:39:40.213Z"
   },
   {
    "duration": 10,
    "start_time": "2022-06-17T01:39:40.499Z"
   },
   {
    "duration": 8,
    "start_time": "2022-06-17T01:39:40.511Z"
   },
   {
    "duration": 366,
    "start_time": "2022-06-17T01:39:40.520Z"
   },
   {
    "duration": 10,
    "start_time": "2022-06-17T01:39:40.888Z"
   },
   {
    "duration": 250,
    "start_time": "2022-06-17T01:39:40.899Z"
   },
   {
    "duration": 1032,
    "start_time": "2022-06-17T01:39:41.151Z"
   },
   {
    "duration": 593,
    "start_time": "2022-06-17T01:39:42.185Z"
   },
   {
    "duration": 728,
    "start_time": "2022-06-17T01:39:42.780Z"
   },
   {
    "duration": 584,
    "start_time": "2022-06-17T01:39:43.511Z"
   },
   {
    "duration": 552,
    "start_time": "2022-06-17T01:39:44.097Z"
   },
   {
    "duration": 159,
    "start_time": "2022-06-17T01:39:44.658Z"
   },
   {
    "duration": 19,
    "start_time": "2022-06-17T01:39:44.819Z"
   },
   {
    "duration": 28,
    "start_time": "2022-06-17T01:39:44.839Z"
   },
   {
    "duration": 13,
    "start_time": "2022-06-17T01:39:44.868Z"
   },
   {
    "duration": 12,
    "start_time": "2022-06-17T01:39:44.883Z"
   },
   {
    "duration": 13,
    "start_time": "2022-06-17T01:39:44.896Z"
   },
   {
    "duration": 9,
    "start_time": "2022-06-17T01:39:44.911Z"
   },
   {
    "duration": 12,
    "start_time": "2022-06-17T01:39:44.922Z"
   },
   {
    "duration": 18,
    "start_time": "2022-06-17T01:39:44.935Z"
   },
   {
    "duration": 22,
    "start_time": "2022-06-17T01:39:44.955Z"
   },
   {
    "duration": 7,
    "start_time": "2022-06-17T01:39:44.979Z"
   },
   {
    "duration": 6,
    "start_time": "2022-06-17T01:39:44.987Z"
   },
   {
    "duration": 7,
    "start_time": "2022-06-17T01:39:44.995Z"
   },
   {
    "duration": 25,
    "start_time": "2022-06-17T01:39:45.004Z"
   },
   {
    "duration": 18,
    "start_time": "2022-06-17T01:39:45.031Z"
   },
   {
    "duration": 12,
    "start_time": "2022-06-17T01:39:45.051Z"
   },
   {
    "duration": 13,
    "start_time": "2022-06-17T01:39:45.065Z"
   },
   {
    "duration": 2486,
    "start_time": "2022-06-17T01:39:45.080Z"
   },
   {
    "duration": 2988,
    "start_time": "2022-06-17T01:39:47.569Z"
   },
   {
    "duration": 87201,
    "start_time": "2022-06-17T01:39:50.560Z"
   },
   {
    "duration": 39098,
    "start_time": "2022-06-17T01:41:17.764Z"
   },
   {
    "duration": 132326,
    "start_time": "2022-06-17T01:41:56.864Z"
   },
   {
    "duration": 19761,
    "start_time": "2022-06-17T01:44:09.192Z"
   },
   {
    "duration": 1431,
    "start_time": "2022-06-17T01:44:28.955Z"
   },
   {
    "duration": 4016,
    "start_time": "2022-06-17T01:44:30.388Z"
   },
   {
    "duration": 96,
    "start_time": "2022-06-17T01:44:34.409Z"
   },
   {
    "duration": 155,
    "start_time": "2022-06-17T01:44:34.507Z"
   },
   {
    "duration": 102,
    "start_time": "2022-06-17T01:44:34.664Z"
   },
   {
    "duration": 291,
    "start_time": "2022-06-17T01:44:34.768Z"
   },
   {
    "duration": 410,
    "start_time": "2022-06-17T01:44:35.061Z"
   },
   {
    "duration": 1331,
    "start_time": "2022-06-17T01:46:37.018Z"
   },
   {
    "duration": 230,
    "start_time": "2022-06-17T01:46:38.351Z"
   },
   {
    "duration": 504,
    "start_time": "2022-06-17T01:46:38.583Z"
   },
   {
    "duration": 618,
    "start_time": "2022-06-17T01:46:39.088Z"
   },
   {
    "duration": 267,
    "start_time": "2022-06-17T01:46:39.708Z"
   },
   {
    "duration": 10,
    "start_time": "2022-06-17T01:46:39.976Z"
   },
   {
    "duration": 6,
    "start_time": "2022-06-17T01:46:39.988Z"
   },
   {
    "duration": 387,
    "start_time": "2022-06-17T01:46:39.995Z"
   },
   {
    "duration": 9,
    "start_time": "2022-06-17T01:46:40.384Z"
   },
   {
    "duration": 246,
    "start_time": "2022-06-17T01:46:40.396Z"
   },
   {
    "duration": 1008,
    "start_time": "2022-06-17T01:46:40.644Z"
   },
   {
    "duration": 620,
    "start_time": "2022-06-17T01:46:41.658Z"
   },
   {
    "duration": 729,
    "start_time": "2022-06-17T01:46:42.280Z"
   },
   {
    "duration": 573,
    "start_time": "2022-06-17T01:46:43.012Z"
   },
   {
    "duration": 583,
    "start_time": "2022-06-17T01:46:43.586Z"
   },
   {
    "duration": 160,
    "start_time": "2022-06-17T01:46:44.171Z"
   },
   {
    "duration": 17,
    "start_time": "2022-06-17T01:46:44.332Z"
   },
   {
    "duration": 9,
    "start_time": "2022-06-17T01:46:44.359Z"
   },
   {
    "duration": 13,
    "start_time": "2022-06-17T01:46:44.370Z"
   },
   {
    "duration": 9,
    "start_time": "2022-06-17T01:46:44.384Z"
   },
   {
    "duration": 11,
    "start_time": "2022-06-17T01:46:44.395Z"
   },
   {
    "duration": 10,
    "start_time": "2022-06-17T01:46:44.407Z"
   },
   {
    "duration": 9,
    "start_time": "2022-06-17T01:46:44.419Z"
   },
   {
    "duration": 6,
    "start_time": "2022-06-17T01:46:44.430Z"
   },
   {
    "duration": 22,
    "start_time": "2022-06-17T01:46:44.438Z"
   },
   {
    "duration": 7,
    "start_time": "2022-06-17T01:46:44.461Z"
   },
   {
    "duration": 6,
    "start_time": "2022-06-17T01:46:44.469Z"
   },
   {
    "duration": 8,
    "start_time": "2022-06-17T01:46:44.477Z"
   },
   {
    "duration": 7,
    "start_time": "2022-06-17T01:46:44.486Z"
   },
   {
    "duration": 4,
    "start_time": "2022-06-17T01:46:44.495Z"
   },
   {
    "duration": 6,
    "start_time": "2022-06-17T01:46:44.501Z"
   },
   {
    "duration": 7,
    "start_time": "2022-06-17T01:46:44.509Z"
   },
   {
    "duration": 2444,
    "start_time": "2022-06-17T01:46:44.518Z"
   },
   {
    "duration": 3198,
    "start_time": "2022-06-17T01:46:46.965Z"
   },
   {
    "duration": 84593,
    "start_time": "2022-06-17T01:46:50.166Z"
   },
   {
    "duration": 38806,
    "start_time": "2022-06-17T01:48:14.761Z"
   },
   {
    "duration": 131597,
    "start_time": "2022-06-17T01:48:53.571Z"
   },
   {
    "duration": 19493,
    "start_time": "2022-06-17T01:51:05.169Z"
   },
   {
    "duration": 1436,
    "start_time": "2022-06-17T01:51:24.664Z"
   },
   {
    "duration": 3960,
    "start_time": "2022-06-17T01:51:26.102Z"
   },
   {
    "duration": 99,
    "start_time": "2022-06-17T01:51:30.066Z"
   },
   {
    "duration": 192,
    "start_time": "2022-06-17T01:51:30.166Z"
   },
   {
    "duration": 201,
    "start_time": "2022-06-17T01:51:30.361Z"
   },
   {
    "duration": 200,
    "start_time": "2022-06-17T01:51:30.565Z"
   },
   {
    "duration": 200,
    "start_time": "2022-06-17T01:51:30.767Z"
   },
   {
    "duration": 11,
    "start_time": "2022-06-17T04:23:05.576Z"
   },
   {
    "duration": 46,
    "start_time": "2022-06-17T04:27:46.275Z"
   },
   {
    "duration": 1663,
    "start_time": "2022-06-17T04:36:38.836Z"
   },
   {
    "duration": 512,
    "start_time": "2022-06-17T04:36:40.502Z"
   },
   {
    "duration": 1034,
    "start_time": "2022-06-17T04:36:41.016Z"
   },
   {
    "duration": 1933,
    "start_time": "2022-06-17T04:36:42.053Z"
   },
   {
    "duration": 256,
    "start_time": "2022-06-17T04:36:43.988Z"
   },
   {
    "duration": 10,
    "start_time": "2022-06-17T04:36:44.246Z"
   },
   {
    "duration": 6,
    "start_time": "2022-06-17T04:36:44.258Z"
   },
   {
    "duration": 344,
    "start_time": "2022-06-17T04:36:44.266Z"
   },
   {
    "duration": 9,
    "start_time": "2022-06-17T04:36:44.612Z"
   },
   {
    "duration": 223,
    "start_time": "2022-06-17T04:36:44.623Z"
   },
   {
    "duration": 915,
    "start_time": "2022-06-17T04:36:44.847Z"
   },
   {
    "duration": 685,
    "start_time": "2022-06-17T04:36:45.763Z"
   },
   {
    "duration": 673,
    "start_time": "2022-06-17T04:36:46.449Z"
   },
   {
    "duration": 540,
    "start_time": "2022-06-17T04:36:47.124Z"
   },
   {
    "duration": 645,
    "start_time": "2022-06-17T04:36:47.666Z"
   },
   {
    "duration": 23,
    "start_time": "2022-06-17T04:36:48.312Z"
   },
   {
    "duration": 15,
    "start_time": "2022-06-17T04:36:48.337Z"
   },
   {
    "duration": 7,
    "start_time": "2022-06-17T04:36:48.354Z"
   },
   {
    "duration": 33,
    "start_time": "2022-06-17T04:36:48.362Z"
   },
   {
    "duration": 5,
    "start_time": "2022-06-17T04:36:48.396Z"
   },
   {
    "duration": 11,
    "start_time": "2022-06-17T04:36:48.402Z"
   },
   {
    "duration": 11,
    "start_time": "2022-06-17T04:36:48.415Z"
   },
   {
    "duration": 7,
    "start_time": "2022-06-17T04:36:48.427Z"
   },
   {
    "duration": 6,
    "start_time": "2022-06-17T04:36:48.436Z"
   },
   {
    "duration": 7,
    "start_time": "2022-06-17T04:36:48.443Z"
   },
   {
    "duration": 12,
    "start_time": "2022-06-17T04:36:48.452Z"
   },
   {
    "duration": 72,
    "start_time": "2022-06-17T04:36:53.776Z"
   },
   {
    "duration": 13,
    "start_time": "2022-06-17T04:38:19.384Z"
   },
   {
    "duration": 12,
    "start_time": "2022-06-17T04:39:18.164Z"
   },
   {
    "duration": 3,
    "start_time": "2022-06-17T04:42:58.544Z"
   },
   {
    "duration": 1448,
    "start_time": "2022-06-17T10:33:03.935Z"
   },
   {
    "duration": 276,
    "start_time": "2022-06-17T10:33:05.385Z"
   },
   {
    "duration": 1535,
    "start_time": "2022-06-17T10:33:05.663Z"
   },
   {
    "duration": 808,
    "start_time": "2022-06-17T10:33:07.200Z"
   },
   {
    "duration": 262,
    "start_time": "2022-06-17T10:33:08.011Z"
   },
   {
    "duration": 9,
    "start_time": "2022-06-17T10:33:08.277Z"
   },
   {
    "duration": 6,
    "start_time": "2022-06-17T10:33:08.288Z"
   },
   {
    "duration": 303,
    "start_time": "2022-06-17T10:33:08.295Z"
   },
   {
    "duration": 9,
    "start_time": "2022-06-17T10:33:08.599Z"
   },
   {
    "duration": 216,
    "start_time": "2022-06-17T10:33:08.609Z"
   },
   {
    "duration": 966,
    "start_time": "2022-06-17T10:33:08.826Z"
   },
   {
    "duration": 516,
    "start_time": "2022-06-17T10:33:09.793Z"
   },
   {
    "duration": 639,
    "start_time": "2022-06-17T10:33:10.311Z"
   },
   {
    "duration": 526,
    "start_time": "2022-06-17T10:33:10.953Z"
   },
   {
    "duration": 630,
    "start_time": "2022-06-17T10:33:11.480Z"
   },
   {
    "duration": 21,
    "start_time": "2022-06-17T10:33:12.111Z"
   },
   {
    "duration": 645,
    "start_time": "2022-06-17T10:33:12.133Z"
   },
   {
    "duration": 15,
    "start_time": "2022-06-17T10:33:12.780Z"
   },
   {
    "duration": 7,
    "start_time": "2022-06-17T10:33:12.797Z"
   },
   {
    "duration": 9,
    "start_time": "2022-06-17T10:33:12.805Z"
   },
   {
    "duration": 7,
    "start_time": "2022-06-17T10:33:12.815Z"
   },
   {
    "duration": 14,
    "start_time": "2022-06-17T10:33:12.824Z"
   },
   {
    "duration": 13,
    "start_time": "2022-06-17T10:33:12.840Z"
   },
   {
    "duration": 27,
    "start_time": "2022-06-17T10:33:12.854Z"
   },
   {
    "duration": 7,
    "start_time": "2022-06-17T10:33:12.882Z"
   },
   {
    "duration": 12,
    "start_time": "2022-06-17T10:33:12.891Z"
   },
   {
    "duration": 19,
    "start_time": "2022-06-17T10:33:12.905Z"
   },
   {
    "duration": 8,
    "start_time": "2022-06-17T10:33:12.925Z"
   },
   {
    "duration": 7,
    "start_time": "2022-06-17T10:33:12.934Z"
   },
   {
    "duration": 6,
    "start_time": "2022-06-17T10:33:12.942Z"
   },
   {
    "duration": 10,
    "start_time": "2022-06-17T10:33:12.949Z"
   },
   {
    "duration": 5,
    "start_time": "2022-06-17T10:33:12.960Z"
   },
   {
    "duration": 5,
    "start_time": "2022-06-17T10:33:12.967Z"
   },
   {
    "duration": 2412,
    "start_time": "2022-06-17T10:33:12.974Z"
   },
   {
    "duration": 3004,
    "start_time": "2022-06-17T10:33:15.477Z"
   },
   {
    "duration": 72803,
    "start_time": "2022-06-17T10:33:18.483Z"
   },
   {
    "duration": 113994,
    "start_time": "2022-06-17T10:34:31.288Z"
   },
   {
    "duration": 16628,
    "start_time": "2022-06-17T10:36:25.284Z"
   },
   {
    "duration": 1218,
    "start_time": "2022-06-17T10:36:41.914Z"
   },
   {
    "duration": 3358,
    "start_time": "2022-06-17T10:36:43.133Z"
   },
   {
    "duration": 74,
    "start_time": "2022-06-17T10:36:46.494Z"
   },
   {
    "duration": 24,
    "start_time": "2022-06-17T10:36:46.570Z"
   },
   {
    "duration": 202,
    "start_time": "2022-06-17T10:36:46.595Z"
   },
   {
    "duration": 465614,
    "start_time": "2022-06-17T10:36:46.799Z"
   },
   {
    "duration": 1240,
    "start_time": "2022-06-17T10:46:00.616Z"
   },
   {
    "duration": 255,
    "start_time": "2022-06-17T10:46:01.858Z"
   },
   {
    "duration": 453,
    "start_time": "2022-06-17T10:46:02.115Z"
   },
   {
    "duration": 601,
    "start_time": "2022-06-17T10:46:02.569Z"
   },
   {
    "duration": 256,
    "start_time": "2022-06-17T10:46:03.172Z"
   },
   {
    "duration": 10,
    "start_time": "2022-06-17T10:46:03.430Z"
   },
   {
    "duration": 6,
    "start_time": "2022-06-17T10:46:03.441Z"
   },
   {
    "duration": 529,
    "start_time": "2022-06-17T10:46:03.449Z"
   },
   {
    "duration": 10,
    "start_time": "2022-06-17T10:46:03.980Z"
   },
   {
    "duration": 226,
    "start_time": "2022-06-17T10:46:03.991Z"
   },
   {
    "duration": 1079,
    "start_time": "2022-06-17T10:46:04.218Z"
   },
   {
    "duration": 606,
    "start_time": "2022-06-17T10:46:05.300Z"
   },
   {
    "duration": 675,
    "start_time": "2022-06-17T10:46:05.908Z"
   },
   {
    "duration": 549,
    "start_time": "2022-06-17T10:46:06.591Z"
   },
   {
    "duration": 597,
    "start_time": "2022-06-17T10:46:07.141Z"
   },
   {
    "duration": 186,
    "start_time": "2022-06-17T10:46:07.740Z"
   },
   {
    "duration": 701,
    "start_time": "2022-06-17T10:46:07.928Z"
   },
   {
    "duration": 16,
    "start_time": "2022-06-17T10:46:08.630Z"
   },
   {
    "duration": 8,
    "start_time": "2022-06-17T10:46:08.648Z"
   },
   {
    "duration": 24,
    "start_time": "2022-06-17T10:46:08.657Z"
   },
   {
    "duration": 17,
    "start_time": "2022-06-17T10:46:08.682Z"
   },
   {
    "duration": 11,
    "start_time": "2022-06-17T10:46:08.700Z"
   },
   {
    "duration": 8,
    "start_time": "2022-06-17T10:46:08.712Z"
   },
   {
    "duration": 4,
    "start_time": "2022-06-17T10:46:08.722Z"
   },
   {
    "duration": 5,
    "start_time": "2022-06-17T10:46:08.728Z"
   },
   {
    "duration": 5,
    "start_time": "2022-06-17T10:46:08.734Z"
   },
   {
    "duration": 6,
    "start_time": "2022-06-17T10:46:08.740Z"
   },
   {
    "duration": 5,
    "start_time": "2022-06-17T10:46:08.747Z"
   },
   {
    "duration": 4,
    "start_time": "2022-06-17T10:46:08.753Z"
   },
   {
    "duration": 32,
    "start_time": "2022-06-17T10:46:08.759Z"
   },
   {
    "duration": 8,
    "start_time": "2022-06-17T10:46:08.793Z"
   },
   {
    "duration": 6,
    "start_time": "2022-06-17T10:46:08.802Z"
   },
   {
    "duration": 7,
    "start_time": "2022-06-17T10:46:08.809Z"
   },
   {
    "duration": 1201,
    "start_time": "2022-06-17T10:46:08.817Z"
   },
   {
    "duration": 0,
    "start_time": "2022-06-17T10:46:10.020Z"
   },
   {
    "duration": 0,
    "start_time": "2022-06-17T10:46:10.021Z"
   },
   {
    "duration": 0,
    "start_time": "2022-06-17T10:46:10.022Z"
   },
   {
    "duration": 0,
    "start_time": "2022-06-17T10:46:10.022Z"
   },
   {
    "duration": 0,
    "start_time": "2022-06-17T10:46:10.023Z"
   },
   {
    "duration": 0,
    "start_time": "2022-06-17T10:46:10.024Z"
   },
   {
    "duration": 0,
    "start_time": "2022-06-17T10:46:10.025Z"
   },
   {
    "duration": 0,
    "start_time": "2022-06-17T10:46:10.026Z"
   },
   {
    "duration": 0,
    "start_time": "2022-06-17T10:46:10.026Z"
   },
   {
    "duration": 0,
    "start_time": "2022-06-17T10:46:10.027Z"
   },
   {
    "duration": 0,
    "start_time": "2022-06-17T10:46:10.028Z"
   },
   {
    "duration": 0,
    "start_time": "2022-06-17T10:46:10.028Z"
   },
   {
    "duration": 0,
    "start_time": "2022-06-17T10:46:10.029Z"
   },
   {
    "duration": 1259,
    "start_time": "2022-06-17T10:51:06.225Z"
   },
   {
    "duration": 204,
    "start_time": "2022-06-17T10:51:07.486Z"
   },
   {
    "duration": 502,
    "start_time": "2022-06-17T10:51:07.694Z"
   },
   {
    "duration": 567,
    "start_time": "2022-06-17T10:51:08.198Z"
   },
   {
    "duration": 248,
    "start_time": "2022-06-17T10:51:08.766Z"
   },
   {
    "duration": 9,
    "start_time": "2022-06-17T10:51:09.016Z"
   },
   {
    "duration": 6,
    "start_time": "2022-06-17T10:51:09.027Z"
   },
   {
    "duration": 359,
    "start_time": "2022-06-17T10:51:09.034Z"
   },
   {
    "duration": 10,
    "start_time": "2022-06-17T10:51:09.394Z"
   },
   {
    "duration": 218,
    "start_time": "2022-06-17T10:51:09.406Z"
   },
   {
    "duration": 929,
    "start_time": "2022-06-17T10:51:09.626Z"
   },
   {
    "duration": 568,
    "start_time": "2022-06-17T10:51:10.557Z"
   },
   {
    "duration": 720,
    "start_time": "2022-06-17T10:51:11.126Z"
   },
   {
    "duration": 531,
    "start_time": "2022-06-17T10:51:11.847Z"
   },
   {
    "duration": 517,
    "start_time": "2022-06-17T10:51:12.380Z"
   },
   {
    "duration": 167,
    "start_time": "2022-06-17T10:51:12.899Z"
   },
   {
    "duration": 623,
    "start_time": "2022-06-17T10:51:13.068Z"
   },
   {
    "duration": 16,
    "start_time": "2022-06-17T10:51:13.693Z"
   },
   {
    "duration": 13,
    "start_time": "2022-06-17T10:51:13.710Z"
   },
   {
    "duration": 22,
    "start_time": "2022-06-17T10:51:13.724Z"
   },
   {
    "duration": 11,
    "start_time": "2022-06-17T10:51:13.748Z"
   },
   {
    "duration": 22,
    "start_time": "2022-06-17T10:51:13.761Z"
   },
   {
    "duration": 18,
    "start_time": "2022-06-17T10:51:13.785Z"
   },
   {
    "duration": 13,
    "start_time": "2022-06-17T10:51:13.804Z"
   },
   {
    "duration": 28,
    "start_time": "2022-06-17T10:51:13.818Z"
   },
   {
    "duration": 9,
    "start_time": "2022-06-17T10:51:13.848Z"
   },
   {
    "duration": 10,
    "start_time": "2022-06-17T10:51:13.859Z"
   },
   {
    "duration": 13,
    "start_time": "2022-06-17T10:51:13.873Z"
   },
   {
    "duration": 14,
    "start_time": "2022-06-17T10:51:13.888Z"
   },
   {
    "duration": 12,
    "start_time": "2022-06-17T10:51:13.904Z"
   },
   {
    "duration": 28,
    "start_time": "2022-06-17T10:51:13.917Z"
   },
   {
    "duration": 21,
    "start_time": "2022-06-17T10:51:13.947Z"
   },
   {
    "duration": 14,
    "start_time": "2022-06-17T10:51:13.970Z"
   },
   {
    "duration": 1569,
    "start_time": "2022-06-17T10:51:13.986Z"
   },
   {
    "duration": 0,
    "start_time": "2022-06-17T10:51:15.556Z"
   },
   {
    "duration": 0,
    "start_time": "2022-06-17T10:51:15.558Z"
   },
   {
    "duration": 0,
    "start_time": "2022-06-17T10:51:15.559Z"
   },
   {
    "duration": 0,
    "start_time": "2022-06-17T10:51:15.560Z"
   },
   {
    "duration": 0,
    "start_time": "2022-06-17T10:51:15.578Z"
   },
   {
    "duration": 0,
    "start_time": "2022-06-17T10:51:15.580Z"
   },
   {
    "duration": 1,
    "start_time": "2022-06-17T10:51:15.580Z"
   },
   {
    "duration": 0,
    "start_time": "2022-06-17T10:51:15.582Z"
   },
   {
    "duration": 0,
    "start_time": "2022-06-17T10:51:15.582Z"
   },
   {
    "duration": 0,
    "start_time": "2022-06-17T10:51:15.584Z"
   },
   {
    "duration": 0,
    "start_time": "2022-06-17T10:51:15.585Z"
   },
   {
    "duration": 0,
    "start_time": "2022-06-17T10:51:15.586Z"
   },
   {
    "duration": 0,
    "start_time": "2022-06-17T10:51:15.586Z"
   },
   {
    "duration": 1301,
    "start_time": "2022-06-17T10:53:36.082Z"
   },
   {
    "duration": 216,
    "start_time": "2022-06-17T10:53:37.385Z"
   },
   {
    "duration": 504,
    "start_time": "2022-06-17T10:53:37.603Z"
   },
   {
    "duration": 577,
    "start_time": "2022-06-17T10:53:38.108Z"
   },
   {
    "duration": 239,
    "start_time": "2022-06-17T10:53:38.688Z"
   },
   {
    "duration": 10,
    "start_time": "2022-06-17T10:53:38.928Z"
   },
   {
    "duration": 6,
    "start_time": "2022-06-17T10:53:38.939Z"
   },
   {
    "duration": 270,
    "start_time": "2022-06-17T10:53:38.947Z"
   },
   {
    "duration": 8,
    "start_time": "2022-06-17T10:53:39.219Z"
   },
   {
    "duration": 242,
    "start_time": "2022-06-17T10:53:39.228Z"
   },
   {
    "duration": 900,
    "start_time": "2022-06-17T10:53:39.471Z"
   },
   {
    "duration": 512,
    "start_time": "2022-06-17T10:53:40.373Z"
   },
   {
    "duration": 658,
    "start_time": "2022-06-17T10:53:40.886Z"
   },
   {
    "duration": 497,
    "start_time": "2022-06-17T10:53:41.547Z"
   },
   {
    "duration": 506,
    "start_time": "2022-06-17T10:53:42.045Z"
   },
   {
    "duration": 151,
    "start_time": "2022-06-17T10:53:42.553Z"
   },
   {
    "duration": 613,
    "start_time": "2022-06-17T10:53:42.706Z"
   },
   {
    "duration": 17,
    "start_time": "2022-06-17T10:53:43.321Z"
   },
   {
    "duration": 8,
    "start_time": "2022-06-17T10:53:43.340Z"
   },
   {
    "duration": 8,
    "start_time": "2022-06-17T10:53:43.350Z"
   },
   {
    "duration": 19,
    "start_time": "2022-06-17T10:53:43.359Z"
   },
   {
    "duration": 10,
    "start_time": "2022-06-17T10:53:43.380Z"
   },
   {
    "duration": 8,
    "start_time": "2022-06-17T10:53:43.392Z"
   },
   {
    "duration": 19,
    "start_time": "2022-06-17T10:53:43.402Z"
   },
   {
    "duration": 5,
    "start_time": "2022-06-17T10:53:43.422Z"
   },
   {
    "duration": 4,
    "start_time": "2022-06-17T10:53:43.429Z"
   },
   {
    "duration": 5,
    "start_time": "2022-06-17T10:53:43.435Z"
   },
   {
    "duration": 4,
    "start_time": "2022-06-17T10:53:43.442Z"
   },
   {
    "duration": 4,
    "start_time": "2022-06-17T10:53:43.447Z"
   },
   {
    "duration": 5,
    "start_time": "2022-06-17T10:53:43.452Z"
   },
   {
    "duration": 9,
    "start_time": "2022-06-17T10:53:43.458Z"
   },
   {
    "duration": 5,
    "start_time": "2022-06-17T10:53:43.469Z"
   },
   {
    "duration": 17,
    "start_time": "2022-06-17T10:53:43.477Z"
   },
   {
    "duration": 374292,
    "start_time": "2022-06-17T10:53:43.496Z"
   },
   {
    "duration": 2697,
    "start_time": "2022-06-17T10:59:57.790Z"
   },
   {
    "duration": 73998,
    "start_time": "2022-06-17T11:00:00.491Z"
   },
   {
    "duration": 111591,
    "start_time": "2022-06-17T11:01:14.491Z"
   },
   {
    "duration": 16453,
    "start_time": "2022-06-17T11:03:06.084Z"
   },
   {
    "duration": 1210,
    "start_time": "2022-06-17T11:03:22.539Z"
   },
   {
    "duration": 3748,
    "start_time": "2022-06-17T11:03:23.751Z"
   },
   {
    "duration": 93,
    "start_time": "2022-06-17T11:03:27.503Z"
   },
   {
    "duration": 184,
    "start_time": "2022-06-17T11:03:27.598Z"
   },
   {
    "duration": 124,
    "start_time": "2022-06-17T11:03:27.784Z"
   },
   {
    "duration": 440712,
    "start_time": "2022-06-17T11:03:27.912Z"
   },
   {
    "duration": 1220,
    "start_time": "2022-06-17T11:15:31.395Z"
   },
   {
    "duration": 198,
    "start_time": "2022-06-17T11:15:32.617Z"
   },
   {
    "duration": 464,
    "start_time": "2022-06-17T11:15:32.818Z"
   },
   {
    "duration": 565,
    "start_time": "2022-06-17T11:15:33.285Z"
   },
   {
    "duration": 231,
    "start_time": "2022-06-17T11:15:33.851Z"
   },
   {
    "duration": 9,
    "start_time": "2022-06-17T11:15:34.083Z"
   },
   {
    "duration": 7,
    "start_time": "2022-06-17T11:15:34.093Z"
   },
   {
    "duration": 393,
    "start_time": "2022-06-17T11:15:34.101Z"
   },
   {
    "duration": 9,
    "start_time": "2022-06-17T11:15:34.496Z"
   },
   {
    "duration": 227,
    "start_time": "2022-06-17T11:15:34.506Z"
   },
   {
    "duration": 899,
    "start_time": "2022-06-17T11:15:34.735Z"
   },
   {
    "duration": 507,
    "start_time": "2022-06-17T11:15:35.636Z"
   },
   {
    "duration": 612,
    "start_time": "2022-06-17T11:15:36.147Z"
   },
   {
    "duration": 493,
    "start_time": "2022-06-17T11:15:36.760Z"
   },
   {
    "duration": 566,
    "start_time": "2022-06-17T11:15:37.254Z"
   },
   {
    "duration": 149,
    "start_time": "2022-06-17T11:15:37.822Z"
   },
   {
    "duration": 639,
    "start_time": "2022-06-17T11:15:37.972Z"
   },
   {
    "duration": 14,
    "start_time": "2022-06-17T11:15:38.612Z"
   },
   {
    "duration": 6,
    "start_time": "2022-06-17T11:15:38.628Z"
   },
   {
    "duration": 8,
    "start_time": "2022-06-17T11:15:38.635Z"
   },
   {
    "duration": 6,
    "start_time": "2022-06-17T11:15:38.644Z"
   },
   {
    "duration": 27,
    "start_time": "2022-06-17T11:15:38.651Z"
   },
   {
    "duration": 6,
    "start_time": "2022-06-17T11:15:38.680Z"
   },
   {
    "duration": 5,
    "start_time": "2022-06-17T11:15:38.687Z"
   },
   {
    "duration": 5,
    "start_time": "2022-06-17T11:15:38.693Z"
   },
   {
    "duration": 4,
    "start_time": "2022-06-17T11:15:38.699Z"
   },
   {
    "duration": 5,
    "start_time": "2022-06-17T11:15:38.704Z"
   },
   {
    "duration": 6,
    "start_time": "2022-06-17T11:15:38.710Z"
   },
   {
    "duration": 6,
    "start_time": "2022-06-17T11:15:38.717Z"
   },
   {
    "duration": 6,
    "start_time": "2022-06-17T11:15:38.724Z"
   },
   {
    "duration": 9,
    "start_time": "2022-06-17T11:15:38.731Z"
   },
   {
    "duration": 5,
    "start_time": "2022-06-17T11:15:38.741Z"
   },
   {
    "duration": 5,
    "start_time": "2022-06-17T11:15:38.747Z"
   },
   {
    "duration": 369851,
    "start_time": "2022-06-17T11:15:38.754Z"
   },
   {
    "duration": 2874,
    "start_time": "2022-06-17T11:21:48.606Z"
   },
   {
    "duration": 73514,
    "start_time": "2022-06-17T11:21:51.482Z"
   },
   {
    "duration": 184,
    "start_time": "2022-06-17T11:23:05.000Z"
   },
   {
    "duration": 0,
    "start_time": "2022-06-17T11:23:05.186Z"
   },
   {
    "duration": 0,
    "start_time": "2022-06-17T11:23:05.187Z"
   },
   {
    "duration": 0,
    "start_time": "2022-06-17T11:23:05.188Z"
   },
   {
    "duration": 0,
    "start_time": "2022-06-17T11:23:05.189Z"
   },
   {
    "duration": 0,
    "start_time": "2022-06-17T11:23:05.190Z"
   },
   {
    "duration": 0,
    "start_time": "2022-06-17T11:23:05.191Z"
   },
   {
    "duration": 0,
    "start_time": "2022-06-17T11:23:05.192Z"
   },
   {
    "duration": 0,
    "start_time": "2022-06-17T11:23:05.194Z"
   },
   {
    "duration": 0,
    "start_time": "2022-06-17T11:23:05.195Z"
   },
   {
    "duration": 0,
    "start_time": "2022-06-17T11:23:05.196Z"
   },
   {
    "duration": 0,
    "start_time": "2022-06-17T11:23:05.197Z"
   },
   {
    "duration": 1162,
    "start_time": "2022-06-17T11:39:54.927Z"
   },
   {
    "duration": 208,
    "start_time": "2022-06-17T11:39:56.091Z"
   },
   {
    "duration": 453,
    "start_time": "2022-06-17T11:39:56.301Z"
   },
   {
    "duration": 529,
    "start_time": "2022-06-17T11:39:56.756Z"
   },
   {
    "duration": 251,
    "start_time": "2022-06-17T11:39:57.287Z"
   },
   {
    "duration": 10,
    "start_time": "2022-06-17T11:39:57.540Z"
   },
   {
    "duration": 7,
    "start_time": "2022-06-17T11:39:57.551Z"
   },
   {
    "duration": 429,
    "start_time": "2022-06-17T11:39:57.560Z"
   },
   {
    "duration": 8,
    "start_time": "2022-06-17T11:39:57.991Z"
   },
   {
    "duration": 221,
    "start_time": "2022-06-17T11:39:58.001Z"
   },
   {
    "duration": 890,
    "start_time": "2022-06-17T11:39:58.224Z"
   },
   {
    "duration": 486,
    "start_time": "2022-06-17T11:39:59.116Z"
   },
   {
    "duration": 584,
    "start_time": "2022-06-17T11:39:59.604Z"
   },
   {
    "duration": 487,
    "start_time": "2022-06-17T11:40:00.189Z"
   },
   {
    "duration": 473,
    "start_time": "2022-06-17T11:40:00.677Z"
   },
   {
    "duration": 133,
    "start_time": "2022-06-17T11:40:01.152Z"
   },
   {
    "duration": 658,
    "start_time": "2022-06-17T11:40:01.286Z"
   },
   {
    "duration": 15,
    "start_time": "2022-06-17T11:40:01.946Z"
   },
   {
    "duration": 24,
    "start_time": "2022-06-17T11:40:01.962Z"
   },
   {
    "duration": 26,
    "start_time": "2022-06-17T11:40:01.988Z"
   },
   {
    "duration": 6,
    "start_time": "2022-06-17T11:40:02.016Z"
   },
   {
    "duration": 16,
    "start_time": "2022-06-17T11:40:02.023Z"
   },
   {
    "duration": 8,
    "start_time": "2022-06-17T11:40:02.040Z"
   },
   {
    "duration": 8,
    "start_time": "2022-06-17T11:40:02.049Z"
   },
   {
    "duration": 11,
    "start_time": "2022-06-17T11:40:02.058Z"
   },
   {
    "duration": 14,
    "start_time": "2022-06-17T11:40:02.070Z"
   },
   {
    "duration": 62,
    "start_time": "2022-06-17T11:40:02.085Z"
   },
   {
    "duration": 20,
    "start_time": "2022-06-17T11:40:02.150Z"
   },
   {
    "duration": 37,
    "start_time": "2022-06-17T11:40:02.172Z"
   },
   {
    "duration": 7,
    "start_time": "2022-06-17T11:40:02.210Z"
   },
   {
    "duration": 9,
    "start_time": "2022-06-17T11:40:02.218Z"
   },
   {
    "duration": 6,
    "start_time": "2022-06-17T11:40:02.229Z"
   },
   {
    "duration": 7,
    "start_time": "2022-06-17T11:40:02.236Z"
   },
   {
    "duration": 433601,
    "start_time": "2022-06-17T11:40:02.244Z"
   },
   {
    "duration": 2532,
    "start_time": "2022-06-17T11:47:15.847Z"
   },
   {
    "duration": 71203,
    "start_time": "2022-06-17T11:47:18.381Z"
   },
   {
    "duration": 527,
    "start_time": "2022-06-17T11:48:29.586Z"
   },
   {
    "duration": 0,
    "start_time": "2022-06-17T11:48:30.115Z"
   },
   {
    "duration": 0,
    "start_time": "2022-06-17T11:48:30.117Z"
   },
   {
    "duration": 0,
    "start_time": "2022-06-17T11:48:30.118Z"
   },
   {
    "duration": 0,
    "start_time": "2022-06-17T11:48:30.120Z"
   },
   {
    "duration": 0,
    "start_time": "2022-06-17T11:48:30.121Z"
   },
   {
    "duration": 0,
    "start_time": "2022-06-17T11:48:30.122Z"
   },
   {
    "duration": 0,
    "start_time": "2022-06-17T11:48:30.124Z"
   },
   {
    "duration": 0,
    "start_time": "2022-06-17T11:48:30.125Z"
   },
   {
    "duration": 0,
    "start_time": "2022-06-17T11:48:30.126Z"
   },
   {
    "duration": 0,
    "start_time": "2022-06-17T11:48:30.127Z"
   },
   {
    "duration": 0,
    "start_time": "2022-06-17T11:48:30.128Z"
   },
   {
    "duration": 1202,
    "start_time": "2022-06-17T11:51:31.372Z"
   },
   {
    "duration": 198,
    "start_time": "2022-06-17T11:51:32.576Z"
   },
   {
    "duration": 441,
    "start_time": "2022-06-17T11:51:32.776Z"
   },
   {
    "duration": 516,
    "start_time": "2022-06-17T11:51:33.218Z"
   },
   {
    "duration": 227,
    "start_time": "2022-06-17T11:51:33.736Z"
   },
   {
    "duration": 17,
    "start_time": "2022-06-17T11:51:33.965Z"
   },
   {
    "duration": 5,
    "start_time": "2022-06-17T11:51:33.984Z"
   },
   {
    "duration": 300,
    "start_time": "2022-06-17T11:51:33.990Z"
   },
   {
    "duration": 8,
    "start_time": "2022-06-17T11:51:34.292Z"
   },
   {
    "duration": 214,
    "start_time": "2022-06-17T11:51:34.302Z"
   },
   {
    "duration": 903,
    "start_time": "2022-06-17T11:51:34.518Z"
   },
   {
    "duration": 490,
    "start_time": "2022-06-17T11:51:35.423Z"
   },
   {
    "duration": 624,
    "start_time": "2022-06-17T11:51:35.914Z"
   },
   {
    "duration": 487,
    "start_time": "2022-06-17T11:51:36.539Z"
   },
   {
    "duration": 520,
    "start_time": "2022-06-17T11:51:37.041Z"
   },
   {
    "duration": 161,
    "start_time": "2022-06-17T11:51:37.562Z"
   },
   {
    "duration": 654,
    "start_time": "2022-06-17T11:51:37.725Z"
   },
   {
    "duration": 15,
    "start_time": "2022-06-17T11:51:38.381Z"
   },
   {
    "duration": 6,
    "start_time": "2022-06-17T11:51:38.397Z"
   },
   {
    "duration": 8,
    "start_time": "2022-06-17T11:51:38.404Z"
   },
   {
    "duration": 5,
    "start_time": "2022-06-17T11:51:38.413Z"
   },
   {
    "duration": 10,
    "start_time": "2022-06-17T11:51:38.419Z"
   },
   {
    "duration": 6,
    "start_time": "2022-06-17T11:51:38.431Z"
   },
   {
    "duration": 7,
    "start_time": "2022-06-17T11:51:38.438Z"
   },
   {
    "duration": 6,
    "start_time": "2022-06-17T11:51:38.447Z"
   },
   {
    "duration": 24,
    "start_time": "2022-06-17T11:51:38.454Z"
   },
   {
    "duration": 2,
    "start_time": "2022-06-17T11:51:38.480Z"
   },
   {
    "duration": 3,
    "start_time": "2022-06-17T11:51:38.485Z"
   },
   {
    "duration": 5,
    "start_time": "2022-06-17T11:51:38.490Z"
   },
   {
    "duration": 5,
    "start_time": "2022-06-17T11:51:38.496Z"
   },
   {
    "duration": 13,
    "start_time": "2022-06-17T11:51:38.502Z"
   },
   {
    "duration": 6,
    "start_time": "2022-06-17T11:51:38.516Z"
   },
   {
    "duration": 6,
    "start_time": "2022-06-17T11:51:38.523Z"
   },
   {
    "duration": 427550,
    "start_time": "2022-06-17T11:51:38.530Z"
   },
   {
    "duration": 2497,
    "start_time": "2022-06-17T11:58:46.082Z"
   },
   {
    "duration": 70898,
    "start_time": "2022-06-17T11:58:48.580Z"
   },
   {
    "duration": 2,
    "start_time": "2022-06-17T11:59:59.480Z"
   },
   {
    "duration": 110319,
    "start_time": "2022-06-17T11:59:59.484Z"
   },
   {
    "duration": 15961,
    "start_time": "2022-06-17T12:01:49.805Z"
   },
   {
    "duration": 1171,
    "start_time": "2022-06-17T12:02:05.768Z"
   },
   {
    "duration": 3309,
    "start_time": "2022-06-17T12:02:06.941Z"
   },
   {
    "duration": 78,
    "start_time": "2022-06-17T12:02:10.251Z"
   },
   {
    "duration": 148,
    "start_time": "2022-06-17T12:02:10.331Z"
   },
   {
    "duration": 102,
    "start_time": "2022-06-17T12:02:10.480Z"
   },
   {
    "duration": 438105,
    "start_time": "2022-06-17T12:02:10.584Z"
   },
   {
    "duration": 1487,
    "start_time": "2022-06-17T19:10:20.719Z"
   },
   {
    "duration": 571,
    "start_time": "2022-06-17T19:10:22.208Z"
   },
   {
    "duration": 1145,
    "start_time": "2022-06-17T19:10:22.781Z"
   },
   {
    "duration": 2088,
    "start_time": "2022-06-17T19:10:23.928Z"
   },
   {
    "duration": 273,
    "start_time": "2022-06-17T19:10:26.018Z"
   },
   {
    "duration": 9,
    "start_time": "2022-06-17T19:10:26.293Z"
   },
   {
    "duration": 5,
    "start_time": "2022-06-17T19:10:26.304Z"
   },
   {
    "duration": 348,
    "start_time": "2022-06-17T19:10:26.311Z"
   },
   {
    "duration": 12,
    "start_time": "2022-06-17T19:10:26.661Z"
   },
   {
    "duration": 241,
    "start_time": "2022-06-17T19:10:26.676Z"
   },
   {
    "duration": 1031,
    "start_time": "2022-06-17T19:10:26.918Z"
   },
   {
    "duration": 598,
    "start_time": "2022-06-17T19:10:27.951Z"
   },
   {
    "duration": 710,
    "start_time": "2022-06-17T19:10:28.551Z"
   },
   {
    "duration": 555,
    "start_time": "2022-06-17T19:10:29.271Z"
   },
   {
    "duration": 673,
    "start_time": "2022-06-17T19:10:29.828Z"
   },
   {
    "duration": 123,
    "start_time": "2022-06-17T19:10:30.504Z"
   },
   {
    "duration": 0,
    "start_time": "2022-06-17T19:10:30.629Z"
   },
   {
    "duration": 0,
    "start_time": "2022-06-17T19:10:30.631Z"
   },
   {
    "duration": 0,
    "start_time": "2022-06-17T19:10:30.632Z"
   },
   {
    "duration": 0,
    "start_time": "2022-06-17T19:10:30.634Z"
   },
   {
    "duration": 0,
    "start_time": "2022-06-17T19:10:30.635Z"
   },
   {
    "duration": 0,
    "start_time": "2022-06-17T19:10:30.636Z"
   },
   {
    "duration": 0,
    "start_time": "2022-06-17T19:10:30.654Z"
   },
   {
    "duration": 0,
    "start_time": "2022-06-17T19:10:30.657Z"
   },
   {
    "duration": 0,
    "start_time": "2022-06-17T19:10:30.658Z"
   },
   {
    "duration": 0,
    "start_time": "2022-06-17T19:10:30.659Z"
   },
   {
    "duration": 0,
    "start_time": "2022-06-17T19:10:30.659Z"
   },
   {
    "duration": 0,
    "start_time": "2022-06-17T19:10:30.660Z"
   },
   {
    "duration": 0,
    "start_time": "2022-06-17T19:10:30.661Z"
   },
   {
    "duration": 0,
    "start_time": "2022-06-17T19:10:30.662Z"
   },
   {
    "duration": 0,
    "start_time": "2022-06-17T19:10:30.663Z"
   },
   {
    "duration": 0,
    "start_time": "2022-06-17T19:10:30.664Z"
   },
   {
    "duration": 0,
    "start_time": "2022-06-17T19:10:30.665Z"
   },
   {
    "duration": 0,
    "start_time": "2022-06-17T19:10:30.666Z"
   },
   {
    "duration": 0,
    "start_time": "2022-06-17T19:10:30.668Z"
   },
   {
    "duration": 0,
    "start_time": "2022-06-17T19:10:30.669Z"
   },
   {
    "duration": 0,
    "start_time": "2022-06-17T19:10:30.670Z"
   },
   {
    "duration": 0,
    "start_time": "2022-06-17T19:10:30.671Z"
   },
   {
    "duration": 0,
    "start_time": "2022-06-17T19:10:30.674Z"
   },
   {
    "duration": 0,
    "start_time": "2022-06-17T19:10:30.675Z"
   },
   {
    "duration": 0,
    "start_time": "2022-06-17T19:10:30.676Z"
   },
   {
    "duration": 0,
    "start_time": "2022-06-17T19:10:30.677Z"
   },
   {
    "duration": 0,
    "start_time": "2022-06-17T19:10:30.679Z"
   },
   {
    "duration": 0,
    "start_time": "2022-06-17T19:10:30.680Z"
   },
   {
    "duration": 0,
    "start_time": "2022-06-17T19:10:30.681Z"
   },
   {
    "duration": 0,
    "start_time": "2022-06-17T19:10:30.683Z"
   },
   {
    "duration": 0,
    "start_time": "2022-06-17T19:10:30.684Z"
   },
   {
    "duration": 0,
    "start_time": "2022-06-17T19:10:30.686Z"
   },
   {
    "duration": 0,
    "start_time": "2022-06-17T19:10:30.687Z"
   },
   {
    "duration": 1333,
    "start_time": "2022-06-17T19:19:02.332Z"
   },
   {
    "duration": 211,
    "start_time": "2022-06-17T19:19:03.667Z"
   },
   {
    "duration": 465,
    "start_time": "2022-06-17T19:19:03.880Z"
   },
   {
    "duration": 550,
    "start_time": "2022-06-17T19:19:04.351Z"
   },
   {
    "duration": 244,
    "start_time": "2022-06-17T19:19:04.903Z"
   },
   {
    "duration": 14,
    "start_time": "2022-06-17T19:19:05.153Z"
   },
   {
    "duration": 18,
    "start_time": "2022-06-17T19:19:05.170Z"
   },
   {
    "duration": 400,
    "start_time": "2022-06-17T19:19:05.190Z"
   },
   {
    "duration": 8,
    "start_time": "2022-06-17T19:19:05.592Z"
   },
   {
    "duration": 241,
    "start_time": "2022-06-17T19:19:05.603Z"
   },
   {
    "duration": 1027,
    "start_time": "2022-06-17T19:19:05.846Z"
   },
   {
    "duration": 568,
    "start_time": "2022-06-17T19:19:06.874Z"
   },
   {
    "duration": 663,
    "start_time": "2022-06-17T19:19:07.444Z"
   },
   {
    "duration": 543,
    "start_time": "2022-06-17T19:19:08.109Z"
   },
   {
    "duration": 633,
    "start_time": "2022-06-17T19:19:08.653Z"
   },
   {
    "duration": 254,
    "start_time": "2022-06-17T19:19:09.288Z"
   },
   {
    "duration": 0,
    "start_time": "2022-06-17T19:19:09.552Z"
   },
   {
    "duration": 0,
    "start_time": "2022-06-17T19:19:09.553Z"
   },
   {
    "duration": 0,
    "start_time": "2022-06-17T19:19:09.555Z"
   },
   {
    "duration": 0,
    "start_time": "2022-06-17T19:19:09.556Z"
   },
   {
    "duration": 0,
    "start_time": "2022-06-17T19:19:09.557Z"
   },
   {
    "duration": 0,
    "start_time": "2022-06-17T19:19:09.558Z"
   },
   {
    "duration": 0,
    "start_time": "2022-06-17T19:19:09.559Z"
   },
   {
    "duration": 0,
    "start_time": "2022-06-17T19:19:09.560Z"
   },
   {
    "duration": 0,
    "start_time": "2022-06-17T19:19:09.561Z"
   },
   {
    "duration": 0,
    "start_time": "2022-06-17T19:19:09.562Z"
   },
   {
    "duration": 0,
    "start_time": "2022-06-17T19:19:09.563Z"
   },
   {
    "duration": 0,
    "start_time": "2022-06-17T19:19:09.564Z"
   },
   {
    "duration": 0,
    "start_time": "2022-06-17T19:19:09.565Z"
   },
   {
    "duration": 0,
    "start_time": "2022-06-17T19:19:09.566Z"
   },
   {
    "duration": 0,
    "start_time": "2022-06-17T19:19:09.567Z"
   },
   {
    "duration": 0,
    "start_time": "2022-06-17T19:19:09.568Z"
   },
   {
    "duration": 0,
    "start_time": "2022-06-17T19:19:09.569Z"
   },
   {
    "duration": 0,
    "start_time": "2022-06-17T19:19:09.571Z"
   },
   {
    "duration": 0,
    "start_time": "2022-06-17T19:19:09.573Z"
   },
   {
    "duration": 0,
    "start_time": "2022-06-17T19:19:09.574Z"
   },
   {
    "duration": 0,
    "start_time": "2022-06-17T19:19:09.575Z"
   },
   {
    "duration": 0,
    "start_time": "2022-06-17T19:19:09.576Z"
   },
   {
    "duration": 0,
    "start_time": "2022-06-17T19:19:09.577Z"
   },
   {
    "duration": 0,
    "start_time": "2022-06-17T19:19:09.579Z"
   },
   {
    "duration": 0,
    "start_time": "2022-06-17T19:19:09.580Z"
   },
   {
    "duration": 0,
    "start_time": "2022-06-17T19:19:09.581Z"
   },
   {
    "duration": 0,
    "start_time": "2022-06-17T19:19:09.582Z"
   },
   {
    "duration": 0,
    "start_time": "2022-06-17T19:19:09.583Z"
   },
   {
    "duration": 0,
    "start_time": "2022-06-17T19:19:09.584Z"
   },
   {
    "duration": 0,
    "start_time": "2022-06-17T19:19:09.585Z"
   },
   {
    "duration": 0,
    "start_time": "2022-06-17T19:19:09.586Z"
   },
   {
    "duration": 0,
    "start_time": "2022-06-17T19:19:09.587Z"
   },
   {
    "duration": 0,
    "start_time": "2022-06-17T19:19:09.588Z"
   },
   {
    "duration": 1288,
    "start_time": "2022-06-17T19:21:11.680Z"
   },
   {
    "duration": 220,
    "start_time": "2022-06-17T19:21:12.970Z"
   },
   {
    "duration": 474,
    "start_time": "2022-06-17T19:21:13.191Z"
   },
   {
    "duration": 568,
    "start_time": "2022-06-17T19:21:13.667Z"
   },
   {
    "duration": 287,
    "start_time": "2022-06-17T19:21:14.237Z"
   },
   {
    "duration": 10,
    "start_time": "2022-06-17T19:21:14.526Z"
   },
   {
    "duration": 18,
    "start_time": "2022-06-17T19:21:14.537Z"
   },
   {
    "duration": 419,
    "start_time": "2022-06-17T19:21:14.556Z"
   },
   {
    "duration": 9,
    "start_time": "2022-06-17T19:21:14.977Z"
   },
   {
    "duration": 240,
    "start_time": "2022-06-17T19:21:14.989Z"
   },
   {
    "duration": 1049,
    "start_time": "2022-06-17T19:21:15.230Z"
   },
   {
    "duration": 550,
    "start_time": "2022-06-17T19:21:16.282Z"
   },
   {
    "duration": 680,
    "start_time": "2022-06-17T19:21:16.834Z"
   },
   {
    "duration": 519,
    "start_time": "2022-06-17T19:21:17.516Z"
   },
   {
    "duration": 529,
    "start_time": "2022-06-17T19:21:18.037Z"
   },
   {
    "duration": 11257,
    "start_time": "2022-06-17T19:21:18.568Z"
   },
   {
    "duration": 28,
    "start_time": "2022-06-17T19:21:29.827Z"
   },
   {
    "duration": 674,
    "start_time": "2022-06-17T19:21:29.856Z"
   },
   {
    "duration": 21,
    "start_time": "2022-06-17T19:21:30.532Z"
   },
   {
    "duration": 9,
    "start_time": "2022-06-17T19:21:30.555Z"
   },
   {
    "duration": 21,
    "start_time": "2022-06-17T19:21:30.565Z"
   },
   {
    "duration": 32,
    "start_time": "2022-06-17T19:21:30.587Z"
   },
   {
    "duration": 19,
    "start_time": "2022-06-17T19:21:30.620Z"
   },
   {
    "duration": 15,
    "start_time": "2022-06-17T19:21:30.641Z"
   },
   {
    "duration": 20,
    "start_time": "2022-06-17T19:21:30.657Z"
   },
   {
    "duration": 17,
    "start_time": "2022-06-17T19:21:30.678Z"
   },
   {
    "duration": 12,
    "start_time": "2022-06-17T19:21:30.697Z"
   },
   {
    "duration": 6,
    "start_time": "2022-06-17T19:21:30.713Z"
   },
   {
    "duration": 11,
    "start_time": "2022-06-17T19:21:30.721Z"
   },
   {
    "duration": 17,
    "start_time": "2022-06-17T19:21:30.734Z"
   },
   {
    "duration": 25,
    "start_time": "2022-06-17T19:21:30.753Z"
   },
   {
    "duration": 19,
    "start_time": "2022-06-17T19:21:30.780Z"
   },
   {
    "duration": 12,
    "start_time": "2022-06-17T19:21:30.801Z"
   },
   {
    "duration": 32,
    "start_time": "2022-06-17T19:21:30.814Z"
   },
   {
    "duration": 1303,
    "start_time": "2022-06-17T19:24:08.782Z"
   },
   {
    "duration": 217,
    "start_time": "2022-06-17T19:24:10.087Z"
   },
   {
    "duration": 462,
    "start_time": "2022-06-17T19:24:10.305Z"
   },
   {
    "duration": 549,
    "start_time": "2022-06-17T19:24:10.769Z"
   },
   {
    "duration": 246,
    "start_time": "2022-06-17T19:24:11.320Z"
   },
   {
    "duration": 8,
    "start_time": "2022-06-17T19:24:11.568Z"
   },
   {
    "duration": 5,
    "start_time": "2022-06-17T19:24:11.578Z"
   },
   {
    "duration": 292,
    "start_time": "2022-06-17T19:24:11.585Z"
   },
   {
    "duration": 11,
    "start_time": "2022-06-17T19:24:11.879Z"
   },
   {
    "duration": 241,
    "start_time": "2022-06-17T19:24:11.892Z"
   },
   {
    "duration": 987,
    "start_time": "2022-06-17T19:24:12.135Z"
   },
   {
    "duration": 561,
    "start_time": "2022-06-17T19:24:13.124Z"
   },
   {
    "duration": 683,
    "start_time": "2022-06-17T19:24:13.687Z"
   },
   {
    "duration": 530,
    "start_time": "2022-06-17T19:24:14.374Z"
   },
   {
    "duration": 604,
    "start_time": "2022-06-17T19:24:14.906Z"
   },
   {
    "duration": 10838,
    "start_time": "2022-06-17T19:24:15.512Z"
   },
   {
    "duration": 21,
    "start_time": "2022-06-17T19:24:26.352Z"
   },
   {
    "duration": 669,
    "start_time": "2022-06-17T19:24:26.374Z"
   },
   {
    "duration": 23,
    "start_time": "2022-06-17T19:24:27.045Z"
   },
   {
    "duration": 8,
    "start_time": "2022-06-17T19:24:27.069Z"
   },
   {
    "duration": 8,
    "start_time": "2022-06-17T19:24:27.078Z"
   },
   {
    "duration": 5,
    "start_time": "2022-06-17T19:24:27.088Z"
   },
   {
    "duration": 8,
    "start_time": "2022-06-17T19:24:27.095Z"
   },
   {
    "duration": 9,
    "start_time": "2022-06-17T19:24:27.105Z"
   },
   {
    "duration": 6,
    "start_time": "2022-06-17T19:24:27.116Z"
   },
   {
    "duration": 29,
    "start_time": "2022-06-17T19:24:27.124Z"
   },
   {
    "duration": 4,
    "start_time": "2022-06-17T19:24:27.155Z"
   },
   {
    "duration": 5,
    "start_time": "2022-06-17T19:24:27.161Z"
   },
   {
    "duration": 7,
    "start_time": "2022-06-17T19:24:27.167Z"
   },
   {
    "duration": 6,
    "start_time": "2022-06-17T19:24:27.175Z"
   },
   {
    "duration": 5,
    "start_time": "2022-06-17T19:24:27.182Z"
   },
   {
    "duration": 7,
    "start_time": "2022-06-17T19:24:27.189Z"
   },
   {
    "duration": 5,
    "start_time": "2022-06-17T19:24:27.197Z"
   },
   {
    "duration": 5,
    "start_time": "2022-06-17T19:24:27.203Z"
   },
   {
    "duration": 1272,
    "start_time": "2022-06-17T20:18:19.169Z"
   },
   {
    "duration": 206,
    "start_time": "2022-06-17T20:18:20.443Z"
   },
   {
    "duration": 478,
    "start_time": "2022-06-17T20:18:20.650Z"
   },
   {
    "duration": 566,
    "start_time": "2022-06-17T20:18:21.130Z"
   },
   {
    "duration": 245,
    "start_time": "2022-06-17T20:18:21.697Z"
   },
   {
    "duration": 14,
    "start_time": "2022-06-17T20:18:21.943Z"
   },
   {
    "duration": 5,
    "start_time": "2022-06-17T20:18:21.959Z"
   },
   {
    "duration": 305,
    "start_time": "2022-06-17T20:18:21.966Z"
   },
   {
    "duration": 9,
    "start_time": "2022-06-17T20:18:22.273Z"
   },
   {
    "duration": 240,
    "start_time": "2022-06-17T20:18:22.284Z"
   },
   {
    "duration": 942,
    "start_time": "2022-06-17T20:18:22.526Z"
   },
   {
    "duration": 544,
    "start_time": "2022-06-17T20:18:23.469Z"
   },
   {
    "duration": 643,
    "start_time": "2022-06-17T20:18:24.015Z"
   },
   {
    "duration": 532,
    "start_time": "2022-06-17T20:18:24.660Z"
   },
   {
    "duration": 563,
    "start_time": "2022-06-17T20:18:25.194Z"
   },
   {
    "duration": 13208,
    "start_time": "2022-06-17T20:18:25.759Z"
   },
   {
    "duration": 19,
    "start_time": "2022-06-17T20:18:38.969Z"
   },
   {
    "duration": 671,
    "start_time": "2022-06-17T20:18:38.989Z"
   },
   {
    "duration": 14,
    "start_time": "2022-06-17T20:18:39.661Z"
   },
   {
    "duration": 7,
    "start_time": "2022-06-17T20:18:39.677Z"
   },
   {
    "duration": 13,
    "start_time": "2022-06-17T20:18:39.685Z"
   },
   {
    "duration": 6,
    "start_time": "2022-06-17T20:18:39.699Z"
   },
   {
    "duration": 7,
    "start_time": "2022-06-17T20:18:39.706Z"
   },
   {
    "duration": 7,
    "start_time": "2022-06-17T20:18:39.715Z"
   },
   {
    "duration": 7,
    "start_time": "2022-06-17T20:18:39.723Z"
   },
   {
    "duration": 31,
    "start_time": "2022-06-17T20:18:39.732Z"
   },
   {
    "duration": 9,
    "start_time": "2022-06-17T20:18:39.765Z"
   },
   {
    "duration": 5,
    "start_time": "2022-06-17T20:18:39.778Z"
   },
   {
    "duration": 5,
    "start_time": "2022-06-17T20:18:39.785Z"
   },
   {
    "duration": 5,
    "start_time": "2022-06-17T20:18:39.792Z"
   },
   {
    "duration": 6,
    "start_time": "2022-06-17T20:18:39.799Z"
   },
   {
    "duration": 7,
    "start_time": "2022-06-17T20:18:39.806Z"
   },
   {
    "duration": 6,
    "start_time": "2022-06-17T20:18:39.814Z"
   },
   {
    "duration": 6,
    "start_time": "2022-06-17T20:18:39.821Z"
   },
   {
    "duration": 554836,
    "start_time": "2022-06-17T20:18:39.828Z"
   },
   {
    "duration": 3490,
    "start_time": "2022-06-17T20:27:54.666Z"
   },
   {
    "duration": 84799,
    "start_time": "2022-06-17T20:27:58.160Z"
   },
   {
    "duration": 3,
    "start_time": "2022-06-17T20:29:23.051Z"
   },
   {
    "duration": 62230,
    "start_time": "2022-06-17T20:29:23.056Z"
   },
   {
    "duration": 21102,
    "start_time": "2022-06-17T20:30:25.288Z"
   },
   {
    "duration": 1501,
    "start_time": "2022-06-17T20:30:46.392Z"
   },
   {
    "duration": 3984,
    "start_time": "2022-06-17T20:30:47.894Z"
   },
   {
    "duration": 97,
    "start_time": "2022-06-17T20:30:51.880Z"
   },
   {
    "duration": 180,
    "start_time": "2022-06-17T20:30:51.979Z"
   },
   {
    "duration": 107,
    "start_time": "2022-06-17T20:30:52.162Z"
   },
   {
    "duration": 203469,
    "start_time": "2022-06-17T20:30:52.271Z"
   },
   {
    "duration": 226356,
    "start_time": "2022-06-17T20:34:15.741Z"
   },
   {
    "duration": 2622,
    "start_time": "2022-06-17T20:38:02.099Z"
   },
   {
    "duration": 65,
    "start_time": "2022-06-17T20:38:04.723Z"
   },
   {
    "duration": 1268,
    "start_time": "2022-06-17T20:48:40.943Z"
   },
   {
    "duration": 207,
    "start_time": "2022-06-17T20:48:42.213Z"
   },
   {
    "duration": 485,
    "start_time": "2022-06-17T20:48:42.422Z"
   },
   {
    "duration": 561,
    "start_time": "2022-06-17T20:48:42.908Z"
   },
   {
    "duration": 241,
    "start_time": "2022-06-17T20:48:43.472Z"
   },
   {
    "duration": 9,
    "start_time": "2022-06-17T20:48:43.715Z"
   },
   {
    "duration": 6,
    "start_time": "2022-06-17T20:48:43.725Z"
   },
   {
    "duration": 321,
    "start_time": "2022-06-17T20:48:43.751Z"
   },
   {
    "duration": 10,
    "start_time": "2022-06-17T20:48:44.075Z"
   },
   {
    "duration": 242,
    "start_time": "2022-06-17T20:48:44.087Z"
   },
   {
    "duration": 920,
    "start_time": "2022-06-17T20:48:44.330Z"
   },
   {
    "duration": 597,
    "start_time": "2022-06-17T20:48:45.251Z"
   },
   {
    "duration": 654,
    "start_time": "2022-06-17T20:48:45.850Z"
   },
   {
    "duration": 514,
    "start_time": "2022-06-17T20:48:46.507Z"
   },
   {
    "duration": 524,
    "start_time": "2022-06-17T20:48:47.023Z"
   },
   {
    "duration": 12153,
    "start_time": "2022-06-17T20:48:47.549Z"
   },
   {
    "duration": 19,
    "start_time": "2022-06-17T20:48:59.704Z"
   },
   {
    "duration": 701,
    "start_time": "2022-06-17T20:48:59.725Z"
   },
   {
    "duration": 25,
    "start_time": "2022-06-17T20:49:00.428Z"
   },
   {
    "duration": 7,
    "start_time": "2022-06-17T20:49:00.455Z"
   },
   {
    "duration": 14,
    "start_time": "2022-06-17T20:49:00.463Z"
   },
   {
    "duration": 6,
    "start_time": "2022-06-17T20:49:00.480Z"
   },
   {
    "duration": 9,
    "start_time": "2022-06-17T20:49:00.488Z"
   },
   {
    "duration": 8,
    "start_time": "2022-06-17T20:49:00.499Z"
   },
   {
    "duration": 11,
    "start_time": "2022-06-17T20:49:00.509Z"
   },
   {
    "duration": 12,
    "start_time": "2022-06-17T20:49:00.522Z"
   },
   {
    "duration": 16,
    "start_time": "2022-06-17T20:49:00.536Z"
   },
   {
    "duration": 8,
    "start_time": "2022-06-17T20:49:00.554Z"
   },
   {
    "duration": 6,
    "start_time": "2022-06-17T20:49:00.564Z"
   },
   {
    "duration": 10,
    "start_time": "2022-06-17T20:49:00.571Z"
   },
   {
    "duration": 546179,
    "start_time": "2022-06-17T20:49:00.582Z"
   },
   {
    "duration": 30,
    "start_time": "2022-06-17T20:58:06.762Z"
   },
   {
    "duration": 0,
    "start_time": "2022-06-17T20:58:06.794Z"
   },
   {
    "duration": 0,
    "start_time": "2022-06-17T20:58:06.795Z"
   },
   {
    "duration": 1,
    "start_time": "2022-06-17T20:58:06.796Z"
   },
   {
    "duration": 0,
    "start_time": "2022-06-17T20:58:06.797Z"
   },
   {
    "duration": 0,
    "start_time": "2022-06-17T20:58:06.799Z"
   },
   {
    "duration": 0,
    "start_time": "2022-06-17T20:58:06.800Z"
   },
   {
    "duration": 0,
    "start_time": "2022-06-17T20:58:06.801Z"
   },
   {
    "duration": 0,
    "start_time": "2022-06-17T20:58:06.802Z"
   },
   {
    "duration": 0,
    "start_time": "2022-06-17T20:58:06.803Z"
   },
   {
    "duration": 0,
    "start_time": "2022-06-17T20:58:06.804Z"
   },
   {
    "duration": 0,
    "start_time": "2022-06-17T20:58:06.805Z"
   },
   {
    "duration": 1178,
    "start_time": "2022-06-17T21:35:57.375Z"
   },
   {
    "duration": 198,
    "start_time": "2022-06-17T21:35:58.555Z"
   },
   {
    "duration": 447,
    "start_time": "2022-06-17T21:35:58.755Z"
   },
   {
    "duration": 557,
    "start_time": "2022-06-17T21:35:59.205Z"
   },
   {
    "duration": 231,
    "start_time": "2022-06-17T21:35:59.763Z"
   },
   {
    "duration": 9,
    "start_time": "2022-06-17T21:35:59.996Z"
   },
   {
    "duration": 10,
    "start_time": "2022-06-17T21:36:00.006Z"
   },
   {
    "duration": 257,
    "start_time": "2022-06-17T21:36:00.018Z"
   },
   {
    "duration": 8,
    "start_time": "2022-06-17T21:36:00.276Z"
   },
   {
    "duration": 219,
    "start_time": "2022-06-17T21:36:00.287Z"
   },
   {
    "duration": 913,
    "start_time": "2022-06-17T21:36:00.507Z"
   },
   {
    "duration": 531,
    "start_time": "2022-06-17T21:36:01.422Z"
   },
   {
    "duration": 642,
    "start_time": "2022-06-17T21:36:01.955Z"
   },
   {
    "duration": 506,
    "start_time": "2022-06-17T21:36:02.599Z"
   },
   {
    "duration": 507,
    "start_time": "2022-06-17T21:36:03.106Z"
   },
   {
    "duration": 10120,
    "start_time": "2022-06-17T21:36:03.615Z"
   },
   {
    "duration": 27,
    "start_time": "2022-06-17T21:36:13.736Z"
   },
   {
    "duration": 616,
    "start_time": "2022-06-17T21:36:13.764Z"
   },
   {
    "duration": 14,
    "start_time": "2022-06-17T21:36:14.381Z"
   },
   {
    "duration": 6,
    "start_time": "2022-06-17T21:36:14.397Z"
   },
   {
    "duration": 9,
    "start_time": "2022-06-17T21:36:14.404Z"
   },
   {
    "duration": 9,
    "start_time": "2022-06-17T21:36:14.414Z"
   },
   {
    "duration": 8,
    "start_time": "2022-06-17T21:36:14.424Z"
   },
   {
    "duration": 20,
    "start_time": "2022-06-17T21:36:14.433Z"
   },
   {
    "duration": 6,
    "start_time": "2022-06-17T21:36:14.454Z"
   },
   {
    "duration": 8,
    "start_time": "2022-06-17T21:36:14.461Z"
   },
   {
    "duration": 7,
    "start_time": "2022-06-17T21:36:14.470Z"
   },
   {
    "duration": 12,
    "start_time": "2022-06-17T21:36:14.480Z"
   },
   {
    "duration": 7,
    "start_time": "2022-06-17T21:36:14.494Z"
   },
   {
    "duration": 5,
    "start_time": "2022-06-17T21:36:14.503Z"
   },
   {
    "duration": 559909,
    "start_time": "2022-06-17T21:36:14.509Z"
   },
   {
    "duration": 3954,
    "start_time": "2022-06-17T21:45:34.420Z"
   },
   {
    "duration": 81,
    "start_time": "2022-06-17T21:45:38.376Z"
   },
   {
    "duration": 0,
    "start_time": "2022-06-17T21:45:38.459Z"
   },
   {
    "duration": 0,
    "start_time": "2022-06-17T21:45:38.460Z"
   },
   {
    "duration": 0,
    "start_time": "2022-06-17T21:45:38.461Z"
   },
   {
    "duration": 0,
    "start_time": "2022-06-17T21:45:38.462Z"
   },
   {
    "duration": 0,
    "start_time": "2022-06-17T21:45:38.463Z"
   },
   {
    "duration": 0,
    "start_time": "2022-06-17T21:45:38.464Z"
   },
   {
    "duration": 0,
    "start_time": "2022-06-17T21:45:38.466Z"
   },
   {
    "duration": 0,
    "start_time": "2022-06-17T21:45:38.467Z"
   },
   {
    "duration": 0,
    "start_time": "2022-06-17T21:45:38.469Z"
   },
   {
    "duration": 0,
    "start_time": "2022-06-17T21:45:38.470Z"
   },
   {
    "duration": 1394,
    "start_time": "2022-06-17T21:52:34.032Z"
   },
   {
    "duration": 231,
    "start_time": "2022-06-17T21:52:35.428Z"
   },
   {
    "duration": 506,
    "start_time": "2022-06-17T21:52:35.661Z"
   },
   {
    "duration": 568,
    "start_time": "2022-06-17T21:52:36.169Z"
   },
   {
    "duration": 246,
    "start_time": "2022-06-17T21:52:37.227Z"
   },
   {
    "duration": 10,
    "start_time": "2022-06-17T21:52:37.475Z"
   },
   {
    "duration": 7,
    "start_time": "2022-06-17T21:52:37.486Z"
   },
   {
    "duration": 324,
    "start_time": "2022-06-17T21:52:39.553Z"
   },
   {
    "duration": 10,
    "start_time": "2022-06-17T21:52:39.880Z"
   },
   {
    "duration": 229,
    "start_time": "2022-06-17T21:52:39.891Z"
   },
   {
    "duration": 930,
    "start_time": "2022-06-17T21:52:40.122Z"
   },
   {
    "duration": 535,
    "start_time": "2022-06-17T21:52:41.054Z"
   },
   {
    "duration": 678,
    "start_time": "2022-06-17T21:52:55.095Z"
   },
   {
    "duration": 520,
    "start_time": "2022-06-17T21:52:57.706Z"
   },
   {
    "duration": 518,
    "start_time": "2022-06-17T21:53:00.673Z"
   },
   {
    "duration": 10840,
    "start_time": "2022-06-17T21:53:01.193Z"
   },
   {
    "duration": 27,
    "start_time": "2022-06-17T21:53:12.035Z"
   },
   {
    "duration": 872,
    "start_time": "2022-06-17T21:53:12.063Z"
   },
   {
    "duration": 22,
    "start_time": "2022-06-17T21:53:12.938Z"
   },
   {
    "duration": 8,
    "start_time": "2022-06-17T21:53:12.962Z"
   },
   {
    "duration": 11,
    "start_time": "2022-06-17T21:53:12.972Z"
   },
   {
    "duration": 8,
    "start_time": "2022-06-17T21:53:12.984Z"
   },
   {
    "duration": 9,
    "start_time": "2022-06-17T21:53:12.993Z"
   },
   {
    "duration": 8,
    "start_time": "2022-06-17T21:53:13.004Z"
   },
   {
    "duration": 10,
    "start_time": "2022-06-17T21:53:13.014Z"
   },
   {
    "duration": 8,
    "start_time": "2022-06-17T21:53:13.026Z"
   },
   {
    "duration": 8,
    "start_time": "2022-06-17T21:53:13.036Z"
   },
   {
    "duration": 4,
    "start_time": "2022-06-17T21:53:13.054Z"
   },
   {
    "duration": 18,
    "start_time": "2022-06-17T21:53:13.059Z"
   },
   {
    "duration": 8,
    "start_time": "2022-06-17T21:53:13.080Z"
   },
   {
    "duration": 553795,
    "start_time": "2022-06-17T21:53:13.089Z"
   },
   {
    "duration": 3869,
    "start_time": "2022-06-17T22:02:26.885Z"
   },
   {
    "duration": 244909,
    "start_time": "2022-06-17T22:02:30.758Z"
   },
   {
    "duration": 78316,
    "start_time": "2022-06-17T22:06:35.668Z"
   },
   {
    "duration": 11849,
    "start_time": "2022-06-17T22:07:53.986Z"
   },
   {
    "duration": 15955,
    "start_time": "2022-06-17T22:08:05.837Z"
   },
   {
    "duration": 443,
    "start_time": "2022-06-17T22:08:21.793Z"
   },
   {
    "duration": 818,
    "start_time": "2022-06-17T22:08:22.238Z"
   },
   {
    "duration": 493,
    "start_time": "2022-06-17T22:08:23.065Z"
   },
   {
    "duration": 18189,
    "start_time": "2022-06-17T22:08:23.559Z"
   },
   {
    "duration": 0,
    "start_time": "2022-06-17T22:08:41.751Z"
   },
   {
    "duration": 0,
    "start_time": "2022-06-17T22:08:41.752Z"
   },
   {
    "duration": 0,
    "start_time": "2022-06-17T22:08:41.753Z"
   },
   {
    "duration": 1243,
    "start_time": "2022-06-17T22:13:26.431Z"
   },
   {
    "duration": 218,
    "start_time": "2022-06-17T22:13:27.675Z"
   },
   {
    "duration": 484,
    "start_time": "2022-06-17T22:13:27.894Z"
   },
   {
    "duration": 564,
    "start_time": "2022-06-17T22:13:28.380Z"
   },
   {
    "duration": 242,
    "start_time": "2022-06-17T22:13:28.945Z"
   },
   {
    "duration": 8,
    "start_time": "2022-06-17T22:13:29.189Z"
   },
   {
    "duration": 5,
    "start_time": "2022-06-17T22:13:29.198Z"
   },
   {
    "duration": 270,
    "start_time": "2022-06-17T22:13:29.204Z"
   },
   {
    "duration": 9,
    "start_time": "2022-06-17T22:13:29.475Z"
   },
   {
    "duration": 225,
    "start_time": "2022-06-17T22:13:29.486Z"
   },
   {
    "duration": 945,
    "start_time": "2022-06-17T22:13:29.713Z"
   },
   {
    "duration": 546,
    "start_time": "2022-06-17T22:13:30.660Z"
   },
   {
    "duration": 649,
    "start_time": "2022-06-17T22:13:31.207Z"
   },
   {
    "duration": 596,
    "start_time": "2022-06-17T22:13:31.859Z"
   },
   {
    "duration": 615,
    "start_time": "2022-06-17T22:13:32.457Z"
   },
   {
    "duration": 10544,
    "start_time": "2022-06-17T22:13:33.073Z"
   },
   {
    "duration": 18,
    "start_time": "2022-06-17T22:13:43.619Z"
   },
   {
    "duration": 671,
    "start_time": "2022-06-17T22:13:43.639Z"
   },
   {
    "duration": 13,
    "start_time": "2022-06-17T22:13:44.312Z"
   },
   {
    "duration": 7,
    "start_time": "2022-06-17T22:13:44.326Z"
   },
   {
    "duration": 25,
    "start_time": "2022-06-17T22:13:44.334Z"
   },
   {
    "duration": 8,
    "start_time": "2022-06-17T22:13:44.362Z"
   },
   {
    "duration": 8,
    "start_time": "2022-06-17T22:13:44.371Z"
   },
   {
    "duration": 8,
    "start_time": "2022-06-17T22:13:44.381Z"
   },
   {
    "duration": 12,
    "start_time": "2022-06-17T22:13:44.391Z"
   },
   {
    "duration": 6,
    "start_time": "2022-06-17T22:13:44.404Z"
   },
   {
    "duration": 14,
    "start_time": "2022-06-17T22:13:44.411Z"
   },
   {
    "duration": 14,
    "start_time": "2022-06-17T22:13:44.428Z"
   },
   {
    "duration": 21,
    "start_time": "2022-06-17T22:13:44.443Z"
   },
   {
    "duration": 5,
    "start_time": "2022-06-17T22:13:44.466Z"
   },
   {
    "duration": 555258,
    "start_time": "2022-06-17T22:13:44.472Z"
   },
   {
    "duration": 3927,
    "start_time": "2022-06-17T22:22:59.732Z"
   },
   {
    "duration": 244313,
    "start_time": "2022-06-17T22:23:03.662Z"
   },
   {
    "duration": 91403,
    "start_time": "2022-06-17T22:27:07.977Z"
   },
   {
    "duration": 13820,
    "start_time": "2022-06-17T22:28:39.382Z"
   },
   {
    "duration": 16150,
    "start_time": "2022-06-17T22:28:53.205Z"
   },
   {
    "duration": 1287,
    "start_time": "2022-06-17T22:29:09.357Z"
   },
   {
    "duration": 619,
    "start_time": "2022-06-17T22:29:10.645Z"
   },
   {
    "duration": 594,
    "start_time": "2022-06-17T22:29:11.268Z"
   },
   {
    "duration": 17960,
    "start_time": "2022-06-17T22:29:11.867Z"
   },
   {
    "duration": 0,
    "start_time": "2022-06-17T22:29:29.829Z"
   },
   {
    "duration": 0,
    "start_time": "2022-06-17T22:29:29.830Z"
   },
   {
    "duration": 0,
    "start_time": "2022-06-17T22:29:29.831Z"
   },
   {
    "duration": 1241,
    "start_time": "2022-06-17T22:37:27.625Z"
   },
   {
    "duration": 206,
    "start_time": "2022-06-17T22:37:28.868Z"
   },
   {
    "duration": 475,
    "start_time": "2022-06-17T22:37:29.076Z"
   },
   {
    "duration": 599,
    "start_time": "2022-06-17T22:37:29.556Z"
   },
   {
    "duration": 245,
    "start_time": "2022-06-17T22:37:30.157Z"
   },
   {
    "duration": 9,
    "start_time": "2022-06-17T22:37:30.404Z"
   },
   {
    "duration": 13,
    "start_time": "2022-06-17T22:37:30.414Z"
   },
   {
    "duration": 339,
    "start_time": "2022-06-17T22:37:30.429Z"
   },
   {
    "duration": 8,
    "start_time": "2022-06-17T22:37:30.770Z"
   },
   {
    "duration": 227,
    "start_time": "2022-06-17T22:37:30.781Z"
   },
   {
    "duration": 995,
    "start_time": "2022-06-17T22:37:31.010Z"
   },
   {
    "duration": 605,
    "start_time": "2022-06-17T22:37:32.006Z"
   },
   {
    "duration": 751,
    "start_time": "2022-06-17T22:37:32.613Z"
   },
   {
    "duration": 589,
    "start_time": "2022-06-17T22:37:33.366Z"
   },
   {
    "duration": 581,
    "start_time": "2022-06-17T22:37:33.957Z"
   },
   {
    "duration": 10507,
    "start_time": "2022-06-17T22:37:34.539Z"
   },
   {
    "duration": 31,
    "start_time": "2022-06-17T22:37:45.048Z"
   },
   {
    "duration": 690,
    "start_time": "2022-06-17T22:37:45.081Z"
   },
   {
    "duration": 14,
    "start_time": "2022-06-17T22:37:45.773Z"
   },
   {
    "duration": 7,
    "start_time": "2022-06-17T22:37:45.788Z"
   },
   {
    "duration": 25,
    "start_time": "2022-06-17T22:37:45.796Z"
   },
   {
    "duration": 8,
    "start_time": "2022-06-17T22:37:45.822Z"
   },
   {
    "duration": 12,
    "start_time": "2022-06-17T22:37:45.832Z"
   },
   {
    "duration": 21,
    "start_time": "2022-06-17T22:37:45.845Z"
   },
   {
    "duration": 10,
    "start_time": "2022-06-17T22:37:45.867Z"
   },
   {
    "duration": 5,
    "start_time": "2022-06-17T22:37:45.878Z"
   },
   {
    "duration": 11,
    "start_time": "2022-06-17T22:37:45.884Z"
   },
   {
    "duration": 12,
    "start_time": "2022-06-17T22:37:45.898Z"
   },
   {
    "duration": 10,
    "start_time": "2022-06-17T22:37:45.911Z"
   },
   {
    "duration": 18,
    "start_time": "2022-06-17T22:37:45.923Z"
   },
   {
    "duration": 549281,
    "start_time": "2022-06-17T22:37:45.942Z"
   },
   {
    "duration": 3627,
    "start_time": "2022-06-17T22:46:55.225Z"
   },
   {
    "duration": 242562,
    "start_time": "2022-06-17T22:46:58.854Z"
   },
   {
    "duration": 91015,
    "start_time": "2022-06-17T22:51:01.417Z"
   },
   {
    "duration": 3479,
    "start_time": "2022-06-17T22:52:32.434Z"
   },
   {
    "duration": 16132,
    "start_time": "2022-06-17T22:52:35.915Z"
   },
   {
    "duration": 1772,
    "start_time": "2022-06-17T22:52:52.051Z"
   },
   {
    "duration": 630,
    "start_time": "2022-06-17T22:52:53.825Z"
   },
   {
    "duration": 499,
    "start_time": "2022-06-17T22:52:54.459Z"
   },
   {
    "duration": 18205,
    "start_time": "2022-06-17T22:52:54.961Z"
   },
   {
    "duration": 0,
    "start_time": "2022-06-17T22:53:13.168Z"
   },
   {
    "duration": 0,
    "start_time": "2022-06-17T22:53:13.169Z"
   },
   {
    "duration": 0,
    "start_time": "2022-06-17T22:53:13.170Z"
   },
   {
    "duration": 1721,
    "start_time": "2022-06-18T18:44:32.887Z"
   },
   {
    "duration": 1752,
    "start_time": "2022-06-18T18:44:34.610Z"
   },
   {
    "duration": 1415,
    "start_time": "2022-06-18T18:44:36.363Z"
   },
   {
    "duration": 3208,
    "start_time": "2022-06-18T18:44:37.781Z"
   },
   {
    "duration": 303,
    "start_time": "2022-06-18T18:44:40.992Z"
   },
   {
    "duration": 10,
    "start_time": "2022-06-18T18:44:41.296Z"
   },
   {
    "duration": 34,
    "start_time": "2022-06-18T18:44:41.308Z"
   },
   {
    "duration": 382,
    "start_time": "2022-06-18T18:44:41.347Z"
   },
   {
    "duration": 21,
    "start_time": "2022-06-18T18:44:41.735Z"
   },
   {
    "duration": 248,
    "start_time": "2022-06-18T18:44:41.760Z"
   },
   {
    "duration": 1252,
    "start_time": "2022-06-18T18:44:42.010Z"
   },
   {
    "duration": 612,
    "start_time": "2022-06-18T18:44:43.263Z"
   },
   {
    "duration": 762,
    "start_time": "2022-06-18T18:44:43.878Z"
   },
   {
    "duration": 613,
    "start_time": "2022-06-18T18:44:44.642Z"
   },
   {
    "duration": 744,
    "start_time": "2022-06-18T18:44:45.258Z"
   },
   {
    "duration": 14307,
    "start_time": "2022-06-18T18:44:46.004Z"
   },
   {
    "duration": 31,
    "start_time": "2022-06-18T18:45:00.314Z"
   },
   {
    "duration": 837,
    "start_time": "2022-06-18T18:45:00.348Z"
   },
   {
    "duration": 16,
    "start_time": "2022-06-18T18:45:01.187Z"
   },
   {
    "duration": 33,
    "start_time": "2022-06-18T18:45:01.204Z"
   },
   {
    "duration": 25,
    "start_time": "2022-06-18T18:45:01.239Z"
   },
   {
    "duration": 8,
    "start_time": "2022-06-18T18:45:01.266Z"
   },
   {
    "duration": 13,
    "start_time": "2022-06-18T18:45:01.276Z"
   },
   {
    "duration": 19,
    "start_time": "2022-06-18T18:45:01.291Z"
   },
   {
    "duration": 43,
    "start_time": "2022-06-18T18:45:01.312Z"
   },
   {
    "duration": 26,
    "start_time": "2022-06-18T18:45:01.357Z"
   },
   {
    "duration": 24,
    "start_time": "2022-06-18T18:45:01.384Z"
   },
   {
    "duration": 60,
    "start_time": "2022-06-18T18:45:01.412Z"
   },
   {
    "duration": 21,
    "start_time": "2022-06-18T18:45:01.474Z"
   },
   {
    "duration": 61,
    "start_time": "2022-06-18T18:45:01.497Z"
   },
   {
    "duration": 8300,
    "start_time": "2022-06-18T18:45:01.560Z"
   },
   {
    "duration": 11453,
    "start_time": "2022-06-18T18:45:09.864Z"
   },
   {
    "duration": 1273,
    "start_time": "2022-06-18T21:14:29.288Z"
   },
   {
    "duration": 210,
    "start_time": "2022-06-18T21:14:30.563Z"
   },
   {
    "duration": 487,
    "start_time": "2022-06-18T21:14:30.775Z"
   },
   {
    "duration": 589,
    "start_time": "2022-06-18T21:14:31.264Z"
   },
   {
    "duration": 280,
    "start_time": "2022-06-18T21:14:31.855Z"
   },
   {
    "duration": 9,
    "start_time": "2022-06-18T21:14:32.138Z"
   },
   {
    "duration": 23,
    "start_time": "2022-06-18T21:14:32.149Z"
   },
   {
    "duration": 281,
    "start_time": "2022-06-18T21:14:32.173Z"
   },
   {
    "duration": 9,
    "start_time": "2022-06-18T21:14:32.456Z"
   },
   {
    "duration": 273,
    "start_time": "2022-06-18T21:14:32.467Z"
   },
   {
    "duration": 936,
    "start_time": "2022-06-18T21:14:32.742Z"
   },
   {
    "duration": 543,
    "start_time": "2022-06-18T21:14:33.681Z"
   },
   {
    "duration": 674,
    "start_time": "2022-06-18T21:14:34.235Z"
   },
   {
    "duration": 531,
    "start_time": "2022-06-18T21:14:34.911Z"
   },
   {
    "duration": 539,
    "start_time": "2022-06-18T21:14:35.444Z"
   },
   {
    "duration": 10583,
    "start_time": "2022-06-18T21:14:35.985Z"
   },
   {
    "duration": 19,
    "start_time": "2022-06-18T21:14:46.570Z"
   },
   {
    "duration": 673,
    "start_time": "2022-06-18T21:14:46.590Z"
   },
   {
    "duration": 14,
    "start_time": "2022-06-18T21:14:47.265Z"
   },
   {
    "duration": 12,
    "start_time": "2022-06-18T21:14:47.280Z"
   },
   {
    "duration": 23,
    "start_time": "2022-06-18T21:14:47.293Z"
   },
   {
    "duration": 16,
    "start_time": "2022-06-18T21:14:47.318Z"
   },
   {
    "duration": 7,
    "start_time": "2022-06-18T21:14:47.336Z"
   },
   {
    "duration": 7,
    "start_time": "2022-06-18T21:14:47.344Z"
   },
   {
    "duration": 5,
    "start_time": "2022-06-18T21:14:47.352Z"
   },
   {
    "duration": 6,
    "start_time": "2022-06-18T21:14:47.358Z"
   },
   {
    "duration": 9,
    "start_time": "2022-06-18T21:14:47.365Z"
   },
   {
    "duration": 2,
    "start_time": "2022-06-18T21:14:47.377Z"
   },
   {
    "duration": 5,
    "start_time": "2022-06-18T21:14:47.381Z"
   },
   {
    "duration": 5,
    "start_time": "2022-06-18T21:14:47.387Z"
   },
   {
    "duration": 7,
    "start_time": "2022-06-18T21:14:47.394Z"
   },
   {
    "duration": 0,
    "start_time": "2022-06-18T21:14:47.403Z"
   },
   {
    "duration": 0,
    "start_time": "2022-06-18T21:14:47.404Z"
   },
   {
    "duration": 0,
    "start_time": "2022-06-18T21:14:47.405Z"
   },
   {
    "duration": 0,
    "start_time": "2022-06-18T21:14:47.406Z"
   },
   {
    "duration": 0,
    "start_time": "2022-06-18T21:14:47.430Z"
   },
   {
    "duration": 0,
    "start_time": "2022-06-18T21:14:47.431Z"
   },
   {
    "duration": 0,
    "start_time": "2022-06-18T21:14:47.431Z"
   },
   {
    "duration": 0,
    "start_time": "2022-06-18T21:14:47.432Z"
   },
   {
    "duration": 0,
    "start_time": "2022-06-18T21:14:47.433Z"
   },
   {
    "duration": 0,
    "start_time": "2022-06-18T21:14:47.434Z"
   },
   {
    "duration": 0,
    "start_time": "2022-06-18T21:14:47.437Z"
   },
   {
    "duration": 0,
    "start_time": "2022-06-18T21:14:47.438Z"
   },
   {
    "duration": 0,
    "start_time": "2022-06-18T21:14:47.439Z"
   },
   {
    "duration": 1272,
    "start_time": "2022-06-18T21:31:28.058Z"
   },
   {
    "duration": 211,
    "start_time": "2022-06-18T21:31:29.335Z"
   },
   {
    "duration": 503,
    "start_time": "2022-06-18T21:31:29.547Z"
   },
   {
    "duration": 623,
    "start_time": "2022-06-18T21:31:30.053Z"
   },
   {
    "duration": 258,
    "start_time": "2022-06-18T21:31:30.678Z"
   },
   {
    "duration": 10,
    "start_time": "2022-06-18T21:31:30.938Z"
   },
   {
    "duration": 18,
    "start_time": "2022-06-18T21:31:30.949Z"
   },
   {
    "duration": 270,
    "start_time": "2022-06-18T21:31:30.969Z"
   },
   {
    "duration": 9,
    "start_time": "2022-06-18T21:31:31.243Z"
   },
   {
    "duration": 229,
    "start_time": "2022-06-18T21:31:31.255Z"
   },
   {
    "duration": 1001,
    "start_time": "2022-06-18T21:31:31.485Z"
   },
   {
    "duration": 590,
    "start_time": "2022-06-18T21:31:32.488Z"
   },
   {
    "duration": 666,
    "start_time": "2022-06-18T21:31:33.080Z"
   },
   {
    "duration": 529,
    "start_time": "2022-06-18T21:31:33.747Z"
   },
   {
    "duration": 521,
    "start_time": "2022-06-18T21:31:34.278Z"
   },
   {
    "duration": 10530,
    "start_time": "2022-06-18T21:31:34.800Z"
   },
   {
    "duration": 20,
    "start_time": "2022-06-18T21:31:45.331Z"
   },
   {
    "duration": 642,
    "start_time": "2022-06-18T21:31:45.353Z"
   },
   {
    "duration": 14,
    "start_time": "2022-06-18T21:31:45.997Z"
   },
   {
    "duration": 24,
    "start_time": "2022-06-18T21:31:46.013Z"
   },
   {
    "duration": 13,
    "start_time": "2022-06-18T21:31:46.038Z"
   },
   {
    "duration": 6,
    "start_time": "2022-06-18T21:31:46.053Z"
   },
   {
    "duration": 8,
    "start_time": "2022-06-18T21:31:46.060Z"
   },
   {
    "duration": 8,
    "start_time": "2022-06-18T21:31:46.069Z"
   },
   {
    "duration": 6,
    "start_time": "2022-06-18T21:31:46.078Z"
   },
   {
    "duration": 7,
    "start_time": "2022-06-18T21:31:46.085Z"
   },
   {
    "duration": 10,
    "start_time": "2022-06-18T21:31:46.094Z"
   },
   {
    "duration": 4,
    "start_time": "2022-06-18T21:31:46.107Z"
   },
   {
    "duration": 24,
    "start_time": "2022-06-18T21:31:46.112Z"
   },
   {
    "duration": 7,
    "start_time": "2022-06-18T21:31:46.137Z"
   },
   {
    "duration": 4687,
    "start_time": "2022-06-18T21:31:46.145Z"
   },
   {
    "duration": 9956,
    "start_time": "2022-06-18T21:31:50.923Z"
   },
   {
    "duration": 576635,
    "start_time": "2022-06-18T21:32:00.880Z"
   },
   {
    "duration": 5506,
    "start_time": "2022-06-18T21:41:37.517Z"
   },
   {
    "duration": 259449,
    "start_time": "2022-06-18T21:41:43.032Z"
   },
   {
    "duration": 98306,
    "start_time": "2022-06-18T21:46:02.482Z"
   },
   {
    "duration": 2827,
    "start_time": "2022-06-18T21:47:40.789Z"
   },
   {
    "duration": 1356,
    "start_time": "2022-06-18T22:03:55.604Z"
   },
   {
    "duration": 216,
    "start_time": "2022-06-18T22:03:56.962Z"
   },
   {
    "duration": 498,
    "start_time": "2022-06-18T22:03:57.180Z"
   },
   {
    "duration": 624,
    "start_time": "2022-06-18T22:03:57.680Z"
   },
   {
    "duration": 272,
    "start_time": "2022-06-18T22:03:58.306Z"
   },
   {
    "duration": 10,
    "start_time": "2022-06-18T22:03:58.579Z"
   },
   {
    "duration": 7,
    "start_time": "2022-06-18T22:03:58.590Z"
   },
   {
    "duration": 350,
    "start_time": "2022-06-18T22:03:58.599Z"
   },
   {
    "duration": 11,
    "start_time": "2022-06-18T22:03:58.951Z"
   },
   {
    "duration": 229,
    "start_time": "2022-06-18T22:03:58.965Z"
   },
   {
    "duration": 1049,
    "start_time": "2022-06-18T22:03:59.196Z"
   },
   {
    "duration": 572,
    "start_time": "2022-06-18T22:04:00.246Z"
   },
   {
    "duration": 737,
    "start_time": "2022-06-18T22:04:00.823Z"
   },
   {
    "duration": 584,
    "start_time": "2022-06-18T22:04:01.562Z"
   },
   {
    "duration": 594,
    "start_time": "2022-06-18T22:04:02.148Z"
   },
   {
    "duration": 13234,
    "start_time": "2022-06-18T22:04:02.749Z"
   },
   {
    "duration": 20,
    "start_time": "2022-06-18T22:04:15.985Z"
   },
   {
    "duration": 811,
    "start_time": "2022-06-18T22:04:16.007Z"
   },
   {
    "duration": 17,
    "start_time": "2022-06-18T22:04:16.819Z"
   },
   {
    "duration": 15,
    "start_time": "2022-06-18T22:04:16.838Z"
   },
   {
    "duration": 7,
    "start_time": "2022-06-18T22:04:16.856Z"
   },
   {
    "duration": 6,
    "start_time": "2022-06-18T22:04:16.864Z"
   },
   {
    "duration": 11,
    "start_time": "2022-06-18T22:04:16.872Z"
   },
   {
    "duration": 7,
    "start_time": "2022-06-18T22:04:16.884Z"
   },
   {
    "duration": 6,
    "start_time": "2022-06-18T22:04:16.893Z"
   },
   {
    "duration": 28,
    "start_time": "2022-06-18T22:04:16.900Z"
   },
   {
    "duration": 21,
    "start_time": "2022-06-18T22:04:16.929Z"
   },
   {
    "duration": 8,
    "start_time": "2022-06-18T22:04:16.956Z"
   },
   {
    "duration": 5,
    "start_time": "2022-06-18T22:04:16.966Z"
   },
   {
    "duration": 4,
    "start_time": "2022-06-18T22:04:16.973Z"
   },
   {
    "duration": 5455,
    "start_time": "2022-06-18T22:04:16.978Z"
   },
   {
    "duration": 10183,
    "start_time": "2022-06-18T22:04:22.434Z"
   },
   {
    "duration": 582495,
    "start_time": "2022-06-18T22:04:32.619Z"
   },
   {
    "duration": 5023,
    "start_time": "2022-06-18T22:14:15.116Z"
   },
   {
    "duration": 263366,
    "start_time": "2022-06-18T22:14:20.147Z"
   },
   {
    "duration": 73047,
    "start_time": "2022-06-18T22:18:43.515Z"
   },
   {
    "duration": 2027,
    "start_time": "2022-06-18T22:19:56.564Z"
   },
   {
    "duration": 17627,
    "start_time": "2022-06-18T22:19:58.592Z"
   },
   {
    "duration": 1422,
    "start_time": "2022-06-18T22:20:16.222Z"
   },
   {
    "duration": 884,
    "start_time": "2022-06-18T22:20:17.646Z"
   },
   {
    "duration": 597,
    "start_time": "2022-06-18T22:20:18.536Z"
   },
   {
    "duration": 3,
    "start_time": "2022-06-18T22:20:19.140Z"
   },
   {
    "duration": 498,
    "start_time": "2022-06-18T22:20:19.144Z"
   },
   {
    "duration": 1,
    "start_time": "2022-06-18T22:20:19.644Z"
   },
   {
    "duration": 0,
    "start_time": "2022-06-18T22:20:19.646Z"
   },
   {
    "duration": 0,
    "start_time": "2022-06-18T22:20:19.647Z"
   },
   {
    "duration": 31,
    "start_time": "2022-06-18T22:22:24.639Z"
   },
   {
    "duration": 15027,
    "start_time": "2022-06-18T22:26:18.646Z"
   },
   {
    "duration": 14747,
    "start_time": "2022-06-18T22:27:14.145Z"
   },
   {
    "duration": 14749,
    "start_time": "2022-06-18T22:28:09.600Z"
   },
   {
    "duration": 195,
    "start_time": "2022-06-18T22:29:00.643Z"
   },
   {
    "duration": 74106,
    "start_time": "2022-06-18T22:32:21.613Z"
   },
   {
    "duration": 820,
    "start_time": "2022-06-18T22:34:43.723Z"
   },
   {
    "duration": 814,
    "start_time": "2022-06-18T22:35:06.126Z"
   },
   {
    "duration": 48,
    "start_time": "2022-06-18T23:00:08.039Z"
   },
   {
    "duration": 1351,
    "start_time": "2022-06-18T23:02:28.510Z"
   },
   {
    "duration": 216,
    "start_time": "2022-06-18T23:03:06.351Z"
   },
   {
    "duration": 1333,
    "start_time": "2022-06-18T23:10:07.706Z"
   },
   {
    "duration": 230,
    "start_time": "2022-06-18T23:10:09.041Z"
   },
   {
    "duration": 518,
    "start_time": "2022-06-18T23:10:09.273Z"
   },
   {
    "duration": 609,
    "start_time": "2022-06-18T23:10:16.065Z"
   },
   {
    "duration": 266,
    "start_time": "2022-06-18T23:10:16.676Z"
   },
   {
    "duration": 11,
    "start_time": "2022-06-18T23:10:31.629Z"
   },
   {
    "duration": 11,
    "start_time": "2022-06-18T23:10:32.624Z"
   },
   {
    "duration": 309,
    "start_time": "2022-06-18T23:10:32.641Z"
   },
   {
    "duration": 1319,
    "start_time": "2022-06-18T23:15:49.479Z"
   },
   {
    "duration": 243,
    "start_time": "2022-06-18T23:15:50.800Z"
   },
   {
    "duration": 507,
    "start_time": "2022-06-18T23:15:51.044Z"
   },
   {
    "duration": 637,
    "start_time": "2022-06-18T23:15:51.553Z"
   },
   {
    "duration": 266,
    "start_time": "2022-06-18T23:15:52.192Z"
   },
   {
    "duration": 10,
    "start_time": "2022-06-18T23:15:52.460Z"
   },
   {
    "duration": 7,
    "start_time": "2022-06-18T23:15:52.471Z"
   },
   {
    "duration": 373,
    "start_time": "2022-06-18T23:15:52.480Z"
   },
   {
    "duration": 9,
    "start_time": "2022-06-18T23:15:52.856Z"
   },
   {
    "duration": 231,
    "start_time": "2022-06-18T23:15:52.868Z"
   },
   {
    "duration": 977,
    "start_time": "2022-06-18T23:15:53.100Z"
   },
   {
    "duration": 591,
    "start_time": "2022-06-18T23:15:54.079Z"
   },
   {
    "duration": 689,
    "start_time": "2022-06-18T23:15:54.673Z"
   },
   {
    "duration": 544,
    "start_time": "2022-06-18T23:15:55.365Z"
   },
   {
    "duration": 542,
    "start_time": "2022-06-18T23:15:55.910Z"
   },
   {
    "duration": 11541,
    "start_time": "2022-06-18T23:15:56.454Z"
   },
   {
    "duration": 19,
    "start_time": "2022-06-18T23:16:07.997Z"
   },
   {
    "duration": 688,
    "start_time": "2022-06-18T23:16:08.026Z"
   },
   {
    "duration": 22,
    "start_time": "2022-06-18T23:16:08.715Z"
   },
   {
    "duration": 9,
    "start_time": "2022-06-18T23:16:08.739Z"
   },
   {
    "duration": 11,
    "start_time": "2022-06-18T23:16:08.750Z"
   },
   {
    "duration": 6,
    "start_time": "2022-06-18T23:16:08.762Z"
   },
   {
    "duration": 14,
    "start_time": "2022-06-18T23:16:08.770Z"
   },
   {
    "duration": 7,
    "start_time": "2022-06-18T23:16:08.785Z"
   },
   {
    "duration": 7,
    "start_time": "2022-06-18T23:16:08.793Z"
   },
   {
    "duration": 5,
    "start_time": "2022-06-18T23:16:08.802Z"
   },
   {
    "duration": 12,
    "start_time": "2022-06-18T23:16:08.825Z"
   },
   {
    "duration": 4,
    "start_time": "2022-06-18T23:16:08.843Z"
   },
   {
    "duration": 7,
    "start_time": "2022-06-18T23:16:08.848Z"
   },
   {
    "duration": 6,
    "start_time": "2022-06-18T23:16:08.856Z"
   },
   {
    "duration": 4975,
    "start_time": "2022-06-18T23:16:08.864Z"
   },
   {
    "duration": 10297,
    "start_time": "2022-06-18T23:16:13.846Z"
   },
   {
    "duration": 581023,
    "start_time": "2022-06-18T23:16:24.145Z"
   },
   {
    "duration": 5559,
    "start_time": "2022-06-18T23:26:05.170Z"
   },
   {
    "duration": 263780,
    "start_time": "2022-06-18T23:26:10.735Z"
   },
   {
    "duration": 75799,
    "start_time": "2022-06-18T23:30:34.518Z"
   },
   {
    "duration": 5622,
    "start_time": "2022-06-18T23:31:50.319Z"
   },
   {
    "duration": 17911,
    "start_time": "2022-06-18T23:31:55.944Z"
   },
   {
    "duration": 294,
    "start_time": "2022-06-18T23:32:13.856Z"
   },
   {
    "duration": 974,
    "start_time": "2022-06-18T23:32:14.151Z"
   },
   {
    "duration": 494,
    "start_time": "2022-06-18T23:32:15.135Z"
   },
   {
    "duration": 3,
    "start_time": "2022-06-18T23:32:15.630Z"
   },
   {
    "duration": 878005,
    "start_time": "2022-06-18T23:32:15.635Z"
   },
   {
    "duration": 840836,
    "start_time": "2022-06-18T23:46:53.641Z"
   },
   {
    "duration": 41105,
    "start_time": "2022-06-19T00:00:54.478Z"
   },
   {
    "duration": 867,
    "start_time": "2022-06-19T00:01:35.584Z"
   },
   {
    "duration": 179,
    "start_time": "2022-06-19T00:01:36.454Z"
   },
   {
    "duration": 160,
    "start_time": "2022-06-19T00:01:36.635Z"
   },
   {
    "duration": 110170,
    "start_time": "2022-06-19T00:04:23.163Z"
   },
   {
    "duration": 353733,
    "start_time": "2022-06-19T00:06:28.269Z"
   },
   {
    "duration": 50,
    "start_time": "2022-06-19T00:13:26.047Z"
   },
   {
    "duration": 1472,
    "start_time": "2022-06-19T13:33:10.248Z"
   },
   {
    "duration": 516,
    "start_time": "2022-06-19T13:33:11.722Z"
   },
   {
    "duration": 1033,
    "start_time": "2022-06-19T13:33:12.240Z"
   },
   {
    "duration": 1952,
    "start_time": "2022-06-19T13:33:13.275Z"
   },
   {
    "duration": 249,
    "start_time": "2022-06-19T13:33:15.229Z"
   },
   {
    "duration": 9,
    "start_time": "2022-06-19T13:33:15.479Z"
   },
   {
    "duration": 6,
    "start_time": "2022-06-19T13:33:15.490Z"
   },
   {
    "duration": 385,
    "start_time": "2022-06-19T13:33:15.497Z"
   },
   {
    "duration": 9,
    "start_time": "2022-06-19T13:33:15.883Z"
   },
   {
    "duration": 222,
    "start_time": "2022-06-19T13:33:15.893Z"
   },
   {
    "duration": 941,
    "start_time": "2022-06-19T13:33:16.116Z"
   },
   {
    "duration": 545,
    "start_time": "2022-06-19T13:33:17.059Z"
   },
   {
    "duration": 685,
    "start_time": "2022-06-19T13:33:17.605Z"
   },
   {
    "duration": 533,
    "start_time": "2022-06-19T13:33:18.294Z"
   },
   {
    "duration": 667,
    "start_time": "2022-06-19T13:33:18.829Z"
   },
   {
    "duration": 11038,
    "start_time": "2022-06-19T13:33:19.498Z"
   },
   {
    "duration": 18,
    "start_time": "2022-06-19T13:33:30.538Z"
   },
   {
    "duration": 636,
    "start_time": "2022-06-19T13:33:30.557Z"
   },
   {
    "duration": 13,
    "start_time": "2022-06-19T13:33:31.195Z"
   },
   {
    "duration": 8,
    "start_time": "2022-06-19T13:33:31.209Z"
   },
   {
    "duration": 13,
    "start_time": "2022-06-19T13:33:31.218Z"
   },
   {
    "duration": 7,
    "start_time": "2022-06-19T13:33:31.233Z"
   },
   {
    "duration": 30,
    "start_time": "2022-06-19T13:33:31.241Z"
   },
   {
    "duration": 20,
    "start_time": "2022-06-19T13:33:31.272Z"
   },
   {
    "duration": 8,
    "start_time": "2022-06-19T13:33:31.293Z"
   },
   {
    "duration": 7,
    "start_time": "2022-06-19T13:33:31.303Z"
   },
   {
    "duration": 14,
    "start_time": "2022-06-19T13:33:31.312Z"
   },
   {
    "duration": 8,
    "start_time": "2022-06-19T13:33:31.327Z"
   },
   {
    "duration": 7,
    "start_time": "2022-06-19T13:33:31.337Z"
   },
   {
    "duration": 5,
    "start_time": "2022-06-19T13:33:31.346Z"
   },
   {
    "duration": 3919,
    "start_time": "2022-06-19T13:33:31.352Z"
   },
   {
    "duration": 9883,
    "start_time": "2022-06-19T13:33:35.273Z"
   },
   {
    "duration": 554140,
    "start_time": "2022-06-19T13:33:45.158Z"
   },
   {
    "duration": 4469,
    "start_time": "2022-06-19T13:42:59.300Z"
   },
   {
    "duration": 252142,
    "start_time": "2022-06-19T13:43:03.771Z"
   },
   {
    "duration": 70796,
    "start_time": "2022-06-19T13:47:15.914Z"
   },
   {
    "duration": 5362,
    "start_time": "2022-06-19T13:48:26.711Z"
   },
   {
    "duration": 17148,
    "start_time": "2022-06-19T13:48:32.075Z"
   },
   {
    "duration": 262,
    "start_time": "2022-06-19T13:48:49.224Z"
   },
   {
    "duration": 684,
    "start_time": "2022-06-19T13:48:49.488Z"
   },
   {
    "duration": 693,
    "start_time": "2022-06-19T13:48:50.177Z"
   },
   {
    "duration": 4,
    "start_time": "2022-06-19T13:48:50.876Z"
   },
   {
    "duration": 585754,
    "start_time": "2022-06-19T13:48:50.965Z"
   },
   {
    "duration": 833320,
    "start_time": "2022-06-19T13:58:36.721Z"
   },
   {
    "duration": 47545,
    "start_time": "2022-06-19T14:12:30.043Z"
   },
   {
    "duration": 738,
    "start_time": "2022-06-19T14:13:17.589Z"
   },
   {
    "duration": 57,
    "start_time": "2022-06-19T14:13:18.329Z"
   },
   {
    "duration": 252,
    "start_time": "2022-06-19T14:13:18.388Z"
   },
   {
    "duration": 242,
    "start_time": "2022-06-19T14:35:37.200Z"
   },
   {
    "duration": 614337,
    "start_time": "2022-06-19T14:54:25.946Z"
   },
   {
    "duration": 592413,
    "start_time": "2022-06-19T15:33:48.306Z"
   },
   {
    "duration": 484666,
    "start_time": "2022-06-19T15:47:54.351Z"
   },
   {
    "duration": 54786,
    "start_time": "2022-06-19T16:03:38.910Z"
   },
   {
    "duration": 300604,
    "start_time": "2022-06-19T16:11:58.283Z"
   },
   {
    "duration": 676437,
    "start_time": "2022-06-19T16:17:18.617Z"
   },
   {
    "duration": 1366464,
    "start_time": "2022-06-19T16:53:44.157Z"
   },
   {
    "duration": 1285,
    "start_time": "2022-06-19T17:39:21.939Z"
   },
   {
    "duration": 2423,
    "start_time": "2022-06-19T17:39:33.587Z"
   },
   {
    "duration": 18,
    "start_time": "2022-06-19T17:41:24.986Z"
   }
  ],
  "kernelspec": {
   "display_name": "Python 3 (ipykernel)",
   "language": "python",
   "name": "python3"
  },
  "language_info": {
   "codemirror_mode": {
    "name": "ipython",
    "version": 3
   },
   "file_extension": ".py",
   "mimetype": "text/x-python",
   "name": "python",
   "nbconvert_exporter": "python",
   "pygments_lexer": "ipython3",
   "version": "3.9.5"
  },
  "toc": {
   "base_numbering": 1,
   "nav_menu": {},
   "number_sections": true,
   "sideBar": true,
   "skip_h1_title": true,
   "title_cell": "Содержание",
   "title_sidebar": "Contents",
   "toc_cell": true,
   "toc_position": {
    "height": "calc(100% - 180px)",
    "left": "10px",
    "top": "150px",
    "width": "165px"
   },
   "toc_section_display": true,
   "toc_window_display": true
  }
 },
 "nbformat": 4,
 "nbformat_minor": 2
}
