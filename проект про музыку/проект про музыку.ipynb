{
 "cells": [
  {
   "cell_type": "markdown",
   "metadata": {
    "id": "E0vqbgi9ay0H"
   },
   "source": [
    "# Яндекс.Музыка"
   ]
  },
  {
   "cell_type": "markdown",
   "metadata": {
    "id": "VUC88oWjTJw2"
   },
   "source": [
    "Сравнение Москвы и Петербурга окружено мифами. Например:\n",
    " * Москва — мегаполис, подчинённый жёсткому ритму рабочей недели;\n",
    " * Петербург — культурная столица, со своими вкусами.\n",
    "\n",
    "На данных Яндекс.Музыки сравним поведение пользователей двух столиц.\n",
    "\n",
    "**Цель исследования** — проверить три гипотезы:\n",
    "1. Активность пользователей зависит от дня недели. Причём в Москве и Петербурге это проявляется по-разному.\n",
    "2. В понедельник утром в Москве преобладают одни жанры, а в Петербурге — другие. Так же и вечером пятницы преобладают разные жанры — в зависимости от города. \n",
    "3. Москва и Петербург предпочитают разные жанры музыки. В Москве чаще слушают поп-музыку, в Петербурге — русский рэп.\n",
    "\n",
    "**Ход исследования**\n",
    " 1. Обзор данных.\n",
    " 2. Предобработка данных.\n",
    " 3. Проверка гипотез.\n",
    "\n"
   ]
  },
  {
   "cell_type": "markdown",
   "metadata": {
    "id": "Ml1hmfXC_Zcs"
   },
   "source": [
    "## Обзор данных\n",
    "\n",
    "Составим первое представление о данных Яндекс.Музыки.\n",
    "\n",
    "\n"
   ]
  },
  {
   "cell_type": "code",
   "execution_count": 1,
   "metadata": {
    "id": "AXN7PHPN_Zcs"
   },
   "outputs": [],
   "source": [
    "import pandas as pd# импорт библиотеки pandas"
   ]
  },
  {
   "cell_type": "code",
   "execution_count": 2,
   "metadata": {
    "id": "fFVu7vqh_Zct"
   },
   "outputs": [],
   "source": [
    "df = pd.read_csv('/datasets/yandex_music_project.csv')# чтение файла с данными и сохранение в df"
   ]
  },
  {
   "cell_type": "markdown",
   "metadata": {
    "id": "rDoOMd3uTqnZ"
   },
   "source": [
    "Выведем на экран первые десять строк таблицы:"
   ]
  },
  {
   "cell_type": "code",
   "execution_count": 3,
   "metadata": {
    "id": "oWTVX3gW_Zct"
   },
   "outputs": [
    {
     "data": {
      "text/html": [
       "<div>\n",
       "<style scoped>\n",
       "    .dataframe tbody tr th:only-of-type {\n",
       "        vertical-align: middle;\n",
       "    }\n",
       "\n",
       "    .dataframe tbody tr th {\n",
       "        vertical-align: top;\n",
       "    }\n",
       "\n",
       "    .dataframe thead th {\n",
       "        text-align: right;\n",
       "    }\n",
       "</style>\n",
       "<table border=\"1\" class=\"dataframe\">\n",
       "  <thead>\n",
       "    <tr style=\"text-align: right;\">\n",
       "      <th></th>\n",
       "      <th>userID</th>\n",
       "      <th>Track</th>\n",
       "      <th>artist</th>\n",
       "      <th>genre</th>\n",
       "      <th>City</th>\n",
       "      <th>time</th>\n",
       "      <th>Day</th>\n",
       "    </tr>\n",
       "  </thead>\n",
       "  <tbody>\n",
       "    <tr>\n",
       "      <th>0</th>\n",
       "      <td>FFB692EC</td>\n",
       "      <td>Kamigata To Boots</td>\n",
       "      <td>The Mass Missile</td>\n",
       "      <td>rock</td>\n",
       "      <td>Saint-Petersburg</td>\n",
       "      <td>20:28:33</td>\n",
       "      <td>Wednesday</td>\n",
       "    </tr>\n",
       "    <tr>\n",
       "      <th>1</th>\n",
       "      <td>55204538</td>\n",
       "      <td>Delayed Because of Accident</td>\n",
       "      <td>Andreas Rönnberg</td>\n",
       "      <td>rock</td>\n",
       "      <td>Moscow</td>\n",
       "      <td>14:07:09</td>\n",
       "      <td>Friday</td>\n",
       "    </tr>\n",
       "    <tr>\n",
       "      <th>2</th>\n",
       "      <td>20EC38</td>\n",
       "      <td>Funiculì funiculà</td>\n",
       "      <td>Mario Lanza</td>\n",
       "      <td>pop</td>\n",
       "      <td>Saint-Petersburg</td>\n",
       "      <td>20:58:07</td>\n",
       "      <td>Wednesday</td>\n",
       "    </tr>\n",
       "    <tr>\n",
       "      <th>3</th>\n",
       "      <td>A3DD03C9</td>\n",
       "      <td>Dragons in the Sunset</td>\n",
       "      <td>Fire + Ice</td>\n",
       "      <td>folk</td>\n",
       "      <td>Saint-Petersburg</td>\n",
       "      <td>08:37:09</td>\n",
       "      <td>Monday</td>\n",
       "    </tr>\n",
       "    <tr>\n",
       "      <th>4</th>\n",
       "      <td>E2DC1FAE</td>\n",
       "      <td>Soul People</td>\n",
       "      <td>Space Echo</td>\n",
       "      <td>dance</td>\n",
       "      <td>Moscow</td>\n",
       "      <td>08:34:34</td>\n",
       "      <td>Monday</td>\n",
       "    </tr>\n",
       "    <tr>\n",
       "      <th>5</th>\n",
       "      <td>842029A1</td>\n",
       "      <td>Преданная</td>\n",
       "      <td>IMPERVTOR</td>\n",
       "      <td>rusrap</td>\n",
       "      <td>Saint-Petersburg</td>\n",
       "      <td>13:09:41</td>\n",
       "      <td>Friday</td>\n",
       "    </tr>\n",
       "    <tr>\n",
       "      <th>6</th>\n",
       "      <td>4CB90AA5</td>\n",
       "      <td>True</td>\n",
       "      <td>Roman Messer</td>\n",
       "      <td>dance</td>\n",
       "      <td>Moscow</td>\n",
       "      <td>13:00:07</td>\n",
       "      <td>Wednesday</td>\n",
       "    </tr>\n",
       "    <tr>\n",
       "      <th>7</th>\n",
       "      <td>F03E1C1F</td>\n",
       "      <td>Feeling This Way</td>\n",
       "      <td>Polina Griffith</td>\n",
       "      <td>dance</td>\n",
       "      <td>Moscow</td>\n",
       "      <td>20:47:49</td>\n",
       "      <td>Wednesday</td>\n",
       "    </tr>\n",
       "    <tr>\n",
       "      <th>8</th>\n",
       "      <td>8FA1D3BE</td>\n",
       "      <td>И вновь продолжается бой</td>\n",
       "      <td>NaN</td>\n",
       "      <td>ruspop</td>\n",
       "      <td>Moscow</td>\n",
       "      <td>09:17:40</td>\n",
       "      <td>Friday</td>\n",
       "    </tr>\n",
       "    <tr>\n",
       "      <th>9</th>\n",
       "      <td>E772D5C0</td>\n",
       "      <td>Pessimist</td>\n",
       "      <td>NaN</td>\n",
       "      <td>dance</td>\n",
       "      <td>Saint-Petersburg</td>\n",
       "      <td>21:20:49</td>\n",
       "      <td>Wednesday</td>\n",
       "    </tr>\n",
       "  </tbody>\n",
       "</table>\n",
       "</div>"
      ],
      "text/plain": [
       "     userID                        Track            artist   genre  \\\n",
       "0  FFB692EC            Kamigata To Boots  The Mass Missile    rock   \n",
       "1  55204538  Delayed Because of Accident  Andreas Rönnberg    rock   \n",
       "2    20EC38            Funiculì funiculà       Mario Lanza     pop   \n",
       "3  A3DD03C9        Dragons in the Sunset        Fire + Ice    folk   \n",
       "4  E2DC1FAE                  Soul People        Space Echo   dance   \n",
       "5  842029A1                    Преданная         IMPERVTOR  rusrap   \n",
       "6  4CB90AA5                         True      Roman Messer   dance   \n",
       "7  F03E1C1F             Feeling This Way   Polina Griffith   dance   \n",
       "8  8FA1D3BE     И вновь продолжается бой               NaN  ruspop   \n",
       "9  E772D5C0                    Pessimist               NaN   dance   \n",
       "\n",
       "             City        time        Day  \n",
       "0  Saint-Petersburg  20:28:33  Wednesday  \n",
       "1            Moscow  14:07:09     Friday  \n",
       "2  Saint-Petersburg  20:58:07  Wednesday  \n",
       "3  Saint-Petersburg  08:37:09     Monday  \n",
       "4            Moscow  08:34:34     Monday  \n",
       "5  Saint-Petersburg  13:09:41     Friday  \n",
       "6            Moscow  13:00:07  Wednesday  \n",
       "7            Moscow  20:47:49  Wednesday  \n",
       "8            Moscow  09:17:40     Friday  \n",
       "9  Saint-Petersburg  21:20:49  Wednesday  "
      ]
     },
     "execution_count": 3,
     "metadata": {},
     "output_type": "execute_result"
    }
   ],
   "source": [
    "df.head(10)# получение первых 10 строк таблицы df"
   ]
  },
  {
   "cell_type": "code",
   "execution_count": 4,
   "metadata": {
    "id": "DSf2kIb-_Zct"
   },
   "outputs": [
    {
     "name": "stdout",
     "output_type": "stream",
     "text": [
      "<class 'pandas.core.frame.DataFrame'>\n",
      "RangeIndex: 65079 entries, 0 to 65078\n",
      "Data columns (total 7 columns):\n",
      " #   Column    Non-Null Count  Dtype \n",
      "---  ------    --------------  ----- \n",
      " 0     userID  65079 non-null  object\n",
      " 1   Track     63848 non-null  object\n",
      " 2   artist    57876 non-null  object\n",
      " 3   genre     63881 non-null  object\n",
      " 4     City    65079 non-null  object\n",
      " 5   time      65079 non-null  object\n",
      " 6   Day       65079 non-null  object\n",
      "dtypes: object(7)\n",
      "memory usage: 3.5+ MB\n"
     ]
    }
   ],
   "source": [
    "df.info()# получение общей информации о данных в таблице df"
   ]
  },
  {
   "cell_type": "markdown",
   "metadata": {
    "id": "TaQ2Iwbr_Zct"
   },
   "source": [
    "Итак, в таблице семь столбцов. Тип данных во всех столбцах — `object`.\n",
    "\n",
    "Согласно документации к данным:\n",
    "* `userID` — идентификатор пользователя;\n",
    "* `Track` — название трека;  \n",
    "* `artist` — имя исполнителя;\n",
    "* `genre` — название жанра;\n",
    "* `City` — город пользователя;\n",
    "* `time` — время начала прослушивания;\n",
    "* `Day` — день недели.\n",
    "\n",
    "В названиях колонок видны три нарушения стиля:\n",
    "1. Строчные буквы сочетаются с прописными.\n",
    "2. Встречаются пробелы.\n",
    "3. Слитное написание выражений, как в userID вместо user_id #Найдите ещё одну проблему в названии колонок и опишите её в этом пункте.\n",
    "\n",
    "\n",
    "\n",
    "Количество значений в столбцах различается. Значит, в данных есть пропущенные значения.\n"
   ]
  },
  {
   "cell_type": "markdown",
   "metadata": {
    "id": "MCB6-dXG_Zct"
   },
   "source": [
    "**Выводы по обзору данных**\n",
    "\n",
    "В каждой строке таблицы — данные о прослушанном треке. Часть колонок описывает саму композицию: название, исполнителя и жанр. Остальные данные рассказывают о пользователе: из какого он города, когда он слушал музыку. \n",
    "\n",
    "Предварительно можно утверждать, что, данных достаточно для проверки гипотез. Но встречаются пропуски в данных, а в названиях колонок — расхождения с хорошим стилем.\n",
    "\n",
    "Чтобы двигаться дальше, нужно устранить проблемы в данных."
   ]
  },
  {
   "cell_type": "markdown",
   "metadata": {
    "id": "SjYF6Ub9_Zct"
   },
   "source": [
    "## Предобработка данных\n",
    "Исправим стиль в заголовках столбцов, исключим пропуски. Затем проверим данные на дубликаты."
   ]
  },
  {
   "cell_type": "markdown",
   "metadata": {
    "id": "dIaKXr29_Zct"
   },
   "source": [
    "### Стиль заголовков"
   ]
  },
  {
   "cell_type": "code",
   "execution_count": 5,
   "metadata": {
    "id": "oKOTdF_Q_Zct"
   },
   "outputs": [
    {
     "data": {
      "text/plain": [
       "Index(['  userID', 'Track', 'artist', 'genre', '  City  ', 'time', 'Day'], dtype='object')"
      ]
     },
     "execution_count": 5,
     "metadata": {},
     "output_type": "execute_result"
    }
   ],
   "source": [
    "df.columns# перечень названий столбцов таблицы df"
   ]
  },
  {
   "cell_type": "markdown",
   "metadata": {
    "id": "zj5534cv_Zct"
   },
   "source": [
    "Приведем названия в соответствие с хорошим стилем:\n",
    "* несколько слов в названии запишем в «змеином_регистре»,\n",
    "* все символы сделаем строчными,\n",
    "* устраним пробелы."
   ]
  },
  {
   "cell_type": "code",
   "execution_count": 6,
   "metadata": {
    "id": "ISlFqs5y_Zct"
   },
   "outputs": [],
   "source": [
    "df=df.rename(columns={'  userID' : 'user_id','Track' : 'track', '  City  ' : 'city', 'Day' : 'day'})# переименование столбцов"
   ]
  },
  {
   "cell_type": "markdown",
   "metadata": {
    "id": "1dqbh00J_Zct"
   },
   "source": [
    "Проверим результат. Для этого ещё раз выведем на экран названия столбцов:"
   ]
  },
  {
   "cell_type": "code",
   "execution_count": 7,
   "metadata": {
    "id": "d4NOAmTW_Zct"
   },
   "outputs": [
    {
     "data": {
      "text/plain": [
       "Index(['user_id', 'track', 'artist', 'genre', 'city', 'time', 'day'], dtype='object')"
      ]
     },
     "execution_count": 7,
     "metadata": {},
     "output_type": "execute_result"
    }
   ],
   "source": [
    "df.columns# проверка результатов - перечень названий столбцов"
   ]
  },
  {
   "cell_type": "markdown",
   "metadata": {
    "id": "5ISfbcfY_Zct"
   },
   "source": [
    "### Пропуски значений\n",
    "Посчитаем, сколько в таблице пропущенных значений."
   ]
  },
  {
   "cell_type": "code",
   "execution_count": 8,
   "metadata": {
    "id": "RskX29qr_Zct"
   },
   "outputs": [
    {
     "data": {
      "text/plain": [
       "user_id       0\n",
       "track      1231\n",
       "artist     7203\n",
       "genre      1198\n",
       "city          0\n",
       "time          0\n",
       "day           0\n",
       "dtype: int64"
      ]
     },
     "metadata": {},
     "output_type": "display_data"
    }
   ],
   "source": [
    "display(df.isna().sum())# подсчёт пропусков"
   ]
  },
  {
   "cell_type": "markdown",
   "metadata": {
    "id": "qubhgnlO_Zct"
   },
   "source": [
    "Не все пропущенные значения влияют на исследование. Так в `track` и `artist` пропуски не важны для этой работы. Достаточно заменить их явными обозначениями.\n",
    "\n",
    "Но пропуски в `genre` могут помешать сравнению музыкальных вкусов в Москве и Санкт-Петербурге. На практике было бы правильно установить причину пропусков и восстановить данные. Такой возможности нет в учебном проекте. Придётся:\n",
    "* заполнить и эти пропуски явными обозначениями,\n",
    "* оценить, насколько они повредят расчётам. "
   ]
  },
  {
   "cell_type": "markdown",
   "metadata": {
    "id": "fSv2laPA_Zct"
   },
   "source": [
    "Заменим пропущенные значения в столбцах `track`, `artist` и `genre` на строку `'unknown'`."
   ]
  },
  {
   "cell_type": "code",
   "execution_count": 9,
   "metadata": {
    "id": "KplB5qWs_Zct"
   },
   "outputs": [],
   "source": [
    "columns_to_replace=['track', 'artist', 'genre']\n",
    "for column in columns_to_replace:\n",
    "    df[column]=df[column].fillna('unknown')# перебор названий столбцов в цикле и замена пропущенных значений на 'unknown'"
   ]
  },
  {
   "cell_type": "markdown",
   "metadata": {
    "id": "Ilsm-MZo_Zct"
   },
   "source": [
    "Убедимся, что в таблице не осталось пропусков. Для этого ещё раз посчитаем пропущенные значения."
   ]
  },
  {
   "cell_type": "code",
   "execution_count": 10,
   "metadata": {
    "id": "Tq4nYRX4_Zct"
   },
   "outputs": [
    {
     "data": {
      "text/plain": [
       "user_id    0\n",
       "track      0\n",
       "artist     0\n",
       "genre      0\n",
       "city       0\n",
       "time       0\n",
       "day        0\n",
       "dtype: int64"
      ]
     },
     "execution_count": 10,
     "metadata": {},
     "output_type": "execute_result"
    }
   ],
   "source": [
    "df.isna().sum()# подсчёт пропусков"
   ]
  },
  {
   "cell_type": "markdown",
   "metadata": {
    "id": "BWKRtBJ3_Zct"
   },
   "source": [
    "### Дубликаты\n",
    "Посчитаем явные дубликаты в таблице"
   ]
  },
  {
   "cell_type": "code",
   "execution_count": 11,
   "metadata": {
    "id": "36eES_S0_Zct"
   },
   "outputs": [
    {
     "data": {
      "text/plain": [
       "3826"
      ]
     },
     "execution_count": 11,
     "metadata": {},
     "output_type": "execute_result"
    }
   ],
   "source": [
    "df.duplicated().sum()# подсчёт явных дубликатов"
   ]
  },
  {
   "cell_type": "code",
   "execution_count": 12,
   "metadata": {
    "id": "exFHq6tt_Zct"
   },
   "outputs": [],
   "source": [
    "df = df.drop_duplicates().reset_index(drop=True)# удаление явных дубликатов (с удалением старых индексов и формированием новых)"
   ]
  },
  {
   "cell_type": "markdown",
   "metadata": {
    "id": "Im2YwBEG_Zct"
   },
   "source": [
    "Ещё раз посчитаем явные дубликаты в таблице — убедимся, что полностью от них избавились:"
   ]
  },
  {
   "cell_type": "code",
   "execution_count": 13,
   "metadata": {
    "id": "-8PuNWQ0_Zct"
   },
   "outputs": [
    {
     "data": {
      "text/plain": [
       "0"
      ]
     },
     "execution_count": 13,
     "metadata": {},
     "output_type": "execute_result"
    }
   ],
   "source": [
    "df.duplicated().sum()# проверка на отсутствие дубликатов"
   ]
  },
  {
   "cell_type": "markdown",
   "metadata": {
    "id": "QlFBsxAr_Zct"
   },
   "source": [
    "Теперь избавимся от неявных дубликатов в колонке `genre`. Например, название одного и того же жанра может быть записано немного по-разному. Такие ошибки тоже повлияют на результат исследования."
   ]
  },
  {
   "cell_type": "markdown",
   "metadata": {
    "id": "eSjWwsOh_Zct"
   },
   "source": [
    "Выведем на экран список уникальных названий жанров, отсортированный в алфавитном порядке. Для этого:\n",
    "* извлечем нужный столбец датафрейма, \n",
    "* применим к нему метод сортировки"
   ]
  },
  {
   "cell_type": "code",
   "execution_count": 14,
   "metadata": {
    "id": "JIUcqzZN_Zct"
   },
   "outputs": [
    {
     "data": {
      "text/plain": [
       "array(['acid', 'acoustic', 'action', 'adult', 'africa', 'afrikaans',\n",
       "       'alternative', 'alternativepunk', 'ambient', 'americana',\n",
       "       'animated', 'anime', 'arabesk', 'arabic', 'arena',\n",
       "       'argentinetango', 'art', 'audiobook', 'author', 'avantgarde',\n",
       "       'axé', 'baile', 'balkan', 'beats', 'bigroom', 'black', 'bluegrass',\n",
       "       'blues', 'bollywood', 'bossa', 'brazilian', 'breakbeat', 'breaks',\n",
       "       'broadway', 'cantautori', 'cantopop', 'canzone', 'caribbean',\n",
       "       'caucasian', 'celtic', 'chamber', 'chanson', 'children', 'chill',\n",
       "       'chinese', 'choral', 'christian', 'christmas', 'classical',\n",
       "       'classicmetal', 'club', 'colombian', 'comedy', 'conjazz',\n",
       "       'contemporary', 'country', 'cuban', 'dance', 'dancehall',\n",
       "       'dancepop', 'dark', 'death', 'deep', 'deutschrock', 'deutschspr',\n",
       "       'dirty', 'disco', 'dnb', 'documentary', 'downbeat', 'downtempo',\n",
       "       'drum', 'dub', 'dubstep', 'eastern', 'easy', 'electronic',\n",
       "       'electropop', 'emo', 'entehno', 'epicmetal', 'estrada', 'ethnic',\n",
       "       'eurofolk', 'european', 'experimental', 'extrememetal', 'fado',\n",
       "       'fairytail', 'film', 'fitness', 'flamenco', 'folk', 'folklore',\n",
       "       'folkmetal', 'folkrock', 'folktronica', 'forró', 'frankreich',\n",
       "       'französisch', 'french', 'funk', 'future', 'gangsta', 'garage',\n",
       "       'german', 'ghazal', 'gitarre', 'glitch', 'gospel', 'gothic',\n",
       "       'grime', 'grunge', 'gypsy', 'handsup', \"hard'n'heavy\", 'hardcore',\n",
       "       'hardstyle', 'hardtechno', 'hip', 'hip-hop', 'hiphop',\n",
       "       'historisch', 'holiday', 'hop', 'horror', 'house', 'hymn', 'idm',\n",
       "       'independent', 'indian', 'indie', 'indipop', 'industrial',\n",
       "       'inspirational', 'instrumental', 'international', 'irish', 'jam',\n",
       "       'japanese', 'jazz', 'jewish', 'jpop', 'jungle', 'k-pop',\n",
       "       'karadeniz', 'karaoke', 'kayokyoku', 'korean', 'laiko', 'latin',\n",
       "       'latino', 'leftfield', 'local', 'lounge', 'loungeelectronic',\n",
       "       'lovers', 'malaysian', 'mandopop', 'marschmusik', 'meditative',\n",
       "       'mediterranean', 'melodic', 'metal', 'metalcore', 'mexican',\n",
       "       'middle', 'minimal', 'miscellaneous', 'modern', 'mood', 'mpb',\n",
       "       'muslim', 'native', 'neoklassik', 'neue', 'new', 'newage',\n",
       "       'newwave', 'nu', 'nujazz', 'numetal', 'oceania', 'old', 'opera',\n",
       "       'orchestral', 'other', 'piano', 'podcasts', 'pop', 'popdance',\n",
       "       'popelectronic', 'popeurodance', 'poprussian', 'post',\n",
       "       'posthardcore', 'postrock', 'power', 'progmetal', 'progressive',\n",
       "       'psychedelic', 'punjabi', 'punk', 'quebecois', 'ragga', 'ram',\n",
       "       'rancheras', 'rap', 'rave', 'reggae', 'reggaeton', 'regional',\n",
       "       'relax', 'religious', 'retro', 'rhythm', 'rnb', 'rnr', 'rock',\n",
       "       'rockabilly', 'rockalternative', 'rockindie', 'rockother',\n",
       "       'romance', 'roots', 'ruspop', 'rusrap', 'rusrock', 'russian',\n",
       "       'salsa', 'samba', 'scenic', 'schlager', 'self', 'sertanejo',\n",
       "       'shanson', 'shoegazing', 'showtunes', 'singer', 'ska', 'skarock',\n",
       "       'slow', 'smooth', 'soft', 'soul', 'soulful', 'sound', 'soundtrack',\n",
       "       'southern', 'specialty', 'speech', 'spiritual', 'sport',\n",
       "       'stonerrock', 'surf', 'swing', 'synthpop', 'synthrock',\n",
       "       'sängerportrait', 'tango', 'tanzorchester', 'taraftar', 'tatar',\n",
       "       'tech', 'techno', 'teen', 'thrash', 'top', 'traditional',\n",
       "       'tradjazz', 'trance', 'tribal', 'trip', 'triphop', 'tropical',\n",
       "       'türk', 'türkçe', 'ukrrock', 'unknown', 'urban', 'uzbek',\n",
       "       'variété', 'vi', 'videogame', 'vocal', 'western', 'world',\n",
       "       'worldbeat', 'ïîï', 'электроника'], dtype=object)"
      ]
     },
     "execution_count": 14,
     "metadata": {},
     "output_type": "execute_result"
    }
   ],
   "source": [
    "df['genre'].sort_values().unique()# Просмотр уникальных названий жанров"
   ]
  },
  {
   "cell_type": "markdown",
   "metadata": {
    "id": "qej-Qmuo_Zct"
   },
   "source": [
    "Просмотрим список и найдем неявные дубликаты названия `hiphop` и напишем функцию для их замены.\n"
   ]
  },
  {
   "cell_type": "code",
   "execution_count": 15,
   "metadata": {
    "id": "ErNDkmns_Zct"
   },
   "outputs": [],
   "source": [
    "def replace_wrong_genres(wrong_genres, correct_genre):\n",
    "    for wrong_genre in wrong_genres:\n",
    "        df['genre']=df['genre'].replace(wrong_genre, correct_genre)\n",
    "        \n",
    "# Функция для замены неявных дубликатов"
   ]
  },
  {
   "cell_type": "markdown",
   "metadata": {
    "id": "aDoBJxbA_Zct"
   },
   "source": [
    "Вызовем нашу функцию `replace_wrong_genres()` и передадим ей такие аргументы, чтобы она устранила неявные дубликаты:"
   ]
  },
  {
   "cell_type": "code",
   "execution_count": 16,
   "metadata": {
    "id": "YN5i2hpmSo09"
   },
   "outputs": [],
   "source": [
    "wrong_genre = ['hip', 'hop', 'hip-hop']\n",
    "correct_genre = 'hiphop'\n",
    "replace_wrong_genres(wrong_genre, correct_genre)# Устранение неявных дубликатов"
   ]
  },
  {
   "cell_type": "markdown",
   "metadata": {
    "id": "zQKF16_RG15m"
   },
   "source": [
    "Проверим, как прошла замена неправильных названий. Выведем отсортированный список уникальных значений столбца `genre`"
   ]
  },
  {
   "cell_type": "code",
   "execution_count": 17,
   "metadata": {
    "id": "wvixALnFG15m"
   },
   "outputs": [
    {
     "data": {
      "text/plain": [
       "array(['acid', 'acoustic', 'action', 'adult', 'africa', 'afrikaans',\n",
       "       'alternative', 'alternativepunk', 'ambient', 'americana',\n",
       "       'animated', 'anime', 'arabesk', 'arabic', 'arena',\n",
       "       'argentinetango', 'art', 'audiobook', 'author', 'avantgarde',\n",
       "       'axé', 'baile', 'balkan', 'beats', 'bigroom', 'black', 'bluegrass',\n",
       "       'blues', 'bollywood', 'bossa', 'brazilian', 'breakbeat', 'breaks',\n",
       "       'broadway', 'cantautori', 'cantopop', 'canzone', 'caribbean',\n",
       "       'caucasian', 'celtic', 'chamber', 'chanson', 'children', 'chill',\n",
       "       'chinese', 'choral', 'christian', 'christmas', 'classical',\n",
       "       'classicmetal', 'club', 'colombian', 'comedy', 'conjazz',\n",
       "       'contemporary', 'country', 'cuban', 'dance', 'dancehall',\n",
       "       'dancepop', 'dark', 'death', 'deep', 'deutschrock', 'deutschspr',\n",
       "       'dirty', 'disco', 'dnb', 'documentary', 'downbeat', 'downtempo',\n",
       "       'drum', 'dub', 'dubstep', 'eastern', 'easy', 'electronic',\n",
       "       'electropop', 'emo', 'entehno', 'epicmetal', 'estrada', 'ethnic',\n",
       "       'eurofolk', 'european', 'experimental', 'extrememetal', 'fado',\n",
       "       'fairytail', 'film', 'fitness', 'flamenco', 'folk', 'folklore',\n",
       "       'folkmetal', 'folkrock', 'folktronica', 'forró', 'frankreich',\n",
       "       'französisch', 'french', 'funk', 'future', 'gangsta', 'garage',\n",
       "       'german', 'ghazal', 'gitarre', 'glitch', 'gospel', 'gothic',\n",
       "       'grime', 'grunge', 'gypsy', 'handsup', \"hard'n'heavy\", 'hardcore',\n",
       "       'hardstyle', 'hardtechno', 'hiphop', 'historisch', 'holiday',\n",
       "       'horror', 'house', 'hymn', 'idm', 'independent', 'indian', 'indie',\n",
       "       'indipop', 'industrial', 'inspirational', 'instrumental',\n",
       "       'international', 'irish', 'jam', 'japanese', 'jazz', 'jewish',\n",
       "       'jpop', 'jungle', 'k-pop', 'karadeniz', 'karaoke', 'kayokyoku',\n",
       "       'korean', 'laiko', 'latin', 'latino', 'leftfield', 'local',\n",
       "       'lounge', 'loungeelectronic', 'lovers', 'malaysian', 'mandopop',\n",
       "       'marschmusik', 'meditative', 'mediterranean', 'melodic', 'metal',\n",
       "       'metalcore', 'mexican', 'middle', 'minimal', 'miscellaneous',\n",
       "       'modern', 'mood', 'mpb', 'muslim', 'native', 'neoklassik', 'neue',\n",
       "       'new', 'newage', 'newwave', 'nu', 'nujazz', 'numetal', 'oceania',\n",
       "       'old', 'opera', 'orchestral', 'other', 'piano', 'podcasts', 'pop',\n",
       "       'popdance', 'popelectronic', 'popeurodance', 'poprussian', 'post',\n",
       "       'posthardcore', 'postrock', 'power', 'progmetal', 'progressive',\n",
       "       'psychedelic', 'punjabi', 'punk', 'quebecois', 'ragga', 'ram',\n",
       "       'rancheras', 'rap', 'rave', 'reggae', 'reggaeton', 'regional',\n",
       "       'relax', 'religious', 'retro', 'rhythm', 'rnb', 'rnr', 'rock',\n",
       "       'rockabilly', 'rockalternative', 'rockindie', 'rockother',\n",
       "       'romance', 'roots', 'ruspop', 'rusrap', 'rusrock', 'russian',\n",
       "       'salsa', 'samba', 'scenic', 'schlager', 'self', 'sertanejo',\n",
       "       'shanson', 'shoegazing', 'showtunes', 'singer', 'ska', 'skarock',\n",
       "       'slow', 'smooth', 'soft', 'soul', 'soulful', 'sound', 'soundtrack',\n",
       "       'southern', 'specialty', 'speech', 'spiritual', 'sport',\n",
       "       'stonerrock', 'surf', 'swing', 'synthpop', 'synthrock',\n",
       "       'sängerportrait', 'tango', 'tanzorchester', 'taraftar', 'tatar',\n",
       "       'tech', 'techno', 'teen', 'thrash', 'top', 'traditional',\n",
       "       'tradjazz', 'trance', 'tribal', 'trip', 'triphop', 'tropical',\n",
       "       'türk', 'türkçe', 'ukrrock', 'unknown', 'urban', 'uzbek',\n",
       "       'variété', 'vi', 'videogame', 'vocal', 'western', 'world',\n",
       "       'worldbeat', 'ïîï', 'электроника'], dtype=object)"
      ]
     },
     "execution_count": 17,
     "metadata": {},
     "output_type": "execute_result"
    }
   ],
   "source": [
    "df['genre'].sort_values().unique()# Проверка на неявные дубликаты"
   ]
  },
  {
   "cell_type": "markdown",
   "metadata": {
    "id": "jz6a9-7HQUDd"
   },
   "source": [
    "**Выводы по предобработке**\n",
    "\n",
    "Предобработка обнаружила три проблемы в данных:\n",
    "\n",
    "- нарушения в стиле заголовков,\n",
    "- пропущенные значения,\n",
    "- дубликаты — явные и неявные.\n",
    "\n",
    "Мы исправили заголовки, чтобы упростить работу с таблицей. Пропущенные значения мы заменили на `'unknown'`. \n",
    "\n",
    "Теперь можно перейти к проверке гипотез. "
   ]
  },
  {
   "cell_type": "markdown",
   "metadata": {
    "id": "WttZHXH0SqKk"
   },
   "source": [
    "## Проверка гипотез"
   ]
  },
  {
   "cell_type": "markdown",
   "metadata": {
    "id": "Im936VVi_Zcu"
   },
   "source": [
    "### Сравнение поведения пользователей двух столиц"
   ]
  },
  {
   "cell_type": "markdown",
   "metadata": {
    "id": "nwt_MuaL_Zcu"
   },
   "source": [
    "Первая гипотеза утверждает, что пользователи по-разному слушают музыку в Москве и Санкт-Петербурге. Проверьте это предположение по данным о трёх днях недели — понедельнике, среде и пятнице. Для этого:\n",
    "\n",
    "* Разделите пользователей Москвы и Санкт-Петербурга\n",
    "* Сравните, сколько треков послушала каждая группа пользователей в понедельник, среду и пятницу.\n"
   ]
  },
  {
   "cell_type": "markdown",
   "metadata": {
    "id": "8Dw_YMmT_Zcu"
   },
   "source": [
    "Оценим активность пользователей в каждом городе. Сгруппируем данные по городу и посчитаем прослушивания в каждой группе."
   ]
  },
  {
   "cell_type": "code",
   "execution_count": 18,
   "metadata": {
    "id": "0_Qs96oh_Zcu"
   },
   "outputs": [
    {
     "data": {
      "text/plain": [
       "city\n",
       "Moscow              42741\n",
       "Saint-Petersburg    18512\n",
       "Name: artist, dtype: int64"
      ]
     },
     "execution_count": 18,
     "metadata": {},
     "output_type": "execute_result"
    }
   ],
   "source": [
    "df.groupby('city')['artist'].count()# Подсчёт прослушиваний в каждом городе"
   ]
  },
  {
   "cell_type": "markdown",
   "metadata": {
    "id": "dzli3w8o_Zcu"
   },
   "source": [
    "В Москве прослушиваний больше, чем в Петербурге. Из этого не следует, что московские пользователи чаще слушают музыку. Просто самих пользователей в Москве больше.\n",
    "\n",
    "Теперь сгруппируем данные по дню недели и подсчитаем прослушивания в понедельник, среду и пятницу.\n"
   ]
  },
  {
   "cell_type": "code",
   "execution_count": 19,
   "metadata": {
    "id": "uZMKjiJz_Zcu"
   },
   "outputs": [
    {
     "data": {
      "text/plain": [
       "day\n",
       "Friday       21840\n",
       "Monday       21354\n",
       "Wednesday    18059\n",
       "Name: city, dtype: int64"
      ]
     },
     "execution_count": 19,
     "metadata": {},
     "output_type": "execute_result"
    }
   ],
   "source": [
    "df.groupby('day')['city'].count()# Подсчёт прослушиваний в каждый из трёх дней"
   ]
  },
  {
   "cell_type": "markdown",
   "metadata": {
    "id": "cC2tNrlL_Zcu"
   },
   "source": [
    "В среднем пользователи из двух городов менее активны по средам. Но картина может измениться, если рассмотреть каждый город в отдельности."
   ]
  },
  {
   "cell_type": "markdown",
   "metadata": {
    "id": "POzs8bGa_Zcu"
   },
   "source": [
    "Мы видели, как работает группировка по городу и по дням недели. Теперь напишем функцию, которая объединит два эти расчёта.\n",
    "\n",
    "Создадим функцию `number_tracks()`, которая посчитает прослушивания для заданного дня и города, с двумя параметрами:\n",
    "* день недели,\n",
    "* название города.\n",
    "\n",
    "В функции сохраним в переменную строки исходной таблицы, у которых значение:\n",
    "  * в колонке `day` равно параметру `day`,\n",
    "  * в колонке `city` равно параметру `city`.\n",
    "\n",
    "Для этого применим последовательную фильтрацию с логической индексацией.\n",
    "\n",
    "Затем посчитаем значения в столбце `user_id` получившейся таблицы. Результат сохраним в новую переменную. Вернем эту переменную из функции."
   ]
  },
  {
   "cell_type": "code",
   "execution_count": 20,
   "metadata": {
    "id": "Nz3GdQB1_Zcu"
   },
   "outputs": [],
   "source": [
    " # <создание функции number_tracks()>\n",
    "def number_tracks(day,city):# Объявляется функция с двумя параметрами: day, city.\n",
    "    track_list=df.loc[df['day'] == day].loc[df['city']==city]# В переменной track_list сохраняются те строки таблицы df, для которых \n",
    "# значение в столбце 'day' равно параметру day и одновременно значение\n",
    "# в столбце 'city' равно параметру city (используйте последовательную фильтрацию\n",
    "# с помощью логической индексации).\n",
    "    track_list_count=track_list['user_id'].count()# В переменной track_list_count сохраняется число значений столбца 'user_id',\n",
    "# рассчитанное методом count() для таблицы track_list.\n",
    "    return track_list_count# Функция возвращает число - значение track_list_count.\n",
    "\n",
    "# Функция для подсчёта прослушиваний для конкретного города и дня.\n",
    "# С помощью последовательной фильтрации с логической индексацией она \n",
    "# сначала получит из исходной таблицы строки с нужным днём,\n",
    "# затем из результата отфильтрует строки с нужным городом,\n",
    "# методом count() посчитает количество значений в колонке user_id. \n",
    "# Это количество функция вернёт в качестве результата"
   ]
  },
  {
   "cell_type": "markdown",
   "metadata": {
    "id": "ytf7xFrFJQ2r"
   },
   "source": [
    "Вызовем `number_tracks()` шесть раз, меняя значение параметров — так, чтобы получить данные для каждого города в каждый из трёх дней."
   ]
  },
  {
   "cell_type": "code",
   "execution_count": 21,
   "metadata": {
    "id": "rJcRATNQ_Zcu"
   },
   "outputs": [
    {
     "data": {
      "text/plain": [
       "15740"
      ]
     },
     "execution_count": 21,
     "metadata": {},
     "output_type": "execute_result"
    }
   ],
   "source": [
    "number_tracks('Monday','Moscow')# количество прослушиваний в Москве по понедельникам"
   ]
  },
  {
   "cell_type": "code",
   "execution_count": 22,
   "metadata": {
    "id": "hq_ncZ5T_Zcu"
   },
   "outputs": [
    {
     "data": {
      "text/plain": [
       "5614"
      ]
     },
     "execution_count": 22,
     "metadata": {},
     "output_type": "execute_result"
    }
   ],
   "source": [
    "number_tracks('Monday','Saint-Petersburg')# количество прослушиваний в Санкт-Петербурге по понедельникам"
   ]
  },
  {
   "cell_type": "code",
   "execution_count": 23,
   "metadata": {
    "id": "_NTy2VPU_Zcu"
   },
   "outputs": [
    {
     "data": {
      "text/plain": [
       "11056"
      ]
     },
     "execution_count": 23,
     "metadata": {},
     "output_type": "execute_result"
    }
   ],
   "source": [
    "number_tracks('Wednesday','Moscow')# количество прослушиваний в Москве по средам"
   ]
  },
  {
   "cell_type": "code",
   "execution_count": 24,
   "metadata": {
    "id": "j2y3TAwo_Zcu"
   },
   "outputs": [
    {
     "data": {
      "text/plain": [
       "7003"
      ]
     },
     "execution_count": 24,
     "metadata": {},
     "output_type": "execute_result"
    }
   ],
   "source": [
    "number_tracks('Wednesday','Saint-Petersburg')# количество прослушиваний в Санкт-Петербурге по средам"
   ]
  },
  {
   "cell_type": "code",
   "execution_count": 25,
   "metadata": {
    "id": "vYDw5u_K_Zcu"
   },
   "outputs": [
    {
     "data": {
      "text/plain": [
       "15945"
      ]
     },
     "execution_count": 25,
     "metadata": {},
     "output_type": "execute_result"
    }
   ],
   "source": [
    "number_tracks('Friday','Moscow')# количество прослушиваний в Москве по пятницам"
   ]
  },
  {
   "cell_type": "code",
   "execution_count": 26,
   "metadata": {
    "id": "8_yzFtW3_Zcu"
   },
   "outputs": [
    {
     "data": {
      "text/plain": [
       "5895"
      ]
     },
     "execution_count": 26,
     "metadata": {},
     "output_type": "execute_result"
    }
   ],
   "source": [
    "number_tracks('Friday','Saint-Petersburg')# количество прослушиваний в Санкт-Петербурге по пятницам"
   ]
  },
  {
   "cell_type": "markdown",
   "metadata": {
    "id": "7QXffbO-_Zcu"
   },
   "source": [
    "Создадим c помощью конструктора `pd.DataFrame` таблицу, где\n",
    "* названия колонок — `['city', 'monday', 'wednesday', 'friday']`;\n",
    "* данные — результаты, которые вы получили с помощью `number_tracks`."
   ]
  },
  {
   "cell_type": "code",
   "execution_count": 27,
   "metadata": {
    "id": "APAcLpOr_Zcu"
   },
   "outputs": [
    {
     "data": {
      "text/html": [
       "<div>\n",
       "<style scoped>\n",
       "    .dataframe tbody tr th:only-of-type {\n",
       "        vertical-align: middle;\n",
       "    }\n",
       "\n",
       "    .dataframe tbody tr th {\n",
       "        vertical-align: top;\n",
       "    }\n",
       "\n",
       "    .dataframe thead th {\n",
       "        text-align: right;\n",
       "    }\n",
       "</style>\n",
       "<table border=\"1\" class=\"dataframe\">\n",
       "  <thead>\n",
       "    <tr style=\"text-align: right;\">\n",
       "      <th></th>\n",
       "      <th>city</th>\n",
       "      <th>monday</th>\n",
       "      <th>wednesday</th>\n",
       "      <th>friday</th>\n",
       "    </tr>\n",
       "  </thead>\n",
       "  <tbody>\n",
       "    <tr>\n",
       "      <th>0</th>\n",
       "      <td>Saint-Petersburg</td>\n",
       "      <td>5614</td>\n",
       "      <td>7003</td>\n",
       "      <td>5895</td>\n",
       "    </tr>\n",
       "    <tr>\n",
       "      <th>1</th>\n",
       "      <td>Moscow</td>\n",
       "      <td>15740</td>\n",
       "      <td>11056</td>\n",
       "      <td>15945</td>\n",
       "    </tr>\n",
       "  </tbody>\n",
       "</table>\n",
       "</div>"
      ],
      "text/plain": [
       "               city  monday  wednesday  friday\n",
       "0  Saint-Petersburg    5614       7003    5895\n",
       "1            Moscow   15740      11056   15945"
      ]
     },
     "metadata": {},
     "output_type": "display_data"
    }
   ],
   "source": [
    "header = ['city', 'monday', 'wednesday', 'friday']\n",
    "results = [['Saint-Petersburg', number_tracks('Monday','Saint-Petersburg'), number_tracks('Wednesday','Saint-Petersburg'), number_tracks('Friday','Saint-Petersburg')],['Moscow', number_tracks('Monday','Moscow'), number_tracks('Wednesday','Moscow'), number_tracks('Friday','Moscow')]]\n",
    "table = pd.DataFrame(data = results, columns = header)\n",
    "display(table)# Таблица с результатами"
   ]
  },
  {
   "cell_type": "markdown",
   "metadata": {
    "id": "-EgPIHYu_Zcu"
   },
   "source": [
    "**Выводы о проверке первой гипотезы**\n",
    "\n",
    "Данные показывают разницу поведения пользователей:\n",
    "\n",
    "- В Москве пик прослушиваний приходится на понедельник и пятницу, а в среду заметен спад.\n",
    "- В Петербурге, наоборот, больше слушают музыку по средам. Активность в понедельник и пятницу здесь почти в равной мере уступает среде.\n",
    "\n",
    "Значит, данные говорят в пользу первой гипотезы."
   ]
  },
  {
   "cell_type": "markdown",
   "metadata": {
    "id": "atZAxtq4_Zcu"
   },
   "source": [
    "### Музыка в начале и в конце недели"
   ]
  },
  {
   "cell_type": "markdown",
   "metadata": {
    "id": "eXrQqXFH_Zcu"
   },
   "source": [
    "Согласно второй гипотезе, утром в понедельник в Москве преобладают одни жанры, а в Петербурге — другие. Так же и вечером пятницы преобладают разные жанры — в зависимости от города."
   ]
  },
  {
   "cell_type": "markdown",
   "metadata": {
    "id": "S8UcW6Hw_Zcu"
   },
   "source": [
    "Сохраним таблицы с данными в две переменные:\n",
    "* по Москве — в `moscow_general`;\n",
    "* по Санкт-Петербургу — в `spb_general`."
   ]
  },
  {
   "cell_type": "code",
   "execution_count": 28,
   "metadata": {
    "id": "qeaFfM_P_Zcu"
   },
   "outputs": [],
   "source": [
    "moscow_general = df[df['city']=='Moscow']# получение таблицы moscow_general из тех строк таблицы df, \n",
    "# для которых значение в столбце 'city' равно 'Moscow'\n"
   ]
  },
  {
   "cell_type": "code",
   "execution_count": 29,
   "metadata": {
    "id": "ORaVRKto_Zcu"
   },
   "outputs": [],
   "source": [
    "spb_general= df[df['city']=='Saint-Petersburg']# получение таблицы spb_general из тех строк таблицы df,\n",
    "# для которых значение в столбце 'city' равно 'Saint-Petersburg'\n"
   ]
  },
  {
   "cell_type": "markdown",
   "metadata": {
    "id": "MEJV-CX2_Zcu"
   },
   "source": [
    "Создадим функцию `genre_weekday()` с четырьмя параметрами:\n",
    "* таблица (датафрейм) с данными,\n",
    "* день недели,\n",
    "* начальная временная метка в формате 'hh:mm', \n",
    "* последняя временная метка в формате 'hh:mm'.\n",
    "\n",
    "Функция вернет нам информацию о топ-10 жанров тех треков, которые прослушивали в указанный день, в промежутке между двумя отметками времени."
   ]
  },
  {
   "cell_type": "code",
   "execution_count": 30,
   "metadata": {
    "id": "laJT9BYl_Zcu"
   },
   "outputs": [],
   "source": [
    "def genre_weekday(table, day, time1, time2):# Объявление функции genre_weekday() с параметрами table, day, time1, time2,\n",
    "# которая возвращает информацию о самых популярных жанрах в указанный день в\n",
    "# заданное время:\n",
    "     \n",
    "    # 1) в переменную genre_df сохраняются те строки переданного датафрейма table, для\n",
    "#   которых одновременно:\n",
    "    genre_df = table[table['day'] == day]#    - значение в столбце day равно значению аргумента day\n",
    "    genre_df = genre_df[genre_df['time'] > time1]#    - значение в столбце time больше значения аргумента time1\n",
    "    genre_df = genre_df[genre_df['time'] < time2]#    - значение в столбце time меньше значения аргумента time2\n",
    "#    Используйте последовательную фильтрацию с помощью логической индексации.\n",
    "    genre_df_count = genre_df.groupby('genre')['user_id'].count()# 2) сгруппировать датафрейм genre_df по столбцу genre, взять один из его\n",
    "#    столбцов и посчитать методом count() количество записей для каждого из\n",
    "#    присутствующих жанров, получившийся Series записать в переменную\n",
    "#    genre_df_count\n",
    "    genre_df_sorted = genre_df_count.sort_values(ascending=False)# 3) отсортировать genre_df_count по убыванию встречаемости и сохранить\n",
    "#    в переменную genre_df_sorted\n",
    "    return genre_df_sorted.head(10)# 4) вернуть Series из 10 первых значений genre_df_sorted, это будут топ-10\n",
    "#    популярных жанров (в указанный день, в заданное время)"
   ]
  },
  {
   "cell_type": "markdown",
   "metadata": {
    "id": "la2s2_PF_Zcu"
   },
   "source": [
    "Cравним результаты функции `genre_weekday()` для Москвы и Санкт-Петербурга в понедельник утром (с 7:00 до 11:00) и в пятницу вечером (с 17:00 до 23:00):"
   ]
  },
  {
   "cell_type": "code",
   "execution_count": 31,
   "metadata": {
    "id": "yz7itPUQ_Zcu",
    "scrolled": true
   },
   "outputs": [
    {
     "data": {
      "text/plain": [
       "genre\n",
       "pop            781\n",
       "dance          549\n",
       "electronic     480\n",
       "rock           474\n",
       "hiphop         286\n",
       "ruspop         186\n",
       "world          181\n",
       "rusrap         175\n",
       "alternative    164\n",
       "unknown        161\n",
       "Name: user_id, dtype: int64"
      ]
     },
     "execution_count": 31,
     "metadata": {},
     "output_type": "execute_result"
    }
   ],
   "source": [
    "genre_weekday(moscow_general, 'Monday', '07:00', '11:00')# вызов функции для утра понедельника в Москве (вместо df — таблица moscow_general)\n",
    "# объекты, хранящие время, являются строками и сравниваются как строки\n",
    "# пример вызова: genre_weekday(moscow_general, 'Monday', '07:00', '11:00')"
   ]
  },
  {
   "cell_type": "code",
   "execution_count": 32,
   "metadata": {
    "id": "kwUcHPdy_Zcu"
   },
   "outputs": [
    {
     "data": {
      "text/plain": [
       "genre\n",
       "pop            218\n",
       "dance          182\n",
       "rock           162\n",
       "electronic     147\n",
       "hiphop          80\n",
       "ruspop          64\n",
       "alternative     58\n",
       "rusrap          55\n",
       "jazz            44\n",
       "classical       40\n",
       "Name: user_id, dtype: int64"
      ]
     },
     "execution_count": 32,
     "metadata": {},
     "output_type": "execute_result"
    }
   ],
   "source": [
    "genre_weekday(spb_general, 'Monday', '07:00', '11:00')# вызов функции для утра понедельника в Петербурге (вместо df — таблица spb_general)"
   ]
  },
  {
   "cell_type": "code",
   "execution_count": 33,
   "metadata": {
    "id": "EzXVRE1o_Zcu"
   },
   "outputs": [
    {
     "data": {
      "text/plain": [
       "genre\n",
       "pop            713\n",
       "rock           517\n",
       "dance          495\n",
       "electronic     482\n",
       "hiphop         273\n",
       "world          208\n",
       "ruspop         170\n",
       "alternative    163\n",
       "classical      163\n",
       "rusrap         142\n",
       "Name: user_id, dtype: int64"
      ]
     },
     "execution_count": 33,
     "metadata": {},
     "output_type": "execute_result"
    }
   ],
   "source": [
    "genre_weekday(moscow_general, 'Friday', '17:00', '23:00')# вызов функции для вечера пятницы в Москве"
   ]
  },
  {
   "cell_type": "code",
   "execution_count": 34,
   "metadata": {
    "id": "JZaEKu5v_Zcu"
   },
   "outputs": [
    {
     "data": {
      "text/plain": [
       "genre\n",
       "pop            256\n",
       "electronic     216\n",
       "rock           216\n",
       "dance          210\n",
       "hiphop          97\n",
       "alternative     63\n",
       "jazz            61\n",
       "classical       60\n",
       "rusrap          59\n",
       "world           54\n",
       "Name: user_id, dtype: int64"
      ]
     },
     "execution_count": 34,
     "metadata": {},
     "output_type": "execute_result"
    }
   ],
   "source": [
    "genre_weekday(spb_general, 'Friday', '17:00', '23:00')# вызов функции для вечера пятницы в Петербурге"
   ]
  },
  {
   "cell_type": "markdown",
   "metadata": {
    "id": "wrCe4MNX_Zcu"
   },
   "source": [
    "**Выводы после проверки второй гипотезы**\n",
    "\n",
    "Если сравнить топ-10 жанров в понедельник утром, можно сделать такие выводы:\n",
    "\n",
    "1. В Москве и Петербурге слушают похожую музыку. Единственное отличие — в московский рейтинг вошёл жанр “world”, а в петербургский — джаз и классика.\n",
    "\n",
    "2. В Москве пропущенных значений оказалось так много, что значение `'unknown'` заняло десятое место среди самых популярных жанров. Значит, пропущенные значения занимают существенную долю в данных и угрожают достоверности исследования.\n",
    "\n",
    "Вечер пятницы не меняет эту картину. Некоторые жанры поднимаются немного выше, другие спускаются, но в целом топ-10 остаётся тем же самым.\n",
    "\n",
    "Таким образом, вторая гипотеза подтвердилась лишь частично:\n",
    "* Пользователи слушают похожую музыку в начале недели и в конце.\n",
    "* Разница между Москвой и Петербургом не слишком выражена. В Москве чаще слушают русскую популярную музыку, в Петербурге — джаз.\n",
    "\n",
    "Однако пропуски в данных ставят под сомнение этот результат. В Москве их так много, что рейтинг топ-10 мог бы выглядеть иначе, если бы не утерянные  данные о жанрах."
   ]
  },
  {
   "cell_type": "markdown",
   "metadata": {
    "id": "JolODAqr_Zcu"
   },
   "source": [
    "### Жанровые предпочтения в Москве и Петербурге\n",
    "\n",
    "Гипотеза: Петербург — столица рэпа, музыку этого жанра там слушают чаще, чем в Москве.  А Москва — город контрастов, в котором, тем не менее, преобладает поп-музыка."
   ]
  },
  {
   "cell_type": "markdown",
   "metadata": {
    "id": "DlegSvaT_Zcu"
   },
   "source": [
    "Сгруппируем таблицу `moscow_general` по жанру и посчитаем прослушивания треков каждого жанра методом `count()`. Затем отсортируем результат в порядке убывания и сохраним его в таблице `moscow_genres`."
   ]
  },
  {
   "cell_type": "code",
   "execution_count": 35,
   "metadata": {
    "id": "r19lIPke_Zcu"
   },
   "outputs": [],
   "source": [
    "moscow_genres=moscow_general.groupby('genre')['genre'].count().sort_values(ascending=False)# одной строкой: группировка таблицы moscow_general по столбцу 'genre', \n",
    "# подсчёт числа значений 'genre' в этой группировке методом count(), \n",
    "# сортировка получившегося Series в порядке убывания и сохранение в moscow_genres"
   ]
  },
  {
   "cell_type": "markdown",
   "metadata": {
    "id": "6kMuomxTiIr8"
   },
   "source": [
    "Выведем на экран первые десять строк `moscow_genres`:"
   ]
  },
  {
   "cell_type": "code",
   "execution_count": 36,
   "metadata": {
    "id": "WhCSooF8_Zcv"
   },
   "outputs": [
    {
     "data": {
      "text/plain": [
       "genre\n",
       "pop            5892\n",
       "dance          4435\n",
       "rock           3965\n",
       "electronic     3786\n",
       "hiphop         2096\n",
       "classical      1616\n",
       "world          1432\n",
       "alternative    1379\n",
       "ruspop         1372\n",
       "rusrap         1161\n",
       "Name: genre, dtype: int64"
      ]
     },
     "metadata": {},
     "output_type": "display_data"
    }
   ],
   "source": [
    "display(moscow_genres.head(10))# просмотр первых 10 строк moscow_genres"
   ]
  },
  {
   "cell_type": "markdown",
   "metadata": {
    "id": "cnPG2vnN_Zcv"
   },
   "source": [
    "Теперь повторим то же и для Петербурга.\n",
    "\n",
    "Сгруппируем таблицу `spb_general` по жанру. Посчитаем прослушивания треков каждого жанра. Результат отсортируем в порядке убывания и сохраним в таблице `spb_genres`:\n"
   ]
  },
  {
   "cell_type": "code",
   "execution_count": 37,
   "metadata": {
    "id": "gluLIpE7_Zcv"
   },
   "outputs": [],
   "source": [
    "spb_genres = spb_general.groupby('genre')['genre'].count().sort_values(ascending=False)# одной строкой: группировка таблицы spb_general по столбцу 'genre', \n",
    "# подсчёт числа значений 'genre' в этой группировке методом count(), \n",
    "# сортировка получившегося Series в порядке убывания и сохранение в spb_genres"
   ]
  },
  {
   "cell_type": "markdown",
   "metadata": {
    "id": "5Doha_ODgyQ8"
   },
   "source": [
    "Выведем на экран первые десять строк `spb_genres`:"
   ]
  },
  {
   "cell_type": "code",
   "execution_count": 38,
   "metadata": {
    "id": "uaGJHjVU_Zcv"
   },
   "outputs": [
    {
     "data": {
      "text/plain": [
       "genre\n",
       "pop            2431\n",
       "dance          1932\n",
       "rock           1879\n",
       "electronic     1736\n",
       "hiphop          960\n",
       "alternative     649\n",
       "classical       646\n",
       "rusrap          564\n",
       "ruspop          538\n",
       "world           515\n",
       "Name: genre, dtype: int64"
      ]
     },
     "metadata": {},
     "output_type": "display_data"
    }
   ],
   "source": [
    "display(spb_genres.head(10))# просмотр первых 10 строк spb_genres"
   ]
  },
  {
   "cell_type": "markdown",
   "metadata": {
    "id": "RY51YJYu_Zcv"
   },
   "source": [
    "**Выводы после проверки третьей гипотезы**"
   ]
  },
  {
   "cell_type": "markdown",
   "metadata": {
    "id": "nVhnJEm__Zcv"
   },
   "source": [
    "Гипотеза частично подтвердилась:\n",
    "* Поп-музыка — самый популярный жанр в Москве, как и предполагала гипотеза. Более того, в топ-10 жанров встречается близкий жанр — русская популярная музыка.\n",
    "* Вопреки ожиданиям, рэп одинаково популярен в Москве и Петербурге. \n"
   ]
  },
  {
   "cell_type": "markdown",
   "metadata": {
    "id": "ykKQ0N65_Zcv"
   },
   "source": [
    "## Итоги исследования"
   ]
  },
  {
   "cell_type": "markdown",
   "metadata": {
    "id": "tjUwbHb3_Zcv"
   },
   "source": [
    "Предобработка обнаружила три проблемы в данных:\n",
    "\n",
    "- нарушения в стиле заголовков,\n",
    "- пропущенные значения,\n",
    "- дубликаты — явные и неявные.\n",
    "\n",
    "Мы исправили заголовки, чтобы упростить работу с таблицей. Пропущенные значения мы заменили на `'unknown'`. \n",
    "\n",
    "После предобработки данных мы проверили три гипотезы и установили:\n",
    "\n",
    "1. День недели по-разному влияет на активность пользователей в Москве и Петербурге. \n",
    "\n",
    "Первая гипотеза полностью подтвердилась.\n",
    "\n",
    "2. Музыкальные предпочтения не сильно меняются в течение недели — будь то Москва или Петербург. Небольшие различия заметны в начале недели, по понедельникам:\n",
    "* в Москве слушают музыку жанра “world”,\n",
    "* в Петербурге — джаз и классику.\n",
    "\n",
    "Таким образом, вторая гипотеза подтвердилась лишь отчасти. Этот результат мог оказаться иным, если бы не пропуски в данных.\n",
    "\n",
    "3. Во вкусах пользователей Москвы и Петербурга больше общего чем различий. Вопреки ожиданиям, предпочтения жанров в Петербурге напоминают московские.\n",
    "\n",
    "Третья гипотеза не подтвердилась. Если различия в предпочтениях и существуют, на основной массе пользователей они незаметны."
   ]
  }
 ],
 "metadata": {
  "ExecuteTimeLog": [
   {
    "duration": 352,
    "start_time": "2022-03-18T21:02:11.212Z"
   },
   {
    "duration": 153,
    "start_time": "2022-03-18T21:03:09.536Z"
   },
   {
    "duration": 156,
    "start_time": "2022-03-18T21:03:28.842Z"
   },
   {
    "duration": 133,
    "start_time": "2022-03-18T21:04:54.741Z"
   },
   {
    "duration": 145,
    "start_time": "2022-03-18T21:05:24.401Z"
   },
   {
    "duration": 169,
    "start_time": "2022-03-18T21:05:35.987Z"
   },
   {
    "duration": 19,
    "start_time": "2022-03-18T21:06:06.221Z"
   },
   {
    "duration": 29,
    "start_time": "2022-03-18T21:06:25.679Z"
   },
   {
    "duration": 3,
    "start_time": "2022-03-18T21:16:08.929Z"
   },
   {
    "duration": 4,
    "start_time": "2022-03-18T21:17:54.173Z"
   },
   {
    "duration": 61,
    "start_time": "2022-03-18T21:18:10.521Z"
   },
   {
    "duration": 10,
    "start_time": "2022-03-18T21:19:07.160Z"
   },
   {
    "duration": 3,
    "start_time": "2022-03-18T21:19:21.358Z"
   },
   {
    "duration": 23,
    "start_time": "2022-03-18T21:20:39.257Z"
   },
   {
    "duration": 8,
    "start_time": "2022-03-18T21:23:33.978Z"
   },
   {
    "duration": 8,
    "start_time": "2022-03-18T21:25:42.406Z"
   },
   {
    "duration": 18,
    "start_time": "2022-03-18T21:26:00.108Z"
   },
   {
    "duration": 27,
    "start_time": "2022-03-18T21:26:08.195Z"
   },
   {
    "duration": 66,
    "start_time": "2022-03-18T21:27:49.222Z"
   },
   {
    "duration": 75,
    "start_time": "2022-03-18T21:28:19.393Z"
   },
   {
    "duration": 52,
    "start_time": "2022-03-18T21:28:30.286Z"
   },
   {
    "duration": 9,
    "start_time": "2022-03-18T21:29:47.659Z"
   },
   {
    "duration": 9,
    "start_time": "2022-03-18T21:31:02.890Z"
   },
   {
    "duration": 8,
    "start_time": "2022-03-18T21:33:02.552Z"
   },
   {
    "duration": 8,
    "start_time": "2022-03-18T21:33:34.541Z"
   },
   {
    "duration": 179,
    "start_time": "2022-03-18T21:35:07.724Z"
   },
   {
    "duration": 3,
    "start_time": "2022-03-18T21:40:39.377Z"
   },
   {
    "duration": 8,
    "start_time": "2022-03-18T21:40:49.554Z"
   },
   {
    "duration": 10,
    "start_time": "2022-03-18T21:41:18.827Z"
   },
   {
    "duration": 9,
    "start_time": "2022-03-18T21:41:40.464Z"
   },
   {
    "duration": 11,
    "start_time": "2022-03-18T21:43:27.112Z"
   },
   {
    "duration": 11,
    "start_time": "2022-03-18T21:43:45.646Z"
   },
   {
    "duration": 12,
    "start_time": "2022-03-18T21:44:34.403Z"
   },
   {
    "duration": 12,
    "start_time": "2022-03-18T21:45:41.461Z"
   },
   {
    "duration": 3,
    "start_time": "2022-03-18T21:54:46.517Z"
   },
   {
    "duration": 10,
    "start_time": "2022-03-18T21:54:55.498Z"
   },
   {
    "duration": 8,
    "start_time": "2022-03-18T21:55:00.268Z"
   },
   {
    "duration": 10,
    "start_time": "2022-03-18T21:55:08.830Z"
   },
   {
    "duration": 11,
    "start_time": "2022-03-18T21:56:33.041Z"
   },
   {
    "duration": 12,
    "start_time": "2022-03-18T21:56:49.730Z"
   },
   {
    "duration": 11,
    "start_time": "2022-03-18T21:57:01.301Z"
   },
   {
    "duration": 3,
    "start_time": "2022-03-18T21:59:21.407Z"
   },
   {
    "duration": 10,
    "start_time": "2022-03-18T21:59:26.592Z"
   },
   {
    "duration": 9,
    "start_time": "2022-03-18T21:59:35.268Z"
   },
   {
    "duration": 38,
    "start_time": "2022-03-18T22:02:05.541Z"
   },
   {
    "duration": 37,
    "start_time": "2022-03-18T22:02:56.985Z"
   },
   {
    "duration": 4,
    "start_time": "2022-03-18T22:12:31.009Z"
   },
   {
    "duration": 23,
    "start_time": "2022-03-18T22:12:38.983Z"
   },
   {
    "duration": 20,
    "start_time": "2022-03-18T22:12:42.957Z"
   },
   {
    "duration": 21,
    "start_time": "2022-03-18T22:12:45.957Z"
   },
   {
    "duration": 18,
    "start_time": "2022-03-18T22:12:49.116Z"
   },
   {
    "duration": 22,
    "start_time": "2022-03-18T22:12:51.968Z"
   },
   {
    "duration": 21,
    "start_time": "2022-03-18T22:12:55.173Z"
   },
   {
    "duration": 157,
    "start_time": "2022-03-18T22:15:01.864Z"
   },
   {
    "duration": 146,
    "start_time": "2022-03-18T22:16:27.096Z"
   },
   {
    "duration": 7,
    "start_time": "2022-03-18T22:16:56.618Z"
   },
   {
    "duration": 7,
    "start_time": "2022-03-18T22:18:13.884Z"
   },
   {
    "duration": 16,
    "start_time": "2022-03-18T22:18:42.612Z"
   },
   {
    "duration": 18,
    "start_time": "2022-03-18T22:19:06.759Z"
   },
   {
    "duration": 17,
    "start_time": "2022-03-18T22:19:57.148Z"
   },
   {
    "duration": 17,
    "start_time": "2022-03-18T22:20:26.337Z"
   },
   {
    "duration": 17,
    "start_time": "2022-03-18T22:22:12.297Z"
   },
   {
    "duration": 16,
    "start_time": "2022-03-18T22:22:41.804Z"
   },
   {
    "duration": 16,
    "start_time": "2022-03-18T22:25:57.900Z"
   },
   {
    "duration": 17,
    "start_time": "2022-03-18T22:26:57.500Z"
   },
   {
    "duration": 17,
    "start_time": "2022-03-18T22:27:27.048Z"
   },
   {
    "duration": 16,
    "start_time": "2022-03-18T22:29:18.927Z"
   },
   {
    "duration": 8,
    "start_time": "2022-03-18T22:29:54.226Z"
   },
   {
    "duration": 40,
    "start_time": "2022-03-18T22:31:05.734Z"
   },
   {
    "duration": 9,
    "start_time": "2022-03-18T22:32:56.691Z"
   },
   {
    "duration": 16,
    "start_time": "2022-03-18T22:33:11.630Z"
   },
   {
    "duration": 16,
    "start_time": "2022-03-18T22:33:42.709Z"
   },
   {
    "duration": 24,
    "start_time": "2022-03-18T22:35:28.013Z"
   },
   {
    "duration": 36,
    "start_time": "2022-03-18T22:36:46.391Z"
   },
   {
    "duration": 35,
    "start_time": "2022-03-18T22:38:08.724Z"
   },
   {
    "duration": 37,
    "start_time": "2022-03-18T22:38:28.372Z"
   },
   {
    "duration": 98,
    "start_time": "2022-03-18T22:42:00.680Z"
   },
   {
    "duration": 2661,
    "start_time": "2022-03-18T22:44:54.916Z"
   },
   {
    "duration": 187,
    "start_time": "2022-03-18T22:47:20.344Z"
   },
   {
    "duration": 203,
    "start_time": "2022-03-18T22:52:00.376Z"
   },
   {
    "duration": 163,
    "start_time": "2022-03-18T22:52:36.309Z"
   },
   {
    "duration": 189,
    "start_time": "2022-03-18T22:54:11.533Z"
   },
   {
    "duration": 209,
    "start_time": "2022-03-18T23:12:38.234Z"
   },
   {
    "duration": 38,
    "start_time": "2022-03-18T23:12:51.177Z"
   },
   {
    "duration": 103,
    "start_time": "2022-03-18T23:17:46.286Z"
   },
   {
    "duration": 95,
    "start_time": "2022-03-18T23:19:48.610Z"
   },
   {
    "duration": 100,
    "start_time": "2022-03-18T23:24:46.059Z"
   },
   {
    "duration": 96,
    "start_time": "2022-03-18T23:26:20.324Z"
   },
   {
    "duration": 145,
    "start_time": "2022-03-18T23:30:27.363Z"
   },
   {
    "duration": 100,
    "start_time": "2022-03-18T23:33:53.845Z"
   },
   {
    "duration": 92,
    "start_time": "2022-03-18T23:35:14.591Z"
   },
   {
    "duration": 7,
    "start_time": "2022-03-18T23:36:38.462Z"
   },
   {
    "duration": 6,
    "start_time": "2022-03-18T23:36:54.605Z"
   },
   {
    "duration": 176,
    "start_time": "2022-03-18T23:45:32.412Z"
   },
   {
    "duration": 4,
    "start_time": "2022-03-18T23:50:12.318Z"
   },
   {
    "duration": 12,
    "start_time": "2022-03-18T23:50:20.428Z"
   },
   {
    "duration": 9,
    "start_time": "2022-03-18T23:51:32.513Z"
   },
   {
    "duration": 4,
    "start_time": "2022-03-18T23:55:57.029Z"
   },
   {
    "duration": 11,
    "start_time": "2022-03-18T23:56:00.982Z"
   },
   {
    "duration": 4,
    "start_time": "2022-03-18T23:56:25.012Z"
   },
   {
    "duration": 11,
    "start_time": "2022-03-18T23:56:28.476Z"
   },
   {
    "duration": 138,
    "start_time": "2022-03-18T23:58:17.487Z"
   },
   {
    "duration": 135,
    "start_time": "2022-03-18T23:58:35.687Z"
   },
   {
    "duration": 4,
    "start_time": "2022-03-18T23:58:57.774Z"
   },
   {
    "duration": 11,
    "start_time": "2022-03-18T23:59:03.894Z"
   },
   {
    "duration": 4,
    "start_time": "2022-03-19T00:06:45.113Z"
   },
   {
    "duration": 13,
    "start_time": "2022-03-19T00:06:49.899Z"
   },
   {
    "duration": 4,
    "start_time": "2022-03-19T00:09:23.758Z"
   },
   {
    "duration": 11,
    "start_time": "2022-03-19T00:09:27.868Z"
   },
   {
    "duration": 4,
    "start_time": "2022-03-19T00:14:59.220Z"
   },
   {
    "duration": 12,
    "start_time": "2022-03-19T00:15:03.495Z"
   },
   {
    "duration": 4,
    "start_time": "2022-03-19T00:17:51.722Z"
   },
   {
    "duration": 12,
    "start_time": "2022-03-19T00:17:55.790Z"
   },
   {
    "duration": 24,
    "start_time": "2022-03-19T00:24:43.449Z"
   },
   {
    "duration": 3,
    "start_time": "2022-03-19T00:25:13.905Z"
   },
   {
    "duration": 13,
    "start_time": "2022-03-19T00:25:24.681Z"
   },
   {
    "duration": 11,
    "start_time": "2022-03-19T00:25:37.406Z"
   },
   {
    "duration": 4,
    "start_time": "2022-03-19T00:25:40.834Z"
   },
   {
    "duration": 20,
    "start_time": "2022-03-19T00:25:44.721Z"
   },
   {
    "duration": 14,
    "start_time": "2022-03-19T00:25:48.895Z"
   },
   {
    "duration": 18,
    "start_time": "2022-03-19T00:25:52.816Z"
   },
   {
    "duration": 13,
    "start_time": "2022-03-19T00:25:56.074Z"
   },
   {
    "duration": 32,
    "start_time": "2022-03-19T00:26:01.137Z"
   },
   {
    "duration": 8,
    "start_time": "2022-03-19T00:28:12.841Z"
   },
   {
    "duration": 5,
    "start_time": "2022-03-19T00:28:18.676Z"
   },
   {
    "duration": 6,
    "start_time": "2022-03-19T00:28:26.865Z"
   },
   {
    "duration": 5,
    "start_time": "2022-03-19T00:28:30.675Z"
   },
   {
    "duration": 385,
    "start_time": "2022-03-24T07:00:58.964Z"
   },
   {
    "duration": 159,
    "start_time": "2022-03-24T07:00:59.351Z"
   },
   {
    "duration": 26,
    "start_time": "2022-03-24T07:00:59.512Z"
   },
   {
    "duration": 32,
    "start_time": "2022-03-24T07:00:59.540Z"
   },
   {
    "duration": 4,
    "start_time": "2022-03-24T07:00:59.574Z"
   },
   {
    "duration": 13,
    "start_time": "2022-03-24T07:00:59.579Z"
   },
   {
    "duration": 6,
    "start_time": "2022-03-24T07:00:59.593Z"
   },
   {
    "duration": 55,
    "start_time": "2022-03-24T07:00:59.601Z"
   },
   {
    "duration": 22,
    "start_time": "2022-03-24T07:00:59.658Z"
   },
   {
    "duration": 23,
    "start_time": "2022-03-24T07:00:59.683Z"
   },
   {
    "duration": 87,
    "start_time": "2022-03-24T07:00:59.708Z"
   },
   {
    "duration": 94,
    "start_time": "2022-03-24T07:00:59.797Z"
   },
   {
    "duration": 87,
    "start_time": "2022-03-24T07:00:59.893Z"
   },
   {
    "duration": 7,
    "start_time": "2022-03-24T07:00:59.981Z"
   },
   {
    "duration": 5,
    "start_time": "2022-03-24T07:00:59.990Z"
   },
   {
    "duration": 82,
    "start_time": "2022-03-24T07:00:59.996Z"
   },
   {
    "duration": 0,
    "start_time": "2022-03-24T07:01:00.080Z"
   },
   {
    "duration": 0,
    "start_time": "2022-03-24T07:01:00.082Z"
   },
   {
    "duration": 0,
    "start_time": "2022-03-24T07:01:00.083Z"
   },
   {
    "duration": 0,
    "start_time": "2022-03-24T07:01:00.084Z"
   },
   {
    "duration": 0,
    "start_time": "2022-03-24T07:01:00.085Z"
   },
   {
    "duration": 0,
    "start_time": "2022-03-24T07:01:00.086Z"
   },
   {
    "duration": 0,
    "start_time": "2022-03-24T07:01:00.087Z"
   },
   {
    "duration": 0,
    "start_time": "2022-03-24T07:01:00.089Z"
   },
   {
    "duration": 0,
    "start_time": "2022-03-24T07:01:00.089Z"
   },
   {
    "duration": 0,
    "start_time": "2022-03-24T07:01:00.090Z"
   },
   {
    "duration": 0,
    "start_time": "2022-03-24T07:01:00.091Z"
   },
   {
    "duration": 0,
    "start_time": "2022-03-24T07:01:00.092Z"
   },
   {
    "duration": 0,
    "start_time": "2022-03-24T07:01:00.094Z"
   },
   {
    "duration": 0,
    "start_time": "2022-03-24T07:01:00.095Z"
   },
   {
    "duration": 0,
    "start_time": "2022-03-24T07:01:00.096Z"
   },
   {
    "duration": 0,
    "start_time": "2022-03-24T07:01:00.097Z"
   },
   {
    "duration": 0,
    "start_time": "2022-03-24T07:01:00.098Z"
   },
   {
    "duration": 0,
    "start_time": "2022-03-24T07:01:00.099Z"
   },
   {
    "duration": 0,
    "start_time": "2022-03-24T07:01:00.100Z"
   },
   {
    "duration": 0,
    "start_time": "2022-03-24T07:01:00.138Z"
   },
   {
    "duration": 0,
    "start_time": "2022-03-24T07:01:00.139Z"
   },
   {
    "duration": 0,
    "start_time": "2022-03-24T07:01:00.140Z"
   },
   {
    "duration": 435,
    "start_time": "2022-03-24T07:01:54.012Z"
   },
   {
    "duration": 162,
    "start_time": "2022-03-24T07:01:54.449Z"
   },
   {
    "duration": 27,
    "start_time": "2022-03-24T07:01:54.613Z"
   },
   {
    "duration": 30,
    "start_time": "2022-03-24T07:01:54.642Z"
   },
   {
    "duration": 12,
    "start_time": "2022-03-24T07:01:54.675Z"
   },
   {
    "duration": 24,
    "start_time": "2022-03-24T07:01:54.688Z"
   },
   {
    "duration": 9,
    "start_time": "2022-03-24T07:01:54.713Z"
   },
   {
    "duration": 32,
    "start_time": "2022-03-24T07:01:54.723Z"
   },
   {
    "duration": 25,
    "start_time": "2022-03-24T07:01:54.758Z"
   },
   {
    "duration": 25,
    "start_time": "2022-03-24T07:01:54.785Z"
   },
   {
    "duration": 87,
    "start_time": "2022-03-24T07:01:54.811Z"
   },
   {
    "duration": 98,
    "start_time": "2022-03-24T07:01:54.900Z"
   },
   {
    "duration": 71,
    "start_time": "2022-03-24T07:01:55.000Z"
   },
   {
    "duration": 8,
    "start_time": "2022-03-24T07:01:55.076Z"
   },
   {
    "duration": 4,
    "start_time": "2022-03-24T07:01:55.086Z"
   },
   {
    "duration": 17,
    "start_time": "2022-03-24T07:01:55.091Z"
   },
   {
    "duration": 7,
    "start_time": "2022-03-24T07:01:55.110Z"
   },
   {
    "duration": 39,
    "start_time": "2022-03-24T07:01:55.138Z"
   },
   {
    "duration": 60,
    "start_time": "2022-03-24T07:01:55.179Z"
   },
   {
    "duration": 3,
    "start_time": "2022-03-24T07:01:55.241Z"
   },
   {
    "duration": 30,
    "start_time": "2022-03-24T07:01:55.246Z"
   },
   {
    "duration": 18,
    "start_time": "2022-03-24T07:01:55.278Z"
   },
   {
    "duration": 40,
    "start_time": "2022-03-24T07:01:55.298Z"
   },
   {
    "duration": 18,
    "start_time": "2022-03-24T07:01:55.340Z"
   },
   {
    "duration": 21,
    "start_time": "2022-03-24T07:01:55.359Z"
   },
   {
    "duration": 20,
    "start_time": "2022-03-24T07:01:55.382Z"
   },
   {
    "duration": 181,
    "start_time": "2022-03-24T07:01:55.403Z"
   },
   {
    "duration": 0,
    "start_time": "2022-03-24T07:01:55.585Z"
   },
   {
    "duration": 0,
    "start_time": "2022-03-24T07:01:55.586Z"
   },
   {
    "duration": 0,
    "start_time": "2022-03-24T07:01:55.587Z"
   },
   {
    "duration": 0,
    "start_time": "2022-03-24T07:01:55.589Z"
   },
   {
    "duration": 0,
    "start_time": "2022-03-24T07:01:55.590Z"
   },
   {
    "duration": 0,
    "start_time": "2022-03-24T07:01:55.591Z"
   },
   {
    "duration": 0,
    "start_time": "2022-03-24T07:01:55.592Z"
   },
   {
    "duration": 0,
    "start_time": "2022-03-24T07:01:55.593Z"
   },
   {
    "duration": 0,
    "start_time": "2022-03-24T07:01:55.594Z"
   },
   {
    "duration": 0,
    "start_time": "2022-03-24T07:01:55.595Z"
   },
   {
    "duration": 0,
    "start_time": "2022-03-24T07:01:55.596Z"
   },
   {
    "duration": 399,
    "start_time": "2022-03-24T07:02:45.873Z"
   },
   {
    "duration": 64,
    "start_time": "2022-03-24T07:02:46.274Z"
   },
   {
    "duration": 0,
    "start_time": "2022-03-24T07:02:46.340Z"
   },
   {
    "duration": 0,
    "start_time": "2022-03-24T07:02:46.342Z"
   },
   {
    "duration": 1,
    "start_time": "2022-03-24T07:02:46.342Z"
   },
   {
    "duration": 0,
    "start_time": "2022-03-24T07:02:46.344Z"
   },
   {
    "duration": 0,
    "start_time": "2022-03-24T07:02:46.345Z"
   },
   {
    "duration": 0,
    "start_time": "2022-03-24T07:02:46.346Z"
   },
   {
    "duration": 0,
    "start_time": "2022-03-24T07:02:46.347Z"
   },
   {
    "duration": 0,
    "start_time": "2022-03-24T07:02:46.348Z"
   },
   {
    "duration": 0,
    "start_time": "2022-03-24T07:02:46.349Z"
   },
   {
    "duration": 0,
    "start_time": "2022-03-24T07:02:46.350Z"
   },
   {
    "duration": 0,
    "start_time": "2022-03-24T07:02:46.351Z"
   },
   {
    "duration": 0,
    "start_time": "2022-03-24T07:02:46.352Z"
   },
   {
    "duration": 0,
    "start_time": "2022-03-24T07:02:46.353Z"
   },
   {
    "duration": 0,
    "start_time": "2022-03-24T07:02:46.354Z"
   },
   {
    "duration": 0,
    "start_time": "2022-03-24T07:02:46.355Z"
   },
   {
    "duration": 0,
    "start_time": "2022-03-24T07:02:46.356Z"
   },
   {
    "duration": 0,
    "start_time": "2022-03-24T07:02:46.357Z"
   },
   {
    "duration": 0,
    "start_time": "2022-03-24T07:02:46.358Z"
   },
   {
    "duration": 0,
    "start_time": "2022-03-24T07:02:46.359Z"
   },
   {
    "duration": 0,
    "start_time": "2022-03-24T07:02:46.360Z"
   },
   {
    "duration": 0,
    "start_time": "2022-03-24T07:02:46.360Z"
   },
   {
    "duration": 0,
    "start_time": "2022-03-24T07:02:46.361Z"
   },
   {
    "duration": 0,
    "start_time": "2022-03-24T07:02:46.363Z"
   },
   {
    "duration": 0,
    "start_time": "2022-03-24T07:02:46.364Z"
   },
   {
    "duration": 0,
    "start_time": "2022-03-24T07:02:46.365Z"
   },
   {
    "duration": 0,
    "start_time": "2022-03-24T07:02:46.366Z"
   },
   {
    "duration": 0,
    "start_time": "2022-03-24T07:02:46.367Z"
   },
   {
    "duration": 0,
    "start_time": "2022-03-24T07:02:46.368Z"
   },
   {
    "duration": 0,
    "start_time": "2022-03-24T07:02:46.369Z"
   },
   {
    "duration": 0,
    "start_time": "2022-03-24T07:02:46.370Z"
   },
   {
    "duration": 0,
    "start_time": "2022-03-24T07:02:46.371Z"
   },
   {
    "duration": 0,
    "start_time": "2022-03-24T07:02:46.372Z"
   },
   {
    "duration": 0,
    "start_time": "2022-03-24T07:02:46.373Z"
   },
   {
    "duration": 0,
    "start_time": "2022-03-24T07:02:46.374Z"
   },
   {
    "duration": 0,
    "start_time": "2022-03-24T07:02:46.375Z"
   },
   {
    "duration": 0,
    "start_time": "2022-03-24T07:02:46.376Z"
   },
   {
    "duration": 402,
    "start_time": "2022-03-24T07:07:24.660Z"
   },
   {
    "duration": 158,
    "start_time": "2022-03-24T07:07:25.065Z"
   },
   {
    "duration": 18,
    "start_time": "2022-03-24T07:07:25.225Z"
   },
   {
    "duration": 31,
    "start_time": "2022-03-24T07:07:25.246Z"
   },
   {
    "duration": 4,
    "start_time": "2022-03-24T07:07:25.279Z"
   },
   {
    "duration": 14,
    "start_time": "2022-03-24T07:07:25.284Z"
   },
   {
    "duration": 6,
    "start_time": "2022-03-24T07:07:25.300Z"
   },
   {
    "duration": 53,
    "start_time": "2022-03-24T07:07:25.308Z"
   },
   {
    "duration": 21,
    "start_time": "2022-03-24T07:07:25.362Z"
   },
   {
    "duration": 24,
    "start_time": "2022-03-24T07:07:25.385Z"
   },
   {
    "duration": 85,
    "start_time": "2022-03-24T07:07:25.410Z"
   },
   {
    "duration": 85,
    "start_time": "2022-03-24T07:07:25.498Z"
   },
   {
    "duration": 70,
    "start_time": "2022-03-24T07:07:25.584Z"
   },
   {
    "duration": 7,
    "start_time": "2022-03-24T07:07:25.656Z"
   },
   {
    "duration": 4,
    "start_time": "2022-03-24T07:07:25.665Z"
   },
   {
    "duration": 88,
    "start_time": "2022-03-24T07:07:25.671Z"
   },
   {
    "duration": 0,
    "start_time": "2022-03-24T07:07:25.761Z"
   },
   {
    "duration": 0,
    "start_time": "2022-03-24T07:07:25.763Z"
   },
   {
    "duration": 0,
    "start_time": "2022-03-24T07:07:25.764Z"
   },
   {
    "duration": 0,
    "start_time": "2022-03-24T07:07:25.766Z"
   },
   {
    "duration": 0,
    "start_time": "2022-03-24T07:07:25.767Z"
   },
   {
    "duration": 0,
    "start_time": "2022-03-24T07:07:25.768Z"
   },
   {
    "duration": 0,
    "start_time": "2022-03-24T07:07:25.769Z"
   },
   {
    "duration": 0,
    "start_time": "2022-03-24T07:07:25.771Z"
   },
   {
    "duration": 0,
    "start_time": "2022-03-24T07:07:25.772Z"
   },
   {
    "duration": 0,
    "start_time": "2022-03-24T07:07:25.773Z"
   },
   {
    "duration": 0,
    "start_time": "2022-03-24T07:07:25.775Z"
   },
   {
    "duration": 0,
    "start_time": "2022-03-24T07:07:25.777Z"
   },
   {
    "duration": 0,
    "start_time": "2022-03-24T07:07:25.778Z"
   },
   {
    "duration": 0,
    "start_time": "2022-03-24T07:07:25.779Z"
   },
   {
    "duration": 0,
    "start_time": "2022-03-24T07:07:25.781Z"
   },
   {
    "duration": 0,
    "start_time": "2022-03-24T07:07:25.782Z"
   },
   {
    "duration": 0,
    "start_time": "2022-03-24T07:07:25.784Z"
   },
   {
    "duration": 0,
    "start_time": "2022-03-24T07:07:25.785Z"
   },
   {
    "duration": 0,
    "start_time": "2022-03-24T07:07:25.786Z"
   },
   {
    "duration": 0,
    "start_time": "2022-03-24T07:07:25.787Z"
   },
   {
    "duration": 0,
    "start_time": "2022-03-24T07:07:25.788Z"
   },
   {
    "duration": 0,
    "start_time": "2022-03-24T07:07:25.838Z"
   },
   {
    "duration": 399,
    "start_time": "2022-03-24T11:53:35.538Z"
   },
   {
    "duration": 159,
    "start_time": "2022-03-24T11:53:38.754Z"
   },
   {
    "duration": 16,
    "start_time": "2022-03-24T11:53:41.219Z"
   },
   {
    "duration": 34,
    "start_time": "2022-03-24T11:53:44.299Z"
   },
   {
    "duration": 3,
    "start_time": "2022-03-24T11:53:50.322Z"
   },
   {
    "duration": 488,
    "start_time": "2022-03-24T11:54:35.583Z"
   },
   {
    "duration": 213,
    "start_time": "2022-03-24T11:54:36.073Z"
   },
   {
    "duration": 25,
    "start_time": "2022-03-24T11:54:36.288Z"
   },
   {
    "duration": 66,
    "start_time": "2022-03-24T11:54:36.316Z"
   },
   {
    "duration": 4,
    "start_time": "2022-03-24T11:54:36.384Z"
   },
   {
    "duration": 13,
    "start_time": "2022-03-24T11:54:36.390Z"
   },
   {
    "duration": 7,
    "start_time": "2022-03-24T11:54:36.404Z"
   },
   {
    "duration": 26,
    "start_time": "2022-03-24T11:54:36.412Z"
   },
   {
    "duration": 44,
    "start_time": "2022-03-24T11:54:36.440Z"
   },
   {
    "duration": 24,
    "start_time": "2022-03-24T11:54:36.487Z"
   },
   {
    "duration": 69,
    "start_time": "2022-03-24T11:54:36.513Z"
   },
   {
    "duration": 146,
    "start_time": "2022-03-24T11:54:36.584Z"
   },
   {
    "duration": 66,
    "start_time": "2022-03-24T11:54:36.732Z"
   },
   {
    "duration": 8,
    "start_time": "2022-03-24T11:54:36.800Z"
   },
   {
    "duration": 17,
    "start_time": "2022-03-24T11:54:36.809Z"
   },
   {
    "duration": 65,
    "start_time": "2022-03-24T11:54:36.828Z"
   },
   {
    "duration": 0,
    "start_time": "2022-03-24T11:54:36.895Z"
   },
   {
    "duration": 0,
    "start_time": "2022-03-24T11:54:36.897Z"
   },
   {
    "duration": 0,
    "start_time": "2022-03-24T11:54:36.898Z"
   },
   {
    "duration": 1,
    "start_time": "2022-03-24T11:54:36.899Z"
   },
   {
    "duration": 0,
    "start_time": "2022-03-24T11:54:36.901Z"
   },
   {
    "duration": 0,
    "start_time": "2022-03-24T11:54:36.903Z"
   },
   {
    "duration": 0,
    "start_time": "2022-03-24T11:54:36.905Z"
   },
   {
    "duration": 0,
    "start_time": "2022-03-24T11:54:36.906Z"
   },
   {
    "duration": 0,
    "start_time": "2022-03-24T11:54:36.907Z"
   },
   {
    "duration": 0,
    "start_time": "2022-03-24T11:54:36.908Z"
   },
   {
    "duration": 0,
    "start_time": "2022-03-24T11:54:36.910Z"
   },
   {
    "duration": 0,
    "start_time": "2022-03-24T11:54:36.911Z"
   },
   {
    "duration": 0,
    "start_time": "2022-03-24T11:54:36.913Z"
   },
   {
    "duration": 0,
    "start_time": "2022-03-24T11:54:36.914Z"
   },
   {
    "duration": 0,
    "start_time": "2022-03-24T11:54:36.915Z"
   },
   {
    "duration": 0,
    "start_time": "2022-03-24T11:54:36.916Z"
   },
   {
    "duration": 0,
    "start_time": "2022-03-24T11:54:36.917Z"
   },
   {
    "duration": 0,
    "start_time": "2022-03-24T11:54:36.918Z"
   },
   {
    "duration": 0,
    "start_time": "2022-03-24T11:54:36.919Z"
   },
   {
    "duration": 0,
    "start_time": "2022-03-24T11:54:36.920Z"
   },
   {
    "duration": 0,
    "start_time": "2022-03-24T11:54:36.921Z"
   },
   {
    "duration": 0,
    "start_time": "2022-03-24T11:54:36.922Z"
   },
   {
    "duration": 9,
    "start_time": "2022-03-24T11:55:29.232Z"
   },
   {
    "duration": 7,
    "start_time": "2022-03-24T11:56:16.951Z"
   },
   {
    "duration": 392,
    "start_time": "2022-03-24T11:56:31.941Z"
   },
   {
    "duration": 137,
    "start_time": "2022-03-24T11:56:32.334Z"
   },
   {
    "duration": 20,
    "start_time": "2022-03-24T11:56:32.472Z"
   },
   {
    "duration": 31,
    "start_time": "2022-03-24T11:56:32.495Z"
   },
   {
    "duration": 4,
    "start_time": "2022-03-24T11:56:32.527Z"
   },
   {
    "duration": 11,
    "start_time": "2022-03-24T11:56:32.533Z"
   },
   {
    "duration": 5,
    "start_time": "2022-03-24T11:56:32.546Z"
   },
   {
    "duration": 49,
    "start_time": "2022-03-24T11:56:32.552Z"
   },
   {
    "duration": 17,
    "start_time": "2022-03-24T11:56:32.603Z"
   },
   {
    "duration": 21,
    "start_time": "2022-03-24T11:56:32.623Z"
   },
   {
    "duration": 84,
    "start_time": "2022-03-24T11:56:32.646Z"
   },
   {
    "duration": 149,
    "start_time": "2022-03-24T11:56:32.732Z"
   },
   {
    "duration": 104,
    "start_time": "2022-03-24T11:56:32.884Z"
   },
   {
    "duration": 11,
    "start_time": "2022-03-24T11:56:32.990Z"
   },
   {
    "duration": 3,
    "start_time": "2022-03-24T11:56:33.003Z"
   },
   {
    "duration": 9,
    "start_time": "2022-03-24T11:56:33.008Z"
   },
   {
    "duration": 10,
    "start_time": "2022-03-24T11:56:33.018Z"
   },
   {
    "duration": 30,
    "start_time": "2022-03-24T11:56:33.030Z"
   },
   {
    "duration": 32,
    "start_time": "2022-03-24T11:56:33.081Z"
   },
   {
    "duration": 3,
    "start_time": "2022-03-24T11:56:33.115Z"
   },
   {
    "duration": 23,
    "start_time": "2022-03-24T11:56:33.119Z"
   },
   {
    "duration": 16,
    "start_time": "2022-03-24T11:56:33.144Z"
   },
   {
    "duration": 18,
    "start_time": "2022-03-24T11:56:33.181Z"
   },
   {
    "duration": 23,
    "start_time": "2022-03-24T11:56:33.202Z"
   },
   {
    "duration": 27,
    "start_time": "2022-03-24T11:56:33.227Z"
   },
   {
    "duration": 49,
    "start_time": "2022-03-24T11:56:33.256Z"
   },
   {
    "duration": 215,
    "start_time": "2022-03-24T11:56:33.307Z"
   },
   {
    "duration": 0,
    "start_time": "2022-03-24T11:56:33.525Z"
   },
   {
    "duration": 0,
    "start_time": "2022-03-24T11:56:33.526Z"
   },
   {
    "duration": 0,
    "start_time": "2022-03-24T11:56:33.528Z"
   },
   {
    "duration": 0,
    "start_time": "2022-03-24T11:56:33.529Z"
   },
   {
    "duration": 0,
    "start_time": "2022-03-24T11:56:33.531Z"
   },
   {
    "duration": 0,
    "start_time": "2022-03-24T11:56:33.532Z"
   },
   {
    "duration": 0,
    "start_time": "2022-03-24T11:56:33.534Z"
   },
   {
    "duration": 0,
    "start_time": "2022-03-24T11:56:33.535Z"
   },
   {
    "duration": 0,
    "start_time": "2022-03-24T11:56:33.537Z"
   },
   {
    "duration": 0,
    "start_time": "2022-03-24T11:56:33.539Z"
   },
   {
    "duration": 0,
    "start_time": "2022-03-24T11:56:33.540Z"
   },
   {
    "duration": 396,
    "start_time": "2022-03-24T11:59:22.038Z"
   },
   {
    "duration": 160,
    "start_time": "2022-03-24T11:59:22.436Z"
   },
   {
    "duration": 17,
    "start_time": "2022-03-24T11:59:22.598Z"
   },
   {
    "duration": 28,
    "start_time": "2022-03-24T11:59:22.617Z"
   },
   {
    "duration": 5,
    "start_time": "2022-03-24T11:59:22.646Z"
   },
   {
    "duration": 37,
    "start_time": "2022-03-24T11:59:22.653Z"
   },
   {
    "duration": 7,
    "start_time": "2022-03-24T11:59:22.692Z"
   },
   {
    "duration": 27,
    "start_time": "2022-03-24T11:59:22.700Z"
   },
   {
    "duration": 21,
    "start_time": "2022-03-24T11:59:22.744Z"
   },
   {
    "duration": 33,
    "start_time": "2022-03-24T11:59:22.768Z"
   },
   {
    "duration": 81,
    "start_time": "2022-03-24T11:59:22.803Z"
   },
   {
    "duration": 71,
    "start_time": "2022-03-24T11:59:22.885Z"
   },
   {
    "duration": 74,
    "start_time": "2022-03-24T11:59:22.958Z"
   },
   {
    "duration": 9,
    "start_time": "2022-03-24T11:59:23.034Z"
   },
   {
    "duration": 4,
    "start_time": "2022-03-24T11:59:23.044Z"
   },
   {
    "duration": 36,
    "start_time": "2022-03-24T11:59:23.049Z"
   },
   {
    "duration": 10,
    "start_time": "2022-03-24T11:59:23.087Z"
   },
   {
    "duration": 63,
    "start_time": "2022-03-24T11:59:23.099Z"
   },
   {
    "duration": 52,
    "start_time": "2022-03-24T11:59:23.164Z"
   },
   {
    "duration": 4,
    "start_time": "2022-03-24T11:59:23.218Z"
   },
   {
    "duration": 30,
    "start_time": "2022-03-24T11:59:23.224Z"
   },
   {
    "duration": 40,
    "start_time": "2022-03-24T11:59:23.256Z"
   },
   {
    "duration": 19,
    "start_time": "2022-03-24T11:59:23.298Z"
   },
   {
    "duration": 23,
    "start_time": "2022-03-24T11:59:23.319Z"
   },
   {
    "duration": 50,
    "start_time": "2022-03-24T11:59:23.343Z"
   },
   {
    "duration": 20,
    "start_time": "2022-03-24T11:59:23.395Z"
   },
   {
    "duration": 159,
    "start_time": "2022-03-24T11:59:23.417Z"
   },
   {
    "duration": 0,
    "start_time": "2022-03-24T11:59:23.578Z"
   },
   {
    "duration": 0,
    "start_time": "2022-03-24T11:59:23.580Z"
   },
   {
    "duration": 0,
    "start_time": "2022-03-24T11:59:23.581Z"
   },
   {
    "duration": 0,
    "start_time": "2022-03-24T11:59:23.583Z"
   },
   {
    "duration": 0,
    "start_time": "2022-03-24T11:59:23.584Z"
   },
   {
    "duration": 0,
    "start_time": "2022-03-24T11:59:23.585Z"
   },
   {
    "duration": 0,
    "start_time": "2022-03-24T11:59:23.587Z"
   },
   {
    "duration": 0,
    "start_time": "2022-03-24T11:59:23.589Z"
   },
   {
    "duration": 0,
    "start_time": "2022-03-24T11:59:23.590Z"
   },
   {
    "duration": 0,
    "start_time": "2022-03-24T11:59:23.592Z"
   },
   {
    "duration": 0,
    "start_time": "2022-03-24T11:59:23.594Z"
   },
   {
    "duration": 144,
    "start_time": "2022-03-24T11:59:43.414Z"
   },
   {
    "duration": 134,
    "start_time": "2022-03-24T13:38:36.396Z"
   },
   {
    "duration": 7,
    "start_time": "2022-03-24T14:41:01.998Z"
   },
   {
    "duration": 81,
    "start_time": "2022-03-24T14:43:16.669Z"
   },
   {
    "duration": 451,
    "start_time": "2022-03-24T14:43:30.476Z"
   },
   {
    "duration": 592,
    "start_time": "2022-03-24T14:43:30.929Z"
   },
   {
    "duration": 16,
    "start_time": "2022-03-24T14:43:31.522Z"
   },
   {
    "duration": 38,
    "start_time": "2022-03-24T14:43:31.540Z"
   },
   {
    "duration": 8,
    "start_time": "2022-03-24T14:43:31.580Z"
   },
   {
    "duration": 15,
    "start_time": "2022-03-24T14:43:31.590Z"
   },
   {
    "duration": 19,
    "start_time": "2022-03-24T14:43:31.606Z"
   },
   {
    "duration": 45,
    "start_time": "2022-03-24T14:43:31.626Z"
   },
   {
    "duration": 22,
    "start_time": "2022-03-24T14:43:31.673Z"
   },
   {
    "duration": 22,
    "start_time": "2022-03-24T14:43:31.697Z"
   },
   {
    "duration": 66,
    "start_time": "2022-03-24T14:43:31.721Z"
   },
   {
    "duration": 72,
    "start_time": "2022-03-24T14:43:31.788Z"
   },
   {
    "duration": 72,
    "start_time": "2022-03-24T14:43:31.862Z"
   },
   {
    "duration": 7,
    "start_time": "2022-03-24T14:43:31.935Z"
   },
   {
    "duration": 7,
    "start_time": "2022-03-24T14:43:31.944Z"
   },
   {
    "duration": 15,
    "start_time": "2022-03-24T14:43:31.953Z"
   },
   {
    "duration": 12,
    "start_time": "2022-03-24T14:43:31.969Z"
   },
   {
    "duration": 36,
    "start_time": "2022-03-24T14:43:31.983Z"
   },
   {
    "duration": 33,
    "start_time": "2022-03-24T14:43:32.021Z"
   },
   {
    "duration": 24,
    "start_time": "2022-03-24T14:43:32.057Z"
   },
   {
    "duration": 19,
    "start_time": "2022-03-24T14:43:32.083Z"
   },
   {
    "duration": 18,
    "start_time": "2022-03-24T14:43:32.104Z"
   },
   {
    "duration": 17,
    "start_time": "2022-03-24T14:43:32.123Z"
   },
   {
    "duration": 44,
    "start_time": "2022-03-24T14:43:32.141Z"
   },
   {
    "duration": 19,
    "start_time": "2022-03-24T14:43:32.187Z"
   },
   {
    "duration": 18,
    "start_time": "2022-03-24T14:43:32.207Z"
   },
   {
    "duration": 108,
    "start_time": "2022-03-24T14:43:32.227Z"
   },
   {
    "duration": 16,
    "start_time": "2022-03-24T14:43:32.337Z"
   },
   {
    "duration": 26,
    "start_time": "2022-03-24T14:43:32.355Z"
   },
   {
    "duration": 4,
    "start_time": "2022-03-24T14:43:32.383Z"
   },
   {
    "duration": 23,
    "start_time": "2022-03-24T14:43:32.388Z"
   },
   {
    "duration": 11,
    "start_time": "2022-03-24T14:43:32.413Z"
   },
   {
    "duration": 18,
    "start_time": "2022-03-24T14:43:32.425Z"
   },
   {
    "duration": 11,
    "start_time": "2022-03-24T14:43:32.444Z"
   },
   {
    "duration": 31,
    "start_time": "2022-03-24T14:43:32.456Z"
   },
   {
    "duration": 10,
    "start_time": "2022-03-24T14:43:32.489Z"
   },
   {
    "duration": 13,
    "start_time": "2022-03-24T14:43:32.500Z"
   },
   {
    "duration": 10,
    "start_time": "2022-03-24T14:43:32.514Z"
   },
   {
    "duration": 632,
    "start_time": "2022-03-24T16:14:58.247Z"
   },
   {
    "duration": 201,
    "start_time": "2022-03-24T16:14:58.883Z"
   },
   {
    "duration": 28,
    "start_time": "2022-03-24T16:14:59.087Z"
   },
   {
    "duration": 65,
    "start_time": "2022-03-24T16:14:59.119Z"
   },
   {
    "duration": 5,
    "start_time": "2022-03-24T16:14:59.188Z"
   },
   {
    "duration": 24,
    "start_time": "2022-03-24T16:14:59.195Z"
   },
   {
    "duration": 27,
    "start_time": "2022-03-24T16:14:59.222Z"
   },
   {
    "duration": 53,
    "start_time": "2022-03-24T16:14:59.251Z"
   },
   {
    "duration": 26,
    "start_time": "2022-03-24T16:14:59.306Z"
   },
   {
    "duration": 51,
    "start_time": "2022-03-24T16:14:59.336Z"
   },
   {
    "duration": 114,
    "start_time": "2022-03-24T16:14:59.389Z"
   },
   {
    "duration": 126,
    "start_time": "2022-03-24T16:14:59.505Z"
   },
   {
    "duration": 106,
    "start_time": "2022-03-24T16:14:59.633Z"
   },
   {
    "duration": 13,
    "start_time": "2022-03-24T16:14:59.741Z"
   },
   {
    "duration": 28,
    "start_time": "2022-03-24T16:14:59.756Z"
   },
   {
    "duration": 19,
    "start_time": "2022-03-24T16:14:59.786Z"
   },
   {
    "duration": 12,
    "start_time": "2022-03-24T16:14:59.807Z"
   },
   {
    "duration": 75,
    "start_time": "2022-03-24T16:14:59.821Z"
   },
   {
    "duration": 48,
    "start_time": "2022-03-24T16:14:59.899Z"
   },
   {
    "duration": 15,
    "start_time": "2022-03-24T16:14:59.949Z"
   },
   {
    "duration": 44,
    "start_time": "2022-03-24T16:14:59.967Z"
   },
   {
    "duration": 26,
    "start_time": "2022-03-24T16:15:00.014Z"
   },
   {
    "duration": 52,
    "start_time": "2022-03-24T16:15:00.043Z"
   },
   {
    "duration": 23,
    "start_time": "2022-03-24T16:15:00.097Z"
   },
   {
    "duration": 25,
    "start_time": "2022-03-24T16:15:00.123Z"
   },
   {
    "duration": 53,
    "start_time": "2022-03-24T16:15:00.150Z"
   },
   {
    "duration": 150,
    "start_time": "2022-03-24T16:15:00.206Z"
   },
   {
    "duration": 23,
    "start_time": "2022-03-24T16:15:00.361Z"
   },
   {
    "duration": 13,
    "start_time": "2022-03-24T16:15:00.387Z"
   },
   {
    "duration": 8,
    "start_time": "2022-03-24T16:15:00.403Z"
   },
   {
    "duration": 32,
    "start_time": "2022-03-24T16:15:00.413Z"
   },
   {
    "duration": 46,
    "start_time": "2022-03-24T16:15:00.447Z"
   },
   {
    "duration": 25,
    "start_time": "2022-03-24T16:15:00.495Z"
   },
   {
    "duration": 18,
    "start_time": "2022-03-24T16:15:00.522Z"
   },
   {
    "duration": 49,
    "start_time": "2022-03-24T16:15:00.542Z"
   },
   {
    "duration": 9,
    "start_time": "2022-03-24T16:15:00.593Z"
   },
   {
    "duration": 13,
    "start_time": "2022-03-24T16:15:00.605Z"
   },
   {
    "duration": 25,
    "start_time": "2022-03-24T16:15:00.620Z"
   },
   {
    "duration": 120,
    "start_time": "2022-03-24T17:25:05.506Z"
   },
   {
    "duration": 8,
    "start_time": "2022-03-24T17:25:28.646Z"
   },
   {
    "duration": 9,
    "start_time": "2022-03-24T17:25:41.568Z"
   },
   {
    "duration": 10,
    "start_time": "2022-03-24T17:25:49.094Z"
   },
   {
    "duration": 8,
    "start_time": "2022-03-24T17:32:16.363Z"
   },
   {
    "duration": 551,
    "start_time": "2022-03-24T17:32:28.852Z"
   },
   {
    "duration": 225,
    "start_time": "2022-03-24T17:32:31.885Z"
   },
   {
    "duration": 20,
    "start_time": "2022-03-24T17:33:03.420Z"
   },
   {
    "duration": 5,
    "start_time": "2022-03-24T17:34:59.420Z"
   },
   {
    "duration": 39,
    "start_time": "2022-03-24T17:36:01.204Z"
   },
   {
    "duration": 43,
    "start_time": "2022-03-24T17:36:16.173Z"
   },
   {
    "duration": 45,
    "start_time": "2022-03-24T17:41:38.494Z"
   },
   {
    "duration": 15,
    "start_time": "2022-03-24T17:41:58.789Z"
   },
   {
    "duration": 11,
    "start_time": "2022-03-24T17:45:02.280Z"
   },
   {
    "duration": 11,
    "start_time": "2022-03-24T17:45:31.439Z"
   },
   {
    "duration": 13,
    "start_time": "2022-03-24T17:46:46.784Z"
   },
   {
    "duration": 15,
    "start_time": "2022-03-24T17:50:05.329Z"
   },
   {
    "duration": 15,
    "start_time": "2022-03-24T17:56:48.779Z"
   },
   {
    "duration": 20,
    "start_time": "2022-03-24T17:58:44.668Z"
   },
   {
    "duration": 8,
    "start_time": "2022-03-24T17:58:59.892Z"
   },
   {
    "duration": 0,
    "start_time": "2022-03-24T17:59:08.302Z"
   },
   {
    "duration": 3796,
    "start_time": "2022-03-24T17:59:29.291Z"
   },
   {
    "duration": 15,
    "start_time": "2022-03-24T18:01:37.275Z"
   },
   {
    "duration": 11,
    "start_time": "2022-03-24T18:01:50.774Z"
   },
   {
    "duration": 27,
    "start_time": "2022-03-24T18:02:55.677Z"
   },
   {
    "duration": 14,
    "start_time": "2022-03-24T18:03:18.069Z"
   },
   {
    "duration": 13,
    "start_time": "2022-03-24T18:04:55.402Z"
   },
   {
    "duration": 14,
    "start_time": "2022-03-24T18:08:31.628Z"
   },
   {
    "duration": 21,
    "start_time": "2022-03-24T18:09:22.171Z"
   },
   {
    "duration": 14,
    "start_time": "2022-03-24T18:09:26.349Z"
   },
   {
    "duration": 13,
    "start_time": "2022-03-24T18:09:55.983Z"
   },
   {
    "duration": 14,
    "start_time": "2022-03-24T18:10:00.207Z"
   },
   {
    "duration": 15,
    "start_time": "2022-03-24T18:10:26.151Z"
   },
   {
    "duration": 58,
    "start_time": "2022-03-24T18:12:08.918Z"
   },
   {
    "duration": 63,
    "start_time": "2022-03-24T18:12:39.975Z"
   },
   {
    "duration": 15,
    "start_time": "2022-03-24T18:13:39.336Z"
   },
   {
    "duration": 14,
    "start_time": "2022-03-24T18:30:30.899Z"
   },
   {
    "duration": 14,
    "start_time": "2022-03-24T18:30:36.562Z"
   },
   {
    "duration": 15,
    "start_time": "2022-03-24T18:30:48.664Z"
   },
   {
    "duration": 58,
    "start_time": "2022-03-24T18:31:25.352Z"
   },
   {
    "duration": 14,
    "start_time": "2022-03-24T19:32:49.836Z"
   },
   {
    "duration": 14,
    "start_time": "2022-03-24T19:33:29.550Z"
   },
   {
    "duration": 520,
    "start_time": "2022-03-24T19:56:51.402Z"
   },
   {
    "duration": 210,
    "start_time": "2022-03-24T19:56:51.925Z"
   },
   {
    "duration": 32,
    "start_time": "2022-03-24T19:56:52.138Z"
   },
   {
    "duration": 46,
    "start_time": "2022-03-24T19:56:52.186Z"
   },
   {
    "duration": 6,
    "start_time": "2022-03-24T19:56:52.235Z"
   },
   {
    "duration": 47,
    "start_time": "2022-03-24T19:56:52.243Z"
   },
   {
    "duration": 18,
    "start_time": "2022-03-24T19:56:52.293Z"
   },
   {
    "duration": 39,
    "start_time": "2022-03-24T19:56:52.314Z"
   },
   {
    "duration": 39,
    "start_time": "2022-03-24T19:56:52.356Z"
   },
   {
    "duration": 38,
    "start_time": "2022-03-24T19:56:52.402Z"
   },
   {
    "duration": 121,
    "start_time": "2022-03-24T19:56:52.442Z"
   },
   {
    "duration": 140,
    "start_time": "2022-03-24T19:56:52.565Z"
   },
   {
    "duration": 110,
    "start_time": "2022-03-24T19:56:52.708Z"
   },
   {
    "duration": 73,
    "start_time": "2022-03-24T19:56:52.820Z"
   },
   {
    "duration": 4,
    "start_time": "2022-03-24T19:56:52.896Z"
   },
   {
    "duration": 19,
    "start_time": "2022-03-24T19:56:52.903Z"
   },
   {
    "duration": 102,
    "start_time": "2022-03-24T19:56:52.924Z"
   },
   {
    "duration": 22,
    "start_time": "2022-03-24T19:56:53.029Z"
   },
   {
    "duration": 85,
    "start_time": "2022-03-24T19:56:53.054Z"
   },
   {
    "duration": 7,
    "start_time": "2022-03-24T19:56:53.142Z"
   },
   {
    "duration": 50,
    "start_time": "2022-03-24T19:56:53.151Z"
   },
   {
    "duration": 26,
    "start_time": "2022-03-24T19:56:53.204Z"
   },
   {
    "duration": 52,
    "start_time": "2022-03-24T19:56:53.232Z"
   },
   {
    "duration": 30,
    "start_time": "2022-03-24T19:56:53.286Z"
   },
   {
    "duration": 29,
    "start_time": "2022-03-24T19:56:53.319Z"
   },
   {
    "duration": 57,
    "start_time": "2022-03-24T19:56:53.351Z"
   },
   {
    "duration": 160,
    "start_time": "2022-03-24T19:56:53.411Z"
   },
   {
    "duration": 19,
    "start_time": "2022-03-24T19:56:53.585Z"
   },
   {
    "duration": 16,
    "start_time": "2022-03-24T19:56:53.608Z"
   },
   {
    "duration": 7,
    "start_time": "2022-03-24T19:56:53.627Z"
   },
   {
    "duration": 61,
    "start_time": "2022-03-24T19:56:53.637Z"
   },
   {
    "duration": 19,
    "start_time": "2022-03-24T19:56:53.703Z"
   },
   {
    "duration": 25,
    "start_time": "2022-03-24T19:56:53.725Z"
   },
   {
    "duration": 47,
    "start_time": "2022-03-24T19:56:53.753Z"
   },
   {
    "duration": 12,
    "start_time": "2022-03-24T19:56:53.803Z"
   },
   {
    "duration": 7,
    "start_time": "2022-03-24T19:56:53.817Z"
   },
   {
    "duration": 13,
    "start_time": "2022-03-24T19:56:53.826Z"
   },
   {
    "duration": 42,
    "start_time": "2022-03-24T19:56:53.841Z"
   },
   {
    "duration": 17,
    "start_time": "2022-03-24T19:58:14.438Z"
   },
   {
    "duration": 23,
    "start_time": "2022-03-24T19:59:06.326Z"
   },
   {
    "duration": 219,
    "start_time": "2022-03-24T20:08:28.786Z"
   },
   {
    "duration": 37,
    "start_time": "2022-03-24T20:09:42.091Z"
   },
   {
    "duration": 136,
    "start_time": "2022-03-24T20:14:57.031Z"
   },
   {
    "duration": 134,
    "start_time": "2022-03-24T20:15:50.797Z"
   },
   {
    "duration": 613,
    "start_time": "2022-03-24T20:17:16.548Z"
   },
   {
    "duration": 236,
    "start_time": "2022-03-24T20:17:17.164Z"
   },
   {
    "duration": 28,
    "start_time": "2022-03-24T20:17:17.402Z"
   },
   {
    "duration": 73,
    "start_time": "2022-03-24T20:17:17.433Z"
   },
   {
    "duration": 16,
    "start_time": "2022-03-24T20:17:17.508Z"
   },
   {
    "duration": 59,
    "start_time": "2022-03-24T20:17:17.527Z"
   },
   {
    "duration": 49,
    "start_time": "2022-03-24T20:17:17.589Z"
   },
   {
    "duration": 65,
    "start_time": "2022-03-24T20:17:17.641Z"
   },
   {
    "duration": 51,
    "start_time": "2022-03-24T20:17:17.708Z"
   },
   {
    "duration": 56,
    "start_time": "2022-03-24T20:17:17.763Z"
   },
   {
    "duration": 137,
    "start_time": "2022-03-24T20:17:17.821Z"
   },
   {
    "duration": 150,
    "start_time": "2022-03-24T20:17:17.961Z"
   },
   {
    "duration": 119,
    "start_time": "2022-03-24T20:17:18.113Z"
   },
   {
    "duration": 72,
    "start_time": "2022-03-24T20:17:18.234Z"
   },
   {
    "duration": 4,
    "start_time": "2022-03-24T20:17:18.309Z"
   },
   {
    "duration": 16,
    "start_time": "2022-03-24T20:17:18.316Z"
   },
   {
    "duration": 110,
    "start_time": "2022-03-24T20:17:18.334Z"
   },
   {
    "duration": 19,
    "start_time": "2022-03-24T20:17:18.447Z"
   },
   {
    "duration": 33,
    "start_time": "2022-03-24T20:17:18.468Z"
   },
   {
    "duration": 22,
    "start_time": "2022-03-24T20:17:18.504Z"
   },
   {
    "duration": 104,
    "start_time": "2022-03-24T20:17:18.530Z"
   },
   {
    "duration": 30,
    "start_time": "2022-03-24T20:17:18.637Z"
   },
   {
    "duration": 52,
    "start_time": "2022-03-24T20:17:18.669Z"
   },
   {
    "duration": 46,
    "start_time": "2022-03-24T20:17:18.724Z"
   },
   {
    "duration": 68,
    "start_time": "2022-03-24T20:17:18.772Z"
   },
   {
    "duration": 26,
    "start_time": "2022-03-24T20:17:18.842Z"
   },
   {
    "duration": 167,
    "start_time": "2022-03-24T20:17:18.871Z"
   },
   {
    "duration": 22,
    "start_time": "2022-03-24T20:17:19.045Z"
   },
   {
    "duration": 43,
    "start_time": "2022-03-24T20:17:19.070Z"
   },
   {
    "duration": 21,
    "start_time": "2022-03-24T20:17:19.117Z"
   },
   {
    "duration": 82,
    "start_time": "2022-03-24T20:17:19.140Z"
   },
   {
    "duration": 41,
    "start_time": "2022-03-24T20:17:19.224Z"
   },
   {
    "duration": 41,
    "start_time": "2022-03-24T20:17:19.267Z"
   },
   {
    "duration": 28,
    "start_time": "2022-03-24T20:17:19.311Z"
   },
   {
    "duration": 17,
    "start_time": "2022-03-24T20:17:19.342Z"
   },
   {
    "duration": 26,
    "start_time": "2022-03-24T20:17:19.361Z"
   },
   {
    "duration": 23,
    "start_time": "2022-03-24T20:17:19.392Z"
   },
   {
    "duration": 9,
    "start_time": "2022-03-24T20:17:19.419Z"
   },
   {
    "duration": 9,
    "start_time": "2022-03-24T20:18:24.778Z"
   },
   {
    "duration": 6,
    "start_time": "2022-03-24T20:18:51.550Z"
   },
   {
    "duration": 537,
    "start_time": "2022-03-24T20:19:16.589Z"
   },
   {
    "duration": 222,
    "start_time": "2022-03-24T20:19:17.129Z"
   },
   {
    "duration": 47,
    "start_time": "2022-03-24T20:19:17.353Z"
   },
   {
    "duration": 43,
    "start_time": "2022-03-24T20:19:17.403Z"
   },
   {
    "duration": 6,
    "start_time": "2022-03-24T20:19:17.448Z"
   },
   {
    "duration": 41,
    "start_time": "2022-03-24T20:19:17.456Z"
   },
   {
    "duration": 10,
    "start_time": "2022-03-24T20:19:17.500Z"
   },
   {
    "duration": 38,
    "start_time": "2022-03-24T20:19:17.512Z"
   },
   {
    "duration": 47,
    "start_time": "2022-03-24T20:19:17.553Z"
   },
   {
    "duration": 35,
    "start_time": "2022-03-24T20:19:17.603Z"
   },
   {
    "duration": 159,
    "start_time": "2022-03-24T20:19:17.640Z"
   },
   {
    "duration": 122,
    "start_time": "2022-03-24T20:19:17.801Z"
   },
   {
    "duration": 106,
    "start_time": "2022-03-24T20:19:17.926Z"
   },
   {
    "duration": 66,
    "start_time": "2022-03-24T20:19:18.034Z"
   },
   {
    "duration": 4,
    "start_time": "2022-03-24T20:19:18.103Z"
   },
   {
    "duration": 17,
    "start_time": "2022-03-24T20:19:18.109Z"
   },
   {
    "duration": 87,
    "start_time": "2022-03-24T20:19:18.129Z"
   },
   {
    "duration": 20,
    "start_time": "2022-03-24T20:19:18.219Z"
   },
   {
    "duration": 54,
    "start_time": "2022-03-24T20:19:18.243Z"
   },
   {
    "duration": 5,
    "start_time": "2022-03-24T20:19:18.299Z"
   },
   {
    "duration": 35,
    "start_time": "2022-03-24T20:19:18.306Z"
   },
   {
    "duration": 24,
    "start_time": "2022-03-24T20:19:18.343Z"
   },
   {
    "duration": 41,
    "start_time": "2022-03-24T20:19:18.370Z"
   },
   {
    "duration": 25,
    "start_time": "2022-03-24T20:19:18.413Z"
   },
   {
    "duration": 59,
    "start_time": "2022-03-24T20:19:18.440Z"
   },
   {
    "duration": 28,
    "start_time": "2022-03-24T20:19:18.501Z"
   },
   {
    "duration": 176,
    "start_time": "2022-03-24T20:19:18.531Z"
   },
   {
    "duration": 19,
    "start_time": "2022-03-24T20:19:18.712Z"
   },
   {
    "duration": 18,
    "start_time": "2022-03-24T20:19:18.733Z"
   },
   {
    "duration": 36,
    "start_time": "2022-03-24T20:19:18.754Z"
   },
   {
    "duration": 39,
    "start_time": "2022-03-24T20:19:18.793Z"
   },
   {
    "duration": 17,
    "start_time": "2022-03-24T20:19:18.834Z"
   },
   {
    "duration": 48,
    "start_time": "2022-03-24T20:19:18.853Z"
   },
   {
    "duration": 16,
    "start_time": "2022-03-24T20:19:18.903Z"
   },
   {
    "duration": 13,
    "start_time": "2022-03-24T20:19:18.921Z"
   },
   {
    "duration": 9,
    "start_time": "2022-03-24T20:19:18.936Z"
   },
   {
    "duration": 42,
    "start_time": "2022-03-24T20:19:18.947Z"
   },
   {
    "duration": 12,
    "start_time": "2022-03-24T20:19:18.996Z"
   }
  ],
  "colab": {
   "collapsed_sections": [
    "E0vqbgi9ay0H",
    "VUC88oWjTJw2"
   ],
   "name": "yandex_music_project_2021.2.ipynb",
   "provenance": []
  },
  "kernelspec": {
   "display_name": "Python 3 (ipykernel)",
   "language": "python",
   "name": "python3"
  },
  "language_info": {
   "codemirror_mode": {
    "name": "ipython",
    "version": 3
   },
   "file_extension": ".py",
   "mimetype": "text/x-python",
   "name": "python",
   "nbconvert_exporter": "python",
   "pygments_lexer": "ipython3",
   "version": "3.9.5"
  },
  "toc": {
   "base_numbering": 1,
   "nav_menu": {},
   "number_sections": true,
   "sideBar": true,
   "skip_h1_title": true,
   "title_cell": "Table of Contents",
   "title_sidebar": "Contents",
   "toc_cell": false,
   "toc_position": {},
   "toc_section_display": true,
   "toc_window_display": true
  }
 },
 "nbformat": 4,
 "nbformat_minor": 1
}
