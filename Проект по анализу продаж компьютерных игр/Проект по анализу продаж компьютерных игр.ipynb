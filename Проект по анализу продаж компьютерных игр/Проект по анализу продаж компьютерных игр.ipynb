{
 "cells": [
  {
   "cell_type": "markdown",
   "metadata": {},
   "source": [
    "## Проект по анализу продаж компьютерных игр.\n",
    "\n",
    "Описание проекта\n",
    "Проект о продажах по всему миру компьютерных игр. Из открытых источников доступны исторические данные о продажах игр, оценки пользователей и экспертов, жанры и платформы (например, Xbox или PlayStation). В результате нужно выявить определяющие успешность игры закономерности. Это позволит сделать ставку на потенциально популярный продукт и спланировать рекламные кампании. Анализируются данные до 2016 года. Представим, что сейчас декабрь 2016 г., мы планируем кампанию на 2017-й и главное назначение проекта -  отработать принцип работы с данными.\n",
    "\n",
    "Цель исследования: на материале анализа исходных данных определить, как спланировать рекламные компании при продажах компьютерных игр на 2017 год\n",
    "\n",
    "Суть исследования: определить критерии успешности тех или иных игр\n",
    "\n",
    "Задачи исследования:\n",
    "\n",
    "1) проанализировать исходные данные,\n",
    "\n",
    "2) проверить на аномалии и убрать их, преобразовать данные в нужные типы.\n",
    "\n",
    "3) Посмотреть, как влияют на продажи внутри одной популярной платформы отзывы пользователей и критиков. Построить диаграмму рассеяния и посчитать корреляцию между отзывами и продажами.\n",
    "\n",
    "4) Посмотреть на общее распределение игр по жанрам. Что можно сказать о самых прибыльных жанрах? Выделяются ли жанры с высокими и низкими продажами?\n",
    "\n",
    "5) определить для пользователя каждого региона (NA, EU, JP): Самые популярные платформы (топ-5). Описать различия в долях продаж.\n",
    "   \n",
    "6)  определить для пользователя каждого региона (NA, EU, JP): Самые популярные жанры (топ-5). Пояснить разницу.\n",
    "\n",
    "7)  определить для пользователя каждого региона (NA, EU, JP): Влияет ли рейтинг ESRB на продажи в отдельном регионе?\n",
    "\n",
    "8) проверить гипотезу: Средние пользовательские рейтинги платформ Xbox One и PC одинаковые;\n",
    "\n",
    "9) проверить гипотезу: Средние пользовательские рейтинги жанров Action (англ. «действие», экшен-игры) и Sports (англ. «спортивные соревнования») разные.\n",
    "\n",
    "Описание данных\n",
    "Name — название игры\n",
    "Platform — платформа\n",
    "Year_of_Release — год выпуска\n",
    "Genre — жанр игры\n",
    "NA_sales — продажи в Северной Америке (миллионы проданных копий)\n",
    "EU_sales — продажи в Европе (миллионы проданных копий)\n",
    "JP_sales — продажи в Японии (миллионы проданных копий)\n",
    "Other_sales — продажи в других странах (миллионы проданных копий)\n",
    "Critic_Score — оценка критиков (максимум 100)\n",
    "User_Score — оценка пользователей (максимум 10)\n",
    "Rating — рейтинг от организации ESRB (англ. Entertainment Software Rating Board). Эта ассоциация определяет рейтинг компьютерных игр и присваивает им подходящую возрастную категорию. ESRB оценивает игровой контент и присваивает ему подходящую возрастную категорию, например, «Для взрослых», «Для детей младшего возраста» или «Для подростков».\n",
    "Данные за 2016 год могут быть неполными."
   ]
  },
  {
   "cell_type": "code",
   "execution_count": 1,
   "metadata": {},
   "outputs": [
    {
     "data": {
      "text/html": [
       "<div>\n",
       "<style scoped>\n",
       "    .dataframe tbody tr th:only-of-type {\n",
       "        vertical-align: middle;\n",
       "    }\n",
       "\n",
       "    .dataframe tbody tr th {\n",
       "        vertical-align: top;\n",
       "    }\n",
       "\n",
       "    .dataframe thead th {\n",
       "        text-align: right;\n",
       "    }\n",
       "</style>\n",
       "<table border=\"1\" class=\"dataframe\">\n",
       "  <thead>\n",
       "    <tr style=\"text-align: right;\">\n",
       "      <th></th>\n",
       "      <th>Name</th>\n",
       "      <th>Platform</th>\n",
       "      <th>Year_of_Release</th>\n",
       "      <th>Genre</th>\n",
       "      <th>NA_sales</th>\n",
       "      <th>EU_sales</th>\n",
       "      <th>JP_sales</th>\n",
       "      <th>Other_sales</th>\n",
       "      <th>Critic_Score</th>\n",
       "      <th>User_Score</th>\n",
       "      <th>Rating</th>\n",
       "    </tr>\n",
       "  </thead>\n",
       "  <tbody>\n",
       "    <tr>\n",
       "      <th>0</th>\n",
       "      <td>Wii Sports</td>\n",
       "      <td>Wii</td>\n",
       "      <td>2006.0</td>\n",
       "      <td>Sports</td>\n",
       "      <td>41.36</td>\n",
       "      <td>28.96</td>\n",
       "      <td>3.77</td>\n",
       "      <td>8.45</td>\n",
       "      <td>76.0</td>\n",
       "      <td>8</td>\n",
       "      <td>E</td>\n",
       "    </tr>\n",
       "    <tr>\n",
       "      <th>1</th>\n",
       "      <td>Super Mario Bros.</td>\n",
       "      <td>NES</td>\n",
       "      <td>1985.0</td>\n",
       "      <td>Platform</td>\n",
       "      <td>29.08</td>\n",
       "      <td>3.58</td>\n",
       "      <td>6.81</td>\n",
       "      <td>0.77</td>\n",
       "      <td>NaN</td>\n",
       "      <td>NaN</td>\n",
       "      <td>NaN</td>\n",
       "    </tr>\n",
       "    <tr>\n",
       "      <th>2</th>\n",
       "      <td>Mario Kart Wii</td>\n",
       "      <td>Wii</td>\n",
       "      <td>2008.0</td>\n",
       "      <td>Racing</td>\n",
       "      <td>15.68</td>\n",
       "      <td>12.76</td>\n",
       "      <td>3.79</td>\n",
       "      <td>3.29</td>\n",
       "      <td>82.0</td>\n",
       "      <td>8.3</td>\n",
       "      <td>E</td>\n",
       "    </tr>\n",
       "    <tr>\n",
       "      <th>3</th>\n",
       "      <td>Wii Sports Resort</td>\n",
       "      <td>Wii</td>\n",
       "      <td>2009.0</td>\n",
       "      <td>Sports</td>\n",
       "      <td>15.61</td>\n",
       "      <td>10.93</td>\n",
       "      <td>3.28</td>\n",
       "      <td>2.95</td>\n",
       "      <td>80.0</td>\n",
       "      <td>8</td>\n",
       "      <td>E</td>\n",
       "    </tr>\n",
       "    <tr>\n",
       "      <th>4</th>\n",
       "      <td>Pokemon Red/Pokemon Blue</td>\n",
       "      <td>GB</td>\n",
       "      <td>1996.0</td>\n",
       "      <td>Role-Playing</td>\n",
       "      <td>11.27</td>\n",
       "      <td>8.89</td>\n",
       "      <td>10.22</td>\n",
       "      <td>1.00</td>\n",
       "      <td>NaN</td>\n",
       "      <td>NaN</td>\n",
       "      <td>NaN</td>\n",
       "    </tr>\n",
       "    <tr>\n",
       "      <th>5</th>\n",
       "      <td>Tetris</td>\n",
       "      <td>GB</td>\n",
       "      <td>1989.0</td>\n",
       "      <td>Puzzle</td>\n",
       "      <td>23.20</td>\n",
       "      <td>2.26</td>\n",
       "      <td>4.22</td>\n",
       "      <td>0.58</td>\n",
       "      <td>NaN</td>\n",
       "      <td>NaN</td>\n",
       "      <td>NaN</td>\n",
       "    </tr>\n",
       "    <tr>\n",
       "      <th>6</th>\n",
       "      <td>New Super Mario Bros.</td>\n",
       "      <td>DS</td>\n",
       "      <td>2006.0</td>\n",
       "      <td>Platform</td>\n",
       "      <td>11.28</td>\n",
       "      <td>9.14</td>\n",
       "      <td>6.50</td>\n",
       "      <td>2.88</td>\n",
       "      <td>89.0</td>\n",
       "      <td>8.5</td>\n",
       "      <td>E</td>\n",
       "    </tr>\n",
       "    <tr>\n",
       "      <th>7</th>\n",
       "      <td>Wii Play</td>\n",
       "      <td>Wii</td>\n",
       "      <td>2006.0</td>\n",
       "      <td>Misc</td>\n",
       "      <td>13.96</td>\n",
       "      <td>9.18</td>\n",
       "      <td>2.93</td>\n",
       "      <td>2.84</td>\n",
       "      <td>58.0</td>\n",
       "      <td>6.6</td>\n",
       "      <td>E</td>\n",
       "    </tr>\n",
       "    <tr>\n",
       "      <th>8</th>\n",
       "      <td>New Super Mario Bros. Wii</td>\n",
       "      <td>Wii</td>\n",
       "      <td>2009.0</td>\n",
       "      <td>Platform</td>\n",
       "      <td>14.44</td>\n",
       "      <td>6.94</td>\n",
       "      <td>4.70</td>\n",
       "      <td>2.24</td>\n",
       "      <td>87.0</td>\n",
       "      <td>8.4</td>\n",
       "      <td>E</td>\n",
       "    </tr>\n",
       "    <tr>\n",
       "      <th>9</th>\n",
       "      <td>Duck Hunt</td>\n",
       "      <td>NES</td>\n",
       "      <td>1984.0</td>\n",
       "      <td>Shooter</td>\n",
       "      <td>26.93</td>\n",
       "      <td>0.63</td>\n",
       "      <td>0.28</td>\n",
       "      <td>0.47</td>\n",
       "      <td>NaN</td>\n",
       "      <td>NaN</td>\n",
       "      <td>NaN</td>\n",
       "    </tr>\n",
       "  </tbody>\n",
       "</table>\n",
       "</div>"
      ],
      "text/plain": [
       "                        Name Platform  Year_of_Release         Genre  \\\n",
       "0                 Wii Sports      Wii           2006.0        Sports   \n",
       "1          Super Mario Bros.      NES           1985.0      Platform   \n",
       "2             Mario Kart Wii      Wii           2008.0        Racing   \n",
       "3          Wii Sports Resort      Wii           2009.0        Sports   \n",
       "4   Pokemon Red/Pokemon Blue       GB           1996.0  Role-Playing   \n",
       "5                     Tetris       GB           1989.0        Puzzle   \n",
       "6      New Super Mario Bros.       DS           2006.0      Platform   \n",
       "7                   Wii Play      Wii           2006.0          Misc   \n",
       "8  New Super Mario Bros. Wii      Wii           2009.0      Platform   \n",
       "9                  Duck Hunt      NES           1984.0       Shooter   \n",
       "\n",
       "   NA_sales  EU_sales  JP_sales  Other_sales  Critic_Score User_Score Rating  \n",
       "0     41.36     28.96      3.77         8.45          76.0          8      E  \n",
       "1     29.08      3.58      6.81         0.77           NaN        NaN    NaN  \n",
       "2     15.68     12.76      3.79         3.29          82.0        8.3      E  \n",
       "3     15.61     10.93      3.28         2.95          80.0          8      E  \n",
       "4     11.27      8.89     10.22         1.00           NaN        NaN    NaN  \n",
       "5     23.20      2.26      4.22         0.58           NaN        NaN    NaN  \n",
       "6     11.28      9.14      6.50         2.88          89.0        8.5      E  \n",
       "7     13.96      9.18      2.93         2.84          58.0        6.6      E  \n",
       "8     14.44      6.94      4.70         2.24          87.0        8.4      E  \n",
       "9     26.93      0.63      0.28         0.47           NaN        NaN    NaN  "
      ]
     },
     "execution_count": 1,
     "metadata": {},
     "output_type": "execute_result"
    }
   ],
   "source": [
    "import pandas as pd\n",
    "import seaborn as sns\n",
    "import numpy as np\n",
    "import matplotlib.pyplot as plt\n",
    "from scipy import stats as st\n",
    "from datetime import datetime as dt\n",
    "games = pd.read_csv('/datasets/games.csv')\n",
    "games.head(10)"
   ]
  },
  {
   "cell_type": "markdown",
   "metadata": {},
   "source": [
    "Подготовила данные, заменив названия столбцов (привела к нижнему регистру для удобства пользования);"
   ]
  },
  {
   "cell_type": "code",
   "execution_count": 2,
   "metadata": {},
   "outputs": [
    {
     "name": "stdout",
     "output_type": "stream",
     "text": [
      "Index(['name', 'platform', 'year_of_release', 'genre', 'na_sales', 'eu_sales',\n",
      "       'jp_sales', 'other_sales', 'critic_score', 'user_score', 'rating'],\n",
      "      dtype='object')\n"
     ]
    },
    {
     "data": {
      "text/html": [
       "<div>\n",
       "<style scoped>\n",
       "    .dataframe tbody tr th:only-of-type {\n",
       "        vertical-align: middle;\n",
       "    }\n",
       "\n",
       "    .dataframe tbody tr th {\n",
       "        vertical-align: top;\n",
       "    }\n",
       "\n",
       "    .dataframe thead th {\n",
       "        text-align: right;\n",
       "    }\n",
       "</style>\n",
       "<table border=\"1\" class=\"dataframe\">\n",
       "  <thead>\n",
       "    <tr style=\"text-align: right;\">\n",
       "      <th></th>\n",
       "      <th>name</th>\n",
       "      <th>platform</th>\n",
       "      <th>year_of_release</th>\n",
       "      <th>genre</th>\n",
       "      <th>na_sales</th>\n",
       "      <th>eu_sales</th>\n",
       "      <th>jp_sales</th>\n",
       "      <th>other_sales</th>\n",
       "      <th>critic_score</th>\n",
       "      <th>user_score</th>\n",
       "      <th>rating</th>\n",
       "    </tr>\n",
       "  </thead>\n",
       "  <tbody>\n",
       "    <tr>\n",
       "      <th>1554</th>\n",
       "      <td>road rash</td>\n",
       "      <td>ps</td>\n",
       "      <td>1995.0</td>\n",
       "      <td>racing</td>\n",
       "      <td>0.71</td>\n",
       "      <td>0.48</td>\n",
       "      <td>0.00</td>\n",
       "      <td>0.08</td>\n",
       "      <td>NaN</td>\n",
       "      <td>NaN</td>\n",
       "      <td>NaN</td>\n",
       "    </tr>\n",
       "    <tr>\n",
       "      <th>15589</th>\n",
       "      <td>elven legacy</td>\n",
       "      <td>pc</td>\n",
       "      <td>2009.0</td>\n",
       "      <td>strategy</td>\n",
       "      <td>0.02</td>\n",
       "      <td>0.00</td>\n",
       "      <td>0.00</td>\n",
       "      <td>0.00</td>\n",
       "      <td>71.0</td>\n",
       "      <td>7.1</td>\n",
       "      <td>t</td>\n",
       "    </tr>\n",
       "    <tr>\n",
       "      <th>4718</th>\n",
       "      <td>james patterson women's murder club: games of ...</td>\n",
       "      <td>ds</td>\n",
       "      <td>2009.0</td>\n",
       "      <td>adventure</td>\n",
       "      <td>0.15</td>\n",
       "      <td>0.22</td>\n",
       "      <td>0.00</td>\n",
       "      <td>0.05</td>\n",
       "      <td>53.0</td>\n",
       "      <td>tbd</td>\n",
       "      <td>t</td>\n",
       "    </tr>\n",
       "    <tr>\n",
       "      <th>15429</th>\n",
       "      <td>rinne no lagrange: kamogawa days</td>\n",
       "      <td>ps3</td>\n",
       "      <td>2012.0</td>\n",
       "      <td>adventure</td>\n",
       "      <td>0.00</td>\n",
       "      <td>0.00</td>\n",
       "      <td>0.02</td>\n",
       "      <td>0.00</td>\n",
       "      <td>NaN</td>\n",
       "      <td>NaN</td>\n",
       "      <td>NaN</td>\n",
       "    </tr>\n",
       "    <tr>\n",
       "      <th>9621</th>\n",
       "      <td>dreamworks super star kartz</td>\n",
       "      <td>ds</td>\n",
       "      <td>2011.0</td>\n",
       "      <td>racing</td>\n",
       "      <td>0.08</td>\n",
       "      <td>0.03</td>\n",
       "      <td>0.00</td>\n",
       "      <td>0.01</td>\n",
       "      <td>NaN</td>\n",
       "      <td>tbd</td>\n",
       "      <td>e</td>\n",
       "    </tr>\n",
       "    <tr>\n",
       "      <th>10118</th>\n",
       "      <td>transformer: rise of the dark spark</td>\n",
       "      <td>xone</td>\n",
       "      <td>2014.0</td>\n",
       "      <td>action</td>\n",
       "      <td>0.07</td>\n",
       "      <td>0.03</td>\n",
       "      <td>0.00</td>\n",
       "      <td>0.01</td>\n",
       "      <td>NaN</td>\n",
       "      <td>NaN</td>\n",
       "      <td>NaN</td>\n",
       "    </tr>\n",
       "    <tr>\n",
       "      <th>13092</th>\n",
       "      <td>the bureau: xcom declassified</td>\n",
       "      <td>pc</td>\n",
       "      <td>2013.0</td>\n",
       "      <td>shooter</td>\n",
       "      <td>0.00</td>\n",
       "      <td>0.05</td>\n",
       "      <td>0.00</td>\n",
       "      <td>0.00</td>\n",
       "      <td>66.0</td>\n",
       "      <td>6.5</td>\n",
       "      <td>m</td>\n",
       "    </tr>\n",
       "    <tr>\n",
       "      <th>11740</th>\n",
       "      <td>aikatsu! my no.1 stage!</td>\n",
       "      <td>3ds</td>\n",
       "      <td>2015.0</td>\n",
       "      <td>misc</td>\n",
       "      <td>0.00</td>\n",
       "      <td>0.00</td>\n",
       "      <td>0.08</td>\n",
       "      <td>0.00</td>\n",
       "      <td>NaN</td>\n",
       "      <td>NaN</td>\n",
       "      <td>NaN</td>\n",
       "    </tr>\n",
       "    <tr>\n",
       "      <th>5473</th>\n",
       "      <td>sniper: ghost warrior 2</td>\n",
       "      <td>ps3</td>\n",
       "      <td>2013.0</td>\n",
       "      <td>shooter</td>\n",
       "      <td>0.05</td>\n",
       "      <td>0.18</td>\n",
       "      <td>0.03</td>\n",
       "      <td>0.07</td>\n",
       "      <td>52.0</td>\n",
       "      <td>6</td>\n",
       "      <td>m</td>\n",
       "    </tr>\n",
       "    <tr>\n",
       "      <th>4847</th>\n",
       "      <td>command &amp; conquer</td>\n",
       "      <td>ps</td>\n",
       "      <td>1996.0</td>\n",
       "      <td>strategy</td>\n",
       "      <td>0.22</td>\n",
       "      <td>0.15</td>\n",
       "      <td>0.00</td>\n",
       "      <td>0.03</td>\n",
       "      <td>NaN</td>\n",
       "      <td>NaN</td>\n",
       "      <td>NaN</td>\n",
       "    </tr>\n",
       "  </tbody>\n",
       "</table>\n",
       "</div>"
      ],
      "text/plain": [
       "                                                    name platform  \\\n",
       "1554                                           road rash       ps   \n",
       "15589                                       elven legacy       pc   \n",
       "4718   james patterson women's murder club: games of ...       ds   \n",
       "15429                   rinne no lagrange: kamogawa days      ps3   \n",
       "9621                         dreamworks super star kartz       ds   \n",
       "10118                transformer: rise of the dark spark     xone   \n",
       "13092                      the bureau: xcom declassified       pc   \n",
       "11740                            aikatsu! my no.1 stage!      3ds   \n",
       "5473                             sniper: ghost warrior 2      ps3   \n",
       "4847                                   command & conquer       ps   \n",
       "\n",
       "       year_of_release      genre  na_sales  eu_sales  jp_sales  other_sales  \\\n",
       "1554            1995.0     racing      0.71      0.48      0.00         0.08   \n",
       "15589           2009.0   strategy      0.02      0.00      0.00         0.00   \n",
       "4718            2009.0  adventure      0.15      0.22      0.00         0.05   \n",
       "15429           2012.0  adventure      0.00      0.00      0.02         0.00   \n",
       "9621            2011.0     racing      0.08      0.03      0.00         0.01   \n",
       "10118           2014.0     action      0.07      0.03      0.00         0.01   \n",
       "13092           2013.0    shooter      0.00      0.05      0.00         0.00   \n",
       "11740           2015.0       misc      0.00      0.00      0.08         0.00   \n",
       "5473            2013.0    shooter      0.05      0.18      0.03         0.07   \n",
       "4847            1996.0   strategy      0.22      0.15      0.00         0.03   \n",
       "\n",
       "       critic_score user_score rating  \n",
       "1554            NaN        NaN    NaN  \n",
       "15589          71.0        7.1      t  \n",
       "4718           53.0        tbd      t  \n",
       "15429           NaN        NaN    NaN  \n",
       "9621            NaN        tbd      e  \n",
       "10118           NaN        NaN    NaN  \n",
       "13092          66.0        6.5      m  \n",
       "11740           NaN        NaN    NaN  \n",
       "5473           52.0          6      m  \n",
       "4847            NaN        NaN    NaN  "
      ]
     },
     "execution_count": 2,
     "metadata": {},
     "output_type": "execute_result"
    }
   ],
   "source": [
    "games.columns = games.columns.str.lower() # изменим названия столбцов\n",
    "print(games.columns)\n",
    "# приведем к нижнему регистру данные в следующих столбцах:\n",
    "for column in games[['name','platform','genre','rating']]:\n",
    "    games[column] = games[column].str.lower()\n",
    "games.sample(10) "
   ]
  },
  {
   "cell_type": "markdown",
   "metadata": {},
   "source": [
    "Преобразование данных в нужные для дальнейшей работы типы."
   ]
  },
  {
   "cell_type": "code",
   "execution_count": 3,
   "metadata": {},
   "outputs": [
    {
     "name": "stdout",
     "output_type": "stream",
     "text": [
      "<class 'pandas.core.frame.DataFrame'>\n",
      "RangeIndex: 16715 entries, 0 to 16714\n",
      "Data columns (total 11 columns):\n",
      " #   Column           Non-Null Count  Dtype  \n",
      "---  ------           --------------  -----  \n",
      " 0   name             16713 non-null  object \n",
      " 1   platform         16715 non-null  object \n",
      " 2   year_of_release  16446 non-null  float64\n",
      " 3   genre            16713 non-null  object \n",
      " 4   na_sales         16715 non-null  float64\n",
      " 5   eu_sales         16715 non-null  float64\n",
      " 6   jp_sales         16715 non-null  float64\n",
      " 7   other_sales      16715 non-null  float64\n",
      " 8   critic_score     8137 non-null   float64\n",
      " 9   user_score       10014 non-null  object \n",
      " 10  rating           9949 non-null   object \n",
      "dtypes: float64(6), object(5)\n",
      "memory usage: 1.4+ MB\n",
      "None\n"
     ]
    },
    {
     "name": "stderr",
     "output_type": "stream",
     "text": [
      "/tmp/ipykernel_53/3444706632.py:4: SettingWithCopyWarning: \n",
      "A value is trying to be set on a copy of a slice from a DataFrame\n",
      "\n",
      "See the caveats in the documentation: https://pandas.pydata.org/pandas-docs/stable/user_guide/indexing.html#returning-a-view-versus-a-copy\n",
      "  games['year_of_release'][i] = games.loc[games['name'] == games['name'][i], 'year_of_release'].max()\n"
     ]
    },
    {
     "name": "stdout",
     "output_type": "stream",
     "text": [
      "146\n",
      "tbd    2394\n",
      "7.8     324\n",
      "8       288\n",
      "8.2     279\n",
      "8.3     253\n",
      "       ... \n",
      "9.6       2\n",
      "0.9       2\n",
      "1.1       2\n",
      "0         1\n",
      "9.7       1\n",
      "Name: user_score, Length: 96, dtype: int64\n"
     ]
    },
    {
     "data": {
      "text/plain": [
       "e       3958\n",
       "t       2930\n",
       "m       1554\n",
       "e10+    1412\n",
       "ec         8\n",
       "k-a        3\n",
       "rp         2\n",
       "ao         1\n",
       "Name: rating, dtype: int64"
      ]
     },
     "execution_count": 3,
     "metadata": {},
     "output_type": "execute_result"
    }
   ],
   "source": [
    "print(games.info())\n",
    "#поменяем пропуски в годах там, где есть возможность понять по названию игры\n",
    "for i in games[games['year_of_release'].isnull() == True].index:  \n",
    "    games['year_of_release'][i] = games.loc[games['name'] == games['name'][i], 'year_of_release'].max()\n",
    "print(games['year_of_release'].isna().sum())\n",
    "# оставшиеся заменим нулями, исключим эти 146 строк из таблицы и поменяем тип данных\n",
    "games['year_of_release'] = games['year_of_release'].fillna(0)\n",
    "games = games.query('year_of_release != 0')\n",
    "games['year_of_release'] = games['year_of_release'].astype('int')\n",
    "print(games['user_score'].value_counts()) #поскольку оказалось большое число в этом столбце с tbd - \"to be determined\" \n",
    "#то пока не будем менять тип данных, сначала поменяем их на ΝαΝ\n",
    "games['rating'].value_counts()"
   ]
  },
  {
   "cell_type": "markdown",
   "metadata": {},
   "source": [
    "Обработала пропуски: "
   ]
  },
  {
   "cell_type": "code",
   "execution_count": 4,
   "metadata": {},
   "outputs": [
    {
     "data": {
      "text/html": [
       "<div>\n",
       "<style scoped>\n",
       "    .dataframe tbody tr th:only-of-type {\n",
       "        vertical-align: middle;\n",
       "    }\n",
       "\n",
       "    .dataframe tbody tr th {\n",
       "        vertical-align: top;\n",
       "    }\n",
       "\n",
       "    .dataframe thead th {\n",
       "        text-align: right;\n",
       "    }\n",
       "</style>\n",
       "<table border=\"1\" class=\"dataframe\">\n",
       "  <thead>\n",
       "    <tr style=\"text-align: right;\">\n",
       "      <th></th>\n",
       "      <th>name</th>\n",
       "      <th>platform</th>\n",
       "      <th>year_of_release</th>\n",
       "      <th>genre</th>\n",
       "      <th>na_sales</th>\n",
       "      <th>eu_sales</th>\n",
       "      <th>jp_sales</th>\n",
       "      <th>other_sales</th>\n",
       "      <th>critic_score</th>\n",
       "      <th>user_score</th>\n",
       "      <th>rating</th>\n",
       "    </tr>\n",
       "  </thead>\n",
       "  <tbody>\n",
       "    <tr>\n",
       "      <th>659</th>\n",
       "      <td>NaN</td>\n",
       "      <td>gen</td>\n",
       "      <td>1993</td>\n",
       "      <td>NaN</td>\n",
       "      <td>1.78</td>\n",
       "      <td>0.53</td>\n",
       "      <td>0.00</td>\n",
       "      <td>0.08</td>\n",
       "      <td>NaN</td>\n",
       "      <td>NaN</td>\n",
       "      <td>NaN</td>\n",
       "    </tr>\n",
       "    <tr>\n",
       "      <th>14244</th>\n",
       "      <td>NaN</td>\n",
       "      <td>gen</td>\n",
       "      <td>1993</td>\n",
       "      <td>NaN</td>\n",
       "      <td>0.00</td>\n",
       "      <td>0.00</td>\n",
       "      <td>0.03</td>\n",
       "      <td>0.00</td>\n",
       "      <td>NaN</td>\n",
       "      <td>NaN</td>\n",
       "      <td>NaN</td>\n",
       "    </tr>\n",
       "  </tbody>\n",
       "</table>\n",
       "</div>"
      ],
      "text/plain": [
       "      name platform  year_of_release genre  na_sales  eu_sales  jp_sales  \\\n",
       "659    NaN      gen             1993   NaN      1.78      0.53      0.00   \n",
       "14244  NaN      gen             1993   NaN      0.00      0.00      0.03   \n",
       "\n",
       "       other_sales  critic_score user_score rating  \n",
       "659           0.08           NaN        NaN    NaN  \n",
       "14244         0.00           NaN        NaN    NaN  "
      ]
     },
     "metadata": {},
     "output_type": "display_data"
    },
    {
     "data": {
      "text/html": [
       "<div>\n",
       "<style scoped>\n",
       "    .dataframe tbody tr th:only-of-type {\n",
       "        vertical-align: middle;\n",
       "    }\n",
       "\n",
       "    .dataframe tbody tr th {\n",
       "        vertical-align: top;\n",
       "    }\n",
       "\n",
       "    .dataframe thead th {\n",
       "        text-align: right;\n",
       "    }\n",
       "</style>\n",
       "<table border=\"1\" class=\"dataframe\">\n",
       "  <thead>\n",
       "    <tr style=\"text-align: right;\">\n",
       "      <th></th>\n",
       "      <th>name</th>\n",
       "      <th>platform</th>\n",
       "      <th>year_of_release</th>\n",
       "      <th>genre</th>\n",
       "      <th>na_sales</th>\n",
       "      <th>eu_sales</th>\n",
       "      <th>jp_sales</th>\n",
       "      <th>other_sales</th>\n",
       "      <th>critic_score</th>\n",
       "      <th>user_score</th>\n",
       "      <th>rating</th>\n",
       "    </tr>\n",
       "  </thead>\n",
       "  <tbody>\n",
       "  </tbody>\n",
       "</table>\n",
       "</div>"
      ],
      "text/plain": [
       "Empty DataFrame\n",
       "Columns: [name, platform, year_of_release, genre, na_sales, eu_sales, jp_sales, other_sales, critic_score, user_score, rating]\n",
       "Index: []"
      ]
     },
     "metadata": {},
     "output_type": "display_data"
    },
    {
     "data": {
      "text/plain": [
       "name                  2\n",
       "platform              0\n",
       "year_of_release       0\n",
       "genre                 2\n",
       "na_sales              0\n",
       "eu_sales              0\n",
       "jp_sales              0\n",
       "other_sales           0\n",
       "critic_score       8494\n",
       "user_score         6635\n",
       "rating             6701\n",
       "dtype: int64"
      ]
     },
     "metadata": {},
     "output_type": "display_data"
    }
   ],
   "source": [
    "display(games[games['genre'].isnull() == True].head())\n",
    "display(games[games['platform'] =='GEN'].head(30))\n",
    "#Поскольку в 1993 году у этой платформы выходил целый ряд игр, то восстановить пропуски в названии и в жанре нет возможности,\n",
    "#но поскольку это всего две строки, то их можно просто удалить\n",
    "display(games.isna().sum())"
   ]
  },
  {
   "cell_type": "markdown",
   "metadata": {},
   "source": [
    "Удалим строки с пустым значением в столбце 'name', так как их всего две. Они не изменят общую статистическую картину.\n",
    "в трех столбцах удалять пропуски не будем, заменим на 0 в тех случаях, когда это потребуется для анализа:\n",
    "\n",
    "critic_score       8578\n",
    "\n",
    "user_score         6701\n",
    "\n",
    "rating             6766"
   ]
  },
  {
   "cell_type": "code",
   "execution_count": 5,
   "metadata": {},
   "outputs": [],
   "source": [
    "games['name'] = games['name'].fillna(0)\n",
    "games = games.query('name != 0')\n",
    "games['critic_score'] = games['critic_score'].fillna(0)"
   ]
  },
  {
   "cell_type": "code",
   "execution_count": 6,
   "metadata": {},
   "outputs": [
    {
     "data": {
      "text/plain": [
       "0"
      ]
     },
     "execution_count": 6,
     "metadata": {},
     "output_type": "execute_result"
    }
   ],
   "source": [
    "games.duplicated().sum()"
   ]
  },
  {
   "cell_type": "markdown",
   "metadata": {},
   "source": [
    "Дубликатов не имеется"
   ]
  },
  {
   "cell_type": "markdown",
   "metadata": {},
   "source": [
    "Описание причин, которые могли привести к пропускам"
   ]
  },
  {
   "cell_type": "markdown",
   "metadata": {},
   "source": [
    "Поскольку большая часть пропусков в тех столбцах, которые зависят от мнения пользователей, то часть из них объясняется тем фактом, что игру купило не так много людей или вовсе не купило, так игра осталась без оценки. Или купившие ее, как и критики не определились с оценкой.\n",
    "в графе rating помещается рейтинг от ESRB (была основана в 1994 году) - соответственно, с 1980 по 1993 пропуски в этой графе связаны с тем, что в эти годы не было такой организации. Невозможно дать рейтинг игре, посчитав его как среднее рейтингов игр того же жанра. Можно поставить рейтинг \"No ESRB\", проверим нашу гипотезу"
   ]
  },
  {
   "cell_type": "code",
   "execution_count": 7,
   "metadata": {},
   "outputs": [
    {
     "data": {
      "text/html": [
       "<div>\n",
       "<style scoped>\n",
       "    .dataframe tbody tr th:only-of-type {\n",
       "        vertical-align: middle;\n",
       "    }\n",
       "\n",
       "    .dataframe tbody tr th {\n",
       "        vertical-align: top;\n",
       "    }\n",
       "\n",
       "    .dataframe thead th {\n",
       "        text-align: right;\n",
       "    }\n",
       "</style>\n",
       "<table border=\"1\" class=\"dataframe\">\n",
       "  <thead>\n",
       "    <tr style=\"text-align: right;\">\n",
       "      <th></th>\n",
       "      <th>name</th>\n",
       "      <th>platform</th>\n",
       "      <th>year_of_release</th>\n",
       "      <th>genre</th>\n",
       "      <th>na_sales</th>\n",
       "      <th>eu_sales</th>\n",
       "      <th>jp_sales</th>\n",
       "      <th>other_sales</th>\n",
       "      <th>critic_score</th>\n",
       "      <th>user_score</th>\n",
       "      <th>rating</th>\n",
       "    </tr>\n",
       "  </thead>\n",
       "  <tbody>\n",
       "    <tr>\n",
       "      <th>1</th>\n",
       "      <td>super mario bros.</td>\n",
       "      <td>nes</td>\n",
       "      <td>1985</td>\n",
       "      <td>platform</td>\n",
       "      <td>29.08</td>\n",
       "      <td>3.58</td>\n",
       "      <td>6.81</td>\n",
       "      <td>0.77</td>\n",
       "      <td>0.0</td>\n",
       "      <td>NaN</td>\n",
       "      <td>NaN</td>\n",
       "    </tr>\n",
       "    <tr>\n",
       "      <th>5</th>\n",
       "      <td>tetris</td>\n",
       "      <td>gb</td>\n",
       "      <td>1989</td>\n",
       "      <td>puzzle</td>\n",
       "      <td>23.20</td>\n",
       "      <td>2.26</td>\n",
       "      <td>4.22</td>\n",
       "      <td>0.58</td>\n",
       "      <td>0.0</td>\n",
       "      <td>NaN</td>\n",
       "      <td>NaN</td>\n",
       "    </tr>\n",
       "    <tr>\n",
       "      <th>9</th>\n",
       "      <td>duck hunt</td>\n",
       "      <td>nes</td>\n",
       "      <td>1984</td>\n",
       "      <td>shooter</td>\n",
       "      <td>26.93</td>\n",
       "      <td>0.63</td>\n",
       "      <td>0.28</td>\n",
       "      <td>0.47</td>\n",
       "      <td>0.0</td>\n",
       "      <td>NaN</td>\n",
       "      <td>NaN</td>\n",
       "    </tr>\n",
       "    <tr>\n",
       "      <th>18</th>\n",
       "      <td>super mario world</td>\n",
       "      <td>snes</td>\n",
       "      <td>1990</td>\n",
       "      <td>platform</td>\n",
       "      <td>12.78</td>\n",
       "      <td>3.75</td>\n",
       "      <td>3.54</td>\n",
       "      <td>0.55</td>\n",
       "      <td>0.0</td>\n",
       "      <td>NaN</td>\n",
       "      <td>NaN</td>\n",
       "    </tr>\n",
       "    <tr>\n",
       "      <th>21</th>\n",
       "      <td>super mario land</td>\n",
       "      <td>gb</td>\n",
       "      <td>1989</td>\n",
       "      <td>platform</td>\n",
       "      <td>10.83</td>\n",
       "      <td>2.71</td>\n",
       "      <td>4.18</td>\n",
       "      <td>0.42</td>\n",
       "      <td>0.0</td>\n",
       "      <td>NaN</td>\n",
       "      <td>NaN</td>\n",
       "    </tr>\n",
       "    <tr>\n",
       "      <th>...</th>\n",
       "      <td>...</td>\n",
       "      <td>...</td>\n",
       "      <td>...</td>\n",
       "      <td>...</td>\n",
       "      <td>...</td>\n",
       "      <td>...</td>\n",
       "      <td>...</td>\n",
       "      <td>...</td>\n",
       "      <td>...</td>\n",
       "      <td>...</td>\n",
       "      <td>...</td>\n",
       "    </tr>\n",
       "    <tr>\n",
       "      <th>14610</th>\n",
       "      <td>doom</td>\n",
       "      <td>pc</td>\n",
       "      <td>1992</td>\n",
       "      <td>shooter</td>\n",
       "      <td>0.02</td>\n",
       "      <td>0.00</td>\n",
       "      <td>0.00</td>\n",
       "      <td>0.00</td>\n",
       "      <td>85.0</td>\n",
       "      <td>8.2</td>\n",
       "      <td>m</td>\n",
       "    </tr>\n",
       "    <tr>\n",
       "      <th>14621</th>\n",
       "      <td>simcity</td>\n",
       "      <td>pc</td>\n",
       "      <td>1988</td>\n",
       "      <td>simulation</td>\n",
       "      <td>0.00</td>\n",
       "      <td>0.02</td>\n",
       "      <td>0.00</td>\n",
       "      <td>0.01</td>\n",
       "      <td>64.0</td>\n",
       "      <td>2.2</td>\n",
       "      <td>e10+</td>\n",
       "    </tr>\n",
       "    <tr>\n",
       "      <th>15692</th>\n",
       "      <td>empire deluxe</td>\n",
       "      <td>pc</td>\n",
       "      <td>1992</td>\n",
       "      <td>strategy</td>\n",
       "      <td>0.02</td>\n",
       "      <td>0.00</td>\n",
       "      <td>0.00</td>\n",
       "      <td>0.00</td>\n",
       "      <td>0.0</td>\n",
       "      <td>NaN</td>\n",
       "      <td>NaN</td>\n",
       "    </tr>\n",
       "    <tr>\n",
       "      <th>15957</th>\n",
       "      <td>strongest tokyo university shogi ds</td>\n",
       "      <td>ds</td>\n",
       "      <td>1985</td>\n",
       "      <td>action</td>\n",
       "      <td>0.00</td>\n",
       "      <td>0.00</td>\n",
       "      <td>0.02</td>\n",
       "      <td>0.00</td>\n",
       "      <td>0.0</td>\n",
       "      <td>NaN</td>\n",
       "      <td>NaN</td>\n",
       "    </tr>\n",
       "    <tr>\n",
       "      <th>16207</th>\n",
       "      <td>rock n' roll racing</td>\n",
       "      <td>snes</td>\n",
       "      <td>1993</td>\n",
       "      <td>racing</td>\n",
       "      <td>0.00</td>\n",
       "      <td>0.00</td>\n",
       "      <td>0.01</td>\n",
       "      <td>0.00</td>\n",
       "      <td>0.0</td>\n",
       "      <td>NaN</td>\n",
       "      <td>NaN</td>\n",
       "    </tr>\n",
       "  </tbody>\n",
       "</table>\n",
       "<p>365 rows × 11 columns</p>\n",
       "</div>"
      ],
      "text/plain": [
       "                                      name platform  year_of_release  \\\n",
       "1                        super mario bros.      nes             1985   \n",
       "5                                   tetris       gb             1989   \n",
       "9                                duck hunt      nes             1984   \n",
       "18                       super mario world     snes             1990   \n",
       "21                        super mario land       gb             1989   \n",
       "...                                    ...      ...              ...   \n",
       "14610                                 doom       pc             1992   \n",
       "14621                              simcity       pc             1988   \n",
       "15692                        empire deluxe       pc             1992   \n",
       "15957  strongest tokyo university shogi ds       ds             1985   \n",
       "16207                  rock n' roll racing     snes             1993   \n",
       "\n",
       "            genre  na_sales  eu_sales  jp_sales  other_sales  critic_score  \\\n",
       "1        platform     29.08      3.58      6.81         0.77           0.0   \n",
       "5          puzzle     23.20      2.26      4.22         0.58           0.0   \n",
       "9         shooter     26.93      0.63      0.28         0.47           0.0   \n",
       "18       platform     12.78      3.75      3.54         0.55           0.0   \n",
       "21       platform     10.83      2.71      4.18         0.42           0.0   \n",
       "...           ...       ...       ...       ...          ...           ...   \n",
       "14610     shooter      0.02      0.00      0.00         0.00          85.0   \n",
       "14621  simulation      0.00      0.02      0.00         0.01          64.0   \n",
       "15692    strategy      0.02      0.00      0.00         0.00           0.0   \n",
       "15957      action      0.00      0.00      0.02         0.00           0.0   \n",
       "16207      racing      0.00      0.00      0.01         0.00           0.0   \n",
       "\n",
       "      user_score rating  \n",
       "1            NaN    NaN  \n",
       "5            NaN    NaN  \n",
       "9            NaN    NaN  \n",
       "18           NaN    NaN  \n",
       "21           NaN    NaN  \n",
       "...          ...    ...  \n",
       "14610        8.2      m  \n",
       "14621        2.2   e10+  \n",
       "15692        NaN    NaN  \n",
       "15957        NaN    NaN  \n",
       "16207        NaN    NaN  \n",
       "\n",
       "[365 rows x 11 columns]"
      ]
     },
     "metadata": {},
     "output_type": "display_data"
    }
   ],
   "source": [
    "display(games.loc[games['year_of_release'] < 1994])"
   ]
  },
  {
   "cell_type": "markdown",
   "metadata": {},
   "source": [
    "Однако, оказалось, что некоторые популярные у критиков игры, несмотря на появление до 1994 года, получили рейтинг. Так что замена на \"No ESRB\" будет некорректна. "
   ]
  },
  {
   "cell_type": "markdown",
   "metadata": {},
   "source": [
    "Обратила внимание на аббревиатуру 'tbd' в столбце с оценкой пользователей и разобралась с его особенностями для дальнейшей работы. Как мы выяснили: tbd - \"to be determined\", to be done. Пишется тогда, когда игра имеет недостаточное количество отзывов (менее 4) для подсчета рейтинга пользователей и его публикации. То есть, данные были специально не заполнены, поскольку пользователи не определились с рейтингом, поменяем его на NaN"
   ]
  },
  {
   "cell_type": "code",
   "execution_count": 8,
   "metadata": {},
   "outputs": [],
   "source": [
    "games.loc[games['rating'] =='tbd'].head(30)\n",
    "games['user_score'] = games['user_score'].replace(\"tbd\", np.NaN)\n",
    "# Приведем годы и оценки критиков в целочисленный тип\n",
    "games['critic_score'] = games['critic_score'].astype('int')\n",
    "# Оценки пользователей приведем к типу float\n",
    "games['user_score'] = games['user_score'].fillna(0)\n",
    "games['user_score'] = games['user_score'].astype('float64')"
   ]
  },
  {
   "cell_type": "code",
   "execution_count": 9,
   "metadata": {},
   "outputs": [
    {
     "data": {
      "text/plain": [
       "action          3342\n",
       "sports          2333\n",
       "misc            1735\n",
       "role-playing    1484\n",
       "shooter         1311\n",
       "adventure       1294\n",
       "racing          1236\n",
       "platform         879\n",
       "simulation       860\n",
       "fighting         842\n",
       "strategy         678\n",
       "puzzle           573\n",
       "Name: genre, dtype: int64"
      ]
     },
     "execution_count": 9,
     "metadata": {},
     "output_type": "execute_result"
    }
   ],
   "source": [
    "#Посмотрим, какие жанры игр и нет ли повторений\n",
    "games['genre'].value_counts()"
   ]
  },
  {
   "cell_type": "markdown",
   "metadata": {},
   "source": [
    "Посчитала суммарные продажи во всех регионах и записала их в отдельный столбец."
   ]
  },
  {
   "cell_type": "code",
   "execution_count": 10,
   "metadata": {},
   "outputs": [
    {
     "data": {
      "text/html": [
       "<div>\n",
       "<style scoped>\n",
       "    .dataframe tbody tr th:only-of-type {\n",
       "        vertical-align: middle;\n",
       "    }\n",
       "\n",
       "    .dataframe tbody tr th {\n",
       "        vertical-align: top;\n",
       "    }\n",
       "\n",
       "    .dataframe thead th {\n",
       "        text-align: right;\n",
       "    }\n",
       "</style>\n",
       "<table border=\"1\" class=\"dataframe\">\n",
       "  <thead>\n",
       "    <tr style=\"text-align: right;\">\n",
       "      <th></th>\n",
       "      <th>name</th>\n",
       "      <th>platform</th>\n",
       "      <th>year_of_release</th>\n",
       "      <th>genre</th>\n",
       "      <th>na_sales</th>\n",
       "      <th>eu_sales</th>\n",
       "      <th>jp_sales</th>\n",
       "      <th>other_sales</th>\n",
       "      <th>critic_score</th>\n",
       "      <th>user_score</th>\n",
       "      <th>rating</th>\n",
       "      <th>total_sales</th>\n",
       "    </tr>\n",
       "  </thead>\n",
       "  <tbody>\n",
       "    <tr>\n",
       "      <th>0</th>\n",
       "      <td>wii sports</td>\n",
       "      <td>wii</td>\n",
       "      <td>2006</td>\n",
       "      <td>sports</td>\n",
       "      <td>41.36</td>\n",
       "      <td>28.96</td>\n",
       "      <td>3.77</td>\n",
       "      <td>8.45</td>\n",
       "      <td>76</td>\n",
       "      <td>8.0</td>\n",
       "      <td>e</td>\n",
       "      <td>82.54</td>\n",
       "    </tr>\n",
       "    <tr>\n",
       "      <th>1</th>\n",
       "      <td>super mario bros.</td>\n",
       "      <td>nes</td>\n",
       "      <td>1985</td>\n",
       "      <td>platform</td>\n",
       "      <td>29.08</td>\n",
       "      <td>3.58</td>\n",
       "      <td>6.81</td>\n",
       "      <td>0.77</td>\n",
       "      <td>0</td>\n",
       "      <td>0.0</td>\n",
       "      <td>NaN</td>\n",
       "      <td>40.24</td>\n",
       "    </tr>\n",
       "    <tr>\n",
       "      <th>2</th>\n",
       "      <td>mario kart wii</td>\n",
       "      <td>wii</td>\n",
       "      <td>2008</td>\n",
       "      <td>racing</td>\n",
       "      <td>15.68</td>\n",
       "      <td>12.76</td>\n",
       "      <td>3.79</td>\n",
       "      <td>3.29</td>\n",
       "      <td>82</td>\n",
       "      <td>8.3</td>\n",
       "      <td>e</td>\n",
       "      <td>35.52</td>\n",
       "    </tr>\n",
       "    <tr>\n",
       "      <th>3</th>\n",
       "      <td>wii sports resort</td>\n",
       "      <td>wii</td>\n",
       "      <td>2009</td>\n",
       "      <td>sports</td>\n",
       "      <td>15.61</td>\n",
       "      <td>10.93</td>\n",
       "      <td>3.28</td>\n",
       "      <td>2.95</td>\n",
       "      <td>80</td>\n",
       "      <td>8.0</td>\n",
       "      <td>e</td>\n",
       "      <td>32.77</td>\n",
       "    </tr>\n",
       "    <tr>\n",
       "      <th>4</th>\n",
       "      <td>pokemon red/pokemon blue</td>\n",
       "      <td>gb</td>\n",
       "      <td>1996</td>\n",
       "      <td>role-playing</td>\n",
       "      <td>11.27</td>\n",
       "      <td>8.89</td>\n",
       "      <td>10.22</td>\n",
       "      <td>1.00</td>\n",
       "      <td>0</td>\n",
       "      <td>0.0</td>\n",
       "      <td>NaN</td>\n",
       "      <td>31.38</td>\n",
       "    </tr>\n",
       "    <tr>\n",
       "      <th>5</th>\n",
       "      <td>tetris</td>\n",
       "      <td>gb</td>\n",
       "      <td>1989</td>\n",
       "      <td>puzzle</td>\n",
       "      <td>23.20</td>\n",
       "      <td>2.26</td>\n",
       "      <td>4.22</td>\n",
       "      <td>0.58</td>\n",
       "      <td>0</td>\n",
       "      <td>0.0</td>\n",
       "      <td>NaN</td>\n",
       "      <td>30.26</td>\n",
       "    </tr>\n",
       "    <tr>\n",
       "      <th>6</th>\n",
       "      <td>new super mario bros.</td>\n",
       "      <td>ds</td>\n",
       "      <td>2006</td>\n",
       "      <td>platform</td>\n",
       "      <td>11.28</td>\n",
       "      <td>9.14</td>\n",
       "      <td>6.50</td>\n",
       "      <td>2.88</td>\n",
       "      <td>89</td>\n",
       "      <td>8.5</td>\n",
       "      <td>e</td>\n",
       "      <td>29.80</td>\n",
       "    </tr>\n",
       "    <tr>\n",
       "      <th>7</th>\n",
       "      <td>wii play</td>\n",
       "      <td>wii</td>\n",
       "      <td>2006</td>\n",
       "      <td>misc</td>\n",
       "      <td>13.96</td>\n",
       "      <td>9.18</td>\n",
       "      <td>2.93</td>\n",
       "      <td>2.84</td>\n",
       "      <td>58</td>\n",
       "      <td>6.6</td>\n",
       "      <td>e</td>\n",
       "      <td>28.91</td>\n",
       "    </tr>\n",
       "    <tr>\n",
       "      <th>8</th>\n",
       "      <td>new super mario bros. wii</td>\n",
       "      <td>wii</td>\n",
       "      <td>2009</td>\n",
       "      <td>platform</td>\n",
       "      <td>14.44</td>\n",
       "      <td>6.94</td>\n",
       "      <td>4.70</td>\n",
       "      <td>2.24</td>\n",
       "      <td>87</td>\n",
       "      <td>8.4</td>\n",
       "      <td>e</td>\n",
       "      <td>28.32</td>\n",
       "    </tr>\n",
       "    <tr>\n",
       "      <th>9</th>\n",
       "      <td>duck hunt</td>\n",
       "      <td>nes</td>\n",
       "      <td>1984</td>\n",
       "      <td>shooter</td>\n",
       "      <td>26.93</td>\n",
       "      <td>0.63</td>\n",
       "      <td>0.28</td>\n",
       "      <td>0.47</td>\n",
       "      <td>0</td>\n",
       "      <td>0.0</td>\n",
       "      <td>NaN</td>\n",
       "      <td>28.31</td>\n",
       "    </tr>\n",
       "  </tbody>\n",
       "</table>\n",
       "</div>"
      ],
      "text/plain": [
       "                        name platform  year_of_release         genre  \\\n",
       "0                 wii sports      wii             2006        sports   \n",
       "1          super mario bros.      nes             1985      platform   \n",
       "2             mario kart wii      wii             2008        racing   \n",
       "3          wii sports resort      wii             2009        sports   \n",
       "4   pokemon red/pokemon blue       gb             1996  role-playing   \n",
       "5                     tetris       gb             1989        puzzle   \n",
       "6      new super mario bros.       ds             2006      platform   \n",
       "7                   wii play      wii             2006          misc   \n",
       "8  new super mario bros. wii      wii             2009      platform   \n",
       "9                  duck hunt      nes             1984       shooter   \n",
       "\n",
       "   na_sales  eu_sales  jp_sales  other_sales  critic_score  user_score rating  \\\n",
       "0     41.36     28.96      3.77         8.45            76         8.0      e   \n",
       "1     29.08      3.58      6.81         0.77             0         0.0    NaN   \n",
       "2     15.68     12.76      3.79         3.29            82         8.3      e   \n",
       "3     15.61     10.93      3.28         2.95            80         8.0      e   \n",
       "4     11.27      8.89     10.22         1.00             0         0.0    NaN   \n",
       "5     23.20      2.26      4.22         0.58             0         0.0    NaN   \n",
       "6     11.28      9.14      6.50         2.88            89         8.5      e   \n",
       "7     13.96      9.18      2.93         2.84            58         6.6      e   \n",
       "8     14.44      6.94      4.70         2.24            87         8.4      e   \n",
       "9     26.93      0.63      0.28         0.47             0         0.0    NaN   \n",
       "\n",
       "   total_sales  \n",
       "0        82.54  \n",
       "1        40.24  \n",
       "2        35.52  \n",
       "3        32.77  \n",
       "4        31.38  \n",
       "5        30.26  \n",
       "6        29.80  \n",
       "7        28.91  \n",
       "8        28.32  \n",
       "9        28.31  "
      ]
     },
     "execution_count": 10,
     "metadata": {},
     "output_type": "execute_result"
    }
   ],
   "source": [
    "# Добавим столбец total_sales с суммарными продажами\n",
    "games['total_sales'] = games[['na_sales','eu_sales','jp_sales', 'other_sales']].sum(axis = 1)\n",
    "games.head(10)"
   ]
  },
  {
   "cell_type": "markdown",
   "metadata": {},
   "source": [
    "Проведем исследовательский анализ данных, выясним, сколько игр выпускалось в разные годы. Нужно ли учитывать данные за все периоды?"
   ]
  },
  {
   "cell_type": "code",
   "execution_count": 11,
   "metadata": {},
   "outputs": [
    {
     "data": {
      "text/html": [
       "<div>\n",
       "<style scoped>\n",
       "    .dataframe tbody tr th:only-of-type {\n",
       "        vertical-align: middle;\n",
       "    }\n",
       "\n",
       "    .dataframe tbody tr th {\n",
       "        vertical-align: top;\n",
       "    }\n",
       "\n",
       "    .dataframe thead th {\n",
       "        text-align: right;\n",
       "    }\n",
       "</style>\n",
       "<table border=\"1\" class=\"dataframe\">\n",
       "  <thead>\n",
       "    <tr style=\"text-align: right;\">\n",
       "      <th></th>\n",
       "      <th>total_sales</th>\n",
       "      <th>name</th>\n",
       "    </tr>\n",
       "    <tr>\n",
       "      <th>year_of_release</th>\n",
       "      <th></th>\n",
       "      <th></th>\n",
       "    </tr>\n",
       "  </thead>\n",
       "  <tbody>\n",
       "    <tr>\n",
       "      <th>1980</th>\n",
       "      <td>11.38</td>\n",
       "      <td>9</td>\n",
       "    </tr>\n",
       "    <tr>\n",
       "      <th>1981</th>\n",
       "      <td>35.68</td>\n",
       "      <td>46</td>\n",
       "    </tr>\n",
       "    <tr>\n",
       "      <th>1982</th>\n",
       "      <td>28.88</td>\n",
       "      <td>36</td>\n",
       "    </tr>\n",
       "    <tr>\n",
       "      <th>1983</th>\n",
       "      <td>16.80</td>\n",
       "      <td>17</td>\n",
       "    </tr>\n",
       "    <tr>\n",
       "      <th>1984</th>\n",
       "      <td>50.35</td>\n",
       "      <td>14</td>\n",
       "    </tr>\n",
       "    <tr>\n",
       "      <th>1985</th>\n",
       "      <td>53.95</td>\n",
       "      <td>14</td>\n",
       "    </tr>\n",
       "    <tr>\n",
       "      <th>1986</th>\n",
       "      <td>37.08</td>\n",
       "      <td>21</td>\n",
       "    </tr>\n",
       "    <tr>\n",
       "      <th>1987</th>\n",
       "      <td>21.70</td>\n",
       "      <td>16</td>\n",
       "    </tr>\n",
       "    <tr>\n",
       "      <th>1988</th>\n",
       "      <td>47.21</td>\n",
       "      <td>15</td>\n",
       "    </tr>\n",
       "    <tr>\n",
       "      <th>1989</th>\n",
       "      <td>73.45</td>\n",
       "      <td>17</td>\n",
       "    </tr>\n",
       "    <tr>\n",
       "      <th>1990</th>\n",
       "      <td>49.37</td>\n",
       "      <td>16</td>\n",
       "    </tr>\n",
       "    <tr>\n",
       "      <th>1991</th>\n",
       "      <td>32.23</td>\n",
       "      <td>41</td>\n",
       "    </tr>\n",
       "    <tr>\n",
       "      <th>1992</th>\n",
       "      <td>76.16</td>\n",
       "      <td>43</td>\n",
       "    </tr>\n",
       "    <tr>\n",
       "      <th>1993</th>\n",
       "      <td>45.99</td>\n",
       "      <td>60</td>\n",
       "    </tr>\n",
       "    <tr>\n",
       "      <th>1994</th>\n",
       "      <td>79.23</td>\n",
       "      <td>121</td>\n",
       "    </tr>\n",
       "    <tr>\n",
       "      <th>1995</th>\n",
       "      <td>88.12</td>\n",
       "      <td>219</td>\n",
       "    </tr>\n",
       "    <tr>\n",
       "      <th>1996</th>\n",
       "      <td>199.15</td>\n",
       "      <td>263</td>\n",
       "    </tr>\n",
       "    <tr>\n",
       "      <th>1997</th>\n",
       "      <td>201.07</td>\n",
       "      <td>289</td>\n",
       "    </tr>\n",
       "    <tr>\n",
       "      <th>1998</th>\n",
       "      <td>256.31</td>\n",
       "      <td>379</td>\n",
       "    </tr>\n",
       "    <tr>\n",
       "      <th>1999</th>\n",
       "      <td>251.25</td>\n",
       "      <td>339</td>\n",
       "    </tr>\n",
       "    <tr>\n",
       "      <th>2000</th>\n",
       "      <td>201.66</td>\n",
       "      <td>350</td>\n",
       "    </tr>\n",
       "    <tr>\n",
       "      <th>2001</th>\n",
       "      <td>332.32</td>\n",
       "      <td>484</td>\n",
       "    </tr>\n",
       "    <tr>\n",
       "      <th>2002</th>\n",
       "      <td>403.64</td>\n",
       "      <td>845</td>\n",
       "    </tr>\n",
       "    <tr>\n",
       "      <th>2003</th>\n",
       "      <td>368.15</td>\n",
       "      <td>785</td>\n",
       "    </tr>\n",
       "    <tr>\n",
       "      <th>2004</th>\n",
       "      <td>419.63</td>\n",
       "      <td>765</td>\n",
       "    </tr>\n",
       "    <tr>\n",
       "      <th>2005</th>\n",
       "      <td>459.96</td>\n",
       "      <td>947</td>\n",
       "    </tr>\n",
       "    <tr>\n",
       "      <th>2006</th>\n",
       "      <td>523.65</td>\n",
       "      <td>1020</td>\n",
       "    </tr>\n",
       "    <tr>\n",
       "      <th>2007</th>\n",
       "      <td>606.16</td>\n",
       "      <td>1202</td>\n",
       "    </tr>\n",
       "    <tr>\n",
       "      <th>2008</th>\n",
       "      <td>680.44</td>\n",
       "      <td>1440</td>\n",
       "    </tr>\n",
       "    <tr>\n",
       "      <th>2009</th>\n",
       "      <td>660.31</td>\n",
       "      <td>1431</td>\n",
       "    </tr>\n",
       "    <tr>\n",
       "      <th>2010</th>\n",
       "      <td>595.63</td>\n",
       "      <td>1271</td>\n",
       "    </tr>\n",
       "    <tr>\n",
       "      <th>2011</th>\n",
       "      <td>510.59</td>\n",
       "      <td>1153</td>\n",
       "    </tr>\n",
       "    <tr>\n",
       "      <th>2012</th>\n",
       "      <td>360.52</td>\n",
       "      <td>662</td>\n",
       "    </tr>\n",
       "    <tr>\n",
       "      <th>2013</th>\n",
       "      <td>361.76</td>\n",
       "      <td>547</td>\n",
       "    </tr>\n",
       "    <tr>\n",
       "      <th>2014</th>\n",
       "      <td>331.88</td>\n",
       "      <td>582</td>\n",
       "    </tr>\n",
       "    <tr>\n",
       "      <th>2015</th>\n",
       "      <td>267.98</td>\n",
       "      <td>606</td>\n",
       "    </tr>\n",
       "    <tr>\n",
       "      <th>2016</th>\n",
       "      <td>129.94</td>\n",
       "      <td>502</td>\n",
       "    </tr>\n",
       "  </tbody>\n",
       "</table>\n",
       "</div>"
      ],
      "text/plain": [
       "                 total_sales  name\n",
       "year_of_release                   \n",
       "1980                   11.38     9\n",
       "1981                   35.68    46\n",
       "1982                   28.88    36\n",
       "1983                   16.80    17\n",
       "1984                   50.35    14\n",
       "1985                   53.95    14\n",
       "1986                   37.08    21\n",
       "1987                   21.70    16\n",
       "1988                   47.21    15\n",
       "1989                   73.45    17\n",
       "1990                   49.37    16\n",
       "1991                   32.23    41\n",
       "1992                   76.16    43\n",
       "1993                   45.99    60\n",
       "1994                   79.23   121\n",
       "1995                   88.12   219\n",
       "1996                  199.15   263\n",
       "1997                  201.07   289\n",
       "1998                  256.31   379\n",
       "1999                  251.25   339\n",
       "2000                  201.66   350\n",
       "2001                  332.32   484\n",
       "2002                  403.64   845\n",
       "2003                  368.15   785\n",
       "2004                  419.63   765\n",
       "2005                  459.96   947\n",
       "2006                  523.65  1020\n",
       "2007                  606.16  1202\n",
       "2008                  680.44  1440\n",
       "2009                  660.31  1431\n",
       "2010                  595.63  1271\n",
       "2011                  510.59  1153\n",
       "2012                  360.52   662\n",
       "2013                  361.76   547\n",
       "2014                  331.88   582\n",
       "2015                  267.98   606\n",
       "2016                  129.94   502"
      ]
     },
     "metadata": {},
     "output_type": "display_data"
    },
    {
     "data": {
      "text/plain": [
       "<matplotlib.legend.Legend at 0x7f6593912970>"
      ]
     },
     "execution_count": 11,
     "metadata": {},
     "output_type": "execute_result"
    },
    {
     "data": {
      "image/png": "[encoded data removed]",
      "text/plain": [
       "<Figure size 1080x720 with 1 Axes>"
      ]
     },
     "metadata": {
      "needs_background": "light"
     },
     "output_type": "display_data"
    }
   ],
   "source": [
    "games['year_of_release'].value_counts()\n",
    "games_on_period = games.pivot_table(index='year_of_release', values='name', aggfunc='count')\n",
    "#display(games_on_period)\n",
    "sales = games.groupby('year_of_release')[['total_sales']].sum()\n",
    "sales_com =sales.merge(games_on_period, on='year_of_release', how='right')\n",
    "display(sales_com)\n",
    "plt.figure(figsize=(15,10))\n",
    "sns.lineplot(data=games_on_period)\n",
    "plt.title(\"Распределение игр по годам\")\n",
    "plt.xlabel(\"Год выпуска\")\n",
    "plt.ylabel(\"Количество игр\")\n",
    "plt.legend('')"
   ]
  },
  {
   "cell_type": "markdown",
   "metadata": {},
   "source": [
    "Как мы видим, с 1994 года количество выпускаемых игр начало расти, а потом после 2008 года начало снижаться"
   ]
  },
  {
   "cell_type": "markdown",
   "metadata": {},
   "source": [
    "Выберем платформы с наибольшими суммарными продажами и построим распределение по годам."
   ]
  },
  {
   "cell_type": "code",
   "execution_count": 12,
   "metadata": {},
   "outputs": [
    {
     "data": {
      "text/plain": [
       "ps2     2140\n",
       "ds      2129\n",
       "ps3     1320\n",
       "wii     1301\n",
       "x360    1250\n",
       "psp     1203\n",
       "ps      1190\n",
       "pc       970\n",
       "xb       817\n",
       "gba      813\n",
       "gc       552\n",
       "3ds      515\n",
       "psv      429\n",
       "ps4      392\n",
       "n64      318\n",
       "xone     247\n",
       "snes     239\n",
       "sat      173\n",
       "wiiu     147\n",
       "2600     117\n",
       "nes       98\n",
       "gb        97\n",
       "dc        52\n",
       "gen       27\n",
       "ng        12\n",
       "scd        6\n",
       "ws         6\n",
       "3do        3\n",
       "tg16       2\n",
       "pcfx       1\n",
       "gg         1\n",
       "Name: platform, dtype: int64"
      ]
     },
     "metadata": {},
     "output_type": "display_data"
    },
    {
     "data": {
      "text/plain": [
       "Text(0, 0.5, 'Количество продаж')"
      ]
     },
     "execution_count": 12,
     "metadata": {},
     "output_type": "execute_result"
    },
    {
     "data": {
      "image/png": "[encoded data removed]",
      "text/plain": [
       "<Figure size 936x432 with 1 Axes>"
      ]
     },
     "metadata": {
      "needs_background": "light"
     },
     "output_type": "display_data"
    }
   ],
   "source": [
    "#Посмотрим, какие платформы для игры имеются\n",
    "display(games['platform'].value_counts())\n",
    "#посмотрим на платформы по продажам.\n",
    "platform_sales = games.pivot_table(\n",
    "    index='platform', values='total_sales', aggfunc='sum').sort_values(by='total_sales', ascending=False)\n",
    "\n",
    "plt.figure(figsize=(13,6))\n",
    "sns.barplot(x=platform_sales.index,y=platform_sales['total_sales'])\n",
    "plt.title(\"Продажи по платформам за весь период\")\n",
    "plt.xlabel(\"Название платформы\")\n",
    "plt.ylabel(\"Количество продаж\")"
   ]
  },
  {
   "cell_type": "markdown",
   "metadata": {},
   "source": [
    "Таким образом, у нас есть 6 платформ, которые больше всего продали:  ps2, x360, ps3, wii, ds, ps. "
   ]
  },
  {
   "cell_type": "markdown",
   "metadata": {},
   "source": [
    "Определим, за какой характерный срок появляются новые и исчезают старые платформы."
   ]
  },
  {
   "cell_type": "code",
   "execution_count": 13,
   "metadata": {},
   "outputs": [
    {
     "data": {
      "text/html": [
       "<div>\n",
       "<style scoped>\n",
       "    .dataframe tbody tr th:only-of-type {\n",
       "        vertical-align: middle;\n",
       "    }\n",
       "\n",
       "    .dataframe tbody tr th {\n",
       "        vertical-align: top;\n",
       "    }\n",
       "\n",
       "    .dataframe thead th {\n",
       "        text-align: right;\n",
       "    }\n",
       "</style>\n",
       "<table border=\"1\" class=\"dataframe\">\n",
       "  <thead>\n",
       "    <tr style=\"text-align: right;\">\n",
       "      <th></th>\n",
       "      <th>platform</th>\n",
       "    </tr>\n",
       "    <tr>\n",
       "      <th>year_of_release</th>\n",
       "      <th></th>\n",
       "    </tr>\n",
       "  </thead>\n",
       "  <tbody>\n",
       "    <tr>\n",
       "      <th>1980</th>\n",
       "      <td>9</td>\n",
       "    </tr>\n",
       "    <tr>\n",
       "      <th>1981</th>\n",
       "      <td>46</td>\n",
       "    </tr>\n",
       "    <tr>\n",
       "      <th>1982</th>\n",
       "      <td>36</td>\n",
       "    </tr>\n",
       "    <tr>\n",
       "      <th>1983</th>\n",
       "      <td>17</td>\n",
       "    </tr>\n",
       "    <tr>\n",
       "      <th>1984</th>\n",
       "      <td>14</td>\n",
       "    </tr>\n",
       "    <tr>\n",
       "      <th>1985</th>\n",
       "      <td>14</td>\n",
       "    </tr>\n",
       "    <tr>\n",
       "      <th>1986</th>\n",
       "      <td>21</td>\n",
       "    </tr>\n",
       "    <tr>\n",
       "      <th>1987</th>\n",
       "      <td>16</td>\n",
       "    </tr>\n",
       "    <tr>\n",
       "      <th>1988</th>\n",
       "      <td>15</td>\n",
       "    </tr>\n",
       "    <tr>\n",
       "      <th>1989</th>\n",
       "      <td>17</td>\n",
       "    </tr>\n",
       "    <tr>\n",
       "      <th>1990</th>\n",
       "      <td>16</td>\n",
       "    </tr>\n",
       "    <tr>\n",
       "      <th>1991</th>\n",
       "      <td>41</td>\n",
       "    </tr>\n",
       "    <tr>\n",
       "      <th>1992</th>\n",
       "      <td>43</td>\n",
       "    </tr>\n",
       "    <tr>\n",
       "      <th>1993</th>\n",
       "      <td>60</td>\n",
       "    </tr>\n",
       "    <tr>\n",
       "      <th>1994</th>\n",
       "      <td>121</td>\n",
       "    </tr>\n",
       "    <tr>\n",
       "      <th>1995</th>\n",
       "      <td>219</td>\n",
       "    </tr>\n",
       "    <tr>\n",
       "      <th>1996</th>\n",
       "      <td>263</td>\n",
       "    </tr>\n",
       "    <tr>\n",
       "      <th>1997</th>\n",
       "      <td>289</td>\n",
       "    </tr>\n",
       "    <tr>\n",
       "      <th>1998</th>\n",
       "      <td>379</td>\n",
       "    </tr>\n",
       "    <tr>\n",
       "      <th>1999</th>\n",
       "      <td>339</td>\n",
       "    </tr>\n",
       "    <tr>\n",
       "      <th>2000</th>\n",
       "      <td>350</td>\n",
       "    </tr>\n",
       "    <tr>\n",
       "      <th>2001</th>\n",
       "      <td>484</td>\n",
       "    </tr>\n",
       "    <tr>\n",
       "      <th>2002</th>\n",
       "      <td>845</td>\n",
       "    </tr>\n",
       "    <tr>\n",
       "      <th>2003</th>\n",
       "      <td>785</td>\n",
       "    </tr>\n",
       "    <tr>\n",
       "      <th>2004</th>\n",
       "      <td>765</td>\n",
       "    </tr>\n",
       "    <tr>\n",
       "      <th>2005</th>\n",
       "      <td>947</td>\n",
       "    </tr>\n",
       "    <tr>\n",
       "      <th>2006</th>\n",
       "      <td>1020</td>\n",
       "    </tr>\n",
       "    <tr>\n",
       "      <th>2007</th>\n",
       "      <td>1202</td>\n",
       "    </tr>\n",
       "    <tr>\n",
       "      <th>2008</th>\n",
       "      <td>1440</td>\n",
       "    </tr>\n",
       "    <tr>\n",
       "      <th>2009</th>\n",
       "      <td>1431</td>\n",
       "    </tr>\n",
       "    <tr>\n",
       "      <th>2010</th>\n",
       "      <td>1271</td>\n",
       "    </tr>\n",
       "    <tr>\n",
       "      <th>2011</th>\n",
       "      <td>1153</td>\n",
       "    </tr>\n",
       "    <tr>\n",
       "      <th>2012</th>\n",
       "      <td>662</td>\n",
       "    </tr>\n",
       "    <tr>\n",
       "      <th>2013</th>\n",
       "      <td>547</td>\n",
       "    </tr>\n",
       "    <tr>\n",
       "      <th>2014</th>\n",
       "      <td>582</td>\n",
       "    </tr>\n",
       "    <tr>\n",
       "      <th>2015</th>\n",
       "      <td>606</td>\n",
       "    </tr>\n",
       "    <tr>\n",
       "      <th>2016</th>\n",
       "      <td>502</td>\n",
       "    </tr>\n",
       "  </tbody>\n",
       "</table>\n",
       "</div>"
      ],
      "text/plain": [
       "                 platform\n",
       "year_of_release          \n",
       "1980                    9\n",
       "1981                   46\n",
       "1982                   36\n",
       "1983                   17\n",
       "1984                   14\n",
       "1985                   14\n",
       "1986                   21\n",
       "1987                   16\n",
       "1988                   15\n",
       "1989                   17\n",
       "1990                   16\n",
       "1991                   41\n",
       "1992                   43\n",
       "1993                   60\n",
       "1994                  121\n",
       "1995                  219\n",
       "1996                  263\n",
       "1997                  289\n",
       "1998                  379\n",
       "1999                  339\n",
       "2000                  350\n",
       "2001                  484\n",
       "2002                  845\n",
       "2003                  785\n",
       "2004                  765\n",
       "2005                  947\n",
       "2006                 1020\n",
       "2007                 1202\n",
       "2008                 1440\n",
       "2009                 1431\n",
       "2010                 1271\n",
       "2011                 1153\n",
       "2012                  662\n",
       "2013                  547\n",
       "2014                  582\n",
       "2015                  606\n",
       "2016                  502"
      ]
     },
     "metadata": {},
     "output_type": "display_data"
    }
   ],
   "source": [
    "years_platform = games.groupby('year_of_release')[['platform']].count()\n",
    "#sales_com =sales.merge(games_on_period, on='year_of_release', how='right')\n",
    "display(years_platform)"
   ]
  },
  {
   "cell_type": "markdown",
   "metadata": {},
   "source": [
    "Возьмем данные за актуальный период, который сначала конкретизируем."
   ]
  },
  {
   "cell_type": "code",
   "execution_count": 14,
   "metadata": {},
   "outputs": [
    {
     "data": {
      "text/html": [
       "<div>\n",
       "<style scoped>\n",
       "    .dataframe tbody tr th:only-of-type {\n",
       "        vertical-align: middle;\n",
       "    }\n",
       "\n",
       "    .dataframe tbody tr th {\n",
       "        vertical-align: top;\n",
       "    }\n",
       "\n",
       "    .dataframe thead th {\n",
       "        text-align: right;\n",
       "    }\n",
       "</style>\n",
       "<table border=\"1\" class=\"dataframe\">\n",
       "  <thead>\n",
       "    <tr style=\"text-align: right;\">\n",
       "      <th>year_of_release</th>\n",
       "      <th>1997</th>\n",
       "      <th>1998</th>\n",
       "      <th>1999</th>\n",
       "      <th>2000</th>\n",
       "      <th>2001</th>\n",
       "      <th>2002</th>\n",
       "      <th>2003</th>\n",
       "      <th>2004</th>\n",
       "      <th>2005</th>\n",
       "      <th>2006</th>\n",
       "      <th>2007</th>\n",
       "      <th>2008</th>\n",
       "      <th>2009</th>\n",
       "      <th>2010</th>\n",
       "      <th>2011</th>\n",
       "      <th>2012</th>\n",
       "      <th>2013</th>\n",
       "      <th>2014</th>\n",
       "      <th>2015</th>\n",
       "      <th>2016</th>\n",
       "    </tr>\n",
       "    <tr>\n",
       "      <th>platform</th>\n",
       "      <th></th>\n",
       "      <th></th>\n",
       "      <th></th>\n",
       "      <th></th>\n",
       "      <th></th>\n",
       "      <th></th>\n",
       "      <th></th>\n",
       "      <th></th>\n",
       "      <th></th>\n",
       "      <th></th>\n",
       "      <th></th>\n",
       "      <th></th>\n",
       "      <th></th>\n",
       "      <th></th>\n",
       "      <th></th>\n",
       "      <th></th>\n",
       "      <th></th>\n",
       "      <th></th>\n",
       "      <th></th>\n",
       "      <th></th>\n",
       "    </tr>\n",
       "  </thead>\n",
       "  <tbody>\n",
       "    <tr>\n",
       "      <th>2600</th>\n",
       "      <td>NaN</td>\n",
       "      <td>NaN</td>\n",
       "      <td>NaN</td>\n",
       "      <td>NaN</td>\n",
       "      <td>NaN</td>\n",
       "      <td>2.53</td>\n",
       "      <td>NaN</td>\n",
       "      <td>NaN</td>\n",
       "      <td>NaN</td>\n",
       "      <td>NaN</td>\n",
       "      <td>NaN</td>\n",
       "      <td>NaN</td>\n",
       "      <td>NaN</td>\n",
       "      <td>NaN</td>\n",
       "      <td>NaN</td>\n",
       "      <td>NaN</td>\n",
       "      <td>NaN</td>\n",
       "      <td>NaN</td>\n",
       "      <td>NaN</td>\n",
       "      <td>NaN</td>\n",
       "    </tr>\n",
       "    <tr>\n",
       "      <th>3ds</th>\n",
       "      <td>NaN</td>\n",
       "      <td>NaN</td>\n",
       "      <td>NaN</td>\n",
       "      <td>NaN</td>\n",
       "      <td>NaN</td>\n",
       "      <td>NaN</td>\n",
       "      <td>NaN</td>\n",
       "      <td>NaN</td>\n",
       "      <td>NaN</td>\n",
       "      <td>NaN</td>\n",
       "      <td>NaN</td>\n",
       "      <td>NaN</td>\n",
       "      <td>NaN</td>\n",
       "      <td>0.32</td>\n",
       "      <td>63.20</td>\n",
       "      <td>51.76</td>\n",
       "      <td>56.57</td>\n",
       "      <td>43.76</td>\n",
       "      <td>27.78</td>\n",
       "      <td>15.14</td>\n",
       "    </tr>\n",
       "    <tr>\n",
       "      <th>dc</th>\n",
       "      <td>NaN</td>\n",
       "      <td>3.38</td>\n",
       "      <td>5.16</td>\n",
       "      <td>5.99</td>\n",
       "      <td>1.07</td>\n",
       "      <td>0.29</td>\n",
       "      <td>NaN</td>\n",
       "      <td>NaN</td>\n",
       "      <td>NaN</td>\n",
       "      <td>NaN</td>\n",
       "      <td>0.02</td>\n",
       "      <td>0.04</td>\n",
       "      <td>NaN</td>\n",
       "      <td>NaN</td>\n",
       "      <td>NaN</td>\n",
       "      <td>NaN</td>\n",
       "      <td>NaN</td>\n",
       "      <td>NaN</td>\n",
       "      <td>NaN</td>\n",
       "      <td>NaN</td>\n",
       "    </tr>\n",
       "    <tr>\n",
       "      <th>ds</th>\n",
       "      <td>NaN</td>\n",
       "      <td>NaN</td>\n",
       "      <td>NaN</td>\n",
       "      <td>NaN</td>\n",
       "      <td>NaN</td>\n",
       "      <td>NaN</td>\n",
       "      <td>NaN</td>\n",
       "      <td>17.27</td>\n",
       "      <td>130.14</td>\n",
       "      <td>119.81</td>\n",
       "      <td>147.23</td>\n",
       "      <td>145.36</td>\n",
       "      <td>119.56</td>\n",
       "      <td>85.35</td>\n",
       "      <td>26.33</td>\n",
       "      <td>11.67</td>\n",
       "      <td>1.54</td>\n",
       "      <td>NaN</td>\n",
       "      <td>NaN</td>\n",
       "      <td>NaN</td>\n",
       "    </tr>\n",
       "    <tr>\n",
       "      <th>gb</th>\n",
       "      <td>6.37</td>\n",
       "      <td>26.90</td>\n",
       "      <td>38.00</td>\n",
       "      <td>19.76</td>\n",
       "      <td>9.24</td>\n",
       "      <td>NaN</td>\n",
       "      <td>NaN</td>\n",
       "      <td>NaN</td>\n",
       "      <td>NaN</td>\n",
       "      <td>NaN</td>\n",
       "      <td>NaN</td>\n",
       "      <td>NaN</td>\n",
       "      <td>NaN</td>\n",
       "      <td>NaN</td>\n",
       "      <td>NaN</td>\n",
       "      <td>NaN</td>\n",
       "      <td>NaN</td>\n",
       "      <td>NaN</td>\n",
       "      <td>NaN</td>\n",
       "      <td>NaN</td>\n",
       "    </tr>\n",
       "    <tr>\n",
       "      <th>gba</th>\n",
       "      <td>NaN</td>\n",
       "      <td>NaN</td>\n",
       "      <td>NaN</td>\n",
       "      <td>0.07</td>\n",
       "      <td>61.53</td>\n",
       "      <td>74.16</td>\n",
       "      <td>56.67</td>\n",
       "      <td>77.91</td>\n",
       "      <td>34.53</td>\n",
       "      <td>5.46</td>\n",
       "      <td>3.40</td>\n",
       "      <td>NaN</td>\n",
       "      <td>NaN</td>\n",
       "      <td>NaN</td>\n",
       "      <td>NaN</td>\n",
       "      <td>NaN</td>\n",
       "      <td>NaN</td>\n",
       "      <td>NaN</td>\n",
       "      <td>NaN</td>\n",
       "      <td>NaN</td>\n",
       "    </tr>\n",
       "    <tr>\n",
       "      <th>gc</th>\n",
       "      <td>NaN</td>\n",
       "      <td>NaN</td>\n",
       "      <td>NaN</td>\n",
       "      <td>NaN</td>\n",
       "      <td>26.62</td>\n",
       "      <td>52.22</td>\n",
       "      <td>51.20</td>\n",
       "      <td>28.89</td>\n",
       "      <td>27.91</td>\n",
       "      <td>11.55</td>\n",
       "      <td>0.27</td>\n",
       "      <td>NaN</td>\n",
       "      <td>NaN</td>\n",
       "      <td>NaN</td>\n",
       "      <td>NaN</td>\n",
       "      <td>NaN</td>\n",
       "      <td>NaN</td>\n",
       "      <td>NaN</td>\n",
       "      <td>NaN</td>\n",
       "      <td>NaN</td>\n",
       "    </tr>\n",
       "    <tr>\n",
       "      <th>n64</th>\n",
       "      <td>39.50</td>\n",
       "      <td>49.24</td>\n",
       "      <td>58.01</td>\n",
       "      <td>33.97</td>\n",
       "      <td>3.25</td>\n",
       "      <td>0.08</td>\n",
       "      <td>NaN</td>\n",
       "      <td>0.33</td>\n",
       "      <td>NaN</td>\n",
       "      <td>NaN</td>\n",
       "      <td>NaN</td>\n",
       "      <td>NaN</td>\n",
       "      <td>NaN</td>\n",
       "      <td>NaN</td>\n",
       "      <td>NaN</td>\n",
       "      <td>NaN</td>\n",
       "      <td>NaN</td>\n",
       "      <td>NaN</td>\n",
       "      <td>NaN</td>\n",
       "      <td>NaN</td>\n",
       "    </tr>\n",
       "    <tr>\n",
       "      <th>pc</th>\n",
       "      <td>11.27</td>\n",
       "      <td>3.26</td>\n",
       "      <td>4.74</td>\n",
       "      <td>4.66</td>\n",
       "      <td>5.47</td>\n",
       "      <td>8.57</td>\n",
       "      <td>8.89</td>\n",
       "      <td>10.39</td>\n",
       "      <td>4.38</td>\n",
       "      <td>2.85</td>\n",
       "      <td>9.28</td>\n",
       "      <td>12.46</td>\n",
       "      <td>17.05</td>\n",
       "      <td>26.15</td>\n",
       "      <td>35.16</td>\n",
       "      <td>23.45</td>\n",
       "      <td>12.66</td>\n",
       "      <td>13.63</td>\n",
       "      <td>8.52</td>\n",
       "      <td>5.25</td>\n",
       "    </tr>\n",
       "    <tr>\n",
       "      <th>ps</th>\n",
       "      <td>136.17</td>\n",
       "      <td>169.49</td>\n",
       "      <td>144.53</td>\n",
       "      <td>96.37</td>\n",
       "      <td>35.59</td>\n",
       "      <td>6.67</td>\n",
       "      <td>2.07</td>\n",
       "      <td>NaN</td>\n",
       "      <td>NaN</td>\n",
       "      <td>NaN</td>\n",
       "      <td>NaN</td>\n",
       "      <td>NaN</td>\n",
       "      <td>NaN</td>\n",
       "      <td>NaN</td>\n",
       "      <td>NaN</td>\n",
       "      <td>NaN</td>\n",
       "      <td>NaN</td>\n",
       "      <td>NaN</td>\n",
       "      <td>NaN</td>\n",
       "      <td>NaN</td>\n",
       "    </tr>\n",
       "    <tr>\n",
       "      <th>ps2</th>\n",
       "      <td>NaN</td>\n",
       "      <td>NaN</td>\n",
       "      <td>NaN</td>\n",
       "      <td>39.17</td>\n",
       "      <td>166.43</td>\n",
       "      <td>208.36</td>\n",
       "      <td>193.05</td>\n",
       "      <td>211.81</td>\n",
       "      <td>160.66</td>\n",
       "      <td>104.24</td>\n",
       "      <td>76.10</td>\n",
       "      <td>53.90</td>\n",
       "      <td>26.40</td>\n",
       "      <td>6.59</td>\n",
       "      <td>0.45</td>\n",
       "      <td>NaN</td>\n",
       "      <td>NaN</td>\n",
       "      <td>NaN</td>\n",
       "      <td>NaN</td>\n",
       "      <td>NaN</td>\n",
       "    </tr>\n",
       "    <tr>\n",
       "      <th>ps3</th>\n",
       "      <td>NaN</td>\n",
       "      <td>NaN</td>\n",
       "      <td>NaN</td>\n",
       "      <td>NaN</td>\n",
       "      <td>NaN</td>\n",
       "      <td>NaN</td>\n",
       "      <td>NaN</td>\n",
       "      <td>NaN</td>\n",
       "      <td>0.19</td>\n",
       "      <td>21.44</td>\n",
       "      <td>73.19</td>\n",
       "      <td>118.79</td>\n",
       "      <td>130.93</td>\n",
       "      <td>142.96</td>\n",
       "      <td>157.98</td>\n",
       "      <td>108.28</td>\n",
       "      <td>113.25</td>\n",
       "      <td>47.76</td>\n",
       "      <td>16.82</td>\n",
       "      <td>3.60</td>\n",
       "    </tr>\n",
       "    <tr>\n",
       "      <th>ps4</th>\n",
       "      <td>NaN</td>\n",
       "      <td>NaN</td>\n",
       "      <td>NaN</td>\n",
       "      <td>NaN</td>\n",
       "      <td>NaN</td>\n",
       "      <td>NaN</td>\n",
       "      <td>NaN</td>\n",
       "      <td>NaN</td>\n",
       "      <td>NaN</td>\n",
       "      <td>NaN</td>\n",
       "      <td>NaN</td>\n",
       "      <td>NaN</td>\n",
       "      <td>NaN</td>\n",
       "      <td>NaN</td>\n",
       "      <td>NaN</td>\n",
       "      <td>NaN</td>\n",
       "      <td>25.99</td>\n",
       "      <td>100.00</td>\n",
       "      <td>118.90</td>\n",
       "      <td>69.25</td>\n",
       "    </tr>\n",
       "    <tr>\n",
       "      <th>psp</th>\n",
       "      <td>NaN</td>\n",
       "      <td>NaN</td>\n",
       "      <td>NaN</td>\n",
       "      <td>NaN</td>\n",
       "      <td>NaN</td>\n",
       "      <td>NaN</td>\n",
       "      <td>NaN</td>\n",
       "      <td>7.06</td>\n",
       "      <td>43.84</td>\n",
       "      <td>56.28</td>\n",
       "      <td>47.30</td>\n",
       "      <td>35.96</td>\n",
       "      <td>38.58</td>\n",
       "      <td>35.04</td>\n",
       "      <td>17.82</td>\n",
       "      <td>7.95</td>\n",
       "      <td>3.38</td>\n",
       "      <td>0.24</td>\n",
       "      <td>0.12</td>\n",
       "      <td>NaN</td>\n",
       "    </tr>\n",
       "    <tr>\n",
       "      <th>psv</th>\n",
       "      <td>NaN</td>\n",
       "      <td>NaN</td>\n",
       "      <td>NaN</td>\n",
       "      <td>NaN</td>\n",
       "      <td>NaN</td>\n",
       "      <td>NaN</td>\n",
       "      <td>NaN</td>\n",
       "      <td>NaN</td>\n",
       "      <td>NaN</td>\n",
       "      <td>NaN</td>\n",
       "      <td>NaN</td>\n",
       "      <td>NaN</td>\n",
       "      <td>NaN</td>\n",
       "      <td>NaN</td>\n",
       "      <td>4.63</td>\n",
       "      <td>16.19</td>\n",
       "      <td>10.59</td>\n",
       "      <td>11.90</td>\n",
       "      <td>6.25</td>\n",
       "      <td>4.25</td>\n",
       "    </tr>\n",
       "    <tr>\n",
       "      <th>sat</th>\n",
       "      <td>6.77</td>\n",
       "      <td>3.82</td>\n",
       "      <td>0.09</td>\n",
       "      <td>NaN</td>\n",
       "      <td>NaN</td>\n",
       "      <td>NaN</td>\n",
       "      <td>NaN</td>\n",
       "      <td>NaN</td>\n",
       "      <td>NaN</td>\n",
       "      <td>NaN</td>\n",
       "      <td>NaN</td>\n",
       "      <td>NaN</td>\n",
       "      <td>NaN</td>\n",
       "      <td>NaN</td>\n",
       "      <td>NaN</td>\n",
       "      <td>NaN</td>\n",
       "      <td>NaN</td>\n",
       "      <td>NaN</td>\n",
       "      <td>NaN</td>\n",
       "      <td>NaN</td>\n",
       "    </tr>\n",
       "    <tr>\n",
       "      <th>snes</th>\n",
       "      <td>0.99</td>\n",
       "      <td>0.22</td>\n",
       "      <td>0.26</td>\n",
       "      <td>NaN</td>\n",
       "      <td>NaN</td>\n",
       "      <td>NaN</td>\n",
       "      <td>NaN</td>\n",
       "      <td>NaN</td>\n",
       "      <td>NaN</td>\n",
       "      <td>NaN</td>\n",
       "      <td>NaN</td>\n",
       "      <td>NaN</td>\n",
       "      <td>NaN</td>\n",
       "      <td>NaN</td>\n",
       "      <td>NaN</td>\n",
       "      <td>NaN</td>\n",
       "      <td>NaN</td>\n",
       "      <td>NaN</td>\n",
       "      <td>NaN</td>\n",
       "      <td>NaN</td>\n",
       "    </tr>\n",
       "    <tr>\n",
       "      <th>wii</th>\n",
       "      <td>NaN</td>\n",
       "      <td>NaN</td>\n",
       "      <td>NaN</td>\n",
       "      <td>NaN</td>\n",
       "      <td>NaN</td>\n",
       "      <td>NaN</td>\n",
       "      <td>NaN</td>\n",
       "      <td>NaN</td>\n",
       "      <td>NaN</td>\n",
       "      <td>140.19</td>\n",
       "      <td>153.41</td>\n",
       "      <td>177.68</td>\n",
       "      <td>206.97</td>\n",
       "      <td>128.67</td>\n",
       "      <td>59.79</td>\n",
       "      <td>22.94</td>\n",
       "      <td>8.59</td>\n",
       "      <td>3.75</td>\n",
       "      <td>1.14</td>\n",
       "      <td>0.18</td>\n",
       "    </tr>\n",
       "    <tr>\n",
       "      <th>wiiu</th>\n",
       "      <td>NaN</td>\n",
       "      <td>NaN</td>\n",
       "      <td>NaN</td>\n",
       "      <td>NaN</td>\n",
       "      <td>NaN</td>\n",
       "      <td>NaN</td>\n",
       "      <td>NaN</td>\n",
       "      <td>NaN</td>\n",
       "      <td>NaN</td>\n",
       "      <td>NaN</td>\n",
       "      <td>NaN</td>\n",
       "      <td>NaN</td>\n",
       "      <td>NaN</td>\n",
       "      <td>NaN</td>\n",
       "      <td>NaN</td>\n",
       "      <td>17.56</td>\n",
       "      <td>21.65</td>\n",
       "      <td>22.03</td>\n",
       "      <td>16.35</td>\n",
       "      <td>4.60</td>\n",
       "    </tr>\n",
       "    <tr>\n",
       "      <th>ws</th>\n",
       "      <td>NaN</td>\n",
       "      <td>NaN</td>\n",
       "      <td>0.46</td>\n",
       "      <td>0.68</td>\n",
       "      <td>0.28</td>\n",
       "      <td>NaN</td>\n",
       "      <td>NaN</td>\n",
       "      <td>NaN</td>\n",
       "      <td>NaN</td>\n",
       "      <td>NaN</td>\n",
       "      <td>NaN</td>\n",
       "      <td>NaN</td>\n",
       "      <td>NaN</td>\n",
       "      <td>NaN</td>\n",
       "      <td>NaN</td>\n",
       "      <td>NaN</td>\n",
       "      <td>NaN</td>\n",
       "      <td>NaN</td>\n",
       "      <td>NaN</td>\n",
       "      <td>NaN</td>\n",
       "    </tr>\n",
       "    <tr>\n",
       "      <th>x360</th>\n",
       "      <td>NaN</td>\n",
       "      <td>NaN</td>\n",
       "      <td>NaN</td>\n",
       "      <td>NaN</td>\n",
       "      <td>NaN</td>\n",
       "      <td>NaN</td>\n",
       "      <td>NaN</td>\n",
       "      <td>NaN</td>\n",
       "      <td>9.22</td>\n",
       "      <td>51.79</td>\n",
       "      <td>95.41</td>\n",
       "      <td>136.07</td>\n",
       "      <td>120.82</td>\n",
       "      <td>170.55</td>\n",
       "      <td>145.23</td>\n",
       "      <td>100.72</td>\n",
       "      <td>88.58</td>\n",
       "      <td>34.74</td>\n",
       "      <td>11.96</td>\n",
       "      <td>1.52</td>\n",
       "    </tr>\n",
       "    <tr>\n",
       "      <th>xb</th>\n",
       "      <td>NaN</td>\n",
       "      <td>NaN</td>\n",
       "      <td>NaN</td>\n",
       "      <td>0.99</td>\n",
       "      <td>22.84</td>\n",
       "      <td>50.76</td>\n",
       "      <td>56.27</td>\n",
       "      <td>65.97</td>\n",
       "      <td>49.09</td>\n",
       "      <td>10.04</td>\n",
       "      <td>0.55</td>\n",
       "      <td>0.18</td>\n",
       "      <td>NaN</td>\n",
       "      <td>NaN</td>\n",
       "      <td>NaN</td>\n",
       "      <td>NaN</td>\n",
       "      <td>NaN</td>\n",
       "      <td>NaN</td>\n",
       "      <td>NaN</td>\n",
       "      <td>NaN</td>\n",
       "    </tr>\n",
       "    <tr>\n",
       "      <th>xone</th>\n",
       "      <td>NaN</td>\n",
       "      <td>NaN</td>\n",
       "      <td>NaN</td>\n",
       "      <td>NaN</td>\n",
       "      <td>NaN</td>\n",
       "      <td>NaN</td>\n",
       "      <td>NaN</td>\n",
       "      <td>NaN</td>\n",
       "      <td>NaN</td>\n",
       "      <td>NaN</td>\n",
       "      <td>NaN</td>\n",
       "      <td>NaN</td>\n",
       "      <td>NaN</td>\n",
       "      <td>NaN</td>\n",
       "      <td>NaN</td>\n",
       "      <td>NaN</td>\n",
       "      <td>18.96</td>\n",
       "      <td>54.07</td>\n",
       "      <td>60.14</td>\n",
       "      <td>26.15</td>\n",
       "    </tr>\n",
       "  </tbody>\n",
       "</table>\n",
       "</div>"
      ],
      "text/plain": [
       "year_of_release    1997    1998    1999   2000    2001    2002    2003  \\\n",
       "platform                                                                 \n",
       "2600                NaN     NaN     NaN    NaN     NaN    2.53     NaN   \n",
       "3ds                 NaN     NaN     NaN    NaN     NaN     NaN     NaN   \n",
       "dc                  NaN    3.38    5.16   5.99    1.07    0.29     NaN   \n",
       "ds                  NaN     NaN     NaN    NaN     NaN     NaN     NaN   \n",
       "gb                 6.37   26.90   38.00  19.76    9.24     NaN     NaN   \n",
       "gba                 NaN     NaN     NaN   0.07   61.53   74.16   56.67   \n",
       "gc                  NaN     NaN     NaN    NaN   26.62   52.22   51.20   \n",
       "n64               39.50   49.24   58.01  33.97    3.25    0.08     NaN   \n",
       "pc                11.27    3.26    4.74   4.66    5.47    8.57    8.89   \n",
       "ps               136.17  169.49  144.53  96.37   35.59    6.67    2.07   \n",
       "ps2                 NaN     NaN     NaN  39.17  166.43  208.36  193.05   \n",
       "ps3                 NaN     NaN     NaN    NaN     NaN     NaN     NaN   \n",
       "ps4                 NaN     NaN     NaN    NaN     NaN     NaN     NaN   \n",
       "psp                 NaN     NaN     NaN    NaN     NaN     NaN     NaN   \n",
       "psv                 NaN     NaN     NaN    NaN     NaN     NaN     NaN   \n",
       "sat                6.77    3.82    0.09    NaN     NaN     NaN     NaN   \n",
       "snes               0.99    0.22    0.26    NaN     NaN     NaN     NaN   \n",
       "wii                 NaN     NaN     NaN    NaN     NaN     NaN     NaN   \n",
       "wiiu                NaN     NaN     NaN    NaN     NaN     NaN     NaN   \n",
       "ws                  NaN     NaN    0.46   0.68    0.28     NaN     NaN   \n",
       "x360                NaN     NaN     NaN    NaN     NaN     NaN     NaN   \n",
       "xb                  NaN     NaN     NaN   0.99   22.84   50.76   56.27   \n",
       "xone                NaN     NaN     NaN    NaN     NaN     NaN     NaN   \n",
       "\n",
       "year_of_release    2004    2005    2006    2007    2008    2009    2010  \\\n",
       "platform                                                                  \n",
       "2600                NaN     NaN     NaN     NaN     NaN     NaN     NaN   \n",
       "3ds                 NaN     NaN     NaN     NaN     NaN     NaN    0.32   \n",
       "dc                  NaN     NaN     NaN    0.02    0.04     NaN     NaN   \n",
       "ds                17.27  130.14  119.81  147.23  145.36  119.56   85.35   \n",
       "gb                  NaN     NaN     NaN     NaN     NaN     NaN     NaN   \n",
       "gba               77.91   34.53    5.46    3.40     NaN     NaN     NaN   \n",
       "gc                28.89   27.91   11.55    0.27     NaN     NaN     NaN   \n",
       "n64                0.33     NaN     NaN     NaN     NaN     NaN     NaN   \n",
       "pc                10.39    4.38    2.85    9.28   12.46   17.05   26.15   \n",
       "ps                  NaN     NaN     NaN     NaN     NaN     NaN     NaN   \n",
       "ps2              211.81  160.66  104.24   76.10   53.90   26.40    6.59   \n",
       "ps3                 NaN    0.19   21.44   73.19  118.79  130.93  142.96   \n",
       "ps4                 NaN     NaN     NaN     NaN     NaN     NaN     NaN   \n",
       "psp                7.06   43.84   56.28   47.30   35.96   38.58   35.04   \n",
       "psv                 NaN     NaN     NaN     NaN     NaN     NaN     NaN   \n",
       "sat                 NaN     NaN     NaN     NaN     NaN     NaN     NaN   \n",
       "snes                NaN     NaN     NaN     NaN     NaN     NaN     NaN   \n",
       "wii                 NaN     NaN  140.19  153.41  177.68  206.97  128.67   \n",
       "wiiu                NaN     NaN     NaN     NaN     NaN     NaN     NaN   \n",
       "ws                  NaN     NaN     NaN     NaN     NaN     NaN     NaN   \n",
       "x360                NaN    9.22   51.79   95.41  136.07  120.82  170.55   \n",
       "xb                65.97   49.09   10.04    0.55    0.18     NaN     NaN   \n",
       "xone                NaN     NaN     NaN     NaN     NaN     NaN     NaN   \n",
       "\n",
       "year_of_release    2011    2012    2013    2014    2015   2016  \n",
       "platform                                                        \n",
       "2600                NaN     NaN     NaN     NaN     NaN    NaN  \n",
       "3ds               63.20   51.76   56.57   43.76   27.78  15.14  \n",
       "dc                  NaN     NaN     NaN     NaN     NaN    NaN  \n",
       "ds                26.33   11.67    1.54     NaN     NaN    NaN  \n",
       "gb                  NaN     NaN     NaN     NaN     NaN    NaN  \n",
       "gba                 NaN     NaN     NaN     NaN     NaN    NaN  \n",
       "gc                  NaN     NaN     NaN     NaN     NaN    NaN  \n",
       "n64                 NaN     NaN     NaN     NaN     NaN    NaN  \n",
       "pc                35.16   23.45   12.66   13.63    8.52   5.25  \n",
       "ps                  NaN     NaN     NaN     NaN     NaN    NaN  \n",
       "ps2                0.45     NaN     NaN     NaN     NaN    NaN  \n",
       "ps3              157.98  108.28  113.25   47.76   16.82   3.60  \n",
       "ps4                 NaN     NaN   25.99  100.00  118.90  69.25  \n",
       "psp               17.82    7.95    3.38    0.24    0.12    NaN  \n",
       "psv                4.63   16.19   10.59   11.90    6.25   4.25  \n",
       "sat                 NaN     NaN     NaN     NaN     NaN    NaN  \n",
       "snes                NaN     NaN     NaN     NaN     NaN    NaN  \n",
       "wii               59.79   22.94    8.59    3.75    1.14   0.18  \n",
       "wiiu                NaN   17.56   21.65   22.03   16.35   4.60  \n",
       "ws                  NaN     NaN     NaN     NaN     NaN    NaN  \n",
       "x360             145.23  100.72   88.58   34.74   11.96   1.52  \n",
       "xb                  NaN     NaN     NaN     NaN     NaN    NaN  \n",
       "xone                NaN     NaN   18.96   54.07   60.14  26.15  "
      ]
     },
     "metadata": {},
     "output_type": "display_data"
    },
    {
     "data": {
      "text/html": [
       "<div>\n",
       "<style scoped>\n",
       "    .dataframe tbody tr th:only-of-type {\n",
       "        vertical-align: middle;\n",
       "    }\n",
       "\n",
       "    .dataframe tbody tr th {\n",
       "        vertical-align: top;\n",
       "    }\n",
       "\n",
       "    .dataframe thead th {\n",
       "        text-align: right;\n",
       "    }\n",
       "</style>\n",
       "<table border=\"1\" class=\"dataframe\">\n",
       "  <thead>\n",
       "    <tr style=\"text-align: right;\">\n",
       "      <th></th>\n",
       "      <th>name</th>\n",
       "      <th>platform</th>\n",
       "      <th>year_of_release</th>\n",
       "      <th>genre</th>\n",
       "      <th>na_sales</th>\n",
       "      <th>eu_sales</th>\n",
       "      <th>jp_sales</th>\n",
       "      <th>other_sales</th>\n",
       "      <th>critic_score</th>\n",
       "      <th>user_score</th>\n",
       "      <th>rating</th>\n",
       "      <th>total_sales</th>\n",
       "    </tr>\n",
       "  </thead>\n",
       "  <tbody>\n",
       "    <tr>\n",
       "      <th>2315</th>\n",
       "      <td>skylanders: trap team</td>\n",
       "      <td>x360</td>\n",
       "      <td>2014</td>\n",
       "      <td>action</td>\n",
       "      <td>0.54</td>\n",
       "      <td>0.27</td>\n",
       "      <td>0.00</td>\n",
       "      <td>0.08</td>\n",
       "      <td>0</td>\n",
       "      <td>0.0</td>\n",
       "      <td>e10+</td>\n",
       "      <td>0.89</td>\n",
       "    </tr>\n",
       "    <tr>\n",
       "      <th>15049</th>\n",
       "      <td>tv anime idolm@ster: cinderella girls g4u! pac...</td>\n",
       "      <td>ps3</td>\n",
       "      <td>2015</td>\n",
       "      <td>action</td>\n",
       "      <td>0.00</td>\n",
       "      <td>0.00</td>\n",
       "      <td>0.02</td>\n",
       "      <td>0.00</td>\n",
       "      <td>0</td>\n",
       "      <td>0.0</td>\n",
       "      <td>NaN</td>\n",
       "      <td>0.02</td>\n",
       "    </tr>\n",
       "    <tr>\n",
       "      <th>6795</th>\n",
       "      <td>samurai warriors 4</td>\n",
       "      <td>ps4</td>\n",
       "      <td>2014</td>\n",
       "      <td>action</td>\n",
       "      <td>0.08</td>\n",
       "      <td>0.07</td>\n",
       "      <td>0.06</td>\n",
       "      <td>0.03</td>\n",
       "      <td>76</td>\n",
       "      <td>8.1</td>\n",
       "      <td>t</td>\n",
       "      <td>0.24</td>\n",
       "    </tr>\n",
       "    <tr>\n",
       "      <th>14375</th>\n",
       "      <td>song of the deep</td>\n",
       "      <td>pc</td>\n",
       "      <td>2016</td>\n",
       "      <td>action</td>\n",
       "      <td>0.03</td>\n",
       "      <td>0.00</td>\n",
       "      <td>0.00</td>\n",
       "      <td>0.00</td>\n",
       "      <td>73</td>\n",
       "      <td>6.3</td>\n",
       "      <td>e</td>\n",
       "      <td>0.03</td>\n",
       "    </tr>\n",
       "    <tr>\n",
       "      <th>16510</th>\n",
       "      <td>art academy: home studio</td>\n",
       "      <td>wiiu</td>\n",
       "      <td>2015</td>\n",
       "      <td>misc</td>\n",
       "      <td>0.00</td>\n",
       "      <td>0.00</td>\n",
       "      <td>0.01</td>\n",
       "      <td>0.00</td>\n",
       "      <td>82</td>\n",
       "      <td>8.3</td>\n",
       "      <td>e</td>\n",
       "      <td>0.01</td>\n",
       "    </tr>\n",
       "    <tr>\n",
       "      <th>16460</th>\n",
       "      <td>young justice: legacy</td>\n",
       "      <td>x360</td>\n",
       "      <td>2013</td>\n",
       "      <td>action</td>\n",
       "      <td>0.00</td>\n",
       "      <td>0.01</td>\n",
       "      <td>0.00</td>\n",
       "      <td>0.00</td>\n",
       "      <td>0</td>\n",
       "      <td>6.2</td>\n",
       "      <td>t</td>\n",
       "      <td>0.01</td>\n",
       "    </tr>\n",
       "    <tr>\n",
       "      <th>271</th>\n",
       "      <td>fifa 14</td>\n",
       "      <td>x360</td>\n",
       "      <td>2013</td>\n",
       "      <td>sports</td>\n",
       "      <td>0.92</td>\n",
       "      <td>2.89</td>\n",
       "      <td>0.01</td>\n",
       "      <td>0.40</td>\n",
       "      <td>84</td>\n",
       "      <td>4.2</td>\n",
       "      <td>e</td>\n",
       "      <td>4.22</td>\n",
       "    </tr>\n",
       "    <tr>\n",
       "      <th>12470</th>\n",
       "      <td>transformer: rise of the dark spark</td>\n",
       "      <td>wiiu</td>\n",
       "      <td>2014</td>\n",
       "      <td>action</td>\n",
       "      <td>0.04</td>\n",
       "      <td>0.01</td>\n",
       "      <td>0.00</td>\n",
       "      <td>0.01</td>\n",
       "      <td>0</td>\n",
       "      <td>0.0</td>\n",
       "      <td>NaN</td>\n",
       "      <td>0.06</td>\n",
       "    </tr>\n",
       "    <tr>\n",
       "      <th>6945</th>\n",
       "      <td>girls mode 3: kirakira code</td>\n",
       "      <td>3ds</td>\n",
       "      <td>2015</td>\n",
       "      <td>action</td>\n",
       "      <td>0.00</td>\n",
       "      <td>0.00</td>\n",
       "      <td>0.23</td>\n",
       "      <td>0.00</td>\n",
       "      <td>0</td>\n",
       "      <td>0.0</td>\n",
       "      <td>NaN</td>\n",
       "      <td>0.23</td>\n",
       "    </tr>\n",
       "    <tr>\n",
       "      <th>6267</th>\n",
       "      <td>grid 2</td>\n",
       "      <td>x360</td>\n",
       "      <td>2013</td>\n",
       "      <td>racing</td>\n",
       "      <td>0.08</td>\n",
       "      <td>0.16</td>\n",
       "      <td>0.00</td>\n",
       "      <td>0.03</td>\n",
       "      <td>78</td>\n",
       "      <td>5.8</td>\n",
       "      <td>e</td>\n",
       "      <td>0.27</td>\n",
       "    </tr>\n",
       "  </tbody>\n",
       "</table>\n",
       "</div>"
      ],
      "text/plain": [
       "                                                    name platform  \\\n",
       "2315                               skylanders: trap team     x360   \n",
       "15049  tv anime idolm@ster: cinderella girls g4u! pac...      ps3   \n",
       "6795                                  samurai warriors 4      ps4   \n",
       "14375                                   song of the deep       pc   \n",
       "16510                           art academy: home studio     wiiu   \n",
       "16460                              young justice: legacy     x360   \n",
       "271                                              fifa 14     x360   \n",
       "12470                transformer: rise of the dark spark     wiiu   \n",
       "6945                         girls mode 3: kirakira code      3ds   \n",
       "6267                                              grid 2     x360   \n",
       "\n",
       "       year_of_release   genre  na_sales  eu_sales  jp_sales  other_sales  \\\n",
       "2315              2014  action      0.54      0.27      0.00         0.08   \n",
       "15049             2015  action      0.00      0.00      0.02         0.00   \n",
       "6795              2014  action      0.08      0.07      0.06         0.03   \n",
       "14375             2016  action      0.03      0.00      0.00         0.00   \n",
       "16510             2015    misc      0.00      0.00      0.01         0.00   \n",
       "16460             2013  action      0.00      0.01      0.00         0.00   \n",
       "271               2013  sports      0.92      2.89      0.01         0.40   \n",
       "12470             2014  action      0.04      0.01      0.00         0.01   \n",
       "6945              2015  action      0.00      0.00      0.23         0.00   \n",
       "6267              2013  racing      0.08      0.16      0.00         0.03   \n",
       "\n",
       "       critic_score  user_score rating  total_sales  \n",
       "2315              0         0.0   e10+         0.89  \n",
       "15049             0         0.0    NaN         0.02  \n",
       "6795             76         8.1      t         0.24  \n",
       "14375            73         6.3      e         0.03  \n",
       "16510            82         8.3      e         0.01  \n",
       "16460             0         6.2      t         0.01  \n",
       "271              84         4.2      e         4.22  \n",
       "12470             0         0.0    NaN         0.06  \n",
       "6945              0         0.0    NaN         0.23  \n",
       "6267             78         5.8      e         0.27  "
      ]
     },
     "execution_count": 14,
     "metadata": {},
     "output_type": "execute_result"
    }
   ],
   "source": [
    "games_platform_year=games.pivot_table(index ='year_of_release', columns = 'platform', values = 'total_sales', aggfunc = 'sum')\n",
    "games_platform_year.head(60)\n",
    "#Ограничим таблицу для анализа от 1997 года, когда наметился явный рост\n",
    "games_platform_year_sorted=games.loc[games['year_of_release']>1996]\n",
    "games_platform_year_sorted=games_platform_year_sorted.pivot_table(index ='platform', columns = 'year_of_release', values = 'total_sales', aggfunc = 'sum')\n",
    "display(games_platform_year_sorted)\n",
    "#Анализ показывает, что актуальным периодом для исследования можно считать данные с 2013 года, ограничим таблицу.\n",
    "games = games.loc[games['year_of_release']>2012]\n",
    "games.sample(10)"
   ]
  },
  {
   "cell_type": "markdown",
   "metadata": {},
   "source": [
    "- Практически все игровые платформы в среднем существуют по 8-10 лет. \n",
    "- Самый пик наступает примерно в середине периода существования через 3-5 лет после выхода приставки\n",
    "- Cамые продаваемые это Sony Play Station, которые меняют версии, до того как предыдущая выйдет в тираж\n",
    "- у Nintento WII был быстрый скачок в 2006 году и такой же резкий провал с 2012 года\n",
    "- Игры для персонального компьютера продаются на всем сроке и увеличивают свои продажи после 2008 года, когда остальные идут на спад\n",
    "- Поскольку после 2013 года наблюдается спад продаж, то возьмем за актуальный период с 2013 по 2016 г."
   ]
  },
  {
   "cell_type": "markdown",
   "metadata": {},
   "source": [
    "Выберем несколько потенциально прибыльных платформ."
   ]
  },
  {
   "cell_type": "code",
   "execution_count": 15,
   "metadata": {},
   "outputs": [
    {
     "data": {
      "text/plain": [
       "Text(0, 0.5, 'Количество продаж')"
      ]
     },
     "execution_count": 15,
     "metadata": {},
     "output_type": "execute_result"
    },
    {
     "data": {
      "image/png": "[encoded data removed]",
      "text/plain": [
       "<Figure size 936x432 with 1 Axes>"
      ]
     },
     "metadata": {
      "needs_background": "light"
     },
     "output_type": "display_data"
    }
   ],
   "source": [
    "# посмотрим, как изменился график прибыльности платформ в актуальном периоде\n",
    "platform_sales = games.pivot_table(\n",
    "    index='platform', values='total_sales', aggfunc='sum').sort_values(by='total_sales', ascending=False)\n",
    "\n",
    "plt.figure(figsize=(13,6))\n",
    "sns.barplot(x=platform_sales.index,y=platform_sales['total_sales'])\n",
    "plt.title(\"Продажи по платформам за весь период\")\n",
    "plt.xlabel(\"Название платформы\")\n",
    "plt.ylabel(\"Количество продаж\")"
   ]
  },
  {
   "cell_type": "code",
   "execution_count": 16,
   "metadata": {},
   "outputs": [],
   "source": [
    "list_of_top6 = ['3ds','x360','ps3','wiiu','xone', 'ps4']\n",
    "game_top_6_platforms = games[games['platform'].isin(['3ds','x360','ps3','wiiu','xone', 'ps4'])]\n",
    "game_top_6_platforms = game_top_6_platforms[game_top_6_platforms['total_sales']<1.4]"
   ]
  },
  {
   "cell_type": "markdown",
   "metadata": {},
   "source": [
    "Построим график «ящик с усами» по глобальным продажам игр в разбивке по платформам."
   ]
  },
  {
   "cell_type": "code",
   "execution_count": 17,
   "metadata": {},
   "outputs": [
    {
     "data": {
      "text/plain": [
       "Text(0, 0.5, 'Глобальные продажи')"
      ]
     },
     "execution_count": 17,
     "metadata": {},
     "output_type": "execute_result"
    },
    {
     "data": {
      "image/png": "[encoded data removed]",
      "text/plain": [
       "<Figure size 864x432 with 1 Axes>"
      ]
     },
     "metadata": {
      "needs_background": "light"
     },
     "output_type": "display_data"
    }
   ],
   "source": [
    "#Построим графики \"ящики с усами\" \n",
    "plt.figure(figsize=(12,6))\n",
    "sns.boxplot(data=game_top_6_platforms, x='platform', y='total_sales')\n",
    "plt.title('Ящики с усами', fontsize=15)\n",
    "plt.xlabel('Платформа', fontsize=12)\n",
    "plt.ylabel('Глобальные продажи',fontsize=12)"
   ]
  },
  {
   "cell_type": "markdown",
   "metadata": {},
   "source": [
    "- Исходя из графиков видно, что медиана протекает у всех по-разному\n",
    "- Больше всех продаж у X360, затем PS3 и PS4, после почти на одном уровне WII, 3DS и DS. "
   ]
  },
  {
   "cell_type": "markdown",
   "metadata": {},
   "source": [
    "Посмотрим, как влияют на продажи внутри одной популярной платформы отзывы пользователей и критиков. Построим диаграмму рассеяния и посчитаем корреляцию между отзывами и продажами."
   ]
  },
  {
   "cell_type": "code",
   "execution_count": 18,
   "metadata": {},
   "outputs": [
    {
     "name": "stdout",
     "output_type": "stream",
     "text": [
      "0.11311562450852881\n",
      "0.042550393380014435\n",
      "0.44040757146749465\n"
     ]
    }
   ],
   "source": [
    "#Корреляция между оценками пользователей и продажами \n",
    "sony_play_station4 = games[games['platform']=='ps4']\n",
    "print(sony_play_station4['user_score'].corr(sony_play_station4['total_sales']))\n",
    "#для сравнения возьмем платформу не из топа, а из середины по продажам, например, xb\n",
    "pc_platform = games[games['platform']=='pc']\n",
    "print(pc_platform['user_score'].corr(pc_platform['total_sales']))\n",
    "#для сравнения возьмем платформу ближе к концу\n",
    "ds_platform = games[games['platform']=='ds']\n",
    "print(ds_platform['user_score'].corr(ds_platform['total_sales']))\n"
   ]
  },
  {
   "cell_type": "markdown",
   "metadata": {},
   "source": [
    "Как мы видим, корреляция между этими показателями больше  у платформы с меньшими продажами, чем у платформы из топа или из середины списка"
   ]
  },
  {
   "cell_type": "code",
   "execution_count": 19,
   "metadata": {},
   "outputs": [
    {
     "data": {
      "text/plain": [
       "Text(0.5, 1.0, 'ds_platform')"
      ]
     },
     "execution_count": 19,
     "metadata": {},
     "output_type": "execute_result"
    },
    {
     "data": {
      "image/png": "[encoded data removed]",
      "text/plain": [
       "<Figure size 720x360 with 1 Axes>"
      ]
     },
     "metadata": {
      "needs_background": "light"
     },
     "output_type": "display_data"
    },
    {
     "data": {
      "image/png": "[encoded data removed]",
      "text/plain": [
       "<Figure size 720x360 with 1 Axes>"
      ]
     },
     "metadata": {
      "needs_background": "light"
     },
     "output_type": "display_data"
    },
    {
     "data": {
      "image/png": "[encoded data removed]",
      "text/plain": [
       "<Figure size 720x360 with 1 Axes>"
      ]
     },
     "metadata": {
      "needs_background": "light"
     },
     "output_type": "display_data"
    }
   ],
   "source": [
    "#Построим диаграмму рассеяния для платформы из топа\n",
    "plt.figure(figsize=(10,5))\n",
    "sns.scatterplot(x='user_score', y='total_sales', data=sony_play_station4)\n",
    "plt.title('sony_play_station4')\n",
    "#Построим диаграмму рассеяния для платформы из середины листа\n",
    "plt.figure(figsize=(10,5))\n",
    "sns.scatterplot(x='user_score', y='total_sales', data=pc_platform)\n",
    "plt.title('pc_platform')\n",
    "#Построим диаграмму рассеяния для платформы ближе к концу листа\n",
    "plt.figure(figsize=(10,5))\n",
    "sns.scatterplot(x='user_score', y='total_sales', data=ds_platform)\n",
    "plt.title('ds_platform')"
   ]
  },
  {
   "cell_type": "markdown",
   "metadata": {},
   "source": [
    "С диаграммами рассеяния ситуация похожая на показатели с оценкой пользователей."
   ]
  },
  {
   "cell_type": "code",
   "execution_count": 20,
   "metadata": {},
   "outputs": [
    {
     "name": "stdout",
     "output_type": "stream",
     "text": [
      "0.22754960627752652\n",
      "0.18664907593915292\n",
      "nan\n"
     ]
    }
   ],
   "source": [
    "#Корреляция между оценками пользователей и продажами \n",
    "sony_play_station4 = games[games['platform']=='ps4']\n",
    "print(sony_play_station4['critic_score'].corr(sony_play_station4['total_sales']))\n",
    "#для сравнения возьмем платформу не из топа, а из середины по продажам, например, xb\n",
    "pc_platform = games[games['platform']=='pc']\n",
    "print(pc_platform['critic_score'].corr(pc_platform['total_sales']))\n",
    "#для сравнения возьмем платформу ближе к концу\n",
    "ds_platform = games[games['platform']=='ds']\n",
    "print(ds_platform['critic_score'].corr(ds_platform['total_sales']))"
   ]
  },
  {
   "cell_type": "markdown",
   "metadata": {},
   "source": [
    "Как мы видим, оценка критиков больше влияет на выделение топа и на отнесение платформы ближе к концу списка"
   ]
  },
  {
   "cell_type": "code",
   "execution_count": 21,
   "metadata": {},
   "outputs": [
    {
     "data": {
      "text/plain": [
       "Text(0.5, 1.0, 'ds_platform')"
      ]
     },
     "execution_count": 21,
     "metadata": {},
     "output_type": "execute_result"
    },
    {
     "data": {
      "image/png": "[encoded data removed]",
      "text/plain": [
       "<Figure size 720x360 with 1 Axes>"
      ]
     },
     "metadata": {
      "needs_background": "light"
     },
     "output_type": "display_data"
    },
    {
     "data": {
      "image/png": "[encoded data removed]",
      "text/plain": [
       "<Figure size 720x360 with 1 Axes>"
      ]
     },
     "metadata": {
      "needs_background": "light"
     },
     "output_type": "display_data"
    },
    {
     "data": {
      "image/png": "[encoded data removed]",
      "text/plain": [
       "<Figure size 720x360 with 1 Axes>"
      ]
     },
     "metadata": {
      "needs_background": "light"
     },
     "output_type": "display_data"
    }
   ],
   "source": [
    "#Построим диаграмму рассеяния для платформы из топа\n",
    "plt.figure(figsize=(10,5))\n",
    "sns.scatterplot(x='critic_score', y='total_sales', data=sony_play_station4)\n",
    "plt.title('sony_play_station4')\n",
    "#Построим диаграмму рассеяния для платформы из середины листа\n",
    "plt.figure(figsize=(10,5))\n",
    "sns.scatterplot(x='critic_score', y='total_sales', data=pc_platform)\n",
    "plt.title('pc_platform')\n",
    "#Построим диаграмму рассеяния для платформы ближе к концу листа\n",
    "plt.figure(figsize=(10,5))\n",
    "sns.scatterplot(x='critic_score', y='total_sales', data=ds_platform)\n",
    "plt.title('ds_platform')"
   ]
  },
  {
   "cell_type": "markdown",
   "metadata": {},
   "source": [
    "Диаграммы рассеяния у платформы из топа и платформы из середины списка похожи, в отличие от платформы ближе к концу списка"
   ]
  },
  {
   "cell_type": "code",
   "execution_count": 22,
   "metadata": {},
   "outputs": [],
   "source": [
    "#Напишем функцию для графиков рассеивания и подсчета корреляций\n",
    "def cor_matrix(name_of_platform):\n",
    "    platform = games[games['platform']==name_of_platform]\n",
    "    fig, ax = plt.subplots(1 ,2, figsize=(15,5))\n",
    "    sns.scatterplot(x='user_score', y='total_sales', data=platform, ax=ax[0])\n",
    "    sns.scatterplot(x='critic_score', y='total_sales', data=platform, ax=ax[1])\n",
    "    fig.suptitle(name_of_platform, fontsize=10)\n",
    "    ax[0].set(xlabel='Оценка пользователей')\n",
    "    ax[1].set(xlabel='Оценка критиков')\n",
    "    ax[0].set(ylabel='Количество продаж')\n",
    "    ax[1].set(ylabel='Количество продаж')\n",
    "    plt.show()\n",
    "    \n",
    "    user_correl = platform['user_score'].corr(platform['total_sales'])\n",
    "    critic_correl = platform['critic_score'].corr(platform['total_sales'])\n",
    "    \n",
    "    if 0.3 >= critic_correl >= 0.1:\n",
    "        print('Корреляция между отзывами критиков и продажами ', name_of_platform.upper(), ': Слабая', critic_correl)\n",
    "    if 0.5 >= critic_correl >= 0.3:\n",
    "        print('Корреляция между отзывами критиков и продажами ', name_of_platform.upper(), ': Умеренная', critic_correl)\n",
    "    if 0.7 >= critic_correl >= 0.5:\n",
    "        print('Корреляция между отзывами критиков и продажами ', name_of_platform.upper(), ': Высокая', critic_correl)\n",
    "    if 0.9 >= critic_correl >= 0.7:\n",
    "        print('Корреляция между отзывами критиков и продажами ', name_of_platform.upper(), ': Весьма высокая', critic_correl)\n",
    "    if 1 >= critic_correl >= 0.9:\n",
    "        print('Корреляция между отзывами критиков и продажами ', name_of_platform.upper(), ': Сильная', critic_correl)\n",
    "    \n",
    "    if 0.3 >= user_correl >= 0.1:\n",
    "        print('Корреляция между отзывами пользователей и продажами ', name_of_platform.upper(), ': Слабая', user_correl)\n",
    "    if 0.5 >= user_correl >= 0.3:\n",
    "        print('Корреляция между отзывами пользователей и продажами ', name_of_platform.upper(), ': Умеренная', user_correl)\n",
    "    if 0.7 >= user_correl >= 0.5:\n",
    "        print('Корреляция между отзывами пользователей и продажами ', name_of_platform.upper(), ': Высокая', user_correl)\n",
    "    if 0.9 >= user_correl >= 0.7:\n",
    "        print('Корреляция между отзывами пользователей и продажами ', name_of_platform.upper(), ': Весьма высокая', user_correl)\n",
    "    if 1 >= user_correl >= 0.9:\n",
    "        print('Корреляция между отзывами пользователей и продажами ', name_of_platform.upper(), ': Сильная', user_correl)\n",
    "    print('\\n')"
   ]
  },
  {
   "cell_type": "code",
   "execution_count": 23,
   "metadata": {
    "scrolled": false
   },
   "outputs": [
    {
     "data": {
      "image/png": "[encoded data removed]",
      "text/plain": [
       "<Figure size 1080x360 with 2 Axes>"
      ]
     },
     "metadata": {
      "needs_background": "light"
     },
     "output_type": "display_data"
    },
    {
     "name": "stdout",
     "output_type": "stream",
     "text": [
      "\n",
      "\n"
     ]
    },
    {
     "data": {
      "image/png": "[encoded data removed]",
      "text/plain": [
       "<Figure size 1080x360 with 2 Axes>"
      ]
     },
     "metadata": {
      "needs_background": "light"
     },
     "output_type": "display_data"
    },
    {
     "name": "stdout",
     "output_type": "stream",
     "text": [
      "Корреляция между отзывами критиков и продажами  X360 : Слабая 0.24657276701675537\n",
      "\n",
      "\n"
     ]
    },
    {
     "data": {
      "image/png": "[encoded data removed]",
      "text/plain": [
       "<Figure size 1080x360 with 2 Axes>"
      ]
     },
     "metadata": {
      "needs_background": "light"
     },
     "output_type": "display_data"
    },
    {
     "name": "stdout",
     "output_type": "stream",
     "text": [
      "Корреляция между отзывами критиков и продажами  PS3 : Слабая 0.27927436323247207\n",
      "Корреляция между отзывами пользователей и продажами  PS3 : Слабая 0.20209116183305234\n",
      "\n",
      "\n"
     ]
    },
    {
     "data": {
      "image/png": "[encoded data removed]",
      "text/plain": [
       "<Figure size 1080x360 with 2 Axes>"
      ]
     },
     "metadata": {
      "needs_background": "light"
     },
     "output_type": "display_data"
    },
    {
     "name": "stdout",
     "output_type": "stream",
     "text": [
      "Корреляция между отзывами критиков и продажами  WIIU : Слабая 0.29414849692289996\n",
      "Корреляция между отзывами пользователей и продажами  WIIU : Слабая 0.25281062812538624\n",
      "\n",
      "\n"
     ]
    },
    {
     "data": {
      "image/png": "[encoded data removed]",
      "text/plain": [
       "<Figure size 1080x360 with 2 Axes>"
      ]
     },
     "metadata": {
      "needs_background": "light"
     },
     "output_type": "display_data"
    },
    {
     "name": "stdout",
     "output_type": "stream",
     "text": [
      "Корреляция между отзывами критиков и продажами  XONE : Слабая 0.2748391874944539\n",
      "Корреляция между отзывами пользователей и продажами  XONE : Слабая 0.11656261405851895\n",
      "\n",
      "\n"
     ]
    },
    {
     "data": {
      "image/png": "[encoded data removed]",
      "text/plain": [
       "<Figure size 1080x360 with 2 Axes>"
      ]
     },
     "metadata": {
      "needs_background": "light"
     },
     "output_type": "display_data"
    },
    {
     "name": "stdout",
     "output_type": "stream",
     "text": [
      "Корреляция между отзывами критиков и продажами  PS4 : Слабая 0.22754960627752652\n",
      "Корреляция между отзывами пользователей и продажами  PS4 : Слабая 0.11311562450852881\n",
      "\n",
      "\n"
     ]
    }
   ],
   "source": [
    "#Посмотрим на корреляции и диаграммы рассеяния для топа:\n",
    "for platform in list_of_top6:\n",
    "    cor_matrix(platform)"
   ]
  },
  {
   "cell_type": "markdown",
   "metadata": {},
   "source": [
    "Посмотрим на общее распределение игр по жанрам. Определим самые прибыльные жанры и те, которые с низкими продажами"
   ]
  },
  {
   "cell_type": "code",
   "execution_count": 24,
   "metadata": {},
   "outputs": [
    {
     "data": {
      "text/html": [
       "<div>\n",
       "<style scoped>\n",
       "    .dataframe tbody tr th:only-of-type {\n",
       "        vertical-align: middle;\n",
       "    }\n",
       "\n",
       "    .dataframe tbody tr th {\n",
       "        vertical-align: top;\n",
       "    }\n",
       "\n",
       "    .dataframe thead th {\n",
       "        text-align: right;\n",
       "    }\n",
       "</style>\n",
       "<table border=\"1\" class=\"dataframe\">\n",
       "  <thead>\n",
       "    <tr style=\"text-align: right;\">\n",
       "      <th></th>\n",
       "      <th>total_sales_x</th>\n",
       "      <th>total_sales_y</th>\n",
       "      <th>total_sales</th>\n",
       "    </tr>\n",
       "    <tr>\n",
       "      <th>genre</th>\n",
       "      <th></th>\n",
       "      <th></th>\n",
       "      <th></th>\n",
       "    </tr>\n",
       "  </thead>\n",
       "  <tbody>\n",
       "    <tr>\n",
       "      <th>action</th>\n",
       "      <td>322.50</td>\n",
       "      <td>0.419376</td>\n",
       "      <td>0.110</td>\n",
       "    </tr>\n",
       "    <tr>\n",
       "      <th>adventure</th>\n",
       "      <td>23.64</td>\n",
       "      <td>0.096490</td>\n",
       "      <td>0.030</td>\n",
       "    </tr>\n",
       "    <tr>\n",
       "      <th>fighting</th>\n",
       "      <td>35.31</td>\n",
       "      <td>0.441375</td>\n",
       "      <td>0.125</td>\n",
       "    </tr>\n",
       "    <tr>\n",
       "      <th>misc</th>\n",
       "      <td>63.06</td>\n",
       "      <td>0.404231</td>\n",
       "      <td>0.105</td>\n",
       "    </tr>\n",
       "    <tr>\n",
       "      <th>platform</th>\n",
       "      <td>42.63</td>\n",
       "      <td>0.576081</td>\n",
       "      <td>0.225</td>\n",
       "    </tr>\n",
       "    <tr>\n",
       "      <th>puzzle</th>\n",
       "      <td>3.17</td>\n",
       "      <td>0.186471</td>\n",
       "      <td>0.060</td>\n",
       "    </tr>\n",
       "    <tr>\n",
       "      <th>racing</th>\n",
       "      <td>39.89</td>\n",
       "      <td>0.469294</td>\n",
       "      <td>0.120</td>\n",
       "    </tr>\n",
       "    <tr>\n",
       "      <th>role-playing</th>\n",
       "      <td>145.89</td>\n",
       "      <td>0.499623</td>\n",
       "      <td>0.125</td>\n",
       "    </tr>\n",
       "    <tr>\n",
       "      <th>shooter</th>\n",
       "      <td>232.98</td>\n",
       "      <td>1.245882</td>\n",
       "      <td>0.450</td>\n",
       "    </tr>\n",
       "    <tr>\n",
       "      <th>simulation</th>\n",
       "      <td>21.76</td>\n",
       "      <td>0.350968</td>\n",
       "      <td>0.100</td>\n",
       "    </tr>\n",
       "    <tr>\n",
       "      <th>sports</th>\n",
       "      <td>150.65</td>\n",
       "      <td>0.703972</td>\n",
       "      <td>0.240</td>\n",
       "    </tr>\n",
       "    <tr>\n",
       "      <th>strategy</th>\n",
       "      <td>10.08</td>\n",
       "      <td>0.180000</td>\n",
       "      <td>0.080</td>\n",
       "    </tr>\n",
       "  </tbody>\n",
       "</table>\n",
       "</div>"
      ],
      "text/plain": [
       "              total_sales_x  total_sales_y  total_sales\n",
       "genre                                                  \n",
       "action               322.50       0.419376        0.110\n",
       "adventure             23.64       0.096490        0.030\n",
       "fighting              35.31       0.441375        0.125\n",
       "misc                  63.06       0.404231        0.105\n",
       "platform              42.63       0.576081        0.225\n",
       "puzzle                 3.17       0.186471        0.060\n",
       "racing                39.89       0.469294        0.120\n",
       "role-playing         145.89       0.499623        0.125\n",
       "shooter              232.98       1.245882        0.450\n",
       "simulation            21.76       0.350968        0.100\n",
       "sports               150.65       0.703972        0.240\n",
       "strategy              10.08       0.180000        0.080"
      ]
     },
     "execution_count": 24,
     "metadata": {},
     "output_type": "execute_result"
    }
   ],
   "source": [
    "#games.pivot_table(index ='genre', columns = '', values = 'total_sales', aggfunc = ['sum', 'mean', 'median'])\n",
    "games_genre_sum = games.groupby('genre')[['total_sales']].sum()\n",
    "games_genre_mean = games.groupby('genre')[['total_sales']].mean()\n",
    "games_genre_median = games.groupby('genre')[['total_sales']].median()\n",
    "games_genre= games_genre_sum.merge(games_genre_mean, on = 'genre')\n",
    "games_genre= games_genre.merge(games_genre_median, on = 'genre')\n",
    "games_genre"
   ]
  },
  {
   "cell_type": "markdown",
   "metadata": {},
   "source": [
    "Чаще всего по сумме продаж продаются action, sports, shooter, меньше всего продаются strategy, adventure и puzzle. По среднему арифметическому shooter, platform, sports, по медиане shooter, sports, platform. Shooter по всем показателям приносит стабильно высокий доход\t"
   ]
  },
  {
   "cell_type": "code",
   "execution_count": 25,
   "metadata": {},
   "outputs": [
    {
     "data": {
      "text/html": [
       "<div>\n",
       "<style scoped>\n",
       "    .dataframe tbody tr th:only-of-type {\n",
       "        vertical-align: middle;\n",
       "    }\n",
       "\n",
       "    .dataframe tbody tr th {\n",
       "        vertical-align: top;\n",
       "    }\n",
       "\n",
       "    .dataframe thead th {\n",
       "        text-align: right;\n",
       "    }\n",
       "</style>\n",
       "<table border=\"1\" class=\"dataframe\">\n",
       "  <thead>\n",
       "    <tr style=\"text-align: right;\">\n",
       "      <th>genre</th>\n",
       "      <th>action</th>\n",
       "      <th>adventure</th>\n",
       "      <th>fighting</th>\n",
       "      <th>misc</th>\n",
       "      <th>platform</th>\n",
       "      <th>puzzle</th>\n",
       "      <th>racing</th>\n",
       "      <th>role-playing</th>\n",
       "      <th>shooter</th>\n",
       "      <th>simulation</th>\n",
       "      <th>sports</th>\n",
       "      <th>strategy</th>\n",
       "    </tr>\n",
       "    <tr>\n",
       "      <th>platform</th>\n",
       "      <th></th>\n",
       "      <th></th>\n",
       "      <th></th>\n",
       "      <th></th>\n",
       "      <th></th>\n",
       "      <th></th>\n",
       "      <th></th>\n",
       "      <th></th>\n",
       "      <th></th>\n",
       "      <th></th>\n",
       "      <th></th>\n",
       "      <th></th>\n",
       "    </tr>\n",
       "  </thead>\n",
       "  <tbody>\n",
       "    <tr>\n",
       "      <th>3ds</th>\n",
       "      <td>34.04</td>\n",
       "      <td>3.33</td>\n",
       "      <td>8.21</td>\n",
       "      <td>7.10</td>\n",
       "      <td>8.79</td>\n",
       "      <td>1.73</td>\n",
       "      <td>NaN</td>\n",
       "      <td>67.37</td>\n",
       "      <td>0.06</td>\n",
       "      <td>9.53</td>\n",
       "      <td>1.82</td>\n",
       "      <td>1.27</td>\n",
       "    </tr>\n",
       "    <tr>\n",
       "      <th>ds</th>\n",
       "      <td>0.50</td>\n",
       "      <td>0.03</td>\n",
       "      <td>NaN</td>\n",
       "      <td>0.08</td>\n",
       "      <td>0.69</td>\n",
       "      <td>NaN</td>\n",
       "      <td>NaN</td>\n",
       "      <td>NaN</td>\n",
       "      <td>NaN</td>\n",
       "      <td>0.21</td>\n",
       "      <td>0.03</td>\n",
       "      <td>NaN</td>\n",
       "    </tr>\n",
       "    <tr>\n",
       "      <th>pc</th>\n",
       "      <td>7.89</td>\n",
       "      <td>0.51</td>\n",
       "      <td>0.10</td>\n",
       "      <td>0.71</td>\n",
       "      <td>0.07</td>\n",
       "      <td>NaN</td>\n",
       "      <td>0.97</td>\n",
       "      <td>4.87</td>\n",
       "      <td>9.84</td>\n",
       "      <td>8.11</td>\n",
       "      <td>1.96</td>\n",
       "      <td>5.03</td>\n",
       "    </tr>\n",
       "    <tr>\n",
       "      <th>ps3</th>\n",
       "      <td>70.92</td>\n",
       "      <td>4.32</td>\n",
       "      <td>6.05</td>\n",
       "      <td>8.36</td>\n",
       "      <td>3.33</td>\n",
       "      <td>0.04</td>\n",
       "      <td>6.46</td>\n",
       "      <td>16.49</td>\n",
       "      <td>31.79</td>\n",
       "      <td>0.71</td>\n",
       "      <td>32.35</td>\n",
       "      <td>0.61</td>\n",
       "    </tr>\n",
       "    <tr>\n",
       "      <th>ps4</th>\n",
       "      <td>96.10</td>\n",
       "      <td>6.34</td>\n",
       "      <td>8.65</td>\n",
       "      <td>8.19</td>\n",
       "      <td>7.69</td>\n",
       "      <td>0.02</td>\n",
       "      <td>12.14</td>\n",
       "      <td>28.99</td>\n",
       "      <td>88.56</td>\n",
       "      <td>1.23</td>\n",
       "      <td>55.61</td>\n",
       "      <td>0.62</td>\n",
       "    </tr>\n",
       "    <tr>\n",
       "      <th>psp</th>\n",
       "      <td>0.86</td>\n",
       "      <td>0.71</td>\n",
       "      <td>0.02</td>\n",
       "      <td>0.41</td>\n",
       "      <td>NaN</td>\n",
       "      <td>NaN</td>\n",
       "      <td>NaN</td>\n",
       "      <td>1.03</td>\n",
       "      <td>NaN</td>\n",
       "      <td>NaN</td>\n",
       "      <td>0.69</td>\n",
       "      <td>0.02</td>\n",
       "    </tr>\n",
       "    <tr>\n",
       "      <th>psv</th>\n",
       "      <td>9.72</td>\n",
       "      <td>3.45</td>\n",
       "      <td>1.19</td>\n",
       "      <td>3.85</td>\n",
       "      <td>0.47</td>\n",
       "      <td>0.06</td>\n",
       "      <td>0.10</td>\n",
       "      <td>10.23</td>\n",
       "      <td>1.44</td>\n",
       "      <td>0.05</td>\n",
       "      <td>2.08</td>\n",
       "      <td>0.35</td>\n",
       "    </tr>\n",
       "    <tr>\n",
       "      <th>wii</th>\n",
       "      <td>2.82</td>\n",
       "      <td>0.18</td>\n",
       "      <td>NaN</td>\n",
       "      <td>7.06</td>\n",
       "      <td>2.25</td>\n",
       "      <td>NaN</td>\n",
       "      <td>NaN</td>\n",
       "      <td>NaN</td>\n",
       "      <td>NaN</td>\n",
       "      <td>0.14</td>\n",
       "      <td>0.95</td>\n",
       "      <td>0.26</td>\n",
       "    </tr>\n",
       "    <tr>\n",
       "      <th>wiiu</th>\n",
       "      <td>14.75</td>\n",
       "      <td>0.17</td>\n",
       "      <td>6.09</td>\n",
       "      <td>7.38</td>\n",
       "      <td>16.27</td>\n",
       "      <td>1.32</td>\n",
       "      <td>7.36</td>\n",
       "      <td>1.93</td>\n",
       "      <td>5.48</td>\n",
       "      <td>0.20</td>\n",
       "      <td>2.46</td>\n",
       "      <td>1.22</td>\n",
       "    </tr>\n",
       "    <tr>\n",
       "      <th>x360</th>\n",
       "      <td>47.59</td>\n",
       "      <td>1.92</td>\n",
       "      <td>2.55</td>\n",
       "      <td>12.49</td>\n",
       "      <td>2.14</td>\n",
       "      <td>NaN</td>\n",
       "      <td>3.07</td>\n",
       "      <td>4.43</td>\n",
       "      <td>35.48</td>\n",
       "      <td>0.89</td>\n",
       "      <td>25.96</td>\n",
       "      <td>0.28</td>\n",
       "    </tr>\n",
       "    <tr>\n",
       "      <th>xone</th>\n",
       "      <td>37.31</td>\n",
       "      <td>2.68</td>\n",
       "      <td>2.45</td>\n",
       "      <td>7.43</td>\n",
       "      <td>0.93</td>\n",
       "      <td>NaN</td>\n",
       "      <td>9.79</td>\n",
       "      <td>10.55</td>\n",
       "      <td>60.33</td>\n",
       "      <td>0.69</td>\n",
       "      <td>26.74</td>\n",
       "      <td>0.42</td>\n",
       "    </tr>\n",
       "  </tbody>\n",
       "</table>\n",
       "</div>"
      ],
      "text/plain": [
       "genre     action  adventure  fighting   misc  platform  puzzle  racing  \\\n",
       "platform                                                                 \n",
       "3ds        34.04       3.33      8.21   7.10      8.79    1.73     NaN   \n",
       "ds          0.50       0.03       NaN   0.08      0.69     NaN     NaN   \n",
       "pc          7.89       0.51      0.10   0.71      0.07     NaN    0.97   \n",
       "ps3        70.92       4.32      6.05   8.36      3.33    0.04    6.46   \n",
       "ps4        96.10       6.34      8.65   8.19      7.69    0.02   12.14   \n",
       "psp         0.86       0.71      0.02   0.41       NaN     NaN     NaN   \n",
       "psv         9.72       3.45      1.19   3.85      0.47    0.06    0.10   \n",
       "wii         2.82       0.18       NaN   7.06      2.25     NaN     NaN   \n",
       "wiiu       14.75       0.17      6.09   7.38     16.27    1.32    7.36   \n",
       "x360       47.59       1.92      2.55  12.49      2.14     NaN    3.07   \n",
       "xone       37.31       2.68      2.45   7.43      0.93     NaN    9.79   \n",
       "\n",
       "genre     role-playing  shooter  simulation  sports  strategy  \n",
       "platform                                                       \n",
       "3ds              67.37     0.06        9.53    1.82      1.27  \n",
       "ds                 NaN      NaN        0.21    0.03       NaN  \n",
       "pc                4.87     9.84        8.11    1.96      5.03  \n",
       "ps3              16.49    31.79        0.71   32.35      0.61  \n",
       "ps4              28.99    88.56        1.23   55.61      0.62  \n",
       "psp               1.03      NaN         NaN    0.69      0.02  \n",
       "psv              10.23     1.44        0.05    2.08      0.35  \n",
       "wii                NaN      NaN        0.14    0.95      0.26  \n",
       "wiiu              1.93     5.48        0.20    2.46      1.22  \n",
       "x360              4.43    35.48        0.89   25.96      0.28  \n",
       "xone             10.55    60.33        0.69   26.74      0.42  "
      ]
     },
     "execution_count": 25,
     "metadata": {},
     "output_type": "execute_result"
    }
   ],
   "source": [
    "games_platform_genre=games.pivot_table(index ='platform', columns = 'genre', values = 'total_sales', aggfunc = 'sum')\n",
    "games_platform_genre.head(15)"
   ]
  },
  {
   "cell_type": "markdown",
   "metadata": {},
   "source": [
    "Составим портрет пользователя каждого региона (NA, EU, JP). Определим самые популярные платформы (топ-5) и выявим различия в долях продаж."
   ]
  },
  {
   "cell_type": "code",
   "execution_count": 26,
   "metadata": {
    "scrolled": false
   },
   "outputs": [
    {
     "data": {
      "text/html": [
       "<div>\n",
       "<style scoped>\n",
       "    .dataframe tbody tr th:only-of-type {\n",
       "        vertical-align: middle;\n",
       "    }\n",
       "\n",
       "    .dataframe tbody tr th {\n",
       "        vertical-align: top;\n",
       "    }\n",
       "\n",
       "    .dataframe thead th {\n",
       "        text-align: right;\n",
       "    }\n",
       "</style>\n",
       "<table border=\"1\" class=\"dataframe\">\n",
       "  <thead>\n",
       "    <tr style=\"text-align: right;\">\n",
       "      <th></th>\n",
       "      <th>na_sales</th>\n",
       "    </tr>\n",
       "    <tr>\n",
       "      <th>platform</th>\n",
       "      <th></th>\n",
       "    </tr>\n",
       "  </thead>\n",
       "  <tbody>\n",
       "    <tr>\n",
       "      <th>ps4</th>\n",
       "      <td>108.74</td>\n",
       "    </tr>\n",
       "    <tr>\n",
       "      <th>xone</th>\n",
       "      <td>93.12</td>\n",
       "    </tr>\n",
       "    <tr>\n",
       "      <th>x360</th>\n",
       "      <td>81.66</td>\n",
       "    </tr>\n",
       "    <tr>\n",
       "      <th>ps3</th>\n",
       "      <td>63.50</td>\n",
       "    </tr>\n",
       "    <tr>\n",
       "      <th>3ds</th>\n",
       "      <td>38.20</td>\n",
       "    </tr>\n",
       "    <tr>\n",
       "      <th>wiiu</th>\n",
       "      <td>29.21</td>\n",
       "    </tr>\n",
       "    <tr>\n",
       "      <th>pc</th>\n",
       "      <td>11.19</td>\n",
       "    </tr>\n",
       "    <tr>\n",
       "      <th>wii</th>\n",
       "      <td>6.56</td>\n",
       "    </tr>\n",
       "    <tr>\n",
       "      <th>psv</th>\n",
       "      <td>5.04</td>\n",
       "    </tr>\n",
       "    <tr>\n",
       "      <th>ds</th>\n",
       "      <td>0.57</td>\n",
       "    </tr>\n",
       "  </tbody>\n",
       "</table>\n",
       "</div>"
      ],
      "text/plain": [
       "          na_sales\n",
       "platform          \n",
       "ps4         108.74\n",
       "xone         93.12\n",
       "x360         81.66\n",
       "ps3          63.50\n",
       "3ds          38.20\n",
       "wiiu         29.21\n",
       "pc           11.19\n",
       "wii           6.56\n",
       "psv           5.04\n",
       "ds            0.57"
      ]
     },
     "metadata": {},
     "output_type": "display_data"
    },
    {
     "data": {
      "text/html": [
       "<div>\n",
       "<style scoped>\n",
       "    .dataframe tbody tr th:only-of-type {\n",
       "        vertical-align: middle;\n",
       "    }\n",
       "\n",
       "    .dataframe tbody tr th {\n",
       "        vertical-align: top;\n",
       "    }\n",
       "\n",
       "    .dataframe thead th {\n",
       "        text-align: right;\n",
       "    }\n",
       "</style>\n",
       "<table border=\"1\" class=\"dataframe\">\n",
       "  <thead>\n",
       "    <tr style=\"text-align: right;\">\n",
       "      <th></th>\n",
       "      <th>eu_sales</th>\n",
       "    </tr>\n",
       "    <tr>\n",
       "      <th>platform</th>\n",
       "      <th></th>\n",
       "    </tr>\n",
       "  </thead>\n",
       "  <tbody>\n",
       "    <tr>\n",
       "      <th>ps4</th>\n",
       "      <td>141.09</td>\n",
       "    </tr>\n",
       "    <tr>\n",
       "      <th>ps3</th>\n",
       "      <td>67.81</td>\n",
       "    </tr>\n",
       "    <tr>\n",
       "      <th>xone</th>\n",
       "      <td>51.59</td>\n",
       "    </tr>\n",
       "    <tr>\n",
       "      <th>x360</th>\n",
       "      <td>42.52</td>\n",
       "    </tr>\n",
       "    <tr>\n",
       "      <th>3ds</th>\n",
       "      <td>30.96</td>\n",
       "    </tr>\n",
       "    <tr>\n",
       "      <th>pc</th>\n",
       "      <td>25.84</td>\n",
       "    </tr>\n",
       "    <tr>\n",
       "      <th>wiiu</th>\n",
       "      <td>19.85</td>\n",
       "    </tr>\n",
       "    <tr>\n",
       "      <th>psv</th>\n",
       "      <td>6.10</td>\n",
       "    </tr>\n",
       "    <tr>\n",
       "      <th>wii</th>\n",
       "      <td>5.93</td>\n",
       "    </tr>\n",
       "    <tr>\n",
       "      <th>ds</th>\n",
       "      <td>0.85</td>\n",
       "    </tr>\n",
       "    <tr>\n",
       "      <th>psp</th>\n",
       "      <td>0.17</td>\n",
       "    </tr>\n",
       "  </tbody>\n",
       "</table>\n",
       "</div>"
      ],
      "text/plain": [
       "          eu_sales\n",
       "platform          \n",
       "ps4         141.09\n",
       "ps3          67.81\n",
       "xone         51.59\n",
       "x360         42.52\n",
       "3ds          30.96\n",
       "pc           25.84\n",
       "wiiu         19.85\n",
       "psv           6.10\n",
       "wii           5.93\n",
       "ds            0.85\n",
       "psp           0.17"
      ]
     },
     "metadata": {},
     "output_type": "display_data"
    },
    {
     "data": {
      "text/html": [
       "<div>\n",
       "<style scoped>\n",
       "    .dataframe tbody tr th:only-of-type {\n",
       "        vertical-align: middle;\n",
       "    }\n",
       "\n",
       "    .dataframe tbody tr th {\n",
       "        vertical-align: top;\n",
       "    }\n",
       "\n",
       "    .dataframe thead th {\n",
       "        text-align: right;\n",
       "    }\n",
       "</style>\n",
       "<table border=\"1\" class=\"dataframe\">\n",
       "  <thead>\n",
       "    <tr style=\"text-align: right;\">\n",
       "      <th></th>\n",
       "      <th>jp_sales</th>\n",
       "    </tr>\n",
       "    <tr>\n",
       "      <th>platform</th>\n",
       "      <th></th>\n",
       "    </tr>\n",
       "  </thead>\n",
       "  <tbody>\n",
       "    <tr>\n",
       "      <th>3ds</th>\n",
       "      <td>67.81</td>\n",
       "    </tr>\n",
       "    <tr>\n",
       "      <th>ps3</th>\n",
       "      <td>23.35</td>\n",
       "    </tr>\n",
       "    <tr>\n",
       "      <th>psv</th>\n",
       "      <td>18.59</td>\n",
       "    </tr>\n",
       "    <tr>\n",
       "      <th>ps4</th>\n",
       "      <td>15.96</td>\n",
       "    </tr>\n",
       "    <tr>\n",
       "      <th>wiiu</th>\n",
       "      <td>10.88</td>\n",
       "    </tr>\n",
       "    <tr>\n",
       "      <th>psp</th>\n",
       "      <td>3.53</td>\n",
       "    </tr>\n",
       "    <tr>\n",
       "      <th>x360</th>\n",
       "      <td>0.51</td>\n",
       "    </tr>\n",
       "    <tr>\n",
       "      <th>xone</th>\n",
       "      <td>0.34</td>\n",
       "    </tr>\n",
       "    <tr>\n",
       "      <th>wii</th>\n",
       "      <td>0.05</td>\n",
       "    </tr>\n",
       "  </tbody>\n",
       "</table>\n",
       "</div>"
      ],
      "text/plain": [
       "          jp_sales\n",
       "platform          \n",
       "3ds          67.81\n",
       "ps3          23.35\n",
       "psv          18.59\n",
       "ps4          15.96\n",
       "wiiu         10.88\n",
       "psp           3.53\n",
       "x360          0.51\n",
       "xone          0.34\n",
       "wii           0.05"
      ]
     },
     "metadata": {},
     "output_type": "display_data"
    }
   ],
   "source": [
    "games_NA = games.loc[games['na_sales'] > 0]\n",
    "games_NA_platform =games_NA.groupby('platform')[['na_sales']].sum()\n",
    "display(games_NA_platform.sort_values(by='na_sales', ascending=False))\n",
    "games_EU = games.loc[games['eu_sales'] > 0]\n",
    "games_EU_platform = games_EU.groupby('platform')[['eu_sales']].sum()\n",
    "display(games_EU_platform.sort_values(by='eu_sales', ascending=False))\n",
    "games_JP = games.loc[games['jp_sales'] > 0]\n",
    "games_JP_platform = games_JP.groupby('platform')[['jp_sales']].sum()\n",
    "display(games_JP_platform.sort_values(by='jp_sales', ascending=False))"
   ]
  },
  {
   "cell_type": "markdown",
   "metadata": {},
   "source": [
    "Вывод: для Северной Америки топ выглядит так: ps4 108.74, xone 93.12, x360 81.66, ps3 63.50, 3ds 38.20\n",
    "для Eвропы топ выглядит так: ps4 141.09, ps3 67.81, xone 51.59, x360 42.52, 3ds 30.96\n",
    "для Японии топ выглядит так: 3ds 67.81, ps3 23.35, psv 18.59, ps4 15.96, wiiu 10.88\n",
    "В состава топа для Северной Америки и Европы входят одни и те же платформы, но в разном порядке, а у JP список совпадает только на 3 платформы. "
   ]
  },
  {
   "cell_type": "markdown",
   "metadata": {},
   "source": [
    "Определите для пользователя каждого региона (NA, EU, JP) самые популярные жанры (топ-5)."
   ]
  },
  {
   "cell_type": "code",
   "execution_count": 27,
   "metadata": {},
   "outputs": [
    {
     "data": {
      "text/html": [
       "<div>\n",
       "<style scoped>\n",
       "    .dataframe tbody tr th:only-of-type {\n",
       "        vertical-align: middle;\n",
       "    }\n",
       "\n",
       "    .dataframe tbody tr th {\n",
       "        vertical-align: top;\n",
       "    }\n",
       "\n",
       "    .dataframe thead th {\n",
       "        text-align: right;\n",
       "    }\n",
       "</style>\n",
       "<table border=\"1\" class=\"dataframe\">\n",
       "  <thead>\n",
       "    <tr style=\"text-align: right;\">\n",
       "      <th></th>\n",
       "      <th>na_sales</th>\n",
       "    </tr>\n",
       "    <tr>\n",
       "      <th>genre</th>\n",
       "      <th></th>\n",
       "    </tr>\n",
       "  </thead>\n",
       "  <tbody>\n",
       "    <tr>\n",
       "      <th>action</th>\n",
       "      <td>126.13</td>\n",
       "    </tr>\n",
       "    <tr>\n",
       "      <th>shooter</th>\n",
       "      <td>109.74</td>\n",
       "    </tr>\n",
       "    <tr>\n",
       "      <th>sports</th>\n",
       "      <td>65.27</td>\n",
       "    </tr>\n",
       "    <tr>\n",
       "      <th>role-playing</th>\n",
       "      <td>46.40</td>\n",
       "    </tr>\n",
       "    <tr>\n",
       "      <th>misc</th>\n",
       "      <td>27.49</td>\n",
       "    </tr>\n",
       "    <tr>\n",
       "      <th>platform</th>\n",
       "      <td>18.14</td>\n",
       "    </tr>\n",
       "    <tr>\n",
       "      <th>fighting</th>\n",
       "      <td>15.55</td>\n",
       "    </tr>\n",
       "    <tr>\n",
       "      <th>racing</th>\n",
       "      <td>12.96</td>\n",
       "    </tr>\n",
       "    <tr>\n",
       "      <th>adventure</th>\n",
       "      <td>7.14</td>\n",
       "    </tr>\n",
       "    <tr>\n",
       "      <th>simulation</th>\n",
       "      <td>4.86</td>\n",
       "    </tr>\n",
       "    <tr>\n",
       "      <th>strategy</th>\n",
       "      <td>3.28</td>\n",
       "    </tr>\n",
       "    <tr>\n",
       "      <th>puzzle</th>\n",
       "      <td>0.83</td>\n",
       "    </tr>\n",
       "  </tbody>\n",
       "</table>\n",
       "</div>"
      ],
      "text/plain": [
       "              na_sales\n",
       "genre                 \n",
       "action          126.13\n",
       "shooter         109.74\n",
       "sports           65.27\n",
       "role-playing     46.40\n",
       "misc             27.49\n",
       "platform         18.14\n",
       "fighting         15.55\n",
       "racing           12.96\n",
       "adventure         7.14\n",
       "simulation        4.86\n",
       "strategy          3.28\n",
       "puzzle            0.83"
      ]
     },
     "metadata": {},
     "output_type": "display_data"
    },
    {
     "data": {
      "text/html": [
       "<div>\n",
       "<style scoped>\n",
       "    .dataframe tbody tr th:only-of-type {\n",
       "        vertical-align: middle;\n",
       "    }\n",
       "\n",
       "    .dataframe tbody tr th {\n",
       "        vertical-align: top;\n",
       "    }\n",
       "\n",
       "    .dataframe thead th {\n",
       "        text-align: right;\n",
       "    }\n",
       "</style>\n",
       "<table border=\"1\" class=\"dataframe\">\n",
       "  <thead>\n",
       "    <tr style=\"text-align: right;\">\n",
       "      <th></th>\n",
       "      <th>eu_sales</th>\n",
       "    </tr>\n",
       "    <tr>\n",
       "      <th>genre</th>\n",
       "      <th></th>\n",
       "    </tr>\n",
       "  </thead>\n",
       "  <tbody>\n",
       "    <tr>\n",
       "      <th>action</th>\n",
       "      <td>118.61</td>\n",
       "    </tr>\n",
       "    <tr>\n",
       "      <th>shooter</th>\n",
       "      <td>87.86</td>\n",
       "    </tr>\n",
       "    <tr>\n",
       "      <th>sports</th>\n",
       "      <td>60.52</td>\n",
       "    </tr>\n",
       "    <tr>\n",
       "      <th>role-playing</th>\n",
       "      <td>36.97</td>\n",
       "    </tr>\n",
       "    <tr>\n",
       "      <th>racing</th>\n",
       "      <td>20.19</td>\n",
       "    </tr>\n",
       "    <tr>\n",
       "      <th>misc</th>\n",
       "      <td>20.04</td>\n",
       "    </tr>\n",
       "    <tr>\n",
       "      <th>platform</th>\n",
       "      <td>15.58</td>\n",
       "    </tr>\n",
       "    <tr>\n",
       "      <th>simulation</th>\n",
       "      <td>10.92</td>\n",
       "    </tr>\n",
       "    <tr>\n",
       "      <th>fighting</th>\n",
       "      <td>8.55</td>\n",
       "    </tr>\n",
       "    <tr>\n",
       "      <th>adventure</th>\n",
       "      <td>8.25</td>\n",
       "    </tr>\n",
       "    <tr>\n",
       "      <th>strategy</th>\n",
       "      <td>4.22</td>\n",
       "    </tr>\n",
       "    <tr>\n",
       "      <th>puzzle</th>\n",
       "      <td>1.00</td>\n",
       "    </tr>\n",
       "  </tbody>\n",
       "</table>\n",
       "</div>"
      ],
      "text/plain": [
       "              eu_sales\n",
       "genre                 \n",
       "action          118.61\n",
       "shooter          87.86\n",
       "sports           60.52\n",
       "role-playing     36.97\n",
       "racing           20.19\n",
       "misc             20.04\n",
       "platform         15.58\n",
       "simulation       10.92\n",
       "fighting          8.55\n",
       "adventure         8.25\n",
       "strategy          4.22\n",
       "puzzle            1.00"
      ]
     },
     "metadata": {},
     "output_type": "display_data"
    },
    {
     "data": {
      "text/html": [
       "<div>\n",
       "<style scoped>\n",
       "    .dataframe tbody tr th:only-of-type {\n",
       "        vertical-align: middle;\n",
       "    }\n",
       "\n",
       "    .dataframe tbody tr th {\n",
       "        vertical-align: top;\n",
       "    }\n",
       "\n",
       "    .dataframe thead th {\n",
       "        text-align: right;\n",
       "    }\n",
       "</style>\n",
       "<table border=\"1\" class=\"dataframe\">\n",
       "  <thead>\n",
       "    <tr style=\"text-align: right;\">\n",
       "      <th></th>\n",
       "      <th>jp_sales</th>\n",
       "    </tr>\n",
       "    <tr>\n",
       "      <th>genre</th>\n",
       "      <th></th>\n",
       "    </tr>\n",
       "  </thead>\n",
       "  <tbody>\n",
       "    <tr>\n",
       "      <th>role-playing</th>\n",
       "      <td>51.04</td>\n",
       "    </tr>\n",
       "    <tr>\n",
       "      <th>action</th>\n",
       "      <td>40.49</td>\n",
       "    </tr>\n",
       "    <tr>\n",
       "      <th>misc</th>\n",
       "      <td>9.44</td>\n",
       "    </tr>\n",
       "    <tr>\n",
       "      <th>fighting</th>\n",
       "      <td>7.65</td>\n",
       "    </tr>\n",
       "    <tr>\n",
       "      <th>shooter</th>\n",
       "      <td>6.61</td>\n",
       "    </tr>\n",
       "    <tr>\n",
       "      <th>adventure</th>\n",
       "      <td>5.82</td>\n",
       "    </tr>\n",
       "    <tr>\n",
       "      <th>sports</th>\n",
       "      <td>5.41</td>\n",
       "    </tr>\n",
       "    <tr>\n",
       "      <th>platform</th>\n",
       "      <td>4.79</td>\n",
       "    </tr>\n",
       "    <tr>\n",
       "      <th>simulation</th>\n",
       "      <td>4.52</td>\n",
       "    </tr>\n",
       "    <tr>\n",
       "      <th>racing</th>\n",
       "      <td>2.30</td>\n",
       "    </tr>\n",
       "    <tr>\n",
       "      <th>strategy</th>\n",
       "      <td>1.77</td>\n",
       "    </tr>\n",
       "    <tr>\n",
       "      <th>puzzle</th>\n",
       "      <td>1.18</td>\n",
       "    </tr>\n",
       "  </tbody>\n",
       "</table>\n",
       "</div>"
      ],
      "text/plain": [
       "              jp_sales\n",
       "genre                 \n",
       "role-playing     51.04\n",
       "action           40.49\n",
       "misc              9.44\n",
       "fighting          7.65\n",
       "shooter           6.61\n",
       "adventure         5.82\n",
       "sports            5.41\n",
       "platform          4.79\n",
       "simulation        4.52\n",
       "racing            2.30\n",
       "strategy          1.77\n",
       "puzzle            1.18"
      ]
     },
     "metadata": {},
     "output_type": "display_data"
    }
   ],
   "source": [
    "games_NA_genre =games_NA.groupby('genre')[['na_sales']].sum()\n",
    "display(games_NA_genre.sort_values(by='na_sales', ascending=False))\n",
    "games_EU_genre =games_EU.groupby('genre')[['eu_sales']].sum()\n",
    "display(games_EU_genre.sort_values(by='eu_sales', ascending=False))\n",
    "games_JP_genre =games_JP.groupby('genre')[['jp_sales']].sum()\n",
    "display(games_JP_genre.sort_values(by='jp_sales', ascending=False))"
   ]
  },
  {
   "cell_type": "markdown",
   "metadata": {},
   "source": [
    "В Северной Америке и Eвропе набор жанров на первых 3 местах идентичен: action, sports, shooter (в порядке убывания), отличается 4 позиция platform и racing, 5 позиция, совпадает misc  \n",
    "В Японии в набор входят те же жанры, но их порядок другой: role-playing, action, sports, platform, misc  "
   ]
  },
  {
   "cell_type": "markdown",
   "metadata": {},
   "source": [
    "Определим для пользователя каждого региона (NA, EU, JP), влияет ли рейтинг ESRB на продажи в указанных регионах"
   ]
  },
  {
   "cell_type": "code",
   "execution_count": 28,
   "metadata": {
    "scrolled": false
   },
   "outputs": [
    {
     "data": {
      "text/html": [
       "<div>\n",
       "<style scoped>\n",
       "    .dataframe tbody tr th:only-of-type {\n",
       "        vertical-align: middle;\n",
       "    }\n",
       "\n",
       "    .dataframe tbody tr th {\n",
       "        vertical-align: top;\n",
       "    }\n",
       "\n",
       "    .dataframe thead th {\n",
       "        text-align: right;\n",
       "    }\n",
       "</style>\n",
       "<table border=\"1\" class=\"dataframe\">\n",
       "  <thead>\n",
       "    <tr style=\"text-align: right;\">\n",
       "      <th></th>\n",
       "      <th>na_sales</th>\n",
       "    </tr>\n",
       "    <tr>\n",
       "      <th>rating</th>\n",
       "      <th></th>\n",
       "    </tr>\n",
       "  </thead>\n",
       "  <tbody>\n",
       "    <tr>\n",
       "      <th>m</th>\n",
       "      <td>165.29</td>\n",
       "    </tr>\n",
       "    <tr>\n",
       "      <th>e</th>\n",
       "      <td>79.05</td>\n",
       "    </tr>\n",
       "    <tr>\n",
       "      <th>e10+</th>\n",
       "      <td>54.24</td>\n",
       "    </tr>\n",
       "    <tr>\n",
       "      <th>t</th>\n",
       "      <td>49.79</td>\n",
       "    </tr>\n",
       "  </tbody>\n",
       "</table>\n",
       "</div>"
      ],
      "text/plain": [
       "        na_sales\n",
       "rating          \n",
       "m         165.29\n",
       "e          79.05\n",
       "e10+       54.24\n",
       "t          49.79"
      ]
     },
     "metadata": {},
     "output_type": "display_data"
    },
    {
     "data": {
      "text/html": [
       "<div>\n",
       "<style scoped>\n",
       "    .dataframe tbody tr th:only-of-type {\n",
       "        vertical-align: middle;\n",
       "    }\n",
       "\n",
       "    .dataframe tbody tr th {\n",
       "        vertical-align: top;\n",
       "    }\n",
       "\n",
       "    .dataframe thead th {\n",
       "        text-align: right;\n",
       "    }\n",
       "</style>\n",
       "<table border=\"1\" class=\"dataframe\">\n",
       "  <thead>\n",
       "    <tr style=\"text-align: right;\">\n",
       "      <th></th>\n",
       "      <th>eu_sales</th>\n",
       "    </tr>\n",
       "    <tr>\n",
       "      <th>rating</th>\n",
       "      <th></th>\n",
       "    </tr>\n",
       "  </thead>\n",
       "  <tbody>\n",
       "    <tr>\n",
       "      <th>m</th>\n",
       "      <td>145.80</td>\n",
       "    </tr>\n",
       "    <tr>\n",
       "      <th>e</th>\n",
       "      <td>83.36</td>\n",
       "    </tr>\n",
       "    <tr>\n",
       "      <th>e10+</th>\n",
       "      <td>42.69</td>\n",
       "    </tr>\n",
       "    <tr>\n",
       "      <th>t</th>\n",
       "      <td>41.95</td>\n",
       "    </tr>\n",
       "  </tbody>\n",
       "</table>\n",
       "</div>"
      ],
      "text/plain": [
       "        eu_sales\n",
       "rating          \n",
       "m         145.80\n",
       "e          83.36\n",
       "e10+       42.69\n",
       "t          41.95"
      ]
     },
     "metadata": {},
     "output_type": "display_data"
    },
    {
     "data": {
      "text/html": [
       "<div>\n",
       "<style scoped>\n",
       "    .dataframe tbody tr th:only-of-type {\n",
       "        vertical-align: middle;\n",
       "    }\n",
       "\n",
       "    .dataframe tbody tr th {\n",
       "        vertical-align: top;\n",
       "    }\n",
       "\n",
       "    .dataframe thead th {\n",
       "        text-align: right;\n",
       "    }\n",
       "</style>\n",
       "<table border=\"1\" class=\"dataframe\">\n",
       "  <thead>\n",
       "    <tr style=\"text-align: right;\">\n",
       "      <th></th>\n",
       "      <th>jp_sales</th>\n",
       "    </tr>\n",
       "    <tr>\n",
       "      <th>rating</th>\n",
       "      <th></th>\n",
       "    </tr>\n",
       "  </thead>\n",
       "  <tbody>\n",
       "    <tr>\n",
       "      <th>t</th>\n",
       "      <td>20.59</td>\n",
       "    </tr>\n",
       "    <tr>\n",
       "      <th>e</th>\n",
       "      <td>15.14</td>\n",
       "    </tr>\n",
       "    <tr>\n",
       "      <th>m</th>\n",
       "      <td>14.11</td>\n",
       "    </tr>\n",
       "    <tr>\n",
       "      <th>e10+</th>\n",
       "      <td>5.89</td>\n",
       "    </tr>\n",
       "  </tbody>\n",
       "</table>\n",
       "</div>"
      ],
      "text/plain": [
       "        jp_sales\n",
       "rating          \n",
       "t          20.59\n",
       "e          15.14\n",
       "m          14.11\n",
       "e10+        5.89"
      ]
     },
     "metadata": {},
     "output_type": "display_data"
    },
    {
     "data": {
      "text/plain": [
       "Text(0, 0.5, 'Количество продаж')"
      ]
     },
     "execution_count": 28,
     "metadata": {},
     "output_type": "execute_result"
    },
    {
     "data": {
      "image/png": "[encoded data removed]",
      "text/plain": [
       "<Figure size 720x360 with 1 Axes>"
      ]
     },
     "metadata": {
      "needs_background": "light"
     },
     "output_type": "display_data"
    },
    {
     "data": {
      "image/png": "[encoded data removed]",
      "text/plain": [
       "<Figure size 720x360 with 1 Axes>"
      ]
     },
     "metadata": {
      "needs_background": "light"
     },
     "output_type": "display_data"
    },
    {
     "data": {
      "image/png": "[encoded data removed]",
      "text/plain": [
       "<Figure size 720x360 with 1 Axes>"
      ]
     },
     "metadata": {
      "needs_background": "light"
     },
     "output_type": "display_data"
    }
   ],
   "source": [
    "games_NA_rating =games_NA.groupby('rating')[['na_sales']].sum()\n",
    "display(games_NA_rating.sort_values(by='na_sales', ascending=False))\n",
    "#Построим гистограмму для NA\n",
    "plt.figure(figsize=(10,5))\n",
    "sns.barplot(x=games_NA_rating.index, y=games_NA_rating['na_sales'])\n",
    "plt.title(\"Продажи по рейтингу за весь период\")\n",
    "plt.xlabel(\"Название рейтинга\")\n",
    "plt.ylabel(\"Количество продаж\")\n",
    "\n",
    "games_EU_rating =games_EU.groupby('rating')[['eu_sales']].sum()\n",
    "display(games_EU_rating.sort_values(by='eu_sales', ascending=False))\n",
    "#Построим гистограмму для EU\n",
    "plt.figure(figsize=(10,5))\n",
    "sns.barplot(x=games_EU_rating.index, y=games_EU_rating['eu_sales'])\n",
    "plt.title(\"Продажи по рейтингу за весь период\")\n",
    "plt.xlabel(\"Название рейтинга\")\n",
    "plt.ylabel(\"Количество продаж\")\n",
    "\n",
    "games_JP_rating =games_JP.groupby('rating')[['jp_sales']].sum()\n",
    "display(games_JP_rating.sort_values(by='jp_sales', ascending=False))\n",
    "#Построим гистограмму для JP\n",
    "plt.figure(figsize=(10,5))\n",
    "sns.barplot(x=games_JP_rating.index, y=games_JP_rating['jp_sales'])\n",
    "plt.title(\"Продажи по рейтингу за весь период\")\n",
    "plt.xlabel(\"Название рейтинга\")\n",
    "plt.ylabel(\"Количество продаж\")"
   ]
  },
  {
   "cell_type": "markdown",
   "metadata": {},
   "source": [
    "У Северной Америки и Европы продаются чаще игры по рейтингу \"для взрослых\",  \"для всех\" и \"от 10 и выше\", а у Японии другой рейтинг \"от 13 и выше\", \"для всех\", \"для взрослых\""
   ]
  },
  {
   "cell_type": "code",
   "execution_count": 29,
   "metadata": {
    "scrolled": false
   },
   "outputs": [
    {
     "data": {
      "text/html": [
       "<div>\n",
       "<style scoped>\n",
       "    .dataframe tbody tr th:only-of-type {\n",
       "        vertical-align: middle;\n",
       "    }\n",
       "\n",
       "    .dataframe tbody tr th {\n",
       "        vertical-align: top;\n",
       "    }\n",
       "\n",
       "    .dataframe thead th {\n",
       "        text-align: right;\n",
       "    }\n",
       "</style>\n",
       "<table border=\"1\" class=\"dataframe\">\n",
       "  <thead>\n",
       "    <tr style=\"text-align: right;\">\n",
       "      <th></th>\n",
       "      <th>na_sales</th>\n",
       "    </tr>\n",
       "    <tr>\n",
       "      <th>platform</th>\n",
       "      <th></th>\n",
       "    </tr>\n",
       "  </thead>\n",
       "  <tbody>\n",
       "    <tr>\n",
       "      <th>ps4</th>\n",
       "      <td>108.74</td>\n",
       "    </tr>\n",
       "    <tr>\n",
       "      <th>xone</th>\n",
       "      <td>93.12</td>\n",
       "    </tr>\n",
       "    <tr>\n",
       "      <th>x360</th>\n",
       "      <td>81.66</td>\n",
       "    </tr>\n",
       "    <tr>\n",
       "      <th>ps3</th>\n",
       "      <td>63.50</td>\n",
       "    </tr>\n",
       "    <tr>\n",
       "      <th>3ds</th>\n",
       "      <td>38.20</td>\n",
       "    </tr>\n",
       "    <tr>\n",
       "      <th>wiiu</th>\n",
       "      <td>29.21</td>\n",
       "    </tr>\n",
       "    <tr>\n",
       "      <th>pc</th>\n",
       "      <td>11.19</td>\n",
       "    </tr>\n",
       "    <tr>\n",
       "      <th>wii</th>\n",
       "      <td>6.56</td>\n",
       "    </tr>\n",
       "    <tr>\n",
       "      <th>psv</th>\n",
       "      <td>5.04</td>\n",
       "    </tr>\n",
       "    <tr>\n",
       "      <th>ds</th>\n",
       "      <td>0.57</td>\n",
       "    </tr>\n",
       "  </tbody>\n",
       "</table>\n",
       "</div>"
      ],
      "text/plain": [
       "          na_sales\n",
       "platform          \n",
       "ps4         108.74\n",
       "xone         93.12\n",
       "x360         81.66\n",
       "ps3          63.50\n",
       "3ds          38.20\n",
       "wiiu         29.21\n",
       "pc           11.19\n",
       "wii           6.56\n",
       "psv           5.04\n",
       "ds            0.57"
      ]
     },
     "metadata": {},
     "output_type": "display_data"
    },
    {
     "data": {
      "text/html": [
       "<div>\n",
       "<style scoped>\n",
       "    .dataframe tbody tr th:only-of-type {\n",
       "        vertical-align: middle;\n",
       "    }\n",
       "\n",
       "    .dataframe tbody tr th {\n",
       "        vertical-align: top;\n",
       "    }\n",
       "\n",
       "    .dataframe thead th {\n",
       "        text-align: right;\n",
       "    }\n",
       "</style>\n",
       "<table border=\"1\" class=\"dataframe\">\n",
       "  <thead>\n",
       "    <tr style=\"text-align: right;\">\n",
       "      <th></th>\n",
       "      <th>eu_sales</th>\n",
       "    </tr>\n",
       "    <tr>\n",
       "      <th>platform</th>\n",
       "      <th></th>\n",
       "    </tr>\n",
       "  </thead>\n",
       "  <tbody>\n",
       "    <tr>\n",
       "      <th>ps4</th>\n",
       "      <td>141.09</td>\n",
       "    </tr>\n",
       "    <tr>\n",
       "      <th>ps3</th>\n",
       "      <td>67.81</td>\n",
       "    </tr>\n",
       "    <tr>\n",
       "      <th>xone</th>\n",
       "      <td>51.59</td>\n",
       "    </tr>\n",
       "    <tr>\n",
       "      <th>x360</th>\n",
       "      <td>42.52</td>\n",
       "    </tr>\n",
       "    <tr>\n",
       "      <th>3ds</th>\n",
       "      <td>30.96</td>\n",
       "    </tr>\n",
       "    <tr>\n",
       "      <th>pc</th>\n",
       "      <td>25.84</td>\n",
       "    </tr>\n",
       "    <tr>\n",
       "      <th>wiiu</th>\n",
       "      <td>19.85</td>\n",
       "    </tr>\n",
       "    <tr>\n",
       "      <th>psv</th>\n",
       "      <td>6.10</td>\n",
       "    </tr>\n",
       "    <tr>\n",
       "      <th>wii</th>\n",
       "      <td>5.93</td>\n",
       "    </tr>\n",
       "    <tr>\n",
       "      <th>ds</th>\n",
       "      <td>0.85</td>\n",
       "    </tr>\n",
       "    <tr>\n",
       "      <th>psp</th>\n",
       "      <td>0.17</td>\n",
       "    </tr>\n",
       "  </tbody>\n",
       "</table>\n",
       "</div>"
      ],
      "text/plain": [
       "          eu_sales\n",
       "platform          \n",
       "ps4         141.09\n",
       "ps3          67.81\n",
       "xone         51.59\n",
       "x360         42.52\n",
       "3ds          30.96\n",
       "pc           25.84\n",
       "wiiu         19.85\n",
       "psv           6.10\n",
       "wii           5.93\n",
       "ds            0.85\n",
       "psp           0.17"
      ]
     },
     "metadata": {},
     "output_type": "display_data"
    },
    {
     "data": {
      "text/html": [
       "<div>\n",
       "<style scoped>\n",
       "    .dataframe tbody tr th:only-of-type {\n",
       "        vertical-align: middle;\n",
       "    }\n",
       "\n",
       "    .dataframe tbody tr th {\n",
       "        vertical-align: top;\n",
       "    }\n",
       "\n",
       "    .dataframe thead th {\n",
       "        text-align: right;\n",
       "    }\n",
       "</style>\n",
       "<table border=\"1\" class=\"dataframe\">\n",
       "  <thead>\n",
       "    <tr style=\"text-align: right;\">\n",
       "      <th></th>\n",
       "      <th>jp_sales</th>\n",
       "    </tr>\n",
       "    <tr>\n",
       "      <th>platform</th>\n",
       "      <th></th>\n",
       "    </tr>\n",
       "  </thead>\n",
       "  <tbody>\n",
       "    <tr>\n",
       "      <th>3ds</th>\n",
       "      <td>67.81</td>\n",
       "    </tr>\n",
       "    <tr>\n",
       "      <th>ps3</th>\n",
       "      <td>23.35</td>\n",
       "    </tr>\n",
       "    <tr>\n",
       "      <th>psv</th>\n",
       "      <td>18.59</td>\n",
       "    </tr>\n",
       "    <tr>\n",
       "      <th>ps4</th>\n",
       "      <td>15.96</td>\n",
       "    </tr>\n",
       "    <tr>\n",
       "      <th>wiiu</th>\n",
       "      <td>10.88</td>\n",
       "    </tr>\n",
       "    <tr>\n",
       "      <th>psp</th>\n",
       "      <td>3.53</td>\n",
       "    </tr>\n",
       "    <tr>\n",
       "      <th>x360</th>\n",
       "      <td>0.51</td>\n",
       "    </tr>\n",
       "    <tr>\n",
       "      <th>xone</th>\n",
       "      <td>0.34</td>\n",
       "    </tr>\n",
       "    <tr>\n",
       "      <th>wii</th>\n",
       "      <td>0.05</td>\n",
       "    </tr>\n",
       "  </tbody>\n",
       "</table>\n",
       "</div>"
      ],
      "text/plain": [
       "          jp_sales\n",
       "platform          \n",
       "3ds          67.81\n",
       "ps3          23.35\n",
       "psv          18.59\n",
       "ps4          15.96\n",
       "wiiu         10.88\n",
       "psp           3.53\n",
       "x360          0.51\n",
       "xone          0.34\n",
       "wii           0.05"
      ]
     },
     "metadata": {},
     "output_type": "display_data"
    }
   ],
   "source": [
    "games_NA_2016 = games_NA.loc[games['year_of_release'] == 2016]\n",
    "games_EU_2016 = games_EU.loc[games['year_of_release'] == 2016]\n",
    "games_JP_2016 = games_JP.loc[games['year_of_release'] == 2016]\n",
    "\n",
    "games_NA_2016_platform =games_NA_2016.groupby('platform')[['na_sales']].sum()\n",
    "display(games_NA_platform.sort_values(by='na_sales', ascending=False))\n",
    "games_EU_2016_platform = games_EU_2016.groupby('platform')[['eu_sales']].sum()\n",
    "display(games_EU_platform.sort_values(by='eu_sales', ascending=False))\n",
    "games_JP_2016_platform = games_JP_2016.groupby('platform')[['jp_sales']].sum()\n",
    "display(games_JP_platform.sort_values(by='jp_sales', ascending=False))"
   ]
  },
  {
   "cell_type": "code",
   "execution_count": 30,
   "metadata": {
    "scrolled": false
   },
   "outputs": [
    {
     "data": {
      "text/html": [
       "<div>\n",
       "<style scoped>\n",
       "    .dataframe tbody tr th:only-of-type {\n",
       "        vertical-align: middle;\n",
       "    }\n",
       "\n",
       "    .dataframe tbody tr th {\n",
       "        vertical-align: top;\n",
       "    }\n",
       "\n",
       "    .dataframe thead th {\n",
       "        text-align: right;\n",
       "    }\n",
       "</style>\n",
       "<table border=\"1\" class=\"dataframe\">\n",
       "  <thead>\n",
       "    <tr style=\"text-align: right;\">\n",
       "      <th></th>\n",
       "      <th>na_sales</th>\n",
       "    </tr>\n",
       "    <tr>\n",
       "      <th>genre</th>\n",
       "      <th></th>\n",
       "    </tr>\n",
       "  </thead>\n",
       "  <tbody>\n",
       "    <tr>\n",
       "      <th>action</th>\n",
       "      <td>126.13</td>\n",
       "    </tr>\n",
       "    <tr>\n",
       "      <th>shooter</th>\n",
       "      <td>109.74</td>\n",
       "    </tr>\n",
       "    <tr>\n",
       "      <th>sports</th>\n",
       "      <td>65.27</td>\n",
       "    </tr>\n",
       "    <tr>\n",
       "      <th>role-playing</th>\n",
       "      <td>46.40</td>\n",
       "    </tr>\n",
       "    <tr>\n",
       "      <th>misc</th>\n",
       "      <td>27.49</td>\n",
       "    </tr>\n",
       "    <tr>\n",
       "      <th>platform</th>\n",
       "      <td>18.14</td>\n",
       "    </tr>\n",
       "    <tr>\n",
       "      <th>fighting</th>\n",
       "      <td>15.55</td>\n",
       "    </tr>\n",
       "    <tr>\n",
       "      <th>racing</th>\n",
       "      <td>12.96</td>\n",
       "    </tr>\n",
       "    <tr>\n",
       "      <th>adventure</th>\n",
       "      <td>7.14</td>\n",
       "    </tr>\n",
       "    <tr>\n",
       "      <th>simulation</th>\n",
       "      <td>4.86</td>\n",
       "    </tr>\n",
       "    <tr>\n",
       "      <th>strategy</th>\n",
       "      <td>3.28</td>\n",
       "    </tr>\n",
       "    <tr>\n",
       "      <th>puzzle</th>\n",
       "      <td>0.83</td>\n",
       "    </tr>\n",
       "  </tbody>\n",
       "</table>\n",
       "</div>"
      ],
      "text/plain": [
       "              na_sales\n",
       "genre                 \n",
       "action          126.13\n",
       "shooter         109.74\n",
       "sports           65.27\n",
       "role-playing     46.40\n",
       "misc             27.49\n",
       "platform         18.14\n",
       "fighting         15.55\n",
       "racing           12.96\n",
       "adventure         7.14\n",
       "simulation        4.86\n",
       "strategy          3.28\n",
       "puzzle            0.83"
      ]
     },
     "metadata": {},
     "output_type": "display_data"
    },
    {
     "data": {
      "text/html": [
       "<div>\n",
       "<style scoped>\n",
       "    .dataframe tbody tr th:only-of-type {\n",
       "        vertical-align: middle;\n",
       "    }\n",
       "\n",
       "    .dataframe tbody tr th {\n",
       "        vertical-align: top;\n",
       "    }\n",
       "\n",
       "    .dataframe thead th {\n",
       "        text-align: right;\n",
       "    }\n",
       "</style>\n",
       "<table border=\"1\" class=\"dataframe\">\n",
       "  <thead>\n",
       "    <tr style=\"text-align: right;\">\n",
       "      <th></th>\n",
       "      <th>eu_sales</th>\n",
       "    </tr>\n",
       "    <tr>\n",
       "      <th>genre</th>\n",
       "      <th></th>\n",
       "    </tr>\n",
       "  </thead>\n",
       "  <tbody>\n",
       "    <tr>\n",
       "      <th>action</th>\n",
       "      <td>118.61</td>\n",
       "    </tr>\n",
       "    <tr>\n",
       "      <th>shooter</th>\n",
       "      <td>87.86</td>\n",
       "    </tr>\n",
       "    <tr>\n",
       "      <th>sports</th>\n",
       "      <td>60.52</td>\n",
       "    </tr>\n",
       "    <tr>\n",
       "      <th>role-playing</th>\n",
       "      <td>36.97</td>\n",
       "    </tr>\n",
       "    <tr>\n",
       "      <th>racing</th>\n",
       "      <td>20.19</td>\n",
       "    </tr>\n",
       "    <tr>\n",
       "      <th>misc</th>\n",
       "      <td>20.04</td>\n",
       "    </tr>\n",
       "    <tr>\n",
       "      <th>platform</th>\n",
       "      <td>15.58</td>\n",
       "    </tr>\n",
       "    <tr>\n",
       "      <th>simulation</th>\n",
       "      <td>10.92</td>\n",
       "    </tr>\n",
       "    <tr>\n",
       "      <th>fighting</th>\n",
       "      <td>8.55</td>\n",
       "    </tr>\n",
       "    <tr>\n",
       "      <th>adventure</th>\n",
       "      <td>8.25</td>\n",
       "    </tr>\n",
       "    <tr>\n",
       "      <th>strategy</th>\n",
       "      <td>4.22</td>\n",
       "    </tr>\n",
       "    <tr>\n",
       "      <th>puzzle</th>\n",
       "      <td>1.00</td>\n",
       "    </tr>\n",
       "  </tbody>\n",
       "</table>\n",
       "</div>"
      ],
      "text/plain": [
       "              eu_sales\n",
       "genre                 \n",
       "action          118.61\n",
       "shooter          87.86\n",
       "sports           60.52\n",
       "role-playing     36.97\n",
       "racing           20.19\n",
       "misc             20.04\n",
       "platform         15.58\n",
       "simulation       10.92\n",
       "fighting          8.55\n",
       "adventure         8.25\n",
       "strategy          4.22\n",
       "puzzle            1.00"
      ]
     },
     "metadata": {},
     "output_type": "display_data"
    },
    {
     "data": {
      "text/html": [
       "<div>\n",
       "<style scoped>\n",
       "    .dataframe tbody tr th:only-of-type {\n",
       "        vertical-align: middle;\n",
       "    }\n",
       "\n",
       "    .dataframe tbody tr th {\n",
       "        vertical-align: top;\n",
       "    }\n",
       "\n",
       "    .dataframe thead th {\n",
       "        text-align: right;\n",
       "    }\n",
       "</style>\n",
       "<table border=\"1\" class=\"dataframe\">\n",
       "  <thead>\n",
       "    <tr style=\"text-align: right;\">\n",
       "      <th></th>\n",
       "      <th>jp_sales</th>\n",
       "    </tr>\n",
       "    <tr>\n",
       "      <th>genre</th>\n",
       "      <th></th>\n",
       "    </tr>\n",
       "  </thead>\n",
       "  <tbody>\n",
       "    <tr>\n",
       "      <th>role-playing</th>\n",
       "      <td>51.04</td>\n",
       "    </tr>\n",
       "    <tr>\n",
       "      <th>action</th>\n",
       "      <td>40.49</td>\n",
       "    </tr>\n",
       "    <tr>\n",
       "      <th>misc</th>\n",
       "      <td>9.44</td>\n",
       "    </tr>\n",
       "    <tr>\n",
       "      <th>fighting</th>\n",
       "      <td>7.65</td>\n",
       "    </tr>\n",
       "    <tr>\n",
       "      <th>shooter</th>\n",
       "      <td>6.61</td>\n",
       "    </tr>\n",
       "    <tr>\n",
       "      <th>adventure</th>\n",
       "      <td>5.82</td>\n",
       "    </tr>\n",
       "    <tr>\n",
       "      <th>sports</th>\n",
       "      <td>5.41</td>\n",
       "    </tr>\n",
       "    <tr>\n",
       "      <th>platform</th>\n",
       "      <td>4.79</td>\n",
       "    </tr>\n",
       "    <tr>\n",
       "      <th>simulation</th>\n",
       "      <td>4.52</td>\n",
       "    </tr>\n",
       "    <tr>\n",
       "      <th>racing</th>\n",
       "      <td>2.30</td>\n",
       "    </tr>\n",
       "    <tr>\n",
       "      <th>strategy</th>\n",
       "      <td>1.77</td>\n",
       "    </tr>\n",
       "    <tr>\n",
       "      <th>puzzle</th>\n",
       "      <td>1.18</td>\n",
       "    </tr>\n",
       "  </tbody>\n",
       "</table>\n",
       "</div>"
      ],
      "text/plain": [
       "              jp_sales\n",
       "genre                 \n",
       "role-playing     51.04\n",
       "action           40.49\n",
       "misc              9.44\n",
       "fighting          7.65\n",
       "shooter           6.61\n",
       "adventure         5.82\n",
       "sports            5.41\n",
       "platform          4.79\n",
       "simulation        4.52\n",
       "racing            2.30\n",
       "strategy          1.77\n",
       "puzzle            1.18"
      ]
     },
     "metadata": {},
     "output_type": "display_data"
    }
   ],
   "source": [
    "games_NA_2016_genre =games_NA_2016.groupby('genre')[['na_sales']].sum()\n",
    "display(games_NA_genre.sort_values(by='na_sales', ascending=False))\n",
    "games_EU_2016_genre =games_EU_2016.groupby('genre')[['eu_sales']].sum()\n",
    "display(games_EU_genre.sort_values(by='eu_sales', ascending=False))\n",
    "games_JP_2016_genre =games_JP_2016.groupby('genre')[['jp_sales']].sum()\n",
    "display(games_JP_genre.sort_values(by='jp_sales', ascending=False))"
   ]
  },
  {
   "cell_type": "markdown",
   "metadata": {},
   "source": [
    "За 2016 год изменился жанровый набор на 4 и 5 позициях в Северной Америке misc, racing, в Европе наоборот, а в Японии misc, platform"
   ]
  },
  {
   "cell_type": "code",
   "execution_count": 31,
   "metadata": {},
   "outputs": [
    {
     "data": {
      "text/html": [
       "<div>\n",
       "<style scoped>\n",
       "    .dataframe tbody tr th:only-of-type {\n",
       "        vertical-align: middle;\n",
       "    }\n",
       "\n",
       "    .dataframe tbody tr th {\n",
       "        vertical-align: top;\n",
       "    }\n",
       "\n",
       "    .dataframe thead th {\n",
       "        text-align: right;\n",
       "    }\n",
       "</style>\n",
       "<table border=\"1\" class=\"dataframe\">\n",
       "  <thead>\n",
       "    <tr style=\"text-align: right;\">\n",
       "      <th></th>\n",
       "      <th>na_sales</th>\n",
       "    </tr>\n",
       "    <tr>\n",
       "      <th>rating</th>\n",
       "      <th></th>\n",
       "    </tr>\n",
       "  </thead>\n",
       "  <tbody>\n",
       "    <tr>\n",
       "      <th>m</th>\n",
       "      <td>165.29</td>\n",
       "    </tr>\n",
       "    <tr>\n",
       "      <th>e</th>\n",
       "      <td>79.05</td>\n",
       "    </tr>\n",
       "    <tr>\n",
       "      <th>e10+</th>\n",
       "      <td>54.24</td>\n",
       "    </tr>\n",
       "    <tr>\n",
       "      <th>t</th>\n",
       "      <td>49.79</td>\n",
       "    </tr>\n",
       "  </tbody>\n",
       "</table>\n",
       "</div>"
      ],
      "text/plain": [
       "        na_sales\n",
       "rating          \n",
       "m         165.29\n",
       "e          79.05\n",
       "e10+       54.24\n",
       "t          49.79"
      ]
     },
     "metadata": {},
     "output_type": "display_data"
    },
    {
     "data": {
      "text/html": [
       "<div>\n",
       "<style scoped>\n",
       "    .dataframe tbody tr th:only-of-type {\n",
       "        vertical-align: middle;\n",
       "    }\n",
       "\n",
       "    .dataframe tbody tr th {\n",
       "        vertical-align: top;\n",
       "    }\n",
       "\n",
       "    .dataframe thead th {\n",
       "        text-align: right;\n",
       "    }\n",
       "</style>\n",
       "<table border=\"1\" class=\"dataframe\">\n",
       "  <thead>\n",
       "    <tr style=\"text-align: right;\">\n",
       "      <th></th>\n",
       "      <th>eu_sales</th>\n",
       "    </tr>\n",
       "    <tr>\n",
       "      <th>rating</th>\n",
       "      <th></th>\n",
       "    </tr>\n",
       "  </thead>\n",
       "  <tbody>\n",
       "    <tr>\n",
       "      <th>m</th>\n",
       "      <td>145.80</td>\n",
       "    </tr>\n",
       "    <tr>\n",
       "      <th>e</th>\n",
       "      <td>83.36</td>\n",
       "    </tr>\n",
       "    <tr>\n",
       "      <th>e10+</th>\n",
       "      <td>42.69</td>\n",
       "    </tr>\n",
       "    <tr>\n",
       "      <th>t</th>\n",
       "      <td>41.95</td>\n",
       "    </tr>\n",
       "  </tbody>\n",
       "</table>\n",
       "</div>"
      ],
      "text/plain": [
       "        eu_sales\n",
       "rating          \n",
       "m         145.80\n",
       "e          83.36\n",
       "e10+       42.69\n",
       "t          41.95"
      ]
     },
     "metadata": {},
     "output_type": "display_data"
    },
    {
     "data": {
      "text/html": [
       "<div>\n",
       "<style scoped>\n",
       "    .dataframe tbody tr th:only-of-type {\n",
       "        vertical-align: middle;\n",
       "    }\n",
       "\n",
       "    .dataframe tbody tr th {\n",
       "        vertical-align: top;\n",
       "    }\n",
       "\n",
       "    .dataframe thead th {\n",
       "        text-align: right;\n",
       "    }\n",
       "</style>\n",
       "<table border=\"1\" class=\"dataframe\">\n",
       "  <thead>\n",
       "    <tr style=\"text-align: right;\">\n",
       "      <th></th>\n",
       "      <th>jp_sales</th>\n",
       "    </tr>\n",
       "    <tr>\n",
       "      <th>rating</th>\n",
       "      <th></th>\n",
       "    </tr>\n",
       "  </thead>\n",
       "  <tbody>\n",
       "    <tr>\n",
       "      <th>t</th>\n",
       "      <td>20.59</td>\n",
       "    </tr>\n",
       "    <tr>\n",
       "      <th>e</th>\n",
       "      <td>15.14</td>\n",
       "    </tr>\n",
       "    <tr>\n",
       "      <th>m</th>\n",
       "      <td>14.11</td>\n",
       "    </tr>\n",
       "    <tr>\n",
       "      <th>e10+</th>\n",
       "      <td>5.89</td>\n",
       "    </tr>\n",
       "  </tbody>\n",
       "</table>\n",
       "</div>"
      ],
      "text/plain": [
       "        jp_sales\n",
       "rating          \n",
       "t          20.59\n",
       "e          15.14\n",
       "m          14.11\n",
       "e10+        5.89"
      ]
     },
     "metadata": {},
     "output_type": "display_data"
    }
   ],
   "source": [
    "games_NA_2016_rating =games_NA_2016.groupby('rating')[['na_sales']].sum()\n",
    "display(games_NA_rating.sort_values(by='na_sales', ascending=False))\n",
    "games_EU_2016_rating =games_EU_2016.groupby('rating')[['eu_sales']].sum()\n",
    "display(games_EU_rating.sort_values(by='eu_sales', ascending=False))\n",
    "games_JP_2016_rating =games_JP_2016.groupby('rating')[['jp_sales']].sum()\n",
    "display(games_JP_rating.sort_values(by='jp_sales', ascending=False))"
   ]
  },
  {
   "cell_type": "markdown",
   "metadata": {},
   "source": [
    "За 2016 год поменялся местами жанровый набор на 2 и 3 позициях в Северной Америке и в Европе. Остальные показатели остались такими же как на основной выборке по актуальному периоду. Значит, можно оценивать успешность игр и платформ по актуальному периоду, а не по одному последнему году, что видно и по продажам по всем регионам сразу."
   ]
  },
  {
   "cell_type": "markdown",
   "metadata": {},
   "source": [
    "Сформулируем нулевую и альтернативную гипотезы:\n",
    "\n",
    "  Нулевая гипотеза: Средние пользовательские рейтинги платформ Xbox One и PC одинаковые;\n",
    "  Альтернативная гипотеза: Средние пользовательские рейтинги платформ Xbox One и PC различаются"
   ]
  },
  {
   "cell_type": "code",
   "execution_count": 32,
   "metadata": {},
   "outputs": [
    {
     "name": "stdout",
     "output_type": "stream",
     "text": [
      "средний рейтинг пользователя для xbox платформ 6.521428571428572\n",
      "средний рейтинг пользователя для PC платформ 6.280379746835442\n"
     ]
    }
   ],
   "source": [
    "# Сохраним в переменных xbox_games и pc_games актуальные данные за последние 10 лет\n",
    "games = games.query('user_score != 0')\n",
    "xone_games = games[games['platform']=='xone']['user_score']\n",
    "pc_games = games[games['platform']=='pc']['user_score']\n",
    "\n",
    "#Посчитаем средний рейтинг пользователя для xbox платформ\n",
    "print('средний рейтинг пользователя для xbox платформ', xone_games.mean())\n",
    "#Посчитаем средний рейтинг пользователя для PC платформ\n",
    "print('средний рейтинг пользователя для PC платформ', pc_games.mean())"
   ]
  },
  {
   "cell_type": "code",
   "execution_count": 33,
   "metadata": {},
   "outputs": [
    {
     "name": "stdout",
     "output_type": "stream",
     "text": [
      "p-значение: 0.16174359801784308\n",
      "Не получилось опровергнуть нулевую гипотезу\n"
     ]
    }
   ],
   "source": [
    "#Выполним проверку гипотезы. Будем использовать метод ttest_ind\n",
    "\n",
    "alpha = .01\n",
    "\n",
    "results = st.ttest_ind(xone_games.dropna(), pc_games.dropna(), equal_var=False)\n",
    "\n",
    "print('p-значение:', results.pvalue)\n",
    "\n",
    "\n",
    "if (results.pvalue < alpha):\n",
    "    print(\"Опровергаем нулевую гипотезу\")\n",
    "else:\n",
    "    print(\"Не получилось опровергнуть нулевую гипотезу\")"
   ]
  },
  {
   "cell_type": "markdown",
   "metadata": {},
   "source": [
    "Не получилось опровергнуть нашу нулевую гипотезу: средние пользовательские рейтинги платформ Xbox One и PC одинаковые."
   ]
  },
  {
   "cell_type": "markdown",
   "metadata": {},
   "source": [
    "Средние пользовательские рейтинги жанров Action (англ. «действие», экшен-игры) и Sports (англ. «спортивные соревнования») разные.\n",
    "Задайте самостоятельно пороговое значение alpha.\n",
    "Поясните: Как вы сформулировали нулевую и альтернативную гипотезы; Какой критерий применили для проверки гипотез и почему.\n",
    "\n",
    "Сформулируем нулевые гипотезы:\n",
    "\n",
    "Нулевая гипотеза: Средние пользовательские рейтинги жанров action и sports одинаковые;\n",
    "  Альтернативная гипотеза: Средние пользовательские рейтинги жанров action и sports различаются"
   ]
  },
  {
   "cell_type": "code",
   "execution_count": 34,
   "metadata": {},
   "outputs": [
    {
     "name": "stdout",
     "output_type": "stream",
     "text": [
      "средний рейтинг пользователя  для жанрa action 6.8375\n",
      "средний рейтинг пользователя для жанрa sports 5.238124999999999\n"
     ]
    }
   ],
   "source": [
    "# Сохраним в переменных action_games и sports_games актуальные данные за последние 10 лет\n",
    "action_games = games[games['genre']=='action']['user_score']\n",
    "sports_games = games[games['genre']=='sports']['user_score']\n",
    "\n",
    "#Посчитаем средний рейтинг пользователя для жанрa action\n",
    "print('средний рейтинг пользователя  для жанрa action', action_games.mean())\n",
    "#Посчитаем средний рейтинг пользователя для жанрa sports\n",
    "print('средний рейтинг пользователя для жанрa sports', sports_games.mean())"
   ]
  },
  {
   "cell_type": "code",
   "execution_count": 35,
   "metadata": {},
   "outputs": [
    {
     "name": "stdout",
     "output_type": "stream",
     "text": [
      "p-значение: 1.3883444596405356e-20\n",
      "Опровергаем нулевую гипотезу\n"
     ]
    }
   ],
   "source": [
    "#Выполним проверку гипотезы. Будем использовать метод ttest_ind\n",
    "\n",
    "alpha = .01\n",
    "\n",
    "results = st.ttest_ind(action_games.dropna(), sports_games.dropna(), equal_var=False)\n",
    "\n",
    "print('p-значение:', results.pvalue)\n",
    "\n",
    "\n",
    "if (results.pvalue < alpha):\n",
    "    print(\"Опровергаем нулевую гипотезу\")\n",
    "else:\n",
    "    print(\"Не получилось опровергнуть нулевую гипотезу\")"
   ]
  },
  {
   "cell_type": "markdown",
   "metadata": {},
   "source": [
    "Нулевая гипотеза о схожести средних пользовательских рейтингов жанров Action (англ. «действие», экшен-игры) и Sports (англ. «спортивные соревнования») не подтвердилась. "
   ]
  },
  {
   "cell_type": "markdown",
   "metadata": {},
   "source": [
    "Общий вывод:\n",
    "\n",
    "Были проверены данные, скорректированы типы и подготовлены к исследованию, для чего были сделаны соответствующие сводные таблицы.\n",
    "\n",
    "Количество игр начало расти с большой скоростью после 1994 года до 2008 года. С 2008 года, продолжился рост только игр на персональных компьютеров, а для игровых платформ произошел резкий спад разработок игр.\n",
    "\n",
    "Самые популярные игровые платформы: Sony PlayStation 2, Xbox 360, Sony Playstation 3, Nintendo WII, Nintendo DS, Sony Playstation.\n",
    "\n",
    "Средняя жизнь игровой платформы составляет 8-10 лет. Пик продаж наступает примерно через 3-5 лет после выхода приставки.\n",
    "\n",
    "Больше всего продаются игры на Sony Playstation, у которой разработка новых релизов наступает на пике старых, и Xbox 360\n",
    "\n",
    "Nintendo WII быстро появился и  быстро сошел на нет, так как появился поздно. \n",
    "\n",
    "У всех платформ наблюдается взаимосвязь между продажами и оценками критиков и пользователей. Заметнее всего корреляция между оценками критиков и продажами. Видимо, для людей мнение критиков важнее мнения других пользователей\n",
    "\n",
    "Чаще всего по сумме продаж продаются action, sports, shooter, меньше всего продаются strategy, adventure и puzzle. По среднему арифметическому shooter, platform, sports, по медиане shooter, sports, platform. Shooter по всем показателям приносит стабильно высокий доход. \n",
    "\n",
    "Вывод: для Северной Америки топ выглядит так: ps4 108.74, xone 93.12, x360 81.66, ps3 63.50, 3ds 38.20\n",
    "для Eвропы топ выглядит так: ps4 141.09, ps3 67.81, xone 51.59, x360 42.52, 3ds 30.96\n",
    "для Японии топ выглядит так: 3ds 67.81, ps3 23.35, psv 18.59, ps4 15.96, wiiu 10.88\n",
    "В состава топа для Северной Америки и Европы входят одни и те же платформы, но в разном порядке, а у JP список совпадает только на 3 платформы.\n",
    "\n",
    "В Северной Америке и Eвропе набор жанров на первых 3 местах идентичен: action, sports, shooter (в порядке убывания), отличается 4 позиция platform и racing, 5 позиция, совпадает misc\n",
    "В Японии в набор входят те же жанры, но их порядок другой: role-playing, action, sports, platform, misc \n",
    "\n",
    "У Северной Америки и Европы продаются чаще игры по рейтингу \"для взрослых\",  \"для всех\" и \"от 10 и выше\", а у Японии другой рейтинг \"от 13 и выше\", \"для всех\", \"для взрослых\".\n",
    "\n",
    "За 2016 год поменялся местами жанровый набор на 2 и 3 позициях в Северной Америке и в Европе. Остальные показатели остались такими же как на основной выборке по актуальному периоду. Значит, можно оценивать успешность игр и платформ по актуальному периоду, а не по одному последнему году, что видно и по продажам по всем регионам сразу.\n",
    "\n",
    "Результат по гипотезам таков:\n",
    "Гипотеза: \"Средние пользовательские рейтинги платформ Xbox one и PC одинаковые\". Нулевую гипотезу не удалось опровергнуть.\n",
    "Гипотеза: \"Средние пользовательские рейтинги жанров Action и Sports разные\". На актуальной выборке нулевая гипотеза была опровергнута. \n"
   ]
  }
 ],
 "metadata": {
  "ExecuteTimeLog": [
   {
    "duration": 1353,
    "start_time": "2022-05-02T14:52:48.379Z"
   },
   {
    "duration": 17,
    "start_time": "2022-05-02T14:52:49.734Z"
   },
   {
    "duration": 429,
    "start_time": "2022-05-02T14:52:49.753Z"
   },
   {
    "duration": 40,
    "start_time": "2022-05-02T14:52:50.185Z"
   },
   {
    "duration": 35,
    "start_time": "2022-05-02T14:52:50.226Z"
   },
   {
    "duration": 37,
    "start_time": "2022-05-02T14:52:50.263Z"
   },
   {
    "duration": 26,
    "start_time": "2022-05-02T14:52:50.301Z"
   },
   {
    "duration": 11,
    "start_time": "2022-05-02T14:52:50.330Z"
   },
   {
    "duration": 14,
    "start_time": "2022-05-02T14:52:50.342Z"
   },
   {
    "duration": 11,
    "start_time": "2022-05-02T14:52:50.358Z"
   },
   {
    "duration": 258,
    "start_time": "2022-05-02T14:52:50.370Z"
   },
   {
    "duration": 10,
    "start_time": "2022-05-02T14:52:50.630Z"
   },
   {
    "duration": 113,
    "start_time": "2022-05-02T14:52:50.642Z"
   },
   {
    "duration": 0,
    "start_time": "2022-05-02T14:52:50.757Z"
   },
   {
    "duration": 1226,
    "start_time": "2022-05-02T15:22:18.823Z"
   },
   {
    "duration": 39,
    "start_time": "2022-05-02T15:22:20.051Z"
   },
   {
    "duration": 522,
    "start_time": "2022-05-02T15:22:20.091Z"
   },
   {
    "duration": 39,
    "start_time": "2022-05-02T15:22:20.615Z"
   },
   {
    "duration": 29,
    "start_time": "2022-05-02T15:22:20.656Z"
   },
   {
    "duration": 24,
    "start_time": "2022-05-02T15:22:20.686Z"
   },
   {
    "duration": 18,
    "start_time": "2022-05-02T15:22:20.712Z"
   },
   {
    "duration": 24,
    "start_time": "2022-05-02T15:22:20.732Z"
   },
   {
    "duration": 12,
    "start_time": "2022-05-02T15:22:20.758Z"
   },
   {
    "duration": 10,
    "start_time": "2022-05-02T15:22:20.773Z"
   },
   {
    "duration": 243,
    "start_time": "2022-05-02T15:22:20.784Z"
   },
   {
    "duration": 11,
    "start_time": "2022-05-02T15:22:21.028Z"
   },
   {
    "duration": 107,
    "start_time": "2022-05-02T15:22:21.040Z"
   },
   {
    "duration": 0,
    "start_time": "2022-05-02T15:22:21.155Z"
   },
   {
    "duration": 1245,
    "start_time": "2022-05-02T15:25:26.301Z"
   },
   {
    "duration": 39,
    "start_time": "2022-05-02T15:25:27.548Z"
   },
   {
    "duration": 428,
    "start_time": "2022-05-02T15:25:27.588Z"
   },
   {
    "duration": 40,
    "start_time": "2022-05-02T15:25:28.018Z"
   },
   {
    "duration": 4,
    "start_time": "2022-05-02T15:25:28.059Z"
   },
   {
    "duration": 44,
    "start_time": "2022-05-02T15:25:28.064Z"
   },
   {
    "duration": 19,
    "start_time": "2022-05-02T15:25:28.110Z"
   },
   {
    "duration": 13,
    "start_time": "2022-05-02T15:25:28.130Z"
   },
   {
    "duration": 7,
    "start_time": "2022-05-02T15:25:28.144Z"
   },
   {
    "duration": 8,
    "start_time": "2022-05-02T15:25:28.154Z"
   },
   {
    "duration": 235,
    "start_time": "2022-05-02T15:25:28.163Z"
   },
   {
    "duration": 9,
    "start_time": "2022-05-02T15:25:28.400Z"
   },
   {
    "duration": 304,
    "start_time": "2022-05-02T15:25:28.411Z"
   },
   {
    "duration": 10,
    "start_time": "2022-05-02T15:25:28.716Z"
   },
   {
    "duration": 1266,
    "start_time": "2022-05-02T15:27:30.704Z"
   },
   {
    "duration": 42,
    "start_time": "2022-05-02T15:27:31.972Z"
   },
   {
    "duration": 491,
    "start_time": "2022-05-02T15:27:32.015Z"
   },
   {
    "duration": 28,
    "start_time": "2022-05-02T15:27:32.509Z"
   },
   {
    "duration": 26,
    "start_time": "2022-05-02T15:27:32.539Z"
   },
   {
    "duration": 22,
    "start_time": "2022-05-02T15:27:32.566Z"
   },
   {
    "duration": 20,
    "start_time": "2022-05-02T15:27:32.590Z"
   },
   {
    "duration": 22,
    "start_time": "2022-05-02T15:27:32.612Z"
   },
   {
    "duration": 9,
    "start_time": "2022-05-02T15:27:32.637Z"
   },
   {
    "duration": 8,
    "start_time": "2022-05-02T15:27:32.648Z"
   },
   {
    "duration": 323,
    "start_time": "2022-05-02T15:27:32.658Z"
   },
   {
    "duration": 378,
    "start_time": "2022-05-02T15:27:32.983Z"
   },
   {
    "duration": 11,
    "start_time": "2022-05-02T15:27:33.363Z"
   },
   {
    "duration": 1562,
    "start_time": "2022-05-02T15:29:06.548Z"
   },
   {
    "duration": 37,
    "start_time": "2022-05-02T15:29:08.112Z"
   },
   {
    "duration": 473,
    "start_time": "2022-05-02T15:29:08.154Z"
   },
   {
    "duration": 37,
    "start_time": "2022-05-02T15:29:08.629Z"
   },
   {
    "duration": 3,
    "start_time": "2022-05-02T15:29:08.669Z"
   },
   {
    "duration": 26,
    "start_time": "2022-05-02T15:29:08.675Z"
   },
   {
    "duration": 21,
    "start_time": "2022-05-02T15:29:08.703Z"
   },
   {
    "duration": 39,
    "start_time": "2022-05-02T15:29:08.726Z"
   },
   {
    "duration": 7,
    "start_time": "2022-05-02T15:29:08.767Z"
   },
   {
    "duration": 34,
    "start_time": "2022-05-02T15:29:08.776Z"
   },
   {
    "duration": 255,
    "start_time": "2022-05-02T15:29:08.812Z"
   },
   {
    "duration": 327,
    "start_time": "2022-05-02T15:29:09.068Z"
   },
   {
    "duration": 12,
    "start_time": "2022-05-02T15:29:09.396Z"
   },
   {
    "duration": 1470,
    "start_time": "2022-05-02T22:31:48.632Z"
   },
   {
    "duration": 35,
    "start_time": "2022-05-02T22:31:50.104Z"
   },
   {
    "duration": 445,
    "start_time": "2022-05-02T22:31:50.141Z"
   },
   {
    "duration": 23,
    "start_time": "2022-05-02T22:31:50.588Z"
   },
   {
    "duration": 3,
    "start_time": "2022-05-02T22:31:50.612Z"
   },
   {
    "duration": 45,
    "start_time": "2022-05-02T22:31:50.617Z"
   },
   {
    "duration": 17,
    "start_time": "2022-05-02T22:31:50.664Z"
   },
   {
    "duration": 11,
    "start_time": "2022-05-02T22:31:50.683Z"
   },
   {
    "duration": 6,
    "start_time": "2022-05-02T22:31:50.695Z"
   },
   {
    "duration": 9,
    "start_time": "2022-05-02T22:31:50.703Z"
   },
   {
    "duration": 262,
    "start_time": "2022-05-02T22:31:50.714Z"
   },
   {
    "duration": 314,
    "start_time": "2022-05-02T22:31:50.978Z"
   },
   {
    "duration": 9,
    "start_time": "2022-05-02T22:31:51.294Z"
   },
   {
    "duration": 107,
    "start_time": "2022-05-02T22:31:51.305Z"
   },
   {
    "duration": 0,
    "start_time": "2022-05-02T22:31:51.413Z"
   },
   {
    "duration": 1162,
    "start_time": "2022-05-02T22:32:20.573Z"
   },
   {
    "duration": 44,
    "start_time": "2022-05-02T22:32:21.737Z"
   },
   {
    "duration": 453,
    "start_time": "2022-05-02T22:32:21.782Z"
   },
   {
    "duration": 38,
    "start_time": "2022-05-02T22:32:22.237Z"
   },
   {
    "duration": 3,
    "start_time": "2022-05-02T22:32:22.276Z"
   },
   {
    "duration": 18,
    "start_time": "2022-05-02T22:32:22.281Z"
   },
   {
    "duration": 18,
    "start_time": "2022-05-02T22:32:22.300Z"
   },
   {
    "duration": 43,
    "start_time": "2022-05-02T22:32:22.319Z"
   },
   {
    "duration": 8,
    "start_time": "2022-05-02T22:32:22.364Z"
   },
   {
    "duration": 5,
    "start_time": "2022-05-02T22:32:22.375Z"
   },
   {
    "duration": 238,
    "start_time": "2022-05-02T22:32:22.382Z"
   },
   {
    "duration": 306,
    "start_time": "2022-05-02T22:32:22.622Z"
   },
   {
    "duration": 22,
    "start_time": "2022-05-02T22:32:22.930Z"
   },
   {
    "duration": 11,
    "start_time": "2022-05-02T22:32:22.954Z"
   },
   {
    "duration": 106,
    "start_time": "2022-05-02T22:32:22.966Z"
   },
   {
    "duration": 1207,
    "start_time": "2022-05-02T22:33:25.342Z"
   },
   {
    "duration": 39,
    "start_time": "2022-05-02T22:33:26.551Z"
   },
   {
    "duration": 455,
    "start_time": "2022-05-02T22:33:26.592Z"
   },
   {
    "duration": 33,
    "start_time": "2022-05-02T22:33:27.049Z"
   },
   {
    "duration": 3,
    "start_time": "2022-05-02T22:33:27.084Z"
   },
   {
    "duration": 26,
    "start_time": "2022-05-02T22:33:27.089Z"
   },
   {
    "duration": 48,
    "start_time": "2022-05-02T22:33:27.117Z"
   },
   {
    "duration": 14,
    "start_time": "2022-05-02T22:33:27.167Z"
   },
   {
    "duration": 8,
    "start_time": "2022-05-02T22:33:27.183Z"
   },
   {
    "duration": 7,
    "start_time": "2022-05-02T22:33:27.193Z"
   },
   {
    "duration": 250,
    "start_time": "2022-05-02T22:33:27.202Z"
   },
   {
    "duration": 358,
    "start_time": "2022-05-02T22:33:27.455Z"
   },
   {
    "duration": 13,
    "start_time": "2022-05-02T22:33:27.815Z"
   },
   {
    "duration": 23,
    "start_time": "2022-05-02T22:33:27.829Z"
   },
   {
    "duration": 177,
    "start_time": "2022-05-02T22:33:27.858Z"
   },
   {
    "duration": 1128,
    "start_time": "2022-05-02T23:09:04.268Z"
   },
   {
    "duration": 35,
    "start_time": "2022-05-02T23:09:05.398Z"
   },
   {
    "duration": 421,
    "start_time": "2022-05-02T23:09:05.434Z"
   },
   {
    "duration": 25,
    "start_time": "2022-05-02T23:09:05.857Z"
   },
   {
    "duration": 10,
    "start_time": "2022-05-02T23:09:05.883Z"
   },
   {
    "duration": 15,
    "start_time": "2022-05-02T23:09:05.894Z"
   },
   {
    "duration": 54,
    "start_time": "2022-05-02T23:09:05.911Z"
   },
   {
    "duration": 109,
    "start_time": "2022-05-02T23:09:05.966Z"
   },
   {
    "duration": 1,
    "start_time": "2022-05-02T23:09:06.076Z"
   },
   {
    "duration": 0,
    "start_time": "2022-05-02T23:09:06.078Z"
   },
   {
    "duration": 0,
    "start_time": "2022-05-02T23:09:06.079Z"
   },
   {
    "duration": 0,
    "start_time": "2022-05-02T23:09:06.080Z"
   },
   {
    "duration": 0,
    "start_time": "2022-05-02T23:09:06.081Z"
   },
   {
    "duration": 0,
    "start_time": "2022-05-02T23:09:06.082Z"
   },
   {
    "duration": 0,
    "start_time": "2022-05-02T23:09:06.083Z"
   },
   {
    "duration": 1108,
    "start_time": "2022-05-02T23:55:47.391Z"
   },
   {
    "duration": 37,
    "start_time": "2022-05-02T23:55:48.501Z"
   },
   {
    "duration": 450,
    "start_time": "2022-05-02T23:55:48.540Z"
   },
   {
    "duration": 24,
    "start_time": "2022-05-02T23:55:48.992Z"
   },
   {
    "duration": 35,
    "start_time": "2022-05-02T23:55:49.018Z"
   },
   {
    "duration": 15,
    "start_time": "2022-05-02T23:55:49.054Z"
   },
   {
    "duration": 17,
    "start_time": "2022-05-02T23:55:49.071Z"
   },
   {
    "duration": 10,
    "start_time": "2022-05-02T23:55:49.090Z"
   },
   {
    "duration": 6,
    "start_time": "2022-05-02T23:55:49.102Z"
   },
   {
    "duration": 4,
    "start_time": "2022-05-02T23:55:49.111Z"
   },
   {
    "duration": 227,
    "start_time": "2022-05-02T23:55:49.147Z"
   },
   {
    "duration": 285,
    "start_time": "2022-05-02T23:55:49.376Z"
   },
   {
    "duration": 9,
    "start_time": "2022-05-02T23:55:49.663Z"
   },
   {
    "duration": 9,
    "start_time": "2022-05-02T23:55:49.674Z"
   },
   {
    "duration": 178,
    "start_time": "2022-05-02T23:55:49.684Z"
   },
   {
    "duration": 1156,
    "start_time": "2022-05-03T00:01:40.728Z"
   },
   {
    "duration": 38,
    "start_time": "2022-05-03T00:01:41.886Z"
   },
   {
    "duration": 458,
    "start_time": "2022-05-03T00:01:41.926Z"
   },
   {
    "duration": 25,
    "start_time": "2022-05-03T00:01:42.387Z"
   },
   {
    "duration": 38,
    "start_time": "2022-05-03T00:01:42.414Z"
   },
   {
    "duration": 16,
    "start_time": "2022-05-03T00:01:42.453Z"
   },
   {
    "duration": 18,
    "start_time": "2022-05-03T00:01:42.471Z"
   },
   {
    "duration": 12,
    "start_time": "2022-05-03T00:01:42.490Z"
   },
   {
    "duration": 7,
    "start_time": "2022-05-03T00:01:42.504Z"
   },
   {
    "duration": 5,
    "start_time": "2022-05-03T00:01:42.548Z"
   },
   {
    "duration": 236,
    "start_time": "2022-05-03T00:01:42.554Z"
   },
   {
    "duration": 298,
    "start_time": "2022-05-03T00:01:42.792Z"
   },
   {
    "duration": 9,
    "start_time": "2022-05-03T00:01:43.092Z"
   },
   {
    "duration": 62,
    "start_time": "2022-05-03T00:01:43.103Z"
   },
   {
    "duration": 6,
    "start_time": "2022-05-03T00:01:43.167Z"
   },
   {
    "duration": 174,
    "start_time": "2022-05-03T00:01:43.175Z"
   },
   {
    "duration": 1122,
    "start_time": "2022-05-03T00:11:59.976Z"
   },
   {
    "duration": 36,
    "start_time": "2022-05-03T00:12:01.100Z"
   },
   {
    "duration": 455,
    "start_time": "2022-05-03T00:12:01.137Z"
   },
   {
    "duration": 26,
    "start_time": "2022-05-03T00:12:01.594Z"
   },
   {
    "duration": 36,
    "start_time": "2022-05-03T00:12:01.622Z"
   },
   {
    "duration": 19,
    "start_time": "2022-05-03T00:12:01.659Z"
   },
   {
    "duration": 19,
    "start_time": "2022-05-03T00:12:01.679Z"
   },
   {
    "duration": 14,
    "start_time": "2022-05-03T00:12:01.700Z"
   },
   {
    "duration": 33,
    "start_time": "2022-05-03T00:12:01.716Z"
   },
   {
    "duration": 6,
    "start_time": "2022-05-03T00:12:01.751Z"
   },
   {
    "duration": 239,
    "start_time": "2022-05-03T00:12:01.759Z"
   },
   {
    "duration": 291,
    "start_time": "2022-05-03T00:12:02.000Z"
   },
   {
    "duration": 9,
    "start_time": "2022-05-03T00:12:02.293Z"
   },
   {
    "duration": 59,
    "start_time": "2022-05-03T00:12:02.304Z"
   },
   {
    "duration": 8,
    "start_time": "2022-05-03T00:12:02.364Z"
   },
   {
    "duration": 184,
    "start_time": "2022-05-03T00:12:02.373Z"
   },
   {
    "duration": 1140,
    "start_time": "2022-05-03T00:13:55.157Z"
   },
   {
    "duration": 35,
    "start_time": "2022-05-03T00:13:56.299Z"
   },
   {
    "duration": 418,
    "start_time": "2022-05-03T00:13:56.336Z"
   },
   {
    "duration": 23,
    "start_time": "2022-05-03T00:13:56.755Z"
   },
   {
    "duration": 10,
    "start_time": "2022-05-03T00:13:56.779Z"
   },
   {
    "duration": 14,
    "start_time": "2022-05-03T00:13:56.791Z"
   },
   {
    "duration": 46,
    "start_time": "2022-05-03T00:13:56.807Z"
   },
   {
    "duration": 11,
    "start_time": "2022-05-03T00:13:56.854Z"
   },
   {
    "duration": 6,
    "start_time": "2022-05-03T00:13:56.867Z"
   },
   {
    "duration": 4,
    "start_time": "2022-05-03T00:13:56.875Z"
   },
   {
    "duration": 242,
    "start_time": "2022-05-03T00:13:56.881Z"
   },
   {
    "duration": 280,
    "start_time": "2022-05-03T00:13:57.125Z"
   },
   {
    "duration": 10,
    "start_time": "2022-05-03T00:13:57.406Z"
   },
   {
    "duration": 3053,
    "start_time": "2022-05-03T00:13:57.419Z"
   },
   {
    "duration": 8,
    "start_time": "2022-05-03T00:14:00.473Z"
   },
   {
    "duration": 178,
    "start_time": "2022-05-03T00:14:00.483Z"
   },
   {
    "duration": 1085,
    "start_time": "2022-05-03T00:15:10.500Z"
   },
   {
    "duration": 34,
    "start_time": "2022-05-03T00:15:11.587Z"
   },
   {
    "duration": 422,
    "start_time": "2022-05-03T00:15:11.623Z"
   },
   {
    "duration": 23,
    "start_time": "2022-05-03T00:15:12.046Z"
   },
   {
    "duration": 11,
    "start_time": "2022-05-03T00:15:12.070Z"
   },
   {
    "duration": 15,
    "start_time": "2022-05-03T00:15:12.082Z"
   },
   {
    "duration": 50,
    "start_time": "2022-05-03T00:15:12.099Z"
   },
   {
    "duration": 12,
    "start_time": "2022-05-03T00:15:12.150Z"
   },
   {
    "duration": 9,
    "start_time": "2022-05-03T00:15:12.163Z"
   },
   {
    "duration": 6,
    "start_time": "2022-05-03T00:15:12.174Z"
   },
   {
    "duration": 234,
    "start_time": "2022-05-03T00:15:12.181Z"
   },
   {
    "duration": 284,
    "start_time": "2022-05-03T00:15:12.417Z"
   },
   {
    "duration": 10,
    "start_time": "2022-05-03T00:15:12.702Z"
   },
   {
    "duration": 4221,
    "start_time": "2022-05-03T00:15:12.713Z"
   },
   {
    "duration": 16,
    "start_time": "2022-05-03T00:15:16.935Z"
   },
   {
    "duration": 170,
    "start_time": "2022-05-03T00:15:16.952Z"
   },
   {
    "duration": 1096,
    "start_time": "2022-05-03T00:16:26.286Z"
   },
   {
    "duration": 36,
    "start_time": "2022-05-03T00:16:27.384Z"
   },
   {
    "duration": 444,
    "start_time": "2022-05-03T00:16:27.422Z"
   },
   {
    "duration": 26,
    "start_time": "2022-05-03T00:16:27.868Z"
   },
   {
    "duration": 10,
    "start_time": "2022-05-03T00:16:27.896Z"
   },
   {
    "duration": 44,
    "start_time": "2022-05-03T00:16:27.908Z"
   },
   {
    "duration": 18,
    "start_time": "2022-05-03T00:16:27.954Z"
   },
   {
    "duration": 12,
    "start_time": "2022-05-03T00:16:27.974Z"
   },
   {
    "duration": 7,
    "start_time": "2022-05-03T00:16:27.988Z"
   },
   {
    "duration": 5,
    "start_time": "2022-05-03T00:16:27.998Z"
   },
   {
    "duration": 256,
    "start_time": "2022-05-03T00:16:28.004Z"
   },
   {
    "duration": 291,
    "start_time": "2022-05-03T00:16:28.262Z"
   },
   {
    "duration": 11,
    "start_time": "2022-05-03T00:16:28.555Z"
   },
   {
    "duration": 49,
    "start_time": "2022-05-03T00:16:28.568Z"
   },
   {
    "duration": 34,
    "start_time": "2022-05-03T00:16:28.619Z"
   },
   {
    "duration": 178,
    "start_time": "2022-05-03T00:16:28.655Z"
   },
   {
    "duration": 1123,
    "start_time": "2022-05-03T00:17:15.679Z"
   },
   {
    "duration": 38,
    "start_time": "2022-05-03T00:17:16.803Z"
   },
   {
    "duration": 452,
    "start_time": "2022-05-03T00:17:16.846Z"
   },
   {
    "duration": 24,
    "start_time": "2022-05-03T00:17:17.300Z"
   },
   {
    "duration": 11,
    "start_time": "2022-05-03T00:17:17.347Z"
   },
   {
    "duration": 15,
    "start_time": "2022-05-03T00:17:17.359Z"
   },
   {
    "duration": 17,
    "start_time": "2022-05-03T00:17:17.376Z"
   },
   {
    "duration": 10,
    "start_time": "2022-05-03T00:17:17.394Z"
   },
   {
    "duration": 7,
    "start_time": "2022-05-03T00:17:17.406Z"
   },
   {
    "duration": 36,
    "start_time": "2022-05-03T00:17:17.415Z"
   },
   {
    "duration": 250,
    "start_time": "2022-05-03T00:17:17.453Z"
   },
   {
    "duration": 317,
    "start_time": "2022-05-03T00:17:17.706Z"
   },
   {
    "duration": 24,
    "start_time": "2022-05-03T00:17:18.025Z"
   },
   {
    "duration": 50,
    "start_time": "2022-05-03T00:17:18.051Z"
   },
   {
    "duration": 9,
    "start_time": "2022-05-03T00:17:18.103Z"
   },
   {
    "duration": 191,
    "start_time": "2022-05-03T00:17:18.114Z"
   },
   {
    "duration": 1176,
    "start_time": "2022-05-03T00:18:02.318Z"
   },
   {
    "duration": 38,
    "start_time": "2022-05-03T00:18:03.496Z"
   },
   {
    "duration": 452,
    "start_time": "2022-05-03T00:18:03.536Z"
   },
   {
    "duration": 26,
    "start_time": "2022-05-03T00:18:03.990Z"
   },
   {
    "duration": 33,
    "start_time": "2022-05-03T00:18:04.018Z"
   },
   {
    "duration": 17,
    "start_time": "2022-05-03T00:18:04.053Z"
   },
   {
    "duration": 19,
    "start_time": "2022-05-03T00:18:04.071Z"
   },
   {
    "duration": 11,
    "start_time": "2022-05-03T00:18:04.092Z"
   },
   {
    "duration": 8,
    "start_time": "2022-05-03T00:18:04.105Z"
   },
   {
    "duration": 5,
    "start_time": "2022-05-03T00:18:04.150Z"
   },
   {
    "duration": 234,
    "start_time": "2022-05-03T00:18:04.156Z"
   },
   {
    "duration": 301,
    "start_time": "2022-05-03T00:18:04.392Z"
   },
   {
    "duration": 10,
    "start_time": "2022-05-03T00:18:04.695Z"
   },
   {
    "duration": 71,
    "start_time": "2022-05-03T00:18:04.706Z"
   },
   {
    "duration": 8,
    "start_time": "2022-05-03T00:18:04.779Z"
   },
   {
    "duration": 179,
    "start_time": "2022-05-03T00:18:04.788Z"
   },
   {
    "duration": 1081,
    "start_time": "2022-05-03T00:27:52.102Z"
   },
   {
    "duration": 38,
    "start_time": "2022-05-03T00:27:53.185Z"
   },
   {
    "duration": 442,
    "start_time": "2022-05-03T00:27:53.225Z"
   },
   {
    "duration": 25,
    "start_time": "2022-05-03T00:27:53.669Z"
   },
   {
    "duration": 11,
    "start_time": "2022-05-03T00:27:53.696Z"
   },
   {
    "duration": 48,
    "start_time": "2022-05-03T00:27:53.709Z"
   },
   {
    "duration": 18,
    "start_time": "2022-05-03T00:27:53.759Z"
   },
   {
    "duration": 11,
    "start_time": "2022-05-03T00:27:53.779Z"
   },
   {
    "duration": 6,
    "start_time": "2022-05-03T00:27:53.792Z"
   },
   {
    "duration": 4,
    "start_time": "2022-05-03T00:27:53.801Z"
   },
   {
    "duration": 252,
    "start_time": "2022-05-03T00:27:53.807Z"
   },
   {
    "duration": 290,
    "start_time": "2022-05-03T00:27:54.061Z"
   },
   {
    "duration": 11,
    "start_time": "2022-05-03T00:27:54.352Z"
   },
   {
    "duration": 103,
    "start_time": "2022-05-03T00:27:54.365Z"
   },
   {
    "duration": 0,
    "start_time": "2022-05-03T00:27:54.470Z"
   },
   {
    "duration": 0,
    "start_time": "2022-05-03T00:27:54.472Z"
   },
   {
    "duration": 1158,
    "start_time": "2022-05-03T00:28:25.939Z"
   },
   {
    "duration": 35,
    "start_time": "2022-05-03T00:28:27.099Z"
   },
   {
    "duration": 445,
    "start_time": "2022-05-03T00:28:27.135Z"
   },
   {
    "duration": 25,
    "start_time": "2022-05-03T00:28:27.582Z"
   },
   {
    "duration": 10,
    "start_time": "2022-05-03T00:28:27.609Z"
   },
   {
    "duration": 34,
    "start_time": "2022-05-03T00:28:27.621Z"
   },
   {
    "duration": 18,
    "start_time": "2022-05-03T00:28:27.657Z"
   },
   {
    "duration": 10,
    "start_time": "2022-05-03T00:28:27.677Z"
   },
   {
    "duration": 7,
    "start_time": "2022-05-03T00:28:27.689Z"
   },
   {
    "duration": 5,
    "start_time": "2022-05-03T00:28:27.698Z"
   },
   {
    "duration": 256,
    "start_time": "2022-05-03T00:28:27.704Z"
   },
   {
    "duration": 291,
    "start_time": "2022-05-03T00:28:27.961Z"
   },
   {
    "duration": 10,
    "start_time": "2022-05-03T00:28:28.254Z"
   },
   {
    "duration": 64,
    "start_time": "2022-05-03T00:28:28.265Z"
   },
   {
    "duration": 21,
    "start_time": "2022-05-03T00:28:28.331Z"
   },
   {
    "duration": 177,
    "start_time": "2022-05-03T00:28:28.354Z"
   },
   {
    "duration": 1142,
    "start_time": "2022-05-03T00:29:39.647Z"
   },
   {
    "duration": 34,
    "start_time": "2022-05-03T00:29:40.791Z"
   },
   {
    "duration": 442,
    "start_time": "2022-05-03T00:29:40.827Z"
   },
   {
    "duration": 26,
    "start_time": "2022-05-03T00:29:41.271Z"
   },
   {
    "duration": 12,
    "start_time": "2022-05-03T00:29:41.299Z"
   },
   {
    "duration": 44,
    "start_time": "2022-05-03T00:29:41.312Z"
   },
   {
    "duration": 18,
    "start_time": "2022-05-03T00:29:41.358Z"
   },
   {
    "duration": 11,
    "start_time": "2022-05-03T00:29:41.378Z"
   },
   {
    "duration": 7,
    "start_time": "2022-05-03T00:29:41.391Z"
   },
   {
    "duration": 5,
    "start_time": "2022-05-03T00:29:41.401Z"
   },
   {
    "duration": 260,
    "start_time": "2022-05-03T00:29:41.407Z"
   },
   {
    "duration": 290,
    "start_time": "2022-05-03T00:29:41.669Z"
   },
   {
    "duration": 11,
    "start_time": "2022-05-03T00:29:41.961Z"
   },
   {
    "duration": 75,
    "start_time": "2022-05-03T00:29:41.973Z"
   },
   {
    "duration": 9,
    "start_time": "2022-05-03T00:29:42.050Z"
   },
   {
    "duration": 177,
    "start_time": "2022-05-03T00:29:42.060Z"
   },
   {
    "duration": 1246,
    "start_time": "2022-05-03T00:30:17.166Z"
   },
   {
    "duration": 36,
    "start_time": "2022-05-03T00:30:18.414Z"
   },
   {
    "duration": 429,
    "start_time": "2022-05-03T00:30:18.452Z"
   },
   {
    "duration": 24,
    "start_time": "2022-05-03T00:30:18.883Z"
   },
   {
    "duration": 11,
    "start_time": "2022-05-03T00:30:18.909Z"
   },
   {
    "duration": 43,
    "start_time": "2022-05-03T00:30:18.921Z"
   },
   {
    "duration": 26,
    "start_time": "2022-05-03T00:30:18.966Z"
   },
   {
    "duration": 15,
    "start_time": "2022-05-03T00:30:18.994Z"
   },
   {
    "duration": 9,
    "start_time": "2022-05-03T00:30:19.011Z"
   },
   {
    "duration": 6,
    "start_time": "2022-05-03T00:30:19.048Z"
   },
   {
    "duration": 310,
    "start_time": "2022-05-03T00:30:19.056Z"
   },
   {
    "duration": 289,
    "start_time": "2022-05-03T00:30:19.368Z"
   },
   {
    "duration": 11,
    "start_time": "2022-05-03T00:30:19.659Z"
   },
   {
    "duration": 79,
    "start_time": "2022-05-03T00:30:19.671Z"
   },
   {
    "duration": 7,
    "start_time": "2022-05-03T00:30:19.752Z"
   },
   {
    "duration": 182,
    "start_time": "2022-05-03T00:30:19.761Z"
   },
   {
    "duration": 1112,
    "start_time": "2022-05-03T00:37:42.595Z"
   },
   {
    "duration": 37,
    "start_time": "2022-05-03T00:37:43.708Z"
   },
   {
    "duration": 441,
    "start_time": "2022-05-03T00:37:43.747Z"
   },
   {
    "duration": 24,
    "start_time": "2022-05-03T00:37:44.190Z"
   },
   {
    "duration": 10,
    "start_time": "2022-05-03T00:37:44.216Z"
   },
   {
    "duration": 19,
    "start_time": "2022-05-03T00:37:44.247Z"
   },
   {
    "duration": 18,
    "start_time": "2022-05-03T00:37:44.268Z"
   },
   {
    "duration": 11,
    "start_time": "2022-05-03T00:37:44.288Z"
   },
   {
    "duration": 7,
    "start_time": "2022-05-03T00:37:44.300Z"
   },
   {
    "duration": 4,
    "start_time": "2022-05-03T00:37:44.309Z"
   },
   {
    "duration": 234,
    "start_time": "2022-05-03T00:37:44.351Z"
   },
   {
    "duration": 302,
    "start_time": "2022-05-03T00:37:44.586Z"
   },
   {
    "duration": 102,
    "start_time": "2022-05-03T00:37:44.890Z"
   },
   {
    "duration": 0,
    "start_time": "2022-05-03T00:37:44.994Z"
   },
   {
    "duration": 0,
    "start_time": "2022-05-03T00:37:44.995Z"
   },
   {
    "duration": 0,
    "start_time": "2022-05-03T00:37:44.996Z"
   },
   {
    "duration": 1162,
    "start_time": "2022-05-03T00:40:28.288Z"
   },
   {
    "duration": 36,
    "start_time": "2022-05-03T00:40:29.452Z"
   },
   {
    "duration": 442,
    "start_time": "2022-05-03T00:40:29.490Z"
   },
   {
    "duration": 32,
    "start_time": "2022-05-03T00:40:29.934Z"
   },
   {
    "duration": 11,
    "start_time": "2022-05-03T00:40:29.968Z"
   },
   {
    "duration": 17,
    "start_time": "2022-05-03T00:40:29.981Z"
   },
   {
    "duration": 54,
    "start_time": "2022-05-03T00:40:30.000Z"
   },
   {
    "duration": 23,
    "start_time": "2022-05-03T00:40:30.057Z"
   },
   {
    "duration": 12,
    "start_time": "2022-05-03T00:40:30.082Z"
   },
   {
    "duration": 12,
    "start_time": "2022-05-03T00:40:30.097Z"
   },
   {
    "duration": 241,
    "start_time": "2022-05-03T00:40:30.111Z"
   },
   {
    "duration": 299,
    "start_time": "2022-05-03T00:40:30.354Z"
   },
   {
    "duration": 10,
    "start_time": "2022-05-03T00:40:30.655Z"
   },
   {
    "duration": 69,
    "start_time": "2022-05-03T00:40:30.666Z"
   },
   {
    "duration": 8,
    "start_time": "2022-05-03T00:40:30.748Z"
   },
   {
    "duration": 197,
    "start_time": "2022-05-03T00:40:30.757Z"
   },
   {
    "duration": 1147,
    "start_time": "2022-05-03T00:42:25.626Z"
   },
   {
    "duration": 38,
    "start_time": "2022-05-03T00:42:26.775Z"
   },
   {
    "duration": 476,
    "start_time": "2022-05-03T00:42:26.815Z"
   },
   {
    "duration": 24,
    "start_time": "2022-05-03T00:42:27.293Z"
   },
   {
    "duration": 38,
    "start_time": "2022-05-03T00:42:27.319Z"
   },
   {
    "duration": 15,
    "start_time": "2022-05-03T00:42:27.360Z"
   },
   {
    "duration": 18,
    "start_time": "2022-05-03T00:42:27.376Z"
   },
   {
    "duration": 11,
    "start_time": "2022-05-03T00:42:27.395Z"
   },
   {
    "duration": 6,
    "start_time": "2022-05-03T00:42:27.408Z"
   },
   {
    "duration": 4,
    "start_time": "2022-05-03T00:42:27.417Z"
   },
   {
    "duration": 236,
    "start_time": "2022-05-03T00:42:27.448Z"
   },
   {
    "duration": 302,
    "start_time": "2022-05-03T00:42:27.686Z"
   },
   {
    "duration": 10,
    "start_time": "2022-05-03T00:42:27.989Z"
   },
   {
    "duration": 77,
    "start_time": "2022-05-03T00:42:28.001Z"
   },
   {
    "duration": 7,
    "start_time": "2022-05-03T00:42:28.080Z"
   },
   {
    "duration": 183,
    "start_time": "2022-05-03T00:42:28.089Z"
   },
   {
    "duration": 1130,
    "start_time": "2022-05-03T00:45:55.364Z"
   },
   {
    "duration": 36,
    "start_time": "2022-05-03T00:45:56.496Z"
   },
   {
    "duration": 452,
    "start_time": "2022-05-03T00:45:56.533Z"
   },
   {
    "duration": 23,
    "start_time": "2022-05-03T00:45:56.987Z"
   },
   {
    "duration": 10,
    "start_time": "2022-05-03T00:45:57.012Z"
   },
   {
    "duration": 35,
    "start_time": "2022-05-03T00:45:57.023Z"
   },
   {
    "duration": 17,
    "start_time": "2022-05-03T00:45:57.060Z"
   },
   {
    "duration": 12,
    "start_time": "2022-05-03T00:45:57.079Z"
   },
   {
    "duration": 8,
    "start_time": "2022-05-03T00:45:57.093Z"
   },
   {
    "duration": 46,
    "start_time": "2022-05-03T00:45:57.103Z"
   },
   {
    "duration": 234,
    "start_time": "2022-05-03T00:45:57.150Z"
   },
   {
    "duration": 290,
    "start_time": "2022-05-03T00:45:57.386Z"
   },
   {
    "duration": 11,
    "start_time": "2022-05-03T00:45:57.678Z"
   },
   {
    "duration": 74,
    "start_time": "2022-05-03T00:45:57.690Z"
   },
   {
    "duration": 9,
    "start_time": "2022-05-03T00:45:57.766Z"
   },
   {
    "duration": 178,
    "start_time": "2022-05-03T00:45:57.776Z"
   },
   {
    "duration": 1207,
    "start_time": "2022-05-03T01:07:05.380Z"
   },
   {
    "duration": 36,
    "start_time": "2022-05-03T01:07:06.589Z"
   },
   {
    "duration": 422,
    "start_time": "2022-05-03T01:07:06.626Z"
   },
   {
    "duration": 26,
    "start_time": "2022-05-03T01:07:07.050Z"
   },
   {
    "duration": 11,
    "start_time": "2022-05-03T01:07:07.077Z"
   },
   {
    "duration": 18,
    "start_time": "2022-05-03T01:07:07.090Z"
   },
   {
    "duration": 50,
    "start_time": "2022-05-03T01:07:07.110Z"
   },
   {
    "duration": 17,
    "start_time": "2022-05-03T01:07:07.162Z"
   },
   {
    "duration": 7,
    "start_time": "2022-05-03T01:07:07.180Z"
   },
   {
    "duration": 5,
    "start_time": "2022-05-03T01:07:07.189Z"
   },
   {
    "duration": 245,
    "start_time": "2022-05-03T01:07:07.196Z"
   },
   {
    "duration": 300,
    "start_time": "2022-05-03T01:07:07.443Z"
   },
   {
    "duration": 10,
    "start_time": "2022-05-03T01:07:07.745Z"
   },
   {
    "duration": 52,
    "start_time": "2022-05-03T01:07:07.756Z"
   },
   {
    "duration": 7,
    "start_time": "2022-05-03T01:07:07.809Z"
   },
   {
    "duration": 195,
    "start_time": "2022-05-03T01:07:07.818Z"
   },
   {
    "duration": 1140,
    "start_time": "2022-05-03T01:14:07.949Z"
   },
   {
    "duration": 37,
    "start_time": "2022-05-03T01:14:09.091Z"
   },
   {
    "duration": 438,
    "start_time": "2022-05-03T01:14:09.130Z"
   },
   {
    "duration": 25,
    "start_time": "2022-05-03T01:14:09.571Z"
   },
   {
    "duration": 12,
    "start_time": "2022-05-03T01:14:09.598Z"
   },
   {
    "duration": 45,
    "start_time": "2022-05-03T01:14:09.612Z"
   },
   {
    "duration": 18,
    "start_time": "2022-05-03T01:14:09.659Z"
   },
   {
    "duration": 11,
    "start_time": "2022-05-03T01:14:09.679Z"
   },
   {
    "duration": 7,
    "start_time": "2022-05-03T01:14:09.692Z"
   },
   {
    "duration": 4,
    "start_time": "2022-05-03T01:14:09.702Z"
   },
   {
    "duration": 259,
    "start_time": "2022-05-03T01:14:09.708Z"
   },
   {
    "duration": 298,
    "start_time": "2022-05-03T01:14:09.969Z"
   },
   {
    "duration": 10,
    "start_time": "2022-05-03T01:14:10.269Z"
   },
   {
    "duration": 75,
    "start_time": "2022-05-03T01:14:10.281Z"
   },
   {
    "duration": 8,
    "start_time": "2022-05-03T01:14:10.358Z"
   },
   {
    "duration": 185,
    "start_time": "2022-05-03T01:14:10.368Z"
   },
   {
    "duration": 109,
    "start_time": "2022-05-03T01:14:10.555Z"
   },
   {
    "duration": 1141,
    "start_time": "2022-05-03T01:21:11.651Z"
   },
   {
    "duration": 35,
    "start_time": "2022-05-03T01:21:12.794Z"
   },
   {
    "duration": 438,
    "start_time": "2022-05-03T01:21:12.831Z"
   },
   {
    "duration": 22,
    "start_time": "2022-05-03T01:21:13.271Z"
   },
   {
    "duration": 9,
    "start_time": "2022-05-03T01:21:13.295Z"
   },
   {
    "duration": 15,
    "start_time": "2022-05-03T01:21:13.306Z"
   },
   {
    "duration": 42,
    "start_time": "2022-05-03T01:21:13.322Z"
   },
   {
    "duration": 11,
    "start_time": "2022-05-03T01:21:13.365Z"
   },
   {
    "duration": 6,
    "start_time": "2022-05-03T01:21:13.378Z"
   },
   {
    "duration": 5,
    "start_time": "2022-05-03T01:21:13.386Z"
   },
   {
    "duration": 244,
    "start_time": "2022-05-03T01:21:13.392Z"
   },
   {
    "duration": 287,
    "start_time": "2022-05-03T01:21:13.637Z"
   },
   {
    "duration": 22,
    "start_time": "2022-05-03T01:21:13.926Z"
   },
   {
    "duration": 51,
    "start_time": "2022-05-03T01:21:13.950Z"
   },
   {
    "duration": 7,
    "start_time": "2022-05-03T01:21:14.003Z"
   },
   {
    "duration": 188,
    "start_time": "2022-05-03T01:21:14.012Z"
   },
   {
    "duration": 10,
    "start_time": "2022-05-03T01:21:14.201Z"
   },
   {
    "duration": 47,
    "start_time": "2022-05-03T01:21:14.212Z"
   },
   {
    "duration": 1143,
    "start_time": "2022-05-03T01:24:29.051Z"
   },
   {
    "duration": 36,
    "start_time": "2022-05-03T01:24:30.196Z"
   },
   {
    "duration": 442,
    "start_time": "2022-05-03T01:24:30.234Z"
   },
   {
    "duration": 23,
    "start_time": "2022-05-03T01:24:30.678Z"
   },
   {
    "duration": 11,
    "start_time": "2022-05-03T01:24:30.703Z"
   },
   {
    "duration": 36,
    "start_time": "2022-05-03T01:24:30.715Z"
   },
   {
    "duration": 18,
    "start_time": "2022-05-03T01:24:30.753Z"
   },
   {
    "duration": 19,
    "start_time": "2022-05-03T01:24:30.772Z"
   },
   {
    "duration": 9,
    "start_time": "2022-05-03T01:24:30.792Z"
   },
   {
    "duration": 11,
    "start_time": "2022-05-03T01:24:30.803Z"
   },
   {
    "duration": 238,
    "start_time": "2022-05-03T01:24:30.815Z"
   },
   {
    "duration": 294,
    "start_time": "2022-05-03T01:24:31.055Z"
   },
   {
    "duration": 10,
    "start_time": "2022-05-03T01:24:31.350Z"
   },
   {
    "duration": 56,
    "start_time": "2022-05-03T01:24:31.361Z"
   },
   {
    "duration": 29,
    "start_time": "2022-05-03T01:24:31.419Z"
   },
   {
    "duration": 192,
    "start_time": "2022-05-03T01:24:31.450Z"
   },
   {
    "duration": 12,
    "start_time": "2022-05-03T01:24:31.648Z"
   },
   {
    "duration": 29,
    "start_time": "2022-05-03T01:24:31.663Z"
   },
   {
    "duration": 1117,
    "start_time": "2022-05-03T01:26:56.983Z"
   },
   {
    "duration": 37,
    "start_time": "2022-05-03T01:26:58.102Z"
   },
   {
    "duration": 454,
    "start_time": "2022-05-03T01:26:58.146Z"
   },
   {
    "duration": 51,
    "start_time": "2022-05-03T01:26:58.603Z"
   },
   {
    "duration": 12,
    "start_time": "2022-05-03T01:26:58.656Z"
   },
   {
    "duration": 15,
    "start_time": "2022-05-03T01:26:58.670Z"
   },
   {
    "duration": 18,
    "start_time": "2022-05-03T01:26:58.687Z"
   },
   {
    "duration": 45,
    "start_time": "2022-05-03T01:26:58.706Z"
   },
   {
    "duration": 8,
    "start_time": "2022-05-03T01:26:58.752Z"
   },
   {
    "duration": 5,
    "start_time": "2022-05-03T01:26:58.763Z"
   },
   {
    "duration": 239,
    "start_time": "2022-05-03T01:26:58.770Z"
   },
   {
    "duration": 298,
    "start_time": "2022-05-03T01:26:59.010Z"
   },
   {
    "duration": 10,
    "start_time": "2022-05-03T01:26:59.310Z"
   },
   {
    "duration": 70,
    "start_time": "2022-05-03T01:26:59.322Z"
   },
   {
    "duration": 8,
    "start_time": "2022-05-03T01:26:59.394Z"
   },
   {
    "duration": 192,
    "start_time": "2022-05-03T01:26:59.404Z"
   },
   {
    "duration": 13,
    "start_time": "2022-05-03T01:26:59.598Z"
   },
   {
    "duration": 378,
    "start_time": "2022-05-03T01:26:59.612Z"
   },
   {
    "duration": 33,
    "start_time": "2022-05-03T01:26:59.992Z"
   },
   {
    "duration": 1141,
    "start_time": "2022-05-03T01:32:48.147Z"
   },
   {
    "duration": 36,
    "start_time": "2022-05-03T01:32:49.290Z"
   },
   {
    "duration": 421,
    "start_time": "2022-05-03T01:32:49.328Z"
   },
   {
    "duration": 23,
    "start_time": "2022-05-03T01:32:49.750Z"
   },
   {
    "duration": 9,
    "start_time": "2022-05-03T01:32:49.775Z"
   },
   {
    "duration": 14,
    "start_time": "2022-05-03T01:32:49.786Z"
   },
   {
    "duration": 47,
    "start_time": "2022-05-03T01:32:49.801Z"
   },
   {
    "duration": 10,
    "start_time": "2022-05-03T01:32:49.850Z"
   },
   {
    "duration": 6,
    "start_time": "2022-05-03T01:32:49.862Z"
   },
   {
    "duration": 5,
    "start_time": "2022-05-03T01:32:49.870Z"
   },
   {
    "duration": 241,
    "start_time": "2022-05-03T01:32:49.876Z"
   },
   {
    "duration": 282,
    "start_time": "2022-05-03T01:32:50.118Z"
   },
   {
    "duration": 10,
    "start_time": "2022-05-03T01:32:50.401Z"
   },
   {
    "duration": 64,
    "start_time": "2022-05-03T01:32:50.412Z"
   },
   {
    "duration": 7,
    "start_time": "2022-05-03T01:32:50.478Z"
   },
   {
    "duration": 185,
    "start_time": "2022-05-03T01:32:50.486Z"
   },
   {
    "duration": 12,
    "start_time": "2022-05-03T01:32:50.673Z"
   },
   {
    "duration": 371,
    "start_time": "2022-05-03T01:32:50.686Z"
   },
   {
    "duration": 14,
    "start_time": "2022-05-03T01:32:51.059Z"
   },
   {
    "duration": 390,
    "start_time": "2022-05-03T01:32:51.075Z"
   },
   {
    "duration": 148,
    "start_time": "2022-05-03T01:32:51.467Z"
   },
   {
    "duration": 0,
    "start_time": "2022-05-03T01:32:51.617Z"
   },
   {
    "duration": 1121,
    "start_time": "2022-05-03T01:59:23.678Z"
   },
   {
    "duration": 37,
    "start_time": "2022-05-03T01:59:24.801Z"
   },
   {
    "duration": 453,
    "start_time": "2022-05-03T01:59:24.840Z"
   },
   {
    "duration": 25,
    "start_time": "2022-05-03T01:59:25.295Z"
   },
   {
    "duration": 34,
    "start_time": "2022-05-03T01:59:25.322Z"
   },
   {
    "duration": 14,
    "start_time": "2022-05-03T01:59:25.358Z"
   },
   {
    "duration": 18,
    "start_time": "2022-05-03T01:59:25.374Z"
   },
   {
    "duration": 10,
    "start_time": "2022-05-03T01:59:25.394Z"
   },
   {
    "duration": 7,
    "start_time": "2022-05-03T01:59:25.405Z"
   },
   {
    "duration": 35,
    "start_time": "2022-05-03T01:59:25.415Z"
   },
   {
    "duration": 235,
    "start_time": "2022-05-03T01:59:25.451Z"
   },
   {
    "duration": 293,
    "start_time": "2022-05-03T01:59:25.688Z"
   },
   {
    "duration": 10,
    "start_time": "2022-05-03T01:59:25.982Z"
   },
   {
    "duration": 71,
    "start_time": "2022-05-03T01:59:25.994Z"
   },
   {
    "duration": 8,
    "start_time": "2022-05-03T01:59:26.067Z"
   },
   {
    "duration": 197,
    "start_time": "2022-05-03T01:59:26.076Z"
   },
   {
    "duration": 13,
    "start_time": "2022-05-03T01:59:26.274Z"
   },
   {
    "duration": 378,
    "start_time": "2022-05-03T01:59:26.288Z"
   },
   {
    "duration": 13,
    "start_time": "2022-05-03T01:59:26.668Z"
   },
   {
    "duration": 379,
    "start_time": "2022-05-03T01:59:26.682Z"
   },
   {
    "duration": 8,
    "start_time": "2022-05-03T01:59:27.062Z"
   },
   {
    "duration": 35,
    "start_time": "2022-05-03T01:59:27.071Z"
   },
   {
    "duration": 129,
    "start_time": "2022-05-03T01:59:27.107Z"
   },
   {
    "duration": 1140,
    "start_time": "2022-05-03T02:12:15.558Z"
   },
   {
    "duration": 36,
    "start_time": "2022-05-03T02:12:16.700Z"
   },
   {
    "duration": 437,
    "start_time": "2022-05-03T02:12:16.738Z"
   },
   {
    "duration": 26,
    "start_time": "2022-05-03T02:12:17.177Z"
   },
   {
    "duration": 11,
    "start_time": "2022-05-03T02:12:17.204Z"
   },
   {
    "duration": 45,
    "start_time": "2022-05-03T02:12:17.217Z"
   },
   {
    "duration": 17,
    "start_time": "2022-05-03T02:12:17.264Z"
   },
   {
    "duration": 12,
    "start_time": "2022-05-03T02:12:17.283Z"
   },
   {
    "duration": 7,
    "start_time": "2022-05-03T02:12:17.296Z"
   },
   {
    "duration": 5,
    "start_time": "2022-05-03T02:12:17.306Z"
   },
   {
    "duration": 227,
    "start_time": "2022-05-03T02:12:17.348Z"
   },
   {
    "duration": 318,
    "start_time": "2022-05-03T02:12:17.577Z"
   },
   {
    "duration": 11,
    "start_time": "2022-05-03T02:12:17.896Z"
   },
   {
    "duration": 70,
    "start_time": "2022-05-03T02:12:17.909Z"
   },
   {
    "duration": 8,
    "start_time": "2022-05-03T02:12:17.981Z"
   },
   {
    "duration": 185,
    "start_time": "2022-05-03T02:12:17.990Z"
   },
   {
    "duration": 12,
    "start_time": "2022-05-03T02:12:18.177Z"
   },
   {
    "duration": 362,
    "start_time": "2022-05-03T02:12:18.191Z"
   },
   {
    "duration": 14,
    "start_time": "2022-05-03T02:12:18.555Z"
   },
   {
    "duration": 389,
    "start_time": "2022-05-03T02:12:18.571Z"
   },
   {
    "duration": 8,
    "start_time": "2022-05-03T02:12:18.962Z"
   },
   {
    "duration": 15,
    "start_time": "2022-05-03T02:12:18.971Z"
   },
   {
    "duration": 31,
    "start_time": "2022-05-03T02:12:18.987Z"
   },
   {
    "duration": 75,
    "start_time": "2022-05-03T02:12:19.019Z"
   },
   {
    "duration": 1170,
    "start_time": "2022-05-03T02:17:06.823Z"
   },
   {
    "duration": 36,
    "start_time": "2022-05-03T02:17:07.995Z"
   },
   {
    "duration": 433,
    "start_time": "2022-05-03T02:17:08.033Z"
   },
   {
    "duration": 24,
    "start_time": "2022-05-03T02:17:08.468Z"
   },
   {
    "duration": 10,
    "start_time": "2022-05-03T02:17:08.493Z"
   },
   {
    "duration": 16,
    "start_time": "2022-05-03T02:17:08.504Z"
   },
   {
    "duration": 42,
    "start_time": "2022-05-03T02:17:08.521Z"
   },
   {
    "duration": 14,
    "start_time": "2022-05-03T02:17:08.565Z"
   },
   {
    "duration": 6,
    "start_time": "2022-05-03T02:17:08.581Z"
   },
   {
    "duration": 5,
    "start_time": "2022-05-03T02:17:08.589Z"
   },
   {
    "duration": 240,
    "start_time": "2022-05-03T02:17:08.595Z"
   },
   {
    "duration": 279,
    "start_time": "2022-05-03T02:17:08.837Z"
   },
   {
    "duration": 9,
    "start_time": "2022-05-03T02:17:09.118Z"
   },
   {
    "duration": 68,
    "start_time": "2022-05-03T02:17:09.129Z"
   },
   {
    "duration": 8,
    "start_time": "2022-05-03T02:17:09.198Z"
   },
   {
    "duration": 196,
    "start_time": "2022-05-03T02:17:09.207Z"
   },
   {
    "duration": 12,
    "start_time": "2022-05-03T02:17:09.405Z"
   },
   {
    "duration": 363,
    "start_time": "2022-05-03T02:17:09.419Z"
   },
   {
    "duration": 12,
    "start_time": "2022-05-03T02:17:09.784Z"
   },
   {
    "duration": 371,
    "start_time": "2022-05-03T02:17:09.797Z"
   },
   {
    "duration": 8,
    "start_time": "2022-05-03T02:17:10.170Z"
   },
   {
    "duration": 20,
    "start_time": "2022-05-03T02:17:10.180Z"
   },
   {
    "duration": 28,
    "start_time": "2022-05-03T02:17:10.202Z"
   },
   {
    "duration": 61,
    "start_time": "2022-05-03T02:17:10.232Z"
   },
   {
    "duration": 1142,
    "start_time": "2022-05-03T02:21:55.912Z"
   },
   {
    "duration": 36,
    "start_time": "2022-05-03T02:21:57.056Z"
   },
   {
    "duration": 431,
    "start_time": "2022-05-03T02:21:57.094Z"
   },
   {
    "duration": 40,
    "start_time": "2022-05-03T02:21:57.527Z"
   },
   {
    "duration": 11,
    "start_time": "2022-05-03T02:21:57.568Z"
   },
   {
    "duration": 16,
    "start_time": "2022-05-03T02:21:57.580Z"
   },
   {
    "duration": 18,
    "start_time": "2022-05-03T02:21:57.597Z"
   },
   {
    "duration": 37,
    "start_time": "2022-05-03T02:21:57.616Z"
   },
   {
    "duration": 6,
    "start_time": "2022-05-03T02:21:57.655Z"
   },
   {
    "duration": 25,
    "start_time": "2022-05-03T02:21:57.664Z"
   },
   {
    "duration": 244,
    "start_time": "2022-05-03T02:21:57.690Z"
   },
   {
    "duration": 296,
    "start_time": "2022-05-03T02:21:57.935Z"
   },
   {
    "duration": 17,
    "start_time": "2022-05-03T02:21:58.232Z"
   },
   {
    "duration": 55,
    "start_time": "2022-05-03T02:21:58.250Z"
   },
   {
    "duration": 8,
    "start_time": "2022-05-03T02:21:58.306Z"
   },
   {
    "duration": 199,
    "start_time": "2022-05-03T02:21:58.315Z"
   },
   {
    "duration": 13,
    "start_time": "2022-05-03T02:21:58.515Z"
   },
   {
    "duration": 380,
    "start_time": "2022-05-03T02:21:58.530Z"
   },
   {
    "duration": 12,
    "start_time": "2022-05-03T02:21:58.912Z"
   },
   {
    "duration": 381,
    "start_time": "2022-05-03T02:21:58.925Z"
   },
   {
    "duration": 8,
    "start_time": "2022-05-03T02:21:59.308Z"
   },
   {
    "duration": 1378,
    "start_time": "2022-05-03T02:21:59.317Z"
   },
   {
    "duration": 12,
    "start_time": "2022-05-03T02:22:00.696Z"
   },
   {
    "duration": 51,
    "start_time": "2022-05-03T02:22:00.709Z"
   },
   {
    "duration": 50,
    "start_time": "2022-05-03T02:22:00.762Z"
   },
   {
    "duration": 1105,
    "start_time": "2022-05-03T02:26:59.090Z"
   },
   {
    "duration": 37,
    "start_time": "2022-05-03T02:27:00.198Z"
   },
   {
    "duration": 430,
    "start_time": "2022-05-03T02:27:00.247Z"
   },
   {
    "duration": 24,
    "start_time": "2022-05-03T02:27:00.679Z"
   },
   {
    "duration": 10,
    "start_time": "2022-05-03T02:27:00.704Z"
   },
   {
    "duration": 36,
    "start_time": "2022-05-03T02:27:00.716Z"
   },
   {
    "duration": 18,
    "start_time": "2022-05-03T02:27:00.754Z"
   },
   {
    "duration": 10,
    "start_time": "2022-05-03T02:27:00.774Z"
   },
   {
    "duration": 11,
    "start_time": "2022-05-03T02:27:00.785Z"
   },
   {
    "duration": 31,
    "start_time": "2022-05-03T02:27:00.799Z"
   },
   {
    "duration": 226,
    "start_time": "2022-05-03T02:27:00.848Z"
   },
   {
    "duration": 294,
    "start_time": "2022-05-03T02:27:01.076Z"
   },
   {
    "duration": 10,
    "start_time": "2022-05-03T02:27:01.372Z"
   },
   {
    "duration": 69,
    "start_time": "2022-05-03T02:27:01.384Z"
   },
   {
    "duration": 8,
    "start_time": "2022-05-03T02:27:01.455Z"
   },
   {
    "duration": 197,
    "start_time": "2022-05-03T02:27:01.464Z"
   },
   {
    "duration": 12,
    "start_time": "2022-05-03T02:27:01.663Z"
   },
   {
    "duration": 375,
    "start_time": "2022-05-03T02:27:01.677Z"
   },
   {
    "duration": 14,
    "start_time": "2022-05-03T02:27:02.053Z"
   },
   {
    "duration": 383,
    "start_time": "2022-05-03T02:27:02.068Z"
   },
   {
    "duration": 7,
    "start_time": "2022-05-03T02:27:02.453Z"
   },
   {
    "duration": 1371,
    "start_time": "2022-05-03T02:27:02.462Z"
   },
   {
    "duration": 19,
    "start_time": "2022-05-03T02:27:03.835Z"
   },
   {
    "duration": 29,
    "start_time": "2022-05-03T02:27:03.856Z"
   },
   {
    "duration": 21,
    "start_time": "2022-05-03T02:27:03.886Z"
   },
   {
    "duration": 1149,
    "start_time": "2022-05-03T02:28:04.151Z"
   },
   {
    "duration": 38,
    "start_time": "2022-05-03T02:28:05.302Z"
   },
   {
    "duration": 412,
    "start_time": "2022-05-03T02:28:05.348Z"
   },
   {
    "duration": 25,
    "start_time": "2022-05-03T02:28:05.761Z"
   },
   {
    "duration": 10,
    "start_time": "2022-05-03T02:28:05.788Z"
   },
   {
    "duration": 16,
    "start_time": "2022-05-03T02:28:05.799Z"
   },
   {
    "duration": 18,
    "start_time": "2022-05-03T02:28:05.848Z"
   },
   {
    "duration": 10,
    "start_time": "2022-05-03T02:28:05.868Z"
   },
   {
    "duration": 7,
    "start_time": "2022-05-03T02:28:05.880Z"
   },
   {
    "duration": 28,
    "start_time": "2022-05-03T02:28:05.888Z"
   },
   {
    "duration": 252,
    "start_time": "2022-05-03T02:28:05.918Z"
   },
   {
    "duration": 308,
    "start_time": "2022-05-03T02:28:06.172Z"
   },
   {
    "duration": 11,
    "start_time": "2022-05-03T02:28:06.482Z"
   },
   {
    "duration": 67,
    "start_time": "2022-05-03T02:28:06.496Z"
   },
   {
    "duration": 8,
    "start_time": "2022-05-03T02:28:06.565Z"
   },
   {
    "duration": 194,
    "start_time": "2022-05-03T02:28:06.575Z"
   },
   {
    "duration": 13,
    "start_time": "2022-05-03T02:28:06.771Z"
   },
   {
    "duration": 375,
    "start_time": "2022-05-03T02:28:06.786Z"
   },
   {
    "duration": 14,
    "start_time": "2022-05-03T02:28:07.163Z"
   },
   {
    "duration": 391,
    "start_time": "2022-05-03T02:28:07.179Z"
   },
   {
    "duration": 9,
    "start_time": "2022-05-03T02:28:07.572Z"
   },
   {
    "duration": 1401,
    "start_time": "2022-05-03T02:28:07.583Z"
   },
   {
    "duration": 12,
    "start_time": "2022-05-03T02:28:08.985Z"
   },
   {
    "duration": 50,
    "start_time": "2022-05-03T02:28:08.998Z"
   },
   {
    "duration": 112,
    "start_time": "2022-05-03T02:28:09.050Z"
   },
   {
    "duration": 1176,
    "start_time": "2022-05-03T02:29:21.213Z"
   },
   {
    "duration": 36,
    "start_time": "2022-05-03T02:29:22.391Z"
   },
   {
    "duration": 428,
    "start_time": "2022-05-03T02:29:22.428Z"
   },
   {
    "duration": 23,
    "start_time": "2022-05-03T02:29:22.858Z"
   },
   {
    "duration": 11,
    "start_time": "2022-05-03T02:29:22.882Z"
   },
   {
    "duration": 14,
    "start_time": "2022-05-03T02:29:22.894Z"
   },
   {
    "duration": 46,
    "start_time": "2022-05-03T02:29:22.909Z"
   },
   {
    "duration": 11,
    "start_time": "2022-05-03T02:29:22.956Z"
   },
   {
    "duration": 7,
    "start_time": "2022-05-03T02:29:22.968Z"
   },
   {
    "duration": 22,
    "start_time": "2022-05-03T02:29:22.977Z"
   },
   {
    "duration": 241,
    "start_time": "2022-05-03T02:29:23.000Z"
   },
   {
    "duration": 285,
    "start_time": "2022-05-03T02:29:23.243Z"
   },
   {
    "duration": 19,
    "start_time": "2022-05-03T02:29:23.529Z"
   },
   {
    "duration": 50,
    "start_time": "2022-05-03T02:29:23.550Z"
   },
   {
    "duration": 7,
    "start_time": "2022-05-03T02:29:23.602Z"
   },
   {
    "duration": 188,
    "start_time": "2022-05-03T02:29:23.611Z"
   },
   {
    "duration": 12,
    "start_time": "2022-05-03T02:29:23.801Z"
   },
   {
    "duration": 371,
    "start_time": "2022-05-03T02:29:23.815Z"
   },
   {
    "duration": 12,
    "start_time": "2022-05-03T02:29:24.188Z"
   },
   {
    "duration": 372,
    "start_time": "2022-05-03T02:29:24.202Z"
   },
   {
    "duration": 8,
    "start_time": "2022-05-03T02:29:24.576Z"
   },
   {
    "duration": 1330,
    "start_time": "2022-05-03T02:29:24.586Z"
   },
   {
    "duration": 10,
    "start_time": "2022-05-03T02:29:25.918Z"
   },
   {
    "duration": 43,
    "start_time": "2022-05-03T02:29:25.930Z"
   },
   {
    "duration": 23,
    "start_time": "2022-05-03T02:29:25.974Z"
   },
   {
    "duration": 1112,
    "start_time": "2022-05-03T02:30:46.782Z"
   },
   {
    "duration": 37,
    "start_time": "2022-05-03T02:30:47.896Z"
   },
   {
    "duration": 446,
    "start_time": "2022-05-03T02:30:47.934Z"
   },
   {
    "duration": 23,
    "start_time": "2022-05-03T02:30:48.382Z"
   },
   {
    "duration": 10,
    "start_time": "2022-05-03T02:30:48.407Z"
   },
   {
    "duration": 40,
    "start_time": "2022-05-03T02:30:48.418Z"
   },
   {
    "duration": 17,
    "start_time": "2022-05-03T02:30:48.459Z"
   },
   {
    "duration": 12,
    "start_time": "2022-05-03T02:30:48.478Z"
   },
   {
    "duration": 7,
    "start_time": "2022-05-03T02:30:48.491Z"
   },
   {
    "duration": 50,
    "start_time": "2022-05-03T02:30:48.500Z"
   },
   {
    "duration": 225,
    "start_time": "2022-05-03T02:30:48.551Z"
   },
   {
    "duration": 290,
    "start_time": "2022-05-03T02:30:48.778Z"
   },
   {
    "duration": 10,
    "start_time": "2022-05-03T02:30:49.070Z"
   },
   {
    "duration": 71,
    "start_time": "2022-05-03T02:30:49.082Z"
   },
   {
    "duration": 9,
    "start_time": "2022-05-03T02:30:49.155Z"
   },
   {
    "duration": 183,
    "start_time": "2022-05-03T02:30:49.166Z"
   },
   {
    "duration": 14,
    "start_time": "2022-05-03T02:30:49.351Z"
   },
   {
    "duration": 373,
    "start_time": "2022-05-03T02:30:49.367Z"
   },
   {
    "duration": 13,
    "start_time": "2022-05-03T02:30:49.747Z"
   },
   {
    "duration": 376,
    "start_time": "2022-05-03T02:30:49.762Z"
   },
   {
    "duration": 8,
    "start_time": "2022-05-03T02:30:50.146Z"
   },
   {
    "duration": 1359,
    "start_time": "2022-05-03T02:30:50.156Z"
   },
   {
    "duration": 11,
    "start_time": "2022-05-03T02:30:51.517Z"
   },
   {
    "duration": 30,
    "start_time": "2022-05-03T02:30:51.547Z"
   },
   {
    "duration": 32,
    "start_time": "2022-05-03T02:30:51.579Z"
   },
   {
    "duration": 1186,
    "start_time": "2022-05-03T02:40:17.916Z"
   },
   {
    "duration": 36,
    "start_time": "2022-05-03T02:40:19.104Z"
   },
   {
    "duration": 436,
    "start_time": "2022-05-03T02:40:19.142Z"
   },
   {
    "duration": 24,
    "start_time": "2022-05-03T02:40:19.580Z"
   },
   {
    "duration": 10,
    "start_time": "2022-05-03T02:40:19.606Z"
   },
   {
    "duration": 38,
    "start_time": "2022-05-03T02:40:19.617Z"
   },
   {
    "duration": 18,
    "start_time": "2022-05-03T02:40:19.656Z"
   },
   {
    "duration": 11,
    "start_time": "2022-05-03T02:40:19.676Z"
   },
   {
    "duration": 6,
    "start_time": "2022-05-03T02:40:19.688Z"
   },
   {
    "duration": 23,
    "start_time": "2022-05-03T02:40:19.696Z"
   },
   {
    "duration": 249,
    "start_time": "2022-05-03T02:40:19.720Z"
   },
   {
    "duration": 288,
    "start_time": "2022-05-03T02:40:19.970Z"
   },
   {
    "duration": 10,
    "start_time": "2022-05-03T02:40:20.259Z"
   },
   {
    "duration": 51,
    "start_time": "2022-05-03T02:40:20.271Z"
   },
   {
    "duration": 28,
    "start_time": "2022-05-03T02:40:20.323Z"
   },
   {
    "duration": 179,
    "start_time": "2022-05-03T02:40:20.353Z"
   },
   {
    "duration": 21,
    "start_time": "2022-05-03T02:40:20.534Z"
   },
   {
    "duration": 368,
    "start_time": "2022-05-03T02:40:20.557Z"
   },
   {
    "duration": 21,
    "start_time": "2022-05-03T02:40:20.926Z"
   },
   {
    "duration": 373,
    "start_time": "2022-05-03T02:40:20.949Z"
   },
   {
    "duration": 8,
    "start_time": "2022-05-03T02:40:21.324Z"
   },
   {
    "duration": 1364,
    "start_time": "2022-05-03T02:40:21.333Z"
   },
   {
    "duration": 10,
    "start_time": "2022-05-03T02:40:22.699Z"
   },
   {
    "duration": 50,
    "start_time": "2022-05-03T02:40:22.710Z"
   },
   {
    "duration": 31,
    "start_time": "2022-05-03T02:40:22.762Z"
   },
   {
    "duration": 23,
    "start_time": "2022-05-03T02:40:22.795Z"
   },
   {
    "duration": 1091,
    "start_time": "2022-05-03T02:49:10.101Z"
   },
   {
    "duration": 35,
    "start_time": "2022-05-03T02:49:11.194Z"
   },
   {
    "duration": 430,
    "start_time": "2022-05-03T02:49:11.231Z"
   },
   {
    "duration": 24,
    "start_time": "2022-05-03T02:49:11.663Z"
   },
   {
    "duration": 11,
    "start_time": "2022-05-03T02:49:11.688Z"
   },
   {
    "duration": 20,
    "start_time": "2022-05-03T02:49:11.700Z"
   },
   {
    "duration": 41,
    "start_time": "2022-05-03T02:49:11.722Z"
   },
   {
    "duration": 11,
    "start_time": "2022-05-03T02:49:11.765Z"
   },
   {
    "duration": 7,
    "start_time": "2022-05-03T02:49:11.777Z"
   },
   {
    "duration": 22,
    "start_time": "2022-05-03T02:49:11.787Z"
   },
   {
    "duration": 249,
    "start_time": "2022-05-03T02:49:11.811Z"
   },
   {
    "duration": 295,
    "start_time": "2022-05-03T02:49:12.062Z"
   },
   {
    "duration": 10,
    "start_time": "2022-05-03T02:49:12.359Z"
   },
   {
    "duration": 53,
    "start_time": "2022-05-03T02:49:12.371Z"
   },
   {
    "duration": 27,
    "start_time": "2022-05-03T02:49:12.426Z"
   },
   {
    "duration": 195,
    "start_time": "2022-05-03T02:49:12.455Z"
   },
   {
    "duration": 13,
    "start_time": "2022-05-03T02:49:12.651Z"
   },
   {
    "duration": 369,
    "start_time": "2022-05-03T02:49:12.666Z"
   },
   {
    "duration": 18,
    "start_time": "2022-05-03T02:49:13.037Z"
   },
   {
    "duration": 376,
    "start_time": "2022-05-03T02:49:13.057Z"
   },
   {
    "duration": 8,
    "start_time": "2022-05-03T02:49:13.434Z"
   },
   {
    "duration": 1368,
    "start_time": "2022-05-03T02:49:13.448Z"
   },
   {
    "duration": 10,
    "start_time": "2022-05-03T02:49:14.817Z"
   },
   {
    "duration": 45,
    "start_time": "2022-05-03T02:49:14.829Z"
   },
   {
    "duration": 31,
    "start_time": "2022-05-03T02:49:14.875Z"
   },
   {
    "duration": 47,
    "start_time": "2022-05-03T02:49:14.908Z"
   },
   {
    "duration": 125,
    "start_time": "2022-05-03T02:49:14.957Z"
   },
   {
    "duration": 1172,
    "start_time": "2022-05-03T03:05:09.623Z"
   },
   {
    "duration": 35,
    "start_time": "2022-05-03T03:05:10.796Z"
   },
   {
    "duration": 429,
    "start_time": "2022-05-03T03:05:10.833Z"
   },
   {
    "duration": 23,
    "start_time": "2022-05-03T03:05:11.264Z"
   },
   {
    "duration": 10,
    "start_time": "2022-05-03T03:05:11.288Z"
   },
   {
    "duration": 14,
    "start_time": "2022-05-03T03:05:11.300Z"
   },
   {
    "duration": 45,
    "start_time": "2022-05-03T03:05:11.316Z"
   },
   {
    "duration": 11,
    "start_time": "2022-05-03T03:05:11.362Z"
   },
   {
    "duration": 10,
    "start_time": "2022-05-03T03:05:11.374Z"
   },
   {
    "duration": 30,
    "start_time": "2022-05-03T03:05:11.386Z"
   },
   {
    "duration": 238,
    "start_time": "2022-05-03T03:05:11.417Z"
   },
   {
    "duration": 295,
    "start_time": "2022-05-03T03:05:11.657Z"
   },
   {
    "duration": 9,
    "start_time": "2022-05-03T03:05:11.954Z"
   },
   {
    "duration": 49,
    "start_time": "2022-05-03T03:05:11.964Z"
   },
   {
    "duration": 7,
    "start_time": "2022-05-03T03:05:12.014Z"
   },
   {
    "duration": 197,
    "start_time": "2022-05-03T03:05:12.022Z"
   },
   {
    "duration": 13,
    "start_time": "2022-05-03T03:05:12.220Z"
   },
   {
    "duration": 372,
    "start_time": "2022-05-03T03:05:12.235Z"
   },
   {
    "duration": 13,
    "start_time": "2022-05-03T03:05:12.609Z"
   },
   {
    "duration": 379,
    "start_time": "2022-05-03T03:05:12.623Z"
   },
   {
    "duration": 8,
    "start_time": "2022-05-03T03:05:13.004Z"
   },
   {
    "duration": 1369,
    "start_time": "2022-05-03T03:05:13.013Z"
   },
   {
    "duration": 10,
    "start_time": "2022-05-03T03:05:14.384Z"
   },
   {
    "duration": 29,
    "start_time": "2022-05-03T03:05:14.395Z"
   },
   {
    "duration": 53,
    "start_time": "2022-05-03T03:05:14.426Z"
   },
   {
    "duration": 24,
    "start_time": "2022-05-03T03:05:14.480Z"
   },
   {
    "duration": 866,
    "start_time": "2022-05-03T03:05:14.506Z"
   },
   {
    "duration": 1216,
    "start_time": "2022-05-03T03:06:04.668Z"
   },
   {
    "duration": 36,
    "start_time": "2022-05-03T03:06:05.886Z"
   },
   {
    "duration": 450,
    "start_time": "2022-05-03T03:06:05.924Z"
   },
   {
    "duration": 23,
    "start_time": "2022-05-03T03:06:06.376Z"
   },
   {
    "duration": 10,
    "start_time": "2022-05-03T03:06:06.400Z"
   },
   {
    "duration": 48,
    "start_time": "2022-05-03T03:06:06.411Z"
   },
   {
    "duration": 17,
    "start_time": "2022-05-03T03:06:06.461Z"
   },
   {
    "duration": 12,
    "start_time": "2022-05-03T03:06:06.480Z"
   },
   {
    "duration": 7,
    "start_time": "2022-05-03T03:06:06.493Z"
   },
   {
    "duration": 23,
    "start_time": "2022-05-03T03:06:06.502Z"
   },
   {
    "duration": 224,
    "start_time": "2022-05-03T03:06:06.548Z"
   },
   {
    "duration": 287,
    "start_time": "2022-05-03T03:06:06.774Z"
   },
   {
    "duration": 9,
    "start_time": "2022-05-03T03:06:07.063Z"
   },
   {
    "duration": 51,
    "start_time": "2022-05-03T03:06:07.074Z"
   },
   {
    "duration": 27,
    "start_time": "2022-05-03T03:06:07.126Z"
   },
   {
    "duration": 183,
    "start_time": "2022-05-03T03:06:07.154Z"
   },
   {
    "duration": 18,
    "start_time": "2022-05-03T03:06:07.338Z"
   },
   {
    "duration": 371,
    "start_time": "2022-05-03T03:06:07.358Z"
   },
   {
    "duration": 23,
    "start_time": "2022-05-03T03:06:07.731Z"
   },
   {
    "duration": 372,
    "start_time": "2022-05-03T03:06:07.756Z"
   },
   {
    "duration": 7,
    "start_time": "2022-05-03T03:06:08.130Z"
   },
   {
    "duration": 1350,
    "start_time": "2022-05-03T03:06:08.147Z"
   },
   {
    "duration": 9,
    "start_time": "2022-05-03T03:06:09.499Z"
   },
   {
    "duration": 45,
    "start_time": "2022-05-03T03:06:09.510Z"
   },
   {
    "duration": 32,
    "start_time": "2022-05-03T03:06:09.556Z"
   },
   {
    "duration": 23,
    "start_time": "2022-05-03T03:06:09.589Z"
   },
   {
    "duration": 819,
    "start_time": "2022-05-03T03:06:09.614Z"
   },
   {
    "duration": 1154,
    "start_time": "2022-05-03T03:17:41.135Z"
   },
   {
    "duration": 34,
    "start_time": "2022-05-03T03:17:42.291Z"
   },
   {
    "duration": 439,
    "start_time": "2022-05-03T03:17:42.326Z"
   },
   {
    "duration": 23,
    "start_time": "2022-05-03T03:17:42.767Z"
   },
   {
    "duration": 10,
    "start_time": "2022-05-03T03:17:42.791Z"
   },
   {
    "duration": 15,
    "start_time": "2022-05-03T03:17:42.802Z"
   },
   {
    "duration": 19,
    "start_time": "2022-05-03T03:17:42.847Z"
   },
   {
    "duration": 11,
    "start_time": "2022-05-03T03:17:42.867Z"
   },
   {
    "duration": 6,
    "start_time": "2022-05-03T03:17:42.880Z"
   },
   {
    "duration": 21,
    "start_time": "2022-05-03T03:17:42.889Z"
   },
   {
    "duration": 250,
    "start_time": "2022-05-03T03:17:42.911Z"
   },
   {
    "duration": 287,
    "start_time": "2022-05-03T03:17:43.163Z"
   },
   {
    "duration": 9,
    "start_time": "2022-05-03T03:17:43.452Z"
   },
   {
    "duration": 53,
    "start_time": "2022-05-03T03:17:43.463Z"
   },
   {
    "duration": 8,
    "start_time": "2022-05-03T03:17:43.517Z"
   },
   {
    "duration": 199,
    "start_time": "2022-05-03T03:17:43.526Z"
   },
   {
    "duration": 21,
    "start_time": "2022-05-03T03:17:43.726Z"
   },
   {
    "duration": 365,
    "start_time": "2022-05-03T03:17:43.749Z"
   },
   {
    "duration": 13,
    "start_time": "2022-05-03T03:17:44.115Z"
   },
   {
    "duration": 378,
    "start_time": "2022-05-03T03:17:44.130Z"
   },
   {
    "duration": 8,
    "start_time": "2022-05-03T03:17:44.509Z"
   },
   {
    "duration": 1364,
    "start_time": "2022-05-03T03:17:44.518Z"
   },
   {
    "duration": 10,
    "start_time": "2022-05-03T03:17:45.884Z"
   },
   {
    "duration": 28,
    "start_time": "2022-05-03T03:17:45.895Z"
   },
   {
    "duration": 52,
    "start_time": "2022-05-03T03:17:45.924Z"
   },
   {
    "duration": 21,
    "start_time": "2022-05-03T03:17:45.977Z"
   },
   {
    "duration": 423,
    "start_time": "2022-05-03T03:17:46.000Z"
   },
   {
    "duration": 1153,
    "start_time": "2022-05-03T03:31:34.152Z"
   },
   {
    "duration": 34,
    "start_time": "2022-05-03T03:31:35.307Z"
   },
   {
    "duration": 418,
    "start_time": "2022-05-03T03:31:35.343Z"
   },
   {
    "duration": 23,
    "start_time": "2022-05-03T03:31:35.763Z"
   },
   {
    "duration": 10,
    "start_time": "2022-05-03T03:31:35.787Z"
   },
   {
    "duration": 17,
    "start_time": "2022-05-03T03:31:35.798Z"
   },
   {
    "duration": 45,
    "start_time": "2022-05-03T03:31:35.817Z"
   },
   {
    "duration": 11,
    "start_time": "2022-05-03T03:31:35.864Z"
   },
   {
    "duration": 7,
    "start_time": "2022-05-03T03:31:35.876Z"
   },
   {
    "duration": 22,
    "start_time": "2022-05-03T03:31:35.885Z"
   },
   {
    "duration": 254,
    "start_time": "2022-05-03T03:31:35.909Z"
   },
   {
    "duration": 290,
    "start_time": "2022-05-03T03:31:36.165Z"
   },
   {
    "duration": 10,
    "start_time": "2022-05-03T03:31:36.457Z"
   },
   {
    "duration": 51,
    "start_time": "2022-05-03T03:31:36.469Z"
   },
   {
    "duration": 30,
    "start_time": "2022-05-03T03:31:36.522Z"
   },
   {
    "duration": 188,
    "start_time": "2022-05-03T03:31:36.554Z"
   },
   {
    "duration": 13,
    "start_time": "2022-05-03T03:31:36.744Z"
   },
   {
    "duration": 374,
    "start_time": "2022-05-03T03:31:36.759Z"
   },
   {
    "duration": 18,
    "start_time": "2022-05-03T03:31:37.135Z"
   },
   {
    "duration": 376,
    "start_time": "2022-05-03T03:31:37.155Z"
   },
   {
    "duration": 15,
    "start_time": "2022-05-03T03:31:37.533Z"
   },
   {
    "duration": 1342,
    "start_time": "2022-05-03T03:31:37.549Z"
   },
   {
    "duration": 10,
    "start_time": "2022-05-03T03:31:38.893Z"
   },
   {
    "duration": 48,
    "start_time": "2022-05-03T03:31:38.905Z"
   },
   {
    "duration": 31,
    "start_time": "2022-05-03T03:31:38.955Z"
   },
   {
    "duration": 23,
    "start_time": "2022-05-03T03:31:38.988Z"
   },
   {
    "duration": 441,
    "start_time": "2022-05-03T03:31:39.013Z"
   },
   {
    "duration": 10,
    "start_time": "2022-05-03T03:31:39.458Z"
   },
   {
    "duration": 6,
    "start_time": "2022-05-03T03:31:39.469Z"
   },
   {
    "duration": 10,
    "start_time": "2022-05-03T03:31:39.476Z"
   },
   {
    "duration": 6,
    "start_time": "2022-05-03T03:31:39.487Z"
   },
   {
    "duration": 1180,
    "start_time": "2022-05-03T03:42:32.025Z"
   },
   {
    "duration": 42,
    "start_time": "2022-05-03T03:42:33.208Z"
   },
   {
    "duration": 459,
    "start_time": "2022-05-03T03:42:33.252Z"
   },
   {
    "duration": 38,
    "start_time": "2022-05-03T03:42:33.713Z"
   },
   {
    "duration": 16,
    "start_time": "2022-05-03T03:42:33.753Z"
   },
   {
    "duration": 28,
    "start_time": "2022-05-03T03:42:33.771Z"
   },
   {
    "duration": 51,
    "start_time": "2022-05-03T03:42:33.801Z"
   },
   {
    "duration": 16,
    "start_time": "2022-05-03T03:42:33.854Z"
   },
   {
    "duration": 9,
    "start_time": "2022-05-03T03:42:33.872Z"
   },
   {
    "duration": 41,
    "start_time": "2022-05-03T03:42:33.883Z"
   },
   {
    "duration": 379,
    "start_time": "2022-05-03T03:42:33.947Z"
   },
   {
    "duration": 522,
    "start_time": "2022-05-03T03:42:34.328Z"
   },
   {
    "duration": 14,
    "start_time": "2022-05-03T03:42:34.852Z"
   },
   {
    "duration": 98,
    "start_time": "2022-05-03T03:42:34.870Z"
   },
   {
    "duration": 11,
    "start_time": "2022-05-03T03:42:34.970Z"
   },
   {
    "duration": 323,
    "start_time": "2022-05-03T03:42:34.983Z"
   },
   {
    "duration": 17,
    "start_time": "2022-05-03T03:42:35.309Z"
   },
   {
    "duration": 634,
    "start_time": "2022-05-03T03:42:35.328Z"
   },
   {
    "duration": 19,
    "start_time": "2022-05-03T03:42:35.965Z"
   },
   {
    "duration": 650,
    "start_time": "2022-05-03T03:42:35.986Z"
   },
   {
    "duration": 17,
    "start_time": "2022-05-03T03:42:36.638Z"
   },
   {
    "duration": 2290,
    "start_time": "2022-05-03T03:42:36.657Z"
   },
   {
    "duration": 15,
    "start_time": "2022-05-03T03:42:38.949Z"
   },
   {
    "duration": 47,
    "start_time": "2022-05-03T03:42:38.966Z"
   },
   {
    "duration": 78,
    "start_time": "2022-05-03T03:42:39.015Z"
   },
   {
    "duration": 60,
    "start_time": "2022-05-03T03:42:39.095Z"
   },
   {
    "duration": 712,
    "start_time": "2022-05-03T03:42:39.157Z"
   },
   {
    "duration": 14,
    "start_time": "2022-05-03T03:42:39.871Z"
   },
   {
    "duration": 6,
    "start_time": "2022-05-03T03:42:39.887Z"
   },
   {
    "duration": 14,
    "start_time": "2022-05-03T03:42:39.895Z"
   },
   {
    "duration": 7,
    "start_time": "2022-05-03T03:42:39.911Z"
   },
   {
    "duration": 1184,
    "start_time": "2022-05-03T03:55:00.435Z"
   },
   {
    "duration": 42,
    "start_time": "2022-05-03T03:55:01.621Z"
   },
   {
    "duration": 452,
    "start_time": "2022-05-03T03:55:01.665Z"
   },
   {
    "duration": 37,
    "start_time": "2022-05-03T03:55:02.119Z"
   },
   {
    "duration": 12,
    "start_time": "2022-05-03T03:55:02.157Z"
   },
   {
    "duration": 15,
    "start_time": "2022-05-03T03:55:02.171Z"
   },
   {
    "duration": 18,
    "start_time": "2022-05-03T03:55:02.188Z"
   },
   {
    "duration": 46,
    "start_time": "2022-05-03T03:55:02.208Z"
   },
   {
    "duration": 6,
    "start_time": "2022-05-03T03:55:02.256Z"
   },
   {
    "duration": 22,
    "start_time": "2022-05-03T03:55:02.265Z"
   },
   {
    "duration": 261,
    "start_time": "2022-05-03T03:55:02.289Z"
   },
   {
    "duration": 311,
    "start_time": "2022-05-03T03:55:02.552Z"
   },
   {
    "duration": 10,
    "start_time": "2022-05-03T03:55:02.865Z"
   },
   {
    "duration": 74,
    "start_time": "2022-05-03T03:55:02.876Z"
   },
   {
    "duration": 7,
    "start_time": "2022-05-03T03:55:02.952Z"
   },
   {
    "duration": 201,
    "start_time": "2022-05-03T03:55:02.961Z"
   },
   {
    "duration": 13,
    "start_time": "2022-05-03T03:55:03.164Z"
   },
   {
    "duration": 389,
    "start_time": "2022-05-03T03:55:03.178Z"
   },
   {
    "duration": 14,
    "start_time": "2022-05-03T03:55:03.568Z"
   },
   {
    "duration": 673,
    "start_time": "2022-05-03T03:55:03.584Z"
   },
   {
    "duration": 13,
    "start_time": "2022-05-03T03:55:04.259Z"
   },
   {
    "duration": 2421,
    "start_time": "2022-05-03T03:55:04.274Z"
   },
   {
    "duration": 16,
    "start_time": "2022-05-03T03:55:06.697Z"
   },
   {
    "duration": 66,
    "start_time": "2022-05-03T03:55:06.715Z"
   },
   {
    "duration": 72,
    "start_time": "2022-05-03T03:55:06.783Z"
   },
   {
    "duration": 40,
    "start_time": "2022-05-03T03:55:06.857Z"
   },
   {
    "duration": 713,
    "start_time": "2022-05-03T03:55:06.900Z"
   },
   {
    "duration": 68,
    "start_time": "2022-05-03T03:55:07.618Z"
   },
   {
    "duration": 60,
    "start_time": "2022-05-03T03:55:07.688Z"
   },
   {
    "duration": 39,
    "start_time": "2022-05-03T03:55:07.750Z"
   },
   {
    "duration": 13,
    "start_time": "2022-05-03T03:55:07.791Z"
   },
   {
    "duration": 6,
    "start_time": "2022-05-03T03:55:07.807Z"
   },
   {
    "duration": 44,
    "start_time": "2022-05-03T03:55:07.815Z"
   },
   {
    "duration": 7,
    "start_time": "2022-05-03T03:55:07.861Z"
   },
   {
    "duration": 1338,
    "start_time": "2022-05-03T04:00:01.946Z"
   },
   {
    "duration": 40,
    "start_time": "2022-05-03T04:00:03.286Z"
   },
   {
    "duration": 435,
    "start_time": "2022-05-03T04:00:03.327Z"
   },
   {
    "duration": 26,
    "start_time": "2022-05-03T04:00:03.764Z"
   },
   {
    "duration": 12,
    "start_time": "2022-05-03T04:00:03.792Z"
   },
   {
    "duration": 45,
    "start_time": "2022-05-03T04:00:03.806Z"
   },
   {
    "duration": 19,
    "start_time": "2022-05-03T04:00:03.853Z"
   },
   {
    "duration": 13,
    "start_time": "2022-05-03T04:00:03.874Z"
   },
   {
    "duration": 12,
    "start_time": "2022-05-03T04:00:03.889Z"
   },
   {
    "duration": 51,
    "start_time": "2022-05-03T04:00:03.903Z"
   },
   {
    "duration": 235,
    "start_time": "2022-05-03T04:00:03.955Z"
   },
   {
    "duration": 303,
    "start_time": "2022-05-03T04:00:04.191Z"
   },
   {
    "duration": 12,
    "start_time": "2022-05-03T04:00:04.496Z"
   },
   {
    "duration": 70,
    "start_time": "2022-05-03T04:00:04.509Z"
   },
   {
    "duration": 9,
    "start_time": "2022-05-03T04:00:04.581Z"
   },
   {
    "duration": 197,
    "start_time": "2022-05-03T04:00:04.592Z"
   },
   {
    "duration": 14,
    "start_time": "2022-05-03T04:00:04.791Z"
   },
   {
    "duration": 385,
    "start_time": "2022-05-03T04:00:04.807Z"
   },
   {
    "duration": 14,
    "start_time": "2022-05-03T04:00:05.194Z"
   },
   {
    "duration": 398,
    "start_time": "2022-05-03T04:00:05.209Z"
   },
   {
    "duration": 8,
    "start_time": "2022-05-03T04:00:05.609Z"
   },
   {
    "duration": 1450,
    "start_time": "2022-05-03T04:00:05.619Z"
   },
   {
    "duration": 11,
    "start_time": "2022-05-03T04:00:07.070Z"
   },
   {
    "duration": 34,
    "start_time": "2022-05-03T04:00:07.083Z"
   },
   {
    "duration": 57,
    "start_time": "2022-05-03T04:00:07.119Z"
   },
   {
    "duration": 28,
    "start_time": "2022-05-03T04:00:07.178Z"
   },
   {
    "duration": 468,
    "start_time": "2022-05-03T04:00:07.208Z"
   },
   {
    "duration": 39,
    "start_time": "2022-05-03T04:00:07.681Z"
   },
   {
    "duration": 46,
    "start_time": "2022-05-03T04:00:07.722Z"
   },
   {
    "duration": 25,
    "start_time": "2022-05-03T04:00:07.770Z"
   },
   {
    "duration": 11,
    "start_time": "2022-05-03T04:00:07.796Z"
   },
   {
    "duration": 40,
    "start_time": "2022-05-03T04:00:07.808Z"
   },
   {
    "duration": 13,
    "start_time": "2022-05-03T04:00:07.850Z"
   },
   {
    "duration": 5,
    "start_time": "2022-05-03T04:00:07.865Z"
   },
   {
    "duration": 1235,
    "start_time": "2022-05-03T04:03:14.015Z"
   },
   {
    "duration": 38,
    "start_time": "2022-05-03T04:03:15.252Z"
   },
   {
    "duration": 458,
    "start_time": "2022-05-03T04:03:15.292Z"
   },
   {
    "duration": 27,
    "start_time": "2022-05-03T04:03:15.752Z"
   },
   {
    "duration": 12,
    "start_time": "2022-05-03T04:03:15.781Z"
   },
   {
    "duration": 18,
    "start_time": "2022-05-03T04:03:15.794Z"
   },
   {
    "duration": 51,
    "start_time": "2022-05-03T04:03:15.813Z"
   },
   {
    "duration": 12,
    "start_time": "2022-05-03T04:03:15.866Z"
   },
   {
    "duration": 7,
    "start_time": "2022-05-03T04:03:15.879Z"
   },
   {
    "duration": 23,
    "start_time": "2022-05-03T04:03:15.890Z"
   },
   {
    "duration": 247,
    "start_time": "2022-05-03T04:03:15.947Z"
   },
   {
    "duration": 311,
    "start_time": "2022-05-03T04:03:16.196Z"
   },
   {
    "duration": 12,
    "start_time": "2022-05-03T04:03:16.509Z"
   },
   {
    "duration": 76,
    "start_time": "2022-05-03T04:03:16.523Z"
   },
   {
    "duration": 8,
    "start_time": "2022-05-03T04:03:16.601Z"
   },
   {
    "duration": 195,
    "start_time": "2022-05-03T04:03:16.611Z"
   },
   {
    "duration": 13,
    "start_time": "2022-05-03T04:03:16.807Z"
   },
   {
    "duration": 387,
    "start_time": "2022-05-03T04:03:16.822Z"
   },
   {
    "duration": 13,
    "start_time": "2022-05-03T04:03:17.211Z"
   },
   {
    "duration": 397,
    "start_time": "2022-05-03T04:03:17.226Z"
   },
   {
    "duration": 9,
    "start_time": "2022-05-03T04:03:17.625Z"
   },
   {
    "duration": 1462,
    "start_time": "2022-05-03T04:03:17.635Z"
   },
   {
    "duration": 12,
    "start_time": "2022-05-03T04:03:19.098Z"
   },
   {
    "duration": 59,
    "start_time": "2022-05-03T04:03:19.111Z"
   },
   {
    "duration": 33,
    "start_time": "2022-05-03T04:03:19.172Z"
   },
   {
    "duration": 46,
    "start_time": "2022-05-03T04:03:19.207Z"
   },
   {
    "duration": 424,
    "start_time": "2022-05-03T04:03:19.255Z"
   },
   {
    "duration": 33,
    "start_time": "2022-05-03T04:03:19.682Z"
   },
   {
    "duration": 43,
    "start_time": "2022-05-03T04:03:19.717Z"
   },
   {
    "duration": 20,
    "start_time": "2022-05-03T04:03:19.762Z"
   },
   {
    "duration": 9,
    "start_time": "2022-05-03T04:03:19.783Z"
   },
   {
    "duration": 6,
    "start_time": "2022-05-03T04:03:19.793Z"
   },
   {
    "duration": 14,
    "start_time": "2022-05-03T04:03:19.801Z"
   },
   {
    "duration": 6,
    "start_time": "2022-05-03T04:03:19.847Z"
   },
   {
    "duration": 1179,
    "start_time": "2022-05-03T04:09:37.365Z"
   },
   {
    "duration": 37,
    "start_time": "2022-05-03T04:09:38.546Z"
   },
   {
    "duration": 453,
    "start_time": "2022-05-03T04:09:38.585Z"
   },
   {
    "duration": 27,
    "start_time": "2022-05-03T04:09:39.047Z"
   },
   {
    "duration": 17,
    "start_time": "2022-05-03T04:09:39.076Z"
   },
   {
    "duration": 23,
    "start_time": "2022-05-03T04:09:39.095Z"
   },
   {
    "duration": 19,
    "start_time": "2022-05-03T04:09:39.149Z"
   },
   {
    "duration": 14,
    "start_time": "2022-05-03T04:09:39.170Z"
   },
   {
    "duration": 6,
    "start_time": "2022-05-03T04:09:39.186Z"
   },
   {
    "duration": 23,
    "start_time": "2022-05-03T04:09:39.195Z"
   },
   {
    "duration": 269,
    "start_time": "2022-05-03T04:09:39.219Z"
   },
   {
    "duration": 307,
    "start_time": "2022-05-03T04:09:39.489Z"
   },
   {
    "duration": 10,
    "start_time": "2022-05-03T04:09:39.798Z"
   },
   {
    "duration": 66,
    "start_time": "2022-05-03T04:09:39.810Z"
   },
   {
    "duration": 8,
    "start_time": "2022-05-03T04:09:39.878Z"
   },
   {
    "duration": 198,
    "start_time": "2022-05-03T04:09:39.887Z"
   },
   {
    "duration": 13,
    "start_time": "2022-05-03T04:09:40.087Z"
   },
   {
    "duration": 392,
    "start_time": "2022-05-03T04:09:40.102Z"
   },
   {
    "duration": 13,
    "start_time": "2022-05-03T04:09:40.495Z"
   },
   {
    "duration": 386,
    "start_time": "2022-05-03T04:09:40.509Z"
   },
   {
    "duration": 8,
    "start_time": "2022-05-03T04:09:40.897Z"
   },
   {
    "duration": 1480,
    "start_time": "2022-05-03T04:09:40.906Z"
   },
   {
    "duration": 14,
    "start_time": "2022-05-03T04:09:42.388Z"
   },
   {
    "duration": 53,
    "start_time": "2022-05-03T04:09:42.404Z"
   },
   {
    "duration": 32,
    "start_time": "2022-05-03T04:09:42.459Z"
   },
   {
    "duration": 24,
    "start_time": "2022-05-03T04:09:42.493Z"
   },
   {
    "duration": 465,
    "start_time": "2022-05-03T04:09:42.519Z"
   },
   {
    "duration": 31,
    "start_time": "2022-05-03T04:09:42.987Z"
   },
   {
    "duration": 42,
    "start_time": "2022-05-03T04:09:43.020Z"
   },
   {
    "duration": 23,
    "start_time": "2022-05-03T04:09:43.064Z"
   },
   {
    "duration": 11,
    "start_time": "2022-05-03T04:09:43.088Z"
   },
   {
    "duration": 6,
    "start_time": "2022-05-03T04:09:43.101Z"
   },
   {
    "duration": 45,
    "start_time": "2022-05-03T04:09:43.109Z"
   },
   {
    "duration": 5,
    "start_time": "2022-05-03T04:09:43.156Z"
   },
   {
    "duration": 1932,
    "start_time": "2022-05-06T08:59:18.753Z"
   },
   {
    "duration": 63,
    "start_time": "2022-05-06T08:59:20.687Z"
   },
   {
    "duration": 761,
    "start_time": "2022-05-06T08:59:20.752Z"
   },
   {
    "duration": 66,
    "start_time": "2022-05-06T08:59:21.515Z"
   },
   {
    "duration": 22,
    "start_time": "2022-05-06T08:59:21.585Z"
   },
   {
    "duration": 27,
    "start_time": "2022-05-06T08:59:21.609Z"
   },
   {
    "duration": 54,
    "start_time": "2022-05-06T08:59:21.639Z"
   },
   {
    "duration": 25,
    "start_time": "2022-05-06T08:59:21.697Z"
   },
   {
    "duration": 11,
    "start_time": "2022-05-06T08:59:21.725Z"
   },
   {
    "duration": 54,
    "start_time": "2022-05-06T08:59:21.738Z"
   },
   {
    "duration": 374,
    "start_time": "2022-05-06T08:59:21.795Z"
   },
   {
    "duration": 533,
    "start_time": "2022-05-06T08:59:22.176Z"
   },
   {
    "duration": 17,
    "start_time": "2022-05-06T08:59:22.711Z"
   },
   {
    "duration": 110,
    "start_time": "2022-05-06T08:59:22.732Z"
   },
   {
    "duration": 11,
    "start_time": "2022-05-06T08:59:22.844Z"
   },
   {
    "duration": 315,
    "start_time": "2022-05-06T08:59:22.858Z"
   },
   {
    "duration": 25,
    "start_time": "2022-05-06T08:59:23.175Z"
   },
   {
    "duration": 636,
    "start_time": "2022-05-06T08:59:23.203Z"
   },
   {
    "duration": 37,
    "start_time": "2022-05-06T08:59:23.841Z"
   },
   {
    "duration": 625,
    "start_time": "2022-05-06T08:59:23.882Z"
   },
   {
    "duration": 12,
    "start_time": "2022-05-06T08:59:24.510Z"
   },
   {
    "duration": 2366,
    "start_time": "2022-05-06T08:59:24.524Z"
   },
   {
    "duration": 17,
    "start_time": "2022-05-06T08:59:26.893Z"
   },
   {
    "duration": 74,
    "start_time": "2022-05-06T08:59:26.912Z"
   },
   {
    "duration": 50,
    "start_time": "2022-05-06T08:59:26.988Z"
   },
   {
    "duration": 68,
    "start_time": "2022-05-06T08:59:27.040Z"
   },
   {
    "duration": 681,
    "start_time": "2022-05-06T08:59:27.110Z"
   },
   {
    "duration": 48,
    "start_time": "2022-05-06T08:59:27.793Z"
   },
   {
    "duration": 72,
    "start_time": "2022-05-06T08:59:27.843Z"
   },
   {
    "duration": 61,
    "start_time": "2022-05-06T08:59:27.920Z"
   },
   {
    "duration": 18,
    "start_time": "2022-05-06T08:59:27.983Z"
   },
   {
    "duration": 15,
    "start_time": "2022-05-06T08:59:28.003Z"
   },
   {
    "duration": 17,
    "start_time": "2022-05-06T08:59:28.021Z"
   },
   {
    "duration": 9,
    "start_time": "2022-05-06T08:59:28.040Z"
   },
   {
    "duration": 1898,
    "start_time": "2022-05-06T10:57:29.495Z"
   },
   {
    "duration": 56,
    "start_time": "2022-05-06T10:57:31.396Z"
   },
   {
    "duration": 686,
    "start_time": "2022-05-06T10:57:31.454Z"
   },
   {
    "duration": 56,
    "start_time": "2022-05-06T10:57:32.142Z"
   },
   {
    "duration": 15,
    "start_time": "2022-05-06T10:57:32.201Z"
   },
   {
    "duration": 23,
    "start_time": "2022-05-06T10:57:32.218Z"
   },
   {
    "duration": 61,
    "start_time": "2022-05-06T10:57:32.244Z"
   },
   {
    "duration": 22,
    "start_time": "2022-05-06T10:57:32.307Z"
   },
   {
    "duration": 15,
    "start_time": "2022-05-06T10:57:32.333Z"
   },
   {
    "duration": 74,
    "start_time": "2022-05-06T10:57:32.351Z"
   },
   {
    "duration": 606,
    "start_time": "2022-05-06T10:57:32.427Z"
   },
   {
    "duration": 860,
    "start_time": "2022-05-06T10:57:33.036Z"
   },
   {
    "duration": 22,
    "start_time": "2022-05-06T10:57:33.899Z"
   },
   {
    "duration": 159,
    "start_time": "2022-05-06T10:57:33.928Z"
   },
   {
    "duration": 14,
    "start_time": "2022-05-06T10:57:34.092Z"
   },
   {
    "duration": 520,
    "start_time": "2022-05-06T10:57:34.109Z"
   },
   {
    "duration": 24,
    "start_time": "2022-05-06T10:57:34.632Z"
   },
   {
    "duration": 1056,
    "start_time": "2022-05-06T10:57:34.659Z"
   },
   {
    "duration": 25,
    "start_time": "2022-05-06T10:57:35.718Z"
   },
   {
    "duration": 686,
    "start_time": "2022-05-06T10:57:35.745Z"
   },
   {
    "duration": 13,
    "start_time": "2022-05-06T10:57:36.433Z"
   },
   {
    "duration": 2887,
    "start_time": "2022-05-06T10:57:36.448Z"
   },
   {
    "duration": 22,
    "start_time": "2022-05-06T10:57:39.338Z"
   },
   {
    "duration": 96,
    "start_time": "2022-05-06T10:57:39.363Z"
   },
   {
    "duration": 69,
    "start_time": "2022-05-06T10:57:39.462Z"
   },
   {
    "duration": 71,
    "start_time": "2022-05-06T10:57:39.533Z"
   },
   {
    "duration": 782,
    "start_time": "2022-05-06T10:57:39.606Z"
   },
   {
    "duration": 171,
    "start_time": "2022-05-06T10:57:40.391Z"
   },
   {
    "duration": 0,
    "start_time": "2022-05-06T10:57:40.564Z"
   },
   {
    "duration": 0,
    "start_time": "2022-05-06T10:57:40.566Z"
   },
   {
    "duration": 0,
    "start_time": "2022-05-06T10:57:40.567Z"
   },
   {
    "duration": 0,
    "start_time": "2022-05-06T10:57:40.569Z"
   },
   {
    "duration": 0,
    "start_time": "2022-05-06T10:57:40.571Z"
   },
   {
    "duration": 0,
    "start_time": "2022-05-06T10:57:40.572Z"
   },
   {
    "duration": 1505,
    "start_time": "2022-05-06T11:05:15.341Z"
   },
   {
    "duration": 63,
    "start_time": "2022-05-06T11:05:16.849Z"
   },
   {
    "duration": 643,
    "start_time": "2022-05-06T11:05:16.915Z"
   },
   {
    "duration": 50,
    "start_time": "2022-05-06T11:05:17.560Z"
   },
   {
    "duration": 15,
    "start_time": "2022-05-06T11:05:17.613Z"
   },
   {
    "duration": 25,
    "start_time": "2022-05-06T11:05:17.630Z"
   },
   {
    "duration": 61,
    "start_time": "2022-05-06T11:05:17.657Z"
   },
   {
    "duration": 15,
    "start_time": "2022-05-06T11:05:17.720Z"
   },
   {
    "duration": 15,
    "start_time": "2022-05-06T11:05:17.737Z"
   },
   {
    "duration": 65,
    "start_time": "2022-05-06T11:05:17.755Z"
   },
   {
    "duration": 420,
    "start_time": "2022-05-06T11:05:17.822Z"
   },
   {
    "duration": 511,
    "start_time": "2022-05-06T11:05:18.244Z"
   },
   {
    "duration": 16,
    "start_time": "2022-05-06T11:05:18.757Z"
   },
   {
    "duration": 84,
    "start_time": "2022-05-06T11:05:18.795Z"
   },
   {
    "duration": 11,
    "start_time": "2022-05-06T11:05:18.893Z"
   },
   {
    "duration": 339,
    "start_time": "2022-05-06T11:05:18.906Z"
   },
   {
    "duration": 18,
    "start_time": "2022-05-06T11:05:19.247Z"
   },
   {
    "duration": 673,
    "start_time": "2022-05-06T11:05:19.268Z"
   },
   {
    "duration": 18,
    "start_time": "2022-05-06T11:05:19.944Z"
   },
   {
    "duration": 741,
    "start_time": "2022-05-06T11:05:19.964Z"
   },
   {
    "duration": 13,
    "start_time": "2022-05-06T11:05:20.708Z"
   },
   {
    "duration": 2717,
    "start_time": "2022-05-06T11:05:20.723Z"
   },
   {
    "duration": 53,
    "start_time": "2022-05-06T11:05:23.443Z"
   },
   {
    "duration": 51,
    "start_time": "2022-05-06T11:05:23.499Z"
   },
   {
    "duration": 74,
    "start_time": "2022-05-06T11:05:23.552Z"
   },
   {
    "duration": 36,
    "start_time": "2022-05-06T11:05:23.628Z"
   },
   {
    "duration": 718,
    "start_time": "2022-05-06T11:05:23.692Z"
   },
   {
    "duration": 47,
    "start_time": "2022-05-06T11:05:24.413Z"
   },
   {
    "duration": 65,
    "start_time": "2022-05-06T11:05:24.463Z"
   },
   {
    "duration": 66,
    "start_time": "2022-05-06T11:05:24.530Z"
   },
   {
    "duration": 15,
    "start_time": "2022-05-06T11:05:24.599Z"
   },
   {
    "duration": 9,
    "start_time": "2022-05-06T11:05:24.616Z"
   },
   {
    "duration": 16,
    "start_time": "2022-05-06T11:05:24.627Z"
   },
   {
    "duration": 50,
    "start_time": "2022-05-06T11:05:24.646Z"
   },
   {
    "duration": 1628,
    "start_time": "2022-05-06T11:10:58.918Z"
   },
   {
    "duration": 74,
    "start_time": "2022-05-06T11:11:00.549Z"
   },
   {
    "duration": 701,
    "start_time": "2022-05-06T11:11:00.626Z"
   },
   {
    "duration": 64,
    "start_time": "2022-05-06T11:11:01.329Z"
   },
   {
    "duration": 16,
    "start_time": "2022-05-06T11:11:01.397Z"
   },
   {
    "duration": 28,
    "start_time": "2022-05-06T11:11:01.416Z"
   },
   {
    "duration": 58,
    "start_time": "2022-05-06T11:11:01.446Z"
   },
   {
    "duration": 45,
    "start_time": "2022-05-06T11:11:01.507Z"
   },
   {
    "duration": 19,
    "start_time": "2022-05-06T11:11:01.555Z"
   },
   {
    "duration": 52,
    "start_time": "2022-05-06T11:11:01.577Z"
   },
   {
    "duration": 428,
    "start_time": "2022-05-06T11:11:01.632Z"
   },
   {
    "duration": 771,
    "start_time": "2022-05-06T11:11:02.062Z"
   },
   {
    "duration": 20,
    "start_time": "2022-05-06T11:11:02.835Z"
   },
   {
    "duration": 159,
    "start_time": "2022-05-06T11:11:02.862Z"
   },
   {
    "duration": 13,
    "start_time": "2022-05-06T11:11:03.024Z"
   },
   {
    "duration": 508,
    "start_time": "2022-05-06T11:11:03.040Z"
   },
   {
    "duration": 25,
    "start_time": "2022-05-06T11:11:03.551Z"
   },
   {
    "duration": 709,
    "start_time": "2022-05-06T11:11:03.595Z"
   },
   {
    "duration": 20,
    "start_time": "2022-05-06T11:11:04.306Z"
   },
   {
    "duration": 748,
    "start_time": "2022-05-06T11:11:04.329Z"
   },
   {
    "duration": 20,
    "start_time": "2022-05-06T11:11:05.080Z"
   },
   {
    "duration": 2522,
    "start_time": "2022-05-06T11:11:05.103Z"
   },
   {
    "duration": 27,
    "start_time": "2022-05-06T11:11:07.628Z"
   },
   {
    "duration": 78,
    "start_time": "2022-05-06T11:11:07.658Z"
   },
   {
    "duration": 73,
    "start_time": "2022-05-06T11:11:07.739Z"
   },
   {
    "duration": 43,
    "start_time": "2022-05-06T11:11:07.814Z"
   },
   {
    "duration": 777,
    "start_time": "2022-05-06T11:11:07.860Z"
   },
   {
    "duration": 63,
    "start_time": "2022-05-06T11:11:08.639Z"
   },
   {
    "duration": 35,
    "start_time": "2022-05-06T11:11:08.705Z"
   },
   {
    "duration": 64,
    "start_time": "2022-05-06T11:11:08.742Z"
   },
   {
    "duration": 15,
    "start_time": "2022-05-06T11:11:08.808Z"
   },
   {
    "duration": 10,
    "start_time": "2022-05-06T11:11:08.825Z"
   },
   {
    "duration": 65,
    "start_time": "2022-05-06T11:11:08.838Z"
   },
   {
    "duration": 10,
    "start_time": "2022-05-06T11:11:08.906Z"
   },
   {
    "duration": 1582,
    "start_time": "2022-05-06T11:18:33.010Z"
   },
   {
    "duration": 55,
    "start_time": "2022-05-06T11:18:34.595Z"
   },
   {
    "duration": 711,
    "start_time": "2022-05-06T11:18:34.652Z"
   },
   {
    "duration": 47,
    "start_time": "2022-05-06T11:18:35.367Z"
   },
   {
    "duration": 14,
    "start_time": "2022-05-06T11:18:35.416Z"
   },
   {
    "duration": 28,
    "start_time": "2022-05-06T11:18:35.432Z"
   },
   {
    "duration": 55,
    "start_time": "2022-05-06T11:18:35.462Z"
   },
   {
    "duration": 18,
    "start_time": "2022-05-06T11:18:35.520Z"
   },
   {
    "duration": 11,
    "start_time": "2022-05-06T11:18:35.540Z"
   },
   {
    "duration": 75,
    "start_time": "2022-05-06T11:18:35.556Z"
   },
   {
    "duration": 450,
    "start_time": "2022-05-06T11:18:35.633Z"
   },
   {
    "duration": 537,
    "start_time": "2022-05-06T11:18:36.093Z"
   },
   {
    "duration": 15,
    "start_time": "2022-05-06T11:18:36.633Z"
   },
   {
    "duration": 109,
    "start_time": "2022-05-06T11:18:36.650Z"
   },
   {
    "duration": 11,
    "start_time": "2022-05-06T11:18:36.762Z"
   },
   {
    "duration": 351,
    "start_time": "2022-05-06T11:18:36.775Z"
   },
   {
    "duration": 16,
    "start_time": "2022-05-06T11:18:37.128Z"
   },
   {
    "duration": 650,
    "start_time": "2022-05-06T11:18:37.147Z"
   },
   {
    "duration": 17,
    "start_time": "2022-05-06T11:18:37.799Z"
   },
   {
    "duration": 677,
    "start_time": "2022-05-06T11:18:37.818Z"
   },
   {
    "duration": 12,
    "start_time": "2022-05-06T11:18:38.497Z"
   },
   {
    "duration": 2354,
    "start_time": "2022-05-06T11:18:38.511Z"
   },
   {
    "duration": 40,
    "start_time": "2022-05-06T11:18:40.867Z"
   },
   {
    "duration": 46,
    "start_time": "2022-05-06T11:18:40.910Z"
   },
   {
    "duration": 74,
    "start_time": "2022-05-06T11:18:40.958Z"
   },
   {
    "duration": 60,
    "start_time": "2022-05-06T11:18:41.034Z"
   },
   {
    "duration": 691,
    "start_time": "2022-05-06T11:18:41.096Z"
   },
   {
    "duration": 46,
    "start_time": "2022-05-06T11:18:41.796Z"
   },
   {
    "duration": 61,
    "start_time": "2022-05-06T11:18:41.844Z"
   },
   {
    "duration": 34,
    "start_time": "2022-05-06T11:18:41.907Z"
   },
   {
    "duration": 14,
    "start_time": "2022-05-06T11:18:41.943Z"
   },
   {
    "duration": 8,
    "start_time": "2022-05-06T11:18:41.993Z"
   },
   {
    "duration": 17,
    "start_time": "2022-05-06T11:18:42.003Z"
   },
   {
    "duration": 7,
    "start_time": "2022-05-06T11:18:42.022Z"
   },
   {
    "duration": 2250,
    "start_time": "2022-05-06T11:35:17.871Z"
   },
   {
    "duration": 70,
    "start_time": "2022-05-06T11:35:20.125Z"
   },
   {
    "duration": 974,
    "start_time": "2022-05-06T11:35:20.198Z"
   },
   {
    "duration": 72,
    "start_time": "2022-05-06T11:35:21.176Z"
   },
   {
    "duration": 15,
    "start_time": "2022-05-06T11:35:21.251Z"
   },
   {
    "duration": 57,
    "start_time": "2022-05-06T11:35:21.268Z"
   },
   {
    "duration": 42,
    "start_time": "2022-05-06T11:35:21.328Z"
   },
   {
    "duration": 23,
    "start_time": "2022-05-06T11:35:21.393Z"
   },
   {
    "duration": 15,
    "start_time": "2022-05-06T11:35:21.419Z"
   },
   {
    "duration": 100,
    "start_time": "2022-05-06T11:35:21.441Z"
   },
   {
    "duration": 511,
    "start_time": "2022-05-06T11:35:21.544Z"
   },
   {
    "duration": 564,
    "start_time": "2022-05-06T11:35:22.058Z"
   },
   {
    "duration": 19,
    "start_time": "2022-05-06T11:35:22.625Z"
   },
   {
    "duration": 156,
    "start_time": "2022-05-06T11:35:22.647Z"
   },
   {
    "duration": 16,
    "start_time": "2022-05-06T11:35:22.806Z"
   },
   {
    "duration": 463,
    "start_time": "2022-05-06T11:35:22.825Z"
   },
   {
    "duration": 20,
    "start_time": "2022-05-06T11:35:23.294Z"
   },
   {
    "duration": 860,
    "start_time": "2022-05-06T11:35:23.317Z"
   },
   {
    "duration": 44,
    "start_time": "2022-05-06T11:35:24.179Z"
   },
   {
    "duration": 723,
    "start_time": "2022-05-06T11:35:24.225Z"
   },
   {
    "duration": 16,
    "start_time": "2022-05-06T11:35:24.951Z"
   },
   {
    "duration": 3236,
    "start_time": "2022-05-06T11:35:24.969Z"
   },
   {
    "duration": 752,
    "start_time": "2022-05-06T11:35:28.208Z"
   },
   {
    "duration": 0,
    "start_time": "2022-05-06T11:35:28.964Z"
   },
   {
    "duration": 0,
    "start_time": "2022-05-06T11:35:28.967Z"
   },
   {
    "duration": 0,
    "start_time": "2022-05-06T11:35:28.969Z"
   },
   {
    "duration": 0,
    "start_time": "2022-05-06T11:35:28.972Z"
   },
   {
    "duration": 0,
    "start_time": "2022-05-06T11:35:28.975Z"
   },
   {
    "duration": 0,
    "start_time": "2022-05-06T11:35:28.977Z"
   },
   {
    "duration": 0,
    "start_time": "2022-05-06T11:35:28.979Z"
   },
   {
    "duration": 0,
    "start_time": "2022-05-06T11:35:28.981Z"
   },
   {
    "duration": 1,
    "start_time": "2022-05-06T11:35:28.983Z"
   },
   {
    "duration": 0,
    "start_time": "2022-05-06T11:35:28.986Z"
   },
   {
    "duration": 0,
    "start_time": "2022-05-06T11:35:28.988Z"
   },
   {
    "duration": 3299,
    "start_time": "2022-05-06T11:45:33.455Z"
   },
   {
    "duration": 73,
    "start_time": "2022-05-06T11:45:36.758Z"
   },
   {
    "duration": 704,
    "start_time": "2022-05-06T11:45:36.833Z"
   },
   {
    "duration": 60,
    "start_time": "2022-05-06T11:45:37.540Z"
   },
   {
    "duration": 14,
    "start_time": "2022-05-06T11:45:37.604Z"
   },
   {
    "duration": 25,
    "start_time": "2022-05-06T11:45:37.620Z"
   },
   {
    "duration": 61,
    "start_time": "2022-05-06T11:45:37.647Z"
   },
   {
    "duration": 16,
    "start_time": "2022-05-06T11:45:37.711Z"
   },
   {
    "duration": 14,
    "start_time": "2022-05-06T11:45:37.729Z"
   },
   {
    "duration": 69,
    "start_time": "2022-05-06T11:45:37.746Z"
   },
   {
    "duration": 415,
    "start_time": "2022-05-06T11:45:37.817Z"
   },
   {
    "duration": 552,
    "start_time": "2022-05-06T11:45:38.234Z"
   },
   {
    "duration": 15,
    "start_time": "2022-05-06T11:45:38.788Z"
   },
   {
    "duration": 135,
    "start_time": "2022-05-06T11:45:38.810Z"
   },
   {
    "duration": 12,
    "start_time": "2022-05-06T11:45:38.948Z"
   },
   {
    "duration": 355,
    "start_time": "2022-05-06T11:45:38.962Z"
   },
   {
    "duration": 17,
    "start_time": "2022-05-06T11:45:39.320Z"
   },
   {
    "duration": 680,
    "start_time": "2022-05-06T11:45:39.340Z"
   },
   {
    "duration": 20,
    "start_time": "2022-05-06T11:45:40.023Z"
   },
   {
    "duration": 705,
    "start_time": "2022-05-06T11:45:40.046Z"
   },
   {
    "duration": 12,
    "start_time": "2022-05-06T11:45:40.754Z"
   },
   {
    "duration": 2452,
    "start_time": "2022-05-06T11:45:40.768Z"
   },
   {
    "duration": 186,
    "start_time": "2022-05-06T11:45:43.223Z"
   },
   {
    "duration": 0,
    "start_time": "2022-05-06T11:45:43.412Z"
   },
   {
    "duration": 0,
    "start_time": "2022-05-06T11:45:43.414Z"
   },
   {
    "duration": 0,
    "start_time": "2022-05-06T11:45:43.416Z"
   },
   {
    "duration": 0,
    "start_time": "2022-05-06T11:45:43.418Z"
   },
   {
    "duration": 0,
    "start_time": "2022-05-06T11:45:43.419Z"
   },
   {
    "duration": 0,
    "start_time": "2022-05-06T11:45:43.422Z"
   },
   {
    "duration": 0,
    "start_time": "2022-05-06T11:45:43.424Z"
   },
   {
    "duration": 0,
    "start_time": "2022-05-06T11:45:43.425Z"
   },
   {
    "duration": 0,
    "start_time": "2022-05-06T11:45:43.427Z"
   },
   {
    "duration": 0,
    "start_time": "2022-05-06T11:45:43.429Z"
   },
   {
    "duration": 0,
    "start_time": "2022-05-06T11:45:43.430Z"
   },
   {
    "duration": 1703,
    "start_time": "2022-05-06T11:48:13.687Z"
   },
   {
    "duration": 58,
    "start_time": "2022-05-06T11:48:15.394Z"
   },
   {
    "duration": 701,
    "start_time": "2022-05-06T11:48:15.454Z"
   },
   {
    "duration": 54,
    "start_time": "2022-05-06T11:48:16.157Z"
   },
   {
    "duration": 14,
    "start_time": "2022-05-06T11:48:16.214Z"
   },
   {
    "duration": 31,
    "start_time": "2022-05-06T11:48:16.230Z"
   },
   {
    "duration": 57,
    "start_time": "2022-05-06T11:48:16.263Z"
   },
   {
    "duration": 21,
    "start_time": "2022-05-06T11:48:16.322Z"
   },
   {
    "duration": 10,
    "start_time": "2022-05-06T11:48:16.345Z"
   },
   {
    "duration": 66,
    "start_time": "2022-05-06T11:48:16.358Z"
   },
   {
    "duration": 425,
    "start_time": "2022-05-06T11:48:16.427Z"
   },
   {
    "duration": 526,
    "start_time": "2022-05-06T11:48:16.855Z"
   },
   {
    "duration": 21,
    "start_time": "2022-05-06T11:48:17.383Z"
   },
   {
    "duration": 218,
    "start_time": "2022-05-06T11:48:17.410Z"
   },
   {
    "duration": 14,
    "start_time": "2022-05-06T11:48:17.632Z"
   },
   {
    "duration": 531,
    "start_time": "2022-05-06T11:48:17.649Z"
   },
   {
    "duration": 29,
    "start_time": "2022-05-06T11:48:18.183Z"
   },
   {
    "duration": 684,
    "start_time": "2022-05-06T11:48:18.216Z"
   },
   {
    "duration": 20,
    "start_time": "2022-05-06T11:48:18.903Z"
   },
   {
    "duration": 711,
    "start_time": "2022-05-06T11:48:18.925Z"
   },
   {
    "duration": 13,
    "start_time": "2022-05-06T11:48:19.638Z"
   },
   {
    "duration": 2442,
    "start_time": "2022-05-06T11:48:19.653Z"
   },
   {
    "duration": 34,
    "start_time": "2022-05-06T11:48:22.097Z"
   },
   {
    "duration": 71,
    "start_time": "2022-05-06T11:48:22.134Z"
   },
   {
    "duration": 47,
    "start_time": "2022-05-06T11:48:22.207Z"
   },
   {
    "duration": 60,
    "start_time": "2022-05-06T11:48:22.256Z"
   },
   {
    "duration": 483,
    "start_time": "2022-05-06T11:48:22.318Z"
   },
   {
    "duration": 0,
    "start_time": "2022-05-06T11:48:22.803Z"
   },
   {
    "duration": 0,
    "start_time": "2022-05-06T11:48:22.805Z"
   },
   {
    "duration": 0,
    "start_time": "2022-05-06T11:48:22.807Z"
   },
   {
    "duration": 0,
    "start_time": "2022-05-06T11:48:22.809Z"
   },
   {
    "duration": 0,
    "start_time": "2022-05-06T11:48:22.810Z"
   },
   {
    "duration": 0,
    "start_time": "2022-05-06T11:48:22.812Z"
   },
   {
    "duration": 0,
    "start_time": "2022-05-06T11:48:22.813Z"
   },
   {
    "duration": 1753,
    "start_time": "2022-05-06T12:00:32.052Z"
   },
   {
    "duration": 67,
    "start_time": "2022-05-06T12:00:33.809Z"
   },
   {
    "duration": 710,
    "start_time": "2022-05-06T12:00:33.894Z"
   },
   {
    "duration": 38,
    "start_time": "2022-05-06T12:00:34.607Z"
   },
   {
    "duration": 15,
    "start_time": "2022-05-06T12:00:34.647Z"
   },
   {
    "duration": 24,
    "start_time": "2022-05-06T12:00:34.693Z"
   },
   {
    "duration": 29,
    "start_time": "2022-05-06T12:00:34.720Z"
   },
   {
    "duration": 44,
    "start_time": "2022-05-06T12:00:34.751Z"
   },
   {
    "duration": 10,
    "start_time": "2022-05-06T12:00:34.797Z"
   },
   {
    "duration": 39,
    "start_time": "2022-05-06T12:00:34.813Z"
   },
   {
    "duration": 464,
    "start_time": "2022-05-06T12:00:34.855Z"
   },
   {
    "duration": 524,
    "start_time": "2022-05-06T12:00:35.322Z"
   },
   {
    "duration": 14,
    "start_time": "2022-05-06T12:00:35.848Z"
   },
   {
    "duration": 141,
    "start_time": "2022-05-06T12:00:35.864Z"
   },
   {
    "duration": 10,
    "start_time": "2022-05-06T12:00:36.007Z"
   },
   {
    "duration": 339,
    "start_time": "2022-05-06T12:00:36.020Z"
   },
   {
    "duration": 17,
    "start_time": "2022-05-06T12:00:36.361Z"
   },
   {
    "duration": 694,
    "start_time": "2022-05-06T12:00:36.393Z"
   },
   {
    "duration": 19,
    "start_time": "2022-05-06T12:00:37.092Z"
   },
   {
    "duration": 795,
    "start_time": "2022-05-06T12:00:37.113Z"
   },
   {
    "duration": 13,
    "start_time": "2022-05-06T12:00:37.910Z"
   },
   {
    "duration": 2442,
    "start_time": "2022-05-06T12:00:37.925Z"
   },
   {
    "duration": 50,
    "start_time": "2022-05-06T12:00:40.370Z"
   },
   {
    "duration": 70,
    "start_time": "2022-05-06T12:00:40.423Z"
   },
   {
    "duration": 55,
    "start_time": "2022-05-06T12:00:40.496Z"
   },
   {
    "duration": 69,
    "start_time": "2022-05-06T12:00:40.554Z"
   },
   {
    "duration": 183,
    "start_time": "2022-05-06T12:00:40.625Z"
   },
   {
    "duration": 0,
    "start_time": "2022-05-06T12:00:40.812Z"
   },
   {
    "duration": 0,
    "start_time": "2022-05-06T12:00:40.814Z"
   },
   {
    "duration": 0,
    "start_time": "2022-05-06T12:00:40.817Z"
   },
   {
    "duration": 0,
    "start_time": "2022-05-06T12:00:40.819Z"
   },
   {
    "duration": 0,
    "start_time": "2022-05-06T12:00:40.822Z"
   },
   {
    "duration": 0,
    "start_time": "2022-05-06T12:00:40.824Z"
   },
   {
    "duration": 0,
    "start_time": "2022-05-06T12:00:40.827Z"
   },
   {
    "duration": 1617,
    "start_time": "2022-05-06T12:01:30.005Z"
   },
   {
    "duration": 56,
    "start_time": "2022-05-06T12:01:31.624Z"
   },
   {
    "duration": 686,
    "start_time": "2022-05-06T12:01:31.693Z"
   },
   {
    "duration": 42,
    "start_time": "2022-05-06T12:01:32.394Z"
   },
   {
    "duration": 15,
    "start_time": "2022-05-06T12:01:32.438Z"
   },
   {
    "duration": 53,
    "start_time": "2022-05-06T12:01:32.456Z"
   },
   {
    "duration": 33,
    "start_time": "2022-05-06T12:01:32.511Z"
   },
   {
    "duration": 48,
    "start_time": "2022-05-06T12:01:32.546Z"
   },
   {
    "duration": 11,
    "start_time": "2022-05-06T12:01:32.596Z"
   },
   {
    "duration": 41,
    "start_time": "2022-05-06T12:01:32.611Z"
   },
   {
    "duration": 466,
    "start_time": "2022-05-06T12:01:32.654Z"
   },
   {
    "duration": 571,
    "start_time": "2022-05-06T12:01:33.122Z"
   },
   {
    "duration": 19,
    "start_time": "2022-05-06T12:01:33.695Z"
   },
   {
    "duration": 153,
    "start_time": "2022-05-06T12:01:33.716Z"
   },
   {
    "duration": 24,
    "start_time": "2022-05-06T12:01:33.871Z"
   },
   {
    "duration": 435,
    "start_time": "2022-05-06T12:01:33.898Z"
   },
   {
    "duration": 18,
    "start_time": "2022-05-06T12:01:34.336Z"
   },
   {
    "duration": 690,
    "start_time": "2022-05-06T12:01:34.356Z"
   },
   {
    "duration": 18,
    "start_time": "2022-05-06T12:01:35.048Z"
   },
   {
    "duration": 689,
    "start_time": "2022-05-06T12:01:35.068Z"
   },
   {
    "duration": 12,
    "start_time": "2022-05-06T12:01:35.760Z"
   },
   {
    "duration": 2499,
    "start_time": "2022-05-06T12:01:35.775Z"
   },
   {
    "duration": 66,
    "start_time": "2022-05-06T12:01:38.277Z"
   },
   {
    "duration": 91,
    "start_time": "2022-05-06T12:01:38.346Z"
   },
   {
    "duration": 89,
    "start_time": "2022-05-06T12:01:38.440Z"
   },
   {
    "duration": 63,
    "start_time": "2022-05-06T12:01:38.531Z"
   },
   {
    "duration": 785,
    "start_time": "2022-05-06T12:01:38.597Z"
   },
   {
    "duration": 56,
    "start_time": "2022-05-06T12:01:39.386Z"
   },
   {
    "duration": 72,
    "start_time": "2022-05-06T12:01:39.445Z"
   },
   {
    "duration": 36,
    "start_time": "2022-05-06T12:01:39.519Z"
   },
   {
    "duration": 45,
    "start_time": "2022-05-06T12:01:39.558Z"
   },
   {
    "duration": 16,
    "start_time": "2022-05-06T12:01:39.605Z"
   },
   {
    "duration": 18,
    "start_time": "2022-05-06T12:01:39.623Z"
   },
   {
    "duration": 9,
    "start_time": "2022-05-06T12:01:39.644Z"
   },
   {
    "duration": 1782,
    "start_time": "2022-05-06T12:04:20.614Z"
   },
   {
    "duration": 56,
    "start_time": "2022-05-06T12:04:22.399Z"
   },
   {
    "duration": 710,
    "start_time": "2022-05-06T12:04:22.457Z"
   },
   {
    "duration": 54,
    "start_time": "2022-05-06T12:04:23.170Z"
   },
   {
    "duration": 14,
    "start_time": "2022-05-06T12:04:23.228Z"
   },
   {
    "duration": 56,
    "start_time": "2022-05-06T12:04:23.244Z"
   },
   {
    "duration": 31,
    "start_time": "2022-05-06T12:04:23.303Z"
   },
   {
    "duration": 16,
    "start_time": "2022-05-06T12:04:23.336Z"
   },
   {
    "duration": 40,
    "start_time": "2022-05-06T12:04:23.354Z"
   },
   {
    "duration": 50,
    "start_time": "2022-05-06T12:04:23.396Z"
   },
   {
    "duration": 434,
    "start_time": "2022-05-06T12:04:23.448Z"
   },
   {
    "duration": 536,
    "start_time": "2022-05-06T12:04:23.885Z"
   },
   {
    "duration": 15,
    "start_time": "2022-05-06T12:04:24.423Z"
   },
   {
    "duration": 146,
    "start_time": "2022-05-06T12:04:24.442Z"
   },
   {
    "duration": 11,
    "start_time": "2022-05-06T12:04:24.593Z"
   },
   {
    "duration": 336,
    "start_time": "2022-05-06T12:04:24.606Z"
   },
   {
    "duration": 18,
    "start_time": "2022-05-06T12:04:24.944Z"
   },
   {
    "duration": 676,
    "start_time": "2022-05-06T12:04:24.964Z"
   },
   {
    "duration": 18,
    "start_time": "2022-05-06T12:04:25.642Z"
   },
   {
    "duration": 692,
    "start_time": "2022-05-06T12:04:25.662Z"
   },
   {
    "duration": 13,
    "start_time": "2022-05-06T12:04:26.356Z"
   },
   {
    "duration": 2523,
    "start_time": "2022-05-06T12:04:26.372Z"
   },
   {
    "duration": 35,
    "start_time": "2022-05-06T12:04:28.897Z"
   },
   {
    "duration": 75,
    "start_time": "2022-05-06T12:04:28.934Z"
   },
   {
    "duration": 48,
    "start_time": "2022-05-06T12:04:29.012Z"
   },
   {
    "duration": 62,
    "start_time": "2022-05-06T12:04:29.062Z"
   },
   {
    "duration": 782,
    "start_time": "2022-05-06T12:04:29.126Z"
   },
   {
    "duration": 46,
    "start_time": "2022-05-06T12:04:29.910Z"
   },
   {
    "duration": 60,
    "start_time": "2022-05-06T12:04:29.958Z"
   },
   {
    "duration": 35,
    "start_time": "2022-05-06T12:04:30.020Z"
   },
   {
    "duration": 46,
    "start_time": "2022-05-06T12:04:30.058Z"
   },
   {
    "duration": 18,
    "start_time": "2022-05-06T12:04:30.107Z"
   },
   {
    "duration": 19,
    "start_time": "2022-05-06T12:04:30.127Z"
   },
   {
    "duration": 9,
    "start_time": "2022-05-06T12:04:30.148Z"
   },
   {
    "duration": 1506,
    "start_time": "2022-05-06T12:17:05.145Z"
   },
   {
    "duration": 59,
    "start_time": "2022-05-06T12:17:06.653Z"
   },
   {
    "duration": 680,
    "start_time": "2022-05-06T12:17:06.714Z"
   },
   {
    "duration": 38,
    "start_time": "2022-05-06T12:17:07.397Z"
   },
   {
    "duration": 14,
    "start_time": "2022-05-06T12:17:07.437Z"
   },
   {
    "duration": 58,
    "start_time": "2022-05-06T12:17:07.453Z"
   },
   {
    "duration": 31,
    "start_time": "2022-05-06T12:17:07.514Z"
   },
   {
    "duration": 46,
    "start_time": "2022-05-06T12:17:07.548Z"
   },
   {
    "duration": 11,
    "start_time": "2022-05-06T12:17:07.596Z"
   },
   {
    "duration": 29,
    "start_time": "2022-05-06T12:17:07.613Z"
   },
   {
    "duration": 451,
    "start_time": "2022-05-06T12:17:07.645Z"
   },
   {
    "duration": 523,
    "start_time": "2022-05-06T12:17:08.099Z"
   },
   {
    "duration": 17,
    "start_time": "2022-05-06T12:17:08.625Z"
   },
   {
    "duration": 138,
    "start_time": "2022-05-06T12:17:08.645Z"
   },
   {
    "duration": 17,
    "start_time": "2022-05-06T12:17:08.785Z"
   },
   {
    "duration": 345,
    "start_time": "2022-05-06T12:17:08.804Z"
   },
   {
    "duration": 17,
    "start_time": "2022-05-06T12:17:09.152Z"
   },
   {
    "duration": 656,
    "start_time": "2022-05-06T12:17:09.171Z"
   },
   {
    "duration": 17,
    "start_time": "2022-05-06T12:17:09.829Z"
   },
   {
    "duration": 684,
    "start_time": "2022-05-06T12:17:09.848Z"
   },
   {
    "duration": 14,
    "start_time": "2022-05-06T12:17:10.535Z"
   },
   {
    "duration": 2594,
    "start_time": "2022-05-06T12:17:10.551Z"
   },
   {
    "duration": 51,
    "start_time": "2022-05-06T12:17:13.147Z"
   },
   {
    "duration": 48,
    "start_time": "2022-05-06T12:17:13.200Z"
   },
   {
    "duration": 74,
    "start_time": "2022-05-06T12:17:13.251Z"
   },
   {
    "duration": 37,
    "start_time": "2022-05-06T12:17:13.327Z"
   },
   {
    "duration": 756,
    "start_time": "2022-05-06T12:17:13.393Z"
   },
   {
    "duration": 57,
    "start_time": "2022-05-06T12:17:14.153Z"
   },
   {
    "duration": 35,
    "start_time": "2022-05-06T12:17:14.212Z"
   },
   {
    "duration": 62,
    "start_time": "2022-05-06T12:17:14.249Z"
   },
   {
    "duration": 13,
    "start_time": "2022-05-06T12:17:14.314Z"
   },
   {
    "duration": 25,
    "start_time": "2022-05-06T12:17:14.330Z"
   },
   {
    "duration": 36,
    "start_time": "2022-05-06T12:17:14.357Z"
   },
   {
    "duration": 8,
    "start_time": "2022-05-06T12:17:14.395Z"
   },
   {
    "duration": 1792,
    "start_time": "2022-05-06T12:26:44.451Z"
   },
   {
    "duration": 71,
    "start_time": "2022-05-06T12:26:46.246Z"
   },
   {
    "duration": 693,
    "start_time": "2022-05-06T12:26:46.319Z"
   },
   {
    "duration": 42,
    "start_time": "2022-05-06T12:26:47.014Z"
   },
   {
    "duration": 45,
    "start_time": "2022-05-06T12:26:47.060Z"
   },
   {
    "duration": 24,
    "start_time": "2022-05-06T12:26:47.108Z"
   },
   {
    "duration": 62,
    "start_time": "2022-05-06T12:26:47.135Z"
   },
   {
    "duration": 17,
    "start_time": "2022-05-06T12:26:47.199Z"
   },
   {
    "duration": 15,
    "start_time": "2022-05-06T12:26:47.219Z"
   },
   {
    "duration": 78,
    "start_time": "2022-05-06T12:26:47.236Z"
   },
   {
    "duration": 598,
    "start_time": "2022-05-06T12:26:47.317Z"
   },
   {
    "duration": 791,
    "start_time": "2022-05-06T12:26:47.918Z"
   },
   {
    "duration": 21,
    "start_time": "2022-05-06T12:26:48.712Z"
   },
   {
    "duration": 186,
    "start_time": "2022-05-06T12:26:48.739Z"
   },
   {
    "duration": 14,
    "start_time": "2022-05-06T12:26:48.927Z"
   },
   {
    "duration": 345,
    "start_time": "2022-05-06T12:26:48.944Z"
   },
   {
    "duration": 18,
    "start_time": "2022-05-06T12:26:49.292Z"
   },
   {
    "duration": 711,
    "start_time": "2022-05-06T12:26:49.312Z"
   },
   {
    "duration": 19,
    "start_time": "2022-05-06T12:26:50.026Z"
   },
   {
    "duration": 716,
    "start_time": "2022-05-06T12:26:50.048Z"
   },
   {
    "duration": 27,
    "start_time": "2022-05-06T12:26:50.766Z"
   },
   {
    "duration": 3540,
    "start_time": "2022-05-06T12:26:50.796Z"
   },
   {
    "duration": 71,
    "start_time": "2022-05-06T12:26:54.339Z"
   },
   {
    "duration": 82,
    "start_time": "2022-05-06T12:26:54.413Z"
   },
   {
    "duration": 54,
    "start_time": "2022-05-06T12:26:54.498Z"
   },
   {
    "duration": 68,
    "start_time": "2022-05-06T12:26:54.554Z"
   },
   {
    "duration": 3970,
    "start_time": "2022-05-06T12:26:54.625Z"
   },
   {
    "duration": 0,
    "start_time": "2022-05-06T12:26:58.597Z"
   },
   {
    "duration": 0,
    "start_time": "2022-05-06T12:26:58.598Z"
   },
   {
    "duration": 0,
    "start_time": "2022-05-06T12:26:58.600Z"
   },
   {
    "duration": 0,
    "start_time": "2022-05-06T12:26:58.601Z"
   },
   {
    "duration": 0,
    "start_time": "2022-05-06T12:26:58.603Z"
   },
   {
    "duration": 0,
    "start_time": "2022-05-06T12:26:58.604Z"
   },
   {
    "duration": 0,
    "start_time": "2022-05-06T12:26:58.606Z"
   },
   {
    "duration": 1556,
    "start_time": "2022-05-06T15:22:12.283Z"
   },
   {
    "duration": 43,
    "start_time": "2022-05-06T15:22:13.841Z"
   },
   {
    "duration": 602,
    "start_time": "2022-05-06T15:22:13.886Z"
   },
   {
    "duration": 47,
    "start_time": "2022-05-06T15:22:14.491Z"
   },
   {
    "duration": 11,
    "start_time": "2022-05-06T15:22:14.540Z"
   },
   {
    "duration": 17,
    "start_time": "2022-05-06T15:22:14.553Z"
   },
   {
    "duration": 51,
    "start_time": "2022-05-06T15:22:14.571Z"
   },
   {
    "duration": 17,
    "start_time": "2022-05-06T15:22:14.625Z"
   },
   {
    "duration": 8,
    "start_time": "2022-05-06T15:22:14.644Z"
   },
   {
    "duration": 20,
    "start_time": "2022-05-06T15:22:14.656Z"
   },
   {
    "duration": 333,
    "start_time": "2022-05-06T15:22:14.679Z"
   },
   {
    "duration": 398,
    "start_time": "2022-05-06T15:22:15.015Z"
   },
   {
    "duration": 19,
    "start_time": "2022-05-06T15:22:15.415Z"
   },
   {
    "duration": 105,
    "start_time": "2022-05-06T15:22:15.435Z"
   },
   {
    "duration": 8,
    "start_time": "2022-05-06T15:22:15.542Z"
   },
   {
    "duration": 252,
    "start_time": "2022-05-06T15:22:15.552Z"
   },
   {
    "duration": 26,
    "start_time": "2022-05-06T15:22:15.807Z"
   },
   {
    "duration": 505,
    "start_time": "2022-05-06T15:22:15.836Z"
   },
   {
    "duration": 16,
    "start_time": "2022-05-06T15:22:16.342Z"
   },
   {
    "duration": 522,
    "start_time": "2022-05-06T15:22:16.360Z"
   },
   {
    "duration": 9,
    "start_time": "2022-05-06T15:22:16.884Z"
   },
   {
    "duration": 1849,
    "start_time": "2022-05-06T15:22:16.914Z"
   },
   {
    "duration": 25,
    "start_time": "2022-05-06T15:22:18.764Z"
   },
   {
    "duration": 45,
    "start_time": "2022-05-06T15:22:18.811Z"
   },
   {
    "duration": 61,
    "start_time": "2022-05-06T15:22:18.858Z"
   },
   {
    "duration": 38,
    "start_time": "2022-05-06T15:22:18.920Z"
   },
   {
    "duration": 1323,
    "start_time": "2022-05-06T15:22:18.960Z"
   },
   {
    "duration": 0,
    "start_time": "2022-05-06T15:22:20.285Z"
   },
   {
    "duration": 0,
    "start_time": "2022-05-06T15:22:20.286Z"
   },
   {
    "duration": 0,
    "start_time": "2022-05-06T15:22:20.288Z"
   },
   {
    "duration": 0,
    "start_time": "2022-05-06T15:22:20.289Z"
   },
   {
    "duration": 0,
    "start_time": "2022-05-06T15:22:20.291Z"
   },
   {
    "duration": 0,
    "start_time": "2022-05-06T15:22:20.292Z"
   },
   {
    "duration": 0,
    "start_time": "2022-05-06T15:22:20.294Z"
   },
   {
    "duration": 644,
    "start_time": "2022-05-06T15:22:49.812Z"
   },
   {
    "duration": 41,
    "start_time": "2022-05-06T15:23:25.977Z"
   },
   {
    "duration": 28,
    "start_time": "2022-05-06T15:23:26.021Z"
   },
   {
    "duration": 23,
    "start_time": "2022-05-06T15:23:26.051Z"
   },
   {
    "duration": 11,
    "start_time": "2022-05-06T15:23:26.076Z"
   },
   {
    "duration": 12,
    "start_time": "2022-05-06T15:23:26.114Z"
   },
   {
    "duration": 16,
    "start_time": "2022-05-06T15:23:26.129Z"
   },
   {
    "duration": 6,
    "start_time": "2022-05-06T15:23:26.147Z"
   },
   {
    "duration": 1274,
    "start_time": "2022-05-06T15:39:56.678Z"
   },
   {
    "duration": 39,
    "start_time": "2022-05-06T15:39:57.955Z"
   },
   {
    "duration": 441,
    "start_time": "2022-05-06T15:39:57.996Z"
   },
   {
    "duration": 23,
    "start_time": "2022-05-06T15:39:58.439Z"
   },
   {
    "duration": 11,
    "start_time": "2022-05-06T15:39:58.464Z"
   },
   {
    "duration": 15,
    "start_time": "2022-05-06T15:39:58.476Z"
   },
   {
    "duration": 46,
    "start_time": "2022-05-06T15:39:58.493Z"
   },
   {
    "duration": 11,
    "start_time": "2022-05-06T15:39:58.541Z"
   },
   {
    "duration": 7,
    "start_time": "2022-05-06T15:39:58.553Z"
   },
   {
    "duration": 16,
    "start_time": "2022-05-06T15:39:58.561Z"
   },
   {
    "duration": 254,
    "start_time": "2022-05-06T15:39:58.579Z"
   },
   {
    "duration": 303,
    "start_time": "2022-05-06T15:39:58.834Z"
   },
   {
    "duration": 9,
    "start_time": "2022-05-06T15:39:59.139Z"
   },
   {
    "duration": 82,
    "start_time": "2022-05-06T15:39:59.151Z"
   },
   {
    "duration": 5,
    "start_time": "2022-05-06T15:39:59.235Z"
   },
   {
    "duration": 168,
    "start_time": "2022-05-06T15:39:59.242Z"
   },
   {
    "duration": 13,
    "start_time": "2022-05-06T15:39:59.412Z"
   },
   {
    "duration": 344,
    "start_time": "2022-05-06T15:39:59.427Z"
   },
   {
    "duration": 9,
    "start_time": "2022-05-06T15:39:59.772Z"
   },
   {
    "duration": 388,
    "start_time": "2022-05-06T15:39:59.783Z"
   },
   {
    "duration": 9,
    "start_time": "2022-05-06T15:40:00.173Z"
   },
   {
    "duration": 1366,
    "start_time": "2022-05-06T15:40:00.183Z"
   },
   {
    "duration": 22,
    "start_time": "2022-05-06T15:40:01.551Z"
   },
   {
    "duration": 24,
    "start_time": "2022-05-06T15:40:01.574Z"
   },
   {
    "duration": 45,
    "start_time": "2022-05-06T15:40:01.600Z"
   },
   {
    "duration": 20,
    "start_time": "2022-05-06T15:40:01.647Z"
   },
   {
    "duration": 416,
    "start_time": "2022-05-06T15:40:01.669Z"
   },
   {
    "duration": 37,
    "start_time": "2022-05-06T15:40:02.087Z"
   },
   {
    "duration": 24,
    "start_time": "2022-05-06T15:40:02.125Z"
   },
   {
    "duration": 27,
    "start_time": "2022-05-06T15:40:02.150Z"
   },
   {
    "duration": 18,
    "start_time": "2022-05-06T15:40:02.179Z"
   },
   {
    "duration": 25,
    "start_time": "2022-05-06T15:40:02.199Z"
   },
   {
    "duration": 13,
    "start_time": "2022-05-06T15:40:02.226Z"
   },
   {
    "duration": 5,
    "start_time": "2022-05-06T15:40:02.240Z"
   },
   {
    "duration": 1212,
    "start_time": "2022-05-06T15:46:01.985Z"
   },
   {
    "duration": 43,
    "start_time": "2022-05-06T15:46:03.199Z"
   },
   {
    "duration": 459,
    "start_time": "2022-05-06T15:46:03.243Z"
   },
   {
    "duration": 36,
    "start_time": "2022-05-06T15:46:03.704Z"
   },
   {
    "duration": 12,
    "start_time": "2022-05-06T15:46:03.741Z"
   },
   {
    "duration": 16,
    "start_time": "2022-05-06T15:46:03.755Z"
   },
   {
    "duration": 19,
    "start_time": "2022-05-06T15:46:03.773Z"
   },
   {
    "duration": 48,
    "start_time": "2022-05-06T15:46:03.793Z"
   },
   {
    "duration": 11,
    "start_time": "2022-05-06T15:46:03.843Z"
   },
   {
    "duration": 31,
    "start_time": "2022-05-06T15:46:03.858Z"
   },
   {
    "duration": 399,
    "start_time": "2022-05-06T15:46:03.891Z"
   },
   {
    "duration": 318,
    "start_time": "2022-05-06T15:46:04.292Z"
   },
   {
    "duration": 21,
    "start_time": "2022-05-06T15:46:04.612Z"
   },
   {
    "duration": 123,
    "start_time": "2022-05-06T15:46:04.636Z"
   },
   {
    "duration": 9,
    "start_time": "2022-05-06T15:46:04.761Z"
   },
   {
    "duration": 316,
    "start_time": "2022-05-06T15:46:04.772Z"
   },
   {
    "duration": 12,
    "start_time": "2022-05-06T15:46:05.089Z"
   },
   {
    "duration": 627,
    "start_time": "2022-05-06T15:46:05.103Z"
   },
   {
    "duration": 11,
    "start_time": "2022-05-06T15:46:05.733Z"
   },
   {
    "duration": 632,
    "start_time": "2022-05-06T15:46:05.746Z"
   },
   {
    "duration": 12,
    "start_time": "2022-05-06T15:46:06.381Z"
   },
   {
    "duration": 1604,
    "start_time": "2022-05-06T15:46:06.394Z"
   },
   {
    "duration": 34,
    "start_time": "2022-05-06T15:46:07.999Z"
   },
   {
    "duration": 27,
    "start_time": "2022-05-06T15:46:08.035Z"
   },
   {
    "duration": 28,
    "start_time": "2022-05-06T15:46:08.063Z"
   },
   {
    "duration": 50,
    "start_time": "2022-05-06T15:46:08.092Z"
   },
   {
    "duration": 414,
    "start_time": "2022-05-06T15:46:08.143Z"
   },
   {
    "duration": 28,
    "start_time": "2022-05-06T15:46:08.560Z"
   },
   {
    "duration": 45,
    "start_time": "2022-05-06T15:46:08.590Z"
   },
   {
    "duration": 23,
    "start_time": "2022-05-06T15:46:08.637Z"
   },
   {
    "duration": 7,
    "start_time": "2022-05-06T15:46:08.662Z"
   },
   {
    "duration": 7,
    "start_time": "2022-05-06T15:46:08.671Z"
   },
   {
    "duration": 48,
    "start_time": "2022-05-06T15:46:08.680Z"
   },
   {
    "duration": 5,
    "start_time": "2022-05-06T15:46:08.730Z"
   },
   {
    "duration": 1356,
    "start_time": "2022-05-06T16:08:21.088Z"
   },
   {
    "duration": 38,
    "start_time": "2022-05-06T16:08:22.446Z"
   },
   {
    "duration": 469,
    "start_time": "2022-05-06T16:08:22.486Z"
   },
   {
    "duration": 26,
    "start_time": "2022-05-06T16:08:22.957Z"
   },
   {
    "duration": 11,
    "start_time": "2022-05-06T16:08:22.984Z"
   },
   {
    "duration": 41,
    "start_time": "2022-05-06T16:08:22.996Z"
   },
   {
    "duration": 20,
    "start_time": "2022-05-06T16:08:23.038Z"
   },
   {
    "duration": 13,
    "start_time": "2022-05-06T16:08:23.060Z"
   },
   {
    "duration": 7,
    "start_time": "2022-05-06T16:08:23.075Z"
   },
   {
    "duration": 45,
    "start_time": "2022-05-06T16:08:23.085Z"
   },
   {
    "duration": 250,
    "start_time": "2022-05-06T16:08:23.131Z"
   },
   {
    "duration": 324,
    "start_time": "2022-05-06T16:08:23.383Z"
   },
   {
    "duration": 21,
    "start_time": "2022-05-06T16:08:23.708Z"
   },
   {
    "duration": 97,
    "start_time": "2022-05-06T16:08:23.731Z"
   },
   {
    "duration": 202,
    "start_time": "2022-05-06T16:08:23.830Z"
   },
   {
    "duration": 8,
    "start_time": "2022-05-06T16:08:24.034Z"
   },
   {
    "duration": 206,
    "start_time": "2022-05-06T16:08:24.043Z"
   },
   {
    "duration": 11,
    "start_time": "2022-05-06T16:08:24.250Z"
   },
   {
    "duration": 393,
    "start_time": "2022-05-06T16:08:24.262Z"
   },
   {
    "duration": 10,
    "start_time": "2022-05-06T16:08:24.657Z"
   },
   {
    "duration": 408,
    "start_time": "2022-05-06T16:08:24.669Z"
   },
   {
    "duration": 89,
    "start_time": "2022-05-06T16:08:25.079Z"
   },
   {
    "duration": 1388,
    "start_time": "2022-05-06T16:08:25.170Z"
   },
   {
    "duration": 22,
    "start_time": "2022-05-06T16:08:26.559Z"
   },
   {
    "duration": 51,
    "start_time": "2022-05-06T16:08:26.583Z"
   },
   {
    "duration": 27,
    "start_time": "2022-05-06T16:08:26.636Z"
   },
   {
    "duration": 26,
    "start_time": "2022-05-06T16:08:26.665Z"
   },
   {
    "duration": 413,
    "start_time": "2022-05-06T16:08:26.723Z"
   },
   {
    "duration": 28,
    "start_time": "2022-05-06T16:08:27.137Z"
   },
   {
    "duration": 22,
    "start_time": "2022-05-06T16:08:27.166Z"
   },
   {
    "duration": 46,
    "start_time": "2022-05-06T16:08:27.190Z"
   },
   {
    "duration": 8,
    "start_time": "2022-05-06T16:08:27.238Z"
   },
   {
    "duration": 5,
    "start_time": "2022-05-06T16:08:27.248Z"
   },
   {
    "duration": 11,
    "start_time": "2022-05-06T16:08:27.255Z"
   },
   {
    "duration": 5,
    "start_time": "2022-05-06T16:08:27.268Z"
   },
   {
    "duration": 1271,
    "start_time": "2022-05-06T16:12:48.931Z"
   },
   {
    "duration": 63,
    "start_time": "2022-05-06T16:12:50.205Z"
   },
   {
    "duration": 655,
    "start_time": "2022-05-06T16:12:50.270Z"
   },
   {
    "duration": 40,
    "start_time": "2022-05-06T16:12:50.927Z"
   },
   {
    "duration": 15,
    "start_time": "2022-05-06T16:12:50.970Z"
   },
   {
    "duration": 54,
    "start_time": "2022-05-06T16:12:50.987Z"
   },
   {
    "duration": 22,
    "start_time": "2022-05-06T16:12:51.043Z"
   },
   {
    "duration": 15,
    "start_time": "2022-05-06T16:12:51.067Z"
   },
   {
    "duration": 7,
    "start_time": "2022-05-06T16:12:51.084Z"
   },
   {
    "duration": 44,
    "start_time": "2022-05-06T16:12:51.093Z"
   },
   {
    "duration": 259,
    "start_time": "2022-05-06T16:12:51.139Z"
   },
   {
    "duration": 317,
    "start_time": "2022-05-06T16:12:51.400Z"
   },
   {
    "duration": 11,
    "start_time": "2022-05-06T16:12:51.724Z"
   },
   {
    "duration": 92,
    "start_time": "2022-05-06T16:12:51.738Z"
   },
   {
    "duration": 214,
    "start_time": "2022-05-06T16:12:51.832Z"
   },
   {
    "duration": 7,
    "start_time": "2022-05-06T16:12:52.048Z"
   },
   {
    "duration": 214,
    "start_time": "2022-05-06T16:12:52.057Z"
   },
   {
    "duration": 10,
    "start_time": "2022-05-06T16:12:52.273Z"
   },
   {
    "duration": 414,
    "start_time": "2022-05-06T16:12:52.285Z"
   },
   {
    "duration": 10,
    "start_time": "2022-05-06T16:12:52.700Z"
   },
   {
    "duration": 386,
    "start_time": "2022-05-06T16:12:52.724Z"
   },
   {
    "duration": 86,
    "start_time": "2022-05-06T16:12:53.112Z"
   },
   {
    "duration": 2299,
    "start_time": "2022-05-06T16:12:53.200Z"
   },
   {
    "duration": 36,
    "start_time": "2022-05-06T16:12:55.502Z"
   },
   {
    "duration": 30,
    "start_time": "2022-05-06T16:12:55.541Z"
   },
   {
    "duration": 65,
    "start_time": "2022-05-06T16:12:55.573Z"
   },
   {
    "duration": 26,
    "start_time": "2022-05-06T16:12:55.640Z"
   },
   {
    "duration": 442,
    "start_time": "2022-05-06T16:12:55.668Z"
   },
   {
    "duration": 33,
    "start_time": "2022-05-06T16:12:56.112Z"
   },
   {
    "duration": 24,
    "start_time": "2022-05-06T16:12:56.146Z"
   },
   {
    "duration": 52,
    "start_time": "2022-05-06T16:12:56.171Z"
   },
   {
    "duration": 9,
    "start_time": "2022-05-06T16:12:56.225Z"
   },
   {
    "duration": 8,
    "start_time": "2022-05-06T16:12:56.236Z"
   },
   {
    "duration": 10,
    "start_time": "2022-05-06T16:12:56.246Z"
   },
   {
    "duration": 5,
    "start_time": "2022-05-06T16:12:56.258Z"
   },
   {
    "duration": 1435,
    "start_time": "2022-05-06T16:21:02.587Z"
   },
   {
    "duration": 53,
    "start_time": "2022-05-06T16:21:04.024Z"
   },
   {
    "duration": 618,
    "start_time": "2022-05-06T16:21:04.079Z"
   },
   {
    "duration": 49,
    "start_time": "2022-05-06T16:21:04.699Z"
   },
   {
    "duration": 15,
    "start_time": "2022-05-06T16:21:04.752Z"
   },
   {
    "duration": 28,
    "start_time": "2022-05-06T16:21:04.769Z"
   },
   {
    "duration": 53,
    "start_time": "2022-05-06T16:21:04.799Z"
   },
   {
    "duration": 18,
    "start_time": "2022-05-06T16:21:04.855Z"
   },
   {
    "duration": 19,
    "start_time": "2022-05-06T16:21:04.876Z"
   },
   {
    "duration": 57,
    "start_time": "2022-05-06T16:21:04.897Z"
   },
   {
    "duration": 346,
    "start_time": "2022-05-06T16:21:04.957Z"
   },
   {
    "duration": 380,
    "start_time": "2022-05-06T16:21:05.305Z"
   },
   {
    "duration": 15,
    "start_time": "2022-05-06T16:21:05.687Z"
   },
   {
    "duration": 95,
    "start_time": "2022-05-06T16:21:05.705Z"
   },
   {
    "duration": 209,
    "start_time": "2022-05-06T16:21:05.802Z"
   },
   {
    "duration": 14,
    "start_time": "2022-05-06T16:21:06.013Z"
   },
   {
    "duration": 339,
    "start_time": "2022-05-06T16:21:06.029Z"
   },
   {
    "duration": 163,
    "start_time": "2022-05-06T16:21:06.371Z"
   },
   {
    "duration": 0,
    "start_time": "2022-05-06T16:21:06.536Z"
   },
   {
    "duration": 0,
    "start_time": "2022-05-06T16:21:06.539Z"
   },
   {
    "duration": 0,
    "start_time": "2022-05-06T16:21:06.540Z"
   },
   {
    "duration": 1,
    "start_time": "2022-05-06T16:21:06.541Z"
   },
   {
    "duration": 0,
    "start_time": "2022-05-06T16:21:06.543Z"
   },
   {
    "duration": 0,
    "start_time": "2022-05-06T16:21:06.544Z"
   },
   {
    "duration": 0,
    "start_time": "2022-05-06T16:21:06.546Z"
   },
   {
    "duration": 0,
    "start_time": "2022-05-06T16:21:06.547Z"
   },
   {
    "duration": 0,
    "start_time": "2022-05-06T16:21:06.548Z"
   },
   {
    "duration": 0,
    "start_time": "2022-05-06T16:21:06.549Z"
   },
   {
    "duration": 0,
    "start_time": "2022-05-06T16:21:06.551Z"
   },
   {
    "duration": 0,
    "start_time": "2022-05-06T16:21:06.552Z"
   },
   {
    "duration": 0,
    "start_time": "2022-05-06T16:21:06.553Z"
   },
   {
    "duration": 0,
    "start_time": "2022-05-06T16:21:06.555Z"
   },
   {
    "duration": 0,
    "start_time": "2022-05-06T16:21:06.556Z"
   },
   {
    "duration": 0,
    "start_time": "2022-05-06T16:21:06.557Z"
   },
   {
    "duration": 0,
    "start_time": "2022-05-06T16:21:06.558Z"
   },
   {
    "duration": 1640,
    "start_time": "2022-05-06T16:21:51.514Z"
   },
   {
    "duration": 72,
    "start_time": "2022-05-06T16:21:53.156Z"
   },
   {
    "duration": 595,
    "start_time": "2022-05-06T16:21:53.231Z"
   },
   {
    "duration": 26,
    "start_time": "2022-05-06T16:21:53.828Z"
   },
   {
    "duration": 11,
    "start_time": "2022-05-06T16:21:53.856Z"
   },
   {
    "duration": 26,
    "start_time": "2022-05-06T16:21:53.869Z"
   },
   {
    "duration": 54,
    "start_time": "2022-05-06T16:21:53.897Z"
   },
   {
    "duration": 12,
    "start_time": "2022-05-06T16:21:53.953Z"
   },
   {
    "duration": 11,
    "start_time": "2022-05-06T16:21:53.967Z"
   },
   {
    "duration": 45,
    "start_time": "2022-05-06T16:21:53.980Z"
   },
   {
    "duration": 385,
    "start_time": "2022-05-06T16:21:54.028Z"
   },
   {
    "duration": 500,
    "start_time": "2022-05-06T16:21:54.424Z"
   },
   {
    "duration": 13,
    "start_time": "2022-05-06T16:21:54.925Z"
   },
   {
    "duration": 102,
    "start_time": "2022-05-06T16:21:54.941Z"
   },
   {
    "duration": 190,
    "start_time": "2022-05-06T16:21:55.045Z"
   },
   {
    "duration": 8,
    "start_time": "2022-05-06T16:21:55.237Z"
   },
   {
    "duration": 312,
    "start_time": "2022-05-06T16:21:55.247Z"
   },
   {
    "duration": 167,
    "start_time": "2022-05-06T16:21:55.562Z"
   },
   {
    "duration": 0,
    "start_time": "2022-05-06T16:21:55.731Z"
   },
   {
    "duration": 0,
    "start_time": "2022-05-06T16:21:55.733Z"
   },
   {
    "duration": 0,
    "start_time": "2022-05-06T16:21:55.735Z"
   },
   {
    "duration": 0,
    "start_time": "2022-05-06T16:21:55.736Z"
   },
   {
    "duration": 0,
    "start_time": "2022-05-06T16:21:55.738Z"
   },
   {
    "duration": 0,
    "start_time": "2022-05-06T16:21:55.740Z"
   },
   {
    "duration": 0,
    "start_time": "2022-05-06T16:21:55.741Z"
   },
   {
    "duration": 0,
    "start_time": "2022-05-06T16:21:55.742Z"
   },
   {
    "duration": 0,
    "start_time": "2022-05-06T16:21:55.743Z"
   },
   {
    "duration": 0,
    "start_time": "2022-05-06T16:21:55.744Z"
   },
   {
    "duration": 0,
    "start_time": "2022-05-06T16:21:55.745Z"
   },
   {
    "duration": 0,
    "start_time": "2022-05-06T16:21:55.745Z"
   },
   {
    "duration": 0,
    "start_time": "2022-05-06T16:21:55.746Z"
   },
   {
    "duration": 0,
    "start_time": "2022-05-06T16:21:55.753Z"
   },
   {
    "duration": 1,
    "start_time": "2022-05-06T16:21:55.754Z"
   },
   {
    "duration": 0,
    "start_time": "2022-05-06T16:21:55.756Z"
   },
   {
    "duration": 0,
    "start_time": "2022-05-06T16:21:55.757Z"
   },
   {
    "duration": 1180,
    "start_time": "2022-05-06T16:22:53.520Z"
   },
   {
    "duration": 38,
    "start_time": "2022-05-06T16:22:54.702Z"
   },
   {
    "duration": 438,
    "start_time": "2022-05-06T16:22:54.742Z"
   },
   {
    "duration": 25,
    "start_time": "2022-05-06T16:22:55.182Z"
   },
   {
    "duration": 23,
    "start_time": "2022-05-06T16:22:55.209Z"
   },
   {
    "duration": 15,
    "start_time": "2022-05-06T16:22:55.234Z"
   },
   {
    "duration": 19,
    "start_time": "2022-05-06T16:22:55.251Z"
   },
   {
    "duration": 12,
    "start_time": "2022-05-06T16:22:55.272Z"
   },
   {
    "duration": 6,
    "start_time": "2022-05-06T16:22:55.286Z"
   },
   {
    "duration": 49,
    "start_time": "2022-05-06T16:22:55.294Z"
   },
   {
    "duration": 241,
    "start_time": "2022-05-06T16:22:55.345Z"
   },
   {
    "duration": 409,
    "start_time": "2022-05-06T16:22:55.588Z"
   },
   {
    "duration": 12,
    "start_time": "2022-05-06T16:22:55.999Z"
   },
   {
    "duration": 67,
    "start_time": "2022-05-06T16:22:56.024Z"
   },
   {
    "duration": 197,
    "start_time": "2022-05-06T16:22:56.093Z"
   },
   {
    "duration": 8,
    "start_time": "2022-05-06T16:22:56.292Z"
   },
   {
    "duration": 305,
    "start_time": "2022-05-06T16:22:56.302Z"
   },
   {
    "duration": 19,
    "start_time": "2022-05-06T16:22:56.610Z"
   },
   {
    "duration": 314,
    "start_time": "2022-05-06T16:22:56.632Z"
   },
   {
    "duration": 0,
    "start_time": "2022-05-06T16:22:56.948Z"
   },
   {
    "duration": 0,
    "start_time": "2022-05-06T16:22:56.950Z"
   },
   {
    "duration": 0,
    "start_time": "2022-05-06T16:22:56.951Z"
   },
   {
    "duration": 0,
    "start_time": "2022-05-06T16:22:56.953Z"
   },
   {
    "duration": 0,
    "start_time": "2022-05-06T16:22:56.954Z"
   },
   {
    "duration": 0,
    "start_time": "2022-05-06T16:22:56.956Z"
   },
   {
    "duration": 0,
    "start_time": "2022-05-06T16:22:56.957Z"
   },
   {
    "duration": 0,
    "start_time": "2022-05-06T16:22:56.959Z"
   },
   {
    "duration": 1,
    "start_time": "2022-05-06T16:22:56.960Z"
   },
   {
    "duration": 0,
    "start_time": "2022-05-06T16:22:56.962Z"
   },
   {
    "duration": 0,
    "start_time": "2022-05-06T16:22:56.963Z"
   },
   {
    "duration": 0,
    "start_time": "2022-05-06T16:22:56.964Z"
   },
   {
    "duration": 0,
    "start_time": "2022-05-06T16:22:56.966Z"
   },
   {
    "duration": 0,
    "start_time": "2022-05-06T16:22:56.967Z"
   },
   {
    "duration": 0,
    "start_time": "2022-05-06T16:22:56.968Z"
   },
   {
    "duration": 0,
    "start_time": "2022-05-06T16:22:56.969Z"
   },
   {
    "duration": 1186,
    "start_time": "2022-05-06T16:23:44.771Z"
   },
   {
    "duration": 39,
    "start_time": "2022-05-06T16:23:45.959Z"
   },
   {
    "duration": 681,
    "start_time": "2022-05-06T16:23:46.000Z"
   },
   {
    "duration": 49,
    "start_time": "2022-05-06T16:23:46.683Z"
   },
   {
    "duration": 11,
    "start_time": "2022-05-06T16:23:46.734Z"
   },
   {
    "duration": 17,
    "start_time": "2022-05-06T16:23:46.747Z"
   },
   {
    "duration": 20,
    "start_time": "2022-05-06T16:23:46.766Z"
   },
   {
    "duration": 43,
    "start_time": "2022-05-06T16:23:46.788Z"
   },
   {
    "duration": 8,
    "start_time": "2022-05-06T16:23:46.832Z"
   },
   {
    "duration": 24,
    "start_time": "2022-05-06T16:23:46.842Z"
   },
   {
    "duration": 264,
    "start_time": "2022-05-06T16:23:46.869Z"
   },
   {
    "duration": 306,
    "start_time": "2022-05-06T16:23:47.135Z"
   },
   {
    "duration": 11,
    "start_time": "2022-05-06T16:23:47.443Z"
   },
   {
    "duration": 81,
    "start_time": "2022-05-06T16:23:47.457Z"
   },
   {
    "duration": 274,
    "start_time": "2022-05-06T16:23:47.540Z"
   },
   {
    "duration": 11,
    "start_time": "2022-05-06T16:23:47.816Z"
   },
   {
    "duration": 192,
    "start_time": "2022-05-06T16:23:47.829Z"
   },
   {
    "duration": 10,
    "start_time": "2022-05-06T16:23:48.024Z"
   },
   {
    "duration": 396,
    "start_time": "2022-05-06T16:23:48.036Z"
   },
   {
    "duration": 99,
    "start_time": "2022-05-06T16:23:48.433Z"
   },
   {
    "duration": 0,
    "start_time": "2022-05-06T16:23:48.533Z"
   },
   {
    "duration": 0,
    "start_time": "2022-05-06T16:23:48.535Z"
   },
   {
    "duration": 0,
    "start_time": "2022-05-06T16:23:48.536Z"
   },
   {
    "duration": 0,
    "start_time": "2022-05-06T16:23:48.537Z"
   },
   {
    "duration": 0,
    "start_time": "2022-05-06T16:23:48.539Z"
   },
   {
    "duration": 0,
    "start_time": "2022-05-06T16:23:48.540Z"
   },
   {
    "duration": 0,
    "start_time": "2022-05-06T16:23:48.541Z"
   },
   {
    "duration": 0,
    "start_time": "2022-05-06T16:23:48.543Z"
   },
   {
    "duration": 0,
    "start_time": "2022-05-06T16:23:48.543Z"
   },
   {
    "duration": 0,
    "start_time": "2022-05-06T16:23:48.545Z"
   },
   {
    "duration": 0,
    "start_time": "2022-05-06T16:23:48.545Z"
   },
   {
    "duration": 0,
    "start_time": "2022-05-06T16:23:48.546Z"
   },
   {
    "duration": 0,
    "start_time": "2022-05-06T16:23:48.548Z"
   },
   {
    "duration": 0,
    "start_time": "2022-05-06T16:23:48.549Z"
   },
   {
    "duration": 0,
    "start_time": "2022-05-06T16:23:48.550Z"
   },
   {
    "duration": 1521,
    "start_time": "2022-05-06T16:24:47.586Z"
   },
   {
    "duration": 37,
    "start_time": "2022-05-06T16:24:49.111Z"
   },
   {
    "duration": 442,
    "start_time": "2022-05-06T16:24:49.150Z"
   },
   {
    "duration": 33,
    "start_time": "2022-05-06T16:24:49.594Z"
   },
   {
    "duration": 10,
    "start_time": "2022-05-06T16:24:49.628Z"
   },
   {
    "duration": 20,
    "start_time": "2022-05-06T16:24:49.639Z"
   },
   {
    "duration": 20,
    "start_time": "2022-05-06T16:24:49.660Z"
   },
   {
    "duration": 12,
    "start_time": "2022-05-06T16:24:52.487Z"
   },
   {
    "duration": 15,
    "start_time": "2022-05-06T16:24:52.501Z"
   },
   {
    "duration": 19,
    "start_time": "2022-05-06T16:24:52.717Z"
   },
   {
    "duration": 258,
    "start_time": "2022-05-06T16:24:52.738Z"
   },
   {
    "duration": 306,
    "start_time": "2022-05-06T16:24:52.998Z"
   },
   {
    "duration": 20,
    "start_time": "2022-05-06T16:24:53.306Z"
   },
   {
    "duration": 68,
    "start_time": "2022-05-06T16:24:53.329Z"
   },
   {
    "duration": 193,
    "start_time": "2022-05-06T16:24:53.400Z"
   },
   {
    "duration": 6,
    "start_time": "2022-05-06T16:24:53.595Z"
   },
   {
    "duration": 184,
    "start_time": "2022-05-06T16:24:53.602Z"
   },
   {
    "duration": 9,
    "start_time": "2022-05-06T16:24:53.788Z"
   },
   {
    "duration": 384,
    "start_time": "2022-05-06T16:24:53.799Z"
   },
   {
    "duration": 10,
    "start_time": "2022-05-06T16:24:56.099Z"
   },
   {
    "duration": 457,
    "start_time": "2022-05-06T16:24:56.111Z"
   },
   {
    "duration": 96,
    "start_time": "2022-05-06T16:24:56.570Z"
   },
   {
    "duration": 1446,
    "start_time": "2022-05-06T16:24:56.668Z"
   },
   {
    "duration": 22,
    "start_time": "2022-05-06T16:24:58.124Z"
   },
   {
    "duration": 28,
    "start_time": "2022-05-06T16:24:58.148Z"
   },
   {
    "duration": 58,
    "start_time": "2022-05-06T16:24:58.178Z"
   },
   {
    "duration": 24,
    "start_time": "2022-05-06T16:24:58.238Z"
   },
   {
    "duration": 609,
    "start_time": "2022-05-06T16:24:58.263Z"
   },
   {
    "duration": 49,
    "start_time": "2022-05-06T16:24:58.876Z"
   },
   {
    "duration": 26,
    "start_time": "2022-05-06T16:24:58.927Z"
   },
   {
    "duration": 22,
    "start_time": "2022-05-06T16:24:58.955Z"
   },
   {
    "duration": 7,
    "start_time": "2022-05-06T16:24:58.979Z"
   },
   {
    "duration": 5,
    "start_time": "2022-05-06T16:24:59.024Z"
   },
   {
    "duration": 13,
    "start_time": "2022-05-06T16:24:59.031Z"
   },
   {
    "duration": 6,
    "start_time": "2022-05-06T16:24:59.046Z"
   },
   {
    "duration": 1619,
    "start_time": "2022-05-07T05:14:02.887Z"
   },
   {
    "duration": 45,
    "start_time": "2022-05-07T05:14:04.508Z"
   },
   {
    "duration": 528,
    "start_time": "2022-05-07T05:14:04.555Z"
   },
   {
    "duration": 47,
    "start_time": "2022-05-07T05:14:05.086Z"
   },
   {
    "duration": 14,
    "start_time": "2022-05-07T05:14:05.135Z"
   },
   {
    "duration": 27,
    "start_time": "2022-05-07T05:14:05.150Z"
   },
   {
    "duration": 44,
    "start_time": "2022-05-07T05:14:05.180Z"
   },
   {
    "duration": 15,
    "start_time": "2022-05-07T05:14:05.227Z"
   },
   {
    "duration": 28,
    "start_time": "2022-05-07T05:14:05.244Z"
   },
   {
    "duration": 40,
    "start_time": "2022-05-07T05:14:05.276Z"
   },
   {
    "duration": 271,
    "start_time": "2022-05-07T05:14:05.318Z"
   },
   {
    "duration": 352,
    "start_time": "2022-05-07T05:14:05.591Z"
   },
   {
    "duration": 13,
    "start_time": "2022-05-07T05:14:05.945Z"
   },
   {
    "duration": 88,
    "start_time": "2022-05-07T05:14:05.960Z"
   },
   {
    "duration": 217,
    "start_time": "2022-05-07T05:14:06.050Z"
   },
   {
    "duration": 8,
    "start_time": "2022-05-07T05:14:06.270Z"
   },
   {
    "duration": 226,
    "start_time": "2022-05-07T05:14:06.280Z"
   },
   {
    "duration": 19,
    "start_time": "2022-05-07T05:14:06.508Z"
   },
   {
    "duration": 429,
    "start_time": "2022-05-07T05:14:06.529Z"
   },
   {
    "duration": 12,
    "start_time": "2022-05-07T05:14:06.960Z"
   },
   {
    "duration": 437,
    "start_time": "2022-05-07T05:14:06.974Z"
   },
   {
    "duration": 97,
    "start_time": "2022-05-07T05:14:07.413Z"
   },
   {
    "duration": 1510,
    "start_time": "2022-05-07T05:14:07.512Z"
   },
   {
    "duration": 23,
    "start_time": "2022-05-07T05:14:09.024Z"
   },
   {
    "duration": 28,
    "start_time": "2022-05-07T05:14:09.049Z"
   },
   {
    "duration": 56,
    "start_time": "2022-05-07T05:14:09.079Z"
   },
   {
    "duration": 28,
    "start_time": "2022-05-07T05:14:09.137Z"
   },
   {
    "duration": 475,
    "start_time": "2022-05-07T05:14:09.168Z"
   },
   {
    "duration": 29,
    "start_time": "2022-05-07T05:14:09.645Z"
   },
   {
    "duration": 53,
    "start_time": "2022-05-07T05:14:09.676Z"
   },
   {
    "duration": 24,
    "start_time": "2022-05-07T05:14:09.731Z"
   },
   {
    "duration": 10,
    "start_time": "2022-05-07T05:14:09.757Z"
   },
   {
    "duration": 6,
    "start_time": "2022-05-07T05:14:09.768Z"
   },
   {
    "duration": 13,
    "start_time": "2022-05-07T05:14:09.776Z"
   },
   {
    "duration": 6,
    "start_time": "2022-05-07T05:14:09.823Z"
   },
   {
    "duration": 1518,
    "start_time": "2022-05-07T10:47:02.747Z"
   },
   {
    "duration": 41,
    "start_time": "2022-05-07T10:47:04.268Z"
   },
   {
    "duration": 566,
    "start_time": "2022-05-07T10:47:04.311Z"
   },
   {
    "duration": 48,
    "start_time": "2022-05-07T10:47:04.879Z"
   },
   {
    "duration": 15,
    "start_time": "2022-05-07T10:47:04.930Z"
   },
   {
    "duration": 23,
    "start_time": "2022-05-07T10:47:04.947Z"
   },
   {
    "duration": 29,
    "start_time": "2022-05-07T10:47:04.994Z"
   },
   {
    "duration": 19,
    "start_time": "2022-05-07T10:47:05.026Z"
   },
   {
    "duration": 10,
    "start_time": "2022-05-07T10:47:05.047Z"
   },
   {
    "duration": 44,
    "start_time": "2022-05-07T10:47:05.059Z"
   },
   {
    "duration": 333,
    "start_time": "2022-05-07T10:47:05.105Z"
   },
   {
    "duration": 325,
    "start_time": "2022-05-07T10:47:05.440Z"
   },
   {
    "duration": 11,
    "start_time": "2022-05-07T10:47:05.767Z"
   },
   {
    "duration": 78,
    "start_time": "2022-05-07T10:47:05.792Z"
   },
   {
    "duration": 199,
    "start_time": "2022-05-07T10:47:05.872Z"
   },
   {
    "duration": 6,
    "start_time": "2022-05-07T10:47:06.073Z"
   },
   {
    "duration": 202,
    "start_time": "2022-05-07T10:47:06.092Z"
   },
   {
    "duration": 9,
    "start_time": "2022-05-07T10:47:06.296Z"
   },
   {
    "duration": 410,
    "start_time": "2022-05-07T10:47:06.307Z"
   },
   {
    "duration": 12,
    "start_time": "2022-05-07T10:47:06.719Z"
   },
   {
    "duration": 429,
    "start_time": "2022-05-07T10:47:06.733Z"
   },
   {
    "duration": 86,
    "start_time": "2022-05-07T10:47:07.164Z"
   },
   {
    "duration": 1531,
    "start_time": "2022-05-07T10:47:07.252Z"
   },
   {
    "duration": 26,
    "start_time": "2022-05-07T10:47:08.792Z"
   },
   {
    "duration": 28,
    "start_time": "2022-05-07T10:47:08.820Z"
   },
   {
    "duration": 58,
    "start_time": "2022-05-07T10:47:08.850Z"
   },
   {
    "duration": 37,
    "start_time": "2022-05-07T10:47:08.910Z"
   },
   {
    "duration": 503,
    "start_time": "2022-05-07T10:47:08.949Z"
   },
   {
    "duration": 47,
    "start_time": "2022-05-07T10:47:09.453Z"
   },
   {
    "duration": 27,
    "start_time": "2022-05-07T10:47:09.502Z"
   },
   {
    "duration": 23,
    "start_time": "2022-05-07T10:47:09.531Z"
   },
   {
    "duration": 42,
    "start_time": "2022-05-07T10:47:09.556Z"
   },
   {
    "duration": 12,
    "start_time": "2022-05-07T10:47:09.600Z"
   },
   {
    "duration": 42,
    "start_time": "2022-05-07T10:47:09.614Z"
   },
   {
    "duration": 16,
    "start_time": "2022-05-07T10:47:09.658Z"
   },
   {
    "duration": 1489,
    "start_time": "2022-05-07T10:49:12.139Z"
   },
   {
    "duration": 47,
    "start_time": "2022-05-07T10:49:13.631Z"
   },
   {
    "duration": 693,
    "start_time": "2022-05-07T10:49:13.679Z"
   },
   {
    "duration": 35,
    "start_time": "2022-05-07T10:49:14.374Z"
   },
   {
    "duration": 12,
    "start_time": "2022-05-07T10:49:14.411Z"
   },
   {
    "duration": 31,
    "start_time": "2022-05-07T10:49:14.425Z"
   },
   {
    "duration": 37,
    "start_time": "2022-05-07T10:49:14.457Z"
   },
   {
    "duration": 13,
    "start_time": "2022-05-07T10:49:14.496Z"
   },
   {
    "duration": 8,
    "start_time": "2022-05-07T10:49:14.510Z"
   },
   {
    "duration": 19,
    "start_time": "2022-05-07T10:49:14.521Z"
   },
   {
    "duration": 271,
    "start_time": "2022-05-07T10:49:14.542Z"
   },
   {
    "duration": 323,
    "start_time": "2022-05-07T10:49:14.815Z"
   },
   {
    "duration": 11,
    "start_time": "2022-05-07T10:49:15.141Z"
   },
   {
    "duration": 89,
    "start_time": "2022-05-07T10:49:15.154Z"
   },
   {
    "duration": 200,
    "start_time": "2022-05-07T10:49:15.246Z"
   },
   {
    "duration": 6,
    "start_time": "2022-05-07T10:49:15.448Z"
   },
   {
    "duration": 198,
    "start_time": "2022-05-07T10:49:15.455Z"
   },
   {
    "duration": 10,
    "start_time": "2022-05-07T10:49:15.654Z"
   },
   {
    "duration": 634,
    "start_time": "2022-05-07T10:49:15.666Z"
   },
   {
    "duration": 13,
    "start_time": "2022-05-07T10:49:16.302Z"
   },
   {
    "duration": 641,
    "start_time": "2022-05-07T10:49:16.317Z"
   },
   {
    "duration": 108,
    "start_time": "2022-05-07T10:49:16.961Z"
   },
   {
    "duration": 2233,
    "start_time": "2022-05-07T10:49:17.071Z"
   },
   {
    "duration": 31,
    "start_time": "2022-05-07T10:49:19.306Z"
   },
   {
    "duration": 57,
    "start_time": "2022-05-07T10:49:19.339Z"
   },
   {
    "duration": 41,
    "start_time": "2022-05-07T10:49:19.398Z"
   },
   {
    "duration": 60,
    "start_time": "2022-05-07T10:49:19.441Z"
   },
   {
    "duration": 537,
    "start_time": "2022-05-07T10:49:19.504Z"
   },
   {
    "duration": 30,
    "start_time": "2022-05-07T10:49:20.044Z"
   },
   {
    "duration": 30,
    "start_time": "2022-05-07T10:49:20.093Z"
   },
   {
    "duration": 26,
    "start_time": "2022-05-07T10:49:20.125Z"
   },
   {
    "duration": 38,
    "start_time": "2022-05-07T10:49:20.154Z"
   },
   {
    "duration": 7,
    "start_time": "2022-05-07T10:49:20.195Z"
   },
   {
    "duration": 11,
    "start_time": "2022-05-07T10:49:20.204Z"
   },
   {
    "duration": 8,
    "start_time": "2022-05-07T10:49:20.217Z"
   },
   {
    "duration": 1416,
    "start_time": "2022-05-07T10:51:09.754Z"
   },
   {
    "duration": 39,
    "start_time": "2022-05-07T10:51:11.172Z"
   },
   {
    "duration": 466,
    "start_time": "2022-05-07T10:51:11.213Z"
   },
   {
    "duration": 37,
    "start_time": "2022-05-07T10:51:11.681Z"
   },
   {
    "duration": 12,
    "start_time": "2022-05-07T10:51:11.720Z"
   },
   {
    "duration": 17,
    "start_time": "2022-05-07T10:51:11.734Z"
   },
   {
    "duration": 50,
    "start_time": "2022-05-07T10:51:11.753Z"
   },
   {
    "duration": 12,
    "start_time": "2022-05-07T10:51:11.805Z"
   },
   {
    "duration": 8,
    "start_time": "2022-05-07T10:51:11.819Z"
   },
   {
    "duration": 20,
    "start_time": "2022-05-07T10:51:11.829Z"
   },
   {
    "duration": 279,
    "start_time": "2022-05-07T10:51:11.851Z"
   },
   {
    "duration": 310,
    "start_time": "2022-05-07T10:51:12.132Z"
   },
   {
    "duration": 10,
    "start_time": "2022-05-07T10:51:12.444Z"
   },
   {
    "duration": 87,
    "start_time": "2022-05-07T10:51:12.457Z"
   },
   {
    "duration": 193,
    "start_time": "2022-05-07T10:51:12.545Z"
   },
   {
    "duration": 6,
    "start_time": "2022-05-07T10:51:12.740Z"
   },
   {
    "duration": 195,
    "start_time": "2022-05-07T10:51:12.748Z"
   },
   {
    "duration": 10,
    "start_time": "2022-05-07T10:51:12.944Z"
   },
   {
    "duration": 387,
    "start_time": "2022-05-07T10:51:12.955Z"
   },
   {
    "duration": 10,
    "start_time": "2022-05-07T10:51:13.345Z"
   },
   {
    "duration": 404,
    "start_time": "2022-05-07T10:51:13.356Z"
   },
   {
    "duration": 89,
    "start_time": "2022-05-07T10:51:13.762Z"
   },
   {
    "duration": 1486,
    "start_time": "2022-05-07T10:51:13.852Z"
   },
   {
    "duration": 29,
    "start_time": "2022-05-07T10:51:15.340Z"
   },
   {
    "duration": 44,
    "start_time": "2022-05-07T10:51:15.371Z"
   },
   {
    "duration": 28,
    "start_time": "2022-05-07T10:51:15.418Z"
   },
   {
    "duration": 53,
    "start_time": "2022-05-07T10:51:15.448Z"
   },
   {
    "duration": 436,
    "start_time": "2022-05-07T10:51:15.502Z"
   },
   {
    "duration": 26,
    "start_time": "2022-05-07T10:51:15.940Z"
   },
   {
    "duration": 40,
    "start_time": "2022-05-07T10:51:15.968Z"
   },
   {
    "duration": 23,
    "start_time": "2022-05-07T10:51:16.009Z"
   },
   {
    "duration": 7,
    "start_time": "2022-05-07T10:51:16.034Z"
   },
   {
    "duration": 8,
    "start_time": "2022-05-07T10:51:16.043Z"
   },
   {
    "duration": 41,
    "start_time": "2022-05-07T10:51:16.052Z"
   },
   {
    "duration": 6,
    "start_time": "2022-05-07T10:51:16.094Z"
   },
   {
    "duration": 1302,
    "start_time": "2022-05-07T10:59:35.092Z"
   },
   {
    "duration": 42,
    "start_time": "2022-05-07T10:59:36.396Z"
   },
   {
    "duration": 529,
    "start_time": "2022-05-07T10:59:36.440Z"
   },
   {
    "duration": 38,
    "start_time": "2022-05-07T10:59:36.971Z"
   },
   {
    "duration": 10,
    "start_time": "2022-05-07T10:59:37.012Z"
   },
   {
    "duration": 20,
    "start_time": "2022-05-07T10:59:37.024Z"
   },
   {
    "duration": 48,
    "start_time": "2022-05-07T10:59:37.046Z"
   },
   {
    "duration": 12,
    "start_time": "2022-05-07T10:59:37.095Z"
   },
   {
    "duration": 10,
    "start_time": "2022-05-07T10:59:37.109Z"
   },
   {
    "duration": 21,
    "start_time": "2022-05-07T10:59:37.120Z"
   },
   {
    "duration": 271,
    "start_time": "2022-05-07T10:59:37.142Z"
   },
   {
    "duration": 325,
    "start_time": "2022-05-07T10:59:37.414Z"
   },
   {
    "duration": 16,
    "start_time": "2022-05-07T10:59:37.741Z"
   },
   {
    "duration": 129,
    "start_time": "2022-05-07T10:59:37.761Z"
   },
   {
    "duration": 304,
    "start_time": "2022-05-07T10:59:37.893Z"
   },
   {
    "duration": 8,
    "start_time": "2022-05-07T10:59:38.200Z"
   },
   {
    "duration": 334,
    "start_time": "2022-05-07T10:59:38.211Z"
   },
   {
    "duration": 13,
    "start_time": "2022-05-07T10:59:38.548Z"
   },
   {
    "duration": 606,
    "start_time": "2022-05-07T10:59:38.563Z"
   },
   {
    "duration": 24,
    "start_time": "2022-05-07T10:59:39.171Z"
   },
   {
    "duration": 483,
    "start_time": "2022-05-07T10:59:39.197Z"
   },
   {
    "duration": 96,
    "start_time": "2022-05-07T10:59:39.683Z"
   },
   {
    "duration": 1782,
    "start_time": "2022-05-07T10:59:39.781Z"
   },
   {
    "duration": 39,
    "start_time": "2022-05-07T10:59:41.565Z"
   },
   {
    "duration": 30,
    "start_time": "2022-05-07T10:59:41.606Z"
   },
   {
    "duration": 61,
    "start_time": "2022-05-07T10:59:41.638Z"
   },
   {
    "duration": 32,
    "start_time": "2022-05-07T10:59:41.701Z"
   },
   {
    "duration": 511,
    "start_time": "2022-05-07T10:59:41.735Z"
   },
   {
    "duration": 29,
    "start_time": "2022-05-07T10:59:42.248Z"
   },
   {
    "duration": 27,
    "start_time": "2022-05-07T10:59:42.293Z"
   },
   {
    "duration": 23,
    "start_time": "2022-05-07T10:59:42.322Z"
   },
   {
    "duration": 2419,
    "start_time": "2022-05-07T10:59:42.347Z"
   },
   {
    "duration": 0,
    "start_time": "2022-05-07T10:59:44.768Z"
   },
   {
    "duration": 0,
    "start_time": "2022-05-07T10:59:44.769Z"
   },
   {
    "duration": 0,
    "start_time": "2022-05-07T10:59:44.770Z"
   },
   {
    "duration": 1231,
    "start_time": "2022-05-07T11:06:54.950Z"
   },
   {
    "duration": 46,
    "start_time": "2022-05-07T11:06:56.183Z"
   },
   {
    "duration": 509,
    "start_time": "2022-05-07T11:06:56.231Z"
   },
   {
    "duration": 26,
    "start_time": "2022-05-07T11:06:56.742Z"
   },
   {
    "duration": 29,
    "start_time": "2022-05-07T11:06:56.769Z"
   },
   {
    "duration": 31,
    "start_time": "2022-05-07T11:06:56.800Z"
   },
   {
    "duration": 41,
    "start_time": "2022-05-07T11:06:56.833Z"
   },
   {
    "duration": 15,
    "start_time": "2022-05-07T11:06:56.876Z"
   },
   {
    "duration": 9,
    "start_time": "2022-05-07T11:06:56.894Z"
   },
   {
    "duration": 31,
    "start_time": "2022-05-07T11:06:56.907Z"
   },
   {
    "duration": 338,
    "start_time": "2022-05-07T11:06:56.940Z"
   },
   {
    "duration": 430,
    "start_time": "2022-05-07T11:06:57.279Z"
   },
   {
    "duration": 11,
    "start_time": "2022-05-07T11:06:57.711Z"
   },
   {
    "duration": 93,
    "start_time": "2022-05-07T11:06:57.724Z"
   },
   {
    "duration": 269,
    "start_time": "2022-05-07T11:06:57.819Z"
   },
   {
    "duration": 8,
    "start_time": "2022-05-07T11:06:58.093Z"
   },
   {
    "duration": 299,
    "start_time": "2022-05-07T11:06:58.103Z"
   },
   {
    "duration": 11,
    "start_time": "2022-05-07T11:06:58.406Z"
   },
   {
    "duration": 411,
    "start_time": "2022-05-07T11:06:58.419Z"
   },
   {
    "duration": 9,
    "start_time": "2022-05-07T11:06:58.832Z"
   },
   {
    "duration": 431,
    "start_time": "2022-05-07T11:06:58.843Z"
   },
   {
    "duration": 91,
    "start_time": "2022-05-07T11:06:59.276Z"
   },
   {
    "duration": 1529,
    "start_time": "2022-05-07T11:06:59.369Z"
   },
   {
    "duration": 30,
    "start_time": "2022-05-07T11:07:00.900Z"
   },
   {
    "duration": 38,
    "start_time": "2022-05-07T11:07:00.932Z"
   },
   {
    "duration": 47,
    "start_time": "2022-05-07T11:07:00.973Z"
   },
   {
    "duration": 29,
    "start_time": "2022-05-07T11:07:01.022Z"
   },
   {
    "duration": 484,
    "start_time": "2022-05-07T11:07:01.056Z"
   },
   {
    "duration": 27,
    "start_time": "2022-05-07T11:07:01.542Z"
   },
   {
    "duration": 48,
    "start_time": "2022-05-07T11:07:01.570Z"
   },
   {
    "duration": 30,
    "start_time": "2022-05-07T11:07:01.620Z"
   },
   {
    "duration": 141,
    "start_time": "2022-05-07T11:07:01.652Z"
   },
   {
    "duration": 0,
    "start_time": "2022-05-07T11:07:01.795Z"
   },
   {
    "duration": 0,
    "start_time": "2022-05-07T11:07:01.797Z"
   },
   {
    "duration": 0,
    "start_time": "2022-05-07T11:07:01.799Z"
   },
   {
    "duration": 1647,
    "start_time": "2022-05-07T11:08:59.332Z"
   },
   {
    "duration": 61,
    "start_time": "2022-05-07T11:09:00.982Z"
   },
   {
    "duration": 595,
    "start_time": "2022-05-07T11:09:01.045Z"
   },
   {
    "duration": 56,
    "start_time": "2022-05-07T11:09:01.642Z"
   },
   {
    "duration": 15,
    "start_time": "2022-05-07T11:09:01.700Z"
   },
   {
    "duration": 24,
    "start_time": "2022-05-07T11:09:01.718Z"
   },
   {
    "duration": 53,
    "start_time": "2022-05-07T11:09:01.745Z"
   },
   {
    "duration": 28,
    "start_time": "2022-05-07T11:09:01.801Z"
   },
   {
    "duration": 10,
    "start_time": "2022-05-07T11:09:01.831Z"
   },
   {
    "duration": 34,
    "start_time": "2022-05-07T11:09:01.845Z"
   },
   {
    "duration": 266,
    "start_time": "2022-05-07T11:09:01.881Z"
   },
   {
    "duration": 454,
    "start_time": "2022-05-07T11:09:02.149Z"
   },
   {
    "duration": 18,
    "start_time": "2022-05-07T11:09:02.606Z"
   },
   {
    "duration": 89,
    "start_time": "2022-05-07T11:09:02.625Z"
   },
   {
    "duration": 209,
    "start_time": "2022-05-07T11:09:02.716Z"
   },
   {
    "duration": 7,
    "start_time": "2022-05-07T11:09:02.927Z"
   },
   {
    "duration": 205,
    "start_time": "2022-05-07T11:09:02.936Z"
   },
   {
    "duration": 10,
    "start_time": "2022-05-07T11:09:03.143Z"
   },
   {
    "duration": 430,
    "start_time": "2022-05-07T11:09:03.155Z"
   },
   {
    "duration": 18,
    "start_time": "2022-05-07T11:09:03.586Z"
   },
   {
    "duration": 437,
    "start_time": "2022-05-07T11:09:03.606Z"
   },
   {
    "duration": 89,
    "start_time": "2022-05-07T11:09:04.045Z"
   },
   {
    "duration": 1540,
    "start_time": "2022-05-07T11:09:04.137Z"
   },
   {
    "duration": 40,
    "start_time": "2022-05-07T11:09:05.678Z"
   },
   {
    "duration": 44,
    "start_time": "2022-05-07T11:09:05.721Z"
   },
   {
    "duration": 64,
    "start_time": "2022-05-07T11:09:05.767Z"
   },
   {
    "duration": 21,
    "start_time": "2022-05-07T11:09:05.833Z"
   },
   {
    "duration": 479,
    "start_time": "2022-05-07T11:09:05.857Z"
   },
   {
    "duration": 28,
    "start_time": "2022-05-07T11:09:06.338Z"
   },
   {
    "duration": 46,
    "start_time": "2022-05-07T11:09:06.368Z"
   },
   {
    "duration": 24,
    "start_time": "2022-05-07T11:09:06.416Z"
   },
   {
    "duration": 160,
    "start_time": "2022-05-07T11:09:06.442Z"
   },
   {
    "duration": 0,
    "start_time": "2022-05-07T11:09:06.604Z"
   },
   {
    "duration": 0,
    "start_time": "2022-05-07T11:09:06.605Z"
   },
   {
    "duration": 0,
    "start_time": "2022-05-07T11:09:06.606Z"
   },
   {
    "duration": 1253,
    "start_time": "2022-05-07T11:12:46.621Z"
   },
   {
    "duration": 55,
    "start_time": "2022-05-07T11:12:47.876Z"
   },
   {
    "duration": 643,
    "start_time": "2022-05-07T11:12:47.933Z"
   },
   {
    "duration": 41,
    "start_time": "2022-05-07T11:12:48.578Z"
   },
   {
    "duration": 11,
    "start_time": "2022-05-07T11:12:48.621Z"
   },
   {
    "duration": 18,
    "start_time": "2022-05-07T11:12:48.634Z"
   },
   {
    "duration": 50,
    "start_time": "2022-05-07T11:12:48.654Z"
   },
   {
    "duration": 22,
    "start_time": "2022-05-07T11:12:48.706Z"
   },
   {
    "duration": 9,
    "start_time": "2022-05-07T11:12:48.730Z"
   },
   {
    "duration": 18,
    "start_time": "2022-05-07T11:12:48.742Z"
   },
   {
    "duration": 282,
    "start_time": "2022-05-07T11:12:48.762Z"
   },
   {
    "duration": 339,
    "start_time": "2022-05-07T11:12:49.045Z"
   },
   {
    "duration": 26,
    "start_time": "2022-05-07T11:12:49.386Z"
   },
   {
    "duration": 90,
    "start_time": "2022-05-07T11:12:49.414Z"
   },
   {
    "duration": 207,
    "start_time": "2022-05-07T11:12:49.506Z"
   },
   {
    "duration": 7,
    "start_time": "2022-05-07T11:12:49.715Z"
   },
   {
    "duration": 284,
    "start_time": "2022-05-07T11:12:49.724Z"
   },
   {
    "duration": 14,
    "start_time": "2022-05-07T11:12:50.010Z"
   },
   {
    "duration": 487,
    "start_time": "2022-05-07T11:12:50.025Z"
   },
   {
    "duration": 13,
    "start_time": "2022-05-07T11:12:50.515Z"
   },
   {
    "duration": 662,
    "start_time": "2022-05-07T11:12:50.530Z"
   },
   {
    "duration": 115,
    "start_time": "2022-05-07T11:12:51.195Z"
   },
   {
    "duration": 1650,
    "start_time": "2022-05-07T11:12:51.312Z"
   },
   {
    "duration": 50,
    "start_time": "2022-05-07T11:12:52.964Z"
   },
   {
    "duration": 43,
    "start_time": "2022-05-07T11:12:53.016Z"
   },
   {
    "duration": 58,
    "start_time": "2022-05-07T11:12:53.061Z"
   },
   {
    "duration": 24,
    "start_time": "2022-05-07T11:12:53.121Z"
   },
   {
    "duration": 443,
    "start_time": "2022-05-07T11:12:53.149Z"
   },
   {
    "duration": 31,
    "start_time": "2022-05-07T11:12:53.594Z"
   },
   {
    "duration": 26,
    "start_time": "2022-05-07T11:12:53.627Z"
   },
   {
    "duration": 54,
    "start_time": "2022-05-07T11:12:53.658Z"
   },
   {
    "duration": 9,
    "start_time": "2022-05-07T11:12:53.714Z"
   },
   {
    "duration": 5,
    "start_time": "2022-05-07T11:12:53.725Z"
   },
   {
    "duration": 10,
    "start_time": "2022-05-07T11:12:53.732Z"
   },
   {
    "duration": 8,
    "start_time": "2022-05-07T11:12:53.744Z"
   },
   {
    "duration": 1233,
    "start_time": "2022-05-07T11:16:52.660Z"
   },
   {
    "duration": 46,
    "start_time": "2022-05-07T11:16:53.896Z"
   },
   {
    "duration": 530,
    "start_time": "2022-05-07T11:16:53.944Z"
   },
   {
    "duration": 43,
    "start_time": "2022-05-07T11:16:54.475Z"
   },
   {
    "duration": 12,
    "start_time": "2022-05-07T11:16:54.520Z"
   },
   {
    "duration": 17,
    "start_time": "2022-05-07T11:16:54.534Z"
   },
   {
    "duration": 48,
    "start_time": "2022-05-07T11:16:54.553Z"
   },
   {
    "duration": 17,
    "start_time": "2022-05-07T11:16:54.603Z"
   },
   {
    "duration": 10,
    "start_time": "2022-05-07T11:16:54.622Z"
   },
   {
    "duration": 22,
    "start_time": "2022-05-07T11:16:54.634Z"
   },
   {
    "duration": 290,
    "start_time": "2022-05-07T11:16:54.658Z"
   },
   {
    "duration": 334,
    "start_time": "2022-05-07T11:16:54.950Z"
   },
   {
    "duration": 22,
    "start_time": "2022-05-07T11:16:55.285Z"
   },
   {
    "duration": 75,
    "start_time": "2022-05-07T11:16:55.310Z"
   },
   {
    "duration": 193,
    "start_time": "2022-05-07T11:16:55.395Z"
   },
   {
    "duration": 9,
    "start_time": "2022-05-07T11:16:55.593Z"
   },
   {
    "duration": 214,
    "start_time": "2022-05-07T11:16:55.604Z"
   },
   {
    "duration": 9,
    "start_time": "2022-05-07T11:16:55.820Z"
   },
   {
    "duration": 444,
    "start_time": "2022-05-07T11:16:55.832Z"
   },
   {
    "duration": 17,
    "start_time": "2022-05-07T11:16:56.279Z"
   },
   {
    "duration": 547,
    "start_time": "2022-05-07T11:16:56.297Z"
   },
   {
    "duration": 91,
    "start_time": "2022-05-07T11:16:56.846Z"
   },
   {
    "duration": 1593,
    "start_time": "2022-05-07T11:16:56.939Z"
   },
   {
    "duration": 22,
    "start_time": "2022-05-07T11:16:58.534Z"
   },
   {
    "duration": 56,
    "start_time": "2022-05-07T11:16:58.558Z"
   },
   {
    "duration": 33,
    "start_time": "2022-05-07T11:16:58.616Z"
   },
   {
    "duration": 52,
    "start_time": "2022-05-07T11:16:58.650Z"
   },
   {
    "duration": 445,
    "start_time": "2022-05-07T11:16:58.706Z"
   },
   {
    "duration": 45,
    "start_time": "2022-05-07T11:16:59.153Z"
   },
   {
    "duration": 37,
    "start_time": "2022-05-07T11:16:59.202Z"
   },
   {
    "duration": 24,
    "start_time": "2022-05-07T11:16:59.241Z"
   },
   {
    "duration": 35,
    "start_time": "2022-05-07T11:16:59.267Z"
   },
   {
    "duration": 10,
    "start_time": "2022-05-07T11:16:59.304Z"
   },
   {
    "duration": 7,
    "start_time": "2022-05-07T11:16:59.316Z"
   },
   {
    "duration": 8,
    "start_time": "2022-05-07T11:16:59.325Z"
   },
   {
    "duration": 1293,
    "start_time": "2022-05-11T04:02:34.202Z"
   },
   {
    "duration": 34,
    "start_time": "2022-05-11T04:02:35.497Z"
   },
   {
    "duration": 426,
    "start_time": "2022-05-11T04:02:35.533Z"
   },
   {
    "duration": 45,
    "start_time": "2022-05-11T04:02:35.960Z"
   },
   {
    "duration": 10,
    "start_time": "2022-05-11T04:02:36.007Z"
   },
   {
    "duration": 14,
    "start_time": "2022-05-11T04:02:36.019Z"
   },
   {
    "duration": 17,
    "start_time": "2022-05-11T04:02:36.035Z"
   },
   {
    "duration": 11,
    "start_time": "2022-05-11T04:02:36.054Z"
   },
   {
    "duration": 38,
    "start_time": "2022-05-11T04:02:36.066Z"
   },
   {
    "duration": 18,
    "start_time": "2022-05-11T04:02:36.105Z"
   },
   {
    "duration": 223,
    "start_time": "2022-05-11T04:02:36.125Z"
   },
   {
    "duration": 294,
    "start_time": "2022-05-11T04:02:36.350Z"
   },
   {
    "duration": 11,
    "start_time": "2022-05-11T04:02:36.646Z"
   },
   {
    "duration": 82,
    "start_time": "2022-05-11T04:02:36.661Z"
   },
   {
    "duration": 186,
    "start_time": "2022-05-11T04:02:36.745Z"
   },
   {
    "duration": 7,
    "start_time": "2022-05-11T04:02:36.933Z"
   },
   {
    "duration": 192,
    "start_time": "2022-05-11T04:02:36.942Z"
   },
   {
    "duration": 10,
    "start_time": "2022-05-11T04:02:37.136Z"
   },
   {
    "duration": 374,
    "start_time": "2022-05-11T04:02:37.148Z"
   },
   {
    "duration": 9,
    "start_time": "2022-05-11T04:02:37.524Z"
   },
   {
    "duration": 381,
    "start_time": "2022-05-11T04:02:37.534Z"
   },
   {
    "duration": 86,
    "start_time": "2022-05-11T04:02:37.916Z"
   },
   {
    "duration": 1257,
    "start_time": "2022-05-11T04:02:38.004Z"
   },
   {
    "duration": 20,
    "start_time": "2022-05-11T04:02:39.263Z"
   },
   {
    "duration": 24,
    "start_time": "2022-05-11T04:02:39.300Z"
   },
   {
    "duration": 24,
    "start_time": "2022-05-11T04:02:39.326Z"
   },
   {
    "duration": 21,
    "start_time": "2022-05-11T04:02:39.351Z"
   },
   {
    "duration": 377,
    "start_time": "2022-05-11T04:02:39.400Z"
   },
   {
    "duration": 31,
    "start_time": "2022-05-11T04:02:39.779Z"
   },
   {
    "duration": 19,
    "start_time": "2022-05-11T04:02:39.812Z"
   },
   {
    "duration": 23,
    "start_time": "2022-05-11T04:02:39.833Z"
   },
   {
    "duration": 8,
    "start_time": "2022-05-11T04:02:39.857Z"
   },
   {
    "duration": 34,
    "start_time": "2022-05-11T04:02:39.867Z"
   },
   {
    "duration": 6,
    "start_time": "2022-05-11T04:02:39.903Z"
   },
   {
    "duration": 10,
    "start_time": "2022-05-11T04:02:39.911Z"
   }
  ],
  "kernelspec": {
   "display_name": "Python 3.7.0 ('base')",
   "language": "python",
   "name": "python3"
  },
  "language_info": {
   "codemirror_mode": {
    "name": "ipython",
    "version": 3
   },
   "file_extension": ".py",
   "mimetype": "text/x-python",
   "name": "python",
   "nbconvert_exporter": "python",
   "pygments_lexer": "ipython3",
   "version": "3.7.0"
  },
  "toc": {
   "base_numbering": 1,
   "nav_menu": {},
   "number_sections": true,
   "sideBar": true,
   "skip_h1_title": true,
   "title_cell": "Table of Contents",
   "title_sidebar": "Contents",
   "toc_cell": false,
   "toc_position": {},
   "toc_section_display": true,
   "toc_window_display": false
  },
  "vscode": {
   "interpreter": {
    "hash": "7758e92e9a61d7a3490898707f7eeb937c85e9d1e8d4e877cc6c187218f226d5"
   }
  }
 },
 "nbformat": 4,
 "nbformat_minor": 2
}
