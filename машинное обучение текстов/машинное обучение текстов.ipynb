{
 "cells": [
  {
   "cell_type": "markdown",
   "metadata": {},
   "source": [
    "# Проект по поиску токсичных комментариев"
   ]
  },
  {
   "cell_type": "markdown",
   "metadata": {},
   "source": [
    "Интернет-магазин «Викишоп» запускает новый сервис, чтобы пользователи могли редактировать и дополнять описания товаров, как в вики-сообществах. То есть клиенты предлагают свои правки и комментируют изменения других. Магазину запросил инструмент, который будет искать токсичные комментарии и отправлять их на модерацию. \n",
    "\n",
    "Цель проекта: обучить модель классифицировать комментарии на позитивные и негативные. \n",
    "\n",
    "Задачи:\n",
    "1. Загрузить и подготовить данные\n",
    "2. Обучить разные модели\n",
    "3. Построить модель со значением метрики качества *F1* не меньше 0.75. \n",
    "\n",
    "**Описание данных**\n",
    "Данные находятся в файле `toxic_comments.csv`. Столбец *text* в нём содержит текст комментария, а *toxic* — целевой признак. В нашем распоряжении набор данных с разметкой о токсичности правок.\n"
   ]
  },
  {
   "cell_type": "markdown",
   "metadata": {},
   "source": [
    "## Подготовка"
   ]
  },
  {
   "cell_type": "code",
   "execution_count": 1,
   "metadata": {},
   "outputs": [
    {
     "name": "stderr",
     "output_type": "stream",
     "text": [
      "[nltk_data] Downloading package stopwords to /home/jovyan/nltk_data...\n",
      "[nltk_data]   Package stopwords is already up-to-date!\n"
     ]
    },
    {
     "name": "stdout",
     "output_type": "stream",
     "text": [
      "Requirement already satisfied: spacy in /opt/conda/lib/python3.9/site-packages (3.2.0)\n",
      "Requirement already satisfied: typer<0.5.0,>=0.3.0 in /opt/conda/lib/python3.9/site-packages (from spacy) (0.4.1)\n",
      "Requirement already satisfied: wasabi<1.1.0,>=0.8.1 in /opt/conda/lib/python3.9/site-packages (from spacy) (0.9.1)\n",
      "Requirement already satisfied: jinja2 in /opt/conda/lib/python3.9/site-packages (from spacy) (3.0.1)\n",
      "Requirement already satisfied: blis<0.8.0,>=0.4.0 in /opt/conda/lib/python3.9/site-packages (from spacy) (0.7.7)\n",
      "Requirement already satisfied: catalogue<2.1.0,>=2.0.6 in /opt/conda/lib/python3.9/site-packages (from spacy) (2.0.7)\n",
      "Requirement already satisfied: tqdm<5.0.0,>=4.38.0 in /opt/conda/lib/python3.9/site-packages (from spacy) (4.61.2)\n",
      "Requirement already satisfied: spacy-loggers<2.0.0,>=1.0.0 in /opt/conda/lib/python3.9/site-packages (from spacy) (1.0.2)\n",
      "Requirement already satisfied: murmurhash<1.1.0,>=0.28.0 in /opt/conda/lib/python3.9/site-packages (from spacy) (1.0.7)\n",
      "Requirement already satisfied: spacy-legacy<3.1.0,>=3.0.8 in /opt/conda/lib/python3.9/site-packages (from spacy) (3.0.9)\n",
      "Requirement already satisfied: pydantic!=1.8,!=1.8.1,<1.9.0,>=1.7.4 in /opt/conda/lib/python3.9/site-packages (from spacy) (1.8.2)\n",
      "Requirement already satisfied: cymem<2.1.0,>=2.0.2 in /opt/conda/lib/python3.9/site-packages (from spacy) (2.0.6)\n",
      "Requirement already satisfied: setuptools in /opt/conda/lib/python3.9/site-packages (from spacy) (49.6.0.post20210108)\n",
      "Requirement already satisfied: langcodes<4.0.0,>=3.2.0 in /opt/conda/lib/python3.9/site-packages (from spacy) (3.3.0)\n",
      "Requirement already satisfied: thinc<8.1.0,>=8.0.12 in /opt/conda/lib/python3.9/site-packages (from spacy) (8.0.15)\n",
      "Requirement already satisfied: packaging>=20.0 in /opt/conda/lib/python3.9/site-packages (from spacy) (21.3)\n",
      "Requirement already satisfied: preshed<3.1.0,>=3.0.2 in /opt/conda/lib/python3.9/site-packages (from spacy) (3.0.6)\n",
      "Requirement already satisfied: srsly<3.0.0,>=2.4.1 in /opt/conda/lib/python3.9/site-packages (from spacy) (2.4.3)\n",
      "Requirement already satisfied: pathy>=0.3.5 in /opt/conda/lib/python3.9/site-packages (from spacy) (0.6.1)\n",
      "Requirement already satisfied: requests<3.0.0,>=2.13.0 in /opt/conda/lib/python3.9/site-packages (from spacy) (2.25.1)\n",
      "Requirement already satisfied: numpy>=1.15.0 in /opt/conda/lib/python3.9/site-packages (from spacy) (1.21.1)\n",
      "Requirement already satisfied: pyparsing!=3.0.5,>=2.0.2 in /opt/conda/lib/python3.9/site-packages (from packaging>=20.0->spacy) (2.4.7)\n",
      "Requirement already satisfied: smart-open<6.0.0,>=5.0.0 in /opt/conda/lib/python3.9/site-packages (from pathy>=0.3.5->spacy) (5.2.1)\n",
      "Requirement already satisfied: typing-extensions>=3.7.4.3 in /opt/conda/lib/python3.9/site-packages (from pydantic!=1.8,!=1.8.1,<1.9.0,>=1.7.4->spacy) (4.2.0)\n",
      "Requirement already satisfied: urllib3<1.27,>=1.21.1 in /opt/conda/lib/python3.9/site-packages (from requests<3.0.0,>=2.13.0->spacy) (1.26.6)\n",
      "Requirement already satisfied: certifi>=2017.4.17 in /opt/conda/lib/python3.9/site-packages (from requests<3.0.0,>=2.13.0->spacy) (2022.5.18.1)\n",
      "Requirement already satisfied: idna<3,>=2.5 in /opt/conda/lib/python3.9/site-packages (from requests<3.0.0,>=2.13.0->spacy) (2.10)\n",
      "Requirement already satisfied: chardet<5,>=3.0.2 in /opt/conda/lib/python3.9/site-packages (from requests<3.0.0,>=2.13.0->spacy) (4.0.0)\n",
      "Requirement already satisfied: click<9.0.0,>=7.1.1 in /opt/conda/lib/python3.9/site-packages (from typer<0.5.0,>=0.3.0->spacy) (8.1.3)\n",
      "Requirement already satisfied: MarkupSafe>=2.0 in /opt/conda/lib/python3.9/site-packages (from jinja2->spacy) (2.0.1)\n",
      "\u001b[38;5;3m⚠ As of spaCy v3.0, shortcuts like 'en' are deprecated. Please use the\n",
      "full pipeline package name 'en_core_web_sm' instead.\u001b[0m\n",
      "Collecting en-core-web-sm==3.2.0\n",
      "  Downloading https://github.com/explosion/spacy-models/releases/download/en_core_web_sm-3.2.0/en_core_web_sm-3.2.0-py3-none-any.whl (13.9 MB)\n",
      "\u001b[K     |████████████████████████████████| 13.9 MB 4.4 MB/s eta 0:00:01\n",
      "\u001b[?25hRequirement already satisfied: spacy<3.3.0,>=3.2.0 in /opt/conda/lib/python3.9/site-packages (from en-core-web-sm==3.2.0) (3.2.0)\n",
      "Requirement already satisfied: thinc<8.1.0,>=8.0.12 in /opt/conda/lib/python3.9/site-packages (from spacy<3.3.0,>=3.2.0->en-core-web-sm==3.2.0) (8.0.15)\n",
      "Requirement already satisfied: pathy>=0.3.5 in /opt/conda/lib/python3.9/site-packages (from spacy<3.3.0,>=3.2.0->en-core-web-sm==3.2.0) (0.6.1)\n",
      "Requirement already satisfied: preshed<3.1.0,>=3.0.2 in /opt/conda/lib/python3.9/site-packages (from spacy<3.3.0,>=3.2.0->en-core-web-sm==3.2.0) (3.0.6)\n",
      "Requirement already satisfied: requests<3.0.0,>=2.13.0 in /opt/conda/lib/python3.9/site-packages (from spacy<3.3.0,>=3.2.0->en-core-web-sm==3.2.0) (2.25.1)\n",
      "Requirement already satisfied: numpy>=1.15.0 in /opt/conda/lib/python3.9/site-packages (from spacy<3.3.0,>=3.2.0->en-core-web-sm==3.2.0) (1.21.1)\n",
      "Requirement already satisfied: typer<0.5.0,>=0.3.0 in /opt/conda/lib/python3.9/site-packages (from spacy<3.3.0,>=3.2.0->en-core-web-sm==3.2.0) (0.4.1)\n",
      "Requirement already satisfied: tqdm<5.0.0,>=4.38.0 in /opt/conda/lib/python3.9/site-packages (from spacy<3.3.0,>=3.2.0->en-core-web-sm==3.2.0) (4.61.2)\n",
      "Requirement already satisfied: langcodes<4.0.0,>=3.2.0 in /opt/conda/lib/python3.9/site-packages (from spacy<3.3.0,>=3.2.0->en-core-web-sm==3.2.0) (3.3.0)\n",
      "Requirement already satisfied: spacy-legacy<3.1.0,>=3.0.8 in /opt/conda/lib/python3.9/site-packages (from spacy<3.3.0,>=3.2.0->en-core-web-sm==3.2.0) (3.0.9)\n",
      "Requirement already satisfied: wasabi<1.1.0,>=0.8.1 in /opt/conda/lib/python3.9/site-packages (from spacy<3.3.0,>=3.2.0->en-core-web-sm==3.2.0) (0.9.1)\n",
      "Requirement already satisfied: jinja2 in /opt/conda/lib/python3.9/site-packages (from spacy<3.3.0,>=3.2.0->en-core-web-sm==3.2.0) (3.0.1)\n",
      "Requirement already satisfied: cymem<2.1.0,>=2.0.2 in /opt/conda/lib/python3.9/site-packages (from spacy<3.3.0,>=3.2.0->en-core-web-sm==3.2.0) (2.0.6)\n",
      "Requirement already satisfied: pydantic!=1.8,!=1.8.1,<1.9.0,>=1.7.4 in /opt/conda/lib/python3.9/site-packages (from spacy<3.3.0,>=3.2.0->en-core-web-sm==3.2.0) (1.8.2)\n",
      "Requirement already satisfied: catalogue<2.1.0,>=2.0.6 in /opt/conda/lib/python3.9/site-packages (from spacy<3.3.0,>=3.2.0->en-core-web-sm==3.2.0) (2.0.7)\n",
      "Requirement already satisfied: spacy-loggers<2.0.0,>=1.0.0 in /opt/conda/lib/python3.9/site-packages (from spacy<3.3.0,>=3.2.0->en-core-web-sm==3.2.0) (1.0.2)\n",
      "Requirement already satisfied: blis<0.8.0,>=0.4.0 in /opt/conda/lib/python3.9/site-packages (from spacy<3.3.0,>=3.2.0->en-core-web-sm==3.2.0) (0.7.7)\n",
      "Requirement already satisfied: packaging>=20.0 in /opt/conda/lib/python3.9/site-packages (from spacy<3.3.0,>=3.2.0->en-core-web-sm==3.2.0) (21.3)\n",
      "Requirement already satisfied: murmurhash<1.1.0,>=0.28.0 in /opt/conda/lib/python3.9/site-packages (from spacy<3.3.0,>=3.2.0->en-core-web-sm==3.2.0) (1.0.7)\n",
      "Requirement already satisfied: srsly<3.0.0,>=2.4.1 in /opt/conda/lib/python3.9/site-packages (from spacy<3.3.0,>=3.2.0->en-core-web-sm==3.2.0) (2.4.3)\n",
      "Requirement already satisfied: setuptools in /opt/conda/lib/python3.9/site-packages (from spacy<3.3.0,>=3.2.0->en-core-web-sm==3.2.0) (49.6.0.post20210108)\n",
      "Requirement already satisfied: pyparsing!=3.0.5,>=2.0.2 in /opt/conda/lib/python3.9/site-packages (from packaging>=20.0->spacy<3.3.0,>=3.2.0->en-core-web-sm==3.2.0) (2.4.7)\n",
      "Requirement already satisfied: smart-open<6.0.0,>=5.0.0 in /opt/conda/lib/python3.9/site-packages (from pathy>=0.3.5->spacy<3.3.0,>=3.2.0->en-core-web-sm==3.2.0) (5.2.1)\n",
      "Requirement already satisfied: typing-extensions>=3.7.4.3 in /opt/conda/lib/python3.9/site-packages (from pydantic!=1.8,!=1.8.1,<1.9.0,>=1.7.4->spacy<3.3.0,>=3.2.0->en-core-web-sm==3.2.0) (4.2.0)\n",
      "Requirement already satisfied: urllib3<1.27,>=1.21.1 in /opt/conda/lib/python3.9/site-packages (from requests<3.0.0,>=2.13.0->spacy<3.3.0,>=3.2.0->en-core-web-sm==3.2.0) (1.26.6)\n",
      "Requirement already satisfied: certifi>=2017.4.17 in /opt/conda/lib/python3.9/site-packages (from requests<3.0.0,>=2.13.0->spacy<3.3.0,>=3.2.0->en-core-web-sm==3.2.0) (2022.5.18.1)\n",
      "Requirement already satisfied: idna<3,>=2.5 in /opt/conda/lib/python3.9/site-packages (from requests<3.0.0,>=2.13.0->spacy<3.3.0,>=3.2.0->en-core-web-sm==3.2.0) (2.10)\n",
      "Requirement already satisfied: chardet<5,>=3.0.2 in /opt/conda/lib/python3.9/site-packages (from requests<3.0.0,>=2.13.0->spacy<3.3.0,>=3.2.0->en-core-web-sm==3.2.0) (4.0.0)\n",
      "Requirement already satisfied: click<9.0.0,>=7.1.1 in /opt/conda/lib/python3.9/site-packages (from typer<0.5.0,>=0.3.0->spacy<3.3.0,>=3.2.0->en-core-web-sm==3.2.0) (8.1.3)\n",
      "Requirement already satisfied: MarkupSafe>=2.0 in /opt/conda/lib/python3.9/site-packages (from jinja2->spacy<3.3.0,>=3.2.0->en-core-web-sm==3.2.0) (2.0.1)\n",
      "\u001b[38;5;2m✔ Download and installation successful\u001b[0m\n",
      "You can now load the package via spacy.load('en_core_web_sm')\n"
     ]
    }
   ],
   "source": [
    "import pandas as pd\n",
    "import numpy as np\n",
    "import sklearn.metrics\n",
    "import nltk\n",
    "import pymorphy2\n",
    "import spacy\n",
    "import re\n",
    "\n",
    "from nltk.corpus import stopwords as nltk_stopwords\n",
    "nltk.download('stopwords')\n",
    "from nltk.corpus import stopwords\n",
    "from nltk.tokenize import word_tokenize\n",
    "\n",
    "import torch\n",
    "import transformers\n",
    "\n",
    "from tqdm import notebook\n",
    "\n",
    "from sklearn.model_selection import cross_val_score\n",
    "from sklearn.metrics import f1_score, accuracy_score\n",
    "from sklearn.feature_extraction.text import CountVectorizer, TfidfVectorizer\n",
    "from sklearn.feature_extraction.text import TfidfTransformer\n",
    "from sklearn.model_selection import train_test_split, GridSearchCV\n",
    "from sklearn.pipeline import Pipeline\n",
    "from sklearn.model_selection import StratifiedKFold\n",
    "\n",
    "from sklearn.linear_model import LogisticRegression\n",
    "from sklearn.linear_model import SGDClassifier\n",
    "from sklearn.tree import DecisionTreeClassifier\n",
    "from catboost import CatBoostClassifier\n",
    "\n",
    "# Install spaCy (run in terminal/prompt)\n",
    "import sys\n",
    "!{sys.executable} -m pip install spacy\n",
    "# Download spaCy's  'en' Model\n",
    "!{sys.executable} -m spacy download en"
   ]
  },
  {
   "cell_type": "code",
   "execution_count": 2,
   "metadata": {},
   "outputs": [
    {
     "data": {
      "text/html": [
       "<div>\n",
       "<style scoped>\n",
       "    .dataframe tbody tr th:only-of-type {\n",
       "        vertical-align: middle;\n",
       "    }\n",
       "\n",
       "    .dataframe tbody tr th {\n",
       "        vertical-align: top;\n",
       "    }\n",
       "\n",
       "    .dataframe thead th {\n",
       "        text-align: right;\n",
       "    }\n",
       "</style>\n",
       "<table border=\"1\" class=\"dataframe\">\n",
       "  <thead>\n",
       "    <tr style=\"text-align: right;\">\n",
       "      <th></th>\n",
       "      <th>text</th>\n",
       "      <th>toxic</th>\n",
       "    </tr>\n",
       "  </thead>\n",
       "  <tbody>\n",
       "    <tr>\n",
       "      <th>0</th>\n",
       "      <td>Explanation\\nWhy the edits made under my usern...</td>\n",
       "      <td>0</td>\n",
       "    </tr>\n",
       "    <tr>\n",
       "      <th>1</th>\n",
       "      <td>D'aww! He matches this background colour I'm s...</td>\n",
       "      <td>0</td>\n",
       "    </tr>\n",
       "    <tr>\n",
       "      <th>2</th>\n",
       "      <td>Hey man, I'm really not trying to edit war. It...</td>\n",
       "      <td>0</td>\n",
       "    </tr>\n",
       "    <tr>\n",
       "      <th>3</th>\n",
       "      <td>\"\\nMore\\nI can't make any real suggestions on ...</td>\n",
       "      <td>0</td>\n",
       "    </tr>\n",
       "    <tr>\n",
       "      <th>4</th>\n",
       "      <td>You, sir, are my hero. Any chance you remember...</td>\n",
       "      <td>0</td>\n",
       "    </tr>\n",
       "  </tbody>\n",
       "</table>\n",
       "</div>"
      ],
      "text/plain": [
       "                                                text  toxic\n",
       "0  Explanation\\nWhy the edits made under my usern...      0\n",
       "1  D'aww! He matches this background colour I'm s...      0\n",
       "2  Hey man, I'm really not trying to edit war. It...      0\n",
       "3  \"\\nMore\\nI can't make any real suggestions on ...      0\n",
       "4  You, sir, are my hero. Any chance you remember...      0"
      ]
     },
     "execution_count": 2,
     "metadata": {},
     "output_type": "execute_result"
    }
   ],
   "source": [
    "comments = pd.read_csv('/datasets/toxic_comments.csv')\n",
    "comments.head()"
   ]
  },
  {
   "cell_type": "code",
   "execution_count": 3,
   "metadata": {},
   "outputs": [
    {
     "name": "stdout",
     "output_type": "stream",
     "text": [
      "<class 'pandas.core.frame.DataFrame'>\n",
      "RangeIndex: 159571 entries, 0 to 159570\n",
      "Data columns (total 2 columns):\n",
      " #   Column  Non-Null Count   Dtype \n",
      "---  ------  --------------   ----- \n",
      " 0   text    159571 non-null  object\n",
      " 1   toxic   159571 non-null  int64 \n",
      "dtypes: int64(1), object(1)\n",
      "memory usage: 2.4+ MB\n"
     ]
    }
   ],
   "source": [
    "comments.info()"
   ]
  },
  {
   "cell_type": "code",
   "execution_count": 4,
   "metadata": {},
   "outputs": [
    {
     "data": {
      "text/plain": [
       "(159571, 2)"
      ]
     },
     "execution_count": 4,
     "metadata": {},
     "output_type": "execute_result"
    }
   ],
   "source": [
    "comments.shape"
   ]
  },
  {
   "cell_type": "markdown",
   "metadata": {},
   "source": [
    "Посмотрим, насколько классы, представленные в целевом признаки сбалансированы между собой."
   ]
  },
  {
   "cell_type": "code",
   "execution_count": 5,
   "metadata": {},
   "outputs": [
    {
     "data": {
      "text/plain": [
       "0    143346\n",
       "1     16225\n",
       "Name: toxic, dtype: int64"
      ]
     },
     "metadata": {},
     "output_type": "display_data"
    },
    {
     "data": {
      "text/plain": [
       "8.834884437596301"
      ]
     },
     "execution_count": 5,
     "metadata": {},
     "output_type": "execute_result"
    }
   ],
   "source": [
    "display(comments['toxic'].value_counts())\n",
    "class_ratio = comments['toxic'].value_counts()[0] / comments['toxic'].value_counts()[1]\n",
    "class_ratio"
   ]
  },
  {
   "cell_type": "markdown",
   "metadata": {},
   "source": [
    "Классы несбалансированы. Отношение 1:8.83. "
   ]
  },
  {
   "cell_type": "markdown",
   "metadata": {},
   "source": [
    "Поскольку у меня умирало ядро на всем объеме датасета, сделала на части его, которая уже позволяла хоть одной из модели получить показатель F1 больше 0,75 "
   ]
  },
  {
   "cell_type": "code",
   "execution_count": 6,
   "metadata": {},
   "outputs": [],
   "source": [
    "comments_sample = comments.sample(100000).reset_index(drop=True) "
   ]
  },
  {
   "cell_type": "markdown",
   "metadata": {},
   "source": [
    "Подготовим данные для векторизации."
   ]
  },
  {
   "cell_type": "markdown",
   "metadata": {},
   "source": [
    "Проведем токенизацию и лемматизацию при помощи nlp"
   ]
  },
  {
   "cell_type": "code",
   "execution_count": 7,
   "metadata": {},
   "outputs": [
    {
     "name": "stdout",
     "output_type": "stream",
     "text": [
      "CPU times: user 2 µs, sys: 1e+03 ns, total: 3 µs\n",
      "Wall time: 4.05 µs\n"
     ]
    },
    {
     "data": {
      "text/plain": [
       "77700             john smith              mar        utc  \n",
       "6068         I apologize for my inappropriate language ...\n",
       "83590    your stalker friend be back   the hostile user...\n",
       "6077     infobox work    hi   hopefully I will have the...\n",
       "90383    that s a personal attack   my name do not offe...\n",
       "Name: lemm, dtype: object"
      ]
     },
     "execution_count": 7,
     "metadata": {},
     "output_type": "execute_result"
    }
   ],
   "source": [
    "%time\n",
    "nlp= spacy.load('en_core_web_sm')\n",
    "\n",
    "def lemmatize(text): \n",
    "    text=text.lower()\n",
    "    nlp_text=nlp(text)\n",
    "    lemm_text= ' '.join(token.lemma_ for token in nlp_text)\n",
    "    cleared_text = re.sub(r'[^a-zA-Z]', ' ', lemm_text) \n",
    "    return cleared_text\n",
    "comments_sample['lemm']=comments_sample['text'].apply(lemmatize)\n",
    "comments_sample['lemm'].sample(5)"
   ]
  },
  {
   "cell_type": "markdown",
   "metadata": {},
   "source": [
    "добавим стопслова."
   ]
  },
  {
   "cell_type": "code",
   "execution_count": 8,
   "metadata": {},
   "outputs": [
    {
     "name": "stderr",
     "output_type": "stream",
     "text": [
      "[nltk_data] Downloading package stopwords to /home/jovyan/nltk_data...\n",
      "[nltk_data]   Package stopwords is already up-to-date!\n"
     ]
    },
    {
     "data": {
      "text/plain": [
       "179"
      ]
     },
     "execution_count": 8,
     "metadata": {},
     "output_type": "execute_result"
    }
   ],
   "source": [
    "nltk.download('stopwords')\n",
    "stopwords = set(nltk_stopwords.words('english'))\n",
    "len(stopwords)"
   ]
  },
  {
   "cell_type": "markdown",
   "metadata": {},
   "source": [
    "## Обучение"
   ]
  },
  {
   "cell_type": "markdown",
   "metadata": {},
   "source": [
    "Разобьем выборки на обучающую и тестовую:"
   ]
  },
  {
   "cell_type": "code",
   "execution_count": 9,
   "metadata": {},
   "outputs": [],
   "source": [
    "features_train, features_test, target_train, target_test = train_test_split(comments_sample['lemm'], comments_sample['toxic'], \n",
    "                                                    test_size=0.2, random_state=12345)"
   ]
  },
  {
   "cell_type": "markdown",
   "metadata": {},
   "source": [
    "Проведём векторизацию корпусов с помощью TfidfVectorizer, заодно удалим стоп-слова."
   ]
  },
  {
   "cell_type": "code",
   "execution_count": 10,
   "metadata": {},
   "outputs": [],
   "source": [
    "tf_idf_vec = TfidfVectorizer(ngram_range=(1,1), stop_words=stopwords, min_df=3, max_df=0.9, strip_accents='unicode', use_idf=1,\n",
    "               smooth_idf=1, sublinear_tf=1 )"
   ]
  },
  {
   "cell_type": "code",
   "execution_count": 11,
   "metadata": {},
   "outputs": [],
   "source": [
    "features_train_vec = tf_idf_vec.fit_transform(features_train)"
   ]
  },
  {
   "cell_type": "code",
   "execution_count": 12,
   "metadata": {},
   "outputs": [],
   "source": [
    "features_test_vec = tf_idf_vec.transform(features_test)"
   ]
  },
  {
   "cell_type": "code",
   "execution_count": 13,
   "metadata": {},
   "outputs": [
    {
     "name": "stdout",
     "output_type": "stream",
     "text": [
      "Accuracy константной модели 0.897\n"
     ]
    }
   ],
   "source": [
    "base_predicts = pd.Series(data=np.zeros((len(target_test))), index=target_test.index, dtype='int16')\n",
    "base_accuracy = accuracy_score(target_test, base_predicts)\n",
    "print(f\"Accuracy константной модели {base_accuracy:.3f}\")"
   ]
  },
  {
   "cell_type": "code",
   "execution_count": 14,
   "metadata": {},
   "outputs": [
    {
     "name": "stdout",
     "output_type": "stream",
     "text": [
      "Размер train'a: (80000, 100804)\n",
      "Размер test'a: (20000, 100804)\n"
     ]
    }
   ],
   "source": [
    "count_vect = CountVectorizer(stop_words=stopwords)\n",
    "n_gramm_train = count_vect.fit_transform(features_train)\n",
    "n_gramm_test = count_vect.transform(features_test)\n",
    "\n",
    "print(\"Размер train'a:\", n_gramm_train.shape)\n",
    "print(\"Размер test'a:\", n_gramm_test.shape)"
   ]
  },
  {
   "cell_type": "code",
   "execution_count": 15,
   "metadata": {},
   "outputs": [
    {
     "name": "stdout",
     "output_type": "stream",
     "text": [
      "CPU times: user 2 µs, sys: 0 ns, total: 2 µs\n",
      "Wall time: 5.72 µs\n",
      "{'C': 10}\n",
      "\n",
      "0.771763 for {'C': 10}\n",
      "0.771060 for {'C': 11}\n",
      "0.771036 for {'C': 12}\n",
      "0.770342 for {'C': 13}\n",
      "0.770480 for {'C': 14}\n",
      "\n",
      "F1 на обучении 0.7717633588058406\n"
     ]
    }
   ],
   "source": [
    "%time\n",
    "\n",
    "classificator = LogisticRegression(max_iter=200, solver='saga')\n",
    "grid_params = [{'C':[x for x in range(10,15)]}]\n",
    "skf_grid=StratifiedKFold(n_splits=5, shuffle=False, random_state=None)\n",
    "model_lr = GridSearchCV(classificator, grid_params, scoring='f1', cv=skf_grid)\n",
    "model_lr.fit(features_train_vec, target_train)\n",
    "LR_best_params = model_lr.best_params_\n",
    "print(LR_best_params)\n",
    "print()\n",
    "means = model_lr.cv_results_['mean_test_score']\n",
    "stds = model_lr.cv_results_['std_test_score']\n",
    "for mean, std, params in zip(means, stds, model_lr.cv_results_['params']):\n",
    "    print(\"%0.6f for %r\"% (mean, params))\n",
    "print()\n",
    "\n",
    "f1_lr = max(means)\n",
    "print('F1 на обучении', f1_lr)"
   ]
  },
  {
   "cell_type": "code",
   "execution_count": 16,
   "metadata": {},
   "outputs": [
    {
     "name": "stdout",
     "output_type": "stream",
     "text": [
      "CPU times: user 2 µs, sys: 0 ns, total: 2 µs\n",
      "Wall time: 5.25 µs\n",
      "F1 на предсказании 0.7636264037250069\n"
     ]
    }
   ],
   "source": [
    "%time\n",
    "predict_lr = model_lr.predict(features_test_vec)\n",
    "f1_lr_test = f1_score(target_test, predict_lr)\n",
    "print('F1 на предсказании', f1_lr_test)"
   ]
  },
  {
   "cell_type": "code",
   "execution_count": 17,
   "metadata": {},
   "outputs": [
    {
     "name": "stdout",
     "output_type": "stream",
     "text": [
      "CPU times: user 2 µs, sys: 0 ns, total: 2 µs\n",
      "Wall time: 5.01 µs\n",
      "{'clf__C': 12}\n",
      "\n",
      "0.777778 for {'clf__C': 10}\n",
      "0.777805 for {'clf__C': 11}\n",
      "0.778088 for {'clf__C': 12}\n",
      "0.777904 for {'clf__C': 13}\n",
      "0.777734 for {'clf__C': 14}\n",
      "\n",
      "F1 на обучении 0.7780876878767267\n"
     ]
    }
   ],
   "source": [
    "%time\n",
    "skf= StratifiedKFold(n_splits=5, shuffle=False, random_state=None)\n",
    "model=LogisticRegression(max_iter=200, solver='saga')\n",
    "grid_params = [{'clf__C':[x for x in range(10,15)]}]\n",
    "\n",
    "pipe = Pipeline([('vect', CountVectorizer()),\n",
    "                    ('tfidf', TfidfTransformer()),\n",
    "                    ('clf', model)])\n",
    "\n",
    "model_lr1=GridSearchCV(pipe, grid_params, scoring='f1', cv=skf)\n",
    "\n",
    "model_lr1.fit(features_train, target_train)\n",
    "LR_best_params = model_lr1.best_params_\n",
    "print(LR_best_params)\n",
    "print()\n",
    "means = model_lr1.cv_results_['mean_test_score']\n",
    "stds = model_lr1.cv_results_['std_test_score']\n",
    "for mean, std, params in zip(means, stds, model_lr1.cv_results_['params']):\n",
    "    print(\"%0.6f for %r\"% (mean, params))\n",
    "print()\n",
    "\n",
    "f1_lr1 = max(means)\n",
    "print('F1 на обучении', f1_lr1)"
   ]
  },
  {
   "cell_type": "code",
   "execution_count": 21,
   "metadata": {},
   "outputs": [
    {
     "name": "stdout",
     "output_type": "stream",
     "text": [
      "CPU times: user 3 µs, sys: 0 ns, total: 3 µs\n",
      "Wall time: 6.44 µs\n",
      "F1 на предсказании 0.7662730019225488\n"
     ]
    }
   ],
   "source": [
    "%time\n",
    "predict_lr1 = model_lr1.predict(features_test)\n",
    "f1_lr1_test = f1_score(target_test, predict_lr1)\n",
    "print('F1 на предсказании', f1_lr1_test)"
   ]
  },
  {
   "cell_type": "markdown",
   "metadata": {},
   "source": [
    "Проверим модель на адекватность. Рассчитаем метрику accuracy и сравним её с константной моделью"
   ]
  },
  {
   "cell_type": "code",
   "execution_count": 22,
   "metadata": {},
   "outputs": [
    {
     "name": "stdout",
     "output_type": "stream",
     "text": [
      "Accuracy на логистической регрессии 0.957, больше, чем на константной модели\n"
     ]
    }
   ],
   "source": [
    "accuracy_lr = accuracy_score(target_test, predict_lr)\n",
    "print(f\"Accuracy на логистической регрессии {accuracy_lr:.3f}, больше, чем на константной модели\")"
   ]
  },
  {
   "cell_type": "code",
   "execution_count": 23,
   "metadata": {},
   "outputs": [
    {
     "name": "stdout",
     "output_type": "stream",
     "text": [
      "{'max_depth': 29, 'random_state': 12345}\n",
      "\n",
      "0.663547 for {'max_depth': 20, 'random_state': 12345}\n",
      "0.664676 for {'max_depth': 21, 'random_state': 12345}\n",
      "0.666723 for {'max_depth': 22, 'random_state': 12345}\n",
      "0.671790 for {'max_depth': 23, 'random_state': 12345}\n",
      "0.675034 for {'max_depth': 24, 'random_state': 12345}\n",
      "0.678460 for {'max_depth': 25, 'random_state': 12345}\n",
      "0.680089 for {'max_depth': 26, 'random_state': 12345}\n",
      "0.682630 for {'max_depth': 27, 'random_state': 12345}\n",
      "0.682648 for {'max_depth': 28, 'random_state': 12345}\n",
      "0.687829 for {'max_depth': 29, 'random_state': 12345}\n",
      "\n",
      "F1 на обучении 0.6878293382142265\n",
      "CPU times: user 4min 41s, sys: 527 ms, total: 4min 42s\n",
      "Wall time: 4min 42s\n"
     ]
    }
   ],
   "source": [
    "%%time\n",
    "classificator = DecisionTreeClassifier()\n",
    "grid_params = [{'max_depth':[x for x in range(20,30)], 'random_state':[12345]}]\n",
    "model_dtc = GridSearchCV(classificator, grid_params, scoring='f1',cv=skf_grid)\n",
    "model_dtc.fit(features_train_vec, target_train)\n",
    "DTC_best_params = model_dtc.best_params_\n",
    "print(DTC_best_params)\n",
    "print()\n",
    "means = model_dtc.cv_results_['mean_test_score']\n",
    "stds = model_dtc.cv_results_['std_test_score']\n",
    "for mean, std, params in zip(means, stds, model_dtc.cv_results_['params']):\n",
    "    print(\"%0.6f for %r\"% (mean, params))\n",
    "print()\n",
    "\n",
    "f1_dtc = max(means)\n",
    "print('F1 на обучении', f1_dtc)"
   ]
  },
  {
   "cell_type": "code",
   "execution_count": 24,
   "metadata": {},
   "outputs": [
    {
     "name": "stdout",
     "output_type": "stream",
     "text": [
      "F1 на предсказании 0.6793893129770991\n"
     ]
    }
   ],
   "source": [
    "predict_dtc = model_dtc.predict(features_test_vec)\n",
    "f1_dtc_test = f1_score(target_test, predict_dtc)\n",
    "print('F1 на предсказании', f1_dtc_test)"
   ]
  },
  {
   "cell_type": "code",
   "execution_count": 25,
   "metadata": {},
   "outputs": [
    {
     "name": "stdout",
     "output_type": "stream",
     "text": [
      "CPU times: user 2 µs, sys: 0 ns, total: 2 µs\n",
      "Wall time: 5.48 µs\n",
      "{'clf__max_depth': 29, 'clf__random_state': 12345}\n",
      "\n",
      "0.660755 for {'clf__max_depth': 20, 'clf__random_state': 12345}\n",
      "0.663235 for {'clf__max_depth': 21, 'clf__random_state': 12345}\n",
      "0.664525 for {'clf__max_depth': 22, 'clf__random_state': 12345}\n",
      "0.668176 for {'clf__max_depth': 23, 'clf__random_state': 12345}\n",
      "0.667775 for {'clf__max_depth': 24, 'clf__random_state': 12345}\n",
      "0.672113 for {'clf__max_depth': 25, 'clf__random_state': 12345}\n",
      "0.674520 for {'clf__max_depth': 26, 'clf__random_state': 12345}\n",
      "0.678105 for {'clf__max_depth': 27, 'clf__random_state': 12345}\n",
      "0.678874 for {'clf__max_depth': 28, 'clf__random_state': 12345}\n",
      "0.682157 for {'clf__max_depth': 29, 'clf__random_state': 12345}\n",
      "\n",
      "F1 на обучении 0.6821570409656083\n"
     ]
    }
   ],
   "source": [
    "%time\n",
    "model = DecisionTreeClassifier()\n",
    "grid_params = [{'clf__max_depth':[x for x in range(20,30)], 'clf__random_state':[12345]}]\n",
    "\n",
    "pipe = Pipeline([('vect', CountVectorizer()),\n",
    "                    ('tfidf', TfidfTransformer()),\n",
    "                    ('clf', model)])\n",
    "\n",
    "model_dtc1 = GridSearchCV(pipe, grid_params, scoring='f1',cv=skf_grid)\n",
    "model_dtc1.fit(features_train, target_train)\n",
    "DTC_best_params = model_dtc1.best_params_\n",
    "print(DTC_best_params)\n",
    "print()\n",
    "means = model_dtc1.cv_results_['mean_test_score']\n",
    "stds = model_dtc1.cv_results_['std_test_score']\n",
    "for mean, std, params in zip(means, stds, model_dtc1.cv_results_['params']):\n",
    "    print(\"%0.6f for %r\"% (mean, params))\n",
    "print()\n",
    "\n",
    "f1_dtc1 = max(means)\n",
    "print('F1 на обучении', f1_dtc1)"
   ]
  },
  {
   "cell_type": "code",
   "execution_count": 26,
   "metadata": {},
   "outputs": [
    {
     "name": "stdout",
     "output_type": "stream",
     "text": [
      "F1 на предсказании 0.667262436699434\n"
     ]
    }
   ],
   "source": [
    "predict_dtc1 = model_dtc1.predict(features_test)\n",
    "f1_dtc_test1 = f1_score(target_test, predict_dtc1)\n",
    "print('F1 на предсказании', f1_dtc_test1)"
   ]
  },
  {
   "cell_type": "code",
   "execution_count": 27,
   "metadata": {},
   "outputs": [
    {
     "name": "stdout",
     "output_type": "stream",
     "text": [
      "CPU times: user 3 µs, sys: 0 ns, total: 3 µs\n",
      "Wall time: 6.68 µs\n",
      "F1 на обучении 0.7450174795590504\n"
     ]
    }
   ],
   "source": [
    "#CatBoostClassifier\n",
    "\n",
    "%time\n",
    "\n",
    "model_cbc = CatBoostClassifier(verbose=False, iterations=500)\n",
    "model_cbc.fit(features_train_vec, target_train)\n",
    "f1_cbc = cross_val_score(model_cbc, features_train_vec, target_train, cv=skf_grid, scoring='f1').mean()\n",
    "print('F1 на обучении', f1_cbc)"
   ]
  },
  {
   "cell_type": "code",
   "execution_count": 28,
   "metadata": {},
   "outputs": [
    {
     "name": "stdout",
     "output_type": "stream",
     "text": [
      "F1 на предсказании 0.7297532656023221\n"
     ]
    }
   ],
   "source": [
    "predict_cbc = model_cbc.predict(features_test_vec)\n",
    "f1_cbc_test = f1_score(target_test, predict_cbc)\n",
    "print('F1 на предсказании', f1_cbc_test)"
   ]
  },
  {
   "cell_type": "code",
   "execution_count": 29,
   "metadata": {},
   "outputs": [
    {
     "name": "stdout",
     "output_type": "stream",
     "text": [
      "CPU times: user 2 µs, sys: 0 ns, total: 2 µs\n",
      "Wall time: 5.48 µs\n",
      "{'eta0': 0.1, 'learning_rate': 'constant', 'loss': 'modified_huber', 'random_state': 12345}\n",
      "\n",
      "Grid scores on development set:\n",
      "\n",
      "0.662168 for {'eta0': 0.05, 'learning_rate': 'constant', 'loss': 'hinge', 'random_state': 12345}\n",
      "0.743316 for {'eta0': 0.05, 'learning_rate': 'constant', 'loss': 'modified_huber', 'random_state': 12345}\n",
      "0.664597 for {'eta0': 0.05, 'learning_rate': 'optimal', 'loss': 'hinge', 'random_state': 12345}\n",
      "0.743976 for {'eta0': 0.05, 'learning_rate': 'optimal', 'loss': 'modified_huber', 'random_state': 12345}\n",
      "0.665405 for {'eta0': 0.05, 'learning_rate': 'adaptive', 'loss': 'hinge', 'random_state': 12345}\n",
      "0.744053 for {'eta0': 0.05, 'learning_rate': 'adaptive', 'loss': 'modified_huber', 'random_state': 12345}\n",
      "0.657762 for {'eta0': 0.1, 'learning_rate': 'constant', 'loss': 'hinge', 'random_state': 12345}\n",
      "0.744958 for {'eta0': 0.1, 'learning_rate': 'constant', 'loss': 'modified_huber', 'random_state': 12345}\n",
      "0.664597 for {'eta0': 0.1, 'learning_rate': 'optimal', 'loss': 'hinge', 'random_state': 12345}\n",
      "0.743976 for {'eta0': 0.1, 'learning_rate': 'optimal', 'loss': 'modified_huber', 'random_state': 12345}\n",
      "0.666047 for {'eta0': 0.1, 'learning_rate': 'adaptive', 'loss': 'hinge', 'random_state': 12345}\n",
      "0.744422 for {'eta0': 0.1, 'learning_rate': 'adaptive', 'loss': 'modified_huber', 'random_state': 12345}\n",
      "0.655540 for {'eta0': 0.2, 'learning_rate': 'constant', 'loss': 'hinge', 'random_state': 12345}\n",
      "0.733739 for {'eta0': 0.2, 'learning_rate': 'constant', 'loss': 'modified_huber', 'random_state': 12345}\n",
      "0.664597 for {'eta0': 0.2, 'learning_rate': 'optimal', 'loss': 'hinge', 'random_state': 12345}\n",
      "0.743976 for {'eta0': 0.2, 'learning_rate': 'optimal', 'loss': 'modified_huber', 'random_state': 12345}\n",
      "0.666266 for {'eta0': 0.2, 'learning_rate': 'adaptive', 'loss': 'hinge', 'random_state': 12345}\n",
      "0.744461 for {'eta0': 0.2, 'learning_rate': 'adaptive', 'loss': 'modified_huber', 'random_state': 12345}\n",
      "0.656418 for {'eta0': 0.3, 'learning_rate': 'constant', 'loss': 'hinge', 'random_state': 12345}\n",
      "0.733532 for {'eta0': 0.3, 'learning_rate': 'constant', 'loss': 'modified_huber', 'random_state': 12345}\n",
      "0.664597 for {'eta0': 0.3, 'learning_rate': 'optimal', 'loss': 'hinge', 'random_state': 12345}\n",
      "0.743976 for {'eta0': 0.3, 'learning_rate': 'optimal', 'loss': 'modified_huber', 'random_state': 12345}\n",
      "0.666317 for {'eta0': 0.3, 'learning_rate': 'adaptive', 'loss': 'hinge', 'random_state': 12345}\n",
      "0.744428 for {'eta0': 0.3, 'learning_rate': 'adaptive', 'loss': 'modified_huber', 'random_state': 12345}\n",
      "0.651224 for {'eta0': 0.5, 'learning_rate': 'constant', 'loss': 'hinge', 'random_state': 12345}\n",
      "0.721326 for {'eta0': 0.5, 'learning_rate': 'constant', 'loss': 'modified_huber', 'random_state': 12345}\n",
      "0.664597 for {'eta0': 0.5, 'learning_rate': 'optimal', 'loss': 'hinge', 'random_state': 12345}\n",
      "0.743976 for {'eta0': 0.5, 'learning_rate': 'optimal', 'loss': 'modified_huber', 'random_state': 12345}\n",
      "0.666914 for {'eta0': 0.5, 'learning_rate': 'adaptive', 'loss': 'hinge', 'random_state': 12345}\n",
      "0.744279 for {'eta0': 0.5, 'learning_rate': 'adaptive', 'loss': 'modified_huber', 'random_state': 12345}\n",
      "\n",
      "F1 на обучении 0.744957518229881\n"
     ]
    }
   ],
   "source": [
    "#SGDClassifier\n",
    "%time\n",
    "\n",
    "classificator = SGDClassifier(max_iter=1000)\n",
    "grid_params = [{'loss':['hinge', 'modified_huber'], 'learning_rate':['constant', 'optimal', 'adaptive'],\n",
    "                'eta0':[0.05, 0.1, 0.2, 0.3, 0.5], 'random_state':[12345]}]\n",
    "\n",
    "model_sgdc = GridSearchCV(classificator, grid_params, scoring='f1',cv=skf_grid)\n",
    "model_sgdc.fit(features_train_vec, target_train)\n",
    "SGDC_best_params = model_sgdc.best_params_\n",
    "print(SGDC_best_params)\n",
    "print()\n",
    "print(\"Grid scores on development set:\")\n",
    "print()\n",
    "means = model_sgdc.cv_results_['mean_test_score']\n",
    "stds = model_sgdc.cv_results_['std_test_score']\n",
    "for mean, std, params in zip(means, stds, model_sgdc.cv_results_['params']):\n",
    "    print(\"%0.6f for %r\"% (mean, params))\n",
    "print()\n",
    "\n",
    "f1_sgdc = max(means)\n",
    "print('F1 на обучении', f1_sgdc)"
   ]
  },
  {
   "cell_type": "code",
   "execution_count": 30,
   "metadata": {},
   "outputs": [
    {
     "name": "stdout",
     "output_type": "stream",
     "text": [
      "F1 на предсказании 0.7355251672970615\n"
     ]
    }
   ],
   "source": [
    "predict_sgdc = model_sgdc.predict(features_test_vec)\n",
    "f1_sgdc_test = f1_score(target_test, predict_sgdc)\n",
    "print('F1 на предсказании', f1_sgdc_test)"
   ]
  },
  {
   "cell_type": "code",
   "execution_count": null,
   "metadata": {},
   "outputs": [],
   "source": [
    "#SGDClassifier\n",
    "#%time\n",
    "\n",
    "#model = SGDClassifier(max_iter=1000)\n",
    "#grid_params = [{'clf__loss':['hinge', 'modified_huber'], 'clf__learning_rate':['constant', 'optimal', 'adaptive'],\n",
    "                #'clf__eta0':[0.05, 0.1, 0.2, 0.3, 0.5], 'clf__random_state':[12345]}]\n",
    "#pipe = Pipeline([('vect', CountVectorizer()),\n",
    "                    #('tfidf', TfidfTransformer()),\n",
    "                    #('clf', model)])\n",
    "\n",
    "#model_sgdc1 = GridSearchCV(pipe, grid_params, scoring='f1',cv=skf_grid)\n",
    "#model_sgdc1.fit(features_train, target_train)\n",
    "#SGDC_best_params = model_sgdc1.best_params_\n",
    "#print(SGDC_best_params)\n",
    "#print()\n",
    "#print(\"Grid scores on development set:\")\n",
    "#print()\n",
    "#means = model_sgdc1.cv_results_['mean_test_score']\n",
    "#stds = model_sgdc1.cv_results_['std_test_score']\n",
    "#for mean, std, params in zip(means, stds, model_sgdc1.cv_results_['params']):\n",
    "    #print(\"%0.6f for %r\"% (mean, params))\n",
    "#print()\n",
    "\n",
    "#f1_sgdc1 = max(means)\n",
    "#print('F1 на обучении', f1_sgdc1)"
   ]
  },
  {
   "cell_type": "code",
   "execution_count": null,
   "metadata": {},
   "outputs": [],
   "source": [
    "#predict_sgdc1 = model_sgdc1.predict(features_test)\n",
    "#f1_sgdc_test1 = f1_score(target_test, predict_sgdc1)\n",
    "#print('F1 на предсказании', f1_sgdc_test1)"
   ]
  },
  {
   "cell_type": "markdown",
   "metadata": {},
   "source": [
    "<div class=\"alert alert-block alert-warning\">\n",
    "<b>Изменения:</b> Добавила паплайн для этой модели, показатель ухудшился на выборке 25000, поэтому запинила код, а в итоговую таблицу вставила в эту графу 'ниже чем без паплайна'\n",
    "</div>"
   ]
  },
  {
   "cell_type": "markdown",
   "metadata": {},
   "source": [
    "## Выводы"
   ]
  },
  {
   "cell_type": "code",
   "execution_count": 31,
   "metadata": {},
   "outputs": [
    {
     "data": {
      "text/html": [
       "<div>\n",
       "<style scoped>\n",
       "    .dataframe tbody tr th:only-of-type {\n",
       "        vertical-align: middle;\n",
       "    }\n",
       "\n",
       "    .dataframe tbody tr th {\n",
       "        vertical-align: top;\n",
       "    }\n",
       "\n",
       "    .dataframe thead th {\n",
       "        text-align: right;\n",
       "    }\n",
       "</style>\n",
       "<table border=\"1\" class=\"dataframe\">\n",
       "  <thead>\n",
       "    <tr style=\"text-align: right;\">\n",
       "      <th></th>\n",
       "      <th>название модели</th>\n",
       "      <th>f1 для модели при обучении</th>\n",
       "      <th>f1 для модели при обучении с паплайном</th>\n",
       "      <th>f1 при предсказании</th>\n",
       "      <th>f1 при предсказании с паплайном</th>\n",
       "    </tr>\n",
       "  </thead>\n",
       "  <tbody>\n",
       "    <tr>\n",
       "      <th>0</th>\n",
       "      <td>LogisticRegression()</td>\n",
       "      <td>0.771763</td>\n",
       "      <td>0.778088</td>\n",
       "      <td>0.763626</td>\n",
       "      <td>0.766273</td>\n",
       "    </tr>\n",
       "    <tr>\n",
       "      <th>1</th>\n",
       "      <td>DecisionTreeClassifier()</td>\n",
       "      <td>0.687829</td>\n",
       "      <td>0.682157</td>\n",
       "      <td>0.679389</td>\n",
       "      <td>0.667262</td>\n",
       "    </tr>\n",
       "    <tr>\n",
       "      <th>2</th>\n",
       "      <td>&lt;catboost.core.CatBoostClassifier object at 0x...</td>\n",
       "      <td>0.745017</td>\n",
       "      <td>0.745017</td>\n",
       "      <td>0.729753</td>\n",
       "      <td>0.729753</td>\n",
       "    </tr>\n",
       "    <tr>\n",
       "      <th>3</th>\n",
       "      <td>SGDClassifier()</td>\n",
       "      <td>0.744958</td>\n",
       "      <td>ниже чем без паплайна</td>\n",
       "      <td>0.735525</td>\n",
       "      <td>ниже чем без паплайна</td>\n",
       "    </tr>\n",
       "  </tbody>\n",
       "</table>\n",
       "</div>"
      ],
      "text/plain": [
       "                                     название модели  \\\n",
       "0                               LogisticRegression()   \n",
       "1                           DecisionTreeClassifier()   \n",
       "2  <catboost.core.CatBoostClassifier object at 0x...   \n",
       "3                                    SGDClassifier()   \n",
       "\n",
       "   f1 для модели при обучении f1 для модели при обучении с паплайном  \\\n",
       "0                    0.771763                               0.778088   \n",
       "1                    0.687829                               0.682157   \n",
       "2                    0.745017                               0.745017   \n",
       "3                    0.744958                  ниже чем без паплайна   \n",
       "\n",
       "   f1 при предсказании f1 при предсказании с паплайном  \n",
       "0             0.763626                        0.766273  \n",
       "1             0.679389                        0.667262  \n",
       "2             0.729753                        0.729753  \n",
       "3             0.735525           ниже чем без паплайна  "
      ]
     },
     "metadata": {},
     "output_type": "display_data"
    }
   ],
   "source": [
    "table=pd.DataFrame({'название модели': [LogisticRegression(), DecisionTreeClassifier(), CatBoostClassifier(), SGDClassifier()], \n",
    "                     'f1 для модели при обучении': [f1_lr, f1_dtc, f1_cbc, f1_sgdc],\n",
    "                     'f1 для модели при обучении с паплайном': [f1_lr1, f1_dtc1, f1_cbc, 'ниже чем без паплайна'],\n",
    "                     'f1 при предсказании': [f1_lr_test, f1_dtc_test, f1_cbc_test, f1_sgdc_test],\n",
    "                     'f1 при предсказании с паплайном': [f1_lr1_test, f1_dtc_test1, f1_cbc_test, 'ниже чем без паплайна']\n",
    "                     })\n",
    "display(table)"
   ]
  },
  {
   "cell_type": "markdown",
   "metadata": {},
   "source": [
    "Поскольку из-за объема данных у меня умирало ядро, то я сделала проект на части данных. "
   ]
  },
  {
   "cell_type": "markdown",
   "metadata": {},
   "source": [
    "Была произведена токенизация, лемматизация текста в датасете. Также были убраны стопслова и произведена векторизация.\n",
    "После векторизации были обучены 4 модели c кроссвалидацией и подбором гиперпараметров: LogisticRegression(), DecisionTreeClassifier(), CatBoostClassifier(), SGDClassifier()\n",
    "Наилучшие результаты по параметру F1 у LogisticRegression() и SGDClassifier(), а у  SGDClassifier() при предсказании по параметру F1 показала наилучший результат (0.771134 для сэмпла данных 15000). А для сэмпла данных из 50000, лучший результат у LogisticRegression() - 0.7606. Для сэмпла данных из 100000, лучший результат также у LogisticRegression() 0.763626 и при обучении с паплайном результат чуть выше: 0.766273"
   ]
  }
 ],
 "metadata": {
  "ExecuteTimeLog": [
   {
    "duration": 49,
    "start_time": "2022-07-18T23:31:10.480Z"
   },
   {
    "duration": 2277,
    "start_time": "2022-07-18T23:31:16.037Z"
   },
   {
    "duration": 2339,
    "start_time": "2022-07-18T23:31:20.676Z"
   },
   {
    "duration": 1506,
    "start_time": "2022-07-18T23:59:09.043Z"
   },
   {
    "duration": 848,
    "start_time": "2022-07-18T23:59:10.552Z"
   },
   {
    "duration": 36,
    "start_time": "2022-07-18T23:59:11.401Z"
   },
   {
    "duration": 4,
    "start_time": "2022-07-18T23:59:11.439Z"
   },
   {
    "duration": 17,
    "start_time": "2022-07-18T23:59:11.445Z"
   },
   {
    "duration": 11,
    "start_time": "2022-07-18T23:59:11.464Z"
   },
   {
    "duration": 1786,
    "start_time": "2022-07-18T23:59:11.476Z"
   },
   {
    "duration": 82390,
    "start_time": "2022-07-18T23:59:13.264Z"
   },
   {
    "duration": 0,
    "start_time": "2022-07-19T00:00:35.657Z"
   },
   {
    "duration": 0,
    "start_time": "2022-07-19T00:00:35.658Z"
   },
   {
    "duration": 0,
    "start_time": "2022-07-19T00:00:35.660Z"
   },
   {
    "duration": 0,
    "start_time": "2022-07-19T00:00:35.661Z"
   },
   {
    "duration": 0,
    "start_time": "2022-07-19T00:00:35.662Z"
   },
   {
    "duration": 0,
    "start_time": "2022-07-19T00:00:35.663Z"
   },
   {
    "duration": 0,
    "start_time": "2022-07-19T00:00:35.663Z"
   },
   {
    "duration": 0,
    "start_time": "2022-07-19T00:00:35.664Z"
   },
   {
    "duration": 0,
    "start_time": "2022-07-19T00:00:35.665Z"
   },
   {
    "duration": 0,
    "start_time": "2022-07-19T00:00:35.666Z"
   },
   {
    "duration": 0,
    "start_time": "2022-07-19T00:00:35.667Z"
   },
   {
    "duration": 0,
    "start_time": "2022-07-19T00:00:35.668Z"
   },
   {
    "duration": 0,
    "start_time": "2022-07-19T00:00:35.669Z"
   },
   {
    "duration": 0,
    "start_time": "2022-07-19T00:00:35.670Z"
   },
   {
    "duration": 12,
    "start_time": "2022-07-19T00:36:42.259Z"
   },
   {
    "duration": 12,
    "start_time": "2022-07-19T00:37:08.057Z"
   },
   {
    "duration": 10,
    "start_time": "2022-07-19T00:39:00.439Z"
   },
   {
    "duration": 13,
    "start_time": "2022-07-19T00:39:24.639Z"
   },
   {
    "duration": 1458,
    "start_time": "2022-07-19T01:36:13.337Z"
   },
   {
    "duration": 843,
    "start_time": "2022-07-19T01:36:14.797Z"
   },
   {
    "duration": 33,
    "start_time": "2022-07-19T01:36:15.641Z"
   },
   {
    "duration": 4,
    "start_time": "2022-07-19T01:36:15.676Z"
   },
   {
    "duration": 13,
    "start_time": "2022-07-19T01:36:15.681Z"
   },
   {
    "duration": 203,
    "start_time": "2022-07-19T01:36:15.696Z"
   },
   {
    "duration": 13,
    "start_time": "2022-07-19T01:36:15.901Z"
   },
   {
    "duration": 0,
    "start_time": "2022-07-19T01:36:15.917Z"
   },
   {
    "duration": 0,
    "start_time": "2022-07-19T01:36:15.919Z"
   },
   {
    "duration": 0,
    "start_time": "2022-07-19T01:36:15.920Z"
   },
   {
    "duration": 0,
    "start_time": "2022-07-19T01:36:15.921Z"
   },
   {
    "duration": 0,
    "start_time": "2022-07-19T01:36:15.922Z"
   },
   {
    "duration": 0,
    "start_time": "2022-07-19T01:36:15.928Z"
   },
   {
    "duration": 0,
    "start_time": "2022-07-19T01:36:15.937Z"
   },
   {
    "duration": 0,
    "start_time": "2022-07-19T01:36:15.938Z"
   },
   {
    "duration": 0,
    "start_time": "2022-07-19T01:36:15.938Z"
   },
   {
    "duration": 0,
    "start_time": "2022-07-19T01:36:15.939Z"
   },
   {
    "duration": 1,
    "start_time": "2022-07-19T01:36:15.940Z"
   },
   {
    "duration": 0,
    "start_time": "2022-07-19T01:36:15.941Z"
   },
   {
    "duration": 0,
    "start_time": "2022-07-19T01:36:15.943Z"
   },
   {
    "duration": 0,
    "start_time": "2022-07-19T01:36:15.944Z"
   },
   {
    "duration": 1509,
    "start_time": "2022-07-19T01:40:28.365Z"
   },
   {
    "duration": 843,
    "start_time": "2022-07-19T01:40:29.877Z"
   },
   {
    "duration": 35,
    "start_time": "2022-07-19T01:40:30.733Z"
   },
   {
    "duration": 4,
    "start_time": "2022-07-19T01:40:30.770Z"
   },
   {
    "duration": 23,
    "start_time": "2022-07-19T01:40:30.776Z"
   },
   {
    "duration": 1966,
    "start_time": "2022-07-19T01:40:30.800Z"
   },
   {
    "duration": 46,
    "start_time": "2022-07-19T01:40:32.768Z"
   },
   {
    "duration": 0,
    "start_time": "2022-07-19T01:40:32.816Z"
   },
   {
    "duration": 0,
    "start_time": "2022-07-19T01:40:32.817Z"
   },
   {
    "duration": 0,
    "start_time": "2022-07-19T01:40:32.819Z"
   },
   {
    "duration": 0,
    "start_time": "2022-07-19T01:40:32.820Z"
   },
   {
    "duration": 1,
    "start_time": "2022-07-19T01:40:32.821Z"
   },
   {
    "duration": 0,
    "start_time": "2022-07-19T01:40:32.823Z"
   },
   {
    "duration": 0,
    "start_time": "2022-07-19T01:40:32.824Z"
   },
   {
    "duration": 0,
    "start_time": "2022-07-19T01:40:32.824Z"
   },
   {
    "duration": 0,
    "start_time": "2022-07-19T01:40:32.825Z"
   },
   {
    "duration": 0,
    "start_time": "2022-07-19T01:40:32.826Z"
   },
   {
    "duration": 0,
    "start_time": "2022-07-19T01:40:32.827Z"
   },
   {
    "duration": 0,
    "start_time": "2022-07-19T01:40:32.830Z"
   },
   {
    "duration": 0,
    "start_time": "2022-07-19T01:40:32.831Z"
   },
   {
    "duration": 0,
    "start_time": "2022-07-19T01:40:32.833Z"
   },
   {
    "duration": 0,
    "start_time": "2022-07-19T01:40:32.836Z"
   },
   {
    "duration": 0,
    "start_time": "2022-07-19T01:40:32.837Z"
   },
   {
    "duration": 1488,
    "start_time": "2022-07-19T01:41:43.485Z"
   },
   {
    "duration": 817,
    "start_time": "2022-07-19T01:41:44.976Z"
   },
   {
    "duration": 45,
    "start_time": "2022-07-19T01:41:45.797Z"
   },
   {
    "duration": 5,
    "start_time": "2022-07-19T01:41:45.844Z"
   },
   {
    "duration": 14,
    "start_time": "2022-07-19T01:41:45.851Z"
   },
   {
    "duration": 1970,
    "start_time": "2022-07-19T01:41:45.866Z"
   },
   {
    "duration": 154,
    "start_time": "2022-07-19T01:41:47.838Z"
   },
   {
    "duration": 13,
    "start_time": "2022-07-19T01:41:47.993Z"
   },
   {
    "duration": 0,
    "start_time": "2022-07-19T01:41:48.007Z"
   },
   {
    "duration": 0,
    "start_time": "2022-07-19T01:41:48.008Z"
   },
   {
    "duration": 0,
    "start_time": "2022-07-19T01:41:48.009Z"
   },
   {
    "duration": 0,
    "start_time": "2022-07-19T01:41:48.010Z"
   },
   {
    "duration": 0,
    "start_time": "2022-07-19T01:41:48.011Z"
   },
   {
    "duration": 0,
    "start_time": "2022-07-19T01:41:48.012Z"
   },
   {
    "duration": 0,
    "start_time": "2022-07-19T01:41:48.013Z"
   },
   {
    "duration": 0,
    "start_time": "2022-07-19T01:41:48.014Z"
   },
   {
    "duration": 0,
    "start_time": "2022-07-19T01:41:48.015Z"
   },
   {
    "duration": 0,
    "start_time": "2022-07-19T01:41:48.016Z"
   },
   {
    "duration": 0,
    "start_time": "2022-07-19T01:41:48.017Z"
   },
   {
    "duration": 0,
    "start_time": "2022-07-19T01:41:48.018Z"
   },
   {
    "duration": 0,
    "start_time": "2022-07-19T01:41:48.023Z"
   },
   {
    "duration": 0,
    "start_time": "2022-07-19T01:41:48.023Z"
   },
   {
    "duration": 1477,
    "start_time": "2022-07-19T01:44:27.936Z"
   },
   {
    "duration": 827,
    "start_time": "2022-07-19T01:44:29.415Z"
   },
   {
    "duration": 34,
    "start_time": "2022-07-19T01:44:30.243Z"
   },
   {
    "duration": 4,
    "start_time": "2022-07-19T01:44:30.279Z"
   },
   {
    "duration": 19,
    "start_time": "2022-07-19T01:44:30.285Z"
   },
   {
    "duration": 154,
    "start_time": "2022-07-19T01:44:30.324Z"
   },
   {
    "duration": 56,
    "start_time": "2022-07-19T01:44:30.480Z"
   },
   {
    "duration": 0,
    "start_time": "2022-07-19T01:44:30.538Z"
   },
   {
    "duration": 0,
    "start_time": "2022-07-19T01:44:30.540Z"
   },
   {
    "duration": 0,
    "start_time": "2022-07-19T01:44:30.541Z"
   },
   {
    "duration": 0,
    "start_time": "2022-07-19T01:44:30.542Z"
   },
   {
    "duration": 0,
    "start_time": "2022-07-19T01:44:30.544Z"
   },
   {
    "duration": 0,
    "start_time": "2022-07-19T01:44:30.545Z"
   },
   {
    "duration": 0,
    "start_time": "2022-07-19T01:44:30.547Z"
   },
   {
    "duration": 0,
    "start_time": "2022-07-19T01:44:30.548Z"
   },
   {
    "duration": 0,
    "start_time": "2022-07-19T01:44:30.550Z"
   },
   {
    "duration": 0,
    "start_time": "2022-07-19T01:44:30.551Z"
   },
   {
    "duration": 0,
    "start_time": "2022-07-19T01:44:30.552Z"
   },
   {
    "duration": 0,
    "start_time": "2022-07-19T01:44:30.554Z"
   },
   {
    "duration": 0,
    "start_time": "2022-07-19T01:44:30.555Z"
   },
   {
    "duration": 0,
    "start_time": "2022-07-19T01:44:30.557Z"
   },
   {
    "duration": 0,
    "start_time": "2022-07-19T01:44:30.558Z"
   },
   {
    "duration": 0,
    "start_time": "2022-07-19T01:44:30.560Z"
   },
   {
    "duration": 1532,
    "start_time": "2022-07-19T01:45:40.741Z"
   },
   {
    "duration": 819,
    "start_time": "2022-07-19T01:45:42.275Z"
   },
   {
    "duration": 40,
    "start_time": "2022-07-19T01:45:43.096Z"
   },
   {
    "duration": 9,
    "start_time": "2022-07-19T01:45:43.138Z"
   },
   {
    "duration": 13,
    "start_time": "2022-07-19T01:45:43.149Z"
   },
   {
    "duration": 97614,
    "start_time": "2022-07-19T01:45:43.164Z"
   },
   {
    "duration": 59,
    "start_time": "2022-07-19T01:47:20.780Z"
   },
   {
    "duration": 0,
    "start_time": "2022-07-19T01:47:20.841Z"
   },
   {
    "duration": 0,
    "start_time": "2022-07-19T01:47:20.843Z"
   },
   {
    "duration": 0,
    "start_time": "2022-07-19T01:47:20.844Z"
   },
   {
    "duration": 0,
    "start_time": "2022-07-19T01:47:20.846Z"
   },
   {
    "duration": 0,
    "start_time": "2022-07-19T01:47:20.847Z"
   },
   {
    "duration": 0,
    "start_time": "2022-07-19T01:47:20.848Z"
   },
   {
    "duration": 0,
    "start_time": "2022-07-19T01:47:20.849Z"
   },
   {
    "duration": 0,
    "start_time": "2022-07-19T01:47:20.850Z"
   },
   {
    "duration": 0,
    "start_time": "2022-07-19T01:47:20.851Z"
   },
   {
    "duration": 0,
    "start_time": "2022-07-19T01:47:20.853Z"
   },
   {
    "duration": 0,
    "start_time": "2022-07-19T01:47:20.854Z"
   },
   {
    "duration": 0,
    "start_time": "2022-07-19T01:47:20.855Z"
   },
   {
    "duration": 0,
    "start_time": "2022-07-19T01:47:20.856Z"
   },
   {
    "duration": 0,
    "start_time": "2022-07-19T01:47:20.857Z"
   },
   {
    "duration": 0,
    "start_time": "2022-07-19T01:47:20.858Z"
   },
   {
    "duration": 0,
    "start_time": "2022-07-19T01:47:20.859Z"
   },
   {
    "duration": 97490,
    "start_time": "2022-07-19T01:48:27.694Z"
   },
   {
    "duration": 97836,
    "start_time": "2022-07-19T01:53:18.495Z"
   },
   {
    "duration": 2207,
    "start_time": "2022-07-19T01:59:47.237Z"
   },
   {
    "duration": 2044,
    "start_time": "2022-07-19T02:00:08.206Z"
   },
   {
    "duration": 76,
    "start_time": "2022-07-19T02:01:29.002Z"
   },
   {
    "duration": 8,
    "start_time": "2022-07-19T02:02:03.695Z"
   },
   {
    "duration": 99236,
    "start_time": "2022-07-19T02:03:37.140Z"
   },
   {
    "duration": 37,
    "start_time": "2022-07-19T02:16:03.757Z"
   },
   {
    "duration": 1474,
    "start_time": "2022-07-19T02:17:03.625Z"
   },
   {
    "duration": 899,
    "start_time": "2022-07-19T02:17:05.101Z"
   },
   {
    "duration": 41,
    "start_time": "2022-07-19T02:17:06.002Z"
   },
   {
    "duration": 25,
    "start_time": "2022-07-19T02:17:06.046Z"
   },
   {
    "duration": 22,
    "start_time": "2022-07-19T02:17:06.075Z"
   },
   {
    "duration": 100560,
    "start_time": "2022-07-19T02:17:06.099Z"
   },
   {
    "duration": 2,
    "start_time": "2022-07-19T02:18:46.662Z"
   },
   {
    "duration": 151,
    "start_time": "2022-07-19T02:18:46.666Z"
   },
   {
    "duration": 0,
    "start_time": "2022-07-19T02:18:46.820Z"
   },
   {
    "duration": 0,
    "start_time": "2022-07-19T02:18:46.823Z"
   },
   {
    "duration": 0,
    "start_time": "2022-07-19T02:18:46.824Z"
   },
   {
    "duration": 0,
    "start_time": "2022-07-19T02:18:46.824Z"
   },
   {
    "duration": 0,
    "start_time": "2022-07-19T02:18:46.825Z"
   },
   {
    "duration": 0,
    "start_time": "2022-07-19T02:18:46.826Z"
   },
   {
    "duration": 0,
    "start_time": "2022-07-19T02:18:46.827Z"
   },
   {
    "duration": 0,
    "start_time": "2022-07-19T02:18:46.827Z"
   },
   {
    "duration": 0,
    "start_time": "2022-07-19T02:18:46.828Z"
   },
   {
    "duration": 0,
    "start_time": "2022-07-19T02:18:46.829Z"
   },
   {
    "duration": 0,
    "start_time": "2022-07-19T02:18:46.829Z"
   },
   {
    "duration": 0,
    "start_time": "2022-07-19T02:18:46.830Z"
   },
   {
    "duration": 0,
    "start_time": "2022-07-19T02:18:46.830Z"
   },
   {
    "duration": 0,
    "start_time": "2022-07-19T02:18:46.831Z"
   },
   {
    "duration": 0,
    "start_time": "2022-07-19T02:18:46.832Z"
   },
   {
    "duration": 0,
    "start_time": "2022-07-19T02:18:46.832Z"
   },
   {
    "duration": 20,
    "start_time": "2022-07-19T02:26:22.659Z"
   },
   {
    "duration": 1494,
    "start_time": "2022-07-19T02:26:31.703Z"
   },
   {
    "duration": 801,
    "start_time": "2022-07-19T02:26:33.199Z"
   },
   {
    "duration": 43,
    "start_time": "2022-07-19T02:26:34.002Z"
   },
   {
    "duration": 8,
    "start_time": "2022-07-19T02:26:34.047Z"
   },
   {
    "duration": 11,
    "start_time": "2022-07-19T02:26:34.057Z"
   },
   {
    "duration": 101437,
    "start_time": "2022-07-19T02:26:34.070Z"
   },
   {
    "duration": 14,
    "start_time": "2022-07-19T02:28:15.509Z"
   },
   {
    "duration": 169,
    "start_time": "2022-07-19T02:28:15.525Z"
   },
   {
    "duration": 0,
    "start_time": "2022-07-19T02:28:15.696Z"
   },
   {
    "duration": 0,
    "start_time": "2022-07-19T02:28:15.698Z"
   },
   {
    "duration": 0,
    "start_time": "2022-07-19T02:28:15.699Z"
   },
   {
    "duration": 0,
    "start_time": "2022-07-19T02:28:15.701Z"
   },
   {
    "duration": 0,
    "start_time": "2022-07-19T02:28:15.702Z"
   },
   {
    "duration": 0,
    "start_time": "2022-07-19T02:28:15.704Z"
   },
   {
    "duration": 0,
    "start_time": "2022-07-19T02:28:15.723Z"
   },
   {
    "duration": 0,
    "start_time": "2022-07-19T02:28:15.727Z"
   },
   {
    "duration": 0,
    "start_time": "2022-07-19T02:28:15.728Z"
   },
   {
    "duration": 0,
    "start_time": "2022-07-19T02:28:15.729Z"
   },
   {
    "duration": 0,
    "start_time": "2022-07-19T02:28:15.730Z"
   },
   {
    "duration": 0,
    "start_time": "2022-07-19T02:28:15.731Z"
   },
   {
    "duration": 0,
    "start_time": "2022-07-19T02:28:15.732Z"
   },
   {
    "duration": 0,
    "start_time": "2022-07-19T02:28:15.733Z"
   },
   {
    "duration": 0,
    "start_time": "2022-07-19T02:28:15.733Z"
   },
   {
    "duration": 0,
    "start_time": "2022-07-19T02:28:15.734Z"
   },
   {
    "duration": 139,
    "start_time": "2022-07-19T02:32:21.516Z"
   },
   {
    "duration": 149,
    "start_time": "2022-07-19T02:33:06.210Z"
   },
   {
    "duration": 120,
    "start_time": "2022-07-19T02:33:45.283Z"
   },
   {
    "duration": 132,
    "start_time": "2022-07-19T02:35:23.114Z"
   },
   {
    "duration": 171,
    "start_time": "2022-07-19T02:35:42.765Z"
   },
   {
    "duration": 135,
    "start_time": "2022-07-19T02:36:10.135Z"
   },
   {
    "duration": 117,
    "start_time": "2022-07-19T02:36:36.545Z"
   },
   {
    "duration": 2733,
    "start_time": "2022-07-19T02:38:06.544Z"
   },
   {
    "duration": 57259,
    "start_time": "2022-07-19T12:08:39.332Z"
   },
   {
    "duration": 2316,
    "start_time": "2022-07-19T12:09:36.593Z"
   },
   {
    "duration": 37,
    "start_time": "2022-07-19T12:09:38.912Z"
   },
   {
    "duration": 11,
    "start_time": "2022-07-19T12:09:38.951Z"
   },
   {
    "duration": 19,
    "start_time": "2022-07-19T12:09:38.965Z"
   },
   {
    "duration": 11,
    "start_time": "2022-07-19T12:09:38.986Z"
   },
   {
    "duration": 9,
    "start_time": "2022-07-19T12:09:38.999Z"
   },
   {
    "duration": 7,
    "start_time": "2022-07-19T12:09:39.010Z"
   },
   {
    "duration": 328,
    "start_time": "2022-07-19T12:09:39.019Z"
   },
   {
    "duration": 0,
    "start_time": "2022-07-19T12:09:39.349Z"
   },
   {
    "duration": 0,
    "start_time": "2022-07-19T12:09:39.350Z"
   },
   {
    "duration": 0,
    "start_time": "2022-07-19T12:09:39.351Z"
   },
   {
    "duration": 0,
    "start_time": "2022-07-19T12:09:39.353Z"
   },
   {
    "duration": 0,
    "start_time": "2022-07-19T12:09:39.354Z"
   },
   {
    "duration": 0,
    "start_time": "2022-07-19T12:09:39.363Z"
   },
   {
    "duration": 0,
    "start_time": "2022-07-19T12:09:39.365Z"
   },
   {
    "duration": 0,
    "start_time": "2022-07-19T12:09:39.367Z"
   },
   {
    "duration": 0,
    "start_time": "2022-07-19T12:09:39.368Z"
   },
   {
    "duration": 0,
    "start_time": "2022-07-19T12:09:39.370Z"
   },
   {
    "duration": 0,
    "start_time": "2022-07-19T12:09:39.371Z"
   },
   {
    "duration": 0,
    "start_time": "2022-07-19T12:09:39.375Z"
   },
   {
    "duration": 0,
    "start_time": "2022-07-19T12:09:39.377Z"
   },
   {
    "duration": 0,
    "start_time": "2022-07-19T12:09:39.378Z"
   },
   {
    "duration": 0,
    "start_time": "2022-07-19T12:09:39.380Z"
   },
   {
    "duration": 0,
    "start_time": "2022-07-19T12:09:39.381Z"
   },
   {
    "duration": 53489,
    "start_time": "2022-07-19T12:12:08.598Z"
   },
   {
    "duration": 838,
    "start_time": "2022-07-19T12:13:02.089Z"
   },
   {
    "duration": 45,
    "start_time": "2022-07-19T12:13:02.931Z"
   },
   {
    "duration": 11,
    "start_time": "2022-07-19T12:13:02.978Z"
   },
   {
    "duration": 24,
    "start_time": "2022-07-19T12:13:02.991Z"
   },
   {
    "duration": 3,
    "start_time": "2022-07-19T12:13:03.017Z"
   },
   {
    "duration": 13,
    "start_time": "2022-07-19T12:13:03.021Z"
   },
   {
    "duration": 302,
    "start_time": "2022-07-19T12:13:03.035Z"
   },
   {
    "duration": 0,
    "start_time": "2022-07-19T12:13:03.339Z"
   },
   {
    "duration": 0,
    "start_time": "2022-07-19T12:13:03.340Z"
   },
   {
    "duration": 0,
    "start_time": "2022-07-19T12:13:03.341Z"
   },
   {
    "duration": 0,
    "start_time": "2022-07-19T12:13:03.343Z"
   },
   {
    "duration": 0,
    "start_time": "2022-07-19T12:13:03.344Z"
   },
   {
    "duration": 0,
    "start_time": "2022-07-19T12:13:03.345Z"
   },
   {
    "duration": 0,
    "start_time": "2022-07-19T12:13:03.347Z"
   },
   {
    "duration": 0,
    "start_time": "2022-07-19T12:13:03.363Z"
   },
   {
    "duration": 0,
    "start_time": "2022-07-19T12:13:03.365Z"
   },
   {
    "duration": 0,
    "start_time": "2022-07-19T12:13:03.366Z"
   },
   {
    "duration": 0,
    "start_time": "2022-07-19T12:13:03.368Z"
   },
   {
    "duration": 0,
    "start_time": "2022-07-19T12:13:03.369Z"
   },
   {
    "duration": 0,
    "start_time": "2022-07-19T12:13:03.371Z"
   },
   {
    "duration": 0,
    "start_time": "2022-07-19T12:13:03.372Z"
   },
   {
    "duration": 0,
    "start_time": "2022-07-19T12:13:03.373Z"
   },
   {
    "duration": 0,
    "start_time": "2022-07-19T12:13:03.375Z"
   },
   {
    "duration": 0,
    "start_time": "2022-07-19T12:13:03.376Z"
   },
   {
    "duration": 61280,
    "start_time": "2022-07-19T12:19:05.593Z"
   },
   {
    "duration": 760,
    "start_time": "2022-07-19T12:20:06.875Z"
   },
   {
    "duration": 38,
    "start_time": "2022-07-19T12:20:07.636Z"
   },
   {
    "duration": 4,
    "start_time": "2022-07-19T12:20:07.675Z"
   },
   {
    "duration": 12,
    "start_time": "2022-07-19T12:20:07.681Z"
   },
   {
    "duration": 2000,
    "start_time": "2022-07-19T12:20:07.695Z"
   },
   {
    "duration": 8,
    "start_time": "2022-07-19T12:20:09.697Z"
   },
   {
    "duration": 5,
    "start_time": "2022-07-19T12:20:09.707Z"
   },
   {
    "duration": 333,
    "start_time": "2022-07-19T12:20:09.714Z"
   },
   {
    "duration": 0,
    "start_time": "2022-07-19T12:20:10.049Z"
   },
   {
    "duration": 0,
    "start_time": "2022-07-19T12:20:10.050Z"
   },
   {
    "duration": 0,
    "start_time": "2022-07-19T12:20:10.052Z"
   },
   {
    "duration": 0,
    "start_time": "2022-07-19T12:20:10.053Z"
   },
   {
    "duration": 0,
    "start_time": "2022-07-19T12:20:10.054Z"
   },
   {
    "duration": 0,
    "start_time": "2022-07-19T12:20:10.064Z"
   },
   {
    "duration": 0,
    "start_time": "2022-07-19T12:20:10.066Z"
   },
   {
    "duration": 1,
    "start_time": "2022-07-19T12:20:10.067Z"
   },
   {
    "duration": 0,
    "start_time": "2022-07-19T12:20:10.069Z"
   },
   {
    "duration": 0,
    "start_time": "2022-07-19T12:20:10.070Z"
   },
   {
    "duration": 0,
    "start_time": "2022-07-19T12:20:10.072Z"
   },
   {
    "duration": 0,
    "start_time": "2022-07-19T12:20:10.073Z"
   },
   {
    "duration": 0,
    "start_time": "2022-07-19T12:20:10.074Z"
   },
   {
    "duration": 0,
    "start_time": "2022-07-19T12:20:10.076Z"
   },
   {
    "duration": 0,
    "start_time": "2022-07-19T12:20:10.077Z"
   },
   {
    "duration": 0,
    "start_time": "2022-07-19T12:20:10.079Z"
   },
   {
    "duration": 19,
    "start_time": "2022-07-19T12:26:18.335Z"
   },
   {
    "duration": 49,
    "start_time": "2022-07-19T12:37:36.766Z"
   },
   {
    "duration": 1042,
    "start_time": "2022-07-19T12:37:51.490Z"
   },
   {
    "duration": 1617,
    "start_time": "2022-07-19T12:38:14.710Z"
   },
   {
    "duration": 1178,
    "start_time": "2022-07-19T12:39:01.965Z"
   },
   {
    "duration": 6,
    "start_time": "2022-07-19T12:39:12.494Z"
   },
   {
    "duration": 47,
    "start_time": "2022-07-19T12:43:22.218Z"
   },
   {
    "duration": 46,
    "start_time": "2022-07-19T12:46:19.815Z"
   },
   {
    "duration": 62255,
    "start_time": "2022-07-19T12:46:29.326Z"
   },
   {
    "duration": 2351,
    "start_time": "2022-07-19T12:47:31.583Z"
   },
   {
    "duration": 34,
    "start_time": "2022-07-19T12:47:33.936Z"
   },
   {
    "duration": 21,
    "start_time": "2022-07-19T12:47:33.971Z"
   },
   {
    "duration": 20,
    "start_time": "2022-07-19T12:47:33.994Z"
   },
   {
    "duration": 11,
    "start_time": "2022-07-19T12:47:34.016Z"
   },
   {
    "duration": 16,
    "start_time": "2022-07-19T12:47:34.029Z"
   },
   {
    "duration": 2068,
    "start_time": "2022-07-19T12:47:34.047Z"
   },
   {
    "duration": 1497,
    "start_time": "2022-07-19T12:47:36.117Z"
   },
   {
    "duration": 2,
    "start_time": "2022-07-19T12:47:37.616Z"
   },
   {
    "duration": 5,
    "start_time": "2022-07-19T12:47:37.620Z"
   },
   {
    "duration": 299,
    "start_time": "2022-07-19T12:47:37.627Z"
   },
   {
    "duration": 0,
    "start_time": "2022-07-19T12:47:37.929Z"
   },
   {
    "duration": 0,
    "start_time": "2022-07-19T12:47:37.930Z"
   },
   {
    "duration": 0,
    "start_time": "2022-07-19T12:47:37.931Z"
   },
   {
    "duration": 0,
    "start_time": "2022-07-19T12:47:37.933Z"
   },
   {
    "duration": 0,
    "start_time": "2022-07-19T12:47:37.935Z"
   },
   {
    "duration": 0,
    "start_time": "2022-07-19T12:47:37.936Z"
   },
   {
    "duration": 1,
    "start_time": "2022-07-19T12:47:37.937Z"
   },
   {
    "duration": 0,
    "start_time": "2022-07-19T12:47:37.939Z"
   },
   {
    "duration": 0,
    "start_time": "2022-07-19T12:47:37.963Z"
   },
   {
    "duration": 0,
    "start_time": "2022-07-19T12:47:37.965Z"
   },
   {
    "duration": 0,
    "start_time": "2022-07-19T12:47:37.966Z"
   },
   {
    "duration": 0,
    "start_time": "2022-07-19T12:47:37.967Z"
   },
   {
    "duration": 0,
    "start_time": "2022-07-19T12:47:37.968Z"
   },
   {
    "duration": 36,
    "start_time": "2022-07-19T12:54:03.674Z"
   },
   {
    "duration": 8,
    "start_time": "2022-07-19T12:54:42.182Z"
   },
   {
    "duration": 21,
    "start_time": "2022-07-19T12:56:14.381Z"
   },
   {
    "duration": 26,
    "start_time": "2022-07-19T12:59:02.653Z"
   },
   {
    "duration": 6,
    "start_time": "2022-07-19T12:59:13.021Z"
   },
   {
    "duration": 8,
    "start_time": "2022-07-19T13:00:52.950Z"
   },
   {
    "duration": 69503,
    "start_time": "2022-07-19T13:01:08.333Z"
   },
   {
    "duration": 803,
    "start_time": "2022-07-19T13:02:17.839Z"
   },
   {
    "duration": 40,
    "start_time": "2022-07-19T13:02:18.644Z"
   },
   {
    "duration": 5,
    "start_time": "2022-07-19T13:02:18.686Z"
   },
   {
    "duration": 24,
    "start_time": "2022-07-19T13:02:18.693Z"
   },
   {
    "duration": 11,
    "start_time": "2022-07-19T13:02:18.718Z"
   },
   {
    "duration": 10,
    "start_time": "2022-07-19T13:02:18.731Z"
   },
   {
    "duration": 2105,
    "start_time": "2022-07-19T13:02:18.743Z"
   },
   {
    "duration": 1510,
    "start_time": "2022-07-19T13:02:20.850Z"
   },
   {
    "duration": 2,
    "start_time": "2022-07-19T13:02:22.363Z"
   },
   {
    "duration": 10,
    "start_time": "2022-07-19T13:02:22.366Z"
   },
   {
    "duration": 13,
    "start_time": "2022-07-19T13:02:22.377Z"
   },
   {
    "duration": 347,
    "start_time": "2022-07-19T13:02:22.392Z"
   },
   {
    "duration": 0,
    "start_time": "2022-07-19T13:02:22.742Z"
   },
   {
    "duration": 0,
    "start_time": "2022-07-19T13:02:22.744Z"
   },
   {
    "duration": 0,
    "start_time": "2022-07-19T13:02:22.746Z"
   },
   {
    "duration": 0,
    "start_time": "2022-07-19T13:02:22.747Z"
   },
   {
    "duration": 0,
    "start_time": "2022-07-19T13:02:22.749Z"
   },
   {
    "duration": 0,
    "start_time": "2022-07-19T13:02:22.763Z"
   },
   {
    "duration": 0,
    "start_time": "2022-07-19T13:02:22.764Z"
   },
   {
    "duration": 0,
    "start_time": "2022-07-19T13:02:22.766Z"
   },
   {
    "duration": 0,
    "start_time": "2022-07-19T13:02:22.767Z"
   },
   {
    "duration": 0,
    "start_time": "2022-07-19T13:02:22.768Z"
   },
   {
    "duration": 0,
    "start_time": "2022-07-19T13:02:22.769Z"
   },
   {
    "duration": 0,
    "start_time": "2022-07-19T13:02:22.770Z"
   },
   {
    "duration": 63431,
    "start_time": "2022-07-19T13:11:03.142Z"
   },
   {
    "duration": 845,
    "start_time": "2022-07-19T13:12:06.575Z"
   },
   {
    "duration": 48,
    "start_time": "2022-07-19T13:12:07.422Z"
   },
   {
    "duration": 5,
    "start_time": "2022-07-19T13:12:07.471Z"
   },
   {
    "duration": 39,
    "start_time": "2022-07-19T13:12:07.479Z"
   },
   {
    "duration": 2146,
    "start_time": "2022-07-19T13:12:07.520Z"
   },
   {
    "duration": 1601,
    "start_time": "2022-07-19T13:12:09.668Z"
   },
   {
    "duration": 7,
    "start_time": "2022-07-19T13:12:11.270Z"
   },
   {
    "duration": 315,
    "start_time": "2022-07-19T13:12:11.279Z"
   },
   {
    "duration": 0,
    "start_time": "2022-07-19T13:12:11.596Z"
   },
   {
    "duration": 0,
    "start_time": "2022-07-19T13:12:11.597Z"
   },
   {
    "duration": 0,
    "start_time": "2022-07-19T13:12:11.598Z"
   },
   {
    "duration": 0,
    "start_time": "2022-07-19T13:12:11.599Z"
   },
   {
    "duration": 0,
    "start_time": "2022-07-19T13:12:11.600Z"
   },
   {
    "duration": 0,
    "start_time": "2022-07-19T13:12:11.601Z"
   },
   {
    "duration": 0,
    "start_time": "2022-07-19T13:12:11.602Z"
   },
   {
    "duration": 0,
    "start_time": "2022-07-19T13:12:11.603Z"
   },
   {
    "duration": 0,
    "start_time": "2022-07-19T13:12:11.604Z"
   },
   {
    "duration": 0,
    "start_time": "2022-07-19T13:12:11.605Z"
   },
   {
    "duration": 0,
    "start_time": "2022-07-19T13:12:11.606Z"
   },
   {
    "duration": 0,
    "start_time": "2022-07-19T13:12:11.607Z"
   },
   {
    "duration": 19,
    "start_time": "2022-07-19T13:21:05.473Z"
   },
   {
    "duration": 54998,
    "start_time": "2022-07-19T13:28:22.923Z"
   },
   {
    "duration": 780,
    "start_time": "2022-07-19T13:29:17.923Z"
   },
   {
    "duration": 35,
    "start_time": "2022-07-19T13:29:18.705Z"
   },
   {
    "duration": 4,
    "start_time": "2022-07-19T13:29:18.742Z"
   },
   {
    "duration": 21,
    "start_time": "2022-07-19T13:29:18.748Z"
   },
   {
    "duration": 2073,
    "start_time": "2022-07-19T13:29:18.770Z"
   },
   {
    "duration": 316,
    "start_time": "2022-07-19T13:29:20.845Z"
   },
   {
    "duration": 0,
    "start_time": "2022-07-19T13:29:21.164Z"
   },
   {
    "duration": 0,
    "start_time": "2022-07-19T13:29:21.166Z"
   },
   {
    "duration": 0,
    "start_time": "2022-07-19T13:29:21.168Z"
   },
   {
    "duration": 0,
    "start_time": "2022-07-19T13:29:21.169Z"
   },
   {
    "duration": 0,
    "start_time": "2022-07-19T13:29:21.171Z"
   },
   {
    "duration": 0,
    "start_time": "2022-07-19T13:29:21.172Z"
   },
   {
    "duration": 1,
    "start_time": "2022-07-19T13:29:21.173Z"
   },
   {
    "duration": 0,
    "start_time": "2022-07-19T13:29:21.175Z"
   },
   {
    "duration": 0,
    "start_time": "2022-07-19T13:29:21.177Z"
   },
   {
    "duration": 0,
    "start_time": "2022-07-19T13:29:21.178Z"
   },
   {
    "duration": 0,
    "start_time": "2022-07-19T13:29:21.179Z"
   },
   {
    "duration": 0,
    "start_time": "2022-07-19T13:29:21.181Z"
   },
   {
    "duration": 0,
    "start_time": "2022-07-19T13:29:21.182Z"
   },
   {
    "duration": 0,
    "start_time": "2022-07-19T13:29:21.183Z"
   },
   {
    "duration": 0,
    "start_time": "2022-07-19T13:29:21.185Z"
   },
   {
    "duration": 0,
    "start_time": "2022-07-19T13:29:21.186Z"
   },
   {
    "duration": 0,
    "start_time": "2022-07-19T13:29:21.188Z"
   },
   {
    "duration": 60640,
    "start_time": "2022-07-19T13:47:25.228Z"
   },
   {
    "duration": 826,
    "start_time": "2022-07-19T13:48:25.870Z"
   },
   {
    "duration": 36,
    "start_time": "2022-07-19T13:48:26.698Z"
   },
   {
    "duration": 4,
    "start_time": "2022-07-19T13:48:26.737Z"
   },
   {
    "duration": 12,
    "start_time": "2022-07-19T13:48:26.763Z"
   },
   {
    "duration": 2133,
    "start_time": "2022-07-19T13:48:26.777Z"
   },
   {
    "duration": 278,
    "start_time": "2022-07-19T13:48:28.912Z"
   },
   {
    "duration": 334,
    "start_time": "2022-07-19T13:48:29.193Z"
   },
   {
    "duration": 0,
    "start_time": "2022-07-19T13:48:29.529Z"
   },
   {
    "duration": 0,
    "start_time": "2022-07-19T13:48:29.530Z"
   },
   {
    "duration": 0,
    "start_time": "2022-07-19T13:48:29.532Z"
   },
   {
    "duration": 0,
    "start_time": "2022-07-19T13:48:29.533Z"
   },
   {
    "duration": 0,
    "start_time": "2022-07-19T13:48:29.535Z"
   },
   {
    "duration": 0,
    "start_time": "2022-07-19T13:48:29.536Z"
   },
   {
    "duration": 0,
    "start_time": "2022-07-19T13:48:29.538Z"
   },
   {
    "duration": 0,
    "start_time": "2022-07-19T13:48:29.540Z"
   },
   {
    "duration": 0,
    "start_time": "2022-07-19T13:48:29.541Z"
   },
   {
    "duration": 0,
    "start_time": "2022-07-19T13:48:29.565Z"
   },
   {
    "duration": 0,
    "start_time": "2022-07-19T13:48:29.566Z"
   },
   {
    "duration": 0,
    "start_time": "2022-07-19T13:48:29.567Z"
   },
   {
    "duration": 0,
    "start_time": "2022-07-19T13:48:29.569Z"
   },
   {
    "duration": 0,
    "start_time": "2022-07-19T13:48:29.570Z"
   },
   {
    "duration": 0,
    "start_time": "2022-07-19T13:48:29.572Z"
   },
   {
    "duration": 0,
    "start_time": "2022-07-19T13:48:29.573Z"
   },
   {
    "duration": 66084,
    "start_time": "2022-07-19T14:25:34.049Z"
   },
   {
    "duration": 962,
    "start_time": "2022-07-19T14:26:40.135Z"
   },
   {
    "duration": 45,
    "start_time": "2022-07-19T14:26:41.099Z"
   },
   {
    "duration": 5,
    "start_time": "2022-07-19T14:26:41.146Z"
   },
   {
    "duration": 23,
    "start_time": "2022-07-19T14:26:41.167Z"
   },
   {
    "duration": 2198,
    "start_time": "2022-07-19T14:26:41.193Z"
   },
   {
    "duration": 121,
    "start_time": "2022-07-19T14:26:43.393Z"
   },
   {
    "duration": 357,
    "start_time": "2022-07-19T14:26:43.515Z"
   },
   {
    "duration": 0,
    "start_time": "2022-07-19T14:26:43.875Z"
   },
   {
    "duration": 0,
    "start_time": "2022-07-19T14:26:43.876Z"
   },
   {
    "duration": 0,
    "start_time": "2022-07-19T14:26:43.877Z"
   },
   {
    "duration": 0,
    "start_time": "2022-07-19T14:26:43.878Z"
   },
   {
    "duration": 0,
    "start_time": "2022-07-19T14:26:43.880Z"
   },
   {
    "duration": 0,
    "start_time": "2022-07-19T14:26:43.881Z"
   },
   {
    "duration": 0,
    "start_time": "2022-07-19T14:26:43.882Z"
   },
   {
    "duration": 0,
    "start_time": "2022-07-19T14:26:43.885Z"
   },
   {
    "duration": 0,
    "start_time": "2022-07-19T14:26:43.886Z"
   },
   {
    "duration": 0,
    "start_time": "2022-07-19T14:26:43.887Z"
   },
   {
    "duration": 0,
    "start_time": "2022-07-19T14:26:43.889Z"
   },
   {
    "duration": 0,
    "start_time": "2022-07-19T14:26:43.890Z"
   },
   {
    "duration": 0,
    "start_time": "2022-07-19T14:26:43.891Z"
   },
   {
    "duration": 0,
    "start_time": "2022-07-19T14:26:43.892Z"
   },
   {
    "duration": 0,
    "start_time": "2022-07-19T14:26:43.894Z"
   },
   {
    "duration": 0,
    "start_time": "2022-07-19T14:26:43.894Z"
   },
   {
    "duration": 0,
    "start_time": "2022-07-19T14:26:43.896Z"
   },
   {
    "duration": 71309,
    "start_time": "2022-07-19T14:37:16.634Z"
   },
   {
    "duration": 867,
    "start_time": "2022-07-19T14:38:27.945Z"
   },
   {
    "duration": 37,
    "start_time": "2022-07-19T14:38:28.813Z"
   },
   {
    "duration": 10,
    "start_time": "2022-07-19T14:38:28.867Z"
   },
   {
    "duration": 23,
    "start_time": "2022-07-19T14:38:28.880Z"
   },
   {
    "duration": 2230,
    "start_time": "2022-07-19T14:38:28.904Z"
   },
   {
    "duration": 3,
    "start_time": "2022-07-19T14:38:31.136Z"
   },
   {
    "duration": 16,
    "start_time": "2022-07-19T14:38:31.140Z"
   },
   {
    "duration": 39,
    "start_time": "2022-07-19T14:38:31.164Z"
   },
   {
    "duration": 1690,
    "start_time": "2022-07-19T14:38:31.205Z"
   },
   {
    "duration": 10,
    "start_time": "2022-07-19T14:38:32.897Z"
   },
   {
    "duration": 347,
    "start_time": "2022-07-19T14:38:32.910Z"
   },
   {
    "duration": 0,
    "start_time": "2022-07-19T14:38:33.259Z"
   },
   {
    "duration": 0,
    "start_time": "2022-07-19T14:38:33.263Z"
   },
   {
    "duration": 0,
    "start_time": "2022-07-19T14:38:33.264Z"
   },
   {
    "duration": 0,
    "start_time": "2022-07-19T14:38:33.264Z"
   },
   {
    "duration": 0,
    "start_time": "2022-07-19T14:38:33.265Z"
   },
   {
    "duration": 0,
    "start_time": "2022-07-19T14:38:33.266Z"
   },
   {
    "duration": 0,
    "start_time": "2022-07-19T14:38:33.267Z"
   },
   {
    "duration": 0,
    "start_time": "2022-07-19T14:38:33.268Z"
   },
   {
    "duration": 0,
    "start_time": "2022-07-19T14:38:33.269Z"
   },
   {
    "duration": 0,
    "start_time": "2022-07-19T14:38:33.269Z"
   },
   {
    "duration": 0,
    "start_time": "2022-07-19T14:38:33.270Z"
   },
   {
    "duration": 0,
    "start_time": "2022-07-19T14:38:33.271Z"
   },
   {
    "duration": 0,
    "start_time": "2022-07-19T14:38:33.272Z"
   },
   {
    "duration": 95,
    "start_time": "2022-07-19T14:43:58.725Z"
   },
   {
    "duration": 53,
    "start_time": "2022-07-19T14:44:13.957Z"
   },
   {
    "duration": 20,
    "start_time": "2022-07-19T14:47:34.942Z"
   },
   {
    "duration": 39034,
    "start_time": "2022-07-19T15:09:06.410Z"
   },
   {
    "duration": 0,
    "start_time": "2022-07-19T15:09:45.449Z"
   },
   {
    "duration": 0,
    "start_time": "2022-07-19T15:09:45.451Z"
   },
   {
    "duration": 1,
    "start_time": "2022-07-19T15:09:45.453Z"
   },
   {
    "duration": 0,
    "start_time": "2022-07-19T15:09:45.465Z"
   },
   {
    "duration": 0,
    "start_time": "2022-07-19T15:09:45.467Z"
   },
   {
    "duration": 0,
    "start_time": "2022-07-19T15:09:45.469Z"
   },
   {
    "duration": 0,
    "start_time": "2022-07-19T15:09:45.473Z"
   },
   {
    "duration": 0,
    "start_time": "2022-07-19T15:09:45.475Z"
   },
   {
    "duration": 0,
    "start_time": "2022-07-19T15:09:45.477Z"
   },
   {
    "duration": 0,
    "start_time": "2022-07-19T15:09:45.478Z"
   },
   {
    "duration": 0,
    "start_time": "2022-07-19T15:09:45.480Z"
   },
   {
    "duration": 0,
    "start_time": "2022-07-19T15:09:45.482Z"
   },
   {
    "duration": 0,
    "start_time": "2022-07-19T15:09:45.484Z"
   },
   {
    "duration": 0,
    "start_time": "2022-07-19T15:09:45.486Z"
   },
   {
    "duration": 0,
    "start_time": "2022-07-19T15:09:45.488Z"
   },
   {
    "duration": 0,
    "start_time": "2022-07-19T15:09:45.490Z"
   },
   {
    "duration": 0,
    "start_time": "2022-07-19T15:09:45.492Z"
   },
   {
    "duration": 0,
    "start_time": "2022-07-19T15:09:45.493Z"
   },
   {
    "duration": 0,
    "start_time": "2022-07-19T15:09:45.494Z"
   },
   {
    "duration": 0,
    "start_time": "2022-07-19T15:09:45.495Z"
   },
   {
    "duration": 0,
    "start_time": "2022-07-19T15:09:45.497Z"
   },
   {
    "duration": 0,
    "start_time": "2022-07-19T15:09:45.498Z"
   },
   {
    "duration": 0,
    "start_time": "2022-07-19T15:09:45.499Z"
   },
   {
    "duration": 0,
    "start_time": "2022-07-19T15:09:45.500Z"
   },
   {
    "duration": 0,
    "start_time": "2022-07-19T15:09:45.501Z"
   },
   {
    "duration": 0,
    "start_time": "2022-07-19T15:09:45.502Z"
   },
   {
    "duration": 71455,
    "start_time": "2022-07-19T15:11:03.948Z"
   },
   {
    "duration": 877,
    "start_time": "2022-07-19T15:12:15.406Z"
   },
   {
    "duration": 47,
    "start_time": "2022-07-19T15:12:16.290Z"
   },
   {
    "duration": 10,
    "start_time": "2022-07-19T15:12:16.339Z"
   },
   {
    "duration": 43,
    "start_time": "2022-07-19T15:12:16.365Z"
   },
   {
    "duration": 2230,
    "start_time": "2022-07-19T15:12:16.410Z"
   },
   {
    "duration": 2653019,
    "start_time": "2022-07-19T15:12:18.641Z"
   },
   {
    "duration": 3,
    "start_time": "2022-07-19T15:56:31.661Z"
   },
   {
    "duration": 17,
    "start_time": "2022-07-19T15:56:31.666Z"
   },
   {
    "duration": 8,
    "start_time": "2022-07-19T15:56:31.685Z"
   },
   {
    "duration": 10,
    "start_time": "2022-07-19T15:56:31.695Z"
   },
   {
    "duration": 7,
    "start_time": "2022-07-19T15:56:31.707Z"
   },
   {
    "duration": 18,
    "start_time": "2022-07-19T15:56:31.715Z"
   },
   {
    "duration": 3,
    "start_time": "2022-07-19T15:56:31.736Z"
   },
   {
    "duration": 51,
    "start_time": "2022-07-19T15:56:31.741Z"
   },
   {
    "duration": 4,
    "start_time": "2022-07-19T15:56:31.795Z"
   },
   {
    "duration": 6133,
    "start_time": "2022-07-19T15:56:31.802Z"
   },
   {
    "duration": 1546,
    "start_time": "2022-07-19T15:56:37.937Z"
   },
   {
    "duration": 348,
    "start_time": "2022-07-19T15:56:39.485Z"
   },
   {
    "duration": 0,
    "start_time": "2022-07-19T15:56:39.835Z"
   },
   {
    "duration": 0,
    "start_time": "2022-07-19T15:56:39.837Z"
   },
   {
    "duration": 1,
    "start_time": "2022-07-19T15:56:39.837Z"
   },
   {
    "duration": 0,
    "start_time": "2022-07-19T15:56:39.839Z"
   },
   {
    "duration": 0,
    "start_time": "2022-07-19T15:56:39.840Z"
   },
   {
    "duration": 0,
    "start_time": "2022-07-19T15:56:39.841Z"
   },
   {
    "duration": 0,
    "start_time": "2022-07-19T15:56:39.842Z"
   },
   {
    "duration": 0,
    "start_time": "2022-07-19T15:56:39.843Z"
   },
   {
    "duration": 33,
    "start_time": "2022-07-19T16:00:21.607Z"
   },
   {
    "duration": 8,
    "start_time": "2022-07-19T16:00:37.874Z"
   },
   {
    "duration": 199,
    "start_time": "2022-07-19T16:32:19.464Z"
   },
   {
    "duration": 97740,
    "start_time": "2022-07-19T16:48:50.126Z"
   },
   {
    "duration": 2508,
    "start_time": "2022-07-19T16:50:27.869Z"
   },
   {
    "duration": 41,
    "start_time": "2022-07-19T16:50:30.380Z"
   },
   {
    "duration": 7,
    "start_time": "2022-07-19T16:50:30.423Z"
   },
   {
    "duration": 34,
    "start_time": "2022-07-19T16:50:30.432Z"
   },
   {
    "duration": 2250,
    "start_time": "2022-07-19T16:50:30.470Z"
   },
   {
    "duration": 2755217,
    "start_time": "2022-07-19T16:50:32.724Z"
   },
   {
    "duration": 9,
    "start_time": "2022-07-19T17:36:27.943Z"
   },
   {
    "duration": 70,
    "start_time": "2022-07-19T17:36:27.953Z"
   },
   {
    "duration": 3,
    "start_time": "2022-07-19T17:36:28.027Z"
   },
   {
    "duration": 5916,
    "start_time": "2022-07-19T17:36:28.033Z"
   },
   {
    "duration": 1404,
    "start_time": "2022-07-19T17:36:33.950Z"
   },
   {
    "duration": 12,
    "start_time": "2022-07-19T17:36:35.356Z"
   },
   {
    "duration": 20,
    "start_time": "2022-07-19T17:36:35.370Z"
   },
   {
    "duration": 5,
    "start_time": "2022-07-19T17:36:35.392Z"
   },
   {
    "duration": 125,
    "start_time": "2022-07-19T17:37:00.154Z"
   },
   {
    "duration": 985,
    "start_time": "2022-07-19T17:37:46.061Z"
   },
   {
    "duration": 119549,
    "start_time": "2022-07-19T17:48:25.449Z"
   },
   {
    "duration": 2581,
    "start_time": "2022-07-19T17:50:25.001Z"
   },
   {
    "duration": 37,
    "start_time": "2022-07-19T17:50:27.584Z"
   },
   {
    "duration": 4,
    "start_time": "2022-07-19T17:50:27.624Z"
   },
   {
    "duration": 36,
    "start_time": "2022-07-19T17:50:27.630Z"
   },
   {
    "duration": 2148,
    "start_time": "2022-07-19T17:50:27.669Z"
   },
   {
    "duration": 7,
    "start_time": "2022-07-19T17:50:29.819Z"
   },
   {
    "duration": 391,
    "start_time": "2022-07-19T17:50:29.828Z"
   },
   {
    "duration": 0,
    "start_time": "2022-07-19T17:50:30.221Z"
   },
   {
    "duration": 0,
    "start_time": "2022-07-19T17:50:30.222Z"
   },
   {
    "duration": 0,
    "start_time": "2022-07-19T17:50:30.223Z"
   },
   {
    "duration": 0,
    "start_time": "2022-07-19T17:50:30.225Z"
   },
   {
    "duration": 0,
    "start_time": "2022-07-19T17:50:30.226Z"
   },
   {
    "duration": 0,
    "start_time": "2022-07-19T17:50:30.227Z"
   },
   {
    "duration": 0,
    "start_time": "2022-07-19T17:50:30.228Z"
   },
   {
    "duration": 0,
    "start_time": "2022-07-19T17:50:30.229Z"
   },
   {
    "duration": 0,
    "start_time": "2022-07-19T17:50:30.230Z"
   },
   {
    "duration": 0,
    "start_time": "2022-07-19T17:50:30.231Z"
   },
   {
    "duration": 0,
    "start_time": "2022-07-19T17:50:30.233Z"
   },
   {
    "duration": 0,
    "start_time": "2022-07-19T17:50:30.234Z"
   },
   {
    "duration": 0,
    "start_time": "2022-07-19T17:50:30.268Z"
   },
   {
    "duration": 0,
    "start_time": "2022-07-19T17:50:30.269Z"
   },
   {
    "duration": 0,
    "start_time": "2022-07-19T17:50:30.270Z"
   },
   {
    "duration": 0,
    "start_time": "2022-07-19T17:50:30.271Z"
   },
   {
    "duration": 0,
    "start_time": "2022-07-19T17:50:30.278Z"
   },
   {
    "duration": 0,
    "start_time": "2022-07-19T17:50:30.279Z"
   },
   {
    "duration": 0,
    "start_time": "2022-07-19T17:50:30.279Z"
   },
   {
    "duration": 0,
    "start_time": "2022-07-19T17:50:30.280Z"
   },
   {
    "duration": 30,
    "start_time": "2022-07-19T18:01:22.194Z"
   },
   {
    "duration": 122788,
    "start_time": "2022-07-19T18:01:55.807Z"
   },
   {
    "duration": 909,
    "start_time": "2022-07-19T18:03:58.598Z"
   },
   {
    "duration": 42,
    "start_time": "2022-07-19T18:03:59.508Z"
   },
   {
    "duration": 27,
    "start_time": "2022-07-19T18:03:59.553Z"
   },
   {
    "duration": 36,
    "start_time": "2022-07-19T18:03:59.582Z"
   },
   {
    "duration": 2197,
    "start_time": "2022-07-19T18:03:59.620Z"
   },
   {
    "duration": 8,
    "start_time": "2022-07-19T18:04:01.818Z"
   },
   {
    "duration": 374,
    "start_time": "2022-07-19T18:04:01.828Z"
   },
   {
    "duration": 0,
    "start_time": "2022-07-19T18:04:02.204Z"
   },
   {
    "duration": 0,
    "start_time": "2022-07-19T18:04:02.206Z"
   },
   {
    "duration": 0,
    "start_time": "2022-07-19T18:04:02.207Z"
   },
   {
    "duration": 0,
    "start_time": "2022-07-19T18:04:02.208Z"
   },
   {
    "duration": 0,
    "start_time": "2022-07-19T18:04:02.209Z"
   },
   {
    "duration": 0,
    "start_time": "2022-07-19T18:04:02.210Z"
   },
   {
    "duration": 0,
    "start_time": "2022-07-19T18:04:02.212Z"
   },
   {
    "duration": 0,
    "start_time": "2022-07-19T18:04:02.213Z"
   },
   {
    "duration": 0,
    "start_time": "2022-07-19T18:04:02.215Z"
   },
   {
    "duration": 0,
    "start_time": "2022-07-19T18:04:02.216Z"
   },
   {
    "duration": 0,
    "start_time": "2022-07-19T18:04:02.217Z"
   },
   {
    "duration": 0,
    "start_time": "2022-07-19T18:04:02.218Z"
   },
   {
    "duration": 0,
    "start_time": "2022-07-19T18:04:02.220Z"
   },
   {
    "duration": 0,
    "start_time": "2022-07-19T18:04:02.221Z"
   },
   {
    "duration": 0,
    "start_time": "2022-07-19T18:04:02.223Z"
   },
   {
    "duration": 0,
    "start_time": "2022-07-19T18:04:02.224Z"
   },
   {
    "duration": 0,
    "start_time": "2022-07-19T18:04:02.225Z"
   },
   {
    "duration": 0,
    "start_time": "2022-07-19T18:04:02.227Z"
   },
   {
    "duration": 0,
    "start_time": "2022-07-19T18:04:02.266Z"
   },
   {
    "duration": 0,
    "start_time": "2022-07-19T18:04:02.267Z"
   },
   {
    "duration": 113088,
    "start_time": "2022-07-19T18:07:56.343Z"
   },
   {
    "duration": 825,
    "start_time": "2022-07-19T18:09:49.433Z"
   },
   {
    "duration": 43,
    "start_time": "2022-07-19T18:09:50.260Z"
   },
   {
    "duration": 4,
    "start_time": "2022-07-19T18:09:50.306Z"
   },
   {
    "duration": 22,
    "start_time": "2022-07-19T18:09:50.312Z"
   },
   {
    "duration": 2153,
    "start_time": "2022-07-19T18:09:50.336Z"
   },
   {
    "duration": 3,
    "start_time": "2022-07-19T18:09:52.490Z"
   },
   {
    "duration": 1573,
    "start_time": "2022-07-19T18:09:52.495Z"
   },
   {
    "duration": 17,
    "start_time": "2022-07-19T18:09:54.072Z"
   },
   {
    "duration": 18,
    "start_time": "2022-07-19T18:09:54.092Z"
   },
   {
    "duration": 3,
    "start_time": "2022-07-19T18:09:54.112Z"
   },
   {
    "duration": 11319,
    "start_time": "2022-07-19T18:09:54.116Z"
   },
   {
    "duration": 0,
    "start_time": "2022-07-19T18:10:05.437Z"
   },
   {
    "duration": 0,
    "start_time": "2022-07-19T18:10:05.439Z"
   },
   {
    "duration": 0,
    "start_time": "2022-07-19T18:10:05.440Z"
   },
   {
    "duration": 0,
    "start_time": "2022-07-19T18:10:05.442Z"
   },
   {
    "duration": 0,
    "start_time": "2022-07-19T18:10:05.443Z"
   },
   {
    "duration": 0,
    "start_time": "2022-07-19T18:10:05.445Z"
   },
   {
    "duration": 0,
    "start_time": "2022-07-19T18:10:05.446Z"
   },
   {
    "duration": 0,
    "start_time": "2022-07-19T18:10:05.465Z"
   },
   {
    "duration": 0,
    "start_time": "2022-07-19T18:10:05.466Z"
   },
   {
    "duration": 0,
    "start_time": "2022-07-19T18:10:05.467Z"
   },
   {
    "duration": 0,
    "start_time": "2022-07-19T18:10:05.473Z"
   },
   {
    "duration": 0,
    "start_time": "2022-07-19T18:10:05.473Z"
   },
   {
    "duration": 0,
    "start_time": "2022-07-19T18:10:05.474Z"
   },
   {
    "duration": 0,
    "start_time": "2022-07-19T18:10:05.475Z"
   },
   {
    "duration": 0,
    "start_time": "2022-07-19T18:10:05.480Z"
   },
   {
    "duration": 0,
    "start_time": "2022-07-19T18:10:05.481Z"
   },
   {
    "duration": 98215,
    "start_time": "2022-07-19T18:12:37.043Z"
   },
   {
    "duration": 890,
    "start_time": "2022-07-19T18:14:15.261Z"
   },
   {
    "duration": 56,
    "start_time": "2022-07-19T18:14:16.153Z"
   },
   {
    "duration": 10,
    "start_time": "2022-07-19T18:14:16.212Z"
   },
   {
    "duration": 27,
    "start_time": "2022-07-19T18:14:16.224Z"
   },
   {
    "duration": 2190,
    "start_time": "2022-07-19T18:14:16.252Z"
   },
   {
    "duration": 2811658,
    "start_time": "2022-07-19T18:14:18.444Z"
   },
   {
    "duration": 3,
    "start_time": "2022-07-19T19:01:10.104Z"
   },
   {
    "duration": 36,
    "start_time": "2022-07-19T19:01:10.108Z"
   },
   {
    "duration": 62,
    "start_time": "2022-07-19T19:01:10.147Z"
   },
   {
    "duration": 5,
    "start_time": "2022-07-19T19:01:10.215Z"
   },
   {
    "duration": 7543,
    "start_time": "2022-07-19T19:01:10.222Z"
   },
   {
    "duration": 2144,
    "start_time": "2022-07-19T19:01:17.767Z"
   },
   {
    "duration": 7,
    "start_time": "2022-07-19T19:01:19.913Z"
   },
   {
    "duration": 47,
    "start_time": "2022-07-19T20:28:38.690Z"
   },
   {
    "duration": 91788,
    "start_time": "2022-07-19T20:30:07.266Z"
   },
   {
    "duration": 2241,
    "start_time": "2022-07-19T20:31:39.057Z"
   },
   {
    "duration": 34,
    "start_time": "2022-07-19T20:31:41.300Z"
   },
   {
    "duration": 4,
    "start_time": "2022-07-19T20:31:41.336Z"
   },
   {
    "duration": 15,
    "start_time": "2022-07-19T20:31:41.342Z"
   },
   {
    "duration": 2058,
    "start_time": "2022-07-19T20:31:41.359Z"
   },
   {
    "duration": 2317185,
    "start_time": "2022-07-19T20:31:43.419Z"
   },
   {
    "duration": 6813,
    "start_time": "2022-07-19T21:10:20.606Z"
   },
   {
    "duration": 2,
    "start_time": "2022-07-19T21:10:27.421Z"
   },
   {
    "duration": 1909,
    "start_time": "2022-07-19T21:10:27.425Z"
   },
   {
    "duration": 36,
    "start_time": "2022-07-19T21:10:29.336Z"
   },
   {
    "duration": 3,
    "start_time": "2022-07-19T21:10:29.374Z"
   },
   {
    "duration": 5745,
    "start_time": "2022-07-19T21:10:29.379Z"
   },
   {
    "duration": 1299,
    "start_time": "2022-07-19T21:10:35.127Z"
   },
   {
    "duration": 7,
    "start_time": "2022-07-19T21:10:36.427Z"
   },
   {
    "duration": 4,
    "start_time": "2022-07-19T21:10:36.436Z"
   },
   {
    "duration": 7,
    "start_time": "2022-07-19T21:10:36.441Z"
   },
   {
    "duration": 14,
    "start_time": "2022-07-19T21:10:36.449Z"
   },
   {
    "duration": 8,
    "start_time": "2022-07-19T21:10:36.465Z"
   },
   {
    "duration": 5,
    "start_time": "2022-07-19T21:10:36.474Z"
   },
   {
    "duration": 6,
    "start_time": "2022-07-19T21:10:36.480Z"
   },
   {
    "duration": 54,
    "start_time": "2022-07-19T21:22:25.637Z"
   },
   {
    "duration": 108308,
    "start_time": "2022-07-19T21:22:37.189Z"
   },
   {
    "duration": 327,
    "start_time": "2022-07-19T21:24:34.746Z"
   },
   {
    "duration": 16497,
    "start_time": "2022-07-19T21:32:12.589Z"
   },
   {
    "duration": 0,
    "start_time": "2022-07-19T21:32:29.090Z"
   },
   {
    "duration": 0,
    "start_time": "2022-07-19T21:32:29.093Z"
   },
   {
    "duration": 0,
    "start_time": "2022-07-19T21:32:29.095Z"
   },
   {
    "duration": 0,
    "start_time": "2022-07-19T21:32:29.096Z"
   },
   {
    "duration": 0,
    "start_time": "2022-07-19T21:32:29.097Z"
   },
   {
    "duration": 0,
    "start_time": "2022-07-19T21:32:29.098Z"
   },
   {
    "duration": 0,
    "start_time": "2022-07-19T21:32:29.099Z"
   },
   {
    "duration": 0,
    "start_time": "2022-07-19T21:32:29.100Z"
   },
   {
    "duration": 1,
    "start_time": "2022-07-19T21:32:29.101Z"
   },
   {
    "duration": 0,
    "start_time": "2022-07-19T21:32:29.103Z"
   },
   {
    "duration": 0,
    "start_time": "2022-07-19T21:32:29.104Z"
   },
   {
    "duration": 0,
    "start_time": "2022-07-19T21:32:29.105Z"
   },
   {
    "duration": 0,
    "start_time": "2022-07-19T21:32:29.106Z"
   },
   {
    "duration": 0,
    "start_time": "2022-07-19T21:32:29.107Z"
   },
   {
    "duration": 0,
    "start_time": "2022-07-19T21:32:29.108Z"
   },
   {
    "duration": 0,
    "start_time": "2022-07-19T21:32:29.109Z"
   },
   {
    "duration": 0,
    "start_time": "2022-07-19T21:32:29.110Z"
   },
   {
    "duration": 0,
    "start_time": "2022-07-19T21:32:29.112Z"
   },
   {
    "duration": 0,
    "start_time": "2022-07-19T21:32:29.112Z"
   },
   {
    "duration": 0,
    "start_time": "2022-07-19T21:32:29.113Z"
   },
   {
    "duration": 0,
    "start_time": "2022-07-19T21:32:29.114Z"
   },
   {
    "duration": 0,
    "start_time": "2022-07-19T21:32:29.115Z"
   },
   {
    "duration": 0,
    "start_time": "2022-07-19T21:32:29.117Z"
   },
   {
    "duration": 0,
    "start_time": "2022-07-19T21:32:29.118Z"
   },
   {
    "duration": 0,
    "start_time": "2022-07-19T21:32:29.119Z"
   },
   {
    "duration": 0,
    "start_time": "2022-07-19T21:32:29.120Z"
   },
   {
    "duration": 0,
    "start_time": "2022-07-19T21:32:29.164Z"
   },
   {
    "duration": 0,
    "start_time": "2022-07-19T21:32:29.165Z"
   },
   {
    "duration": 0,
    "start_time": "2022-07-19T21:32:29.166Z"
   },
   {
    "duration": 0,
    "start_time": "2022-07-19T21:32:29.167Z"
   },
   {
    "duration": 93774,
    "start_time": "2022-07-19T21:33:30.500Z"
   },
   {
    "duration": 121,
    "start_time": "2022-07-19T21:38:18.690Z"
   },
   {
    "duration": 67,
    "start_time": "2022-07-19T21:38:36.535Z"
   },
   {
    "duration": 26,
    "start_time": "2022-07-19T21:38:53.026Z"
   },
   {
    "duration": 104791,
    "start_time": "2022-07-19T21:42:49.104Z"
   },
   {
    "duration": 2323,
    "start_time": "2022-07-19T21:44:33.897Z"
   },
   {
    "duration": 37,
    "start_time": "2022-07-19T21:44:36.222Z"
   },
   {
    "duration": 5,
    "start_time": "2022-07-19T21:44:36.261Z"
   },
   {
    "duration": 16,
    "start_time": "2022-07-19T21:44:36.267Z"
   },
   {
    "duration": 7,
    "start_time": "2022-07-19T21:44:36.285Z"
   },
   {
    "duration": 11,
    "start_time": "2022-07-19T21:44:36.294Z"
   },
   {
    "duration": 6891,
    "start_time": "2022-07-19T21:44:36.307Z"
   },
   {
    "duration": 2,
    "start_time": "2022-07-19T21:44:43.200Z"
   },
   {
    "duration": 371,
    "start_time": "2022-07-19T21:44:43.205Z"
   },
   {
    "duration": 0,
    "start_time": "2022-07-19T21:44:43.580Z"
   },
   {
    "duration": 0,
    "start_time": "2022-07-19T21:44:43.581Z"
   },
   {
    "duration": 0,
    "start_time": "2022-07-19T21:44:43.583Z"
   },
   {
    "duration": 0,
    "start_time": "2022-07-19T21:44:43.584Z"
   },
   {
    "duration": 1,
    "start_time": "2022-07-19T21:44:43.585Z"
   },
   {
    "duration": 0,
    "start_time": "2022-07-19T21:44:43.587Z"
   },
   {
    "duration": 0,
    "start_time": "2022-07-19T21:44:43.588Z"
   },
   {
    "duration": 0,
    "start_time": "2022-07-19T21:44:43.590Z"
   },
   {
    "duration": 0,
    "start_time": "2022-07-19T21:44:43.591Z"
   },
   {
    "duration": 0,
    "start_time": "2022-07-19T21:44:43.593Z"
   },
   {
    "duration": 0,
    "start_time": "2022-07-19T21:44:43.594Z"
   },
   {
    "duration": 0,
    "start_time": "2022-07-19T21:44:43.596Z"
   },
   {
    "duration": 0,
    "start_time": "2022-07-19T21:44:43.597Z"
   },
   {
    "duration": 0,
    "start_time": "2022-07-19T21:44:43.599Z"
   },
   {
    "duration": 0,
    "start_time": "2022-07-19T21:44:43.600Z"
   },
   {
    "duration": 0,
    "start_time": "2022-07-19T21:44:43.601Z"
   },
   {
    "duration": 0,
    "start_time": "2022-07-19T21:44:43.603Z"
   },
   {
    "duration": 0,
    "start_time": "2022-07-19T21:44:43.604Z"
   },
   {
    "duration": 0,
    "start_time": "2022-07-19T21:44:43.606Z"
   },
   {
    "duration": 0,
    "start_time": "2022-07-19T21:44:43.607Z"
   },
   {
    "duration": 0,
    "start_time": "2022-07-19T21:44:43.608Z"
   },
   {
    "duration": 23,
    "start_time": "2022-07-19T21:46:10.876Z"
   },
   {
    "duration": 9,
    "start_time": "2022-07-19T21:46:34.620Z"
   },
   {
    "duration": 5,
    "start_time": "2022-07-19T21:46:37.860Z"
   },
   {
    "duration": 3,
    "start_time": "2022-07-19T21:46:41.139Z"
   },
   {
    "duration": 19,
    "start_time": "2022-07-19T21:46:45.204Z"
   },
   {
    "duration": 7,
    "start_time": "2022-07-19T21:46:49.012Z"
   },
   {
    "duration": 5,
    "start_time": "2022-07-19T21:46:51.860Z"
   },
   {
    "duration": 1024,
    "start_time": "2022-07-19T21:47:07.428Z"
   },
   {
    "duration": 5,
    "start_time": "2022-07-19T21:47:15.356Z"
   },
   {
    "duration": 458,
    "start_time": "2022-07-19T21:47:57.431Z"
   },
   {
    "duration": 28,
    "start_time": "2022-07-19T21:48:11.269Z"
   },
   {
    "duration": 3,
    "start_time": "2022-07-19T21:48:19.812Z"
   },
   {
    "duration": 4,
    "start_time": "2022-07-19T21:48:37.173Z"
   },
   {
    "duration": 856,
    "start_time": "2022-07-19T21:48:47.461Z"
   },
   {
    "duration": 640,
    "start_time": "2022-07-19T21:49:12.446Z"
   },
   {
    "duration": 492,
    "start_time": "2022-07-19T21:49:44.639Z"
   },
   {
    "duration": 7,
    "start_time": "2022-07-19T21:49:51.829Z"
   },
   {
    "duration": 4,
    "start_time": "2022-07-19T21:49:56.700Z"
   },
   {
    "duration": 28,
    "start_time": "2022-07-19T21:50:02.742Z"
   },
   {
    "duration": 2222,
    "start_time": "2022-07-19T21:50:24.295Z"
   },
   {
    "duration": 1920,
    "start_time": "2022-07-19T21:50:40.647Z"
   },
   {
    "duration": 11292,
    "start_time": "2022-07-19T21:51:42.927Z"
   },
   {
    "duration": 8,
    "start_time": "2022-07-19T21:53:31.307Z"
   },
   {
    "duration": 7,
    "start_time": "2022-07-19T21:53:39.171Z"
   },
   {
    "duration": 1453,
    "start_time": "2022-07-19T21:53:44.582Z"
   },
   {
    "duration": 6,
    "start_time": "2022-07-19T21:53:56.464Z"
   },
   {
    "duration": 11,
    "start_time": "2022-07-19T21:53:59.519Z"
   },
   {
    "duration": 1540,
    "start_time": "2022-07-19T21:56:31.333Z"
   },
   {
    "duration": 6,
    "start_time": "2022-07-19T21:57:05.480Z"
   },
   {
    "duration": 569,
    "start_time": "2022-07-19T21:57:52.169Z"
   },
   {
    "duration": 7,
    "start_time": "2022-07-19T21:57:57.561Z"
   },
   {
    "duration": 495,
    "start_time": "2022-07-19T21:58:14.801Z"
   },
   {
    "duration": 529,
    "start_time": "2022-07-19T21:58:29.554Z"
   },
   {
    "duration": 421,
    "start_time": "2022-07-19T21:58:56.009Z"
   },
   {
    "duration": 476,
    "start_time": "2022-07-19T21:59:17.458Z"
   },
   {
    "duration": 511,
    "start_time": "2022-07-19T21:59:27.953Z"
   },
   {
    "duration": 448,
    "start_time": "2022-07-19T21:59:38.946Z"
   },
   {
    "duration": 478,
    "start_time": "2022-07-19T22:00:21.785Z"
   },
   {
    "duration": 705,
    "start_time": "2022-07-19T22:00:52.318Z"
   },
   {
    "duration": 7,
    "start_time": "2022-07-19T22:01:03.410Z"
   },
   {
    "duration": 190,
    "start_time": "2022-07-19T22:01:43.483Z"
   },
   {
    "duration": 53,
    "start_time": "2022-07-19T22:01:58.418Z"
   },
   {
    "duration": 40,
    "start_time": "2022-07-19T22:02:10.699Z"
   },
   {
    "duration": 27,
    "start_time": "2022-07-19T22:02:34.273Z"
   },
   {
    "duration": 608,
    "start_time": "2022-07-19T22:02:43.619Z"
   },
   {
    "duration": 268,
    "start_time": "2022-07-19T22:03:59.659Z"
   },
   {
    "duration": 7,
    "start_time": "2022-07-19T22:04:08.458Z"
   },
   {
    "duration": 277,
    "start_time": "2022-07-19T22:04:37.688Z"
   },
   {
    "duration": 274,
    "start_time": "2022-07-19T22:04:53.396Z"
   },
   {
    "duration": 527,
    "start_time": "2022-07-19T22:06:22.270Z"
   },
   {
    "duration": 522,
    "start_time": "2022-07-19T22:06:41.694Z"
   },
   {
    "duration": 5,
    "start_time": "2022-07-19T22:07:34.709Z"
   },
   {
    "duration": 440,
    "start_time": "2022-07-19T22:07:55.761Z"
   },
   {
    "duration": 4,
    "start_time": "2022-07-19T22:08:00.245Z"
   },
   {
    "duration": 431,
    "start_time": "2022-07-19T22:08:16.557Z"
   },
   {
    "duration": 8,
    "start_time": "2022-07-19T22:08:31.965Z"
   },
   {
    "duration": 42115,
    "start_time": "2022-07-19T22:10:43.106Z"
   },
   {
    "duration": 7,
    "start_time": "2022-07-19T22:11:33.439Z"
   },
   {
    "duration": 6,
    "start_time": "2022-07-19T22:11:37.478Z"
   },
   {
    "duration": 9,
    "start_time": "2022-07-19T22:11:51.423Z"
   },
   {
    "duration": 1056,
    "start_time": "2022-07-19T22:14:50.814Z"
   },
   {
    "duration": 9,
    "start_time": "2022-07-19T22:15:20.437Z"
   },
   {
    "duration": 1094,
    "start_time": "2022-07-19T22:15:55.086Z"
   },
   {
    "duration": 11,
    "start_time": "2022-07-19T22:16:57.517Z"
   },
   {
    "duration": 7,
    "start_time": "2022-07-19T22:17:34.081Z"
   },
   {
    "duration": 101406,
    "start_time": "2022-07-19T22:18:44.187Z"
   },
   {
    "duration": 796,
    "start_time": "2022-07-19T22:20:25.596Z"
   },
   {
    "duration": 32,
    "start_time": "2022-07-19T22:20:26.394Z"
   },
   {
    "duration": 4,
    "start_time": "2022-07-19T22:20:26.428Z"
   },
   {
    "duration": 12,
    "start_time": "2022-07-19T22:20:26.433Z"
   },
   {
    "duration": 8,
    "start_time": "2022-07-19T22:20:26.464Z"
   },
   {
    "duration": 19,
    "start_time": "2022-07-19T22:20:26.473Z"
   },
   {
    "duration": 13514,
    "start_time": "2022-07-19T22:20:26.494Z"
   },
   {
    "duration": 2,
    "start_time": "2022-07-19T22:20:40.010Z"
   },
   {
    "duration": 335,
    "start_time": "2022-07-19T22:20:40.014Z"
   },
   {
    "duration": 0,
    "start_time": "2022-07-19T22:20:40.350Z"
   },
   {
    "duration": 0,
    "start_time": "2022-07-19T22:20:40.351Z"
   },
   {
    "duration": 0,
    "start_time": "2022-07-19T22:20:40.352Z"
   },
   {
    "duration": 0,
    "start_time": "2022-07-19T22:20:40.353Z"
   },
   {
    "duration": 0,
    "start_time": "2022-07-19T22:20:40.354Z"
   },
   {
    "duration": 0,
    "start_time": "2022-07-19T22:20:40.355Z"
   },
   {
    "duration": 0,
    "start_time": "2022-07-19T22:20:40.356Z"
   },
   {
    "duration": 0,
    "start_time": "2022-07-19T22:20:40.363Z"
   },
   {
    "duration": 0,
    "start_time": "2022-07-19T22:20:40.365Z"
   },
   {
    "duration": 1,
    "start_time": "2022-07-19T22:20:40.365Z"
   },
   {
    "duration": 0,
    "start_time": "2022-07-19T22:20:40.373Z"
   },
   {
    "duration": 0,
    "start_time": "2022-07-19T22:20:40.374Z"
   },
   {
    "duration": 0,
    "start_time": "2022-07-19T22:20:40.376Z"
   },
   {
    "duration": 0,
    "start_time": "2022-07-19T22:20:40.378Z"
   },
   {
    "duration": 0,
    "start_time": "2022-07-19T22:20:40.379Z"
   },
   {
    "duration": 0,
    "start_time": "2022-07-19T22:20:40.381Z"
   },
   {
    "duration": 0,
    "start_time": "2022-07-19T22:20:40.382Z"
   },
   {
    "duration": 0,
    "start_time": "2022-07-19T22:20:40.383Z"
   },
   {
    "duration": 0,
    "start_time": "2022-07-19T22:20:40.385Z"
   },
   {
    "duration": 0,
    "start_time": "2022-07-19T22:20:40.386Z"
   },
   {
    "duration": 0,
    "start_time": "2022-07-19T22:20:40.387Z"
   },
   {
    "duration": 7,
    "start_time": "2022-07-19T22:21:11.588Z"
   },
   {
    "duration": 5,
    "start_time": "2022-07-19T22:21:14.729Z"
   },
   {
    "duration": 3,
    "start_time": "2022-07-19T22:21:17.269Z"
   },
   {
    "duration": 38,
    "start_time": "2022-07-19T22:21:19.697Z"
   },
   {
    "duration": 14,
    "start_time": "2022-07-19T22:21:22.514Z"
   },
   {
    "duration": 6,
    "start_time": "2022-07-19T22:21:25.642Z"
   },
   {
    "duration": 544,
    "start_time": "2022-07-19T22:21:29.681Z"
   },
   {
    "duration": 4,
    "start_time": "2022-07-19T22:21:39.889Z"
   },
   {
    "duration": 527,
    "start_time": "2022-07-19T22:21:45.657Z"
   },
   {
    "duration": 7,
    "start_time": "2022-07-19T22:21:53.313Z"
   },
   {
    "duration": 3,
    "start_time": "2022-07-19T22:21:56.921Z"
   },
   {
    "duration": 4,
    "start_time": "2022-07-19T22:21:59.801Z"
   },
   {
    "duration": 1080,
    "start_time": "2022-07-19T22:22:02.697Z"
   },
   {
    "duration": 6,
    "start_time": "2022-07-19T22:22:11.762Z"
   },
   {
    "duration": 86137,
    "start_time": "2022-07-19T22:22:15.242Z"
   },
   {
    "duration": 8,
    "start_time": "2022-07-19T22:23:41.381Z"
   },
   {
    "duration": 1342,
    "start_time": "2022-07-19T22:23:57.880Z"
   },
   {
    "duration": 6,
    "start_time": "2022-07-19T22:24:14.970Z"
   },
   {
    "duration": 12,
    "start_time": "2022-07-19T22:24:17.459Z"
   },
   {
    "duration": 92387,
    "start_time": "2022-07-19T22:26:54.722Z"
   },
   {
    "duration": 787,
    "start_time": "2022-07-19T22:28:27.112Z"
   },
   {
    "duration": 36,
    "start_time": "2022-07-19T22:28:27.900Z"
   },
   {
    "duration": 3,
    "start_time": "2022-07-19T22:28:27.939Z"
   },
   {
    "duration": 28,
    "start_time": "2022-07-19T22:28:27.944Z"
   },
   {
    "duration": 7,
    "start_time": "2022-07-19T22:28:27.974Z"
   },
   {
    "duration": 25,
    "start_time": "2022-07-19T22:28:27.982Z"
   },
   {
    "duration": 19556,
    "start_time": "2022-07-19T22:28:28.009Z"
   },
   {
    "duration": 6,
    "start_time": "2022-07-19T22:28:47.566Z"
   },
   {
    "duration": 8,
    "start_time": "2022-07-19T22:28:47.574Z"
   },
   {
    "duration": 12,
    "start_time": "2022-07-19T22:28:47.584Z"
   },
   {
    "duration": 50,
    "start_time": "2022-07-19T22:28:47.597Z"
   },
   {
    "duration": 16,
    "start_time": "2022-07-19T22:28:47.649Z"
   },
   {
    "duration": 6,
    "start_time": "2022-07-19T22:28:47.667Z"
   },
   {
    "duration": 797,
    "start_time": "2022-07-19T22:28:47.675Z"
   },
   {
    "duration": 321,
    "start_time": "2022-07-19T22:28:48.473Z"
   },
   {
    "duration": 0,
    "start_time": "2022-07-19T22:28:48.796Z"
   },
   {
    "duration": 0,
    "start_time": "2022-07-19T22:28:48.797Z"
   },
   {
    "duration": 0,
    "start_time": "2022-07-19T22:28:48.798Z"
   },
   {
    "duration": 0,
    "start_time": "2022-07-19T22:28:48.799Z"
   },
   {
    "duration": 0,
    "start_time": "2022-07-19T22:28:48.800Z"
   },
   {
    "duration": 0,
    "start_time": "2022-07-19T22:28:48.801Z"
   },
   {
    "duration": 0,
    "start_time": "2022-07-19T22:28:48.802Z"
   },
   {
    "duration": 0,
    "start_time": "2022-07-19T22:28:48.803Z"
   },
   {
    "duration": 0,
    "start_time": "2022-07-19T22:28:48.804Z"
   },
   {
    "duration": 0,
    "start_time": "2022-07-19T22:28:48.805Z"
   },
   {
    "duration": 776,
    "start_time": "2022-07-19T22:29:33.949Z"
   },
   {
    "duration": 7,
    "start_time": "2022-07-19T22:29:38.112Z"
   },
   {
    "duration": 3,
    "start_time": "2022-07-19T22:29:42.318Z"
   },
   {
    "duration": 5,
    "start_time": "2022-07-19T22:30:04.902Z"
   },
   {
    "duration": 1568,
    "start_time": "2022-07-19T22:30:08.870Z"
   },
   {
    "duration": 7,
    "start_time": "2022-07-19T22:30:15.171Z"
   },
   {
    "duration": 162424,
    "start_time": "2022-07-19T22:30:17.518Z"
   },
   {
    "duration": 85540,
    "start_time": "2022-07-19T22:36:07.504Z"
   },
   {
    "duration": 9,
    "start_time": "2022-07-19T22:37:41.270Z"
   },
   {
    "duration": 1690,
    "start_time": "2022-07-19T22:37:44.205Z"
   },
   {
    "duration": 6,
    "start_time": "2022-07-19T22:37:57.699Z"
   },
   {
    "duration": 16,
    "start_time": "2022-07-19T22:38:01.384Z"
   },
   {
    "duration": 976,
    "start_time": "2022-07-19T22:39:07.278Z"
   },
   {
    "duration": 87642,
    "start_time": "2022-07-19T22:40:26.157Z"
   },
   {
    "duration": 784,
    "start_time": "2022-07-19T22:41:53.802Z"
   },
   {
    "duration": 36,
    "start_time": "2022-07-19T22:41:54.588Z"
   },
   {
    "duration": 4,
    "start_time": "2022-07-19T22:41:54.626Z"
   },
   {
    "duration": 32,
    "start_time": "2022-07-19T22:41:54.632Z"
   },
   {
    "duration": 10,
    "start_time": "2022-07-19T22:41:54.666Z"
   },
   {
    "duration": 86,
    "start_time": "2022-07-19T22:41:54.677Z"
   },
   {
    "duration": 74288,
    "start_time": "2022-07-19T22:41:54.765Z"
   },
   {
    "duration": 9,
    "start_time": "2022-07-19T22:43:09.055Z"
   },
   {
    "duration": 4,
    "start_time": "2022-07-19T22:43:09.066Z"
   },
   {
    "duration": 7,
    "start_time": "2022-07-19T22:43:09.072Z"
   },
   {
    "duration": 173,
    "start_time": "2022-07-19T22:43:09.081Z"
   },
   {
    "duration": 44,
    "start_time": "2022-07-19T22:43:09.255Z"
   },
   {
    "duration": 6,
    "start_time": "2022-07-19T22:43:09.301Z"
   },
   {
    "duration": 2840,
    "start_time": "2022-07-19T22:43:09.308Z"
   },
   {
    "duration": 13,
    "start_time": "2022-07-19T22:43:12.150Z"
   },
   {
    "duration": 4,
    "start_time": "2022-07-19T22:43:12.165Z"
   },
   {
    "duration": 7716,
    "start_time": "2022-07-19T22:43:12.170Z"
   },
   {
    "duration": 6,
    "start_time": "2022-07-19T22:43:19.888Z"
   },
   {
    "duration": 252602,
    "start_time": "2022-07-19T22:43:19.896Z"
   },
   {
    "duration": 11,
    "start_time": "2022-07-19T22:47:32.500Z"
   },
   {
    "duration": 2353,
    "start_time": "2022-07-19T22:47:32.512Z"
   },
   {
    "duration": 5,
    "start_time": "2022-07-19T22:47:34.867Z"
   },
   {
    "duration": 14,
    "start_time": "2022-07-19T22:47:34.874Z"
   },
   {
    "duration": 5,
    "start_time": "2022-07-19T22:47:34.889Z"
   },
   {
    "duration": 89055,
    "start_time": "2022-07-19T22:49:25.984Z"
   },
   {
    "duration": 795,
    "start_time": "2022-07-19T22:50:55.042Z"
   },
   {
    "duration": 29,
    "start_time": "2022-07-19T22:50:55.838Z"
   },
   {
    "duration": 4,
    "start_time": "2022-07-19T22:50:55.868Z"
   },
   {
    "duration": 14,
    "start_time": "2022-07-19T22:50:55.874Z"
   },
   {
    "duration": 11,
    "start_time": "2022-07-19T22:50:55.889Z"
   },
   {
    "duration": 239,
    "start_time": "2022-07-19T22:50:55.902Z"
   },
   {
    "duration": 220123,
    "start_time": "2022-07-19T22:50:56.143Z"
   },
   {
    "duration": 6,
    "start_time": "2022-07-19T22:54:36.267Z"
   },
   {
    "duration": 9,
    "start_time": "2022-07-19T22:54:36.275Z"
   },
   {
    "duration": 7,
    "start_time": "2022-07-19T22:54:36.285Z"
   },
   {
    "duration": 500,
    "start_time": "2022-07-19T22:54:36.293Z"
   },
   {
    "duration": 120,
    "start_time": "2022-07-19T22:54:36.795Z"
   },
   {
    "duration": 5,
    "start_time": "2022-07-19T22:54:36.918Z"
   },
   {
    "duration": 6591,
    "start_time": "2022-07-19T22:54:36.925Z"
   },
   {
    "duration": 7,
    "start_time": "2022-07-19T22:54:43.518Z"
   },
   {
    "duration": 7,
    "start_time": "2022-07-19T22:54:43.526Z"
   },
   {
    "duration": 26122,
    "start_time": "2022-07-19T22:54:43.535Z"
   },
   {
    "duration": 10,
    "start_time": "2022-07-19T22:55:09.658Z"
   },
   {
    "duration": 667171,
    "start_time": "2022-07-19T22:55:09.669Z"
   },
   {
    "duration": 22,
    "start_time": "2022-07-19T23:06:16.842Z"
   },
   {
    "duration": 6043,
    "start_time": "2022-07-19T23:06:16.866Z"
   },
   {
    "duration": 5,
    "start_time": "2022-07-19T23:06:22.911Z"
   },
   {
    "duration": 14,
    "start_time": "2022-07-19T23:06:22.918Z"
   },
   {
    "duration": 13,
    "start_time": "2022-07-19T23:06:22.933Z"
   },
   {
    "duration": 96075,
    "start_time": "2022-07-19T23:12:03.869Z"
   },
   {
    "duration": 801,
    "start_time": "2022-07-19T23:13:39.947Z"
   },
   {
    "duration": 36,
    "start_time": "2022-07-19T23:13:40.750Z"
   },
   {
    "duration": 4,
    "start_time": "2022-07-19T23:13:40.788Z"
   },
   {
    "duration": 14,
    "start_time": "2022-07-19T23:13:40.794Z"
   },
   {
    "duration": 18,
    "start_time": "2022-07-19T23:13:40.809Z"
   },
   {
    "duration": 738,
    "start_time": "2022-07-19T23:13:40.828Z"
   },
   {
    "duration": 718744,
    "start_time": "2022-07-19T23:13:41.567Z"
   },
   {
    "duration": 6,
    "start_time": "2022-07-19T23:25:40.312Z"
   },
   {
    "duration": 11,
    "start_time": "2022-07-19T23:25:40.321Z"
   },
   {
    "duration": 7,
    "start_time": "2022-07-19T23:25:40.333Z"
   },
   {
    "duration": 1599,
    "start_time": "2022-07-19T23:25:40.341Z"
   },
   {
    "duration": 393,
    "start_time": "2022-07-19T23:25:41.942Z"
   },
   {
    "duration": 5,
    "start_time": "2022-07-19T23:25:42.337Z"
   },
   {
    "duration": 376720,
    "start_time": "2022-07-19T23:25:42.344Z"
   },
   {
    "duration": 14,
    "start_time": "2022-07-19T23:31:59.066Z"
   },
   {
    "duration": 83,
    "start_time": "2022-07-19T23:31:59.082Z"
   },
   {
    "duration": 108455,
    "start_time": "2022-07-19T23:31:59.167Z"
   },
   {
    "duration": 13,
    "start_time": "2022-07-19T23:33:47.624Z"
   },
   {
    "duration": 1820323,
    "start_time": "2022-07-19T23:33:47.639Z"
   },
   {
    "duration": 64,
    "start_time": "2022-07-20T00:04:07.964Z"
   },
   {
    "duration": 49301,
    "start_time": "2022-07-20T00:04:08.030Z"
   },
   {
    "duration": 7,
    "start_time": "2022-07-20T00:04:57.333Z"
   },
   {
    "duration": 29,
    "start_time": "2022-07-20T00:04:57.342Z"
   },
   {
    "duration": 26166,
    "start_time": "2022-07-20T00:27:40.073Z"
   },
   {
    "duration": 26444,
    "start_time": "2022-07-20T00:28:18.794Z"
   },
   {
    "duration": 10,
    "start_time": "2022-07-20T00:28:52.424Z"
   },
   {
    "duration": 11,
    "start_time": "2022-07-20T00:29:17.966Z"
   },
   {
    "duration": 49560,
    "start_time": "2022-07-20T00:34:14.276Z"
   },
   {
    "duration": 8,
    "start_time": "2022-07-20T00:37:18.388Z"
   },
   {
    "duration": 48566,
    "start_time": "2022-07-20T00:38:40.872Z"
   },
   {
    "duration": 8,
    "start_time": "2022-07-20T00:39:38.388Z"
   },
   {
    "duration": 11,
    "start_time": "2022-07-20T00:40:07.421Z"
   },
   {
    "duration": 331,
    "start_time": "2022-07-20T00:47:30.163Z"
   },
   {
    "duration": 624,
    "start_time": "2022-07-20T00:48:08.943Z"
   },
   {
    "duration": 156,
    "start_time": "2022-07-20T00:49:10.017Z"
   },
   {
    "duration": 141971,
    "start_time": "2022-07-20T21:18:58.989Z"
   },
   {
    "duration": 2616,
    "start_time": "2022-07-20T21:21:20.963Z"
   },
   {
    "duration": 38,
    "start_time": "2022-07-20T21:21:23.584Z"
   },
   {
    "duration": 12,
    "start_time": "2022-07-20T21:21:23.626Z"
   },
   {
    "duration": 14,
    "start_time": "2022-07-20T21:21:23.640Z"
   },
   {
    "duration": 17,
    "start_time": "2022-07-20T21:21:23.655Z"
   },
   {
    "duration": 2,
    "start_time": "2022-07-20T21:21:23.674Z"
   },
   {
    "duration": 2370780,
    "start_time": "2022-07-20T21:21:23.678Z"
   },
   {
    "duration": 0,
    "start_time": "2022-07-20T22:00:54.460Z"
   },
   {
    "duration": 0,
    "start_time": "2022-07-20T22:00:54.461Z"
   },
   {
    "duration": 0,
    "start_time": "2022-07-20T22:00:54.461Z"
   },
   {
    "duration": 0,
    "start_time": "2022-07-20T22:00:54.463Z"
   },
   {
    "duration": 0,
    "start_time": "2022-07-20T22:00:54.464Z"
   },
   {
    "duration": 0,
    "start_time": "2022-07-20T22:00:54.465Z"
   },
   {
    "duration": 0,
    "start_time": "2022-07-20T22:00:54.466Z"
   },
   {
    "duration": 1,
    "start_time": "2022-07-20T22:00:54.466Z"
   },
   {
    "duration": 0,
    "start_time": "2022-07-20T22:00:54.468Z"
   },
   {
    "duration": 0,
    "start_time": "2022-07-20T22:00:54.469Z"
   },
   {
    "duration": 0,
    "start_time": "2022-07-20T22:00:54.471Z"
   },
   {
    "duration": 0,
    "start_time": "2022-07-20T22:00:54.471Z"
   },
   {
    "duration": 0,
    "start_time": "2022-07-20T22:00:54.473Z"
   },
   {
    "duration": 0,
    "start_time": "2022-07-20T22:00:54.474Z"
   },
   {
    "duration": 0,
    "start_time": "2022-07-20T22:00:54.475Z"
   },
   {
    "duration": 0,
    "start_time": "2022-07-20T22:00:54.476Z"
   },
   {
    "duration": 0,
    "start_time": "2022-07-20T22:00:54.478Z"
   },
   {
    "duration": 128156,
    "start_time": "2022-07-20T22:04:08.165Z"
   },
   {
    "duration": 938,
    "start_time": "2022-07-20T22:06:16.324Z"
   },
   {
    "duration": 60,
    "start_time": "2022-07-20T22:06:17.264Z"
   },
   {
    "duration": 6,
    "start_time": "2022-07-20T22:06:17.326Z"
   },
   {
    "duration": 17,
    "start_time": "2022-07-20T22:06:17.334Z"
   },
   {
    "duration": 13,
    "start_time": "2022-07-20T22:06:17.353Z"
   },
   {
    "duration": 3,
    "start_time": "2022-07-20T22:06:17.367Z"
   },
   {
    "duration": 416679,
    "start_time": "2022-07-20T22:06:17.371Z"
   },
   {
    "duration": 6,
    "start_time": "2022-07-20T22:13:14.051Z"
   },
   {
    "duration": 13,
    "start_time": "2022-07-20T22:13:14.059Z"
   },
   {
    "duration": 20,
    "start_time": "2022-07-20T22:13:14.074Z"
   },
   {
    "duration": 905,
    "start_time": "2022-07-20T22:13:14.096Z"
   },
   {
    "duration": 234,
    "start_time": "2022-07-20T22:13:15.003Z"
   },
   {
    "duration": 6,
    "start_time": "2022-07-20T22:13:15.239Z"
   },
   {
    "duration": 352,
    "start_time": "2022-07-20T22:13:15.247Z"
   },
   {
    "duration": 0,
    "start_time": "2022-07-20T22:13:15.601Z"
   },
   {
    "duration": 0,
    "start_time": "2022-07-20T22:13:15.602Z"
   },
   {
    "duration": 0,
    "start_time": "2022-07-20T22:13:15.609Z"
   },
   {
    "duration": 0,
    "start_time": "2022-07-20T22:13:15.610Z"
   },
   {
    "duration": 0,
    "start_time": "2022-07-20T22:13:15.611Z"
   },
   {
    "duration": 0,
    "start_time": "2022-07-20T22:13:15.611Z"
   },
   {
    "duration": 0,
    "start_time": "2022-07-20T22:13:15.612Z"
   },
   {
    "duration": 0,
    "start_time": "2022-07-20T22:13:15.613Z"
   },
   {
    "duration": 0,
    "start_time": "2022-07-20T22:13:15.613Z"
   },
   {
    "duration": 0,
    "start_time": "2022-07-20T22:13:15.614Z"
   },
   {
    "duration": 59,
    "start_time": "2022-07-20T22:18:02.741Z"
   },
   {
    "duration": 71,
    "start_time": "2022-07-20T22:46:49.102Z"
   },
   {
    "duration": 73,
    "start_time": "2022-07-20T22:47:44.195Z"
   },
   {
    "duration": 29,
    "start_time": "2022-07-20T22:49:36.430Z"
   },
   {
    "duration": 1259,
    "start_time": "2022-07-20T23:00:22.303Z"
   },
   {
    "duration": 28061,
    "start_time": "2022-07-20T23:28:18.636Z"
   },
   {
    "duration": 23,
    "start_time": "2022-07-20T23:29:02.699Z"
   },
   {
    "duration": 15502,
    "start_time": "2022-07-20T23:30:46.613Z"
   },
   {
    "duration": 6520,
    "start_time": "2022-07-20T23:31:38.428Z"
   },
   {
    "duration": 25,
    "start_time": "2022-07-20T23:32:08.932Z"
   },
   {
    "duration": 8,
    "start_time": "2022-07-20T23:32:26.689Z"
   },
   {
    "duration": 6737,
    "start_time": "2022-07-20T23:32:40.683Z"
   },
   {
    "duration": 8,
    "start_time": "2022-07-20T23:32:55.739Z"
   },
   {
    "duration": 25,
    "start_time": "2022-07-20T23:34:37.752Z"
   },
   {
    "duration": 45,
    "start_time": "2022-07-20T23:35:06.690Z"
   },
   {
    "duration": 26,
    "start_time": "2022-07-20T23:40:03.241Z"
   },
   {
    "duration": 26,
    "start_time": "2022-07-20T23:50:18.476Z"
   },
   {
    "duration": 34,
    "start_time": "2022-07-20T23:51:00.511Z"
   },
   {
    "duration": 37,
    "start_time": "2022-07-20T23:51:41.583Z"
   },
   {
    "duration": 5,
    "start_time": "2022-07-20T23:55:06.223Z"
   },
   {
    "duration": 51238,
    "start_time": "2022-07-20T23:55:09.157Z"
   },
   {
    "duration": 8,
    "start_time": "2022-07-20T23:56:04.286Z"
   },
   {
    "duration": 37483,
    "start_time": "2022-07-20T23:56:11.146Z"
   },
   {
    "duration": 8,
    "start_time": "2022-07-21T00:00:43.983Z"
   },
   {
    "duration": 54,
    "start_time": "2022-07-21T00:02:01.438Z"
   },
   {
    "duration": 37,
    "start_time": "2022-07-21T00:02:50.276Z"
   },
   {
    "duration": 33,
    "start_time": "2022-07-21T00:02:57.911Z"
   },
   {
    "duration": 23,
    "start_time": "2022-07-21T00:08:45.129Z"
   },
   {
    "duration": 25,
    "start_time": "2022-07-21T00:09:03.926Z"
   },
   {
    "duration": 38,
    "start_time": "2022-07-21T00:10:40.009Z"
   },
   {
    "duration": 32,
    "start_time": "2022-07-21T00:11:00.612Z"
   },
   {
    "duration": 25,
    "start_time": "2022-07-21T00:11:48.550Z"
   },
   {
    "duration": 24,
    "start_time": "2022-07-21T00:12:33.334Z"
   },
   {
    "duration": 29,
    "start_time": "2022-07-21T00:12:53.735Z"
   },
   {
    "duration": 24,
    "start_time": "2022-07-21T00:13:28.554Z"
   },
   {
    "duration": 30,
    "start_time": "2022-07-21T00:14:05.226Z"
   },
   {
    "duration": 25,
    "start_time": "2022-07-21T00:14:16.889Z"
   },
   {
    "duration": 7,
    "start_time": "2022-07-21T00:24:11.031Z"
   },
   {
    "duration": 25,
    "start_time": "2022-07-21T00:24:22.934Z"
   },
   {
    "duration": 6417,
    "start_time": "2022-07-21T00:26:00.242Z"
   },
   {
    "duration": 11,
    "start_time": "2022-07-21T00:26:17.715Z"
   },
   {
    "duration": 11869,
    "start_time": "2022-07-21T00:27:02.534Z"
   },
   {
    "duration": 7,
    "start_time": "2022-07-21T00:27:27.935Z"
   },
   {
    "duration": 35,
    "start_time": "2022-07-21T00:27:50.810Z"
   },
   {
    "duration": 25,
    "start_time": "2022-07-21T00:28:12.333Z"
   },
   {
    "duration": 25,
    "start_time": "2022-07-21T00:28:40.926Z"
   },
   {
    "duration": 62,
    "start_time": "2022-07-21T00:30:48.307Z"
   },
   {
    "duration": 112,
    "start_time": "2022-07-21T00:31:14.054Z"
   },
   {
    "duration": 76,
    "start_time": "2022-07-21T00:31:26.287Z"
   },
   {
    "duration": 7,
    "start_time": "2022-07-21T00:31:36.482Z"
   },
   {
    "duration": 31,
    "start_time": "2022-07-21T00:31:46.595Z"
   },
   {
    "duration": 29,
    "start_time": "2022-07-21T00:32:09.848Z"
   },
   {
    "duration": 26,
    "start_time": "2022-07-21T00:32:16.034Z"
   },
   {
    "duration": 25,
    "start_time": "2022-07-21T00:32:21.744Z"
   },
   {
    "duration": 26,
    "start_time": "2022-07-21T00:32:39.832Z"
   },
   {
    "duration": 29,
    "start_time": "2022-07-21T00:32:53.987Z"
   },
   {
    "duration": 40,
    "start_time": "2022-07-21T00:33:53.337Z"
   },
   {
    "duration": 28,
    "start_time": "2022-07-21T00:34:45.372Z"
   },
   {
    "duration": 28,
    "start_time": "2022-07-21T00:37:45.019Z"
   },
   {
    "duration": 35,
    "start_time": "2022-07-21T00:38:27.787Z"
   },
   {
    "duration": 27,
    "start_time": "2022-07-21T00:42:41.949Z"
   },
   {
    "duration": 109,
    "start_time": "2022-07-21T00:50:15.105Z"
   },
   {
    "duration": 120,
    "start_time": "2022-07-21T00:50:46.929Z"
   },
   {
    "duration": 52,
    "start_time": "2022-07-21T00:51:00.854Z"
   },
   {
    "duration": 27,
    "start_time": "2022-07-21T00:51:21.936Z"
   },
   {
    "duration": 41,
    "start_time": "2022-07-21T00:53:08.151Z"
   },
   {
    "duration": 24,
    "start_time": "2022-07-21T00:54:08.845Z"
   },
   {
    "duration": 19,
    "start_time": "2022-07-21T00:54:20.648Z"
   },
   {
    "duration": 22,
    "start_time": "2022-07-21T00:54:37.095Z"
   },
   {
    "duration": 78,
    "start_time": "2022-07-21T00:57:33.464Z"
   },
   {
    "duration": 56,
    "start_time": "2022-07-21T00:57:39.848Z"
   },
   {
    "duration": 29322,
    "start_time": "2022-07-21T00:58:02.983Z"
   },
   {
    "duration": 51320,
    "start_time": "2022-07-21T01:08:16.437Z"
   },
   {
    "duration": 30,
    "start_time": "2022-07-21T01:12:33.235Z"
   },
   {
    "duration": 344,
    "start_time": "2022-07-21T01:12:51.389Z"
   },
   {
    "duration": 39,
    "start_time": "2022-07-21T01:13:18.095Z"
   },
   {
    "duration": 5,
    "start_time": "2022-07-21T01:14:01.251Z"
   },
   {
    "duration": 12598,
    "start_time": "2022-07-21T01:17:56.952Z"
   },
   {
    "duration": 159120,
    "start_time": "2022-07-21T01:23:27.842Z"
   },
   {
    "duration": 9,
    "start_time": "2022-07-21T01:26:49.478Z"
   },
   {
    "duration": 190173,
    "start_time": "2022-07-21T01:36:05.476Z"
   },
   {
    "duration": 29,
    "start_time": "2022-07-21T01:39:58.777Z"
   },
   {
    "duration": 251,
    "start_time": "2022-07-21T01:40:09.292Z"
   },
   {
    "duration": 28,
    "start_time": "2022-07-21T01:48:16.607Z"
   },
   {
    "duration": 242,
    "start_time": "2022-07-21T01:48:34.424Z"
   },
   {
    "duration": 261,
    "start_time": "2022-07-21T01:49:44.400Z"
   },
   {
    "duration": 105245,
    "start_time": "2022-07-21T02:02:37.079Z"
   },
   {
    "duration": 1028,
    "start_time": "2022-07-21T02:04:22.328Z"
   },
   {
    "duration": 42,
    "start_time": "2022-07-21T02:04:23.358Z"
   },
   {
    "duration": 23,
    "start_time": "2022-07-21T02:04:23.403Z"
   },
   {
    "duration": 37,
    "start_time": "2022-07-21T02:04:23.428Z"
   },
   {
    "duration": 28,
    "start_time": "2022-07-21T02:04:23.467Z"
   },
   {
    "duration": 1705958,
    "start_time": "2022-07-21T02:04:23.497Z"
   },
   {
    "duration": 7,
    "start_time": "2022-07-21T02:32:49.458Z"
   },
   {
    "duration": 57,
    "start_time": "2022-07-21T02:32:49.467Z"
   },
   {
    "duration": 13,
    "start_time": "2022-07-21T02:32:49.527Z"
   },
   {
    "duration": 3908,
    "start_time": "2022-07-21T02:32:49.542Z"
   },
   {
    "duration": 960,
    "start_time": "2022-07-21T02:32:53.452Z"
   },
   {
    "duration": 8,
    "start_time": "2022-07-21T02:32:54.414Z"
   },
   {
    "duration": 4732,
    "start_time": "2022-07-21T02:32:54.424Z"
   },
   {
    "duration": 80170,
    "start_time": "2022-07-21T02:32:59.158Z"
   },
   {
    "duration": 12,
    "start_time": "2022-07-21T02:34:19.330Z"
   },
   {
    "duration": 237425,
    "start_time": "2022-07-21T02:34:19.344Z"
   },
   {
    "duration": 362,
    "start_time": "2022-07-21T02:38:16.771Z"
   },
   {
    "duration": 0,
    "start_time": "2022-07-21T02:38:17.136Z"
   },
   {
    "duration": 0,
    "start_time": "2022-07-21T02:38:17.138Z"
   },
   {
    "duration": 0,
    "start_time": "2022-07-21T02:38:17.139Z"
   },
   {
    "duration": 0,
    "start_time": "2022-07-21T02:38:17.141Z"
   },
   {
    "duration": 0,
    "start_time": "2022-07-21T02:38:17.143Z"
   },
   {
    "duration": 0,
    "start_time": "2022-07-21T02:38:17.144Z"
   },
   {
    "duration": 0,
    "start_time": "2022-07-21T02:38:17.146Z"
   },
   {
    "duration": 0,
    "start_time": "2022-07-21T02:38:17.147Z"
   },
   {
    "duration": 0,
    "start_time": "2022-07-21T02:38:17.148Z"
   },
   {
    "duration": 0,
    "start_time": "2022-07-21T02:38:17.149Z"
   },
   {
    "duration": 0,
    "start_time": "2022-07-21T02:38:17.150Z"
   },
   {
    "duration": 0,
    "start_time": "2022-07-21T02:38:17.152Z"
   },
   {
    "duration": 6,
    "start_time": "2022-07-21T02:42:28.936Z"
   },
   {
    "duration": 274569,
    "start_time": "2022-07-21T02:42:36.990Z"
   },
   {
    "duration": 1074,
    "start_time": "2022-07-21T02:49:15.927Z"
   },
   {
    "duration": 6,
    "start_time": "2022-07-21T02:49:30.263Z"
   },
   {
    "duration": 282601,
    "start_time": "2022-07-21T02:49:33.832Z"
   },
   {
    "duration": 19,
    "start_time": "2022-07-21T02:54:26.032Z"
   },
   {
    "duration": 780454,
    "start_time": "2022-07-21T02:54:29.274Z"
   },
   {
    "duration": 1502,
    "start_time": "2022-07-21T03:07:47.483Z"
   },
   {
    "duration": 3379376,
    "start_time": "2022-07-21T03:08:06.107Z"
   },
   {
    "duration": 137,
    "start_time": "2022-07-21T04:06:28.065Z"
   },
   {
    "duration": 73527,
    "start_time": "2022-07-21T04:06:31.664Z"
   },
   {
    "duration": 11,
    "start_time": "2022-07-21T04:07:55.777Z"
   },
   {
    "duration": 17,
    "start_time": "2022-07-21T04:08:02.550Z"
   }
  ],
  "kernelspec": {
   "display_name": "Python 3 (ipykernel)",
   "language": "python",
   "name": "python3"
  },
  "language_info": {
   "codemirror_mode": {
    "name": "ipython",
    "version": 3
   },
   "file_extension": ".py",
   "mimetype": "text/x-python",
   "name": "python",
   "nbconvert_exporter": "python",
   "pygments_lexer": "ipython3",
   "version": "3.9.5"
  },
  "toc": {
   "base_numbering": 1,
   "nav_menu": {},
   "number_sections": true,
   "sideBar": true,
   "skip_h1_title": true,
   "title_cell": "Содержание",
   "title_sidebar": "Contents",
   "toc_cell": true,
   "toc_position": {
    "height": "calc(100% - 180px)",
    "left": "10px",
    "top": "150px",
    "width": "302.391px"
   },
   "toc_section_display": true,
   "toc_window_display": false
  }
 },
 "nbformat": 4,
 "nbformat_minor": 2
}
