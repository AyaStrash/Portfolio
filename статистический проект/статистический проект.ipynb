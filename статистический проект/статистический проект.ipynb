{
 "cells": [
  {
   "cell_type": "markdown",
   "metadata": {},
   "source": [
    "Описание проекта\n",
    "\n",
    "Название проекта: Определение перспективного тарифа для телеком-компании\n",
    "\n",
    "Описание исследования.\n",
    "Вы аналитик компании «Мегалайн» — федерального оператора сотовой связи. Клиентам предлагают два тарифных плана: «Смарт» и «Ультра». Чтобы скорректировать рекламный бюджет, коммерческий департамент хочет понять, какой тариф приносит больше денег.\n",
    "Вам предстоит сделать предварительный анализ тарифов на небольшой выборке клиентов. В вашем распоряжении данные 500 пользователей «Мегалайна»: кто они, откуда, каким тарифом пользуются, сколько звонков и сообщений каждый отправил за 2018 год. Нужно проанализировать поведение клиентов и сделать вывод — какой тариф лучше.\n",
    "\n",
    "Цель исследования: на материале анализа исходных данных определить, какой тариф лучше\n",
    "\n",
    "Суть исследования: Проанализировать поведение абонентов в рамках двух тарифов Мегалайн Смарт и Ультра  \n",
    "\n",
    "Задачи исследования: \n",
    "1) проанализировать исходные данные,\n",
    "2) проверить на аномалии и убрать их,\n",
    "3) создать сводные таблицы по разным показателям (сообщения, трафик, звонки) по клиентам с данными по месяцам.\n",
    "4) По каждому показателю посчитать: среднее арифметическое, дисперсию, стандартное отклонение и построить гистограммы\n",
    "5) создать сводную таблицу с выручкой и проанализировать\n",
    "6) сделать две выборки по тарифному плану и по городу клиента\n",
    "6) сформулировать нулевые гипотезы по этим двум выборкам и проверить эти гипотезы\n",
    "Исходные данные: \n",
    "\n",
    "Описание тарифов\n",
    "Тариф «Смарт»\n",
    "\n",
    "    Ежемесячная плата: 550 рублей\n",
    "    Включено 500 минут разговора, 50 сообщений и 15 Гб интернет-трафика\n",
    "    Стоимость услуг сверх тарифного пакета:\n",
    "        минута разговора: 3 рубля\n",
    "        сообщение: 3 рубля\n",
    "        1 Гб интернет-трафика: 200 рублей\n",
    "\n",
    "Тариф «Ультра»\n",
    "\n",
    "    Ежемесячная плата: 1950 рублей\n",
    "    Включено 3000 минут разговора, 1000 сообщений и 30 Гб интернет-трафика\n",
    "    Стоимость услуг сверх тарифного пакета:\n",
    "        минута разговора: 1 рубль\n",
    "        сообщение: 1 рубль\n",
    "        1 Гб интернет-трафика: 150 рублей"
   ]
  },
  {
   "cell_type": "code",
   "execution_count": 1,
   "metadata": {},
   "outputs": [
    {
     "data": {
      "text/html": [
       "<div>\n",
       "<style scoped>\n",
       "    .dataframe tbody tr th:only-of-type {\n",
       "        vertical-align: middle;\n",
       "    }\n",
       "\n",
       "    .dataframe tbody tr th {\n",
       "        vertical-align: top;\n",
       "    }\n",
       "\n",
       "    .dataframe thead th {\n",
       "        text-align: right;\n",
       "    }\n",
       "</style>\n",
       "<table border=\"1\" class=\"dataframe\">\n",
       "  <thead>\n",
       "    <tr style=\"text-align: right;\">\n",
       "      <th></th>\n",
       "      <th>id</th>\n",
       "      <th>call_date</th>\n",
       "      <th>duration</th>\n",
       "      <th>user_id</th>\n",
       "    </tr>\n",
       "  </thead>\n",
       "  <tbody>\n",
       "    <tr>\n",
       "      <th>0</th>\n",
       "      <td>1000_0</td>\n",
       "      <td>2018-07-25</td>\n",
       "      <td>0.00</td>\n",
       "      <td>1000</td>\n",
       "    </tr>\n",
       "    <tr>\n",
       "      <th>1</th>\n",
       "      <td>1000_1</td>\n",
       "      <td>2018-08-17</td>\n",
       "      <td>0.00</td>\n",
       "      <td>1000</td>\n",
       "    </tr>\n",
       "    <tr>\n",
       "      <th>2</th>\n",
       "      <td>1000_2</td>\n",
       "      <td>2018-06-11</td>\n",
       "      <td>2.85</td>\n",
       "      <td>1000</td>\n",
       "    </tr>\n",
       "    <tr>\n",
       "      <th>3</th>\n",
       "      <td>1000_3</td>\n",
       "      <td>2018-09-21</td>\n",
       "      <td>13.80</td>\n",
       "      <td>1000</td>\n",
       "    </tr>\n",
       "    <tr>\n",
       "      <th>4</th>\n",
       "      <td>1000_4</td>\n",
       "      <td>2018-12-15</td>\n",
       "      <td>5.18</td>\n",
       "      <td>1000</td>\n",
       "    </tr>\n",
       "    <tr>\n",
       "      <th>5</th>\n",
       "      <td>1000_5</td>\n",
       "      <td>2018-11-02</td>\n",
       "      <td>0.00</td>\n",
       "      <td>1000</td>\n",
       "    </tr>\n",
       "    <tr>\n",
       "      <th>6</th>\n",
       "      <td>1000_6</td>\n",
       "      <td>2018-10-18</td>\n",
       "      <td>0.00</td>\n",
       "      <td>1000</td>\n",
       "    </tr>\n",
       "    <tr>\n",
       "      <th>7</th>\n",
       "      <td>1000_7</td>\n",
       "      <td>2018-08-22</td>\n",
       "      <td>18.31</td>\n",
       "      <td>1000</td>\n",
       "    </tr>\n",
       "    <tr>\n",
       "      <th>8</th>\n",
       "      <td>1000_8</td>\n",
       "      <td>2018-09-15</td>\n",
       "      <td>18.44</td>\n",
       "      <td>1000</td>\n",
       "    </tr>\n",
       "    <tr>\n",
       "      <th>9</th>\n",
       "      <td>1000_9</td>\n",
       "      <td>2018-08-15</td>\n",
       "      <td>0.00</td>\n",
       "      <td>1000</td>\n",
       "    </tr>\n",
       "  </tbody>\n",
       "</table>\n",
       "</div>"
      ],
      "text/plain": [
       "       id   call_date  duration  user_id\n",
       "0  1000_0  2018-07-25      0.00     1000\n",
       "1  1000_1  2018-08-17      0.00     1000\n",
       "2  1000_2  2018-06-11      2.85     1000\n",
       "3  1000_3  2018-09-21     13.80     1000\n",
       "4  1000_4  2018-12-15      5.18     1000\n",
       "5  1000_5  2018-11-02      0.00     1000\n",
       "6  1000_6  2018-10-18      0.00     1000\n",
       "7  1000_7  2018-08-22     18.31     1000\n",
       "8  1000_8  2018-09-15     18.44     1000\n",
       "9  1000_9  2018-08-15      0.00     1000"
      ]
     },
     "metadata": {},
     "output_type": "display_data"
    },
    {
     "name": "stdout",
     "output_type": "stream",
     "text": [
      "<class 'pandas.core.frame.DataFrame'>\n",
      "RangeIndex: 202607 entries, 0 to 202606\n",
      "Data columns (total 4 columns):\n",
      " #   Column     Non-Null Count   Dtype  \n",
      "---  ------     --------------   -----  \n",
      " 0   id         202607 non-null  object \n",
      " 1   call_date  202607 non-null  object \n",
      " 2   duration   202607 non-null  float64\n",
      " 3   user_id    202607 non-null  int64  \n",
      "dtypes: float64(1), int64(1), object(2)\n",
      "memory usage: 6.2+ MB\n"
     ]
    }
   ],
   "source": [
    "import pandas as pd\n",
    "import seaborn as sns\n",
    "import numpy as np\n",
    "import matplotlib.pyplot as plt\n",
    "from scipy import stats as st\n",
    "from datetime import datetime as dt\n",
    "from functools import reduce\n",
    "idx = pd.IndexSlice\n",
    "calls = pd.read_csv('/datasets/calls.csv')\n",
    "#calls.to_csv('calls.csv', index=False)\n",
    "display(calls.head(10))\n",
    "calls.info()\n",
    "\n",
    "\n"
   ]
  },
  {
   "cell_type": "markdown",
   "metadata": {},
   "source": [
    "Посмотрим на график распределения длительности звонков:"
   ]
  },
  {
   "cell_type": "code",
   "execution_count": 2,
   "metadata": {},
   "outputs": [
    {
     "data": {
      "text/html": [
       "<div>\n",
       "<style scoped>\n",
       "    .dataframe tbody tr th:only-of-type {\n",
       "        vertical-align: middle;\n",
       "    }\n",
       "\n",
       "    .dataframe tbody tr th {\n",
       "        vertical-align: top;\n",
       "    }\n",
       "\n",
       "    .dataframe thead th {\n",
       "        text-align: right;\n",
       "    }\n",
       "</style>\n",
       "<table border=\"1\" class=\"dataframe\">\n",
       "  <thead>\n",
       "    <tr style=\"text-align: right;\">\n",
       "      <th></th>\n",
       "      <th>duration</th>\n",
       "      <th>user_id</th>\n",
       "    </tr>\n",
       "  </thead>\n",
       "  <tbody>\n",
       "    <tr>\n",
       "      <th>count</th>\n",
       "      <td>202607.000000</td>\n",
       "      <td>202607.000000</td>\n",
       "    </tr>\n",
       "    <tr>\n",
       "      <th>mean</th>\n",
       "      <td>6.755887</td>\n",
       "      <td>1253.940619</td>\n",
       "    </tr>\n",
       "    <tr>\n",
       "      <th>std</th>\n",
       "      <td>5.843365</td>\n",
       "      <td>144.722751</td>\n",
       "    </tr>\n",
       "    <tr>\n",
       "      <th>min</th>\n",
       "      <td>0.000000</td>\n",
       "      <td>1000.000000</td>\n",
       "    </tr>\n",
       "    <tr>\n",
       "      <th>25%</th>\n",
       "      <td>1.300000</td>\n",
       "      <td>1126.000000</td>\n",
       "    </tr>\n",
       "    <tr>\n",
       "      <th>50%</th>\n",
       "      <td>6.000000</td>\n",
       "      <td>1260.000000</td>\n",
       "    </tr>\n",
       "    <tr>\n",
       "      <th>75%</th>\n",
       "      <td>10.700000</td>\n",
       "      <td>1379.000000</td>\n",
       "    </tr>\n",
       "    <tr>\n",
       "      <th>max</th>\n",
       "      <td>38.000000</td>\n",
       "      <td>1499.000000</td>\n",
       "    </tr>\n",
       "  </tbody>\n",
       "</table>\n",
       "</div>"
      ],
      "text/plain": [
       "            duration        user_id\n",
       "count  202607.000000  202607.000000\n",
       "mean        6.755887    1253.940619\n",
       "std         5.843365     144.722751\n",
       "min         0.000000    1000.000000\n",
       "25%         1.300000    1126.000000\n",
       "50%         6.000000    1260.000000\n",
       "75%        10.700000    1379.000000\n",
       "max        38.000000    1499.000000"
      ]
     },
     "execution_count": 2,
     "metadata": {},
     "output_type": "execute_result"
    },
    {
     "data": {
      "image/png": "[encoded data removed]",
      "text/plain": [
       "<Figure size 432x288 with 1 Axes>"
      ]
     },
     "metadata": {
      "needs_background": "light"
     },
     "output_type": "display_data"
    }
   ],
   "source": [
    "calls['duration'].plot(kind ='hist', ec ='black', bins = 30)\n",
    "calls.describe()"
   ]
  },
  {
   "cell_type": "markdown",
   "metadata": {},
   "source": [
    "Вывод: большое число звонков около нуля, но согласно тарифам, они будут засчитаны, как звонок на целую минуту."
   ]
  },
  {
   "cell_type": "code",
   "execution_count": 3,
   "metadata": {},
   "outputs": [
    {
     "data": {
      "text/html": [
       "<div>\n",
       "<style scoped>\n",
       "    .dataframe tbody tr th:only-of-type {\n",
       "        vertical-align: middle;\n",
       "    }\n",
       "\n",
       "    .dataframe tbody tr th {\n",
       "        vertical-align: top;\n",
       "    }\n",
       "\n",
       "    .dataframe thead th {\n",
       "        text-align: right;\n",
       "    }\n",
       "</style>\n",
       "<table border=\"1\" class=\"dataframe\">\n",
       "  <thead>\n",
       "    <tr style=\"text-align: right;\">\n",
       "      <th></th>\n",
       "      <th>Unnamed: 0</th>\n",
       "      <th>id</th>\n",
       "      <th>mb_used</th>\n",
       "      <th>session_date</th>\n",
       "      <th>user_id</th>\n",
       "    </tr>\n",
       "  </thead>\n",
       "  <tbody>\n",
       "    <tr>\n",
       "      <th>0</th>\n",
       "      <td>0</td>\n",
       "      <td>1000_0</td>\n",
       "      <td>112.95</td>\n",
       "      <td>2018-11-25</td>\n",
       "      <td>1000</td>\n",
       "    </tr>\n",
       "    <tr>\n",
       "      <th>1</th>\n",
       "      <td>1</td>\n",
       "      <td>1000_1</td>\n",
       "      <td>1052.81</td>\n",
       "      <td>2018-09-07</td>\n",
       "      <td>1000</td>\n",
       "    </tr>\n",
       "    <tr>\n",
       "      <th>2</th>\n",
       "      <td>2</td>\n",
       "      <td>1000_2</td>\n",
       "      <td>1197.26</td>\n",
       "      <td>2018-06-25</td>\n",
       "      <td>1000</td>\n",
       "    </tr>\n",
       "    <tr>\n",
       "      <th>3</th>\n",
       "      <td>3</td>\n",
       "      <td>1000_3</td>\n",
       "      <td>550.27</td>\n",
       "      <td>2018-08-22</td>\n",
       "      <td>1000</td>\n",
       "    </tr>\n",
       "    <tr>\n",
       "      <th>4</th>\n",
       "      <td>4</td>\n",
       "      <td>1000_4</td>\n",
       "      <td>302.56</td>\n",
       "      <td>2018-09-24</td>\n",
       "      <td>1000</td>\n",
       "    </tr>\n",
       "    <tr>\n",
       "      <th>5</th>\n",
       "      <td>5</td>\n",
       "      <td>1000_5</td>\n",
       "      <td>399.97</td>\n",
       "      <td>2018-10-02</td>\n",
       "      <td>1000</td>\n",
       "    </tr>\n",
       "    <tr>\n",
       "      <th>6</th>\n",
       "      <td>6</td>\n",
       "      <td>1000_6</td>\n",
       "      <td>540.08</td>\n",
       "      <td>2018-09-07</td>\n",
       "      <td>1000</td>\n",
       "    </tr>\n",
       "    <tr>\n",
       "      <th>7</th>\n",
       "      <td>7</td>\n",
       "      <td>1000_7</td>\n",
       "      <td>415.70</td>\n",
       "      <td>2018-07-11</td>\n",
       "      <td>1000</td>\n",
       "    </tr>\n",
       "    <tr>\n",
       "      <th>8</th>\n",
       "      <td>8</td>\n",
       "      <td>1000_8</td>\n",
       "      <td>505.40</td>\n",
       "      <td>2018-10-08</td>\n",
       "      <td>1000</td>\n",
       "    </tr>\n",
       "    <tr>\n",
       "      <th>9</th>\n",
       "      <td>9</td>\n",
       "      <td>1000_9</td>\n",
       "      <td>345.54</td>\n",
       "      <td>2018-09-03</td>\n",
       "      <td>1000</td>\n",
       "    </tr>\n",
       "  </tbody>\n",
       "</table>\n",
       "</div>"
      ],
      "text/plain": [
       "   Unnamed: 0      id  mb_used session_date  user_id\n",
       "0           0  1000_0   112.95   2018-11-25     1000\n",
       "1           1  1000_1  1052.81   2018-09-07     1000\n",
       "2           2  1000_2  1197.26   2018-06-25     1000\n",
       "3           3  1000_3   550.27   2018-08-22     1000\n",
       "4           4  1000_4   302.56   2018-09-24     1000\n",
       "5           5  1000_5   399.97   2018-10-02     1000\n",
       "6           6  1000_6   540.08   2018-09-07     1000\n",
       "7           7  1000_7   415.70   2018-07-11     1000\n",
       "8           8  1000_8   505.40   2018-10-08     1000\n",
       "9           9  1000_9   345.54   2018-09-03     1000"
      ]
     },
     "metadata": {},
     "output_type": "display_data"
    },
    {
     "name": "stdout",
     "output_type": "stream",
     "text": [
      "<class 'pandas.core.frame.DataFrame'>\n",
      "RangeIndex: 149396 entries, 0 to 149395\n",
      "Data columns (total 5 columns):\n",
      " #   Column        Non-Null Count   Dtype  \n",
      "---  ------        --------------   -----  \n",
      " 0   Unnamed: 0    149396 non-null  int64  \n",
      " 1   id            149396 non-null  object \n",
      " 2   mb_used       149396 non-null  float64\n",
      " 3   session_date  149396 non-null  object \n",
      " 4   user_id       149396 non-null  int64  \n",
      "dtypes: float64(1), int64(2), object(2)\n",
      "memory usage: 5.7+ MB\n"
     ]
    }
   ],
   "source": [
    "internet = pd.read_csv('/datasets/internet.csv')\n",
    "#internet.to_csv('internet.csv', index = False)\n",
    "display(internet.head(10))\n",
    "internet.info()"
   ]
  },
  {
   "cell_type": "markdown",
   "metadata": {},
   "source": [
    "В таблице нет пропусков данных, нужно привести столбец с датой к соотвествующему типу для дальнейшей работы и убрать столбец Unnamed, так как он неинформативен"
   ]
  },
  {
   "cell_type": "markdown",
   "metadata": {},
   "source": [
    "Посмотрим на гистограмму использования трафика"
   ]
  },
  {
   "cell_type": "code",
   "execution_count": 4,
   "metadata": {},
   "outputs": [
    {
     "data": {
      "text/html": [
       "<div>\n",
       "<style scoped>\n",
       "    .dataframe tbody tr th:only-of-type {\n",
       "        vertical-align: middle;\n",
       "    }\n",
       "\n",
       "    .dataframe tbody tr th {\n",
       "        vertical-align: top;\n",
       "    }\n",
       "\n",
       "    .dataframe thead th {\n",
       "        text-align: right;\n",
       "    }\n",
       "</style>\n",
       "<table border=\"1\" class=\"dataframe\">\n",
       "  <thead>\n",
       "    <tr style=\"text-align: right;\">\n",
       "      <th></th>\n",
       "      <th>Unnamed: 0</th>\n",
       "      <th>mb_used</th>\n",
       "      <th>user_id</th>\n",
       "    </tr>\n",
       "  </thead>\n",
       "  <tbody>\n",
       "    <tr>\n",
       "      <th>count</th>\n",
       "      <td>149396.000000</td>\n",
       "      <td>149396.000000</td>\n",
       "      <td>149396.000000</td>\n",
       "    </tr>\n",
       "    <tr>\n",
       "      <th>mean</th>\n",
       "      <td>74697.500000</td>\n",
       "      <td>370.192426</td>\n",
       "      <td>1252.099842</td>\n",
       "    </tr>\n",
       "    <tr>\n",
       "      <th>std</th>\n",
       "      <td>43127.054745</td>\n",
       "      <td>278.300951</td>\n",
       "      <td>144.050823</td>\n",
       "    </tr>\n",
       "    <tr>\n",
       "      <th>min</th>\n",
       "      <td>0.000000</td>\n",
       "      <td>0.000000</td>\n",
       "      <td>1000.000000</td>\n",
       "    </tr>\n",
       "    <tr>\n",
       "      <th>25%</th>\n",
       "      <td>37348.750000</td>\n",
       "      <td>138.187500</td>\n",
       "      <td>1130.000000</td>\n",
       "    </tr>\n",
       "    <tr>\n",
       "      <th>50%</th>\n",
       "      <td>74697.500000</td>\n",
       "      <td>348.015000</td>\n",
       "      <td>1251.000000</td>\n",
       "    </tr>\n",
       "    <tr>\n",
       "      <th>75%</th>\n",
       "      <td>112046.250000</td>\n",
       "      <td>559.552500</td>\n",
       "      <td>1380.000000</td>\n",
       "    </tr>\n",
       "    <tr>\n",
       "      <th>max</th>\n",
       "      <td>149395.000000</td>\n",
       "      <td>1724.830000</td>\n",
       "      <td>1499.000000</td>\n",
       "    </tr>\n",
       "  </tbody>\n",
       "</table>\n",
       "</div>"
      ],
      "text/plain": [
       "          Unnamed: 0        mb_used        user_id\n",
       "count  149396.000000  149396.000000  149396.000000\n",
       "mean    74697.500000     370.192426    1252.099842\n",
       "std     43127.054745     278.300951     144.050823\n",
       "min         0.000000       0.000000    1000.000000\n",
       "25%     37348.750000     138.187500    1130.000000\n",
       "50%     74697.500000     348.015000    1251.000000\n",
       "75%    112046.250000     559.552500    1380.000000\n",
       "max    149395.000000    1724.830000    1499.000000"
      ]
     },
     "execution_count": 4,
     "metadata": {},
     "output_type": "execute_result"
    },
    {
     "data": {
      "image/png": "[encoded data removed]",
      "text/plain": [
       "<Figure size 432x288 with 1 Axes>"
      ]
     },
     "metadata": {
      "needs_background": "light"
     },
     "output_type": "display_data"
    }
   ],
   "source": [
    "internet['mb_used'].plot(kind ='hist', ec ='black', bins = 30)\n",
    "internet.describe()"
   ]
  },
  {
   "cell_type": "markdown",
   "metadata": {},
   "source": [
    "Вывод: большое число около нуля, согласно тарифам, они не будут засчитаны, так что можем сократить число строк с нулями или пренебречь этими данными."
   ]
  },
  {
   "cell_type": "code",
   "execution_count": 5,
   "metadata": {},
   "outputs": [
    {
     "data": {
      "text/html": [
       "<div>\n",
       "<style scoped>\n",
       "    .dataframe tbody tr th:only-of-type {\n",
       "        vertical-align: middle;\n",
       "    }\n",
       "\n",
       "    .dataframe tbody tr th {\n",
       "        vertical-align: top;\n",
       "    }\n",
       "\n",
       "    .dataframe thead th {\n",
       "        text-align: right;\n",
       "    }\n",
       "</style>\n",
       "<table border=\"1\" class=\"dataframe\">\n",
       "  <thead>\n",
       "    <tr style=\"text-align: right;\">\n",
       "      <th></th>\n",
       "      <th>id</th>\n",
       "      <th>message_date</th>\n",
       "      <th>user_id</th>\n",
       "    </tr>\n",
       "  </thead>\n",
       "  <tbody>\n",
       "    <tr>\n",
       "      <th>0</th>\n",
       "      <td>1000_0</td>\n",
       "      <td>2018-06-27</td>\n",
       "      <td>1000</td>\n",
       "    </tr>\n",
       "    <tr>\n",
       "      <th>1</th>\n",
       "      <td>1000_1</td>\n",
       "      <td>2018-10-08</td>\n",
       "      <td>1000</td>\n",
       "    </tr>\n",
       "    <tr>\n",
       "      <th>2</th>\n",
       "      <td>1000_2</td>\n",
       "      <td>2018-08-04</td>\n",
       "      <td>1000</td>\n",
       "    </tr>\n",
       "    <tr>\n",
       "      <th>3</th>\n",
       "      <td>1000_3</td>\n",
       "      <td>2018-06-16</td>\n",
       "      <td>1000</td>\n",
       "    </tr>\n",
       "    <tr>\n",
       "      <th>4</th>\n",
       "      <td>1000_4</td>\n",
       "      <td>2018-12-05</td>\n",
       "      <td>1000</td>\n",
       "    </tr>\n",
       "    <tr>\n",
       "      <th>5</th>\n",
       "      <td>1000_5</td>\n",
       "      <td>2018-06-20</td>\n",
       "      <td>1000</td>\n",
       "    </tr>\n",
       "    <tr>\n",
       "      <th>6</th>\n",
       "      <td>1000_6</td>\n",
       "      <td>2018-11-19</td>\n",
       "      <td>1000</td>\n",
       "    </tr>\n",
       "    <tr>\n",
       "      <th>7</th>\n",
       "      <td>1000_7</td>\n",
       "      <td>2018-10-29</td>\n",
       "      <td>1000</td>\n",
       "    </tr>\n",
       "    <tr>\n",
       "      <th>8</th>\n",
       "      <td>1000_8</td>\n",
       "      <td>2018-06-25</td>\n",
       "      <td>1000</td>\n",
       "    </tr>\n",
       "    <tr>\n",
       "      <th>9</th>\n",
       "      <td>1000_9</td>\n",
       "      <td>2018-12-18</td>\n",
       "      <td>1000</td>\n",
       "    </tr>\n",
       "  </tbody>\n",
       "</table>\n",
       "</div>"
      ],
      "text/plain": [
       "       id message_date  user_id\n",
       "0  1000_0   2018-06-27     1000\n",
       "1  1000_1   2018-10-08     1000\n",
       "2  1000_2   2018-08-04     1000\n",
       "3  1000_3   2018-06-16     1000\n",
       "4  1000_4   2018-12-05     1000\n",
       "5  1000_5   2018-06-20     1000\n",
       "6  1000_6   2018-11-19     1000\n",
       "7  1000_7   2018-10-29     1000\n",
       "8  1000_8   2018-06-25     1000\n",
       "9  1000_9   2018-12-18     1000"
      ]
     },
     "metadata": {},
     "output_type": "display_data"
    },
    {
     "name": "stdout",
     "output_type": "stream",
     "text": [
      "<class 'pandas.core.frame.DataFrame'>\n",
      "RangeIndex: 123036 entries, 0 to 123035\n",
      "Data columns (total 3 columns):\n",
      " #   Column        Non-Null Count   Dtype \n",
      "---  ------        --------------   ----- \n",
      " 0   id            123036 non-null  object\n",
      " 1   message_date  123036 non-null  object\n",
      " 2   user_id       123036 non-null  int64 \n",
      "dtypes: int64(1), object(2)\n",
      "memory usage: 2.8+ MB\n"
     ]
    }
   ],
   "source": [
    "messages = pd.read_csv('/datasets/messages.csv')\n",
    "#messages.to_csv('messages.csv', index = False)\n",
    "display(messages.head(10))\n",
    "messages.info()"
   ]
  },
  {
   "cell_type": "markdown",
   "metadata": {},
   "source": [
    "В этой таблице нет пропусков данных."
   ]
  },
  {
   "cell_type": "code",
   "execution_count": 6,
   "metadata": {},
   "outputs": [
    {
     "data": {
      "text/html": [
       "<div>\n",
       "<style scoped>\n",
       "    .dataframe tbody tr th:only-of-type {\n",
       "        vertical-align: middle;\n",
       "    }\n",
       "\n",
       "    .dataframe tbody tr th {\n",
       "        vertical-align: top;\n",
       "    }\n",
       "\n",
       "    .dataframe thead th {\n",
       "        text-align: right;\n",
       "    }\n",
       "</style>\n",
       "<table border=\"1\" class=\"dataframe\">\n",
       "  <thead>\n",
       "    <tr style=\"text-align: right;\">\n",
       "      <th></th>\n",
       "      <th>user_id</th>\n",
       "    </tr>\n",
       "  </thead>\n",
       "  <tbody>\n",
       "    <tr>\n",
       "      <th>count</th>\n",
       "      <td>123036.000000</td>\n",
       "    </tr>\n",
       "    <tr>\n",
       "      <th>mean</th>\n",
       "      <td>1256.989410</td>\n",
       "    </tr>\n",
       "    <tr>\n",
       "      <th>std</th>\n",
       "      <td>143.523967</td>\n",
       "    </tr>\n",
       "    <tr>\n",
       "      <th>min</th>\n",
       "      <td>1000.000000</td>\n",
       "    </tr>\n",
       "    <tr>\n",
       "      <th>25%</th>\n",
       "      <td>1134.000000</td>\n",
       "    </tr>\n",
       "    <tr>\n",
       "      <th>50%</th>\n",
       "      <td>1271.000000</td>\n",
       "    </tr>\n",
       "    <tr>\n",
       "      <th>75%</th>\n",
       "      <td>1381.000000</td>\n",
       "    </tr>\n",
       "    <tr>\n",
       "      <th>max</th>\n",
       "      <td>1499.000000</td>\n",
       "    </tr>\n",
       "  </tbody>\n",
       "</table>\n",
       "</div>"
      ],
      "text/plain": [
       "             user_id\n",
       "count  123036.000000\n",
       "mean     1256.989410\n",
       "std       143.523967\n",
       "min      1000.000000\n",
       "25%      1134.000000\n",
       "50%      1271.000000\n",
       "75%      1381.000000\n",
       "max      1499.000000"
      ]
     },
     "execution_count": 6,
     "metadata": {},
     "output_type": "execute_result"
    }
   ],
   "source": [
    "messages.describe()"
   ]
  },
  {
   "cell_type": "code",
   "execution_count": 7,
   "metadata": {},
   "outputs": [
    {
     "data": {
      "text/html": [
       "<div>\n",
       "<style scoped>\n",
       "    .dataframe tbody tr th:only-of-type {\n",
       "        vertical-align: middle;\n",
       "    }\n",
       "\n",
       "    .dataframe tbody tr th {\n",
       "        vertical-align: top;\n",
       "    }\n",
       "\n",
       "    .dataframe thead th {\n",
       "        text-align: right;\n",
       "    }\n",
       "</style>\n",
       "<table border=\"1\" class=\"dataframe\">\n",
       "  <thead>\n",
       "    <tr style=\"text-align: right;\">\n",
       "      <th></th>\n",
       "      <th>messages_included</th>\n",
       "      <th>mb_per_month_included</th>\n",
       "      <th>minutes_included</th>\n",
       "      <th>rub_monthly_fee</th>\n",
       "      <th>rub_per_gb</th>\n",
       "      <th>rub_per_message</th>\n",
       "      <th>rub_per_minute</th>\n",
       "      <th>tariff_name</th>\n",
       "      <th>gb_included</th>\n",
       "    </tr>\n",
       "  </thead>\n",
       "  <tbody>\n",
       "    <tr>\n",
       "      <th>0</th>\n",
       "      <td>50</td>\n",
       "      <td>15360</td>\n",
       "      <td>500</td>\n",
       "      <td>550</td>\n",
       "      <td>200</td>\n",
       "      <td>3</td>\n",
       "      <td>3</td>\n",
       "      <td>smart</td>\n",
       "      <td>15</td>\n",
       "    </tr>\n",
       "    <tr>\n",
       "      <th>1</th>\n",
       "      <td>1000</td>\n",
       "      <td>30720</td>\n",
       "      <td>3000</td>\n",
       "      <td>1950</td>\n",
       "      <td>150</td>\n",
       "      <td>1</td>\n",
       "      <td>1</td>\n",
       "      <td>ultra</td>\n",
       "      <td>30</td>\n",
       "    </tr>\n",
       "  </tbody>\n",
       "</table>\n",
       "</div>"
      ],
      "text/plain": [
       "   messages_included  mb_per_month_included  minutes_included  \\\n",
       "0                 50                  15360               500   \n",
       "1               1000                  30720              3000   \n",
       "\n",
       "   rub_monthly_fee  rub_per_gb  rub_per_message  rub_per_minute tariff_name  \\\n",
       "0              550         200                3               3       smart   \n",
       "1             1950         150                1               1       ultra   \n",
       "\n",
       "   gb_included  \n",
       "0           15  \n",
       "1           30  "
      ]
     },
     "metadata": {},
     "output_type": "display_data"
    },
    {
     "name": "stdout",
     "output_type": "stream",
     "text": [
      "<class 'pandas.core.frame.DataFrame'>\n",
      "RangeIndex: 2 entries, 0 to 1\n",
      "Data columns (total 9 columns):\n",
      " #   Column                 Non-Null Count  Dtype \n",
      "---  ------                 --------------  ----- \n",
      " 0   messages_included      2 non-null      int64 \n",
      " 1   mb_per_month_included  2 non-null      int64 \n",
      " 2   minutes_included       2 non-null      int64 \n",
      " 3   rub_monthly_fee        2 non-null      int64 \n",
      " 4   rub_per_gb             2 non-null      int64 \n",
      " 5   rub_per_message        2 non-null      int64 \n",
      " 6   rub_per_minute         2 non-null      int64 \n",
      " 7   tariff_name            2 non-null      object\n",
      " 8   gb_included            2 non-null      int64 \n",
      "dtypes: int64(8), object(1)\n",
      "memory usage: 272.0+ bytes\n"
     ]
    }
   ],
   "source": [
    "tariffs = pd.read_csv('/datasets/tariffs.csv')\n",
    "#tariffs.to_csv('tariffs.csv', index = False)\n",
    "tariffs['gb_included']=np.ceil(tariffs['mb_per_month_included'] / 1024).astype(int)\n",
    "display(tariffs.head(10))\n",
    "tariffs.info()"
   ]
  },
  {
   "cell_type": "markdown",
   "metadata": {},
   "source": [
    "Вывод: Таблица не требует обработки"
   ]
  },
  {
   "cell_type": "code",
   "execution_count": 8,
   "metadata": {},
   "outputs": [
    {
     "data": {
      "text/html": [
       "<div>\n",
       "<style scoped>\n",
       "    .dataframe tbody tr th:only-of-type {\n",
       "        vertical-align: middle;\n",
       "    }\n",
       "\n",
       "    .dataframe tbody tr th {\n",
       "        vertical-align: top;\n",
       "    }\n",
       "\n",
       "    .dataframe thead th {\n",
       "        text-align: right;\n",
       "    }\n",
       "</style>\n",
       "<table border=\"1\" class=\"dataframe\">\n",
       "  <thead>\n",
       "    <tr style=\"text-align: right;\">\n",
       "      <th></th>\n",
       "      <th>user_id</th>\n",
       "      <th>age</th>\n",
       "      <th>churn_date</th>\n",
       "      <th>city</th>\n",
       "      <th>first_name</th>\n",
       "      <th>last_name</th>\n",
       "      <th>reg_date</th>\n",
       "      <th>tariff</th>\n",
       "    </tr>\n",
       "  </thead>\n",
       "  <tbody>\n",
       "    <tr>\n",
       "      <th>0</th>\n",
       "      <td>1000</td>\n",
       "      <td>52</td>\n",
       "      <td>NaN</td>\n",
       "      <td>Краснодар</td>\n",
       "      <td>Рафаил</td>\n",
       "      <td>Верещагин</td>\n",
       "      <td>2018-05-25</td>\n",
       "      <td>ultra</td>\n",
       "    </tr>\n",
       "    <tr>\n",
       "      <th>1</th>\n",
       "      <td>1001</td>\n",
       "      <td>41</td>\n",
       "      <td>NaN</td>\n",
       "      <td>Москва</td>\n",
       "      <td>Иван</td>\n",
       "      <td>Ежов</td>\n",
       "      <td>2018-11-01</td>\n",
       "      <td>smart</td>\n",
       "    </tr>\n",
       "    <tr>\n",
       "      <th>2</th>\n",
       "      <td>1002</td>\n",
       "      <td>59</td>\n",
       "      <td>NaN</td>\n",
       "      <td>Стерлитамак</td>\n",
       "      <td>Евгений</td>\n",
       "      <td>Абрамович</td>\n",
       "      <td>2018-06-17</td>\n",
       "      <td>smart</td>\n",
       "    </tr>\n",
       "    <tr>\n",
       "      <th>3</th>\n",
       "      <td>1003</td>\n",
       "      <td>23</td>\n",
       "      <td>NaN</td>\n",
       "      <td>Москва</td>\n",
       "      <td>Белла</td>\n",
       "      <td>Белякова</td>\n",
       "      <td>2018-08-17</td>\n",
       "      <td>ultra</td>\n",
       "    </tr>\n",
       "    <tr>\n",
       "      <th>4</th>\n",
       "      <td>1004</td>\n",
       "      <td>68</td>\n",
       "      <td>NaN</td>\n",
       "      <td>Новокузнецк</td>\n",
       "      <td>Татьяна</td>\n",
       "      <td>Авдеенко</td>\n",
       "      <td>2018-05-14</td>\n",
       "      <td>ultra</td>\n",
       "    </tr>\n",
       "    <tr>\n",
       "      <th>5</th>\n",
       "      <td>1005</td>\n",
       "      <td>67</td>\n",
       "      <td>NaN</td>\n",
       "      <td>Набережные Челны</td>\n",
       "      <td>Афанасий</td>\n",
       "      <td>Горлов</td>\n",
       "      <td>2018-01-25</td>\n",
       "      <td>smart</td>\n",
       "    </tr>\n",
       "    <tr>\n",
       "      <th>6</th>\n",
       "      <td>1006</td>\n",
       "      <td>21</td>\n",
       "      <td>NaN</td>\n",
       "      <td>Ульяновск</td>\n",
       "      <td>Леонид</td>\n",
       "      <td>Ермолаев</td>\n",
       "      <td>2018-02-26</td>\n",
       "      <td>smart</td>\n",
       "    </tr>\n",
       "    <tr>\n",
       "      <th>7</th>\n",
       "      <td>1007</td>\n",
       "      <td>65</td>\n",
       "      <td>NaN</td>\n",
       "      <td>Москва</td>\n",
       "      <td>Юна</td>\n",
       "      <td>Березина</td>\n",
       "      <td>2018-04-19</td>\n",
       "      <td>smart</td>\n",
       "    </tr>\n",
       "    <tr>\n",
       "      <th>8</th>\n",
       "      <td>1008</td>\n",
       "      <td>63</td>\n",
       "      <td>NaN</td>\n",
       "      <td>Челябинск</td>\n",
       "      <td>Рустэм</td>\n",
       "      <td>Пономарёв</td>\n",
       "      <td>2018-12-19</td>\n",
       "      <td>smart</td>\n",
       "    </tr>\n",
       "    <tr>\n",
       "      <th>9</th>\n",
       "      <td>1009</td>\n",
       "      <td>24</td>\n",
       "      <td>NaN</td>\n",
       "      <td>Пермь</td>\n",
       "      <td>Василиса</td>\n",
       "      <td>Блинова</td>\n",
       "      <td>2018-03-22</td>\n",
       "      <td>smart</td>\n",
       "    </tr>\n",
       "  </tbody>\n",
       "</table>\n",
       "</div>"
      ],
      "text/plain": [
       "   user_id  age churn_date              city first_name  last_name  \\\n",
       "0     1000   52        NaN         Краснодар     Рафаил  Верещагин   \n",
       "1     1001   41        NaN            Москва       Иван       Ежов   \n",
       "2     1002   59        NaN       Стерлитамак    Евгений  Абрамович   \n",
       "3     1003   23        NaN            Москва      Белла   Белякова   \n",
       "4     1004   68        NaN       Новокузнецк    Татьяна   Авдеенко   \n",
       "5     1005   67        NaN  Набережные Челны   Афанасий     Горлов   \n",
       "6     1006   21        NaN         Ульяновск     Леонид   Ермолаев   \n",
       "7     1007   65        NaN            Москва        Юна   Березина   \n",
       "8     1008   63        NaN         Челябинск     Рустэм  Пономарёв   \n",
       "9     1009   24        NaN             Пермь   Василиса    Блинова   \n",
       "\n",
       "     reg_date tariff  \n",
       "0  2018-05-25  ultra  \n",
       "1  2018-11-01  smart  \n",
       "2  2018-06-17  smart  \n",
       "3  2018-08-17  ultra  \n",
       "4  2018-05-14  ultra  \n",
       "5  2018-01-25  smart  \n",
       "6  2018-02-26  smart  \n",
       "7  2018-04-19  smart  \n",
       "8  2018-12-19  smart  \n",
       "9  2018-03-22  smart  "
      ]
     },
     "metadata": {},
     "output_type": "display_data"
    },
    {
     "name": "stdout",
     "output_type": "stream",
     "text": [
      "0\n",
      "<class 'pandas.core.frame.DataFrame'>\n",
      "RangeIndex: 500 entries, 0 to 499\n",
      "Data columns (total 8 columns):\n",
      " #   Column      Non-Null Count  Dtype \n",
      "---  ------      --------------  ----- \n",
      " 0   user_id     500 non-null    int64 \n",
      " 1   age         500 non-null    int64 \n",
      " 2   churn_date  38 non-null     object\n",
      " 3   city        500 non-null    object\n",
      " 4   first_name  500 non-null    object\n",
      " 5   last_name   500 non-null    object\n",
      " 6   reg_date    500 non-null    object\n",
      " 7   tariff      500 non-null    object\n",
      "dtypes: int64(2), object(6)\n",
      "memory usage: 31.4+ KB\n"
     ]
    }
   ],
   "source": [
    "users = pd.read_csv('/datasets/users.csv')\n",
    "#users.to_csv('users.csv', index = False)\n",
    "display(users.head(10))\n",
    "users['last_name'].unique() \n",
    "print(users.duplicated().sum())\n",
    "users.info()"
   ]
  },
  {
   "cell_type": "markdown",
   "metadata": {},
   "source": [
    "Пропуск данных в столбце \"churn_date\", заполнять не нужно, так как соответствует условию, что заполнено только для тех пользователей, которые прекратили пользоваться тарифом"
   ]
  },
  {
   "cell_type": "markdown",
   "metadata": {},
   "source": [
    "#### Шаг 2. Подготовка данных"
   ]
  },
  {
   "cell_type": "code",
   "execution_count": 9,
   "metadata": {},
   "outputs": [],
   "source": [
    "calls['call_date'] = pd.to_datetime(calls['call_date'],format = '%Y-%m-%d', errors ='coerce')\n",
    "internet['session_date'] = pd.to_datetime(internet['session_date'],format = '%Y-%m-%d', errors ='coerce')\n",
    "messages['message_date'] = pd.to_datetime(messages['message_date'],format = '%Y-%m-%d', errors ='coerce')\n",
    "users['reg_date'] = pd.to_datetime(users['reg_date'],format = '%Y-%m-%d', errors ='coerce')\n",
    "months = [\"Jan\", \"Feb\", \"Mar\", \"Apr\", \"May\", \"Jun\", \"Jul\",\"Aug\", \"Sep\", \"Oct\", \"Nov\", \"Dec\"] # месяцы для создания таблиц\n",
    "users['user_id'] = np.ceil(users['user_id']).astype('str')"
   ]
  },
  {
   "cell_type": "markdown",
   "metadata": {},
   "source": [
    "Найдем и исправим ошибки в данных, если они есть."
   ]
  },
  {
   "cell_type": "code",
   "execution_count": 10,
   "metadata": {},
   "outputs": [],
   "source": [
    "internet.drop('Unnamed: 0', axis = 1, inplace = True) #убрали неинформативный столбец"
   ]
  },
  {
   "cell_type": "code",
   "execution_count": 11,
   "metadata": {},
   "outputs": [],
   "source": [
    "#исключим строки, когда вход в интернет был зафиксирован, но трафика не было:\n",
    "internet.query('mb_used == 0').count() \n",
    "internet = internet.query('mb_used != 0')"
   ]
  },
  {
   "cell_type": "code",
   "execution_count": 12,
   "metadata": {},
   "outputs": [],
   "source": [
    "#Посмотрим строки, когда звонок был пропущен, но был зафиксирован:\n",
    "calls.query('duration == 0').count()\n",
    "calls = calls.query('duration != 0')"
   ]
  },
  {
   "cell_type": "code",
   "execution_count": 13,
   "metadata": {},
   "outputs": [
    {
     "name": "stdout",
     "output_type": "stream",
     "text": [
      "Звонили 492\n",
      "Писали 426\n",
      "Пользовались интернетом 497\n"
     ]
    }
   ],
   "source": [
    "print('Звонили', calls['user_id'].nunique())\n",
    "print('Писали', messages['user_id'].nunique())\n",
    "print('Пользовались интернетом', internet['user_id'].nunique())"
   ]
  },
  {
   "cell_type": "markdown",
   "metadata": {},
   "source": [
    "Таким образом, среди всех клиентов не пользовались интернетом 3 человека, не звонили 8, не писали 74. В большей степени, клиенты используют интернет-услугу."
   ]
  },
  {
   "cell_type": "markdown",
   "metadata": {},
   "source": [
    "Создадим дополнительные столбцы с данными по месяцам для дальнейшего анализа"
   ]
  },
  {
   "cell_type": "code",
   "execution_count": 14,
   "metadata": {},
   "outputs": [],
   "source": [
    "calls['month'] = calls['call_date'].dt.month\n",
    "internet['month'] = internet['session_date'].dt.month\n",
    "messages['month'] = messages['message_date'].dt.month\n",
    "#data_final = pd.merge(left, on=['user_id', 'month'])\n",
    "#display(data_final)"
   ]
  },
  {
   "cell_type": "markdown",
   "metadata": {},
   "source": [
    "Посчитаем для каждого пользователя количество сделанных звонков и израсходованных минут разговора по месяцам\n",
    "    "
   ]
  },
  {
   "cell_type": "code",
   "execution_count": 15,
   "metadata": {},
   "outputs": [
    {
     "data": {
      "text/html": [
       "<div>\n",
       "<style scoped>\n",
       "    .dataframe tbody tr th:only-of-type {\n",
       "        vertical-align: middle;\n",
       "    }\n",
       "\n",
       "    .dataframe tbody tr th {\n",
       "        vertical-align: top;\n",
       "    }\n",
       "\n",
       "    .dataframe thead th {\n",
       "        text-align: right;\n",
       "    }\n",
       "</style>\n",
       "<table border=\"1\" class=\"dataframe\">\n",
       "  <thead>\n",
       "    <tr style=\"text-align: right;\">\n",
       "      <th></th>\n",
       "      <th>user_id</th>\n",
       "      <th>month</th>\n",
       "      <th>calls_count</th>\n",
       "      <th>calls_sum</th>\n",
       "      <th>tariff</th>\n",
       "    </tr>\n",
       "  </thead>\n",
       "  <tbody>\n",
       "    <tr>\n",
       "      <th>0</th>\n",
       "      <td>1000.0</td>\n",
       "      <td>5</td>\n",
       "      <td>17</td>\n",
       "      <td>159</td>\n",
       "      <td>ultra</td>\n",
       "    </tr>\n",
       "    <tr>\n",
       "      <th>1</th>\n",
       "      <td>1000.0</td>\n",
       "      <td>6</td>\n",
       "      <td>28</td>\n",
       "      <td>172</td>\n",
       "      <td>ultra</td>\n",
       "    </tr>\n",
       "    <tr>\n",
       "      <th>2</th>\n",
       "      <td>1000.0</td>\n",
       "      <td>7</td>\n",
       "      <td>41</td>\n",
       "      <td>340</td>\n",
       "      <td>ultra</td>\n",
       "    </tr>\n",
       "    <tr>\n",
       "      <th>3</th>\n",
       "      <td>1000.0</td>\n",
       "      <td>8</td>\n",
       "      <td>42</td>\n",
       "      <td>408</td>\n",
       "      <td>ultra</td>\n",
       "    </tr>\n",
       "    <tr>\n",
       "      <th>4</th>\n",
       "      <td>1000.0</td>\n",
       "      <td>9</td>\n",
       "      <td>46</td>\n",
       "      <td>466</td>\n",
       "      <td>ultra</td>\n",
       "    </tr>\n",
       "  </tbody>\n",
       "</table>\n",
       "</div>"
      ],
      "text/plain": [
       "  user_id  month  calls_count  calls_sum tariff\n",
       "0  1000.0      5           17        159  ultra\n",
       "1  1000.0      6           28        172  ultra\n",
       "2  1000.0      7           41        340  ultra\n",
       "3  1000.0      8           42        408  ultra\n",
       "4  1000.0      9           46        466  ultra"
      ]
     },
     "execution_count": 15,
     "metadata": {},
     "output_type": "execute_result"
    }
   ],
   "source": [
    "#для округления звонков \n",
    "calls['duration'] = np.ceil(calls['duration']).astype(int)\n",
    "#число звонков в месяц по пользователям\n",
    "calls_month = calls.pivot_table(index=['user_id', 'month'], values='duration', aggfunc=['count', 'sum']).reset_index()\n",
    "calls_month.columns = ['user_id', 'month', 'calls_count', 'calls_sum']\n",
    "calls_month['user_id'] = np.ceil(calls_month['user_id']).astype('str')\n",
    "calls_month=calls_month.merge(users[['user_id', 'tariff']], on = 'user_id')\n",
    "#calls_month['month'] = calls_month['month'].replace[month for month in months]\n",
    "calls_month.head()\n",
    "#count_calls_month = calls.pivot_table(index ='user_id', columns = 'month', values = 'duration', aggfunc = 'count')\n",
    "#count_calls_month.columns = [\"cou_cal_\"+month for month in months]\n",
    "#count_calls_month = count_calls_month.reset_index()\n",
    "#count_calls_month = count_calls_month.merge(users[['user_id', 'tariff']], on = 'user_id')\n",
    "#count_calls_month = count_calls_month.fillna(0)\n",
    "#count_calls_month['user_id'] = np.ceil(count_calls_month['user_id']).astype(objs)\n",
    "#count_calls_month.head(10)"
   ]
  },
  {
   "cell_type": "markdown",
   "metadata": {},
   "source": [
    "#суммарная длительность звонков за месяц\n",
    "calls_month = calls.pivot_table(index='user_id', columns='month', values='duration', aggfunc='sum')\n",
    "calls_month.columns = [\"cal_\"+month for month in months]\n",
    "calls_month = calls_month.reset_index()\n",
    "#calls_month=calls_month.merge(users[['user_id', 'tariff']], on = 'user_id')\n",
    "calls_month = calls_month.fillna(0)\n",
    "calls_month['user_id'] = np.ceil(calls_month['user_id']).astype('str')\n",
    "calls_month['cal_mean']=calls_month.mean(axis=1)\n",
    "calls_month.head(10)"
   ]
  },
  {
   "cell_type": "code",
   "execution_count": 16,
   "metadata": {},
   "outputs": [],
   "source": [
    "#calls = calls.pivot_table(index=['user_id', 'month'], values='duration', aggfunc=['count', 'sum']).reset_index()\n",
    "#calls.columns = ['user_id', 'month', 'calls_count', 'calls_sum']\n",
    "#calls.head()"
   ]
  },
  {
   "cell_type": "markdown",
   "metadata": {},
   "source": [
    "Посчитаем для каждого пользователя количество отправленных сообщений по месяцам"
   ]
  },
  {
   "cell_type": "code",
   "execution_count": 17,
   "metadata": {},
   "outputs": [
    {
     "name": "stderr",
     "output_type": "stream",
     "text": [
      "/tmp/ipykernel_1346/1702171342.py:8: DeprecationWarning: `np.int` is a deprecated alias for the builtin `int`. To silence this warning, use `int` by itself. Doing this will not modify any behavior and is safe. When replacing `np.int`, you may wish to use e.g. `np.int64` or `np.int32` to specify the precision. If you wish to review your current use, check the release note link for additional information.\n",
      "Deprecated in NumPy 1.20; for more details and guidance: https://numpy.org/devdocs/release/1.20.0-notes.html#deprecations\n",
      "  messages_month = messages_month.astype(np.int)\n"
     ]
    },
    {
     "data": {
      "text/html": [
       "<div>\n",
       "<style scoped>\n",
       "    .dataframe tbody tr th:only-of-type {\n",
       "        vertical-align: middle;\n",
       "    }\n",
       "\n",
       "    .dataframe tbody tr th {\n",
       "        vertical-align: top;\n",
       "    }\n",
       "\n",
       "    .dataframe thead th {\n",
       "        text-align: right;\n",
       "    }\n",
       "</style>\n",
       "<table border=\"1\" class=\"dataframe\">\n",
       "  <thead>\n",
       "    <tr style=\"text-align: right;\">\n",
       "      <th></th>\n",
       "      <th>user_id</th>\n",
       "      <th>month</th>\n",
       "      <th>messages_count</th>\n",
       "      <th>tariff</th>\n",
       "    </tr>\n",
       "  </thead>\n",
       "  <tbody>\n",
       "    <tr>\n",
       "      <th>0</th>\n",
       "      <td>1000.0</td>\n",
       "      <td>5</td>\n",
       "      <td>22</td>\n",
       "      <td>ultra</td>\n",
       "    </tr>\n",
       "    <tr>\n",
       "      <th>1</th>\n",
       "      <td>1000.0</td>\n",
       "      <td>6</td>\n",
       "      <td>60</td>\n",
       "      <td>ultra</td>\n",
       "    </tr>\n",
       "    <tr>\n",
       "      <th>2</th>\n",
       "      <td>1000.0</td>\n",
       "      <td>7</td>\n",
       "      <td>75</td>\n",
       "      <td>ultra</td>\n",
       "    </tr>\n",
       "    <tr>\n",
       "      <th>3</th>\n",
       "      <td>1000.0</td>\n",
       "      <td>8</td>\n",
       "      <td>81</td>\n",
       "      <td>ultra</td>\n",
       "    </tr>\n",
       "    <tr>\n",
       "      <th>4</th>\n",
       "      <td>1000.0</td>\n",
       "      <td>9</td>\n",
       "      <td>57</td>\n",
       "      <td>ultra</td>\n",
       "    </tr>\n",
       "    <tr>\n",
       "      <th>5</th>\n",
       "      <td>1000.0</td>\n",
       "      <td>10</td>\n",
       "      <td>73</td>\n",
       "      <td>ultra</td>\n",
       "    </tr>\n",
       "    <tr>\n",
       "      <th>6</th>\n",
       "      <td>1000.0</td>\n",
       "      <td>11</td>\n",
       "      <td>58</td>\n",
       "      <td>ultra</td>\n",
       "    </tr>\n",
       "    <tr>\n",
       "      <th>7</th>\n",
       "      <td>1000.0</td>\n",
       "      <td>12</td>\n",
       "      <td>70</td>\n",
       "      <td>ultra</td>\n",
       "    </tr>\n",
       "    <tr>\n",
       "      <th>8</th>\n",
       "      <td>1002.0</td>\n",
       "      <td>6</td>\n",
       "      <td>4</td>\n",
       "      <td>smart</td>\n",
       "    </tr>\n",
       "    <tr>\n",
       "      <th>9</th>\n",
       "      <td>1002.0</td>\n",
       "      <td>7</td>\n",
       "      <td>11</td>\n",
       "      <td>smart</td>\n",
       "    </tr>\n",
       "  </tbody>\n",
       "</table>\n",
       "</div>"
      ],
      "text/plain": [
       "  user_id  month  messages_count tariff\n",
       "0  1000.0      5              22  ultra\n",
       "1  1000.0      6              60  ultra\n",
       "2  1000.0      7              75  ultra\n",
       "3  1000.0      8              81  ultra\n",
       "4  1000.0      9              57  ultra\n",
       "5  1000.0     10              73  ultra\n",
       "6  1000.0     11              58  ultra\n",
       "7  1000.0     12              70  ultra\n",
       "8  1002.0      6               4  smart\n",
       "9  1002.0      7              11  smart"
      ]
     },
     "execution_count": 17,
     "metadata": {},
     "output_type": "execute_result"
    }
   ],
   "source": [
    "messages_month = messages.pivot_table(index=['user_id', 'month'], values='id', aggfunc=['count']).reset_index()\n",
    "messages_month.columns = ['user_id', 'month', 'messages_count']\n",
    "messages_month.head()\n",
    "#calls_month=calls_month.merge(users[['user_id', 'tariff']], on = 'user_id')\n",
    "#messages_month = messages.pivot_table(index='user_id', columns='month', values='id', aggfunc='count')\n",
    "#messages_month.columns = [\"mes_\"+month for month in months]\n",
    "#messages_month = messages_month.reset_index()\n",
    "messages_month = messages_month.astype(np.int)\n",
    "messages_month['user_id'] = np.ceil(messages_month['user_id']).astype('str')\n",
    "messages_month=messages_month.merge(users[['user_id', 'tariff']], on = 'user_id')\n",
    "#messages_month = messages_month.fillna(0)\n",
    "#messages_month['mes_mean']=messages_month.mean(axis=1)\n",
    "messages_month.head(10)"
   ]
  },
  {
   "cell_type": "markdown",
   "metadata": {},
   "source": [
    "Посчитаем для каждого пользователя объем израсходованного интернет-трафика по месяцам"
   ]
  },
  {
   "cell_type": "code",
   "execution_count": 18,
   "metadata": {},
   "outputs": [
    {
     "data": {
      "text/html": [
       "<div>\n",
       "<style scoped>\n",
       "    .dataframe tbody tr th:only-of-type {\n",
       "        vertical-align: middle;\n",
       "    }\n",
       "\n",
       "    .dataframe tbody tr th {\n",
       "        vertical-align: top;\n",
       "    }\n",
       "\n",
       "    .dataframe thead th {\n",
       "        text-align: right;\n",
       "    }\n",
       "</style>\n",
       "<table border=\"1\" class=\"dataframe\">\n",
       "  <thead>\n",
       "    <tr style=\"text-align: right;\">\n",
       "      <th></th>\n",
       "      <th>user_id</th>\n",
       "      <th>month</th>\n",
       "      <th>internet_sum</th>\n",
       "      <th>tariff</th>\n",
       "    </tr>\n",
       "  </thead>\n",
       "  <tbody>\n",
       "    <tr>\n",
       "      <th>0</th>\n",
       "      <td>1000.0</td>\n",
       "      <td>5</td>\n",
       "      <td>1.0</td>\n",
       "      <td>ultra</td>\n",
       "    </tr>\n",
       "    <tr>\n",
       "      <th>1</th>\n",
       "      <td>1000.0</td>\n",
       "      <td>6</td>\n",
       "      <td>2.0</td>\n",
       "      <td>ultra</td>\n",
       "    </tr>\n",
       "    <tr>\n",
       "      <th>2</th>\n",
       "      <td>1000.0</td>\n",
       "      <td>7</td>\n",
       "      <td>2.0</td>\n",
       "      <td>ultra</td>\n",
       "    </tr>\n",
       "    <tr>\n",
       "      <th>3</th>\n",
       "      <td>1000.0</td>\n",
       "      <td>8</td>\n",
       "      <td>1.0</td>\n",
       "      <td>ultra</td>\n",
       "    </tr>\n",
       "    <tr>\n",
       "      <th>4</th>\n",
       "      <td>1000.0</td>\n",
       "      <td>9</td>\n",
       "      <td>1.0</td>\n",
       "      <td>ultra</td>\n",
       "    </tr>\n",
       "    <tr>\n",
       "      <th>5</th>\n",
       "      <td>1000.0</td>\n",
       "      <td>10</td>\n",
       "      <td>1.0</td>\n",
       "      <td>ultra</td>\n",
       "    </tr>\n",
       "    <tr>\n",
       "      <th>6</th>\n",
       "      <td>1000.0</td>\n",
       "      <td>11</td>\n",
       "      <td>1.0</td>\n",
       "      <td>ultra</td>\n",
       "    </tr>\n",
       "    <tr>\n",
       "      <th>7</th>\n",
       "      <td>1000.0</td>\n",
       "      <td>12</td>\n",
       "      <td>1.0</td>\n",
       "      <td>ultra</td>\n",
       "    </tr>\n",
       "    <tr>\n",
       "      <th>8</th>\n",
       "      <td>1001.0</td>\n",
       "      <td>11</td>\n",
       "      <td>1.0</td>\n",
       "      <td>smart</td>\n",
       "    </tr>\n",
       "    <tr>\n",
       "      <th>9</th>\n",
       "      <td>1001.0</td>\n",
       "      <td>12</td>\n",
       "      <td>1.0</td>\n",
       "      <td>smart</td>\n",
       "    </tr>\n",
       "  </tbody>\n",
       "</table>\n",
       "</div>"
      ],
      "text/plain": [
       "  user_id  month  internet_sum tariff\n",
       "0  1000.0      5           1.0  ultra\n",
       "1  1000.0      6           2.0  ultra\n",
       "2  1000.0      7           2.0  ultra\n",
       "3  1000.0      8           1.0  ultra\n",
       "4  1000.0      9           1.0  ultra\n",
       "5  1000.0     10           1.0  ultra\n",
       "6  1000.0     11           1.0  ultra\n",
       "7  1000.0     12           1.0  ultra\n",
       "8  1001.0     11           1.0  smart\n",
       "9  1001.0     12           1.0  smart"
      ]
     },
     "execution_count": 18,
     "metadata": {},
     "output_type": "execute_result"
    }
   ],
   "source": [
    "internet_month = internet.pivot_table(index=['user_id', 'month'], values='mb_used', aggfunc=['sum']).reset_index()\n",
    "internet_month.columns = ['user_id', 'month', 'internet_sum']\n",
    "#для округления трафика \n",
    "internet_month['internet_sum'] = np.ceil(internet[\"mb_used\"] / 1024).astype(int)\n",
    "internet_month['user_id'] = np.ceil(internet_month['user_id']).astype('str')\n",
    "internet_month = internet_month.merge(users[['user_id', 'tariff']], on = 'user_id')\n",
    "#internet_month['int_mean']=internet_month.mean(axis=1)\n",
    "internet_month.head(10)"
   ]
  },
  {
   "cell_type": "markdown",
   "metadata": {},
   "source": [
    "Посчитаем для каждого пользователя помесячную выручку с каждого пользователя."
   ]
  },
  {
   "cell_type": "code",
   "execution_count": 19,
   "metadata": {},
   "outputs": [
    {
     "name": "stdout",
     "output_type": "stream",
     "text": [
      "<class 'pandas.core.frame.DataFrame'>\n",
      "Int64Index: 3214 entries, 0 to 3213\n",
      "Data columns (total 7 columns):\n",
      " #   Column          Non-Null Count  Dtype  \n",
      "---  ------          --------------  -----  \n",
      " 0   user_id         3214 non-null   object \n",
      " 1   month           3214 non-null   int64  \n",
      " 2   calls_count     3214 non-null   float64\n",
      " 3   calls_sum       3214 non-null   float64\n",
      " 4   messages_count  3214 non-null   float64\n",
      " 5   internet_sum    3214 non-null   float64\n",
      " 6   tariff          3214 non-null   object \n",
      "dtypes: float64(4), int64(1), object(2)\n",
      "memory usage: 200.9+ KB\n"
     ]
    },
    {
     "data": {
      "text/html": [
       "<div>\n",
       "<style scoped>\n",
       "    .dataframe tbody tr th:only-of-type {\n",
       "        vertical-align: middle;\n",
       "    }\n",
       "\n",
       "    .dataframe tbody tr th {\n",
       "        vertical-align: top;\n",
       "    }\n",
       "\n",
       "    .dataframe thead th {\n",
       "        text-align: right;\n",
       "    }\n",
       "</style>\n",
       "<table border=\"1\" class=\"dataframe\">\n",
       "  <thead>\n",
       "    <tr style=\"text-align: right;\">\n",
       "      <th></th>\n",
       "      <th>user_id</th>\n",
       "      <th>month</th>\n",
       "      <th>calls_count</th>\n",
       "      <th>calls_sum</th>\n",
       "      <th>messages_count</th>\n",
       "      <th>internet_sum</th>\n",
       "      <th>tariff</th>\n",
       "      <th>city</th>\n",
       "    </tr>\n",
       "  </thead>\n",
       "  <tbody>\n",
       "    <tr>\n",
       "      <th>0</th>\n",
       "      <td>1000.0</td>\n",
       "      <td>5.0</td>\n",
       "      <td>17.0</td>\n",
       "      <td>159.0</td>\n",
       "      <td>22.0</td>\n",
       "      <td>1.0</td>\n",
       "      <td>ultra</td>\n",
       "      <td>Краснодар</td>\n",
       "    </tr>\n",
       "    <tr>\n",
       "      <th>1</th>\n",
       "      <td>1000.0</td>\n",
       "      <td>6.0</td>\n",
       "      <td>28.0</td>\n",
       "      <td>172.0</td>\n",
       "      <td>60.0</td>\n",
       "      <td>2.0</td>\n",
       "      <td>ultra</td>\n",
       "      <td>Краснодар</td>\n",
       "    </tr>\n",
       "    <tr>\n",
       "      <th>2</th>\n",
       "      <td>1000.0</td>\n",
       "      <td>7.0</td>\n",
       "      <td>41.0</td>\n",
       "      <td>340.0</td>\n",
       "      <td>75.0</td>\n",
       "      <td>2.0</td>\n",
       "      <td>ultra</td>\n",
       "      <td>Краснодар</td>\n",
       "    </tr>\n",
       "    <tr>\n",
       "      <th>3</th>\n",
       "      <td>1000.0</td>\n",
       "      <td>8.0</td>\n",
       "      <td>42.0</td>\n",
       "      <td>408.0</td>\n",
       "      <td>81.0</td>\n",
       "      <td>1.0</td>\n",
       "      <td>ultra</td>\n",
       "      <td>Краснодар</td>\n",
       "    </tr>\n",
       "    <tr>\n",
       "      <th>4</th>\n",
       "      <td>1000.0</td>\n",
       "      <td>9.0</td>\n",
       "      <td>46.0</td>\n",
       "      <td>466.0</td>\n",
       "      <td>57.0</td>\n",
       "      <td>1.0</td>\n",
       "      <td>ultra</td>\n",
       "      <td>Краснодар</td>\n",
       "    </tr>\n",
       "    <tr>\n",
       "      <th>5</th>\n",
       "      <td>1000.0</td>\n",
       "      <td>10.0</td>\n",
       "      <td>44.0</td>\n",
       "      <td>350.0</td>\n",
       "      <td>73.0</td>\n",
       "      <td>1.0</td>\n",
       "      <td>ultra</td>\n",
       "      <td>Краснодар</td>\n",
       "    </tr>\n",
       "    <tr>\n",
       "      <th>6</th>\n",
       "      <td>1000.0</td>\n",
       "      <td>11.0</td>\n",
       "      <td>37.0</td>\n",
       "      <td>338.0</td>\n",
       "      <td>58.0</td>\n",
       "      <td>1.0</td>\n",
       "      <td>ultra</td>\n",
       "      <td>Краснодар</td>\n",
       "    </tr>\n",
       "    <tr>\n",
       "      <th>7</th>\n",
       "      <td>1000.0</td>\n",
       "      <td>12.0</td>\n",
       "      <td>38.0</td>\n",
       "      <td>333.0</td>\n",
       "      <td>70.0</td>\n",
       "      <td>1.0</td>\n",
       "      <td>ultra</td>\n",
       "      <td>Краснодар</td>\n",
       "    </tr>\n",
       "    <tr>\n",
       "      <th>8</th>\n",
       "      <td>1001.0</td>\n",
       "      <td>11.0</td>\n",
       "      <td>45.0</td>\n",
       "      <td>430.0</td>\n",
       "      <td>0.0</td>\n",
       "      <td>1.0</td>\n",
       "      <td>smart</td>\n",
       "      <td>Москва</td>\n",
       "    </tr>\n",
       "    <tr>\n",
       "      <th>9</th>\n",
       "      <td>1001.0</td>\n",
       "      <td>12.0</td>\n",
       "      <td>47.0</td>\n",
       "      <td>414.0</td>\n",
       "      <td>0.0</td>\n",
       "      <td>1.0</td>\n",
       "      <td>smart</td>\n",
       "      <td>Москва</td>\n",
       "    </tr>\n",
       "  </tbody>\n",
       "</table>\n",
       "</div>"
      ],
      "text/plain": [
       "  user_id  month  calls_count  calls_sum  messages_count  internet_sum tariff  \\\n",
       "0  1000.0    5.0         17.0      159.0            22.0           1.0  ultra   \n",
       "1  1000.0    6.0         28.0      172.0            60.0           2.0  ultra   \n",
       "2  1000.0    7.0         41.0      340.0            75.0           2.0  ultra   \n",
       "3  1000.0    8.0         42.0      408.0            81.0           1.0  ultra   \n",
       "4  1000.0    9.0         46.0      466.0            57.0           1.0  ultra   \n",
       "5  1000.0   10.0         44.0      350.0            73.0           1.0  ultra   \n",
       "6  1000.0   11.0         37.0      338.0            58.0           1.0  ultra   \n",
       "7  1000.0   12.0         38.0      333.0            70.0           1.0  ultra   \n",
       "8  1001.0   11.0         45.0      430.0             0.0           1.0  smart   \n",
       "9  1001.0   12.0         47.0      414.0             0.0           1.0  smart   \n",
       "\n",
       "        city  \n",
       "0  Краснодар  \n",
       "1  Краснодар  \n",
       "2  Краснодар  \n",
       "3  Краснодар  \n",
       "4  Краснодар  \n",
       "5  Краснодар  \n",
       "6  Краснодар  \n",
       "7  Краснодар  \n",
       "8     Москва  \n",
       "9     Москва  "
      ]
     },
     "execution_count": 19,
     "metadata": {},
     "output_type": "execute_result"
    }
   ],
   "source": [
    "#сделаем сборную таблицу данных\n",
    "data = [calls_month, messages_month, internet_month]\n",
    "data_mix = reduce(lambda left,right: pd.merge(left,right,on=['user_id', 'month'], how='outer'), data)\n",
    "data_mix=data_mix.drop(['tariff_x','tariff_y'], axis = 1)\n",
    "data_mix = data_mix.fillna(0)\n",
    "data_mix.info(10)\n",
    "#data_mix = calls_month.join(internet_month, on='month', how='outer')\n",
    "#data_mix.head(10)\n",
    "#data_mix = data_mix.merge(messages_month, on='user_id', how='outer')\n",
    "#data_mix = data_mix.merge(users[['user_id','tariff']], on='user_id', how='right')\n",
    "data_mix = data_mix.merge(users[['user_id','city']], on='user_id', how='right')\n",
    "data_mix.head(10)"
   ]
  },
  {
   "cell_type": "code",
   "execution_count": 20,
   "metadata": {},
   "outputs": [
    {
     "data": {
      "text/html": [
       "<div>\n",
       "<style scoped>\n",
       "    .dataframe tbody tr th:only-of-type {\n",
       "        vertical-align: middle;\n",
       "    }\n",
       "\n",
       "    .dataframe tbody tr th {\n",
       "        vertical-align: top;\n",
       "    }\n",
       "\n",
       "    .dataframe thead th {\n",
       "        text-align: right;\n",
       "    }\n",
       "</style>\n",
       "<table border=\"1\" class=\"dataframe\">\n",
       "  <thead>\n",
       "    <tr style=\"text-align: right;\">\n",
       "      <th></th>\n",
       "      <th>user_id</th>\n",
       "      <th>month</th>\n",
       "      <th>calls_count</th>\n",
       "      <th>calls_sum</th>\n",
       "      <th>messages_count</th>\n",
       "      <th>internet_sum</th>\n",
       "      <th>tariff</th>\n",
       "      <th>city</th>\n",
       "      <th>vyruchka</th>\n",
       "    </tr>\n",
       "  </thead>\n",
       "  <tbody>\n",
       "    <tr>\n",
       "      <th>0</th>\n",
       "      <td>1000.0</td>\n",
       "      <td>5.0</td>\n",
       "      <td>17.0</td>\n",
       "      <td>159.0</td>\n",
       "      <td>22.0</td>\n",
       "      <td>1.0</td>\n",
       "      <td>ultra</td>\n",
       "      <td>Краснодар</td>\n",
       "      <td>1950.0</td>\n",
       "    </tr>\n",
       "    <tr>\n",
       "      <th>1</th>\n",
       "      <td>1000.0</td>\n",
       "      <td>6.0</td>\n",
       "      <td>28.0</td>\n",
       "      <td>172.0</td>\n",
       "      <td>60.0</td>\n",
       "      <td>2.0</td>\n",
       "      <td>ultra</td>\n",
       "      <td>Краснодар</td>\n",
       "      <td>1950.0</td>\n",
       "    </tr>\n",
       "    <tr>\n",
       "      <th>2</th>\n",
       "      <td>1000.0</td>\n",
       "      <td>7.0</td>\n",
       "      <td>41.0</td>\n",
       "      <td>340.0</td>\n",
       "      <td>75.0</td>\n",
       "      <td>2.0</td>\n",
       "      <td>ultra</td>\n",
       "      <td>Краснодар</td>\n",
       "      <td>1950.0</td>\n",
       "    </tr>\n",
       "    <tr>\n",
       "      <th>3</th>\n",
       "      <td>1000.0</td>\n",
       "      <td>8.0</td>\n",
       "      <td>42.0</td>\n",
       "      <td>408.0</td>\n",
       "      <td>81.0</td>\n",
       "      <td>1.0</td>\n",
       "      <td>ultra</td>\n",
       "      <td>Краснодар</td>\n",
       "      <td>1950.0</td>\n",
       "    </tr>\n",
       "    <tr>\n",
       "      <th>4</th>\n",
       "      <td>1000.0</td>\n",
       "      <td>9.0</td>\n",
       "      <td>46.0</td>\n",
       "      <td>466.0</td>\n",
       "      <td>57.0</td>\n",
       "      <td>1.0</td>\n",
       "      <td>ultra</td>\n",
       "      <td>Краснодар</td>\n",
       "      <td>1950.0</td>\n",
       "    </tr>\n",
       "    <tr>\n",
       "      <th>5</th>\n",
       "      <td>1000.0</td>\n",
       "      <td>10.0</td>\n",
       "      <td>44.0</td>\n",
       "      <td>350.0</td>\n",
       "      <td>73.0</td>\n",
       "      <td>1.0</td>\n",
       "      <td>ultra</td>\n",
       "      <td>Краснодар</td>\n",
       "      <td>1950.0</td>\n",
       "    </tr>\n",
       "    <tr>\n",
       "      <th>6</th>\n",
       "      <td>1000.0</td>\n",
       "      <td>11.0</td>\n",
       "      <td>37.0</td>\n",
       "      <td>338.0</td>\n",
       "      <td>58.0</td>\n",
       "      <td>1.0</td>\n",
       "      <td>ultra</td>\n",
       "      <td>Краснодар</td>\n",
       "      <td>1950.0</td>\n",
       "    </tr>\n",
       "    <tr>\n",
       "      <th>7</th>\n",
       "      <td>1000.0</td>\n",
       "      <td>12.0</td>\n",
       "      <td>38.0</td>\n",
       "      <td>333.0</td>\n",
       "      <td>70.0</td>\n",
       "      <td>1.0</td>\n",
       "      <td>ultra</td>\n",
       "      <td>Краснодар</td>\n",
       "      <td>1950.0</td>\n",
       "    </tr>\n",
       "    <tr>\n",
       "      <th>8</th>\n",
       "      <td>1001.0</td>\n",
       "      <td>11.0</td>\n",
       "      <td>45.0</td>\n",
       "      <td>430.0</td>\n",
       "      <td>0.0</td>\n",
       "      <td>1.0</td>\n",
       "      <td>smart</td>\n",
       "      <td>Москва</td>\n",
       "      <td>550.0</td>\n",
       "    </tr>\n",
       "    <tr>\n",
       "      <th>9</th>\n",
       "      <td>1001.0</td>\n",
       "      <td>12.0</td>\n",
       "      <td>47.0</td>\n",
       "      <td>414.0</td>\n",
       "      <td>0.0</td>\n",
       "      <td>1.0</td>\n",
       "      <td>smart</td>\n",
       "      <td>Москва</td>\n",
       "      <td>550.0</td>\n",
       "    </tr>\n",
       "  </tbody>\n",
       "</table>\n",
       "</div>"
      ],
      "text/plain": [
       "  user_id  month  calls_count  calls_sum  messages_count  internet_sum tariff  \\\n",
       "0  1000.0    5.0         17.0      159.0            22.0           1.0  ultra   \n",
       "1  1000.0    6.0         28.0      172.0            60.0           2.0  ultra   \n",
       "2  1000.0    7.0         41.0      340.0            75.0           2.0  ultra   \n",
       "3  1000.0    8.0         42.0      408.0            81.0           1.0  ultra   \n",
       "4  1000.0    9.0         46.0      466.0            57.0           1.0  ultra   \n",
       "5  1000.0   10.0         44.0      350.0            73.0           1.0  ultra   \n",
       "6  1000.0   11.0         37.0      338.0            58.0           1.0  ultra   \n",
       "7  1000.0   12.0         38.0      333.0            70.0           1.0  ultra   \n",
       "8  1001.0   11.0         45.0      430.0             0.0           1.0  smart   \n",
       "9  1001.0   12.0         47.0      414.0             0.0           1.0  smart   \n",
       "\n",
       "        city  vyruchka  \n",
       "0  Краснодар    1950.0  \n",
       "1  Краснодар    1950.0  \n",
       "2  Краснодар    1950.0  \n",
       "3  Краснодар    1950.0  \n",
       "4  Краснодар    1950.0  \n",
       "5  Краснодар    1950.0  \n",
       "6  Краснодар    1950.0  \n",
       "7  Краснодар    1950.0  \n",
       "8     Москва     550.0  \n",
       "9     Москва     550.0  "
      ]
     },
     "execution_count": 20,
     "metadata": {},
     "output_type": "execute_result"
    }
   ],
   "source": [
    "# функция подсчета выручки с каждого пользователя в месяц\n",
    "def vyruchka(row):\n",
    "    messages = row['messages_count']\n",
    "    gb_used = row['internet_sum']\n",
    "    tariff = row['tariff']\n",
    "    duration = row['calls_sum']\n",
    "    calls = row['calls_count']\n",
    "    \n",
    "    if tariff == 'smart':\n",
    "        extra_duration = duration - tariffs.loc[0, 'minutes_included']\n",
    "        extra_gb = gb_used - (tariffs.loc[0, 'gb_included'])\n",
    "        extra_messages = messages - tariffs.loc[0, 'messages_included']\n",
    "        \n",
    "        if extra_duration < 0: extra_duration = 0\n",
    "        if extra_gb < 0: extra_gb = 0\n",
    "        if extra_messages < 0: extra_messages = 0\n",
    "        \n",
    "        return (tariffs.loc[0, 'rub_per_message'] * extra_messages + \n",
    "                   (tariffs.loc[0, 'rub_per_gb'] / 1024) * extra_gb + \n",
    "                   tariffs.loc[0, 'rub_per_minute'] * extra_duration + \n",
    "                   tariffs.loc[0, 'rub_monthly_fee']\n",
    "                  ) \n",
    "    else:\n",
    "        extra_duration = duration - tariffs.loc[1, 'minutes_included']\n",
    "        extra_gb = gb_used - (tariffs.loc[1, 'gb_included'])\n",
    "        extra_messages = messages - tariffs.loc[1, 'messages_included']\n",
    "        \n",
    "        if extra_duration < 0: extra_duration = 0\n",
    "        if extra_gb < 0: extra_gb = 0\n",
    "        if extra_messages < 0: extra_messages = 0\n",
    "        \n",
    "        return (tariffs.loc[1, 'rub_per_message'] * extra_messages + \n",
    "                   (tariffs.loc[1, 'rub_per_gb'] / 1024) * extra_gb + \n",
    "                   tariffs.loc[1, 'rub_per_minute'] * extra_duration + \n",
    "                   tariffs.loc[1, 'rub_monthly_fee']\n",
    "                  )\n",
    "\n",
    "data_mix['vyruchka'] = data_mix.apply(vyruchka, axis=1)\n",
    "data_mix.head(10)"
   ]
  },
  {
   "cell_type": "markdown",
   "metadata": {},
   "source": [
    "#### Шаг 3. Проанализируем данные\n",
    "Опишем поведение клиентов оператора, исходя из выборки. Сколько минут разговора, сколько сообщений и какой объём интернет-трафика требуется пользователям каждого тарифа в месяц. "
   ]
  },
  {
   "cell_type": "code",
   "execution_count": 21,
   "metadata": {},
   "outputs": [
    {
     "data": {
      "text/html": [
       "<div>\n",
       "<style scoped>\n",
       "    .dataframe tbody tr th:only-of-type {\n",
       "        vertical-align: middle;\n",
       "    }\n",
       "\n",
       "    .dataframe tbody tr th {\n",
       "        vertical-align: top;\n",
       "    }\n",
       "\n",
       "    .dataframe thead th {\n",
       "        text-align: right;\n",
       "    }\n",
       "</style>\n",
       "<table border=\"1\" class=\"dataframe\">\n",
       "  <thead>\n",
       "    <tr style=\"text-align: right;\">\n",
       "      <th></th>\n",
       "      <th>calls_mean</th>\n",
       "      <th>internet_mean</th>\n",
       "      <th>messages_mean</th>\n",
       "      <th>vyruchka_mean</th>\n",
       "    </tr>\n",
       "    <tr>\n",
       "      <th>user_id</th>\n",
       "      <th></th>\n",
       "      <th></th>\n",
       "      <th></th>\n",
       "      <th></th>\n",
       "    </tr>\n",
       "  </thead>\n",
       "  <tbody>\n",
       "    <tr>\n",
       "      <th>1000.0</th>\n",
       "      <td>320.750000</td>\n",
       "      <td>1.250000</td>\n",
       "      <td>62.0</td>\n",
       "      <td>1950.0</td>\n",
       "    </tr>\n",
       "    <tr>\n",
       "      <th>1001.0</th>\n",
       "      <td>422.000000</td>\n",
       "      <td>1.000000</td>\n",
       "      <td>0.0</td>\n",
       "      <td>550.0</td>\n",
       "    </tr>\n",
       "    <tr>\n",
       "      <th>1002.0</th>\n",
       "      <td>216.714286</td>\n",
       "      <td>0.857143</td>\n",
       "      <td>10.0</td>\n",
       "      <td>550.0</td>\n",
       "    </tr>\n",
       "    <tr>\n",
       "      <th>1003.0</th>\n",
       "      <td>764.400000</td>\n",
       "      <td>1.000000</td>\n",
       "      <td>76.0</td>\n",
       "      <td>1950.0</td>\n",
       "    </tr>\n",
       "    <tr>\n",
       "      <th>1004.0</th>\n",
       "      <td>123.375000</td>\n",
       "      <td>1.000000</td>\n",
       "      <td>149.0</td>\n",
       "      <td>1950.0</td>\n",
       "    </tr>\n",
       "    <tr>\n",
       "      <th>1005.0</th>\n",
       "      <td>550.416667</td>\n",
       "      <td>1.000000</td>\n",
       "      <td>46.0</td>\n",
       "      <td>827.0</td>\n",
       "    </tr>\n",
       "    <tr>\n",
       "      <th>1006.0</th>\n",
       "      <td>318.272727</td>\n",
       "      <td>0.909091</td>\n",
       "      <td>0.0</td>\n",
       "      <td>550.0</td>\n",
       "    </tr>\n",
       "    <tr>\n",
       "      <th>1007.0</th>\n",
       "      <td>486.555556</td>\n",
       "      <td>1.111111</td>\n",
       "      <td>25.0</td>\n",
       "      <td>669.0</td>\n",
       "    </tr>\n",
       "    <tr>\n",
       "      <th>1008.0</th>\n",
       "      <td>339.000000</td>\n",
       "      <td>1.000000</td>\n",
       "      <td>56.0</td>\n",
       "      <td>568.0</td>\n",
       "    </tr>\n",
       "    <tr>\n",
       "      <th>1009.0</th>\n",
       "      <td>218.900000</td>\n",
       "      <td>0.900000</td>\n",
       "      <td>11.0</td>\n",
       "      <td>550.0</td>\n",
       "    </tr>\n",
       "  </tbody>\n",
       "</table>\n",
       "</div>"
      ],
      "text/plain": [
       "         calls_mean  internet_mean  messages_mean  vyruchka_mean\n",
       "user_id                                                         \n",
       "1000.0   320.750000       1.250000           62.0         1950.0\n",
       "1001.0   422.000000       1.000000            0.0          550.0\n",
       "1002.0   216.714286       0.857143           10.0          550.0\n",
       "1003.0   764.400000       1.000000           76.0         1950.0\n",
       "1004.0   123.375000       1.000000          149.0         1950.0\n",
       "1005.0   550.416667       1.000000           46.0          827.0\n",
       "1006.0   318.272727       0.909091            0.0          550.0\n",
       "1007.0   486.555556       1.111111           25.0          669.0\n",
       "1008.0   339.000000       1.000000           56.0          568.0\n",
       "1009.0   218.900000       0.900000           11.0          550.0"
      ]
     },
     "metadata": {},
     "output_type": "display_data"
    },
    {
     "data": {
      "text/plain": [
       "<AxesSubplot:>"
      ]
     },
     "execution_count": 21,
     "metadata": {},
     "output_type": "execute_result"
    },
    {
     "data": {
      "image/png": "[encoded data removed]",
      "text/plain": [
       "<Figure size 432x288 with 1 Axes>"
      ]
     },
     "metadata": {
      "needs_background": "light"
     },
     "output_type": "display_data"
    }
   ],
   "source": [
    "means = data_mix.pivot_table(index='user_id', values=['calls_sum', 'messages_count', 'internet_sum', 'vyruchka'], aggfunc='mean')\n",
    "means.columns = ['calls_mean', 'internet_mean', 'messages_mean', 'vyruchka_mean']\n",
    "display(means.head(10))\n",
    "means['calls_mean'].hist(bins=30, ec='black')"
   ]
  },
  {
   "cell_type": "code",
   "execution_count": 22,
   "metadata": {},
   "outputs": [
    {
     "data": {
      "text/plain": [
       "<AxesSubplot:>"
      ]
     },
     "execution_count": 22,
     "metadata": {},
     "output_type": "execute_result"
    },
    {
     "data": {
      "image/png": "[encoded data removed]",
      "text/plain": [
       "<Figure size 432x288 with 1 Axes>"
      ]
     },
     "metadata": {
      "needs_background": "light"
     },
     "output_type": "display_data"
    }
   ],
   "source": [
    "means.boxplot(column='calls_mean')"
   ]
  },
  {
   "cell_type": "code",
   "execution_count": 23,
   "metadata": {},
   "outputs": [
    {
     "data": {
      "text/plain": [
       "<AxesSubplot:>"
      ]
     },
     "execution_count": 23,
     "metadata": {},
     "output_type": "execute_result"
    },
    {
     "data": {
      "image/png": "[encoded data removed]",
      "text/plain": [
       "<Figure size 432x288 with 1 Axes>"
      ]
     },
     "metadata": {
      "needs_background": "light"
     },
     "output_type": "display_data"
    }
   ],
   "source": [
    "#display(messages_month.head(10))\n",
    "means['messages_mean'].hist(bins=30, ec='black')"
   ]
  },
  {
   "cell_type": "code",
   "execution_count": 24,
   "metadata": {},
   "outputs": [
    {
     "data": {
      "text/plain": [
       "<AxesSubplot:>"
      ]
     },
     "execution_count": 24,
     "metadata": {},
     "output_type": "execute_result"
    },
    {
     "data": {
      "image/png": "[encoded data removed]",
      "text/plain": [
       "<Figure size 432x288 with 1 Axes>"
      ]
     },
     "metadata": {
      "needs_background": "light"
     },
     "output_type": "display_data"
    }
   ],
   "source": [
    "means.boxplot(column='messages_mean')"
   ]
  },
  {
   "cell_type": "code",
   "execution_count": 25,
   "metadata": {},
   "outputs": [
    {
     "data": {
      "text/plain": [
       "<AxesSubplot:>"
      ]
     },
     "execution_count": 25,
     "metadata": {},
     "output_type": "execute_result"
    },
    {
     "data": {
      "image/png": "[encoded data removed]",
      "text/plain": [
       "<Figure size 432x288 with 1 Axes>"
      ]
     },
     "metadata": {
      "needs_background": "light"
     },
     "output_type": "display_data"
    }
   ],
   "source": [
    "#display(internet_month.sample(10))\n",
    "means['internet_mean'].hist(bins=30, ec='black')"
   ]
  },
  {
   "cell_type": "code",
   "execution_count": 26,
   "metadata": {},
   "outputs": [
    {
     "data": {
      "text/plain": [
       "<AxesSubplot:>"
      ]
     },
     "execution_count": 26,
     "metadata": {},
     "output_type": "execute_result"
    },
    {
     "data": {
      "image/png": "[encoded data removed]",
      "text/plain": [
       "<Figure size 432x288 with 1 Axes>"
      ]
     },
     "metadata": {
      "needs_background": "light"
     },
     "output_type": "display_data"
    }
   ],
   "source": [
    "means.boxplot(column='internet_mean')"
   ]
  },
  {
   "cell_type": "markdown",
   "metadata": {},
   "source": [
    "Посчитаем среднее количество, дисперсию и стандартное отклонение. Построим гистограммы. Опишем распределения."
   ]
  },
  {
   "cell_type": "code",
   "execution_count": 27,
   "metadata": {},
   "outputs": [
    {
     "data": {
      "image/png": "[encoded data removed]",
      "text/plain": [
       "<Figure size 432x288 with 1 Axes>"
      ]
     },
     "metadata": {
      "needs_background": "light"
     },
     "output_type": "display_data"
    },
    {
     "name": "stdout",
     "output_type": "stream",
     "text": [
      "Среднее: 451.7867676333037\n",
      "Дисперсия: 40705.611231545176\n",
      "Стандартное откл.: 201.75631646009296\n"
     ]
    }
   ],
   "source": [
    "for column in calls_month.columns.values.tolist():\n",
    "    plt.hist(calls_month[column], range=(1,1000), alpha=0.3)\n",
    "plt.hist(means['calls_mean'], alpha=0.85, ec='black')\n",
    "plt.show()\n",
    "print(\"Среднее:\", means['calls_mean'].mean())\n",
    "print(\"Дисперсия:\", means['calls_mean'].var())\n",
    "print(\"Стандартное откл.:\", means['calls_mean'].std())"
   ]
  },
  {
   "cell_type": "code",
   "execution_count": 28,
   "metadata": {},
   "outputs": [
    {
     "data": {
      "image/png": "[encoded data removed]",
      "text/plain": [
       "<Figure size 432x288 with 1 Axes>"
      ]
     },
     "metadata": {
      "needs_background": "light"
     },
     "output_type": "display_data"
    },
    {
     "name": "stdout",
     "output_type": "stream",
     "text": [
      "Среднее: 38.79473369669153\n",
      "Дисперсия: 1227.8153932597866\n",
      "Стандартное откл.: 35.0401968210766\n"
     ]
    }
   ],
   "source": [
    "for column in messages_month.columns.values.tolist():\n",
    "    plt.hist(messages_month[column], range=(1,1000), alpha=0.3)\n",
    "plt.hist(means['messages_mean'], alpha=0.85, ec='black')\n",
    "plt.show()\n",
    "print(\"Среднее:\", means['messages_mean'].mean())\n",
    "print(\"Дисперсия:\", means['messages_mean'].var())\n",
    "print(\"Стандартное откл.:\", means['messages_mean'].std())"
   ]
  },
  {
   "cell_type": "code",
   "execution_count": 29,
   "metadata": {},
   "outputs": [
    {
     "data": {
      "image/png": "[encoded data removed]",
      "text/plain": [
       "<Figure size 432x288 with 1 Axes>"
      ]
     },
     "metadata": {
      "needs_background": "light"
     },
     "output_type": "display_data"
    },
    {
     "name": "stdout",
     "output_type": "stream",
     "text": [
      "Среднее: 0.8612769258853595\n",
      "Дисперсия: 0.03950622869760613\n",
      "Стандартное откл.: 0.1987617385152538\n"
     ]
    }
   ],
   "source": [
    "for column in internet_month.columns.values.tolist():\n",
    "    plt.hist(internet_month[column], range=(1,1000), alpha=0.3)\n",
    "plt.hist(means['internet_mean'], alpha=0.85, ec='black')\n",
    "plt.show()\n",
    "print(\"Среднее:\", means['internet_mean'].mean())\n",
    "print(\"Дисперсия:\", means['internet_mean'].var())\n",
    "print(\"Стандартное откл.:\", means['internet_mean'].std())"
   ]
  },
  {
   "cell_type": "markdown",
   "metadata": {},
   "source": [
    "#### Шаг 4. Проверим гипотезы\n",
    "\n",
    "    средняя выручка пользователей тарифов «Ультра» и «Смарт» различаются;\n",
    "    "
   ]
  },
  {
   "cell_type": "markdown",
   "metadata": {},
   "source": [
    "Тариф \"Смарт\""
   ]
  },
  {
   "cell_type": "code",
   "execution_count": 30,
   "metadata": {},
   "outputs": [
    {
     "data": {
      "text/html": [
       "<div>\n",
       "<style scoped>\n",
       "    .dataframe tbody tr th:only-of-type {\n",
       "        vertical-align: middle;\n",
       "    }\n",
       "\n",
       "    .dataframe tbody tr th {\n",
       "        vertical-align: top;\n",
       "    }\n",
       "\n",
       "    .dataframe thead th {\n",
       "        text-align: right;\n",
       "    }\n",
       "</style>\n",
       "<table border=\"1\" class=\"dataframe\">\n",
       "  <thead>\n",
       "    <tr style=\"text-align: right;\">\n",
       "      <th></th>\n",
       "      <th>user_id</th>\n",
       "      <th>calls_mean</th>\n",
       "      <th>internet_mean</th>\n",
       "      <th>messages_mean</th>\n",
       "      <th>vyruchka_mean</th>\n",
       "      <th>tariff</th>\n",
       "    </tr>\n",
       "  </thead>\n",
       "  <tbody>\n",
       "    <tr>\n",
       "      <th>9</th>\n",
       "      <td>1009.0</td>\n",
       "      <td>218.900000</td>\n",
       "      <td>0.900000</td>\n",
       "      <td>11.0</td>\n",
       "      <td>550.000000</td>\n",
       "      <td>smart</td>\n",
       "    </tr>\n",
       "    <tr>\n",
       "      <th>424</th>\n",
       "      <td>1426.0</td>\n",
       "      <td>545.250000</td>\n",
       "      <td>0.750000</td>\n",
       "      <td>64.0</td>\n",
       "      <td>754.750000</td>\n",
       "      <td>smart</td>\n",
       "    </tr>\n",
       "    <tr>\n",
       "      <th>286</th>\n",
       "      <td>1287.0</td>\n",
       "      <td>413.250000</td>\n",
       "      <td>0.750000</td>\n",
       "      <td>6.0</td>\n",
       "      <td>613.000000</td>\n",
       "      <td>smart</td>\n",
       "    </tr>\n",
       "    <tr>\n",
       "      <th>70</th>\n",
       "      <td>1070.0</td>\n",
       "      <td>322.600000</td>\n",
       "      <td>1.200000</td>\n",
       "      <td>12.0</td>\n",
       "      <td>558.400000</td>\n",
       "      <td>smart</td>\n",
       "    </tr>\n",
       "    <tr>\n",
       "      <th>6</th>\n",
       "      <td>1006.0</td>\n",
       "      <td>318.272727</td>\n",
       "      <td>0.909091</td>\n",
       "      <td>0.0</td>\n",
       "      <td>550.000000</td>\n",
       "      <td>smart</td>\n",
       "    </tr>\n",
       "    <tr>\n",
       "      <th>429</th>\n",
       "      <td>1431.0</td>\n",
       "      <td>244.600000</td>\n",
       "      <td>0.700000</td>\n",
       "      <td>81.0</td>\n",
       "      <td>644.200000</td>\n",
       "      <td>smart</td>\n",
       "    </tr>\n",
       "    <tr>\n",
       "      <th>174</th>\n",
       "      <td>1175.0</td>\n",
       "      <td>292.444444</td>\n",
       "      <td>1.000000</td>\n",
       "      <td>0.0</td>\n",
       "      <td>550.000000</td>\n",
       "      <td>smart</td>\n",
       "    </tr>\n",
       "    <tr>\n",
       "      <th>47</th>\n",
       "      <td>1047.0</td>\n",
       "      <td>564.333333</td>\n",
       "      <td>1.000000</td>\n",
       "      <td>48.0</td>\n",
       "      <td>1173.000000</td>\n",
       "      <td>smart</td>\n",
       "    </tr>\n",
       "    <tr>\n",
       "      <th>130</th>\n",
       "      <td>1131.0</td>\n",
       "      <td>263.000000</td>\n",
       "      <td>1.000000</td>\n",
       "      <td>30.0</td>\n",
       "      <td>550.000000</td>\n",
       "      <td>smart</td>\n",
       "    </tr>\n",
       "    <tr>\n",
       "      <th>341</th>\n",
       "      <td>1342.0</td>\n",
       "      <td>366.333333</td>\n",
       "      <td>1.000000</td>\n",
       "      <td>71.0</td>\n",
       "      <td>749.000000</td>\n",
       "      <td>smart</td>\n",
       "    </tr>\n",
       "    <tr>\n",
       "      <th>376</th>\n",
       "      <td>1378.0</td>\n",
       "      <td>471.666667</td>\n",
       "      <td>0.750000</td>\n",
       "      <td>12.0</td>\n",
       "      <td>607.250000</td>\n",
       "      <td>smart</td>\n",
       "    </tr>\n",
       "    <tr>\n",
       "      <th>336</th>\n",
       "      <td>1337.0</td>\n",
       "      <td>158.250000</td>\n",
       "      <td>0.833333</td>\n",
       "      <td>10.0</td>\n",
       "      <td>550.000000</td>\n",
       "      <td>smart</td>\n",
       "    </tr>\n",
       "    <tr>\n",
       "      <th>148</th>\n",
       "      <td>1149.0</td>\n",
       "      <td>197.875000</td>\n",
       "      <td>1.125000</td>\n",
       "      <td>79.0</td>\n",
       "      <td>643.000000</td>\n",
       "      <td>smart</td>\n",
       "    </tr>\n",
       "    <tr>\n",
       "      <th>325</th>\n",
       "      <td>1326.0</td>\n",
       "      <td>278.500000</td>\n",
       "      <td>1.000000</td>\n",
       "      <td>18.0</td>\n",
       "      <td>550.000000</td>\n",
       "      <td>smart</td>\n",
       "    </tr>\n",
       "    <tr>\n",
       "      <th>314</th>\n",
       "      <td>1315.0</td>\n",
       "      <td>454.500000</td>\n",
       "      <td>0.666667</td>\n",
       "      <td>50.0</td>\n",
       "      <td>598.500000</td>\n",
       "      <td>smart</td>\n",
       "    </tr>\n",
       "    <tr>\n",
       "      <th>204</th>\n",
       "      <td>1205.0</td>\n",
       "      <td>186.000000</td>\n",
       "      <td>0.333333</td>\n",
       "      <td>13.0</td>\n",
       "      <td>550.000000</td>\n",
       "      <td>smart</td>\n",
       "    </tr>\n",
       "    <tr>\n",
       "      <th>116</th>\n",
       "      <td>1116.0</td>\n",
       "      <td>311.333333</td>\n",
       "      <td>1.000000</td>\n",
       "      <td>0.0</td>\n",
       "      <td>550.000000</td>\n",
       "      <td>smart</td>\n",
       "    </tr>\n",
       "    <tr>\n",
       "      <th>458</th>\n",
       "      <td>1460.0</td>\n",
       "      <td>650.333333</td>\n",
       "      <td>0.888889</td>\n",
       "      <td>45.0</td>\n",
       "      <td>1014.000000</td>\n",
       "      <td>smart</td>\n",
       "    </tr>\n",
       "    <tr>\n",
       "      <th>10</th>\n",
       "      <td>1010.0</td>\n",
       "      <td>231.000000</td>\n",
       "      <td>1.000000</td>\n",
       "      <td>0.0</td>\n",
       "      <td>550.000000</td>\n",
       "      <td>smart</td>\n",
       "    </tr>\n",
       "    <tr>\n",
       "      <th>72</th>\n",
       "      <td>1072.0</td>\n",
       "      <td>427.727273</td>\n",
       "      <td>0.727273</td>\n",
       "      <td>20.0</td>\n",
       "      <td>628.818182</td>\n",
       "      <td>smart</td>\n",
       "    </tr>\n",
       "    <tr>\n",
       "      <th>444</th>\n",
       "      <td>1446.0</td>\n",
       "      <td>365.200000</td>\n",
       "      <td>0.800000</td>\n",
       "      <td>29.0</td>\n",
       "      <td>915.200000</td>\n",
       "      <td>smart</td>\n",
       "    </tr>\n",
       "    <tr>\n",
       "      <th>235</th>\n",
       "      <td>1236.0</td>\n",
       "      <td>557.000000</td>\n",
       "      <td>1.000000</td>\n",
       "      <td>47.0</td>\n",
       "      <td>721.000000</td>\n",
       "      <td>smart</td>\n",
       "    </tr>\n",
       "    <tr>\n",
       "      <th>105</th>\n",
       "      <td>1105.0</td>\n",
       "      <td>266.750000</td>\n",
       "      <td>1.000000</td>\n",
       "      <td>59.0</td>\n",
       "      <td>610.750000</td>\n",
       "      <td>smart</td>\n",
       "    </tr>\n",
       "    <tr>\n",
       "      <th>407</th>\n",
       "      <td>1409.0</td>\n",
       "      <td>693.100000</td>\n",
       "      <td>0.900000</td>\n",
       "      <td>37.0</td>\n",
       "      <td>1129.300000</td>\n",
       "      <td>smart</td>\n",
       "    </tr>\n",
       "    <tr>\n",
       "      <th>186</th>\n",
       "      <td>1187.0</td>\n",
       "      <td>344.800000</td>\n",
       "      <td>0.800000</td>\n",
       "      <td>58.0</td>\n",
       "      <td>629.800000</td>\n",
       "      <td>smart</td>\n",
       "    </tr>\n",
       "    <tr>\n",
       "      <th>93</th>\n",
       "      <td>1093.0</td>\n",
       "      <td>700.285714</td>\n",
       "      <td>0.571429</td>\n",
       "      <td>62.0</td>\n",
       "      <td>1396.000000</td>\n",
       "      <td>smart</td>\n",
       "    </tr>\n",
       "    <tr>\n",
       "      <th>133</th>\n",
       "      <td>1134.0</td>\n",
       "      <td>465.750000</td>\n",
       "      <td>0.833333</td>\n",
       "      <td>57.0</td>\n",
       "      <td>636.500000</td>\n",
       "      <td>smart</td>\n",
       "    </tr>\n",
       "    <tr>\n",
       "      <th>372</th>\n",
       "      <td>1374.0</td>\n",
       "      <td>508.666667</td>\n",
       "      <td>0.888889</td>\n",
       "      <td>72.0</td>\n",
       "      <td>712.333333</td>\n",
       "      <td>smart</td>\n",
       "    </tr>\n",
       "    <tr>\n",
       "      <th>326</th>\n",
       "      <td>1327.0</td>\n",
       "      <td>403.777778</td>\n",
       "      <td>0.777778</td>\n",
       "      <td>47.0</td>\n",
       "      <td>558.333333</td>\n",
       "      <td>smart</td>\n",
       "    </tr>\n",
       "    <tr>\n",
       "      <th>437</th>\n",
       "      <td>1439.0</td>\n",
       "      <td>394.428571</td>\n",
       "      <td>0.857143</td>\n",
       "      <td>9.0</td>\n",
       "      <td>586.857143</td>\n",
       "      <td>smart</td>\n",
       "    </tr>\n",
       "    <tr>\n",
       "      <th>487</th>\n",
       "      <td>1489.0</td>\n",
       "      <td>0.000000</td>\n",
       "      <td>0.600000</td>\n",
       "      <td>25.0</td>\n",
       "      <td>550.000000</td>\n",
       "      <td>smart</td>\n",
       "    </tr>\n",
       "    <tr>\n",
       "      <th>40</th>\n",
       "      <td>1040.0</td>\n",
       "      <td>324.142857</td>\n",
       "      <td>1.000000</td>\n",
       "      <td>0.0</td>\n",
       "      <td>550.000000</td>\n",
       "      <td>smart</td>\n",
       "    </tr>\n",
       "    <tr>\n",
       "      <th>344</th>\n",
       "      <td>1345.0</td>\n",
       "      <td>282.000000</td>\n",
       "      <td>1.000000</td>\n",
       "      <td>4.0</td>\n",
       "      <td>550.000000</td>\n",
       "      <td>smart</td>\n",
       "    </tr>\n",
       "    <tr>\n",
       "      <th>33</th>\n",
       "      <td>1033.0</td>\n",
       "      <td>349.666667</td>\n",
       "      <td>0.833333</td>\n",
       "      <td>69.0</td>\n",
       "      <td>614.000000</td>\n",
       "      <td>smart</td>\n",
       "    </tr>\n",
       "    <tr>\n",
       "      <th>279</th>\n",
       "      <td>1280.0</td>\n",
       "      <td>561.000000</td>\n",
       "      <td>0.833333</td>\n",
       "      <td>43.0</td>\n",
       "      <td>820.000000</td>\n",
       "      <td>smart</td>\n",
       "    </tr>\n",
       "    <tr>\n",
       "      <th>219</th>\n",
       "      <td>1220.0</td>\n",
       "      <td>501.000000</td>\n",
       "      <td>1.000000</td>\n",
       "      <td>0.0</td>\n",
       "      <td>949.000000</td>\n",
       "      <td>smart</td>\n",
       "    </tr>\n",
       "    <tr>\n",
       "      <th>361</th>\n",
       "      <td>1362.0</td>\n",
       "      <td>476.200000</td>\n",
       "      <td>0.600000</td>\n",
       "      <td>11.0</td>\n",
       "      <td>589.600000</td>\n",
       "      <td>smart</td>\n",
       "    </tr>\n",
       "    <tr>\n",
       "      <th>143</th>\n",
       "      <td>1144.0</td>\n",
       "      <td>403.444444</td>\n",
       "      <td>1.000000</td>\n",
       "      <td>54.0</td>\n",
       "      <td>604.333333</td>\n",
       "      <td>smart</td>\n",
       "    </tr>\n",
       "    <tr>\n",
       "      <th>301</th>\n",
       "      <td>1302.0</td>\n",
       "      <td>204.083333</td>\n",
       "      <td>0.916667</td>\n",
       "      <td>73.0</td>\n",
       "      <td>624.500000</td>\n",
       "      <td>smart</td>\n",
       "    </tr>\n",
       "    <tr>\n",
       "      <th>123</th>\n",
       "      <td>1123.0</td>\n",
       "      <td>568.200000</td>\n",
       "      <td>0.900000</td>\n",
       "      <td>16.0</td>\n",
       "      <td>841.600000</td>\n",
       "      <td>smart</td>\n",
       "    </tr>\n",
       "    <tr>\n",
       "      <th>7</th>\n",
       "      <td>1007.0</td>\n",
       "      <td>486.555556</td>\n",
       "      <td>1.111111</td>\n",
       "      <td>25.0</td>\n",
       "      <td>669.000000</td>\n",
       "      <td>smart</td>\n",
       "    </tr>\n",
       "    <tr>\n",
       "      <th>305</th>\n",
       "      <td>1306.0</td>\n",
       "      <td>252.000000</td>\n",
       "      <td>0.500000</td>\n",
       "      <td>0.0</td>\n",
       "      <td>550.000000</td>\n",
       "      <td>smart</td>\n",
       "    </tr>\n",
       "    <tr>\n",
       "      <th>482</th>\n",
       "      <td>1484.0</td>\n",
       "      <td>373.800000</td>\n",
       "      <td>0.800000</td>\n",
       "      <td>111.0</td>\n",
       "      <td>750.400000</td>\n",
       "      <td>smart</td>\n",
       "    </tr>\n",
       "    <tr>\n",
       "      <th>198</th>\n",
       "      <td>1199.0</td>\n",
       "      <td>627.500000</td>\n",
       "      <td>0.500000</td>\n",
       "      <td>63.0</td>\n",
       "      <td>1025.500000</td>\n",
       "      <td>smart</td>\n",
       "    </tr>\n",
       "    <tr>\n",
       "      <th>321</th>\n",
       "      <td>1322.0</td>\n",
       "      <td>539.750000</td>\n",
       "      <td>0.250000</td>\n",
       "      <td>0.0</td>\n",
       "      <td>787.750000</td>\n",
       "      <td>smart</td>\n",
       "    </tr>\n",
       "    <tr>\n",
       "      <th>11</th>\n",
       "      <td>1011.0</td>\n",
       "      <td>432.800000</td>\n",
       "      <td>1.100000</td>\n",
       "      <td>11.0</td>\n",
       "      <td>594.400000</td>\n",
       "      <td>smart</td>\n",
       "    </tr>\n",
       "    <tr>\n",
       "      <th>353</th>\n",
       "      <td>1354.0</td>\n",
       "      <td>258.000000</td>\n",
       "      <td>1.000000</td>\n",
       "      <td>71.0</td>\n",
       "      <td>619.600000</td>\n",
       "      <td>smart</td>\n",
       "    </tr>\n",
       "    <tr>\n",
       "      <th>144</th>\n",
       "      <td>1145.0</td>\n",
       "      <td>459.777778</td>\n",
       "      <td>1.111111</td>\n",
       "      <td>95.0</td>\n",
       "      <td>710.000000</td>\n",
       "      <td>smart</td>\n",
       "    </tr>\n",
       "    <tr>\n",
       "      <th>388</th>\n",
       "      <td>1390.0</td>\n",
       "      <td>170.333333</td>\n",
       "      <td>1.000000</td>\n",
       "      <td>29.0</td>\n",
       "      <td>550.000000</td>\n",
       "      <td>smart</td>\n",
       "    </tr>\n",
       "    <tr>\n",
       "      <th>35</th>\n",
       "      <td>1035.0</td>\n",
       "      <td>428.888889</td>\n",
       "      <td>0.888889</td>\n",
       "      <td>53.0</td>\n",
       "      <td>595.000000</td>\n",
       "      <td>smart</td>\n",
       "    </tr>\n",
       "  </tbody>\n",
       "</table>\n",
       "</div>"
      ],
      "text/plain": [
       "    user_id  calls_mean  internet_mean  messages_mean  vyruchka_mean tariff\n",
       "9    1009.0  218.900000       0.900000           11.0     550.000000  smart\n",
       "424  1426.0  545.250000       0.750000           64.0     754.750000  smart\n",
       "286  1287.0  413.250000       0.750000            6.0     613.000000  smart\n",
       "70   1070.0  322.600000       1.200000           12.0     558.400000  smart\n",
       "6    1006.0  318.272727       0.909091            0.0     550.000000  smart\n",
       "429  1431.0  244.600000       0.700000           81.0     644.200000  smart\n",
       "174  1175.0  292.444444       1.000000            0.0     550.000000  smart\n",
       "47   1047.0  564.333333       1.000000           48.0    1173.000000  smart\n",
       "130  1131.0  263.000000       1.000000           30.0     550.000000  smart\n",
       "341  1342.0  366.333333       1.000000           71.0     749.000000  smart\n",
       "376  1378.0  471.666667       0.750000           12.0     607.250000  smart\n",
       "336  1337.0  158.250000       0.833333           10.0     550.000000  smart\n",
       "148  1149.0  197.875000       1.125000           79.0     643.000000  smart\n",
       "325  1326.0  278.500000       1.000000           18.0     550.000000  smart\n",
       "314  1315.0  454.500000       0.666667           50.0     598.500000  smart\n",
       "204  1205.0  186.000000       0.333333           13.0     550.000000  smart\n",
       "116  1116.0  311.333333       1.000000            0.0     550.000000  smart\n",
       "458  1460.0  650.333333       0.888889           45.0    1014.000000  smart\n",
       "10   1010.0  231.000000       1.000000            0.0     550.000000  smart\n",
       "72   1072.0  427.727273       0.727273           20.0     628.818182  smart\n",
       "444  1446.0  365.200000       0.800000           29.0     915.200000  smart\n",
       "235  1236.0  557.000000       1.000000           47.0     721.000000  smart\n",
       "105  1105.0  266.750000       1.000000           59.0     610.750000  smart\n",
       "407  1409.0  693.100000       0.900000           37.0    1129.300000  smart\n",
       "186  1187.0  344.800000       0.800000           58.0     629.800000  smart\n",
       "93   1093.0  700.285714       0.571429           62.0    1396.000000  smart\n",
       "133  1134.0  465.750000       0.833333           57.0     636.500000  smart\n",
       "372  1374.0  508.666667       0.888889           72.0     712.333333  smart\n",
       "326  1327.0  403.777778       0.777778           47.0     558.333333  smart\n",
       "437  1439.0  394.428571       0.857143            9.0     586.857143  smart\n",
       "487  1489.0    0.000000       0.600000           25.0     550.000000  smart\n",
       "40   1040.0  324.142857       1.000000            0.0     550.000000  smart\n",
       "344  1345.0  282.000000       1.000000            4.0     550.000000  smart\n",
       "33   1033.0  349.666667       0.833333           69.0     614.000000  smart\n",
       "279  1280.0  561.000000       0.833333           43.0     820.000000  smart\n",
       "219  1220.0  501.000000       1.000000            0.0     949.000000  smart\n",
       "361  1362.0  476.200000       0.600000           11.0     589.600000  smart\n",
       "143  1144.0  403.444444       1.000000           54.0     604.333333  smart\n",
       "301  1302.0  204.083333       0.916667           73.0     624.500000  smart\n",
       "123  1123.0  568.200000       0.900000           16.0     841.600000  smart\n",
       "7    1007.0  486.555556       1.111111           25.0     669.000000  smart\n",
       "305  1306.0  252.000000       0.500000            0.0     550.000000  smart\n",
       "482  1484.0  373.800000       0.800000          111.0     750.400000  smart\n",
       "198  1199.0  627.500000       0.500000           63.0    1025.500000  smart\n",
       "321  1322.0  539.750000       0.250000            0.0     787.750000  smart\n",
       "11   1011.0  432.800000       1.100000           11.0     594.400000  smart\n",
       "353  1354.0  258.000000       1.000000           71.0     619.600000  smart\n",
       "144  1145.0  459.777778       1.111111           95.0     710.000000  smart\n",
       "388  1390.0  170.333333       1.000000           29.0     550.000000  smart\n",
       "35   1035.0  428.888889       0.888889           53.0     595.000000  smart"
      ]
     },
     "metadata": {},
     "output_type": "display_data"
    },
    {
     "name": "stdout",
     "output_type": "stream",
     "text": [
      "Среднее: 419.6348029272315\n",
      "Дисперсия: 21034.14860688592\n",
      "Стандартное откл.: 145.03154348929036\n"
     ]
    }
   ],
   "source": [
    "means = means.merge(users[['user_id', 'tariff']], on = 'user_id')\n",
    "smart = means.loc[means['tariff']=='smart']\n",
    "display(smart.sample(50))\n",
    "print(\"Среднее:\", smart['calls_mean'].mean())\n",
    "print(\"Дисперсия:\", smart['calls_mean'].var())\n",
    "print(\"Стандартное откл.:\", smart['calls_mean'].std())"
   ]
  },
  {
   "cell_type": "code",
   "execution_count": 31,
   "metadata": {},
   "outputs": [
    {
     "name": "stdout",
     "output_type": "stream",
     "text": [
      "Среднее: 32.352078231292516\n",
      "Дисперсия: 702.9099096396594\n",
      "Стандартное откл.: 26.512448201545993\n"
     ]
    }
   ],
   "source": [
    "print(\"Среднее:\", smart['messages_mean'].mean())\n",
    "print(\"Дисперсия:\", smart['messages_mean'].var())\n",
    "print(\"Стандартное откл.:\", smart['messages_mean'].std())"
   ]
  },
  {
   "cell_type": "code",
   "execution_count": 32,
   "metadata": {},
   "outputs": [
    {
     "name": "stdout",
     "output_type": "stream",
     "text": [
      "Среднее: 0.8668661100803958\n",
      "Дисперсия: 0.03880509130712302\n",
      "Стандартное откл.: 0.1969900792099009\n"
     ]
    }
   ],
   "source": [
    "print(\"Среднее:\", smart['internet_mean'].mean())\n",
    "print(\"Дисперсия:\", smart['internet_mean'].var())\n",
    "print(\"Стандартное откл.:\", smart['internet_mean'].std())"
   ]
  },
  {
   "cell_type": "code",
   "execution_count": 33,
   "metadata": {},
   "outputs": [
    {
     "data": {
      "text/plain": [
       "<AxesSubplot:>"
      ]
     },
     "execution_count": 33,
     "metadata": {},
     "output_type": "execute_result"
    },
    {
     "data": {
      "image/png": "[encoded data removed]",
      "text/plain": [
       "<Figure size 432x288 with 1 Axes>"
      ]
     },
     "metadata": {
      "needs_background": "light"
     },
     "output_type": "display_data"
    }
   ],
   "source": [
    "smart['vyruchka_mean'].hist(bins=30, ec='black')"
   ]
  },
  {
   "cell_type": "code",
   "execution_count": 34,
   "metadata": {},
   "outputs": [
    {
     "data": {
      "image/png": "[encoded data removed]",
      "text/plain": [
       "<Figure size 432x288 with 1 Axes>"
      ]
     },
     "metadata": {
      "needs_background": "light"
     },
     "output_type": "display_data"
    }
   ],
   "source": [
    "for column in smart.columns.values.tolist():\n",
    "    plt.hist(smart[column], range=(1,1000), alpha=0.3, ec='black')\n",
    "plt.hist(smart['vyruchka_mean'], ec='black')\n",
    "plt.show()    "
   ]
  },
  {
   "cell_type": "code",
   "execution_count": 35,
   "metadata": {},
   "outputs": [
    {
     "name": "stdout",
     "output_type": "stream",
     "text": [
      "Среднее: 706.9938661100805\n",
      "Дисперсия: 47492.26087285426\n",
      "Стандартное откл.: 217.92719167844626\n"
     ]
    }
   ],
   "source": [
    "print(\"Среднее:\", smart['vyruchka_mean'].mean())\n",
    "print(\"Дисперсия:\", smart['vyruchka_mean'].var())\n",
    "print(\"Стандартное откл.:\", smart['vyruchka_mean'].std())"
   ]
  },
  {
   "cell_type": "markdown",
   "metadata": {},
   "source": [
    "Тариф ультра"
   ]
  },
  {
   "cell_type": "code",
   "execution_count": 36,
   "metadata": {},
   "outputs": [
    {
     "data": {
      "text/html": [
       "<div>\n",
       "<style scoped>\n",
       "    .dataframe tbody tr th:only-of-type {\n",
       "        vertical-align: middle;\n",
       "    }\n",
       "\n",
       "    .dataframe tbody tr th {\n",
       "        vertical-align: top;\n",
       "    }\n",
       "\n",
       "    .dataframe thead th {\n",
       "        text-align: right;\n",
       "    }\n",
       "</style>\n",
       "<table border=\"1\" class=\"dataframe\">\n",
       "  <thead>\n",
       "    <tr style=\"text-align: right;\">\n",
       "      <th></th>\n",
       "      <th>user_id</th>\n",
       "      <th>calls_mean</th>\n",
       "      <th>internet_mean</th>\n",
       "      <th>messages_mean</th>\n",
       "      <th>vyruchka_mean</th>\n",
       "      <th>tariff</th>\n",
       "    </tr>\n",
       "  </thead>\n",
       "  <tbody>\n",
       "    <tr>\n",
       "      <th>270</th>\n",
       "      <td>1271.0</td>\n",
       "      <td>361.400000</td>\n",
       "      <td>1.000000</td>\n",
       "      <td>86.4</td>\n",
       "      <td>1950.0</td>\n",
       "      <td>ultra</td>\n",
       "    </tr>\n",
       "    <tr>\n",
       "      <th>329</th>\n",
       "      <td>1330.0</td>\n",
       "      <td>640.818182</td>\n",
       "      <td>0.727273</td>\n",
       "      <td>73.0</td>\n",
       "      <td>1950.0</td>\n",
       "      <td>ultra</td>\n",
       "    </tr>\n",
       "    <tr>\n",
       "      <th>302</th>\n",
       "      <td>1303.0</td>\n",
       "      <td>472.833333</td>\n",
       "      <td>0.833333</td>\n",
       "      <td>26.0</td>\n",
       "      <td>1950.0</td>\n",
       "      <td>ultra</td>\n",
       "    </tr>\n",
       "    <tr>\n",
       "      <th>351</th>\n",
       "      <td>1352.0</td>\n",
       "      <td>751.777778</td>\n",
       "      <td>1.111111</td>\n",
       "      <td>8.0</td>\n",
       "      <td>1950.0</td>\n",
       "      <td>ultra</td>\n",
       "    </tr>\n",
       "    <tr>\n",
       "      <th>269</th>\n",
       "      <td>1270.0</td>\n",
       "      <td>314.500000</td>\n",
       "      <td>1.000000</td>\n",
       "      <td>48.0</td>\n",
       "      <td>1950.0</td>\n",
       "      <td>ultra</td>\n",
       "    </tr>\n",
       "    <tr>\n",
       "      <th>275</th>\n",
       "      <td>1276.0</td>\n",
       "      <td>391.666667</td>\n",
       "      <td>1.000000</td>\n",
       "      <td>26.0</td>\n",
       "      <td>1950.0</td>\n",
       "      <td>ultra</td>\n",
       "    </tr>\n",
       "    <tr>\n",
       "      <th>453</th>\n",
       "      <td>1455.0</td>\n",
       "      <td>461.000000</td>\n",
       "      <td>0.600000</td>\n",
       "      <td>4.0</td>\n",
       "      <td>1950.0</td>\n",
       "      <td>ultra</td>\n",
       "    </tr>\n",
       "    <tr>\n",
       "      <th>397</th>\n",
       "      <td>1399.0</td>\n",
       "      <td>318.500000</td>\n",
       "      <td>0.500000</td>\n",
       "      <td>65.0</td>\n",
       "      <td>1950.0</td>\n",
       "      <td>ultra</td>\n",
       "    </tr>\n",
       "    <tr>\n",
       "      <th>343</th>\n",
       "      <td>1344.0</td>\n",
       "      <td>824.222222</td>\n",
       "      <td>0.777778</td>\n",
       "      <td>125.0</td>\n",
       "      <td>1950.0</td>\n",
       "      <td>ultra</td>\n",
       "    </tr>\n",
       "    <tr>\n",
       "      <th>258</th>\n",
       "      <td>1259.0</td>\n",
       "      <td>646.000000</td>\n",
       "      <td>1.000000</td>\n",
       "      <td>164.0</td>\n",
       "      <td>1950.0</td>\n",
       "      <td>ultra</td>\n",
       "    </tr>\n",
       "    <tr>\n",
       "      <th>366</th>\n",
       "      <td>1367.0</td>\n",
       "      <td>380.666667</td>\n",
       "      <td>1.000000</td>\n",
       "      <td>0.0</td>\n",
       "      <td>1950.0</td>\n",
       "      <td>ultra</td>\n",
       "    </tr>\n",
       "    <tr>\n",
       "      <th>474</th>\n",
       "      <td>1476.0</td>\n",
       "      <td>467.111111</td>\n",
       "      <td>0.777778</td>\n",
       "      <td>5.0</td>\n",
       "      <td>1950.0</td>\n",
       "      <td>ultra</td>\n",
       "    </tr>\n",
       "    <tr>\n",
       "      <th>155</th>\n",
       "      <td>1156.0</td>\n",
       "      <td>153.500000</td>\n",
       "      <td>1.000000</td>\n",
       "      <td>4.0</td>\n",
       "      <td>1950.0</td>\n",
       "      <td>ultra</td>\n",
       "    </tr>\n",
       "    <tr>\n",
       "      <th>254</th>\n",
       "      <td>1255.0</td>\n",
       "      <td>203.125000</td>\n",
       "      <td>0.750000</td>\n",
       "      <td>0.0</td>\n",
       "      <td>1950.0</td>\n",
       "      <td>ultra</td>\n",
       "    </tr>\n",
       "    <tr>\n",
       "      <th>363</th>\n",
       "      <td>1364.0</td>\n",
       "      <td>818.000000</td>\n",
       "      <td>0.600000</td>\n",
       "      <td>77.0</td>\n",
       "      <td>1950.0</td>\n",
       "      <td>ultra</td>\n",
       "    </tr>\n",
       "    <tr>\n",
       "      <th>493</th>\n",
       "      <td>1495.0</td>\n",
       "      <td>784.000000</td>\n",
       "      <td>1.000000</td>\n",
       "      <td>68.0</td>\n",
       "      <td>1950.0</td>\n",
       "      <td>ultra</td>\n",
       "    </tr>\n",
       "    <tr>\n",
       "      <th>422</th>\n",
       "      <td>1424.0</td>\n",
       "      <td>35.571429</td>\n",
       "      <td>1.000000</td>\n",
       "      <td>87.0</td>\n",
       "      <td>1950.0</td>\n",
       "      <td>ultra</td>\n",
       "    </tr>\n",
       "    <tr>\n",
       "      <th>195</th>\n",
       "      <td>1196.0</td>\n",
       "      <td>1086.250000</td>\n",
       "      <td>0.875000</td>\n",
       "      <td>140.0</td>\n",
       "      <td>1950.0</td>\n",
       "      <td>ultra</td>\n",
       "    </tr>\n",
       "    <tr>\n",
       "      <th>230</th>\n",
       "      <td>1231.0</td>\n",
       "      <td>0.000000</td>\n",
       "      <td>0.750000</td>\n",
       "      <td>173.0</td>\n",
       "      <td>1950.0</td>\n",
       "      <td>ultra</td>\n",
       "    </tr>\n",
       "    <tr>\n",
       "      <th>104</th>\n",
       "      <td>1104.0</td>\n",
       "      <td>327.000000</td>\n",
       "      <td>0.636364</td>\n",
       "      <td>73.0</td>\n",
       "      <td>1950.0</td>\n",
       "      <td>ultra</td>\n",
       "    </tr>\n",
       "    <tr>\n",
       "      <th>360</th>\n",
       "      <td>1361.0</td>\n",
       "      <td>232.000000</td>\n",
       "      <td>1.000000</td>\n",
       "      <td>35.0</td>\n",
       "      <td>1950.0</td>\n",
       "      <td>ultra</td>\n",
       "    </tr>\n",
       "    <tr>\n",
       "      <th>378</th>\n",
       "      <td>1380.0</td>\n",
       "      <td>692.750000</td>\n",
       "      <td>1.000000</td>\n",
       "      <td>26.0</td>\n",
       "      <td>1950.0</td>\n",
       "      <td>ultra</td>\n",
       "    </tr>\n",
       "    <tr>\n",
       "      <th>459</th>\n",
       "      <td>1461.0</td>\n",
       "      <td>533.500000</td>\n",
       "      <td>1.000000</td>\n",
       "      <td>50.0</td>\n",
       "      <td>1950.0</td>\n",
       "      <td>ultra</td>\n",
       "    </tr>\n",
       "    <tr>\n",
       "      <th>489</th>\n",
       "      <td>1491.0</td>\n",
       "      <td>513.333333</td>\n",
       "      <td>0.888889</td>\n",
       "      <td>48.0</td>\n",
       "      <td>1950.0</td>\n",
       "      <td>ultra</td>\n",
       "    </tr>\n",
       "    <tr>\n",
       "      <th>400</th>\n",
       "      <td>1402.0</td>\n",
       "      <td>655.100000</td>\n",
       "      <td>0.800000</td>\n",
       "      <td>28.0</td>\n",
       "      <td>1950.0</td>\n",
       "      <td>ultra</td>\n",
       "    </tr>\n",
       "    <tr>\n",
       "      <th>335</th>\n",
       "      <td>1336.0</td>\n",
       "      <td>756.000000</td>\n",
       "      <td>0.000000</td>\n",
       "      <td>20.0</td>\n",
       "      <td>1950.0</td>\n",
       "      <td>ultra</td>\n",
       "    </tr>\n",
       "    <tr>\n",
       "      <th>456</th>\n",
       "      <td>1458.0</td>\n",
       "      <td>741.909091</td>\n",
       "      <td>0.727273</td>\n",
       "      <td>3.0</td>\n",
       "      <td>1950.0</td>\n",
       "      <td>ultra</td>\n",
       "    </tr>\n",
       "    <tr>\n",
       "      <th>401</th>\n",
       "      <td>1403.0</td>\n",
       "      <td>87.125000</td>\n",
       "      <td>1.000000</td>\n",
       "      <td>48.0</td>\n",
       "      <td>1950.0</td>\n",
       "      <td>ultra</td>\n",
       "    </tr>\n",
       "    <tr>\n",
       "      <th>0</th>\n",
       "      <td>1000.0</td>\n",
       "      <td>320.750000</td>\n",
       "      <td>1.250000</td>\n",
       "      <td>62.0</td>\n",
       "      <td>1950.0</td>\n",
       "      <td>ultra</td>\n",
       "    </tr>\n",
       "    <tr>\n",
       "      <th>375</th>\n",
       "      <td>1377.0</td>\n",
       "      <td>1179.363636</td>\n",
       "      <td>0.727273</td>\n",
       "      <td>14.0</td>\n",
       "      <td>1950.0</td>\n",
       "      <td>ultra</td>\n",
       "    </tr>\n",
       "    <tr>\n",
       "      <th>410</th>\n",
       "      <td>1412.0</td>\n",
       "      <td>710.714286</td>\n",
       "      <td>0.857143</td>\n",
       "      <td>49.0</td>\n",
       "      <td>1950.0</td>\n",
       "      <td>ultra</td>\n",
       "    </tr>\n",
       "    <tr>\n",
       "      <th>309</th>\n",
       "      <td>1310.0</td>\n",
       "      <td>464.300000</td>\n",
       "      <td>0.600000</td>\n",
       "      <td>46.0</td>\n",
       "      <td>1950.0</td>\n",
       "      <td>ultra</td>\n",
       "    </tr>\n",
       "    <tr>\n",
       "      <th>242</th>\n",
       "      <td>1243.0</td>\n",
       "      <td>412.142857</td>\n",
       "      <td>1.000000</td>\n",
       "      <td>76.0</td>\n",
       "      <td>1950.0</td>\n",
       "      <td>ultra</td>\n",
       "    </tr>\n",
       "    <tr>\n",
       "      <th>80</th>\n",
       "      <td>1080.0</td>\n",
       "      <td>759.200000</td>\n",
       "      <td>1.000000</td>\n",
       "      <td>61.0</td>\n",
       "      <td>1950.0</td>\n",
       "      <td>ultra</td>\n",
       "    </tr>\n",
       "    <tr>\n",
       "      <th>39</th>\n",
       "      <td>1039.0</td>\n",
       "      <td>463.714286</td>\n",
       "      <td>0.714286</td>\n",
       "      <td>119.0</td>\n",
       "      <td>1950.0</td>\n",
       "      <td>ultra</td>\n",
       "    </tr>\n",
       "    <tr>\n",
       "      <th>299</th>\n",
       "      <td>1300.0</td>\n",
       "      <td>590.166667</td>\n",
       "      <td>1.000000</td>\n",
       "      <td>154.0</td>\n",
       "      <td>1950.0</td>\n",
       "      <td>ultra</td>\n",
       "    </tr>\n",
       "    <tr>\n",
       "      <th>472</th>\n",
       "      <td>1474.0</td>\n",
       "      <td>1014.000000</td>\n",
       "      <td>1.000000</td>\n",
       "      <td>91.0</td>\n",
       "      <td>1950.0</td>\n",
       "      <td>ultra</td>\n",
       "    </tr>\n",
       "    <tr>\n",
       "      <th>78</th>\n",
       "      <td>1078.0</td>\n",
       "      <td>1003.428571</td>\n",
       "      <td>0.857143</td>\n",
       "      <td>0.0</td>\n",
       "      <td>1950.0</td>\n",
       "      <td>ultra</td>\n",
       "    </tr>\n",
       "    <tr>\n",
       "      <th>334</th>\n",
       "      <td>1335.0</td>\n",
       "      <td>609.571429</td>\n",
       "      <td>0.857143</td>\n",
       "      <td>82.0</td>\n",
       "      <td>1950.0</td>\n",
       "      <td>ultra</td>\n",
       "    </tr>\n",
       "    <tr>\n",
       "      <th>469</th>\n",
       "      <td>1471.0</td>\n",
       "      <td>649.545455</td>\n",
       "      <td>0.727273</td>\n",
       "      <td>84.0</td>\n",
       "      <td>1950.0</td>\n",
       "      <td>ultra</td>\n",
       "    </tr>\n",
       "    <tr>\n",
       "      <th>340</th>\n",
       "      <td>1341.0</td>\n",
       "      <td>1111.857143</td>\n",
       "      <td>1.000000</td>\n",
       "      <td>57.0</td>\n",
       "      <td>1950.0</td>\n",
       "      <td>ultra</td>\n",
       "    </tr>\n",
       "    <tr>\n",
       "      <th>253</th>\n",
       "      <td>1254.0</td>\n",
       "      <td>521.375000</td>\n",
       "      <td>1.000000</td>\n",
       "      <td>0.0</td>\n",
       "      <td>1950.0</td>\n",
       "      <td>ultra</td>\n",
       "    </tr>\n",
       "    <tr>\n",
       "      <th>450</th>\n",
       "      <td>1452.0</td>\n",
       "      <td>189.142857</td>\n",
       "      <td>0.857143</td>\n",
       "      <td>52.0</td>\n",
       "      <td>1950.0</td>\n",
       "      <td>ultra</td>\n",
       "    </tr>\n",
       "    <tr>\n",
       "      <th>264</th>\n",
       "      <td>1265.0</td>\n",
       "      <td>547.000000</td>\n",
       "      <td>0.800000</td>\n",
       "      <td>57.6</td>\n",
       "      <td>1950.0</td>\n",
       "      <td>ultra</td>\n",
       "    </tr>\n",
       "    <tr>\n",
       "      <th>147</th>\n",
       "      <td>1148.0</td>\n",
       "      <td>748.888889</td>\n",
       "      <td>0.666667</td>\n",
       "      <td>14.0</td>\n",
       "      <td>1950.0</td>\n",
       "      <td>ultra</td>\n",
       "    </tr>\n",
       "    <tr>\n",
       "      <th>491</th>\n",
       "      <td>1493.0</td>\n",
       "      <td>372.000000</td>\n",
       "      <td>1.000000</td>\n",
       "      <td>47.0</td>\n",
       "      <td>1950.0</td>\n",
       "      <td>ultra</td>\n",
       "    </tr>\n",
       "    <tr>\n",
       "      <th>271</th>\n",
       "      <td>1272.0</td>\n",
       "      <td>229.800000</td>\n",
       "      <td>0.600000</td>\n",
       "      <td>59.0</td>\n",
       "      <td>1950.0</td>\n",
       "      <td>ultra</td>\n",
       "    </tr>\n",
       "    <tr>\n",
       "      <th>451</th>\n",
       "      <td>1453.0</td>\n",
       "      <td>855.750000</td>\n",
       "      <td>0.750000</td>\n",
       "      <td>58.0</td>\n",
       "      <td>1950.0</td>\n",
       "      <td>ultra</td>\n",
       "    </tr>\n",
       "    <tr>\n",
       "      <th>89</th>\n",
       "      <td>1089.0</td>\n",
       "      <td>435.909091</td>\n",
       "      <td>0.818182</td>\n",
       "      <td>128.0</td>\n",
       "      <td>1950.0</td>\n",
       "      <td>ultra</td>\n",
       "    </tr>\n",
       "    <tr>\n",
       "      <th>403</th>\n",
       "      <td>1405.0</td>\n",
       "      <td>305.333333</td>\n",
       "      <td>1.000000</td>\n",
       "      <td>55.0</td>\n",
       "      <td>1950.0</td>\n",
       "      <td>ultra</td>\n",
       "    </tr>\n",
       "  </tbody>\n",
       "</table>\n",
       "</div>"
      ],
      "text/plain": [
       "    user_id   calls_mean  internet_mean  messages_mean  vyruchka_mean tariff\n",
       "270  1271.0   361.400000       1.000000           86.4         1950.0  ultra\n",
       "329  1330.0   640.818182       0.727273           73.0         1950.0  ultra\n",
       "302  1303.0   472.833333       0.833333           26.0         1950.0  ultra\n",
       "351  1352.0   751.777778       1.111111            8.0         1950.0  ultra\n",
       "269  1270.0   314.500000       1.000000           48.0         1950.0  ultra\n",
       "275  1276.0   391.666667       1.000000           26.0         1950.0  ultra\n",
       "453  1455.0   461.000000       0.600000            4.0         1950.0  ultra\n",
       "397  1399.0   318.500000       0.500000           65.0         1950.0  ultra\n",
       "343  1344.0   824.222222       0.777778          125.0         1950.0  ultra\n",
       "258  1259.0   646.000000       1.000000          164.0         1950.0  ultra\n",
       "366  1367.0   380.666667       1.000000            0.0         1950.0  ultra\n",
       "474  1476.0   467.111111       0.777778            5.0         1950.0  ultra\n",
       "155  1156.0   153.500000       1.000000            4.0         1950.0  ultra\n",
       "254  1255.0   203.125000       0.750000            0.0         1950.0  ultra\n",
       "363  1364.0   818.000000       0.600000           77.0         1950.0  ultra\n",
       "493  1495.0   784.000000       1.000000           68.0         1950.0  ultra\n",
       "422  1424.0    35.571429       1.000000           87.0         1950.0  ultra\n",
       "195  1196.0  1086.250000       0.875000          140.0         1950.0  ultra\n",
       "230  1231.0     0.000000       0.750000          173.0         1950.0  ultra\n",
       "104  1104.0   327.000000       0.636364           73.0         1950.0  ultra\n",
       "360  1361.0   232.000000       1.000000           35.0         1950.0  ultra\n",
       "378  1380.0   692.750000       1.000000           26.0         1950.0  ultra\n",
       "459  1461.0   533.500000       1.000000           50.0         1950.0  ultra\n",
       "489  1491.0   513.333333       0.888889           48.0         1950.0  ultra\n",
       "400  1402.0   655.100000       0.800000           28.0         1950.0  ultra\n",
       "335  1336.0   756.000000       0.000000           20.0         1950.0  ultra\n",
       "456  1458.0   741.909091       0.727273            3.0         1950.0  ultra\n",
       "401  1403.0    87.125000       1.000000           48.0         1950.0  ultra\n",
       "0    1000.0   320.750000       1.250000           62.0         1950.0  ultra\n",
       "375  1377.0  1179.363636       0.727273           14.0         1950.0  ultra\n",
       "410  1412.0   710.714286       0.857143           49.0         1950.0  ultra\n",
       "309  1310.0   464.300000       0.600000           46.0         1950.0  ultra\n",
       "242  1243.0   412.142857       1.000000           76.0         1950.0  ultra\n",
       "80   1080.0   759.200000       1.000000           61.0         1950.0  ultra\n",
       "39   1039.0   463.714286       0.714286          119.0         1950.0  ultra\n",
       "299  1300.0   590.166667       1.000000          154.0         1950.0  ultra\n",
       "472  1474.0  1014.000000       1.000000           91.0         1950.0  ultra\n",
       "78   1078.0  1003.428571       0.857143            0.0         1950.0  ultra\n",
       "334  1335.0   609.571429       0.857143           82.0         1950.0  ultra\n",
       "469  1471.0   649.545455       0.727273           84.0         1950.0  ultra\n",
       "340  1341.0  1111.857143       1.000000           57.0         1950.0  ultra\n",
       "253  1254.0   521.375000       1.000000            0.0         1950.0  ultra\n",
       "450  1452.0   189.142857       0.857143           52.0         1950.0  ultra\n",
       "264  1265.0   547.000000       0.800000           57.6         1950.0  ultra\n",
       "147  1148.0   748.888889       0.666667           14.0         1950.0  ultra\n",
       "491  1493.0   372.000000       1.000000           47.0         1950.0  ultra\n",
       "271  1272.0   229.800000       0.600000           59.0         1950.0  ultra\n",
       "451  1453.0   855.750000       0.750000           58.0         1950.0  ultra\n",
       "89   1089.0   435.909091       0.818182          128.0         1950.0  ultra\n",
       "403  1405.0   305.333333       1.000000           55.0         1950.0  ultra"
      ]
     },
     "metadata": {},
     "output_type": "display_data"
    },
    {
     "name": "stdout",
     "output_type": "stream",
     "text": [
      "Среднее: 527.8218193030694\n",
      "Дисперсия: 79403.5518504411\n",
      "Стандартное откл.: 281.78635852439896\n"
     ]
    }
   ],
   "source": [
    "ultra = means.loc[means['tariff']=='ultra']\n",
    "display(ultra.sample(50))\n",
    "print(\"Среднее:\", ultra['calls_mean'].mean())\n",
    "print(\"Дисперсия:\", ultra['calls_mean'].var())\n",
    "print(\"Стандартное откл.:\", ultra['calls_mean'].std())"
   ]
  },
  {
   "cell_type": "code",
   "execution_count": 37,
   "metadata": {},
   "outputs": [
    {
     "name": "stdout",
     "output_type": "stream",
     "text": [
      "Среднее: 54.03074324324324\n",
      "Дисперсия: 2149.8287933213824\n",
      "Стандартное откл.: 46.36624627162935\n"
     ]
    }
   ],
   "source": [
    "print(\"Среднее:\", ultra['messages_mean'].mean())\n",
    "print(\"Дисперсия:\", ultra['messages_mean'].var())\n",
    "print(\"Стандартное откл.:\", ultra['messages_mean'].std())"
   ]
  },
  {
   "cell_type": "code",
   "execution_count": 38,
   "metadata": {},
   "outputs": [
    {
     "name": "stdout",
     "output_type": "stream",
     "text": [
      "Среднее: 0.8480592605592605\n",
      "Дисперсия: 0.04118930996863014\n",
      "Стандартное откл.: 0.2029514965912549\n"
     ]
    }
   ],
   "source": [
    "print(\"Среднее:\", ultra['internet_mean'].mean())\n",
    "print(\"Дисперсия:\", ultra['internet_mean'].var())\n",
    "print(\"Стандартное откл.:\", ultra['internet_mean'].std())"
   ]
  },
  {
   "cell_type": "code",
   "execution_count": 39,
   "metadata": {},
   "outputs": [
    {
     "data": {
      "text/plain": [
       "<AxesSubplot:>"
      ]
     },
     "execution_count": 39,
     "metadata": {},
     "output_type": "execute_result"
    },
    {
     "data": {
      "image/png": "[encoded data removed]",
      "text/plain": [
       "<Figure size 432x288 with 1 Axes>"
      ]
     },
     "metadata": {
      "needs_background": "light"
     },
     "output_type": "display_data"
    }
   ],
   "source": [
    "ultra['vyruchka_mean'].hist(bins=30, ec='black')"
   ]
  },
  {
   "cell_type": "code",
   "execution_count": 40,
   "metadata": {},
   "outputs": [
    {
     "data": {
      "image/png": "[encoded data removed]",
      "text/plain": [
       "<Figure size 432x288 with 1 Axes>"
      ]
     },
     "metadata": {
      "needs_background": "light"
     },
     "output_type": "display_data"
    }
   ],
   "source": [
    "for column in ultra.columns.values.tolist():\n",
    "    plt.hist(ultra[column], range=(1,1000), alpha=0.3)\n",
    "plt.hist(ultra['vyruchka_mean'], alpha=0.5, ec='black')\n",
    "plt.show()"
   ]
  },
  {
   "cell_type": "code",
   "execution_count": 41,
   "metadata": {},
   "outputs": [
    {
     "name": "stdout",
     "output_type": "stream",
     "text": [
      "Среднее: 1950.0\n",
      "Дисперсия: 0.0\n",
      "Стандартное откл.: 0.0\n"
     ]
    }
   ],
   "source": [
    "print(\"Среднее:\", ultra['vyruchka_mean'].mean())\n",
    "print(\"Дисперсия:\", ultra['vyruchka_mean'].var())\n",
    "print(\"Стандартное откл.:\", ultra['vyruchka_mean'].std())"
   ]
  },
  {
   "cell_type": "markdown",
   "metadata": {},
   "source": [
    "Сравнение двух тарифов показывает, что пользователи тарифа \"Ультра\" укладываются в лимиты и платят только по тарифному плану, а пользователи тарифа \"Смарт\" в большей степени платят по тарифу, однако, многие и переплачивают, так как не укладываются в лимиты, поэтому среднее больше стоимости тарифного плана. При сравнении отдельных показателей мы видим, что пользователи тарифного плана \"Ультра\" в среднем больше звонят и пишут смс, а использование интернета в рамках лимита у двух тарифов почти одинаково. Таким образом, переход на тариф \"ультра\" выгоден только для очень малого числа пользователей тарифа \"смарт\", выручка которых приближается к 2000 в месяц."
   ]
  },
  {
   "cell_type": "markdown",
   "metadata": {},
   "source": [
    "Пороговое значение alpha задайте самостоятельно.\n",
    "Поясните, как вы формулировали нулевую и альтернативную гипотезы;"
   ]
  },
  {
   "cell_type": "markdown",
   "metadata": {},
   "source": [
    "Сформулируем нулевую гипотезу\n",
    "\n",
    "1) Нулевая гипотеза:  \"Средняя выручка от пользователей тарифа \"Смарт\" и пользователей \"Ультра\" одинакова\".\n",
    "\n",
    "2) Альтернативная гипотеза: \"Средняя выручка от пользователей тарифа \"Смарт\" и пользователей \"Ультра\" различается\".\n",
    "Примем уровень значимости в 5%"
   ]
  },
  {
   "cell_type": "code",
   "execution_count": 42,
   "metadata": {},
   "outputs": [],
   "source": [
    "#vyruchka['mean'] = vyruchka.mean(axis=1)\n",
    "#vyruchka['mean'].hist(bins=30, ec='black')"
   ]
  },
  {
   "cell_type": "code",
   "execution_count": 43,
   "metadata": {},
   "outputs": [
    {
     "name": "stdout",
     "output_type": "stream",
     "text": [
      "p-значение: 1.7040779049868703e-268\n",
      "Отвергаем нулевую гипотезу\n"
     ]
    }
   ],
   "source": [
    "alpha = .05\n",
    "\n",
    "results = st.ttest_ind(smart['vyruchka_mean'].dropna(), ultra['vyruchka_mean'].dropna(), equal_var=False) \n",
    "\n",
    "print('p-значение:', results.pvalue) # ваш код: выведите на экран получившееся p-значение)\n",
    "\n",
    "if (results.pvalue < alpha):\n",
    "    print(\"Отвергаем нулевую гипотезу\")\n",
    "else:\n",
    "    print(\"Не получилось отвергнуть нулевую гипотезу\")"
   ]
  },
  {
   "cell_type": "markdown",
   "metadata": {},
   "source": [
    "Следовательно, наша гипотеза о том, что выручка различается верна"
   ]
  },
  {
   "cell_type": "markdown",
   "metadata": {},
   "source": [
    "Проверим вторую гипотезу: средняя выручка пользователей из Москвы отличается от выручки пользователей из других регионов."
   ]
  },
  {
   "cell_type": "code",
   "execution_count": 44,
   "metadata": {},
   "outputs": [
    {
     "data": {
      "text/html": [
       "<div>\n",
       "<style scoped>\n",
       "    .dataframe tbody tr th:only-of-type {\n",
       "        vertical-align: middle;\n",
       "    }\n",
       "\n",
       "    .dataframe tbody tr th {\n",
       "        vertical-align: top;\n",
       "    }\n",
       "\n",
       "    .dataframe thead th {\n",
       "        text-align: right;\n",
       "    }\n",
       "</style>\n",
       "<table border=\"1\" class=\"dataframe\">\n",
       "  <thead>\n",
       "    <tr style=\"text-align: right;\">\n",
       "      <th></th>\n",
       "      <th>user_id</th>\n",
       "      <th>calls_mean</th>\n",
       "      <th>internet_mean</th>\n",
       "      <th>messages_mean</th>\n",
       "      <th>vyruchka_mean</th>\n",
       "      <th>tariff</th>\n",
       "      <th>city</th>\n",
       "    </tr>\n",
       "  </thead>\n",
       "  <tbody>\n",
       "    <tr>\n",
       "      <th>1</th>\n",
       "      <td>1001.0</td>\n",
       "      <td>422.000000</td>\n",
       "      <td>1.000000</td>\n",
       "      <td>0.0</td>\n",
       "      <td>550.0</td>\n",
       "      <td>smart</td>\n",
       "      <td>Москва</td>\n",
       "    </tr>\n",
       "    <tr>\n",
       "      <th>3</th>\n",
       "      <td>1003.0</td>\n",
       "      <td>764.400000</td>\n",
       "      <td>1.000000</td>\n",
       "      <td>76.0</td>\n",
       "      <td>1950.0</td>\n",
       "      <td>ultra</td>\n",
       "      <td>Москва</td>\n",
       "    </tr>\n",
       "    <tr>\n",
       "      <th>7</th>\n",
       "      <td>1007.0</td>\n",
       "      <td>486.555556</td>\n",
       "      <td>1.111111</td>\n",
       "      <td>25.0</td>\n",
       "      <td>669.0</td>\n",
       "      <td>smart</td>\n",
       "      <td>Москва</td>\n",
       "    </tr>\n",
       "    <tr>\n",
       "      <th>31</th>\n",
       "      <td>1031.0</td>\n",
       "      <td>613.500000</td>\n",
       "      <td>1.000000</td>\n",
       "      <td>26.0</td>\n",
       "      <td>890.5</td>\n",
       "      <td>smart</td>\n",
       "      <td>Москва</td>\n",
       "    </tr>\n",
       "    <tr>\n",
       "      <th>33</th>\n",
       "      <td>1033.0</td>\n",
       "      <td>349.666667</td>\n",
       "      <td>0.833333</td>\n",
       "      <td>69.0</td>\n",
       "      <td>614.0</td>\n",
       "      <td>smart</td>\n",
       "      <td>Москва</td>\n",
       "    </tr>\n",
       "    <tr>\n",
       "      <th>38</th>\n",
       "      <td>1038.0</td>\n",
       "      <td>319.333333</td>\n",
       "      <td>1.000000</td>\n",
       "      <td>10.0</td>\n",
       "      <td>550.0</td>\n",
       "      <td>smart</td>\n",
       "      <td>Москва</td>\n",
       "    </tr>\n",
       "    <tr>\n",
       "      <th>41</th>\n",
       "      <td>1041.0</td>\n",
       "      <td>436.500000</td>\n",
       "      <td>1.000000</td>\n",
       "      <td>13.0</td>\n",
       "      <td>1091.5</td>\n",
       "      <td>smart</td>\n",
       "      <td>Москва</td>\n",
       "    </tr>\n",
       "    <tr>\n",
       "      <th>49</th>\n",
       "      <td>1049.0</td>\n",
       "      <td>588.000000</td>\n",
       "      <td>0.700000</td>\n",
       "      <td>0.0</td>\n",
       "      <td>1950.0</td>\n",
       "      <td>ultra</td>\n",
       "      <td>Москва</td>\n",
       "    </tr>\n",
       "    <tr>\n",
       "      <th>51</th>\n",
       "      <td>1051.0</td>\n",
       "      <td>292.666667</td>\n",
       "      <td>1.000000</td>\n",
       "      <td>2.5</td>\n",
       "      <td>558.5</td>\n",
       "      <td>smart</td>\n",
       "      <td>Москва</td>\n",
       "    </tr>\n",
       "    <tr>\n",
       "      <th>57</th>\n",
       "      <td>1057.0</td>\n",
       "      <td>778.800000</td>\n",
       "      <td>1.000000</td>\n",
       "      <td>25.0</td>\n",
       "      <td>1950.0</td>\n",
       "      <td>ultra</td>\n",
       "      <td>Москва</td>\n",
       "    </tr>\n",
       "  </tbody>\n",
       "</table>\n",
       "</div>"
      ],
      "text/plain": [
       "   user_id  calls_mean  internet_mean  messages_mean  vyruchka_mean tariff  \\\n",
       "1   1001.0  422.000000       1.000000            0.0          550.0  smart   \n",
       "3   1003.0  764.400000       1.000000           76.0         1950.0  ultra   \n",
       "7   1007.0  486.555556       1.111111           25.0          669.0  smart   \n",
       "31  1031.0  613.500000       1.000000           26.0          890.5  smart   \n",
       "33  1033.0  349.666667       0.833333           69.0          614.0  smart   \n",
       "38  1038.0  319.333333       1.000000           10.0          550.0  smart   \n",
       "41  1041.0  436.500000       1.000000           13.0         1091.5  smart   \n",
       "49  1049.0  588.000000       0.700000            0.0         1950.0  ultra   \n",
       "51  1051.0  292.666667       1.000000            2.5          558.5  smart   \n",
       "57  1057.0  778.800000       1.000000           25.0         1950.0  ultra   \n",
       "\n",
       "      city  \n",
       "1   Москва  \n",
       "3   Москва  \n",
       "7   Москва  \n",
       "31  Москва  \n",
       "33  Москва  \n",
       "38  Москва  \n",
       "41  Москва  \n",
       "49  Москва  \n",
       "51  Москва  \n",
       "57  Москва  "
      ]
     },
     "metadata": {},
     "output_type": "display_data"
    },
    {
     "data": {
      "text/plain": [
       "<AxesSubplot:>"
      ]
     },
     "execution_count": 44,
     "metadata": {},
     "output_type": "execute_result"
    },
    {
     "data": {
      "image/png": "[encoded data removed]",
      "text/plain": [
       "<Figure size 432x288 with 1 Axes>"
      ]
     },
     "metadata": {
      "needs_background": "light"
     },
     "output_type": "display_data"
    }
   ],
   "source": [
    "means = means.merge(users[['user_id','city']], on='user_id', how='right')\n",
    "Moscow_users=means.loc[means['city']=='Москва']\n",
    "display(Moscow_users.head(10))\n",
    "Moscow_users['vyruchka_mean'].hist(bins=30, ec='black')"
   ]
  },
  {
   "cell_type": "code",
   "execution_count": 45,
   "metadata": {},
   "outputs": [
    {
     "data": {
      "text/html": [
       "<div>\n",
       "<style scoped>\n",
       "    .dataframe tbody tr th:only-of-type {\n",
       "        vertical-align: middle;\n",
       "    }\n",
       "\n",
       "    .dataframe tbody tr th {\n",
       "        vertical-align: top;\n",
       "    }\n",
       "\n",
       "    .dataframe thead th {\n",
       "        text-align: right;\n",
       "    }\n",
       "</style>\n",
       "<table border=\"1\" class=\"dataframe\">\n",
       "  <thead>\n",
       "    <tr style=\"text-align: right;\">\n",
       "      <th></th>\n",
       "      <th>user_id</th>\n",
       "      <th>calls_mean</th>\n",
       "      <th>internet_mean</th>\n",
       "      <th>messages_mean</th>\n",
       "      <th>vyruchka_mean</th>\n",
       "      <th>tariff</th>\n",
       "      <th>city</th>\n",
       "    </tr>\n",
       "  </thead>\n",
       "  <tbody>\n",
       "    <tr>\n",
       "      <th>0</th>\n",
       "      <td>1000.0</td>\n",
       "      <td>320.750000</td>\n",
       "      <td>1.250000</td>\n",
       "      <td>62.0</td>\n",
       "      <td>1950.0</td>\n",
       "      <td>ultra</td>\n",
       "      <td>Краснодар</td>\n",
       "    </tr>\n",
       "    <tr>\n",
       "      <th>2</th>\n",
       "      <td>1002.0</td>\n",
       "      <td>216.714286</td>\n",
       "      <td>0.857143</td>\n",
       "      <td>10.0</td>\n",
       "      <td>550.0</td>\n",
       "      <td>smart</td>\n",
       "      <td>Стерлитамак</td>\n",
       "    </tr>\n",
       "    <tr>\n",
       "      <th>4</th>\n",
       "      <td>1004.0</td>\n",
       "      <td>123.375000</td>\n",
       "      <td>1.000000</td>\n",
       "      <td>149.0</td>\n",
       "      <td>1950.0</td>\n",
       "      <td>ultra</td>\n",
       "      <td>Новокузнецк</td>\n",
       "    </tr>\n",
       "    <tr>\n",
       "      <th>5</th>\n",
       "      <td>1005.0</td>\n",
       "      <td>550.416667</td>\n",
       "      <td>1.000000</td>\n",
       "      <td>46.0</td>\n",
       "      <td>827.0</td>\n",
       "      <td>smart</td>\n",
       "      <td>Набережные Челны</td>\n",
       "    </tr>\n",
       "    <tr>\n",
       "      <th>6</th>\n",
       "      <td>1006.0</td>\n",
       "      <td>318.272727</td>\n",
       "      <td>0.909091</td>\n",
       "      <td>0.0</td>\n",
       "      <td>550.0</td>\n",
       "      <td>smart</td>\n",
       "      <td>Ульяновск</td>\n",
       "    </tr>\n",
       "    <tr>\n",
       "      <th>8</th>\n",
       "      <td>1008.0</td>\n",
       "      <td>339.000000</td>\n",
       "      <td>1.000000</td>\n",
       "      <td>56.0</td>\n",
       "      <td>568.0</td>\n",
       "      <td>smart</td>\n",
       "      <td>Челябинск</td>\n",
       "    </tr>\n",
       "    <tr>\n",
       "      <th>9</th>\n",
       "      <td>1009.0</td>\n",
       "      <td>218.900000</td>\n",
       "      <td>0.900000</td>\n",
       "      <td>11.0</td>\n",
       "      <td>550.0</td>\n",
       "      <td>smart</td>\n",
       "      <td>Пермь</td>\n",
       "    </tr>\n",
       "    <tr>\n",
       "      <th>10</th>\n",
       "      <td>1010.0</td>\n",
       "      <td>231.000000</td>\n",
       "      <td>1.000000</td>\n",
       "      <td>0.0</td>\n",
       "      <td>550.0</td>\n",
       "      <td>smart</td>\n",
       "      <td>Тюмень</td>\n",
       "    </tr>\n",
       "    <tr>\n",
       "      <th>11</th>\n",
       "      <td>1011.0</td>\n",
       "      <td>432.800000</td>\n",
       "      <td>1.100000</td>\n",
       "      <td>11.0</td>\n",
       "      <td>594.4</td>\n",
       "      <td>smart</td>\n",
       "      <td>Самара</td>\n",
       "    </tr>\n",
       "    <tr>\n",
       "      <th>12</th>\n",
       "      <td>1012.0</td>\n",
       "      <td>251.600000</td>\n",
       "      <td>1.100000</td>\n",
       "      <td>15.0</td>\n",
       "      <td>550.0</td>\n",
       "      <td>smart</td>\n",
       "      <td>Санкт-Петербург</td>\n",
       "    </tr>\n",
       "  </tbody>\n",
       "</table>\n",
       "</div>"
      ],
      "text/plain": [
       "   user_id  calls_mean  internet_mean  messages_mean  vyruchka_mean tariff  \\\n",
       "0   1000.0  320.750000       1.250000           62.0         1950.0  ultra   \n",
       "2   1002.0  216.714286       0.857143           10.0          550.0  smart   \n",
       "4   1004.0  123.375000       1.000000          149.0         1950.0  ultra   \n",
       "5   1005.0  550.416667       1.000000           46.0          827.0  smart   \n",
       "6   1006.0  318.272727       0.909091            0.0          550.0  smart   \n",
       "8   1008.0  339.000000       1.000000           56.0          568.0  smart   \n",
       "9   1009.0  218.900000       0.900000           11.0          550.0  smart   \n",
       "10  1010.0  231.000000       1.000000            0.0          550.0  smart   \n",
       "11  1011.0  432.800000       1.100000           11.0          594.4  smart   \n",
       "12  1012.0  251.600000       1.100000           15.0          550.0  smart   \n",
       "\n",
       "                city  \n",
       "0          Краснодар  \n",
       "2        Стерлитамак  \n",
       "4        Новокузнецк  \n",
       "5   Набережные Челны  \n",
       "6          Ульяновск  \n",
       "8          Челябинск  \n",
       "9              Пермь  \n",
       "10            Тюмень  \n",
       "11            Самара  \n",
       "12   Санкт-Петербург  "
      ]
     },
     "metadata": {},
     "output_type": "display_data"
    },
    {
     "data": {
      "text/plain": [
       "<AxesSubplot:>"
      ]
     },
     "execution_count": 45,
     "metadata": {},
     "output_type": "execute_result"
    },
    {
     "data": {
      "image/png": "[encoded data removed]",
      "text/plain": [
       "<Figure size 432x288 with 1 Axes>"
      ]
     },
     "metadata": {
      "needs_background": "light"
     },
     "output_type": "display_data"
    }
   ],
   "source": [
    "not_Moscow_users=means.loc[means['city']!='Москва']\n",
    "display(not_Moscow_users.head(10))\n",
    "not_Moscow_users['vyruchka_mean'].hist(bins=30, ec='black')"
   ]
  },
  {
   "cell_type": "markdown",
   "metadata": {},
   "source": [
    "Сформулируем нулевую гипотезу: \n",
    "1) Нулевая гипотеза: выручка пользователей из Москвы и пользователей из других регионов отличается.\n",
    "2) Альтернативная гипотеза: выручка пользователей из Москвы и пользователей из других регионов одинакова.\n",
    "Примем уровень значимости в 5%"
   ]
  },
  {
   "cell_type": "code",
   "execution_count": 46,
   "metadata": {},
   "outputs": [],
   "source": [
    "#vyruchka_good = pd.concat([vyruchka, vyruchka['city']], axis=1)"
   ]
  },
  {
   "cell_type": "code",
   "execution_count": 47,
   "metadata": {},
   "outputs": [
    {
     "name": "stdout",
     "output_type": "stream",
     "text": [
      "p-значение: 0.6560108567477669\n",
      "Не получилось отвергнуть нулевую гипотезу\n"
     ]
    }
   ],
   "source": [
    "alpha = .05\n",
    "\n",
    "results = (\n",
    "    st.ttest_ind(\n",
    "        Moscow_users['vyruchka_mean'].dropna(), \n",
    "        not_Moscow_users['vyruchka_mean'].dropna(), \n",
    "        equal_var=False)\n",
    ")\n",
    "\n",
    "print('p-значение:', results.pvalue)\n",
    "\n",
    "if (results.pvalue < alpha):\n",
    "    print(\"Отвергаем нулевую гипотезу\")\n",
    "else:\n",
    "    print(\"Не получилось отвергнуть нулевую гипотезу\")"
   ]
  },
  {
   "cell_type": "markdown",
   "metadata": {},
   "source": [
    "Гипотеза о том, что выручка пользователей из Москвы и пользователей из других регионов различается не подтвердилась."
   ]
  },
  {
   "cell_type": "markdown",
   "metadata": {},
   "source": [
    "Для проверки гипотез использовала alpha = .05"
   ]
  },
  {
   "cell_type": "markdown",
   "metadata": {},
   "source": [
    "#### Шаг 5. Общий вывод"
   ]
  },
  {
   "cell_type": "markdown",
   "metadata": {},
   "source": [
    "Были проверены данные на пропуски и на аномалии. Убраны: столбец с неактуальной информацией из таблицы по трафику. И строки с нулевыми значениями из таблицы по трафику и из таблицы со звонками.\n",
    "\n",
    "Было определено, что среди всех клиентов не пользовались интернетом 3 человека, не звонили 8, не писали 74. В большей степени, клиенты используют интернет-услугу.\n",
    "\n",
    "Были созданы по каждой категории данных таблицы, ранжированные по клиентам и месяцам. Посчитана выручка, которую принес компании каждый клиент, что отражено в отдельной таблице. По всем этим таблицам посчитаны среднее арифметическое, дисперсия и стандартное отклонение и сделаны графики. \n",
    "\n",
    "Сравнение двух тарифов показывает, что пользователи тарифа \"Ультра\" укладываются в лимиты и платят только по тарифному плану, а пользователи тарифа \"Смарт\" в большей степени платят по тарифу, однако, многие и переплачивают, так как не укладываются в лимиты, поэтому среднее больше стоимости тарифного плана. При сравнении отдельных показателей мы видим, что пользователи тарифного плана \"Ультра\" в среднем больше звонят и пишут смс, а использование интернета в рамках лимита у двух тарифов почти одинаково. Таким образом, переход на тариф \"Ультра\" выгоден только для очень малого числа пользователей тарифа \"Смарт\", выручка которых приближается к 2000 в месяц. Для большинства пользователей тарифа \"Смарт\" выгоден. А часть пользователей тарифа \"Ультра\" могли бы сэкономить и перейти на тариф \"Смарт\" без потерь для своих привычных объемов по использованию услуг.\n",
    "\n",
    "Для проверки гипотез были сделаны две выборки, по типу тарифа и по городу клиента. Первая гипотеза о том, что выручка по тарифам различается подтвердилась. А вторая гипотеза, про выручку пользователей из Москвы и пользователей других регионов, не подтвердилась. Распределение выручки в Москве и в регионах очень близкое."
   ]
  }
 ],
 "metadata": {
  "ExecuteTimeLog": [
   {
    "duration": 237,
    "start_time": "2022-05-01T11:38:42.638Z"
   },
   {
    "duration": 226,
    "start_time": "2022-05-01T11:38:42.877Z"
   },
   {
    "duration": 173,
    "start_time": "2022-05-01T11:38:43.105Z"
   },
   {
    "duration": 222,
    "start_time": "2022-05-01T11:38:43.280Z"
   },
   {
    "duration": 123,
    "start_time": "2022-05-01T11:38:43.505Z"
   },
   {
    "duration": 21,
    "start_time": "2022-05-01T11:38:43.632Z"
   },
   {
    "duration": 27,
    "start_time": "2022-05-01T11:38:43.659Z"
   },
   {
    "duration": 49,
    "start_time": "2022-05-01T11:38:43.688Z"
   },
   {
    "duration": 93,
    "start_time": "2022-05-01T11:38:43.739Z"
   },
   {
    "duration": 9,
    "start_time": "2022-05-01T11:38:43.834Z"
   },
   {
    "duration": 26,
    "start_time": "2022-05-01T11:38:43.845Z"
   },
   {
    "duration": 26,
    "start_time": "2022-05-01T11:38:43.873Z"
   },
   {
    "duration": 33,
    "start_time": "2022-05-01T11:38:43.900Z"
   },
   {
    "duration": 50,
    "start_time": "2022-05-01T11:38:43.937Z"
   },
   {
    "duration": 72,
    "start_time": "2022-05-01T11:38:43.989Z"
   },
   {
    "duration": 64,
    "start_time": "2022-05-01T11:38:44.062Z"
   },
   {
    "duration": 51,
    "start_time": "2022-05-01T11:38:44.128Z"
   },
   {
    "duration": 68,
    "start_time": "2022-05-01T11:38:44.181Z"
   },
   {
    "duration": 6,
    "start_time": "2022-05-01T11:38:44.251Z"
   },
   {
    "duration": 204,
    "start_time": "2022-05-01T11:38:44.259Z"
   },
   {
    "duration": 189,
    "start_time": "2022-05-01T11:38:44.465Z"
   },
   {
    "duration": 112,
    "start_time": "2022-05-01T11:38:44.656Z"
   },
   {
    "duration": 186,
    "start_time": "2022-05-01T11:38:44.770Z"
   },
   {
    "duration": 116,
    "start_time": "2022-05-01T11:38:44.958Z"
   },
   {
    "duration": 203,
    "start_time": "2022-05-01T11:38:45.076Z"
   },
   {
    "duration": 268,
    "start_time": "2022-05-01T11:38:45.281Z"
   },
   {
    "duration": 6034,
    "start_time": "2022-05-01T11:38:45.554Z"
   },
   {
    "duration": 6128,
    "start_time": "2022-05-01T11:38:51.590Z"
   },
   {
    "duration": 7528,
    "start_time": "2022-05-01T11:38:57.729Z"
   },
   {
    "duration": 17,
    "start_time": "2022-05-01T11:39:05.259Z"
   },
   {
    "duration": 15,
    "start_time": "2022-05-01T11:39:05.278Z"
   },
   {
    "duration": 40,
    "start_time": "2022-05-01T11:39:05.295Z"
   },
   {
    "duration": 258,
    "start_time": "2022-05-01T11:39:05.342Z"
   },
   {
    "duration": 6305,
    "start_time": "2022-05-01T11:39:05.602Z"
   },
   {
    "duration": 21,
    "start_time": "2022-05-01T11:39:11.909Z"
   },
   {
    "duration": 13,
    "start_time": "2022-05-01T11:39:11.932Z"
   },
   {
    "duration": 11,
    "start_time": "2022-05-01T11:39:11.949Z"
   },
   {
    "duration": 11,
    "start_time": "2022-05-01T11:39:11.964Z"
   },
   {
    "duration": 233,
    "start_time": "2022-05-01T11:39:11.977Z"
   },
   {
    "duration": 3092,
    "start_time": "2022-05-01T11:39:12.212Z"
   },
   {
    "duration": 15,
    "start_time": "2022-05-01T11:39:15.308Z"
   },
   {
    "duration": 27,
    "start_time": "2022-05-01T11:39:15.328Z"
   },
   {
    "duration": 170,
    "start_time": "2022-05-01T11:39:15.357Z"
   },
   {
    "duration": 12,
    "start_time": "2022-05-01T11:39:15.534Z"
   },
   {
    "duration": 195,
    "start_time": "2022-05-01T11:39:15.547Z"
   },
   {
    "duration": 203,
    "start_time": "2022-05-01T11:39:15.744Z"
   },
   {
    "duration": 3,
    "start_time": "2022-05-01T11:39:15.949Z"
   },
   {
    "duration": 14,
    "start_time": "2022-05-01T11:39:15.953Z"
   },
   {
    "duration": 172,
    "start_time": "2022-05-01T11:39:15.969Z"
   },
   {
    "duration": 57,
    "start_time": "2022-05-01T11:39:28.700Z"
   },
   {
    "duration": 3,
    "start_time": "2022-05-01T11:42:43.985Z"
   },
   {
    "duration": 210,
    "start_time": "2022-05-01T11:54:07.124Z"
   },
   {
    "duration": 1439,
    "start_time": "2022-05-01T14:54:14.047Z"
   },
   {
    "duration": 197,
    "start_time": "2022-05-01T14:54:15.488Z"
   },
   {
    "duration": 138,
    "start_time": "2022-05-01T14:54:15.686Z"
   },
   {
    "duration": 182,
    "start_time": "2022-05-01T14:54:15.826Z"
   },
   {
    "duration": 97,
    "start_time": "2022-05-01T14:54:16.010Z"
   },
   {
    "duration": 27,
    "start_time": "2022-05-01T14:54:16.108Z"
   },
   {
    "duration": 26,
    "start_time": "2022-05-01T14:54:16.137Z"
   },
   {
    "duration": 38,
    "start_time": "2022-05-01T14:54:16.165Z"
   },
   {
    "duration": 80,
    "start_time": "2022-05-01T14:54:16.205Z"
   },
   {
    "duration": 9,
    "start_time": "2022-05-01T14:54:16.288Z"
   },
   {
    "duration": 37,
    "start_time": "2022-05-01T14:54:16.298Z"
   },
   {
    "duration": 25,
    "start_time": "2022-05-01T14:54:16.337Z"
   },
   {
    "duration": 9,
    "start_time": "2022-05-01T14:54:16.364Z"
   },
   {
    "duration": 64,
    "start_time": "2022-05-01T14:54:16.375Z"
   },
   {
    "duration": 127,
    "start_time": "2022-05-01T14:54:16.441Z"
   },
   {
    "duration": 0,
    "start_time": "2022-05-01T14:54:16.570Z"
   },
   {
    "duration": 0,
    "start_time": "2022-05-01T14:54:16.571Z"
   },
   {
    "duration": 0,
    "start_time": "2022-05-01T14:54:16.572Z"
   },
   {
    "duration": 0,
    "start_time": "2022-05-01T14:54:16.573Z"
   },
   {
    "duration": 0,
    "start_time": "2022-05-01T14:54:16.574Z"
   },
   {
    "duration": 0,
    "start_time": "2022-05-01T14:54:16.575Z"
   },
   {
    "duration": 0,
    "start_time": "2022-05-01T14:54:16.576Z"
   },
   {
    "duration": 0,
    "start_time": "2022-05-01T14:54:16.576Z"
   },
   {
    "duration": 0,
    "start_time": "2022-05-01T14:54:16.577Z"
   },
   {
    "duration": 0,
    "start_time": "2022-05-01T14:54:16.578Z"
   },
   {
    "duration": 0,
    "start_time": "2022-05-01T14:54:16.579Z"
   },
   {
    "duration": 0,
    "start_time": "2022-05-01T14:54:16.580Z"
   },
   {
    "duration": 0,
    "start_time": "2022-05-01T14:54:16.580Z"
   },
   {
    "duration": 0,
    "start_time": "2022-05-01T14:54:16.581Z"
   },
   {
    "duration": 0,
    "start_time": "2022-05-01T14:54:16.582Z"
   },
   {
    "duration": 0,
    "start_time": "2022-05-01T14:54:16.583Z"
   },
   {
    "duration": 0,
    "start_time": "2022-05-01T14:54:16.584Z"
   },
   {
    "duration": 0,
    "start_time": "2022-05-01T14:54:16.585Z"
   },
   {
    "duration": 0,
    "start_time": "2022-05-01T14:54:16.585Z"
   },
   {
    "duration": 0,
    "start_time": "2022-05-01T14:54:16.586Z"
   },
   {
    "duration": 0,
    "start_time": "2022-05-01T14:54:16.587Z"
   },
   {
    "duration": 0,
    "start_time": "2022-05-01T14:54:16.588Z"
   },
   {
    "duration": 0,
    "start_time": "2022-05-01T14:54:16.589Z"
   },
   {
    "duration": 0,
    "start_time": "2022-05-01T14:54:16.590Z"
   },
   {
    "duration": 0,
    "start_time": "2022-05-01T14:54:16.623Z"
   },
   {
    "duration": 0,
    "start_time": "2022-05-01T14:54:16.625Z"
   },
   {
    "duration": 0,
    "start_time": "2022-05-01T14:54:16.626Z"
   },
   {
    "duration": 0,
    "start_time": "2022-05-01T14:54:16.627Z"
   },
   {
    "duration": 0,
    "start_time": "2022-05-01T14:54:16.627Z"
   },
   {
    "duration": 0,
    "start_time": "2022-05-01T14:54:16.628Z"
   },
   {
    "duration": 0,
    "start_time": "2022-05-01T14:54:16.629Z"
   },
   {
    "duration": 0,
    "start_time": "2022-05-01T14:54:16.630Z"
   },
   {
    "duration": 0,
    "start_time": "2022-05-01T14:54:16.631Z"
   },
   {
    "duration": 0,
    "start_time": "2022-05-01T14:54:16.632Z"
   },
   {
    "duration": 0,
    "start_time": "2022-05-01T14:54:16.633Z"
   },
   {
    "duration": 1438,
    "start_time": "2022-05-01T15:08:41.023Z"
   },
   {
    "duration": 235,
    "start_time": "2022-05-01T15:08:42.463Z"
   },
   {
    "duration": 155,
    "start_time": "2022-05-01T15:08:42.700Z"
   },
   {
    "duration": 208,
    "start_time": "2022-05-01T15:08:42.857Z"
   },
   {
    "duration": 142,
    "start_time": "2022-05-01T15:08:43.068Z"
   },
   {
    "duration": 22,
    "start_time": "2022-05-01T15:08:43.213Z"
   },
   {
    "duration": 36,
    "start_time": "2022-05-01T15:08:43.237Z"
   },
   {
    "duration": 42,
    "start_time": "2022-05-01T15:08:43.275Z"
   },
   {
    "duration": 124,
    "start_time": "2022-05-01T15:08:43.319Z"
   },
   {
    "duration": 12,
    "start_time": "2022-05-01T15:08:43.447Z"
   },
   {
    "duration": 27,
    "start_time": "2022-05-01T15:08:43.461Z"
   },
   {
    "duration": 44,
    "start_time": "2022-05-01T15:08:43.489Z"
   },
   {
    "duration": 12,
    "start_time": "2022-05-01T15:08:43.536Z"
   },
   {
    "duration": 44,
    "start_time": "2022-05-01T15:08:43.549Z"
   },
   {
    "duration": 82,
    "start_time": "2022-05-01T15:08:43.595Z"
   },
   {
    "duration": 125,
    "start_time": "2022-05-01T15:08:43.679Z"
   },
   {
    "duration": 0,
    "start_time": "2022-05-01T15:08:43.807Z"
   },
   {
    "duration": 0,
    "start_time": "2022-05-01T15:08:43.809Z"
   },
   {
    "duration": 0,
    "start_time": "2022-05-01T15:08:43.810Z"
   },
   {
    "duration": 0,
    "start_time": "2022-05-01T15:08:43.811Z"
   },
   {
    "duration": 0,
    "start_time": "2022-05-01T15:08:43.813Z"
   },
   {
    "duration": 0,
    "start_time": "2022-05-01T15:08:43.814Z"
   },
   {
    "duration": 0,
    "start_time": "2022-05-01T15:08:43.815Z"
   },
   {
    "duration": 0,
    "start_time": "2022-05-01T15:08:43.823Z"
   },
   {
    "duration": 0,
    "start_time": "2022-05-01T15:08:43.825Z"
   },
   {
    "duration": 0,
    "start_time": "2022-05-01T15:08:43.832Z"
   },
   {
    "duration": 0,
    "start_time": "2022-05-01T15:08:43.833Z"
   },
   {
    "duration": 0,
    "start_time": "2022-05-01T15:08:43.835Z"
   },
   {
    "duration": 0,
    "start_time": "2022-05-01T15:08:43.837Z"
   },
   {
    "duration": 0,
    "start_time": "2022-05-01T15:08:43.838Z"
   },
   {
    "duration": 0,
    "start_time": "2022-05-01T15:08:43.840Z"
   },
   {
    "duration": 0,
    "start_time": "2022-05-01T15:08:43.841Z"
   },
   {
    "duration": 0,
    "start_time": "2022-05-01T15:08:43.843Z"
   },
   {
    "duration": 0,
    "start_time": "2022-05-01T15:08:43.845Z"
   },
   {
    "duration": 0,
    "start_time": "2022-05-01T15:08:43.846Z"
   },
   {
    "duration": 0,
    "start_time": "2022-05-01T15:08:43.848Z"
   },
   {
    "duration": 0,
    "start_time": "2022-05-01T15:08:43.849Z"
   },
   {
    "duration": 0,
    "start_time": "2022-05-01T15:08:43.850Z"
   },
   {
    "duration": 0,
    "start_time": "2022-05-01T15:08:43.851Z"
   },
   {
    "duration": 0,
    "start_time": "2022-05-01T15:08:43.852Z"
   },
   {
    "duration": 0,
    "start_time": "2022-05-01T15:08:43.853Z"
   },
   {
    "duration": 0,
    "start_time": "2022-05-01T15:08:43.855Z"
   },
   {
    "duration": 0,
    "start_time": "2022-05-01T15:08:43.856Z"
   },
   {
    "duration": 0,
    "start_time": "2022-05-01T15:08:43.857Z"
   },
   {
    "duration": 0,
    "start_time": "2022-05-01T15:08:43.858Z"
   },
   {
    "duration": 0,
    "start_time": "2022-05-01T15:08:43.860Z"
   },
   {
    "duration": 0,
    "start_time": "2022-05-01T15:08:43.862Z"
   },
   {
    "duration": 0,
    "start_time": "2022-05-01T15:08:43.863Z"
   },
   {
    "duration": 0,
    "start_time": "2022-05-01T15:08:43.864Z"
   },
   {
    "duration": 0,
    "start_time": "2022-05-01T15:08:43.866Z"
   },
   {
    "duration": 1415,
    "start_time": "2022-05-01T15:18:33.037Z"
   },
   {
    "duration": 221,
    "start_time": "2022-05-01T15:18:34.454Z"
   },
   {
    "duration": 139,
    "start_time": "2022-05-01T15:18:34.677Z"
   },
   {
    "duration": 196,
    "start_time": "2022-05-01T15:18:34.817Z"
   },
   {
    "duration": 104,
    "start_time": "2022-05-01T15:18:35.015Z"
   },
   {
    "duration": 15,
    "start_time": "2022-05-01T15:18:35.123Z"
   },
   {
    "duration": 29,
    "start_time": "2022-05-01T15:18:35.140Z"
   },
   {
    "duration": 31,
    "start_time": "2022-05-01T15:18:35.171Z"
   },
   {
    "duration": 89,
    "start_time": "2022-05-01T15:18:35.203Z"
   },
   {
    "duration": 9,
    "start_time": "2022-05-01T15:18:35.294Z"
   },
   {
    "duration": 41,
    "start_time": "2022-05-01T15:18:35.305Z"
   },
   {
    "duration": 24,
    "start_time": "2022-05-01T15:18:35.348Z"
   },
   {
    "duration": 10,
    "start_time": "2022-05-01T15:18:35.373Z"
   },
   {
    "duration": 62,
    "start_time": "2022-05-01T15:18:35.386Z"
   },
   {
    "duration": 151,
    "start_time": "2022-05-01T15:18:35.450Z"
   },
   {
    "duration": 0,
    "start_time": "2022-05-01T15:18:35.603Z"
   },
   {
    "duration": 0,
    "start_time": "2022-05-01T15:18:35.604Z"
   },
   {
    "duration": 0,
    "start_time": "2022-05-01T15:18:35.605Z"
   },
   {
    "duration": 0,
    "start_time": "2022-05-01T15:18:35.606Z"
   },
   {
    "duration": 0,
    "start_time": "2022-05-01T15:18:35.607Z"
   },
   {
    "duration": 0,
    "start_time": "2022-05-01T15:18:35.608Z"
   },
   {
    "duration": 0,
    "start_time": "2022-05-01T15:18:35.609Z"
   },
   {
    "duration": 0,
    "start_time": "2022-05-01T15:18:35.623Z"
   },
   {
    "duration": 0,
    "start_time": "2022-05-01T15:18:35.624Z"
   },
   {
    "duration": 0,
    "start_time": "2022-05-01T15:18:35.625Z"
   },
   {
    "duration": 0,
    "start_time": "2022-05-01T15:18:35.626Z"
   },
   {
    "duration": 0,
    "start_time": "2022-05-01T15:18:35.628Z"
   },
   {
    "duration": 0,
    "start_time": "2022-05-01T15:18:35.629Z"
   },
   {
    "duration": 0,
    "start_time": "2022-05-01T15:18:35.630Z"
   },
   {
    "duration": 0,
    "start_time": "2022-05-01T15:18:35.632Z"
   },
   {
    "duration": 0,
    "start_time": "2022-05-01T15:18:35.633Z"
   },
   {
    "duration": 0,
    "start_time": "2022-05-01T15:18:35.634Z"
   },
   {
    "duration": 0,
    "start_time": "2022-05-01T15:18:35.637Z"
   },
   {
    "duration": 0,
    "start_time": "2022-05-01T15:18:35.639Z"
   },
   {
    "duration": 0,
    "start_time": "2022-05-01T15:18:35.640Z"
   },
   {
    "duration": 0,
    "start_time": "2022-05-01T15:18:35.642Z"
   },
   {
    "duration": 0,
    "start_time": "2022-05-01T15:18:35.644Z"
   },
   {
    "duration": 0,
    "start_time": "2022-05-01T15:18:35.645Z"
   },
   {
    "duration": 0,
    "start_time": "2022-05-01T15:18:35.646Z"
   },
   {
    "duration": 0,
    "start_time": "2022-05-01T15:18:35.647Z"
   },
   {
    "duration": 0,
    "start_time": "2022-05-01T15:18:35.648Z"
   },
   {
    "duration": 0,
    "start_time": "2022-05-01T15:18:35.649Z"
   },
   {
    "duration": 0,
    "start_time": "2022-05-01T15:18:35.650Z"
   },
   {
    "duration": 0,
    "start_time": "2022-05-01T15:18:35.651Z"
   },
   {
    "duration": 0,
    "start_time": "2022-05-01T15:18:35.652Z"
   },
   {
    "duration": 0,
    "start_time": "2022-05-01T15:18:35.652Z"
   },
   {
    "duration": 0,
    "start_time": "2022-05-01T15:18:35.653Z"
   },
   {
    "duration": 0,
    "start_time": "2022-05-01T15:18:35.655Z"
   },
   {
    "duration": 0,
    "start_time": "2022-05-01T15:18:35.656Z"
   },
   {
    "duration": 1464,
    "start_time": "2022-05-01T15:24:28.745Z"
   },
   {
    "duration": 229,
    "start_time": "2022-05-01T15:24:30.212Z"
   },
   {
    "duration": 169,
    "start_time": "2022-05-01T15:24:30.443Z"
   },
   {
    "duration": 221,
    "start_time": "2022-05-01T15:24:30.615Z"
   },
   {
    "duration": 116,
    "start_time": "2022-05-01T15:24:30.840Z"
   },
   {
    "duration": 15,
    "start_time": "2022-05-01T15:24:30.958Z"
   },
   {
    "duration": 28,
    "start_time": "2022-05-01T15:24:30.975Z"
   },
   {
    "duration": 65,
    "start_time": "2022-05-01T15:24:31.006Z"
   },
   {
    "duration": 94,
    "start_time": "2022-05-01T15:24:31.073Z"
   },
   {
    "duration": 9,
    "start_time": "2022-05-01T15:24:31.171Z"
   },
   {
    "duration": 57,
    "start_time": "2022-05-01T15:24:31.181Z"
   },
   {
    "duration": 38,
    "start_time": "2022-05-01T15:24:31.243Z"
   },
   {
    "duration": 11,
    "start_time": "2022-05-01T15:24:31.282Z"
   },
   {
    "duration": 68,
    "start_time": "2022-05-01T15:24:31.295Z"
   },
   {
    "duration": 227,
    "start_time": "2022-05-01T15:24:31.365Z"
   },
   {
    "duration": 0,
    "start_time": "2022-05-01T15:24:31.594Z"
   },
   {
    "duration": 0,
    "start_time": "2022-05-01T15:24:31.596Z"
   },
   {
    "duration": 0,
    "start_time": "2022-05-01T15:24:31.597Z"
   },
   {
    "duration": 0,
    "start_time": "2022-05-01T15:24:31.599Z"
   },
   {
    "duration": 0,
    "start_time": "2022-05-01T15:24:31.600Z"
   },
   {
    "duration": 0,
    "start_time": "2022-05-01T15:24:31.601Z"
   },
   {
    "duration": 0,
    "start_time": "2022-05-01T15:24:31.602Z"
   },
   {
    "duration": 0,
    "start_time": "2022-05-01T15:24:31.603Z"
   },
   {
    "duration": 0,
    "start_time": "2022-05-01T15:24:31.632Z"
   },
   {
    "duration": 0,
    "start_time": "2022-05-01T15:24:31.633Z"
   },
   {
    "duration": 0,
    "start_time": "2022-05-01T15:24:31.635Z"
   },
   {
    "duration": 0,
    "start_time": "2022-05-01T15:24:31.636Z"
   },
   {
    "duration": 1,
    "start_time": "2022-05-01T15:24:31.637Z"
   },
   {
    "duration": 1,
    "start_time": "2022-05-01T15:24:31.638Z"
   },
   {
    "duration": 0,
    "start_time": "2022-05-01T15:24:31.640Z"
   },
   {
    "duration": 0,
    "start_time": "2022-05-01T15:24:31.641Z"
   },
   {
    "duration": 0,
    "start_time": "2022-05-01T15:24:31.642Z"
   },
   {
    "duration": 0,
    "start_time": "2022-05-01T15:24:31.643Z"
   },
   {
    "duration": 0,
    "start_time": "2022-05-01T15:24:31.644Z"
   },
   {
    "duration": 0,
    "start_time": "2022-05-01T15:24:31.645Z"
   },
   {
    "duration": 0,
    "start_time": "2022-05-01T15:24:31.646Z"
   },
   {
    "duration": 0,
    "start_time": "2022-05-01T15:24:31.647Z"
   },
   {
    "duration": 0,
    "start_time": "2022-05-01T15:24:31.649Z"
   },
   {
    "duration": 0,
    "start_time": "2022-05-01T15:24:31.650Z"
   },
   {
    "duration": 0,
    "start_time": "2022-05-01T15:24:31.651Z"
   },
   {
    "duration": 0,
    "start_time": "2022-05-01T15:24:31.653Z"
   },
   {
    "duration": 0,
    "start_time": "2022-05-01T15:24:31.654Z"
   },
   {
    "duration": 0,
    "start_time": "2022-05-01T15:24:31.655Z"
   },
   {
    "duration": 0,
    "start_time": "2022-05-01T15:24:31.656Z"
   },
   {
    "duration": 0,
    "start_time": "2022-05-01T15:24:31.657Z"
   },
   {
    "duration": 0,
    "start_time": "2022-05-01T15:24:31.658Z"
   },
   {
    "duration": 0,
    "start_time": "2022-05-01T15:24:31.659Z"
   },
   {
    "duration": 0,
    "start_time": "2022-05-01T15:24:31.660Z"
   },
   {
    "duration": 0,
    "start_time": "2022-05-01T15:24:31.662Z"
   },
   {
    "duration": 1533,
    "start_time": "2022-05-01T15:27:33.354Z"
   },
   {
    "duration": 264,
    "start_time": "2022-05-01T15:27:34.889Z"
   },
   {
    "duration": 169,
    "start_time": "2022-05-01T15:27:35.156Z"
   },
   {
    "duration": 248,
    "start_time": "2022-05-01T15:27:35.333Z"
   },
   {
    "duration": 123,
    "start_time": "2022-05-01T15:27:35.583Z"
   },
   {
    "duration": 32,
    "start_time": "2022-05-01T15:27:35.707Z"
   },
   {
    "duration": 34,
    "start_time": "2022-05-01T15:27:35.742Z"
   },
   {
    "duration": 32,
    "start_time": "2022-05-01T15:27:35.777Z"
   },
   {
    "duration": 98,
    "start_time": "2022-05-01T15:27:35.810Z"
   },
   {
    "duration": 8,
    "start_time": "2022-05-01T15:27:35.910Z"
   },
   {
    "duration": 40,
    "start_time": "2022-05-01T15:27:35.920Z"
   },
   {
    "duration": 33,
    "start_time": "2022-05-01T15:27:35.967Z"
   },
   {
    "duration": 10,
    "start_time": "2022-05-01T15:27:36.002Z"
   },
   {
    "duration": 60,
    "start_time": "2022-05-01T15:27:36.015Z"
   },
   {
    "duration": 75,
    "start_time": "2022-05-01T15:27:36.078Z"
   },
   {
    "duration": 6,
    "start_time": "2022-05-01T15:27:36.156Z"
   },
   {
    "duration": 46,
    "start_time": "2022-05-01T15:27:36.164Z"
   },
   {
    "duration": 60,
    "start_time": "2022-05-01T15:27:36.232Z"
   },
   {
    "duration": 123,
    "start_time": "2022-05-01T15:27:36.293Z"
   },
   {
    "duration": 0,
    "start_time": "2022-05-01T15:27:36.418Z"
   },
   {
    "duration": 0,
    "start_time": "2022-05-01T15:27:36.419Z"
   },
   {
    "duration": 0,
    "start_time": "2022-05-01T15:27:36.421Z"
   },
   {
    "duration": 0,
    "start_time": "2022-05-01T15:27:36.422Z"
   },
   {
    "duration": 0,
    "start_time": "2022-05-01T15:27:36.434Z"
   },
   {
    "duration": 0,
    "start_time": "2022-05-01T15:27:36.436Z"
   },
   {
    "duration": 0,
    "start_time": "2022-05-01T15:27:36.438Z"
   },
   {
    "duration": 0,
    "start_time": "2022-05-01T15:27:36.439Z"
   },
   {
    "duration": 0,
    "start_time": "2022-05-01T15:27:36.441Z"
   },
   {
    "duration": 0,
    "start_time": "2022-05-01T15:27:36.443Z"
   },
   {
    "duration": 0,
    "start_time": "2022-05-01T15:27:36.445Z"
   },
   {
    "duration": 0,
    "start_time": "2022-05-01T15:27:36.447Z"
   },
   {
    "duration": 0,
    "start_time": "2022-05-01T15:27:36.448Z"
   },
   {
    "duration": 0,
    "start_time": "2022-05-01T15:27:36.459Z"
   },
   {
    "duration": 0,
    "start_time": "2022-05-01T15:27:36.461Z"
   },
   {
    "duration": 0,
    "start_time": "2022-05-01T15:27:36.462Z"
   },
   {
    "duration": 0,
    "start_time": "2022-05-01T15:27:36.467Z"
   },
   {
    "duration": 0,
    "start_time": "2022-05-01T15:27:36.469Z"
   },
   {
    "duration": 0,
    "start_time": "2022-05-01T15:27:36.471Z"
   },
   {
    "duration": 0,
    "start_time": "2022-05-01T15:27:36.472Z"
   },
   {
    "duration": 1,
    "start_time": "2022-05-01T15:27:36.473Z"
   },
   {
    "duration": 0,
    "start_time": "2022-05-01T15:27:36.475Z"
   },
   {
    "duration": 0,
    "start_time": "2022-05-01T15:27:36.476Z"
   },
   {
    "duration": 0,
    "start_time": "2022-05-01T15:27:36.477Z"
   },
   {
    "duration": 0,
    "start_time": "2022-05-01T15:27:36.479Z"
   },
   {
    "duration": 0,
    "start_time": "2022-05-01T15:27:36.480Z"
   },
   {
    "duration": 0,
    "start_time": "2022-05-01T15:27:36.482Z"
   },
   {
    "duration": 0,
    "start_time": "2022-05-01T15:27:36.527Z"
   },
   {
    "duration": 0,
    "start_time": "2022-05-01T15:27:36.528Z"
   },
   {
    "duration": 0,
    "start_time": "2022-05-01T15:27:36.529Z"
   },
   {
    "duration": 1370,
    "start_time": "2022-05-01T15:47:43.523Z"
   },
   {
    "duration": 292,
    "start_time": "2022-05-01T15:47:44.895Z"
   },
   {
    "duration": 207,
    "start_time": "2022-05-01T15:47:45.190Z"
   },
   {
    "duration": 231,
    "start_time": "2022-05-01T15:47:45.399Z"
   },
   {
    "duration": 100,
    "start_time": "2022-05-01T15:47:45.631Z"
   },
   {
    "duration": 17,
    "start_time": "2022-05-01T15:47:45.734Z"
   },
   {
    "duration": 28,
    "start_time": "2022-05-01T15:47:45.753Z"
   },
   {
    "duration": 41,
    "start_time": "2022-05-01T15:47:45.783Z"
   },
   {
    "duration": 75,
    "start_time": "2022-05-01T15:47:45.826Z"
   },
   {
    "duration": 25,
    "start_time": "2022-05-01T15:47:45.904Z"
   },
   {
    "duration": 34,
    "start_time": "2022-05-01T15:47:45.931Z"
   },
   {
    "duration": 34,
    "start_time": "2022-05-01T15:47:45.967Z"
   },
   {
    "duration": 29,
    "start_time": "2022-05-01T15:47:46.004Z"
   },
   {
    "duration": 52,
    "start_time": "2022-05-01T15:47:46.036Z"
   },
   {
    "duration": 101,
    "start_time": "2022-05-01T15:47:46.090Z"
   },
   {
    "duration": 3,
    "start_time": "2022-05-01T15:47:46.193Z"
   },
   {
    "duration": 58,
    "start_time": "2022-05-01T15:47:46.198Z"
   },
   {
    "duration": 44,
    "start_time": "2022-05-01T15:47:46.258Z"
   },
   {
    "duration": 110,
    "start_time": "2022-05-01T15:47:46.305Z"
   },
   {
    "duration": 5,
    "start_time": "2022-05-01T15:47:46.423Z"
   },
   {
    "duration": 2616,
    "start_time": "2022-05-01T15:47:46.430Z"
   },
   {
    "duration": 0,
    "start_time": "2022-05-01T15:47:49.048Z"
   },
   {
    "duration": 0,
    "start_time": "2022-05-01T15:47:49.050Z"
   },
   {
    "duration": 0,
    "start_time": "2022-05-01T15:47:49.051Z"
   },
   {
    "duration": 0,
    "start_time": "2022-05-01T15:47:49.052Z"
   },
   {
    "duration": 0,
    "start_time": "2022-05-01T15:47:49.053Z"
   },
   {
    "duration": 0,
    "start_time": "2022-05-01T15:47:49.055Z"
   },
   {
    "duration": 0,
    "start_time": "2022-05-01T15:47:49.056Z"
   },
   {
    "duration": 0,
    "start_time": "2022-05-01T15:47:49.057Z"
   },
   {
    "duration": 0,
    "start_time": "2022-05-01T15:47:49.059Z"
   },
   {
    "duration": 0,
    "start_time": "2022-05-01T15:47:49.060Z"
   },
   {
    "duration": 0,
    "start_time": "2022-05-01T15:47:49.061Z"
   },
   {
    "duration": 0,
    "start_time": "2022-05-01T15:47:49.063Z"
   },
   {
    "duration": 0,
    "start_time": "2022-05-01T15:47:49.064Z"
   },
   {
    "duration": 0,
    "start_time": "2022-05-01T15:47:49.065Z"
   },
   {
    "duration": 0,
    "start_time": "2022-05-01T15:47:49.066Z"
   },
   {
    "duration": 0,
    "start_time": "2022-05-01T15:47:49.067Z"
   },
   {
    "duration": 0,
    "start_time": "2022-05-01T15:47:49.069Z"
   },
   {
    "duration": 0,
    "start_time": "2022-05-01T15:47:49.070Z"
   },
   {
    "duration": 0,
    "start_time": "2022-05-01T15:47:49.072Z"
   },
   {
    "duration": 0,
    "start_time": "2022-05-01T15:47:49.073Z"
   },
   {
    "duration": 0,
    "start_time": "2022-05-01T15:47:49.074Z"
   },
   {
    "duration": 0,
    "start_time": "2022-05-01T15:47:49.075Z"
   },
   {
    "duration": 0,
    "start_time": "2022-05-01T15:47:49.077Z"
   },
   {
    "duration": 0,
    "start_time": "2022-05-01T15:47:49.078Z"
   },
   {
    "duration": 0,
    "start_time": "2022-05-01T15:47:49.079Z"
   },
   {
    "duration": 0,
    "start_time": "2022-05-01T15:47:49.080Z"
   },
   {
    "duration": 0,
    "start_time": "2022-05-01T15:47:49.082Z"
   },
   {
    "duration": 0,
    "start_time": "2022-05-01T15:47:49.084Z"
   },
   {
    "duration": 1346,
    "start_time": "2022-05-01T15:53:58.360Z"
   },
   {
    "duration": 230,
    "start_time": "2022-05-01T15:53:59.709Z"
   },
   {
    "duration": 223,
    "start_time": "2022-05-01T15:53:59.940Z"
   },
   {
    "duration": 281,
    "start_time": "2022-05-01T15:54:00.165Z"
   },
   {
    "duration": 111,
    "start_time": "2022-05-01T15:54:00.449Z"
   },
   {
    "duration": 13,
    "start_time": "2022-05-01T15:54:00.561Z"
   },
   {
    "duration": 28,
    "start_time": "2022-05-01T15:54:00.575Z"
   },
   {
    "duration": 41,
    "start_time": "2022-05-01T15:54:00.605Z"
   },
   {
    "duration": 85,
    "start_time": "2022-05-01T15:54:00.648Z"
   },
   {
    "duration": 11,
    "start_time": "2022-05-01T15:54:00.737Z"
   },
   {
    "duration": 40,
    "start_time": "2022-05-01T15:54:00.750Z"
   },
   {
    "duration": 60,
    "start_time": "2022-05-01T15:54:00.793Z"
   },
   {
    "duration": 13,
    "start_time": "2022-05-01T15:54:00.855Z"
   },
   {
    "duration": 70,
    "start_time": "2022-05-01T15:54:00.870Z"
   },
   {
    "duration": 108,
    "start_time": "2022-05-01T15:54:00.942Z"
   },
   {
    "duration": 3,
    "start_time": "2022-05-01T15:54:01.053Z"
   },
   {
    "duration": 94,
    "start_time": "2022-05-01T15:54:01.058Z"
   },
   {
    "duration": 754,
    "start_time": "2022-05-01T15:54:01.154Z"
   },
   {
    "duration": 0,
    "start_time": "2022-05-01T15:54:01.911Z"
   },
   {
    "duration": 0,
    "start_time": "2022-05-01T15:54:01.913Z"
   },
   {
    "duration": 0,
    "start_time": "2022-05-01T15:54:01.914Z"
   },
   {
    "duration": 0,
    "start_time": "2022-05-01T15:54:01.915Z"
   },
   {
    "duration": 0,
    "start_time": "2022-05-01T15:54:01.916Z"
   },
   {
    "duration": 0,
    "start_time": "2022-05-01T15:54:01.916Z"
   },
   {
    "duration": 0,
    "start_time": "2022-05-01T15:54:01.917Z"
   },
   {
    "duration": 0,
    "start_time": "2022-05-01T15:54:01.918Z"
   },
   {
    "duration": 0,
    "start_time": "2022-05-01T15:54:01.919Z"
   },
   {
    "duration": 0,
    "start_time": "2022-05-01T15:54:01.920Z"
   },
   {
    "duration": 0,
    "start_time": "2022-05-01T15:54:01.921Z"
   },
   {
    "duration": 0,
    "start_time": "2022-05-01T15:54:01.922Z"
   },
   {
    "duration": 0,
    "start_time": "2022-05-01T15:54:01.923Z"
   },
   {
    "duration": 0,
    "start_time": "2022-05-01T15:54:01.924Z"
   },
   {
    "duration": 0,
    "start_time": "2022-05-01T15:54:01.925Z"
   },
   {
    "duration": 0,
    "start_time": "2022-05-01T15:54:01.926Z"
   },
   {
    "duration": 0,
    "start_time": "2022-05-01T15:54:01.927Z"
   },
   {
    "duration": 0,
    "start_time": "2022-05-01T15:54:01.928Z"
   },
   {
    "duration": 0,
    "start_time": "2022-05-01T15:54:01.929Z"
   },
   {
    "duration": 0,
    "start_time": "2022-05-01T15:54:01.931Z"
   },
   {
    "duration": 0,
    "start_time": "2022-05-01T15:54:01.932Z"
   },
   {
    "duration": 0,
    "start_time": "2022-05-01T15:54:01.933Z"
   },
   {
    "duration": 0,
    "start_time": "2022-05-01T15:54:01.934Z"
   },
   {
    "duration": 0,
    "start_time": "2022-05-01T15:54:01.935Z"
   },
   {
    "duration": 0,
    "start_time": "2022-05-01T15:54:01.936Z"
   },
   {
    "duration": 0,
    "start_time": "2022-05-01T15:54:01.937Z"
   },
   {
    "duration": 0,
    "start_time": "2022-05-01T15:54:01.938Z"
   },
   {
    "duration": 0,
    "start_time": "2022-05-01T15:54:01.940Z"
   },
   {
    "duration": 0,
    "start_time": "2022-05-01T15:54:01.941Z"
   },
   {
    "duration": 0,
    "start_time": "2022-05-01T15:54:01.942Z"
   },
   {
    "duration": 0,
    "start_time": "2022-05-01T15:54:01.944Z"
   },
   {
    "duration": 1325,
    "start_time": "2022-05-01T15:56:34.438Z"
   },
   {
    "duration": 204,
    "start_time": "2022-05-01T15:56:35.765Z"
   },
   {
    "duration": 136,
    "start_time": "2022-05-01T15:56:35.970Z"
   },
   {
    "duration": 179,
    "start_time": "2022-05-01T15:56:36.108Z"
   },
   {
    "duration": 101,
    "start_time": "2022-05-01T15:56:36.289Z"
   },
   {
    "duration": 13,
    "start_time": "2022-05-01T15:56:36.392Z"
   },
   {
    "duration": 30,
    "start_time": "2022-05-01T15:56:36.407Z"
   },
   {
    "duration": 31,
    "start_time": "2022-05-01T15:56:36.438Z"
   },
   {
    "duration": 81,
    "start_time": "2022-05-01T15:56:36.470Z"
   },
   {
    "duration": 10,
    "start_time": "2022-05-01T15:56:36.553Z"
   },
   {
    "duration": 27,
    "start_time": "2022-05-01T15:56:36.564Z"
   },
   {
    "duration": 43,
    "start_time": "2022-05-01T15:56:36.592Z"
   },
   {
    "duration": 9,
    "start_time": "2022-05-01T15:56:36.637Z"
   },
   {
    "duration": 42,
    "start_time": "2022-05-01T15:56:36.648Z"
   },
   {
    "duration": 81,
    "start_time": "2022-05-01T15:56:36.691Z"
   },
   {
    "duration": 2,
    "start_time": "2022-05-01T15:56:36.774Z"
   },
   {
    "duration": 53,
    "start_time": "2022-05-01T15:56:36.778Z"
   },
   {
    "duration": 178,
    "start_time": "2022-05-01T15:56:36.834Z"
   },
   {
    "duration": 0,
    "start_time": "2022-05-01T15:56:37.015Z"
   },
   {
    "duration": 0,
    "start_time": "2022-05-01T15:56:37.016Z"
   },
   {
    "duration": 0,
    "start_time": "2022-05-01T15:56:37.024Z"
   },
   {
    "duration": 0,
    "start_time": "2022-05-01T15:56:37.025Z"
   },
   {
    "duration": 0,
    "start_time": "2022-05-01T15:56:37.027Z"
   },
   {
    "duration": 0,
    "start_time": "2022-05-01T15:56:37.027Z"
   },
   {
    "duration": 0,
    "start_time": "2022-05-01T15:56:37.029Z"
   },
   {
    "duration": 0,
    "start_time": "2022-05-01T15:56:37.030Z"
   },
   {
    "duration": 0,
    "start_time": "2022-05-01T15:56:37.031Z"
   },
   {
    "duration": 0,
    "start_time": "2022-05-01T15:56:37.032Z"
   },
   {
    "duration": 0,
    "start_time": "2022-05-01T15:56:37.034Z"
   },
   {
    "duration": 0,
    "start_time": "2022-05-01T15:56:37.035Z"
   },
   {
    "duration": 0,
    "start_time": "2022-05-01T15:56:37.036Z"
   },
   {
    "duration": 0,
    "start_time": "2022-05-01T15:56:37.037Z"
   },
   {
    "duration": 0,
    "start_time": "2022-05-01T15:56:37.038Z"
   },
   {
    "duration": 0,
    "start_time": "2022-05-01T15:56:37.039Z"
   },
   {
    "duration": 0,
    "start_time": "2022-05-01T15:56:37.040Z"
   },
   {
    "duration": 0,
    "start_time": "2022-05-01T15:56:37.041Z"
   },
   {
    "duration": 0,
    "start_time": "2022-05-01T15:56:37.042Z"
   },
   {
    "duration": 0,
    "start_time": "2022-05-01T15:56:37.043Z"
   },
   {
    "duration": 0,
    "start_time": "2022-05-01T15:56:37.045Z"
   },
   {
    "duration": 0,
    "start_time": "2022-05-01T15:56:37.046Z"
   },
   {
    "duration": 0,
    "start_time": "2022-05-01T15:56:37.047Z"
   },
   {
    "duration": 0,
    "start_time": "2022-05-01T15:56:37.048Z"
   },
   {
    "duration": 0,
    "start_time": "2022-05-01T15:56:37.049Z"
   },
   {
    "duration": 0,
    "start_time": "2022-05-01T15:56:37.050Z"
   },
   {
    "duration": 0,
    "start_time": "2022-05-01T15:56:37.051Z"
   },
   {
    "duration": 0,
    "start_time": "2022-05-01T15:56:37.052Z"
   },
   {
    "duration": 0,
    "start_time": "2022-05-01T15:56:37.053Z"
   },
   {
    "duration": 0,
    "start_time": "2022-05-01T15:56:37.055Z"
   },
   {
    "duration": 0,
    "start_time": "2022-05-01T15:56:37.055Z"
   },
   {
    "duration": 1292,
    "start_time": "2022-05-01T15:57:23.097Z"
   },
   {
    "duration": 191,
    "start_time": "2022-05-01T15:57:24.391Z"
   },
   {
    "duration": 203,
    "start_time": "2022-05-01T15:57:24.584Z"
   },
   {
    "duration": 256,
    "start_time": "2022-05-01T15:57:24.790Z"
   },
   {
    "duration": 100,
    "start_time": "2022-05-01T15:57:25.048Z"
   },
   {
    "duration": 13,
    "start_time": "2022-05-01T15:57:25.149Z"
   },
   {
    "duration": 35,
    "start_time": "2022-05-01T15:57:25.164Z"
   },
   {
    "duration": 32,
    "start_time": "2022-05-01T15:57:25.201Z"
   },
   {
    "duration": 74,
    "start_time": "2022-05-01T15:57:25.234Z"
   },
   {
    "duration": 18,
    "start_time": "2022-05-01T15:57:25.310Z"
   },
   {
    "duration": 30,
    "start_time": "2022-05-01T15:57:25.330Z"
   },
   {
    "duration": 28,
    "start_time": "2022-05-01T15:57:25.361Z"
   },
   {
    "duration": 11,
    "start_time": "2022-05-01T15:57:25.390Z"
   },
   {
    "duration": 61,
    "start_time": "2022-05-01T15:57:25.403Z"
   },
   {
    "duration": 82,
    "start_time": "2022-05-01T15:57:25.466Z"
   },
   {
    "duration": 2,
    "start_time": "2022-05-01T15:57:25.549Z"
   },
   {
    "duration": 45,
    "start_time": "2022-05-01T15:57:25.553Z"
   },
   {
    "duration": 48,
    "start_time": "2022-05-01T15:57:25.600Z"
   },
   {
    "duration": 282,
    "start_time": "2022-05-01T15:57:25.649Z"
   },
   {
    "duration": 4,
    "start_time": "2022-05-01T15:57:25.932Z"
   },
   {
    "duration": 2793,
    "start_time": "2022-05-01T15:57:25.937Z"
   },
   {
    "duration": 0,
    "start_time": "2022-05-01T15:57:28.732Z"
   },
   {
    "duration": 0,
    "start_time": "2022-05-01T15:57:28.733Z"
   },
   {
    "duration": 0,
    "start_time": "2022-05-01T15:57:28.734Z"
   },
   {
    "duration": 0,
    "start_time": "2022-05-01T15:57:28.735Z"
   },
   {
    "duration": 0,
    "start_time": "2022-05-01T15:57:28.736Z"
   },
   {
    "duration": 0,
    "start_time": "2022-05-01T15:57:28.737Z"
   },
   {
    "duration": 0,
    "start_time": "2022-05-01T15:57:28.739Z"
   },
   {
    "duration": 0,
    "start_time": "2022-05-01T15:57:28.740Z"
   },
   {
    "duration": 0,
    "start_time": "2022-05-01T15:57:28.741Z"
   },
   {
    "duration": 0,
    "start_time": "2022-05-01T15:57:28.742Z"
   },
   {
    "duration": 0,
    "start_time": "2022-05-01T15:57:28.743Z"
   },
   {
    "duration": 0,
    "start_time": "2022-05-01T15:57:28.744Z"
   },
   {
    "duration": 0,
    "start_time": "2022-05-01T15:57:28.745Z"
   },
   {
    "duration": 0,
    "start_time": "2022-05-01T15:57:28.746Z"
   },
   {
    "duration": 0,
    "start_time": "2022-05-01T15:57:28.747Z"
   },
   {
    "duration": 0,
    "start_time": "2022-05-01T15:57:28.748Z"
   },
   {
    "duration": 0,
    "start_time": "2022-05-01T15:57:28.749Z"
   },
   {
    "duration": 0,
    "start_time": "2022-05-01T15:57:28.750Z"
   },
   {
    "duration": 0,
    "start_time": "2022-05-01T15:57:28.751Z"
   },
   {
    "duration": 0,
    "start_time": "2022-05-01T15:57:28.752Z"
   },
   {
    "duration": 0,
    "start_time": "2022-05-01T15:57:28.753Z"
   },
   {
    "duration": 0,
    "start_time": "2022-05-01T15:57:28.754Z"
   },
   {
    "duration": 0,
    "start_time": "2022-05-01T15:57:28.755Z"
   },
   {
    "duration": 0,
    "start_time": "2022-05-01T15:57:28.756Z"
   },
   {
    "duration": 0,
    "start_time": "2022-05-01T15:57:28.757Z"
   },
   {
    "duration": 0,
    "start_time": "2022-05-01T15:57:28.758Z"
   },
   {
    "duration": 0,
    "start_time": "2022-05-01T15:57:28.759Z"
   },
   {
    "duration": 0,
    "start_time": "2022-05-01T15:57:28.760Z"
   },
   {
    "duration": 1255,
    "start_time": "2022-05-01T16:40:39.333Z"
   },
   {
    "duration": 187,
    "start_time": "2022-05-01T16:40:40.590Z"
   },
   {
    "duration": 135,
    "start_time": "2022-05-01T16:40:40.779Z"
   },
   {
    "duration": 183,
    "start_time": "2022-05-01T16:40:40.916Z"
   },
   {
    "duration": 101,
    "start_time": "2022-05-01T16:40:41.101Z"
   },
   {
    "duration": 26,
    "start_time": "2022-05-01T16:40:41.204Z"
   },
   {
    "duration": 21,
    "start_time": "2022-05-01T16:40:41.232Z"
   },
   {
    "duration": 32,
    "start_time": "2022-05-01T16:40:41.254Z"
   },
   {
    "duration": 87,
    "start_time": "2022-05-01T16:40:41.288Z"
   },
   {
    "duration": 10,
    "start_time": "2022-05-01T16:40:41.377Z"
   },
   {
    "duration": 36,
    "start_time": "2022-05-01T16:40:41.389Z"
   },
   {
    "duration": 26,
    "start_time": "2022-05-01T16:40:41.427Z"
   },
   {
    "duration": 9,
    "start_time": "2022-05-01T16:40:41.454Z"
   },
   {
    "duration": 57,
    "start_time": "2022-05-01T16:40:41.466Z"
   },
   {
    "duration": 59,
    "start_time": "2022-05-01T16:40:41.525Z"
   },
   {
    "duration": 2,
    "start_time": "2022-05-01T16:40:41.586Z"
   },
   {
    "duration": 56,
    "start_time": "2022-05-01T16:40:41.589Z"
   },
   {
    "duration": 31,
    "start_time": "2022-05-01T16:40:41.646Z"
   },
   {
    "duration": 23,
    "start_time": "2022-05-01T16:40:41.678Z"
   },
   {
    "duration": 8,
    "start_time": "2022-05-01T16:40:41.702Z"
   },
   {
    "duration": 2564,
    "start_time": "2022-05-01T16:40:41.724Z"
   },
   {
    "duration": 0,
    "start_time": "2022-05-01T16:40:44.290Z"
   },
   {
    "duration": 0,
    "start_time": "2022-05-01T16:40:44.291Z"
   },
   {
    "duration": 0,
    "start_time": "2022-05-01T16:40:44.292Z"
   },
   {
    "duration": 0,
    "start_time": "2022-05-01T16:40:44.292Z"
   },
   {
    "duration": 0,
    "start_time": "2022-05-01T16:40:44.293Z"
   },
   {
    "duration": 0,
    "start_time": "2022-05-01T16:40:44.294Z"
   },
   {
    "duration": 0,
    "start_time": "2022-05-01T16:40:44.296Z"
   },
   {
    "duration": 0,
    "start_time": "2022-05-01T16:40:44.296Z"
   },
   {
    "duration": 0,
    "start_time": "2022-05-01T16:40:44.298Z"
   },
   {
    "duration": 0,
    "start_time": "2022-05-01T16:40:44.298Z"
   },
   {
    "duration": 0,
    "start_time": "2022-05-01T16:40:44.300Z"
   },
   {
    "duration": 0,
    "start_time": "2022-05-01T16:40:44.301Z"
   },
   {
    "duration": 0,
    "start_time": "2022-05-01T16:40:44.302Z"
   },
   {
    "duration": 0,
    "start_time": "2022-05-01T16:40:44.303Z"
   },
   {
    "duration": 0,
    "start_time": "2022-05-01T16:40:44.304Z"
   },
   {
    "duration": 0,
    "start_time": "2022-05-01T16:40:44.305Z"
   },
   {
    "duration": 0,
    "start_time": "2022-05-01T16:40:44.305Z"
   },
   {
    "duration": 0,
    "start_time": "2022-05-01T16:40:44.306Z"
   },
   {
    "duration": 0,
    "start_time": "2022-05-01T16:40:44.308Z"
   },
   {
    "duration": 0,
    "start_time": "2022-05-01T16:40:44.309Z"
   },
   {
    "duration": 0,
    "start_time": "2022-05-01T16:40:44.309Z"
   },
   {
    "duration": 0,
    "start_time": "2022-05-01T16:40:44.310Z"
   },
   {
    "duration": 0,
    "start_time": "2022-05-01T16:40:44.312Z"
   },
   {
    "duration": 0,
    "start_time": "2022-05-01T16:40:44.313Z"
   },
   {
    "duration": 0,
    "start_time": "2022-05-01T16:40:44.314Z"
   },
   {
    "duration": 0,
    "start_time": "2022-05-01T16:40:44.315Z"
   },
   {
    "duration": 0,
    "start_time": "2022-05-01T16:40:44.316Z"
   },
   {
    "duration": 0,
    "start_time": "2022-05-01T16:40:44.317Z"
   },
   {
    "duration": 1264,
    "start_time": "2022-05-01T16:42:24.017Z"
   },
   {
    "duration": 193,
    "start_time": "2022-05-01T16:42:25.283Z"
   },
   {
    "duration": 136,
    "start_time": "2022-05-01T16:42:25.478Z"
   },
   {
    "duration": 170,
    "start_time": "2022-05-01T16:42:25.615Z"
   },
   {
    "duration": 100,
    "start_time": "2022-05-01T16:42:25.787Z"
   },
   {
    "duration": 11,
    "start_time": "2022-05-01T16:42:25.889Z"
   },
   {
    "duration": 29,
    "start_time": "2022-05-01T16:42:25.902Z"
   },
   {
    "duration": 30,
    "start_time": "2022-05-01T16:42:25.933Z"
   },
   {
    "duration": 78,
    "start_time": "2022-05-01T16:42:25.965Z"
   },
   {
    "duration": 9,
    "start_time": "2022-05-01T16:42:26.045Z"
   },
   {
    "duration": 24,
    "start_time": "2022-05-01T16:42:26.056Z"
   },
   {
    "duration": 42,
    "start_time": "2022-05-01T16:42:26.082Z"
   },
   {
    "duration": 11,
    "start_time": "2022-05-01T16:42:26.125Z"
   },
   {
    "duration": 44,
    "start_time": "2022-05-01T16:42:26.139Z"
   },
   {
    "duration": 85,
    "start_time": "2022-05-01T16:42:26.184Z"
   },
   {
    "duration": 2,
    "start_time": "2022-05-01T16:42:26.271Z"
   },
   {
    "duration": 52,
    "start_time": "2022-05-01T16:42:26.275Z"
   },
   {
    "duration": 34,
    "start_time": "2022-05-01T16:42:26.329Z"
   },
   {
    "duration": 22,
    "start_time": "2022-05-01T16:42:26.365Z"
   },
   {
    "duration": 3,
    "start_time": "2022-05-01T16:42:26.389Z"
   },
   {
    "duration": 2240,
    "start_time": "2022-05-01T16:42:26.393Z"
   },
   {
    "duration": 0,
    "start_time": "2022-05-01T16:42:28.635Z"
   },
   {
    "duration": 0,
    "start_time": "2022-05-01T16:42:28.636Z"
   },
   {
    "duration": 0,
    "start_time": "2022-05-01T16:42:28.637Z"
   },
   {
    "duration": 0,
    "start_time": "2022-05-01T16:42:28.638Z"
   },
   {
    "duration": 0,
    "start_time": "2022-05-01T16:42:28.639Z"
   },
   {
    "duration": 0,
    "start_time": "2022-05-01T16:42:28.640Z"
   },
   {
    "duration": 0,
    "start_time": "2022-05-01T16:42:28.641Z"
   },
   {
    "duration": 0,
    "start_time": "2022-05-01T16:42:28.643Z"
   },
   {
    "duration": 0,
    "start_time": "2022-05-01T16:42:28.643Z"
   },
   {
    "duration": 0,
    "start_time": "2022-05-01T16:42:28.644Z"
   },
   {
    "duration": 0,
    "start_time": "2022-05-01T16:42:28.645Z"
   },
   {
    "duration": 0,
    "start_time": "2022-05-01T16:42:28.646Z"
   },
   {
    "duration": 0,
    "start_time": "2022-05-01T16:42:28.647Z"
   },
   {
    "duration": 0,
    "start_time": "2022-05-01T16:42:28.648Z"
   },
   {
    "duration": 0,
    "start_time": "2022-05-01T16:42:28.649Z"
   },
   {
    "duration": 1,
    "start_time": "2022-05-01T16:42:28.650Z"
   },
   {
    "duration": 0,
    "start_time": "2022-05-01T16:42:28.651Z"
   },
   {
    "duration": 0,
    "start_time": "2022-05-01T16:42:28.653Z"
   },
   {
    "duration": 0,
    "start_time": "2022-05-01T16:42:28.654Z"
   },
   {
    "duration": 0,
    "start_time": "2022-05-01T16:42:28.655Z"
   },
   {
    "duration": 0,
    "start_time": "2022-05-01T16:42:28.656Z"
   },
   {
    "duration": 0,
    "start_time": "2022-05-01T16:42:28.657Z"
   },
   {
    "duration": 0,
    "start_time": "2022-05-01T16:42:28.658Z"
   },
   {
    "duration": 0,
    "start_time": "2022-05-01T16:42:28.659Z"
   },
   {
    "duration": 0,
    "start_time": "2022-05-01T16:42:28.660Z"
   },
   {
    "duration": 0,
    "start_time": "2022-05-01T16:42:28.661Z"
   },
   {
    "duration": 0,
    "start_time": "2022-05-01T16:42:28.662Z"
   },
   {
    "duration": 0,
    "start_time": "2022-05-01T16:42:28.663Z"
   },
   {
    "duration": 1346,
    "start_time": "2022-05-01T16:43:34.250Z"
   },
   {
    "duration": 193,
    "start_time": "2022-05-01T16:43:35.598Z"
   },
   {
    "duration": 153,
    "start_time": "2022-05-01T16:43:35.792Z"
   },
   {
    "duration": 178,
    "start_time": "2022-05-01T16:43:35.948Z"
   },
   {
    "duration": 101,
    "start_time": "2022-05-01T16:43:36.128Z"
   },
   {
    "duration": 12,
    "start_time": "2022-05-01T16:43:36.231Z"
   },
   {
    "duration": 28,
    "start_time": "2022-05-01T16:43:36.245Z"
   },
   {
    "duration": 34,
    "start_time": "2022-05-01T16:43:36.275Z"
   },
   {
    "duration": 79,
    "start_time": "2022-05-01T16:43:36.311Z"
   },
   {
    "duration": 9,
    "start_time": "2022-05-01T16:43:36.393Z"
   },
   {
    "duration": 38,
    "start_time": "2022-05-01T16:43:36.404Z"
   },
   {
    "duration": 27,
    "start_time": "2022-05-01T16:43:36.443Z"
   },
   {
    "duration": 10,
    "start_time": "2022-05-01T16:43:36.472Z"
   },
   {
    "duration": 61,
    "start_time": "2022-05-01T16:43:36.484Z"
   },
   {
    "duration": 65,
    "start_time": "2022-05-01T16:43:36.547Z"
   },
   {
    "duration": 2,
    "start_time": "2022-05-01T16:43:36.624Z"
   },
   {
    "duration": 57,
    "start_time": "2022-05-01T16:43:36.628Z"
   },
   {
    "duration": 38,
    "start_time": "2022-05-01T16:43:36.686Z"
   },
   {
    "duration": 105,
    "start_time": "2022-05-01T16:43:36.726Z"
   },
   {
    "duration": 0,
    "start_time": "2022-05-01T16:43:36.834Z"
   },
   {
    "duration": 0,
    "start_time": "2022-05-01T16:43:36.836Z"
   },
   {
    "duration": 0,
    "start_time": "2022-05-01T16:43:36.837Z"
   },
   {
    "duration": 0,
    "start_time": "2022-05-01T16:43:36.839Z"
   },
   {
    "duration": 0,
    "start_time": "2022-05-01T16:43:36.840Z"
   },
   {
    "duration": 0,
    "start_time": "2022-05-01T16:43:36.842Z"
   },
   {
    "duration": 0,
    "start_time": "2022-05-01T16:43:36.843Z"
   },
   {
    "duration": 0,
    "start_time": "2022-05-01T16:43:36.845Z"
   },
   {
    "duration": 0,
    "start_time": "2022-05-01T16:43:36.846Z"
   },
   {
    "duration": 0,
    "start_time": "2022-05-01T16:43:36.847Z"
   },
   {
    "duration": 0,
    "start_time": "2022-05-01T16:43:36.849Z"
   },
   {
    "duration": 0,
    "start_time": "2022-05-01T16:43:36.850Z"
   },
   {
    "duration": 0,
    "start_time": "2022-05-01T16:43:36.852Z"
   },
   {
    "duration": 0,
    "start_time": "2022-05-01T16:43:36.853Z"
   },
   {
    "duration": 0,
    "start_time": "2022-05-01T16:43:36.854Z"
   },
   {
    "duration": 0,
    "start_time": "2022-05-01T16:43:36.855Z"
   },
   {
    "duration": 0,
    "start_time": "2022-05-01T16:43:36.856Z"
   },
   {
    "duration": 0,
    "start_time": "2022-05-01T16:43:36.857Z"
   },
   {
    "duration": 0,
    "start_time": "2022-05-01T16:43:36.858Z"
   },
   {
    "duration": 0,
    "start_time": "2022-05-01T16:43:36.859Z"
   },
   {
    "duration": 0,
    "start_time": "2022-05-01T16:43:36.860Z"
   },
   {
    "duration": 1,
    "start_time": "2022-05-01T16:43:36.861Z"
   },
   {
    "duration": 0,
    "start_time": "2022-05-01T16:43:36.863Z"
   },
   {
    "duration": 0,
    "start_time": "2022-05-01T16:43:36.864Z"
   },
   {
    "duration": 0,
    "start_time": "2022-05-01T16:43:36.865Z"
   },
   {
    "duration": 0,
    "start_time": "2022-05-01T16:43:36.866Z"
   },
   {
    "duration": 0,
    "start_time": "2022-05-01T16:43:36.867Z"
   },
   {
    "duration": 0,
    "start_time": "2022-05-01T16:43:36.868Z"
   },
   {
    "duration": 0,
    "start_time": "2022-05-01T16:43:36.869Z"
   },
   {
    "duration": 0,
    "start_time": "2022-05-01T16:43:36.923Z"
   },
   {
    "duration": 1708,
    "start_time": "2022-05-01T17:16:06.249Z"
   },
   {
    "duration": 296,
    "start_time": "2022-05-01T17:16:07.960Z"
   },
   {
    "duration": 202,
    "start_time": "2022-05-01T17:16:08.258Z"
   },
   {
    "duration": 288,
    "start_time": "2022-05-01T17:16:08.462Z"
   },
   {
    "duration": 153,
    "start_time": "2022-05-01T17:16:08.753Z"
   },
   {
    "duration": 30,
    "start_time": "2022-05-01T17:16:08.908Z"
   },
   {
    "duration": 30,
    "start_time": "2022-05-01T17:16:08.940Z"
   },
   {
    "duration": 53,
    "start_time": "2022-05-01T17:16:08.972Z"
   },
   {
    "duration": 141,
    "start_time": "2022-05-01T17:16:09.027Z"
   },
   {
    "duration": 10,
    "start_time": "2022-05-01T17:16:09.171Z"
   },
   {
    "duration": 39,
    "start_time": "2022-05-01T17:16:09.184Z"
   },
   {
    "duration": 36,
    "start_time": "2022-05-01T17:16:09.226Z"
   },
   {
    "duration": 12,
    "start_time": "2022-05-01T17:16:09.264Z"
   },
   {
    "duration": 66,
    "start_time": "2022-05-01T17:16:09.279Z"
   },
   {
    "duration": 62,
    "start_time": "2022-05-01T17:16:09.347Z"
   },
   {
    "duration": 2,
    "start_time": "2022-05-01T17:16:09.423Z"
   },
   {
    "duration": 43,
    "start_time": "2022-05-01T17:16:09.427Z"
   },
   {
    "duration": 53,
    "start_time": "2022-05-01T17:16:09.472Z"
   },
   {
    "duration": 107,
    "start_time": "2022-05-01T17:16:09.526Z"
   },
   {
    "duration": 0,
    "start_time": "2022-05-01T17:16:09.635Z"
   },
   {
    "duration": 0,
    "start_time": "2022-05-01T17:16:09.636Z"
   },
   {
    "duration": 0,
    "start_time": "2022-05-01T17:16:09.637Z"
   },
   {
    "duration": 0,
    "start_time": "2022-05-01T17:16:09.638Z"
   },
   {
    "duration": 0,
    "start_time": "2022-05-01T17:16:09.639Z"
   },
   {
    "duration": 0,
    "start_time": "2022-05-01T17:16:09.640Z"
   },
   {
    "duration": 0,
    "start_time": "2022-05-01T17:16:09.641Z"
   },
   {
    "duration": 0,
    "start_time": "2022-05-01T17:16:09.642Z"
   },
   {
    "duration": 0,
    "start_time": "2022-05-01T17:16:09.643Z"
   },
   {
    "duration": 0,
    "start_time": "2022-05-01T17:16:09.644Z"
   },
   {
    "duration": 0,
    "start_time": "2022-05-01T17:16:09.645Z"
   },
   {
    "duration": 0,
    "start_time": "2022-05-01T17:16:09.646Z"
   },
   {
    "duration": 0,
    "start_time": "2022-05-01T17:16:09.647Z"
   },
   {
    "duration": 0,
    "start_time": "2022-05-01T17:16:09.648Z"
   },
   {
    "duration": 0,
    "start_time": "2022-05-01T17:16:09.649Z"
   },
   {
    "duration": 0,
    "start_time": "2022-05-01T17:16:09.651Z"
   },
   {
    "duration": 0,
    "start_time": "2022-05-01T17:16:09.652Z"
   },
   {
    "duration": 0,
    "start_time": "2022-05-01T17:16:09.653Z"
   },
   {
    "duration": 0,
    "start_time": "2022-05-01T17:16:09.654Z"
   },
   {
    "duration": 0,
    "start_time": "2022-05-01T17:16:09.656Z"
   },
   {
    "duration": 0,
    "start_time": "2022-05-01T17:16:09.657Z"
   },
   {
    "duration": 0,
    "start_time": "2022-05-01T17:16:09.658Z"
   },
   {
    "duration": 0,
    "start_time": "2022-05-01T17:16:09.659Z"
   },
   {
    "duration": 0,
    "start_time": "2022-05-01T17:16:09.660Z"
   },
   {
    "duration": 0,
    "start_time": "2022-05-01T17:16:09.661Z"
   },
   {
    "duration": 0,
    "start_time": "2022-05-01T17:16:09.662Z"
   },
   {
    "duration": 0,
    "start_time": "2022-05-01T17:16:09.662Z"
   },
   {
    "duration": 0,
    "start_time": "2022-05-01T17:16:09.664Z"
   },
   {
    "duration": 0,
    "start_time": "2022-05-01T17:16:09.665Z"
   },
   {
    "duration": 0,
    "start_time": "2022-05-01T17:16:09.666Z"
   },
   {
    "duration": 1732,
    "start_time": "2022-05-01T17:28:31.986Z"
   },
   {
    "duration": 284,
    "start_time": "2022-05-01T17:28:33.725Z"
   },
   {
    "duration": 203,
    "start_time": "2022-05-01T17:28:34.011Z"
   },
   {
    "duration": 269,
    "start_time": "2022-05-01T17:28:34.215Z"
   },
   {
    "duration": 150,
    "start_time": "2022-05-01T17:28:34.486Z"
   },
   {
    "duration": 16,
    "start_time": "2022-05-01T17:28:34.638Z"
   },
   {
    "duration": 25,
    "start_time": "2022-05-01T17:28:34.656Z"
   },
   {
    "duration": 48,
    "start_time": "2022-05-01T17:28:34.683Z"
   },
   {
    "duration": 91,
    "start_time": "2022-05-01T17:28:34.733Z"
   },
   {
    "duration": 11,
    "start_time": "2022-05-01T17:28:34.826Z"
   },
   {
    "duration": 33,
    "start_time": "2022-05-01T17:28:34.839Z"
   },
   {
    "duration": 32,
    "start_time": "2022-05-01T17:28:34.874Z"
   },
   {
    "duration": 26,
    "start_time": "2022-05-01T17:28:34.907Z"
   },
   {
    "duration": 54,
    "start_time": "2022-05-01T17:28:34.937Z"
   },
   {
    "duration": 96,
    "start_time": "2022-05-01T17:28:34.993Z"
   },
   {
    "duration": 2,
    "start_time": "2022-05-01T17:28:35.092Z"
   },
   {
    "duration": 65,
    "start_time": "2022-05-01T17:28:35.096Z"
   },
   {
    "duration": 43,
    "start_time": "2022-05-01T17:28:35.163Z"
   },
   {
    "duration": 155,
    "start_time": "2022-05-01T17:28:35.208Z"
   },
   {
    "duration": 0,
    "start_time": "2022-05-01T17:28:35.365Z"
   },
   {
    "duration": 0,
    "start_time": "2022-05-01T17:28:35.366Z"
   },
   {
    "duration": 0,
    "start_time": "2022-05-01T17:28:35.367Z"
   },
   {
    "duration": 0,
    "start_time": "2022-05-01T17:28:35.368Z"
   },
   {
    "duration": 0,
    "start_time": "2022-05-01T17:28:35.369Z"
   },
   {
    "duration": 0,
    "start_time": "2022-05-01T17:28:35.370Z"
   },
   {
    "duration": 0,
    "start_time": "2022-05-01T17:28:35.371Z"
   },
   {
    "duration": 0,
    "start_time": "2022-05-01T17:28:35.372Z"
   },
   {
    "duration": 0,
    "start_time": "2022-05-01T17:28:35.373Z"
   },
   {
    "duration": 0,
    "start_time": "2022-05-01T17:28:35.374Z"
   },
   {
    "duration": 0,
    "start_time": "2022-05-01T17:28:35.375Z"
   },
   {
    "duration": 0,
    "start_time": "2022-05-01T17:28:35.376Z"
   },
   {
    "duration": 0,
    "start_time": "2022-05-01T17:28:35.377Z"
   },
   {
    "duration": 0,
    "start_time": "2022-05-01T17:28:35.378Z"
   },
   {
    "duration": 0,
    "start_time": "2022-05-01T17:28:35.378Z"
   },
   {
    "duration": 0,
    "start_time": "2022-05-01T17:28:35.379Z"
   },
   {
    "duration": 0,
    "start_time": "2022-05-01T17:28:35.380Z"
   },
   {
    "duration": 0,
    "start_time": "2022-05-01T17:28:35.381Z"
   },
   {
    "duration": 0,
    "start_time": "2022-05-01T17:28:35.382Z"
   },
   {
    "duration": 0,
    "start_time": "2022-05-01T17:28:35.383Z"
   },
   {
    "duration": 0,
    "start_time": "2022-05-01T17:28:35.384Z"
   },
   {
    "duration": 0,
    "start_time": "2022-05-01T17:28:35.385Z"
   },
   {
    "duration": 0,
    "start_time": "2022-05-01T17:28:35.385Z"
   },
   {
    "duration": 0,
    "start_time": "2022-05-01T17:28:35.386Z"
   },
   {
    "duration": 0,
    "start_time": "2022-05-01T17:28:35.424Z"
   },
   {
    "duration": 0,
    "start_time": "2022-05-01T17:28:35.425Z"
   },
   {
    "duration": 0,
    "start_time": "2022-05-01T17:28:35.426Z"
   },
   {
    "duration": 0,
    "start_time": "2022-05-01T17:28:35.427Z"
   },
   {
    "duration": 0,
    "start_time": "2022-05-01T17:28:35.428Z"
   },
   {
    "duration": 0,
    "start_time": "2022-05-01T17:28:35.429Z"
   },
   {
    "duration": 1413,
    "start_time": "2022-05-01T17:33:23.289Z"
   },
   {
    "duration": 285,
    "start_time": "2022-05-01T17:33:24.704Z"
   },
   {
    "duration": 203,
    "start_time": "2022-05-01T17:33:24.991Z"
   },
   {
    "duration": 268,
    "start_time": "2022-05-01T17:33:25.197Z"
   },
   {
    "duration": 147,
    "start_time": "2022-05-01T17:33:25.467Z"
   },
   {
    "duration": 18,
    "start_time": "2022-05-01T17:33:25.616Z"
   },
   {
    "duration": 21,
    "start_time": "2022-05-01T17:33:25.636Z"
   },
   {
    "duration": 33,
    "start_time": "2022-05-01T17:33:25.659Z"
   },
   {
    "duration": 92,
    "start_time": "2022-05-01T17:33:25.694Z"
   },
   {
    "duration": 10,
    "start_time": "2022-05-01T17:33:25.789Z"
   },
   {
    "duration": 41,
    "start_time": "2022-05-01T17:33:25.800Z"
   },
   {
    "duration": 26,
    "start_time": "2022-05-01T17:33:25.843Z"
   },
   {
    "duration": 9,
    "start_time": "2022-05-01T17:33:25.870Z"
   },
   {
    "duration": 62,
    "start_time": "2022-05-01T17:33:25.881Z"
   },
   {
    "duration": 92,
    "start_time": "2022-05-01T17:33:25.945Z"
   },
   {
    "duration": 2,
    "start_time": "2022-05-01T17:33:26.039Z"
   },
   {
    "duration": 45,
    "start_time": "2022-05-01T17:33:26.043Z"
   },
   {
    "duration": 54,
    "start_time": "2022-05-01T17:33:26.089Z"
   },
   {
    "duration": 26,
    "start_time": "2022-05-01T17:33:26.144Z"
   },
   {
    "duration": 3,
    "start_time": "2022-05-01T17:33:26.172Z"
   },
   {
    "duration": 2304,
    "start_time": "2022-05-01T17:33:26.177Z"
   },
   {
    "duration": 0,
    "start_time": "2022-05-01T17:33:28.484Z"
   },
   {
    "duration": 0,
    "start_time": "2022-05-01T17:33:28.486Z"
   },
   {
    "duration": 0,
    "start_time": "2022-05-01T17:33:28.488Z"
   },
   {
    "duration": 0,
    "start_time": "2022-05-01T17:33:28.489Z"
   },
   {
    "duration": 0,
    "start_time": "2022-05-01T17:33:28.490Z"
   },
   {
    "duration": 0,
    "start_time": "2022-05-01T17:33:28.492Z"
   },
   {
    "duration": 0,
    "start_time": "2022-05-01T17:33:28.494Z"
   },
   {
    "duration": 0,
    "start_time": "2022-05-01T17:33:28.495Z"
   },
   {
    "duration": 0,
    "start_time": "2022-05-01T17:33:28.496Z"
   },
   {
    "duration": 0,
    "start_time": "2022-05-01T17:33:28.498Z"
   },
   {
    "duration": 0,
    "start_time": "2022-05-01T17:33:28.499Z"
   },
   {
    "duration": 0,
    "start_time": "2022-05-01T17:33:28.500Z"
   },
   {
    "duration": 1,
    "start_time": "2022-05-01T17:33:28.501Z"
   },
   {
    "duration": 0,
    "start_time": "2022-05-01T17:33:28.503Z"
   },
   {
    "duration": 0,
    "start_time": "2022-05-01T17:33:28.504Z"
   },
   {
    "duration": 0,
    "start_time": "2022-05-01T17:33:28.506Z"
   },
   {
    "duration": 0,
    "start_time": "2022-05-01T17:33:28.508Z"
   },
   {
    "duration": 0,
    "start_time": "2022-05-01T17:33:28.510Z"
   },
   {
    "duration": 0,
    "start_time": "2022-05-01T17:33:28.511Z"
   },
   {
    "duration": 0,
    "start_time": "2022-05-01T17:33:28.512Z"
   },
   {
    "duration": 0,
    "start_time": "2022-05-01T17:33:28.514Z"
   },
   {
    "duration": 0,
    "start_time": "2022-05-01T17:33:28.515Z"
   },
   {
    "duration": 0,
    "start_time": "2022-05-01T17:33:28.517Z"
   },
   {
    "duration": 0,
    "start_time": "2022-05-01T17:33:28.518Z"
   },
   {
    "duration": 0,
    "start_time": "2022-05-01T17:33:28.520Z"
   },
   {
    "duration": 0,
    "start_time": "2022-05-01T17:33:28.521Z"
   },
   {
    "duration": 0,
    "start_time": "2022-05-01T17:33:28.523Z"
   },
   {
    "duration": 0,
    "start_time": "2022-05-01T17:33:28.525Z"
   },
   {
    "duration": 1341,
    "start_time": "2022-05-01T17:48:28.101Z"
   },
   {
    "duration": 252,
    "start_time": "2022-05-01T17:48:29.444Z"
   },
   {
    "duration": 150,
    "start_time": "2022-05-01T17:48:29.698Z"
   },
   {
    "duration": 196,
    "start_time": "2022-05-01T17:48:29.850Z"
   },
   {
    "duration": 105,
    "start_time": "2022-05-01T17:48:30.048Z"
   },
   {
    "duration": 14,
    "start_time": "2022-05-01T17:48:30.155Z"
   },
   {
    "duration": 22,
    "start_time": "2022-05-01T17:48:30.171Z"
   },
   {
    "duration": 45,
    "start_time": "2022-05-01T17:48:30.194Z"
   },
   {
    "duration": 87,
    "start_time": "2022-05-01T17:48:30.241Z"
   },
   {
    "duration": 9,
    "start_time": "2022-05-01T17:48:30.331Z"
   },
   {
    "duration": 33,
    "start_time": "2022-05-01T17:48:30.342Z"
   },
   {
    "duration": 33,
    "start_time": "2022-05-01T17:48:30.376Z"
   },
   {
    "duration": 18,
    "start_time": "2022-05-01T17:48:30.411Z"
   },
   {
    "duration": 42,
    "start_time": "2022-05-01T17:48:30.431Z"
   },
   {
    "duration": 80,
    "start_time": "2022-05-01T17:48:30.475Z"
   },
   {
    "duration": 3,
    "start_time": "2022-05-01T17:48:30.556Z"
   },
   {
    "duration": 58,
    "start_time": "2022-05-01T17:48:30.560Z"
   },
   {
    "duration": 47,
    "start_time": "2022-05-01T17:48:30.620Z"
   },
   {
    "duration": 38,
    "start_time": "2022-05-01T17:48:30.669Z"
   },
   {
    "duration": 5,
    "start_time": "2022-05-01T17:48:30.723Z"
   },
   {
    "duration": 2549,
    "start_time": "2022-05-01T17:48:30.730Z"
   },
   {
    "duration": 0,
    "start_time": "2022-05-01T17:48:33.282Z"
   },
   {
    "duration": 0,
    "start_time": "2022-05-01T17:48:33.283Z"
   },
   {
    "duration": 0,
    "start_time": "2022-05-01T17:48:33.284Z"
   },
   {
    "duration": 0,
    "start_time": "2022-05-01T17:48:33.285Z"
   },
   {
    "duration": 0,
    "start_time": "2022-05-01T17:48:33.286Z"
   },
   {
    "duration": 0,
    "start_time": "2022-05-01T17:48:33.288Z"
   },
   {
    "duration": 0,
    "start_time": "2022-05-01T17:48:33.289Z"
   },
   {
    "duration": 0,
    "start_time": "2022-05-01T17:48:33.290Z"
   },
   {
    "duration": 0,
    "start_time": "2022-05-01T17:48:33.291Z"
   },
   {
    "duration": 0,
    "start_time": "2022-05-01T17:48:33.292Z"
   },
   {
    "duration": 0,
    "start_time": "2022-05-01T17:48:33.294Z"
   },
   {
    "duration": 0,
    "start_time": "2022-05-01T17:48:33.295Z"
   },
   {
    "duration": 0,
    "start_time": "2022-05-01T17:48:33.295Z"
   },
   {
    "duration": 0,
    "start_time": "2022-05-01T17:48:33.297Z"
   },
   {
    "duration": 0,
    "start_time": "2022-05-01T17:48:33.298Z"
   },
   {
    "duration": 0,
    "start_time": "2022-05-01T17:48:33.299Z"
   },
   {
    "duration": 0,
    "start_time": "2022-05-01T17:48:33.300Z"
   },
   {
    "duration": 0,
    "start_time": "2022-05-01T17:48:33.302Z"
   },
   {
    "duration": 0,
    "start_time": "2022-05-01T17:48:33.303Z"
   },
   {
    "duration": 0,
    "start_time": "2022-05-01T17:48:33.304Z"
   },
   {
    "duration": 0,
    "start_time": "2022-05-01T17:48:33.305Z"
   },
   {
    "duration": 0,
    "start_time": "2022-05-01T17:48:33.305Z"
   },
   {
    "duration": 0,
    "start_time": "2022-05-01T17:48:33.307Z"
   },
   {
    "duration": 0,
    "start_time": "2022-05-01T17:48:33.308Z"
   },
   {
    "duration": 0,
    "start_time": "2022-05-01T17:48:33.309Z"
   },
   {
    "duration": 0,
    "start_time": "2022-05-01T17:48:33.310Z"
   },
   {
    "duration": 0,
    "start_time": "2022-05-01T17:48:33.311Z"
   },
   {
    "duration": 0,
    "start_time": "2022-05-01T17:48:33.312Z"
   },
   {
    "duration": 1466,
    "start_time": "2022-05-01T18:08:32.243Z"
   },
   {
    "duration": 214,
    "start_time": "2022-05-01T18:08:33.712Z"
   },
   {
    "duration": 153,
    "start_time": "2022-05-01T18:08:33.928Z"
   },
   {
    "duration": 266,
    "start_time": "2022-05-01T18:08:34.083Z"
   },
   {
    "duration": 107,
    "start_time": "2022-05-01T18:08:34.351Z"
   },
   {
    "duration": 14,
    "start_time": "2022-05-01T18:08:34.459Z"
   },
   {
    "duration": 21,
    "start_time": "2022-05-01T18:08:34.475Z"
   },
   {
    "duration": 34,
    "start_time": "2022-05-01T18:08:34.498Z"
   },
   {
    "duration": 78,
    "start_time": "2022-05-01T18:08:34.534Z"
   },
   {
    "duration": 10,
    "start_time": "2022-05-01T18:08:34.615Z"
   },
   {
    "duration": 38,
    "start_time": "2022-05-01T18:08:34.627Z"
   },
   {
    "duration": 26,
    "start_time": "2022-05-01T18:08:34.667Z"
   },
   {
    "duration": 10,
    "start_time": "2022-05-01T18:08:34.695Z"
   },
   {
    "duration": 52,
    "start_time": "2022-05-01T18:08:34.706Z"
   },
   {
    "duration": 120,
    "start_time": "2022-05-01T18:08:34.760Z"
   },
   {
    "duration": 2,
    "start_time": "2022-05-01T18:08:34.882Z"
   },
   {
    "duration": 59,
    "start_time": "2022-05-01T18:08:34.886Z"
   },
   {
    "duration": 83,
    "start_time": "2022-05-01T18:08:34.946Z"
   },
   {
    "duration": 93,
    "start_time": "2022-05-01T18:08:35.031Z"
   },
   {
    "duration": 4,
    "start_time": "2022-05-01T18:08:35.127Z"
   },
   {
    "duration": 2767,
    "start_time": "2022-05-01T18:08:35.133Z"
   },
   {
    "duration": 0,
    "start_time": "2022-05-01T18:08:37.903Z"
   },
   {
    "duration": 0,
    "start_time": "2022-05-01T18:08:37.904Z"
   },
   {
    "duration": 0,
    "start_time": "2022-05-01T18:08:37.905Z"
   },
   {
    "duration": 0,
    "start_time": "2022-05-01T18:08:37.906Z"
   },
   {
    "duration": 0,
    "start_time": "2022-05-01T18:08:37.907Z"
   },
   {
    "duration": 0,
    "start_time": "2022-05-01T18:08:37.908Z"
   },
   {
    "duration": 0,
    "start_time": "2022-05-01T18:08:37.909Z"
   },
   {
    "duration": 0,
    "start_time": "2022-05-01T18:08:37.910Z"
   },
   {
    "duration": 0,
    "start_time": "2022-05-01T18:08:37.911Z"
   },
   {
    "duration": 0,
    "start_time": "2022-05-01T18:08:37.912Z"
   },
   {
    "duration": 0,
    "start_time": "2022-05-01T18:08:37.913Z"
   },
   {
    "duration": 0,
    "start_time": "2022-05-01T18:08:37.914Z"
   },
   {
    "duration": 0,
    "start_time": "2022-05-01T18:08:37.915Z"
   },
   {
    "duration": 0,
    "start_time": "2022-05-01T18:08:37.916Z"
   },
   {
    "duration": 0,
    "start_time": "2022-05-01T18:08:37.917Z"
   },
   {
    "duration": 0,
    "start_time": "2022-05-01T18:08:37.918Z"
   },
   {
    "duration": 0,
    "start_time": "2022-05-01T18:08:37.919Z"
   },
   {
    "duration": 0,
    "start_time": "2022-05-01T18:08:37.920Z"
   },
   {
    "duration": 0,
    "start_time": "2022-05-01T18:08:37.921Z"
   },
   {
    "duration": 0,
    "start_time": "2022-05-01T18:08:37.922Z"
   },
   {
    "duration": 0,
    "start_time": "2022-05-01T18:08:37.931Z"
   },
   {
    "duration": 0,
    "start_time": "2022-05-01T18:08:37.932Z"
   },
   {
    "duration": 0,
    "start_time": "2022-05-01T18:08:37.933Z"
   },
   {
    "duration": 0,
    "start_time": "2022-05-01T18:08:37.934Z"
   },
   {
    "duration": 0,
    "start_time": "2022-05-01T18:08:37.935Z"
   },
   {
    "duration": 0,
    "start_time": "2022-05-01T18:08:37.936Z"
   },
   {
    "duration": 0,
    "start_time": "2022-05-01T18:08:37.937Z"
   },
   {
    "duration": 0,
    "start_time": "2022-05-01T18:08:37.938Z"
   },
   {
    "duration": 1483,
    "start_time": "2022-05-01T18:21:00.807Z"
   },
   {
    "duration": 238,
    "start_time": "2022-05-01T18:21:02.292Z"
   },
   {
    "duration": 165,
    "start_time": "2022-05-01T18:21:02.532Z"
   },
   {
    "duration": 254,
    "start_time": "2022-05-01T18:21:02.699Z"
   },
   {
    "duration": 136,
    "start_time": "2022-05-01T18:21:02.956Z"
   },
   {
    "duration": 15,
    "start_time": "2022-05-01T18:21:03.094Z"
   },
   {
    "duration": 24,
    "start_time": "2022-05-01T18:21:03.123Z"
   },
   {
    "duration": 32,
    "start_time": "2022-05-01T18:21:03.149Z"
   },
   {
    "duration": 129,
    "start_time": "2022-05-01T18:21:03.183Z"
   },
   {
    "duration": 12,
    "start_time": "2022-05-01T18:21:03.316Z"
   },
   {
    "duration": 55,
    "start_time": "2022-05-01T18:21:03.329Z"
   },
   {
    "duration": 26,
    "start_time": "2022-05-01T18:21:03.386Z"
   },
   {
    "duration": 10,
    "start_time": "2022-05-01T18:21:03.413Z"
   },
   {
    "duration": 53,
    "start_time": "2022-05-01T18:21:03.425Z"
   },
   {
    "duration": 73,
    "start_time": "2022-05-01T18:21:03.480Z"
   },
   {
    "duration": 2,
    "start_time": "2022-05-01T18:21:03.555Z"
   },
   {
    "duration": 75,
    "start_time": "2022-05-01T18:21:03.559Z"
   },
   {
    "duration": 51,
    "start_time": "2022-05-01T18:21:03.635Z"
   },
   {
    "duration": 50,
    "start_time": "2022-05-01T18:21:03.688Z"
   },
   {
    "duration": 4,
    "start_time": "2022-05-01T18:21:03.740Z"
   },
   {
    "duration": 3071,
    "start_time": "2022-05-01T18:21:03.750Z"
   },
   {
    "duration": 0,
    "start_time": "2022-05-01T18:21:06.825Z"
   },
   {
    "duration": 0,
    "start_time": "2022-05-01T18:21:06.826Z"
   },
   {
    "duration": 0,
    "start_time": "2022-05-01T18:21:06.828Z"
   },
   {
    "duration": 0,
    "start_time": "2022-05-01T18:21:06.830Z"
   },
   {
    "duration": 0,
    "start_time": "2022-05-01T18:21:06.831Z"
   },
   {
    "duration": 0,
    "start_time": "2022-05-01T18:21:06.832Z"
   },
   {
    "duration": 0,
    "start_time": "2022-05-01T18:21:06.834Z"
   },
   {
    "duration": 0,
    "start_time": "2022-05-01T18:21:06.835Z"
   },
   {
    "duration": 0,
    "start_time": "2022-05-01T18:21:06.836Z"
   },
   {
    "duration": 0,
    "start_time": "2022-05-01T18:21:06.837Z"
   },
   {
    "duration": 0,
    "start_time": "2022-05-01T18:21:06.838Z"
   },
   {
    "duration": 0,
    "start_time": "2022-05-01T18:21:06.839Z"
   },
   {
    "duration": 0,
    "start_time": "2022-05-01T18:21:06.841Z"
   },
   {
    "duration": 0,
    "start_time": "2022-05-01T18:21:06.842Z"
   },
   {
    "duration": 0,
    "start_time": "2022-05-01T18:21:06.843Z"
   },
   {
    "duration": 0,
    "start_time": "2022-05-01T18:21:06.844Z"
   },
   {
    "duration": 0,
    "start_time": "2022-05-01T18:21:06.845Z"
   },
   {
    "duration": 0,
    "start_time": "2022-05-01T18:21:06.847Z"
   },
   {
    "duration": 0,
    "start_time": "2022-05-01T18:21:06.848Z"
   },
   {
    "duration": 0,
    "start_time": "2022-05-01T18:21:06.851Z"
   },
   {
    "duration": 0,
    "start_time": "2022-05-01T18:21:06.852Z"
   },
   {
    "duration": 0,
    "start_time": "2022-05-01T18:21:06.853Z"
   },
   {
    "duration": 0,
    "start_time": "2022-05-01T18:21:06.857Z"
   },
   {
    "duration": 0,
    "start_time": "2022-05-01T18:21:06.858Z"
   },
   {
    "duration": 0,
    "start_time": "2022-05-01T18:21:06.860Z"
   },
   {
    "duration": 0,
    "start_time": "2022-05-01T18:21:06.861Z"
   },
   {
    "duration": 0,
    "start_time": "2022-05-01T18:21:06.863Z"
   },
   {
    "duration": 0,
    "start_time": "2022-05-01T18:21:06.864Z"
   },
   {
    "duration": 1283,
    "start_time": "2022-05-01T18:34:13.140Z"
   },
   {
    "duration": 203,
    "start_time": "2022-05-01T18:34:14.425Z"
   },
   {
    "duration": 140,
    "start_time": "2022-05-01T18:34:14.630Z"
   },
   {
    "duration": 208,
    "start_time": "2022-05-01T18:34:14.772Z"
   },
   {
    "duration": 95,
    "start_time": "2022-05-01T18:34:14.981Z"
   },
   {
    "duration": 15,
    "start_time": "2022-05-01T18:34:15.078Z"
   },
   {
    "duration": 36,
    "start_time": "2022-05-01T18:34:15.095Z"
   },
   {
    "duration": 30,
    "start_time": "2022-05-01T18:34:15.133Z"
   },
   {
    "duration": 80,
    "start_time": "2022-05-01T18:34:15.164Z"
   },
   {
    "duration": 9,
    "start_time": "2022-05-01T18:34:15.246Z"
   },
   {
    "duration": 31,
    "start_time": "2022-05-01T18:34:15.256Z"
   },
   {
    "duration": 40,
    "start_time": "2022-05-01T18:34:15.289Z"
   },
   {
    "duration": 11,
    "start_time": "2022-05-01T18:34:15.331Z"
   },
   {
    "duration": 45,
    "start_time": "2022-05-01T18:34:15.344Z"
   },
   {
    "duration": 109,
    "start_time": "2022-05-01T18:34:15.392Z"
   },
   {
    "duration": 3,
    "start_time": "2022-05-01T18:34:15.504Z"
   },
   {
    "duration": 49,
    "start_time": "2022-05-01T18:34:15.509Z"
   },
   {
    "duration": 35,
    "start_time": "2022-05-01T18:34:15.560Z"
   },
   {
    "duration": 74,
    "start_time": "2022-05-01T18:34:15.597Z"
   },
   {
    "duration": 4,
    "start_time": "2022-05-01T18:34:15.672Z"
   },
   {
    "duration": 132,
    "start_time": "2022-05-01T18:34:15.677Z"
   },
   {
    "duration": 0,
    "start_time": "2022-05-01T18:34:15.811Z"
   },
   {
    "duration": 0,
    "start_time": "2022-05-01T18:34:15.812Z"
   },
   {
    "duration": 0,
    "start_time": "2022-05-01T18:34:15.813Z"
   },
   {
    "duration": 0,
    "start_time": "2022-05-01T18:34:15.814Z"
   },
   {
    "duration": 0,
    "start_time": "2022-05-01T18:34:15.824Z"
   },
   {
    "duration": 0,
    "start_time": "2022-05-01T18:34:15.826Z"
   },
   {
    "duration": 0,
    "start_time": "2022-05-01T18:34:15.827Z"
   },
   {
    "duration": 0,
    "start_time": "2022-05-01T18:34:15.828Z"
   },
   {
    "duration": 0,
    "start_time": "2022-05-01T18:34:15.829Z"
   },
   {
    "duration": 0,
    "start_time": "2022-05-01T18:34:15.830Z"
   },
   {
    "duration": 0,
    "start_time": "2022-05-01T18:34:15.831Z"
   },
   {
    "duration": 0,
    "start_time": "2022-05-01T18:34:15.832Z"
   },
   {
    "duration": 0,
    "start_time": "2022-05-01T18:34:15.833Z"
   },
   {
    "duration": 0,
    "start_time": "2022-05-01T18:34:15.834Z"
   },
   {
    "duration": 0,
    "start_time": "2022-05-01T18:34:15.835Z"
   },
   {
    "duration": 0,
    "start_time": "2022-05-01T18:34:15.836Z"
   },
   {
    "duration": 0,
    "start_time": "2022-05-01T18:34:15.837Z"
   },
   {
    "duration": 0,
    "start_time": "2022-05-01T18:34:15.838Z"
   },
   {
    "duration": 0,
    "start_time": "2022-05-01T18:34:15.839Z"
   },
   {
    "duration": 0,
    "start_time": "2022-05-01T18:34:15.841Z"
   },
   {
    "duration": 0,
    "start_time": "2022-05-01T18:34:15.842Z"
   },
   {
    "duration": 0,
    "start_time": "2022-05-01T18:34:15.843Z"
   },
   {
    "duration": 0,
    "start_time": "2022-05-01T18:34:15.844Z"
   },
   {
    "duration": 0,
    "start_time": "2022-05-01T18:34:15.845Z"
   },
   {
    "duration": 0,
    "start_time": "2022-05-01T18:34:15.846Z"
   },
   {
    "duration": 0,
    "start_time": "2022-05-01T18:34:15.847Z"
   },
   {
    "duration": 0,
    "start_time": "2022-05-01T18:34:15.848Z"
   },
   {
    "duration": 0,
    "start_time": "2022-05-01T18:34:15.849Z"
   },
   {
    "duration": 1338,
    "start_time": "2022-05-01T18:36:09.390Z"
   },
   {
    "duration": 207,
    "start_time": "2022-05-01T18:36:10.732Z"
   },
   {
    "duration": 143,
    "start_time": "2022-05-01T18:36:10.941Z"
   },
   {
    "duration": 191,
    "start_time": "2022-05-01T18:36:11.086Z"
   },
   {
    "duration": 101,
    "start_time": "2022-05-01T18:36:11.280Z"
   },
   {
    "duration": 14,
    "start_time": "2022-05-01T18:36:11.382Z"
   },
   {
    "duration": 39,
    "start_time": "2022-05-01T18:36:11.397Z"
   },
   {
    "duration": 34,
    "start_time": "2022-05-01T18:36:11.438Z"
   },
   {
    "duration": 75,
    "start_time": "2022-05-01T18:36:11.474Z"
   },
   {
    "duration": 9,
    "start_time": "2022-05-01T18:36:11.550Z"
   },
   {
    "duration": 25,
    "start_time": "2022-05-01T18:36:11.560Z"
   },
   {
    "duration": 37,
    "start_time": "2022-05-01T18:36:11.587Z"
   },
   {
    "duration": 13,
    "start_time": "2022-05-01T18:36:11.626Z"
   },
   {
    "duration": 43,
    "start_time": "2022-05-01T18:36:11.644Z"
   },
   {
    "duration": 74,
    "start_time": "2022-05-01T18:36:11.689Z"
   },
   {
    "duration": 2,
    "start_time": "2022-05-01T18:36:11.765Z"
   },
   {
    "duration": 49,
    "start_time": "2022-05-01T18:36:11.769Z"
   },
   {
    "duration": 39,
    "start_time": "2022-05-01T18:36:11.820Z"
   },
   {
    "duration": 36,
    "start_time": "2022-05-01T18:36:11.860Z"
   },
   {
    "duration": 4,
    "start_time": "2022-05-01T18:36:11.897Z"
   },
   {
    "duration": 145,
    "start_time": "2022-05-01T18:36:11.902Z"
   },
   {
    "duration": 0,
    "start_time": "2022-05-01T18:36:12.049Z"
   },
   {
    "duration": 0,
    "start_time": "2022-05-01T18:36:12.050Z"
   },
   {
    "duration": 0,
    "start_time": "2022-05-01T18:36:12.051Z"
   },
   {
    "duration": 0,
    "start_time": "2022-05-01T18:36:12.053Z"
   },
   {
    "duration": 0,
    "start_time": "2022-05-01T18:36:12.053Z"
   },
   {
    "duration": 0,
    "start_time": "2022-05-01T18:36:12.055Z"
   },
   {
    "duration": 0,
    "start_time": "2022-05-01T18:36:12.056Z"
   },
   {
    "duration": 0,
    "start_time": "2022-05-01T18:36:12.056Z"
   },
   {
    "duration": 0,
    "start_time": "2022-05-01T18:36:12.057Z"
   },
   {
    "duration": 1,
    "start_time": "2022-05-01T18:36:12.058Z"
   },
   {
    "duration": 0,
    "start_time": "2022-05-01T18:36:12.059Z"
   },
   {
    "duration": 0,
    "start_time": "2022-05-01T18:36:12.060Z"
   },
   {
    "duration": 0,
    "start_time": "2022-05-01T18:36:12.061Z"
   },
   {
    "duration": 0,
    "start_time": "2022-05-01T18:36:12.062Z"
   },
   {
    "duration": 0,
    "start_time": "2022-05-01T18:36:12.063Z"
   },
   {
    "duration": 0,
    "start_time": "2022-05-01T18:36:12.064Z"
   },
   {
    "duration": 0,
    "start_time": "2022-05-01T18:36:12.066Z"
   },
   {
    "duration": 0,
    "start_time": "2022-05-01T18:36:12.067Z"
   },
   {
    "duration": 0,
    "start_time": "2022-05-01T18:36:12.068Z"
   },
   {
    "duration": 0,
    "start_time": "2022-05-01T18:36:12.069Z"
   },
   {
    "duration": 0,
    "start_time": "2022-05-01T18:36:12.070Z"
   },
   {
    "duration": 0,
    "start_time": "2022-05-01T18:36:12.071Z"
   },
   {
    "duration": 0,
    "start_time": "2022-05-01T18:36:12.072Z"
   },
   {
    "duration": 0,
    "start_time": "2022-05-01T18:36:12.073Z"
   },
   {
    "duration": 0,
    "start_time": "2022-05-01T18:36:12.074Z"
   },
   {
    "duration": 0,
    "start_time": "2022-05-01T18:36:12.075Z"
   },
   {
    "duration": 0,
    "start_time": "2022-05-01T18:36:12.076Z"
   },
   {
    "duration": 0,
    "start_time": "2022-05-01T18:36:12.077Z"
   },
   {
    "duration": 1459,
    "start_time": "2022-05-01T18:43:44.500Z"
   },
   {
    "duration": 209,
    "start_time": "2022-05-01T18:43:45.961Z"
   },
   {
    "duration": 205,
    "start_time": "2022-05-01T18:43:46.171Z"
   },
   {
    "duration": 210,
    "start_time": "2022-05-01T18:43:46.378Z"
   },
   {
    "duration": 112,
    "start_time": "2022-05-01T18:43:46.589Z"
   },
   {
    "duration": 22,
    "start_time": "2022-05-01T18:43:46.703Z"
   },
   {
    "duration": 28,
    "start_time": "2022-05-01T18:43:46.727Z"
   },
   {
    "duration": 30,
    "start_time": "2022-05-01T18:43:46.757Z"
   },
   {
    "duration": 134,
    "start_time": "2022-05-01T18:43:46.789Z"
   },
   {
    "duration": 9,
    "start_time": "2022-05-01T18:43:46.928Z"
   },
   {
    "duration": 38,
    "start_time": "2022-05-01T18:43:46.939Z"
   },
   {
    "duration": 31,
    "start_time": "2022-05-01T18:43:46.979Z"
   },
   {
    "duration": 22,
    "start_time": "2022-05-01T18:43:47.012Z"
   },
   {
    "duration": 45,
    "start_time": "2022-05-01T18:43:47.036Z"
   },
   {
    "duration": 82,
    "start_time": "2022-05-01T18:43:47.083Z"
   },
   {
    "duration": 2,
    "start_time": "2022-05-01T18:43:47.167Z"
   },
   {
    "duration": 58,
    "start_time": "2022-05-01T18:43:47.171Z"
   },
   {
    "duration": 35,
    "start_time": "2022-05-01T18:43:47.231Z"
   },
   {
    "duration": 35,
    "start_time": "2022-05-01T18:43:47.267Z"
   },
   {
    "duration": 4,
    "start_time": "2022-05-01T18:43:47.324Z"
   },
   {
    "duration": 120,
    "start_time": "2022-05-01T18:43:47.329Z"
   },
   {
    "duration": 0,
    "start_time": "2022-05-01T18:43:47.451Z"
   },
   {
    "duration": 0,
    "start_time": "2022-05-01T18:43:47.452Z"
   },
   {
    "duration": 0,
    "start_time": "2022-05-01T18:43:47.453Z"
   },
   {
    "duration": 0,
    "start_time": "2022-05-01T18:43:47.454Z"
   },
   {
    "duration": 0,
    "start_time": "2022-05-01T18:43:47.456Z"
   },
   {
    "duration": 0,
    "start_time": "2022-05-01T18:43:47.457Z"
   },
   {
    "duration": 0,
    "start_time": "2022-05-01T18:43:47.458Z"
   },
   {
    "duration": 0,
    "start_time": "2022-05-01T18:43:47.459Z"
   },
   {
    "duration": 0,
    "start_time": "2022-05-01T18:43:47.460Z"
   },
   {
    "duration": 0,
    "start_time": "2022-05-01T18:43:47.461Z"
   },
   {
    "duration": 0,
    "start_time": "2022-05-01T18:43:47.462Z"
   },
   {
    "duration": 0,
    "start_time": "2022-05-01T18:43:47.463Z"
   },
   {
    "duration": 0,
    "start_time": "2022-05-01T18:43:47.464Z"
   },
   {
    "duration": 0,
    "start_time": "2022-05-01T18:43:47.465Z"
   },
   {
    "duration": 0,
    "start_time": "2022-05-01T18:43:47.466Z"
   },
   {
    "duration": 0,
    "start_time": "2022-05-01T18:43:47.467Z"
   },
   {
    "duration": 0,
    "start_time": "2022-05-01T18:43:47.468Z"
   },
   {
    "duration": 0,
    "start_time": "2022-05-01T18:43:47.469Z"
   },
   {
    "duration": 0,
    "start_time": "2022-05-01T18:43:47.470Z"
   },
   {
    "duration": 0,
    "start_time": "2022-05-01T18:43:47.471Z"
   },
   {
    "duration": 0,
    "start_time": "2022-05-01T18:43:47.471Z"
   },
   {
    "duration": 0,
    "start_time": "2022-05-01T18:43:47.472Z"
   },
   {
    "duration": 0,
    "start_time": "2022-05-01T18:43:47.473Z"
   },
   {
    "duration": 0,
    "start_time": "2022-05-01T18:43:47.475Z"
   },
   {
    "duration": 0,
    "start_time": "2022-05-01T18:43:47.476Z"
   },
   {
    "duration": 0,
    "start_time": "2022-05-01T18:43:47.477Z"
   },
   {
    "duration": 0,
    "start_time": "2022-05-01T18:43:47.478Z"
   },
   {
    "duration": 0,
    "start_time": "2022-05-01T18:43:47.479Z"
   },
   {
    "duration": 1364,
    "start_time": "2022-05-01T18:46:40.289Z"
   },
   {
    "duration": 213,
    "start_time": "2022-05-01T18:46:41.655Z"
   },
   {
    "duration": 143,
    "start_time": "2022-05-01T18:46:41.869Z"
   },
   {
    "duration": 212,
    "start_time": "2022-05-01T18:46:42.014Z"
   },
   {
    "duration": 103,
    "start_time": "2022-05-01T18:46:42.228Z"
   },
   {
    "duration": 14,
    "start_time": "2022-05-01T18:46:42.332Z"
   },
   {
    "duration": 22,
    "start_time": "2022-05-01T18:46:42.348Z"
   },
   {
    "duration": 40,
    "start_time": "2022-05-01T18:46:42.372Z"
   },
   {
    "duration": 76,
    "start_time": "2022-05-01T18:46:42.414Z"
   },
   {
    "duration": 9,
    "start_time": "2022-05-01T18:46:42.492Z"
   },
   {
    "duration": 29,
    "start_time": "2022-05-01T18:46:42.503Z"
   },
   {
    "duration": 26,
    "start_time": "2022-05-01T18:46:42.533Z"
   },
   {
    "duration": 10,
    "start_time": "2022-05-01T18:46:42.561Z"
   },
   {
    "duration": 52,
    "start_time": "2022-05-01T18:46:42.574Z"
   },
   {
    "duration": 61,
    "start_time": "2022-05-01T18:46:42.628Z"
   },
   {
    "duration": 2,
    "start_time": "2022-05-01T18:46:42.691Z"
   },
   {
    "duration": 47,
    "start_time": "2022-05-01T18:46:42.695Z"
   },
   {
    "duration": 36,
    "start_time": "2022-05-01T18:46:42.743Z"
   },
   {
    "duration": 44,
    "start_time": "2022-05-01T18:46:42.780Z"
   },
   {
    "duration": 4,
    "start_time": "2022-05-01T18:46:42.826Z"
   },
   {
    "duration": 210,
    "start_time": "2022-05-01T18:46:42.831Z"
   },
   {
    "duration": 0,
    "start_time": "2022-05-01T18:46:43.043Z"
   },
   {
    "duration": 0,
    "start_time": "2022-05-01T18:46:43.045Z"
   },
   {
    "duration": 0,
    "start_time": "2022-05-01T18:46:43.046Z"
   },
   {
    "duration": 0,
    "start_time": "2022-05-01T18:46:43.048Z"
   },
   {
    "duration": 0,
    "start_time": "2022-05-01T18:46:43.049Z"
   },
   {
    "duration": 0,
    "start_time": "2022-05-01T18:46:43.050Z"
   },
   {
    "duration": 0,
    "start_time": "2022-05-01T18:46:43.052Z"
   },
   {
    "duration": 0,
    "start_time": "2022-05-01T18:46:43.053Z"
   },
   {
    "duration": 0,
    "start_time": "2022-05-01T18:46:43.054Z"
   },
   {
    "duration": 0,
    "start_time": "2022-05-01T18:46:43.056Z"
   },
   {
    "duration": 0,
    "start_time": "2022-05-01T18:46:43.057Z"
   },
   {
    "duration": 0,
    "start_time": "2022-05-01T18:46:43.058Z"
   },
   {
    "duration": 0,
    "start_time": "2022-05-01T18:46:43.059Z"
   },
   {
    "duration": 0,
    "start_time": "2022-05-01T18:46:43.060Z"
   },
   {
    "duration": 0,
    "start_time": "2022-05-01T18:46:43.061Z"
   },
   {
    "duration": 0,
    "start_time": "2022-05-01T18:46:43.062Z"
   },
   {
    "duration": 0,
    "start_time": "2022-05-01T18:46:43.063Z"
   },
   {
    "duration": 0,
    "start_time": "2022-05-01T18:46:43.064Z"
   },
   {
    "duration": 0,
    "start_time": "2022-05-01T18:46:43.066Z"
   },
   {
    "duration": 0,
    "start_time": "2022-05-01T18:46:43.067Z"
   },
   {
    "duration": 0,
    "start_time": "2022-05-01T18:46:43.068Z"
   },
   {
    "duration": 0,
    "start_time": "2022-05-01T18:46:43.069Z"
   },
   {
    "duration": 0,
    "start_time": "2022-05-01T18:46:43.070Z"
   },
   {
    "duration": 0,
    "start_time": "2022-05-01T18:46:43.071Z"
   },
   {
    "duration": 0,
    "start_time": "2022-05-01T18:46:43.074Z"
   },
   {
    "duration": 0,
    "start_time": "2022-05-01T18:46:43.076Z"
   },
   {
    "duration": 0,
    "start_time": "2022-05-01T18:46:43.077Z"
   },
   {
    "duration": 0,
    "start_time": "2022-05-01T18:46:43.078Z"
   },
   {
    "duration": 1231,
    "start_time": "2022-05-01T18:48:51.763Z"
   },
   {
    "duration": 201,
    "start_time": "2022-05-01T18:48:52.996Z"
   },
   {
    "duration": 140,
    "start_time": "2022-05-01T18:48:53.199Z"
   },
   {
    "duration": 184,
    "start_time": "2022-05-01T18:48:53.341Z"
   },
   {
    "duration": 134,
    "start_time": "2022-05-01T18:48:53.527Z"
   },
   {
    "duration": 16,
    "start_time": "2022-05-01T18:48:53.663Z"
   },
   {
    "duration": 27,
    "start_time": "2022-05-01T18:48:53.681Z"
   },
   {
    "duration": 37,
    "start_time": "2022-05-01T18:48:53.723Z"
   },
   {
    "duration": 119,
    "start_time": "2022-05-01T18:48:53.762Z"
   },
   {
    "duration": 10,
    "start_time": "2022-05-01T18:48:53.885Z"
   },
   {
    "duration": 38,
    "start_time": "2022-05-01T18:48:53.897Z"
   },
   {
    "duration": 30,
    "start_time": "2022-05-01T18:48:53.937Z"
   },
   {
    "duration": 14,
    "start_time": "2022-05-01T18:48:53.969Z"
   },
   {
    "duration": 76,
    "start_time": "2022-05-01T18:48:53.985Z"
   },
   {
    "duration": 83,
    "start_time": "2022-05-01T18:48:54.063Z"
   },
   {
    "duration": 3,
    "start_time": "2022-05-01T18:48:54.148Z"
   },
   {
    "duration": 53,
    "start_time": "2022-05-01T18:48:54.152Z"
   },
   {
    "duration": 38,
    "start_time": "2022-05-01T18:48:54.207Z"
   },
   {
    "duration": 33,
    "start_time": "2022-05-01T18:48:54.247Z"
   },
   {
    "duration": 3,
    "start_time": "2022-05-01T18:48:54.282Z"
   },
   {
    "duration": 118,
    "start_time": "2022-05-01T18:48:54.287Z"
   },
   {
    "duration": 0,
    "start_time": "2022-05-01T18:48:54.408Z"
   },
   {
    "duration": 0,
    "start_time": "2022-05-01T18:48:54.409Z"
   },
   {
    "duration": 0,
    "start_time": "2022-05-01T18:48:54.410Z"
   },
   {
    "duration": 0,
    "start_time": "2022-05-01T18:48:54.411Z"
   },
   {
    "duration": 0,
    "start_time": "2022-05-01T18:48:54.412Z"
   },
   {
    "duration": 0,
    "start_time": "2022-05-01T18:48:54.423Z"
   },
   {
    "duration": 0,
    "start_time": "2022-05-01T18:48:54.424Z"
   },
   {
    "duration": 0,
    "start_time": "2022-05-01T18:48:54.426Z"
   },
   {
    "duration": 0,
    "start_time": "2022-05-01T18:48:54.427Z"
   },
   {
    "duration": 0,
    "start_time": "2022-05-01T18:48:54.428Z"
   },
   {
    "duration": 0,
    "start_time": "2022-05-01T18:48:54.429Z"
   },
   {
    "duration": 0,
    "start_time": "2022-05-01T18:48:54.430Z"
   },
   {
    "duration": 0,
    "start_time": "2022-05-01T18:48:54.431Z"
   },
   {
    "duration": 0,
    "start_time": "2022-05-01T18:48:54.432Z"
   },
   {
    "duration": 0,
    "start_time": "2022-05-01T18:48:54.433Z"
   },
   {
    "duration": 0,
    "start_time": "2022-05-01T18:48:54.434Z"
   },
   {
    "duration": 0,
    "start_time": "2022-05-01T18:48:54.435Z"
   },
   {
    "duration": 0,
    "start_time": "2022-05-01T18:48:54.436Z"
   },
   {
    "duration": 0,
    "start_time": "2022-05-01T18:48:54.437Z"
   },
   {
    "duration": 0,
    "start_time": "2022-05-01T18:48:54.438Z"
   },
   {
    "duration": 0,
    "start_time": "2022-05-01T18:48:54.439Z"
   },
   {
    "duration": 0,
    "start_time": "2022-05-01T18:48:54.439Z"
   },
   {
    "duration": 0,
    "start_time": "2022-05-01T18:48:54.440Z"
   },
   {
    "duration": 0,
    "start_time": "2022-05-01T18:48:54.441Z"
   },
   {
    "duration": 0,
    "start_time": "2022-05-01T18:48:54.442Z"
   },
   {
    "duration": 0,
    "start_time": "2022-05-01T18:48:54.443Z"
   },
   {
    "duration": 0,
    "start_time": "2022-05-01T18:48:54.444Z"
   },
   {
    "duration": 0,
    "start_time": "2022-05-01T18:48:54.445Z"
   },
   {
    "duration": 1338,
    "start_time": "2022-05-01T18:50:00.070Z"
   },
   {
    "duration": 208,
    "start_time": "2022-05-01T18:50:01.410Z"
   },
   {
    "duration": 144,
    "start_time": "2022-05-01T18:50:01.623Z"
   },
   {
    "duration": 194,
    "start_time": "2022-05-01T18:50:01.769Z"
   },
   {
    "duration": 105,
    "start_time": "2022-05-01T18:50:01.965Z"
   },
   {
    "duration": 14,
    "start_time": "2022-05-01T18:50:02.072Z"
   },
   {
    "duration": 22,
    "start_time": "2022-05-01T18:50:02.087Z"
   },
   {
    "duration": 33,
    "start_time": "2022-05-01T18:50:02.124Z"
   },
   {
    "duration": 87,
    "start_time": "2022-05-01T18:50:02.159Z"
   },
   {
    "duration": 9,
    "start_time": "2022-05-01T18:50:02.249Z"
   },
   {
    "duration": 27,
    "start_time": "2022-05-01T18:50:02.259Z"
   },
   {
    "duration": 39,
    "start_time": "2022-05-01T18:50:02.287Z"
   },
   {
    "duration": 11,
    "start_time": "2022-05-01T18:50:02.328Z"
   },
   {
    "duration": 43,
    "start_time": "2022-05-01T18:50:02.340Z"
   },
   {
    "duration": 83,
    "start_time": "2022-05-01T18:50:02.385Z"
   },
   {
    "duration": 2,
    "start_time": "2022-05-01T18:50:02.470Z"
   },
   {
    "duration": 51,
    "start_time": "2022-05-01T18:50:02.474Z"
   },
   {
    "duration": 35,
    "start_time": "2022-05-01T18:50:02.527Z"
   },
   {
    "duration": 35,
    "start_time": "2022-05-01T18:50:02.563Z"
   },
   {
    "duration": 4,
    "start_time": "2022-05-01T18:50:02.623Z"
   },
   {
    "duration": 124,
    "start_time": "2022-05-01T18:50:02.628Z"
   },
   {
    "duration": 0,
    "start_time": "2022-05-01T18:50:02.754Z"
   },
   {
    "duration": 0,
    "start_time": "2022-05-01T18:50:02.755Z"
   },
   {
    "duration": 0,
    "start_time": "2022-05-01T18:50:02.756Z"
   },
   {
    "duration": 0,
    "start_time": "2022-05-01T18:50:02.757Z"
   },
   {
    "duration": 0,
    "start_time": "2022-05-01T18:50:02.758Z"
   },
   {
    "duration": 0,
    "start_time": "2022-05-01T18:50:02.759Z"
   },
   {
    "duration": 0,
    "start_time": "2022-05-01T18:50:02.760Z"
   },
   {
    "duration": 0,
    "start_time": "2022-05-01T18:50:02.761Z"
   },
   {
    "duration": 0,
    "start_time": "2022-05-01T18:50:02.762Z"
   },
   {
    "duration": 0,
    "start_time": "2022-05-01T18:50:02.762Z"
   },
   {
    "duration": 0,
    "start_time": "2022-05-01T18:50:02.763Z"
   },
   {
    "duration": 0,
    "start_time": "2022-05-01T18:50:02.764Z"
   },
   {
    "duration": 0,
    "start_time": "2022-05-01T18:50:02.765Z"
   },
   {
    "duration": 0,
    "start_time": "2022-05-01T18:50:02.766Z"
   },
   {
    "duration": 0,
    "start_time": "2022-05-01T18:50:02.767Z"
   },
   {
    "duration": 0,
    "start_time": "2022-05-01T18:50:02.768Z"
   },
   {
    "duration": 0,
    "start_time": "2022-05-01T18:50:02.769Z"
   },
   {
    "duration": 0,
    "start_time": "2022-05-01T18:50:02.770Z"
   },
   {
    "duration": 0,
    "start_time": "2022-05-01T18:50:02.771Z"
   },
   {
    "duration": 0,
    "start_time": "2022-05-01T18:50:02.772Z"
   },
   {
    "duration": 0,
    "start_time": "2022-05-01T18:50:02.773Z"
   },
   {
    "duration": 0,
    "start_time": "2022-05-01T18:50:02.774Z"
   },
   {
    "duration": 0,
    "start_time": "2022-05-01T18:50:02.775Z"
   },
   {
    "duration": 0,
    "start_time": "2022-05-01T18:50:02.776Z"
   },
   {
    "duration": 0,
    "start_time": "2022-05-01T18:50:02.777Z"
   },
   {
    "duration": 0,
    "start_time": "2022-05-01T18:50:02.777Z"
   },
   {
    "duration": 0,
    "start_time": "2022-05-01T18:50:02.778Z"
   },
   {
    "duration": 0,
    "start_time": "2022-05-01T18:50:02.779Z"
   },
   {
    "duration": 1376,
    "start_time": "2022-05-01T18:54:00.687Z"
   },
   {
    "duration": 206,
    "start_time": "2022-05-01T18:54:02.065Z"
   },
   {
    "duration": 138,
    "start_time": "2022-05-01T18:54:02.272Z"
   },
   {
    "duration": 186,
    "start_time": "2022-05-01T18:54:02.412Z"
   },
   {
    "duration": 104,
    "start_time": "2022-05-01T18:54:02.600Z"
   },
   {
    "duration": 21,
    "start_time": "2022-05-01T18:54:02.706Z"
   },
   {
    "duration": 22,
    "start_time": "2022-05-01T18:54:02.729Z"
   },
   {
    "duration": 33,
    "start_time": "2022-05-01T18:54:02.753Z"
   },
   {
    "duration": 106,
    "start_time": "2022-05-01T18:54:02.788Z"
   },
   {
    "duration": 10,
    "start_time": "2022-05-01T18:54:02.898Z"
   },
   {
    "duration": 32,
    "start_time": "2022-05-01T18:54:02.909Z"
   },
   {
    "duration": 26,
    "start_time": "2022-05-01T18:54:02.943Z"
   },
   {
    "duration": 10,
    "start_time": "2022-05-01T18:54:02.972Z"
   },
   {
    "duration": 68,
    "start_time": "2022-05-01T18:54:02.984Z"
   },
   {
    "duration": 63,
    "start_time": "2022-05-01T18:54:03.054Z"
   },
   {
    "duration": 2,
    "start_time": "2022-05-01T18:54:03.124Z"
   },
   {
    "duration": 49,
    "start_time": "2022-05-01T18:54:03.128Z"
   },
   {
    "duration": 49,
    "start_time": "2022-05-01T18:54:03.178Z"
   },
   {
    "duration": 35,
    "start_time": "2022-05-01T18:54:03.229Z"
   },
   {
    "duration": 4,
    "start_time": "2022-05-01T18:54:03.265Z"
   },
   {
    "duration": 135,
    "start_time": "2022-05-01T18:54:03.270Z"
   },
   {
    "duration": 0,
    "start_time": "2022-05-01T18:54:03.407Z"
   },
   {
    "duration": 0,
    "start_time": "2022-05-01T18:54:03.408Z"
   },
   {
    "duration": 0,
    "start_time": "2022-05-01T18:54:03.410Z"
   },
   {
    "duration": 0,
    "start_time": "2022-05-01T18:54:03.411Z"
   },
   {
    "duration": 0,
    "start_time": "2022-05-01T18:54:03.412Z"
   },
   {
    "duration": 0,
    "start_time": "2022-05-01T18:54:03.423Z"
   },
   {
    "duration": 0,
    "start_time": "2022-05-01T18:54:03.425Z"
   },
   {
    "duration": 0,
    "start_time": "2022-05-01T18:54:03.426Z"
   },
   {
    "duration": 0,
    "start_time": "2022-05-01T18:54:03.427Z"
   },
   {
    "duration": 0,
    "start_time": "2022-05-01T18:54:03.428Z"
   },
   {
    "duration": 0,
    "start_time": "2022-05-01T18:54:03.429Z"
   },
   {
    "duration": 0,
    "start_time": "2022-05-01T18:54:03.430Z"
   },
   {
    "duration": 0,
    "start_time": "2022-05-01T18:54:03.431Z"
   },
   {
    "duration": 0,
    "start_time": "2022-05-01T18:54:03.432Z"
   },
   {
    "duration": 0,
    "start_time": "2022-05-01T18:54:03.433Z"
   },
   {
    "duration": 0,
    "start_time": "2022-05-01T18:54:03.434Z"
   },
   {
    "duration": 0,
    "start_time": "2022-05-01T18:54:03.435Z"
   },
   {
    "duration": 0,
    "start_time": "2022-05-01T18:54:03.436Z"
   },
   {
    "duration": 0,
    "start_time": "2022-05-01T18:54:03.437Z"
   },
   {
    "duration": 0,
    "start_time": "2022-05-01T18:54:03.438Z"
   },
   {
    "duration": 0,
    "start_time": "2022-05-01T18:54:03.439Z"
   },
   {
    "duration": 0,
    "start_time": "2022-05-01T18:54:03.440Z"
   },
   {
    "duration": 0,
    "start_time": "2022-05-01T18:54:03.441Z"
   },
   {
    "duration": 0,
    "start_time": "2022-05-01T18:54:03.442Z"
   },
   {
    "duration": 1,
    "start_time": "2022-05-01T18:54:03.442Z"
   },
   {
    "duration": 0,
    "start_time": "2022-05-01T18:54:03.443Z"
   },
   {
    "duration": 0,
    "start_time": "2022-05-01T18:54:03.444Z"
   },
   {
    "duration": 0,
    "start_time": "2022-05-01T18:54:03.445Z"
   },
   {
    "duration": 1392,
    "start_time": "2022-05-01T18:58:42.831Z"
   },
   {
    "duration": 214,
    "start_time": "2022-05-01T18:58:44.226Z"
   },
   {
    "duration": 149,
    "start_time": "2022-05-01T18:58:44.441Z"
   },
   {
    "duration": 217,
    "start_time": "2022-05-01T18:58:44.593Z"
   },
   {
    "duration": 113,
    "start_time": "2022-05-01T18:58:44.812Z"
   },
   {
    "duration": 14,
    "start_time": "2022-05-01T18:58:44.929Z"
   },
   {
    "duration": 24,
    "start_time": "2022-05-01T18:58:44.945Z"
   },
   {
    "duration": 35,
    "start_time": "2022-05-01T18:58:44.972Z"
   },
   {
    "duration": 85,
    "start_time": "2022-05-01T18:58:45.009Z"
   },
   {
    "duration": 9,
    "start_time": "2022-05-01T18:58:45.097Z"
   },
   {
    "duration": 30,
    "start_time": "2022-05-01T18:58:45.124Z"
   },
   {
    "duration": 26,
    "start_time": "2022-05-01T18:58:45.156Z"
   },
   {
    "duration": 14,
    "start_time": "2022-05-01T18:58:45.184Z"
   },
   {
    "duration": 74,
    "start_time": "2022-05-01T18:58:45.200Z"
   },
   {
    "duration": 210,
    "start_time": "2022-05-01T18:58:45.276Z"
   },
   {
    "duration": 0,
    "start_time": "2022-05-01T18:58:45.489Z"
   },
   {
    "duration": 0,
    "start_time": "2022-05-01T18:58:45.490Z"
   },
   {
    "duration": 0,
    "start_time": "2022-05-01T18:58:45.491Z"
   },
   {
    "duration": 0,
    "start_time": "2022-05-01T18:58:45.492Z"
   },
   {
    "duration": 0,
    "start_time": "2022-05-01T18:58:45.493Z"
   },
   {
    "duration": 0,
    "start_time": "2022-05-01T18:58:45.494Z"
   },
   {
    "duration": 0,
    "start_time": "2022-05-01T18:58:45.495Z"
   },
   {
    "duration": 0,
    "start_time": "2022-05-01T18:58:45.496Z"
   },
   {
    "duration": 0,
    "start_time": "2022-05-01T18:58:45.497Z"
   },
   {
    "duration": 0,
    "start_time": "2022-05-01T18:58:45.497Z"
   },
   {
    "duration": 0,
    "start_time": "2022-05-01T18:58:45.498Z"
   },
   {
    "duration": 0,
    "start_time": "2022-05-01T18:58:45.500Z"
   },
   {
    "duration": 0,
    "start_time": "2022-05-01T18:58:45.501Z"
   },
   {
    "duration": 0,
    "start_time": "2022-05-01T18:58:45.502Z"
   },
   {
    "duration": 0,
    "start_time": "2022-05-01T18:58:45.504Z"
   },
   {
    "duration": 0,
    "start_time": "2022-05-01T18:58:45.505Z"
   },
   {
    "duration": 0,
    "start_time": "2022-05-01T18:58:45.506Z"
   },
   {
    "duration": 0,
    "start_time": "2022-05-01T18:58:45.507Z"
   },
   {
    "duration": 0,
    "start_time": "2022-05-01T18:58:45.508Z"
   },
   {
    "duration": 0,
    "start_time": "2022-05-01T18:58:45.509Z"
   },
   {
    "duration": 0,
    "start_time": "2022-05-01T18:58:45.510Z"
   },
   {
    "duration": 0,
    "start_time": "2022-05-01T18:58:45.512Z"
   },
   {
    "duration": 0,
    "start_time": "2022-05-01T18:58:45.515Z"
   },
   {
    "duration": 0,
    "start_time": "2022-05-01T18:58:45.516Z"
   },
   {
    "duration": 0,
    "start_time": "2022-05-01T18:58:45.519Z"
   },
   {
    "duration": 0,
    "start_time": "2022-05-01T18:58:45.520Z"
   },
   {
    "duration": 0,
    "start_time": "2022-05-01T18:58:45.522Z"
   },
   {
    "duration": 0,
    "start_time": "2022-05-01T18:58:45.523Z"
   },
   {
    "duration": 0,
    "start_time": "2022-05-01T18:58:45.525Z"
   },
   {
    "duration": 0,
    "start_time": "2022-05-01T18:58:45.526Z"
   },
   {
    "duration": 0,
    "start_time": "2022-05-01T18:58:45.527Z"
   },
   {
    "duration": 0,
    "start_time": "2022-05-01T18:58:45.528Z"
   },
   {
    "duration": 0,
    "start_time": "2022-05-01T18:58:45.529Z"
   },
   {
    "duration": 0,
    "start_time": "2022-05-01T18:58:45.530Z"
   },
   {
    "duration": 1363,
    "start_time": "2022-05-01T19:00:40.167Z"
   },
   {
    "duration": 231,
    "start_time": "2022-05-01T19:00:41.533Z"
   },
   {
    "duration": 176,
    "start_time": "2022-05-01T19:00:41.766Z"
   },
   {
    "duration": 211,
    "start_time": "2022-05-01T19:00:41.944Z"
   },
   {
    "duration": 105,
    "start_time": "2022-05-01T19:00:42.156Z"
   },
   {
    "duration": 13,
    "start_time": "2022-05-01T19:00:42.263Z"
   },
   {
    "duration": 21,
    "start_time": "2022-05-01T19:00:42.277Z"
   },
   {
    "duration": 42,
    "start_time": "2022-05-01T19:00:42.299Z"
   },
   {
    "duration": 88,
    "start_time": "2022-05-01T19:00:42.343Z"
   },
   {
    "duration": 8,
    "start_time": "2022-05-01T19:00:42.434Z"
   },
   {
    "duration": 29,
    "start_time": "2022-05-01T19:00:42.443Z"
   },
   {
    "duration": 28,
    "start_time": "2022-05-01T19:00:42.473Z"
   },
   {
    "duration": 27,
    "start_time": "2022-05-01T19:00:42.503Z"
   },
   {
    "duration": 44,
    "start_time": "2022-05-01T19:00:42.532Z"
   },
   {
    "duration": 155,
    "start_time": "2022-05-01T19:00:42.578Z"
   },
   {
    "duration": 0,
    "start_time": "2022-05-01T19:00:42.736Z"
   },
   {
    "duration": 0,
    "start_time": "2022-05-01T19:00:42.738Z"
   },
   {
    "duration": 0,
    "start_time": "2022-05-01T19:00:42.739Z"
   },
   {
    "duration": 0,
    "start_time": "2022-05-01T19:00:42.740Z"
   },
   {
    "duration": 0,
    "start_time": "2022-05-01T19:00:42.742Z"
   },
   {
    "duration": 0,
    "start_time": "2022-05-01T19:00:42.744Z"
   },
   {
    "duration": 0,
    "start_time": "2022-05-01T19:00:42.745Z"
   },
   {
    "duration": 0,
    "start_time": "2022-05-01T19:00:42.746Z"
   },
   {
    "duration": 0,
    "start_time": "2022-05-01T19:00:42.747Z"
   },
   {
    "duration": 0,
    "start_time": "2022-05-01T19:00:42.749Z"
   },
   {
    "duration": 0,
    "start_time": "2022-05-01T19:00:42.750Z"
   },
   {
    "duration": 0,
    "start_time": "2022-05-01T19:00:42.751Z"
   },
   {
    "duration": 0,
    "start_time": "2022-05-01T19:00:42.752Z"
   },
   {
    "duration": 0,
    "start_time": "2022-05-01T19:00:42.753Z"
   },
   {
    "duration": 0,
    "start_time": "2022-05-01T19:00:42.754Z"
   },
   {
    "duration": 0,
    "start_time": "2022-05-01T19:00:42.755Z"
   },
   {
    "duration": 0,
    "start_time": "2022-05-01T19:00:42.756Z"
   },
   {
    "duration": 0,
    "start_time": "2022-05-01T19:00:42.757Z"
   },
   {
    "duration": 0,
    "start_time": "2022-05-01T19:00:42.758Z"
   },
   {
    "duration": 0,
    "start_time": "2022-05-01T19:00:42.759Z"
   },
   {
    "duration": 0,
    "start_time": "2022-05-01T19:00:42.760Z"
   },
   {
    "duration": 0,
    "start_time": "2022-05-01T19:00:42.761Z"
   },
   {
    "duration": 0,
    "start_time": "2022-05-01T19:00:42.762Z"
   },
   {
    "duration": 0,
    "start_time": "2022-05-01T19:00:42.763Z"
   },
   {
    "duration": 0,
    "start_time": "2022-05-01T19:00:42.764Z"
   },
   {
    "duration": 0,
    "start_time": "2022-05-01T19:00:42.765Z"
   },
   {
    "duration": 0,
    "start_time": "2022-05-01T19:00:42.766Z"
   },
   {
    "duration": 0,
    "start_time": "2022-05-01T19:00:42.767Z"
   },
   {
    "duration": 0,
    "start_time": "2022-05-01T19:00:42.768Z"
   },
   {
    "duration": 0,
    "start_time": "2022-05-01T19:00:42.769Z"
   },
   {
    "duration": 0,
    "start_time": "2022-05-01T19:00:42.770Z"
   },
   {
    "duration": 0,
    "start_time": "2022-05-01T19:00:42.772Z"
   },
   {
    "duration": 0,
    "start_time": "2022-05-01T19:00:42.773Z"
   },
   {
    "duration": 0,
    "start_time": "2022-05-01T19:00:42.774Z"
   },
   {
    "duration": 1322,
    "start_time": "2022-05-01T19:01:35.434Z"
   },
   {
    "duration": 207,
    "start_time": "2022-05-01T19:01:36.758Z"
   },
   {
    "duration": 147,
    "start_time": "2022-05-01T19:01:36.967Z"
   },
   {
    "duration": 196,
    "start_time": "2022-05-01T19:01:37.117Z"
   },
   {
    "duration": 106,
    "start_time": "2022-05-01T19:01:37.316Z"
   },
   {
    "duration": 14,
    "start_time": "2022-05-01T19:01:37.424Z"
   },
   {
    "duration": 21,
    "start_time": "2022-05-01T19:01:37.440Z"
   },
   {
    "duration": 31,
    "start_time": "2022-05-01T19:01:37.463Z"
   },
   {
    "duration": 94,
    "start_time": "2022-05-01T19:01:37.496Z"
   },
   {
    "duration": 8,
    "start_time": "2022-05-01T19:01:37.592Z"
   },
   {
    "duration": 39,
    "start_time": "2022-05-01T19:01:37.602Z"
   },
   {
    "duration": 28,
    "start_time": "2022-05-01T19:01:37.642Z"
   },
   {
    "duration": 10,
    "start_time": "2022-05-01T19:01:37.672Z"
   },
   {
    "duration": 65,
    "start_time": "2022-05-01T19:01:37.686Z"
   },
   {
    "duration": 61,
    "start_time": "2022-05-01T19:01:37.753Z"
   },
   {
    "duration": 2,
    "start_time": "2022-05-01T19:01:37.824Z"
   },
   {
    "duration": 49,
    "start_time": "2022-05-01T19:01:37.829Z"
   },
   {
    "duration": 60,
    "start_time": "2022-05-01T19:01:37.880Z"
   },
   {
    "duration": 37,
    "start_time": "2022-05-01T19:01:37.943Z"
   },
   {
    "duration": 4,
    "start_time": "2022-05-01T19:01:37.982Z"
   },
   {
    "duration": 141,
    "start_time": "2022-05-01T19:01:37.987Z"
   },
   {
    "duration": 0,
    "start_time": "2022-05-01T19:01:38.130Z"
   },
   {
    "duration": 0,
    "start_time": "2022-05-01T19:01:38.131Z"
   },
   {
    "duration": 0,
    "start_time": "2022-05-01T19:01:38.133Z"
   },
   {
    "duration": 0,
    "start_time": "2022-05-01T19:01:38.134Z"
   },
   {
    "duration": 0,
    "start_time": "2022-05-01T19:01:38.136Z"
   },
   {
    "duration": 0,
    "start_time": "2022-05-01T19:01:38.137Z"
   },
   {
    "duration": 0,
    "start_time": "2022-05-01T19:01:38.139Z"
   },
   {
    "duration": 0,
    "start_time": "2022-05-01T19:01:38.140Z"
   },
   {
    "duration": 0,
    "start_time": "2022-05-01T19:01:38.141Z"
   },
   {
    "duration": 0,
    "start_time": "2022-05-01T19:01:38.143Z"
   },
   {
    "duration": 0,
    "start_time": "2022-05-01T19:01:38.144Z"
   },
   {
    "duration": 0,
    "start_time": "2022-05-01T19:01:38.146Z"
   },
   {
    "duration": 0,
    "start_time": "2022-05-01T19:01:38.147Z"
   },
   {
    "duration": 0,
    "start_time": "2022-05-01T19:01:38.148Z"
   },
   {
    "duration": 0,
    "start_time": "2022-05-01T19:01:38.150Z"
   },
   {
    "duration": 0,
    "start_time": "2022-05-01T19:01:38.151Z"
   },
   {
    "duration": 0,
    "start_time": "2022-05-01T19:01:38.153Z"
   },
   {
    "duration": 0,
    "start_time": "2022-05-01T19:01:38.154Z"
   },
   {
    "duration": 0,
    "start_time": "2022-05-01T19:01:38.155Z"
   },
   {
    "duration": 0,
    "start_time": "2022-05-01T19:01:38.157Z"
   },
   {
    "duration": 0,
    "start_time": "2022-05-01T19:01:38.158Z"
   },
   {
    "duration": 0,
    "start_time": "2022-05-01T19:01:38.159Z"
   },
   {
    "duration": 0,
    "start_time": "2022-05-01T19:01:38.161Z"
   },
   {
    "duration": 0,
    "start_time": "2022-05-01T19:01:38.162Z"
   },
   {
    "duration": 0,
    "start_time": "2022-05-01T19:01:38.163Z"
   },
   {
    "duration": 0,
    "start_time": "2022-05-01T19:01:38.164Z"
   },
   {
    "duration": 0,
    "start_time": "2022-05-01T19:01:38.165Z"
   },
   {
    "duration": 0,
    "start_time": "2022-05-01T19:01:38.166Z"
   },
   {
    "duration": 1305,
    "start_time": "2022-05-01T19:09:10.188Z"
   },
   {
    "duration": 196,
    "start_time": "2022-05-01T19:09:11.495Z"
   },
   {
    "duration": 138,
    "start_time": "2022-05-01T19:09:11.693Z"
   },
   {
    "duration": 179,
    "start_time": "2022-05-01T19:09:11.832Z"
   },
   {
    "duration": 96,
    "start_time": "2022-05-01T19:09:12.012Z"
   },
   {
    "duration": 23,
    "start_time": "2022-05-01T19:09:12.110Z"
   },
   {
    "duration": 20,
    "start_time": "2022-05-01T19:09:12.134Z"
   },
   {
    "duration": 30,
    "start_time": "2022-05-01T19:09:12.155Z"
   },
   {
    "duration": 91,
    "start_time": "2022-05-01T19:09:12.187Z"
   },
   {
    "duration": 9,
    "start_time": "2022-05-01T19:09:12.281Z"
   },
   {
    "duration": 31,
    "start_time": "2022-05-01T19:09:12.292Z"
   },
   {
    "duration": 26,
    "start_time": "2022-05-01T19:09:12.325Z"
   },
   {
    "duration": 10,
    "start_time": "2022-05-01T19:09:12.353Z"
   },
   {
    "duration": 59,
    "start_time": "2022-05-01T19:09:12.365Z"
   },
   {
    "duration": 60,
    "start_time": "2022-05-01T19:09:12.426Z"
   },
   {
    "duration": 2,
    "start_time": "2022-05-01T19:09:12.488Z"
   },
   {
    "duration": 53,
    "start_time": "2022-05-01T19:09:12.492Z"
   },
   {
    "duration": 34,
    "start_time": "2022-05-01T19:09:12.547Z"
   },
   {
    "duration": 57,
    "start_time": "2022-05-01T19:09:12.583Z"
   },
   {
    "duration": 3,
    "start_time": "2022-05-01T19:09:12.643Z"
   },
   {
    "duration": 2128,
    "start_time": "2022-05-01T19:09:12.648Z"
   },
   {
    "duration": 0,
    "start_time": "2022-05-01T19:09:14.780Z"
   },
   {
    "duration": 0,
    "start_time": "2022-05-01T19:09:14.781Z"
   },
   {
    "duration": 0,
    "start_time": "2022-05-01T19:09:14.782Z"
   },
   {
    "duration": 0,
    "start_time": "2022-05-01T19:09:14.784Z"
   },
   {
    "duration": 0,
    "start_time": "2022-05-01T19:09:14.785Z"
   },
   {
    "duration": 0,
    "start_time": "2022-05-01T19:09:14.787Z"
   },
   {
    "duration": 0,
    "start_time": "2022-05-01T19:09:14.788Z"
   },
   {
    "duration": 0,
    "start_time": "2022-05-01T19:09:14.789Z"
   },
   {
    "duration": 0,
    "start_time": "2022-05-01T19:09:14.791Z"
   },
   {
    "duration": 0,
    "start_time": "2022-05-01T19:09:14.793Z"
   },
   {
    "duration": 0,
    "start_time": "2022-05-01T19:09:14.794Z"
   },
   {
    "duration": 0,
    "start_time": "2022-05-01T19:09:14.795Z"
   },
   {
    "duration": 0,
    "start_time": "2022-05-01T19:09:14.797Z"
   },
   {
    "duration": 0,
    "start_time": "2022-05-01T19:09:14.798Z"
   },
   {
    "duration": 0,
    "start_time": "2022-05-01T19:09:14.799Z"
   },
   {
    "duration": 0,
    "start_time": "2022-05-01T19:09:14.801Z"
   },
   {
    "duration": 0,
    "start_time": "2022-05-01T19:09:14.802Z"
   },
   {
    "duration": 0,
    "start_time": "2022-05-01T19:09:14.805Z"
   },
   {
    "duration": 0,
    "start_time": "2022-05-01T19:09:14.806Z"
   },
   {
    "duration": 0,
    "start_time": "2022-05-01T19:09:14.808Z"
   },
   {
    "duration": 0,
    "start_time": "2022-05-01T19:09:14.809Z"
   },
   {
    "duration": 0,
    "start_time": "2022-05-01T19:09:14.811Z"
   },
   {
    "duration": 0,
    "start_time": "2022-05-01T19:09:14.812Z"
   },
   {
    "duration": 0,
    "start_time": "2022-05-01T19:09:14.814Z"
   },
   {
    "duration": 0,
    "start_time": "2022-05-01T19:09:14.815Z"
   },
   {
    "duration": 0,
    "start_time": "2022-05-01T19:09:14.823Z"
   },
   {
    "duration": 0,
    "start_time": "2022-05-01T19:09:14.825Z"
   },
   {
    "duration": 0,
    "start_time": "2022-05-01T19:09:14.827Z"
   },
   {
    "duration": 0,
    "start_time": "2022-05-01T19:09:14.828Z"
   },
   {
    "duration": 1344,
    "start_time": "2022-05-01T19:16:12.341Z"
   },
   {
    "duration": 196,
    "start_time": "2022-05-01T19:16:13.687Z"
   },
   {
    "duration": 141,
    "start_time": "2022-05-01T19:16:13.884Z"
   },
   {
    "duration": 182,
    "start_time": "2022-05-01T19:16:14.027Z"
   },
   {
    "duration": 97,
    "start_time": "2022-05-01T19:16:14.211Z"
   },
   {
    "duration": 22,
    "start_time": "2022-05-01T19:16:14.310Z"
   },
   {
    "duration": 20,
    "start_time": "2022-05-01T19:16:14.333Z"
   },
   {
    "duration": 31,
    "start_time": "2022-05-01T19:16:14.354Z"
   },
   {
    "duration": 85,
    "start_time": "2022-05-01T19:16:14.387Z"
   },
   {
    "duration": 9,
    "start_time": "2022-05-01T19:16:14.475Z"
   },
   {
    "duration": 28,
    "start_time": "2022-05-01T19:16:14.486Z"
   },
   {
    "duration": 27,
    "start_time": "2022-05-01T19:16:14.523Z"
   },
   {
    "duration": 11,
    "start_time": "2022-05-01T19:16:14.552Z"
   },
   {
    "duration": 60,
    "start_time": "2022-05-01T19:16:14.564Z"
   },
   {
    "duration": 59,
    "start_time": "2022-05-01T19:16:14.625Z"
   },
   {
    "duration": 2,
    "start_time": "2022-05-01T19:16:14.686Z"
   },
   {
    "duration": 73,
    "start_time": "2022-05-01T19:16:14.690Z"
   },
   {
    "duration": 35,
    "start_time": "2022-05-01T19:16:14.764Z"
   },
   {
    "duration": 46,
    "start_time": "2022-05-01T19:16:14.801Z"
   },
   {
    "duration": 3,
    "start_time": "2022-05-01T19:16:14.849Z"
   },
   {
    "duration": 2394,
    "start_time": "2022-05-01T19:16:14.853Z"
   },
   {
    "duration": 0,
    "start_time": "2022-05-01T19:16:17.249Z"
   },
   {
    "duration": 0,
    "start_time": "2022-05-01T19:16:17.250Z"
   },
   {
    "duration": 0,
    "start_time": "2022-05-01T19:16:17.252Z"
   },
   {
    "duration": 0,
    "start_time": "2022-05-01T19:16:17.252Z"
   },
   {
    "duration": 0,
    "start_time": "2022-05-01T19:16:17.253Z"
   },
   {
    "duration": 0,
    "start_time": "2022-05-01T19:16:17.254Z"
   },
   {
    "duration": 0,
    "start_time": "2022-05-01T19:16:17.255Z"
   },
   {
    "duration": 0,
    "start_time": "2022-05-01T19:16:17.256Z"
   },
   {
    "duration": 0,
    "start_time": "2022-05-01T19:16:17.256Z"
   },
   {
    "duration": 0,
    "start_time": "2022-05-01T19:16:17.257Z"
   },
   {
    "duration": 0,
    "start_time": "2022-05-01T19:16:17.258Z"
   },
   {
    "duration": 0,
    "start_time": "2022-05-01T19:16:17.259Z"
   },
   {
    "duration": 0,
    "start_time": "2022-05-01T19:16:17.260Z"
   },
   {
    "duration": 0,
    "start_time": "2022-05-01T19:16:17.260Z"
   },
   {
    "duration": 0,
    "start_time": "2022-05-01T19:16:17.262Z"
   },
   {
    "duration": 0,
    "start_time": "2022-05-01T19:16:17.263Z"
   },
   {
    "duration": 0,
    "start_time": "2022-05-01T19:16:17.264Z"
   },
   {
    "duration": 0,
    "start_time": "2022-05-01T19:16:17.265Z"
   },
   {
    "duration": 0,
    "start_time": "2022-05-01T19:16:17.266Z"
   },
   {
    "duration": 0,
    "start_time": "2022-05-01T19:16:17.266Z"
   },
   {
    "duration": 0,
    "start_time": "2022-05-01T19:16:17.267Z"
   },
   {
    "duration": 0,
    "start_time": "2022-05-01T19:16:17.268Z"
   },
   {
    "duration": 0,
    "start_time": "2022-05-01T19:16:17.269Z"
   },
   {
    "duration": 0,
    "start_time": "2022-05-01T19:16:17.270Z"
   },
   {
    "duration": 0,
    "start_time": "2022-05-01T19:16:17.271Z"
   },
   {
    "duration": 0,
    "start_time": "2022-05-01T19:16:17.272Z"
   },
   {
    "duration": 0,
    "start_time": "2022-05-01T19:16:17.273Z"
   },
   {
    "duration": 0,
    "start_time": "2022-05-01T19:16:17.274Z"
   },
   {
    "duration": 0,
    "start_time": "2022-05-01T19:16:17.275Z"
   },
   {
    "duration": 1316,
    "start_time": "2022-05-01T19:20:22.036Z"
   },
   {
    "duration": 196,
    "start_time": "2022-05-01T19:20:23.354Z"
   },
   {
    "duration": 138,
    "start_time": "2022-05-01T19:20:23.552Z"
   },
   {
    "duration": 195,
    "start_time": "2022-05-01T19:20:23.692Z"
   },
   {
    "duration": 106,
    "start_time": "2022-05-01T19:20:23.889Z"
   },
   {
    "duration": 26,
    "start_time": "2022-05-01T19:20:23.997Z"
   },
   {
    "duration": 26,
    "start_time": "2022-05-01T19:20:24.025Z"
   },
   {
    "duration": 31,
    "start_time": "2022-05-01T19:20:24.052Z"
   },
   {
    "duration": 84,
    "start_time": "2022-05-01T19:20:24.084Z"
   },
   {
    "duration": 8,
    "start_time": "2022-05-01T19:20:24.171Z"
   },
   {
    "duration": 29,
    "start_time": "2022-05-01T19:20:24.181Z"
   },
   {
    "duration": 39,
    "start_time": "2022-05-01T19:20:24.211Z"
   },
   {
    "duration": 10,
    "start_time": "2022-05-01T19:20:24.251Z"
   },
   {
    "duration": 43,
    "start_time": "2022-05-01T19:20:24.262Z"
   },
   {
    "duration": 59,
    "start_time": "2022-05-01T19:20:24.323Z"
   },
   {
    "duration": 2,
    "start_time": "2022-05-01T19:20:24.384Z"
   },
   {
    "duration": 57,
    "start_time": "2022-05-01T19:20:24.387Z"
   },
   {
    "duration": 35,
    "start_time": "2022-05-01T19:20:24.445Z"
   },
   {
    "duration": 53,
    "start_time": "2022-05-01T19:20:24.481Z"
   },
   {
    "duration": 3,
    "start_time": "2022-05-01T19:20:24.536Z"
   },
   {
    "duration": 2425,
    "start_time": "2022-05-01T19:20:24.541Z"
   },
   {
    "duration": 0,
    "start_time": "2022-05-01T19:20:26.968Z"
   },
   {
    "duration": 0,
    "start_time": "2022-05-01T19:20:26.969Z"
   },
   {
    "duration": 0,
    "start_time": "2022-05-01T19:20:26.970Z"
   },
   {
    "duration": 0,
    "start_time": "2022-05-01T19:20:26.971Z"
   },
   {
    "duration": 0,
    "start_time": "2022-05-01T19:20:26.972Z"
   },
   {
    "duration": 0,
    "start_time": "2022-05-01T19:20:26.973Z"
   },
   {
    "duration": 0,
    "start_time": "2022-05-01T19:20:26.974Z"
   },
   {
    "duration": 0,
    "start_time": "2022-05-01T19:20:26.975Z"
   },
   {
    "duration": 0,
    "start_time": "2022-05-01T19:20:26.976Z"
   },
   {
    "duration": 0,
    "start_time": "2022-05-01T19:20:26.977Z"
   },
   {
    "duration": 0,
    "start_time": "2022-05-01T19:20:26.978Z"
   },
   {
    "duration": 0,
    "start_time": "2022-05-01T19:20:26.979Z"
   },
   {
    "duration": 0,
    "start_time": "2022-05-01T19:20:26.980Z"
   },
   {
    "duration": 0,
    "start_time": "2022-05-01T19:20:26.981Z"
   },
   {
    "duration": 0,
    "start_time": "2022-05-01T19:20:26.982Z"
   },
   {
    "duration": 0,
    "start_time": "2022-05-01T19:20:26.983Z"
   },
   {
    "duration": 0,
    "start_time": "2022-05-01T19:20:26.984Z"
   },
   {
    "duration": 0,
    "start_time": "2022-05-01T19:20:26.985Z"
   },
   {
    "duration": 0,
    "start_time": "2022-05-01T19:20:26.986Z"
   },
   {
    "duration": 0,
    "start_time": "2022-05-01T19:20:26.986Z"
   },
   {
    "duration": 0,
    "start_time": "2022-05-01T19:20:26.987Z"
   },
   {
    "duration": 0,
    "start_time": "2022-05-01T19:20:26.988Z"
   },
   {
    "duration": 0,
    "start_time": "2022-05-01T19:20:26.989Z"
   },
   {
    "duration": 0,
    "start_time": "2022-05-01T19:20:26.990Z"
   },
   {
    "duration": 0,
    "start_time": "2022-05-01T19:20:26.991Z"
   },
   {
    "duration": 0,
    "start_time": "2022-05-01T19:20:26.992Z"
   },
   {
    "duration": 0,
    "start_time": "2022-05-01T19:20:26.993Z"
   },
   {
    "duration": 0,
    "start_time": "2022-05-01T19:20:26.994Z"
   },
   {
    "duration": 0,
    "start_time": "2022-05-01T19:20:26.994Z"
   },
   {
    "duration": 1229,
    "start_time": "2022-05-01T19:21:14.255Z"
   },
   {
    "duration": 190,
    "start_time": "2022-05-01T19:21:15.486Z"
   },
   {
    "duration": 137,
    "start_time": "2022-05-01T19:21:15.677Z"
   },
   {
    "duration": 186,
    "start_time": "2022-05-01T19:21:15.816Z"
   },
   {
    "duration": 95,
    "start_time": "2022-05-01T19:21:16.004Z"
   },
   {
    "duration": 22,
    "start_time": "2022-05-01T19:21:16.101Z"
   },
   {
    "duration": 23,
    "start_time": "2022-05-01T19:21:16.125Z"
   },
   {
    "duration": 29,
    "start_time": "2022-05-01T19:21:16.150Z"
   },
   {
    "duration": 85,
    "start_time": "2022-05-01T19:21:16.181Z"
   },
   {
    "duration": 10,
    "start_time": "2022-05-01T19:21:16.270Z"
   },
   {
    "duration": 25,
    "start_time": "2022-05-01T19:21:16.281Z"
   },
   {
    "duration": 41,
    "start_time": "2022-05-01T19:21:16.307Z"
   },
   {
    "duration": 11,
    "start_time": "2022-05-01T19:21:16.349Z"
   },
   {
    "duration": 62,
    "start_time": "2022-05-01T19:21:16.362Z"
   },
   {
    "duration": 61,
    "start_time": "2022-05-01T19:21:16.426Z"
   },
   {
    "duration": 3,
    "start_time": "2022-05-01T19:21:16.488Z"
   },
   {
    "duration": 59,
    "start_time": "2022-05-01T19:21:16.492Z"
   },
   {
    "duration": 37,
    "start_time": "2022-05-01T19:21:16.553Z"
   },
   {
    "duration": 54,
    "start_time": "2022-05-01T19:21:16.592Z"
   },
   {
    "duration": 3,
    "start_time": "2022-05-01T19:21:16.647Z"
   },
   {
    "duration": 2303,
    "start_time": "2022-05-01T19:21:16.651Z"
   },
   {
    "duration": 0,
    "start_time": "2022-05-01T19:21:18.956Z"
   },
   {
    "duration": 0,
    "start_time": "2022-05-01T19:21:18.957Z"
   },
   {
    "duration": 0,
    "start_time": "2022-05-01T19:21:18.958Z"
   },
   {
    "duration": 0,
    "start_time": "2022-05-01T19:21:18.959Z"
   },
   {
    "duration": 0,
    "start_time": "2022-05-01T19:21:18.960Z"
   },
   {
    "duration": 0,
    "start_time": "2022-05-01T19:21:18.961Z"
   },
   {
    "duration": 0,
    "start_time": "2022-05-01T19:21:18.963Z"
   },
   {
    "duration": 0,
    "start_time": "2022-05-01T19:21:18.964Z"
   },
   {
    "duration": 0,
    "start_time": "2022-05-01T19:21:18.965Z"
   },
   {
    "duration": 0,
    "start_time": "2022-05-01T19:21:18.966Z"
   },
   {
    "duration": 0,
    "start_time": "2022-05-01T19:21:18.967Z"
   },
   {
    "duration": 0,
    "start_time": "2022-05-01T19:21:18.968Z"
   },
   {
    "duration": 0,
    "start_time": "2022-05-01T19:21:18.969Z"
   },
   {
    "duration": 0,
    "start_time": "2022-05-01T19:21:18.970Z"
   },
   {
    "duration": 0,
    "start_time": "2022-05-01T19:21:18.971Z"
   },
   {
    "duration": 0,
    "start_time": "2022-05-01T19:21:18.973Z"
   },
   {
    "duration": 0,
    "start_time": "2022-05-01T19:21:18.974Z"
   },
   {
    "duration": 0,
    "start_time": "2022-05-01T19:21:18.975Z"
   },
   {
    "duration": 0,
    "start_time": "2022-05-01T19:21:18.975Z"
   },
   {
    "duration": 0,
    "start_time": "2022-05-01T19:21:18.976Z"
   },
   {
    "duration": 0,
    "start_time": "2022-05-01T19:21:18.977Z"
   },
   {
    "duration": 0,
    "start_time": "2022-05-01T19:21:18.978Z"
   },
   {
    "duration": 0,
    "start_time": "2022-05-01T19:21:18.979Z"
   },
   {
    "duration": 0,
    "start_time": "2022-05-01T19:21:18.980Z"
   },
   {
    "duration": 0,
    "start_time": "2022-05-01T19:21:18.981Z"
   },
   {
    "duration": 0,
    "start_time": "2022-05-01T19:21:18.982Z"
   },
   {
    "duration": 0,
    "start_time": "2022-05-01T19:21:18.983Z"
   },
   {
    "duration": 0,
    "start_time": "2022-05-01T19:21:18.984Z"
   },
   {
    "duration": 0,
    "start_time": "2022-05-01T19:21:18.985Z"
   },
   {
    "duration": 1692,
    "start_time": "2022-05-01T19:22:13.991Z"
   },
   {
    "duration": 295,
    "start_time": "2022-05-01T19:22:15.685Z"
   },
   {
    "duration": 204,
    "start_time": "2022-05-01T19:22:15.982Z"
   },
   {
    "duration": 203,
    "start_time": "2022-05-01T19:22:16.188Z"
   },
   {
    "duration": 104,
    "start_time": "2022-05-01T19:22:16.393Z"
   },
   {
    "duration": 13,
    "start_time": "2022-05-01T19:22:16.499Z"
   },
   {
    "duration": 36,
    "start_time": "2022-05-01T19:22:16.514Z"
   },
   {
    "duration": 33,
    "start_time": "2022-05-01T19:22:16.552Z"
   },
   {
    "duration": 87,
    "start_time": "2022-05-01T19:22:16.586Z"
   },
   {
    "duration": 8,
    "start_time": "2022-05-01T19:22:16.676Z"
   },
   {
    "duration": 27,
    "start_time": "2022-05-01T19:22:16.686Z"
   },
   {
    "duration": 32,
    "start_time": "2022-05-01T19:22:16.715Z"
   },
   {
    "duration": 11,
    "start_time": "2022-05-01T19:22:16.748Z"
   },
   {
    "duration": 64,
    "start_time": "2022-05-01T19:22:16.760Z"
   },
   {
    "duration": 60,
    "start_time": "2022-05-01T19:22:16.825Z"
   },
   {
    "duration": 2,
    "start_time": "2022-05-01T19:22:16.887Z"
   },
   {
    "duration": 62,
    "start_time": "2022-05-01T19:22:16.891Z"
   },
   {
    "duration": 37,
    "start_time": "2022-05-01T19:22:16.955Z"
   },
   {
    "duration": 50,
    "start_time": "2022-05-01T19:22:16.994Z"
   },
   {
    "duration": 3,
    "start_time": "2022-05-01T19:22:17.046Z"
   },
   {
    "duration": 276,
    "start_time": "2022-05-01T19:22:17.050Z"
   },
   {
    "duration": 6,
    "start_time": "2022-05-01T19:22:17.328Z"
   },
   {
    "duration": 0,
    "start_time": "2022-05-01T19:22:17.336Z"
   },
   {
    "duration": 0,
    "start_time": "2022-05-01T19:22:17.337Z"
   },
   {
    "duration": 0,
    "start_time": "2022-05-01T19:22:17.338Z"
   },
   {
    "duration": 0,
    "start_time": "2022-05-01T19:22:17.339Z"
   },
   {
    "duration": 0,
    "start_time": "2022-05-01T19:22:17.340Z"
   },
   {
    "duration": 0,
    "start_time": "2022-05-01T19:22:17.341Z"
   },
   {
    "duration": 0,
    "start_time": "2022-05-01T19:22:17.342Z"
   },
   {
    "duration": 0,
    "start_time": "2022-05-01T19:22:17.343Z"
   },
   {
    "duration": 0,
    "start_time": "2022-05-01T19:22:17.344Z"
   },
   {
    "duration": 0,
    "start_time": "2022-05-01T19:22:17.345Z"
   },
   {
    "duration": 0,
    "start_time": "2022-05-01T19:22:17.346Z"
   },
   {
    "duration": 0,
    "start_time": "2022-05-01T19:22:17.347Z"
   },
   {
    "duration": 0,
    "start_time": "2022-05-01T19:22:17.348Z"
   },
   {
    "duration": 0,
    "start_time": "2022-05-01T19:22:17.349Z"
   },
   {
    "duration": 0,
    "start_time": "2022-05-01T19:22:17.350Z"
   },
   {
    "duration": 0,
    "start_time": "2022-05-01T19:22:17.352Z"
   },
   {
    "duration": 0,
    "start_time": "2022-05-01T19:22:17.353Z"
   },
   {
    "duration": 0,
    "start_time": "2022-05-01T19:22:17.354Z"
   },
   {
    "duration": 0,
    "start_time": "2022-05-01T19:22:17.355Z"
   },
   {
    "duration": 0,
    "start_time": "2022-05-01T19:22:17.356Z"
   },
   {
    "duration": 0,
    "start_time": "2022-05-01T19:22:17.357Z"
   },
   {
    "duration": 0,
    "start_time": "2022-05-01T19:22:17.358Z"
   },
   {
    "duration": 0,
    "start_time": "2022-05-01T19:22:17.360Z"
   },
   {
    "duration": 0,
    "start_time": "2022-05-01T19:22:17.361Z"
   },
   {
    "duration": 0,
    "start_time": "2022-05-01T19:22:17.362Z"
   },
   {
    "duration": 0,
    "start_time": "2022-05-01T19:22:17.363Z"
   },
   {
    "duration": 0,
    "start_time": "2022-05-01T19:22:17.364Z"
   },
   {
    "duration": 0,
    "start_time": "2022-05-01T19:22:17.365Z"
   },
   {
    "duration": 1514,
    "start_time": "2022-05-01T19:33:36.970Z"
   },
   {
    "duration": 225,
    "start_time": "2022-05-01T19:33:38.487Z"
   },
   {
    "duration": 142,
    "start_time": "2022-05-01T19:33:38.714Z"
   },
   {
    "duration": 203,
    "start_time": "2022-05-01T19:33:38.858Z"
   },
   {
    "duration": 138,
    "start_time": "2022-05-01T19:33:39.064Z"
   },
   {
    "duration": 24,
    "start_time": "2022-05-01T19:33:39.204Z"
   },
   {
    "duration": 31,
    "start_time": "2022-05-01T19:33:39.230Z"
   },
   {
    "duration": 32,
    "start_time": "2022-05-01T19:33:39.262Z"
   },
   {
    "duration": 82,
    "start_time": "2022-05-01T19:33:39.296Z"
   },
   {
    "duration": 11,
    "start_time": "2022-05-01T19:33:39.381Z"
   },
   {
    "duration": 43,
    "start_time": "2022-05-01T19:33:39.394Z"
   },
   {
    "duration": 32,
    "start_time": "2022-05-01T19:33:39.440Z"
   },
   {
    "duration": 12,
    "start_time": "2022-05-01T19:33:39.474Z"
   },
   {
    "duration": 65,
    "start_time": "2022-05-01T19:33:39.489Z"
   },
   {
    "duration": 68,
    "start_time": "2022-05-01T19:33:39.556Z"
   },
   {
    "duration": 2,
    "start_time": "2022-05-01T19:33:39.627Z"
   },
   {
    "duration": 57,
    "start_time": "2022-05-01T19:33:39.631Z"
   },
   {
    "duration": 71,
    "start_time": "2022-05-01T19:33:39.689Z"
   },
   {
    "duration": 63,
    "start_time": "2022-05-01T19:33:39.762Z"
   },
   {
    "duration": 409,
    "start_time": "2022-05-01T19:33:39.827Z"
   },
   {
    "duration": 615,
    "start_time": "2022-05-01T19:33:40.237Z"
   },
   {
    "duration": 0,
    "start_time": "2022-05-01T19:33:40.854Z"
   },
   {
    "duration": 0,
    "start_time": "2022-05-01T19:33:40.856Z"
   },
   {
    "duration": 0,
    "start_time": "2022-05-01T19:33:40.857Z"
   },
   {
    "duration": 0,
    "start_time": "2022-05-01T19:33:40.858Z"
   },
   {
    "duration": 0,
    "start_time": "2022-05-01T19:33:40.860Z"
   },
   {
    "duration": 0,
    "start_time": "2022-05-01T19:33:40.862Z"
   },
   {
    "duration": 0,
    "start_time": "2022-05-01T19:33:40.863Z"
   },
   {
    "duration": 0,
    "start_time": "2022-05-01T19:33:40.864Z"
   },
   {
    "duration": 0,
    "start_time": "2022-05-01T19:33:40.865Z"
   },
   {
    "duration": 0,
    "start_time": "2022-05-01T19:33:40.866Z"
   },
   {
    "duration": 0,
    "start_time": "2022-05-01T19:33:40.868Z"
   },
   {
    "duration": 0,
    "start_time": "2022-05-01T19:33:40.869Z"
   },
   {
    "duration": 0,
    "start_time": "2022-05-01T19:33:40.871Z"
   },
   {
    "duration": 0,
    "start_time": "2022-05-01T19:33:40.872Z"
   },
   {
    "duration": 0,
    "start_time": "2022-05-01T19:33:40.873Z"
   },
   {
    "duration": 0,
    "start_time": "2022-05-01T19:33:40.875Z"
   },
   {
    "duration": 0,
    "start_time": "2022-05-01T19:33:40.876Z"
   },
   {
    "duration": 0,
    "start_time": "2022-05-01T19:33:40.878Z"
   },
   {
    "duration": 0,
    "start_time": "2022-05-01T19:33:40.879Z"
   },
   {
    "duration": 0,
    "start_time": "2022-05-01T19:33:40.880Z"
   },
   {
    "duration": 0,
    "start_time": "2022-05-01T19:33:40.881Z"
   },
   {
    "duration": 0,
    "start_time": "2022-05-01T19:33:40.882Z"
   },
   {
    "duration": 0,
    "start_time": "2022-05-01T19:33:40.884Z"
   },
   {
    "duration": 0,
    "start_time": "2022-05-01T19:33:40.885Z"
   },
   {
    "duration": 0,
    "start_time": "2022-05-01T19:33:40.886Z"
   },
   {
    "duration": 0,
    "start_time": "2022-05-01T19:33:40.887Z"
   },
   {
    "duration": 0,
    "start_time": "2022-05-01T19:33:40.889Z"
   },
   {
    "duration": 1391,
    "start_time": "2022-05-01T19:34:39.058Z"
   },
   {
    "duration": 258,
    "start_time": "2022-05-01T19:34:40.451Z"
   },
   {
    "duration": 129,
    "start_time": "2022-05-01T19:34:40.711Z"
   },
   {
    "duration": 207,
    "start_time": "2022-05-01T19:34:40.842Z"
   },
   {
    "duration": 104,
    "start_time": "2022-05-01T19:34:41.051Z"
   },
   {
    "duration": 17,
    "start_time": "2022-05-01T19:34:41.157Z"
   },
   {
    "duration": 47,
    "start_time": "2022-05-01T19:34:41.176Z"
   },
   {
    "duration": 41,
    "start_time": "2022-05-01T19:34:41.225Z"
   },
   {
    "duration": 126,
    "start_time": "2022-05-01T19:34:41.268Z"
   },
   {
    "duration": 11,
    "start_time": "2022-05-01T19:34:41.397Z"
   },
   {
    "duration": 37,
    "start_time": "2022-05-01T19:34:41.411Z"
   },
   {
    "duration": 31,
    "start_time": "2022-05-01T19:34:41.450Z"
   },
   {
    "duration": 12,
    "start_time": "2022-05-01T19:34:41.483Z"
   },
   {
    "duration": 67,
    "start_time": "2022-05-01T19:34:41.497Z"
   },
   {
    "duration": 86,
    "start_time": "2022-05-01T19:34:41.566Z"
   },
   {
    "duration": 2,
    "start_time": "2022-05-01T19:34:41.654Z"
   },
   {
    "duration": 69,
    "start_time": "2022-05-01T19:34:41.658Z"
   },
   {
    "duration": 49,
    "start_time": "2022-05-01T19:34:41.729Z"
   },
   {
    "duration": 62,
    "start_time": "2022-05-01T19:34:41.780Z"
   },
   {
    "duration": 481,
    "start_time": "2022-05-01T19:34:41.844Z"
   },
   {
    "duration": 253,
    "start_time": "2022-05-01T19:34:42.327Z"
   },
   {
    "duration": 105,
    "start_time": "2022-05-01T19:34:42.582Z"
   },
   {
    "duration": 159,
    "start_time": "2022-05-01T19:34:42.688Z"
   },
   {
    "duration": 106,
    "start_time": "2022-05-01T19:34:42.849Z"
   },
   {
    "duration": 0,
    "start_time": "2022-05-01T19:34:42.957Z"
   },
   {
    "duration": 0,
    "start_time": "2022-05-01T19:34:42.958Z"
   },
   {
    "duration": 0,
    "start_time": "2022-05-01T19:34:42.960Z"
   },
   {
    "duration": 0,
    "start_time": "2022-05-01T19:34:42.961Z"
   },
   {
    "duration": 0,
    "start_time": "2022-05-01T19:34:42.962Z"
   },
   {
    "duration": 0,
    "start_time": "2022-05-01T19:34:42.963Z"
   },
   {
    "duration": 0,
    "start_time": "2022-05-01T19:34:42.964Z"
   },
   {
    "duration": 0,
    "start_time": "2022-05-01T19:34:42.965Z"
   },
   {
    "duration": 0,
    "start_time": "2022-05-01T19:34:42.966Z"
   },
   {
    "duration": 0,
    "start_time": "2022-05-01T19:34:42.967Z"
   },
   {
    "duration": 0,
    "start_time": "2022-05-01T19:34:42.968Z"
   },
   {
    "duration": 0,
    "start_time": "2022-05-01T19:34:42.969Z"
   },
   {
    "duration": 0,
    "start_time": "2022-05-01T19:34:42.970Z"
   },
   {
    "duration": 0,
    "start_time": "2022-05-01T19:34:42.971Z"
   },
   {
    "duration": 0,
    "start_time": "2022-05-01T19:34:42.972Z"
   },
   {
    "duration": 0,
    "start_time": "2022-05-01T19:34:42.974Z"
   },
   {
    "duration": 0,
    "start_time": "2022-05-01T19:34:42.975Z"
   },
   {
    "duration": 0,
    "start_time": "2022-05-01T19:34:42.976Z"
   },
   {
    "duration": 0,
    "start_time": "2022-05-01T19:34:42.977Z"
   },
   {
    "duration": 0,
    "start_time": "2022-05-01T19:34:42.977Z"
   },
   {
    "duration": 0,
    "start_time": "2022-05-01T19:34:42.979Z"
   },
   {
    "duration": 0,
    "start_time": "2022-05-01T19:34:42.980Z"
   },
   {
    "duration": 0,
    "start_time": "2022-05-01T19:34:42.981Z"
   },
   {
    "duration": 0,
    "start_time": "2022-05-01T19:34:42.982Z"
   },
   {
    "duration": 1646,
    "start_time": "2022-05-01T19:35:35.728Z"
   },
   {
    "duration": 213,
    "start_time": "2022-05-01T19:35:37.376Z"
   },
   {
    "duration": 142,
    "start_time": "2022-05-01T19:35:37.590Z"
   },
   {
    "duration": 201,
    "start_time": "2022-05-01T19:35:37.735Z"
   },
   {
    "duration": 108,
    "start_time": "2022-05-01T19:35:37.938Z"
   },
   {
    "duration": 13,
    "start_time": "2022-05-01T19:35:38.048Z"
   },
   {
    "duration": 29,
    "start_time": "2022-05-01T19:35:38.063Z"
   },
   {
    "duration": 42,
    "start_time": "2022-05-01T19:35:38.094Z"
   },
   {
    "duration": 89,
    "start_time": "2022-05-01T19:35:38.138Z"
   },
   {
    "duration": 8,
    "start_time": "2022-05-01T19:35:38.229Z"
   },
   {
    "duration": 24,
    "start_time": "2022-05-01T19:35:38.239Z"
   },
   {
    "duration": 25,
    "start_time": "2022-05-01T19:35:38.265Z"
   },
   {
    "duration": 36,
    "start_time": "2022-05-01T19:35:38.292Z"
   },
   {
    "duration": 44,
    "start_time": "2022-05-01T19:35:38.330Z"
   },
   {
    "duration": 75,
    "start_time": "2022-05-01T19:35:38.376Z"
   },
   {
    "duration": 2,
    "start_time": "2022-05-01T19:35:38.452Z"
   },
   {
    "duration": 40,
    "start_time": "2022-05-01T19:35:38.456Z"
   },
   {
    "duration": 56,
    "start_time": "2022-05-01T19:35:38.498Z"
   },
   {
    "duration": 35,
    "start_time": "2022-05-01T19:35:38.556Z"
   },
   {
    "duration": 409,
    "start_time": "2022-05-01T19:35:38.592Z"
   },
   {
    "duration": 224,
    "start_time": "2022-05-01T19:35:39.003Z"
   },
   {
    "duration": 140,
    "start_time": "2022-05-01T19:35:39.229Z"
   },
   {
    "duration": 210,
    "start_time": "2022-05-01T19:35:39.371Z"
   },
   {
    "duration": 124,
    "start_time": "2022-05-01T19:35:39.583Z"
   },
   {
    "duration": 159,
    "start_time": "2022-05-01T19:35:39.709Z"
   },
   {
    "duration": 114,
    "start_time": "2022-05-01T19:35:39.869Z"
   },
   {
    "duration": 10023,
    "start_time": "2022-05-01T19:35:39.984Z"
   },
   {
    "duration": 0,
    "start_time": "2022-05-01T19:35:50.010Z"
   },
   {
    "duration": 0,
    "start_time": "2022-05-01T19:35:50.012Z"
   },
   {
    "duration": 0,
    "start_time": "2022-05-01T19:35:50.014Z"
   },
   {
    "duration": 0,
    "start_time": "2022-05-01T19:35:50.024Z"
   },
   {
    "duration": 0,
    "start_time": "2022-05-01T19:35:50.026Z"
   },
   {
    "duration": 0,
    "start_time": "2022-05-01T19:35:50.028Z"
   },
   {
    "duration": 0,
    "start_time": "2022-05-01T19:35:50.029Z"
   },
   {
    "duration": 0,
    "start_time": "2022-05-01T19:35:50.031Z"
   },
   {
    "duration": 0,
    "start_time": "2022-05-01T19:35:50.032Z"
   },
   {
    "duration": 0,
    "start_time": "2022-05-01T19:35:50.034Z"
   },
   {
    "duration": 0,
    "start_time": "2022-05-01T19:35:50.035Z"
   },
   {
    "duration": 0,
    "start_time": "2022-05-01T19:35:50.036Z"
   },
   {
    "duration": 0,
    "start_time": "2022-05-01T19:35:50.038Z"
   },
   {
    "duration": 0,
    "start_time": "2022-05-01T19:35:50.039Z"
   },
   {
    "duration": 0,
    "start_time": "2022-05-01T19:35:50.041Z"
   },
   {
    "duration": 0,
    "start_time": "2022-05-01T19:35:50.042Z"
   },
   {
    "duration": 0,
    "start_time": "2022-05-01T19:35:50.044Z"
   },
   {
    "duration": 0,
    "start_time": "2022-05-01T19:35:50.045Z"
   },
   {
    "duration": 0,
    "start_time": "2022-05-01T19:35:50.047Z"
   },
   {
    "duration": 0,
    "start_time": "2022-05-01T19:35:50.048Z"
   },
   {
    "duration": 0,
    "start_time": "2022-05-01T19:35:50.049Z"
   },
   {
    "duration": 1377,
    "start_time": "2022-05-01T19:42:21.391Z"
   },
   {
    "duration": 209,
    "start_time": "2022-05-01T19:42:22.770Z"
   },
   {
    "duration": 136,
    "start_time": "2022-05-01T19:42:22.981Z"
   },
   {
    "duration": 195,
    "start_time": "2022-05-01T19:42:23.125Z"
   },
   {
    "duration": 100,
    "start_time": "2022-05-01T19:42:23.324Z"
   },
   {
    "duration": 13,
    "start_time": "2022-05-01T19:42:23.426Z"
   },
   {
    "duration": 26,
    "start_time": "2022-05-01T19:42:23.441Z"
   },
   {
    "duration": 31,
    "start_time": "2022-05-01T19:42:23.469Z"
   },
   {
    "duration": 91,
    "start_time": "2022-05-01T19:42:23.502Z"
   },
   {
    "duration": 8,
    "start_time": "2022-05-01T19:42:23.596Z"
   },
   {
    "duration": 33,
    "start_time": "2022-05-01T19:42:23.606Z"
   },
   {
    "duration": 29,
    "start_time": "2022-05-01T19:42:23.641Z"
   },
   {
    "duration": 13,
    "start_time": "2022-05-01T19:42:23.672Z"
   },
   {
    "duration": 70,
    "start_time": "2022-05-01T19:42:23.686Z"
   },
   {
    "duration": 69,
    "start_time": "2022-05-01T19:42:23.759Z"
   },
   {
    "duration": 3,
    "start_time": "2022-05-01T19:42:23.830Z"
   },
   {
    "duration": 41,
    "start_time": "2022-05-01T19:42:23.835Z"
   },
   {
    "duration": 48,
    "start_time": "2022-05-01T19:42:23.877Z"
   },
   {
    "duration": 40,
    "start_time": "2022-05-01T19:42:23.927Z"
   },
   {
    "duration": 275,
    "start_time": "2022-05-01T19:42:23.969Z"
   },
   {
    "duration": 159,
    "start_time": "2022-05-01T19:42:24.246Z"
   },
   {
    "duration": 94,
    "start_time": "2022-05-01T19:42:24.407Z"
   },
   {
    "duration": 163,
    "start_time": "2022-05-01T19:42:24.503Z"
   },
   {
    "duration": 112,
    "start_time": "2022-05-01T19:42:24.668Z"
   },
   {
    "duration": 171,
    "start_time": "2022-05-01T19:42:24.782Z"
   },
   {
    "duration": 107,
    "start_time": "2022-05-01T19:42:24.955Z"
   },
   {
    "duration": 193,
    "start_time": "2022-05-01T19:42:25.064Z"
   },
   {
    "duration": 131,
    "start_time": "2022-05-01T19:42:25.260Z"
   },
   {
    "duration": 133,
    "start_time": "2022-05-01T19:42:25.392Z"
   },
   {
    "duration": 2293,
    "start_time": "2022-05-01T19:42:25.526Z"
   },
   {
    "duration": 0,
    "start_time": "2022-05-01T19:42:27.821Z"
   },
   {
    "duration": 0,
    "start_time": "2022-05-01T19:42:27.823Z"
   },
   {
    "duration": 0,
    "start_time": "2022-05-01T19:42:27.824Z"
   },
   {
    "duration": 0,
    "start_time": "2022-05-01T19:42:27.825Z"
   },
   {
    "duration": 0,
    "start_time": "2022-05-01T19:42:27.826Z"
   },
   {
    "duration": 0,
    "start_time": "2022-05-01T19:42:27.828Z"
   },
   {
    "duration": 0,
    "start_time": "2022-05-01T19:42:27.829Z"
   },
   {
    "duration": 0,
    "start_time": "2022-05-01T19:42:27.830Z"
   },
   {
    "duration": 0,
    "start_time": "2022-05-01T19:42:27.831Z"
   },
   {
    "duration": 0,
    "start_time": "2022-05-01T19:42:27.832Z"
   },
   {
    "duration": 0,
    "start_time": "2022-05-01T19:42:27.833Z"
   },
   {
    "duration": 0,
    "start_time": "2022-05-01T19:42:27.834Z"
   },
   {
    "duration": 0,
    "start_time": "2022-05-01T19:42:27.835Z"
   },
   {
    "duration": 0,
    "start_time": "2022-05-01T19:42:27.836Z"
   },
   {
    "duration": 0,
    "start_time": "2022-05-01T19:42:27.837Z"
   },
   {
    "duration": 0,
    "start_time": "2022-05-01T19:42:27.838Z"
   },
   {
    "duration": 0,
    "start_time": "2022-05-01T19:42:27.839Z"
   },
   {
    "duration": 0,
    "start_time": "2022-05-01T19:42:27.840Z"
   },
   {
    "duration": 1557,
    "start_time": "2022-05-01T19:50:32.196Z"
   },
   {
    "duration": 206,
    "start_time": "2022-05-01T19:50:33.756Z"
   },
   {
    "duration": 144,
    "start_time": "2022-05-01T19:50:33.964Z"
   },
   {
    "duration": 189,
    "start_time": "2022-05-01T19:50:34.110Z"
   },
   {
    "duration": 97,
    "start_time": "2022-05-01T19:50:34.301Z"
   },
   {
    "duration": 26,
    "start_time": "2022-05-01T19:50:34.400Z"
   },
   {
    "duration": 26,
    "start_time": "2022-05-01T19:50:34.428Z"
   },
   {
    "duration": 32,
    "start_time": "2022-05-01T19:50:34.456Z"
   },
   {
    "duration": 84,
    "start_time": "2022-05-01T19:50:34.489Z"
   },
   {
    "duration": 8,
    "start_time": "2022-05-01T19:50:34.575Z"
   },
   {
    "duration": 24,
    "start_time": "2022-05-01T19:50:34.585Z"
   },
   {
    "duration": 38,
    "start_time": "2022-05-01T19:50:34.611Z"
   },
   {
    "duration": 11,
    "start_time": "2022-05-01T19:50:34.650Z"
   },
   {
    "duration": 65,
    "start_time": "2022-05-01T19:50:34.663Z"
   },
   {
    "duration": 62,
    "start_time": "2022-05-01T19:50:34.730Z"
   },
   {
    "duration": 3,
    "start_time": "2022-05-01T19:50:34.793Z"
   },
   {
    "duration": 53,
    "start_time": "2022-05-01T19:50:34.798Z"
   },
   {
    "duration": 35,
    "start_time": "2022-05-01T19:50:34.853Z"
   },
   {
    "duration": 53,
    "start_time": "2022-05-01T19:50:34.890Z"
   },
   {
    "duration": 272,
    "start_time": "2022-05-01T19:50:34.945Z"
   },
   {
    "duration": 158,
    "start_time": "2022-05-01T19:50:35.219Z"
   },
   {
    "duration": 102,
    "start_time": "2022-05-01T19:50:35.379Z"
   },
   {
    "duration": 153,
    "start_time": "2022-05-01T19:50:35.483Z"
   },
   {
    "duration": 110,
    "start_time": "2022-05-01T19:50:35.638Z"
   },
   {
    "duration": 163,
    "start_time": "2022-05-01T19:50:35.750Z"
   },
   {
    "duration": 122,
    "start_time": "2022-05-01T19:50:35.915Z"
   },
   {
    "duration": 5135,
    "start_time": "2022-05-01T19:50:36.039Z"
   },
   {
    "duration": 4408,
    "start_time": "2022-05-01T19:50:41.177Z"
   },
   {
    "duration": 5284,
    "start_time": "2022-05-01T19:50:45.586Z"
   },
   {
    "duration": 112,
    "start_time": "2022-05-01T19:50:50.871Z"
   },
   {
    "duration": 0,
    "start_time": "2022-05-01T19:50:50.985Z"
   },
   {
    "duration": 0,
    "start_time": "2022-05-01T19:50:50.987Z"
   },
   {
    "duration": 0,
    "start_time": "2022-05-01T19:50:50.989Z"
   },
   {
    "duration": 0,
    "start_time": "2022-05-01T19:50:50.991Z"
   },
   {
    "duration": 0,
    "start_time": "2022-05-01T19:50:50.992Z"
   },
   {
    "duration": 0,
    "start_time": "2022-05-01T19:50:50.994Z"
   },
   {
    "duration": 0,
    "start_time": "2022-05-01T19:50:50.995Z"
   },
   {
    "duration": 0,
    "start_time": "2022-05-01T19:50:50.996Z"
   },
   {
    "duration": 0,
    "start_time": "2022-05-01T19:50:50.998Z"
   },
   {
    "duration": 0,
    "start_time": "2022-05-01T19:50:50.999Z"
   },
   {
    "duration": 0,
    "start_time": "2022-05-01T19:50:51.000Z"
   },
   {
    "duration": 0,
    "start_time": "2022-05-01T19:50:51.024Z"
   },
   {
    "duration": 0,
    "start_time": "2022-05-01T19:50:51.025Z"
   },
   {
    "duration": 0,
    "start_time": "2022-05-01T19:50:51.026Z"
   },
   {
    "duration": 0,
    "start_time": "2022-05-01T19:50:51.027Z"
   },
   {
    "duration": 0,
    "start_time": "2022-05-01T19:50:51.028Z"
   },
   {
    "duration": 0,
    "start_time": "2022-05-01T19:50:51.029Z"
   },
   {
    "duration": 0,
    "start_time": "2022-05-01T19:50:51.030Z"
   },
   {
    "duration": 1376,
    "start_time": "2022-05-01T19:51:16.522Z"
   },
   {
    "duration": 193,
    "start_time": "2022-05-01T19:51:17.900Z"
   },
   {
    "duration": 131,
    "start_time": "2022-05-01T19:51:18.094Z"
   },
   {
    "duration": 179,
    "start_time": "2022-05-01T19:51:18.227Z"
   },
   {
    "duration": 101,
    "start_time": "2022-05-01T19:51:18.407Z"
   },
   {
    "duration": 21,
    "start_time": "2022-05-01T19:51:18.510Z"
   },
   {
    "duration": 24,
    "start_time": "2022-05-01T19:51:18.533Z"
   },
   {
    "duration": 37,
    "start_time": "2022-05-01T19:51:18.559Z"
   },
   {
    "duration": 83,
    "start_time": "2022-05-01T19:51:18.599Z"
   },
   {
    "duration": 9,
    "start_time": "2022-05-01T19:51:18.685Z"
   },
   {
    "duration": 30,
    "start_time": "2022-05-01T19:51:18.696Z"
   },
   {
    "duration": 26,
    "start_time": "2022-05-01T19:51:18.728Z"
   },
   {
    "duration": 12,
    "start_time": "2022-05-01T19:51:18.756Z"
   },
   {
    "duration": 61,
    "start_time": "2022-05-01T19:51:18.770Z"
   },
   {
    "duration": 60,
    "start_time": "2022-05-01T19:51:18.833Z"
   },
   {
    "duration": 3,
    "start_time": "2022-05-01T19:51:18.894Z"
   },
   {
    "duration": 59,
    "start_time": "2022-05-01T19:51:18.899Z"
   },
   {
    "duration": 41,
    "start_time": "2022-05-01T19:51:18.960Z"
   },
   {
    "duration": 51,
    "start_time": "2022-05-01T19:51:19.003Z"
   },
   {
    "duration": 271,
    "start_time": "2022-05-01T19:51:19.055Z"
   },
   {
    "duration": 171,
    "start_time": "2022-05-01T19:51:19.328Z"
   },
   {
    "duration": 102,
    "start_time": "2022-05-01T19:51:19.501Z"
   },
   {
    "duration": 209,
    "start_time": "2022-05-01T19:51:19.605Z"
   },
   {
    "duration": 120,
    "start_time": "2022-05-01T19:51:19.815Z"
   },
   {
    "duration": 167,
    "start_time": "2022-05-01T19:51:19.937Z"
   },
   {
    "duration": 156,
    "start_time": "2022-05-01T19:51:20.106Z"
   },
   {
    "duration": 5487,
    "start_time": "2022-05-01T19:51:20.263Z"
   },
   {
    "duration": 4439,
    "start_time": "2022-05-01T19:51:25.753Z"
   },
   {
    "duration": 6374,
    "start_time": "2022-05-01T19:51:30.195Z"
   },
   {
    "duration": 13,
    "start_time": "2022-05-01T19:51:36.571Z"
   },
   {
    "duration": 6,
    "start_time": "2022-05-01T19:51:36.586Z"
   },
   {
    "duration": 31,
    "start_time": "2022-05-01T19:51:36.593Z"
   },
   {
    "duration": 171,
    "start_time": "2022-05-01T19:51:36.625Z"
   },
   {
    "duration": 2,
    "start_time": "2022-05-01T19:51:36.798Z"
   },
   {
    "duration": 11,
    "start_time": "2022-05-01T19:51:36.802Z"
   },
   {
    "duration": 13,
    "start_time": "2022-05-01T19:51:36.824Z"
   },
   {
    "duration": 9,
    "start_time": "2022-05-01T19:51:36.839Z"
   },
   {
    "duration": 8,
    "start_time": "2022-05-01T19:51:36.850Z"
   },
   {
    "duration": 124,
    "start_time": "2022-05-01T19:51:36.861Z"
   },
   {
    "duration": 0,
    "start_time": "2022-05-01T19:51:36.988Z"
   },
   {
    "duration": 0,
    "start_time": "2022-05-01T19:51:36.990Z"
   },
   {
    "duration": 0,
    "start_time": "2022-05-01T19:51:36.991Z"
   },
   {
    "duration": 0,
    "start_time": "2022-05-01T19:51:36.993Z"
   },
   {
    "duration": 0,
    "start_time": "2022-05-01T19:51:36.994Z"
   },
   {
    "duration": 0,
    "start_time": "2022-05-01T19:51:36.995Z"
   },
   {
    "duration": 0,
    "start_time": "2022-05-01T19:51:36.997Z"
   },
   {
    "duration": 0,
    "start_time": "2022-05-01T19:51:37.023Z"
   },
   {
    "duration": 0,
    "start_time": "2022-05-01T19:51:37.024Z"
   },
   {
    "duration": 1343,
    "start_time": "2022-05-01T19:56:06.243Z"
   },
   {
    "duration": 222,
    "start_time": "2022-05-01T19:56:07.589Z"
   },
   {
    "duration": 149,
    "start_time": "2022-05-01T19:56:07.813Z"
   },
   {
    "duration": 198,
    "start_time": "2022-05-01T19:56:07.964Z"
   },
   {
    "duration": 106,
    "start_time": "2022-05-01T19:56:08.165Z"
   },
   {
    "duration": 14,
    "start_time": "2022-05-01T19:56:08.273Z"
   },
   {
    "duration": 39,
    "start_time": "2022-05-01T19:56:08.289Z"
   },
   {
    "duration": 32,
    "start_time": "2022-05-01T19:56:08.330Z"
   },
   {
    "duration": 82,
    "start_time": "2022-05-01T19:56:08.363Z"
   },
   {
    "duration": 9,
    "start_time": "2022-05-01T19:56:08.447Z"
   },
   {
    "duration": 31,
    "start_time": "2022-05-01T19:56:08.458Z"
   },
   {
    "duration": 33,
    "start_time": "2022-05-01T19:56:08.491Z"
   },
   {
    "duration": 12,
    "start_time": "2022-05-01T19:56:08.525Z"
   },
   {
    "duration": 53,
    "start_time": "2022-05-01T19:56:08.540Z"
   },
   {
    "duration": 76,
    "start_time": "2022-05-01T19:56:08.595Z"
   },
   {
    "duration": 3,
    "start_time": "2022-05-01T19:56:08.673Z"
   },
   {
    "duration": 55,
    "start_time": "2022-05-01T19:56:08.678Z"
   },
   {
    "duration": 36,
    "start_time": "2022-05-01T19:56:08.735Z"
   },
   {
    "duration": 54,
    "start_time": "2022-05-01T19:56:08.773Z"
   },
   {
    "duration": 315,
    "start_time": "2022-05-01T19:56:08.829Z"
   },
   {
    "duration": 185,
    "start_time": "2022-05-01T19:56:09.147Z"
   },
   {
    "duration": 99,
    "start_time": "2022-05-01T19:56:09.334Z"
   },
   {
    "duration": 156,
    "start_time": "2022-05-01T19:56:09.435Z"
   },
   {
    "duration": 112,
    "start_time": "2022-05-01T19:56:09.593Z"
   },
   {
    "duration": 193,
    "start_time": "2022-05-01T19:56:09.708Z"
   },
   {
    "duration": 105,
    "start_time": "2022-05-01T19:56:09.902Z"
   },
   {
    "duration": 5025,
    "start_time": "2022-05-01T19:56:10.009Z"
   },
   {
    "duration": 4473,
    "start_time": "2022-05-01T19:56:15.036Z"
   },
   {
    "duration": 5246,
    "start_time": "2022-05-01T19:56:19.511Z"
   },
   {
    "duration": 10,
    "start_time": "2022-05-01T19:56:24.759Z"
   },
   {
    "duration": 11,
    "start_time": "2022-05-01T19:56:24.771Z"
   },
   {
    "duration": 15,
    "start_time": "2022-05-01T19:56:24.783Z"
   },
   {
    "duration": 181,
    "start_time": "2022-05-01T19:56:24.800Z"
   },
   {
    "duration": 2,
    "start_time": "2022-05-01T19:56:24.983Z"
   },
   {
    "duration": 14,
    "start_time": "2022-05-01T19:56:24.987Z"
   },
   {
    "duration": 102,
    "start_time": "2022-05-01T19:56:25.003Z"
   },
   {
    "duration": 0,
    "start_time": "2022-05-01T19:56:25.108Z"
   },
   {
    "duration": 0,
    "start_time": "2022-05-01T19:56:25.109Z"
   },
   {
    "duration": 0,
    "start_time": "2022-05-01T19:56:25.110Z"
   },
   {
    "duration": 0,
    "start_time": "2022-05-01T19:56:25.124Z"
   },
   {
    "duration": 0,
    "start_time": "2022-05-01T19:56:25.125Z"
   },
   {
    "duration": 0,
    "start_time": "2022-05-01T19:56:25.127Z"
   },
   {
    "duration": 0,
    "start_time": "2022-05-01T19:56:25.129Z"
   },
   {
    "duration": 0,
    "start_time": "2022-05-01T19:56:25.130Z"
   },
   {
    "duration": 0,
    "start_time": "2022-05-01T19:56:25.132Z"
   },
   {
    "duration": 0,
    "start_time": "2022-05-01T19:56:25.133Z"
   },
   {
    "duration": 0,
    "start_time": "2022-05-01T19:56:25.135Z"
   },
   {
    "duration": 0,
    "start_time": "2022-05-01T19:56:25.136Z"
   },
   {
    "duration": 1331,
    "start_time": "2022-05-01T19:59:53.347Z"
   },
   {
    "duration": 196,
    "start_time": "2022-05-01T19:59:54.680Z"
   },
   {
    "duration": 140,
    "start_time": "2022-05-01T19:59:54.878Z"
   },
   {
    "duration": 183,
    "start_time": "2022-05-01T19:59:55.023Z"
   },
   {
    "duration": 97,
    "start_time": "2022-05-01T19:59:55.208Z"
   },
   {
    "duration": 20,
    "start_time": "2022-05-01T19:59:55.307Z"
   },
   {
    "duration": 22,
    "start_time": "2022-05-01T19:59:55.329Z"
   },
   {
    "duration": 30,
    "start_time": "2022-05-01T19:59:55.353Z"
   },
   {
    "duration": 86,
    "start_time": "2022-05-01T19:59:55.385Z"
   },
   {
    "duration": 7,
    "start_time": "2022-05-01T19:59:55.474Z"
   },
   {
    "duration": 24,
    "start_time": "2022-05-01T19:59:55.483Z"
   },
   {
    "duration": 34,
    "start_time": "2022-05-01T19:59:55.509Z"
   },
   {
    "duration": 11,
    "start_time": "2022-05-01T19:59:55.545Z"
   },
   {
    "duration": 44,
    "start_time": "2022-05-01T19:59:55.558Z"
   },
   {
    "duration": 59,
    "start_time": "2022-05-01T19:59:55.623Z"
   },
   {
    "duration": 3,
    "start_time": "2022-05-01T19:59:55.684Z"
   },
   {
    "duration": 59,
    "start_time": "2022-05-01T19:59:55.689Z"
   },
   {
    "duration": 50,
    "start_time": "2022-05-01T19:59:55.750Z"
   },
   {
    "duration": 60,
    "start_time": "2022-05-01T19:59:55.802Z"
   },
   {
    "duration": 404,
    "start_time": "2022-05-01T19:59:55.864Z"
   },
   {
    "duration": 222,
    "start_time": "2022-05-01T19:59:56.270Z"
   },
   {
    "duration": 101,
    "start_time": "2022-05-01T19:59:56.494Z"
   },
   {
    "duration": 157,
    "start_time": "2022-05-01T19:59:56.596Z"
   },
   {
    "duration": 110,
    "start_time": "2022-05-01T19:59:56.755Z"
   },
   {
    "duration": 156,
    "start_time": "2022-05-01T19:59:56.867Z"
   },
   {
    "duration": 111,
    "start_time": "2022-05-01T19:59:57.025Z"
   },
   {
    "duration": 5501,
    "start_time": "2022-05-01T19:59:57.137Z"
   },
   {
    "duration": 4423,
    "start_time": "2022-05-01T20:00:02.643Z"
   },
   {
    "duration": 5062,
    "start_time": "2022-05-01T20:00:07.067Z"
   },
   {
    "duration": 10,
    "start_time": "2022-05-01T20:00:12.130Z"
   },
   {
    "duration": 5,
    "start_time": "2022-05-01T20:00:12.142Z"
   },
   {
    "duration": 7,
    "start_time": "2022-05-01T20:00:12.149Z"
   },
   {
    "duration": 201,
    "start_time": "2022-05-01T20:00:12.157Z"
   },
   {
    "duration": 3547,
    "start_time": "2022-05-01T20:00:12.360Z"
   },
   {
    "duration": 4,
    "start_time": "2022-05-01T20:00:15.909Z"
   },
   {
    "duration": 6,
    "start_time": "2022-05-01T20:00:15.924Z"
   },
   {
    "duration": 6,
    "start_time": "2022-05-01T20:00:15.932Z"
   },
   {
    "duration": 7,
    "start_time": "2022-05-01T20:00:15.940Z"
   },
   {
    "duration": 296,
    "start_time": "2022-05-01T20:00:15.949Z"
   },
   {
    "duration": 1624,
    "start_time": "2022-05-01T20:00:16.247Z"
   },
   {
    "duration": 107,
    "start_time": "2022-05-01T20:00:17.873Z"
   },
   {
    "duration": 0,
    "start_time": "2022-05-01T20:00:17.982Z"
   },
   {
    "duration": 0,
    "start_time": "2022-05-01T20:00:17.983Z"
   },
   {
    "duration": 0,
    "start_time": "2022-05-01T20:00:17.984Z"
   },
   {
    "duration": 0,
    "start_time": "2022-05-01T20:00:17.985Z"
   },
   {
    "duration": 0,
    "start_time": "2022-05-01T20:00:17.986Z"
   },
   {
    "duration": 0,
    "start_time": "2022-05-01T20:00:17.987Z"
   },
   {
    "duration": 0,
    "start_time": "2022-05-01T20:00:17.988Z"
   },
   {
    "duration": 1697,
    "start_time": "2022-05-01T20:10:01.146Z"
   },
   {
    "duration": 290,
    "start_time": "2022-05-01T20:10:02.846Z"
   },
   {
    "duration": 210,
    "start_time": "2022-05-01T20:10:03.138Z"
   },
   {
    "duration": 260,
    "start_time": "2022-05-01T20:10:03.351Z"
   },
   {
    "duration": 148,
    "start_time": "2022-05-01T20:10:03.613Z"
   },
   {
    "duration": 11,
    "start_time": "2022-05-01T20:10:03.763Z"
   },
   {
    "duration": 25,
    "start_time": "2022-05-01T20:10:03.776Z"
   },
   {
    "duration": 39,
    "start_time": "2022-05-01T20:10:03.803Z"
   },
   {
    "duration": 85,
    "start_time": "2022-05-01T20:10:03.844Z"
   },
   {
    "duration": 8,
    "start_time": "2022-05-01T20:10:03.932Z"
   },
   {
    "duration": 27,
    "start_time": "2022-05-01T20:10:03.942Z"
   },
   {
    "duration": 26,
    "start_time": "2022-05-01T20:10:03.970Z"
   },
   {
    "duration": 27,
    "start_time": "2022-05-01T20:10:03.998Z"
   },
   {
    "duration": 47,
    "start_time": "2022-05-01T20:10:04.026Z"
   },
   {
    "duration": 84,
    "start_time": "2022-05-01T20:10:04.076Z"
   },
   {
    "duration": 2,
    "start_time": "2022-05-01T20:10:04.162Z"
   },
   {
    "duration": 38,
    "start_time": "2022-05-01T20:10:04.166Z"
   },
   {
    "duration": 52,
    "start_time": "2022-05-01T20:10:04.207Z"
   },
   {
    "duration": 39,
    "start_time": "2022-05-01T20:10:04.261Z"
   },
   {
    "duration": 430,
    "start_time": "2022-05-01T20:10:04.302Z"
   },
   {
    "duration": 330,
    "start_time": "2022-05-01T20:10:04.734Z"
   },
   {
    "duration": 133,
    "start_time": "2022-05-01T20:10:05.066Z"
   },
   {
    "duration": 161,
    "start_time": "2022-05-01T20:10:05.201Z"
   },
   {
    "duration": 113,
    "start_time": "2022-05-01T20:10:05.363Z"
   },
   {
    "duration": 157,
    "start_time": "2022-05-01T20:10:05.477Z"
   },
   {
    "duration": 108,
    "start_time": "2022-05-01T20:10:05.635Z"
   },
   {
    "duration": 4973,
    "start_time": "2022-05-01T20:10:05.745Z"
   },
   {
    "duration": 4280,
    "start_time": "2022-05-01T20:10:10.725Z"
   },
   {
    "duration": 5062,
    "start_time": "2022-05-01T20:10:15.007Z"
   },
   {
    "duration": 11,
    "start_time": "2022-05-01T20:10:20.070Z"
   },
   {
    "duration": 5,
    "start_time": "2022-05-01T20:10:20.083Z"
   },
   {
    "duration": 10,
    "start_time": "2022-05-01T20:10:20.090Z"
   },
   {
    "duration": 175,
    "start_time": "2022-05-01T20:10:20.102Z"
   },
   {
    "duration": 3700,
    "start_time": "2022-05-01T20:10:20.279Z"
   },
   {
    "duration": 6,
    "start_time": "2022-05-01T20:10:23.981Z"
   },
   {
    "duration": 8,
    "start_time": "2022-05-01T20:10:23.988Z"
   },
   {
    "duration": 25,
    "start_time": "2022-05-01T20:10:23.998Z"
   },
   {
    "duration": 5,
    "start_time": "2022-05-01T20:10:24.025Z"
   },
   {
    "duration": 286,
    "start_time": "2022-05-01T20:10:24.032Z"
   },
   {
    "duration": 1615,
    "start_time": "2022-05-01T20:10:24.323Z"
   },
   {
    "duration": 5,
    "start_time": "2022-05-01T20:10:25.940Z"
   },
   {
    "duration": 10,
    "start_time": "2022-05-01T20:10:25.947Z"
   },
   {
    "duration": 5,
    "start_time": "2022-05-01T20:10:25.959Z"
   },
   {
    "duration": 7,
    "start_time": "2022-05-01T20:10:25.966Z"
   },
   {
    "duration": 181,
    "start_time": "2022-05-01T20:10:25.974Z"
   },
   {
    "duration": 166,
    "start_time": "2022-05-01T20:10:26.157Z"
   },
   {
    "duration": 2,
    "start_time": "2022-05-01T20:10:26.325Z"
   },
   {
    "duration": 9,
    "start_time": "2022-05-01T20:10:26.329Z"
   },
   {
    "duration": 1389,
    "start_time": "2022-05-01T20:21:52.391Z"
   },
   {
    "duration": 195,
    "start_time": "2022-05-01T20:21:53.781Z"
   },
   {
    "duration": 137,
    "start_time": "2022-05-01T20:21:53.978Z"
   },
   {
    "duration": 188,
    "start_time": "2022-05-01T20:21:54.123Z"
   },
   {
    "duration": 97,
    "start_time": "2022-05-01T20:21:54.313Z"
   },
   {
    "duration": 22,
    "start_time": "2022-05-01T20:21:54.412Z"
   },
   {
    "duration": 26,
    "start_time": "2022-05-01T20:21:54.435Z"
   },
   {
    "duration": 37,
    "start_time": "2022-05-01T20:21:54.463Z"
   },
   {
    "duration": 129,
    "start_time": "2022-05-01T20:21:54.502Z"
   },
   {
    "duration": 9,
    "start_time": "2022-05-01T20:21:54.634Z"
   },
   {
    "duration": 23,
    "start_time": "2022-05-01T20:21:54.645Z"
   },
   {
    "duration": 26,
    "start_time": "2022-05-01T20:21:54.669Z"
   },
   {
    "duration": 30,
    "start_time": "2022-05-01T20:21:54.696Z"
   },
   {
    "duration": 41,
    "start_time": "2022-05-01T20:21:54.728Z"
   },
   {
    "duration": 72,
    "start_time": "2022-05-01T20:21:54.771Z"
   },
   {
    "duration": 2,
    "start_time": "2022-05-01T20:21:54.845Z"
   },
   {
    "duration": 41,
    "start_time": "2022-05-01T20:21:54.849Z"
   },
   {
    "duration": 53,
    "start_time": "2022-05-01T20:21:54.892Z"
   },
   {
    "duration": 42,
    "start_time": "2022-05-01T20:21:54.947Z"
   },
   {
    "duration": 276,
    "start_time": "2022-05-01T20:21:54.991Z"
   },
   {
    "duration": 165,
    "start_time": "2022-05-01T20:21:55.268Z"
   },
   {
    "duration": 101,
    "start_time": "2022-05-01T20:21:55.435Z"
   },
   {
    "duration": 150,
    "start_time": "2022-05-01T20:21:55.538Z"
   },
   {
    "duration": 103,
    "start_time": "2022-05-01T20:21:55.689Z"
   },
   {
    "duration": 159,
    "start_time": "2022-05-01T20:21:55.794Z"
   },
   {
    "duration": 106,
    "start_time": "2022-05-01T20:21:55.955Z"
   },
   {
    "duration": 5132,
    "start_time": "2022-05-01T20:21:56.062Z"
   },
   {
    "duration": 6187,
    "start_time": "2022-05-01T20:22:01.199Z"
   },
   {
    "duration": 7045,
    "start_time": "2022-05-01T20:22:07.388Z"
   },
   {
    "duration": 12,
    "start_time": "2022-05-01T20:22:14.436Z"
   },
   {
    "duration": 9,
    "start_time": "2022-05-01T20:22:14.449Z"
   },
   {
    "duration": 8,
    "start_time": "2022-05-01T20:22:14.460Z"
   },
   {
    "duration": 176,
    "start_time": "2022-05-01T20:22:14.470Z"
   },
   {
    "duration": 4129,
    "start_time": "2022-05-01T20:22:14.647Z"
   },
   {
    "duration": 4,
    "start_time": "2022-05-01T20:22:18.778Z"
   },
   {
    "duration": 11,
    "start_time": "2022-05-01T20:22:18.784Z"
   },
   {
    "duration": 5,
    "start_time": "2022-05-01T20:22:18.797Z"
   },
   {
    "duration": 6,
    "start_time": "2022-05-01T20:22:18.824Z"
   },
   {
    "duration": 277,
    "start_time": "2022-05-01T20:22:18.832Z"
   },
   {
    "duration": 1691,
    "start_time": "2022-05-01T20:22:19.111Z"
   },
   {
    "duration": 5,
    "start_time": "2022-05-01T20:22:20.803Z"
   },
   {
    "duration": 6,
    "start_time": "2022-05-01T20:22:20.810Z"
   },
   {
    "duration": 9,
    "start_time": "2022-05-01T20:22:20.824Z"
   },
   {
    "duration": 180,
    "start_time": "2022-05-01T20:22:20.834Z"
   },
   {
    "duration": 174,
    "start_time": "2022-05-01T20:22:21.016Z"
   },
   {
    "duration": 2,
    "start_time": "2022-05-01T20:22:21.192Z"
   },
   {
    "duration": 14,
    "start_time": "2022-05-01T20:22:21.196Z"
   },
   {
    "duration": 1431,
    "start_time": "2022-05-01T20:23:48.217Z"
   },
   {
    "duration": 244,
    "start_time": "2022-05-01T20:23:49.651Z"
   },
   {
    "duration": 152,
    "start_time": "2022-05-01T20:23:49.896Z"
   },
   {
    "duration": 227,
    "start_time": "2022-05-01T20:23:50.051Z"
   },
   {
    "duration": 106,
    "start_time": "2022-05-01T20:23:50.280Z"
   },
   {
    "duration": 13,
    "start_time": "2022-05-01T20:23:50.388Z"
   },
   {
    "duration": 44,
    "start_time": "2022-05-01T20:23:50.402Z"
   },
   {
    "duration": 48,
    "start_time": "2022-05-01T20:23:50.448Z"
   },
   {
    "duration": 120,
    "start_time": "2022-05-01T20:23:50.498Z"
   },
   {
    "duration": 10,
    "start_time": "2022-05-01T20:23:50.623Z"
   },
   {
    "duration": 38,
    "start_time": "2022-05-01T20:23:50.636Z"
   },
   {
    "duration": 32,
    "start_time": "2022-05-01T20:23:50.676Z"
   },
   {
    "duration": 32,
    "start_time": "2022-05-01T20:23:50.710Z"
   },
   {
    "duration": 57,
    "start_time": "2022-05-01T20:23:50.747Z"
   },
   {
    "duration": 75,
    "start_time": "2022-05-01T20:23:50.806Z"
   },
   {
    "duration": 3,
    "start_time": "2022-05-01T20:23:50.883Z"
   },
   {
    "duration": 56,
    "start_time": "2022-05-01T20:23:50.887Z"
   },
   {
    "duration": 38,
    "start_time": "2022-05-01T20:23:50.945Z"
   },
   {
    "duration": 69,
    "start_time": "2022-05-01T20:23:50.984Z"
   },
   {
    "duration": 281,
    "start_time": "2022-05-01T20:23:51.055Z"
   },
   {
    "duration": 177,
    "start_time": "2022-05-01T20:23:51.338Z"
   },
   {
    "duration": 114,
    "start_time": "2022-05-01T20:23:51.517Z"
   },
   {
    "duration": 183,
    "start_time": "2022-05-01T20:23:51.633Z"
   },
   {
    "duration": 112,
    "start_time": "2022-05-01T20:23:51.817Z"
   },
   {
    "duration": 167,
    "start_time": "2022-05-01T20:23:51.932Z"
   },
   {
    "duration": 113,
    "start_time": "2022-05-01T20:23:52.101Z"
   },
   {
    "duration": 5469,
    "start_time": "2022-05-01T20:23:52.215Z"
   },
   {
    "duration": 4718,
    "start_time": "2022-05-01T20:23:57.686Z"
   },
   {
    "duration": 6552,
    "start_time": "2022-05-01T20:24:02.406Z"
   },
   {
    "duration": 12,
    "start_time": "2022-05-01T20:24:08.959Z"
   },
   {
    "duration": 5,
    "start_time": "2022-05-01T20:24:08.973Z"
   },
   {
    "duration": 7,
    "start_time": "2022-05-01T20:24:08.979Z"
   },
   {
    "duration": 209,
    "start_time": "2022-05-01T20:24:08.987Z"
   },
   {
    "duration": 3772,
    "start_time": "2022-05-01T20:24:09.197Z"
   },
   {
    "duration": 5,
    "start_time": "2022-05-01T20:24:12.971Z"
   },
   {
    "duration": 7,
    "start_time": "2022-05-01T20:24:12.977Z"
   },
   {
    "duration": 5,
    "start_time": "2022-05-01T20:24:12.986Z"
   },
   {
    "duration": 33,
    "start_time": "2022-05-01T20:24:12.993Z"
   },
   {
    "duration": 303,
    "start_time": "2022-05-01T20:24:13.028Z"
   },
   {
    "duration": 1709,
    "start_time": "2022-05-01T20:24:13.333Z"
   },
   {
    "duration": 5,
    "start_time": "2022-05-01T20:24:15.046Z"
   },
   {
    "duration": 6,
    "start_time": "2022-05-01T20:24:15.053Z"
   },
   {
    "duration": 16,
    "start_time": "2022-05-01T20:24:15.061Z"
   },
   {
    "duration": 195,
    "start_time": "2022-05-01T20:24:15.079Z"
   },
   {
    "duration": 184,
    "start_time": "2022-05-01T20:24:15.276Z"
   },
   {
    "duration": 2,
    "start_time": "2022-05-01T20:24:15.462Z"
   },
   {
    "duration": 10,
    "start_time": "2022-05-01T20:24:15.466Z"
   },
   {
    "duration": 1309,
    "start_time": "2022-05-01T20:33:56.884Z"
   },
   {
    "duration": 216,
    "start_time": "2022-05-01T20:33:58.195Z"
   },
   {
    "duration": 147,
    "start_time": "2022-05-01T20:33:58.414Z"
   },
   {
    "duration": 187,
    "start_time": "2022-05-01T20:33:58.564Z"
   },
   {
    "duration": 94,
    "start_time": "2022-05-01T20:33:58.753Z"
   },
   {
    "duration": 12,
    "start_time": "2022-05-01T20:33:58.849Z"
   },
   {
    "duration": 24,
    "start_time": "2022-05-01T20:33:58.863Z"
   },
   {
    "duration": 46,
    "start_time": "2022-05-01T20:33:58.888Z"
   },
   {
    "duration": 74,
    "start_time": "2022-05-01T20:33:58.936Z"
   },
   {
    "duration": 9,
    "start_time": "2022-05-01T20:33:59.023Z"
   },
   {
    "duration": 27,
    "start_time": "2022-05-01T20:33:59.034Z"
   },
   {
    "duration": 23,
    "start_time": "2022-05-01T20:33:59.062Z"
   },
   {
    "duration": 10,
    "start_time": "2022-05-01T20:33:59.087Z"
   },
   {
    "duration": 65,
    "start_time": "2022-05-01T20:33:59.098Z"
   },
   {
    "duration": 73,
    "start_time": "2022-05-01T20:33:59.165Z"
   },
   {
    "duration": 3,
    "start_time": "2022-05-01T20:33:59.239Z"
   },
   {
    "duration": 42,
    "start_time": "2022-05-01T20:33:59.243Z"
   },
   {
    "duration": 59,
    "start_time": "2022-05-01T20:33:59.287Z"
   },
   {
    "duration": 41,
    "start_time": "2022-05-01T20:33:59.347Z"
   },
   {
    "duration": 274,
    "start_time": "2022-05-01T20:33:59.389Z"
   },
   {
    "duration": 149,
    "start_time": "2022-05-01T20:33:59.665Z"
   },
   {
    "duration": 108,
    "start_time": "2022-05-01T20:33:59.823Z"
   },
   {
    "duration": 155,
    "start_time": "2022-05-01T20:33:59.933Z"
   },
   {
    "duration": 110,
    "start_time": "2022-05-01T20:34:00.089Z"
   },
   {
    "duration": 171,
    "start_time": "2022-05-01T20:34:00.201Z"
   },
   {
    "duration": 108,
    "start_time": "2022-05-01T20:34:00.375Z"
   },
   {
    "duration": 5284,
    "start_time": "2022-05-01T20:34:00.485Z"
   },
   {
    "duration": 4455,
    "start_time": "2022-05-01T20:34:05.773Z"
   },
   {
    "duration": 5232,
    "start_time": "2022-05-01T20:34:10.230Z"
   },
   {
    "duration": 30,
    "start_time": "2022-05-01T20:34:15.464Z"
   },
   {
    "duration": 5,
    "start_time": "2022-05-01T20:34:15.496Z"
   },
   {
    "duration": 23,
    "start_time": "2022-05-01T20:34:15.502Z"
   },
   {
    "duration": 154,
    "start_time": "2022-05-01T20:34:15.526Z"
   },
   {
    "duration": 3554,
    "start_time": "2022-05-01T20:34:15.682Z"
   },
   {
    "duration": 4,
    "start_time": "2022-05-01T20:34:19.238Z"
   },
   {
    "duration": 28,
    "start_time": "2022-05-01T20:34:19.244Z"
   },
   {
    "duration": 8,
    "start_time": "2022-05-01T20:34:19.274Z"
   },
   {
    "duration": 9,
    "start_time": "2022-05-01T20:34:19.284Z"
   },
   {
    "duration": 286,
    "start_time": "2022-05-01T20:34:19.295Z"
   },
   {
    "duration": 1654,
    "start_time": "2022-05-01T20:34:19.582Z"
   },
   {
    "duration": 7,
    "start_time": "2022-05-01T20:34:21.238Z"
   },
   {
    "duration": 6,
    "start_time": "2022-05-01T20:34:21.247Z"
   },
   {
    "duration": 10,
    "start_time": "2022-05-01T20:34:21.255Z"
   },
   {
    "duration": 253,
    "start_time": "2022-05-01T20:34:21.267Z"
   },
   {
    "duration": 226,
    "start_time": "2022-05-01T20:34:21.523Z"
   },
   {
    "duration": 3,
    "start_time": "2022-05-01T20:34:21.751Z"
   },
   {
    "duration": 10,
    "start_time": "2022-05-01T20:34:21.756Z"
   }
  ],
  "kernelspec": {
   "display_name": "Python 3 (ipykernel)",
   "language": "python",
   "name": "python3"
  },
  "language_info": {
   "codemirror_mode": {
    "name": "ipython",
    "version": 3
   },
   "file_extension": ".py",
   "mimetype": "text/x-python",
   "name": "python",
   "nbconvert_exporter": "python",
   "pygments_lexer": "ipython3",
   "version": "3.9.5"
  },
  "toc": {
   "base_numbering": 1,
   "nav_menu": {},
   "number_sections": true,
   "sideBar": true,
   "skip_h1_title": true,
   "title_cell": "Table of Contents",
   "title_sidebar": "Contents",
   "toc_cell": false,
   "toc_position": {},
   "toc_section_display": true,
   "toc_window_display": false
  }
 },
 "nbformat": 4,
 "nbformat_minor": 2
}
